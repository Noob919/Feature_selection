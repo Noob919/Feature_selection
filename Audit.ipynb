{
  "nbformat": 4,
  "nbformat_minor": 0,
  "metadata": {
    "colab": {
      "name": "Audit.ipynb",
      "provenance": [],
      "authorship_tag": "ABX9TyNDhjofy303fLmRy13eUChA",
      "include_colab_link": true
    },
    "kernelspec": {
      "name": "python3",
      "display_name": "Python 3"
    },
    "language_info": {
      "name": "python"
    }
  },
  "cells": [
    {
      "cell_type": "markdown",
      "metadata": {
        "id": "view-in-github",
        "colab_type": "text"
      },
      "source": [
        "<a href=\"https://colab.research.google.com/github/Noob919/Feature_selection/blob/main/Audit.ipynb\" target=\"_parent\"><img src=\"https://colab.research.google.com/assets/colab-badge.svg\" alt=\"Open In Colab\"/></a>"
      ]
    },
    {
      "cell_type": "code",
      "execution_count": 94,
      "metadata": {
        "id": "8Nw2HwTIviFb"
      },
      "outputs": [],
      "source": [
        "import numpy as np\n",
        "import pandas as pd\n",
        "from sklearn.model_selection import cross_val_score\n",
        "from sklearn import preprocessing\n",
        "from sklearn.feature_selection  import chi2, SelectKBest,mutual_info_classif,SelectPercentile,SelectFpr,f_classif\n",
        "from sklearn.model_selection import train_test_split\n",
        "from sklearn.ensemble import RandomForestClassifier\n",
        "from sklearn.tree import DecisionTreeClassifier\n",
        "from sklearn.linear_model import LogisticRegression\n",
        "from sklearn.preprocessing import LabelEncoder\n",
        "from sklearn.preprocessing import StandardScaler\n",
        "import matplotlib.pyplot as plt\n",
        "import seaborn as sns"
      ]
    },
    {
      "cell_type": "code",
      "source": [
        "df =  pd.read_csv(\"/content/audit_risk.csv\")"
      ],
      "metadata": {
        "id": "g1Ulwst2vkNM"
      },
      "execution_count": 19,
      "outputs": []
    },
    {
      "cell_type": "code",
      "source": [
        "df.head()"
      ],
      "metadata": {
        "colab": {
          "base_uri": "https://localhost:8080/",
          "height": 300
        },
        "id": "XnyeiBaEvtMD",
        "outputId": "fb4942c5-4682-40ab-dffd-e4e994ef1e6c"
      },
      "execution_count": 20,
      "outputs": [
        {
          "output_type": "execute_result",
          "data": {
            "text/plain": [
              "   Sector_score LOCATION_ID  PARA_A  Score_A  Risk_A  PARA_B  Score_B  Risk_B  \\\n",
              "0          3.89          23    4.18      0.6   2.508    2.50      0.2   0.500   \n",
              "1          3.89           6    0.00      0.2   0.000    4.83      0.2   0.966   \n",
              "2          3.89           6    0.51      0.2   0.102    0.23      0.2   0.046   \n",
              "3          3.89           6    0.00      0.2   0.000   10.80      0.6   6.480   \n",
              "4          3.89           6    0.00      0.2   0.000    0.08      0.2   0.016   \n",
              "\n",
              "   TOTAL  numbers  ...  RiSk_E  History  Prob  Risk_F  Score  Inherent_Risk  \\\n",
              "0   6.68      5.0  ...     0.4        0   0.2     0.0    2.4          8.574   \n",
              "1   4.83      5.0  ...     0.4        0   0.2     0.0    2.0          2.554   \n",
              "2   0.74      5.0  ...     0.4        0   0.2     0.0    2.0          1.548   \n",
              "3  10.80      6.0  ...     0.4        0   0.2     0.0    4.4         17.530   \n",
              "4   0.08      5.0  ...     0.4        0   0.2     0.0    2.0          1.416   \n",
              "\n",
              "   CONTROL_RISK  Detection_Risk  Audit_Risk  Risk  \n",
              "0           0.4             0.5      1.7148     1  \n",
              "1           0.4             0.5      0.5108     0  \n",
              "2           0.4             0.5      0.3096     0  \n",
              "3           0.4             0.5      3.5060     1  \n",
              "4           0.4             0.5      0.2832     0  \n",
              "\n",
              "[5 rows x 27 columns]"
            ],
            "text/html": [
              "\n",
              "  <div id=\"df-8de22a1f-67c8-4be5-a58e-063187677d63\">\n",
              "    <div class=\"colab-df-container\">\n",
              "      <div>\n",
              "<style scoped>\n",
              "    .dataframe tbody tr th:only-of-type {\n",
              "        vertical-align: middle;\n",
              "    }\n",
              "\n",
              "    .dataframe tbody tr th {\n",
              "        vertical-align: top;\n",
              "    }\n",
              "\n",
              "    .dataframe thead th {\n",
              "        text-align: right;\n",
              "    }\n",
              "</style>\n",
              "<table border=\"1\" class=\"dataframe\">\n",
              "  <thead>\n",
              "    <tr style=\"text-align: right;\">\n",
              "      <th></th>\n",
              "      <th>Sector_score</th>\n",
              "      <th>LOCATION_ID</th>\n",
              "      <th>PARA_A</th>\n",
              "      <th>Score_A</th>\n",
              "      <th>Risk_A</th>\n",
              "      <th>PARA_B</th>\n",
              "      <th>Score_B</th>\n",
              "      <th>Risk_B</th>\n",
              "      <th>TOTAL</th>\n",
              "      <th>numbers</th>\n",
              "      <th>...</th>\n",
              "      <th>RiSk_E</th>\n",
              "      <th>History</th>\n",
              "      <th>Prob</th>\n",
              "      <th>Risk_F</th>\n",
              "      <th>Score</th>\n",
              "      <th>Inherent_Risk</th>\n",
              "      <th>CONTROL_RISK</th>\n",
              "      <th>Detection_Risk</th>\n",
              "      <th>Audit_Risk</th>\n",
              "      <th>Risk</th>\n",
              "    </tr>\n",
              "  </thead>\n",
              "  <tbody>\n",
              "    <tr>\n",
              "      <th>0</th>\n",
              "      <td>3.89</td>\n",
              "      <td>23</td>\n",
              "      <td>4.18</td>\n",
              "      <td>0.6</td>\n",
              "      <td>2.508</td>\n",
              "      <td>2.50</td>\n",
              "      <td>0.2</td>\n",
              "      <td>0.500</td>\n",
              "      <td>6.68</td>\n",
              "      <td>5.0</td>\n",
              "      <td>...</td>\n",
              "      <td>0.4</td>\n",
              "      <td>0</td>\n",
              "      <td>0.2</td>\n",
              "      <td>0.0</td>\n",
              "      <td>2.4</td>\n",
              "      <td>8.574</td>\n",
              "      <td>0.4</td>\n",
              "      <td>0.5</td>\n",
              "      <td>1.7148</td>\n",
              "      <td>1</td>\n",
              "    </tr>\n",
              "    <tr>\n",
              "      <th>1</th>\n",
              "      <td>3.89</td>\n",
              "      <td>6</td>\n",
              "      <td>0.00</td>\n",
              "      <td>0.2</td>\n",
              "      <td>0.000</td>\n",
              "      <td>4.83</td>\n",
              "      <td>0.2</td>\n",
              "      <td>0.966</td>\n",
              "      <td>4.83</td>\n",
              "      <td>5.0</td>\n",
              "      <td>...</td>\n",
              "      <td>0.4</td>\n",
              "      <td>0</td>\n",
              "      <td>0.2</td>\n",
              "      <td>0.0</td>\n",
              "      <td>2.0</td>\n",
              "      <td>2.554</td>\n",
              "      <td>0.4</td>\n",
              "      <td>0.5</td>\n",
              "      <td>0.5108</td>\n",
              "      <td>0</td>\n",
              "    </tr>\n",
              "    <tr>\n",
              "      <th>2</th>\n",
              "      <td>3.89</td>\n",
              "      <td>6</td>\n",
              "      <td>0.51</td>\n",
              "      <td>0.2</td>\n",
              "      <td>0.102</td>\n",
              "      <td>0.23</td>\n",
              "      <td>0.2</td>\n",
              "      <td>0.046</td>\n",
              "      <td>0.74</td>\n",
              "      <td>5.0</td>\n",
              "      <td>...</td>\n",
              "      <td>0.4</td>\n",
              "      <td>0</td>\n",
              "      <td>0.2</td>\n",
              "      <td>0.0</td>\n",
              "      <td>2.0</td>\n",
              "      <td>1.548</td>\n",
              "      <td>0.4</td>\n",
              "      <td>0.5</td>\n",
              "      <td>0.3096</td>\n",
              "      <td>0</td>\n",
              "    </tr>\n",
              "    <tr>\n",
              "      <th>3</th>\n",
              "      <td>3.89</td>\n",
              "      <td>6</td>\n",
              "      <td>0.00</td>\n",
              "      <td>0.2</td>\n",
              "      <td>0.000</td>\n",
              "      <td>10.80</td>\n",
              "      <td>0.6</td>\n",
              "      <td>6.480</td>\n",
              "      <td>10.80</td>\n",
              "      <td>6.0</td>\n",
              "      <td>...</td>\n",
              "      <td>0.4</td>\n",
              "      <td>0</td>\n",
              "      <td>0.2</td>\n",
              "      <td>0.0</td>\n",
              "      <td>4.4</td>\n",
              "      <td>17.530</td>\n",
              "      <td>0.4</td>\n",
              "      <td>0.5</td>\n",
              "      <td>3.5060</td>\n",
              "      <td>1</td>\n",
              "    </tr>\n",
              "    <tr>\n",
              "      <th>4</th>\n",
              "      <td>3.89</td>\n",
              "      <td>6</td>\n",
              "      <td>0.00</td>\n",
              "      <td>0.2</td>\n",
              "      <td>0.000</td>\n",
              "      <td>0.08</td>\n",
              "      <td>0.2</td>\n",
              "      <td>0.016</td>\n",
              "      <td>0.08</td>\n",
              "      <td>5.0</td>\n",
              "      <td>...</td>\n",
              "      <td>0.4</td>\n",
              "      <td>0</td>\n",
              "      <td>0.2</td>\n",
              "      <td>0.0</td>\n",
              "      <td>2.0</td>\n",
              "      <td>1.416</td>\n",
              "      <td>0.4</td>\n",
              "      <td>0.5</td>\n",
              "      <td>0.2832</td>\n",
              "      <td>0</td>\n",
              "    </tr>\n",
              "  </tbody>\n",
              "</table>\n",
              "<p>5 rows × 27 columns</p>\n",
              "</div>\n",
              "      <button class=\"colab-df-convert\" onclick=\"convertToInteractive('df-8de22a1f-67c8-4be5-a58e-063187677d63')\"\n",
              "              title=\"Convert this dataframe to an interactive table.\"\n",
              "              style=\"display:none;\">\n",
              "        \n",
              "  <svg xmlns=\"http://www.w3.org/2000/svg\" height=\"24px\"viewBox=\"0 0 24 24\"\n",
              "       width=\"24px\">\n",
              "    <path d=\"M0 0h24v24H0V0z\" fill=\"none\"/>\n",
              "    <path d=\"M18.56 5.44l.94 2.06.94-2.06 2.06-.94-2.06-.94-.94-2.06-.94 2.06-2.06.94zm-11 1L8.5 8.5l.94-2.06 2.06-.94-2.06-.94L8.5 2.5l-.94 2.06-2.06.94zm10 10l.94 2.06.94-2.06 2.06-.94-2.06-.94-.94-2.06-.94 2.06-2.06.94z\"/><path d=\"M17.41 7.96l-1.37-1.37c-.4-.4-.92-.59-1.43-.59-.52 0-1.04.2-1.43.59L10.3 9.45l-7.72 7.72c-.78.78-.78 2.05 0 2.83L4 21.41c.39.39.9.59 1.41.59.51 0 1.02-.2 1.41-.59l7.78-7.78 2.81-2.81c.8-.78.8-2.07 0-2.86zM5.41 20L4 18.59l7.72-7.72 1.47 1.35L5.41 20z\"/>\n",
              "  </svg>\n",
              "      </button>\n",
              "      \n",
              "  <style>\n",
              "    .colab-df-container {\n",
              "      display:flex;\n",
              "      flex-wrap:wrap;\n",
              "      gap: 12px;\n",
              "    }\n",
              "\n",
              "    .colab-df-convert {\n",
              "      background-color: #E8F0FE;\n",
              "      border: none;\n",
              "      border-radius: 50%;\n",
              "      cursor: pointer;\n",
              "      display: none;\n",
              "      fill: #1967D2;\n",
              "      height: 32px;\n",
              "      padding: 0 0 0 0;\n",
              "      width: 32px;\n",
              "    }\n",
              "\n",
              "    .colab-df-convert:hover {\n",
              "      background-color: #E2EBFA;\n",
              "      box-shadow: 0px 1px 2px rgba(60, 64, 67, 0.3), 0px 1px 3px 1px rgba(60, 64, 67, 0.15);\n",
              "      fill: #174EA6;\n",
              "    }\n",
              "\n",
              "    [theme=dark] .colab-df-convert {\n",
              "      background-color: #3B4455;\n",
              "      fill: #D2E3FC;\n",
              "    }\n",
              "\n",
              "    [theme=dark] .colab-df-convert:hover {\n",
              "      background-color: #434B5C;\n",
              "      box-shadow: 0px 1px 3px 1px rgba(0, 0, 0, 0.15);\n",
              "      filter: drop-shadow(0px 1px 2px rgba(0, 0, 0, 0.3));\n",
              "      fill: #FFFFFF;\n",
              "    }\n",
              "  </style>\n",
              "\n",
              "      <script>\n",
              "        const buttonEl =\n",
              "          document.querySelector('#df-8de22a1f-67c8-4be5-a58e-063187677d63 button.colab-df-convert');\n",
              "        buttonEl.style.display =\n",
              "          google.colab.kernel.accessAllowed ? 'block' : 'none';\n",
              "\n",
              "        async function convertToInteractive(key) {\n",
              "          const element = document.querySelector('#df-8de22a1f-67c8-4be5-a58e-063187677d63');\n",
              "          const dataTable =\n",
              "            await google.colab.kernel.invokeFunction('convertToInteractive',\n",
              "                                                     [key], {});\n",
              "          if (!dataTable) return;\n",
              "\n",
              "          const docLinkHtml = 'Like what you see? Visit the ' +\n",
              "            '<a target=\"_blank\" href=https://colab.research.google.com/notebooks/data_table.ipynb>data table notebook</a>'\n",
              "            + ' to learn more about interactive tables.';\n",
              "          element.innerHTML = '';\n",
              "          dataTable['output_type'] = 'display_data';\n",
              "          await google.colab.output.renderOutput(dataTable, element);\n",
              "          const docLink = document.createElement('div');\n",
              "          docLink.innerHTML = docLinkHtml;\n",
              "          element.appendChild(docLink);\n",
              "        }\n",
              "      </script>\n",
              "    </div>\n",
              "  </div>\n",
              "  "
            ]
          },
          "metadata": {},
          "execution_count": 20
        }
      ]
    },
    {
      "cell_type": "code",
      "source": [
        "index_list = []\n",
        "num1 = df.index[df['LOCATION_ID'] == 'NUH'].to_list()\n",
        "num2 = df.index[df['LOCATION_ID'] == 'LOHARU'].to_list()\n",
        "num3 = df.index[df['LOCATION_ID'] == 'SAFIDON'].to_list()\n",
        "index_list.append(num1)\n",
        "index_list.append(num2)\n",
        "index_list.append(num3)"
      ],
      "metadata": {
        "id": "I5OO8uFxXzHf"
      },
      "execution_count": 63,
      "outputs": []
    },
    {
      "cell_type": "code",
      "source": [
        "final_list = []\n",
        "for _list in index_list:\n",
        "  for element in _list:\n",
        "    final_list.append(element)\n",
        "\n",
        "final_list\n",
        "\n",
        "df1 = df.drop(final_list,axis =0)"
      ],
      "metadata": {
        "id": "CRXwlPNGwtLe"
      },
      "execution_count": 69,
      "outputs": []
    },
    {
      "cell_type": "code",
      "source": [
        "df1['LOCATION_ID'].value_counts()"
      ],
      "metadata": {
        "id": "3jEIDtw3ZItw"
      },
      "execution_count": null,
      "outputs": []
    },
    {
      "cell_type": "code",
      "source": [
        "df_new = df1.dropna(axis=0)"
      ],
      "metadata": {
        "id": "l4ARFhakv24O"
      },
      "execution_count": 71,
      "outputs": []
    },
    {
      "cell_type": "code",
      "source": [
        "X = df_new.drop(['Risk'],axis =1)\n",
        "y = df_new['Risk']"
      ],
      "metadata": {
        "id": "YeOPOZWSwQ54"
      },
      "execution_count": 72,
      "outputs": []
    },
    {
      "cell_type": "code",
      "source": [
        "X_train, X_test, y_train, y_test = train_test_split(X, y, test_size=0.2, random_state=0)"
      ],
      "metadata": {
        "id": "Dcjcca0uyeDa"
      },
      "execution_count": 73,
      "outputs": []
    },
    {
      "cell_type": "code",
      "source": [
        "test = SelectKBest(score_func=chi2, k=len(X.columns)).fit(X,y)\n",
        "np.set_printoptions(precision=3)\n",
        "score  =  test.scores_\n",
        "sns.barplot(x  = score,y = X.columns )\n",
        "plt.xlabel('Importance Score')\n",
        "plt.ylabel('Features name')\n",
        "score"
      ],
      "metadata": {
        "colab": {
          "base_uri": "https://localhost:8080/",
          "height": 366
        },
        "id": "F7v7dA-gyf8O",
        "outputId": "ae8a4e84-ae6c-4c32-a545-6c111c0db54d"
      },
      "execution_count": 77,
      "outputs": [
        {
          "output_type": "execute_result",
          "data": {
            "text/plain": [
              "array([3.550e+03, 1.987e+01, 1.450e+03, 2.540e+01, 9.972e+02, 1.179e+04,\n",
              "       2.863e+01, 7.149e+03, 1.305e+04, 1.012e+00, 2.788e+00, 2.263e+01,\n",
              "       1.594e+04, 3.204e+01, 9.610e+03, 7.568e+01, 1.647e-01, 2.121e+01,\n",
              "       1.190e+02, 1.468e+00, 6.169e+01, 1.298e+02, 1.660e+04, 4.612e+01,\n",
              "       3.460e-30, 7.556e+03])"
            ]
          },
          "metadata": {},
          "execution_count": 77
        },
        {
          "output_type": "display_data",
          "data": {
            "text/plain": [
              "<Figure size 432x288 with 1 Axes>"
            ],
            "image/png": "[encoded data removed]"
          },
          "metadata": {
            "needs_background": "light"
          }
        }
      ]
    },
    {
      "cell_type": "code",
      "source": [
        "rf = RandomForestClassifier(n_estimators=150)\n",
        "rf.fit(X_train, y_train)\n",
        "rf.feature_importances_"
      ],
      "metadata": {
        "colab": {
          "base_uri": "https://localhost:8080/"
        },
        "id": "amcDttFNyppa",
        "outputId": "f45b3eda-71a3-4c6c-8a41-979f1e979c92"
      },
      "execution_count": 79,
      "outputs": [
        {
          "output_type": "execute_result",
          "data": {
            "text/plain": [
              "array([8.119e-04, 2.350e-03, 1.154e-02, 5.398e-03, 1.445e-02, 2.597e-02,\n",
              "       1.710e-02, 1.598e-02, 6.431e-02, 5.519e-04, 3.807e-05, 3.398e-05,\n",
              "       4.616e-02, 3.295e-02, 4.687e-02, 2.312e-02, 2.543e-04, 2.708e-02,\n",
              "       2.691e-04, 0.000e+00, 1.513e-04, 1.193e-01, 2.171e-01, 3.457e-02,\n",
              "       0.000e+00, 2.937e-01])"
            ]
          },
          "metadata": {},
          "execution_count": 79
        }
      ]
    },
    {
      "cell_type": "code",
      "source": [
        "sort = rf.feature_importances_\n",
        "plt.barh(X.columns, rf.feature_importances_)\n",
        "plt.xlabel(\"Feature Importance\")"
      ],
      "metadata": {
        "colab": {
          "base_uri": "https://localhost:8080/",
          "height": 296
        },
        "id": "E4QSrbU40a-d",
        "outputId": "eb1a648b-d000-4dfd-dd10-e98027ef9ab0"
      },
      "execution_count": 80,
      "outputs": [
        {
          "output_type": "execute_result",
          "data": {
            "text/plain": [
              "Text(0.5, 0, 'Feature Importance')"
            ]
          },
          "metadata": {},
          "execution_count": 80
        },
        {
          "output_type": "display_data",
          "data": {
            "text/plain": [
              "<Figure size 432x288 with 1 Axes>"
            ],
            "image/png": "[encoded data removed]"
          },
          "metadata": {
            "needs_background": "light"
          }
        }
      ]
    },
    {
      "cell_type": "code",
      "source": [
        "from sklearn.inspection import permutation_importance"
      ],
      "metadata": {
        "id": "HavF09ur1t3R"
      },
      "execution_count": 81,
      "outputs": []
    },
    {
      "cell_type": "code",
      "source": [
        "clf = LogisticRegression().fit(X_train, y_train)"
      ],
      "metadata": {
        "colab": {
          "base_uri": "https://localhost:8080/"
        },
        "id": "n2rG5etU1wHx",
        "outputId": "88e6f062-0b8c-49d0-e0cd-e7f5ba7bef91"
      },
      "execution_count": 82,
      "outputs": [
        {
          "output_type": "stream",
          "name": "stderr",
          "text": [
            "/usr/local/lib/python3.7/dist-packages/sklearn/linear_model/_logistic.py:818: ConvergenceWarning: lbfgs failed to converge (status=1):\n",
            "STOP: TOTAL NO. of ITERATIONS REACHED LIMIT.\n",
            "\n",
            "Increase the number of iterations (max_iter) or scale the data as shown in:\n",
            "    https://scikit-learn.org/stable/modules/preprocessing.html\n",
            "Please also refer to the documentation for alternative solver options:\n",
            "    https://scikit-learn.org/stable/modules/linear_model.html#logistic-regression\n",
            "  extra_warning_msg=_LOGISTIC_SOLVER_CONVERGENCE_MSG,\n"
          ]
        }
      ]
    },
    {
      "cell_type": "code",
      "source": [
        "result = permutation_importance(clf, X, y, n_repeats=10, random_state=0)"
      ],
      "metadata": {
        "id": "6tjqwtzP1yTk"
      },
      "execution_count": 83,
      "outputs": []
    },
    {
      "cell_type": "code",
      "source": [
        "plt.barh(X.columns, result.importances_mean )\n",
        "plt.xlabel(\"Feature Importance MEAN\")"
      ],
      "metadata": {
        "colab": {
          "base_uri": "https://localhost:8080/",
          "height": 296
        },
        "id": "M9NU-cee10X4",
        "outputId": "92ecf51c-0f52-4495-ba0d-818e4397995e"
      },
      "execution_count": 84,
      "outputs": [
        {
          "output_type": "execute_result",
          "data": {
            "text/plain": [
              "Text(0.5, 0, 'Feature Importance MEAN')"
            ]
          },
          "metadata": {},
          "execution_count": 84
        },
        {
          "output_type": "display_data",
          "data": {
            "text/plain": [
              "<Figure size 432x288 with 1 Axes>"
            ],
            "image/png": "[encoded data removed]"
          },
          "metadata": {
            "needs_background": "light"
          }
        }
      ]
    },
    {
      "cell_type": "code",
      "source": [
        "plt.barh(X.columns, result.importances_std)\n",
        "plt.xlabel(\"Feature Importance STD\")"
      ],
      "metadata": {
        "colab": {
          "base_uri": "https://localhost:8080/",
          "height": 296
        },
        "id": "LwrwLNaV12ve",
        "outputId": "ca1da444-4345-4a85-9525-a8db43595d1d"
      },
      "execution_count": 85,
      "outputs": [
        {
          "output_type": "execute_result",
          "data": {
            "text/plain": [
              "Text(0.5, 0, 'Feature Importance STD')"
            ]
          },
          "metadata": {},
          "execution_count": 85
        },
        {
          "output_type": "display_data",
          "data": {
            "text/plain": [
              "<Figure size 432x288 with 1 Axes>"
            ],
            "image/png": "[encoded data removed]"
          },
          "metadata": {
            "needs_background": "light"
          }
        }
      ]
    },
    {
      "cell_type": "code",
      "source": [
        "from sklearn.decomposition import PCA"
      ],
      "metadata": {
        "id": "-CtxlawI16A2"
      },
      "execution_count": 86,
      "outputs": []
    },
    {
      "cell_type": "code",
      "source": [
        "Scaler =  StandardScaler()\n",
        "df_scaled =  Scaler.fit_transform(X)"
      ],
      "metadata": {
        "id": "VE_tui8V18Xw"
      },
      "execution_count": 87,
      "outputs": []
    },
    {
      "cell_type": "code",
      "source": [
        "pca = PCA().fit(X_train)\n",
        "plt.plot(pca.explained_variance_ratio_.cumsum(), lw=3, color='#087E8B')\n",
        "plt.title('Cumulative explained variance by number of principal components', size=5)\n",
        "plt.show()"
      ],
      "metadata": {
        "colab": {
          "base_uri": "https://localhost:8080/",
          "height": 275
        },
        "id": "Au9ej-vG1_n9",
        "outputId": "4a6a3303-e82e-41bf-86a7-989c8d4cc6bf"
      },
      "execution_count": 88,
      "outputs": [
        {
          "output_type": "display_data",
          "data": {
            "text/plain": [
              "<Figure size 432x288 with 1 Axes>"
            ],
            "image/png": "[encoded data removed]"
          },
          "metadata": {
            "needs_background": "light"
          }
        }
      ]
    },
    {
      "cell_type": "code",
      "source": [
        "loadings = pd.DataFrame(\n",
        "    data=pca.components_.T * np.sqrt(pca.explained_variance_), \n",
        "    columns=[f'PC{i}' for i in range(1, len(X.columns) + 1)],\n",
        "    index=X.columns\n",
        ")\n",
        "loadings.head()"
      ],
      "metadata": {
        "colab": {
          "base_uri": "https://localhost:8080/",
          "height": 386
        },
        "id": "7pwO0kh82I1z",
        "outputId": "1a8538ca-6e7f-4bbe-d29b-0eef3dd2ebcb"
      },
      "execution_count": 90,
      "outputs": [
        {
          "output_type": "execute_result",
          "data": {
            "text/plain": [
              "                   PC1       PC2        PC3       PC4       PC5       PC6  \\\n",
              "Sector_score -4.427700  8.983553  22.135330 -0.263678 -0.072790  0.231089   \n",
              "LOCATION_ID  -0.400037 -1.983978   0.181319 -5.626470  8.179316  0.179845   \n",
              "PARA_A        3.855092 -0.941014  -0.344378 -0.119223 -0.273470  4.743580   \n",
              "Score_A       0.057545 -0.080228  -0.040328  0.010531  0.011017  0.046115   \n",
              "Risk_A        2.336517 -0.590572  -0.209444 -0.068890 -0.153999  2.864092   \n",
              "\n",
              "                   PC7       PC8       PC9      PC10  ...      PC17      PC18  \\\n",
              "Sector_score  0.006673 -0.001182  0.002903 -0.002435  ...  0.000093 -0.000004   \n",
              "LOCATION_ID   0.009308  0.002787  0.000674  0.003482  ... -0.000018 -0.000042   \n",
              "PARA_A       -0.065651  0.002569 -0.107351 -0.009550  ...  0.008028 -0.005693   \n",
              "Score_A      -0.001160 -0.015992  0.031352 -0.059469  ...  0.023529 -0.003178   \n",
              "Risk_A       -0.038457 -0.012012 -0.058767 -0.007214  ... -0.011005  0.019678   \n",
              "\n",
              "                  PC19      PC20          PC21          PC22          PC23  \\\n",
              "Sector_score  0.000001  0.000001  5.319816e-07 -1.572376e-07  2.602503e-08   \n",
              "LOCATION_ID  -0.000014 -0.000002 -7.440201e-07  1.457153e-06  2.351826e-07   \n",
              "PARA_A        0.003820 -0.000176  1.834503e-04 -1.416721e-05  4.117782e-07   \n",
              "Score_A       0.000029  0.003249 -9.695742e-04 -1.131046e-03  5.094189e-04   \n",
              "Risk_A       -0.026984  0.003045  1.187563e-04  4.579202e-05 -1.421516e-06   \n",
              "\n",
              "                      PC24          PC25  PC26  \n",
              "Sector_score -7.480432e-32 -0.000000e+00   0.0  \n",
              "LOCATION_ID  -1.770090e-31  6.217703e-32   0.0  \n",
              "PARA_A       -4.489253e-30 -4.331564e-30   0.0  \n",
              "Score_A      -1.716971e-15  1.048293e-17   0.0  \n",
              "Risk_A        7.269984e-30  6.484063e-30   0.0  \n",
              "\n",
              "[5 rows x 26 columns]"
            ],
            "text/html": [
              "\n",
              "  <div id=\"df-a9045fbb-4a14-4c5b-9205-028cfd09ac0c\">\n",
              "    <div class=\"colab-df-container\">\n",
              "      <div>\n",
              "<style scoped>\n",
              "    .dataframe tbody tr th:only-of-type {\n",
              "        vertical-align: middle;\n",
              "    }\n",
              "\n",
              "    .dataframe tbody tr th {\n",
              "        vertical-align: top;\n",
              "    }\n",
              "\n",
              "    .dataframe thead th {\n",
              "        text-align: right;\n",
              "    }\n",
              "</style>\n",
              "<table border=\"1\" class=\"dataframe\">\n",
              "  <thead>\n",
              "    <tr style=\"text-align: right;\">\n",
              "      <th></th>\n",
              "      <th>PC1</th>\n",
              "      <th>PC2</th>\n",
              "      <th>PC3</th>\n",
              "      <th>PC4</th>\n",
              "      <th>PC5</th>\n",
              "      <th>PC6</th>\n",
              "      <th>PC7</th>\n",
              "      <th>PC8</th>\n",
              "      <th>PC9</th>\n",
              "      <th>PC10</th>\n",
              "      <th>...</th>\n",
              "      <th>PC17</th>\n",
              "      <th>PC18</th>\n",
              "      <th>PC19</th>\n",
              "      <th>PC20</th>\n",
              "      <th>PC21</th>\n",
              "      <th>PC22</th>\n",
              "      <th>PC23</th>\n",
              "      <th>PC24</th>\n",
              "      <th>PC25</th>\n",
              "      <th>PC26</th>\n",
              "    </tr>\n",
              "  </thead>\n",
              "  <tbody>\n",
              "    <tr>\n",
              "      <th>Sector_score</th>\n",
              "      <td>-4.427700</td>\n",
              "      <td>8.983553</td>\n",
              "      <td>22.135330</td>\n",
              "      <td>-0.263678</td>\n",
              "      <td>-0.072790</td>\n",
              "      <td>0.231089</td>\n",
              "      <td>0.006673</td>\n",
              "      <td>-0.001182</td>\n",
              "      <td>0.002903</td>\n",
              "      <td>-0.002435</td>\n",
              "      <td>...</td>\n",
              "      <td>0.000093</td>\n",
              "      <td>-0.000004</td>\n",
              "      <td>0.000001</td>\n",
              "      <td>0.000001</td>\n",
              "      <td>5.319816e-07</td>\n",
              "      <td>-1.572376e-07</td>\n",
              "      <td>2.602503e-08</td>\n",
              "      <td>-7.480432e-32</td>\n",
              "      <td>-0.000000e+00</td>\n",
              "      <td>0.0</td>\n",
              "    </tr>\n",
              "    <tr>\n",
              "      <th>LOCATION_ID</th>\n",
              "      <td>-0.400037</td>\n",
              "      <td>-1.983978</td>\n",
              "      <td>0.181319</td>\n",
              "      <td>-5.626470</td>\n",
              "      <td>8.179316</td>\n",
              "      <td>0.179845</td>\n",
              "      <td>0.009308</td>\n",
              "      <td>0.002787</td>\n",
              "      <td>0.000674</td>\n",
              "      <td>0.003482</td>\n",
              "      <td>...</td>\n",
              "      <td>-0.000018</td>\n",
              "      <td>-0.000042</td>\n",
              "      <td>-0.000014</td>\n",
              "      <td>-0.000002</td>\n",
              "      <td>-7.440201e-07</td>\n",
              "      <td>1.457153e-06</td>\n",
              "      <td>2.351826e-07</td>\n",
              "      <td>-1.770090e-31</td>\n",
              "      <td>6.217703e-32</td>\n",
              "      <td>0.0</td>\n",
              "    </tr>\n",
              "    <tr>\n",
              "      <th>PARA_A</th>\n",
              "      <td>3.855092</td>\n",
              "      <td>-0.941014</td>\n",
              "      <td>-0.344378</td>\n",
              "      <td>-0.119223</td>\n",
              "      <td>-0.273470</td>\n",
              "      <td>4.743580</td>\n",
              "      <td>-0.065651</td>\n",
              "      <td>0.002569</td>\n",
              "      <td>-0.107351</td>\n",
              "      <td>-0.009550</td>\n",
              "      <td>...</td>\n",
              "      <td>0.008028</td>\n",
              "      <td>-0.005693</td>\n",
              "      <td>0.003820</td>\n",
              "      <td>-0.000176</td>\n",
              "      <td>1.834503e-04</td>\n",
              "      <td>-1.416721e-05</td>\n",
              "      <td>4.117782e-07</td>\n",
              "      <td>-4.489253e-30</td>\n",
              "      <td>-4.331564e-30</td>\n",
              "      <td>0.0</td>\n",
              "    </tr>\n",
              "    <tr>\n",
              "      <th>Score_A</th>\n",
              "      <td>0.057545</td>\n",
              "      <td>-0.080228</td>\n",
              "      <td>-0.040328</td>\n",
              "      <td>0.010531</td>\n",
              "      <td>0.011017</td>\n",
              "      <td>0.046115</td>\n",
              "      <td>-0.001160</td>\n",
              "      <td>-0.015992</td>\n",
              "      <td>0.031352</td>\n",
              "      <td>-0.059469</td>\n",
              "      <td>...</td>\n",
              "      <td>0.023529</td>\n",
              "      <td>-0.003178</td>\n",
              "      <td>0.000029</td>\n",
              "      <td>0.003249</td>\n",
              "      <td>-9.695742e-04</td>\n",
              "      <td>-1.131046e-03</td>\n",
              "      <td>5.094189e-04</td>\n",
              "      <td>-1.716971e-15</td>\n",
              "      <td>1.048293e-17</td>\n",
              "      <td>0.0</td>\n",
              "    </tr>\n",
              "    <tr>\n",
              "      <th>Risk_A</th>\n",
              "      <td>2.336517</td>\n",
              "      <td>-0.590572</td>\n",
              "      <td>-0.209444</td>\n",
              "      <td>-0.068890</td>\n",
              "      <td>-0.153999</td>\n",
              "      <td>2.864092</td>\n",
              "      <td>-0.038457</td>\n",
              "      <td>-0.012012</td>\n",
              "      <td>-0.058767</td>\n",
              "      <td>-0.007214</td>\n",
              "      <td>...</td>\n",
              "      <td>-0.011005</td>\n",
              "      <td>0.019678</td>\n",
              "      <td>-0.026984</td>\n",
              "      <td>0.003045</td>\n",
              "      <td>1.187563e-04</td>\n",
              "      <td>4.579202e-05</td>\n",
              "      <td>-1.421516e-06</td>\n",
              "      <td>7.269984e-30</td>\n",
              "      <td>6.484063e-30</td>\n",
              "      <td>0.0</td>\n",
              "    </tr>\n",
              "  </tbody>\n",
              "</table>\n",
              "<p>5 rows × 26 columns</p>\n",
              "</div>\n",
              "      <button class=\"colab-df-convert\" onclick=\"convertToInteractive('df-a9045fbb-4a14-4c5b-9205-028cfd09ac0c')\"\n",
              "              title=\"Convert this dataframe to an interactive table.\"\n",
              "              style=\"display:none;\">\n",
              "        \n",
              "  <svg xmlns=\"http://www.w3.org/2000/svg\" height=\"24px\"viewBox=\"0 0 24 24\"\n",
              "       width=\"24px\">\n",
              "    <path d=\"M0 0h24v24H0V0z\" fill=\"none\"/>\n",
              "    <path d=\"M18.56 5.44l.94 2.06.94-2.06 2.06-.94-2.06-.94-.94-2.06-.94 2.06-2.06.94zm-11 1L8.5 8.5l.94-2.06 2.06-.94-2.06-.94L8.5 2.5l-.94 2.06-2.06.94zm10 10l.94 2.06.94-2.06 2.06-.94-2.06-.94-.94-2.06-.94 2.06-2.06.94z\"/><path d=\"M17.41 7.96l-1.37-1.37c-.4-.4-.92-.59-1.43-.59-.52 0-1.04.2-1.43.59L10.3 9.45l-7.72 7.72c-.78.78-.78 2.05 0 2.83L4 21.41c.39.39.9.59 1.41.59.51 0 1.02-.2 1.41-.59l7.78-7.78 2.81-2.81c.8-.78.8-2.07 0-2.86zM5.41 20L4 18.59l7.72-7.72 1.47 1.35L5.41 20z\"/>\n",
              "  </svg>\n",
              "      </button>\n",
              "      \n",
              "  <style>\n",
              "    .colab-df-container {\n",
              "      display:flex;\n",
              "      flex-wrap:wrap;\n",
              "      gap: 12px;\n",
              "    }\n",
              "\n",
              "    .colab-df-convert {\n",
              "      background-color: #E8F0FE;\n",
              "      border: none;\n",
              "      border-radius: 50%;\n",
              "      cursor: pointer;\n",
              "      display: none;\n",
              "      fill: #1967D2;\n",
              "      height: 32px;\n",
              "      padding: 0 0 0 0;\n",
              "      width: 32px;\n",
              "    }\n",
              "\n",
              "    .colab-df-convert:hover {\n",
              "      background-color: #E2EBFA;\n",
              "      box-shadow: 0px 1px 2px rgba(60, 64, 67, 0.3), 0px 1px 3px 1px rgba(60, 64, 67, 0.15);\n",
              "      fill: #174EA6;\n",
              "    }\n",
              "\n",
              "    [theme=dark] .colab-df-convert {\n",
              "      background-color: #3B4455;\n",
              "      fill: #D2E3FC;\n",
              "    }\n",
              "\n",
              "    [theme=dark] .colab-df-convert:hover {\n",
              "      background-color: #434B5C;\n",
              "      box-shadow: 0px 1px 3px 1px rgba(0, 0, 0, 0.15);\n",
              "      filter: drop-shadow(0px 1px 2px rgba(0, 0, 0, 0.3));\n",
              "      fill: #FFFFFF;\n",
              "    }\n",
              "  </style>\n",
              "\n",
              "      <script>\n",
              "        const buttonEl =\n",
              "          document.querySelector('#df-a9045fbb-4a14-4c5b-9205-028cfd09ac0c button.colab-df-convert');\n",
              "        buttonEl.style.display =\n",
              "          google.colab.kernel.accessAllowed ? 'block' : 'none';\n",
              "\n",
              "        async function convertToInteractive(key) {\n",
              "          const element = document.querySelector('#df-a9045fbb-4a14-4c5b-9205-028cfd09ac0c');\n",
              "          const dataTable =\n",
              "            await google.colab.kernel.invokeFunction('convertToInteractive',\n",
              "                                                     [key], {});\n",
              "          if (!dataTable) return;\n",
              "\n",
              "          const docLinkHtml = 'Like what you see? Visit the ' +\n",
              "            '<a target=\"_blank\" href=https://colab.research.google.com/notebooks/data_table.ipynb>data table notebook</a>'\n",
              "            + ' to learn more about interactive tables.';\n",
              "          element.innerHTML = '';\n",
              "          dataTable['output_type'] = 'display_data';\n",
              "          await google.colab.output.renderOutput(dataTable, element);\n",
              "          const docLink = document.createElement('div');\n",
              "          docLink.innerHTML = docLinkHtml;\n",
              "          element.appendChild(docLink);\n",
              "        }\n",
              "      </script>\n",
              "    </div>\n",
              "  </div>\n",
              "  "
            ]
          },
          "metadata": {},
          "execution_count": 90
        }
      ]
    },
    {
      "cell_type": "code",
      "source": [
        "pc1_loadings = loadings.sort_values(by='PC1', ascending=False)[['PC1']]\n",
        "pc1_loadings = pc1_loadings.reset_index()\n",
        "pc1_loadings.columns = ['Attribute', 'CorrelationWithPC1']\n",
        "\n",
        "plt.bar(x=pc1_loadings['Attribute'], height=pc1_loadings['CorrelationWithPC1'], color='#087E8B')\n",
        "plt.title('PCA loading scores (first principal component)', size=5)\n",
        "plt.xticks(rotation='vertical')\n",
        "plt.show()"
      ],
      "metadata": {
        "colab": {
          "base_uri": "https://localhost:8080/",
          "height": 341
        },
        "id": "auiJCbeE2MOV",
        "outputId": "570fa620-84f2-4e1d-abb7-37d070c6f1e4"
      },
      "execution_count": 91,
      "outputs": [
        {
          "output_type": "display_data",
          "data": {
            "text/plain": [
              "<Figure size 432x288 with 1 Axes>"
            ],
            "image/png": "[encoded data removed]"
          },
          "metadata": {
            "needs_background": "light"
          }
        }
      ]
    },
    {
      "cell_type": "code",
      "source": [
        "pc2_loadings = loadings.sort_values(by='PC2', ascending=False)[['PC2']]\n",
        "pc2_loadings = pc2_loadings.reset_index()\n",
        "pc2_loadings.columns = ['Attribute', 'CorrelationWithPC2']\n",
        "\n",
        "plt.bar(x=pc2_loadings['Attribute'], height=pc2_loadings['CorrelationWithPC2'], color='#087E8B')\n",
        "plt.title('PCA loading scores (Second principal component)', size=5)\n",
        "plt.xticks(rotation='vertical')\n",
        "plt.show()"
      ],
      "metadata": {
        "colab": {
          "base_uri": "https://localhost:8080/",
          "height": 341
        },
        "id": "WN0AVgJZ2UA7",
        "outputId": "73d0c837-39a8-4fbe-a42f-a04e9128a596"
      },
      "execution_count": 92,
      "outputs": [
        {
          "output_type": "display_data",
          "data": {
            "text/plain": [
              "<Figure size 432x288 with 1 Axes>"
            ],
            "image/png": "[encoded data removed]"
          },
          "metadata": {
            "needs_background": "light"
          }
        }
      ]
    },
    {
      "cell_type": "code",
      "source": [
        "fs_fit_fscore = SelectKBest(f_classif, k=len(X.columns))\n",
        "fs_fit_fscore.fit_transform(X_train, y_train)\n",
        "fs_indices_fscore = np.argsort(np.nan_to_num(fs_fit_fscore.scores_))[::-1][0:len(X.columns)]\n",
        "fs_indices_fscore"
      ],
      "metadata": {
        "colab": {
          "base_uri": "https://localhost:8080/"
        },
        "id": "KaY-M8GD2Wuc",
        "outputId": "8057c963-a0b6-4fc4-fad8-18afa37eb7e5"
      },
      "execution_count": 96,
      "outputs": [
        {
          "output_type": "stream",
          "name": "stderr",
          "text": [
            "/usr/local/lib/python3.7/dist-packages/sklearn/feature_selection/_univariate_selection.py:112: UserWarning: Features [24] are constant.\n",
            "  warnings.warn(\"Features %s are constant.\" % constant_features_idx, UserWarning)\n",
            "/usr/local/lib/python3.7/dist-packages/sklearn/feature_selection/_univariate_selection.py:113: RuntimeWarning: invalid value encountered in true_divide\n",
            "  f = msb / msw\n"
          ]
        },
        {
          "output_type": "execute_result",
          "data": {
            "text/plain": [
              "array([21, 13,  6,  3,  8,  5,  7, 23, 22, 17,  0, 15, 25,  4,  2, 10, 11,\n",
              "        9, 19, 12, 14, 18, 20, 16,  1, 24])"
            ]
          },
          "metadata": {},
          "execution_count": 96
        }
      ]
    },
    {
      "cell_type": "code",
      "source": [
        "best_features_fscore = df.columns[fs_indices_fscore].values\n",
        "best_features_fscore"
      ],
      "metadata": {
        "colab": {
          "base_uri": "https://localhost:8080/"
        },
        "id": "Syfv3oT92ZfV",
        "outputId": "6224093d-4d99-4b99-b594-8da6f0e64037"
      },
      "execution_count": 97,
      "outputs": [
        {
          "output_type": "execute_result",
          "data": {
            "text/plain": [
              "array(['Score', 'Score_MV', 'Score_B', 'Score_A', 'TOTAL', 'PARA_B',\n",
              "       'Risk_B', 'CONTROL_RISK', 'Inherent_Risk', 'RiSk_E',\n",
              "       'Sector_score', 'District_Loss', 'Audit_Risk', 'Risk_A', 'PARA_A',\n",
              "       'Score_B.1', 'Risk_C', 'numbers', 'Prob', 'Money_Value', 'Risk_D',\n",
              "       'History', 'Risk_F', 'PROB', 'LOCATION_ID', 'Detection_Risk'],\n",
              "      dtype=object)"
            ]
          },
          "metadata": {},
          "execution_count": 97
        }
      ]
    },
    {
      "cell_type": "code",
      "source": [
        "feature_importances_fscore = fs_fit_fscore.scores_[fs_indices_fscore]\n",
        "feature_importances_fscore"
      ],
      "metadata": {
        "colab": {
          "base_uri": "https://localhost:8080/"
        },
        "id": "_uYfDpmw2qon",
        "outputId": "55d10a63-7c17-4732-e157-31a5edd6ff1a"
      },
      "execution_count": 98,
      "outputs": [
        {
          "output_type": "execute_result",
          "data": {
            "text/plain": [
              "array([1073.099,  576.973,  487.794,  378.601,  251.583,  211.281,\n",
              "        205.282,  128.048,  125.992,  118.595,  116.549,  110.766,\n",
              "        109.603,  105.16 ,  101.069,   87.819,   80.945,   61.748,\n",
              "         59.591,   49.097,   47.992,   32.912,   24.88 ,   17.798,\n",
              "          4.275,      nan])"
            ]
          },
          "metadata": {},
          "execution_count": 98
        }
      ]
    },
    {
      "cell_type": "code",
      "source": [
        "plt.barh(best_features_fscore, feature_importances_fscore)\n",
        "plt.xlabel('Imporatnce')\n",
        "plt.ylabel('Features')"
      ],
      "metadata": {
        "colab": {
          "base_uri": "https://localhost:8080/",
          "height": 296
        },
        "id": "CJ9PLP3v2ta7",
        "outputId": "c02bbd79-22c3-4dee-8836-8b299969d77e"
      },
      "execution_count": 99,
      "outputs": [
        {
          "output_type": "execute_result",
          "data": {
            "text/plain": [
              "Text(0, 0.5, 'Features')"
            ]
          },
          "metadata": {},
          "execution_count": 99
        },
        {
          "output_type": "display_data",
          "data": {
            "text/plain": [
              "<Figure size 432x288 with 1 Axes>"
            ],
            "image/png": "[encoded data removed]"
          },
          "metadata": {
            "needs_background": "light"
          }
        }
      ]
    },
    {
      "cell_type": "code",
      "source": [
        "fs_fit_mutual_info = SelectKBest(mutual_info_classif, k=len(X.columns))\n",
        "fs_fit_mutual_info.fit_transform(X_train, y_train)\n",
        "fs_indices_mutual_info = np.argsort(fs_fit_mutual_info.scores_)[::-1][0:len(X.columns)]\n",
        "best_features_mutual_info = df.columns[fs_indices_mutual_info].values\n",
        "best_features_mutual_info"
      ],
      "metadata": {
        "colab": {
          "base_uri": "https://localhost:8080/"
        },
        "id": "5QvV4gnl2vP5",
        "outputId": "9c36ca1b-2c3c-4169-ff84-eaccdc77bdf6"
      },
      "execution_count": 100,
      "outputs": [
        {
          "output_type": "execute_result",
          "data": {
            "text/plain": [
              "array(['Audit_Risk', 'Inherent_Risk', 'Score', 'TOTAL', 'Risk_B',\n",
              "       'Risk_D', 'Money_Value', 'PARA_B', 'Score_MV', 'PARA_A', 'Score_B',\n",
              "       'Risk_A', 'Score_A', 'CONTROL_RISK', 'Sector_score', 'RiSk_E',\n",
              "       'District_Loss', 'numbers', 'History', 'Score_B.1', 'Risk_C',\n",
              "       'Prob', 'Risk_F', 'LOCATION_ID', 'PROB', 'Detection_Risk'],\n",
              "      dtype=object)"
            ]
          },
          "metadata": {},
          "execution_count": 100
        }
      ]
    },
    {
      "cell_type": "code",
      "source": [
        "feature_importances_mutual_info = fs_fit_mutual_info.scores_[fs_indices_mutual_info]\n",
        "feature_importances_mutual_info"
      ],
      "metadata": {
        "colab": {
          "base_uri": "https://localhost:8080/"
        },
        "id": "5COwSxcd22qk",
        "outputId": "e82f6e43-7223-4a86-dae1-9914e45e7c3e"
      },
      "execution_count": 101,
      "outputs": [
        {
          "output_type": "execute_result",
          "data": {
            "text/plain": [
              "array([0.666, 0.568, 0.477, 0.355, 0.316, 0.313, 0.3  , 0.297, 0.287,\n",
              "       0.247, 0.24 , 0.228, 0.217, 0.154, 0.12 , 0.117, 0.106, 0.086,\n",
              "       0.086, 0.075, 0.071, 0.068, 0.055, 0.04 , 0.011, 0.   ])"
            ]
          },
          "metadata": {},
          "execution_count": 101
        }
      ]
    },
    {
      "cell_type": "code",
      "source": [
        "plt.barh(best_features_mutual_info,feature_importances_mutual_info)\n",
        "plt.xlabel('Importance')\n",
        "plt.ylabel('Features')"
      ],
      "metadata": {
        "colab": {
          "base_uri": "https://localhost:8080/",
          "height": 296
        },
        "id": "_YacH2hF249m",
        "outputId": "b23aba39-40d2-47fb-c9b6-fb2fcb606fde"
      },
      "execution_count": 102,
      "outputs": [
        {
          "output_type": "execute_result",
          "data": {
            "text/plain": [
              "Text(0, 0.5, 'Features')"
            ]
          },
          "metadata": {},
          "execution_count": 102
        },
        {
          "output_type": "display_data",
          "data": {
            "text/plain": [
              "<Figure size 432x288 with 1 Axes>"
            ],
            "image/png": "[encoded data removed]"
          },
          "metadata": {
            "needs_background": "light"
          }
        }
      ]
    },
    {
      "cell_type": "code",
      "source": [
        "df_new['Risk'] = LabelEncoder().fit_transform(df_new['Risk'])\n",
        "df_corr = df_new.corr()\n",
        "df_corr.head()"
      ],
      "metadata": {
        "colab": {
          "base_uri": "https://localhost:8080/",
          "height": 404
        },
        "id": "sVt2bgJY275X",
        "outputId": "121540c0-0563-47cc-b9a5-4337a804519f"
      },
      "execution_count": 105,
      "outputs": [
        {
          "output_type": "stream",
          "name": "stderr",
          "text": [
            "/usr/local/lib/python3.7/dist-packages/ipykernel_launcher.py:1: SettingWithCopyWarning: \n",
            "A value is trying to be set on a copy of a slice from a DataFrame.\n",
            "Try using .loc[row_indexer,col_indexer] = value instead\n",
            "\n",
            "See the caveats in the documentation: https://pandas.pydata.org/pandas-docs/stable/user_guide/indexing.html#returning-a-view-versus-a-copy\n",
            "  \"\"\"Entry point for launching an IPython kernel.\n"
          ]
        },
        {
          "output_type": "execute_result",
          "data": {
            "text/plain": [
              "              Sector_score    PARA_A   Score_A    Risk_A    PARA_B   Score_B  \\\n",
              "Sector_score      1.000000 -0.217724 -0.427975 -0.219995 -0.133234 -0.220443   \n",
              "PARA_A           -0.217724  1.000000  0.496187  0.999267  0.161610  0.357831   \n",
              "Score_A          -0.427975  0.496187  1.000000  0.504378  0.248984  0.571429   \n",
              "Risk_A           -0.219995  0.999267  0.504378  1.000000  0.164952  0.362238   \n",
              "PARA_B           -0.133234  0.161610  0.248984  0.164952  1.000000  0.347265   \n",
              "\n",
              "                Risk_B     TOTAL   numbers  Score_B.1  ...    RiSk_E  \\\n",
              "Sector_score -0.131142 -0.153966 -0.152502  -0.171165  ... -0.129340   \n",
              "PARA_A        0.161512  0.266706  0.133373   0.140172  ...  0.118261   \n",
              "Score_A       0.247752  0.297051  0.242054   0.273863  ...  0.101070   \n",
              "Risk_A        0.164816  0.269882  0.135192   0.142619  ...  0.117947   \n",
              "PARA_B        0.999936  0.994102  0.209630   0.230601  ...  0.078979   \n",
              "\n",
              "               History      Prob    Risk_F     Score  Inherent_Risk  \\\n",
              "Sector_score -0.115293 -0.137511 -0.103665 -0.339585      -0.174041   \n",
              "PARA_A        0.117962  0.172257  0.103694  0.426005       0.481577   \n",
              "Score_A       0.177411  0.264772  0.150441  0.719458       0.320291   \n",
              "Risk_A        0.120810  0.175776  0.106271  0.431838       0.483005   \n",
              "PARA_B        0.203407  0.316353  0.195892  0.396977       0.654349   \n",
              "\n",
              "              CONTROL_RISK  Detection_Risk  Audit_Risk      Risk  \n",
              "Sector_score     -0.155790             NaN   -0.092368 -0.396591  \n",
              "PARA_A            0.148577             NaN    0.219518  0.378008  \n",
              "Score_A           0.169519             NaN    0.201458  0.618348  \n",
              "Risk_A            0.150144             NaN    0.221337  0.384304  \n",
              "PARA_B            0.186370             NaN    0.887775  0.256591  \n",
              "\n",
              "[5 rows x 26 columns]"
            ],
            "text/html": [
              "\n",
              "  <div id=\"df-2a727e95-2cf7-49a3-b1e9-9694abffc38b\">\n",
              "    <div class=\"colab-df-container\">\n",
              "      <div>\n",
              "<style scoped>\n",
              "    .dataframe tbody tr th:only-of-type {\n",
              "        vertical-align: middle;\n",
              "    }\n",
              "\n",
              "    .dataframe tbody tr th {\n",
              "        vertical-align: top;\n",
              "    }\n",
              "\n",
              "    .dataframe thead th {\n",
              "        text-align: right;\n",
              "    }\n",
              "</style>\n",
              "<table border=\"1\" class=\"dataframe\">\n",
              "  <thead>\n",
              "    <tr style=\"text-align: right;\">\n",
              "      <th></th>\n",
              "      <th>Sector_score</th>\n",
              "      <th>PARA_A</th>\n",
              "      <th>Score_A</th>\n",
              "      <th>Risk_A</th>\n",
              "      <th>PARA_B</th>\n",
              "      <th>Score_B</th>\n",
              "      <th>Risk_B</th>\n",
              "      <th>TOTAL</th>\n",
              "      <th>numbers</th>\n",
              "      <th>Score_B.1</th>\n",
              "      <th>...</th>\n",
              "      <th>RiSk_E</th>\n",
              "      <th>History</th>\n",
              "      <th>Prob</th>\n",
              "      <th>Risk_F</th>\n",
              "      <th>Score</th>\n",
              "      <th>Inherent_Risk</th>\n",
              "      <th>CONTROL_RISK</th>\n",
              "      <th>Detection_Risk</th>\n",
              "      <th>Audit_Risk</th>\n",
              "      <th>Risk</th>\n",
              "    </tr>\n",
              "  </thead>\n",
              "  <tbody>\n",
              "    <tr>\n",
              "      <th>Sector_score</th>\n",
              "      <td>1.000000</td>\n",
              "      <td>-0.217724</td>\n",
              "      <td>-0.427975</td>\n",
              "      <td>-0.219995</td>\n",
              "      <td>-0.133234</td>\n",
              "      <td>-0.220443</td>\n",
              "      <td>-0.131142</td>\n",
              "      <td>-0.153966</td>\n",
              "      <td>-0.152502</td>\n",
              "      <td>-0.171165</td>\n",
              "      <td>...</td>\n",
              "      <td>-0.129340</td>\n",
              "      <td>-0.115293</td>\n",
              "      <td>-0.137511</td>\n",
              "      <td>-0.103665</td>\n",
              "      <td>-0.339585</td>\n",
              "      <td>-0.174041</td>\n",
              "      <td>-0.155790</td>\n",
              "      <td>NaN</td>\n",
              "      <td>-0.092368</td>\n",
              "      <td>-0.396591</td>\n",
              "    </tr>\n",
              "    <tr>\n",
              "      <th>PARA_A</th>\n",
              "      <td>-0.217724</td>\n",
              "      <td>1.000000</td>\n",
              "      <td>0.496187</td>\n",
              "      <td>0.999267</td>\n",
              "      <td>0.161610</td>\n",
              "      <td>0.357831</td>\n",
              "      <td>0.161512</td>\n",
              "      <td>0.266706</td>\n",
              "      <td>0.133373</td>\n",
              "      <td>0.140172</td>\n",
              "      <td>...</td>\n",
              "      <td>0.118261</td>\n",
              "      <td>0.117962</td>\n",
              "      <td>0.172257</td>\n",
              "      <td>0.103694</td>\n",
              "      <td>0.426005</td>\n",
              "      <td>0.481577</td>\n",
              "      <td>0.148577</td>\n",
              "      <td>NaN</td>\n",
              "      <td>0.219518</td>\n",
              "      <td>0.378008</td>\n",
              "    </tr>\n",
              "    <tr>\n",
              "      <th>Score_A</th>\n",
              "      <td>-0.427975</td>\n",
              "      <td>0.496187</td>\n",
              "      <td>1.000000</td>\n",
              "      <td>0.504378</td>\n",
              "      <td>0.248984</td>\n",
              "      <td>0.571429</td>\n",
              "      <td>0.247752</td>\n",
              "      <td>0.297051</td>\n",
              "      <td>0.242054</td>\n",
              "      <td>0.273863</td>\n",
              "      <td>...</td>\n",
              "      <td>0.101070</td>\n",
              "      <td>0.177411</td>\n",
              "      <td>0.264772</td>\n",
              "      <td>0.150441</td>\n",
              "      <td>0.719458</td>\n",
              "      <td>0.320291</td>\n",
              "      <td>0.169519</td>\n",
              "      <td>NaN</td>\n",
              "      <td>0.201458</td>\n",
              "      <td>0.618348</td>\n",
              "    </tr>\n",
              "    <tr>\n",
              "      <th>Risk_A</th>\n",
              "      <td>-0.219995</td>\n",
              "      <td>0.999267</td>\n",
              "      <td>0.504378</td>\n",
              "      <td>1.000000</td>\n",
              "      <td>0.164952</td>\n",
              "      <td>0.362238</td>\n",
              "      <td>0.164816</td>\n",
              "      <td>0.269882</td>\n",
              "      <td>0.135192</td>\n",
              "      <td>0.142619</td>\n",
              "      <td>...</td>\n",
              "      <td>0.117947</td>\n",
              "      <td>0.120810</td>\n",
              "      <td>0.175776</td>\n",
              "      <td>0.106271</td>\n",
              "      <td>0.431838</td>\n",
              "      <td>0.483005</td>\n",
              "      <td>0.150144</td>\n",
              "      <td>NaN</td>\n",
              "      <td>0.221337</td>\n",
              "      <td>0.384304</td>\n",
              "    </tr>\n",
              "    <tr>\n",
              "      <th>PARA_B</th>\n",
              "      <td>-0.133234</td>\n",
              "      <td>0.161610</td>\n",
              "      <td>0.248984</td>\n",
              "      <td>0.164952</td>\n",
              "      <td>1.000000</td>\n",
              "      <td>0.347265</td>\n",
              "      <td>0.999936</td>\n",
              "      <td>0.994102</td>\n",
              "      <td>0.209630</td>\n",
              "      <td>0.230601</td>\n",
              "      <td>...</td>\n",
              "      <td>0.078979</td>\n",
              "      <td>0.203407</td>\n",
              "      <td>0.316353</td>\n",
              "      <td>0.195892</td>\n",
              "      <td>0.396977</td>\n",
              "      <td>0.654349</td>\n",
              "      <td>0.186370</td>\n",
              "      <td>NaN</td>\n",
              "      <td>0.887775</td>\n",
              "      <td>0.256591</td>\n",
              "    </tr>\n",
              "  </tbody>\n",
              "</table>\n",
              "<p>5 rows × 26 columns</p>\n",
              "</div>\n",
              "      <button class=\"colab-df-convert\" onclick=\"convertToInteractive('df-2a727e95-2cf7-49a3-b1e9-9694abffc38b')\"\n",
              "              title=\"Convert this dataframe to an interactive table.\"\n",
              "              style=\"display:none;\">\n",
              "        \n",
              "  <svg xmlns=\"http://www.w3.org/2000/svg\" height=\"24px\"viewBox=\"0 0 24 24\"\n",
              "       width=\"24px\">\n",
              "    <path d=\"M0 0h24v24H0V0z\" fill=\"none\"/>\n",
              "    <path d=\"M18.56 5.44l.94 2.06.94-2.06 2.06-.94-2.06-.94-.94-2.06-.94 2.06-2.06.94zm-11 1L8.5 8.5l.94-2.06 2.06-.94-2.06-.94L8.5 2.5l-.94 2.06-2.06.94zm10 10l.94 2.06.94-2.06 2.06-.94-2.06-.94-.94-2.06-.94 2.06-2.06.94z\"/><path d=\"M17.41 7.96l-1.37-1.37c-.4-.4-.92-.59-1.43-.59-.52 0-1.04.2-1.43.59L10.3 9.45l-7.72 7.72c-.78.78-.78 2.05 0 2.83L4 21.41c.39.39.9.59 1.41.59.51 0 1.02-.2 1.41-.59l7.78-7.78 2.81-2.81c.8-.78.8-2.07 0-2.86zM5.41 20L4 18.59l7.72-7.72 1.47 1.35L5.41 20z\"/>\n",
              "  </svg>\n",
              "      </button>\n",
              "      \n",
              "  <style>\n",
              "    .colab-df-container {\n",
              "      display:flex;\n",
              "      flex-wrap:wrap;\n",
              "      gap: 12px;\n",
              "    }\n",
              "\n",
              "    .colab-df-convert {\n",
              "      background-color: #E8F0FE;\n",
              "      border: none;\n",
              "      border-radius: 50%;\n",
              "      cursor: pointer;\n",
              "      display: none;\n",
              "      fill: #1967D2;\n",
              "      height: 32px;\n",
              "      padding: 0 0 0 0;\n",
              "      width: 32px;\n",
              "    }\n",
              "\n",
              "    .colab-df-convert:hover {\n",
              "      background-color: #E2EBFA;\n",
              "      box-shadow: 0px 1px 2px rgba(60, 64, 67, 0.3), 0px 1px 3px 1px rgba(60, 64, 67, 0.15);\n",
              "      fill: #174EA6;\n",
              "    }\n",
              "\n",
              "    [theme=dark] .colab-df-convert {\n",
              "      background-color: #3B4455;\n",
              "      fill: #D2E3FC;\n",
              "    }\n",
              "\n",
              "    [theme=dark] .colab-df-convert:hover {\n",
              "      background-color: #434B5C;\n",
              "      box-shadow: 0px 1px 3px 1px rgba(0, 0, 0, 0.15);\n",
              "      filter: drop-shadow(0px 1px 2px rgba(0, 0, 0, 0.3));\n",
              "      fill: #FFFFFF;\n",
              "    }\n",
              "  </style>\n",
              "\n",
              "      <script>\n",
              "        const buttonEl =\n",
              "          document.querySelector('#df-2a727e95-2cf7-49a3-b1e9-9694abffc38b button.colab-df-convert');\n",
              "        buttonEl.style.display =\n",
              "          google.colab.kernel.accessAllowed ? 'block' : 'none';\n",
              "\n",
              "        async function convertToInteractive(key) {\n",
              "          const element = document.querySelector('#df-2a727e95-2cf7-49a3-b1e9-9694abffc38b');\n",
              "          const dataTable =\n",
              "            await google.colab.kernel.invokeFunction('convertToInteractive',\n",
              "                                                     [key], {});\n",
              "          if (!dataTable) return;\n",
              "\n",
              "          const docLinkHtml = 'Like what you see? Visit the ' +\n",
              "            '<a target=\"_blank\" href=https://colab.research.google.com/notebooks/data_table.ipynb>data table notebook</a>'\n",
              "            + ' to learn more about interactive tables.';\n",
              "          element.innerHTML = '';\n",
              "          dataTable['output_type'] = 'display_data';\n",
              "          await google.colab.output.renderOutput(dataTable, element);\n",
              "          const docLink = document.createElement('div');\n",
              "          docLink.innerHTML = docLinkHtml;\n",
              "          element.appendChild(docLink);\n",
              "        }\n",
              "      </script>\n",
              "    </div>\n",
              "  </div>\n",
              "  "
            ]
          },
          "metadata": {},
          "execution_count": 105
        }
      ]
    },
    {
      "cell_type": "code",
      "source": [
        "df_corr['Risk']"
      ],
      "metadata": {
        "colab": {
          "base_uri": "https://localhost:8080/"
        },
        "id": "EYK6YobE3DDZ",
        "outputId": "8f00be8d-532a-4cdf-9ad8-833e53f08184"
      },
      "execution_count": 106,
      "outputs": [
        {
          "output_type": "execute_result",
          "data": {
            "text/plain": [
              "Sector_score     -0.396591\n",
              "PARA_A            0.378008\n",
              "Score_A           0.618348\n",
              "Risk_A            0.384304\n",
              "PARA_B            0.256591\n",
              "Score_B           0.634784\n",
              "Risk_B            0.254865\n",
              "TOTAL             0.291515\n",
              "numbers           0.307642\n",
              "Score_B.1         0.353244\n",
              "Risk_C            0.341598\n",
              "Money_Value       0.256690\n",
              "Score_MV          0.687724\n",
              "Risk_D            0.253952\n",
              "District_Loss     0.402943\n",
              "PROB              0.176533\n",
              "RiSk_E            0.410961\n",
              "History           0.239058\n",
              "Prob              0.298159\n",
              "Risk_F            0.214156\n",
              "Score             0.785263\n",
              "Inherent_Risk     0.356468\n",
              "CONTROL_RISK      0.415713\n",
              "Detection_Risk         NaN\n",
              "Audit_Risk        0.216754\n",
              "Risk              1.000000\n",
              "Name: Risk, dtype: float64"
            ]
          },
          "metadata": {},
          "execution_count": 106
        }
      ]
    },
    {
      "cell_type": "code",
      "source": [
        "from sklearn.feature_selection import RFE\n",
        "from sklearn.svm import LinearSVC"
      ],
      "metadata": {
        "id": "ERycmVld3QgL"
      },
      "execution_count": 107,
      "outputs": []
    },
    {
      "cell_type": "code",
      "source": [
        "estimator = LinearSVC()"
      ],
      "metadata": {
        "id": "krg0zeOU3TI6"
      },
      "execution_count": 108,
      "outputs": []
    },
    {
      "cell_type": "code",
      "source": [
        "selector = RFE(estimator, n_features_to_select=1, step=1)\n",
        "selector = selector.fit(X_train, y_train)"
      ],
      "metadata": {
        "colab": {
          "base_uri": "https://localhost:8080/"
        },
        "id": "CahM_0c33VpW",
        "outputId": "17b20214-9a45-4f0f-a482-03186e6c7d70"
      },
      "execution_count": 109,
      "outputs": [
        {
          "output_type": "stream",
          "name": "stderr",
          "text": [
            "/usr/local/lib/python3.7/dist-packages/sklearn/svm/_base.py:1208: ConvergenceWarning: Liblinear failed to converge, increase the number of iterations.\n",
            "  ConvergenceWarning,\n",
            "/usr/local/lib/python3.7/dist-packages/sklearn/svm/_base.py:1208: ConvergenceWarning: Liblinear failed to converge, increase the number of iterations.\n",
            "  ConvergenceWarning,\n",
            "/usr/local/lib/python3.7/dist-packages/sklearn/svm/_base.py:1208: ConvergenceWarning: Liblinear failed to converge, increase the number of iterations.\n",
            "  ConvergenceWarning,\n",
            "/usr/local/lib/python3.7/dist-packages/sklearn/svm/_base.py:1208: ConvergenceWarning: Liblinear failed to converge, increase the number of iterations.\n",
            "  ConvergenceWarning,\n",
            "/usr/local/lib/python3.7/dist-packages/sklearn/svm/_base.py:1208: ConvergenceWarning: Liblinear failed to converge, increase the number of iterations.\n",
            "  ConvergenceWarning,\n",
            "/usr/local/lib/python3.7/dist-packages/sklearn/svm/_base.py:1208: ConvergenceWarning: Liblinear failed to converge, increase the number of iterations.\n",
            "  ConvergenceWarning,\n",
            "/usr/local/lib/python3.7/dist-packages/sklearn/svm/_base.py:1208: ConvergenceWarning: Liblinear failed to converge, increase the number of iterations.\n",
            "  ConvergenceWarning,\n",
            "/usr/local/lib/python3.7/dist-packages/sklearn/svm/_base.py:1208: ConvergenceWarning: Liblinear failed to converge, increase the number of iterations.\n",
            "  ConvergenceWarning,\n",
            "/usr/local/lib/python3.7/dist-packages/sklearn/svm/_base.py:1208: ConvergenceWarning: Liblinear failed to converge, increase the number of iterations.\n",
            "  ConvergenceWarning,\n",
            "/usr/local/lib/python3.7/dist-packages/sklearn/svm/_base.py:1208: ConvergenceWarning: Liblinear failed to converge, increase the number of iterations.\n",
            "  ConvergenceWarning,\n",
            "/usr/local/lib/python3.7/dist-packages/sklearn/svm/_base.py:1208: ConvergenceWarning: Liblinear failed to converge, increase the number of iterations.\n",
            "  ConvergenceWarning,\n",
            "/usr/local/lib/python3.7/dist-packages/sklearn/svm/_base.py:1208: ConvergenceWarning: Liblinear failed to converge, increase the number of iterations.\n",
            "  ConvergenceWarning,\n",
            "/usr/local/lib/python3.7/dist-packages/sklearn/svm/_base.py:1208: ConvergenceWarning: Liblinear failed to converge, increase the number of iterations.\n",
            "  ConvergenceWarning,\n",
            "/usr/local/lib/python3.7/dist-packages/sklearn/svm/_base.py:1208: ConvergenceWarning: Liblinear failed to converge, increase the number of iterations.\n",
            "  ConvergenceWarning,\n",
            "/usr/local/lib/python3.7/dist-packages/sklearn/svm/_base.py:1208: ConvergenceWarning: Liblinear failed to converge, increase the number of iterations.\n",
            "  ConvergenceWarning,\n",
            "/usr/local/lib/python3.7/dist-packages/sklearn/svm/_base.py:1208: ConvergenceWarning: Liblinear failed to converge, increase the number of iterations.\n",
            "  ConvergenceWarning,\n",
            "/usr/local/lib/python3.7/dist-packages/sklearn/svm/_base.py:1208: ConvergenceWarning: Liblinear failed to converge, increase the number of iterations.\n",
            "  ConvergenceWarning,\n",
            "/usr/local/lib/python3.7/dist-packages/sklearn/svm/_base.py:1208: ConvergenceWarning: Liblinear failed to converge, increase the number of iterations.\n",
            "  ConvergenceWarning,\n",
            "/usr/local/lib/python3.7/dist-packages/sklearn/svm/_base.py:1208: ConvergenceWarning: Liblinear failed to converge, increase the number of iterations.\n",
            "  ConvergenceWarning,\n",
            "/usr/local/lib/python3.7/dist-packages/sklearn/svm/_base.py:1208: ConvergenceWarning: Liblinear failed to converge, increase the number of iterations.\n",
            "  ConvergenceWarning,\n",
            "/usr/local/lib/python3.7/dist-packages/sklearn/svm/_base.py:1208: ConvergenceWarning: Liblinear failed to converge, increase the number of iterations.\n",
            "  ConvergenceWarning,\n",
            "/usr/local/lib/python3.7/dist-packages/sklearn/svm/_base.py:1208: ConvergenceWarning: Liblinear failed to converge, increase the number of iterations.\n",
            "  ConvergenceWarning,\n"
          ]
        }
      ]
    },
    {
      "cell_type": "code",
      "source": [
        "index = selector.ranking_.argsort()\n",
        "index"
      ],
      "metadata": {
        "colab": {
          "base_uri": "https://localhost:8080/"
        },
        "id": "hqFXwAjE3XRk",
        "outputId": "edecfe7f-9798-4e65-dc83-89058fa97820"
      },
      "execution_count": 110,
      "outputs": [
        {
          "output_type": "execute_result",
          "data": {
            "text/plain": [
              "array([25,  9, 14, 15,  8, 17, 11, 22,  7,  5, 23,  3, 24,  6, 10, 19, 16,\n",
              "        2, 13,  1, 12, 21,  0,  4, 18, 20])"
            ]
          },
          "metadata": {},
          "execution_count": 110
        }
      ]
    },
    {
      "cell_type": "code",
      "source": [
        "X.columns[index]"
      ],
      "metadata": {
        "colab": {
          "base_uri": "https://localhost:8080/"
        },
        "id": "UALop4hn3aBM",
        "outputId": "c21f506a-ae7f-47c2-ae96-26e9c522364e"
      },
      "execution_count": 112,
      "outputs": [
        {
          "output_type": "execute_result",
          "data": {
            "text/plain": [
              "Index(['Audit_Risk', 'numbers', 'Risk_D', 'District_Loss', 'TOTAL', 'RiSk_E',\n",
              "       'Risk_C', 'Inherent_Risk', 'Risk_B', 'PARA_B', 'CONTROL_RISK',\n",
              "       'Score_A', 'Detection_Risk', 'Score_B', 'Score_B.1', 'Prob', 'PROB',\n",
              "       'PARA_A', 'Score_MV', 'LOCATION_ID', 'Money_Value', 'Score',\n",
              "       'Sector_score', 'Risk_A', 'History', 'Risk_F'],\n",
              "      dtype='object')"
            ]
          },
          "metadata": {},
          "execution_count": 112
        }
      ]
    },
    {
      "cell_type": "code",
      "source": [
        ""
      ],
      "metadata": {
        "id": "yMsojaS-3bvg"
      },
      "execution_count": null,
      "outputs": []
    }
  ]
}