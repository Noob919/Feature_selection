{
  "nbformat": 4,
  "nbformat_minor": 0,
  "metadata": {
    "colab": {
      "name": "Wine_data_OWA_50%.ipynb",
      "provenance": [],
      "authorship_tag": "ABX9TyNX9vTMxXcFoVS7NANvIlWb",
      "include_colab_link": true
    },
    "kernelspec": {
      "name": "python3",
      "display_name": "Python 3"
    },
    "language_info": {
      "name": "python"
    }
  },
  "cells": [
    {
      "cell_type": "markdown",
      "metadata": {
        "id": "view-in-github",
        "colab_type": "text"
      },
      "source": [
        "<a href=\"https://colab.research.google.com/github/Noob919/Feature_selection/blob/main/Models_EVALS_50%25/Wine_data_OWA_50_.ipynb\" target=\"_parent\"><img src=\"https://colab.research.google.com/assets/colab-badge.svg\" alt=\"Open In Colab\"/></a>"
      ]
    },
    {
      "cell_type": "code",
      "source": [
        "!pip uninstall tensorflow  "
      ],
      "metadata": {
        "colab": {
          "base_uri": "https://localhost:8080/"
        },
        "id": "apoQ3INgD2ba",
        "outputId": "5867e83d-4258-4061-eb6e-84a979ea130e"
      },
      "execution_count": 178,
      "outputs": [
        {
          "output_type": "stream",
          "name": "stdout",
          "text": [
            "Found existing installation: tensorflow 2.8.2+zzzcolab20220527125636\n",
            "Uninstalling tensorflow-2.8.2+zzzcolab20220527125636:\n",
            "  Would remove:\n",
            "    /usr/local/bin/estimator_ckpt_converter\n",
            "    /usr/local/bin/import_pb_to_tensorboard\n",
            "    /usr/local/bin/saved_model_cli\n",
            "    /usr/local/bin/tensorboard\n",
            "    /usr/local/bin/tf_upgrade_v2\n",
            "    /usr/local/bin/tflite_convert\n",
            "    /usr/local/bin/toco\n",
            "    /usr/local/bin/toco_from_protos\n",
            "    /usr/local/lib/python3.7/dist-packages/tensorflow-2.8.2+zzzcolab20220527125636.dist-info/*\n",
            "    /usr/local/lib/python3.7/dist-packages/tensorflow/*\n",
            "Proceed (y/n)? y\n",
            "y\n",
            "  Successfully uninstalled tensorflow-2.8.2+zzzcolab20220527125636\n"
          ]
        }
      ]
    },
    {
      "cell_type": "code",
      "source": [
        "!pip install tensorflow==2.5"
      ],
      "metadata": {
        "colab": {
          "base_uri": "https://localhost:8080/",
          "height": 1000
        },
        "id": "Y42sIS9pEKmD",
        "outputId": "af65d3b1-8b1e-4c59-805c-103806a8a9bb"
      },
      "execution_count": 180,
      "outputs": [
        {
          "output_type": "stream",
          "name": "stdout",
          "text": [
            "Looking in indexes: https://pypi.org/simple, https://us-python.pkg.dev/colab-wheels/public/simple/\n",
            "Collecting tensorflow==2.5\n",
            "  Downloading tensorflow-2.5.0-cp37-cp37m-manylinux2010_x86_64.whl (454.3 MB)\n",
            "\u001b[K     |████████████████████████████████| 454.3 MB 15 kB/s \n",
            "\u001b[?25hRequirement already satisfied: protobuf>=3.9.2 in /usr/local/lib/python3.7/dist-packages (from tensorflow==2.5) (3.17.3)\n",
            "Requirement already satisfied: h5py~=3.1.0 in /usr/local/lib/python3.7/dist-packages (from tensorflow==2.5) (3.1.0)\n",
            "Collecting keras-nightly~=2.5.0.dev\n",
            "  Downloading keras_nightly-2.5.0.dev2021032900-py2.py3-none-any.whl (1.2 MB)\n",
            "\u001b[K     |████████████████████████████████| 1.2 MB 55.7 MB/s \n",
            "\u001b[?25hCollecting numpy~=1.19.2\n",
            "  Downloading numpy-1.19.5-cp37-cp37m-manylinux2010_x86_64.whl (14.8 MB)\n",
            "\u001b[K     |████████████████████████████████| 14.8 MB 54.0 MB/s \n",
            "\u001b[?25hRequirement already satisfied: six~=1.15.0 in /usr/local/lib/python3.7/dist-packages (from tensorflow==2.5) (1.15.0)\n",
            "Collecting absl-py~=0.10\n",
            "  Downloading absl_py-0.15.0-py3-none-any.whl (132 kB)\n",
            "\u001b[K     |████████████████████████████████| 132 kB 71.8 MB/s \n",
            "\u001b[?25hRequirement already satisfied: tensorboard~=2.5 in /usr/local/lib/python3.7/dist-packages (from tensorflow==2.5) (2.8.0)\n",
            "Requirement already satisfied: wheel~=0.35 in /usr/local/lib/python3.7/dist-packages (from tensorflow==2.5) (0.37.1)\n",
            "Collecting tensorflow-estimator<2.6.0,>=2.5.0rc0\n",
            "  Downloading tensorflow_estimator-2.5.0-py2.py3-none-any.whl (462 kB)\n",
            "\u001b[K     |████████████████████████████████| 462 kB 40.2 MB/s \n",
            "\u001b[?25hCollecting wrapt~=1.12.1\n",
            "  Downloading wrapt-1.12.1.tar.gz (27 kB)\n",
            "Requirement already satisfied: google-pasta~=0.2 in /usr/local/lib/python3.7/dist-packages (from tensorflow==2.5) (0.2.0)\n",
            "Collecting gast==0.4.0\n",
            "  Downloading gast-0.4.0-py3-none-any.whl (9.8 kB)\n",
            "Requirement already satisfied: opt-einsum~=3.3.0 in /usr/local/lib/python3.7/dist-packages (from tensorflow==2.5) (3.3.0)\n",
            "Collecting typing-extensions~=3.7.4\n",
            "  Downloading typing_extensions-3.7.4.3-py3-none-any.whl (22 kB)\n",
            "Collecting flatbuffers~=1.12.0\n",
            "  Downloading flatbuffers-1.12-py2.py3-none-any.whl (15 kB)\n",
            "Requirement already satisfied: termcolor~=1.1.0 in /usr/local/lib/python3.7/dist-packages (from tensorflow==2.5) (1.1.0)\n",
            "Collecting grpcio~=1.34.0\n",
            "  Downloading grpcio-1.34.1-cp37-cp37m-manylinux2014_x86_64.whl (4.0 MB)\n",
            "\u001b[K     |████████████████████████████████| 4.0 MB 43.4 MB/s \n",
            "\u001b[?25hRequirement already satisfied: keras-preprocessing~=1.1.2 in /usr/local/lib/python3.7/dist-packages (from tensorflow==2.5) (1.1.2)\n",
            "Requirement already satisfied: astunparse~=1.6.3 in /usr/local/lib/python3.7/dist-packages (from tensorflow==2.5) (1.6.3)\n",
            "Requirement already satisfied: cached-property in /usr/local/lib/python3.7/dist-packages (from h5py~=3.1.0->tensorflow==2.5) (1.5.2)\n",
            "Requirement already satisfied: requests<3,>=2.21.0 in /usr/local/lib/python3.7/dist-packages (from tensorboard~=2.5->tensorflow==2.5) (2.23.0)\n",
            "Requirement already satisfied: google-auth<3,>=1.6.3 in /usr/local/lib/python3.7/dist-packages (from tensorboard~=2.5->tensorflow==2.5) (1.35.0)\n",
            "Requirement already satisfied: tensorboard-plugin-wit>=1.6.0 in /usr/local/lib/python3.7/dist-packages (from tensorboard~=2.5->tensorflow==2.5) (1.8.1)\n",
            "Requirement already satisfied: tensorboard-data-server<0.7.0,>=0.6.0 in /usr/local/lib/python3.7/dist-packages (from tensorboard~=2.5->tensorflow==2.5) (0.6.1)\n",
            "Requirement already satisfied: setuptools>=41.0.0 in /usr/local/lib/python3.7/dist-packages (from tensorboard~=2.5->tensorflow==2.5) (57.4.0)\n",
            "Requirement already satisfied: werkzeug>=0.11.15 in /usr/local/lib/python3.7/dist-packages (from tensorboard~=2.5->tensorflow==2.5) (1.0.1)\n",
            "Requirement already satisfied: google-auth-oauthlib<0.5,>=0.4.1 in /usr/local/lib/python3.7/dist-packages (from tensorboard~=2.5->tensorflow==2.5) (0.4.6)\n",
            "Requirement already satisfied: markdown>=2.6.8 in /usr/local/lib/python3.7/dist-packages (from tensorboard~=2.5->tensorflow==2.5) (3.3.7)\n",
            "Requirement already satisfied: pyasn1-modules>=0.2.1 in /usr/local/lib/python3.7/dist-packages (from google-auth<3,>=1.6.3->tensorboard~=2.5->tensorflow==2.5) (0.2.8)\n",
            "Requirement already satisfied: cachetools<5.0,>=2.0.0 in /usr/local/lib/python3.7/dist-packages (from google-auth<3,>=1.6.3->tensorboard~=2.5->tensorflow==2.5) (4.2.4)\n",
            "Requirement already satisfied: rsa<5,>=3.1.4 in /usr/local/lib/python3.7/dist-packages (from google-auth<3,>=1.6.3->tensorboard~=2.5->tensorflow==2.5) (4.8)\n",
            "Requirement already satisfied: requests-oauthlib>=0.7.0 in /usr/local/lib/python3.7/dist-packages (from google-auth-oauthlib<0.5,>=0.4.1->tensorboard~=2.5->tensorflow==2.5) (1.3.1)\n",
            "Requirement already satisfied: importlib-metadata>=4.4 in /usr/local/lib/python3.7/dist-packages (from markdown>=2.6.8->tensorboard~=2.5->tensorflow==2.5) (4.11.4)\n",
            "Requirement already satisfied: zipp>=0.5 in /usr/local/lib/python3.7/dist-packages (from importlib-metadata>=4.4->markdown>=2.6.8->tensorboard~=2.5->tensorflow==2.5) (3.8.0)\n",
            "Requirement already satisfied: pyasn1<0.5.0,>=0.4.6 in /usr/local/lib/python3.7/dist-packages (from pyasn1-modules>=0.2.1->google-auth<3,>=1.6.3->tensorboard~=2.5->tensorflow==2.5) (0.4.8)\n",
            "Requirement already satisfied: chardet<4,>=3.0.2 in /usr/local/lib/python3.7/dist-packages (from requests<3,>=2.21.0->tensorboard~=2.5->tensorflow==2.5) (3.0.4)\n",
            "Requirement already satisfied: idna<3,>=2.5 in /usr/local/lib/python3.7/dist-packages (from requests<3,>=2.21.0->tensorboard~=2.5->tensorflow==2.5) (2.10)\n",
            "Requirement already satisfied: urllib3!=1.25.0,!=1.25.1,<1.26,>=1.21.1 in /usr/local/lib/python3.7/dist-packages (from requests<3,>=2.21.0->tensorboard~=2.5->tensorflow==2.5) (1.24.3)\n",
            "Requirement already satisfied: certifi>=2017.4.17 in /usr/local/lib/python3.7/dist-packages (from requests<3,>=2.21.0->tensorboard~=2.5->tensorflow==2.5) (2022.5.18.1)\n",
            "Requirement already satisfied: oauthlib>=3.0.0 in /usr/local/lib/python3.7/dist-packages (from requests-oauthlib>=0.7.0->google-auth-oauthlib<0.5,>=0.4.1->tensorboard~=2.5->tensorflow==2.5) (3.2.0)\n",
            "Building wheels for collected packages: wrapt\n",
            "  Building wheel for wrapt (setup.py) ... \u001b[?25l\u001b[?25hdone\n",
            "  Created wheel for wrapt: filename=wrapt-1.12.1-cp37-cp37m-linux_x86_64.whl size=68714 sha256=08e97d2bac0b487191173d857379a24c9a06b461c086cf4a752f303b019f972d\n",
            "  Stored in directory: /root/.cache/pip/wheels/62/76/4c/aa25851149f3f6d9785f6c869387ad82b3fd37582fa8147ac6\n",
            "Successfully built wrapt\n",
            "Installing collected packages: typing-extensions, numpy, grpcio, absl-py, wrapt, tensorflow-estimator, keras-nightly, gast, flatbuffers, tensorflow\n",
            "  Attempting uninstall: typing-extensions\n",
            "    Found existing installation: typing-extensions 4.2.0\n",
            "    Uninstalling typing-extensions-4.2.0:\n",
            "      Successfully uninstalled typing-extensions-4.2.0\n",
            "  Attempting uninstall: numpy\n",
            "    Found existing installation: numpy 1.21.6\n",
            "    Uninstalling numpy-1.21.6:\n",
            "      Successfully uninstalled numpy-1.21.6\n",
            "  Attempting uninstall: grpcio\n",
            "    Found existing installation: grpcio 1.46.3\n",
            "    Uninstalling grpcio-1.46.3:\n",
            "      Successfully uninstalled grpcio-1.46.3\n",
            "  Attempting uninstall: absl-py\n",
            "    Found existing installation: absl-py 1.0.0\n",
            "    Uninstalling absl-py-1.0.0:\n",
            "      Successfully uninstalled absl-py-1.0.0\n",
            "  Attempting uninstall: wrapt\n",
            "    Found existing installation: wrapt 1.14.1\n",
            "    Uninstalling wrapt-1.14.1:\n",
            "      Successfully uninstalled wrapt-1.14.1\n",
            "  Attempting uninstall: tensorflow-estimator\n",
            "    Found existing installation: tensorflow-estimator 2.8.0\n",
            "    Uninstalling tensorflow-estimator-2.8.0:\n",
            "      Successfully uninstalled tensorflow-estimator-2.8.0\n",
            "  Attempting uninstall: gast\n",
            "    Found existing installation: gast 0.5.3\n",
            "    Uninstalling gast-0.5.3:\n",
            "      Successfully uninstalled gast-0.5.3\n",
            "  Attempting uninstall: flatbuffers\n",
            "    Found existing installation: flatbuffers 2.0\n",
            "    Uninstalling flatbuffers-2.0:\n",
            "      Successfully uninstalled flatbuffers-2.0\n",
            "\u001b[31mERROR: pip's dependency resolver does not currently take into account all the packages that are installed. This behaviour is the source of the following dependency conflicts.\n",
            "xarray-einstats 0.2.2 requires numpy>=1.21, but you have numpy 1.19.5 which is incompatible.\n",
            "datascience 0.10.6 requires folium==0.2.1, but you have folium 0.8.3 which is incompatible.\n",
            "albumentations 0.1.12 requires imgaug<0.2.7,>=0.2.5, but you have imgaug 0.2.9 which is incompatible.\u001b[0m\n",
            "Successfully installed absl-py-0.15.0 flatbuffers-1.12 gast-0.4.0 grpcio-1.34.1 keras-nightly-2.5.0.dev2021032900 numpy-1.19.5 tensorflow-2.5.0 tensorflow-estimator-2.5.0 typing-extensions-3.7.4.3 wrapt-1.12.1\n"
          ]
        },
        {
          "output_type": "display_data",
          "data": {
            "application/vnd.colab-display-data+json": {
              "pip_warning": {
                "packages": [
                  "absl",
                  "flatbuffers",
                  "gast",
                  "grpc",
                  "keras",
                  "numpy",
                  "tensorflow",
                  "typing_extensions",
                  "wrapt"
                ]
              }
            }
          },
          "metadata": {}
        }
      ]
    },
    {
      "cell_type": "code",
      "execution_count": 3,
      "metadata": {
        "id": "aZH2DFmQywgK"
      },
      "outputs": [],
      "source": [
        "import numpy as np\n",
        "import pandas as pd\n",
        "from sklearn import preprocessing\n",
        "from sklearn.model_selection import train_test_split\n",
        "from sklearn.ensemble import RandomForestClassifier\n",
        "from sklearn.svm import SVC\n",
        "from sklearn.metrics import accuracy_score\n",
        "from sklearn.preprocessing import LabelEncoder\n",
        "from sklearn.preprocessing import StandardScaler\n",
        "import matplotlib.pyplot as plt\n",
        "import seaborn as sns\n",
        "import tensorflow as tf\n",
        "from tensorflow.keras import datasets, layers, models,Sequential"
      ]
    },
    {
      "cell_type": "markdown",
      "source": [
        "DataSet"
      ],
      "metadata": {
        "id": "4CyiQSKXTltP"
      }
    },
    {
      "cell_type": "code",
      "source": [
        "df =  pd.read_csv(\"https://raw.githubusercontent.com/Noob919/Feature_selection/main/Data/wine_dataset.csv\")"
      ],
      "metadata": {
        "id": "RsBhDNi-y9ys"
      },
      "execution_count": 4,
      "outputs": []
    },
    {
      "cell_type": "code",
      "source": [
        "df.head()"
      ],
      "metadata": {
        "colab": {
          "base_uri": "https://localhost:8080/",
          "height": 270
        },
        "id": "K2KpBtcPzAJ4",
        "outputId": "318684ac-8a56-4453-cb24-43d3fee1c733"
      },
      "execution_count": 5,
      "outputs": [
        {
          "output_type": "execute_result",
          "data": {
            "text/plain": [
              "   fixed_acidity  volatile_acidity  citric_acid  residual_sugar  chlorides  \\\n",
              "0            7.4              0.70         0.00             1.9      0.076   \n",
              "1            7.8              0.88         0.00             2.6      0.098   \n",
              "2            7.8              0.76         0.04             2.3      0.092   \n",
              "3           11.2              0.28         0.56             1.9      0.075   \n",
              "4            7.4              0.70         0.00             1.9      0.076   \n",
              "\n",
              "   free_sulfur_dioxide  total_sulfur_dioxide  density    pH  sulphates  \\\n",
              "0                 11.0                  34.0   0.9978  3.51       0.56   \n",
              "1                 25.0                  67.0   0.9968  3.20       0.68   \n",
              "2                 15.0                  54.0   0.9970  3.26       0.65   \n",
              "3                 17.0                  60.0   0.9980  3.16       0.58   \n",
              "4                 11.0                  34.0   0.9978  3.51       0.56   \n",
              "\n",
              "   alcohol  quality style  \n",
              "0      9.4        5   red  \n",
              "1      9.8        5   red  \n",
              "2      9.8        5   red  \n",
              "3      9.8        6   red  \n",
              "4      9.4        5   red  "
            ],
            "text/html": [
              "\n",
              "  <div id=\"df-815bcb80-1113-47fb-a7c8-308cf46ae7e5\">\n",
              "    <div class=\"colab-df-container\">\n",
              "      <div>\n",
              "<style scoped>\n",
              "    .dataframe tbody tr th:only-of-type {\n",
              "        vertical-align: middle;\n",
              "    }\n",
              "\n",
              "    .dataframe tbody tr th {\n",
              "        vertical-align: top;\n",
              "    }\n",
              "\n",
              "    .dataframe thead th {\n",
              "        text-align: right;\n",
              "    }\n",
              "</style>\n",
              "<table border=\"1\" class=\"dataframe\">\n",
              "  <thead>\n",
              "    <tr style=\"text-align: right;\">\n",
              "      <th></th>\n",
              "      <th>fixed_acidity</th>\n",
              "      <th>volatile_acidity</th>\n",
              "      <th>citric_acid</th>\n",
              "      <th>residual_sugar</th>\n",
              "      <th>chlorides</th>\n",
              "      <th>free_sulfur_dioxide</th>\n",
              "      <th>total_sulfur_dioxide</th>\n",
              "      <th>density</th>\n",
              "      <th>pH</th>\n",
              "      <th>sulphates</th>\n",
              "      <th>alcohol</th>\n",
              "      <th>quality</th>\n",
              "      <th>style</th>\n",
              "    </tr>\n",
              "  </thead>\n",
              "  <tbody>\n",
              "    <tr>\n",
              "      <th>0</th>\n",
              "      <td>7.4</td>\n",
              "      <td>0.70</td>\n",
              "      <td>0.00</td>\n",
              "      <td>1.9</td>\n",
              "      <td>0.076</td>\n",
              "      <td>11.0</td>\n",
              "      <td>34.0</td>\n",
              "      <td>0.9978</td>\n",
              "      <td>3.51</td>\n",
              "      <td>0.56</td>\n",
              "      <td>9.4</td>\n",
              "      <td>5</td>\n",
              "      <td>red</td>\n",
              "    </tr>\n",
              "    <tr>\n",
              "      <th>1</th>\n",
              "      <td>7.8</td>\n",
              "      <td>0.88</td>\n",
              "      <td>0.00</td>\n",
              "      <td>2.6</td>\n",
              "      <td>0.098</td>\n",
              "      <td>25.0</td>\n",
              "      <td>67.0</td>\n",
              "      <td>0.9968</td>\n",
              "      <td>3.20</td>\n",
              "      <td>0.68</td>\n",
              "      <td>9.8</td>\n",
              "      <td>5</td>\n",
              "      <td>red</td>\n",
              "    </tr>\n",
              "    <tr>\n",
              "      <th>2</th>\n",
              "      <td>7.8</td>\n",
              "      <td>0.76</td>\n",
              "      <td>0.04</td>\n",
              "      <td>2.3</td>\n",
              "      <td>0.092</td>\n",
              "      <td>15.0</td>\n",
              "      <td>54.0</td>\n",
              "      <td>0.9970</td>\n",
              "      <td>3.26</td>\n",
              "      <td>0.65</td>\n",
              "      <td>9.8</td>\n",
              "      <td>5</td>\n",
              "      <td>red</td>\n",
              "    </tr>\n",
              "    <tr>\n",
              "      <th>3</th>\n",
              "      <td>11.2</td>\n",
              "      <td>0.28</td>\n",
              "      <td>0.56</td>\n",
              "      <td>1.9</td>\n",
              "      <td>0.075</td>\n",
              "      <td>17.0</td>\n",
              "      <td>60.0</td>\n",
              "      <td>0.9980</td>\n",
              "      <td>3.16</td>\n",
              "      <td>0.58</td>\n",
              "      <td>9.8</td>\n",
              "      <td>6</td>\n",
              "      <td>red</td>\n",
              "    </tr>\n",
              "    <tr>\n",
              "      <th>4</th>\n",
              "      <td>7.4</td>\n",
              "      <td>0.70</td>\n",
              "      <td>0.00</td>\n",
              "      <td>1.9</td>\n",
              "      <td>0.076</td>\n",
              "      <td>11.0</td>\n",
              "      <td>34.0</td>\n",
              "      <td>0.9978</td>\n",
              "      <td>3.51</td>\n",
              "      <td>0.56</td>\n",
              "      <td>9.4</td>\n",
              "      <td>5</td>\n",
              "      <td>red</td>\n",
              "    </tr>\n",
              "  </tbody>\n",
              "</table>\n",
              "</div>\n",
              "      <button class=\"colab-df-convert\" onclick=\"convertToInteractive('df-815bcb80-1113-47fb-a7c8-308cf46ae7e5')\"\n",
              "              title=\"Convert this dataframe to an interactive table.\"\n",
              "              style=\"display:none;\">\n",
              "        \n",
              "  <svg xmlns=\"http://www.w3.org/2000/svg\" height=\"24px\"viewBox=\"0 0 24 24\"\n",
              "       width=\"24px\">\n",
              "    <path d=\"M0 0h24v24H0V0z\" fill=\"none\"/>\n",
              "    <path d=\"M18.56 5.44l.94 2.06.94-2.06 2.06-.94-2.06-.94-.94-2.06-.94 2.06-2.06.94zm-11 1L8.5 8.5l.94-2.06 2.06-.94-2.06-.94L8.5 2.5l-.94 2.06-2.06.94zm10 10l.94 2.06.94-2.06 2.06-.94-2.06-.94-.94-2.06-.94 2.06-2.06.94z\"/><path d=\"M17.41 7.96l-1.37-1.37c-.4-.4-.92-.59-1.43-.59-.52 0-1.04.2-1.43.59L10.3 9.45l-7.72 7.72c-.78.78-.78 2.05 0 2.83L4 21.41c.39.39.9.59 1.41.59.51 0 1.02-.2 1.41-.59l7.78-7.78 2.81-2.81c.8-.78.8-2.07 0-2.86zM5.41 20L4 18.59l7.72-7.72 1.47 1.35L5.41 20z\"/>\n",
              "  </svg>\n",
              "      </button>\n",
              "      \n",
              "  <style>\n",
              "    .colab-df-container {\n",
              "      display:flex;\n",
              "      flex-wrap:wrap;\n",
              "      gap: 12px;\n",
              "    }\n",
              "\n",
              "    .colab-df-convert {\n",
              "      background-color: #E8F0FE;\n",
              "      border: none;\n",
              "      border-radius: 50%;\n",
              "      cursor: pointer;\n",
              "      display: none;\n",
              "      fill: #1967D2;\n",
              "      height: 32px;\n",
              "      padding: 0 0 0 0;\n",
              "      width: 32px;\n",
              "    }\n",
              "\n",
              "    .colab-df-convert:hover {\n",
              "      background-color: #E2EBFA;\n",
              "      box-shadow: 0px 1px 2px rgba(60, 64, 67, 0.3), 0px 1px 3px 1px rgba(60, 64, 67, 0.15);\n",
              "      fill: #174EA6;\n",
              "    }\n",
              "\n",
              "    [theme=dark] .colab-df-convert {\n",
              "      background-color: #3B4455;\n",
              "      fill: #D2E3FC;\n",
              "    }\n",
              "\n",
              "    [theme=dark] .colab-df-convert:hover {\n",
              "      background-color: #434B5C;\n",
              "      box-shadow: 0px 1px 3px 1px rgba(0, 0, 0, 0.15);\n",
              "      filter: drop-shadow(0px 1px 2px rgba(0, 0, 0, 0.3));\n",
              "      fill: #FFFFFF;\n",
              "    }\n",
              "  </style>\n",
              "\n",
              "      <script>\n",
              "        const buttonEl =\n",
              "          document.querySelector('#df-815bcb80-1113-47fb-a7c8-308cf46ae7e5 button.colab-df-convert');\n",
              "        buttonEl.style.display =\n",
              "          google.colab.kernel.accessAllowed ? 'block' : 'none';\n",
              "\n",
              "        async function convertToInteractive(key) {\n",
              "          const element = document.querySelector('#df-815bcb80-1113-47fb-a7c8-308cf46ae7e5');\n",
              "          const dataTable =\n",
              "            await google.colab.kernel.invokeFunction('convertToInteractive',\n",
              "                                                     [key], {});\n",
              "          if (!dataTable) return;\n",
              "\n",
              "          const docLinkHtml = 'Like what you see? Visit the ' +\n",
              "            '<a target=\"_blank\" href=https://colab.research.google.com/notebooks/data_table.ipynb>data table notebook</a>'\n",
              "            + ' to learn more about interactive tables.';\n",
              "          element.innerHTML = '';\n",
              "          dataTable['output_type'] = 'display_data';\n",
              "          await google.colab.output.renderOutput(dataTable, element);\n",
              "          const docLink = document.createElement('div');\n",
              "          docLink.innerHTML = docLinkHtml;\n",
              "          element.appendChild(docLink);\n",
              "        }\n",
              "      </script>\n",
              "    </div>\n",
              "  </div>\n",
              "  "
            ]
          },
          "metadata": {},
          "execution_count": 5
        }
      ]
    },
    {
      "cell_type": "markdown",
      "source": [
        "Dataset according to Chi Square"
      ],
      "metadata": {
        "id": "KRcNEtHm0CaX"
      }
    },
    {
      "cell_type": "code",
      "source": [
        "rank1 = pd.read_excel(\"/content/Wine_dataset (1).xlsx\",sheet_name = \"Chi_2\").set_index('Attributes_Names')"
      ],
      "metadata": {
        "id": "oRKxY4BR1EE7"
      },
      "execution_count": 6,
      "outputs": []
    },
    {
      "cell_type": "code",
      "source": [
        "rank1[0:6].index"
      ],
      "metadata": {
        "colab": {
          "base_uri": "https://localhost:8080/"
        },
        "id": "oZLGlJWt1w3v",
        "outputId": "9a5ceb77-3a1b-4bce-f8e2-bb450153ea3b"
      },
      "execution_count": 7,
      "outputs": [
        {
          "output_type": "execute_result",
          "data": {
            "text/plain": [
              "Index(['total_sulfur_dioxide', 'free_sulfur_dioxide', 'residual_sugar',\n",
              "       'fixed_acidity', 'volatile_acidity', 'sulphates'],\n",
              "      dtype='object', name='Attributes_Names')"
            ]
          },
          "metadata": {},
          "execution_count": 7
        }
      ]
    },
    {
      "cell_type": "code",
      "source": [
        "df_chi = df[rank1.index[0:6]]\n",
        "df_chi.head(1)"
      ],
      "metadata": {
        "colab": {
          "base_uri": "https://localhost:8080/",
          "height": 81
        },
        "id": "tQAWK0hJ0CGU",
        "outputId": "41c01831-0e04-4a2e-f085-32e5cd76316b"
      },
      "execution_count": 8,
      "outputs": [
        {
          "output_type": "execute_result",
          "data": {
            "text/plain": [
              "   total_sulfur_dioxide  free_sulfur_dioxide  residual_sugar  fixed_acidity  \\\n",
              "0                  34.0                 11.0             1.9            7.4   \n",
              "\n",
              "   volatile_acidity  sulphates  \n",
              "0               0.7       0.56  "
            ],
            "text/html": [
              "\n",
              "  <div id=\"df-f26b255c-b9d0-4a37-8f07-6e9c4026c502\">\n",
              "    <div class=\"colab-df-container\">\n",
              "      <div>\n",
              "<style scoped>\n",
              "    .dataframe tbody tr th:only-of-type {\n",
              "        vertical-align: middle;\n",
              "    }\n",
              "\n",
              "    .dataframe tbody tr th {\n",
              "        vertical-align: top;\n",
              "    }\n",
              "\n",
              "    .dataframe thead th {\n",
              "        text-align: right;\n",
              "    }\n",
              "</style>\n",
              "<table border=\"1\" class=\"dataframe\">\n",
              "  <thead>\n",
              "    <tr style=\"text-align: right;\">\n",
              "      <th></th>\n",
              "      <th>total_sulfur_dioxide</th>\n",
              "      <th>free_sulfur_dioxide</th>\n",
              "      <th>residual_sugar</th>\n",
              "      <th>fixed_acidity</th>\n",
              "      <th>volatile_acidity</th>\n",
              "      <th>sulphates</th>\n",
              "    </tr>\n",
              "  </thead>\n",
              "  <tbody>\n",
              "    <tr>\n",
              "      <th>0</th>\n",
              "      <td>34.0</td>\n",
              "      <td>11.0</td>\n",
              "      <td>1.9</td>\n",
              "      <td>7.4</td>\n",
              "      <td>0.7</td>\n",
              "      <td>0.56</td>\n",
              "    </tr>\n",
              "  </tbody>\n",
              "</table>\n",
              "</div>\n",
              "      <button class=\"colab-df-convert\" onclick=\"convertToInteractive('df-f26b255c-b9d0-4a37-8f07-6e9c4026c502')\"\n",
              "              title=\"Convert this dataframe to an interactive table.\"\n",
              "              style=\"display:none;\">\n",
              "        \n",
              "  <svg xmlns=\"http://www.w3.org/2000/svg\" height=\"24px\"viewBox=\"0 0 24 24\"\n",
              "       width=\"24px\">\n",
              "    <path d=\"M0 0h24v24H0V0z\" fill=\"none\"/>\n",
              "    <path d=\"M18.56 5.44l.94 2.06.94-2.06 2.06-.94-2.06-.94-.94-2.06-.94 2.06-2.06.94zm-11 1L8.5 8.5l.94-2.06 2.06-.94-2.06-.94L8.5 2.5l-.94 2.06-2.06.94zm10 10l.94 2.06.94-2.06 2.06-.94-2.06-.94-.94-2.06-.94 2.06-2.06.94z\"/><path d=\"M17.41 7.96l-1.37-1.37c-.4-.4-.92-.59-1.43-.59-.52 0-1.04.2-1.43.59L10.3 9.45l-7.72 7.72c-.78.78-.78 2.05 0 2.83L4 21.41c.39.39.9.59 1.41.59.51 0 1.02-.2 1.41-.59l7.78-7.78 2.81-2.81c.8-.78.8-2.07 0-2.86zM5.41 20L4 18.59l7.72-7.72 1.47 1.35L5.41 20z\"/>\n",
              "  </svg>\n",
              "      </button>\n",
              "      \n",
              "  <style>\n",
              "    .colab-df-container {\n",
              "      display:flex;\n",
              "      flex-wrap:wrap;\n",
              "      gap: 12px;\n",
              "    }\n",
              "\n",
              "    .colab-df-convert {\n",
              "      background-color: #E8F0FE;\n",
              "      border: none;\n",
              "      border-radius: 50%;\n",
              "      cursor: pointer;\n",
              "      display: none;\n",
              "      fill: #1967D2;\n",
              "      height: 32px;\n",
              "      padding: 0 0 0 0;\n",
              "      width: 32px;\n",
              "    }\n",
              "\n",
              "    .colab-df-convert:hover {\n",
              "      background-color: #E2EBFA;\n",
              "      box-shadow: 0px 1px 2px rgba(60, 64, 67, 0.3), 0px 1px 3px 1px rgba(60, 64, 67, 0.15);\n",
              "      fill: #174EA6;\n",
              "    }\n",
              "\n",
              "    [theme=dark] .colab-df-convert {\n",
              "      background-color: #3B4455;\n",
              "      fill: #D2E3FC;\n",
              "    }\n",
              "\n",
              "    [theme=dark] .colab-df-convert:hover {\n",
              "      background-color: #434B5C;\n",
              "      box-shadow: 0px 1px 3px 1px rgba(0, 0, 0, 0.15);\n",
              "      filter: drop-shadow(0px 1px 2px rgba(0, 0, 0, 0.3));\n",
              "      fill: #FFFFFF;\n",
              "    }\n",
              "  </style>\n",
              "\n",
              "      <script>\n",
              "        const buttonEl =\n",
              "          document.querySelector('#df-f26b255c-b9d0-4a37-8f07-6e9c4026c502 button.colab-df-convert');\n",
              "        buttonEl.style.display =\n",
              "          google.colab.kernel.accessAllowed ? 'block' : 'none';\n",
              "\n",
              "        async function convertToInteractive(key) {\n",
              "          const element = document.querySelector('#df-f26b255c-b9d0-4a37-8f07-6e9c4026c502');\n",
              "          const dataTable =\n",
              "            await google.colab.kernel.invokeFunction('convertToInteractive',\n",
              "                                                     [key], {});\n",
              "          if (!dataTable) return;\n",
              "\n",
              "          const docLinkHtml = 'Like what you see? Visit the ' +\n",
              "            '<a target=\"_blank\" href=https://colab.research.google.com/notebooks/data_table.ipynb>data table notebook</a>'\n",
              "            + ' to learn more about interactive tables.';\n",
              "          element.innerHTML = '';\n",
              "          dataTable['output_type'] = 'display_data';\n",
              "          await google.colab.output.renderOutput(dataTable, element);\n",
              "          const docLink = document.createElement('div');\n",
              "          docLink.innerHTML = docLinkHtml;\n",
              "          element.appendChild(docLink);\n",
              "        }\n",
              "      </script>\n",
              "    </div>\n",
              "  </div>\n",
              "  "
            ]
          },
          "metadata": {},
          "execution_count": 8
        }
      ]
    },
    {
      "cell_type": "code",
      "source": [
        "X_col =  df_chi\n",
        "y = LabelEncoder().fit_transform(df['style'])\n",
        "Scaler = StandardScaler()\n",
        "X_col =  Scaler.fit_transform(X_col)\n",
        "X_train, X_test, y_train, y_test = train_test_split(X_col, y, test_size=0.2, random_state=0)\n",
        "print(\"Shape of training data\",X_train.shape)\n",
        "print(\"Shape of testing data\",X_test.shape)"
      ],
      "metadata": {
        "colab": {
          "base_uri": "https://localhost:8080/"
        },
        "id": "8iTQDs1ez57u",
        "outputId": "8a15cc2e-de7a-426c-91ea-eaf26b323cc8"
      },
      "execution_count": 9,
      "outputs": [
        {
          "output_type": "stream",
          "name": "stdout",
          "text": [
            "Shape of training data (5197, 6)\n",
            "Shape of testing data (1300, 6)\n"
          ]
        }
      ]
    },
    {
      "cell_type": "markdown",
      "source": [
        "Random Forest"
      ],
      "metadata": {
        "id": "jcOubLJT28Br"
      }
    },
    {
      "cell_type": "code",
      "source": [
        "rf =  RandomForestClassifier()\n",
        "rf.fit(X_train,y_train)\n",
        "y_pred_rf =  rf.predict(X_test)\n",
        "accuracy_score(y_test,y_pred_rf)"
      ],
      "metadata": {
        "colab": {
          "base_uri": "https://localhost:8080/"
        },
        "id": "93FbOKCf27du",
        "outputId": "105bcc44-6edf-41fa-d8c2-3dbde7589588"
      },
      "execution_count": 10,
      "outputs": [
        {
          "output_type": "execute_result",
          "data": {
            "text/plain": [
              "0.9830769230769231"
            ]
          },
          "metadata": {},
          "execution_count": 10
        }
      ]
    },
    {
      "cell_type": "markdown",
      "source": [
        "SVC"
      ],
      "metadata": {
        "id": "FS7JqIv16k5J"
      }
    },
    {
      "cell_type": "code",
      "source": [
        "svc =  SVC()\n",
        "svc.fit(X_test,y_test)\n",
        "y_pred_svc =  svc.predict(X_test)\n",
        "accuracy_score(y_test,y_pred_svc)"
      ],
      "metadata": {
        "colab": {
          "base_uri": "https://localhost:8080/"
        },
        "id": "znog7-1x6msl",
        "outputId": "4434cd6e-c924-4477-9480-5d4630b8ecda"
      },
      "execution_count": 11,
      "outputs": [
        {
          "output_type": "execute_result",
          "data": {
            "text/plain": [
              "0.9823076923076923"
            ]
          },
          "metadata": {},
          "execution_count": 11
        }
      ]
    },
    {
      "cell_type": "markdown",
      "source": [
        "ANN"
      ],
      "metadata": {
        "id": "V7NrR9Mt8Z-1"
      }
    },
    {
      "cell_type": "code",
      "source": [
        "model = tf.keras.Sequential([\n",
        "    tf.keras.layers.Dense(6, activation='relu', input_shape=(6,)),\n",
        "    tf.keras.layers.BatchNormalization(),\n",
        "    tf.keras.layers.Dense(12, activation='relu'),\n",
        "    tf.keras.layers.BatchNormalization(),\n",
        "    tf.keras.layers.Dense(24, activation='relu'),\n",
        "    tf.keras.layers.Dropout(0.5),\n",
        "    tf.keras.layers.Dense(1,activation='sigmoid')\n",
        "  ])"
      ],
      "metadata": {
        "id": "CFIXp4Km_ipJ"
      },
      "execution_count": 12,
      "outputs": []
    },
    {
      "cell_type": "code",
      "source": [
        "model.compile(loss='binary_crossentropy',\n",
        "              optimizer = 'adam',\n",
        "              metrics=['accuracy'])"
      ],
      "metadata": {
        "id": "sevzuPwS_mCo"
      },
      "execution_count": 13,
      "outputs": []
    },
    {
      "cell_type": "code",
      "source": [
        "model.summary()"
      ],
      "metadata": {
        "colab": {
          "base_uri": "https://localhost:8080/"
        },
        "id": "BOuf5fcl_pxo",
        "outputId": "c440a348-a366-4223-c4c7-e27c47da7f95"
      },
      "execution_count": 14,
      "outputs": [
        {
          "output_type": "stream",
          "name": "stdout",
          "text": [
            "Model: \"sequential\"\n",
            "_________________________________________________________________\n",
            "Layer (type)                 Output Shape              Param #   \n",
            "=================================================================\n",
            "dense (Dense)                (None, 6)                 42        \n",
            "_________________________________________________________________\n",
            "batch_normalization (BatchNo (None, 6)                 24        \n",
            "_________________________________________________________________\n",
            "dense_1 (Dense)              (None, 12)                84        \n",
            "_________________________________________________________________\n",
            "batch_normalization_1 (Batch (None, 12)                48        \n",
            "_________________________________________________________________\n",
            "dense_2 (Dense)              (None, 24)                312       \n",
            "_________________________________________________________________\n",
            "dropout (Dropout)            (None, 24)                0         \n",
            "_________________________________________________________________\n",
            "dense_3 (Dense)              (None, 1)                 25        \n",
            "=================================================================\n",
            "Total params: 535\n",
            "Trainable params: 499\n",
            "Non-trainable params: 36\n",
            "_________________________________________________________________\n"
          ]
        }
      ]
    },
    {
      "cell_type": "code",
      "source": [
        "h = model.fit(X_train,y_train,epochs=50,validation_data=(X_test,y_test))"
      ],
      "metadata": {
        "colab": {
          "base_uri": "https://localhost:8080/"
        },
        "id": "KAHzHibe_uD2",
        "outputId": "6b141f59-6df2-4cc9-f999-f36cd0ba585e"
      },
      "execution_count": 15,
      "outputs": [
        {
          "output_type": "stream",
          "name": "stdout",
          "text": [
            "Epoch 1/50\n",
            "163/163 [==============================] - 1s 3ms/step - loss: 0.4794 - accuracy: 0.7828 - val_loss: 0.2432 - val_accuracy: 0.9585\n",
            "Epoch 2/50\n",
            "163/163 [==============================] - 0s 2ms/step - loss: 0.1735 - accuracy: 0.9517 - val_loss: 0.0847 - val_accuracy: 0.9769\n",
            "Epoch 3/50\n",
            "163/163 [==============================] - 0s 2ms/step - loss: 0.1162 - accuracy: 0.9657 - val_loss: 0.0642 - val_accuracy: 0.9777\n",
            "Epoch 4/50\n",
            "163/163 [==============================] - 0s 2ms/step - loss: 0.1007 - accuracy: 0.9721 - val_loss: 0.0583 - val_accuracy: 0.9785\n",
            "Epoch 5/50\n",
            "163/163 [==============================] - 0s 2ms/step - loss: 0.0936 - accuracy: 0.9727 - val_loss: 0.0557 - val_accuracy: 0.9800\n",
            "Epoch 6/50\n",
            "163/163 [==============================] - 0s 2ms/step - loss: 0.0926 - accuracy: 0.9734 - val_loss: 0.0555 - val_accuracy: 0.9800\n",
            "Epoch 7/50\n",
            "163/163 [==============================] - 0s 2ms/step - loss: 0.0825 - accuracy: 0.9763 - val_loss: 0.0557 - val_accuracy: 0.9808\n",
            "Epoch 8/50\n",
            "163/163 [==============================] - 0s 2ms/step - loss: 0.0881 - accuracy: 0.9744 - val_loss: 0.0549 - val_accuracy: 0.9792\n",
            "Epoch 9/50\n",
            "163/163 [==============================] - 0s 2ms/step - loss: 0.0820 - accuracy: 0.9748 - val_loss: 0.0573 - val_accuracy: 0.9792\n",
            "Epoch 10/50\n",
            "163/163 [==============================] - 0s 2ms/step - loss: 0.0813 - accuracy: 0.9756 - val_loss: 0.0567 - val_accuracy: 0.9777\n",
            "Epoch 11/50\n",
            "163/163 [==============================] - 0s 2ms/step - loss: 0.0846 - accuracy: 0.9759 - val_loss: 0.0555 - val_accuracy: 0.9785\n",
            "Epoch 12/50\n",
            "163/163 [==============================] - 0s 2ms/step - loss: 0.0804 - accuracy: 0.9779 - val_loss: 0.0540 - val_accuracy: 0.9792\n",
            "Epoch 13/50\n",
            "163/163 [==============================] - 0s 2ms/step - loss: 0.0881 - accuracy: 0.9729 - val_loss: 0.0548 - val_accuracy: 0.9792\n",
            "Epoch 14/50\n",
            "163/163 [==============================] - 0s 2ms/step - loss: 0.0790 - accuracy: 0.9767 - val_loss: 0.0546 - val_accuracy: 0.9785\n",
            "Epoch 15/50\n",
            "163/163 [==============================] - 0s 2ms/step - loss: 0.0785 - accuracy: 0.9763 - val_loss: 0.0556 - val_accuracy: 0.9800\n",
            "Epoch 16/50\n",
            "163/163 [==============================] - 0s 2ms/step - loss: 0.0849 - accuracy: 0.9771 - val_loss: 0.0558 - val_accuracy: 0.9792\n",
            "Epoch 17/50\n",
            "163/163 [==============================] - 0s 2ms/step - loss: 0.0831 - accuracy: 0.9767 - val_loss: 0.0547 - val_accuracy: 0.9785\n",
            "Epoch 18/50\n",
            "163/163 [==============================] - 0s 2ms/step - loss: 0.0746 - accuracy: 0.9796 - val_loss: 0.0541 - val_accuracy: 0.9792\n",
            "Epoch 19/50\n",
            "163/163 [==============================] - 0s 2ms/step - loss: 0.0853 - accuracy: 0.9773 - val_loss: 0.0537 - val_accuracy: 0.9785\n",
            "Epoch 20/50\n",
            "163/163 [==============================] - 0s 2ms/step - loss: 0.0785 - accuracy: 0.9761 - val_loss: 0.0562 - val_accuracy: 0.9762\n",
            "Epoch 21/50\n",
            "163/163 [==============================] - 0s 2ms/step - loss: 0.0762 - accuracy: 0.9796 - val_loss: 0.0547 - val_accuracy: 0.9777\n",
            "Epoch 22/50\n",
            "163/163 [==============================] - 0s 2ms/step - loss: 0.0798 - accuracy: 0.9802 - val_loss: 0.0575 - val_accuracy: 0.9769\n",
            "Epoch 23/50\n",
            "163/163 [==============================] - 0s 2ms/step - loss: 0.0858 - accuracy: 0.9738 - val_loss: 0.0559 - val_accuracy: 0.9769\n",
            "Epoch 24/50\n",
            "163/163 [==============================] - 0s 2ms/step - loss: 0.0726 - accuracy: 0.9798 - val_loss: 0.0570 - val_accuracy: 0.9754\n",
            "Epoch 25/50\n",
            "163/163 [==============================] - 0s 2ms/step - loss: 0.0708 - accuracy: 0.9790 - val_loss: 0.0570 - val_accuracy: 0.9762\n",
            "Epoch 26/50\n",
            "163/163 [==============================] - 0s 2ms/step - loss: 0.0751 - accuracy: 0.9773 - val_loss: 0.0557 - val_accuracy: 0.9777\n",
            "Epoch 27/50\n",
            "163/163 [==============================] - 0s 2ms/step - loss: 0.0797 - accuracy: 0.9765 - val_loss: 0.0555 - val_accuracy: 0.9754\n",
            "Epoch 28/50\n",
            "163/163 [==============================] - 0s 2ms/step - loss: 0.0772 - accuracy: 0.9798 - val_loss: 0.0554 - val_accuracy: 0.9769\n",
            "Epoch 29/50\n",
            "163/163 [==============================] - 0s 2ms/step - loss: 0.0643 - accuracy: 0.9798 - val_loss: 0.0553 - val_accuracy: 0.9777\n",
            "Epoch 30/50\n",
            "163/163 [==============================] - 0s 2ms/step - loss: 0.0710 - accuracy: 0.9804 - val_loss: 0.0550 - val_accuracy: 0.9785\n",
            "Epoch 31/50\n",
            "163/163 [==============================] - 0s 2ms/step - loss: 0.0717 - accuracy: 0.9788 - val_loss: 0.0562 - val_accuracy: 0.9777\n",
            "Epoch 32/50\n",
            "163/163 [==============================] - 0s 2ms/step - loss: 0.0740 - accuracy: 0.9779 - val_loss: 0.0563 - val_accuracy: 0.9769\n",
            "Epoch 33/50\n",
            "163/163 [==============================] - 0s 2ms/step - loss: 0.0702 - accuracy: 0.9775 - val_loss: 0.0565 - val_accuracy: 0.9754\n",
            "Epoch 34/50\n",
            "163/163 [==============================] - 0s 2ms/step - loss: 0.0695 - accuracy: 0.9786 - val_loss: 0.0577 - val_accuracy: 0.9754\n",
            "Epoch 35/50\n",
            "163/163 [==============================] - 0s 2ms/step - loss: 0.0697 - accuracy: 0.9788 - val_loss: 0.0566 - val_accuracy: 0.9754\n",
            "Epoch 36/50\n",
            "163/163 [==============================] - 0s 2ms/step - loss: 0.0712 - accuracy: 0.9786 - val_loss: 0.0557 - val_accuracy: 0.9754\n",
            "Epoch 37/50\n",
            "163/163 [==============================] - 0s 2ms/step - loss: 0.0699 - accuracy: 0.9796 - val_loss: 0.0574 - val_accuracy: 0.9754\n",
            "Epoch 38/50\n",
            "163/163 [==============================] - 0s 2ms/step - loss: 0.0722 - accuracy: 0.9800 - val_loss: 0.0585 - val_accuracy: 0.9762\n",
            "Epoch 39/50\n",
            "163/163 [==============================] - 0s 2ms/step - loss: 0.0657 - accuracy: 0.9792 - val_loss: 0.0583 - val_accuracy: 0.9769\n",
            "Epoch 40/50\n",
            "163/163 [==============================] - 0s 2ms/step - loss: 0.0713 - accuracy: 0.9794 - val_loss: 0.0577 - val_accuracy: 0.9754\n",
            "Epoch 41/50\n",
            "163/163 [==============================] - 0s 2ms/step - loss: 0.0675 - accuracy: 0.9813 - val_loss: 0.0604 - val_accuracy: 0.9754\n",
            "Epoch 42/50\n",
            "163/163 [==============================] - 0s 2ms/step - loss: 0.0629 - accuracy: 0.9808 - val_loss: 0.0578 - val_accuracy: 0.9762\n",
            "Epoch 43/50\n",
            "163/163 [==============================] - 0s 2ms/step - loss: 0.0647 - accuracy: 0.9829 - val_loss: 0.0558 - val_accuracy: 0.9762\n",
            "Epoch 44/50\n",
            "163/163 [==============================] - 0s 2ms/step - loss: 0.0669 - accuracy: 0.9825 - val_loss: 0.0596 - val_accuracy: 0.9754\n",
            "Epoch 45/50\n",
            "163/163 [==============================] - 0s 2ms/step - loss: 0.0644 - accuracy: 0.9817 - val_loss: 0.0568 - val_accuracy: 0.9769\n",
            "Epoch 46/50\n",
            "163/163 [==============================] - 0s 2ms/step - loss: 0.0635 - accuracy: 0.9806 - val_loss: 0.0561 - val_accuracy: 0.9754\n",
            "Epoch 47/50\n",
            "163/163 [==============================] - 0s 2ms/step - loss: 0.0664 - accuracy: 0.9821 - val_loss: 0.0557 - val_accuracy: 0.9792\n",
            "Epoch 48/50\n",
            "163/163 [==============================] - 0s 2ms/step - loss: 0.0680 - accuracy: 0.9823 - val_loss: 0.0560 - val_accuracy: 0.9777\n",
            "Epoch 49/50\n",
            "163/163 [==============================] - 0s 2ms/step - loss: 0.0656 - accuracy: 0.9823 - val_loss: 0.0564 - val_accuracy: 0.9746\n",
            "Epoch 50/50\n",
            "163/163 [==============================] - 0s 2ms/step - loss: 0.0673 - accuracy: 0.9802 - val_loss: 0.0550 - val_accuracy: 0.9777\n"
          ]
        }
      ]
    },
    {
      "cell_type": "code",
      "source": [
        "plt.plot(h.history['accuracy'], label = 'Accuracy for Train set')\n",
        "plt.plot(h.history['val_accuracy'], label = 'Accuracy for Test Set')\n",
        "plt.title('Accuracy Graph for ANN')\n",
        "plt.ylabel('Accuracy')\n",
        "plt.xlabel('epochs')\n",
        "plt.legend()"
      ],
      "metadata": {
        "colab": {
          "base_uri": "https://localhost:8080/",
          "height": 312
        },
        "id": "fmlTroGp9UxC",
        "outputId": "c581df4b-5d8e-43cb-9849-58851f93f540"
      },
      "execution_count": 16,
      "outputs": [
        {
          "output_type": "execute_result",
          "data": {
            "text/plain": [
              "<matplotlib.legend.Legend at 0x7f10653dfe90>"
            ]
          },
          "metadata": {},
          "execution_count": 16
        },
        {
          "output_type": "display_data",
          "data": {
            "text/plain": [
              "<Figure size 432x288 with 1 Axes>"
            ],
            "image/png": "[encoded data removed]"
          },
          "metadata": {
            "needs_background": "light"
          }
        }
      ]
    },
    {
      "cell_type": "code",
      "source": [
        "plt.plot(h.history['loss'], label = 'loss for Train set')\n",
        "plt.plot(h.history['val_loss'], label = 'loss for Test Set')\n",
        "plt.title('loss Graph for ANN')\n",
        "plt.ylabel('loss')\n",
        "plt.xlabel('epochs')\n",
        "plt.legend()"
      ],
      "metadata": {
        "colab": {
          "base_uri": "https://localhost:8080/",
          "height": 312
        },
        "id": "1KmSP-VgAphj",
        "outputId": "e16eedac-2769-4347-950c-4084878979fa"
      },
      "execution_count": 17,
      "outputs": [
        {
          "output_type": "execute_result",
          "data": {
            "text/plain": [
              "<matplotlib.legend.Legend at 0x7f1065305f90>"
            ]
          },
          "metadata": {},
          "execution_count": 17
        },
        {
          "output_type": "display_data",
          "data": {
            "text/plain": [
              "<Figure size 432x288 with 1 Axes>"
            ],
            "image/png": "[encoded data removed]"
          },
          "metadata": {
            "needs_background": "light"
          }
        }
      ]
    },
    {
      "cell_type": "code",
      "source": [
        "y_pred_ann = model.predict_classes(X_test)"
      ],
      "metadata": {
        "colab": {
          "base_uri": "https://localhost:8080/"
        },
        "id": "RE7dkYQNA4Vk",
        "outputId": "ae69b3ca-ff89-40c8-cca4-e637a10e68b7"
      },
      "execution_count": 18,
      "outputs": [
        {
          "output_type": "stream",
          "name": "stderr",
          "text": [
            "/usr/local/lib/python3.7/dist-packages/tensorflow/python/keras/engine/sequential.py:455: UserWarning: `model.predict_classes()` is deprecated and will be removed after 2021-01-01. Please use instead:* `np.argmax(model.predict(x), axis=-1)`,   if your model does multi-class classification   (e.g. if it uses a `softmax` last-layer activation).* `(model.predict(x) > 0.5).astype(\"int32\")`,   if your model does binary classification   (e.g. if it uses a `sigmoid` last-layer activation).\n",
            "  warnings.warn('`model.predict_classes()` is deprecated and '\n"
          ]
        }
      ]
    },
    {
      "cell_type": "code",
      "source": [
        "accuracy_score(y_test,y_pred_ann)"
      ],
      "metadata": {
        "colab": {
          "base_uri": "https://localhost:8080/"
        },
        "id": "nIkG8R1BBAgY",
        "outputId": "f8e64987-aa16-4147-a847-38d50ae59c83"
      },
      "execution_count": 19,
      "outputs": [
        {
          "output_type": "execute_result",
          "data": {
            "text/plain": [
              "0.9776923076923076"
            ]
          },
          "metadata": {},
          "execution_count": 19
        }
      ]
    },
    {
      "cell_type": "markdown",
      "source": [
        "Tree Method"
      ],
      "metadata": {
        "id": "hTcBOcOZHKCM"
      }
    },
    {
      "cell_type": "markdown",
      "source": [
        "DataSet according to tree method"
      ],
      "metadata": {
        "id": "w_1OOKZUTsgZ"
      }
    },
    {
      "cell_type": "code",
      "source": [
        "rank2  = pd.read_excel(\"/content/Wine_dataset (1).xlsx\",sheet_name = \"Tree_based_method\").set_index('Attributes_Names')"
      ],
      "metadata": {
        "id": "7mL3s2vbHLrk"
      },
      "execution_count": 31,
      "outputs": []
    },
    {
      "cell_type": "code",
      "source": [
        "df_tree = df[rank2[0:6].index]"
      ],
      "metadata": {
        "id": "Kth7692LHNaj"
      },
      "execution_count": 36,
      "outputs": []
    },
    {
      "cell_type": "code",
      "source": [
        "X_col =  df_tree\n",
        "y = LabelEncoder().fit_transform(df['style'])\n",
        "Scaler = StandardScaler()\n",
        "X_col =  Scaler.fit_transform(X_col)\n",
        "X_train, X_test, y_train, y_test = train_test_split(X_col, y, test_size=0.2, random_state=0)\n",
        "print(\"Shape of training data\",X_train.shape)\n",
        "print(\"Shape of testing data\",X_test.shape)"
      ],
      "metadata": {
        "colab": {
          "base_uri": "https://localhost:8080/"
        },
        "id": "BlhCLvNrLOJI",
        "outputId": "1ab7a426-49b4-4514-cb44-4d81dd419e51"
      },
      "execution_count": 37,
      "outputs": [
        {
          "output_type": "stream",
          "name": "stdout",
          "text": [
            "Shape of training data (5197, 6)\n",
            "Shape of testing data (1300, 6)\n"
          ]
        }
      ]
    },
    {
      "cell_type": "markdown",
      "source": [
        "Random Forest"
      ],
      "metadata": {
        "id": "Uh06f1gsTxuK"
      }
    },
    {
      "cell_type": "code",
      "source": [
        "rf =  RandomForestClassifier()\n",
        "rf.fit(X_train,y_train)\n",
        "y_pred_rf =  rf.predict(X_test)\n",
        "accuracy_score(y_test,y_pred_rf)"
      ],
      "metadata": {
        "colab": {
          "base_uri": "https://localhost:8080/"
        },
        "id": "_lpCq5I-LOEI",
        "outputId": "0a5fbcf9-b57b-4d4a-ccf8-f63f906941c7"
      },
      "execution_count": 38,
      "outputs": [
        {
          "output_type": "execute_result",
          "data": {
            "text/plain": [
              "0.9907692307692307"
            ]
          },
          "metadata": {},
          "execution_count": 38
        }
      ]
    },
    {
      "cell_type": "markdown",
      "source": [
        "SVM"
      ],
      "metadata": {
        "id": "3YWutErKT0K7"
      }
    },
    {
      "cell_type": "code",
      "source": [
        "svc =  SVC()\n",
        "svc.fit(X_test,y_test)\n",
        "y_pred_svc =  svc.predict(X_test)\n",
        "accuracy_score(y_test,y_pred_svc)"
      ],
      "metadata": {
        "colab": {
          "base_uri": "https://localhost:8080/"
        },
        "id": "icuiySSzLOBh",
        "outputId": "5fcc68c1-c88a-4c91-a081-9a0ce8058f91"
      },
      "execution_count": 39,
      "outputs": [
        {
          "output_type": "execute_result",
          "data": {
            "text/plain": [
              "0.9938461538461538"
            ]
          },
          "metadata": {},
          "execution_count": 39
        }
      ]
    },
    {
      "cell_type": "markdown",
      "source": [
        "ANN"
      ],
      "metadata": {
        "id": "_Xqn8SAXT13J"
      }
    },
    {
      "cell_type": "code",
      "source": [
        "model = tf.keras.Sequential([\n",
        "    tf.keras.layers.Dense(6, activation='relu', input_shape=(6,)),\n",
        "    tf.keras.layers.BatchNormalization(),\n",
        "    tf.keras.layers.Dense(12, activation='relu'),\n",
        "    tf.keras.layers.BatchNormalization(),\n",
        "    tf.keras.layers.Dense(24, activation='relu'),\n",
        "    tf.keras.layers.Dropout(0.5),\n",
        "    tf.keras.layers.Dense(1,activation='sigmoid')\n",
        "  ])"
      ],
      "metadata": {
        "id": "1VmmLT2ZLN_S"
      },
      "execution_count": 40,
      "outputs": []
    },
    {
      "cell_type": "code",
      "source": [
        "model.compile(loss='binary_crossentropy',\n",
        "              optimizer = 'adam',\n",
        "              metrics=['accuracy'])\n",
        "model.summary()"
      ],
      "metadata": {
        "colab": {
          "base_uri": "https://localhost:8080/"
        },
        "id": "UbqCIKRELN8g",
        "outputId": "ee3895d8-32d3-4568-98f3-e868f0ddbd6b"
      },
      "execution_count": 41,
      "outputs": [
        {
          "output_type": "stream",
          "name": "stdout",
          "text": [
            "Model: \"sequential_3\"\n",
            "_________________________________________________________________\n",
            "Layer (type)                 Output Shape              Param #   \n",
            "=================================================================\n",
            "dense_12 (Dense)             (None, 6)                 42        \n",
            "_________________________________________________________________\n",
            "batch_normalization_6 (Batch (None, 6)                 24        \n",
            "_________________________________________________________________\n",
            "dense_13 (Dense)             (None, 12)                84        \n",
            "_________________________________________________________________\n",
            "batch_normalization_7 (Batch (None, 12)                48        \n",
            "_________________________________________________________________\n",
            "dense_14 (Dense)             (None, 24)                312       \n",
            "_________________________________________________________________\n",
            "dropout_3 (Dropout)          (None, 24)                0         \n",
            "_________________________________________________________________\n",
            "dense_15 (Dense)             (None, 1)                 25        \n",
            "=================================================================\n",
            "Total params: 535\n",
            "Trainable params: 499\n",
            "Non-trainable params: 36\n",
            "_________________________________________________________________\n"
          ]
        }
      ]
    },
    {
      "cell_type": "code",
      "source": [
        "h = model.fit(X_train,y_train,epochs=50,validation_data=(X_test,y_test))"
      ],
      "metadata": {
        "colab": {
          "base_uri": "https://localhost:8080/"
        },
        "id": "urYy2LzCLN6i",
        "outputId": "e01bb14c-0660-43a8-816f-8adcdf64c1ec"
      },
      "execution_count": 42,
      "outputs": [
        {
          "output_type": "stream",
          "name": "stdout",
          "text": [
            "Epoch 1/50\n",
            "163/163 [==============================] - 3s 6ms/step - loss: 0.4785 - accuracy: 0.7851 - val_loss: 0.3104 - val_accuracy: 0.9554\n",
            "Epoch 2/50\n",
            "163/163 [==============================] - 0s 3ms/step - loss: 0.1871 - accuracy: 0.9469 - val_loss: 0.0822 - val_accuracy: 0.9785\n",
            "Epoch 3/50\n",
            "163/163 [==============================] - 0s 3ms/step - loss: 0.1096 - accuracy: 0.9686 - val_loss: 0.0441 - val_accuracy: 0.9877\n",
            "Epoch 4/50\n",
            "163/163 [==============================] - 1s 3ms/step - loss: 0.0891 - accuracy: 0.9750 - val_loss: 0.0324 - val_accuracy: 0.9862\n",
            "Epoch 5/50\n",
            "163/163 [==============================] - 1s 4ms/step - loss: 0.0775 - accuracy: 0.9788 - val_loss: 0.0290 - val_accuracy: 0.9885\n",
            "Epoch 6/50\n",
            "163/163 [==============================] - 1s 4ms/step - loss: 0.0653 - accuracy: 0.9835 - val_loss: 0.0272 - val_accuracy: 0.9877\n",
            "Epoch 7/50\n",
            "163/163 [==============================] - 0s 3ms/step - loss: 0.0632 - accuracy: 0.9854 - val_loss: 0.0267 - val_accuracy: 0.9908\n",
            "Epoch 8/50\n",
            "163/163 [==============================] - 0s 3ms/step - loss: 0.0583 - accuracy: 0.9871 - val_loss: 0.0261 - val_accuracy: 0.9908\n",
            "Epoch 9/50\n",
            "163/163 [==============================] - 0s 2ms/step - loss: 0.0632 - accuracy: 0.9873 - val_loss: 0.0254 - val_accuracy: 0.9908\n",
            "Epoch 10/50\n",
            "163/163 [==============================] - 0s 2ms/step - loss: 0.0625 - accuracy: 0.9863 - val_loss: 0.0264 - val_accuracy: 0.9892\n",
            "Epoch 11/50\n",
            "163/163 [==============================] - 0s 2ms/step - loss: 0.0501 - accuracy: 0.9869 - val_loss: 0.0263 - val_accuracy: 0.9915\n",
            "Epoch 12/50\n",
            "163/163 [==============================] - 0s 2ms/step - loss: 0.0458 - accuracy: 0.9894 - val_loss: 0.0271 - val_accuracy: 0.9915\n",
            "Epoch 13/50\n",
            "163/163 [==============================] - 0s 2ms/step - loss: 0.0562 - accuracy: 0.9877 - val_loss: 0.0246 - val_accuracy: 0.9931\n",
            "Epoch 14/50\n",
            "163/163 [==============================] - 0s 2ms/step - loss: 0.0464 - accuracy: 0.9892 - val_loss: 0.0248 - val_accuracy: 0.9915\n",
            "Epoch 15/50\n",
            "163/163 [==============================] - 0s 2ms/step - loss: 0.0548 - accuracy: 0.9879 - val_loss: 0.0243 - val_accuracy: 0.9931\n",
            "Epoch 16/50\n",
            "163/163 [==============================] - 0s 2ms/step - loss: 0.0515 - accuracy: 0.9890 - val_loss: 0.0240 - val_accuracy: 0.9946\n",
            "Epoch 17/50\n",
            "163/163 [==============================] - 0s 2ms/step - loss: 0.0488 - accuracy: 0.9892 - val_loss: 0.0221 - val_accuracy: 0.9946\n",
            "Epoch 18/50\n",
            "163/163 [==============================] - 0s 2ms/step - loss: 0.0454 - accuracy: 0.9902 - val_loss: 0.0220 - val_accuracy: 0.9946\n",
            "Epoch 19/50\n",
            "163/163 [==============================] - 0s 2ms/step - loss: 0.0499 - accuracy: 0.9896 - val_loss: 0.0214 - val_accuracy: 0.9946\n",
            "Epoch 20/50\n",
            "163/163 [==============================] - 0s 2ms/step - loss: 0.0468 - accuracy: 0.9910 - val_loss: 0.0237 - val_accuracy: 0.9931\n",
            "Epoch 21/50\n",
            "163/163 [==============================] - 0s 2ms/step - loss: 0.0456 - accuracy: 0.9900 - val_loss: 0.0215 - val_accuracy: 0.9938\n",
            "Epoch 22/50\n",
            "163/163 [==============================] - 0s 2ms/step - loss: 0.0416 - accuracy: 0.9908 - val_loss: 0.0227 - val_accuracy: 0.9938\n",
            "Epoch 23/50\n",
            "163/163 [==============================] - 0s 2ms/step - loss: 0.0438 - accuracy: 0.9906 - val_loss: 0.0237 - val_accuracy: 0.9931\n",
            "Epoch 24/50\n",
            "163/163 [==============================] - 0s 2ms/step - loss: 0.0421 - accuracy: 0.9910 - val_loss: 0.0218 - val_accuracy: 0.9938\n",
            "Epoch 25/50\n",
            "163/163 [==============================] - 0s 2ms/step - loss: 0.0396 - accuracy: 0.9913 - val_loss: 0.0245 - val_accuracy: 0.9931\n",
            "Epoch 26/50\n",
            "163/163 [==============================] - 0s 2ms/step - loss: 0.0393 - accuracy: 0.9902 - val_loss: 0.0239 - val_accuracy: 0.9931\n",
            "Epoch 27/50\n",
            "163/163 [==============================] - 0s 2ms/step - loss: 0.0405 - accuracy: 0.9911 - val_loss: 0.0220 - val_accuracy: 0.9931\n",
            "Epoch 28/50\n",
            "163/163 [==============================] - 0s 2ms/step - loss: 0.0434 - accuracy: 0.9911 - val_loss: 0.0228 - val_accuracy: 0.9931\n",
            "Epoch 29/50\n",
            "163/163 [==============================] - 0s 2ms/step - loss: 0.0416 - accuracy: 0.9910 - val_loss: 0.0238 - val_accuracy: 0.9931\n",
            "Epoch 30/50\n",
            "163/163 [==============================] - 0s 2ms/step - loss: 0.0419 - accuracy: 0.9908 - val_loss: 0.0217 - val_accuracy: 0.9931\n",
            "Epoch 31/50\n",
            "163/163 [==============================] - 0s 2ms/step - loss: 0.0358 - accuracy: 0.9913 - val_loss: 0.0209 - val_accuracy: 0.9946\n",
            "Epoch 32/50\n",
            "163/163 [==============================] - 0s 2ms/step - loss: 0.0326 - accuracy: 0.9919 - val_loss: 0.0221 - val_accuracy: 0.9931\n",
            "Epoch 33/50\n",
            "163/163 [==============================] - 0s 2ms/step - loss: 0.0419 - accuracy: 0.9915 - val_loss: 0.0221 - val_accuracy: 0.9931\n",
            "Epoch 34/50\n",
            "163/163 [==============================] - 0s 2ms/step - loss: 0.0357 - accuracy: 0.9921 - val_loss: 0.0233 - val_accuracy: 0.9946\n",
            "Epoch 35/50\n",
            "163/163 [==============================] - 0s 2ms/step - loss: 0.0376 - accuracy: 0.9915 - val_loss: 0.0229 - val_accuracy: 0.9954\n",
            "Epoch 36/50\n",
            "163/163 [==============================] - 0s 2ms/step - loss: 0.0409 - accuracy: 0.9904 - val_loss: 0.0247 - val_accuracy: 0.9938\n",
            "Epoch 37/50\n",
            "163/163 [==============================] - 0s 2ms/step - loss: 0.0337 - accuracy: 0.9931 - val_loss: 0.0243 - val_accuracy: 0.9938\n",
            "Epoch 38/50\n",
            "163/163 [==============================] - 0s 2ms/step - loss: 0.0350 - accuracy: 0.9919 - val_loss: 0.0296 - val_accuracy: 0.9931\n",
            "Epoch 39/50\n",
            "163/163 [==============================] - 0s 2ms/step - loss: 0.0348 - accuracy: 0.9906 - val_loss: 0.0367 - val_accuracy: 0.9915\n",
            "Epoch 40/50\n",
            "163/163 [==============================] - 0s 2ms/step - loss: 0.0406 - accuracy: 0.9910 - val_loss: 0.0264 - val_accuracy: 0.9946\n",
            "Epoch 41/50\n",
            "163/163 [==============================] - 0s 2ms/step - loss: 0.0368 - accuracy: 0.9908 - val_loss: 0.0279 - val_accuracy: 0.9931\n",
            "Epoch 42/50\n",
            "163/163 [==============================] - 0s 2ms/step - loss: 0.0352 - accuracy: 0.9913 - val_loss: 0.0262 - val_accuracy: 0.9938\n",
            "Epoch 43/50\n",
            "163/163 [==============================] - 0s 2ms/step - loss: 0.0343 - accuracy: 0.9923 - val_loss: 0.0256 - val_accuracy: 0.9946\n",
            "Epoch 44/50\n",
            "163/163 [==============================] - 0s 2ms/step - loss: 0.0362 - accuracy: 0.9933 - val_loss: 0.0270 - val_accuracy: 0.9938\n",
            "Epoch 45/50\n",
            "163/163 [==============================] - 0s 2ms/step - loss: 0.0342 - accuracy: 0.9919 - val_loss: 0.0277 - val_accuracy: 0.9946\n",
            "Epoch 46/50\n",
            "163/163 [==============================] - 0s 2ms/step - loss: 0.0299 - accuracy: 0.9919 - val_loss: 0.0297 - val_accuracy: 0.9938\n",
            "Epoch 47/50\n",
            "163/163 [==============================] - 0s 2ms/step - loss: 0.0386 - accuracy: 0.9915 - val_loss: 0.0280 - val_accuracy: 0.9954\n",
            "Epoch 48/50\n",
            "163/163 [==============================] - 0s 2ms/step - loss: 0.0284 - accuracy: 0.9931 - val_loss: 0.0294 - val_accuracy: 0.9938\n",
            "Epoch 49/50\n",
            "163/163 [==============================] - 0s 2ms/step - loss: 0.0324 - accuracy: 0.9911 - val_loss: 0.0290 - val_accuracy: 0.9954\n",
            "Epoch 50/50\n",
            "163/163 [==============================] - 0s 2ms/step - loss: 0.0301 - accuracy: 0.9923 - val_loss: 0.0306 - val_accuracy: 0.9931\n"
          ]
        }
      ]
    },
    {
      "cell_type": "code",
      "source": [
        "plt.plot(h.history['accuracy'], label = 'Accuracy for Train set')\n",
        "plt.plot(h.history['val_accuracy'], label = 'Accuracy for Test Set')\n",
        "plt.title('Accuracy Graph for ANN')\n",
        "plt.ylabel('Accuracy')\n",
        "plt.xlabel('epochs')\n",
        "plt.legend()"
      ],
      "metadata": {
        "colab": {
          "base_uri": "https://localhost:8080/",
          "height": 312
        },
        "id": "r4LEaUzhLN3y",
        "outputId": "9b41e0a2-c8ba-4d28-8462-5cb914764d09"
      },
      "execution_count": 43,
      "outputs": [
        {
          "output_type": "execute_result",
          "data": {
            "text/plain": [
              "<matplotlib.legend.Legend at 0x7f10683e5950>"
            ]
          },
          "metadata": {},
          "execution_count": 43
        },
        {
          "output_type": "display_data",
          "data": {
            "text/plain": [
              "<Figure size 432x288 with 1 Axes>"
            ],
            "image/png": "[encoded data removed]"
          },
          "metadata": {
            "needs_background": "light"
          }
        }
      ]
    },
    {
      "cell_type": "code",
      "source": [
        "plt.plot(h.history['loss'], label = 'loss for Train set')\n",
        "plt.plot(h.history['val_loss'], label = 'loss for Test Set')\n",
        "plt.title('loss Graph for ANN')\n",
        "plt.ylabel('loss')\n",
        "plt.xlabel('epochs')\n",
        "plt.legend()"
      ],
      "metadata": {
        "colab": {
          "base_uri": "https://localhost:8080/",
          "height": 312
        },
        "id": "jtXu3BYnLN1n",
        "outputId": "650af63d-ea19-428d-a88d-bdf07c989dba"
      },
      "execution_count": 44,
      "outputs": [
        {
          "output_type": "execute_result",
          "data": {
            "text/plain": [
              "<matplotlib.legend.Legend at 0x7f10683d5150>"
            ]
          },
          "metadata": {},
          "execution_count": 44
        },
        {
          "output_type": "display_data",
          "data": {
            "text/plain": [
              "<Figure size 432x288 with 1 Axes>"
            ],
            "image/png": "[encoded data removed]"
          },
          "metadata": {
            "needs_background": "light"
          }
        }
      ]
    },
    {
      "cell_type": "code",
      "source": [
        "y_pred_ann = model.predict_classes(X_test)\n",
        "accuracy_score(y_test,y_pred_ann)"
      ],
      "metadata": {
        "colab": {
          "base_uri": "https://localhost:8080/"
        },
        "id": "SSxgKqiWMGEW",
        "outputId": "5ce22eec-460b-4d5d-fd10-df54e7b0446e"
      },
      "execution_count": 45,
      "outputs": [
        {
          "output_type": "stream",
          "name": "stderr",
          "text": [
            "/usr/local/lib/python3.7/dist-packages/tensorflow/python/keras/engine/sequential.py:455: UserWarning: `model.predict_classes()` is deprecated and will be removed after 2021-01-01. Please use instead:* `np.argmax(model.predict(x), axis=-1)`,   if your model does multi-class classification   (e.g. if it uses a `softmax` last-layer activation).* `(model.predict(x) > 0.5).astype(\"int32\")`,   if your model does binary classification   (e.g. if it uses a `sigmoid` last-layer activation).\n",
            "  warnings.warn('`model.predict_classes()` is deprecated and '\n"
          ]
        },
        {
          "output_type": "execute_result",
          "data": {
            "text/plain": [
              "0.9930769230769231"
            ]
          },
          "metadata": {},
          "execution_count": 45
        }
      ]
    },
    {
      "cell_type": "markdown",
      "source": [
        "Permutation Mean Method"
      ],
      "metadata": {
        "id": "XZAcAJ7AMa3q"
      }
    },
    {
      "cell_type": "markdown",
      "source": [
        "DataSet according permutation mean "
      ],
      "metadata": {
        "id": "mwGd2KOgT4Ci"
      }
    },
    {
      "cell_type": "code",
      "source": [
        "rank3  = pd.read_excel(\"/content/Wine_dataset (1).xlsx\",sheet_name = \"permutation_method_mean\").set_index('Attributes_Names')"
      ],
      "metadata": {
        "id": "rq5VatJBMgs9"
      },
      "execution_count": 46,
      "outputs": []
    },
    {
      "cell_type": "code",
      "source": [
        "df_per_mean = df[rank3[0:6].index]"
      ],
      "metadata": {
        "id": "GgUzbPBSMgqO"
      },
      "execution_count": 49,
      "outputs": []
    },
    {
      "cell_type": "code",
      "source": [
        "X_col =  df_per_mean\n",
        "y = LabelEncoder().fit_transform(df['style'])\n",
        "Scaler = StandardScaler()\n",
        "X_col =  Scaler.fit_transform(X_col)\n",
        "X_train, X_test, y_train, y_test = train_test_split(X_col, y, test_size=0.2, random_state=0)\n",
        "print(\"Shape of training data\",X_train.shape)\n",
        "print(\"Shape of testing data\",X_test.shape)"
      ],
      "metadata": {
        "colab": {
          "base_uri": "https://localhost:8080/"
        },
        "id": "-dOhXU1oMgnt",
        "outputId": "71093791-b944-4290-98ed-caf588ad9e05"
      },
      "execution_count": 50,
      "outputs": [
        {
          "output_type": "stream",
          "name": "stdout",
          "text": [
            "Shape of training data (5197, 6)\n",
            "Shape of testing data (1300, 6)\n"
          ]
        }
      ]
    },
    {
      "cell_type": "markdown",
      "source": [
        "Random Forest"
      ],
      "metadata": {
        "id": "qUtndqoQT8ja"
      }
    },
    {
      "cell_type": "code",
      "source": [
        "rf =  RandomForestClassifier()\n",
        "rf.fit(X_train,y_train)\n",
        "y_pred_rf =  rf.predict(X_test)\n",
        "accuracy_score(y_test,y_pred_rf)"
      ],
      "metadata": {
        "colab": {
          "base_uri": "https://localhost:8080/"
        },
        "id": "nLfdvuwXMgkY",
        "outputId": "f2cc5af1-907e-414d-8034-2c8814ccfa73"
      },
      "execution_count": 51,
      "outputs": [
        {
          "output_type": "execute_result",
          "data": {
            "text/plain": [
              "0.9846153846153847"
            ]
          },
          "metadata": {},
          "execution_count": 51
        }
      ]
    },
    {
      "cell_type": "markdown",
      "source": [
        "SVM"
      ],
      "metadata": {
        "id": "SEER4a9oT-37"
      }
    },
    {
      "cell_type": "code",
      "source": [
        "svc =  SVC()\n",
        "svc.fit(X_test,y_test)\n",
        "y_pred_svc =  svc.predict(X_test)\n",
        "accuracy_score(y_test,y_pred_svc)"
      ],
      "metadata": {
        "colab": {
          "base_uri": "https://localhost:8080/"
        },
        "id": "g93C4G9IM5wM",
        "outputId": "b2c1cfd0-2a06-4127-defc-bc0f57b6a49d"
      },
      "execution_count": 52,
      "outputs": [
        {
          "output_type": "execute_result",
          "data": {
            "text/plain": [
              "0.99"
            ]
          },
          "metadata": {},
          "execution_count": 52
        }
      ]
    },
    {
      "cell_type": "markdown",
      "source": [
        "ANN"
      ],
      "metadata": {
        "id": "14Yt5BPTUAVk"
      }
    },
    {
      "cell_type": "code",
      "source": [
        "model = tf.keras.Sequential([\n",
        "    tf.keras.layers.Dense(6, activation='relu', input_shape=(6,)),\n",
        "    tf.keras.layers.BatchNormalization(),\n",
        "    tf.keras.layers.Dense(12, activation='relu'),\n",
        "    tf.keras.layers.BatchNormalization(),\n",
        "    tf.keras.layers.Dense(24, activation='relu'),\n",
        "    tf.keras.layers.Dropout(0.5),\n",
        "    tf.keras.layers.Dense(1,activation='sigmoid')\n",
        "  ])\n",
        "model.compile(loss='binary_crossentropy',\n",
        "              optimizer = 'adam',\n",
        "              metrics=['accuracy'])\n",
        "model.summary()"
      ],
      "metadata": {
        "colab": {
          "base_uri": "https://localhost:8080/"
        },
        "id": "K9SuxHLJM5tZ",
        "outputId": "412be567-f09b-4661-b49f-3640132218b3"
      },
      "execution_count": 53,
      "outputs": [
        {
          "output_type": "stream",
          "name": "stdout",
          "text": [
            "Model: \"sequential_4\"\n",
            "_________________________________________________________________\n",
            "Layer (type)                 Output Shape              Param #   \n",
            "=================================================================\n",
            "dense_16 (Dense)             (None, 6)                 42        \n",
            "_________________________________________________________________\n",
            "batch_normalization_8 (Batch (None, 6)                 24        \n",
            "_________________________________________________________________\n",
            "dense_17 (Dense)             (None, 12)                84        \n",
            "_________________________________________________________________\n",
            "batch_normalization_9 (Batch (None, 12)                48        \n",
            "_________________________________________________________________\n",
            "dense_18 (Dense)             (None, 24)                312       \n",
            "_________________________________________________________________\n",
            "dropout_4 (Dropout)          (None, 24)                0         \n",
            "_________________________________________________________________\n",
            "dense_19 (Dense)             (None, 1)                 25        \n",
            "=================================================================\n",
            "Total params: 535\n",
            "Trainable params: 499\n",
            "Non-trainable params: 36\n",
            "_________________________________________________________________\n"
          ]
        }
      ]
    },
    {
      "cell_type": "code",
      "source": [
        "h = model.fit(X_train,y_train,epochs=50,validation_data=(X_test,y_test))"
      ],
      "metadata": {
        "colab": {
          "base_uri": "https://localhost:8080/"
        },
        "id": "6zU7bZJ8M5q8",
        "outputId": "059a273f-3b45-482e-90b4-d38fdd7fdeb5"
      },
      "execution_count": 54,
      "outputs": [
        {
          "output_type": "stream",
          "name": "stdout",
          "text": [
            "Epoch 1/50\n",
            "163/163 [==============================] - 3s 8ms/step - loss: 0.4688 - accuracy: 0.7781 - val_loss: 0.2369 - val_accuracy: 0.9485\n",
            "Epoch 2/50\n",
            "163/163 [==============================] - 1s 6ms/step - loss: 0.1923 - accuracy: 0.9423 - val_loss: 0.1024 - val_accuracy: 0.9646\n",
            "Epoch 3/50\n",
            "163/163 [==============================] - 1s 4ms/step - loss: 0.1402 - accuracy: 0.9579 - val_loss: 0.0759 - val_accuracy: 0.9731\n",
            "Epoch 4/50\n",
            "163/163 [==============================] - 0s 3ms/step - loss: 0.1195 - accuracy: 0.9627 - val_loss: 0.0638 - val_accuracy: 0.9754\n",
            "Epoch 5/50\n",
            "163/163 [==============================] - 0s 3ms/step - loss: 0.1126 - accuracy: 0.9657 - val_loss: 0.0555 - val_accuracy: 0.9808\n",
            "Epoch 6/50\n",
            "163/163 [==============================] - 0s 3ms/step - loss: 0.0995 - accuracy: 0.9729 - val_loss: 0.0504 - val_accuracy: 0.9846\n",
            "Epoch 7/50\n",
            "163/163 [==============================] - 1s 3ms/step - loss: 0.1004 - accuracy: 0.9686 - val_loss: 0.0482 - val_accuracy: 0.9862\n",
            "Epoch 8/50\n",
            "163/163 [==============================] - 0s 3ms/step - loss: 0.0863 - accuracy: 0.9752 - val_loss: 0.0447 - val_accuracy: 0.9831\n",
            "Epoch 9/50\n",
            "163/163 [==============================] - 0s 3ms/step - loss: 0.0932 - accuracy: 0.9725 - val_loss: 0.0460 - val_accuracy: 0.9838\n",
            "Epoch 10/50\n",
            "163/163 [==============================] - 0s 3ms/step - loss: 0.0874 - accuracy: 0.9769 - val_loss: 0.0418 - val_accuracy: 0.9831\n",
            "Epoch 11/50\n",
            "163/163 [==============================] - 0s 2ms/step - loss: 0.0860 - accuracy: 0.9759 - val_loss: 0.0415 - val_accuracy: 0.9846\n",
            "Epoch 12/50\n",
            "163/163 [==============================] - 0s 2ms/step - loss: 0.0802 - accuracy: 0.9773 - val_loss: 0.0410 - val_accuracy: 0.9846\n",
            "Epoch 13/50\n",
            "163/163 [==============================] - 0s 2ms/step - loss: 0.0806 - accuracy: 0.9752 - val_loss: 0.0402 - val_accuracy: 0.9869\n",
            "Epoch 14/50\n",
            "163/163 [==============================] - 0s 2ms/step - loss: 0.0811 - accuracy: 0.9752 - val_loss: 0.0401 - val_accuracy: 0.9846\n",
            "Epoch 15/50\n",
            "163/163 [==============================] - 0s 2ms/step - loss: 0.0759 - accuracy: 0.9773 - val_loss: 0.0391 - val_accuracy: 0.9869\n",
            "Epoch 16/50\n",
            "163/163 [==============================] - 0s 2ms/step - loss: 0.0740 - accuracy: 0.9773 - val_loss: 0.0385 - val_accuracy: 0.9854\n",
            "Epoch 17/50\n",
            "163/163 [==============================] - 0s 2ms/step - loss: 0.0788 - accuracy: 0.9794 - val_loss: 0.0389 - val_accuracy: 0.9869\n",
            "Epoch 18/50\n",
            "163/163 [==============================] - 0s 2ms/step - loss: 0.0744 - accuracy: 0.9781 - val_loss: 0.0381 - val_accuracy: 0.9869\n",
            "Epoch 19/50\n",
            "163/163 [==============================] - 0s 2ms/step - loss: 0.0714 - accuracy: 0.9788 - val_loss: 0.0367 - val_accuracy: 0.9869\n",
            "Epoch 20/50\n",
            "163/163 [==============================] - 0s 2ms/step - loss: 0.0653 - accuracy: 0.9817 - val_loss: 0.0365 - val_accuracy: 0.9877\n",
            "Epoch 21/50\n",
            "163/163 [==============================] - 0s 2ms/step - loss: 0.0687 - accuracy: 0.9813 - val_loss: 0.0360 - val_accuracy: 0.9892\n",
            "Epoch 22/50\n",
            "163/163 [==============================] - 0s 2ms/step - loss: 0.0609 - accuracy: 0.9810 - val_loss: 0.0356 - val_accuracy: 0.9862\n",
            "Epoch 23/50\n",
            "163/163 [==============================] - 0s 2ms/step - loss: 0.0712 - accuracy: 0.9802 - val_loss: 0.0353 - val_accuracy: 0.9900\n",
            "Epoch 24/50\n",
            "163/163 [==============================] - 0s 2ms/step - loss: 0.0697 - accuracy: 0.9817 - val_loss: 0.0361 - val_accuracy: 0.9877\n",
            "Epoch 25/50\n",
            "163/163 [==============================] - 0s 2ms/step - loss: 0.0571 - accuracy: 0.9840 - val_loss: 0.0353 - val_accuracy: 0.9877\n",
            "Epoch 26/50\n",
            "163/163 [==============================] - 0s 2ms/step - loss: 0.0663 - accuracy: 0.9790 - val_loss: 0.0363 - val_accuracy: 0.9877\n",
            "Epoch 27/50\n",
            "163/163 [==============================] - 0s 2ms/step - loss: 0.0667 - accuracy: 0.9794 - val_loss: 0.0361 - val_accuracy: 0.9869\n",
            "Epoch 28/50\n",
            "163/163 [==============================] - 0s 2ms/step - loss: 0.0652 - accuracy: 0.9840 - val_loss: 0.0366 - val_accuracy: 0.9854\n",
            "Epoch 29/50\n",
            "163/163 [==============================] - 0s 2ms/step - loss: 0.0540 - accuracy: 0.9850 - val_loss: 0.0350 - val_accuracy: 0.9877\n",
            "Epoch 30/50\n",
            "163/163 [==============================] - 0s 2ms/step - loss: 0.0646 - accuracy: 0.9842 - val_loss: 0.0356 - val_accuracy: 0.9877\n",
            "Epoch 31/50\n",
            "163/163 [==============================] - 0s 2ms/step - loss: 0.0613 - accuracy: 0.9810 - val_loss: 0.0368 - val_accuracy: 0.9877\n",
            "Epoch 32/50\n",
            "163/163 [==============================] - 0s 2ms/step - loss: 0.0621 - accuracy: 0.9842 - val_loss: 0.0386 - val_accuracy: 0.9862\n",
            "Epoch 33/50\n",
            "163/163 [==============================] - 0s 2ms/step - loss: 0.0635 - accuracy: 0.9838 - val_loss: 0.0388 - val_accuracy: 0.9862\n",
            "Epoch 34/50\n",
            "163/163 [==============================] - 0s 2ms/step - loss: 0.0647 - accuracy: 0.9833 - val_loss: 0.0384 - val_accuracy: 0.9885\n",
            "Epoch 35/50\n",
            "163/163 [==============================] - 0s 2ms/step - loss: 0.0636 - accuracy: 0.9844 - val_loss: 0.0389 - val_accuracy: 0.9862\n",
            "Epoch 36/50\n",
            "163/163 [==============================] - 0s 2ms/step - loss: 0.0572 - accuracy: 0.9848 - val_loss: 0.0380 - val_accuracy: 0.9869\n",
            "Epoch 37/50\n",
            "163/163 [==============================] - 0s 2ms/step - loss: 0.0634 - accuracy: 0.9825 - val_loss: 0.0392 - val_accuracy: 0.9885\n",
            "Epoch 38/50\n",
            "163/163 [==============================] - 0s 2ms/step - loss: 0.0578 - accuracy: 0.9844 - val_loss: 0.0396 - val_accuracy: 0.9877\n",
            "Epoch 39/50\n",
            "163/163 [==============================] - 0s 2ms/step - loss: 0.0573 - accuracy: 0.9815 - val_loss: 0.0407 - val_accuracy: 0.9877\n",
            "Epoch 40/50\n",
            "163/163 [==============================] - 0s 2ms/step - loss: 0.0598 - accuracy: 0.9825 - val_loss: 0.0397 - val_accuracy: 0.9862\n",
            "Epoch 41/50\n",
            "163/163 [==============================] - 0s 2ms/step - loss: 0.0595 - accuracy: 0.9821 - val_loss: 0.0396 - val_accuracy: 0.9862\n",
            "Epoch 42/50\n",
            "163/163 [==============================] - 0s 2ms/step - loss: 0.0566 - accuracy: 0.9860 - val_loss: 0.0399 - val_accuracy: 0.9846\n",
            "Epoch 43/50\n",
            "163/163 [==============================] - 0s 2ms/step - loss: 0.0627 - accuracy: 0.9829 - val_loss: 0.0388 - val_accuracy: 0.9846\n",
            "Epoch 44/50\n",
            "163/163 [==============================] - 0s 2ms/step - loss: 0.0528 - accuracy: 0.9856 - val_loss: 0.0395 - val_accuracy: 0.9877\n",
            "Epoch 45/50\n",
            "163/163 [==============================] - 0s 2ms/step - loss: 0.0550 - accuracy: 0.9848 - val_loss: 0.0404 - val_accuracy: 0.9854\n",
            "Epoch 46/50\n",
            "163/163 [==============================] - 0s 2ms/step - loss: 0.0586 - accuracy: 0.9854 - val_loss: 0.0412 - val_accuracy: 0.9854\n",
            "Epoch 47/50\n",
            "163/163 [==============================] - 0s 2ms/step - loss: 0.0520 - accuracy: 0.9850 - val_loss: 0.0404 - val_accuracy: 0.9869\n",
            "Epoch 48/50\n",
            "163/163 [==============================] - 0s 2ms/step - loss: 0.0582 - accuracy: 0.9836 - val_loss: 0.0403 - val_accuracy: 0.9869\n",
            "Epoch 49/50\n",
            "163/163 [==============================] - 0s 2ms/step - loss: 0.0526 - accuracy: 0.9863 - val_loss: 0.0403 - val_accuracy: 0.9877\n",
            "Epoch 50/50\n",
            "163/163 [==============================] - 0s 2ms/step - loss: 0.0495 - accuracy: 0.9846 - val_loss: 0.0412 - val_accuracy: 0.9846\n"
          ]
        }
      ]
    },
    {
      "cell_type": "code",
      "source": [
        "plt.plot(h.history['accuracy'], label = 'Accuracy for Train set')\n",
        "plt.plot(h.history['val_accuracy'], label = 'Accuracy for Test Set')\n",
        "plt.title('Accuracy Graph for ANN')\n",
        "plt.ylabel('Accuracy')\n",
        "plt.xlabel('epochs')\n",
        "plt.legend()"
      ],
      "metadata": {
        "colab": {
          "base_uri": "https://localhost:8080/",
          "height": 312
        },
        "id": "ftarYLsuM5oa",
        "outputId": "0df04e04-4822-4824-af22-088fe2f4a243"
      },
      "execution_count": 55,
      "outputs": [
        {
          "output_type": "execute_result",
          "data": {
            "text/plain": [
              "<matplotlib.legend.Legend at 0x7f10614bde50>"
            ]
          },
          "metadata": {},
          "execution_count": 55
        },
        {
          "output_type": "display_data",
          "data": {
            "text/plain": [
              "<Figure size 432x288 with 1 Axes>"
            ],
            "image/png": "[encoded data removed]"
          },
          "metadata": {
            "needs_background": "light"
          }
        }
      ]
    },
    {
      "cell_type": "code",
      "source": [
        "plt.plot(h.history['loss'], label = 'loss for Train set')\n",
        "plt.plot(h.history['val_loss'], label = 'loss for Test Set')\n",
        "plt.title('loss Graph for ANN')\n",
        "plt.ylabel('loss')\n",
        "plt.xlabel('epochs')\n",
        "plt.legend()"
      ],
      "metadata": {
        "colab": {
          "base_uri": "https://localhost:8080/",
          "height": 312
        },
        "id": "Y9HjVeUyNobo",
        "outputId": "e3a0e21e-7925-48f0-f244-775b46b34331"
      },
      "execution_count": 56,
      "outputs": [
        {
          "output_type": "execute_result",
          "data": {
            "text/plain": [
              "<matplotlib.legend.Legend at 0x7f10614c32d0>"
            ]
          },
          "metadata": {},
          "execution_count": 56
        },
        {
          "output_type": "display_data",
          "data": {
            "text/plain": [
              "<Figure size 432x288 with 1 Axes>"
            ],
            "image/png": "[encoded data removed]"
          },
          "metadata": {
            "needs_background": "light"
          }
        }
      ]
    },
    {
      "cell_type": "code",
      "source": [
        "y_pred_ann = model.predict_classes(X_test)\n",
        "accuracy_score(y_test,y_pred_ann)"
      ],
      "metadata": {
        "colab": {
          "base_uri": "https://localhost:8080/"
        },
        "id": "adFU2DCfNuA5",
        "outputId": "f967e7c0-81ed-4863-8e8d-17fb957a1291"
      },
      "execution_count": 57,
      "outputs": [
        {
          "output_type": "stream",
          "name": "stderr",
          "text": [
            "/usr/local/lib/python3.7/dist-packages/tensorflow/python/keras/engine/sequential.py:455: UserWarning: `model.predict_classes()` is deprecated and will be removed after 2021-01-01. Please use instead:* `np.argmax(model.predict(x), axis=-1)`,   if your model does multi-class classification   (e.g. if it uses a `softmax` last-layer activation).* `(model.predict(x) > 0.5).astype(\"int32\")`,   if your model does binary classification   (e.g. if it uses a `sigmoid` last-layer activation).\n",
            "  warnings.warn('`model.predict_classes()` is deprecated and '\n"
          ]
        },
        {
          "output_type": "execute_result",
          "data": {
            "text/plain": [
              "0.9846153846153847"
            ]
          },
          "metadata": {},
          "execution_count": 57
        }
      ]
    },
    {
      "cell_type": "markdown",
      "source": [
        "Permutation Method Standard Deviation"
      ],
      "metadata": {
        "id": "869HavpOOLTq"
      }
    },
    {
      "cell_type": "markdown",
      "source": [
        "DataSet accoring to permutation std"
      ],
      "metadata": {
        "id": "niAiJfn4UHef"
      }
    },
    {
      "cell_type": "code",
      "source": [
        "rank4  = pd.read_excel(\"/content/Wine_dataset (1).xlsx\",sheet_name = \"permutation_method_std\").set_index('Attributes_Names')\n",
        "df_per_std  = df[rank4[0:6].index]"
      ],
      "metadata": {
        "id": "AwoRa81tN3_j"
      },
      "execution_count": 61,
      "outputs": []
    },
    {
      "cell_type": "code",
      "source": [
        "X_col =  df_per_std\n",
        "y = LabelEncoder().fit_transform(df['style'])\n",
        "Scaler = StandardScaler()\n",
        "X_col =  Scaler.fit_transform(X_col)\n",
        "X_train, X_test, y_train, y_test = train_test_split(X_col, y, test_size=0.2, random_state=0)\n",
        "print(\"Shape of training data\",X_train.shape)\n",
        "print(\"Shape of testing data\",X_test.shape)"
      ],
      "metadata": {
        "colab": {
          "base_uri": "https://localhost:8080/"
        },
        "id": "f9wXOplfN385",
        "outputId": "844e1d3b-27e8-4593-a72d-2677b06f2a12"
      },
      "execution_count": 62,
      "outputs": [
        {
          "output_type": "stream",
          "name": "stdout",
          "text": [
            "Shape of training data (5197, 6)\n",
            "Shape of testing data (1300, 6)\n"
          ]
        }
      ]
    },
    {
      "cell_type": "markdown",
      "source": [
        "Randpm Forest"
      ],
      "metadata": {
        "id": "jTH6b6QYUMzw"
      }
    },
    {
      "cell_type": "code",
      "source": [
        "rf =  RandomForestClassifier()\n",
        "rf.fit(X_train,y_train)\n",
        "y_pred_rf =  rf.predict(X_test)\n",
        "accuracy_score(y_test,y_pred_rf)"
      ],
      "metadata": {
        "colab": {
          "base_uri": "https://localhost:8080/"
        },
        "id": "KTtuwswTN36E",
        "outputId": "56714216-213c-4f60-b417-e218ce41a271"
      },
      "execution_count": 63,
      "outputs": [
        {
          "output_type": "execute_result",
          "data": {
            "text/plain": [
              "0.9838461538461538"
            ]
          },
          "metadata": {},
          "execution_count": 63
        }
      ]
    },
    {
      "cell_type": "markdown",
      "source": [
        "SVM"
      ],
      "metadata": {
        "id": "wx7CXtGOUOyN"
      }
    },
    {
      "cell_type": "code",
      "source": [
        "svc =  SVC()\n",
        "svc.fit(X_test,y_test)\n",
        "y_pred_svc =  svc.predict(X_test)\n",
        "accuracy_score(y_test,y_pred_svc)"
      ],
      "metadata": {
        "colab": {
          "base_uri": "https://localhost:8080/"
        },
        "id": "yMNuuslgN33f",
        "outputId": "f5e36065-47aa-43e6-96f6-8e9deb65656c"
      },
      "execution_count": 64,
      "outputs": [
        {
          "output_type": "execute_result",
          "data": {
            "text/plain": [
              "0.9823076923076923"
            ]
          },
          "metadata": {},
          "execution_count": 64
        }
      ]
    },
    {
      "cell_type": "markdown",
      "source": [
        "ANN"
      ],
      "metadata": {
        "id": "2WK1sQDNUP6I"
      }
    },
    {
      "cell_type": "code",
      "source": [
        "model = tf.keras.Sequential([\n",
        "    tf.keras.layers.Dense(6, activation='relu', input_shape=(6,)),\n",
        "    tf.keras.layers.BatchNormalization(),\n",
        "    tf.keras.layers.Dense(12, activation='relu'),\n",
        "    tf.keras.layers.BatchNormalization(),\n",
        "    tf.keras.layers.Dense(24, activation='relu'),\n",
        "    tf.keras.layers.Dropout(0.5),\n",
        "    tf.keras.layers.Dense(1,activation='sigmoid')\n",
        "  ])\n",
        "model.compile(loss='binary_crossentropy',\n",
        "              optimizer = 'adam',\n",
        "              metrics=['accuracy'])\n",
        "model.summary()"
      ],
      "metadata": {
        "colab": {
          "base_uri": "https://localhost:8080/"
        },
        "id": "LkeEymQQN31J",
        "outputId": "6f2ad797-3323-4e5f-d541-50e185e1b9ed"
      },
      "execution_count": 65,
      "outputs": [
        {
          "output_type": "stream",
          "name": "stdout",
          "text": [
            "Model: \"sequential_5\"\n",
            "_________________________________________________________________\n",
            "Layer (type)                 Output Shape              Param #   \n",
            "=================================================================\n",
            "dense_20 (Dense)             (None, 6)                 42        \n",
            "_________________________________________________________________\n",
            "batch_normalization_10 (Batc (None, 6)                 24        \n",
            "_________________________________________________________________\n",
            "dense_21 (Dense)             (None, 12)                84        \n",
            "_________________________________________________________________\n",
            "batch_normalization_11 (Batc (None, 12)                48        \n",
            "_________________________________________________________________\n",
            "dense_22 (Dense)             (None, 24)                312       \n",
            "_________________________________________________________________\n",
            "dropout_5 (Dropout)          (None, 24)                0         \n",
            "_________________________________________________________________\n",
            "dense_23 (Dense)             (None, 1)                 25        \n",
            "=================================================================\n",
            "Total params: 535\n",
            "Trainable params: 499\n",
            "Non-trainable params: 36\n",
            "_________________________________________________________________\n"
          ]
        }
      ]
    },
    {
      "cell_type": "code",
      "source": [
        "h = model.fit(X_train,y_train,epochs=50,validation_data=(X_test,y_test))"
      ],
      "metadata": {
        "colab": {
          "base_uri": "https://localhost:8080/"
        },
        "id": "fXXY21m5N3yG",
        "outputId": "6667ef93-a934-44b1-cdd2-c79677df7a60"
      },
      "execution_count": 66,
      "outputs": [
        {
          "output_type": "stream",
          "name": "stdout",
          "text": [
            "Epoch 1/50\n",
            "163/163 [==============================] - 2s 5ms/step - loss: 0.5980 - accuracy: 0.6821 - val_loss: 0.3094 - val_accuracy: 0.9700\n",
            "Epoch 2/50\n",
            "163/163 [==============================] - 1s 3ms/step - loss: 0.2247 - accuracy: 0.9450 - val_loss: 0.0936 - val_accuracy: 0.9754\n",
            "Epoch 3/50\n",
            "163/163 [==============================] - 0s 3ms/step - loss: 0.1299 - accuracy: 0.9675 - val_loss: 0.0629 - val_accuracy: 0.9800\n",
            "Epoch 4/50\n",
            "163/163 [==============================] - 0s 3ms/step - loss: 0.1162 - accuracy: 0.9708 - val_loss: 0.0567 - val_accuracy: 0.9823\n",
            "Epoch 5/50\n",
            "163/163 [==============================] - 0s 3ms/step - loss: 0.1101 - accuracy: 0.9709 - val_loss: 0.0564 - val_accuracy: 0.9777\n",
            "Epoch 6/50\n",
            "163/163 [==============================] - 1s 3ms/step - loss: 0.1055 - accuracy: 0.9731 - val_loss: 0.0546 - val_accuracy: 0.9792\n",
            "Epoch 7/50\n",
            "163/163 [==============================] - 0s 3ms/step - loss: 0.0987 - accuracy: 0.9729 - val_loss: 0.0537 - val_accuracy: 0.9785\n",
            "Epoch 8/50\n",
            "163/163 [==============================] - 0s 2ms/step - loss: 0.1003 - accuracy: 0.9731 - val_loss: 0.0559 - val_accuracy: 0.9762\n",
            "Epoch 9/50\n",
            "163/163 [==============================] - 0s 2ms/step - loss: 0.0956 - accuracy: 0.9748 - val_loss: 0.0544 - val_accuracy: 0.9792\n",
            "Epoch 10/50\n",
            "163/163 [==============================] - 0s 2ms/step - loss: 0.0921 - accuracy: 0.9748 - val_loss: 0.0548 - val_accuracy: 0.9769\n",
            "Epoch 11/50\n",
            "163/163 [==============================] - 0s 2ms/step - loss: 0.0972 - accuracy: 0.9736 - val_loss: 0.0534 - val_accuracy: 0.9823\n",
            "Epoch 12/50\n",
            "163/163 [==============================] - 0s 2ms/step - loss: 0.0974 - accuracy: 0.9733 - val_loss: 0.0545 - val_accuracy: 0.9777\n",
            "Epoch 13/50\n",
            "163/163 [==============================] - 0s 2ms/step - loss: 0.0919 - accuracy: 0.9758 - val_loss: 0.0559 - val_accuracy: 0.9792\n",
            "Epoch 14/50\n",
            "163/163 [==============================] - 0s 2ms/step - loss: 0.0861 - accuracy: 0.9761 - val_loss: 0.0545 - val_accuracy: 0.9785\n",
            "Epoch 15/50\n",
            "163/163 [==============================] - 0s 2ms/step - loss: 0.0858 - accuracy: 0.9767 - val_loss: 0.0544 - val_accuracy: 0.9777\n",
            "Epoch 16/50\n",
            "163/163 [==============================] - 0s 2ms/step - loss: 0.0844 - accuracy: 0.9761 - val_loss: 0.0535 - val_accuracy: 0.9800\n",
            "Epoch 17/50\n",
            "163/163 [==============================] - 0s 3ms/step - loss: 0.0844 - accuracy: 0.9775 - val_loss: 0.0526 - val_accuracy: 0.9792\n",
            "Epoch 18/50\n",
            "163/163 [==============================] - 1s 3ms/step - loss: 0.0775 - accuracy: 0.9767 - val_loss: 0.0529 - val_accuracy: 0.9808\n",
            "Epoch 19/50\n",
            "163/163 [==============================] - 0s 3ms/step - loss: 0.0813 - accuracy: 0.9769 - val_loss: 0.0528 - val_accuracy: 0.9792\n",
            "Epoch 20/50\n",
            "163/163 [==============================] - 1s 4ms/step - loss: 0.0795 - accuracy: 0.9781 - val_loss: 0.0512 - val_accuracy: 0.9815\n",
            "Epoch 21/50\n",
            "163/163 [==============================] - 1s 3ms/step - loss: 0.0804 - accuracy: 0.9794 - val_loss: 0.0516 - val_accuracy: 0.9823\n",
            "Epoch 22/50\n",
            "163/163 [==============================] - 0s 3ms/step - loss: 0.0808 - accuracy: 0.9792 - val_loss: 0.0517 - val_accuracy: 0.9808\n",
            "Epoch 23/50\n",
            "163/163 [==============================] - 1s 3ms/step - loss: 0.0765 - accuracy: 0.9790 - val_loss: 0.0524 - val_accuracy: 0.9800\n",
            "Epoch 24/50\n",
            "163/163 [==============================] - 1s 3ms/step - loss: 0.0778 - accuracy: 0.9790 - val_loss: 0.0515 - val_accuracy: 0.9823\n",
            "Epoch 25/50\n",
            "163/163 [==============================] - 0s 3ms/step - loss: 0.0733 - accuracy: 0.9777 - val_loss: 0.0520 - val_accuracy: 0.9831\n",
            "Epoch 26/50\n",
            "163/163 [==============================] - 0s 3ms/step - loss: 0.0766 - accuracy: 0.9773 - val_loss: 0.0508 - val_accuracy: 0.9846\n",
            "Epoch 27/50\n",
            "163/163 [==============================] - 0s 3ms/step - loss: 0.0769 - accuracy: 0.9781 - val_loss: 0.0505 - val_accuracy: 0.9846\n",
            "Epoch 28/50\n",
            "163/163 [==============================] - 0s 3ms/step - loss: 0.0759 - accuracy: 0.9794 - val_loss: 0.0508 - val_accuracy: 0.9838\n",
            "Epoch 29/50\n",
            "163/163 [==============================] - 1s 4ms/step - loss: 0.0740 - accuracy: 0.9781 - val_loss: 0.0515 - val_accuracy: 0.9823\n",
            "Epoch 30/50\n",
            "163/163 [==============================] - 1s 3ms/step - loss: 0.0705 - accuracy: 0.9802 - val_loss: 0.0509 - val_accuracy: 0.9838\n",
            "Epoch 31/50\n",
            "163/163 [==============================] - 1s 3ms/step - loss: 0.0737 - accuracy: 0.9802 - val_loss: 0.0515 - val_accuracy: 0.9792\n",
            "Epoch 32/50\n",
            "163/163 [==============================] - 0s 2ms/step - loss: 0.0736 - accuracy: 0.9804 - val_loss: 0.0503 - val_accuracy: 0.9831\n",
            "Epoch 33/50\n",
            "163/163 [==============================] - 0s 2ms/step - loss: 0.0749 - accuracy: 0.9817 - val_loss: 0.0510 - val_accuracy: 0.9808\n",
            "Epoch 34/50\n",
            "163/163 [==============================] - 0s 2ms/step - loss: 0.0670 - accuracy: 0.9827 - val_loss: 0.0510 - val_accuracy: 0.9846\n",
            "Epoch 35/50\n",
            "163/163 [==============================] - 0s 2ms/step - loss: 0.0682 - accuracy: 0.9813 - val_loss: 0.0510 - val_accuracy: 0.9815\n",
            "Epoch 36/50\n",
            "163/163 [==============================] - 0s 2ms/step - loss: 0.0748 - accuracy: 0.9790 - val_loss: 0.0510 - val_accuracy: 0.9838\n",
            "Epoch 37/50\n",
            "163/163 [==============================] - 0s 2ms/step - loss: 0.0704 - accuracy: 0.9802 - val_loss: 0.0506 - val_accuracy: 0.9831\n",
            "Epoch 38/50\n",
            "163/163 [==============================] - 0s 2ms/step - loss: 0.0707 - accuracy: 0.9811 - val_loss: 0.0512 - val_accuracy: 0.9838\n",
            "Epoch 39/50\n",
            "163/163 [==============================] - 0s 2ms/step - loss: 0.0635 - accuracy: 0.9831 - val_loss: 0.0518 - val_accuracy: 0.9815\n",
            "Epoch 40/50\n",
            "163/163 [==============================] - 0s 2ms/step - loss: 0.0705 - accuracy: 0.9786 - val_loss: 0.0495 - val_accuracy: 0.9823\n",
            "Epoch 41/50\n",
            "163/163 [==============================] - 0s 2ms/step - loss: 0.0712 - accuracy: 0.9798 - val_loss: 0.0512 - val_accuracy: 0.9823\n",
            "Epoch 42/50\n",
            "163/163 [==============================] - 0s 2ms/step - loss: 0.0627 - accuracy: 0.9842 - val_loss: 0.0526 - val_accuracy: 0.9838\n",
            "Epoch 43/50\n",
            "163/163 [==============================] - 0s 2ms/step - loss: 0.0638 - accuracy: 0.9815 - val_loss: 0.0527 - val_accuracy: 0.9846\n",
            "Epoch 44/50\n",
            "163/163 [==============================] - 0s 2ms/step - loss: 0.0685 - accuracy: 0.9810 - val_loss: 0.0526 - val_accuracy: 0.9831\n",
            "Epoch 45/50\n",
            "163/163 [==============================] - 0s 2ms/step - loss: 0.0687 - accuracy: 0.9823 - val_loss: 0.0505 - val_accuracy: 0.9846\n",
            "Epoch 46/50\n",
            "163/163 [==============================] - 0s 2ms/step - loss: 0.0646 - accuracy: 0.9823 - val_loss: 0.0511 - val_accuracy: 0.9838\n",
            "Epoch 47/50\n",
            "163/163 [==============================] - 0s 2ms/step - loss: 0.0710 - accuracy: 0.9815 - val_loss: 0.0511 - val_accuracy: 0.9831\n",
            "Epoch 48/50\n",
            "163/163 [==============================] - 0s 2ms/step - loss: 0.0669 - accuracy: 0.9806 - val_loss: 0.0504 - val_accuracy: 0.9838\n",
            "Epoch 49/50\n",
            "163/163 [==============================] - 0s 2ms/step - loss: 0.0687 - accuracy: 0.9800 - val_loss: 0.0517 - val_accuracy: 0.9800\n",
            "Epoch 50/50\n",
            "163/163 [==============================] - 0s 2ms/step - loss: 0.0627 - accuracy: 0.9817 - val_loss: 0.0496 - val_accuracy: 0.9823\n"
          ]
        }
      ]
    },
    {
      "cell_type": "code",
      "source": [
        "plt.plot(h.history['accuracy'], label = 'Accuracy for Train set')\n",
        "plt.plot(h.history['val_accuracy'], label = 'Accuracy for Test Set')\n",
        "plt.title('Accuracy Graph for ANN')\n",
        "plt.ylabel('Accuracy')\n",
        "plt.xlabel('epochs')\n",
        "plt.legend()"
      ],
      "metadata": {
        "colab": {
          "base_uri": "https://localhost:8080/",
          "height": 312
        },
        "id": "KYa_Ls3TN3vu",
        "outputId": "eb6a13b1-bb16-403d-c10d-42d38b6e34c7"
      },
      "execution_count": 67,
      "outputs": [
        {
          "output_type": "execute_result",
          "data": {
            "text/plain": [
              "<matplotlib.legend.Legend at 0x7f1060319c50>"
            ]
          },
          "metadata": {},
          "execution_count": 67
        },
        {
          "output_type": "display_data",
          "data": {
            "text/plain": [
              "<Figure size 432x288 with 1 Axes>"
            ],
            "image/png": "[encoded data removed]"
          },
          "metadata": {
            "needs_background": "light"
          }
        }
      ]
    },
    {
      "cell_type": "code",
      "source": [
        "plt.plot(h.history['loss'], label = 'loss for Train set')\n",
        "plt.plot(h.history['val_loss'], label = 'loss for Test Set')\n",
        "plt.title('loss Graph for ANN')\n",
        "plt.ylabel('loss')\n",
        "plt.xlabel('epochs')\n",
        "plt.legend()"
      ],
      "metadata": {
        "colab": {
          "base_uri": "https://localhost:8080/",
          "height": 312
        },
        "id": "gv5_lWPRN3tS",
        "outputId": "01c26283-ccbf-44d8-c38f-84537c1a9369"
      },
      "execution_count": 68,
      "outputs": [
        {
          "output_type": "execute_result",
          "data": {
            "text/plain": [
              "<matplotlib.legend.Legend at 0x7f105e831250>"
            ]
          },
          "metadata": {},
          "execution_count": 68
        },
        {
          "output_type": "display_data",
          "data": {
            "text/plain": [
              "<Figure size 432x288 with 1 Axes>"
            ],
            "image/png": "[encoded data removed]"
          },
          "metadata": {
            "needs_background": "light"
          }
        }
      ]
    },
    {
      "cell_type": "code",
      "source": [
        "y_pred_ann = model.predict_classes(X_test)\n",
        "accuracy_score(y_test,y_pred_ann)"
      ],
      "metadata": {
        "colab": {
          "base_uri": "https://localhost:8080/"
        },
        "id": "mLvqM0Z-PIpN",
        "outputId": "f5e24646-5464-40f6-f20c-9e0cb11606f9"
      },
      "execution_count": 69,
      "outputs": [
        {
          "output_type": "stream",
          "name": "stderr",
          "text": [
            "/usr/local/lib/python3.7/dist-packages/tensorflow/python/keras/engine/sequential.py:455: UserWarning: `model.predict_classes()` is deprecated and will be removed after 2021-01-01. Please use instead:* `np.argmax(model.predict(x), axis=-1)`,   if your model does multi-class classification   (e.g. if it uses a `softmax` last-layer activation).* `(model.predict(x) > 0.5).astype(\"int32\")`,   if your model does binary classification   (e.g. if it uses a `sigmoid` last-layer activation).\n",
            "  warnings.warn('`model.predict_classes()` is deprecated and '\n"
          ]
        },
        {
          "output_type": "execute_result",
          "data": {
            "text/plain": [
              "0.9823076923076923"
            ]
          },
          "metadata": {},
          "execution_count": 69
        }
      ]
    },
    {
      "cell_type": "markdown",
      "source": [
        "PCA"
      ],
      "metadata": {
        "id": "5-Kcy4IzPWSR"
      }
    },
    {
      "cell_type": "markdown",
      "source": [
        "DataSet according to PCA"
      ],
      "metadata": {
        "id": "zUNXocnUUSnB"
      }
    },
    {
      "cell_type": "code",
      "source": [
        "rank5  = pd.read_excel(\"/content/Wine_dataset (1).xlsx\",sheet_name = \"PCA\").set_index('Attributes_Names')\n",
        "df_pca  = df[rank5[:6].index]"
      ],
      "metadata": {
        "id": "6RxqEFM0PRnE"
      },
      "execution_count": 70,
      "outputs": []
    },
    {
      "cell_type": "code",
      "source": [
        "X_col =  df_pca\n",
        "y = LabelEncoder().fit_transform(df['style'])\n",
        "Scaler = StandardScaler()\n",
        "X_col =  Scaler.fit_transform(X_col)\n",
        "X_train, X_test, y_train, y_test = train_test_split(X_col, y, test_size=0.2, random_state=0)\n",
        "print(\"Shape of training data\",X_train.shape)\n",
        "print(\"Shape of testing data\",X_test.shape)"
      ],
      "metadata": {
        "colab": {
          "base_uri": "https://localhost:8080/"
        },
        "id": "ZVI6NecPPRkf",
        "outputId": "e0cfda2b-b253-4197-e40f-52687184f5fe"
      },
      "execution_count": 71,
      "outputs": [
        {
          "output_type": "stream",
          "name": "stdout",
          "text": [
            "Shape of training data (5197, 6)\n",
            "Shape of testing data (1300, 6)\n"
          ]
        }
      ]
    },
    {
      "cell_type": "markdown",
      "source": [
        "Random Forest"
      ],
      "metadata": {
        "id": "E90N3G3wUVY_"
      }
    },
    {
      "cell_type": "code",
      "source": [
        "rf =  RandomForestClassifier()\n",
        "rf.fit(X_train,y_train)\n",
        "y_pred_rf =  rf.predict(X_test)\n",
        "accuracy_score(y_test,y_pred_rf)"
      ],
      "metadata": {
        "colab": {
          "base_uri": "https://localhost:8080/"
        },
        "id": "c5VjmZuePRia",
        "outputId": "05675ea4-44f8-4a33-ab91-3329566d175b"
      },
      "execution_count": 72,
      "outputs": [
        {
          "output_type": "execute_result",
          "data": {
            "text/plain": [
              "0.9892307692307692"
            ]
          },
          "metadata": {},
          "execution_count": 72
        }
      ]
    },
    {
      "cell_type": "markdown",
      "source": [
        "SVM"
      ],
      "metadata": {
        "id": "6jgJpVm0UYWz"
      }
    },
    {
      "cell_type": "code",
      "source": [
        "svc =  SVC()\n",
        "svc.fit(X_test,y_test)\n",
        "y_pred_svc =  svc.predict(X_test)\n",
        "accuracy_score(y_test,y_pred_svc)"
      ],
      "metadata": {
        "colab": {
          "base_uri": "https://localhost:8080/"
        },
        "id": "_HzA4-lMPRgH",
        "outputId": "21c466a1-001d-4db8-9cc5-7f55d13dc2b6"
      },
      "execution_count": 73,
      "outputs": [
        {
          "output_type": "execute_result",
          "data": {
            "text/plain": [
              "0.9946153846153846"
            ]
          },
          "metadata": {},
          "execution_count": 73
        }
      ]
    },
    {
      "cell_type": "markdown",
      "source": [
        "ANN"
      ],
      "metadata": {
        "id": "iT_uO5uQUZpP"
      }
    },
    {
      "cell_type": "code",
      "source": [
        "model = tf.keras.Sequential([\n",
        "    tf.keras.layers.Dense(6, activation='relu', input_shape=(6,)),\n",
        "    tf.keras.layers.BatchNormalization(),\n",
        "    tf.keras.layers.Dense(12, activation='relu'),\n",
        "    tf.keras.layers.BatchNormalization(),\n",
        "    tf.keras.layers.Dense(24, activation='relu'),\n",
        "    tf.keras.layers.Dropout(0.5),\n",
        "    tf.keras.layers.Dense(1,activation='sigmoid')\n",
        "  ])\n",
        "model.compile(loss='binary_crossentropy',\n",
        "              optimizer = 'adam',\n",
        "              metrics=['accuracy'])\n",
        "model.summary()"
      ],
      "metadata": {
        "colab": {
          "base_uri": "https://localhost:8080/"
        },
        "id": "X-P-LZIFPReB",
        "outputId": "6934e782-5e9a-4df5-a2b3-1749e6d04e80"
      },
      "execution_count": 74,
      "outputs": [
        {
          "output_type": "stream",
          "name": "stdout",
          "text": [
            "Model: \"sequential_6\"\n",
            "_________________________________________________________________\n",
            "Layer (type)                 Output Shape              Param #   \n",
            "=================================================================\n",
            "dense_24 (Dense)             (None, 6)                 42        \n",
            "_________________________________________________________________\n",
            "batch_normalization_12 (Batc (None, 6)                 24        \n",
            "_________________________________________________________________\n",
            "dense_25 (Dense)             (None, 12)                84        \n",
            "_________________________________________________________________\n",
            "batch_normalization_13 (Batc (None, 12)                48        \n",
            "_________________________________________________________________\n",
            "dense_26 (Dense)             (None, 24)                312       \n",
            "_________________________________________________________________\n",
            "dropout_6 (Dropout)          (None, 24)                0         \n",
            "_________________________________________________________________\n",
            "dense_27 (Dense)             (None, 1)                 25        \n",
            "=================================================================\n",
            "Total params: 535\n",
            "Trainable params: 499\n",
            "Non-trainable params: 36\n",
            "_________________________________________________________________\n"
          ]
        }
      ]
    },
    {
      "cell_type": "code",
      "source": [
        "h = model.fit(X_train,y_train,epochs=50,validation_data=(X_test,y_test))"
      ],
      "metadata": {
        "colab": {
          "base_uri": "https://localhost:8080/"
        },
        "id": "r1NZZeJ9PRY7",
        "outputId": "b5262c67-27ee-4c79-cf08-c32b4dd7b01c"
      },
      "execution_count": 75,
      "outputs": [
        {
          "output_type": "stream",
          "name": "stdout",
          "text": [
            "Epoch 1/50\n",
            "163/163 [==============================] - 1s 3ms/step - loss: 0.4119 - accuracy: 0.8151 - val_loss: 0.2516 - val_accuracy: 0.9192\n",
            "Epoch 2/50\n",
            "163/163 [==============================] - 0s 2ms/step - loss: 0.2121 - accuracy: 0.9309 - val_loss: 0.0914 - val_accuracy: 0.9708\n",
            "Epoch 3/50\n",
            "163/163 [==============================] - 0s 2ms/step - loss: 0.1236 - accuracy: 0.9656 - val_loss: 0.0535 - val_accuracy: 0.9808\n",
            "Epoch 4/50\n",
            "163/163 [==============================] - 0s 2ms/step - loss: 0.0945 - accuracy: 0.9731 - val_loss: 0.0440 - val_accuracy: 0.9869\n",
            "Epoch 5/50\n",
            "163/163 [==============================] - 0s 2ms/step - loss: 0.0829 - accuracy: 0.9781 - val_loss: 0.0414 - val_accuracy: 0.9869\n",
            "Epoch 6/50\n",
            "163/163 [==============================] - 0s 2ms/step - loss: 0.0883 - accuracy: 0.9748 - val_loss: 0.0382 - val_accuracy: 0.9885\n",
            "Epoch 7/50\n",
            "163/163 [==============================] - 0s 2ms/step - loss: 0.0749 - accuracy: 0.9811 - val_loss: 0.0381 - val_accuracy: 0.9908\n",
            "Epoch 8/50\n",
            "163/163 [==============================] - 0s 2ms/step - loss: 0.0748 - accuracy: 0.9800 - val_loss: 0.0363 - val_accuracy: 0.9900\n",
            "Epoch 9/50\n",
            "163/163 [==============================] - 0s 2ms/step - loss: 0.0710 - accuracy: 0.9817 - val_loss: 0.0359 - val_accuracy: 0.9900\n",
            "Epoch 10/50\n",
            "163/163 [==============================] - 0s 2ms/step - loss: 0.0674 - accuracy: 0.9829 - val_loss: 0.0354 - val_accuracy: 0.9900\n",
            "Epoch 11/50\n",
            "163/163 [==============================] - 0s 2ms/step - loss: 0.0698 - accuracy: 0.9821 - val_loss: 0.0350 - val_accuracy: 0.9900\n",
            "Epoch 12/50\n",
            "163/163 [==============================] - 0s 2ms/step - loss: 0.0699 - accuracy: 0.9794 - val_loss: 0.0361 - val_accuracy: 0.9900\n",
            "Epoch 13/50\n",
            "163/163 [==============================] - 0s 2ms/step - loss: 0.0703 - accuracy: 0.9817 - val_loss: 0.0358 - val_accuracy: 0.9908\n",
            "Epoch 14/50\n",
            "163/163 [==============================] - 0s 2ms/step - loss: 0.0660 - accuracy: 0.9813 - val_loss: 0.0353 - val_accuracy: 0.9908\n",
            "Epoch 15/50\n",
            "163/163 [==============================] - 0s 2ms/step - loss: 0.0613 - accuracy: 0.9823 - val_loss: 0.0329 - val_accuracy: 0.9900\n",
            "Epoch 16/50\n",
            "163/163 [==============================] - 0s 2ms/step - loss: 0.0680 - accuracy: 0.9835 - val_loss: 0.0375 - val_accuracy: 0.9900\n",
            "Epoch 17/50\n",
            "163/163 [==============================] - 0s 2ms/step - loss: 0.0675 - accuracy: 0.9835 - val_loss: 0.0365 - val_accuracy: 0.9900\n",
            "Epoch 18/50\n",
            "163/163 [==============================] - 0s 2ms/step - loss: 0.0584 - accuracy: 0.9842 - val_loss: 0.0357 - val_accuracy: 0.9908\n",
            "Epoch 19/50\n",
            "163/163 [==============================] - 0s 2ms/step - loss: 0.0638 - accuracy: 0.9817 - val_loss: 0.0347 - val_accuracy: 0.9908\n",
            "Epoch 20/50\n",
            "163/163 [==============================] - 0s 2ms/step - loss: 0.0531 - accuracy: 0.9852 - val_loss: 0.0339 - val_accuracy: 0.9900\n",
            "Epoch 21/50\n",
            "163/163 [==============================] - 0s 2ms/step - loss: 0.0548 - accuracy: 0.9836 - val_loss: 0.0325 - val_accuracy: 0.9915\n",
            "Epoch 22/50\n",
            "163/163 [==============================] - 0s 2ms/step - loss: 0.0525 - accuracy: 0.9858 - val_loss: 0.0346 - val_accuracy: 0.9908\n",
            "Epoch 23/50\n",
            "163/163 [==============================] - 0s 2ms/step - loss: 0.0574 - accuracy: 0.9831 - val_loss: 0.0381 - val_accuracy: 0.9892\n",
            "Epoch 24/50\n",
            "163/163 [==============================] - 0s 2ms/step - loss: 0.0582 - accuracy: 0.9854 - val_loss: 0.0362 - val_accuracy: 0.9908\n",
            "Epoch 25/50\n",
            "163/163 [==============================] - 0s 2ms/step - loss: 0.0589 - accuracy: 0.9838 - val_loss: 0.0392 - val_accuracy: 0.9908\n",
            "Epoch 26/50\n",
            "163/163 [==============================] - 0s 2ms/step - loss: 0.0584 - accuracy: 0.9838 - val_loss: 0.0417 - val_accuracy: 0.9892\n",
            "Epoch 27/50\n",
            "163/163 [==============================] - 0s 2ms/step - loss: 0.0498 - accuracy: 0.9856 - val_loss: 0.0381 - val_accuracy: 0.9892\n",
            "Epoch 28/50\n",
            "163/163 [==============================] - 0s 2ms/step - loss: 0.0530 - accuracy: 0.9861 - val_loss: 0.0341 - val_accuracy: 0.9908\n",
            "Epoch 29/50\n",
            "163/163 [==============================] - 0s 2ms/step - loss: 0.0501 - accuracy: 0.9863 - val_loss: 0.0349 - val_accuracy: 0.9915\n",
            "Epoch 30/50\n",
            "163/163 [==============================] - 0s 2ms/step - loss: 0.0545 - accuracy: 0.9850 - val_loss: 0.0328 - val_accuracy: 0.9892\n",
            "Epoch 31/50\n",
            "163/163 [==============================] - 0s 2ms/step - loss: 0.0557 - accuracy: 0.9852 - val_loss: 0.0375 - val_accuracy: 0.9869\n",
            "Epoch 32/50\n",
            "163/163 [==============================] - 0s 2ms/step - loss: 0.0457 - accuracy: 0.9883 - val_loss: 0.0341 - val_accuracy: 0.9900\n",
            "Epoch 33/50\n",
            "163/163 [==============================] - 0s 2ms/step - loss: 0.0474 - accuracy: 0.9863 - val_loss: 0.0346 - val_accuracy: 0.9869\n",
            "Epoch 34/50\n",
            "163/163 [==============================] - 0s 2ms/step - loss: 0.0445 - accuracy: 0.9886 - val_loss: 0.0377 - val_accuracy: 0.9885\n",
            "Epoch 35/50\n",
            "163/163 [==============================] - 0s 2ms/step - loss: 0.0440 - accuracy: 0.9883 - val_loss: 0.0332 - val_accuracy: 0.9892\n",
            "Epoch 36/50\n",
            "163/163 [==============================] - 0s 2ms/step - loss: 0.0487 - accuracy: 0.9869 - val_loss: 0.0364 - val_accuracy: 0.9892\n",
            "Epoch 37/50\n",
            "163/163 [==============================] - 0s 2ms/step - loss: 0.0522 - accuracy: 0.9873 - val_loss: 0.0357 - val_accuracy: 0.9885\n",
            "Epoch 38/50\n",
            "163/163 [==============================] - 0s 2ms/step - loss: 0.0439 - accuracy: 0.9888 - val_loss: 0.0316 - val_accuracy: 0.9892\n",
            "Epoch 39/50\n",
            "163/163 [==============================] - 0s 2ms/step - loss: 0.0423 - accuracy: 0.9892 - val_loss: 0.0407 - val_accuracy: 0.9892\n",
            "Epoch 40/50\n",
            "163/163 [==============================] - 0s 2ms/step - loss: 0.0463 - accuracy: 0.9892 - val_loss: 0.0416 - val_accuracy: 0.9892\n",
            "Epoch 41/50\n",
            "163/163 [==============================] - 0s 2ms/step - loss: 0.0442 - accuracy: 0.9865 - val_loss: 0.0398 - val_accuracy: 0.9900\n",
            "Epoch 42/50\n",
            "163/163 [==============================] - 0s 2ms/step - loss: 0.0467 - accuracy: 0.9881 - val_loss: 0.0387 - val_accuracy: 0.9900\n",
            "Epoch 43/50\n",
            "163/163 [==============================] - 0s 2ms/step - loss: 0.0475 - accuracy: 0.9869 - val_loss: 0.0419 - val_accuracy: 0.9892\n",
            "Epoch 44/50\n",
            "163/163 [==============================] - 0s 2ms/step - loss: 0.0478 - accuracy: 0.9858 - val_loss: 0.0395 - val_accuracy: 0.9892\n",
            "Epoch 45/50\n",
            "163/163 [==============================] - 0s 2ms/step - loss: 0.0445 - accuracy: 0.9861 - val_loss: 0.0393 - val_accuracy: 0.9908\n",
            "Epoch 46/50\n",
            "163/163 [==============================] - 0s 2ms/step - loss: 0.0350 - accuracy: 0.9898 - val_loss: 0.0394 - val_accuracy: 0.9892\n",
            "Epoch 47/50\n",
            "163/163 [==============================] - 0s 2ms/step - loss: 0.0512 - accuracy: 0.9879 - val_loss: 0.0316 - val_accuracy: 0.9892\n",
            "Epoch 48/50\n",
            "163/163 [==============================] - 0s 2ms/step - loss: 0.0418 - accuracy: 0.9886 - val_loss: 0.0350 - val_accuracy: 0.9885\n",
            "Epoch 49/50\n",
            "163/163 [==============================] - 0s 2ms/step - loss: 0.0437 - accuracy: 0.9896 - val_loss: 0.0353 - val_accuracy: 0.9885\n",
            "Epoch 50/50\n",
            "163/163 [==============================] - 0s 2ms/step - loss: 0.0462 - accuracy: 0.9867 - val_loss: 0.0345 - val_accuracy: 0.9877\n"
          ]
        }
      ]
    },
    {
      "cell_type": "code",
      "source": [
        "plt.plot(h.history['accuracy'], label = 'Accuracy for Train set')\n",
        "plt.plot(h.history['val_accuracy'], label = 'Accuracy for Test Set')\n",
        "plt.title('Accuracy Graph for ANN')\n",
        "plt.ylabel('Accuracy')\n",
        "plt.xlabel('epochs')\n",
        "plt.legend()"
      ],
      "metadata": {
        "colab": {
          "base_uri": "https://localhost:8080/",
          "height": 312
        },
        "id": "awEohnFiPRTf",
        "outputId": "3d1eb7a6-b173-480a-de77-8042dd923f10"
      },
      "execution_count": 76,
      "outputs": [
        {
          "output_type": "execute_result",
          "data": {
            "text/plain": [
              "<matplotlib.legend.Legend at 0x7f105e6f50d0>"
            ]
          },
          "metadata": {},
          "execution_count": 76
        },
        {
          "output_type": "display_data",
          "data": {
            "text/plain": [
              "<Figure size 432x288 with 1 Axes>"
            ],
            "image/png": "[encoded data removed]"
          },
          "metadata": {
            "needs_background": "light"
          }
        }
      ]
    },
    {
      "cell_type": "code",
      "source": [
        "plt.plot(h.history['loss'], label = 'loss for Train set')\n",
        "plt.plot(h.history['val_loss'], label = 'loss for Test Set')\n",
        "plt.title('loss Graph for ANN')\n",
        "plt.ylabel('loss')\n",
        "plt.xlabel('epochs')\n",
        "plt.legend()"
      ],
      "metadata": {
        "colab": {
          "base_uri": "https://localhost:8080/",
          "height": 312
        },
        "id": "BRPQcdqiPROT",
        "outputId": "56b7d184-3084-44de-a5ff-a00d0b683964"
      },
      "execution_count": 77,
      "outputs": [
        {
          "output_type": "execute_result",
          "data": {
            "text/plain": [
              "<matplotlib.legend.Legend at 0x7f105cc4b8d0>"
            ]
          },
          "metadata": {},
          "execution_count": 77
        },
        {
          "output_type": "display_data",
          "data": {
            "text/plain": [
              "<Figure size 432x288 with 1 Axes>"
            ],
            "image/png": "[encoded data removed]"
          },
          "metadata": {
            "needs_background": "light"
          }
        }
      ]
    },
    {
      "cell_type": "code",
      "source": [
        "y_pred_ann = model.predict_classes(X_test)\n",
        "accuracy_score(y_test,y_pred_ann)"
      ],
      "metadata": {
        "colab": {
          "base_uri": "https://localhost:8080/"
        },
        "id": "tFuMyiLiPRLM",
        "outputId": "a9a382c1-85fb-4c91-e439-ca2da056f41b"
      },
      "execution_count": 78,
      "outputs": [
        {
          "output_type": "stream",
          "name": "stderr",
          "text": [
            "/usr/local/lib/python3.7/dist-packages/tensorflow/python/keras/engine/sequential.py:455: UserWarning: `model.predict_classes()` is deprecated and will be removed after 2021-01-01. Please use instead:* `np.argmax(model.predict(x), axis=-1)`,   if your model does multi-class classification   (e.g. if it uses a `softmax` last-layer activation).* `(model.predict(x) > 0.5).astype(\"int32\")`,   if your model does binary classification   (e.g. if it uses a `sigmoid` last-layer activation).\n",
            "  warnings.warn('`model.predict_classes()` is deprecated and '\n"
          ]
        },
        {
          "output_type": "execute_result",
          "data": {
            "text/plain": [
              "0.9876923076923076"
            ]
          },
          "metadata": {},
          "execution_count": 78
        }
      ]
    },
    {
      "cell_type": "markdown",
      "source": [
        "F Test"
      ],
      "metadata": {
        "id": "YTObh4n3QPE0"
      }
    },
    {
      "cell_type": "markdown",
      "source": [
        "Dataset according to F test"
      ],
      "metadata": {
        "id": "STe_p7CUUeMJ"
      }
    },
    {
      "cell_type": "code",
      "source": [
        "rank6  = pd.read_excel(\"/content/Wine_dataset (1).xlsx\",sheet_name = \"F_test\").set_index('Attributes_Names')\n",
        "df_f_test  = df[rank6[:6].index]"
      ],
      "metadata": {
        "id": "SVhlsEq0PRI1"
      },
      "execution_count": 85,
      "outputs": []
    },
    {
      "cell_type": "code",
      "source": [
        "X_col =  df_f_test\n",
        "y = LabelEncoder().fit_transform(df['style'])\n",
        "Scaler = StandardScaler()\n",
        "X_col =  Scaler.fit_transform(X_col)\n",
        "X_train, X_test, y_train, y_test = train_test_split(X_col, y, test_size=0.2, random_state=0)\n",
        "print(\"Shape of training data\",X_train.shape)\n",
        "print(\"Shape of testing data\",X_test.shape)"
      ],
      "metadata": {
        "colab": {
          "base_uri": "https://localhost:8080/"
        },
        "id": "oxQO4ijCPRFs",
        "outputId": "678187dc-3e30-4b99-ed23-b2d5dfed4d44"
      },
      "execution_count": 86,
      "outputs": [
        {
          "output_type": "stream",
          "name": "stdout",
          "text": [
            "Shape of training data (5197, 6)\n",
            "Shape of testing data (1300, 6)\n"
          ]
        }
      ]
    },
    {
      "cell_type": "markdown",
      "source": [
        "Random Forest"
      ],
      "metadata": {
        "id": "GSx-BvLSUlwd"
      }
    },
    {
      "cell_type": "code",
      "source": [
        "rf =  RandomForestClassifier()\n",
        "rf.fit(X_train,y_train)\n",
        "y_pred_rf =  rf.predict(X_test)\n",
        "accuracy_score(y_test,y_pred_rf)"
      ],
      "metadata": {
        "colab": {
          "base_uri": "https://localhost:8080/"
        },
        "id": "CSeCYhy-QtXp",
        "outputId": "65069896-0e96-4e48-891b-990e03e6e8b3"
      },
      "execution_count": 87,
      "outputs": [
        {
          "output_type": "execute_result",
          "data": {
            "text/plain": [
              "0.9923076923076923"
            ]
          },
          "metadata": {},
          "execution_count": 87
        }
      ]
    },
    {
      "cell_type": "markdown",
      "source": [
        "SVM"
      ],
      "metadata": {
        "id": "jGw7w0-PUnCH"
      }
    },
    {
      "cell_type": "code",
      "source": [
        "svc =  SVC()\n",
        "svc.fit(X_test,y_test)\n",
        "y_pred_svc =  svc.predict(X_test)\n",
        "accuracy_score(y_test,y_pred_svc)"
      ],
      "metadata": {
        "colab": {
          "base_uri": "https://localhost:8080/"
        },
        "id": "wl5C3HzdQtU4",
        "outputId": "32b71ca5-091b-4496-c506-d2bb46053384"
      },
      "execution_count": 88,
      "outputs": [
        {
          "output_type": "execute_result",
          "data": {
            "text/plain": [
              "0.9961538461538462"
            ]
          },
          "metadata": {},
          "execution_count": 88
        }
      ]
    },
    {
      "cell_type": "markdown",
      "source": [
        "ANN"
      ],
      "metadata": {
        "id": "ylBzWYpUUoMx"
      }
    },
    {
      "cell_type": "code",
      "source": [
        "model = tf.keras.Sequential([\n",
        "    tf.keras.layers.Dense(6, activation='relu', input_shape=(6,)),\n",
        "    tf.keras.layers.BatchNormalization(),\n",
        "    tf.keras.layers.Dense(12, activation='relu'),\n",
        "    tf.keras.layers.BatchNormalization(),\n",
        "    tf.keras.layers.Dense(24, activation='relu'),\n",
        "    tf.keras.layers.Dropout(0.5),\n",
        "    tf.keras.layers.Dense(1,activation='sigmoid')\n",
        "  ])\n",
        "model.compile(loss='binary_crossentropy',\n",
        "              optimizer = 'adam',\n",
        "              metrics=['accuracy'])\n",
        "model.summary()"
      ],
      "metadata": {
        "colab": {
          "base_uri": "https://localhost:8080/"
        },
        "id": "IYCe8X5MQtSV",
        "outputId": "eb2fba4b-f4bb-46c1-c22c-8291950a785f"
      },
      "execution_count": 89,
      "outputs": [
        {
          "output_type": "stream",
          "name": "stdout",
          "text": [
            "Model: \"sequential_7\"\n",
            "_________________________________________________________________\n",
            "Layer (type)                 Output Shape              Param #   \n",
            "=================================================================\n",
            "dense_28 (Dense)             (None, 6)                 42        \n",
            "_________________________________________________________________\n",
            "batch_normalization_14 (Batc (None, 6)                 24        \n",
            "_________________________________________________________________\n",
            "dense_29 (Dense)             (None, 12)                84        \n",
            "_________________________________________________________________\n",
            "batch_normalization_15 (Batc (None, 12)                48        \n",
            "_________________________________________________________________\n",
            "dense_30 (Dense)             (None, 24)                312       \n",
            "_________________________________________________________________\n",
            "dropout_7 (Dropout)          (None, 24)                0         \n",
            "_________________________________________________________________\n",
            "dense_31 (Dense)             (None, 1)                 25        \n",
            "=================================================================\n",
            "Total params: 535\n",
            "Trainable params: 499\n",
            "Non-trainable params: 36\n",
            "_________________________________________________________________\n"
          ]
        }
      ]
    },
    {
      "cell_type": "code",
      "source": [
        "h = model.fit(X_train,y_train,epochs=50,validation_data=(X_test,y_test))"
      ],
      "metadata": {
        "colab": {
          "base_uri": "https://localhost:8080/"
        },
        "id": "RS5bf-HkQtOe",
        "outputId": "1cd428a4-f7f6-4b7b-a0e4-61e37b3bac98"
      },
      "execution_count": 90,
      "outputs": [
        {
          "output_type": "stream",
          "name": "stdout",
          "text": [
            "Epoch 1/50\n",
            "163/163 [==============================] - 1s 3ms/step - loss: 0.3891 - accuracy: 0.8439 - val_loss: 0.2292 - val_accuracy: 0.9492\n",
            "Epoch 2/50\n",
            "163/163 [==============================] - 0s 2ms/step - loss: 0.1688 - accuracy: 0.9471 - val_loss: 0.0709 - val_accuracy: 0.9846\n",
            "Epoch 3/50\n",
            "163/163 [==============================] - 0s 2ms/step - loss: 0.1159 - accuracy: 0.9617 - val_loss: 0.0442 - val_accuracy: 0.9877\n",
            "Epoch 4/50\n",
            "163/163 [==============================] - 0s 2ms/step - loss: 0.0927 - accuracy: 0.9706 - val_loss: 0.0337 - val_accuracy: 0.9846\n",
            "Epoch 5/50\n",
            "163/163 [==============================] - 0s 2ms/step - loss: 0.0755 - accuracy: 0.9767 - val_loss: 0.0281 - val_accuracy: 0.9923\n",
            "Epoch 6/50\n",
            "163/163 [==============================] - 0s 2ms/step - loss: 0.0764 - accuracy: 0.9775 - val_loss: 0.0251 - val_accuracy: 0.9915\n",
            "Epoch 7/50\n",
            "163/163 [==============================] - 0s 2ms/step - loss: 0.0653 - accuracy: 0.9808 - val_loss: 0.0236 - val_accuracy: 0.9908\n",
            "Epoch 8/50\n",
            "163/163 [==============================] - 0s 2ms/step - loss: 0.0597 - accuracy: 0.9821 - val_loss: 0.0196 - val_accuracy: 0.9915\n",
            "Epoch 9/50\n",
            "163/163 [==============================] - 0s 2ms/step - loss: 0.0610 - accuracy: 0.9842 - val_loss: 0.0195 - val_accuracy: 0.9915\n",
            "Epoch 10/50\n",
            "163/163 [==============================] - 0s 2ms/step - loss: 0.0635 - accuracy: 0.9806 - val_loss: 0.0184 - val_accuracy: 0.9931\n",
            "Epoch 11/50\n",
            "163/163 [==============================] - 0s 2ms/step - loss: 0.0571 - accuracy: 0.9808 - val_loss: 0.0182 - val_accuracy: 0.9931\n",
            "Epoch 12/50\n",
            "163/163 [==============================] - 0s 2ms/step - loss: 0.0595 - accuracy: 0.9823 - val_loss: 0.0185 - val_accuracy: 0.9938\n",
            "Epoch 13/50\n",
            "163/163 [==============================] - 0s 2ms/step - loss: 0.0555 - accuracy: 0.9842 - val_loss: 0.0180 - val_accuracy: 0.9931\n",
            "Epoch 14/50\n",
            "163/163 [==============================] - 0s 2ms/step - loss: 0.0583 - accuracy: 0.9854 - val_loss: 0.0175 - val_accuracy: 0.9938\n",
            "Epoch 15/50\n",
            "163/163 [==============================] - 0s 2ms/step - loss: 0.0491 - accuracy: 0.9852 - val_loss: 0.0200 - val_accuracy: 0.9938\n",
            "Epoch 16/50\n",
            "163/163 [==============================] - 0s 2ms/step - loss: 0.0531 - accuracy: 0.9846 - val_loss: 0.0177 - val_accuracy: 0.9931\n",
            "Epoch 17/50\n",
            "163/163 [==============================] - 0s 2ms/step - loss: 0.0553 - accuracy: 0.9869 - val_loss: 0.0177 - val_accuracy: 0.9923\n",
            "Epoch 18/50\n",
            "163/163 [==============================] - 0s 2ms/step - loss: 0.0526 - accuracy: 0.9860 - val_loss: 0.0193 - val_accuracy: 0.9931\n",
            "Epoch 19/50\n",
            "163/163 [==============================] - 0s 2ms/step - loss: 0.0462 - accuracy: 0.9863 - val_loss: 0.0172 - val_accuracy: 0.9915\n",
            "Epoch 20/50\n",
            "163/163 [==============================] - 0s 2ms/step - loss: 0.0499 - accuracy: 0.9873 - val_loss: 0.0165 - val_accuracy: 0.9923\n",
            "Epoch 21/50\n",
            "163/163 [==============================] - 0s 2ms/step - loss: 0.0498 - accuracy: 0.9848 - val_loss: 0.0176 - val_accuracy: 0.9923\n",
            "Epoch 22/50\n",
            "163/163 [==============================] - 0s 2ms/step - loss: 0.0456 - accuracy: 0.9869 - val_loss: 0.0173 - val_accuracy: 0.9923\n",
            "Epoch 23/50\n",
            "163/163 [==============================] - 0s 2ms/step - loss: 0.0497 - accuracy: 0.9842 - val_loss: 0.0182 - val_accuracy: 0.9931\n",
            "Epoch 24/50\n",
            "163/163 [==============================] - 0s 2ms/step - loss: 0.0464 - accuracy: 0.9890 - val_loss: 0.0194 - val_accuracy: 0.9915\n",
            "Epoch 25/50\n",
            "163/163 [==============================] - 0s 2ms/step - loss: 0.0466 - accuracy: 0.9877 - val_loss: 0.0184 - val_accuracy: 0.9915\n",
            "Epoch 26/50\n",
            "163/163 [==============================] - 0s 2ms/step - loss: 0.0465 - accuracy: 0.9881 - val_loss: 0.0192 - val_accuracy: 0.9915\n",
            "Epoch 27/50\n",
            "163/163 [==============================] - 0s 2ms/step - loss: 0.0470 - accuracy: 0.9888 - val_loss: 0.0197 - val_accuracy: 0.9923\n",
            "Epoch 28/50\n",
            "163/163 [==============================] - 0s 2ms/step - loss: 0.0412 - accuracy: 0.9900 - val_loss: 0.0189 - val_accuracy: 0.9923\n",
            "Epoch 29/50\n",
            "163/163 [==============================] - 0s 2ms/step - loss: 0.0467 - accuracy: 0.9892 - val_loss: 0.0182 - val_accuracy: 0.9923\n",
            "Epoch 30/50\n",
            "163/163 [==============================] - 0s 2ms/step - loss: 0.0454 - accuracy: 0.9892 - val_loss: 0.0174 - val_accuracy: 0.9923\n",
            "Epoch 31/50\n",
            "163/163 [==============================] - 0s 2ms/step - loss: 0.0451 - accuracy: 0.9888 - val_loss: 0.0184 - val_accuracy: 0.9923\n",
            "Epoch 32/50\n",
            "163/163 [==============================] - 0s 2ms/step - loss: 0.0478 - accuracy: 0.9879 - val_loss: 0.0174 - val_accuracy: 0.9915\n",
            "Epoch 33/50\n",
            "163/163 [==============================] - 0s 2ms/step - loss: 0.0443 - accuracy: 0.9902 - val_loss: 0.0189 - val_accuracy: 0.9931\n",
            "Epoch 34/50\n",
            "163/163 [==============================] - 0s 2ms/step - loss: 0.0542 - accuracy: 0.9886 - val_loss: 0.0180 - val_accuracy: 0.9938\n",
            "Epoch 35/50\n",
            "163/163 [==============================] - 0s 2ms/step - loss: 0.0472 - accuracy: 0.9885 - val_loss: 0.0180 - val_accuracy: 0.9938\n",
            "Epoch 36/50\n",
            "163/163 [==============================] - 0s 2ms/step - loss: 0.0418 - accuracy: 0.9906 - val_loss: 0.0184 - val_accuracy: 0.9938\n",
            "Epoch 37/50\n",
            "163/163 [==============================] - 0s 2ms/step - loss: 0.0436 - accuracy: 0.9900 - val_loss: 0.0186 - val_accuracy: 0.9938\n",
            "Epoch 38/50\n",
            "163/163 [==============================] - 0s 2ms/step - loss: 0.0422 - accuracy: 0.9879 - val_loss: 0.0180 - val_accuracy: 0.9923\n",
            "Epoch 39/50\n",
            "163/163 [==============================] - 0s 2ms/step - loss: 0.0580 - accuracy: 0.9850 - val_loss: 0.0179 - val_accuracy: 0.9946\n",
            "Epoch 40/50\n",
            "163/163 [==============================] - 0s 2ms/step - loss: 0.0423 - accuracy: 0.9911 - val_loss: 0.0186 - val_accuracy: 0.9931\n",
            "Epoch 41/50\n",
            "163/163 [==============================] - 0s 2ms/step - loss: 0.0528 - accuracy: 0.9856 - val_loss: 0.0190 - val_accuracy: 0.9946\n",
            "Epoch 42/50\n",
            "163/163 [==============================] - 0s 2ms/step - loss: 0.0476 - accuracy: 0.9896 - val_loss: 0.0193 - val_accuracy: 0.9931\n",
            "Epoch 43/50\n",
            "163/163 [==============================] - 0s 2ms/step - loss: 0.0441 - accuracy: 0.9910 - val_loss: 0.0191 - val_accuracy: 0.9938\n",
            "Epoch 44/50\n",
            "163/163 [==============================] - 0s 2ms/step - loss: 0.0383 - accuracy: 0.9913 - val_loss: 0.0183 - val_accuracy: 0.9938\n",
            "Epoch 45/50\n",
            "163/163 [==============================] - 0s 2ms/step - loss: 0.0409 - accuracy: 0.9900 - val_loss: 0.0189 - val_accuracy: 0.9915\n",
            "Epoch 46/50\n",
            "163/163 [==============================] - 0s 2ms/step - loss: 0.0440 - accuracy: 0.9911 - val_loss: 0.0200 - val_accuracy: 0.9923\n",
            "Epoch 47/50\n",
            "163/163 [==============================] - 0s 2ms/step - loss: 0.0424 - accuracy: 0.9904 - val_loss: 0.0195 - val_accuracy: 0.9915\n",
            "Epoch 48/50\n",
            "163/163 [==============================] - 0s 2ms/step - loss: 0.0470 - accuracy: 0.9896 - val_loss: 0.0190 - val_accuracy: 0.9938\n",
            "Epoch 49/50\n",
            "163/163 [==============================] - 0s 2ms/step - loss: 0.0386 - accuracy: 0.9896 - val_loss: 0.0189 - val_accuracy: 0.9938\n",
            "Epoch 50/50\n",
            "163/163 [==============================] - 0s 2ms/step - loss: 0.0441 - accuracy: 0.9898 - val_loss: 0.0212 - val_accuracy: 0.9915\n"
          ]
        }
      ]
    },
    {
      "cell_type": "code",
      "source": [
        "plt.plot(h.history['accuracy'], label = 'Accuracy for Train set')\n",
        "plt.plot(h.history['val_accuracy'], label = 'Accuracy for Test Set')\n",
        "plt.title('Accuracy Graph for ANN')\n",
        "plt.ylabel('Accuracy')\n",
        "plt.xlabel('epochs')\n",
        "plt.legend()"
      ],
      "metadata": {
        "colab": {
          "base_uri": "https://localhost:8080/",
          "height": 312
        },
        "id": "qJSSahyTQ92Y",
        "outputId": "da76099d-b8ed-4513-c0c2-245aa34481e8"
      },
      "execution_count": 91,
      "outputs": [
        {
          "output_type": "execute_result",
          "data": {
            "text/plain": [
              "<matplotlib.legend.Legend at 0x7f105cb4fb90>"
            ]
          },
          "metadata": {},
          "execution_count": 91
        },
        {
          "output_type": "display_data",
          "data": {
            "text/plain": [
              "<Figure size 432x288 with 1 Axes>"
            ],
            "image/png": "[encoded data removed]"
          },
          "metadata": {
            "needs_background": "light"
          }
        }
      ]
    },
    {
      "cell_type": "code",
      "source": [
        "plt.plot(h.history['loss'], label = 'loss for Train set')\n",
        "plt.plot(h.history['val_loss'], label = 'loss for Test Set')\n",
        "plt.title('loss Graph for ANN')\n",
        "plt.ylabel('loss')\n",
        "plt.xlabel('epochs')\n",
        "plt.legend()"
      ],
      "metadata": {
        "colab": {
          "base_uri": "https://localhost:8080/",
          "height": 312
        },
        "id": "F2yFh1WjQ9zM",
        "outputId": "e2780cb0-54c4-4c66-ef4d-977ecab7843c"
      },
      "execution_count": 92,
      "outputs": [
        {
          "output_type": "execute_result",
          "data": {
            "text/plain": [
              "<matplotlib.legend.Legend at 0x7f1064dfd0d0>"
            ]
          },
          "metadata": {},
          "execution_count": 92
        },
        {
          "output_type": "display_data",
          "data": {
            "text/plain": [
              "<Figure size 432x288 with 1 Axes>"
            ],
            "image/png": "[encoded data removed]"
          },
          "metadata": {
            "needs_background": "light"
          }
        }
      ]
    },
    {
      "cell_type": "code",
      "source": [
        "y_pred_ann = model.predict_classes(X_test)\n",
        "accuracy_score(y_test,y_pred_ann)"
      ],
      "metadata": {
        "colab": {
          "base_uri": "https://localhost:8080/"
        },
        "id": "ggcGfkhiQ9wI",
        "outputId": "8c09c740-f102-49a2-91d7-af3955e7ef87"
      },
      "execution_count": 93,
      "outputs": [
        {
          "output_type": "stream",
          "name": "stderr",
          "text": [
            "/usr/local/lib/python3.7/dist-packages/tensorflow/python/keras/engine/sequential.py:455: UserWarning: `model.predict_classes()` is deprecated and will be removed after 2021-01-01. Please use instead:* `np.argmax(model.predict(x), axis=-1)`,   if your model does multi-class classification   (e.g. if it uses a `softmax` last-layer activation).* `(model.predict(x) > 0.5).astype(\"int32\")`,   if your model does binary classification   (e.g. if it uses a `sigmoid` last-layer activation).\n",
            "  warnings.warn('`model.predict_classes()` is deprecated and '\n"
          ]
        },
        {
          "output_type": "execute_result",
          "data": {
            "text/plain": [
              "0.9915384615384616"
            ]
          },
          "metadata": {},
          "execution_count": 93
        }
      ]
    },
    {
      "cell_type": "markdown",
      "source": [
        "Mutual Info"
      ],
      "metadata": {
        "id": "5KDlLl6nRrik"
      }
    },
    {
      "cell_type": "markdown",
      "source": [
        "Dataset according to Mutual info"
      ],
      "metadata": {
        "id": "Ad4q8zhLUrDK"
      }
    },
    {
      "cell_type": "code",
      "source": [
        "rank7  = pd.read_excel(\"/content/Wine_dataset (1).xlsx\",sheet_name = \"mutual_info\").set_index('Attributes_Names')\n",
        "df_mutual = df[rank7[:6].index]"
      ],
      "metadata": {
        "id": "8flpcvShRrHN"
      },
      "execution_count": 95,
      "outputs": []
    },
    {
      "cell_type": "code",
      "source": [
        "X_col =  df_mutual\n",
        "y = LabelEncoder().fit_transform(df['style'])\n",
        "Scaler = StandardScaler()\n",
        "X_col =  Scaler.fit_transform(X_col)\n",
        "X_train, X_test, y_train, y_test = train_test_split(X_col, y, test_size=0.2, random_state=0)\n",
        "print(\"Shape of training data\",X_train.shape)\n",
        "print(\"Shape of testing data\",X_test.shape)"
      ],
      "metadata": {
        "colab": {
          "base_uri": "https://localhost:8080/"
        },
        "id": "Lt0f3fY_Rq0Y",
        "outputId": "984b5652-59b6-4c10-c171-20ac8a6ec8d7"
      },
      "execution_count": 96,
      "outputs": [
        {
          "output_type": "stream",
          "name": "stdout",
          "text": [
            "Shape of training data (5197, 6)\n",
            "Shape of testing data (1300, 6)\n"
          ]
        }
      ]
    },
    {
      "cell_type": "markdown",
      "source": [
        "Random Forest"
      ],
      "metadata": {
        "id": "0cucqTciUvia"
      }
    },
    {
      "cell_type": "code",
      "source": [
        "rf =  RandomForestClassifier()\n",
        "rf.fit(X_train,y_train)\n",
        "y_pred_rf =  rf.predict(X_test)\n",
        "accuracy_score(y_test,y_pred_rf)"
      ],
      "metadata": {
        "colab": {
          "base_uri": "https://localhost:8080/"
        },
        "id": "yBz7_iZFSDku",
        "outputId": "774eccdb-de42-42d8-ab6d-5426a16f6e81"
      },
      "execution_count": 97,
      "outputs": [
        {
          "output_type": "execute_result",
          "data": {
            "text/plain": [
              "0.9946153846153846"
            ]
          },
          "metadata": {},
          "execution_count": 97
        }
      ]
    },
    {
      "cell_type": "markdown",
      "source": [
        "SVM"
      ],
      "metadata": {
        "id": "1W5IMQS9UxcQ"
      }
    },
    {
      "cell_type": "code",
      "source": [
        "svc =  SVC()\n",
        "svc.fit(X_test,y_test)\n",
        "y_pred_svc =  svc.predict(X_test)\n",
        "accuracy_score(y_test,y_pred_svc)"
      ],
      "metadata": {
        "colab": {
          "base_uri": "https://localhost:8080/"
        },
        "id": "UBZjPgjzSDhw",
        "outputId": "5561ebcc-8fbb-4500-a9e1-63ec218c1102"
      },
      "execution_count": 98,
      "outputs": [
        {
          "output_type": "execute_result",
          "data": {
            "text/plain": [
              "0.9938461538461538"
            ]
          },
          "metadata": {},
          "execution_count": 98
        }
      ]
    },
    {
      "cell_type": "markdown",
      "source": [
        "ANN"
      ],
      "metadata": {
        "id": "te4pPnEyUyuB"
      }
    },
    {
      "cell_type": "code",
      "source": [
        "model = tf.keras.Sequential([\n",
        "    tf.keras.layers.Dense(6, activation='relu', input_shape=(6,)),\n",
        "    tf.keras.layers.BatchNormalization(),\n",
        "    tf.keras.layers.Dense(12, activation='relu'),\n",
        "    tf.keras.layers.BatchNormalization(),\n",
        "    tf.keras.layers.Dense(24, activation='relu'),\n",
        "    tf.keras.layers.Dropout(0.5),\n",
        "    tf.keras.layers.Dense(1,activation='sigmoid')\n",
        "  ])\n",
        "model.compile(loss='binary_crossentropy',\n",
        "              optimizer = 'adam',\n",
        "              metrics=['accuracy'])\n",
        "model.summary()"
      ],
      "metadata": {
        "colab": {
          "base_uri": "https://localhost:8080/"
        },
        "id": "PhGvamtqSDfI",
        "outputId": "53ba37bb-b771-4900-afeb-1539fa996658"
      },
      "execution_count": 99,
      "outputs": [
        {
          "output_type": "stream",
          "name": "stdout",
          "text": [
            "Model: \"sequential_8\"\n",
            "_________________________________________________________________\n",
            "Layer (type)                 Output Shape              Param #   \n",
            "=================================================================\n",
            "dense_32 (Dense)             (None, 6)                 42        \n",
            "_________________________________________________________________\n",
            "batch_normalization_16 (Batc (None, 6)                 24        \n",
            "_________________________________________________________________\n",
            "dense_33 (Dense)             (None, 12)                84        \n",
            "_________________________________________________________________\n",
            "batch_normalization_17 (Batc (None, 12)                48        \n",
            "_________________________________________________________________\n",
            "dense_34 (Dense)             (None, 24)                312       \n",
            "_________________________________________________________________\n",
            "dropout_8 (Dropout)          (None, 24)                0         \n",
            "_________________________________________________________________\n",
            "dense_35 (Dense)             (None, 1)                 25        \n",
            "=================================================================\n",
            "Total params: 535\n",
            "Trainable params: 499\n",
            "Non-trainable params: 36\n",
            "_________________________________________________________________\n"
          ]
        }
      ]
    },
    {
      "cell_type": "code",
      "source": [
        "h = model.fit(X_train,y_train,epochs=50,validation_data=(X_test,y_test))"
      ],
      "metadata": {
        "colab": {
          "base_uri": "https://localhost:8080/"
        },
        "id": "wq7b2N1QSDcT",
        "outputId": "06dc4cca-5f80-4e6a-86e1-f358e27ec7fb"
      },
      "execution_count": 100,
      "outputs": [
        {
          "output_type": "stream",
          "name": "stdout",
          "text": [
            "Epoch 1/50\n",
            "163/163 [==============================] - 1s 3ms/step - loss: 0.4713 - accuracy: 0.7839 - val_loss: 0.2613 - val_accuracy: 0.9638\n",
            "Epoch 2/50\n",
            "163/163 [==============================] - 0s 2ms/step - loss: 0.1805 - accuracy: 0.9644 - val_loss: 0.0796 - val_accuracy: 0.9831\n",
            "Epoch 3/50\n",
            "163/163 [==============================] - 0s 2ms/step - loss: 0.1132 - accuracy: 0.9748 - val_loss: 0.0420 - val_accuracy: 0.9885\n",
            "Epoch 4/50\n",
            "163/163 [==============================] - 0s 2ms/step - loss: 0.0774 - accuracy: 0.9827 - val_loss: 0.0313 - val_accuracy: 0.9908\n",
            "Epoch 5/50\n",
            "163/163 [==============================] - 0s 2ms/step - loss: 0.0702 - accuracy: 0.9848 - val_loss: 0.0294 - val_accuracy: 0.9915\n",
            "Epoch 6/50\n",
            "163/163 [==============================] - 0s 2ms/step - loss: 0.0638 - accuracy: 0.9854 - val_loss: 0.0279 - val_accuracy: 0.9908\n",
            "Epoch 7/50\n",
            "163/163 [==============================] - 0s 2ms/step - loss: 0.0651 - accuracy: 0.9873 - val_loss: 0.0278 - val_accuracy: 0.9908\n",
            "Epoch 8/50\n",
            "163/163 [==============================] - 0s 2ms/step - loss: 0.0589 - accuracy: 0.9860 - val_loss: 0.0278 - val_accuracy: 0.9915\n",
            "Epoch 9/50\n",
            "163/163 [==============================] - 0s 2ms/step - loss: 0.0596 - accuracy: 0.9883 - val_loss: 0.0277 - val_accuracy: 0.9923\n",
            "Epoch 10/50\n",
            "163/163 [==============================] - 0s 2ms/step - loss: 0.0582 - accuracy: 0.9885 - val_loss: 0.0265 - val_accuracy: 0.9923\n",
            "Epoch 11/50\n",
            "163/163 [==============================] - 0s 2ms/step - loss: 0.0523 - accuracy: 0.9890 - val_loss: 0.0267 - val_accuracy: 0.9923\n",
            "Epoch 12/50\n",
            "163/163 [==============================] - 0s 2ms/step - loss: 0.0521 - accuracy: 0.9894 - val_loss: 0.0267 - val_accuracy: 0.9923\n",
            "Epoch 13/50\n",
            "163/163 [==============================] - 0s 2ms/step - loss: 0.0595 - accuracy: 0.9885 - val_loss: 0.0260 - val_accuracy: 0.9908\n",
            "Epoch 14/50\n",
            "163/163 [==============================] - 0s 2ms/step - loss: 0.0511 - accuracy: 0.9892 - val_loss: 0.0254 - val_accuracy: 0.9923\n",
            "Epoch 15/50\n",
            "163/163 [==============================] - 0s 2ms/step - loss: 0.0519 - accuracy: 0.9896 - val_loss: 0.0260 - val_accuracy: 0.9931\n",
            "Epoch 16/50\n",
            "163/163 [==============================] - 0s 2ms/step - loss: 0.0455 - accuracy: 0.9908 - val_loss: 0.0252 - val_accuracy: 0.9923\n",
            "Epoch 17/50\n",
            "163/163 [==============================] - 0s 2ms/step - loss: 0.0516 - accuracy: 0.9888 - val_loss: 0.0267 - val_accuracy: 0.9915\n",
            "Epoch 18/50\n",
            "163/163 [==============================] - 0s 2ms/step - loss: 0.0574 - accuracy: 0.9896 - val_loss: 0.0254 - val_accuracy: 0.9923\n",
            "Epoch 19/50\n",
            "163/163 [==============================] - 0s 2ms/step - loss: 0.0451 - accuracy: 0.9898 - val_loss: 0.0241 - val_accuracy: 0.9931\n",
            "Epoch 20/50\n",
            "163/163 [==============================] - 0s 2ms/step - loss: 0.0446 - accuracy: 0.9890 - val_loss: 0.0253 - val_accuracy: 0.9915\n",
            "Epoch 21/50\n",
            "163/163 [==============================] - 0s 2ms/step - loss: 0.0481 - accuracy: 0.9892 - val_loss: 0.0254 - val_accuracy: 0.9923\n",
            "Epoch 22/50\n",
            "163/163 [==============================] - 0s 2ms/step - loss: 0.0457 - accuracy: 0.9921 - val_loss: 0.0228 - val_accuracy: 0.9923\n",
            "Epoch 23/50\n",
            "163/163 [==============================] - 0s 2ms/step - loss: 0.0461 - accuracy: 0.9906 - val_loss: 0.0226 - val_accuracy: 0.9915\n",
            "Epoch 24/50\n",
            "163/163 [==============================] - 0s 2ms/step - loss: 0.0480 - accuracy: 0.9885 - val_loss: 0.0239 - val_accuracy: 0.9923\n",
            "Epoch 25/50\n",
            "163/163 [==============================] - 0s 2ms/step - loss: 0.0444 - accuracy: 0.9911 - val_loss: 0.0238 - val_accuracy: 0.9923\n",
            "Epoch 26/50\n",
            "163/163 [==============================] - 0s 2ms/step - loss: 0.0408 - accuracy: 0.9906 - val_loss: 0.0239 - val_accuracy: 0.9923\n",
            "Epoch 27/50\n",
            "163/163 [==============================] - 0s 2ms/step - loss: 0.0413 - accuracy: 0.9911 - val_loss: 0.0258 - val_accuracy: 0.9923\n",
            "Epoch 28/50\n",
            "163/163 [==============================] - 0s 2ms/step - loss: 0.0423 - accuracy: 0.9900 - val_loss: 0.0250 - val_accuracy: 0.9923\n",
            "Epoch 29/50\n",
            "163/163 [==============================] - 0s 2ms/step - loss: 0.0433 - accuracy: 0.9908 - val_loss: 0.0250 - val_accuracy: 0.9908\n",
            "Epoch 30/50\n",
            "163/163 [==============================] - 0s 2ms/step - loss: 0.0432 - accuracy: 0.9894 - val_loss: 0.0261 - val_accuracy: 0.9923\n",
            "Epoch 31/50\n",
            "163/163 [==============================] - 0s 2ms/step - loss: 0.0434 - accuracy: 0.9900 - val_loss: 0.0259 - val_accuracy: 0.9923\n",
            "Epoch 32/50\n",
            "163/163 [==============================] - 0s 2ms/step - loss: 0.0398 - accuracy: 0.9910 - val_loss: 0.0268 - val_accuracy: 0.9923\n",
            "Epoch 33/50\n",
            "163/163 [==============================] - 0s 2ms/step - loss: 0.0437 - accuracy: 0.9906 - val_loss: 0.0242 - val_accuracy: 0.9915\n",
            "Epoch 34/50\n",
            "163/163 [==============================] - 0s 2ms/step - loss: 0.0429 - accuracy: 0.9910 - val_loss: 0.0233 - val_accuracy: 0.9923\n",
            "Epoch 35/50\n",
            "163/163 [==============================] - 0s 2ms/step - loss: 0.0405 - accuracy: 0.9896 - val_loss: 0.0253 - val_accuracy: 0.9923\n",
            "Epoch 36/50\n",
            "163/163 [==============================] - 0s 2ms/step - loss: 0.0421 - accuracy: 0.9906 - val_loss: 0.0265 - val_accuracy: 0.9923\n",
            "Epoch 37/50\n",
            "163/163 [==============================] - 0s 2ms/step - loss: 0.0384 - accuracy: 0.9915 - val_loss: 0.0242 - val_accuracy: 0.9915\n",
            "Epoch 38/50\n",
            "163/163 [==============================] - 0s 2ms/step - loss: 0.0404 - accuracy: 0.9904 - val_loss: 0.0229 - val_accuracy: 0.9915\n",
            "Epoch 39/50\n",
            "163/163 [==============================] - 0s 2ms/step - loss: 0.0415 - accuracy: 0.9902 - val_loss: 0.0264 - val_accuracy: 0.9923\n",
            "Epoch 40/50\n",
            "163/163 [==============================] - 0s 2ms/step - loss: 0.0420 - accuracy: 0.9898 - val_loss: 0.0278 - val_accuracy: 0.9923\n",
            "Epoch 41/50\n",
            "163/163 [==============================] - 0s 2ms/step - loss: 0.0366 - accuracy: 0.9915 - val_loss: 0.0236 - val_accuracy: 0.9915\n",
            "Epoch 42/50\n",
            "163/163 [==============================] - 0s 2ms/step - loss: 0.0428 - accuracy: 0.9898 - val_loss: 0.0222 - val_accuracy: 0.9908\n",
            "Epoch 43/50\n",
            "163/163 [==============================] - 0s 2ms/step - loss: 0.0380 - accuracy: 0.9911 - val_loss: 0.0252 - val_accuracy: 0.9923\n",
            "Epoch 44/50\n",
            "163/163 [==============================] - 0s 2ms/step - loss: 0.0381 - accuracy: 0.9917 - val_loss: 0.0255 - val_accuracy: 0.9915\n",
            "Epoch 45/50\n",
            "163/163 [==============================] - 0s 2ms/step - loss: 0.0393 - accuracy: 0.9896 - val_loss: 0.0263 - val_accuracy: 0.9915\n",
            "Epoch 46/50\n",
            "163/163 [==============================] - 0s 2ms/step - loss: 0.0361 - accuracy: 0.9915 - val_loss: 0.0261 - val_accuracy: 0.9915\n",
            "Epoch 47/50\n",
            "163/163 [==============================] - 0s 2ms/step - loss: 0.0358 - accuracy: 0.9911 - val_loss: 0.0232 - val_accuracy: 0.9915\n",
            "Epoch 48/50\n",
            "163/163 [==============================] - 0s 2ms/step - loss: 0.0336 - accuracy: 0.9915 - val_loss: 0.0253 - val_accuracy: 0.9915\n",
            "Epoch 49/50\n",
            "163/163 [==============================] - 0s 2ms/step - loss: 0.0385 - accuracy: 0.9910 - val_loss: 0.0256 - val_accuracy: 0.9915\n",
            "Epoch 50/50\n",
            "163/163 [==============================] - 0s 2ms/step - loss: 0.0408 - accuracy: 0.9898 - val_loss: 0.0249 - val_accuracy: 0.9915\n"
          ]
        }
      ]
    },
    {
      "cell_type": "code",
      "source": [
        "plt.plot(h.history['accuracy'], label = 'Accuracy for Train set')\n",
        "plt.plot(h.history['val_accuracy'], label = 'Accuracy for Test Set')\n",
        "plt.title('Accuracy Graph for ANN')\n",
        "plt.ylabel('Accuracy')\n",
        "plt.xlabel('epochs')\n",
        "plt.legend()"
      ],
      "metadata": {
        "colab": {
          "base_uri": "https://localhost:8080/",
          "height": 312
        },
        "id": "xkQpookgSDZu",
        "outputId": "cfcb1901-a157-46a8-cb04-028848cd52dc"
      },
      "execution_count": 101,
      "outputs": [
        {
          "output_type": "execute_result",
          "data": {
            "text/plain": [
              "<matplotlib.legend.Legend at 0x7f105e521550>"
            ]
          },
          "metadata": {},
          "execution_count": 101
        },
        {
          "output_type": "display_data",
          "data": {
            "text/plain": [
              "<Figure size 432x288 with 1 Axes>"
            ],
            "image/png": "[encoded data removed]"
          },
          "metadata": {
            "needs_background": "light"
          }
        }
      ]
    },
    {
      "cell_type": "code",
      "source": [
        "plt.plot(h.history['loss'], label = 'loss for Train set')\n",
        "plt.plot(h.history['val_loss'], label = 'loss for Test Set')\n",
        "plt.title('loss Graph for ANN')\n",
        "plt.ylabel('loss')\n",
        "plt.xlabel('epochs')\n",
        "plt.legend()"
      ],
      "metadata": {
        "colab": {
          "base_uri": "https://localhost:8080/",
          "height": 312
        },
        "id": "nAP40Zs6SXOV",
        "outputId": "1f2cf194-b4ea-49d5-bd8c-3fa192360aeb"
      },
      "execution_count": 102,
      "outputs": [
        {
          "output_type": "execute_result",
          "data": {
            "text/plain": [
              "<matplotlib.legend.Legend at 0x7f105e521b90>"
            ]
          },
          "metadata": {},
          "execution_count": 102
        },
        {
          "output_type": "display_data",
          "data": {
            "text/plain": [
              "<Figure size 432x288 with 1 Axes>"
            ],
            "image/png": "[encoded data removed]"
          },
          "metadata": {
            "needs_background": "light"
          }
        }
      ]
    },
    {
      "cell_type": "code",
      "source": [
        "y_pred_ann = model.predict_classes(X_test)\n",
        "accuracy_score(y_test,y_pred_ann)"
      ],
      "metadata": {
        "colab": {
          "base_uri": "https://localhost:8080/"
        },
        "id": "lo0jTvLhSXIK",
        "outputId": "77a1a352-af5a-4bbb-fe10-9a086c5f1173"
      },
      "execution_count": 103,
      "outputs": [
        {
          "output_type": "stream",
          "name": "stderr",
          "text": [
            "/usr/local/lib/python3.7/dist-packages/tensorflow/python/keras/engine/sequential.py:455: UserWarning: `model.predict_classes()` is deprecated and will be removed after 2021-01-01. Please use instead:* `np.argmax(model.predict(x), axis=-1)`,   if your model does multi-class classification   (e.g. if it uses a `softmax` last-layer activation).* `(model.predict(x) > 0.5).astype(\"int32\")`,   if your model does binary classification   (e.g. if it uses a `sigmoid` last-layer activation).\n",
            "  warnings.warn('`model.predict_classes()` is deprecated and '\n"
          ]
        },
        {
          "output_type": "execute_result",
          "data": {
            "text/plain": [
              "0.9915384615384616"
            ]
          },
          "metadata": {},
          "execution_count": 103
        }
      ]
    },
    {
      "cell_type": "markdown",
      "source": [
        "Pearson"
      ],
      "metadata": {
        "id": "9MkEVY1GSngH"
      }
    },
    {
      "cell_type": "markdown",
      "source": [
        "DataSet according to pearson"
      ],
      "metadata": {
        "id": "tuh3UJj8U1Sp"
      }
    },
    {
      "cell_type": "code",
      "source": [
        "rank8  = pd.read_excel(\"/content/Wine_dataset (1).xlsx\",sheet_name = \"Pearson_Correlation\").set_index('Attributes_Names')\n",
        "df_pearson =  df[rank8[:6].index]"
      ],
      "metadata": {
        "id": "0VbDJpXUSXFR"
      },
      "execution_count": 105,
      "outputs": []
    },
    {
      "cell_type": "code",
      "source": [
        "X_col =  df_pearson\n",
        "y = LabelEncoder().fit_transform(df['style'])\n",
        "Scaler = StandardScaler()\n",
        "X_col =  Scaler.fit_transform(X_col)\n",
        "X_train, X_test, y_train, y_test = train_test_split(X_col, y, test_size=0.2, random_state=0)\n",
        "print(\"Shape of training data\",X_train.shape)\n",
        "print(\"Shape of testing data\",X_test.shape)"
      ],
      "metadata": {
        "colab": {
          "base_uri": "https://localhost:8080/"
        },
        "id": "Gn3nKQlPSzmV",
        "outputId": "1d2e9a6f-eb06-44e7-a327-69dc7e075678"
      },
      "execution_count": 106,
      "outputs": [
        {
          "output_type": "stream",
          "name": "stdout",
          "text": [
            "Shape of training data (5197, 6)\n",
            "Shape of testing data (1300, 6)\n"
          ]
        }
      ]
    },
    {
      "cell_type": "markdown",
      "source": [
        "Random Forest"
      ],
      "metadata": {
        "id": "da1EOjXEU5lh"
      }
    },
    {
      "cell_type": "code",
      "source": [
        "rf =  RandomForestClassifier()\n",
        "rf.fit(X_train,y_train)\n",
        "y_pred_rf =  rf.predict(X_test)\n",
        "accuracy_score(y_test,y_pred_rf)"
      ],
      "metadata": {
        "colab": {
          "base_uri": "https://localhost:8080/"
        },
        "id": "DhxzXJU-Szjl",
        "outputId": "b95fd2c8-c5e6-420b-8494-bf3431dc18ae"
      },
      "execution_count": 107,
      "outputs": [
        {
          "output_type": "execute_result",
          "data": {
            "text/plain": [
              "0.9776923076923076"
            ]
          },
          "metadata": {},
          "execution_count": 107
        }
      ]
    },
    {
      "cell_type": "markdown",
      "source": [
        "SVM"
      ],
      "metadata": {
        "id": "_LvM2nu1U804"
      }
    },
    {
      "cell_type": "code",
      "source": [
        "svc =  SVC()\n",
        "svc.fit(X_test,y_test)\n",
        "y_pred_svc =  svc.predict(X_test)\n",
        "accuracy_score(y_test,y_pred_svc)"
      ],
      "metadata": {
        "colab": {
          "base_uri": "https://localhost:8080/"
        },
        "id": "DrpFpwgMSzfn",
        "outputId": "97fb7eb7-c782-4c79-d5ae-0b40e3c8cebd"
      },
      "execution_count": 108,
      "outputs": [
        {
          "output_type": "execute_result",
          "data": {
            "text/plain": [
              "0.953076923076923"
            ]
          },
          "metadata": {},
          "execution_count": 108
        }
      ]
    },
    {
      "cell_type": "markdown",
      "source": [
        "ANN"
      ],
      "metadata": {
        "id": "BupJ5VCBU-Ve"
      }
    },
    {
      "cell_type": "code",
      "source": [
        "model = tf.keras.Sequential([\n",
        "    tf.keras.layers.Dense(6, activation='relu', input_shape=(6,)),\n",
        "    tf.keras.layers.BatchNormalization(),\n",
        "    tf.keras.layers.Dense(12, activation='relu'),\n",
        "    tf.keras.layers.BatchNormalization(),\n",
        "    tf.keras.layers.Dense(24, activation='relu'),\n",
        "    tf.keras.layers.Dropout(0.5),\n",
        "    tf.keras.layers.Dense(1,activation='sigmoid')\n",
        "  ])\n",
        "model.compile(loss='binary_crossentropy',\n",
        "              optimizer = 'adam',\n",
        "              metrics=['accuracy'])\n",
        "model.summary()"
      ],
      "metadata": {
        "colab": {
          "base_uri": "https://localhost:8080/"
        },
        "id": "mpYgzeVQSyWl",
        "outputId": "91eff65b-268b-4f64-92d7-151fdb9ad81c"
      },
      "execution_count": 109,
      "outputs": [
        {
          "output_type": "stream",
          "name": "stdout",
          "text": [
            "Model: \"sequential_9\"\n",
            "_________________________________________________________________\n",
            "Layer (type)                 Output Shape              Param #   \n",
            "=================================================================\n",
            "dense_36 (Dense)             (None, 6)                 42        \n",
            "_________________________________________________________________\n",
            "batch_normalization_18 (Batc (None, 6)                 24        \n",
            "_________________________________________________________________\n",
            "dense_37 (Dense)             (None, 12)                84        \n",
            "_________________________________________________________________\n",
            "batch_normalization_19 (Batc (None, 12)                48        \n",
            "_________________________________________________________________\n",
            "dense_38 (Dense)             (None, 24)                312       \n",
            "_________________________________________________________________\n",
            "dropout_9 (Dropout)          (None, 24)                0         \n",
            "_________________________________________________________________\n",
            "dense_39 (Dense)             (None, 1)                 25        \n",
            "=================================================================\n",
            "Total params: 535\n",
            "Trainable params: 499\n",
            "Non-trainable params: 36\n",
            "_________________________________________________________________\n"
          ]
        }
      ]
    },
    {
      "cell_type": "code",
      "source": [
        "h = model.fit(X_train,y_train,epochs=50,validation_data=(X_test,y_test))"
      ],
      "metadata": {
        "colab": {
          "base_uri": "https://localhost:8080/"
        },
        "id": "bS_Vhb5_SyOl",
        "outputId": "eedf69b4-6c69-42a8-b734-fcf502383168"
      },
      "execution_count": 110,
      "outputs": [
        {
          "output_type": "stream",
          "name": "stdout",
          "text": [
            "Epoch 1/50\n",
            "163/163 [==============================] - 2s 5ms/step - loss: 0.5622 - accuracy: 0.7314 - val_loss: 0.4111 - val_accuracy: 0.8346\n",
            "Epoch 2/50\n",
            "163/163 [==============================] - 0s 3ms/step - loss: 0.3725 - accuracy: 0.8447 - val_loss: 0.2630 - val_accuracy: 0.9062\n",
            "Epoch 3/50\n",
            "163/163 [==============================] - 1s 3ms/step - loss: 0.2957 - accuracy: 0.8822 - val_loss: 0.2120 - val_accuracy: 0.9200\n",
            "Epoch 4/50\n",
            "163/163 [==============================] - 0s 3ms/step - loss: 0.2673 - accuracy: 0.8997 - val_loss: 0.1858 - val_accuracy: 0.9292\n",
            "Epoch 5/50\n",
            "163/163 [==============================] - 0s 3ms/step - loss: 0.2335 - accuracy: 0.9175 - val_loss: 0.1690 - val_accuracy: 0.9369\n",
            "Epoch 6/50\n",
            "163/163 [==============================] - 0s 3ms/step - loss: 0.2204 - accuracy: 0.9203 - val_loss: 0.1578 - val_accuracy: 0.9400\n",
            "Epoch 7/50\n",
            "163/163 [==============================] - 1s 3ms/step - loss: 0.2248 - accuracy: 0.9201 - val_loss: 0.1525 - val_accuracy: 0.9446\n",
            "Epoch 8/50\n",
            "163/163 [==============================] - 1s 3ms/step - loss: 0.2040 - accuracy: 0.9275 - val_loss: 0.1493 - val_accuracy: 0.9423\n",
            "Epoch 9/50\n",
            "163/163 [==============================] - 0s 3ms/step - loss: 0.2044 - accuracy: 0.9294 - val_loss: 0.1462 - val_accuracy: 0.9454\n",
            "Epoch 10/50\n",
            "163/163 [==============================] - 0s 3ms/step - loss: 0.1971 - accuracy: 0.9315 - val_loss: 0.1414 - val_accuracy: 0.9462\n",
            "Epoch 11/50\n",
            "163/163 [==============================] - 0s 2ms/step - loss: 0.1947 - accuracy: 0.9323 - val_loss: 0.1402 - val_accuracy: 0.9415\n",
            "Epoch 12/50\n",
            "163/163 [==============================] - 0s 2ms/step - loss: 0.1980 - accuracy: 0.9336 - val_loss: 0.1382 - val_accuracy: 0.9423\n",
            "Epoch 13/50\n",
            "163/163 [==============================] - 0s 2ms/step - loss: 0.1935 - accuracy: 0.9334 - val_loss: 0.1402 - val_accuracy: 0.9485\n",
            "Epoch 14/50\n",
            "163/163 [==============================] - 0s 2ms/step - loss: 0.1889 - accuracy: 0.9309 - val_loss: 0.1372 - val_accuracy: 0.9431\n",
            "Epoch 15/50\n",
            "163/163 [==============================] - 0s 2ms/step - loss: 0.1894 - accuracy: 0.9336 - val_loss: 0.1370 - val_accuracy: 0.9492\n",
            "Epoch 16/50\n",
            "163/163 [==============================] - 0s 2ms/step - loss: 0.1907 - accuracy: 0.9330 - val_loss: 0.1357 - val_accuracy: 0.9485\n",
            "Epoch 17/50\n",
            "163/163 [==============================] - 0s 2ms/step - loss: 0.1922 - accuracy: 0.9355 - val_loss: 0.1363 - val_accuracy: 0.9485\n",
            "Epoch 18/50\n",
            "163/163 [==============================] - 0s 2ms/step - loss: 0.1882 - accuracy: 0.9342 - val_loss: 0.1337 - val_accuracy: 0.9477\n",
            "Epoch 19/50\n",
            "163/163 [==============================] - 0s 2ms/step - loss: 0.1909 - accuracy: 0.9357 - val_loss: 0.1331 - val_accuracy: 0.9500\n",
            "Epoch 20/50\n",
            "163/163 [==============================] - 0s 2ms/step - loss: 0.1833 - accuracy: 0.9378 - val_loss: 0.1314 - val_accuracy: 0.9500\n",
            "Epoch 21/50\n",
            "163/163 [==============================] - 0s 2ms/step - loss: 0.1782 - accuracy: 0.9350 - val_loss: 0.1283 - val_accuracy: 0.9508\n",
            "Epoch 22/50\n",
            "163/163 [==============================] - 0s 2ms/step - loss: 0.1797 - accuracy: 0.9371 - val_loss: 0.1304 - val_accuracy: 0.9485\n",
            "Epoch 23/50\n",
            "163/163 [==============================] - 0s 2ms/step - loss: 0.1805 - accuracy: 0.9353 - val_loss: 0.1284 - val_accuracy: 0.9515\n",
            "Epoch 24/50\n",
            "163/163 [==============================] - 0s 2ms/step - loss: 0.1774 - accuracy: 0.9380 - val_loss: 0.1266 - val_accuracy: 0.9523\n",
            "Epoch 25/50\n",
            "163/163 [==============================] - 0s 2ms/step - loss: 0.1759 - accuracy: 0.9400 - val_loss: 0.1245 - val_accuracy: 0.9569\n",
            "Epoch 26/50\n",
            "163/163 [==============================] - 0s 2ms/step - loss: 0.1730 - accuracy: 0.9411 - val_loss: 0.1220 - val_accuracy: 0.9546\n",
            "Epoch 27/50\n",
            "163/163 [==============================] - 0s 2ms/step - loss: 0.1710 - accuracy: 0.9411 - val_loss: 0.1225 - val_accuracy: 0.9538\n",
            "Epoch 28/50\n",
            "163/163 [==============================] - 0s 2ms/step - loss: 0.1562 - accuracy: 0.9455 - val_loss: 0.1179 - val_accuracy: 0.9554\n",
            "Epoch 29/50\n",
            "163/163 [==============================] - 0s 2ms/step - loss: 0.1586 - accuracy: 0.9463 - val_loss: 0.1167 - val_accuracy: 0.9577\n",
            "Epoch 30/50\n",
            "163/163 [==============================] - 0s 2ms/step - loss: 0.1530 - accuracy: 0.9480 - val_loss: 0.1093 - val_accuracy: 0.9546\n",
            "Epoch 31/50\n",
            "163/163 [==============================] - 0s 2ms/step - loss: 0.1622 - accuracy: 0.9442 - val_loss: 0.1109 - val_accuracy: 0.9592\n",
            "Epoch 32/50\n",
            "163/163 [==============================] - 0s 2ms/step - loss: 0.1508 - accuracy: 0.9492 - val_loss: 0.1102 - val_accuracy: 0.9615\n",
            "Epoch 33/50\n",
            "163/163 [==============================] - 0s 2ms/step - loss: 0.1520 - accuracy: 0.9500 - val_loss: 0.1058 - val_accuracy: 0.9631\n",
            "Epoch 34/50\n",
            "163/163 [==============================] - 0s 2ms/step - loss: 0.1580 - accuracy: 0.9465 - val_loss: 0.1038 - val_accuracy: 0.9623\n",
            "Epoch 35/50\n",
            "163/163 [==============================] - 0s 2ms/step - loss: 0.1494 - accuracy: 0.9486 - val_loss: 0.1020 - val_accuracy: 0.9608\n",
            "Epoch 36/50\n",
            "163/163 [==============================] - 0s 2ms/step - loss: 0.1453 - accuracy: 0.9500 - val_loss: 0.1026 - val_accuracy: 0.9608\n",
            "Epoch 37/50\n",
            "163/163 [==============================] - 0s 2ms/step - loss: 0.1418 - accuracy: 0.9455 - val_loss: 0.0992 - val_accuracy: 0.9608\n",
            "Epoch 38/50\n",
            "163/163 [==============================] - 0s 2ms/step - loss: 0.1452 - accuracy: 0.9496 - val_loss: 0.0982 - val_accuracy: 0.9592\n",
            "Epoch 39/50\n",
            "163/163 [==============================] - 0s 2ms/step - loss: 0.1463 - accuracy: 0.9517 - val_loss: 0.0980 - val_accuracy: 0.9615\n",
            "Epoch 40/50\n",
            "163/163 [==============================] - 0s 2ms/step - loss: 0.1425 - accuracy: 0.9504 - val_loss: 0.0978 - val_accuracy: 0.9592\n",
            "Epoch 41/50\n",
            "163/163 [==============================] - 0s 2ms/step - loss: 0.1403 - accuracy: 0.9504 - val_loss: 0.0965 - val_accuracy: 0.9592\n",
            "Epoch 42/50\n",
            "163/163 [==============================] - 0s 2ms/step - loss: 0.1478 - accuracy: 0.9504 - val_loss: 0.0953 - val_accuracy: 0.9592\n",
            "Epoch 43/50\n",
            "163/163 [==============================] - 0s 3ms/step - loss: 0.1407 - accuracy: 0.9504 - val_loss: 0.0948 - val_accuracy: 0.9623\n",
            "Epoch 44/50\n",
            "163/163 [==============================] - 1s 3ms/step - loss: 0.1447 - accuracy: 0.9521 - val_loss: 0.0940 - val_accuracy: 0.9600\n",
            "Epoch 45/50\n",
            "163/163 [==============================] - 0s 3ms/step - loss: 0.1366 - accuracy: 0.9523 - val_loss: 0.0979 - val_accuracy: 0.9615\n",
            "Epoch 46/50\n",
            "163/163 [==============================] - 0s 3ms/step - loss: 0.1382 - accuracy: 0.9527 - val_loss: 0.0923 - val_accuracy: 0.9623\n",
            "Epoch 47/50\n",
            "163/163 [==============================] - 0s 2ms/step - loss: 0.1394 - accuracy: 0.9521 - val_loss: 0.0923 - val_accuracy: 0.9631\n",
            "Epoch 48/50\n",
            "163/163 [==============================] - 0s 3ms/step - loss: 0.1394 - accuracy: 0.9536 - val_loss: 0.0921 - val_accuracy: 0.9623\n",
            "Epoch 49/50\n",
            "163/163 [==============================] - 0s 3ms/step - loss: 0.1366 - accuracy: 0.9536 - val_loss: 0.0938 - val_accuracy: 0.9592\n",
            "Epoch 50/50\n",
            "163/163 [==============================] - 0s 3ms/step - loss: 0.1317 - accuracy: 0.9573 - val_loss: 0.0956 - val_accuracy: 0.9585\n"
          ]
        }
      ]
    },
    {
      "cell_type": "code",
      "source": [
        "plt.plot(h.history['accuracy'], label = 'Accuracy for Train set')\n",
        "plt.plot(h.history['val_accuracy'], label = 'Accuracy for Test Set')\n",
        "plt.title('Accuracy Graph for ANN')\n",
        "plt.ylabel('Accuracy')\n",
        "plt.xlabel('epochs')\n",
        "plt.legend()"
      ],
      "metadata": {
        "colab": {
          "base_uri": "https://localhost:8080/",
          "height": 312
        },
        "id": "fI9JuLQUSyJn",
        "outputId": "5a97b0ae-2a26-442f-a41d-26dfe511873f"
      },
      "execution_count": 111,
      "outputs": [
        {
          "output_type": "execute_result",
          "data": {
            "text/plain": [
              "<matplotlib.legend.Legend at 0x7f1061e21ad0>"
            ]
          },
          "metadata": {},
          "execution_count": 111
        },
        {
          "output_type": "display_data",
          "data": {
            "text/plain": [
              "<Figure size 432x288 with 1 Axes>"
            ],
            "image/png": "[encoded data removed]"
          },
          "metadata": {
            "needs_background": "light"
          }
        }
      ]
    },
    {
      "cell_type": "code",
      "source": [
        "plt.plot(h.history['loss'], label = 'loss for Train set')\n",
        "plt.plot(h.history['val_loss'], label = 'loss for Test Set')\n",
        "plt.title('loss Graph for ANN')\n",
        "plt.ylabel('loss')\n",
        "plt.xlabel('epochs')\n",
        "plt.legend()"
      ],
      "metadata": {
        "colab": {
          "base_uri": "https://localhost:8080/",
          "height": 312
        },
        "id": "uyP7GhP-TRzt",
        "outputId": "5b5ccb5a-044a-40cb-9d8a-a6b89cf5e493"
      },
      "execution_count": 112,
      "outputs": [
        {
          "output_type": "execute_result",
          "data": {
            "text/plain": [
              "<matplotlib.legend.Legend at 0x7f1061def810>"
            ]
          },
          "metadata": {},
          "execution_count": 112
        },
        {
          "output_type": "display_data",
          "data": {
            "text/plain": [
              "<Figure size 432x288 with 1 Axes>"
            ],
            "image/png": "[encoded data removed]"
          },
          "metadata": {
            "needs_background": "light"
          }
        }
      ]
    },
    {
      "cell_type": "code",
      "source": [
        "y_pred_ann = model.predict_classes(X_test)\n",
        "accuracy_score(y_test,y_pred_ann)"
      ],
      "metadata": {
        "colab": {
          "base_uri": "https://localhost:8080/"
        },
        "id": "I2qDmWhUTRnl",
        "outputId": "7cae4e51-b40b-48f7-c547-2c621ee83925"
      },
      "execution_count": 113,
      "outputs": [
        {
          "output_type": "stream",
          "name": "stderr",
          "text": [
            "/usr/local/lib/python3.7/dist-packages/tensorflow/python/keras/engine/sequential.py:455: UserWarning: `model.predict_classes()` is deprecated and will be removed after 2021-01-01. Please use instead:* `np.argmax(model.predict(x), axis=-1)`,   if your model does multi-class classification   (e.g. if it uses a `softmax` last-layer activation).* `(model.predict(x) > 0.5).astype(\"int32\")`,   if your model does binary classification   (e.g. if it uses a `sigmoid` last-layer activation).\n",
            "  warnings.warn('`model.predict_classes()` is deprecated and '\n"
          ]
        },
        {
          "output_type": "execute_result",
          "data": {
            "text/plain": [
              "0.9584615384615385"
            ]
          },
          "metadata": {},
          "execution_count": 113
        }
      ]
    },
    {
      "cell_type": "markdown",
      "source": [
        "OWA"
      ],
      "metadata": {
        "id": "_HVxNlY63tUr"
      }
    },
    {
      "cell_type": "code",
      "source": [
        "df_owa = df[['total_sulfur_dioxide','free_sulfur_dioxide','residual_sugar','fixed_acidity','volatile_acidity','sulphates']]"
      ],
      "metadata": {
        "id": "wb3CZEvg3waE"
      },
      "execution_count": 21,
      "outputs": []
    },
    {
      "cell_type": "code",
      "source": [
        "X_col =  df_owa\n",
        "y = LabelEncoder().fit_transform(df['style'])\n",
        "Scaler = StandardScaler()\n",
        "X_col =  Scaler.fit_transform(X_col)\n",
        "X_train, X_test, y_train, y_test = train_test_split(X_col, y, test_size=0.2, random_state=0)\n",
        "print(\"Shape of training data\",X_train.shape)\n",
        "print(\"Shape of testing data\",X_test.shape)"
      ],
      "metadata": {
        "colab": {
          "base_uri": "https://localhost:8080/"
        },
        "id": "sobTYgJk3qNK",
        "outputId": "ba1a0c96-2cb3-4d9b-cc3e-26de61e4c6d1"
      },
      "execution_count": 22,
      "outputs": [
        {
          "output_type": "stream",
          "name": "stdout",
          "text": [
            "Shape of training data (5197, 6)\n",
            "Shape of testing data (1300, 6)\n"
          ]
        }
      ]
    },
    {
      "cell_type": "markdown",
      "source": [
        "Random Forest OWA"
      ],
      "metadata": {
        "id": "M-3H2SKCGQzk"
      }
    },
    {
      "cell_type": "code",
      "source": [
        "rf =  RandomForestClassifier()\n",
        "rf.fit(X_train,y_train)\n",
        "pred =  rf.predict(X_test)\n",
        "accuracy_score(y_test,pred)"
      ],
      "metadata": {
        "colab": {
          "base_uri": "https://localhost:8080/"
        },
        "id": "VYj6Wfyu4kcO",
        "outputId": "7b257471-7ca8-4f52-c80c-1de286106935"
      },
      "execution_count": 23,
      "outputs": [
        {
          "output_type": "execute_result",
          "data": {
            "text/plain": [
              "0.9823076923076923"
            ]
          },
          "metadata": {},
          "execution_count": 23
        }
      ]
    },
    {
      "cell_type": "markdown",
      "source": [
        "SVM OWA"
      ],
      "metadata": {
        "id": "iajDvoAZ9EX5"
      }
    },
    {
      "cell_type": "code",
      "source": [
        "svc =  SVC()\n",
        "svc.fit(X_test,y_test)\n",
        "y_pred =  svc.predict(X_test)\n",
        "accuracy_score(y_test,y_pred)"
      ],
      "metadata": {
        "colab": {
          "base_uri": "https://localhost:8080/"
        },
        "id": "CLllVCle9Dzr",
        "outputId": "627938c0-7a73-4fc9-9b22-665ecb119cd3"
      },
      "execution_count": 24,
      "outputs": [
        {
          "output_type": "execute_result",
          "data": {
            "text/plain": [
              "0.9823076923076923"
            ]
          },
          "metadata": {},
          "execution_count": 24
        }
      ]
    },
    {
      "cell_type": "markdown",
      "source": [
        "ANN OWA"
      ],
      "metadata": {
        "id": "TzVUxhwYGVP2"
      }
    },
    {
      "cell_type": "code",
      "source": [
        "model = tf.keras.Sequential([\n",
        "    tf.keras.layers.Dense(6, activation='relu', input_shape=(6,)),\n",
        "    tf.keras.layers.BatchNormalization(),\n",
        "    tf.keras.layers.Dense(12, activation='relu'),\n",
        "    tf.keras.layers.BatchNormalization(),\n",
        "    tf.keras.layers.Dense(24, activation='relu'),\n",
        "    tf.keras.layers.Dropout(0.5),\n",
        "    tf.keras.layers.Dense(1,activation='sigmoid')\n",
        "  ])"
      ],
      "metadata": {
        "id": "cwXgNvDj8CdA"
      },
      "execution_count": 25,
      "outputs": []
    },
    {
      "cell_type": "code",
      "source": [
        "model.compile(loss='binary_crossentropy',\n",
        "              optimizer = 'adam',\n",
        "              metrics=['accuracy'])\n",
        "model.summary()\n",
        "h = model.fit(X_train,y_train,epochs=50,validation_data=(X_test,y_test))"
      ],
      "metadata": {
        "colab": {
          "base_uri": "https://localhost:8080/"
        },
        "id": "EK8RiFh2Ga9v",
        "outputId": "5412f5c2-d300-491b-b247-d30b94abbcb0"
      },
      "execution_count": 26,
      "outputs": [
        {
          "output_type": "stream",
          "name": "stdout",
          "text": [
            "Model: \"sequential_2\"\n",
            "_________________________________________________________________\n",
            "Layer (type)                 Output Shape              Param #   \n",
            "=================================================================\n",
            "dense_8 (Dense)              (None, 6)                 42        \n",
            "_________________________________________________________________\n",
            "batch_normalization_4 (Batch (None, 6)                 24        \n",
            "_________________________________________________________________\n",
            "dense_9 (Dense)              (None, 12)                84        \n",
            "_________________________________________________________________\n",
            "batch_normalization_5 (Batch (None, 12)                48        \n",
            "_________________________________________________________________\n",
            "dense_10 (Dense)             (None, 24)                312       \n",
            "_________________________________________________________________\n",
            "dropout_2 (Dropout)          (None, 24)                0         \n",
            "_________________________________________________________________\n",
            "dense_11 (Dense)             (None, 1)                 25        \n",
            "=================================================================\n",
            "Total params: 535\n",
            "Trainable params: 499\n",
            "Non-trainable params: 36\n",
            "_________________________________________________________________\n",
            "Epoch 1/50\n",
            "163/163 [==============================] - 2s 5ms/step - loss: 0.3939 - accuracy: 0.8416 - val_loss: 0.2210 - val_accuracy: 0.9585\n",
            "Epoch 2/50\n",
            "163/163 [==============================] - 0s 3ms/step - loss: 0.1660 - accuracy: 0.9471 - val_loss: 0.0894 - val_accuracy: 0.9754\n",
            "Epoch 3/50\n",
            "163/163 [==============================] - 1s 4ms/step - loss: 0.1223 - accuracy: 0.9642 - val_loss: 0.0713 - val_accuracy: 0.9762\n",
            "Epoch 4/50\n",
            "163/163 [==============================] - 1s 3ms/step - loss: 0.1057 - accuracy: 0.9677 - val_loss: 0.0636 - val_accuracy: 0.9762\n",
            "Epoch 5/50\n",
            "163/163 [==============================] - 1s 3ms/step - loss: 0.1017 - accuracy: 0.9688 - val_loss: 0.0601 - val_accuracy: 0.9785\n",
            "Epoch 6/50\n",
            "163/163 [==============================] - 0s 3ms/step - loss: 0.0927 - accuracy: 0.9731 - val_loss: 0.0621 - val_accuracy: 0.9777\n",
            "Epoch 7/50\n",
            "163/163 [==============================] - 1s 3ms/step - loss: 0.0892 - accuracy: 0.9738 - val_loss: 0.0583 - val_accuracy: 0.9777\n",
            "Epoch 8/50\n",
            "163/163 [==============================] - 1s 3ms/step - loss: 0.0879 - accuracy: 0.9746 - val_loss: 0.0571 - val_accuracy: 0.9792\n",
            "Epoch 9/50\n",
            "163/163 [==============================] - 1s 4ms/step - loss: 0.0848 - accuracy: 0.9765 - val_loss: 0.0567 - val_accuracy: 0.9800\n",
            "Epoch 10/50\n",
            "163/163 [==============================] - 1s 5ms/step - loss: 0.0885 - accuracy: 0.9729 - val_loss: 0.0554 - val_accuracy: 0.9800\n",
            "Epoch 11/50\n",
            "163/163 [==============================] - 1s 3ms/step - loss: 0.0817 - accuracy: 0.9788 - val_loss: 0.0547 - val_accuracy: 0.9808\n",
            "Epoch 12/50\n",
            "163/163 [==============================] - 0s 2ms/step - loss: 0.0793 - accuracy: 0.9775 - val_loss: 0.0559 - val_accuracy: 0.9792\n",
            "Epoch 13/50\n",
            "163/163 [==============================] - 0s 2ms/step - loss: 0.0802 - accuracy: 0.9769 - val_loss: 0.0527 - val_accuracy: 0.9815\n",
            "Epoch 14/50\n",
            "163/163 [==============================] - 0s 2ms/step - loss: 0.0751 - accuracy: 0.9804 - val_loss: 0.0517 - val_accuracy: 0.9831\n",
            "Epoch 15/50\n",
            "163/163 [==============================] - 0s 2ms/step - loss: 0.0769 - accuracy: 0.9775 - val_loss: 0.0532 - val_accuracy: 0.9815\n",
            "Epoch 16/50\n",
            "163/163 [==============================] - 0s 2ms/step - loss: 0.0746 - accuracy: 0.9800 - val_loss: 0.0522 - val_accuracy: 0.9823\n",
            "Epoch 17/50\n",
            "163/163 [==============================] - 0s 2ms/step - loss: 0.0786 - accuracy: 0.9773 - val_loss: 0.0490 - val_accuracy: 0.9846\n",
            "Epoch 18/50\n",
            "163/163 [==============================] - 0s 2ms/step - loss: 0.0709 - accuracy: 0.9800 - val_loss: 0.0501 - val_accuracy: 0.9838\n",
            "Epoch 19/50\n",
            "163/163 [==============================] - 0s 2ms/step - loss: 0.0798 - accuracy: 0.9779 - val_loss: 0.0503 - val_accuracy: 0.9815\n",
            "Epoch 20/50\n",
            "163/163 [==============================] - 0s 2ms/step - loss: 0.0749 - accuracy: 0.9792 - val_loss: 0.0492 - val_accuracy: 0.9831\n",
            "Epoch 21/50\n",
            "163/163 [==============================] - 0s 2ms/step - loss: 0.0691 - accuracy: 0.9823 - val_loss: 0.0487 - val_accuracy: 0.9846\n",
            "Epoch 22/50\n",
            "163/163 [==============================] - 0s 2ms/step - loss: 0.0701 - accuracy: 0.9823 - val_loss: 0.0496 - val_accuracy: 0.9846\n",
            "Epoch 23/50\n",
            "163/163 [==============================] - 0s 2ms/step - loss: 0.0709 - accuracy: 0.9798 - val_loss: 0.0486 - val_accuracy: 0.9846\n",
            "Epoch 24/50\n",
            "163/163 [==============================] - 0s 2ms/step - loss: 0.0678 - accuracy: 0.9794 - val_loss: 0.0493 - val_accuracy: 0.9838\n",
            "Epoch 25/50\n",
            "163/163 [==============================] - 0s 2ms/step - loss: 0.0630 - accuracy: 0.9833 - val_loss: 0.0491 - val_accuracy: 0.9815\n",
            "Epoch 26/50\n",
            "163/163 [==============================] - 0s 2ms/step - loss: 0.0669 - accuracy: 0.9813 - val_loss: 0.0468 - val_accuracy: 0.9854\n",
            "Epoch 27/50\n",
            "163/163 [==============================] - 0s 2ms/step - loss: 0.0713 - accuracy: 0.9788 - val_loss: 0.0459 - val_accuracy: 0.9838\n",
            "Epoch 28/50\n",
            "163/163 [==============================] - 0s 2ms/step - loss: 0.0728 - accuracy: 0.9792 - val_loss: 0.0469 - val_accuracy: 0.9846\n",
            "Epoch 29/50\n",
            "163/163 [==============================] - 0s 2ms/step - loss: 0.0732 - accuracy: 0.9811 - val_loss: 0.0472 - val_accuracy: 0.9854\n",
            "Epoch 30/50\n",
            "163/163 [==============================] - 0s 2ms/step - loss: 0.0673 - accuracy: 0.9802 - val_loss: 0.0471 - val_accuracy: 0.9831\n",
            "Epoch 31/50\n",
            "163/163 [==============================] - 0s 2ms/step - loss: 0.0652 - accuracy: 0.9825 - val_loss: 0.0465 - val_accuracy: 0.9823\n",
            "Epoch 32/50\n",
            "163/163 [==============================] - 0s 2ms/step - loss: 0.0703 - accuracy: 0.9790 - val_loss: 0.0476 - val_accuracy: 0.9846\n",
            "Epoch 33/50\n",
            "163/163 [==============================] - 0s 2ms/step - loss: 0.0632 - accuracy: 0.9827 - val_loss: 0.0478 - val_accuracy: 0.9831\n",
            "Epoch 34/50\n",
            "163/163 [==============================] - 0s 2ms/step - loss: 0.0697 - accuracy: 0.9806 - val_loss: 0.0460 - val_accuracy: 0.9831\n",
            "Epoch 35/50\n",
            "163/163 [==============================] - 0s 2ms/step - loss: 0.0625 - accuracy: 0.9821 - val_loss: 0.0455 - val_accuracy: 0.9838\n",
            "Epoch 36/50\n",
            "163/163 [==============================] - 0s 2ms/step - loss: 0.0697 - accuracy: 0.9833 - val_loss: 0.0464 - val_accuracy: 0.9823\n",
            "Epoch 37/50\n",
            "163/163 [==============================] - 0s 2ms/step - loss: 0.0618 - accuracy: 0.9829 - val_loss: 0.0449 - val_accuracy: 0.9823\n",
            "Epoch 38/50\n",
            "163/163 [==============================] - 0s 2ms/step - loss: 0.0633 - accuracy: 0.9835 - val_loss: 0.0457 - val_accuracy: 0.9846\n",
            "Epoch 39/50\n",
            "163/163 [==============================] - 0s 2ms/step - loss: 0.0633 - accuracy: 0.9815 - val_loss: 0.0450 - val_accuracy: 0.9846\n",
            "Epoch 40/50\n",
            "163/163 [==============================] - 0s 2ms/step - loss: 0.0632 - accuracy: 0.9819 - val_loss: 0.0436 - val_accuracy: 0.9869\n",
            "Epoch 41/50\n",
            "163/163 [==============================] - 0s 2ms/step - loss: 0.0628 - accuracy: 0.9819 - val_loss: 0.0466 - val_accuracy: 0.9846\n",
            "Epoch 42/50\n",
            "163/163 [==============================] - 0s 2ms/step - loss: 0.0645 - accuracy: 0.9833 - val_loss: 0.0446 - val_accuracy: 0.9846\n",
            "Epoch 43/50\n",
            "163/163 [==============================] - 0s 2ms/step - loss: 0.0617 - accuracy: 0.9823 - val_loss: 0.0424 - val_accuracy: 0.9862\n",
            "Epoch 44/50\n",
            "163/163 [==============================] - 0s 2ms/step - loss: 0.0620 - accuracy: 0.9821 - val_loss: 0.0454 - val_accuracy: 0.9838\n",
            "Epoch 45/50\n",
            "163/163 [==============================] - 0s 3ms/step - loss: 0.0636 - accuracy: 0.9821 - val_loss: 0.0445 - val_accuracy: 0.9838\n",
            "Epoch 46/50\n",
            "163/163 [==============================] - 1s 3ms/step - loss: 0.0590 - accuracy: 0.9838 - val_loss: 0.0432 - val_accuracy: 0.9869\n",
            "Epoch 47/50\n",
            "163/163 [==============================] - 0s 3ms/step - loss: 0.0597 - accuracy: 0.9835 - val_loss: 0.0441 - val_accuracy: 0.9862\n",
            "Epoch 48/50\n",
            "163/163 [==============================] - 1s 4ms/step - loss: 0.0612 - accuracy: 0.9836 - val_loss: 0.0457 - val_accuracy: 0.9846\n",
            "Epoch 49/50\n",
            "163/163 [==============================] - 0s 3ms/step - loss: 0.0601 - accuracy: 0.9829 - val_loss: 0.0472 - val_accuracy: 0.9838\n",
            "Epoch 50/50\n",
            "163/163 [==============================] - 0s 3ms/step - loss: 0.0588 - accuracy: 0.9840 - val_loss: 0.0431 - val_accuracy: 0.9862\n"
          ]
        }
      ]
    },
    {
      "cell_type": "code",
      "source": [
        "plt.plot(h.history['accuracy'], label = 'Accuracy for Train set')\n",
        "plt.plot(h.history['val_accuracy'], label = 'Accuracy for Test Set')\n",
        "plt.title('Accuracy Graph for ANN')\n",
        "plt.ylabel('Accuracy')\n",
        "plt.xlabel('epochs')\n",
        "plt.legend()"
      ],
      "metadata": {
        "colab": {
          "base_uri": "https://localhost:8080/",
          "height": 312
        },
        "id": "O9M88OfcG4ry",
        "outputId": "cfb1e0bf-7a9f-42fc-bccf-aa16043c571c"
      },
      "execution_count": 29,
      "outputs": [
        {
          "output_type": "execute_result",
          "data": {
            "text/plain": [
              "<matplotlib.legend.Legend at 0x7f106329cc10>"
            ]
          },
          "metadata": {},
          "execution_count": 29
        },
        {
          "output_type": "display_data",
          "data": {
            "text/plain": [
              "<Figure size 432x288 with 1 Axes>"
            ],
            "image/png": "[encoded data removed]"
          },
          "metadata": {
            "needs_background": "light"
          }
        }
      ]
    },
    {
      "cell_type": "code",
      "source": [
        "plt.plot(h.history['loss'], label = 'loss for Train set')\n",
        "plt.plot(h.history['val_loss'], label = 'loss for Test Set')\n",
        "plt.title('loss Graph for ANN')\n",
        "plt.ylabel('loss')\n",
        "plt.xlabel('epochs')\n",
        "plt.legend()"
      ],
      "metadata": {
        "colab": {
          "base_uri": "https://localhost:8080/",
          "height": 312
        },
        "id": "i60y53w9G8jK",
        "outputId": "5c87ded1-bc9b-4f1a-ac6f-28dd11152b3f"
      },
      "execution_count": 30,
      "outputs": [
        {
          "output_type": "execute_result",
          "data": {
            "text/plain": [
              "<matplotlib.legend.Legend at 0x7f1063267810>"
            ]
          },
          "metadata": {},
          "execution_count": 30
        },
        {
          "output_type": "display_data",
          "data": {
            "text/plain": [
              "<Figure size 432x288 with 1 Axes>"
            ],
            "image/png": "[encoded data removed]"
          },
          "metadata": {
            "needs_background": "light"
          }
        }
      ]
    },
    {
      "cell_type": "code",
      "source": [
        "y_pred_ann_owa = model.predict_classes(X_test)"
      ],
      "metadata": {
        "colab": {
          "base_uri": "https://localhost:8080/"
        },
        "id": "iuOTyauKGqfE",
        "outputId": "4307d9c2-c1ea-46fa-ffc9-18856f781eeb"
      },
      "execution_count": 27,
      "outputs": [
        {
          "output_type": "stream",
          "name": "stderr",
          "text": [
            "/usr/local/lib/python3.7/dist-packages/tensorflow/python/keras/engine/sequential.py:455: UserWarning: `model.predict_classes()` is deprecated and will be removed after 2021-01-01. Please use instead:* `np.argmax(model.predict(x), axis=-1)`,   if your model does multi-class classification   (e.g. if it uses a `softmax` last-layer activation).* `(model.predict(x) > 0.5).astype(\"int32\")`,   if your model does binary classification   (e.g. if it uses a `sigmoid` last-layer activation).\n",
            "  warnings.warn('`model.predict_classes()` is deprecated and '\n"
          ]
        }
      ]
    },
    {
      "cell_type": "code",
      "source": [
        "accuracy_score(y_test,y_pred_ann_owa)"
      ],
      "metadata": {
        "colab": {
          "base_uri": "https://localhost:8080/"
        },
        "id": "5NIcu-rAGyZC",
        "outputId": "907e63e8-3fa5-4c1a-84b2-d774970028e0"
      },
      "execution_count": 28,
      "outputs": [
        {
          "output_type": "execute_result",
          "data": {
            "text/plain": [
              "0.9861538461538462"
            ]
          },
          "metadata": {},
          "execution_count": 28
        }
      ]
    }
  ]
}