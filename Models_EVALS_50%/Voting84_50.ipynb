{
  "nbformat": 4,
  "nbformat_minor": 0,
  "metadata": {
    "colab": {
      "name": "Voting84_50.ipynb",
      "provenance": [],
      "authorship_tag": "ABX9TyNWtfC45p0mH5yPlYoJFmYp",
      "include_colab_link": true
    },
    "kernelspec": {
      "name": "python3",
      "display_name": "Python 3"
    },
    "language_info": {
      "name": "python"
    }
  },
  "cells": [
    {
      "cell_type": "markdown",
      "metadata": {
        "id": "view-in-github",
        "colab_type": "text"
      },
      "source": [
        "<a href=\"https://colab.research.google.com/github/Noob919/Feature_selection/blob/main/Models_EVALS_50%25/Voting84_50.ipynb\" target=\"_parent\"><img src=\"https://colab.research.google.com/assets/colab-badge.svg\" alt=\"Open In Colab\"/></a>"
      ]
    },
    {
      "cell_type": "code",
      "execution_count": 1,
      "metadata": {
        "id": "OHdEZA90k7hv",
        "colab": {
          "base_uri": "https://localhost:8080/"
        },
        "outputId": "0e749287-e3d2-4921-e270-2d297462112f"
      },
      "outputs": [
        {
          "output_type": "stream",
          "name": "stdout",
          "text": [
            "Found existing installation: tensorflow 2.8.2+zzzcolab20220527125636\n",
            "Uninstalling tensorflow-2.8.2+zzzcolab20220527125636:\n",
            "  Would remove:\n",
            "    /usr/local/bin/estimator_ckpt_converter\n",
            "    /usr/local/bin/import_pb_to_tensorboard\n",
            "    /usr/local/bin/saved_model_cli\n",
            "    /usr/local/bin/tensorboard\n",
            "    /usr/local/bin/tf_upgrade_v2\n",
            "    /usr/local/bin/tflite_convert\n",
            "    /usr/local/bin/toco\n",
            "    /usr/local/bin/toco_from_protos\n",
            "    /usr/local/lib/python3.7/dist-packages/tensorflow-2.8.2+zzzcolab20220527125636.dist-info/*\n",
            "    /usr/local/lib/python3.7/dist-packages/tensorflow/*\n",
            "Proceed (y/n)? y\n",
            "  Successfully uninstalled tensorflow-2.8.2+zzzcolab20220527125636\n"
          ]
        }
      ],
      "source": [
        "!pip uninstall tensorflow"
      ]
    },
    {
      "cell_type": "code",
      "source": [
        "!pip install tensorflow==2.5"
      ],
      "metadata": {
        "id": "6obKtt8_puEW",
        "colab": {
          "base_uri": "https://localhost:8080/",
          "height": 1000
        },
        "outputId": "535166a3-5a58-4ff6-cda7-4feb6f5897e8"
      },
      "execution_count": 2,
      "outputs": [
        {
          "output_type": "stream",
          "name": "stdout",
          "text": [
            "Looking in indexes: https://pypi.org/simple, https://us-python.pkg.dev/colab-wheels/public/simple/\n",
            "Collecting tensorflow==2.5\n",
            "  Downloading tensorflow-2.5.0-cp37-cp37m-manylinux2010_x86_64.whl (454.3 MB)\n",
            "\u001b[K     |████████████████████████████████| 454.3 MB 13 kB/s \n",
            "\u001b[?25hCollecting absl-py~=0.10\n",
            "  Downloading absl_py-0.15.0-py3-none-any.whl (132 kB)\n",
            "\u001b[K     |████████████████████████████████| 132 kB 48.6 MB/s \n",
            "\u001b[?25hRequirement already satisfied: google-pasta~=0.2 in /usr/local/lib/python3.7/dist-packages (from tensorflow==2.5) (0.2.0)\n",
            "Requirement already satisfied: six~=1.15.0 in /usr/local/lib/python3.7/dist-packages (from tensorflow==2.5) (1.15.0)\n",
            "Collecting numpy~=1.19.2\n",
            "  Downloading numpy-1.19.5-cp37-cp37m-manylinux2010_x86_64.whl (14.8 MB)\n",
            "\u001b[K     |████████████████████████████████| 14.8 MB 41.1 MB/s \n",
            "\u001b[?25hCollecting tensorflow-estimator<2.6.0,>=2.5.0rc0\n",
            "  Downloading tensorflow_estimator-2.5.0-py2.py3-none-any.whl (462 kB)\n",
            "\u001b[K     |████████████████████████████████| 462 kB 41.2 MB/s \n",
            "\u001b[?25hCollecting gast==0.4.0\n",
            "  Downloading gast-0.4.0-py3-none-any.whl (9.8 kB)\n",
            "Requirement already satisfied: protobuf>=3.9.2 in /usr/local/lib/python3.7/dist-packages (from tensorflow==2.5) (3.17.3)\n",
            "Requirement already satisfied: h5py~=3.1.0 in /usr/local/lib/python3.7/dist-packages (from tensorflow==2.5) (3.1.0)\n",
            "Collecting wrapt~=1.12.1\n",
            "  Downloading wrapt-1.12.1.tar.gz (27 kB)\n",
            "Requirement already satisfied: opt-einsum~=3.3.0 in /usr/local/lib/python3.7/dist-packages (from tensorflow==2.5) (3.3.0)\n",
            "Requirement already satisfied: keras-preprocessing~=1.1.2 in /usr/local/lib/python3.7/dist-packages (from tensorflow==2.5) (1.1.2)\n",
            "Requirement already satisfied: termcolor~=1.1.0 in /usr/local/lib/python3.7/dist-packages (from tensorflow==2.5) (1.1.0)\n",
            "Requirement already satisfied: astunparse~=1.6.3 in /usr/local/lib/python3.7/dist-packages (from tensorflow==2.5) (1.6.3)\n",
            "Requirement already satisfied: tensorboard~=2.5 in /usr/local/lib/python3.7/dist-packages (from tensorflow==2.5) (2.8.0)\n",
            "Collecting typing-extensions~=3.7.4\n",
            "  Downloading typing_extensions-3.7.4.3-py3-none-any.whl (22 kB)\n",
            "Collecting keras-nightly~=2.5.0.dev\n",
            "  Downloading keras_nightly-2.5.0.dev2021032900-py2.py3-none-any.whl (1.2 MB)\n",
            "\u001b[K     |████████████████████████████████| 1.2 MB 31.7 MB/s \n",
            "\u001b[?25hRequirement already satisfied: wheel~=0.35 in /usr/local/lib/python3.7/dist-packages (from tensorflow==2.5) (0.37.1)\n",
            "Collecting grpcio~=1.34.0\n",
            "  Downloading grpcio-1.34.1-cp37-cp37m-manylinux2014_x86_64.whl (4.0 MB)\n",
            "\u001b[K     |████████████████████████████████| 4.0 MB 45.4 MB/s \n",
            "\u001b[?25hCollecting flatbuffers~=1.12.0\n",
            "  Downloading flatbuffers-1.12-py2.py3-none-any.whl (15 kB)\n",
            "Requirement already satisfied: cached-property in /usr/local/lib/python3.7/dist-packages (from h5py~=3.1.0->tensorflow==2.5) (1.5.2)\n",
            "Requirement already satisfied: tensorboard-data-server<0.7.0,>=0.6.0 in /usr/local/lib/python3.7/dist-packages (from tensorboard~=2.5->tensorflow==2.5) (0.6.1)\n",
            "Requirement already satisfied: tensorboard-plugin-wit>=1.6.0 in /usr/local/lib/python3.7/dist-packages (from tensorboard~=2.5->tensorflow==2.5) (1.8.1)\n",
            "Requirement already satisfied: google-auth<3,>=1.6.3 in /usr/local/lib/python3.7/dist-packages (from tensorboard~=2.5->tensorflow==2.5) (1.35.0)\n",
            "Requirement already satisfied: werkzeug>=0.11.15 in /usr/local/lib/python3.7/dist-packages (from tensorboard~=2.5->tensorflow==2.5) (1.0.1)\n",
            "Requirement already satisfied: markdown>=2.6.8 in /usr/local/lib/python3.7/dist-packages (from tensorboard~=2.5->tensorflow==2.5) (3.3.7)\n",
            "Requirement already satisfied: google-auth-oauthlib<0.5,>=0.4.1 in /usr/local/lib/python3.7/dist-packages (from tensorboard~=2.5->tensorflow==2.5) (0.4.6)\n",
            "Requirement already satisfied: requests<3,>=2.21.0 in /usr/local/lib/python3.7/dist-packages (from tensorboard~=2.5->tensorflow==2.5) (2.23.0)\n",
            "Requirement already satisfied: setuptools>=41.0.0 in /usr/local/lib/python3.7/dist-packages (from tensorboard~=2.5->tensorflow==2.5) (57.4.0)\n",
            "Requirement already satisfied: pyasn1-modules>=0.2.1 in /usr/local/lib/python3.7/dist-packages (from google-auth<3,>=1.6.3->tensorboard~=2.5->tensorflow==2.5) (0.2.8)\n",
            "Requirement already satisfied: rsa<5,>=3.1.4 in /usr/local/lib/python3.7/dist-packages (from google-auth<3,>=1.6.3->tensorboard~=2.5->tensorflow==2.5) (4.8)\n",
            "Requirement already satisfied: cachetools<5.0,>=2.0.0 in /usr/local/lib/python3.7/dist-packages (from google-auth<3,>=1.6.3->tensorboard~=2.5->tensorflow==2.5) (4.2.4)\n",
            "Requirement already satisfied: requests-oauthlib>=0.7.0 in /usr/local/lib/python3.7/dist-packages (from google-auth-oauthlib<0.5,>=0.4.1->tensorboard~=2.5->tensorflow==2.5) (1.3.1)\n",
            "Requirement already satisfied: importlib-metadata>=4.4 in /usr/local/lib/python3.7/dist-packages (from markdown>=2.6.8->tensorboard~=2.5->tensorflow==2.5) (4.11.4)\n",
            "Requirement already satisfied: zipp>=0.5 in /usr/local/lib/python3.7/dist-packages (from importlib-metadata>=4.4->markdown>=2.6.8->tensorboard~=2.5->tensorflow==2.5) (3.8.0)\n",
            "Requirement already satisfied: pyasn1<0.5.0,>=0.4.6 in /usr/local/lib/python3.7/dist-packages (from pyasn1-modules>=0.2.1->google-auth<3,>=1.6.3->tensorboard~=2.5->tensorflow==2.5) (0.4.8)\n",
            "Requirement already satisfied: idna<3,>=2.5 in /usr/local/lib/python3.7/dist-packages (from requests<3,>=2.21.0->tensorboard~=2.5->tensorflow==2.5) (2.10)\n",
            "Requirement already satisfied: urllib3!=1.25.0,!=1.25.1,<1.26,>=1.21.1 in /usr/local/lib/python3.7/dist-packages (from requests<3,>=2.21.0->tensorboard~=2.5->tensorflow==2.5) (1.24.3)\n",
            "Requirement already satisfied: certifi>=2017.4.17 in /usr/local/lib/python3.7/dist-packages (from requests<3,>=2.21.0->tensorboard~=2.5->tensorflow==2.5) (2022.6.15)\n",
            "Requirement already satisfied: chardet<4,>=3.0.2 in /usr/local/lib/python3.7/dist-packages (from requests<3,>=2.21.0->tensorboard~=2.5->tensorflow==2.5) (3.0.4)\n",
            "Requirement already satisfied: oauthlib>=3.0.0 in /usr/local/lib/python3.7/dist-packages (from requests-oauthlib>=0.7.0->google-auth-oauthlib<0.5,>=0.4.1->tensorboard~=2.5->tensorflow==2.5) (3.2.0)\n",
            "Building wheels for collected packages: wrapt\n",
            "  Building wheel for wrapt (setup.py) ... \u001b[?25l\u001b[?25hdone\n",
            "  Created wheel for wrapt: filename=wrapt-1.12.1-cp37-cp37m-linux_x86_64.whl size=68718 sha256=2af2cea922e11a348aadbfd9e6599bb07a289db75e8d62641a800c990818f956\n",
            "  Stored in directory: /root/.cache/pip/wheels/62/76/4c/aa25851149f3f6d9785f6c869387ad82b3fd37582fa8147ac6\n",
            "Successfully built wrapt\n",
            "Installing collected packages: typing-extensions, numpy, grpcio, absl-py, wrapt, tensorflow-estimator, keras-nightly, gast, flatbuffers, tensorflow\n",
            "  Attempting uninstall: typing-extensions\n",
            "    Found existing installation: typing-extensions 4.1.1\n",
            "    Uninstalling typing-extensions-4.1.1:\n",
            "      Successfully uninstalled typing-extensions-4.1.1\n",
            "  Attempting uninstall: numpy\n",
            "    Found existing installation: numpy 1.21.6\n",
            "    Uninstalling numpy-1.21.6:\n",
            "      Successfully uninstalled numpy-1.21.6\n",
            "  Attempting uninstall: grpcio\n",
            "    Found existing installation: grpcio 1.46.3\n",
            "    Uninstalling grpcio-1.46.3:\n",
            "      Successfully uninstalled grpcio-1.46.3\n",
            "  Attempting uninstall: absl-py\n",
            "    Found existing installation: absl-py 1.1.0\n",
            "    Uninstalling absl-py-1.1.0:\n",
            "      Successfully uninstalled absl-py-1.1.0\n",
            "  Attempting uninstall: wrapt\n",
            "    Found existing installation: wrapt 1.14.1\n",
            "    Uninstalling wrapt-1.14.1:\n",
            "      Successfully uninstalled wrapt-1.14.1\n",
            "  Attempting uninstall: tensorflow-estimator\n",
            "    Found existing installation: tensorflow-estimator 2.8.0\n",
            "    Uninstalling tensorflow-estimator-2.8.0:\n",
            "      Successfully uninstalled tensorflow-estimator-2.8.0\n",
            "  Attempting uninstall: gast\n",
            "    Found existing installation: gast 0.5.3\n",
            "    Uninstalling gast-0.5.3:\n",
            "      Successfully uninstalled gast-0.5.3\n",
            "  Attempting uninstall: flatbuffers\n",
            "    Found existing installation: flatbuffers 2.0\n",
            "    Uninstalling flatbuffers-2.0:\n",
            "      Successfully uninstalled flatbuffers-2.0\n",
            "\u001b[31mERROR: pip's dependency resolver does not currently take into account all the packages that are installed. This behaviour is the source of the following dependency conflicts.\n",
            "xarray-einstats 0.2.2 requires numpy>=1.21, but you have numpy 1.19.5 which is incompatible.\n",
            "datascience 0.10.6 requires folium==0.2.1, but you have folium 0.8.3 which is incompatible.\n",
            "albumentations 0.1.12 requires imgaug<0.2.7,>=0.2.5, but you have imgaug 0.2.9 which is incompatible.\u001b[0m\n",
            "Successfully installed absl-py-0.15.0 flatbuffers-1.12 gast-0.4.0 grpcio-1.34.1 keras-nightly-2.5.0.dev2021032900 numpy-1.19.5 tensorflow-2.5.0 tensorflow-estimator-2.5.0 typing-extensions-3.7.4.3 wrapt-1.12.1\n"
          ]
        },
        {
          "output_type": "display_data",
          "data": {
            "application/vnd.colab-display-data+json": {
              "pip_warning": {
                "packages": [
                  "numpy",
                  "typing_extensions"
                ]
              }
            }
          },
          "metadata": {}
        }
      ]
    },
    {
      "cell_type": "code",
      "source": [
        "import numpy as np\n",
        "import pandas as pd\n",
        "from sklearn import preprocessing\n",
        "from sklearn.model_selection import train_test_split\n",
        "from sklearn.ensemble import RandomForestClassifier\n",
        "from sklearn.svm import SVC\n",
        "from sklearn.metrics import accuracy_score\n",
        "from sklearn.preprocessing import LabelEncoder\n",
        "from sklearn.preprocessing import StandardScaler\n",
        "import matplotlib.pyplot as plt\n",
        "import seaborn as sns\n",
        "import tensorflow as tf\n",
        "from tensorflow.keras import datasets, layers, models,Sequential\n",
        "from sklearn.metrics import confusion_matrix\n",
        "from sklearn.metrics import recall_score,precision_score"
      ],
      "metadata": {
        "id": "Nkw7a1U3jjlR"
      },
      "execution_count": 3,
      "outputs": []
    },
    {
      "cell_type": "code",
      "source": [
        "df  = pd.read_csv(\"https://raw.githubusercontent.com/Noob919/Feature_selection/main/Data/house-votes-84.csv\")\n",
        "for i in range((len(df.columns))):\n",
        "  if(df[df.columns[i]].dtype == 'object'):\n",
        "    df[df.columns[i]] =  df[df.columns[i]].replace(\"?\", df[df.columns[i]].value_counts().index[0])\n",
        "for i in range((len(df.columns))):\n",
        "   df[df.columns[i]]  =  LabelEncoder().fit_transform(df[df.columns[i]])\n",
        "df.head()"
      ],
      "metadata": {
        "colab": {
          "base_uri": "https://localhost:8080/",
          "height": 322
        },
        "id": "BZbtaKsWj8gT",
        "outputId": "2a3f8c93-bf81-435f-befb-acab68fbc68a"
      },
      "execution_count": 20,
      "outputs": [
        {
          "output_type": "execute_result",
          "data": {
            "text/plain": [
              "   Class Name   handicapped-infants   water-project-cost-sharing  \\\n",
              "0           1                     0                            1   \n",
              "1           1                     0                            1   \n",
              "2           0                     0                            1   \n",
              "3           0                     0                            1   \n",
              "4           0                     1                            1   \n",
              "\n",
              "    adoption-of-the-budget-resolution   physician-fee-freeze  \\\n",
              "0                                   0                      1   \n",
              "1                                   0                      1   \n",
              "2                                   1                      0   \n",
              "3                                   1                      0   \n",
              "4                                   1                      0   \n",
              "\n",
              "    el-salvador-aid   religious-groups-in-schools   anti-satellite-test-ban  \\\n",
              "0                 1                             1                         0   \n",
              "1                 1                             1                         0   \n",
              "2                 1                             1                         0   \n",
              "3                 1                             1                         0   \n",
              "4                 1                             1                         0   \n",
              "\n",
              "    aid-to-nicaraguan-contras   mx-missile   immigration  \\\n",
              "0                           0            0             1   \n",
              "1                           0            0             0   \n",
              "2                           0            0             0   \n",
              "3                           0            0             0   \n",
              "4                           0            0             0   \n",
              "\n",
              "    synfuels-corporation-cutback   education-spending  \\\n",
              "0                              0                    1   \n",
              "1                              0                    1   \n",
              "2                              1                    0   \n",
              "3                              1                    0   \n",
              "4                              1                    0   \n",
              "\n",
              "    superfund-right-to-sue   crime   duty-free-exports  \\\n",
              "0                        1       1                   0   \n",
              "1                        1       1                   0   \n",
              "2                        1       1                   0   \n",
              "3                        1       0                   0   \n",
              "4                        1       1                   1   \n",
              "\n",
              "    export-administration-act-south-africa  \n",
              "0                                        1  \n",
              "1                                        1  \n",
              "2                                        0  \n",
              "3                                        1  \n",
              "4                                        1  "
            ],
            "text/html": [
              "\n",
              "  <div id=\"df-af943f9e-2d66-4021-9c20-b4845df4bd94\">\n",
              "    <div class=\"colab-df-container\">\n",
              "      <div>\n",
              "<style scoped>\n",
              "    .dataframe tbody tr th:only-of-type {\n",
              "        vertical-align: middle;\n",
              "    }\n",
              "\n",
              "    .dataframe tbody tr th {\n",
              "        vertical-align: top;\n",
              "    }\n",
              "\n",
              "    .dataframe thead th {\n",
              "        text-align: right;\n",
              "    }\n",
              "</style>\n",
              "<table border=\"1\" class=\"dataframe\">\n",
              "  <thead>\n",
              "    <tr style=\"text-align: right;\">\n",
              "      <th></th>\n",
              "      <th>Class Name</th>\n",
              "      <th>handicapped-infants</th>\n",
              "      <th>water-project-cost-sharing</th>\n",
              "      <th>adoption-of-the-budget-resolution</th>\n",
              "      <th>physician-fee-freeze</th>\n",
              "      <th>el-salvador-aid</th>\n",
              "      <th>religious-groups-in-schools</th>\n",
              "      <th>anti-satellite-test-ban</th>\n",
              "      <th>aid-to-nicaraguan-contras</th>\n",
              "      <th>mx-missile</th>\n",
              "      <th>immigration</th>\n",
              "      <th>synfuels-corporation-cutback</th>\n",
              "      <th>education-spending</th>\n",
              "      <th>superfund-right-to-sue</th>\n",
              "      <th>crime</th>\n",
              "      <th>duty-free-exports</th>\n",
              "      <th>export-administration-act-south-africa</th>\n",
              "    </tr>\n",
              "  </thead>\n",
              "  <tbody>\n",
              "    <tr>\n",
              "      <th>0</th>\n",
              "      <td>1</td>\n",
              "      <td>0</td>\n",
              "      <td>1</td>\n",
              "      <td>0</td>\n",
              "      <td>1</td>\n",
              "      <td>1</td>\n",
              "      <td>1</td>\n",
              "      <td>0</td>\n",
              "      <td>0</td>\n",
              "      <td>0</td>\n",
              "      <td>1</td>\n",
              "      <td>0</td>\n",
              "      <td>1</td>\n",
              "      <td>1</td>\n",
              "      <td>1</td>\n",
              "      <td>0</td>\n",
              "      <td>1</td>\n",
              "    </tr>\n",
              "    <tr>\n",
              "      <th>1</th>\n",
              "      <td>1</td>\n",
              "      <td>0</td>\n",
              "      <td>1</td>\n",
              "      <td>0</td>\n",
              "      <td>1</td>\n",
              "      <td>1</td>\n",
              "      <td>1</td>\n",
              "      <td>0</td>\n",
              "      <td>0</td>\n",
              "      <td>0</td>\n",
              "      <td>0</td>\n",
              "      <td>0</td>\n",
              "      <td>1</td>\n",
              "      <td>1</td>\n",
              "      <td>1</td>\n",
              "      <td>0</td>\n",
              "      <td>1</td>\n",
              "    </tr>\n",
              "    <tr>\n",
              "      <th>2</th>\n",
              "      <td>0</td>\n",
              "      <td>0</td>\n",
              "      <td>1</td>\n",
              "      <td>1</td>\n",
              "      <td>0</td>\n",
              "      <td>1</td>\n",
              "      <td>1</td>\n",
              "      <td>0</td>\n",
              "      <td>0</td>\n",
              "      <td>0</td>\n",
              "      <td>0</td>\n",
              "      <td>1</td>\n",
              "      <td>0</td>\n",
              "      <td>1</td>\n",
              "      <td>1</td>\n",
              "      <td>0</td>\n",
              "      <td>0</td>\n",
              "    </tr>\n",
              "    <tr>\n",
              "      <th>3</th>\n",
              "      <td>0</td>\n",
              "      <td>0</td>\n",
              "      <td>1</td>\n",
              "      <td>1</td>\n",
              "      <td>0</td>\n",
              "      <td>1</td>\n",
              "      <td>1</td>\n",
              "      <td>0</td>\n",
              "      <td>0</td>\n",
              "      <td>0</td>\n",
              "      <td>0</td>\n",
              "      <td>1</td>\n",
              "      <td>0</td>\n",
              "      <td>1</td>\n",
              "      <td>0</td>\n",
              "      <td>0</td>\n",
              "      <td>1</td>\n",
              "    </tr>\n",
              "    <tr>\n",
              "      <th>4</th>\n",
              "      <td>0</td>\n",
              "      <td>1</td>\n",
              "      <td>1</td>\n",
              "      <td>1</td>\n",
              "      <td>0</td>\n",
              "      <td>1</td>\n",
              "      <td>1</td>\n",
              "      <td>0</td>\n",
              "      <td>0</td>\n",
              "      <td>0</td>\n",
              "      <td>0</td>\n",
              "      <td>1</td>\n",
              "      <td>0</td>\n",
              "      <td>1</td>\n",
              "      <td>1</td>\n",
              "      <td>1</td>\n",
              "      <td>1</td>\n",
              "    </tr>\n",
              "  </tbody>\n",
              "</table>\n",
              "</div>\n",
              "      <button class=\"colab-df-convert\" onclick=\"convertToInteractive('df-af943f9e-2d66-4021-9c20-b4845df4bd94')\"\n",
              "              title=\"Convert this dataframe to an interactive table.\"\n",
              "              style=\"display:none;\">\n",
              "        \n",
              "  <svg xmlns=\"http://www.w3.org/2000/svg\" height=\"24px\"viewBox=\"0 0 24 24\"\n",
              "       width=\"24px\">\n",
              "    <path d=\"M0 0h24v24H0V0z\" fill=\"none\"/>\n",
              "    <path d=\"M18.56 5.44l.94 2.06.94-2.06 2.06-.94-2.06-.94-.94-2.06-.94 2.06-2.06.94zm-11 1L8.5 8.5l.94-2.06 2.06-.94-2.06-.94L8.5 2.5l-.94 2.06-2.06.94zm10 10l.94 2.06.94-2.06 2.06-.94-2.06-.94-.94-2.06-.94 2.06-2.06.94z\"/><path d=\"M17.41 7.96l-1.37-1.37c-.4-.4-.92-.59-1.43-.59-.52 0-1.04.2-1.43.59L10.3 9.45l-7.72 7.72c-.78.78-.78 2.05 0 2.83L4 21.41c.39.39.9.59 1.41.59.51 0 1.02-.2 1.41-.59l7.78-7.78 2.81-2.81c.8-.78.8-2.07 0-2.86zM5.41 20L4 18.59l7.72-7.72 1.47 1.35L5.41 20z\"/>\n",
              "  </svg>\n",
              "      </button>\n",
              "      \n",
              "  <style>\n",
              "    .colab-df-container {\n",
              "      display:flex;\n",
              "      flex-wrap:wrap;\n",
              "      gap: 12px;\n",
              "    }\n",
              "\n",
              "    .colab-df-convert {\n",
              "      background-color: #E8F0FE;\n",
              "      border: none;\n",
              "      border-radius: 50%;\n",
              "      cursor: pointer;\n",
              "      display: none;\n",
              "      fill: #1967D2;\n",
              "      height: 32px;\n",
              "      padding: 0 0 0 0;\n",
              "      width: 32px;\n",
              "    }\n",
              "\n",
              "    .colab-df-convert:hover {\n",
              "      background-color: #E2EBFA;\n",
              "      box-shadow: 0px 1px 2px rgba(60, 64, 67, 0.3), 0px 1px 3px 1px rgba(60, 64, 67, 0.15);\n",
              "      fill: #174EA6;\n",
              "    }\n",
              "\n",
              "    [theme=dark] .colab-df-convert {\n",
              "      background-color: #3B4455;\n",
              "      fill: #D2E3FC;\n",
              "    }\n",
              "\n",
              "    [theme=dark] .colab-df-convert:hover {\n",
              "      background-color: #434B5C;\n",
              "      box-shadow: 0px 1px 3px 1px rgba(0, 0, 0, 0.15);\n",
              "      filter: drop-shadow(0px 1px 2px rgba(0, 0, 0, 0.3));\n",
              "      fill: #FFFFFF;\n",
              "    }\n",
              "  </style>\n",
              "\n",
              "      <script>\n",
              "        const buttonEl =\n",
              "          document.querySelector('#df-af943f9e-2d66-4021-9c20-b4845df4bd94 button.colab-df-convert');\n",
              "        buttonEl.style.display =\n",
              "          google.colab.kernel.accessAllowed ? 'block' : 'none';\n",
              "\n",
              "        async function convertToInteractive(key) {\n",
              "          const element = document.querySelector('#df-af943f9e-2d66-4021-9c20-b4845df4bd94');\n",
              "          const dataTable =\n",
              "            await google.colab.kernel.invokeFunction('convertToInteractive',\n",
              "                                                     [key], {});\n",
              "          if (!dataTable) return;\n",
              "\n",
              "          const docLinkHtml = 'Like what you see? Visit the ' +\n",
              "            '<a target=\"_blank\" href=https://colab.research.google.com/notebooks/data_table.ipynb>data table notebook</a>'\n",
              "            + ' to learn more about interactive tables.';\n",
              "          element.innerHTML = '';\n",
              "          dataTable['output_type'] = 'display_data';\n",
              "          await google.colab.output.renderOutput(dataTable, element);\n",
              "          const docLink = document.createElement('div');\n",
              "          docLink.innerHTML = docLinkHtml;\n",
              "          element.appendChild(docLink);\n",
              "        }\n",
              "      </script>\n",
              "    </div>\n",
              "  </div>\n",
              "  "
            ]
          },
          "metadata": {},
          "execution_count": 20
        }
      ]
    },
    {
      "cell_type": "code",
      "source": [
        "X = df.drop(['Class Name'],axis =1)\n",
        "y = df['Class Name']"
      ],
      "metadata": {
        "id": "s-93WJg6j_eP"
      },
      "execution_count": 7,
      "outputs": []
    },
    {
      "cell_type": "code",
      "source": [
        "rank1 = pd.read_excel(\"/content/voting84_dataset.xlsx\",sheet_name = \"Chi_2\").set_index('Attributes_Names')\n",
        "df_chi = df[rank1[:8].index]"
      ],
      "metadata": {
        "id": "9-fokxv9kL94"
      },
      "execution_count": 13,
      "outputs": []
    },
    {
      "cell_type": "code",
      "source": [
        "X_col =  df_chi\n",
        "y = df['Class Name']\n",
        "Scaler = StandardScaler()\n",
        "X_col =  Scaler.fit_transform(X_col)\n",
        "X_train, X_test, y_train, y_test = train_test_split(X_col, y, test_size=0.2, random_state=0)\n",
        "print(\"Shape of training data\",X_train.shape)\n",
        "print(\"Shape of testing data\",X_test.shape)"
      ],
      "metadata": {
        "colab": {
          "base_uri": "https://localhost:8080/"
        },
        "id": "NSCkHSqQkgdq",
        "outputId": "761fe97b-8461-432b-ec77-97aa97351775"
      },
      "execution_count": 14,
      "outputs": [
        {
          "output_type": "stream",
          "name": "stdout",
          "text": [
            "Shape of training data (348, 8)\n",
            "Shape of testing data (87, 8)\n"
          ]
        }
      ]
    },
    {
      "cell_type": "code",
      "source": [
        "rf =  RandomForestClassifier()\n",
        "rf.fit(X_train,y_train)\n",
        "y_pred_rf =  rf.predict(X_test)\n",
        "print(\"Accuracy: \",accuracy_score(y_test,y_pred_rf))\n",
        "print(\"Recall: \", recall_score(y_test,y_pred_rf))\n",
        "print(\"Precision: \", precision_score(y_test,y_pred_rf))\n",
        "print(confusion_matrix(y_test,y_pred_rf))"
      ],
      "metadata": {
        "colab": {
          "base_uri": "https://localhost:8080/"
        },
        "id": "xbvbHPtOkq8s",
        "outputId": "1f3f20ea-f8e7-44ae-f398-fdc760882b5c"
      },
      "execution_count": 15,
      "outputs": [
        {
          "output_type": "stream",
          "name": "stdout",
          "text": [
            "Accuracy:  0.9655172413793104\n",
            "Recall:  0.9428571428571428\n",
            "Precision:  0.9705882352941176\n",
            "[[51  1]\n",
            " [ 2 33]]\n"
          ]
        }
      ]
    },
    {
      "cell_type": "code",
      "source": [
        "svc =  SVC()\n",
        "svc.fit(X_test,y_test)\n",
        "y_pred_svc =  svc.predict(X_test)\n",
        "print(\"Accuracy: \",accuracy_score(y_test,y_pred_svc))\n",
        "print(\"Recall: \", recall_score(y_test,y_pred_svc))\n",
        "print(\"Precision: \", precision_score(y_test,y_pred_svc))\n",
        "print(confusion_matrix(y_test,y_pred_svc))"
      ],
      "metadata": {
        "colab": {
          "base_uri": "https://localhost:8080/"
        },
        "id": "nJR0Nwxjk_QS",
        "outputId": "fbf731b6-d131-4e40-851c-6bd8cc476416"
      },
      "execution_count": 17,
      "outputs": [
        {
          "output_type": "stream",
          "name": "stdout",
          "text": [
            "Accuracy:  0.9770114942528736\n",
            "Recall:  0.9714285714285714\n",
            "Precision:  0.9714285714285714\n",
            "[[51  1]\n",
            " [ 1 34]]\n"
          ]
        }
      ]
    },
    {
      "cell_type": "code",
      "source": [
        "model = tf.keras.Sequential([\n",
        "    tf.keras.layers.Dense(8, activation='relu', input_shape=(8,)),\n",
        "    tf.keras.layers.BatchNormalization(),\n",
        "    tf.keras.layers.Dense(16, activation='relu'),\n",
        "    tf.keras.layers.BatchNormalization(),\n",
        "    tf.keras.layers.Dense(24, activation='relu'),\n",
        "    tf.keras.layers.Dropout(0.5), \n",
        "    tf.keras.layers.Dense(1,activation='sigmoid')\n",
        "  ])\n",
        "model.compile(loss='binary_crossentropy',\n",
        "              optimizer = 'adam',\n",
        "              metrics=['accuracy'])\n",
        "model.summary()"
      ],
      "metadata": {
        "colab": {
          "base_uri": "https://localhost:8080/"
        },
        "id": "SXXXcQWzlCPi",
        "outputId": "14135221-4138-49d4-d079-a1430af9397f"
      },
      "execution_count": 19,
      "outputs": [
        {
          "output_type": "stream",
          "name": "stdout",
          "text": [
            "Model: \"sequential_1\"\n",
            "_________________________________________________________________\n",
            "Layer (type)                 Output Shape              Param #   \n",
            "=================================================================\n",
            "dense_4 (Dense)              (None, 8)                 72        \n",
            "_________________________________________________________________\n",
            "batch_normalization_2 (Batch (None, 8)                 32        \n",
            "_________________________________________________________________\n",
            "dense_5 (Dense)              (None, 16)                144       \n",
            "_________________________________________________________________\n",
            "batch_normalization_3 (Batch (None, 16)                64        \n",
            "_________________________________________________________________\n",
            "dense_6 (Dense)              (None, 24)                408       \n",
            "_________________________________________________________________\n",
            "dropout_1 (Dropout)          (None, 24)                0         \n",
            "_________________________________________________________________\n",
            "dense_7 (Dense)              (None, 1)                 25        \n",
            "=================================================================\n",
            "Total params: 745\n",
            "Trainable params: 697\n",
            "Non-trainable params: 48\n",
            "_________________________________________________________________\n"
          ]
        }
      ]
    },
    {
      "cell_type": "code",
      "source": [
        "h = model.fit(X_train,y_train,epochs=100,validation_data=(X_test,y_test))"
      ],
      "metadata": {
        "colab": {
          "base_uri": "https://localhost:8080/"
        },
        "id": "0Fs0hblRlP65",
        "outputId": "d8d7d78f-24b1-422d-829a-ba6d7f439746"
      },
      "execution_count": 21,
      "outputs": [
        {
          "output_type": "stream",
          "name": "stdout",
          "text": [
            "Epoch 1/100\n",
            "11/11 [==============================] - 6s 109ms/step - loss: 0.7900 - accuracy: 0.4971 - val_loss: 0.7082 - val_accuracy: 0.4598\n",
            "Epoch 2/100\n",
            "11/11 [==============================] - 0s 14ms/step - loss: 0.6663 - accuracy: 0.6695 - val_loss: 0.6849 - val_accuracy: 0.7011\n",
            "Epoch 3/100\n",
            "11/11 [==============================] - 0s 25ms/step - loss: 0.6136 - accuracy: 0.6954 - val_loss: 0.6631 - val_accuracy: 0.7011\n",
            "Epoch 4/100\n",
            "11/11 [==============================] - 0s 20ms/step - loss: 0.5585 - accuracy: 0.7672 - val_loss: 0.6452 - val_accuracy: 0.7471\n",
            "Epoch 5/100\n",
            "11/11 [==============================] - 0s 21ms/step - loss: 0.4672 - accuracy: 0.8103 - val_loss: 0.6238 - val_accuracy: 0.7586\n",
            "Epoch 6/100\n",
            "11/11 [==============================] - 0s 19ms/step - loss: 0.4343 - accuracy: 0.8362 - val_loss: 0.5968 - val_accuracy: 0.7701\n",
            "Epoch 7/100\n",
            "11/11 [==============================] - 0s 17ms/step - loss: 0.4292 - accuracy: 0.8506 - val_loss: 0.5673 - val_accuracy: 0.8161\n",
            "Epoch 8/100\n",
            "11/11 [==============================] - 0s 16ms/step - loss: 0.3449 - accuracy: 0.8707 - val_loss: 0.5366 - val_accuracy: 0.8276\n",
            "Epoch 9/100\n",
            "11/11 [==============================] - 0s 15ms/step - loss: 0.3734 - accuracy: 0.8247 - val_loss: 0.5074 - val_accuracy: 0.8391\n",
            "Epoch 10/100\n",
            "11/11 [==============================] - 0s 17ms/step - loss: 0.3445 - accuracy: 0.8649 - val_loss: 0.4774 - val_accuracy: 0.8506\n",
            "Epoch 11/100\n",
            "11/11 [==============================] - 0s 11ms/step - loss: 0.3226 - accuracy: 0.8793 - val_loss: 0.4464 - val_accuracy: 0.8506\n",
            "Epoch 12/100\n",
            "11/11 [==============================] - 0s 17ms/step - loss: 0.3248 - accuracy: 0.8563 - val_loss: 0.4175 - val_accuracy: 0.8506\n",
            "Epoch 13/100\n",
            "11/11 [==============================] - 0s 21ms/step - loss: 0.2588 - accuracy: 0.9052 - val_loss: 0.3914 - val_accuracy: 0.8851\n",
            "Epoch 14/100\n",
            "11/11 [==============================] - 0s 23ms/step - loss: 0.2824 - accuracy: 0.8879 - val_loss: 0.3665 - val_accuracy: 0.8851\n",
            "Epoch 15/100\n",
            "11/11 [==============================] - 0s 20ms/step - loss: 0.2803 - accuracy: 0.8764 - val_loss: 0.3435 - val_accuracy: 0.8966\n",
            "Epoch 16/100\n",
            "11/11 [==============================] - 0s 20ms/step - loss: 0.2380 - accuracy: 0.8994 - val_loss: 0.3233 - val_accuracy: 0.8966\n",
            "Epoch 17/100\n",
            "11/11 [==============================] - 0s 15ms/step - loss: 0.2485 - accuracy: 0.9052 - val_loss: 0.3040 - val_accuracy: 0.8966\n",
            "Epoch 18/100\n",
            "11/11 [==============================] - 0s 16ms/step - loss: 0.2371 - accuracy: 0.9080 - val_loss: 0.2850 - val_accuracy: 0.8966\n",
            "Epoch 19/100\n",
            "11/11 [==============================] - 0s 15ms/step - loss: 0.2279 - accuracy: 0.9023 - val_loss: 0.2678 - val_accuracy: 0.8966\n",
            "Epoch 20/100\n",
            "11/11 [==============================] - 0s 9ms/step - loss: 0.2178 - accuracy: 0.9224 - val_loss: 0.2538 - val_accuracy: 0.9080\n",
            "Epoch 21/100\n",
            "11/11 [==============================] - 0s 17ms/step - loss: 0.2581 - accuracy: 0.9080 - val_loss: 0.2409 - val_accuracy: 0.9080\n",
            "Epoch 22/100\n",
            "11/11 [==============================] - 0s 14ms/step - loss: 0.2243 - accuracy: 0.9167 - val_loss: 0.2266 - val_accuracy: 0.9195\n",
            "Epoch 23/100\n",
            "11/11 [==============================] - 0s 9ms/step - loss: 0.2087 - accuracy: 0.9310 - val_loss: 0.2146 - val_accuracy: 0.9425\n",
            "Epoch 24/100\n",
            "11/11 [==============================] - 0s 17ms/step - loss: 0.2069 - accuracy: 0.9253 - val_loss: 0.2060 - val_accuracy: 0.9425\n",
            "Epoch 25/100\n",
            "11/11 [==============================] - 0s 14ms/step - loss: 0.1957 - accuracy: 0.9195 - val_loss: 0.1964 - val_accuracy: 0.9425\n",
            "Epoch 26/100\n",
            "11/11 [==============================] - 0s 17ms/step - loss: 0.2114 - accuracy: 0.9368 - val_loss: 0.1902 - val_accuracy: 0.9425\n",
            "Epoch 27/100\n",
            "11/11 [==============================] - 0s 13ms/step - loss: 0.2186 - accuracy: 0.9167 - val_loss: 0.1848 - val_accuracy: 0.9425\n",
            "Epoch 28/100\n",
            "11/11 [==============================] - 0s 19ms/step - loss: 0.1834 - accuracy: 0.9282 - val_loss: 0.1775 - val_accuracy: 0.9425\n",
            "Epoch 29/100\n",
            "11/11 [==============================] - 0s 11ms/step - loss: 0.1980 - accuracy: 0.9397 - val_loss: 0.1718 - val_accuracy: 0.9425\n",
            "Epoch 30/100\n",
            "11/11 [==============================] - 0s 21ms/step - loss: 0.1754 - accuracy: 0.9397 - val_loss: 0.1674 - val_accuracy: 0.9425\n",
            "Epoch 31/100\n",
            "11/11 [==============================] - 0s 16ms/step - loss: 0.2188 - accuracy: 0.9109 - val_loss: 0.1635 - val_accuracy: 0.9425\n",
            "Epoch 32/100\n",
            "11/11 [==============================] - 0s 14ms/step - loss: 0.1945 - accuracy: 0.9368 - val_loss: 0.1590 - val_accuracy: 0.9425\n",
            "Epoch 33/100\n",
            "11/11 [==============================] - 0s 18ms/step - loss: 0.1665 - accuracy: 0.9483 - val_loss: 0.1534 - val_accuracy: 0.9425\n",
            "Epoch 34/100\n",
            "11/11 [==============================] - 0s 18ms/step - loss: 0.1897 - accuracy: 0.9310 - val_loss: 0.1499 - val_accuracy: 0.9425\n",
            "Epoch 35/100\n",
            "11/11 [==============================] - 0s 28ms/step - loss: 0.1717 - accuracy: 0.9425 - val_loss: 0.1466 - val_accuracy: 0.9540\n",
            "Epoch 36/100\n",
            "11/11 [==============================] - 0s 21ms/step - loss: 0.1852 - accuracy: 0.9224 - val_loss: 0.1420 - val_accuracy: 0.9540\n",
            "Epoch 37/100\n",
            "11/11 [==============================] - 0s 13ms/step - loss: 0.1723 - accuracy: 0.9368 - val_loss: 0.1385 - val_accuracy: 0.9540\n",
            "Epoch 38/100\n",
            "11/11 [==============================] - 0s 12ms/step - loss: 0.1936 - accuracy: 0.9253 - val_loss: 0.1365 - val_accuracy: 0.9540\n",
            "Epoch 39/100\n",
            "11/11 [==============================] - 0s 13ms/step - loss: 0.1676 - accuracy: 0.9454 - val_loss: 0.1337 - val_accuracy: 0.9540\n",
            "Epoch 40/100\n",
            "11/11 [==============================] - 0s 17ms/step - loss: 0.1889 - accuracy: 0.9425 - val_loss: 0.1322 - val_accuracy: 0.9540\n",
            "Epoch 41/100\n",
            "11/11 [==============================] - 0s 7ms/step - loss: 0.1823 - accuracy: 0.9368 - val_loss: 0.1312 - val_accuracy: 0.9540\n",
            "Epoch 42/100\n",
            "11/11 [==============================] - 0s 9ms/step - loss: 0.1807 - accuracy: 0.9368 - val_loss: 0.1316 - val_accuracy: 0.9770\n",
            "Epoch 43/100\n",
            "11/11 [==============================] - 0s 15ms/step - loss: 0.1590 - accuracy: 0.9425 - val_loss: 0.1294 - val_accuracy: 0.9770\n",
            "Epoch 44/100\n",
            "11/11 [==============================] - 0s 16ms/step - loss: 0.1622 - accuracy: 0.9310 - val_loss: 0.1261 - val_accuracy: 0.9770\n",
            "Epoch 45/100\n",
            "11/11 [==============================] - 0s 13ms/step - loss: 0.1529 - accuracy: 0.9425 - val_loss: 0.1227 - val_accuracy: 0.9770\n",
            "Epoch 46/100\n",
            "11/11 [==============================] - 0s 18ms/step - loss: 0.1742 - accuracy: 0.9310 - val_loss: 0.1228 - val_accuracy: 0.9770\n",
            "Epoch 47/100\n",
            "11/11 [==============================] - 0s 10ms/step - loss: 0.1802 - accuracy: 0.9368 - val_loss: 0.1239 - val_accuracy: 0.9770\n",
            "Epoch 48/100\n",
            "11/11 [==============================] - 0s 11ms/step - loss: 0.1853 - accuracy: 0.9511 - val_loss: 0.1236 - val_accuracy: 0.9770\n",
            "Epoch 49/100\n",
            "11/11 [==============================] - 0s 15ms/step - loss: 0.1457 - accuracy: 0.9282 - val_loss: 0.1226 - val_accuracy: 0.9770\n",
            "Epoch 50/100\n",
            "11/11 [==============================] - 0s 13ms/step - loss: 0.1556 - accuracy: 0.9425 - val_loss: 0.1201 - val_accuracy: 0.9770\n",
            "Epoch 51/100\n",
            "11/11 [==============================] - 0s 12ms/step - loss: 0.1662 - accuracy: 0.9310 - val_loss: 0.1168 - val_accuracy: 0.9770\n",
            "Epoch 52/100\n",
            "11/11 [==============================] - 0s 16ms/step - loss: 0.1657 - accuracy: 0.9425 - val_loss: 0.1149 - val_accuracy: 0.9770\n",
            "Epoch 53/100\n",
            "11/11 [==============================] - 0s 12ms/step - loss: 0.1882 - accuracy: 0.9368 - val_loss: 0.1145 - val_accuracy: 0.9770\n",
            "Epoch 54/100\n",
            "11/11 [==============================] - 0s 15ms/step - loss: 0.1676 - accuracy: 0.9483 - val_loss: 0.1149 - val_accuracy: 0.9770\n",
            "Epoch 55/100\n",
            "11/11 [==============================] - 0s 8ms/step - loss: 0.1571 - accuracy: 0.9425 - val_loss: 0.1140 - val_accuracy: 0.9770\n",
            "Epoch 56/100\n",
            "11/11 [==============================] - 0s 17ms/step - loss: 0.1721 - accuracy: 0.9397 - val_loss: 0.1140 - val_accuracy: 0.9770\n",
            "Epoch 57/100\n",
            "11/11 [==============================] - 0s 14ms/step - loss: 0.1412 - accuracy: 0.9454 - val_loss: 0.1138 - val_accuracy: 0.9770\n",
            "Epoch 58/100\n",
            "11/11 [==============================] - 0s 11ms/step - loss: 0.1448 - accuracy: 0.9483 - val_loss: 0.1137 - val_accuracy: 0.9770\n",
            "Epoch 59/100\n",
            "11/11 [==============================] - 0s 18ms/step - loss: 0.1546 - accuracy: 0.9368 - val_loss: 0.1152 - val_accuracy: 0.9770\n",
            "Epoch 60/100\n",
            "11/11 [==============================] - 0s 12ms/step - loss: 0.1592 - accuracy: 0.9425 - val_loss: 0.1147 - val_accuracy: 0.9770\n",
            "Epoch 61/100\n",
            "11/11 [==============================] - 0s 16ms/step - loss: 0.1482 - accuracy: 0.9540 - val_loss: 0.1155 - val_accuracy: 0.9770\n",
            "Epoch 62/100\n",
            "11/11 [==============================] - 0s 19ms/step - loss: 0.1563 - accuracy: 0.9511 - val_loss: 0.1151 - val_accuracy: 0.9770\n",
            "Epoch 63/100\n",
            "11/11 [==============================] - 0s 10ms/step - loss: 0.1733 - accuracy: 0.9339 - val_loss: 0.1140 - val_accuracy: 0.9655\n",
            "Epoch 64/100\n",
            "11/11 [==============================] - 0s 13ms/step - loss: 0.1425 - accuracy: 0.9540 - val_loss: 0.1146 - val_accuracy: 0.9655\n",
            "Epoch 65/100\n",
            "11/11 [==============================] - 0s 17ms/step - loss: 0.1715 - accuracy: 0.9368 - val_loss: 0.1130 - val_accuracy: 0.9655\n",
            "Epoch 66/100\n",
            "11/11 [==============================] - 0s 13ms/step - loss: 0.1549 - accuracy: 0.9511 - val_loss: 0.1132 - val_accuracy: 0.9655\n",
            "Epoch 67/100\n",
            "11/11 [==============================] - 0s 9ms/step - loss: 0.1784 - accuracy: 0.9454 - val_loss: 0.1137 - val_accuracy: 0.9655\n",
            "Epoch 68/100\n",
            "11/11 [==============================] - 0s 20ms/step - loss: 0.1546 - accuracy: 0.9569 - val_loss: 0.1138 - val_accuracy: 0.9655\n",
            "Epoch 69/100\n",
            "11/11 [==============================] - 0s 14ms/step - loss: 0.1633 - accuracy: 0.9483 - val_loss: 0.1155 - val_accuracy: 0.9655\n",
            "Epoch 70/100\n",
            "11/11 [==============================] - 0s 13ms/step - loss: 0.1650 - accuracy: 0.9569 - val_loss: 0.1142 - val_accuracy: 0.9655\n",
            "Epoch 71/100\n",
            "11/11 [==============================] - 0s 16ms/step - loss: 0.1636 - accuracy: 0.9511 - val_loss: 0.1148 - val_accuracy: 0.9655\n",
            "Epoch 72/100\n",
            "11/11 [==============================] - 0s 15ms/step - loss: 0.1669 - accuracy: 0.9282 - val_loss: 0.1145 - val_accuracy: 0.9770\n",
            "Epoch 73/100\n",
            "11/11 [==============================] - 0s 12ms/step - loss: 0.1658 - accuracy: 0.9425 - val_loss: 0.1155 - val_accuracy: 0.9655\n",
            "Epoch 74/100\n",
            "11/11 [==============================] - 0s 8ms/step - loss: 0.1502 - accuracy: 0.9540 - val_loss: 0.1169 - val_accuracy: 0.9655\n",
            "Epoch 75/100\n",
            "11/11 [==============================] - 0s 17ms/step - loss: 0.1496 - accuracy: 0.9540 - val_loss: 0.1173 - val_accuracy: 0.9655\n",
            "Epoch 76/100\n",
            "11/11 [==============================] - 0s 9ms/step - loss: 0.1748 - accuracy: 0.9425 - val_loss: 0.1175 - val_accuracy: 0.9655\n",
            "Epoch 77/100\n",
            "11/11 [==============================] - 0s 10ms/step - loss: 0.1700 - accuracy: 0.9397 - val_loss: 0.1149 - val_accuracy: 0.9655\n",
            "Epoch 78/100\n",
            "11/11 [==============================] - 0s 12ms/step - loss: 0.1497 - accuracy: 0.9425 - val_loss: 0.1143 - val_accuracy: 0.9655\n",
            "Epoch 79/100\n",
            "11/11 [==============================] - 0s 12ms/step - loss: 0.1494 - accuracy: 0.9511 - val_loss: 0.1117 - val_accuracy: 0.9770\n",
            "Epoch 80/100\n",
            "11/11 [==============================] - 0s 13ms/step - loss: 0.1597 - accuracy: 0.9483 - val_loss: 0.1113 - val_accuracy: 0.9770\n",
            "Epoch 81/100\n",
            "11/11 [==============================] - 0s 13ms/step - loss: 0.1524 - accuracy: 0.9598 - val_loss: 0.1120 - val_accuracy: 0.9770\n",
            "Epoch 82/100\n",
            "11/11 [==============================] - 0s 13ms/step - loss: 0.1711 - accuracy: 0.9540 - val_loss: 0.1128 - val_accuracy: 0.9655\n",
            "Epoch 83/100\n",
            "11/11 [==============================] - 0s 16ms/step - loss: 0.1449 - accuracy: 0.9483 - val_loss: 0.1145 - val_accuracy: 0.9655\n",
            "Epoch 84/100\n",
            "11/11 [==============================] - 0s 25ms/step - loss: 0.1543 - accuracy: 0.9511 - val_loss: 0.1155 - val_accuracy: 0.9655\n",
            "Epoch 85/100\n",
            "11/11 [==============================] - 0s 18ms/step - loss: 0.1569 - accuracy: 0.9282 - val_loss: 0.1166 - val_accuracy: 0.9655\n",
            "Epoch 86/100\n",
            "11/11 [==============================] - 0s 9ms/step - loss: 0.1396 - accuracy: 0.9425 - val_loss: 0.1162 - val_accuracy: 0.9655\n",
            "Epoch 87/100\n",
            "11/11 [==============================] - 0s 16ms/step - loss: 0.1170 - accuracy: 0.9540 - val_loss: 0.1136 - val_accuracy: 0.9655\n",
            "Epoch 88/100\n",
            "11/11 [==============================] - 0s 9ms/step - loss: 0.1564 - accuracy: 0.9425 - val_loss: 0.1125 - val_accuracy: 0.9655\n",
            "Epoch 89/100\n",
            "11/11 [==============================] - 0s 17ms/step - loss: 0.1514 - accuracy: 0.9511 - val_loss: 0.1125 - val_accuracy: 0.9655\n",
            "Epoch 90/100\n",
            "11/11 [==============================] - 0s 16ms/step - loss: 0.1699 - accuracy: 0.9454 - val_loss: 0.1128 - val_accuracy: 0.9655\n",
            "Epoch 91/100\n",
            "11/11 [==============================] - 0s 18ms/step - loss: 0.1461 - accuracy: 0.9483 - val_loss: 0.1127 - val_accuracy: 0.9655\n",
            "Epoch 92/100\n",
            "11/11 [==============================] - 0s 15ms/step - loss: 0.1281 - accuracy: 0.9511 - val_loss: 0.1144 - val_accuracy: 0.9655\n",
            "Epoch 93/100\n",
            "11/11 [==============================] - 0s 13ms/step - loss: 0.1595 - accuracy: 0.9511 - val_loss: 0.1137 - val_accuracy: 0.9655\n",
            "Epoch 94/100\n",
            "11/11 [==============================] - 0s 11ms/step - loss: 0.1500 - accuracy: 0.9511 - val_loss: 0.1138 - val_accuracy: 0.9655\n",
            "Epoch 95/100\n",
            "11/11 [==============================] - 0s 17ms/step - loss: 0.1255 - accuracy: 0.9540 - val_loss: 0.1157 - val_accuracy: 0.9655\n",
            "Epoch 96/100\n",
            "11/11 [==============================] - 0s 25ms/step - loss: 0.1391 - accuracy: 0.9540 - val_loss: 0.1150 - val_accuracy: 0.9655\n",
            "Epoch 97/100\n",
            "11/11 [==============================] - 0s 24ms/step - loss: 0.1350 - accuracy: 0.9483 - val_loss: 0.1149 - val_accuracy: 0.9655\n",
            "Epoch 98/100\n",
            "11/11 [==============================] - 0s 14ms/step - loss: 0.1656 - accuracy: 0.9569 - val_loss: 0.1135 - val_accuracy: 0.9655\n",
            "Epoch 99/100\n",
            "11/11 [==============================] - 0s 12ms/step - loss: 0.1379 - accuracy: 0.9569 - val_loss: 0.1130 - val_accuracy: 0.9655\n",
            "Epoch 100/100\n",
            "11/11 [==============================] - 0s 13ms/step - loss: 0.1753 - accuracy: 0.9598 - val_loss: 0.1148 - val_accuracy: 0.9655\n"
          ]
        }
      ]
    },
    {
      "cell_type": "code",
      "source": [
        "plt.plot(h.history['accuracy'], label = 'Accuracy for Train set')\n",
        "plt.plot(h.history['val_accuracy'], label = 'Accuracy for Test Set')\n",
        "plt.title('Accuracy Graph for ANN')\n",
        "plt.ylabel('Accuracy')\n",
        "plt.xlabel('epochs')\n",
        "plt.legend()"
      ],
      "metadata": {
        "colab": {
          "base_uri": "https://localhost:8080/",
          "height": 312
        },
        "id": "DP8XUpn1ldaV",
        "outputId": "117fc192-e89e-478d-97e9-c882d998bbe3"
      },
      "execution_count": 22,
      "outputs": [
        {
          "output_type": "execute_result",
          "data": {
            "text/plain": [
              "<matplotlib.legend.Legend at 0x7f4c3818a150>"
            ]
          },
          "metadata": {},
          "execution_count": 22
        },
        {
          "output_type": "display_data",
          "data": {
            "text/plain": [
              "<Figure size 432x288 with 1 Axes>"
            ],
            "image/png": "[encoded data removed]"
          },
          "metadata": {
            "needs_background": "light"
          }
        }
      ]
    },
    {
      "cell_type": "code",
      "source": [
        "plt.plot(h.history['loss'], label = 'loss for Train set')\n",
        "plt.plot(h.history['val_loss'], label = 'loss for Test Set')\n",
        "plt.title('loss Graph for ANN')\n",
        "plt.ylabel('loss')\n",
        "plt.xlabel('epochs')\n",
        "plt.legend()"
      ],
      "metadata": {
        "colab": {
          "base_uri": "https://localhost:8080/",
          "height": 312
        },
        "id": "VK8Q4iLDlnaK",
        "outputId": "a94fb9c5-b566-4987-b3fd-52cc3a86210e"
      },
      "execution_count": 23,
      "outputs": [
        {
          "output_type": "execute_result",
          "data": {
            "text/plain": [
              "<matplotlib.legend.Legend at 0x7f4c381184d0>"
            ]
          },
          "metadata": {},
          "execution_count": 23
        },
        {
          "output_type": "display_data",
          "data": {
            "text/plain": [
              "<Figure size 432x288 with 1 Axes>"
            ],
            "image/png": "[encoded data removed]"
          },
          "metadata": {
            "needs_background": "light"
          }
        }
      ]
    },
    {
      "cell_type": "code",
      "source": [
        "y_pred_ann = model.predict_classes(X_test)\n",
        "print(\"Accuracy: \",accuracy_score(y_test,y_pred_ann))\n",
        "print(\"Recall: \", recall_score(y_test,y_pred_ann))\n",
        "print(\"Precision: \", precision_score(y_test,y_pred_ann))\n",
        "print(confusion_matrix(y_test,y_pred_ann))"
      ],
      "metadata": {
        "colab": {
          "base_uri": "https://localhost:8080/"
        },
        "id": "ihEpyo7mlp1L",
        "outputId": "616b71b3-d588-4dd6-9c55-69c20cec0481"
      },
      "execution_count": 25,
      "outputs": [
        {
          "output_type": "stream",
          "name": "stdout",
          "text": [
            "Accuracy:  0.9655172413793104\n",
            "Recall:  0.9714285714285714\n",
            "Precision:  0.9444444444444444\n",
            "[[50  2]\n",
            " [ 1 34]]\n"
          ]
        },
        {
          "output_type": "stream",
          "name": "stderr",
          "text": [
            "/usr/local/lib/python3.7/dist-packages/tensorflow/python/keras/engine/sequential.py:455: UserWarning: `model.predict_classes()` is deprecated and will be removed after 2021-01-01. Please use instead:* `np.argmax(model.predict(x), axis=-1)`,   if your model does multi-class classification   (e.g. if it uses a `softmax` last-layer activation).* `(model.predict(x) > 0.5).astype(\"int32\")`,   if your model does binary classification   (e.g. if it uses a `sigmoid` last-layer activation).\n",
            "  warnings.warn('`model.predict_classes()` is deprecated and '\n"
          ]
        }
      ]
    },
    {
      "cell_type": "code",
      "source": [
        "rank2  = pd.read_excel(\"/content/voting84_dataset.xlsx\",sheet_name = \"Tree_based_method\").set_index('Attributes_Names')\n",
        "df_tree = df[rank2[0:8].index]\n",
        "X_col =  df_tree\n",
        "y = df['Class Name']\n",
        "Scaler = StandardScaler()\n",
        "X_col =  Scaler.fit_transform(X_col)\n",
        "X_train, X_test, y_train, y_test = train_test_split(X_col, y, test_size=0.2, random_state=0)\n",
        "print(\"Shape of training data\",X_train.shape)\n",
        "print(\"Shape of testing data\",X_test.shape)"
      ],
      "metadata": {
        "colab": {
          "base_uri": "https://localhost:8080/"
        },
        "id": "vi4PnZ4Blrz0",
        "outputId": "7cb547a2-f5b6-406e-c6e6-40122435f0fe"
      },
      "execution_count": 28,
      "outputs": [
        {
          "output_type": "stream",
          "name": "stdout",
          "text": [
            "Shape of training data (348, 8)\n",
            "Shape of testing data (87, 8)\n"
          ]
        }
      ]
    },
    {
      "cell_type": "code",
      "source": [
        "rf =  RandomForestClassifier()\n",
        "rf.fit(X_train,y_train)\n",
        "y_pred_rf =  rf.predict(X_test)\n",
        "print(\"Accuracy: \",accuracy_score(y_test,y_pred_rf))\n",
        "print(\"Recall: \", recall_score(y_test,y_pred_rf))\n",
        "print(\"Precision: \", precision_score(y_test,y_pred_rf))\n",
        "print(confusion_matrix(y_test,y_pred_rf))"
      ],
      "metadata": {
        "colab": {
          "base_uri": "https://localhost:8080/"
        },
        "id": "aC7SYI44l-H2",
        "outputId": "5c56bb5d-3e8d-4c76-8987-311cb77b2605"
      },
      "execution_count": 29,
      "outputs": [
        {
          "output_type": "stream",
          "name": "stdout",
          "text": [
            "Accuracy:  0.9655172413793104\n",
            "Recall:  0.9428571428571428\n",
            "Precision:  0.9705882352941176\n",
            "[[51  1]\n",
            " [ 2 33]]\n"
          ]
        }
      ]
    },
    {
      "cell_type": "code",
      "source": [
        "svc =  SVC()\n",
        "svc.fit(X_test,y_test)\n",
        "y_pred_svc =  svc.predict(X_test)\n",
        "print(\"Accuracy: \",accuracy_score(y_test,y_pred_svc))\n",
        "print(\"Recall: \", recall_score(y_test,y_pred_svc))\n",
        "print(\"Precision: \", precision_score(y_test,y_pred_svc))\n",
        "print(confusion_matrix(y_test,y_pred_svc))"
      ],
      "metadata": {
        "colab": {
          "base_uri": "https://localhost:8080/"
        },
        "id": "x5BhJQTqmM3J",
        "outputId": "6b168d22-0c2f-4563-cec3-c9ea3ddfc65f"
      },
      "execution_count": 30,
      "outputs": [
        {
          "output_type": "stream",
          "name": "stdout",
          "text": [
            "Accuracy:  0.9770114942528736\n",
            "Recall:  0.9714285714285714\n",
            "Precision:  0.9714285714285714\n",
            "[[51  1]\n",
            " [ 1 34]]\n"
          ]
        }
      ]
    },
    {
      "cell_type": "code",
      "source": [
        "model = tf.keras.Sequential([\n",
        "    tf.keras.layers.Dense(8, activation='relu', input_shape=(8,)),\n",
        "    tf.keras.layers.BatchNormalization(),\n",
        "    tf.keras.layers.Dense(16, activation='relu'),\n",
        "    tf.keras.layers.BatchNormalization(),\n",
        "    tf.keras.layers.Dense(24, activation='relu'),\n",
        "    tf.keras.layers.Dropout(0.5), \n",
        "    tf.keras.layers.Dense(1,activation='sigmoid')\n",
        "  ])\n",
        "model.compile(loss='binary_crossentropy',\n",
        "              optimizer = 'adam',\n",
        "              metrics=['accuracy'])\n",
        "model.summary()"
      ],
      "metadata": {
        "colab": {
          "base_uri": "https://localhost:8080/"
        },
        "id": "QE8A26zqmSXW",
        "outputId": "e479fc65-cece-440e-fda4-695442e3792e"
      },
      "execution_count": 31,
      "outputs": [
        {
          "output_type": "stream",
          "name": "stdout",
          "text": [
            "Model: \"sequential_2\"\n",
            "_________________________________________________________________\n",
            "Layer (type)                 Output Shape              Param #   \n",
            "=================================================================\n",
            "dense_8 (Dense)              (None, 8)                 72        \n",
            "_________________________________________________________________\n",
            "batch_normalization_4 (Batch (None, 8)                 32        \n",
            "_________________________________________________________________\n",
            "dense_9 (Dense)              (None, 16)                144       \n",
            "_________________________________________________________________\n",
            "batch_normalization_5 (Batch (None, 16)                64        \n",
            "_________________________________________________________________\n",
            "dense_10 (Dense)             (None, 24)                408       \n",
            "_________________________________________________________________\n",
            "dropout_2 (Dropout)          (None, 24)                0         \n",
            "_________________________________________________________________\n",
            "dense_11 (Dense)             (None, 1)                 25        \n",
            "=================================================================\n",
            "Total params: 745\n",
            "Trainable params: 697\n",
            "Non-trainable params: 48\n",
            "_________________________________________________________________\n"
          ]
        }
      ]
    },
    {
      "cell_type": "code",
      "source": [
        "h = model.fit(X_train,y_train,epochs=100,validation_data=(X_test,y_test))"
      ],
      "metadata": {
        "colab": {
          "base_uri": "https://localhost:8080/"
        },
        "id": "XLJ08xE6mYN0",
        "outputId": "3f7bc963-1aaf-4aa2-ae69-55705243d458"
      },
      "execution_count": 32,
      "outputs": [
        {
          "output_type": "stream",
          "name": "stdout",
          "text": [
            "Epoch 1/100\n",
            "11/11 [==============================] - 2s 42ms/step - loss: 0.5505 - accuracy: 0.7098 - val_loss: 0.6178 - val_accuracy: 0.6437\n",
            "Epoch 2/100\n",
            "11/11 [==============================] - 0s 8ms/step - loss: 0.4498 - accuracy: 0.7787 - val_loss: 0.5796 - val_accuracy: 0.6437\n",
            "Epoch 3/100\n",
            "11/11 [==============================] - 0s 8ms/step - loss: 0.3861 - accuracy: 0.8534 - val_loss: 0.5382 - val_accuracy: 0.8391\n",
            "Epoch 4/100\n",
            "11/11 [==============================] - 0s 9ms/step - loss: 0.3704 - accuracy: 0.8448 - val_loss: 0.4964 - val_accuracy: 0.8506\n",
            "Epoch 5/100\n",
            "11/11 [==============================] - 0s 8ms/step - loss: 0.3130 - accuracy: 0.8994 - val_loss: 0.4562 - val_accuracy: 0.8736\n",
            "Epoch 6/100\n",
            "11/11 [==============================] - 0s 9ms/step - loss: 0.3063 - accuracy: 0.8879 - val_loss: 0.4195 - val_accuracy: 0.8736\n",
            "Epoch 7/100\n",
            "11/11 [==============================] - 0s 9ms/step - loss: 0.2887 - accuracy: 0.9052 - val_loss: 0.3874 - val_accuracy: 0.8851\n",
            "Epoch 8/100\n",
            "11/11 [==============================] - 0s 12ms/step - loss: 0.2695 - accuracy: 0.9023 - val_loss: 0.3621 - val_accuracy: 0.8851\n",
            "Epoch 9/100\n",
            "11/11 [==============================] - 0s 8ms/step - loss: 0.2677 - accuracy: 0.8994 - val_loss: 0.3390 - val_accuracy: 0.8851\n",
            "Epoch 10/100\n",
            "11/11 [==============================] - 0s 9ms/step - loss: 0.2477 - accuracy: 0.9167 - val_loss: 0.3169 - val_accuracy: 0.8851\n",
            "Epoch 11/100\n",
            "11/11 [==============================] - 0s 8ms/step - loss: 0.2325 - accuracy: 0.9167 - val_loss: 0.2980 - val_accuracy: 0.8851\n",
            "Epoch 12/100\n",
            "11/11 [==============================] - 0s 9ms/step - loss: 0.2338 - accuracy: 0.9195 - val_loss: 0.2824 - val_accuracy: 0.8851\n",
            "Epoch 13/100\n",
            "11/11 [==============================] - 0s 8ms/step - loss: 0.2118 - accuracy: 0.9282 - val_loss: 0.2704 - val_accuracy: 0.9080\n",
            "Epoch 14/100\n",
            "11/11 [==============================] - 0s 8ms/step - loss: 0.2140 - accuracy: 0.9310 - val_loss: 0.2591 - val_accuracy: 0.9080\n",
            "Epoch 15/100\n",
            "11/11 [==============================] - 0s 9ms/step - loss: 0.2408 - accuracy: 0.9109 - val_loss: 0.2493 - val_accuracy: 0.9080\n",
            "Epoch 16/100\n",
            "11/11 [==============================] - 0s 8ms/step - loss: 0.1998 - accuracy: 0.9195 - val_loss: 0.2400 - val_accuracy: 0.9080\n",
            "Epoch 17/100\n",
            "11/11 [==============================] - 0s 8ms/step - loss: 0.1890 - accuracy: 0.9195 - val_loss: 0.2321 - val_accuracy: 0.9080\n",
            "Epoch 18/100\n",
            "11/11 [==============================] - 0s 9ms/step - loss: 0.2210 - accuracy: 0.9253 - val_loss: 0.2258 - val_accuracy: 0.9195\n",
            "Epoch 19/100\n",
            "11/11 [==============================] - 0s 9ms/step - loss: 0.1656 - accuracy: 0.9397 - val_loss: 0.2195 - val_accuracy: 0.9425\n",
            "Epoch 20/100\n",
            "11/11 [==============================] - 0s 8ms/step - loss: 0.1956 - accuracy: 0.9253 - val_loss: 0.2135 - val_accuracy: 0.9425\n",
            "Epoch 21/100\n",
            "11/11 [==============================] - 0s 8ms/step - loss: 0.1746 - accuracy: 0.9368 - val_loss: 0.2088 - val_accuracy: 0.9425\n",
            "Epoch 22/100\n",
            "11/11 [==============================] - 0s 7ms/step - loss: 0.1673 - accuracy: 0.9483 - val_loss: 0.2060 - val_accuracy: 0.9540\n",
            "Epoch 23/100\n",
            "11/11 [==============================] - 0s 11ms/step - loss: 0.1754 - accuracy: 0.9224 - val_loss: 0.2018 - val_accuracy: 0.9540\n",
            "Epoch 24/100\n",
            "11/11 [==============================] - 0s 8ms/step - loss: 0.1509 - accuracy: 0.9425 - val_loss: 0.1986 - val_accuracy: 0.9540\n",
            "Epoch 25/100\n",
            "11/11 [==============================] - 0s 9ms/step - loss: 0.1701 - accuracy: 0.9454 - val_loss: 0.1955 - val_accuracy: 0.9540\n",
            "Epoch 26/100\n",
            "11/11 [==============================] - 0s 24ms/step - loss: 0.1479 - accuracy: 0.9397 - val_loss: 0.1925 - val_accuracy: 0.9540\n",
            "Epoch 27/100\n",
            "11/11 [==============================] - 0s 16ms/step - loss: 0.1664 - accuracy: 0.9511 - val_loss: 0.1900 - val_accuracy: 0.9540\n",
            "Epoch 28/100\n",
            "11/11 [==============================] - 0s 24ms/step - loss: 0.1595 - accuracy: 0.9454 - val_loss: 0.1880 - val_accuracy: 0.9540\n",
            "Epoch 29/100\n",
            "11/11 [==============================] - 0s 18ms/step - loss: 0.1588 - accuracy: 0.9368 - val_loss: 0.1857 - val_accuracy: 0.9540\n",
            "Epoch 30/100\n",
            "11/11 [==============================] - 0s 21ms/step - loss: 0.1604 - accuracy: 0.9483 - val_loss: 0.1838 - val_accuracy: 0.9540\n",
            "Epoch 31/100\n",
            "11/11 [==============================] - 0s 22ms/step - loss: 0.1498 - accuracy: 0.9511 - val_loss: 0.1836 - val_accuracy: 0.9425\n",
            "Epoch 32/100\n",
            "11/11 [==============================] - 0s 18ms/step - loss: 0.1436 - accuracy: 0.9569 - val_loss: 0.1848 - val_accuracy: 0.9425\n",
            "Epoch 33/100\n",
            "11/11 [==============================] - 0s 25ms/step - loss: 0.1521 - accuracy: 0.9511 - val_loss: 0.1850 - val_accuracy: 0.9425\n",
            "Epoch 34/100\n",
            "11/11 [==============================] - 0s 26ms/step - loss: 0.1275 - accuracy: 0.9655 - val_loss: 0.1851 - val_accuracy: 0.9425\n",
            "Epoch 35/100\n",
            "11/11 [==============================] - 0s 37ms/step - loss: 0.1322 - accuracy: 0.9540 - val_loss: 0.1847 - val_accuracy: 0.9425\n",
            "Epoch 36/100\n",
            "11/11 [==============================] - 0s 27ms/step - loss: 0.1318 - accuracy: 0.9425 - val_loss: 0.1845 - val_accuracy: 0.9425\n",
            "Epoch 37/100\n",
            "11/11 [==============================] - 0s 15ms/step - loss: 0.1497 - accuracy: 0.9540 - val_loss: 0.1841 - val_accuracy: 0.9425\n",
            "Epoch 38/100\n",
            "11/11 [==============================] - 0s 12ms/step - loss: 0.1506 - accuracy: 0.9511 - val_loss: 0.1837 - val_accuracy: 0.9540\n",
            "Epoch 39/100\n",
            "11/11 [==============================] - 0s 15ms/step - loss: 0.1435 - accuracy: 0.9655 - val_loss: 0.1850 - val_accuracy: 0.9540\n",
            "Epoch 40/100\n",
            "11/11 [==============================] - 0s 12ms/step - loss: 0.1744 - accuracy: 0.9569 - val_loss: 0.1840 - val_accuracy: 0.9540\n",
            "Epoch 41/100\n",
            "11/11 [==============================] - 0s 13ms/step - loss: 0.1488 - accuracy: 0.9483 - val_loss: 0.1848 - val_accuracy: 0.9540\n",
            "Epoch 42/100\n",
            "11/11 [==============================] - 0s 13ms/step - loss: 0.1142 - accuracy: 0.9598 - val_loss: 0.1866 - val_accuracy: 0.9540\n",
            "Epoch 43/100\n",
            "11/11 [==============================] - 0s 13ms/step - loss: 0.1088 - accuracy: 0.9713 - val_loss: 0.1877 - val_accuracy: 0.9540\n",
            "Epoch 44/100\n",
            "11/11 [==============================] - 0s 13ms/step - loss: 0.1534 - accuracy: 0.9626 - val_loss: 0.1856 - val_accuracy: 0.9540\n",
            "Epoch 45/100\n",
            "11/11 [==============================] - 0s 11ms/step - loss: 0.1213 - accuracy: 0.9626 - val_loss: 0.1838 - val_accuracy: 0.9540\n",
            "Epoch 46/100\n",
            "11/11 [==============================] - 0s 7ms/step - loss: 0.1350 - accuracy: 0.9626 - val_loss: 0.1844 - val_accuracy: 0.9540\n",
            "Epoch 47/100\n",
            "11/11 [==============================] - 0s 9ms/step - loss: 0.1057 - accuracy: 0.9684 - val_loss: 0.1863 - val_accuracy: 0.9540\n",
            "Epoch 48/100\n",
            "11/11 [==============================] - 0s 9ms/step - loss: 0.1338 - accuracy: 0.9655 - val_loss: 0.1883 - val_accuracy: 0.9540\n",
            "Epoch 49/100\n",
            "11/11 [==============================] - 0s 8ms/step - loss: 0.1261 - accuracy: 0.9655 - val_loss: 0.1900 - val_accuracy: 0.9540\n",
            "Epoch 50/100\n",
            "11/11 [==============================] - 0s 9ms/step - loss: 0.1159 - accuracy: 0.9741 - val_loss: 0.1921 - val_accuracy: 0.9540\n",
            "Epoch 51/100\n",
            "11/11 [==============================] - 0s 9ms/step - loss: 0.1350 - accuracy: 0.9598 - val_loss: 0.1925 - val_accuracy: 0.9540\n",
            "Epoch 52/100\n",
            "11/11 [==============================] - 0s 8ms/step - loss: 0.1039 - accuracy: 0.9626 - val_loss: 0.1945 - val_accuracy: 0.9540\n",
            "Epoch 53/100\n",
            "11/11 [==============================] - 0s 9ms/step - loss: 0.1582 - accuracy: 0.9454 - val_loss: 0.1926 - val_accuracy: 0.9540\n",
            "Epoch 54/100\n",
            "11/11 [==============================] - 0s 8ms/step - loss: 0.1154 - accuracy: 0.9626 - val_loss: 0.1912 - val_accuracy: 0.9540\n",
            "Epoch 55/100\n",
            "11/11 [==============================] - 0s 6ms/step - loss: 0.1302 - accuracy: 0.9569 - val_loss: 0.1896 - val_accuracy: 0.9540\n",
            "Epoch 56/100\n",
            "11/11 [==============================] - 0s 8ms/step - loss: 0.1343 - accuracy: 0.9598 - val_loss: 0.1904 - val_accuracy: 0.9540\n",
            "Epoch 57/100\n",
            "11/11 [==============================] - 0s 8ms/step - loss: 0.1117 - accuracy: 0.9684 - val_loss: 0.1896 - val_accuracy: 0.9540\n",
            "Epoch 58/100\n",
            "11/11 [==============================] - 0s 11ms/step - loss: 0.1511 - accuracy: 0.9655 - val_loss: 0.1889 - val_accuracy: 0.9540\n",
            "Epoch 59/100\n",
            "11/11 [==============================] - 0s 8ms/step - loss: 0.1197 - accuracy: 0.9425 - val_loss: 0.1886 - val_accuracy: 0.9425\n",
            "Epoch 60/100\n",
            "11/11 [==============================] - 0s 8ms/step - loss: 0.1309 - accuracy: 0.9655 - val_loss: 0.1858 - val_accuracy: 0.9425\n",
            "Epoch 61/100\n",
            "11/11 [==============================] - 0s 8ms/step - loss: 0.1129 - accuracy: 0.9569 - val_loss: 0.1873 - val_accuracy: 0.9425\n",
            "Epoch 62/100\n",
            "11/11 [==============================] - 0s 9ms/step - loss: 0.1277 - accuracy: 0.9569 - val_loss: 0.1853 - val_accuracy: 0.9540\n",
            "Epoch 63/100\n",
            "11/11 [==============================] - 0s 8ms/step - loss: 0.1102 - accuracy: 0.9626 - val_loss: 0.1856 - val_accuracy: 0.9540\n",
            "Epoch 64/100\n",
            "11/11 [==============================] - 0s 8ms/step - loss: 0.1078 - accuracy: 0.9655 - val_loss: 0.1860 - val_accuracy: 0.9540\n",
            "Epoch 65/100\n",
            "11/11 [==============================] - 0s 9ms/step - loss: 0.1400 - accuracy: 0.9598 - val_loss: 0.1850 - val_accuracy: 0.9540\n",
            "Epoch 66/100\n",
            "11/11 [==============================] - 0s 8ms/step - loss: 0.1227 - accuracy: 0.9713 - val_loss: 0.1807 - val_accuracy: 0.9540\n",
            "Epoch 67/100\n",
            "11/11 [==============================] - 0s 8ms/step - loss: 0.1061 - accuracy: 0.9655 - val_loss: 0.1804 - val_accuracy: 0.9540\n",
            "Epoch 68/100\n",
            "11/11 [==============================] - 0s 9ms/step - loss: 0.1197 - accuracy: 0.9684 - val_loss: 0.1827 - val_accuracy: 0.9540\n",
            "Epoch 69/100\n",
            "11/11 [==============================] - 0s 8ms/step - loss: 0.1054 - accuracy: 0.9598 - val_loss: 0.1836 - val_accuracy: 0.9540\n",
            "Epoch 70/100\n",
            "11/11 [==============================] - 0s 8ms/step - loss: 0.1131 - accuracy: 0.9540 - val_loss: 0.1821 - val_accuracy: 0.9540\n",
            "Epoch 71/100\n",
            "11/11 [==============================] - 0s 8ms/step - loss: 0.1278 - accuracy: 0.9569 - val_loss: 0.1745 - val_accuracy: 0.9540\n",
            "Epoch 72/100\n",
            "11/11 [==============================] - 0s 9ms/step - loss: 0.1007 - accuracy: 0.9684 - val_loss: 0.1748 - val_accuracy: 0.9540\n",
            "Epoch 73/100\n",
            "11/11 [==============================] - 0s 9ms/step - loss: 0.1049 - accuracy: 0.9626 - val_loss: 0.1730 - val_accuracy: 0.9540\n",
            "Epoch 74/100\n",
            "11/11 [==============================] - 0s 6ms/step - loss: 0.1176 - accuracy: 0.9684 - val_loss: 0.1737 - val_accuracy: 0.9540\n",
            "Epoch 75/100\n",
            "11/11 [==============================] - 0s 7ms/step - loss: 0.0943 - accuracy: 0.9741 - val_loss: 0.1741 - val_accuracy: 0.9540\n",
            "Epoch 76/100\n",
            "11/11 [==============================] - 0s 8ms/step - loss: 0.1001 - accuracy: 0.9713 - val_loss: 0.1738 - val_accuracy: 0.9540\n",
            "Epoch 77/100\n",
            "11/11 [==============================] - 0s 6ms/step - loss: 0.1068 - accuracy: 0.9626 - val_loss: 0.1739 - val_accuracy: 0.9540\n",
            "Epoch 78/100\n",
            "11/11 [==============================] - 0s 4ms/step - loss: 0.1106 - accuracy: 0.9684 - val_loss: 0.1736 - val_accuracy: 0.9540\n",
            "Epoch 79/100\n",
            "11/11 [==============================] - 0s 5ms/step - loss: 0.0820 - accuracy: 0.9713 - val_loss: 0.1743 - val_accuracy: 0.9540\n",
            "Epoch 80/100\n",
            "11/11 [==============================] - 0s 6ms/step - loss: 0.1122 - accuracy: 0.9741 - val_loss: 0.1763 - val_accuracy: 0.9540\n",
            "Epoch 81/100\n",
            "11/11 [==============================] - 0s 8ms/step - loss: 0.0961 - accuracy: 0.9713 - val_loss: 0.1775 - val_accuracy: 0.9540\n",
            "Epoch 82/100\n",
            "11/11 [==============================] - 0s 8ms/step - loss: 0.1008 - accuracy: 0.9741 - val_loss: 0.1776 - val_accuracy: 0.9540\n",
            "Epoch 83/100\n",
            "11/11 [==============================] - 0s 9ms/step - loss: 0.0976 - accuracy: 0.9655 - val_loss: 0.1751 - val_accuracy: 0.9540\n",
            "Epoch 84/100\n",
            "11/11 [==============================] - 0s 8ms/step - loss: 0.1269 - accuracy: 0.9598 - val_loss: 0.1723 - val_accuracy: 0.9540\n",
            "Epoch 85/100\n",
            "11/11 [==============================] - 0s 9ms/step - loss: 0.1281 - accuracy: 0.9655 - val_loss: 0.1695 - val_accuracy: 0.9540\n",
            "Epoch 86/100\n",
            "11/11 [==============================] - 0s 7ms/step - loss: 0.1061 - accuracy: 0.9626 - val_loss: 0.1746 - val_accuracy: 0.9540\n",
            "Epoch 87/100\n",
            "11/11 [==============================] - 0s 8ms/step - loss: 0.1077 - accuracy: 0.9684 - val_loss: 0.1740 - val_accuracy: 0.9540\n",
            "Epoch 88/100\n",
            "11/11 [==============================] - 0s 6ms/step - loss: 0.1192 - accuracy: 0.9511 - val_loss: 0.1702 - val_accuracy: 0.9540\n",
            "Epoch 89/100\n",
            "11/11 [==============================] - 0s 8ms/step - loss: 0.1056 - accuracy: 0.9598 - val_loss: 0.1681 - val_accuracy: 0.9540\n",
            "Epoch 90/100\n",
            "11/11 [==============================] - 0s 8ms/step - loss: 0.1213 - accuracy: 0.9425 - val_loss: 0.1681 - val_accuracy: 0.9540\n",
            "Epoch 91/100\n",
            "11/11 [==============================] - 0s 8ms/step - loss: 0.0944 - accuracy: 0.9713 - val_loss: 0.1662 - val_accuracy: 0.9540\n",
            "Epoch 92/100\n",
            "11/11 [==============================] - 0s 8ms/step - loss: 0.1002 - accuracy: 0.9598 - val_loss: 0.1647 - val_accuracy: 0.9540\n",
            "Epoch 93/100\n",
            "11/11 [==============================] - 0s 8ms/step - loss: 0.0810 - accuracy: 0.9741 - val_loss: 0.1668 - val_accuracy: 0.9540\n",
            "Epoch 94/100\n",
            "11/11 [==============================] - 0s 8ms/step - loss: 0.0948 - accuracy: 0.9655 - val_loss: 0.1701 - val_accuracy: 0.9540\n",
            "Epoch 95/100\n",
            "11/11 [==============================] - 0s 9ms/step - loss: 0.1155 - accuracy: 0.9598 - val_loss: 0.1694 - val_accuracy: 0.9540\n",
            "Epoch 96/100\n",
            "11/11 [==============================] - 0s 8ms/step - loss: 0.0942 - accuracy: 0.9713 - val_loss: 0.1694 - val_accuracy: 0.9540\n",
            "Epoch 97/100\n",
            "11/11 [==============================] - 0s 8ms/step - loss: 0.1132 - accuracy: 0.9598 - val_loss: 0.1698 - val_accuracy: 0.9540\n",
            "Epoch 98/100\n",
            "11/11 [==============================] - 0s 9ms/step - loss: 0.0894 - accuracy: 0.9741 - val_loss: 0.1700 - val_accuracy: 0.9540\n",
            "Epoch 99/100\n",
            "11/11 [==============================] - 0s 9ms/step - loss: 0.0854 - accuracy: 0.9713 - val_loss: 0.1714 - val_accuracy: 0.9540\n",
            "Epoch 100/100\n",
            "11/11 [==============================] - 0s 8ms/step - loss: 0.1121 - accuracy: 0.9598 - val_loss: 0.1706 - val_accuracy: 0.9540\n"
          ]
        }
      ]
    },
    {
      "cell_type": "code",
      "source": [
        "plt.plot(h.history['accuracy'], label = 'Accuracy for Train set')\n",
        "plt.plot(h.history['val_accuracy'], label = 'Accuracy for Test Set')\n",
        "plt.title('Accuracy Graph for ANN')\n",
        "plt.ylabel('Accuracy')\n",
        "plt.xlabel('epochs')\n",
        "plt.legend()"
      ],
      "metadata": {
        "colab": {
          "base_uri": "https://localhost:8080/",
          "height": 312
        },
        "id": "OQC761GTma9J",
        "outputId": "c1b4b275-6dfa-4d79-aee0-a323f0384e48"
      },
      "execution_count": 33,
      "outputs": [
        {
          "output_type": "execute_result",
          "data": {
            "text/plain": [
              "<matplotlib.legend.Legend at 0x7f4c37c1e1d0>"
            ]
          },
          "metadata": {},
          "execution_count": 33
        },
        {
          "output_type": "display_data",
          "data": {
            "text/plain": [
              "<Figure size 432x288 with 1 Axes>"
            ],
            "image/png": "[encoded data removed]"
          },
          "metadata": {
            "needs_background": "light"
          }
        }
      ]
    },
    {
      "cell_type": "code",
      "source": [
        "plt.plot(h.history['loss'], label = 'loss for Train set')\n",
        "plt.plot(h.history['val_loss'], label = 'loss for Test Set')\n",
        "plt.title('loss Graph for ANN')\n",
        "plt.ylabel('loss')\n",
        "plt.xlabel('epochs')\n",
        "plt.legend()"
      ],
      "metadata": {
        "colab": {
          "base_uri": "https://localhost:8080/",
          "height": 312
        },
        "id": "gSeSkMAHmgWz",
        "outputId": "5f903c8f-b920-4f7c-b9d9-2dc2cf27882e"
      },
      "execution_count": 34,
      "outputs": [
        {
          "output_type": "execute_result",
          "data": {
            "text/plain": [
              "<matplotlib.legend.Legend at 0x7f4c376b5ed0>"
            ]
          },
          "metadata": {},
          "execution_count": 34
        },
        {
          "output_type": "display_data",
          "data": {
            "text/plain": [
              "<Figure size 432x288 with 1 Axes>"
            ],
            "image/png": "[encoded data removed]"
          },
          "metadata": {
            "needs_background": "light"
          }
        }
      ]
    },
    {
      "cell_type": "code",
      "source": [
        "y_pred_ann = model.predict_classes(X_test)\n",
        "print(\"Accuracy: \",accuracy_score(y_test,y_pred_ann))\n",
        "print(\"Recall: \", recall_score(y_test,y_pred_ann))\n",
        "print(\"Precision: \", precision_score(y_test,y_pred_ann))\n",
        "print(confusion_matrix(y_test,y_pred_ann))"
      ],
      "metadata": {
        "colab": {
          "base_uri": "https://localhost:8080/"
        },
        "id": "BQy0gwkWmiWO",
        "outputId": "67df0e0f-2dab-4dff-c75f-ffd2eaae7f42"
      },
      "execution_count": 35,
      "outputs": [
        {
          "output_type": "stream",
          "name": "stderr",
          "text": [
            "/usr/local/lib/python3.7/dist-packages/tensorflow/python/keras/engine/sequential.py:455: UserWarning: `model.predict_classes()` is deprecated and will be removed after 2021-01-01. Please use instead:* `np.argmax(model.predict(x), axis=-1)`,   if your model does multi-class classification   (e.g. if it uses a `softmax` last-layer activation).* `(model.predict(x) > 0.5).astype(\"int32\")`,   if your model does binary classification   (e.g. if it uses a `sigmoid` last-layer activation).\n",
            "  warnings.warn('`model.predict_classes()` is deprecated and '\n"
          ]
        },
        {
          "output_type": "stream",
          "name": "stdout",
          "text": [
            "Accuracy:  0.9540229885057471\n",
            "Recall:  0.9142857142857143\n",
            "Precision:  0.9696969696969697\n",
            "[[51  1]\n",
            " [ 3 32]]\n"
          ]
        }
      ]
    },
    {
      "cell_type": "code",
      "source": [
        "rank3  = pd.read_excel(\"/content/voting84_dataset.xlsx\",sheet_name = \"permutation_method_mean\").set_index('Attributes_Names')\n",
        "df_per_mean = df[rank3[0:8].index]\n",
        "X_col =  df_per_mean\n",
        "y = df['Class Name']\n",
        "Scaler = StandardScaler()\n",
        "X_col =  Scaler.fit_transform(X_col)\n",
        "X_train, X_test, y_train, y_test = train_test_split(X_col, y, test_size=0.2, random_state=0)\n",
        "print(\"Shape of training data\",X_train.shape)\n",
        "print(\"Shape of testing data\",X_test.shape)"
      ],
      "metadata": {
        "colab": {
          "base_uri": "https://localhost:8080/"
        },
        "id": "gdHrqvh2msf9",
        "outputId": "7ba361d0-5376-4aa4-f2da-f74f5a02c4c1"
      },
      "execution_count": 39,
      "outputs": [
        {
          "output_type": "stream",
          "name": "stdout",
          "text": [
            "Shape of training data (348, 8)\n",
            "Shape of testing data (87, 8)\n"
          ]
        }
      ]
    },
    {
      "cell_type": "code",
      "source": [
        "rf =  RandomForestClassifier()\n",
        "rf.fit(X_train,y_train)\n",
        "y_pred_rf =  rf.predict(X_test)\n",
        "print(\"Accuracy: \",accuracy_score(y_test,y_pred_rf))\n",
        "print(\"Recall: \", recall_score(y_test,y_pred_rf))\n",
        "print(\"Precision: \", precision_score(y_test,y_pred_rf))\n",
        "print(confusion_matrix(y_test,y_pred_rf))"
      ],
      "metadata": {
        "colab": {
          "base_uri": "https://localhost:8080/"
        },
        "id": "aRCwH_DEm3s3",
        "outputId": "89bbfccb-965b-46b8-986f-acf24e0851e0"
      },
      "execution_count": 40,
      "outputs": [
        {
          "output_type": "stream",
          "name": "stdout",
          "text": [
            "Accuracy:  0.9770114942528736\n",
            "Recall:  0.9714285714285714\n",
            "Precision:  0.9714285714285714\n",
            "[[51  1]\n",
            " [ 1 34]]\n"
          ]
        }
      ]
    },
    {
      "cell_type": "code",
      "source": [
        "svc =  SVC()\n",
        "svc.fit(X_test,y_test)\n",
        "y_pred_svc =  svc.predict(X_test)\n",
        "print(\"Accuracy: \",accuracy_score(y_test,y_pred_svc))\n",
        "print(\"Recall: \", recall_score(y_test,y_pred_svc))\n",
        "print(\"Precision: \", precision_score(y_test,y_pred_svc))\n",
        "print(confusion_matrix(y_test,y_pred_svc))"
      ],
      "metadata": {
        "colab": {
          "base_uri": "https://localhost:8080/"
        },
        "id": "6tzqvuAHnAaM",
        "outputId": "e7ea8af6-85c3-43ea-cb27-836faa067413"
      },
      "execution_count": 41,
      "outputs": [
        {
          "output_type": "stream",
          "name": "stdout",
          "text": [
            "Accuracy:  0.9770114942528736\n",
            "Recall:  0.9714285714285714\n",
            "Precision:  0.9714285714285714\n",
            "[[51  1]\n",
            " [ 1 34]]\n"
          ]
        }
      ]
    },
    {
      "cell_type": "code",
      "source": [
        "model = tf.keras.Sequential([\n",
        "    tf.keras.layers.Dense(8, activation='relu', input_shape=(8,)),\n",
        "    tf.keras.layers.BatchNormalization(),\n",
        "    tf.keras.layers.Dense(16, activation='relu'),\n",
        "    tf.keras.layers.BatchNormalization(),\n",
        "    tf.keras.layers.Dense(24, activation='relu'),\n",
        "    tf.keras.layers.Dropout(0.5), \n",
        "    tf.keras.layers.Dense(1,activation='sigmoid')\n",
        "  ])\n",
        "model.compile(loss='binary_crossentropy',\n",
        "              optimizer = 'adam',\n",
        "              metrics=['accuracy'])\n",
        "model.summary()"
      ],
      "metadata": {
        "colab": {
          "base_uri": "https://localhost:8080/"
        },
        "id": "TL1x2gSZnF_F",
        "outputId": "e84ef0d6-8192-449c-a789-00604975e581"
      },
      "execution_count": 42,
      "outputs": [
        {
          "output_type": "stream",
          "name": "stdout",
          "text": [
            "Model: \"sequential_3\"\n",
            "_________________________________________________________________\n",
            "Layer (type)                 Output Shape              Param #   \n",
            "=================================================================\n",
            "dense_12 (Dense)             (None, 8)                 72        \n",
            "_________________________________________________________________\n",
            "batch_normalization_6 (Batch (None, 8)                 32        \n",
            "_________________________________________________________________\n",
            "dense_13 (Dense)             (None, 16)                144       \n",
            "_________________________________________________________________\n",
            "batch_normalization_7 (Batch (None, 16)                64        \n",
            "_________________________________________________________________\n",
            "dense_14 (Dense)             (None, 24)                408       \n",
            "_________________________________________________________________\n",
            "dropout_3 (Dropout)          (None, 24)                0         \n",
            "_________________________________________________________________\n",
            "dense_15 (Dense)             (None, 1)                 25        \n",
            "=================================================================\n",
            "Total params: 745\n",
            "Trainable params: 697\n",
            "Non-trainable params: 48\n",
            "_________________________________________________________________\n"
          ]
        }
      ]
    },
    {
      "cell_type": "code",
      "source": [
        "h = model.fit(X_train,y_train,epochs=50,validation_data=(X_test,y_test))"
      ],
      "metadata": {
        "colab": {
          "base_uri": "https://localhost:8080/"
        },
        "id": "suTa_CB1nWY9",
        "outputId": "de6f95a9-39cf-40ea-a7cb-24e586155bda"
      },
      "execution_count": 43,
      "outputs": [
        {
          "output_type": "stream",
          "name": "stdout",
          "text": [
            "Epoch 1/50\n",
            "11/11 [==============================] - 2s 38ms/step - loss: 0.9119 - accuracy: 0.4770 - val_loss: 0.7248 - val_accuracy: 0.4138\n",
            "Epoch 2/50\n",
            "11/11 [==============================] - 0s 8ms/step - loss: 0.7594 - accuracy: 0.5805 - val_loss: 0.6647 - val_accuracy: 0.5977\n",
            "Epoch 3/50\n",
            "11/11 [==============================] - 0s 8ms/step - loss: 0.6695 - accuracy: 0.6207 - val_loss: 0.6074 - val_accuracy: 0.7701\n",
            "Epoch 4/50\n",
            "11/11 [==============================] - 0s 8ms/step - loss: 0.5405 - accuracy: 0.7098 - val_loss: 0.5540 - val_accuracy: 0.9195\n",
            "Epoch 5/50\n",
            "11/11 [==============================] - 0s 8ms/step - loss: 0.5038 - accuracy: 0.7328 - val_loss: 0.5024 - val_accuracy: 0.9310\n",
            "Epoch 6/50\n",
            "11/11 [==============================] - 0s 9ms/step - loss: 0.4613 - accuracy: 0.7845 - val_loss: 0.4539 - val_accuracy: 0.9425\n",
            "Epoch 7/50\n",
            "11/11 [==============================] - 0s 8ms/step - loss: 0.3915 - accuracy: 0.8276 - val_loss: 0.4099 - val_accuracy: 0.9540\n",
            "Epoch 8/50\n",
            "11/11 [==============================] - 0s 10ms/step - loss: 0.3934 - accuracy: 0.8448 - val_loss: 0.3701 - val_accuracy: 0.9655\n",
            "Epoch 9/50\n",
            "11/11 [==============================] - 0s 9ms/step - loss: 0.3458 - accuracy: 0.8649 - val_loss: 0.3353 - val_accuracy: 0.9655\n",
            "Epoch 10/50\n",
            "11/11 [==============================] - 0s 7ms/step - loss: 0.3384 - accuracy: 0.8764 - val_loss: 0.3033 - val_accuracy: 0.9655\n",
            "Epoch 11/50\n",
            "11/11 [==============================] - 0s 8ms/step - loss: 0.2903 - accuracy: 0.9080 - val_loss: 0.2761 - val_accuracy: 0.9655\n",
            "Epoch 12/50\n",
            "11/11 [==============================] - 0s 11ms/step - loss: 0.2826 - accuracy: 0.9195 - val_loss: 0.2505 - val_accuracy: 0.9655\n",
            "Epoch 13/50\n",
            "11/11 [==============================] - 0s 6ms/step - loss: 0.2627 - accuracy: 0.9368 - val_loss: 0.2288 - val_accuracy: 0.9655\n",
            "Epoch 14/50\n",
            "11/11 [==============================] - 0s 8ms/step - loss: 0.2480 - accuracy: 0.9310 - val_loss: 0.2109 - val_accuracy: 0.9655\n",
            "Epoch 15/50\n",
            "11/11 [==============================] - 0s 10ms/step - loss: 0.2518 - accuracy: 0.9339 - val_loss: 0.1948 - val_accuracy: 0.9655\n",
            "Epoch 16/50\n",
            "11/11 [==============================] - 0s 7ms/step - loss: 0.2118 - accuracy: 0.9397 - val_loss: 0.1814 - val_accuracy: 0.9655\n",
            "Epoch 17/50\n",
            "11/11 [==============================] - 0s 8ms/step - loss: 0.1911 - accuracy: 0.9540 - val_loss: 0.1711 - val_accuracy: 0.9655\n",
            "Epoch 18/50\n",
            "11/11 [==============================] - 0s 7ms/step - loss: 0.2271 - accuracy: 0.9368 - val_loss: 0.1628 - val_accuracy: 0.9655\n",
            "Epoch 19/50\n",
            "11/11 [==============================] - 0s 8ms/step - loss: 0.1942 - accuracy: 0.9425 - val_loss: 0.1552 - val_accuracy: 0.9655\n",
            "Epoch 20/50\n",
            "11/11 [==============================] - 0s 7ms/step - loss: 0.1660 - accuracy: 0.9598 - val_loss: 0.1484 - val_accuracy: 0.9655\n",
            "Epoch 21/50\n",
            "11/11 [==============================] - 0s 9ms/step - loss: 0.1591 - accuracy: 0.9741 - val_loss: 0.1428 - val_accuracy: 0.9655\n",
            "Epoch 22/50\n",
            "11/11 [==============================] - 0s 8ms/step - loss: 0.1544 - accuracy: 0.9483 - val_loss: 0.1378 - val_accuracy: 0.9655\n",
            "Epoch 23/50\n",
            "11/11 [==============================] - 0s 9ms/step - loss: 0.1233 - accuracy: 0.9511 - val_loss: 0.1344 - val_accuracy: 0.9655\n",
            "Epoch 24/50\n",
            "11/11 [==============================] - 0s 7ms/step - loss: 0.1492 - accuracy: 0.9511 - val_loss: 0.1321 - val_accuracy: 0.9655\n",
            "Epoch 25/50\n",
            "11/11 [==============================] - 0s 8ms/step - loss: 0.1369 - accuracy: 0.9598 - val_loss: 0.1299 - val_accuracy: 0.9655\n",
            "Epoch 26/50\n",
            "11/11 [==============================] - 0s 8ms/step - loss: 0.1315 - accuracy: 0.9598 - val_loss: 0.1277 - val_accuracy: 0.9655\n",
            "Epoch 27/50\n",
            "11/11 [==============================] - 0s 7ms/step - loss: 0.1103 - accuracy: 0.9713 - val_loss: 0.1257 - val_accuracy: 0.9655\n",
            "Epoch 28/50\n",
            "11/11 [==============================] - 0s 9ms/step - loss: 0.1235 - accuracy: 0.9598 - val_loss: 0.1276 - val_accuracy: 0.9655\n",
            "Epoch 29/50\n",
            "11/11 [==============================] - 0s 7ms/step - loss: 0.1254 - accuracy: 0.9626 - val_loss: 0.1274 - val_accuracy: 0.9655\n",
            "Epoch 30/50\n",
            "11/11 [==============================] - 0s 8ms/step - loss: 0.1504 - accuracy: 0.9626 - val_loss: 0.1264 - val_accuracy: 0.9655\n",
            "Epoch 31/50\n",
            "11/11 [==============================] - 0s 8ms/step - loss: 0.1362 - accuracy: 0.9684 - val_loss: 0.1243 - val_accuracy: 0.9655\n",
            "Epoch 32/50\n",
            "11/11 [==============================] - 0s 9ms/step - loss: 0.1257 - accuracy: 0.9655 - val_loss: 0.1229 - val_accuracy: 0.9655\n",
            "Epoch 33/50\n",
            "11/11 [==============================] - 0s 8ms/step - loss: 0.1063 - accuracy: 0.9684 - val_loss: 0.1223 - val_accuracy: 0.9655\n",
            "Epoch 34/50\n",
            "11/11 [==============================] - 0s 9ms/step - loss: 0.1331 - accuracy: 0.9626 - val_loss: 0.1229 - val_accuracy: 0.9655\n",
            "Epoch 35/50\n",
            "11/11 [==============================] - 0s 9ms/step - loss: 0.0852 - accuracy: 0.9713 - val_loss: 0.1233 - val_accuracy: 0.9655\n",
            "Epoch 36/50\n",
            "11/11 [==============================] - 0s 9ms/step - loss: 0.1139 - accuracy: 0.9684 - val_loss: 0.1241 - val_accuracy: 0.9655\n",
            "Epoch 37/50\n",
            "11/11 [==============================] - 0s 8ms/step - loss: 0.1044 - accuracy: 0.9713 - val_loss: 0.1248 - val_accuracy: 0.9425\n",
            "Epoch 38/50\n",
            "11/11 [==============================] - 0s 8ms/step - loss: 0.1173 - accuracy: 0.9655 - val_loss: 0.1238 - val_accuracy: 0.9655\n",
            "Epoch 39/50\n",
            "11/11 [==============================] - 0s 8ms/step - loss: 0.0903 - accuracy: 0.9655 - val_loss: 0.1229 - val_accuracy: 0.9655\n",
            "Epoch 40/50\n",
            "11/11 [==============================] - 0s 8ms/step - loss: 0.1007 - accuracy: 0.9655 - val_loss: 0.1237 - val_accuracy: 0.9655\n",
            "Epoch 41/50\n",
            "11/11 [==============================] - 0s 8ms/step - loss: 0.1100 - accuracy: 0.9713 - val_loss: 0.1266 - val_accuracy: 0.9655\n",
            "Epoch 42/50\n",
            "11/11 [==============================] - 0s 8ms/step - loss: 0.1213 - accuracy: 0.9655 - val_loss: 0.1253 - val_accuracy: 0.9655\n",
            "Epoch 43/50\n",
            "11/11 [==============================] - 0s 10ms/step - loss: 0.1214 - accuracy: 0.9598 - val_loss: 0.1240 - val_accuracy: 0.9655\n",
            "Epoch 44/50\n",
            "11/11 [==============================] - 0s 10ms/step - loss: 0.0956 - accuracy: 0.9799 - val_loss: 0.1244 - val_accuracy: 0.9770\n",
            "Epoch 45/50\n",
            "11/11 [==============================] - 0s 8ms/step - loss: 0.1247 - accuracy: 0.9713 - val_loss: 0.1232 - val_accuracy: 0.9770\n",
            "Epoch 46/50\n",
            "11/11 [==============================] - 0s 8ms/step - loss: 0.0962 - accuracy: 0.9655 - val_loss: 0.1226 - val_accuracy: 0.9770\n",
            "Epoch 47/50\n",
            "11/11 [==============================] - 0s 7ms/step - loss: 0.0808 - accuracy: 0.9799 - val_loss: 0.1238 - val_accuracy: 0.9770\n",
            "Epoch 48/50\n",
            "11/11 [==============================] - 0s 8ms/step - loss: 0.0956 - accuracy: 0.9684 - val_loss: 0.1259 - val_accuracy: 0.9770\n",
            "Epoch 49/50\n",
            "11/11 [==============================] - 0s 8ms/step - loss: 0.0873 - accuracy: 0.9741 - val_loss: 0.1265 - val_accuracy: 0.9770\n",
            "Epoch 50/50\n",
            "11/11 [==============================] - 0s 7ms/step - loss: 0.1092 - accuracy: 0.9741 - val_loss: 0.1288 - val_accuracy: 0.9770\n"
          ]
        }
      ]
    },
    {
      "cell_type": "code",
      "source": [
        "plt.plot(h.history['accuracy'], label = 'Accuracy for Train set')\n",
        "plt.plot(h.history['val_accuracy'], label = 'Accuracy for Test Set')\n",
        "plt.title('Accuracy Graph for ANN')\n",
        "plt.ylabel('Accuracy')\n",
        "plt.xlabel('epochs')\n",
        "plt.legend()"
      ],
      "metadata": {
        "colab": {
          "base_uri": "https://localhost:8080/",
          "height": 312
        },
        "id": "EbARspLonYvO",
        "outputId": "61578b65-77be-4ba0-8895-02aa1ee1e04d"
      },
      "execution_count": 44,
      "outputs": [
        {
          "output_type": "execute_result",
          "data": {
            "text/plain": [
              "<matplotlib.legend.Legend at 0x7f4c372a1390>"
            ]
          },
          "metadata": {},
          "execution_count": 44
        },
        {
          "output_type": "display_data",
          "data": {
            "text/plain": [
              "<Figure size 432x288 with 1 Axes>"
            ],
            "image/png": "[encoded data removed]"
          },
          "metadata": {
            "needs_background": "light"
          }
        }
      ]
    },
    {
      "cell_type": "code",
      "source": [
        "plt.plot(h.history['loss'], label = 'loss for Train set')\n",
        "plt.plot(h.history['val_loss'], label = 'loss for Test Set')\n",
        "plt.title('loss Graph for ANN')\n",
        "plt.ylabel('loss')\n",
        "plt.xlabel('epochs')\n",
        "plt.legend()"
      ],
      "metadata": {
        "colab": {
          "base_uri": "https://localhost:8080/",
          "height": 312
        },
        "id": "Kkmush1mnb1T",
        "outputId": "986da364-248a-4532-9b8c-b02a96f7460e"
      },
      "execution_count": 45,
      "outputs": [
        {
          "output_type": "execute_result",
          "data": {
            "text/plain": [
              "<matplotlib.legend.Legend at 0x7f4c391f4cd0>"
            ]
          },
          "metadata": {},
          "execution_count": 45
        },
        {
          "output_type": "display_data",
          "data": {
            "text/plain": [
              "<Figure size 432x288 with 1 Axes>"
            ],
            "image/png": "[encoded data removed]"
          },
          "metadata": {
            "needs_background": "light"
          }
        }
      ]
    },
    {
      "cell_type": "code",
      "source": [
        "y_pred_ann = model.predict_classes(X_test)\n",
        "print(\"Accuracy: \",accuracy_score(y_test,y_pred_ann))\n",
        "print(\"Recall: \", recall_score(y_test,y_pred_ann))\n",
        "print(\"Precision: \", precision_score(y_test,y_pred_ann))\n",
        "print(confusion_matrix(y_test,y_pred_ann))"
      ],
      "metadata": {
        "colab": {
          "base_uri": "https://localhost:8080/"
        },
        "id": "hzY6rY7Knd7E",
        "outputId": "bdc84bab-520b-410e-821a-acd1461145f7"
      },
      "execution_count": 48,
      "outputs": [
        {
          "output_type": "stream",
          "name": "stdout",
          "text": [
            "Accuracy:  0.9770114942528736\n",
            "Recall:  0.9714285714285714\n",
            "Precision:  0.9714285714285714\n",
            "[[51  1]\n",
            " [ 1 34]]\n"
          ]
        },
        {
          "output_type": "stream",
          "name": "stderr",
          "text": [
            "/usr/local/lib/python3.7/dist-packages/tensorflow/python/keras/engine/sequential.py:455: UserWarning: `model.predict_classes()` is deprecated and will be removed after 2021-01-01. Please use instead:* `np.argmax(model.predict(x), axis=-1)`,   if your model does multi-class classification   (e.g. if it uses a `softmax` last-layer activation).* `(model.predict(x) > 0.5).astype(\"int32\")`,   if your model does binary classification   (e.g. if it uses a `sigmoid` last-layer activation).\n",
            "  warnings.warn('`model.predict_classes()` is deprecated and '\n"
          ]
        }
      ]
    },
    {
      "cell_type": "code",
      "source": [
        "rank4  = pd.read_excel(\"/content/voting84_dataset.xlsx\",sheet_name = \"permutation_method_std\").set_index('Attributes_Names')\n",
        "df_per_std  = df[rank4[0:8].index]\n",
        "X_col =  df_per_std\n",
        "y = df['Class Name']\n",
        "Scaler = StandardScaler()\n",
        "X_col =  Scaler.fit_transform(X_col)\n",
        "X_train, X_test, y_train, y_test = train_test_split(X_col, y, test_size=0.2, random_state=0)\n",
        "print(\"Shape of training data\",X_train.shape)\n",
        "print(\"Shape of testing data\",X_test.shape)"
      ],
      "metadata": {
        "colab": {
          "base_uri": "https://localhost:8080/"
        },
        "id": "VGAPu0EEnmPX",
        "outputId": "9977d083-ea48-4919-d8d6-1285834cca4a"
      },
      "execution_count": 50,
      "outputs": [
        {
          "output_type": "stream",
          "name": "stdout",
          "text": [
            "Shape of training data (348, 8)\n",
            "Shape of testing data (87, 8)\n"
          ]
        }
      ]
    },
    {
      "cell_type": "code",
      "source": [
        "rf =  RandomForestClassifier()\n",
        "rf.fit(X_train,y_train)\n",
        "y_pred_rf =  rf.predict(X_test)\n",
        "print(\"Accuracy: \",accuracy_score(y_test,y_pred_rf))\n",
        "print(\"Recall: \", recall_score(y_test,y_pred_rf))\n",
        "print(\"Precision: \", precision_score(y_test,y_pred_rf))\n",
        "print(confusion_matrix(y_test,y_pred_rf))"
      ],
      "metadata": {
        "colab": {
          "base_uri": "https://localhost:8080/"
        },
        "id": "YA-7SOyyn3qN",
        "outputId": "924670d1-f961-42d9-e76b-3356a0bdaf95"
      },
      "execution_count": 51,
      "outputs": [
        {
          "output_type": "stream",
          "name": "stdout",
          "text": [
            "Accuracy:  0.9655172413793104\n",
            "Recall:  0.9714285714285714\n",
            "Precision:  0.9444444444444444\n",
            "[[50  2]\n",
            " [ 1 34]]\n"
          ]
        }
      ]
    },
    {
      "cell_type": "code",
      "source": [
        "svc =  SVC()\n",
        "svc.fit(X_test,y_test)\n",
        "y_pred_svc =  svc.predict(X_test)\n",
        "print(\"Accuracy: \",accuracy_score(y_test,y_pred_svc))\n",
        "print(\"Recall: \", recall_score(y_test,y_pred_svc))\n",
        "print(\"Precision: \", precision_score(y_test,y_pred_svc))\n",
        "print(confusion_matrix(y_test,y_pred_svc))"
      ],
      "metadata": {
        "colab": {
          "base_uri": "https://localhost:8080/"
        },
        "id": "LAx20-xZoBP_",
        "outputId": "9f30183d-ca10-4e2f-bb41-a4e80b22be0f"
      },
      "execution_count": 52,
      "outputs": [
        {
          "output_type": "stream",
          "name": "stdout",
          "text": [
            "Accuracy:  0.9770114942528736\n",
            "Recall:  0.9714285714285714\n",
            "Precision:  0.9714285714285714\n",
            "[[51  1]\n",
            " [ 1 34]]\n"
          ]
        }
      ]
    },
    {
      "cell_type": "code",
      "source": [
        "model = tf.keras.Sequential([\n",
        "    tf.keras.layers.Dense(8, activation='relu', input_shape=(8,)),\n",
        "    tf.keras.layers.BatchNormalization(),\n",
        "    tf.keras.layers.Dense(16, activation='relu'),\n",
        "    tf.keras.layers.BatchNormalization(),\n",
        "    tf.keras.layers.Dense(24, activation='relu'),\n",
        "    tf.keras.layers.Dropout(0.5), \n",
        "    tf.keras.layers.Dense(1,activation='sigmoid')\n",
        "  ])\n",
        "model.compile(loss='binary_crossentropy',\n",
        "              optimizer = 'adam',\n",
        "              metrics=['accuracy'])\n",
        "model.summary()"
      ],
      "metadata": {
        "colab": {
          "base_uri": "https://localhost:8080/"
        },
        "id": "bDC-tu8FoGO5",
        "outputId": "25557ec7-4481-4a30-9d1b-32d0a4076e84"
      },
      "execution_count": 53,
      "outputs": [
        {
          "output_type": "stream",
          "name": "stdout",
          "text": [
            "Model: \"sequential_4\"\n",
            "_________________________________________________________________\n",
            "Layer (type)                 Output Shape              Param #   \n",
            "=================================================================\n",
            "dense_16 (Dense)             (None, 8)                 72        \n",
            "_________________________________________________________________\n",
            "batch_normalization_8 (Batch (None, 8)                 32        \n",
            "_________________________________________________________________\n",
            "dense_17 (Dense)             (None, 16)                144       \n",
            "_________________________________________________________________\n",
            "batch_normalization_9 (Batch (None, 16)                64        \n",
            "_________________________________________________________________\n",
            "dense_18 (Dense)             (None, 24)                408       \n",
            "_________________________________________________________________\n",
            "dropout_4 (Dropout)          (None, 24)                0         \n",
            "_________________________________________________________________\n",
            "dense_19 (Dense)             (None, 1)                 25        \n",
            "=================================================================\n",
            "Total params: 745\n",
            "Trainable params: 697\n",
            "Non-trainable params: 48\n",
            "_________________________________________________________________\n"
          ]
        }
      ]
    },
    {
      "cell_type": "code",
      "source": [
        "h = model.fit(X_train,y_train,epochs=50,validation_data=(X_test,y_test))"
      ],
      "metadata": {
        "colab": {
          "base_uri": "https://localhost:8080/"
        },
        "id": "01Go6g_MoM54",
        "outputId": "be9edc6b-9452-486b-9e73-1ad6131f809b"
      },
      "execution_count": 54,
      "outputs": [
        {
          "output_type": "stream",
          "name": "stdout",
          "text": [
            "Epoch 1/50\n",
            "11/11 [==============================] - 2s 37ms/step - loss: 0.7682 - accuracy: 0.5776 - val_loss: 0.6599 - val_accuracy: 0.6092\n",
            "Epoch 2/50\n",
            "11/11 [==============================] - 0s 8ms/step - loss: 0.5874 - accuracy: 0.6810 - val_loss: 0.5939 - val_accuracy: 0.7701\n",
            "Epoch 3/50\n",
            "11/11 [==============================] - 0s 8ms/step - loss: 0.5602 - accuracy: 0.7040 - val_loss: 0.5457 - val_accuracy: 0.7931\n",
            "Epoch 4/50\n",
            "11/11 [==============================] - 0s 8ms/step - loss: 0.4508 - accuracy: 0.8017 - val_loss: 0.5075 - val_accuracy: 0.9080\n",
            "Epoch 5/50\n",
            "11/11 [==============================] - 0s 8ms/step - loss: 0.4280 - accuracy: 0.8305 - val_loss: 0.4784 - val_accuracy: 0.9080\n",
            "Epoch 6/50\n",
            "11/11 [==============================] - 0s 8ms/step - loss: 0.4053 - accuracy: 0.8506 - val_loss: 0.4531 - val_accuracy: 0.9195\n",
            "Epoch 7/50\n",
            "11/11 [==============================] - 0s 8ms/step - loss: 0.3630 - accuracy: 0.8649 - val_loss: 0.4256 - val_accuracy: 0.9540\n",
            "Epoch 8/50\n",
            "11/11 [==============================] - 0s 10ms/step - loss: 0.3501 - accuracy: 0.8879 - val_loss: 0.3987 - val_accuracy: 0.9425\n",
            "Epoch 9/50\n",
            "11/11 [==============================] - 0s 8ms/step - loss: 0.3356 - accuracy: 0.8937 - val_loss: 0.3700 - val_accuracy: 0.9425\n",
            "Epoch 10/50\n",
            "11/11 [==============================] - 0s 8ms/step - loss: 0.2842 - accuracy: 0.9167 - val_loss: 0.3435 - val_accuracy: 0.9425\n",
            "Epoch 11/50\n",
            "11/11 [==============================] - 0s 8ms/step - loss: 0.2961 - accuracy: 0.9023 - val_loss: 0.3198 - val_accuracy: 0.9425\n",
            "Epoch 12/50\n",
            "11/11 [==============================] - 0s 8ms/step - loss: 0.2723 - accuracy: 0.9282 - val_loss: 0.2961 - val_accuracy: 0.9425\n",
            "Epoch 13/50\n",
            "11/11 [==============================] - 0s 8ms/step - loss: 0.2617 - accuracy: 0.9339 - val_loss: 0.2728 - val_accuracy: 0.9425\n",
            "Epoch 14/50\n",
            "11/11 [==============================] - 0s 7ms/step - loss: 0.2494 - accuracy: 0.9282 - val_loss: 0.2555 - val_accuracy: 0.9425\n",
            "Epoch 15/50\n",
            "11/11 [==============================] - 0s 7ms/step - loss: 0.2179 - accuracy: 0.9253 - val_loss: 0.2386 - val_accuracy: 0.9425\n",
            "Epoch 16/50\n",
            "11/11 [==============================] - 0s 6ms/step - loss: 0.2367 - accuracy: 0.9310 - val_loss: 0.2243 - val_accuracy: 0.9425\n",
            "Epoch 17/50\n",
            "11/11 [==============================] - 0s 9ms/step - loss: 0.2361 - accuracy: 0.9195 - val_loss: 0.2123 - val_accuracy: 0.9425\n",
            "Epoch 18/50\n",
            "11/11 [==============================] - 0s 8ms/step - loss: 0.2141 - accuracy: 0.9138 - val_loss: 0.2020 - val_accuracy: 0.9425\n",
            "Epoch 19/50\n",
            "11/11 [==============================] - 0s 9ms/step - loss: 0.1935 - accuracy: 0.9310 - val_loss: 0.1928 - val_accuracy: 0.9425\n",
            "Epoch 20/50\n",
            "11/11 [==============================] - 0s 6ms/step - loss: 0.1852 - accuracy: 0.9483 - val_loss: 0.1826 - val_accuracy: 0.9310\n",
            "Epoch 21/50\n",
            "11/11 [==============================] - 0s 8ms/step - loss: 0.1847 - accuracy: 0.9425 - val_loss: 0.1757 - val_accuracy: 0.9310\n",
            "Epoch 22/50\n",
            "11/11 [==============================] - 0s 6ms/step - loss: 0.1715 - accuracy: 0.9511 - val_loss: 0.1707 - val_accuracy: 0.9310\n",
            "Epoch 23/50\n",
            "11/11 [==============================] - 0s 6ms/step - loss: 0.1524 - accuracy: 0.9540 - val_loss: 0.1648 - val_accuracy: 0.9425\n",
            "Epoch 24/50\n",
            "11/11 [==============================] - 0s 6ms/step - loss: 0.1667 - accuracy: 0.9454 - val_loss: 0.1625 - val_accuracy: 0.9425\n",
            "Epoch 25/50\n",
            "11/11 [==============================] - 0s 10ms/step - loss: 0.1497 - accuracy: 0.9540 - val_loss: 0.1597 - val_accuracy: 0.9425\n",
            "Epoch 26/50\n",
            "11/11 [==============================] - 0s 9ms/step - loss: 0.1378 - accuracy: 0.9598 - val_loss: 0.1597 - val_accuracy: 0.9425\n",
            "Epoch 27/50\n",
            "11/11 [==============================] - 0s 8ms/step - loss: 0.1389 - accuracy: 0.9454 - val_loss: 0.1599 - val_accuracy: 0.9425\n",
            "Epoch 28/50\n",
            "11/11 [==============================] - 0s 8ms/step - loss: 0.1550 - accuracy: 0.9569 - val_loss: 0.1620 - val_accuracy: 0.9310\n",
            "Epoch 29/50\n",
            "11/11 [==============================] - 0s 8ms/step - loss: 0.1383 - accuracy: 0.9540 - val_loss: 0.1633 - val_accuracy: 0.9425\n",
            "Epoch 30/50\n",
            "11/11 [==============================] - 0s 10ms/step - loss: 0.1240 - accuracy: 0.9655 - val_loss: 0.1653 - val_accuracy: 0.9310\n",
            "Epoch 31/50\n",
            "11/11 [==============================] - 0s 7ms/step - loss: 0.1381 - accuracy: 0.9425 - val_loss: 0.1671 - val_accuracy: 0.9310\n",
            "Epoch 32/50\n",
            "11/11 [==============================] - 0s 8ms/step - loss: 0.1369 - accuracy: 0.9483 - val_loss: 0.1721 - val_accuracy: 0.9310\n",
            "Epoch 33/50\n",
            "11/11 [==============================] - 0s 7ms/step - loss: 0.1088 - accuracy: 0.9684 - val_loss: 0.1733 - val_accuracy: 0.9310\n",
            "Epoch 34/50\n",
            "11/11 [==============================] - 0s 8ms/step - loss: 0.1116 - accuracy: 0.9626 - val_loss: 0.1761 - val_accuracy: 0.9310\n",
            "Epoch 35/50\n",
            "11/11 [==============================] - 0s 9ms/step - loss: 0.1468 - accuracy: 0.9511 - val_loss: 0.1812 - val_accuracy: 0.9195\n",
            "Epoch 36/50\n",
            "11/11 [==============================] - 0s 8ms/step - loss: 0.1113 - accuracy: 0.9598 - val_loss: 0.1846 - val_accuracy: 0.9195\n",
            "Epoch 37/50\n",
            "11/11 [==============================] - 0s 9ms/step - loss: 0.1181 - accuracy: 0.9569 - val_loss: 0.1842 - val_accuracy: 0.9310\n",
            "Epoch 38/50\n",
            "11/11 [==============================] - 0s 8ms/step - loss: 0.0995 - accuracy: 0.9540 - val_loss: 0.1874 - val_accuracy: 0.9425\n",
            "Epoch 39/50\n",
            "11/11 [==============================] - 0s 9ms/step - loss: 0.0986 - accuracy: 0.9655 - val_loss: 0.1919 - val_accuracy: 0.9425\n",
            "Epoch 40/50\n",
            "11/11 [==============================] - 0s 9ms/step - loss: 0.1032 - accuracy: 0.9655 - val_loss: 0.1962 - val_accuracy: 0.9310\n",
            "Epoch 41/50\n",
            "11/11 [==============================] - 0s 8ms/step - loss: 0.0953 - accuracy: 0.9713 - val_loss: 0.2029 - val_accuracy: 0.9310\n",
            "Epoch 42/50\n",
            "11/11 [==============================] - 0s 8ms/step - loss: 0.1077 - accuracy: 0.9569 - val_loss: 0.2071 - val_accuracy: 0.9310\n",
            "Epoch 43/50\n",
            "11/11 [==============================] - 0s 8ms/step - loss: 0.0963 - accuracy: 0.9684 - val_loss: 0.2122 - val_accuracy: 0.9310\n",
            "Epoch 44/50\n",
            "11/11 [==============================] - 0s 8ms/step - loss: 0.1021 - accuracy: 0.9655 - val_loss: 0.2167 - val_accuracy: 0.9310\n",
            "Epoch 45/50\n",
            "11/11 [==============================] - 0s 9ms/step - loss: 0.0793 - accuracy: 0.9741 - val_loss: 0.2223 - val_accuracy: 0.9310\n",
            "Epoch 46/50\n",
            "11/11 [==============================] - 0s 8ms/step - loss: 0.0927 - accuracy: 0.9655 - val_loss: 0.2247 - val_accuracy: 0.9310\n",
            "Epoch 47/50\n",
            "11/11 [==============================] - 0s 8ms/step - loss: 0.1048 - accuracy: 0.9626 - val_loss: 0.2256 - val_accuracy: 0.9310\n",
            "Epoch 48/50\n",
            "11/11 [==============================] - 0s 9ms/step - loss: 0.0958 - accuracy: 0.9684 - val_loss: 0.2277 - val_accuracy: 0.9310\n",
            "Epoch 49/50\n",
            "11/11 [==============================] - 0s 7ms/step - loss: 0.0834 - accuracy: 0.9799 - val_loss: 0.2258 - val_accuracy: 0.9310\n",
            "Epoch 50/50\n",
            "11/11 [==============================] - 0s 9ms/step - loss: 0.0827 - accuracy: 0.9741 - val_loss: 0.2308 - val_accuracy: 0.9310\n"
          ]
        }
      ]
    },
    {
      "cell_type": "code",
      "source": [
        "plt.plot(h.history['accuracy'], label = 'Accuracy for Train set')\n",
        "plt.plot(h.history['val_accuracy'], label = 'Accuracy for Test Set')\n",
        "plt.title('Accuracy Graph for ANN')\n",
        "plt.ylabel('Accuracy')\n",
        "plt.xlabel('epochs')\n",
        "plt.legend()"
      ],
      "metadata": {
        "colab": {
          "base_uri": "https://localhost:8080/",
          "height": 312
        },
        "id": "z_hieeY4oPXq",
        "outputId": "4318d290-ae0c-4132-e81e-2b7cf0af2ff9"
      },
      "execution_count": 55,
      "outputs": [
        {
          "output_type": "execute_result",
          "data": {
            "text/plain": [
              "<matplotlib.legend.Legend at 0x7f4c3afb71d0>"
            ]
          },
          "metadata": {},
          "execution_count": 55
        },
        {
          "output_type": "display_data",
          "data": {
            "text/plain": [
              "<Figure size 432x288 with 1 Axes>"
            ],
            "image/png": "[encoded data removed]"
          },
          "metadata": {
            "needs_background": "light"
          }
        }
      ]
    },
    {
      "cell_type": "code",
      "source": [
        "plt.plot(h.history['loss'], label = 'loss for Train set')\n",
        "plt.plot(h.history['val_loss'], label = 'loss for Test Set')\n",
        "plt.title('loss Graph for ANN')\n",
        "plt.ylabel('loss')\n",
        "plt.xlabel('epochs')\n",
        "plt.legend()"
      ],
      "metadata": {
        "colab": {
          "base_uri": "https://localhost:8080/",
          "height": 312
        },
        "id": "CU4u3SAPoRqN",
        "outputId": "2cfa8874-a406-42b3-af42-3b886aa4ba72"
      },
      "execution_count": 56,
      "outputs": [
        {
          "output_type": "execute_result",
          "data": {
            "text/plain": [
              "<matplotlib.legend.Legend at 0x7f4c3b17ad90>"
            ]
          },
          "metadata": {},
          "execution_count": 56
        },
        {
          "output_type": "display_data",
          "data": {
            "text/plain": [
              "<Figure size 432x288 with 1 Axes>"
            ],
            "image/png": "[encoded data removed]"
          },
          "metadata": {
            "needs_background": "light"
          }
        }
      ]
    },
    {
      "cell_type": "code",
      "source": [
        "y_pred_ann = model.predict_classes(X_test)\n",
        "print(\"Accuracy: \",accuracy_score(y_test,y_pred_ann))\n",
        "print(\"Recall: \", recall_score(y_test,y_pred_ann))\n",
        "print(\"Precision: \", precision_score(y_test,y_pred_ann))\n",
        "print(confusion_matrix(y_test,y_pred_ann))"
      ],
      "metadata": {
        "colab": {
          "base_uri": "https://localhost:8080/"
        },
        "id": "V7CHzSoboTXF",
        "outputId": "83e90d8f-f38b-4d31-87c7-cc394e0d6153"
      },
      "execution_count": 58,
      "outputs": [
        {
          "output_type": "stream",
          "name": "stdout",
          "text": [
            "Accuracy:  0.9310344827586207\n",
            "Recall:  0.9428571428571428\n",
            "Precision:  0.8918918918918919\n",
            "[[48  4]\n",
            " [ 2 33]]\n"
          ]
        },
        {
          "output_type": "stream",
          "name": "stderr",
          "text": [
            "/usr/local/lib/python3.7/dist-packages/tensorflow/python/keras/engine/sequential.py:455: UserWarning: `model.predict_classes()` is deprecated and will be removed after 2021-01-01. Please use instead:* `np.argmax(model.predict(x), axis=-1)`,   if your model does multi-class classification   (e.g. if it uses a `softmax` last-layer activation).* `(model.predict(x) > 0.5).astype(\"int32\")`,   if your model does binary classification   (e.g. if it uses a `sigmoid` last-layer activation).\n",
            "  warnings.warn('`model.predict_classes()` is deprecated and '\n"
          ]
        }
      ]
    },
    {
      "cell_type": "code",
      "source": [
        "rank5  = pd.read_excel(\"/content/voting84_dataset.xlsx\",sheet_name = \"PCA\").set_index('Attributes_Names')\n",
        "df_pca  = df[rank5[:8].index]\n",
        "X_col =  df_pca\n",
        "y = df['Class Name']\n",
        "Scaler = StandardScaler()\n",
        "X_col =  Scaler.fit_transform(X_col)\n",
        "X_train, X_test, y_train, y_test = train_test_split(X_col, y, test_size=0.2, random_state=0)\n",
        "print(\"Shape of training data\",X_train.shape)\n",
        "print(\"Shape of testing data\",X_test.shape)"
      ],
      "metadata": {
        "colab": {
          "base_uri": "https://localhost:8080/"
        },
        "id": "DlXbmh_8ods2",
        "outputId": "003da050-5387-4658-bbe4-119ec8165cd2"
      },
      "execution_count": 60,
      "outputs": [
        {
          "output_type": "stream",
          "name": "stdout",
          "text": [
            "Shape of training data (348, 8)\n",
            "Shape of testing data (87, 8)\n"
          ]
        }
      ]
    },
    {
      "cell_type": "code",
      "source": [
        "rf =  RandomForestClassifier()\n",
        "rf.fit(X_train,y_train)\n",
        "y_pred_rf =  rf.predict(X_test)\n",
        "print(\"Accuracy: \",accuracy_score(y_test,y_pred_rf))\n",
        "print(\"Recall: \", recall_score(y_test,y_pred_rf))\n",
        "print(\"Precision: \", precision_score(y_test,y_pred_rf))\n",
        "print(confusion_matrix(y_test,y_pred_rf))"
      ],
      "metadata": {
        "colab": {
          "base_uri": "https://localhost:8080/"
        },
        "id": "dbPgQLTgou1y",
        "outputId": "e7e1c2d3-4a00-451e-fd03-09eddecad8a9"
      },
      "execution_count": 61,
      "outputs": [
        {
          "output_type": "stream",
          "name": "stdout",
          "text": [
            "Accuracy:  0.9770114942528736\n",
            "Recall:  0.9714285714285714\n",
            "Precision:  0.9714285714285714\n",
            "[[51  1]\n",
            " [ 1 34]]\n"
          ]
        }
      ]
    },
    {
      "cell_type": "code",
      "source": [
        "svc =  SVC()\n",
        "svc.fit(X_test,y_test)\n",
        "y_pred_svc =  svc.predict(X_test)\n",
        "print(\"Accuracy: \",accuracy_score(y_test,y_pred_svc))\n",
        "print(\"Recall: \", recall_score(y_test,y_pred_svc))\n",
        "print(\"Precision: \", precision_score(y_test,y_pred_svc))\n",
        "print(confusion_matrix(y_test,y_pred_svc))"
      ],
      "metadata": {
        "colab": {
          "base_uri": "https://localhost:8080/"
        },
        "id": "3iAX7dsEo6OZ",
        "outputId": "c422e635-d395-4463-c7aa-aa3a53547ac7"
      },
      "execution_count": 63,
      "outputs": [
        {
          "output_type": "stream",
          "name": "stdout",
          "text": [
            "Accuracy:  0.9770114942528736\n",
            "Recall:  0.9714285714285714\n",
            "Precision:  0.9714285714285714\n",
            "[[51  1]\n",
            " [ 1 34]]\n"
          ]
        }
      ]
    },
    {
      "cell_type": "code",
      "source": [
        "model = tf.keras.Sequential([\n",
        "    tf.keras.layers.Dense(8, activation='relu', input_shape=(8,)),\n",
        "    tf.keras.layers.BatchNormalization(),\n",
        "    tf.keras.layers.Dense(16, activation='relu'),\n",
        "    tf.keras.layers.BatchNormalization(),\n",
        "    tf.keras.layers.Dense(24, activation='relu'),\n",
        "    tf.keras.layers.Dropout(0.5), \n",
        "    tf.keras.layers.Dense(1,activation='sigmoid')\n",
        "  ])\n",
        "model.compile(loss='binary_crossentropy',\n",
        "              optimizer = 'adam',\n",
        "              metrics=['accuracy'])\n",
        "model.summary()"
      ],
      "metadata": {
        "colab": {
          "base_uri": "https://localhost:8080/"
        },
        "id": "svbXezi6pGi4",
        "outputId": "9a7f49ab-713a-4fee-ca15-0a12fca38f4b"
      },
      "execution_count": 64,
      "outputs": [
        {
          "output_type": "stream",
          "name": "stdout",
          "text": [
            "Model: \"sequential_5\"\n",
            "_________________________________________________________________\n",
            "Layer (type)                 Output Shape              Param #   \n",
            "=================================================================\n",
            "dense_20 (Dense)             (None, 8)                 72        \n",
            "_________________________________________________________________\n",
            "batch_normalization_10 (Batc (None, 8)                 32        \n",
            "_________________________________________________________________\n",
            "dense_21 (Dense)             (None, 16)                144       \n",
            "_________________________________________________________________\n",
            "batch_normalization_11 (Batc (None, 16)                64        \n",
            "_________________________________________________________________\n",
            "dense_22 (Dense)             (None, 24)                408       \n",
            "_________________________________________________________________\n",
            "dropout_5 (Dropout)          (None, 24)                0         \n",
            "_________________________________________________________________\n",
            "dense_23 (Dense)             (None, 1)                 25        \n",
            "=================================================================\n",
            "Total params: 745\n",
            "Trainable params: 697\n",
            "Non-trainable params: 48\n",
            "_________________________________________________________________\n"
          ]
        }
      ]
    },
    {
      "cell_type": "code",
      "source": [
        "h = model.fit(X_train,y_train,epochs=50,validation_data=(X_test,y_test))"
      ],
      "metadata": {
        "colab": {
          "base_uri": "https://localhost:8080/"
        },
        "id": "ACCTLePxpQzu",
        "outputId": "3b17d18c-0a7c-43b2-a42b-c171c534ba08"
      },
      "execution_count": 65,
      "outputs": [
        {
          "output_type": "stream",
          "name": "stdout",
          "text": [
            "Epoch 1/50\n",
            "11/11 [==============================] - 2s 36ms/step - loss: 0.6066 - accuracy: 0.6839 - val_loss: 0.5523 - val_accuracy: 0.8736\n",
            "Epoch 2/50\n",
            "11/11 [==============================] - 0s 12ms/step - loss: 0.5064 - accuracy: 0.7328 - val_loss: 0.5247 - val_accuracy: 0.8736\n",
            "Epoch 3/50\n",
            "11/11 [==============================] - 0s 9ms/step - loss: 0.4799 - accuracy: 0.7816 - val_loss: 0.4960 - val_accuracy: 0.8621\n",
            "Epoch 4/50\n",
            "11/11 [==============================] - 0s 8ms/step - loss: 0.5081 - accuracy: 0.7845 - val_loss: 0.4687 - val_accuracy: 0.8966\n",
            "Epoch 5/50\n",
            "11/11 [==============================] - 0s 8ms/step - loss: 0.4177 - accuracy: 0.8305 - val_loss: 0.4464 - val_accuracy: 0.9195\n",
            "Epoch 6/50\n",
            "11/11 [==============================] - 0s 8ms/step - loss: 0.3933 - accuracy: 0.8420 - val_loss: 0.4261 - val_accuracy: 0.9655\n",
            "Epoch 7/50\n",
            "11/11 [==============================] - 0s 9ms/step - loss: 0.3814 - accuracy: 0.8305 - val_loss: 0.4048 - val_accuracy: 0.9655\n",
            "Epoch 8/50\n",
            "11/11 [==============================] - 0s 7ms/step - loss: 0.3458 - accuracy: 0.8592 - val_loss: 0.3814 - val_accuracy: 0.9655\n",
            "Epoch 9/50\n",
            "11/11 [==============================] - 0s 7ms/step - loss: 0.3646 - accuracy: 0.8822 - val_loss: 0.3582 - val_accuracy: 0.9655\n",
            "Epoch 10/50\n",
            "11/11 [==============================] - 0s 8ms/step - loss: 0.3314 - accuracy: 0.9080 - val_loss: 0.3381 - val_accuracy: 0.9655\n",
            "Epoch 11/50\n",
            "11/11 [==============================] - 0s 9ms/step - loss: 0.3152 - accuracy: 0.9138 - val_loss: 0.3166 - val_accuracy: 0.9655\n",
            "Epoch 12/50\n",
            "11/11 [==============================] - 0s 8ms/step - loss: 0.2969 - accuracy: 0.9023 - val_loss: 0.2948 - val_accuracy: 0.9655\n",
            "Epoch 13/50\n",
            "11/11 [==============================] - 0s 9ms/step - loss: 0.2817 - accuracy: 0.9167 - val_loss: 0.2743 - val_accuracy: 0.9655\n",
            "Epoch 14/50\n",
            "11/11 [==============================] - 0s 11ms/step - loss: 0.2492 - accuracy: 0.9253 - val_loss: 0.2559 - val_accuracy: 0.9655\n",
            "Epoch 15/50\n",
            "11/11 [==============================] - 0s 8ms/step - loss: 0.2612 - accuracy: 0.9109 - val_loss: 0.2360 - val_accuracy: 0.9655\n",
            "Epoch 16/50\n",
            "11/11 [==============================] - 0s 8ms/step - loss: 0.2454 - accuracy: 0.9282 - val_loss: 0.2191 - val_accuracy: 0.9655\n",
            "Epoch 17/50\n",
            "11/11 [==============================] - 0s 8ms/step - loss: 0.2757 - accuracy: 0.9167 - val_loss: 0.2044 - val_accuracy: 0.9540\n",
            "Epoch 18/50\n",
            "11/11 [==============================] - 0s 8ms/step - loss: 0.2868 - accuracy: 0.9167 - val_loss: 0.1906 - val_accuracy: 0.9540\n",
            "Epoch 19/50\n",
            "11/11 [==============================] - 0s 8ms/step - loss: 0.2364 - accuracy: 0.9368 - val_loss: 0.1794 - val_accuracy: 0.9540\n",
            "Epoch 20/50\n",
            "11/11 [==============================] - 0s 8ms/step - loss: 0.2475 - accuracy: 0.9138 - val_loss: 0.1685 - val_accuracy: 0.9540\n",
            "Epoch 21/50\n",
            "11/11 [==============================] - 0s 8ms/step - loss: 0.2286 - accuracy: 0.9253 - val_loss: 0.1580 - val_accuracy: 0.9540\n",
            "Epoch 22/50\n",
            "11/11 [==============================] - 0s 8ms/step - loss: 0.2286 - accuracy: 0.9368 - val_loss: 0.1480 - val_accuracy: 0.9540\n",
            "Epoch 23/50\n",
            "11/11 [==============================] - 0s 8ms/step - loss: 0.2237 - accuracy: 0.9282 - val_loss: 0.1395 - val_accuracy: 0.9655\n",
            "Epoch 24/50\n",
            "11/11 [==============================] - 0s 8ms/step - loss: 0.2038 - accuracy: 0.9425 - val_loss: 0.1328 - val_accuracy: 0.9655\n",
            "Epoch 25/50\n",
            "11/11 [==============================] - 0s 9ms/step - loss: 0.2454 - accuracy: 0.9282 - val_loss: 0.1272 - val_accuracy: 0.9655\n",
            "Epoch 26/50\n",
            "11/11 [==============================] - 0s 7ms/step - loss: 0.2296 - accuracy: 0.9339 - val_loss: 0.1242 - val_accuracy: 0.9655\n",
            "Epoch 27/50\n",
            "11/11 [==============================] - 0s 6ms/step - loss: 0.2003 - accuracy: 0.9483 - val_loss: 0.1185 - val_accuracy: 0.9655\n",
            "Epoch 28/50\n",
            "11/11 [==============================] - 0s 6ms/step - loss: 0.2113 - accuracy: 0.9282 - val_loss: 0.1121 - val_accuracy: 0.9655\n",
            "Epoch 29/50\n",
            "11/11 [==============================] - 0s 8ms/step - loss: 0.2051 - accuracy: 0.9310 - val_loss: 0.1067 - val_accuracy: 0.9655\n",
            "Epoch 30/50\n",
            "11/11 [==============================] - 0s 8ms/step - loss: 0.1919 - accuracy: 0.9569 - val_loss: 0.1031 - val_accuracy: 0.9655\n",
            "Epoch 31/50\n",
            "11/11 [==============================] - 0s 8ms/step - loss: 0.1981 - accuracy: 0.9310 - val_loss: 0.1003 - val_accuracy: 0.9655\n",
            "Epoch 32/50\n",
            "11/11 [==============================] - 0s 13ms/step - loss: 0.1824 - accuracy: 0.9425 - val_loss: 0.0994 - val_accuracy: 0.9655\n",
            "Epoch 33/50\n",
            "11/11 [==============================] - 0s 8ms/step - loss: 0.2149 - accuracy: 0.9483 - val_loss: 0.0992 - val_accuracy: 0.9655\n",
            "Epoch 34/50\n",
            "11/11 [==============================] - 0s 9ms/step - loss: 0.1932 - accuracy: 0.9540 - val_loss: 0.0980 - val_accuracy: 0.9655\n",
            "Epoch 35/50\n",
            "11/11 [==============================] - 0s 9ms/step - loss: 0.1977 - accuracy: 0.9483 - val_loss: 0.0987 - val_accuracy: 0.9655\n",
            "Epoch 36/50\n",
            "11/11 [==============================] - 0s 8ms/step - loss: 0.2020 - accuracy: 0.9397 - val_loss: 0.0983 - val_accuracy: 0.9655\n",
            "Epoch 37/50\n",
            "11/11 [==============================] - 0s 9ms/step - loss: 0.2186 - accuracy: 0.9483 - val_loss: 0.0965 - val_accuracy: 0.9655\n",
            "Epoch 38/50\n",
            "11/11 [==============================] - 0s 8ms/step - loss: 0.2134 - accuracy: 0.9483 - val_loss: 0.0987 - val_accuracy: 0.9655\n",
            "Epoch 39/50\n",
            "11/11 [==============================] - 0s 9ms/step - loss: 0.1663 - accuracy: 0.9511 - val_loss: 0.0983 - val_accuracy: 0.9655\n",
            "Epoch 40/50\n",
            "11/11 [==============================] - 0s 8ms/step - loss: 0.1804 - accuracy: 0.9540 - val_loss: 0.0941 - val_accuracy: 0.9655\n",
            "Epoch 41/50\n",
            "11/11 [==============================] - 0s 6ms/step - loss: 0.1700 - accuracy: 0.9483 - val_loss: 0.0936 - val_accuracy: 0.9655\n",
            "Epoch 42/50\n",
            "11/11 [==============================] - 0s 8ms/step - loss: 0.1785 - accuracy: 0.9626 - val_loss: 0.0928 - val_accuracy: 0.9655\n",
            "Epoch 43/50\n",
            "11/11 [==============================] - 0s 8ms/step - loss: 0.1956 - accuracy: 0.9483 - val_loss: 0.0932 - val_accuracy: 0.9655\n",
            "Epoch 44/50\n",
            "11/11 [==============================] - 0s 9ms/step - loss: 0.1704 - accuracy: 0.9397 - val_loss: 0.0932 - val_accuracy: 0.9655\n",
            "Epoch 45/50\n",
            "11/11 [==============================] - 0s 9ms/step - loss: 0.1794 - accuracy: 0.9511 - val_loss: 0.0936 - val_accuracy: 0.9655\n",
            "Epoch 46/50\n",
            "11/11 [==============================] - 0s 8ms/step - loss: 0.1798 - accuracy: 0.9569 - val_loss: 0.0902 - val_accuracy: 0.9655\n",
            "Epoch 47/50\n",
            "11/11 [==============================] - 0s 8ms/step - loss: 0.1763 - accuracy: 0.9483 - val_loss: 0.0902 - val_accuracy: 0.9655\n",
            "Epoch 48/50\n",
            "11/11 [==============================] - 0s 9ms/step - loss: 0.1735 - accuracy: 0.9540 - val_loss: 0.0905 - val_accuracy: 0.9655\n",
            "Epoch 49/50\n",
            "11/11 [==============================] - 0s 8ms/step - loss: 0.1829 - accuracy: 0.9511 - val_loss: 0.0894 - val_accuracy: 0.9655\n",
            "Epoch 50/50\n",
            "11/11 [==============================] - 0s 8ms/step - loss: 0.2074 - accuracy: 0.9454 - val_loss: 0.0877 - val_accuracy: 0.9655\n"
          ]
        }
      ]
    },
    {
      "cell_type": "code",
      "source": [
        "plt.plot(h.history['accuracy'], label = 'Accuracy for Train set')\n",
        "plt.plot(h.history['val_accuracy'], label = 'Accuracy for Test Set')\n",
        "plt.title('Accuracy Graph for ANN')\n",
        "plt.ylabel('Accuracy')\n",
        "plt.xlabel('epochs')\n",
        "plt.legend()"
      ],
      "metadata": {
        "colab": {
          "base_uri": "https://localhost:8080/",
          "height": 312
        },
        "id": "TuBfkdXHpTPw",
        "outputId": "eb28fe44-535b-4182-ee65-0e511431b41f"
      },
      "execution_count": 66,
      "outputs": [
        {
          "output_type": "execute_result",
          "data": {
            "text/plain": [
              "<matplotlib.legend.Legend at 0x7f4c38858ad0>"
            ]
          },
          "metadata": {},
          "execution_count": 66
        },
        {
          "output_type": "display_data",
          "data": {
            "text/plain": [
              "<Figure size 432x288 with 1 Axes>"
            ],
            "image/png": "[encoded data removed]"
          },
          "metadata": {
            "needs_background": "light"
          }
        }
      ]
    },
    {
      "cell_type": "code",
      "source": [
        "plt.plot(h.history['loss'], label = 'loss for Train set')\n",
        "plt.plot(h.history['val_loss'], label = 'loss for Test Set')\n",
        "plt.title('loss Graph for ANN')\n",
        "plt.ylabel('loss')\n",
        "plt.xlabel('epochs')\n",
        "plt.legend()\n"
      ],
      "metadata": {
        "colab": {
          "base_uri": "https://localhost:8080/",
          "height": 312
        },
        "id": "OHYH7h9gpjFN",
        "outputId": "f895a6f3-2e2a-46c7-d109-493159ecc497"
      },
      "execution_count": 67,
      "outputs": [
        {
          "output_type": "execute_result",
          "data": {
            "text/plain": [
              "<matplotlib.legend.Legend at 0x7f4c388d9290>"
            ]
          },
          "metadata": {},
          "execution_count": 67
        },
        {
          "output_type": "display_data",
          "data": {
            "text/plain": [
              "<Figure size 432x288 with 1 Axes>"
            ],
            "image/png": "[encoded data removed]"
          },
          "metadata": {
            "needs_background": "light"
          }
        }
      ]
    },
    {
      "cell_type": "code",
      "source": [
        "y_pred_ann = model.predict_classes(X_test)\n",
        "print(\"Accuracy: \",accuracy_score(y_test,y_pred_ann))\n",
        "print(\"Recall: \", recall_score(y_test,y_pred_ann))\n",
        "print(\"Precision: \", precision_score(y_test,y_pred_ann))\n",
        "print(confusion_matrix(y_test,y_pred_ann))"
      ],
      "metadata": {
        "colab": {
          "base_uri": "https://localhost:8080/"
        },
        "id": "2-e4y1ySpjmR",
        "outputId": "84a9a9d0-b942-41fd-ebfe-3534817fa9bd"
      },
      "execution_count": 68,
      "outputs": [
        {
          "output_type": "stream",
          "name": "stderr",
          "text": [
            "/usr/local/lib/python3.7/dist-packages/tensorflow/python/keras/engine/sequential.py:455: UserWarning: `model.predict_classes()` is deprecated and will be removed after 2021-01-01. Please use instead:* `np.argmax(model.predict(x), axis=-1)`,   if your model does multi-class classification   (e.g. if it uses a `softmax` last-layer activation).* `(model.predict(x) > 0.5).astype(\"int32\")`,   if your model does binary classification   (e.g. if it uses a `sigmoid` last-layer activation).\n",
            "  warnings.warn('`model.predict_classes()` is deprecated and '\n"
          ]
        },
        {
          "output_type": "stream",
          "name": "stdout",
          "text": [
            "Accuracy:  0.9655172413793104\n",
            "Recall:  0.9428571428571428\n",
            "Precision:  0.9705882352941176\n",
            "[[51  1]\n",
            " [ 2 33]]\n"
          ]
        }
      ]
    },
    {
      "cell_type": "code",
      "source": [
        "rank6  = pd.read_excel(\"/content/voting84_dataset.xlsx\",sheet_name = \"F_test\").set_index('Attributes_Names')\n",
        "df_f_test  = df[rank6[:8].index]\n",
        "X_col =  df_f_test\n",
        "y = df['Class Name']\n",
        "Scaler = StandardScaler()\n",
        "X_col =  Scaler.fit_transform(X_col)\n",
        "X_train, X_test, y_train, y_test = train_test_split(X_col, y, test_size=0.2, random_state=0)\n",
        "print(\"Shape of training data\",X_train.shape)\n",
        "print(\"Shape of testing data\",X_test.shape)"
      ],
      "metadata": {
        "colab": {
          "base_uri": "https://localhost:8080/"
        },
        "id": "YhA83kaqptl2",
        "outputId": "0a85c0a2-bc95-420e-fac1-97a3c7caa5b7"
      },
      "execution_count": 70,
      "outputs": [
        {
          "output_type": "stream",
          "name": "stdout",
          "text": [
            "Shape of training data (348, 8)\n",
            "Shape of testing data (87, 8)\n"
          ]
        }
      ]
    },
    {
      "cell_type": "code",
      "source": [
        "rf =  RandomForestClassifier()\n",
        "rf.fit(X_train,y_train)\n",
        "y_pred_rf =  rf.predict(X_test)\n",
        "print(\"Accuracy: \",accuracy_score(y_test,y_pred_rf))\n",
        "print(\"Recall: \", recall_score(y_test,y_pred_rf))\n",
        "print(\"Precision: \", precision_score(y_test,y_pred_rf))\n",
        "print(confusion_matrix(y_test,y_pred_rf))"
      ],
      "metadata": {
        "colab": {
          "base_uri": "https://localhost:8080/"
        },
        "id": "0oWcyeT-p2MO",
        "outputId": "62667c8b-f468-4398-ff8e-ccfcd255b6a7"
      },
      "execution_count": 71,
      "outputs": [
        {
          "output_type": "stream",
          "name": "stdout",
          "text": [
            "Accuracy:  0.9655172413793104\n",
            "Recall:  0.9714285714285714\n",
            "Precision:  0.9444444444444444\n",
            "[[50  2]\n",
            " [ 1 34]]\n"
          ]
        }
      ]
    },
    {
      "cell_type": "code",
      "source": [
        "svc =  SVC()\n",
        "svc.fit(X_test,y_test)\n",
        "y_pred_svc =  svc.predict(X_test)\n",
        "print(\"Accuracy: \",accuracy_score(y_test,y_pred_svc))\n",
        "print(\"Recall: \", recall_score(y_test,y_pred_svc))\n",
        "print(\"Precision: \", precision_score(y_test,y_pred_svc))\n",
        "print(confusion_matrix(y_test,y_pred_svc))"
      ],
      "metadata": {
        "colab": {
          "base_uri": "https://localhost:8080/"
        },
        "id": "71fnJSMep_Zu",
        "outputId": "ed4b0c14-d762-4cf9-a912-b5b91ecba9df"
      },
      "execution_count": 72,
      "outputs": [
        {
          "output_type": "stream",
          "name": "stdout",
          "text": [
            "Accuracy:  0.9770114942528736\n",
            "Recall:  0.9714285714285714\n",
            "Precision:  0.9714285714285714\n",
            "[[51  1]\n",
            " [ 1 34]]\n"
          ]
        }
      ]
    },
    {
      "cell_type": "code",
      "source": [
        "model = tf.keras.Sequential([\n",
        "    tf.keras.layers.Dense(8, activation='relu', input_shape=(8,)),\n",
        "    tf.keras.layers.BatchNormalization(),\n",
        "    tf.keras.layers.Dense(16, activation='relu'),\n",
        "    tf.keras.layers.BatchNormalization(),\n",
        "    tf.keras.layers.Dense(24, activation='relu'),\n",
        "    tf.keras.layers.Dropout(0.5), \n",
        "    tf.keras.layers.Dense(1,activation='sigmoid')\n",
        "  ])\n",
        "model.compile(loss='binary_crossentropy',\n",
        "              optimizer = 'adam',\n",
        "              metrics=['accuracy'])\n",
        "model.summary()"
      ],
      "metadata": {
        "colab": {
          "base_uri": "https://localhost:8080/"
        },
        "id": "VO1aSec4qDpu",
        "outputId": "c9ca9114-07a3-4f77-b7fe-43f0484efe20"
      },
      "execution_count": 73,
      "outputs": [
        {
          "output_type": "stream",
          "name": "stdout",
          "text": [
            "Model: \"sequential_6\"\n",
            "_________________________________________________________________\n",
            "Layer (type)                 Output Shape              Param #   \n",
            "=================================================================\n",
            "dense_24 (Dense)             (None, 8)                 72        \n",
            "_________________________________________________________________\n",
            "batch_normalization_12 (Batc (None, 8)                 32        \n",
            "_________________________________________________________________\n",
            "dense_25 (Dense)             (None, 16)                144       \n",
            "_________________________________________________________________\n",
            "batch_normalization_13 (Batc (None, 16)                64        \n",
            "_________________________________________________________________\n",
            "dense_26 (Dense)             (None, 24)                408       \n",
            "_________________________________________________________________\n",
            "dropout_6 (Dropout)          (None, 24)                0         \n",
            "_________________________________________________________________\n",
            "dense_27 (Dense)             (None, 1)                 25        \n",
            "=================================================================\n",
            "Total params: 745\n",
            "Trainable params: 697\n",
            "Non-trainable params: 48\n",
            "_________________________________________________________________\n"
          ]
        }
      ]
    },
    {
      "cell_type": "code",
      "source": [
        "h = model.fit(X_train,y_train,epochs=50,validation_data=(X_test,y_test))"
      ],
      "metadata": {
        "colab": {
          "base_uri": "https://localhost:8080/"
        },
        "id": "ZLAf5lgeqK6w",
        "outputId": "4d7877ce-3146-477a-cafe-9f4612ae38de"
      },
      "execution_count": 74,
      "outputs": [
        {
          "output_type": "stream",
          "name": "stdout",
          "text": [
            "Epoch 1/50\n",
            "11/11 [==============================] - 1s 22ms/step - loss: 0.8137 - accuracy: 0.5029 - val_loss: 0.6724 - val_accuracy: 0.7011\n",
            "Epoch 2/50\n",
            "11/11 [==============================] - 0s 4ms/step - loss: 0.6986 - accuracy: 0.5948 - val_loss: 0.6372 - val_accuracy: 0.8851\n",
            "Epoch 3/50\n",
            "11/11 [==============================] - 0s 6ms/step - loss: 0.5705 - accuracy: 0.7069 - val_loss: 0.6008 - val_accuracy: 0.9540\n",
            "Epoch 4/50\n",
            "11/11 [==============================] - 0s 4ms/step - loss: 0.5040 - accuracy: 0.7701 - val_loss: 0.5635 - val_accuracy: 0.9425\n",
            "Epoch 5/50\n",
            "11/11 [==============================] - 0s 5ms/step - loss: 0.4410 - accuracy: 0.8391 - val_loss: 0.5241 - val_accuracy: 0.9425\n",
            "Epoch 6/50\n",
            "11/11 [==============================] - 0s 4ms/step - loss: 0.4043 - accuracy: 0.8621 - val_loss: 0.4811 - val_accuracy: 0.9425\n",
            "Epoch 7/50\n",
            "11/11 [==============================] - 0s 4ms/step - loss: 0.3571 - accuracy: 0.8678 - val_loss: 0.4411 - val_accuracy: 0.9425\n",
            "Epoch 8/50\n",
            "11/11 [==============================] - 0s 5ms/step - loss: 0.3158 - accuracy: 0.8966 - val_loss: 0.4042 - val_accuracy: 0.9195\n",
            "Epoch 9/50\n",
            "11/11 [==============================] - 0s 4ms/step - loss: 0.3086 - accuracy: 0.8822 - val_loss: 0.3686 - val_accuracy: 0.9425\n",
            "Epoch 10/50\n",
            "11/11 [==============================] - 0s 5ms/step - loss: 0.2888 - accuracy: 0.9109 - val_loss: 0.3333 - val_accuracy: 0.9425\n",
            "Epoch 11/50\n",
            "11/11 [==============================] - 0s 4ms/step - loss: 0.2466 - accuracy: 0.9310 - val_loss: 0.3017 - val_accuracy: 0.9425\n",
            "Epoch 12/50\n",
            "11/11 [==============================] - 0s 7ms/step - loss: 0.2202 - accuracy: 0.9397 - val_loss: 0.2743 - val_accuracy: 0.9425\n",
            "Epoch 13/50\n",
            "11/11 [==============================] - 0s 5ms/step - loss: 0.2623 - accuracy: 0.9339 - val_loss: 0.2540 - val_accuracy: 0.9425\n",
            "Epoch 14/50\n",
            "11/11 [==============================] - 0s 5ms/step - loss: 0.2309 - accuracy: 0.9339 - val_loss: 0.2365 - val_accuracy: 0.9425\n",
            "Epoch 15/50\n",
            "11/11 [==============================] - 0s 5ms/step - loss: 0.2053 - accuracy: 0.9282 - val_loss: 0.2190 - val_accuracy: 0.9425\n",
            "Epoch 16/50\n",
            "11/11 [==============================] - 0s 4ms/step - loss: 0.1893 - accuracy: 0.9397 - val_loss: 0.2032 - val_accuracy: 0.9425\n",
            "Epoch 17/50\n",
            "11/11 [==============================] - 0s 5ms/step - loss: 0.2145 - accuracy: 0.9339 - val_loss: 0.1903 - val_accuracy: 0.9425\n",
            "Epoch 18/50\n",
            "11/11 [==============================] - 0s 4ms/step - loss: 0.1952 - accuracy: 0.9339 - val_loss: 0.1803 - val_accuracy: 0.9425\n",
            "Epoch 19/50\n",
            "11/11 [==============================] - 0s 4ms/step - loss: 0.2088 - accuracy: 0.9397 - val_loss: 0.1734 - val_accuracy: 0.9425\n",
            "Epoch 20/50\n",
            "11/11 [==============================] - 0s 6ms/step - loss: 0.2058 - accuracy: 0.9540 - val_loss: 0.1698 - val_accuracy: 0.9425\n",
            "Epoch 21/50\n",
            "11/11 [==============================] - 0s 4ms/step - loss: 0.2016 - accuracy: 0.9425 - val_loss: 0.1654 - val_accuracy: 0.9425\n",
            "Epoch 22/50\n",
            "11/11 [==============================] - 0s 5ms/step - loss: 0.1457 - accuracy: 0.9483 - val_loss: 0.1588 - val_accuracy: 0.9425\n",
            "Epoch 23/50\n",
            "11/11 [==============================] - 0s 4ms/step - loss: 0.1520 - accuracy: 0.9540 - val_loss: 0.1550 - val_accuracy: 0.9425\n",
            "Epoch 24/50\n",
            "11/11 [==============================] - 0s 4ms/step - loss: 0.2047 - accuracy: 0.9425 - val_loss: 0.1505 - val_accuracy: 0.9425\n",
            "Epoch 25/50\n",
            "11/11 [==============================] - 0s 4ms/step - loss: 0.2017 - accuracy: 0.9483 - val_loss: 0.1489 - val_accuracy: 0.9425\n",
            "Epoch 26/50\n",
            "11/11 [==============================] - 0s 4ms/step - loss: 0.1640 - accuracy: 0.9397 - val_loss: 0.1461 - val_accuracy: 0.9425\n",
            "Epoch 27/50\n",
            "11/11 [==============================] - 0s 5ms/step - loss: 0.1652 - accuracy: 0.9483 - val_loss: 0.1439 - val_accuracy: 0.9425\n",
            "Epoch 28/50\n",
            "11/11 [==============================] - 0s 5ms/step - loss: 0.1599 - accuracy: 0.9454 - val_loss: 0.1424 - val_accuracy: 0.9540\n",
            "Epoch 29/50\n",
            "11/11 [==============================] - 0s 6ms/step - loss: 0.1788 - accuracy: 0.9511 - val_loss: 0.1406 - val_accuracy: 0.9540\n",
            "Epoch 30/50\n",
            "11/11 [==============================] - 0s 4ms/step - loss: 0.1743 - accuracy: 0.9397 - val_loss: 0.1406 - val_accuracy: 0.9540\n",
            "Epoch 31/50\n",
            "11/11 [==============================] - 0s 5ms/step - loss: 0.1497 - accuracy: 0.9569 - val_loss: 0.1401 - val_accuracy: 0.9540\n",
            "Epoch 32/50\n",
            "11/11 [==============================] - 0s 5ms/step - loss: 0.1770 - accuracy: 0.9310 - val_loss: 0.1382 - val_accuracy: 0.9540\n",
            "Epoch 33/50\n",
            "11/11 [==============================] - 0s 4ms/step - loss: 0.1878 - accuracy: 0.9397 - val_loss: 0.1399 - val_accuracy: 0.9425\n",
            "Epoch 34/50\n",
            "11/11 [==============================] - 0s 4ms/step - loss: 0.1405 - accuracy: 0.9483 - val_loss: 0.1364 - val_accuracy: 0.9540\n",
            "Epoch 35/50\n",
            "11/11 [==============================] - 0s 4ms/step - loss: 0.1553 - accuracy: 0.9454 - val_loss: 0.1302 - val_accuracy: 0.9540\n",
            "Epoch 36/50\n",
            "11/11 [==============================] - 0s 5ms/step - loss: 0.1627 - accuracy: 0.9425 - val_loss: 0.1256 - val_accuracy: 0.9540\n",
            "Epoch 37/50\n",
            "11/11 [==============================] - 0s 4ms/step - loss: 0.1537 - accuracy: 0.9454 - val_loss: 0.1256 - val_accuracy: 0.9540\n",
            "Epoch 38/50\n",
            "11/11 [==============================] - 0s 5ms/step - loss: 0.1652 - accuracy: 0.9483 - val_loss: 0.1248 - val_accuracy: 0.9540\n",
            "Epoch 39/50\n",
            "11/11 [==============================] - 0s 4ms/step - loss: 0.1790 - accuracy: 0.9339 - val_loss: 0.1256 - val_accuracy: 0.9540\n",
            "Epoch 40/50\n",
            "11/11 [==============================] - 0s 4ms/step - loss: 0.1529 - accuracy: 0.9569 - val_loss: 0.1262 - val_accuracy: 0.9540\n",
            "Epoch 41/50\n",
            "11/11 [==============================] - 0s 4ms/step - loss: 0.1504 - accuracy: 0.9511 - val_loss: 0.1256 - val_accuracy: 0.9425\n",
            "Epoch 42/50\n",
            "11/11 [==============================] - 0s 5ms/step - loss: 0.1610 - accuracy: 0.9540 - val_loss: 0.1247 - val_accuracy: 0.9425\n",
            "Epoch 43/50\n",
            "11/11 [==============================] - 0s 4ms/step - loss: 0.1419 - accuracy: 0.9397 - val_loss: 0.1225 - val_accuracy: 0.9655\n",
            "Epoch 44/50\n",
            "11/11 [==============================] - 0s 4ms/step - loss: 0.1547 - accuracy: 0.9454 - val_loss: 0.1206 - val_accuracy: 0.9655\n",
            "Epoch 45/50\n",
            "11/11 [==============================] - 0s 4ms/step - loss: 0.1412 - accuracy: 0.9540 - val_loss: 0.1204 - val_accuracy: 0.9655\n",
            "Epoch 46/50\n",
            "11/11 [==============================] - 0s 6ms/step - loss: 0.1323 - accuracy: 0.9598 - val_loss: 0.1176 - val_accuracy: 0.9655\n",
            "Epoch 47/50\n",
            "11/11 [==============================] - 0s 4ms/step - loss: 0.1513 - accuracy: 0.9540 - val_loss: 0.1164 - val_accuracy: 0.9655\n",
            "Epoch 48/50\n",
            "11/11 [==============================] - 0s 5ms/step - loss: 0.1350 - accuracy: 0.9511 - val_loss: 0.1156 - val_accuracy: 0.9655\n",
            "Epoch 49/50\n",
            "11/11 [==============================] - 0s 4ms/step - loss: 0.1284 - accuracy: 0.9540 - val_loss: 0.1140 - val_accuracy: 0.9540\n",
            "Epoch 50/50\n",
            "11/11 [==============================] - 0s 5ms/step - loss: 0.1388 - accuracy: 0.9569 - val_loss: 0.1128 - val_accuracy: 0.9655\n"
          ]
        }
      ]
    },
    {
      "cell_type": "code",
      "source": [
        "plt.plot(h.history['accuracy'], label = 'Accuracy for Train set')\n",
        "plt.plot(h.history['val_accuracy'], label = 'Accuracy for Test Set')\n",
        "plt.title('Accuracy Graph for ANN')\n",
        "plt.ylabel('Accuracy')\n",
        "plt.xlabel('epochs')\n",
        "plt.legend()"
      ],
      "metadata": {
        "colab": {
          "base_uri": "https://localhost:8080/",
          "height": 312
        },
        "id": "kh_rH6kWqK3s",
        "outputId": "6c63d305-de39-4930-a3cc-fb0e6a4ee770"
      },
      "execution_count": 75,
      "outputs": [
        {
          "output_type": "execute_result",
          "data": {
            "text/plain": [
              "<matplotlib.legend.Legend at 0x7f4c384a6750>"
            ]
          },
          "metadata": {},
          "execution_count": 75
        },
        {
          "output_type": "display_data",
          "data": {
            "text/plain": [
              "<Figure size 432x288 with 1 Axes>"
            ],
            "image/png": "[encoded data removed]"
          },
          "metadata": {
            "needs_background": "light"
          }
        }
      ]
    },
    {
      "cell_type": "code",
      "source": [
        "plt.plot(h.history['loss'], label = 'loss for Train set')\n",
        "plt.plot(h.history['val_loss'], label = 'loss for Test Set')\n",
        "plt.title('loss Graph for ANN')\n",
        "plt.ylabel('loss')\n",
        "plt.xlabel('epochs')\n",
        "plt.legend()"
      ],
      "metadata": {
        "colab": {
          "base_uri": "https://localhost:8080/",
          "height": 312
        },
        "id": "P4EVzRCcqPLV",
        "outputId": "1c16ea65-e0e2-43be-c59d-9eb62c763aec"
      },
      "execution_count": 76,
      "outputs": [
        {
          "output_type": "execute_result",
          "data": {
            "text/plain": [
              "<matplotlib.legend.Legend at 0x7f4c383ff4d0>"
            ]
          },
          "metadata": {},
          "execution_count": 76
        },
        {
          "output_type": "display_data",
          "data": {
            "text/plain": [
              "<Figure size 432x288 with 1 Axes>"
            ],
            "image/png": "[encoded data removed]"
          },
          "metadata": {
            "needs_background": "light"
          }
        }
      ]
    },
    {
      "cell_type": "code",
      "source": [
        "y_pred_ann = model.predict_classes(X_test)\n",
        "print(\"Accuracy: \",accuracy_score(y_test,y_pred_ann))\n",
        "print(\"Recall: \", recall_score(y_test,y_pred_ann))\n",
        "print(\"Precision: \", precision_score(y_test,y_pred_ann))\n",
        "print(confusion_matrix(y_test,y_pred_ann))"
      ],
      "metadata": {
        "colab": {
          "base_uri": "https://localhost:8080/"
        },
        "id": "cma0GJCCqR_q",
        "outputId": "94bdb706-d7e7-4603-8f03-37a9b1b8e95c"
      },
      "execution_count": 77,
      "outputs": [
        {
          "output_type": "stream",
          "name": "stderr",
          "text": [
            "/usr/local/lib/python3.7/dist-packages/tensorflow/python/keras/engine/sequential.py:455: UserWarning: `model.predict_classes()` is deprecated and will be removed after 2021-01-01. Please use instead:* `np.argmax(model.predict(x), axis=-1)`,   if your model does multi-class classification   (e.g. if it uses a `softmax` last-layer activation).* `(model.predict(x) > 0.5).astype(\"int32\")`,   if your model does binary classification   (e.g. if it uses a `sigmoid` last-layer activation).\n",
            "  warnings.warn('`model.predict_classes()` is deprecated and '\n"
          ]
        },
        {
          "output_type": "stream",
          "name": "stdout",
          "text": [
            "Accuracy:  0.9655172413793104\n",
            "Recall:  0.9428571428571428\n",
            "Precision:  0.9705882352941176\n",
            "[[51  1]\n",
            " [ 2 33]]\n"
          ]
        }
      ]
    },
    {
      "cell_type": "code",
      "source": [
        "rank7  = pd.read_excel(\"/content/voting84_dataset.xlsx\",sheet_name = \"mutual_info\").set_index('Attributes_Names')\n",
        "df_mutual = df[rank7[:8].index]\n",
        "X_col =  df_mutual\n",
        "y = df['Class Name']\n",
        "Scaler = StandardScaler()\n",
        "X_col =  Scaler.fit_transform(X_col)\n",
        "X_train, X_test, y_train, y_test = train_test_split(X_col, y, test_size=0.2, random_state=0)\n",
        "print(\"Shape of training data\",X_train.shape)\n",
        "print(\"Shape of testing data\",X_test.shape)"
      ],
      "metadata": {
        "colab": {
          "base_uri": "https://localhost:8080/"
        },
        "id": "aw9gBuLlqbl5",
        "outputId": "3d2a02a4-f687-4104-a6ed-2b0694d5b830"
      },
      "execution_count": 83,
      "outputs": [
        {
          "output_type": "stream",
          "name": "stdout",
          "text": [
            "Shape of training data (348, 8)\n",
            "Shape of testing data (87, 8)\n"
          ]
        }
      ]
    },
    {
      "cell_type": "code",
      "source": [
        "rf =  RandomForestClassifier()\n",
        "rf.fit(X_train,y_train)\n",
        "y_pred_rf =  rf.predict(X_test)\n",
        "print(\"Accuracy: \",accuracy_score(y_test,y_pred_rf))\n",
        "print(\"Recall: \", recall_score(y_test,y_pred_rf))\n",
        "print(\"Precision: \", precision_score(y_test,y_pred_rf))\n",
        "print(confusion_matrix(y_test,y_pred_rf))"
      ],
      "metadata": {
        "colab": {
          "base_uri": "https://localhost:8080/"
        },
        "id": "vxQ_r_2sqnSs",
        "outputId": "d63e880c-4b93-47ce-ab06-ac84aa5cc13c"
      },
      "execution_count": 84,
      "outputs": [
        {
          "output_type": "stream",
          "name": "stdout",
          "text": [
            "Accuracy:  0.9655172413793104\n",
            "Recall:  0.9714285714285714\n",
            "Precision:  0.9444444444444444\n",
            "[[50  2]\n",
            " [ 1 34]]\n"
          ]
        }
      ]
    },
    {
      "cell_type": "code",
      "source": [
        "svc =  SVC()\n",
        "svc.fit(X_test,y_test)\n",
        "y_pred_svc =  svc.predict(X_test)\n",
        "print(\"Accuracy: \",accuracy_score(y_test,y_pred_svc))\n",
        "print(\"Recall: \", recall_score(y_test,y_pred_svc))\n",
        "print(\"Precision: \", precision_score(y_test,y_pred_svc))\n",
        "print(confusion_matrix(y_test,y_pred_svc))"
      ],
      "metadata": {
        "colab": {
          "base_uri": "https://localhost:8080/"
        },
        "id": "pyGXrqhkqnQL",
        "outputId": "c422180d-6e52-425b-eaff-5fcf14988c77"
      },
      "execution_count": 85,
      "outputs": [
        {
          "output_type": "stream",
          "name": "stdout",
          "text": [
            "Accuracy:  0.9770114942528736\n",
            "Recall:  0.9714285714285714\n",
            "Precision:  0.9714285714285714\n",
            "[[51  1]\n",
            " [ 1 34]]\n"
          ]
        }
      ]
    },
    {
      "cell_type": "code",
      "source": [
        "model = tf.keras.Sequential([\n",
        "    tf.keras.layers.Dense(8, activation='relu', input_shape=(8,)),\n",
        "    tf.keras.layers.BatchNormalization(),\n",
        "    tf.keras.layers.Dense(16, activation='relu'),\n",
        "    tf.keras.layers.BatchNormalization(),\n",
        "    tf.keras.layers.Dense(24, activation='relu'),\n",
        "    tf.keras.layers.Dropout(0.5), \n",
        "    tf.keras.layers.Dense(1,activation='sigmoid')\n",
        "  ])\n",
        "model.compile(loss='binary_crossentropy',\n",
        "              optimizer = 'adam',\n",
        "              metrics=['accuracy'])\n",
        "model.summary()"
      ],
      "metadata": {
        "colab": {
          "base_uri": "https://localhost:8080/"
        },
        "id": "KCZmp8gXqnNW",
        "outputId": "08cdb455-8ac0-44f3-b4b3-daef5a6500d5"
      },
      "execution_count": 86,
      "outputs": [
        {
          "output_type": "stream",
          "name": "stdout",
          "text": [
            "Model: \"sequential_8\"\n",
            "_________________________________________________________________\n",
            "Layer (type)                 Output Shape              Param #   \n",
            "=================================================================\n",
            "dense_32 (Dense)             (None, 8)                 72        \n",
            "_________________________________________________________________\n",
            "batch_normalization_16 (Batc (None, 8)                 32        \n",
            "_________________________________________________________________\n",
            "dense_33 (Dense)             (None, 16)                144       \n",
            "_________________________________________________________________\n",
            "batch_normalization_17 (Batc (None, 16)                64        \n",
            "_________________________________________________________________\n",
            "dense_34 (Dense)             (None, 24)                408       \n",
            "_________________________________________________________________\n",
            "dropout_8 (Dropout)          (None, 24)                0         \n",
            "_________________________________________________________________\n",
            "dense_35 (Dense)             (None, 1)                 25        \n",
            "=================================================================\n",
            "Total params: 745\n",
            "Trainable params: 697\n",
            "Non-trainable params: 48\n",
            "_________________________________________________________________\n"
          ]
        }
      ]
    },
    {
      "cell_type": "code",
      "source": [
        "h = model.fit(X_train,y_train,epochs=50,validation_data=(X_test,y_test))"
      ],
      "metadata": {
        "colab": {
          "base_uri": "https://localhost:8080/"
        },
        "id": "NBjZ0e4KqnLG",
        "outputId": "a7afee61-4672-45fc-ff6d-97e6d41cea80"
      },
      "execution_count": 87,
      "outputs": [
        {
          "output_type": "stream",
          "name": "stdout",
          "text": [
            "Epoch 1/50\n",
            "11/11 [==============================] - 2s 24ms/step - loss: 0.7053 - accuracy: 0.5489 - val_loss: 0.6672 - val_accuracy: 0.6782\n",
            "Epoch 2/50\n",
            "11/11 [==============================] - 0s 8ms/step - loss: 0.6168 - accuracy: 0.6523 - val_loss: 0.6264 - val_accuracy: 0.8276\n",
            "Epoch 3/50\n",
            "11/11 [==============================] - 0s 6ms/step - loss: 0.5055 - accuracy: 0.7414 - val_loss: 0.5855 - val_accuracy: 0.8276\n",
            "Epoch 4/50\n",
            "11/11 [==============================] - 0s 6ms/step - loss: 0.4905 - accuracy: 0.7874 - val_loss: 0.5411 - val_accuracy: 0.8276\n",
            "Epoch 5/50\n",
            "11/11 [==============================] - 0s 7ms/step - loss: 0.4148 - accuracy: 0.8103 - val_loss: 0.4994 - val_accuracy: 0.8736\n",
            "Epoch 6/50\n",
            "11/11 [==============================] - 0s 7ms/step - loss: 0.4061 - accuracy: 0.8362 - val_loss: 0.4587 - val_accuracy: 0.8966\n",
            "Epoch 7/50\n",
            "11/11 [==============================] - 0s 11ms/step - loss: 0.3522 - accuracy: 0.8621 - val_loss: 0.4212 - val_accuracy: 0.9080\n",
            "Epoch 8/50\n",
            "11/11 [==============================] - 0s 8ms/step - loss: 0.3243 - accuracy: 0.8707 - val_loss: 0.3893 - val_accuracy: 0.9080\n",
            "Epoch 9/50\n",
            "11/11 [==============================] - 0s 8ms/step - loss: 0.3042 - accuracy: 0.8908 - val_loss: 0.3552 - val_accuracy: 0.9195\n",
            "Epoch 10/50\n",
            "11/11 [==============================] - 0s 8ms/step - loss: 0.2903 - accuracy: 0.8966 - val_loss: 0.3236 - val_accuracy: 0.9195\n",
            "Epoch 11/50\n",
            "11/11 [==============================] - 0s 8ms/step - loss: 0.2621 - accuracy: 0.9109 - val_loss: 0.2965 - val_accuracy: 0.9195\n",
            "Epoch 12/50\n",
            "11/11 [==============================] - 0s 8ms/step - loss: 0.2515 - accuracy: 0.8822 - val_loss: 0.2718 - val_accuracy: 0.9195\n",
            "Epoch 13/50\n",
            "11/11 [==============================] - 0s 8ms/step - loss: 0.2530 - accuracy: 0.9253 - val_loss: 0.2491 - val_accuracy: 0.9425\n",
            "Epoch 14/50\n",
            "11/11 [==============================] - 0s 8ms/step - loss: 0.2337 - accuracy: 0.9224 - val_loss: 0.2267 - val_accuracy: 0.9425\n",
            "Epoch 15/50\n",
            "11/11 [==============================] - 0s 11ms/step - loss: 0.2272 - accuracy: 0.9253 - val_loss: 0.2101 - val_accuracy: 0.9540\n",
            "Epoch 16/50\n",
            "11/11 [==============================] - 0s 8ms/step - loss: 0.2152 - accuracy: 0.9282 - val_loss: 0.1956 - val_accuracy: 0.9540\n",
            "Epoch 17/50\n",
            "11/11 [==============================] - 0s 9ms/step - loss: 0.2134 - accuracy: 0.9195 - val_loss: 0.1831 - val_accuracy: 0.9540\n",
            "Epoch 18/50\n",
            "11/11 [==============================] - 0s 8ms/step - loss: 0.2019 - accuracy: 0.9224 - val_loss: 0.1728 - val_accuracy: 0.9540\n",
            "Epoch 19/50\n",
            "11/11 [==============================] - 0s 8ms/step - loss: 0.2096 - accuracy: 0.9339 - val_loss: 0.1631 - val_accuracy: 0.9540\n",
            "Epoch 20/50\n",
            "11/11 [==============================] - 0s 9ms/step - loss: 0.1956 - accuracy: 0.9339 - val_loss: 0.1546 - val_accuracy: 0.9425\n",
            "Epoch 21/50\n",
            "11/11 [==============================] - 0s 8ms/step - loss: 0.1970 - accuracy: 0.9339 - val_loss: 0.1475 - val_accuracy: 0.9425\n",
            "Epoch 22/50\n",
            "11/11 [==============================] - 0s 7ms/step - loss: 0.1865 - accuracy: 0.9483 - val_loss: 0.1410 - val_accuracy: 0.9425\n",
            "Epoch 23/50\n",
            "11/11 [==============================] - 0s 8ms/step - loss: 0.2143 - accuracy: 0.9253 - val_loss: 0.1374 - val_accuracy: 0.9425\n",
            "Epoch 24/50\n",
            "11/11 [==============================] - 0s 8ms/step - loss: 0.1858 - accuracy: 0.9540 - val_loss: 0.1328 - val_accuracy: 0.9425\n",
            "Epoch 25/50\n",
            "11/11 [==============================] - 0s 8ms/step - loss: 0.1740 - accuracy: 0.9454 - val_loss: 0.1300 - val_accuracy: 0.9425\n",
            "Epoch 26/50\n",
            "11/11 [==============================] - 0s 8ms/step - loss: 0.1742 - accuracy: 0.9483 - val_loss: 0.1268 - val_accuracy: 0.9425\n",
            "Epoch 27/50\n",
            "11/11 [==============================] - 0s 8ms/step - loss: 0.1576 - accuracy: 0.9540 - val_loss: 0.1239 - val_accuracy: 0.9540\n",
            "Epoch 28/50\n",
            "11/11 [==============================] - 0s 11ms/step - loss: 0.1602 - accuracy: 0.9425 - val_loss: 0.1223 - val_accuracy: 0.9540\n",
            "Epoch 29/50\n",
            "11/11 [==============================] - 0s 8ms/step - loss: 0.1438 - accuracy: 0.9511 - val_loss: 0.1212 - val_accuracy: 0.9540\n",
            "Epoch 30/50\n",
            "11/11 [==============================] - 0s 8ms/step - loss: 0.1978 - accuracy: 0.9483 - val_loss: 0.1201 - val_accuracy: 0.9540\n",
            "Epoch 31/50\n",
            "11/11 [==============================] - 0s 8ms/step - loss: 0.1622 - accuracy: 0.9368 - val_loss: 0.1177 - val_accuracy: 0.9655\n",
            "Epoch 32/50\n",
            "11/11 [==============================] - 0s 8ms/step - loss: 0.1681 - accuracy: 0.9368 - val_loss: 0.1164 - val_accuracy: 0.9655\n",
            "Epoch 33/50\n",
            "11/11 [==============================] - 0s 8ms/step - loss: 0.1706 - accuracy: 0.9454 - val_loss: 0.1151 - val_accuracy: 0.9655\n",
            "Epoch 34/50\n",
            "11/11 [==============================] - 0s 8ms/step - loss: 0.1757 - accuracy: 0.9397 - val_loss: 0.1140 - val_accuracy: 0.9655\n",
            "Epoch 35/50\n",
            "11/11 [==============================] - 0s 7ms/step - loss: 0.1608 - accuracy: 0.9540 - val_loss: 0.1128 - val_accuracy: 0.9655\n",
            "Epoch 36/50\n",
            "11/11 [==============================] - 0s 8ms/step - loss: 0.1592 - accuracy: 0.9511 - val_loss: 0.1118 - val_accuracy: 0.9655\n",
            "Epoch 37/50\n",
            "11/11 [==============================] - 0s 6ms/step - loss: 0.1448 - accuracy: 0.9454 - val_loss: 0.1108 - val_accuracy: 0.9655\n",
            "Epoch 38/50\n",
            "11/11 [==============================] - 0s 7ms/step - loss: 0.1807 - accuracy: 0.9454 - val_loss: 0.1082 - val_accuracy: 0.9655\n",
            "Epoch 39/50\n",
            "11/11 [==============================] - 0s 7ms/step - loss: 0.1355 - accuracy: 0.9511 - val_loss: 0.1079 - val_accuracy: 0.9655\n",
            "Epoch 40/50\n",
            "11/11 [==============================] - 0s 8ms/step - loss: 0.1629 - accuracy: 0.9339 - val_loss: 0.1068 - val_accuracy: 0.9655\n",
            "Epoch 41/50\n",
            "11/11 [==============================] - 0s 8ms/step - loss: 0.1341 - accuracy: 0.9626 - val_loss: 0.1069 - val_accuracy: 0.9655\n",
            "Epoch 42/50\n",
            "11/11 [==============================] - 0s 8ms/step - loss: 0.1446 - accuracy: 0.9569 - val_loss: 0.1076 - val_accuracy: 0.9655\n",
            "Epoch 43/50\n",
            "11/11 [==============================] - 0s 8ms/step - loss: 0.1371 - accuracy: 0.9569 - val_loss: 0.1083 - val_accuracy: 0.9655\n",
            "Epoch 44/50\n",
            "11/11 [==============================] - 0s 8ms/step - loss: 0.1465 - accuracy: 0.9425 - val_loss: 0.1082 - val_accuracy: 0.9655\n",
            "Epoch 45/50\n",
            "11/11 [==============================] - 0s 9ms/step - loss: 0.1240 - accuracy: 0.9626 - val_loss: 0.1080 - val_accuracy: 0.9655\n",
            "Epoch 46/50\n",
            "11/11 [==============================] - 0s 8ms/step - loss: 0.1481 - accuracy: 0.9598 - val_loss: 0.1055 - val_accuracy: 0.9655\n",
            "Epoch 47/50\n",
            "11/11 [==============================] - 0s 8ms/step - loss: 0.1381 - accuracy: 0.9569 - val_loss: 0.1055 - val_accuracy: 0.9655\n",
            "Epoch 48/50\n",
            "11/11 [==============================] - 0s 9ms/step - loss: 0.1198 - accuracy: 0.9540 - val_loss: 0.1063 - val_accuracy: 0.9655\n",
            "Epoch 49/50\n",
            "11/11 [==============================] - 0s 8ms/step - loss: 0.1326 - accuracy: 0.9483 - val_loss: 0.1076 - val_accuracy: 0.9655\n",
            "Epoch 50/50\n",
            "11/11 [==============================] - 0s 9ms/step - loss: 0.1411 - accuracy: 0.9540 - val_loss: 0.1063 - val_accuracy: 0.9655\n"
          ]
        }
      ]
    },
    {
      "cell_type": "code",
      "source": [
        "plt.plot(h.history['accuracy'], label = 'Accuracy for Train set')\n",
        "plt.plot(h.history['val_accuracy'], label = 'Accuracy for Test Set')\n",
        "plt.title('Accuracy Graph for ANN')\n",
        "plt.ylabel('Accuracy')\n",
        "plt.xlabel('epochs')\n",
        "plt.legend()"
      ],
      "metadata": {
        "colab": {
          "base_uri": "https://localhost:8080/",
          "height": 312
        },
        "id": "9h1ii90fq379",
        "outputId": "6b3e2a42-0be4-4d9a-b8ec-2d1f15c3c7a7"
      },
      "execution_count": 88,
      "outputs": [
        {
          "output_type": "execute_result",
          "data": {
            "text/plain": [
              "<matplotlib.legend.Legend at 0x7f4c3b227210>"
            ]
          },
          "metadata": {},
          "execution_count": 88
        },
        {
          "output_type": "display_data",
          "data": {
            "text/plain": [
              "<Figure size 432x288 with 1 Axes>"
            ],
            "image/png": "[encoded data removed]"
          },
          "metadata": {
            "needs_background": "light"
          }
        }
      ]
    },
    {
      "cell_type": "code",
      "source": [
        "plt.plot(h.history['loss'], label = 'loss for Train set')\n",
        "plt.plot(h.history['val_loss'], label = 'loss for Test Set')\n",
        "plt.title('loss Graph for ANN')\n",
        "plt.ylabel('loss')\n",
        "plt.xlabel('epochs')\n",
        "plt.legend()"
      ],
      "metadata": {
        "colab": {
          "base_uri": "https://localhost:8080/",
          "height": 312
        },
        "id": "uNPGP2DVq35P",
        "outputId": "5e12be99-5202-4170-c483-e519bd1bc162"
      },
      "execution_count": 89,
      "outputs": [
        {
          "output_type": "execute_result",
          "data": {
            "text/plain": [
              "<matplotlib.legend.Legend at 0x7f4c3798a050>"
            ]
          },
          "metadata": {},
          "execution_count": 89
        },
        {
          "output_type": "display_data",
          "data": {
            "text/plain": [
              "<Figure size 432x288 with 1 Axes>"
            ],
            "image/png": "[encoded data removed]"
          },
          "metadata": {
            "needs_background": "light"
          }
        }
      ]
    },
    {
      "cell_type": "code",
      "source": [
        "y_pred_ann = model.predict_classes(X_test)\n",
        "print(\"Accuracy: \",accuracy_score(y_test,y_pred_ann))\n",
        "print(\"Recall: \", recall_score(y_test,y_pred_ann))\n",
        "print(\"Precision: \", precision_score(y_test,y_pred_ann))\n",
        "print(confusion_matrix(y_test,y_pred_ann))"
      ],
      "metadata": {
        "colab": {
          "base_uri": "https://localhost:8080/"
        },
        "id": "zMKxbL1Lq326",
        "outputId": "da2e9656-17fb-4902-990d-1e60ca259cd5"
      },
      "execution_count": 90,
      "outputs": [
        {
          "output_type": "stream",
          "name": "stderr",
          "text": [
            "/usr/local/lib/python3.7/dist-packages/tensorflow/python/keras/engine/sequential.py:455: UserWarning: `model.predict_classes()` is deprecated and will be removed after 2021-01-01. Please use instead:* `np.argmax(model.predict(x), axis=-1)`,   if your model does multi-class classification   (e.g. if it uses a `softmax` last-layer activation).* `(model.predict(x) > 0.5).astype(\"int32\")`,   if your model does binary classification   (e.g. if it uses a `sigmoid` last-layer activation).\n",
            "  warnings.warn('`model.predict_classes()` is deprecated and '\n"
          ]
        },
        {
          "output_type": "stream",
          "name": "stdout",
          "text": [
            "Accuracy:  0.9655172413793104\n",
            "Recall:  0.9714285714285714\n",
            "Precision:  0.9444444444444444\n",
            "[[50  2]\n",
            " [ 1 34]]\n"
          ]
        }
      ]
    },
    {
      "cell_type": "code",
      "source": [
        "rank8  = pd.read_excel(\"/content/voting84_dataset.xlsx\",sheet_name = \"Pearson_Correlation\").set_index('Attributes_Names')\n",
        "df_pearson =  df[rank8[:8].index]\n",
        "X_col =  df_pearson\n",
        "y = df['Class Name']\n",
        "Scaler = StandardScaler()\n",
        "X_col =  Scaler.fit_transform(X_col)\n",
        "X_train, X_test, y_train, y_test = train_test_split(X_col, y, test_size=0.2, random_state=0)\n",
        "print(\"Shape of training data\",X_train.shape)\n",
        "print(\"Shape of testing data\",X_test.shape)"
      ],
      "metadata": {
        "colab": {
          "base_uri": "https://localhost:8080/"
        },
        "id": "OzvxjcSYrFF6",
        "outputId": "077a1e69-6a0b-4c75-aabb-74f44314f9b8"
      },
      "execution_count": 91,
      "outputs": [
        {
          "output_type": "stream",
          "name": "stdout",
          "text": [
            "Shape of training data (348, 8)\n",
            "Shape of testing data (87, 8)\n"
          ]
        }
      ]
    },
    {
      "cell_type": "code",
      "source": [
        "rf =  RandomForestClassifier()\n",
        "rf.fit(X_train,y_train)\n",
        "y_pred_rf =  rf.predict(X_test)\n",
        "print(\"Accuracy: \",accuracy_score(y_test,y_pred_rf))\n",
        "print(\"Recall: \", recall_score(y_test,y_pred_rf))\n",
        "print(\"Precision: \", precision_score(y_test,y_pred_rf))\n",
        "print(confusion_matrix(y_test,y_pred_rf))"
      ],
      "metadata": {
        "colab": {
          "base_uri": "https://localhost:8080/"
        },
        "id": "u6c4IC4crTaT",
        "outputId": "1e49e334-77ab-40ad-fd89-2848be79cd16"
      },
      "execution_count": 92,
      "outputs": [
        {
          "output_type": "stream",
          "name": "stdout",
          "text": [
            "Accuracy:  0.9770114942528736\n",
            "Recall:  0.9714285714285714\n",
            "Precision:  0.9714285714285714\n",
            "[[51  1]\n",
            " [ 1 34]]\n"
          ]
        }
      ]
    },
    {
      "cell_type": "code",
      "source": [
        "svc =  SVC()\n",
        "svc.fit(X_test,y_test)\n",
        "y_pred_svc =  svc.predict(X_test)\n",
        "print(\"Accuracy: \",accuracy_score(y_test,y_pred_svc))\n",
        "print(\"Recall: \", recall_score(y_test,y_pred_svc))\n",
        "print(\"Precision: \", precision_score(y_test,y_pred_svc))\n",
        "print(confusion_matrix(y_test,y_pred_svc))"
      ],
      "metadata": {
        "colab": {
          "base_uri": "https://localhost:8080/"
        },
        "id": "NKxaLAFZrXYZ",
        "outputId": "031528ba-5919-4499-bb8c-82df02c38ffe"
      },
      "execution_count": 93,
      "outputs": [
        {
          "output_type": "stream",
          "name": "stdout",
          "text": [
            "Accuracy:  0.9770114942528736\n",
            "Recall:  0.9714285714285714\n",
            "Precision:  0.9714285714285714\n",
            "[[51  1]\n",
            " [ 1 34]]\n"
          ]
        }
      ]
    },
    {
      "cell_type": "code",
      "source": [
        "model = tf.keras.Sequential([\n",
        "    tf.keras.layers.Dense(8, activation='relu', input_shape=(8,)),\n",
        "    tf.keras.layers.BatchNormalization(),\n",
        "    tf.keras.layers.Dense(16, activation='relu'),\n",
        "    tf.keras.layers.BatchNormalization(),\n",
        "    tf.keras.layers.Dense(24, activation='relu'),\n",
        "    tf.keras.layers.Dropout(0.5), \n",
        "    tf.keras.layers.Dense(1,activation='sigmoid')\n",
        "  ])\n",
        "model.compile(loss='binary_crossentropy',\n",
        "              optimizer = 'adam',\n",
        "              metrics=['accuracy'])\n",
        "model.summary()"
      ],
      "metadata": {
        "colab": {
          "base_uri": "https://localhost:8080/"
        },
        "id": "KN6z3nj7rd8y",
        "outputId": "7429a05a-f136-463a-e142-6528f57d34ad"
      },
      "execution_count": 94,
      "outputs": [
        {
          "output_type": "stream",
          "name": "stdout",
          "text": [
            "Model: \"sequential_9\"\n",
            "_________________________________________________________________\n",
            "Layer (type)                 Output Shape              Param #   \n",
            "=================================================================\n",
            "dense_36 (Dense)             (None, 8)                 72        \n",
            "_________________________________________________________________\n",
            "batch_normalization_18 (Batc (None, 8)                 32        \n",
            "_________________________________________________________________\n",
            "dense_37 (Dense)             (None, 16)                144       \n",
            "_________________________________________________________________\n",
            "batch_normalization_19 (Batc (None, 16)                64        \n",
            "_________________________________________________________________\n",
            "dense_38 (Dense)             (None, 24)                408       \n",
            "_________________________________________________________________\n",
            "dropout_9 (Dropout)          (None, 24)                0         \n",
            "_________________________________________________________________\n",
            "dense_39 (Dense)             (None, 1)                 25        \n",
            "=================================================================\n",
            "Total params: 745\n",
            "Trainable params: 697\n",
            "Non-trainable params: 48\n",
            "_________________________________________________________________\n"
          ]
        }
      ]
    },
    {
      "cell_type": "code",
      "source": [
        "h = model.fit(X_train,y_train,epochs=50,validation_data=(X_test,y_test))"
      ],
      "metadata": {
        "colab": {
          "base_uri": "https://localhost:8080/"
        },
        "id": "LCIOKlEPrigM",
        "outputId": "ede56915-e933-4709-e288-1d7252bd5b2d"
      },
      "execution_count": 95,
      "outputs": [
        {
          "output_type": "stream",
          "name": "stdout",
          "text": [
            "Epoch 1/50\n",
            "11/11 [==============================] - 2s 36ms/step - loss: 0.7884 - accuracy: 0.4741 - val_loss: 0.6867 - val_accuracy: 0.5172\n",
            "Epoch 2/50\n",
            "11/11 [==============================] - 0s 8ms/step - loss: 0.6795 - accuracy: 0.5632 - val_loss: 0.6559 - val_accuracy: 0.7586\n",
            "Epoch 3/50\n",
            "11/11 [==============================] - 0s 8ms/step - loss: 0.5901 - accuracy: 0.6753 - val_loss: 0.6263 - val_accuracy: 0.7701\n",
            "Epoch 4/50\n",
            "11/11 [==============================] - 0s 11ms/step - loss: 0.5304 - accuracy: 0.7443 - val_loss: 0.5996 - val_accuracy: 0.7701\n",
            "Epoch 5/50\n",
            "11/11 [==============================] - 0s 7ms/step - loss: 0.5029 - accuracy: 0.7787 - val_loss: 0.5685 - val_accuracy: 0.7701\n",
            "Epoch 6/50\n",
            "11/11 [==============================] - 0s 8ms/step - loss: 0.4544 - accuracy: 0.8391 - val_loss: 0.5383 - val_accuracy: 0.9080\n",
            "Epoch 7/50\n",
            "11/11 [==============================] - 0s 9ms/step - loss: 0.4050 - accuracy: 0.8736 - val_loss: 0.5069 - val_accuracy: 0.9080\n",
            "Epoch 8/50\n",
            "11/11 [==============================] - 0s 8ms/step - loss: 0.3652 - accuracy: 0.8592 - val_loss: 0.4771 - val_accuracy: 0.9080\n",
            "Epoch 9/50\n",
            "11/11 [==============================] - 0s 9ms/step - loss: 0.3598 - accuracy: 0.8764 - val_loss: 0.4514 - val_accuracy: 0.9195\n",
            "Epoch 10/50\n",
            "11/11 [==============================] - 0s 10ms/step - loss: 0.3291 - accuracy: 0.8994 - val_loss: 0.4255 - val_accuracy: 0.9195\n",
            "Epoch 11/50\n",
            "11/11 [==============================] - 0s 8ms/step - loss: 0.2902 - accuracy: 0.9138 - val_loss: 0.3991 - val_accuracy: 0.9195\n",
            "Epoch 12/50\n",
            "11/11 [==============================] - 0s 8ms/step - loss: 0.2951 - accuracy: 0.9167 - val_loss: 0.3748 - val_accuracy: 0.9310\n",
            "Epoch 13/50\n",
            "11/11 [==============================] - 0s 9ms/step - loss: 0.2628 - accuracy: 0.9195 - val_loss: 0.3486 - val_accuracy: 0.9310\n",
            "Epoch 14/50\n",
            "11/11 [==============================] - 0s 7ms/step - loss: 0.2709 - accuracy: 0.9339 - val_loss: 0.3253 - val_accuracy: 0.9310\n",
            "Epoch 15/50\n",
            "11/11 [==============================] - 0s 9ms/step - loss: 0.2604 - accuracy: 0.9224 - val_loss: 0.3047 - val_accuracy: 0.9655\n",
            "Epoch 16/50\n",
            "11/11 [==============================] - 0s 9ms/step - loss: 0.2470 - accuracy: 0.9368 - val_loss: 0.2868 - val_accuracy: 0.9655\n",
            "Epoch 17/50\n",
            "11/11 [==============================] - 0s 9ms/step - loss: 0.2638 - accuracy: 0.9080 - val_loss: 0.2659 - val_accuracy: 0.9655\n",
            "Epoch 18/50\n",
            "11/11 [==============================] - 0s 8ms/step - loss: 0.2539 - accuracy: 0.9253 - val_loss: 0.2498 - val_accuracy: 0.9655\n",
            "Epoch 19/50\n",
            "11/11 [==============================] - 0s 8ms/step - loss: 0.2335 - accuracy: 0.9195 - val_loss: 0.2356 - val_accuracy: 0.9655\n",
            "Epoch 20/50\n",
            "11/11 [==============================] - 0s 8ms/step - loss: 0.2415 - accuracy: 0.9282 - val_loss: 0.2211 - val_accuracy: 0.9655\n",
            "Epoch 21/50\n",
            "11/11 [==============================] - 0s 9ms/step - loss: 0.2161 - accuracy: 0.9310 - val_loss: 0.2132 - val_accuracy: 0.9655\n",
            "Epoch 22/50\n",
            "11/11 [==============================] - 0s 9ms/step - loss: 0.1920 - accuracy: 0.9598 - val_loss: 0.2027 - val_accuracy: 0.9655\n",
            "Epoch 23/50\n",
            "11/11 [==============================] - 0s 9ms/step - loss: 0.2096 - accuracy: 0.9483 - val_loss: 0.1940 - val_accuracy: 0.9655\n",
            "Epoch 24/50\n",
            "11/11 [==============================] - 0s 8ms/step - loss: 0.2099 - accuracy: 0.9368 - val_loss: 0.1860 - val_accuracy: 0.9655\n",
            "Epoch 25/50\n",
            "11/11 [==============================] - 0s 8ms/step - loss: 0.1896 - accuracy: 0.9454 - val_loss: 0.1777 - val_accuracy: 0.9655\n",
            "Epoch 26/50\n",
            "11/11 [==============================] - 0s 8ms/step - loss: 0.1991 - accuracy: 0.9511 - val_loss: 0.1734 - val_accuracy: 0.9655\n",
            "Epoch 27/50\n",
            "11/11 [==============================] - 0s 8ms/step - loss: 0.1981 - accuracy: 0.9483 - val_loss: 0.1684 - val_accuracy: 0.9655\n",
            "Epoch 28/50\n",
            "11/11 [==============================] - 0s 8ms/step - loss: 0.2049 - accuracy: 0.9569 - val_loss: 0.1635 - val_accuracy: 0.9655\n",
            "Epoch 29/50\n",
            "11/11 [==============================] - 0s 8ms/step - loss: 0.1844 - accuracy: 0.9511 - val_loss: 0.1618 - val_accuracy: 0.9655\n",
            "Epoch 30/50\n",
            "11/11 [==============================] - 0s 9ms/step - loss: 0.1980 - accuracy: 0.9454 - val_loss: 0.1592 - val_accuracy: 0.9655\n",
            "Epoch 31/50\n",
            "11/11 [==============================] - 0s 8ms/step - loss: 0.1870 - accuracy: 0.9569 - val_loss: 0.1594 - val_accuracy: 0.9655\n",
            "Epoch 32/50\n",
            "11/11 [==============================] - 0s 8ms/step - loss: 0.1881 - accuracy: 0.9511 - val_loss: 0.1590 - val_accuracy: 0.9655\n",
            "Epoch 33/50\n",
            "11/11 [==============================] - 0s 8ms/step - loss: 0.1881 - accuracy: 0.9454 - val_loss: 0.1565 - val_accuracy: 0.9655\n",
            "Epoch 34/50\n",
            "11/11 [==============================] - 0s 9ms/step - loss: 0.1919 - accuracy: 0.9397 - val_loss: 0.1533 - val_accuracy: 0.9655\n",
            "Epoch 35/50\n",
            "11/11 [==============================] - 0s 8ms/step - loss: 0.1657 - accuracy: 0.9511 - val_loss: 0.1530 - val_accuracy: 0.9655\n",
            "Epoch 36/50\n",
            "11/11 [==============================] - 0s 8ms/step - loss: 0.1877 - accuracy: 0.9483 - val_loss: 0.1550 - val_accuracy: 0.9655\n",
            "Epoch 37/50\n",
            "11/11 [==============================] - 0s 8ms/step - loss: 0.1902 - accuracy: 0.9511 - val_loss: 0.1573 - val_accuracy: 0.9655\n",
            "Epoch 38/50\n",
            "11/11 [==============================] - 0s 8ms/step - loss: 0.1811 - accuracy: 0.9483 - val_loss: 0.1578 - val_accuracy: 0.9655\n",
            "Epoch 39/50\n",
            "11/11 [==============================] - 0s 8ms/step - loss: 0.1804 - accuracy: 0.9483 - val_loss: 0.1562 - val_accuracy: 0.9655\n",
            "Epoch 40/50\n",
            "11/11 [==============================] - 0s 9ms/step - loss: 0.1544 - accuracy: 0.9598 - val_loss: 0.1548 - val_accuracy: 0.9655\n",
            "Epoch 41/50\n",
            "11/11 [==============================] - 0s 8ms/step - loss: 0.1721 - accuracy: 0.9511 - val_loss: 0.1526 - val_accuracy: 0.9655\n",
            "Epoch 42/50\n",
            "11/11 [==============================] - 0s 8ms/step - loss: 0.1728 - accuracy: 0.9511 - val_loss: 0.1501 - val_accuracy: 0.9655\n",
            "Epoch 43/50\n",
            "11/11 [==============================] - 0s 8ms/step - loss: 0.1943 - accuracy: 0.9425 - val_loss: 0.1496 - val_accuracy: 0.9655\n",
            "Epoch 44/50\n",
            "11/11 [==============================] - 0s 8ms/step - loss: 0.1823 - accuracy: 0.9425 - val_loss: 0.1451 - val_accuracy: 0.9655\n",
            "Epoch 45/50\n",
            "11/11 [==============================] - 0s 9ms/step - loss: 0.1802 - accuracy: 0.9310 - val_loss: 0.1454 - val_accuracy: 0.9655\n",
            "Epoch 46/50\n",
            "11/11 [==============================] - 0s 9ms/step - loss: 0.2115 - accuracy: 0.9511 - val_loss: 0.1451 - val_accuracy: 0.9655\n",
            "Epoch 47/50\n",
            "11/11 [==============================] - 0s 8ms/step - loss: 0.1698 - accuracy: 0.9483 - val_loss: 0.1455 - val_accuracy: 0.9655\n",
            "Epoch 48/50\n",
            "11/11 [==============================] - 0s 8ms/step - loss: 0.1392 - accuracy: 0.9511 - val_loss: 0.1432 - val_accuracy: 0.9655\n",
            "Epoch 49/50\n",
            "11/11 [==============================] - 0s 8ms/step - loss: 0.2067 - accuracy: 0.9454 - val_loss: 0.1426 - val_accuracy: 0.9655\n",
            "Epoch 50/50\n",
            "11/11 [==============================] - 0s 8ms/step - loss: 0.1687 - accuracy: 0.9511 - val_loss: 0.1452 - val_accuracy: 0.9655\n"
          ]
        }
      ]
    },
    {
      "cell_type": "code",
      "source": [
        "plt.plot(h.history['accuracy'], label = 'Accuracy for Train set')\n",
        "plt.plot(h.history['val_accuracy'], label = 'Accuracy for Test Set')\n",
        "plt.title('Accuracy Graph for ANN')\n",
        "plt.ylabel('Accuracy')\n",
        "plt.xlabel('epochs')\n",
        "plt.legend()"
      ],
      "metadata": {
        "colab": {
          "base_uri": "https://localhost:8080/",
          "height": 312
        },
        "id": "ug65haWlrloQ",
        "outputId": "b60171f2-9a01-4789-9267-695f41d31821"
      },
      "execution_count": 96,
      "outputs": [
        {
          "output_type": "execute_result",
          "data": {
            "text/plain": [
              "<matplotlib.legend.Legend at 0x7f4c37bd6d10>"
            ]
          },
          "metadata": {},
          "execution_count": 96
        },
        {
          "output_type": "display_data",
          "data": {
            "text/plain": [
              "<Figure size 432x288 with 1 Axes>"
            ],
            "image/png": "[encoded data removed]"
          },
          "metadata": {
            "needs_background": "light"
          }
        }
      ]
    },
    {
      "cell_type": "code",
      "source": [
        "plt.plot(h.history['loss'], label = 'loss for Train set')\n",
        "plt.plot(h.history['val_loss'], label = 'loss for Test Set')\n",
        "plt.title('loss Graph for ANN')\n",
        "plt.ylabel('loss')\n",
        "plt.xlabel('epochs')\n",
        "plt.legend()"
      ],
      "metadata": {
        "colab": {
          "base_uri": "https://localhost:8080/",
          "height": 312
        },
        "id": "C5LYAaIhroPn",
        "outputId": "574a4cf5-c811-444f-f8d9-29c8ce4f82a4"
      },
      "execution_count": 97,
      "outputs": [
        {
          "output_type": "execute_result",
          "data": {
            "text/plain": [
              "<matplotlib.legend.Legend at 0x7f4c3727b450>"
            ]
          },
          "metadata": {},
          "execution_count": 97
        },
        {
          "output_type": "display_data",
          "data": {
            "text/plain": [
              "<Figure size 432x288 with 1 Axes>"
            ],
            "image/png": "[encoded data removed]"
          },
          "metadata": {
            "needs_background": "light"
          }
        }
      ]
    },
    {
      "cell_type": "code",
      "source": [
        "y_pred_ann = model.predict_classes(X_test)\n",
        "print(\"Accuracy: \",accuracy_score(y_test,y_pred_ann))\n",
        "print(\"Recall: \", recall_score(y_test,y_pred_ann))\n",
        "print(\"Precision: \", precision_score(y_test,y_pred_ann))\n",
        "print(confusion_matrix(y_test,y_pred_ann))"
      ],
      "metadata": {
        "colab": {
          "base_uri": "https://localhost:8080/"
        },
        "id": "-1GLewzSrqBB",
        "outputId": "391aa6cb-a365-4ce0-cbd6-4ca8ca61108a"
      },
      "execution_count": 98,
      "outputs": [
        {
          "output_type": "stream",
          "name": "stdout",
          "text": [
            "WARNING:tensorflow:5 out of the last 16 calls to <function Model.make_predict_function.<locals>.predict_function at 0x7f4c38482050> triggered tf.function retracing. Tracing is expensive and the excessive number of tracings could be due to (1) creating @tf.function repeatedly in a loop, (2) passing tensors with different shapes, (3) passing Python objects instead of tensors. For (1), please define your @tf.function outside of the loop. For (2), @tf.function has experimental_relax_shapes=True option that relaxes argument shapes that can avoid unnecessary retracing. For (3), please refer to https://www.tensorflow.org/guide/function#controlling_retracing and https://www.tensorflow.org/api_docs/python/tf/function for  more details.\n"
          ]
        },
        {
          "output_type": "stream",
          "name": "stderr",
          "text": [
            "/usr/local/lib/python3.7/dist-packages/tensorflow/python/keras/engine/sequential.py:455: UserWarning: `model.predict_classes()` is deprecated and will be removed after 2021-01-01. Please use instead:* `np.argmax(model.predict(x), axis=-1)`,   if your model does multi-class classification   (e.g. if it uses a `softmax` last-layer activation).* `(model.predict(x) > 0.5).astype(\"int32\")`,   if your model does binary classification   (e.g. if it uses a `sigmoid` last-layer activation).\n",
            "  warnings.warn('`model.predict_classes()` is deprecated and '\n"
          ]
        },
        {
          "output_type": "stream",
          "name": "stdout",
          "text": [
            "Accuracy:  0.9655172413793104\n",
            "Recall:  0.9428571428571428\n",
            "Precision:  0.9705882352941176\n",
            "[[51  1]\n",
            " [ 2 33]]\n"
          ]
        }
      ]
    },
    {
      "cell_type": "code",
      "source": [
        "OWA =  rank8  = pd.read_excel(\"/content/voting84_dataset.xlsx\",sheet_name = \"OWA_method\").set_index('Attributes_Name')\n",
        "df_owa  = df[OWA[:8].index]\n",
        "X_col =  df_owa\n",
        "y = df['Class Name']\n",
        "Scaler = StandardScaler()\n",
        "X_col =  Scaler.fit_transform(X_col)\n",
        "X_train, X_test, y_train, y_test = train_test_split(X_col, y, test_size=0.2, random_state=0)\n",
        "print(\"Shape of training data\",X_train.shape)\n",
        "print(\"Shape of testing data\",X_test.shape)"
      ],
      "metadata": {
        "colab": {
          "base_uri": "https://localhost:8080/"
        },
        "id": "BjHt0Wi4rwxU",
        "outputId": "05b44949-0646-4956-c506-df698ca49852"
      },
      "execution_count": 106,
      "outputs": [
        {
          "output_type": "stream",
          "name": "stdout",
          "text": [
            "Shape of training data (348, 8)\n",
            "Shape of testing data (87, 8)\n"
          ]
        }
      ]
    },
    {
      "cell_type": "code",
      "source": [
        "rf =  RandomForestClassifier()\n",
        "rf.fit(X_train,y_train)\n",
        "pred =  rf.predict(X_test)\n",
        "print(\"Accuracy: \",accuracy_score(y_test,pred))\n",
        "print(\"Recall: \", recall_score(y_test,pred))\n",
        "print(\"Precision: \", precision_score(y_test,pred))\n",
        "print(confusion_matrix(y_test,pred))"
      ],
      "metadata": {
        "colab": {
          "base_uri": "https://localhost:8080/"
        },
        "id": "7ZVtgle9r9kX",
        "outputId": "03607bbc-d22c-4bc5-a38d-ba56831a9b86"
      },
      "execution_count": 107,
      "outputs": [
        {
          "output_type": "stream",
          "name": "stdout",
          "text": [
            "Accuracy:  0.9540229885057471\n",
            "Recall:  0.9142857142857143\n",
            "Precision:  0.9696969696969697\n",
            "[[51  1]\n",
            " [ 3 32]]\n"
          ]
        }
      ]
    },
    {
      "cell_type": "code",
      "source": [
        "svc =  SVC()\n",
        "svc.fit(X_test,y_test)\n",
        "y_pred =  svc.predict(X_test)\n",
        "print(\"Accuracy: \",accuracy_score(y_test,y_pred))\n",
        "print(\"Recall: \", recall_score(y_test,y_pred))\n",
        "print(\"Precision: \", precision_score(y_test,y_pred))\n",
        "print(confusion_matrix(y_test,y_pred))"
      ],
      "metadata": {
        "colab": {
          "base_uri": "https://localhost:8080/"
        },
        "id": "qv_aP0hIsFWs",
        "outputId": "136b01a8-6db9-4359-c741-875edf0c16ae"
      },
      "execution_count": 108,
      "outputs": [
        {
          "output_type": "stream",
          "name": "stdout",
          "text": [
            "Accuracy:  0.9770114942528736\n",
            "Recall:  0.9714285714285714\n",
            "Precision:  0.9714285714285714\n",
            "[[51  1]\n",
            " [ 1 34]]\n"
          ]
        }
      ]
    },
    {
      "cell_type": "code",
      "source": [
        "model = tf.keras.Sequential([\n",
        "    tf.keras.layers.Dense(8, activation='relu', input_shape=(8,)),\n",
        "    tf.keras.layers.BatchNormalization(),\n",
        "    tf.keras.layers.Dense(16, activation='relu'),\n",
        "    tf.keras.layers.BatchNormalization(),\n",
        "    tf.keras.layers.Dense(24, activation='relu'),\n",
        "    tf.keras.layers.Dropout(0.5), \n",
        "    tf.keras.layers.Dense(1,activation='sigmoid')\n",
        "  ])\n",
        "model.compile(loss='binary_crossentropy',\n",
        "              optimizer = 'adam',\n",
        "              metrics=['accuracy'])\n",
        "model.summary()"
      ],
      "metadata": {
        "colab": {
          "base_uri": "https://localhost:8080/"
        },
        "id": "UaeGD90asSvi",
        "outputId": "f457c3a4-7b94-4d31-e4b2-99a941534bf8"
      },
      "execution_count": 109,
      "outputs": [
        {
          "output_type": "stream",
          "name": "stdout",
          "text": [
            "Model: \"sequential_10\"\n",
            "_________________________________________________________________\n",
            "Layer (type)                 Output Shape              Param #   \n",
            "=================================================================\n",
            "dense_40 (Dense)             (None, 8)                 72        \n",
            "_________________________________________________________________\n",
            "batch_normalization_20 (Batc (None, 8)                 32        \n",
            "_________________________________________________________________\n",
            "dense_41 (Dense)             (None, 16)                144       \n",
            "_________________________________________________________________\n",
            "batch_normalization_21 (Batc (None, 16)                64        \n",
            "_________________________________________________________________\n",
            "dense_42 (Dense)             (None, 24)                408       \n",
            "_________________________________________________________________\n",
            "dropout_10 (Dropout)         (None, 24)                0         \n",
            "_________________________________________________________________\n",
            "dense_43 (Dense)             (None, 1)                 25        \n",
            "=================================================================\n",
            "Total params: 745\n",
            "Trainable params: 697\n",
            "Non-trainable params: 48\n",
            "_________________________________________________________________\n"
          ]
        }
      ]
    },
    {
      "cell_type": "code",
      "source": [
        "h = model.fit(X_train,y_train,epochs=50,validation_data=(X_test,y_test))"
      ],
      "metadata": {
        "colab": {
          "base_uri": "https://localhost:8080/"
        },
        "id": "qEfw02ERsX5A",
        "outputId": "35ae8e68-da4d-4c30-aba2-ff71a97cdd19"
      },
      "execution_count": 110,
      "outputs": [
        {
          "output_type": "stream",
          "name": "stdout",
          "text": [
            "Epoch 1/50\n",
            "11/11 [==============================] - 2s 38ms/step - loss: 0.6436 - accuracy: 0.6523 - val_loss: 0.6687 - val_accuracy: 0.5862\n",
            "Epoch 2/50\n",
            "11/11 [==============================] - 0s 10ms/step - loss: 0.4959 - accuracy: 0.7902 - val_loss: 0.6406 - val_accuracy: 0.6667\n",
            "Epoch 3/50\n",
            "11/11 [==============================] - 0s 8ms/step - loss: 0.4434 - accuracy: 0.8534 - val_loss: 0.6071 - val_accuracy: 0.6782\n",
            "Epoch 4/50\n",
            "11/11 [==============================] - 0s 8ms/step - loss: 0.3830 - accuracy: 0.8678 - val_loss: 0.5736 - val_accuracy: 0.9655\n",
            "Epoch 5/50\n",
            "11/11 [==============================] - 0s 8ms/step - loss: 0.3695 - accuracy: 0.8621 - val_loss: 0.5366 - val_accuracy: 0.9655\n",
            "Epoch 6/50\n",
            "11/11 [==============================] - 0s 8ms/step - loss: 0.3360 - accuracy: 0.8879 - val_loss: 0.4960 - val_accuracy: 0.9655\n",
            "Epoch 7/50\n",
            "11/11 [==============================] - 0s 8ms/step - loss: 0.3020 - accuracy: 0.9052 - val_loss: 0.4584 - val_accuracy: 0.9425\n",
            "Epoch 8/50\n",
            "11/11 [==============================] - 0s 8ms/step - loss: 0.2578 - accuracy: 0.8994 - val_loss: 0.4214 - val_accuracy: 0.9425\n",
            "Epoch 9/50\n",
            "11/11 [==============================] - 0s 8ms/step - loss: 0.2536 - accuracy: 0.9253 - val_loss: 0.3865 - val_accuracy: 0.9425\n",
            "Epoch 10/50\n",
            "11/11 [==============================] - 0s 8ms/step - loss: 0.2268 - accuracy: 0.9224 - val_loss: 0.3513 - val_accuracy: 0.9540\n",
            "Epoch 11/50\n",
            "11/11 [==============================] - 0s 8ms/step - loss: 0.2195 - accuracy: 0.9109 - val_loss: 0.3184 - val_accuracy: 0.9540\n",
            "Epoch 12/50\n",
            "11/11 [==============================] - 0s 8ms/step - loss: 0.2114 - accuracy: 0.9339 - val_loss: 0.2895 - val_accuracy: 0.9540\n",
            "Epoch 13/50\n",
            "11/11 [==============================] - 0s 10ms/step - loss: 0.2012 - accuracy: 0.9511 - val_loss: 0.2655 - val_accuracy: 0.9540\n",
            "Epoch 14/50\n",
            "11/11 [==============================] - 0s 8ms/step - loss: 0.1902 - accuracy: 0.9397 - val_loss: 0.2462 - val_accuracy: 0.9540\n",
            "Epoch 15/50\n",
            "11/11 [==============================] - 0s 9ms/step - loss: 0.1975 - accuracy: 0.9368 - val_loss: 0.2275 - val_accuracy: 0.9540\n",
            "Epoch 16/50\n",
            "11/11 [==============================] - 0s 8ms/step - loss: 0.1981 - accuracy: 0.9397 - val_loss: 0.2125 - val_accuracy: 0.9540\n",
            "Epoch 17/50\n",
            "11/11 [==============================] - 0s 8ms/step - loss: 0.1873 - accuracy: 0.9339 - val_loss: 0.1995 - val_accuracy: 0.9655\n",
            "Epoch 18/50\n",
            "11/11 [==============================] - 0s 8ms/step - loss: 0.1857 - accuracy: 0.9425 - val_loss: 0.1869 - val_accuracy: 0.9540\n",
            "Epoch 19/50\n",
            "11/11 [==============================] - 0s 8ms/step - loss: 0.1839 - accuracy: 0.9397 - val_loss: 0.1752 - val_accuracy: 0.9540\n",
            "Epoch 20/50\n",
            "11/11 [==============================] - 0s 8ms/step - loss: 0.1738 - accuracy: 0.9454 - val_loss: 0.1644 - val_accuracy: 0.9655\n",
            "Epoch 21/50\n",
            "11/11 [==============================] - 0s 8ms/step - loss: 0.2021 - accuracy: 0.9397 - val_loss: 0.1546 - val_accuracy: 0.9655\n",
            "Epoch 22/50\n",
            "11/11 [==============================] - 0s 9ms/step - loss: 0.1450 - accuracy: 0.9483 - val_loss: 0.1493 - val_accuracy: 0.9655\n",
            "Epoch 23/50\n",
            "11/11 [==============================] - 0s 10ms/step - loss: 0.1622 - accuracy: 0.9569 - val_loss: 0.1434 - val_accuracy: 0.9655\n",
            "Epoch 24/50\n",
            "11/11 [==============================] - 0s 8ms/step - loss: 0.1832 - accuracy: 0.9425 - val_loss: 0.1408 - val_accuracy: 0.9540\n",
            "Epoch 25/50\n",
            "11/11 [==============================] - 0s 8ms/step - loss: 0.1782 - accuracy: 0.9425 - val_loss: 0.1387 - val_accuracy: 0.9540\n",
            "Epoch 26/50\n",
            "11/11 [==============================] - 0s 8ms/step - loss: 0.1822 - accuracy: 0.9368 - val_loss: 0.1389 - val_accuracy: 0.9540\n",
            "Epoch 27/50\n",
            "11/11 [==============================] - 0s 8ms/step - loss: 0.1514 - accuracy: 0.9626 - val_loss: 0.1373 - val_accuracy: 0.9425\n",
            "Epoch 28/50\n",
            "11/11 [==============================] - 0s 9ms/step - loss: 0.1504 - accuracy: 0.9511 - val_loss: 0.1375 - val_accuracy: 0.9425\n",
            "Epoch 29/50\n",
            "11/11 [==============================] - 0s 8ms/step - loss: 0.1744 - accuracy: 0.9368 - val_loss: 0.1348 - val_accuracy: 0.9425\n",
            "Epoch 30/50\n",
            "11/11 [==============================] - 0s 8ms/step - loss: 0.1425 - accuracy: 0.9511 - val_loss: 0.1317 - val_accuracy: 0.9540\n",
            "Epoch 31/50\n",
            "11/11 [==============================] - 0s 7ms/step - loss: 0.1526 - accuracy: 0.9511 - val_loss: 0.1307 - val_accuracy: 0.9540\n",
            "Epoch 32/50\n",
            "11/11 [==============================] - 0s 6ms/step - loss: 0.1713 - accuracy: 0.9454 - val_loss: 0.1283 - val_accuracy: 0.9540\n",
            "Epoch 33/50\n",
            "11/11 [==============================] - 0s 8ms/step - loss: 0.1580 - accuracy: 0.9483 - val_loss: 0.1267 - val_accuracy: 0.9655\n",
            "Epoch 34/50\n",
            "11/11 [==============================] - 0s 6ms/step - loss: 0.1871 - accuracy: 0.9483 - val_loss: 0.1257 - val_accuracy: 0.9655\n",
            "Epoch 35/50\n",
            "11/11 [==============================] - 0s 9ms/step - loss: 0.1343 - accuracy: 0.9483 - val_loss: 0.1235 - val_accuracy: 0.9655\n",
            "Epoch 36/50\n",
            "11/11 [==============================] - 0s 9ms/step - loss: 0.1614 - accuracy: 0.9454 - val_loss: 0.1229 - val_accuracy: 0.9655\n",
            "Epoch 37/50\n",
            "11/11 [==============================] - 0s 9ms/step - loss: 0.1512 - accuracy: 0.9454 - val_loss: 0.1228 - val_accuracy: 0.9655\n",
            "Epoch 38/50\n",
            "11/11 [==============================] - 0s 8ms/step - loss: 0.1455 - accuracy: 0.9483 - val_loss: 0.1224 - val_accuracy: 0.9655\n",
            "Epoch 39/50\n",
            "11/11 [==============================] - 0s 8ms/step - loss: 0.1527 - accuracy: 0.9511 - val_loss: 0.1209 - val_accuracy: 0.9655\n",
            "Epoch 40/50\n",
            "11/11 [==============================] - 0s 8ms/step - loss: 0.1562 - accuracy: 0.9483 - val_loss: 0.1205 - val_accuracy: 0.9655\n",
            "Epoch 41/50\n",
            "11/11 [==============================] - 0s 8ms/step - loss: 0.1563 - accuracy: 0.9425 - val_loss: 0.1211 - val_accuracy: 0.9655\n",
            "Epoch 42/50\n",
            "11/11 [==============================] - 0s 9ms/step - loss: 0.1416 - accuracy: 0.9454 - val_loss: 0.1210 - val_accuracy: 0.9655\n",
            "Epoch 43/50\n",
            "11/11 [==============================] - 0s 9ms/step - loss: 0.1479 - accuracy: 0.9540 - val_loss: 0.1209 - val_accuracy: 0.9655\n",
            "Epoch 44/50\n",
            "11/11 [==============================] - 0s 8ms/step - loss: 0.1479 - accuracy: 0.9483 - val_loss: 0.1199 - val_accuracy: 0.9655\n",
            "Epoch 45/50\n",
            "11/11 [==============================] - 0s 10ms/step - loss: 0.1544 - accuracy: 0.9454 - val_loss: 0.1188 - val_accuracy: 0.9655\n",
            "Epoch 46/50\n",
            "11/11 [==============================] - 0s 8ms/step - loss: 0.1436 - accuracy: 0.9598 - val_loss: 0.1184 - val_accuracy: 0.9655\n",
            "Epoch 47/50\n",
            "11/11 [==============================] - 0s 9ms/step - loss: 0.1687 - accuracy: 0.9511 - val_loss: 0.1186 - val_accuracy: 0.9655\n",
            "Epoch 48/50\n",
            "11/11 [==============================] - 0s 8ms/step - loss: 0.1471 - accuracy: 0.9425 - val_loss: 0.1182 - val_accuracy: 0.9540\n",
            "Epoch 49/50\n",
            "11/11 [==============================] - 0s 7ms/step - loss: 0.1389 - accuracy: 0.9511 - val_loss: 0.1183 - val_accuracy: 0.9540\n",
            "Epoch 50/50\n",
            "11/11 [==============================] - 0s 8ms/step - loss: 0.1259 - accuracy: 0.9540 - val_loss: 0.1178 - val_accuracy: 0.9540\n"
          ]
        }
      ]
    },
    {
      "cell_type": "code",
      "source": [
        "plt.plot(h.history['accuracy'], label = 'Accuracy for Train set')\n",
        "plt.plot(h.history['val_accuracy'], label = 'Accuracy for Test Set')\n",
        "plt.title('Accuracy Graph for ANN')\n",
        "plt.ylabel('Accuracy')\n",
        "plt.xlabel('epochs')\n",
        "plt.legend()"
      ],
      "metadata": {
        "colab": {
          "base_uri": "https://localhost:8080/",
          "height": 312
        },
        "id": "s3xy-A6EsZ4O",
        "outputId": "1c92637f-f4e9-43aa-82ce-34831c222389"
      },
      "execution_count": 111,
      "outputs": [
        {
          "output_type": "execute_result",
          "data": {
            "text/plain": [
              "<matplotlib.legend.Legend at 0x7f4c374ca810>"
            ]
          },
          "metadata": {},
          "execution_count": 111
        },
        {
          "output_type": "display_data",
          "data": {
            "text/plain": [
              "<Figure size 432x288 with 1 Axes>"
            ],
            "image/png": "[encoded data removed]"
          },
          "metadata": {
            "needs_background": "light"
          }
        }
      ]
    },
    {
      "cell_type": "code",
      "source": [
        "plt.plot(h.history['loss'], label = 'loss for Train set')\n",
        "plt.plot(h.history['val_loss'], label = 'loss for Test Set')\n",
        "plt.title('loss Graph for ANN')\n",
        "plt.ylabel('loss')\n",
        "plt.xlabel('epochs')\n",
        "plt.legend()"
      ],
      "metadata": {
        "colab": {
          "base_uri": "https://localhost:8080/",
          "height": 312
        },
        "id": "6pALx2Z3sc8Z",
        "outputId": "23f53c28-d60f-403f-cdfd-2180ca0c6f20"
      },
      "execution_count": 112,
      "outputs": [
        {
          "output_type": "execute_result",
          "data": {
            "text/plain": [
              "<matplotlib.legend.Legend at 0x7f4c382363d0>"
            ]
          },
          "metadata": {},
          "execution_count": 112
        },
        {
          "output_type": "display_data",
          "data": {
            "text/plain": [
              "<Figure size 432x288 with 1 Axes>"
            ],
            "image/png": "[encoded data removed]"
          },
          "metadata": {
            "needs_background": "light"
          }
        }
      ]
    },
    {
      "cell_type": "code",
      "source": [
        "y_pred_ann_owa = model.predict_classes(X_test)\n",
        "print(\"Accuracy: \",accuracy_score(y_test,y_pred_ann_owa))\n",
        "print(\"Recall: \", recall_score(y_test,y_pred_ann_owa))\n",
        "print(\"Precision: \", precision_score(y_test,y_pred_ann_owa))\n",
        "print(confusion_matrix(y_test,y_pred_ann_owa))"
      ],
      "metadata": {
        "colab": {
          "base_uri": "https://localhost:8080/"
        },
        "id": "6q216siRsfHj",
        "outputId": "3eac4f77-0a3a-433f-aab9-5fccc6470331"
      },
      "execution_count": 113,
      "outputs": [
        {
          "output_type": "stream",
          "name": "stdout",
          "text": [
            "WARNING:tensorflow:5 out of the last 13 calls to <function Model.make_predict_function.<locals>.predict_function at 0x7f4c3b07f170> triggered tf.function retracing. Tracing is expensive and the excessive number of tracings could be due to (1) creating @tf.function repeatedly in a loop, (2) passing tensors with different shapes, (3) passing Python objects instead of tensors. For (1), please define your @tf.function outside of the loop. For (2), @tf.function has experimental_relax_shapes=True option that relaxes argument shapes that can avoid unnecessary retracing. For (3), please refer to https://www.tensorflow.org/guide/function#controlling_retracing and https://www.tensorflow.org/api_docs/python/tf/function for  more details.\n"
          ]
        },
        {
          "output_type": "stream",
          "name": "stderr",
          "text": [
            "/usr/local/lib/python3.7/dist-packages/tensorflow/python/keras/engine/sequential.py:455: UserWarning: `model.predict_classes()` is deprecated and will be removed after 2021-01-01. Please use instead:* `np.argmax(model.predict(x), axis=-1)`,   if your model does multi-class classification   (e.g. if it uses a `softmax` last-layer activation).* `(model.predict(x) > 0.5).astype(\"int32\")`,   if your model does binary classification   (e.g. if it uses a `sigmoid` last-layer activation).\n",
            "  warnings.warn('`model.predict_classes()` is deprecated and '\n"
          ]
        },
        {
          "output_type": "stream",
          "name": "stdout",
          "text": [
            "Accuracy:  0.9540229885057471\n",
            "Recall:  0.9714285714285714\n",
            "Precision:  0.918918918918919\n",
            "[[49  3]\n",
            " [ 1 34]]\n"
          ]
        }
      ]
    },
    {
      "cell_type": "code",
      "source": [
        ""
      ],
      "metadata": {
        "id": "BMRPNxyAsmUL"
      },
      "execution_count": null,
      "outputs": []
    }
  ]
}