{
  "nbformat": 4,
  "nbformat_minor": 0,
  "metadata": {
    "colab": {
      "name": "Cancer_50%.ipynb",
      "provenance": [],
      "authorship_tag": "ABX9TyPUGdfOgAZGP3zQwgLk+ZPr",
      "include_colab_link": true
    },
    "kernelspec": {
      "name": "python3",
      "display_name": "Python 3"
    },
    "language_info": {
      "name": "python"
    }
  },
  "cells": [
    {
      "cell_type": "markdown",
      "metadata": {
        "id": "view-in-github",
        "colab_type": "text"
      },
      "source": [
        "<a href=\"https://colab.research.google.com/github/Noob919/Feature_selection/blob/main/Models_EVALS_50%25/Cancer_50_.ipynb\" target=\"_parent\"><img src=\"https://colab.research.google.com/assets/colab-badge.svg\" alt=\"Open In Colab\"/></a>"
      ]
    },
    {
      "cell_type": "code",
      "execution_count": 1,
      "metadata": {
        "colab": {
          "base_uri": "https://localhost:8080/"
        },
        "id": "If-QS-5YisCY",
        "outputId": "feb61084-1e44-48a3-e76a-05b8069073bd"
      },
      "outputs": [
        {
          "output_type": "stream",
          "name": "stdout",
          "text": [
            "Found existing installation: tensorflow 2.8.2+zzzcolab20220527125636\n",
            "Uninstalling tensorflow-2.8.2+zzzcolab20220527125636:\n",
            "  Would remove:\n",
            "    /usr/local/bin/estimator_ckpt_converter\n",
            "    /usr/local/bin/import_pb_to_tensorboard\n",
            "    /usr/local/bin/saved_model_cli\n",
            "    /usr/local/bin/tensorboard\n",
            "    /usr/local/bin/tf_upgrade_v2\n",
            "    /usr/local/bin/tflite_convert\n",
            "    /usr/local/bin/toco\n",
            "    /usr/local/bin/toco_from_protos\n",
            "    /usr/local/lib/python3.7/dist-packages/tensorflow-2.8.2+zzzcolab20220527125636.dist-info/*\n",
            "    /usr/local/lib/python3.7/dist-packages/tensorflow/*\n",
            "Proceed (y/n)? y\n",
            "\n",
            "  Successfully uninstalled tensorflow-2.8.2+zzzcolab20220527125636\n"
          ]
        }
      ],
      "source": [
        "!pip uninstall tensorflow"
      ]
    },
    {
      "cell_type": "code",
      "source": [
        "!pip install tensorflow==2.5"
      ],
      "metadata": {
        "colab": {
          "base_uri": "https://localhost:8080/",
          "height": 1000
        },
        "id": "bG0anEhKi4sM",
        "outputId": "c16b03b1-35bc-40dd-adc4-0490033b4cad"
      },
      "execution_count": 2,
      "outputs": [
        {
          "output_type": "stream",
          "name": "stdout",
          "text": [
            "Looking in indexes: https://pypi.org/simple, https://us-python.pkg.dev/colab-wheels/public/simple/\n",
            "Collecting tensorflow==2.5\n",
            "  Downloading tensorflow-2.5.0-cp37-cp37m-manylinux2010_x86_64.whl (454.3 MB)\n",
            "\u001b[K     |████████████████████████████████| 454.3 MB 15 kB/s \n",
            "\u001b[?25hCollecting tensorflow-estimator<2.6.0,>=2.5.0rc0\n",
            "  Downloading tensorflow_estimator-2.5.0-py2.py3-none-any.whl (462 kB)\n",
            "\u001b[K     |████████████████████████████████| 462 kB 49.3 MB/s \n",
            "\u001b[?25hCollecting flatbuffers~=1.12.0\n",
            "  Downloading flatbuffers-1.12-py2.py3-none-any.whl (15 kB)\n",
            "Collecting absl-py~=0.10\n",
            "  Downloading absl_py-0.15.0-py3-none-any.whl (132 kB)\n",
            "\u001b[K     |████████████████████████████████| 132 kB 59.1 MB/s \n",
            "\u001b[?25hRequirement already satisfied: six~=1.15.0 in /usr/local/lib/python3.7/dist-packages (from tensorflow==2.5) (1.15.0)\n",
            "Requirement already satisfied: opt-einsum~=3.3.0 in /usr/local/lib/python3.7/dist-packages (from tensorflow==2.5) (3.3.0)\n",
            "Collecting typing-extensions~=3.7.4\n",
            "  Downloading typing_extensions-3.7.4.3-py3-none-any.whl (22 kB)\n",
            "Collecting wrapt~=1.12.1\n",
            "  Downloading wrapt-1.12.1.tar.gz (27 kB)\n",
            "Collecting gast==0.4.0\n",
            "  Downloading gast-0.4.0-py3-none-any.whl (9.8 kB)\n",
            "Requirement already satisfied: wheel~=0.35 in /usr/local/lib/python3.7/dist-packages (from tensorflow==2.5) (0.37.1)\n",
            "Requirement already satisfied: tensorboard~=2.5 in /usr/local/lib/python3.7/dist-packages (from tensorflow==2.5) (2.8.0)\n",
            "Requirement already satisfied: protobuf>=3.9.2 in /usr/local/lib/python3.7/dist-packages (from tensorflow==2.5) (3.17.3)\n",
            "Requirement already satisfied: h5py~=3.1.0 in /usr/local/lib/python3.7/dist-packages (from tensorflow==2.5) (3.1.0)\n",
            "Requirement already satisfied: astunparse~=1.6.3 in /usr/local/lib/python3.7/dist-packages (from tensorflow==2.5) (1.6.3)\n",
            "Collecting keras-nightly~=2.5.0.dev\n",
            "  Downloading keras_nightly-2.5.0.dev2021032900-py2.py3-none-any.whl (1.2 MB)\n",
            "\u001b[K     |████████████████████████████████| 1.2 MB 38.9 MB/s \n",
            "\u001b[?25hRequirement already satisfied: keras-preprocessing~=1.1.2 in /usr/local/lib/python3.7/dist-packages (from tensorflow==2.5) (1.1.2)\n",
            "Collecting numpy~=1.19.2\n",
            "  Downloading numpy-1.19.5-cp37-cp37m-manylinux2010_x86_64.whl (14.8 MB)\n",
            "\u001b[K     |████████████████████████████████| 14.8 MB 40.9 MB/s \n",
            "\u001b[?25hRequirement already satisfied: termcolor~=1.1.0 in /usr/local/lib/python3.7/dist-packages (from tensorflow==2.5) (1.1.0)\n",
            "Requirement already satisfied: google-pasta~=0.2 in /usr/local/lib/python3.7/dist-packages (from tensorflow==2.5) (0.2.0)\n",
            "Collecting grpcio~=1.34.0\n",
            "  Downloading grpcio-1.34.1-cp37-cp37m-manylinux2014_x86_64.whl (4.0 MB)\n",
            "\u001b[K     |████████████████████████████████| 4.0 MB 46.7 MB/s \n",
            "\u001b[?25hRequirement already satisfied: cached-property in /usr/local/lib/python3.7/dist-packages (from h5py~=3.1.0->tensorflow==2.5) (1.5.2)\n",
            "Requirement already satisfied: tensorboard-data-server<0.7.0,>=0.6.0 in /usr/local/lib/python3.7/dist-packages (from tensorboard~=2.5->tensorflow==2.5) (0.6.1)\n",
            "Requirement already satisfied: markdown>=2.6.8 in /usr/local/lib/python3.7/dist-packages (from tensorboard~=2.5->tensorflow==2.5) (3.3.7)\n",
            "Requirement already satisfied: google-auth<3,>=1.6.3 in /usr/local/lib/python3.7/dist-packages (from tensorboard~=2.5->tensorflow==2.5) (1.35.0)\n",
            "Requirement already satisfied: google-auth-oauthlib<0.5,>=0.4.1 in /usr/local/lib/python3.7/dist-packages (from tensorboard~=2.5->tensorflow==2.5) (0.4.6)\n",
            "Requirement already satisfied: tensorboard-plugin-wit>=1.6.0 in /usr/local/lib/python3.7/dist-packages (from tensorboard~=2.5->tensorflow==2.5) (1.8.1)\n",
            "Requirement already satisfied: werkzeug>=0.11.15 in /usr/local/lib/python3.7/dist-packages (from tensorboard~=2.5->tensorflow==2.5) (1.0.1)\n",
            "Requirement already satisfied: requests<3,>=2.21.0 in /usr/local/lib/python3.7/dist-packages (from tensorboard~=2.5->tensorflow==2.5) (2.23.0)\n",
            "Requirement already satisfied: setuptools>=41.0.0 in /usr/local/lib/python3.7/dist-packages (from tensorboard~=2.5->tensorflow==2.5) (57.4.0)\n",
            "Requirement already satisfied: pyasn1-modules>=0.2.1 in /usr/local/lib/python3.7/dist-packages (from google-auth<3,>=1.6.3->tensorboard~=2.5->tensorflow==2.5) (0.2.8)\n",
            "Requirement already satisfied: rsa<5,>=3.1.4 in /usr/local/lib/python3.7/dist-packages (from google-auth<3,>=1.6.3->tensorboard~=2.5->tensorflow==2.5) (4.8)\n",
            "Requirement already satisfied: cachetools<5.0,>=2.0.0 in /usr/local/lib/python3.7/dist-packages (from google-auth<3,>=1.6.3->tensorboard~=2.5->tensorflow==2.5) (4.2.4)\n",
            "Requirement already satisfied: requests-oauthlib>=0.7.0 in /usr/local/lib/python3.7/dist-packages (from google-auth-oauthlib<0.5,>=0.4.1->tensorboard~=2.5->tensorflow==2.5) (1.3.1)\n",
            "Requirement already satisfied: importlib-metadata>=4.4 in /usr/local/lib/python3.7/dist-packages (from markdown>=2.6.8->tensorboard~=2.5->tensorflow==2.5) (4.11.4)\n",
            "Requirement already satisfied: zipp>=0.5 in /usr/local/lib/python3.7/dist-packages (from importlib-metadata>=4.4->markdown>=2.6.8->tensorboard~=2.5->tensorflow==2.5) (3.8.0)\n",
            "Requirement already satisfied: pyasn1<0.5.0,>=0.4.6 in /usr/local/lib/python3.7/dist-packages (from pyasn1-modules>=0.2.1->google-auth<3,>=1.6.3->tensorboard~=2.5->tensorflow==2.5) (0.4.8)\n",
            "Requirement already satisfied: urllib3!=1.25.0,!=1.25.1,<1.26,>=1.21.1 in /usr/local/lib/python3.7/dist-packages (from requests<3,>=2.21.0->tensorboard~=2.5->tensorflow==2.5) (1.24.3)\n",
            "Requirement already satisfied: certifi>=2017.4.17 in /usr/local/lib/python3.7/dist-packages (from requests<3,>=2.21.0->tensorboard~=2.5->tensorflow==2.5) (2022.6.15)\n",
            "Requirement already satisfied: idna<3,>=2.5 in /usr/local/lib/python3.7/dist-packages (from requests<3,>=2.21.0->tensorboard~=2.5->tensorflow==2.5) (2.10)\n",
            "Requirement already satisfied: chardet<4,>=3.0.2 in /usr/local/lib/python3.7/dist-packages (from requests<3,>=2.21.0->tensorboard~=2.5->tensorflow==2.5) (3.0.4)\n",
            "Requirement already satisfied: oauthlib>=3.0.0 in /usr/local/lib/python3.7/dist-packages (from requests-oauthlib>=0.7.0->google-auth-oauthlib<0.5,>=0.4.1->tensorboard~=2.5->tensorflow==2.5) (3.2.0)\n",
            "Building wheels for collected packages: wrapt\n",
            "  Building wheel for wrapt (setup.py) ... \u001b[?25l\u001b[?25hdone\n",
            "  Created wheel for wrapt: filename=wrapt-1.12.1-cp37-cp37m-linux_x86_64.whl size=68728 sha256=e8f72b0f493415d4d1305d3858e8c788843e32d2708693b5db01826017a5c736\n",
            "  Stored in directory: /root/.cache/pip/wheels/62/76/4c/aa25851149f3f6d9785f6c869387ad82b3fd37582fa8147ac6\n",
            "Successfully built wrapt\n",
            "Installing collected packages: typing-extensions, numpy, grpcio, absl-py, wrapt, tensorflow-estimator, keras-nightly, gast, flatbuffers, tensorflow\n",
            "  Attempting uninstall: typing-extensions\n",
            "    Found existing installation: typing-extensions 4.1.1\n",
            "    Uninstalling typing-extensions-4.1.1:\n",
            "      Successfully uninstalled typing-extensions-4.1.1\n",
            "  Attempting uninstall: numpy\n",
            "    Found existing installation: numpy 1.21.6\n",
            "    Uninstalling numpy-1.21.6:\n",
            "      Successfully uninstalled numpy-1.21.6\n",
            "  Attempting uninstall: grpcio\n",
            "    Found existing installation: grpcio 1.46.3\n",
            "    Uninstalling grpcio-1.46.3:\n",
            "      Successfully uninstalled grpcio-1.46.3\n",
            "  Attempting uninstall: absl-py\n",
            "    Found existing installation: absl-py 1.1.0\n",
            "    Uninstalling absl-py-1.1.0:\n",
            "      Successfully uninstalled absl-py-1.1.0\n",
            "  Attempting uninstall: wrapt\n",
            "    Found existing installation: wrapt 1.14.1\n",
            "    Uninstalling wrapt-1.14.1:\n",
            "      Successfully uninstalled wrapt-1.14.1\n",
            "  Attempting uninstall: tensorflow-estimator\n",
            "    Found existing installation: tensorflow-estimator 2.8.0\n",
            "    Uninstalling tensorflow-estimator-2.8.0:\n",
            "      Successfully uninstalled tensorflow-estimator-2.8.0\n",
            "  Attempting uninstall: gast\n",
            "    Found existing installation: gast 0.5.3\n",
            "    Uninstalling gast-0.5.3:\n",
            "      Successfully uninstalled gast-0.5.3\n",
            "  Attempting uninstall: flatbuffers\n",
            "    Found existing installation: flatbuffers 2.0\n",
            "    Uninstalling flatbuffers-2.0:\n",
            "      Successfully uninstalled flatbuffers-2.0\n",
            "\u001b[31mERROR: pip's dependency resolver does not currently take into account all the packages that are installed. This behaviour is the source of the following dependency conflicts.\n",
            "xarray-einstats 0.2.2 requires numpy>=1.21, but you have numpy 1.19.5 which is incompatible.\n",
            "datascience 0.10.6 requires folium==0.2.1, but you have folium 0.8.3 which is incompatible.\n",
            "albumentations 0.1.12 requires imgaug<0.2.7,>=0.2.5, but you have imgaug 0.2.9 which is incompatible.\u001b[0m\n",
            "Successfully installed absl-py-0.15.0 flatbuffers-1.12 gast-0.4.0 grpcio-1.34.1 keras-nightly-2.5.0.dev2021032900 numpy-1.19.5 tensorflow-2.5.0 tensorflow-estimator-2.5.0 typing-extensions-3.7.4.3 wrapt-1.12.1\n"
          ]
        },
        {
          "output_type": "display_data",
          "data": {
            "application/vnd.colab-display-data+json": {
              "pip_warning": {
                "packages": [
                  "numpy",
                  "typing_extensions"
                ]
              }
            }
          },
          "metadata": {}
        }
      ]
    },
    {
      "cell_type": "code",
      "source": [
        "import numpy as np\n",
        "import pandas as pd\n",
        "from sklearn import preprocessing\n",
        "from sklearn.model_selection import train_test_split\n",
        "from sklearn.ensemble import RandomForestClassifier\n",
        "from sklearn.svm import SVC\n",
        "from sklearn.metrics import accuracy_score\n",
        "from sklearn.preprocessing import LabelEncoder\n",
        "from sklearn.preprocessing import StandardScaler\n",
        "import matplotlib.pyplot as plt\n",
        "import seaborn as sns\n",
        "import tensorflow as tf\n",
        "from tensorflow.keras import datasets, layers, models,Sequential\n",
        "from sklearn.metrics import confusion_matrix\n",
        "from sklearn.metrics import recall_score,precision_score"
      ],
      "metadata": {
        "id": "4GRi6-m-jEgN"
      },
      "execution_count": 13,
      "outputs": []
    },
    {
      "cell_type": "code",
      "source": [
        "df = pd.read_csv(\"/content/cancer.csv\")\n",
        "df_new = df.drop(['id','Unnamed: 32'],axis =1)\n",
        "df_new['diagnosis'] = LabelEncoder().fit_transform(df_new['diagnosis'])\n",
        "y = df_new['diagnosis']"
      ],
      "metadata": {
        "id": "AroqNKDHjY2i"
      },
      "execution_count": 14,
      "outputs": []
    },
    {
      "cell_type": "code",
      "source": [
        "Scaler = StandardScaler()"
      ],
      "metadata": {
        "id": "MWKF5QuJjh5N"
      },
      "execution_count": 15,
      "outputs": []
    },
    {
      "cell_type": "code",
      "source": [
        "rank1 = pd.read_excel(\"/content/cancer_dataset_U.xlsx\",sheet_name = \"Chi_2\").set_index('Attributes_Names')\n",
        "df_chi = df_new[rank1[:15].index]"
      ],
      "metadata": {
        "id": "I2AajGaYjmwn"
      },
      "execution_count": 16,
      "outputs": []
    },
    {
      "cell_type": "code",
      "source": [
        "X_col =  df_chi\n",
        "y = df_new['diagnosis']\n",
        "Scaler = StandardScaler()\n",
        "X_col =  Scaler.fit_transform(X_col)\n",
        "X_train, X_test, y_train, y_test = train_test_split(X_col, y, test_size=0.2, random_state=0)\n",
        "print(\"Shape of training data\",X_train.shape)\n",
        "print(\"Shape of testing data\",X_test.shape)"
      ],
      "metadata": {
        "colab": {
          "base_uri": "https://localhost:8080/"
        },
        "id": "QE0ZUzhTjoeg",
        "outputId": "51228c30-dbac-4d3e-c8ee-acc0d6ec52fa"
      },
      "execution_count": 17,
      "outputs": [
        {
          "output_type": "stream",
          "name": "stdout",
          "text": [
            "Shape of training data (455, 15)\n",
            "Shape of testing data (114, 15)\n"
          ]
        }
      ]
    },
    {
      "cell_type": "markdown",
      "source": [
        "CHI Square"
      ],
      "metadata": {
        "id": "7OEbG_TzmQ4h"
      }
    },
    {
      "cell_type": "markdown",
      "source": [
        "Random Forest"
      ],
      "metadata": {
        "id": "0PrmA1aTmUrJ"
      }
    },
    {
      "cell_type": "code",
      "source": [
        "rf =  RandomForestClassifier()\n",
        "rf.fit(X_train,y_train)\n",
        "y_pred_rf =  rf.predict(X_test)\n",
        "print(\"Accuracy: \",accuracy_score(y_test,y_pred_rf))\n",
        "print(\"Recall: \", recall_score(y_test,y_pred_rf))\n",
        "print(\"Precision: \", precision_score(y_test,y_pred_rf))\n",
        "print(confusion_matrix(y_test,y_pred_rf))"
      ],
      "metadata": {
        "colab": {
          "base_uri": "https://localhost:8080/"
        },
        "id": "qaUW18J2lASV",
        "outputId": "c2b19ac9-cf02-4333-f4c6-f4c57632afdf"
      },
      "execution_count": 18,
      "outputs": [
        {
          "output_type": "stream",
          "name": "stdout",
          "text": [
            "Accuracy:  0.956140350877193\n",
            "Recall:  0.9574468085106383\n",
            "Precision:  0.9375\n",
            "[[64  3]\n",
            " [ 2 45]]\n"
          ]
        }
      ]
    },
    {
      "cell_type": "markdown",
      "source": [
        "SVM"
      ],
      "metadata": {
        "id": "PbXs0b_bmWtT"
      }
    },
    {
      "cell_type": "code",
      "source": [
        "svc =  SVC()\n",
        "svc.fit(X_test,y_test)\n",
        "y_pred_svc =  svc.predict(X_test)\n",
        "print(\"Accuracy: \",accuracy_score(y_test,y_pred_svc))\n",
        "print(\"Recall: \", recall_score(y_test,y_pred_svc))\n",
        "print(\"Precision: \", precision_score(y_test,y_pred_svc))"
      ],
      "metadata": {
        "colab": {
          "base_uri": "https://localhost:8080/"
        },
        "id": "RUXw00UDlQeN",
        "outputId": "42b95fac-4a10-41dc-b865-09a194a49b9d"
      },
      "execution_count": 19,
      "outputs": [
        {
          "output_type": "stream",
          "name": "stdout",
          "text": [
            "Accuracy:  0.9649122807017544\n",
            "Recall:  0.9574468085106383\n",
            "Precision:  0.9574468085106383\n"
          ]
        }
      ]
    },
    {
      "cell_type": "markdown",
      "source": [
        "ANN"
      ],
      "metadata": {
        "id": "uBSV0AFSmXvS"
      }
    },
    {
      "cell_type": "code",
      "source": [
        "model = tf.keras.Sequential([\n",
        "    tf.keras.layers.Dense(15, activation='relu', input_shape=(15,)),\n",
        "    tf.keras.layers.BatchNormalization(),\n",
        "    tf.keras.layers.Dense(20, activation='relu'),\n",
        "    tf.keras.layers.BatchNormalization(),\n",
        "    tf.keras.layers.Dense(24, activation='relu'),\n",
        "    tf.keras.layers.Dropout(0.5),\n",
        "    tf.keras.layers.BatchNormalization(),\n",
        "    tf.keras.layers.Dense(28, activation='relu'),\n",
        "    tf.keras.layers.Dropout(0.5),\n",
        "    tf.keras.layers.Dense(1,activation='sigmoid')\n",
        "  ])"
      ],
      "metadata": {
        "id": "8jcnRpwylSzd"
      },
      "execution_count": 20,
      "outputs": []
    },
    {
      "cell_type": "code",
      "source": [
        "model.compile(loss='binary_crossentropy',\n",
        "              optimizer = 'adam',\n",
        "              metrics=['accuracy'])\n",
        "model.summary()"
      ],
      "metadata": {
        "colab": {
          "base_uri": "https://localhost:8080/"
        },
        "id": "76bcfDzwlZOo",
        "outputId": "ebb7bcea-64b2-4dda-e0fa-10088ae0cd08"
      },
      "execution_count": 21,
      "outputs": [
        {
          "output_type": "stream",
          "name": "stdout",
          "text": [
            "Model: \"sequential\"\n",
            "_________________________________________________________________\n",
            "Layer (type)                 Output Shape              Param #   \n",
            "=================================================================\n",
            "dense (Dense)                (None, 15)                240       \n",
            "_________________________________________________________________\n",
            "batch_normalization (BatchNo (None, 15)                60        \n",
            "_________________________________________________________________\n",
            "dense_1 (Dense)              (None, 20)                320       \n",
            "_________________________________________________________________\n",
            "batch_normalization_1 (Batch (None, 20)                80        \n",
            "_________________________________________________________________\n",
            "dense_2 (Dense)              (None, 24)                504       \n",
            "_________________________________________________________________\n",
            "dropout (Dropout)            (None, 24)                0         \n",
            "_________________________________________________________________\n",
            "batch_normalization_2 (Batch (None, 24)                96        \n",
            "_________________________________________________________________\n",
            "dense_3 (Dense)              (None, 28)                700       \n",
            "_________________________________________________________________\n",
            "dropout_1 (Dropout)          (None, 28)                0         \n",
            "_________________________________________________________________\n",
            "dense_4 (Dense)              (None, 1)                 29        \n",
            "=================================================================\n",
            "Total params: 2,029\n",
            "Trainable params: 1,911\n",
            "Non-trainable params: 118\n",
            "_________________________________________________________________\n"
          ]
        }
      ]
    },
    {
      "cell_type": "code",
      "source": [
        "h = model.fit(X_train,y_train,epochs=100,validation_data=(X_test,y_test))"
      ],
      "metadata": {
        "colab": {
          "base_uri": "https://localhost:8080/"
        },
        "id": "SthMOrVglfhF",
        "outputId": "9a44cfe3-3887-4479-d114-1a50d5d7d19d"
      },
      "execution_count": 22,
      "outputs": [
        {
          "output_type": "stream",
          "name": "stdout",
          "text": [
            "Epoch 1/100\n",
            "15/15 [==============================] - 2s 21ms/step - loss: 0.6337 - accuracy: 0.6418 - val_loss: 0.6202 - val_accuracy: 0.8509\n",
            "Epoch 2/100\n",
            "15/15 [==============================] - 0s 4ms/step - loss: 0.5940 - accuracy: 0.6901 - val_loss: 0.5775 - val_accuracy: 0.9386\n",
            "Epoch 3/100\n",
            "15/15 [==============================] - 0s 4ms/step - loss: 0.5139 - accuracy: 0.7692 - val_loss: 0.5366 - val_accuracy: 0.9386\n",
            "Epoch 4/100\n",
            "15/15 [==============================] - 0s 5ms/step - loss: 0.4676 - accuracy: 0.8132 - val_loss: 0.4922 - val_accuracy: 0.9298\n",
            "Epoch 5/100\n",
            "15/15 [==============================] - 0s 5ms/step - loss: 0.4247 - accuracy: 0.8264 - val_loss: 0.4460 - val_accuracy: 0.9211\n",
            "Epoch 6/100\n",
            "15/15 [==============================] - 0s 4ms/step - loss: 0.3989 - accuracy: 0.8418 - val_loss: 0.3992 - val_accuracy: 0.9298\n",
            "Epoch 7/100\n",
            "15/15 [==============================] - 0s 4ms/step - loss: 0.3605 - accuracy: 0.8637 - val_loss: 0.3523 - val_accuracy: 0.9474\n",
            "Epoch 8/100\n",
            "15/15 [==============================] - 0s 5ms/step - loss: 0.3271 - accuracy: 0.8835 - val_loss: 0.3116 - val_accuracy: 0.9474\n",
            "Epoch 9/100\n",
            "15/15 [==============================] - 0s 6ms/step - loss: 0.3137 - accuracy: 0.8835 - val_loss: 0.2716 - val_accuracy: 0.9474\n",
            "Epoch 10/100\n",
            "15/15 [==============================] - 0s 5ms/step - loss: 0.2862 - accuracy: 0.9011 - val_loss: 0.2405 - val_accuracy: 0.9474\n",
            "Epoch 11/100\n",
            "15/15 [==============================] - 0s 6ms/step - loss: 0.2313 - accuracy: 0.9363 - val_loss: 0.2109 - val_accuracy: 0.9474\n",
            "Epoch 12/100\n",
            "15/15 [==============================] - 0s 4ms/step - loss: 0.2703 - accuracy: 0.9055 - val_loss: 0.1862 - val_accuracy: 0.9474\n",
            "Epoch 13/100\n",
            "15/15 [==============================] - 0s 6ms/step - loss: 0.2541 - accuracy: 0.9077 - val_loss: 0.1711 - val_accuracy: 0.9561\n",
            "Epoch 14/100\n",
            "15/15 [==============================] - 0s 4ms/step - loss: 0.2309 - accuracy: 0.9165 - val_loss: 0.1571 - val_accuracy: 0.9649\n",
            "Epoch 15/100\n",
            "15/15 [==============================] - 0s 4ms/step - loss: 0.2250 - accuracy: 0.9187 - val_loss: 0.1451 - val_accuracy: 0.9649\n",
            "Epoch 16/100\n",
            "15/15 [==============================] - 0s 5ms/step - loss: 0.2277 - accuracy: 0.9187 - val_loss: 0.1343 - val_accuracy: 0.9649\n",
            "Epoch 17/100\n",
            "15/15 [==============================] - 0s 5ms/step - loss: 0.1961 - accuracy: 0.9209 - val_loss: 0.1281 - val_accuracy: 0.9561\n",
            "Epoch 18/100\n",
            "15/15 [==============================] - 0s 6ms/step - loss: 0.2355 - accuracy: 0.9143 - val_loss: 0.1217 - val_accuracy: 0.9649\n",
            "Epoch 19/100\n",
            "15/15 [==============================] - 0s 4ms/step - loss: 0.1771 - accuracy: 0.9451 - val_loss: 0.1174 - val_accuracy: 0.9649\n",
            "Epoch 20/100\n",
            "15/15 [==============================] - 0s 6ms/step - loss: 0.1954 - accuracy: 0.9363 - val_loss: 0.1144 - val_accuracy: 0.9649\n",
            "Epoch 21/100\n",
            "15/15 [==============================] - 0s 4ms/step - loss: 0.1768 - accuracy: 0.9451 - val_loss: 0.1115 - val_accuracy: 0.9474\n",
            "Epoch 22/100\n",
            "15/15 [==============================] - 0s 6ms/step - loss: 0.1532 - accuracy: 0.9429 - val_loss: 0.1086 - val_accuracy: 0.9561\n",
            "Epoch 23/100\n",
            "15/15 [==============================] - 0s 5ms/step - loss: 0.1542 - accuracy: 0.9495 - val_loss: 0.1078 - val_accuracy: 0.9474\n",
            "Epoch 24/100\n",
            "15/15 [==============================] - 0s 4ms/step - loss: 0.1806 - accuracy: 0.9341 - val_loss: 0.1052 - val_accuracy: 0.9561\n",
            "Epoch 25/100\n",
            "15/15 [==============================] - 0s 4ms/step - loss: 0.1558 - accuracy: 0.9538 - val_loss: 0.1036 - val_accuracy: 0.9649\n",
            "Epoch 26/100\n",
            "15/15 [==============================] - 0s 4ms/step - loss: 0.1471 - accuracy: 0.9495 - val_loss: 0.1004 - val_accuracy: 0.9649\n",
            "Epoch 27/100\n",
            "15/15 [==============================] - 0s 5ms/step - loss: 0.1525 - accuracy: 0.9604 - val_loss: 0.0987 - val_accuracy: 0.9649\n",
            "Epoch 28/100\n",
            "15/15 [==============================] - 0s 7ms/step - loss: 0.1361 - accuracy: 0.9582 - val_loss: 0.0971 - val_accuracy: 0.9649\n",
            "Epoch 29/100\n",
            "15/15 [==============================] - 0s 4ms/step - loss: 0.1250 - accuracy: 0.9538 - val_loss: 0.0957 - val_accuracy: 0.9649\n",
            "Epoch 30/100\n",
            "15/15 [==============================] - 0s 6ms/step - loss: 0.1821 - accuracy: 0.9297 - val_loss: 0.0949 - val_accuracy: 0.9649\n",
            "Epoch 31/100\n",
            "15/15 [==============================] - 0s 6ms/step - loss: 0.1033 - accuracy: 0.9714 - val_loss: 0.0934 - val_accuracy: 0.9649\n",
            "Epoch 32/100\n",
            "15/15 [==============================] - 0s 5ms/step - loss: 0.1319 - accuracy: 0.9626 - val_loss: 0.0928 - val_accuracy: 0.9649\n",
            "Epoch 33/100\n",
            "15/15 [==============================] - 0s 4ms/step - loss: 0.1466 - accuracy: 0.9626 - val_loss: 0.0942 - val_accuracy: 0.9649\n",
            "Epoch 34/100\n",
            "15/15 [==============================] - 0s 5ms/step - loss: 0.1048 - accuracy: 0.9626 - val_loss: 0.0980 - val_accuracy: 0.9649\n",
            "Epoch 35/100\n",
            "15/15 [==============================] - 0s 4ms/step - loss: 0.1474 - accuracy: 0.9560 - val_loss: 0.1042 - val_accuracy: 0.9474\n",
            "Epoch 36/100\n",
            "15/15 [==============================] - 0s 5ms/step - loss: 0.1161 - accuracy: 0.9692 - val_loss: 0.1041 - val_accuracy: 0.9474\n",
            "Epoch 37/100\n",
            "15/15 [==============================] - 0s 4ms/step - loss: 0.1264 - accuracy: 0.9473 - val_loss: 0.1035 - val_accuracy: 0.9474\n",
            "Epoch 38/100\n",
            "15/15 [==============================] - 0s 4ms/step - loss: 0.1224 - accuracy: 0.9626 - val_loss: 0.0973 - val_accuracy: 0.9561\n",
            "Epoch 39/100\n",
            "15/15 [==============================] - 0s 5ms/step - loss: 0.1452 - accuracy: 0.9516 - val_loss: 0.0943 - val_accuracy: 0.9649\n",
            "Epoch 40/100\n",
            "15/15 [==============================] - 0s 4ms/step - loss: 0.1559 - accuracy: 0.9495 - val_loss: 0.0919 - val_accuracy: 0.9649\n",
            "Epoch 41/100\n",
            "15/15 [==============================] - 0s 4ms/step - loss: 0.1168 - accuracy: 0.9626 - val_loss: 0.0907 - val_accuracy: 0.9649\n",
            "Epoch 42/100\n",
            "15/15 [==============================] - 0s 5ms/step - loss: 0.1692 - accuracy: 0.9451 - val_loss: 0.0935 - val_accuracy: 0.9649\n",
            "Epoch 43/100\n",
            "15/15 [==============================] - 0s 5ms/step - loss: 0.1422 - accuracy: 0.9538 - val_loss: 0.0906 - val_accuracy: 0.9649\n",
            "Epoch 44/100\n",
            "15/15 [==============================] - 0s 7ms/step - loss: 0.1190 - accuracy: 0.9626 - val_loss: 0.0909 - val_accuracy: 0.9649\n",
            "Epoch 45/100\n",
            "15/15 [==============================] - 0s 5ms/step - loss: 0.1219 - accuracy: 0.9451 - val_loss: 0.0894 - val_accuracy: 0.9561\n",
            "Epoch 46/100\n",
            "15/15 [==============================] - 0s 4ms/step - loss: 0.1080 - accuracy: 0.9692 - val_loss: 0.0852 - val_accuracy: 0.9561\n",
            "Epoch 47/100\n",
            "15/15 [==============================] - 0s 6ms/step - loss: 0.0987 - accuracy: 0.9626 - val_loss: 0.0868 - val_accuracy: 0.9561\n",
            "Epoch 48/100\n",
            "15/15 [==============================] - 0s 5ms/step - loss: 0.1191 - accuracy: 0.9604 - val_loss: 0.0868 - val_accuracy: 0.9561\n",
            "Epoch 49/100\n",
            "15/15 [==============================] - 0s 5ms/step - loss: 0.1009 - accuracy: 0.9604 - val_loss: 0.0783 - val_accuracy: 0.9649\n",
            "Epoch 50/100\n",
            "15/15 [==============================] - 0s 4ms/step - loss: 0.1710 - accuracy: 0.9538 - val_loss: 0.0780 - val_accuracy: 0.9561\n",
            "Epoch 51/100\n",
            "15/15 [==============================] - 0s 4ms/step - loss: 0.0882 - accuracy: 0.9670 - val_loss: 0.0806 - val_accuracy: 0.9561\n",
            "Epoch 52/100\n",
            "15/15 [==============================] - 0s 4ms/step - loss: 0.0929 - accuracy: 0.9692 - val_loss: 0.0805 - val_accuracy: 0.9561\n",
            "Epoch 53/100\n",
            "15/15 [==============================] - 0s 5ms/step - loss: 0.1294 - accuracy: 0.9582 - val_loss: 0.0820 - val_accuracy: 0.9561\n",
            "Epoch 54/100\n",
            "15/15 [==============================] - 0s 5ms/step - loss: 0.1041 - accuracy: 0.9626 - val_loss: 0.0891 - val_accuracy: 0.9561\n",
            "Epoch 55/100\n",
            "15/15 [==============================] - 0s 4ms/step - loss: 0.1070 - accuracy: 0.9692 - val_loss: 0.0912 - val_accuracy: 0.9561\n",
            "Epoch 56/100\n",
            "15/15 [==============================] - 0s 4ms/step - loss: 0.1446 - accuracy: 0.9538 - val_loss: 0.0920 - val_accuracy: 0.9649\n",
            "Epoch 57/100\n",
            "15/15 [==============================] - 0s 6ms/step - loss: 0.1379 - accuracy: 0.9648 - val_loss: 0.0902 - val_accuracy: 0.9649\n",
            "Epoch 58/100\n",
            "15/15 [==============================] - 0s 4ms/step - loss: 0.0894 - accuracy: 0.9692 - val_loss: 0.1024 - val_accuracy: 0.9649\n",
            "Epoch 59/100\n",
            "15/15 [==============================] - 0s 5ms/step - loss: 0.1225 - accuracy: 0.9582 - val_loss: 0.1061 - val_accuracy: 0.9649\n",
            "Epoch 60/100\n",
            "15/15 [==============================] - 0s 5ms/step - loss: 0.1342 - accuracy: 0.9538 - val_loss: 0.0983 - val_accuracy: 0.9649\n",
            "Epoch 61/100\n",
            "15/15 [==============================] - 0s 6ms/step - loss: 0.0910 - accuracy: 0.9714 - val_loss: 0.0915 - val_accuracy: 0.9649\n",
            "Epoch 62/100\n",
            "15/15 [==============================] - 0s 4ms/step - loss: 0.0961 - accuracy: 0.9670 - val_loss: 0.0894 - val_accuracy: 0.9561\n",
            "Epoch 63/100\n",
            "15/15 [==============================] - 0s 5ms/step - loss: 0.0809 - accuracy: 0.9714 - val_loss: 0.0913 - val_accuracy: 0.9561\n",
            "Epoch 64/100\n",
            "15/15 [==============================] - 0s 6ms/step - loss: 0.1101 - accuracy: 0.9626 - val_loss: 0.0940 - val_accuracy: 0.9561\n",
            "Epoch 65/100\n",
            "15/15 [==============================] - 0s 4ms/step - loss: 0.0943 - accuracy: 0.9670 - val_loss: 0.0942 - val_accuracy: 0.9649\n",
            "Epoch 66/100\n",
            "15/15 [==============================] - 0s 4ms/step - loss: 0.0823 - accuracy: 0.9736 - val_loss: 0.0934 - val_accuracy: 0.9649\n",
            "Epoch 67/100\n",
            "15/15 [==============================] - 0s 4ms/step - loss: 0.1169 - accuracy: 0.9582 - val_loss: 0.0939 - val_accuracy: 0.9649\n",
            "Epoch 68/100\n",
            "15/15 [==============================] - 0s 6ms/step - loss: 0.1227 - accuracy: 0.9582 - val_loss: 0.0865 - val_accuracy: 0.9649\n",
            "Epoch 69/100\n",
            "15/15 [==============================] - 0s 6ms/step - loss: 0.1248 - accuracy: 0.9692 - val_loss: 0.0870 - val_accuracy: 0.9649\n",
            "Epoch 70/100\n",
            "15/15 [==============================] - 0s 4ms/step - loss: 0.1149 - accuracy: 0.9626 - val_loss: 0.0911 - val_accuracy: 0.9649\n",
            "Epoch 71/100\n",
            "15/15 [==============================] - 0s 6ms/step - loss: 0.1160 - accuracy: 0.9626 - val_loss: 0.0831 - val_accuracy: 0.9649\n",
            "Epoch 72/100\n",
            "15/15 [==============================] - 0s 4ms/step - loss: 0.0833 - accuracy: 0.9758 - val_loss: 0.0774 - val_accuracy: 0.9649\n",
            "Epoch 73/100\n",
            "15/15 [==============================] - 0s 4ms/step - loss: 0.0975 - accuracy: 0.9692 - val_loss: 0.0769 - val_accuracy: 0.9649\n",
            "Epoch 74/100\n",
            "15/15 [==============================] - 0s 5ms/step - loss: 0.1208 - accuracy: 0.9582 - val_loss: 0.0755 - val_accuracy: 0.9649\n",
            "Epoch 75/100\n",
            "15/15 [==============================] - 0s 5ms/step - loss: 0.1088 - accuracy: 0.9670 - val_loss: 0.0747 - val_accuracy: 0.9561\n",
            "Epoch 76/100\n",
            "15/15 [==============================] - 0s 4ms/step - loss: 0.1287 - accuracy: 0.9604 - val_loss: 0.0700 - val_accuracy: 0.9649\n",
            "Epoch 77/100\n",
            "15/15 [==============================] - 0s 5ms/step - loss: 0.0850 - accuracy: 0.9692 - val_loss: 0.0676 - val_accuracy: 0.9649\n",
            "Epoch 78/100\n",
            "15/15 [==============================] - 0s 4ms/step - loss: 0.1438 - accuracy: 0.9648 - val_loss: 0.0667 - val_accuracy: 0.9649\n",
            "Epoch 79/100\n",
            "15/15 [==============================] - 0s 6ms/step - loss: 0.1433 - accuracy: 0.9648 - val_loss: 0.0706 - val_accuracy: 0.9649\n",
            "Epoch 80/100\n",
            "15/15 [==============================] - 0s 5ms/step - loss: 0.0739 - accuracy: 0.9758 - val_loss: 0.0692 - val_accuracy: 0.9649\n",
            "Epoch 81/100\n",
            "15/15 [==============================] - 0s 5ms/step - loss: 0.1052 - accuracy: 0.9736 - val_loss: 0.0674 - val_accuracy: 0.9649\n",
            "Epoch 82/100\n",
            "15/15 [==============================] - 0s 5ms/step - loss: 0.1398 - accuracy: 0.9538 - val_loss: 0.0686 - val_accuracy: 0.9649\n",
            "Epoch 83/100\n",
            "15/15 [==============================] - 0s 5ms/step - loss: 0.1090 - accuracy: 0.9670 - val_loss: 0.0665 - val_accuracy: 0.9649\n",
            "Epoch 84/100\n",
            "15/15 [==============================] - 0s 4ms/step - loss: 0.0815 - accuracy: 0.9736 - val_loss: 0.0621 - val_accuracy: 0.9649\n",
            "Epoch 85/100\n",
            "15/15 [==============================] - 0s 4ms/step - loss: 0.1118 - accuracy: 0.9604 - val_loss: 0.0625 - val_accuracy: 0.9649\n",
            "Epoch 86/100\n",
            "15/15 [==============================] - 0s 5ms/step - loss: 0.1110 - accuracy: 0.9582 - val_loss: 0.0661 - val_accuracy: 0.9649\n",
            "Epoch 87/100\n",
            "15/15 [==============================] - 0s 6ms/step - loss: 0.0947 - accuracy: 0.9670 - val_loss: 0.0681 - val_accuracy: 0.9737\n",
            "Epoch 88/100\n",
            "15/15 [==============================] - 0s 5ms/step - loss: 0.1227 - accuracy: 0.9670 - val_loss: 0.0696 - val_accuracy: 0.9737\n",
            "Epoch 89/100\n",
            "15/15 [==============================] - 0s 6ms/step - loss: 0.0538 - accuracy: 0.9802 - val_loss: 0.0652 - val_accuracy: 0.9737\n",
            "Epoch 90/100\n",
            "15/15 [==============================] - 0s 4ms/step - loss: 0.0776 - accuracy: 0.9714 - val_loss: 0.0657 - val_accuracy: 0.9737\n",
            "Epoch 91/100\n",
            "15/15 [==============================] - 0s 5ms/step - loss: 0.0892 - accuracy: 0.9670 - val_loss: 0.0670 - val_accuracy: 0.9737\n",
            "Epoch 92/100\n",
            "15/15 [==============================] - 0s 4ms/step - loss: 0.0915 - accuracy: 0.9692 - val_loss: 0.0704 - val_accuracy: 0.9737\n",
            "Epoch 93/100\n",
            "15/15 [==============================] - 0s 4ms/step - loss: 0.0700 - accuracy: 0.9692 - val_loss: 0.0724 - val_accuracy: 0.9737\n",
            "Epoch 94/100\n",
            "15/15 [==============================] - 0s 4ms/step - loss: 0.0936 - accuracy: 0.9714 - val_loss: 0.0718 - val_accuracy: 0.9737\n",
            "Epoch 95/100\n",
            "15/15 [==============================] - 0s 6ms/step - loss: 0.0802 - accuracy: 0.9758 - val_loss: 0.0668 - val_accuracy: 0.9737\n",
            "Epoch 96/100\n",
            "15/15 [==============================] - 0s 5ms/step - loss: 0.0967 - accuracy: 0.9670 - val_loss: 0.0796 - val_accuracy: 0.9737\n",
            "Epoch 97/100\n",
            "15/15 [==============================] - 0s 6ms/step - loss: 0.0820 - accuracy: 0.9714 - val_loss: 0.0834 - val_accuracy: 0.9737\n",
            "Epoch 98/100\n",
            "15/15 [==============================] - 0s 5ms/step - loss: 0.1007 - accuracy: 0.9714 - val_loss: 0.0781 - val_accuracy: 0.9737\n",
            "Epoch 99/100\n",
            "15/15 [==============================] - 0s 4ms/step - loss: 0.1114 - accuracy: 0.9648 - val_loss: 0.0776 - val_accuracy: 0.9737\n",
            "Epoch 100/100\n",
            "15/15 [==============================] - 0s 4ms/step - loss: 0.0882 - accuracy: 0.9714 - val_loss: 0.0767 - val_accuracy: 0.9737\n"
          ]
        }
      ]
    },
    {
      "cell_type": "code",
      "source": [
        "plt.plot(h.history['accuracy'], label = 'Accuracy for Train set')\n",
        "plt.plot(h.history['val_accuracy'], label = 'Accuracy for Test Set')\n",
        "plt.title('Accuracy Graph for ANN')\n",
        "plt.ylabel('Accuracy')\n",
        "plt.xlabel('epochs')\n",
        "plt.legend()"
      ],
      "metadata": {
        "colab": {
          "base_uri": "https://localhost:8080/",
          "height": 312
        },
        "id": "1PWB2opilkQJ",
        "outputId": "bd77cbd2-a8b4-45ac-b189-bdcd6d87aa42"
      },
      "execution_count": 23,
      "outputs": [
        {
          "output_type": "execute_result",
          "data": {
            "text/plain": [
              "<matplotlib.legend.Legend at 0x7f53be8c6250>"
            ]
          },
          "metadata": {},
          "execution_count": 23
        },
        {
          "output_type": "display_data",
          "data": {
            "text/plain": [
              "<Figure size 432x288 with 1 Axes>"
            ],
            "image/png": "[encoded data removed]"
          },
          "metadata": {
            "needs_background": "light"
          }
        }
      ]
    },
    {
      "cell_type": "code",
      "source": [
        "plt.plot(h.history['loss'], label = 'loss for Train set')\n",
        "plt.plot(h.history['val_loss'], label = 'loss for Test Set')\n",
        "plt.title('loss Graph for ANN')\n",
        "plt.ylabel('loss')\n",
        "plt.xlabel('epochs')\n",
        "plt.legend()"
      ],
      "metadata": {
        "colab": {
          "base_uri": "https://localhost:8080/",
          "height": 312
        },
        "id": "a2qCJpHil2Ww",
        "outputId": "a26d1540-35b5-4d26-e30a-e44e4e0b98be"
      },
      "execution_count": 24,
      "outputs": [
        {
          "output_type": "execute_result",
          "data": {
            "text/plain": [
              "<matplotlib.legend.Legend at 0x7f53bd873fd0>"
            ]
          },
          "metadata": {},
          "execution_count": 24
        },
        {
          "output_type": "display_data",
          "data": {
            "text/plain": [
              "<Figure size 432x288 with 1 Axes>"
            ],
            "image/png": "[encoded data removed]"
          },
          "metadata": {
            "needs_background": "light"
          }
        }
      ]
    },
    {
      "cell_type": "code",
      "source": [
        "y_pred_ann = model.predict_classes(X_test)\n",
        "print(\"Accuracy: \",accuracy_score(y_test,y_pred_ann))\n",
        "print(\"Recall: \", recall_score(y_test,y_pred_ann))\n",
        "print(\"Precision: \", precision_score(y_test,y_pred_ann))"
      ],
      "metadata": {
        "colab": {
          "base_uri": "https://localhost:8080/"
        },
        "id": "t6HQ7kYxl4WI",
        "outputId": "55f3cd67-814f-4c8f-9cd4-4cff630f956b"
      },
      "execution_count": 25,
      "outputs": [
        {
          "output_type": "stream",
          "name": "stderr",
          "text": [
            "/usr/local/lib/python3.7/dist-packages/tensorflow/python/keras/engine/sequential.py:455: UserWarning: `model.predict_classes()` is deprecated and will be removed after 2021-01-01. Please use instead:* `np.argmax(model.predict(x), axis=-1)`,   if your model does multi-class classification   (e.g. if it uses a `softmax` last-layer activation).* `(model.predict(x) > 0.5).astype(\"int32\")`,   if your model does binary classification   (e.g. if it uses a `sigmoid` last-layer activation).\n",
            "  warnings.warn('`model.predict_classes()` is deprecated and '\n"
          ]
        },
        {
          "output_type": "stream",
          "name": "stdout",
          "text": [
            "Accuracy:  0.9736842105263158\n",
            "Recall:  1.0\n",
            "Precision:  0.94\n"
          ]
        }
      ]
    },
    {
      "cell_type": "markdown",
      "source": [
        "Tree Based Method"
      ],
      "metadata": {
        "id": "ICrmpa_emZq6"
      }
    },
    {
      "cell_type": "code",
      "source": [
        "rank2  = pd.read_excel(\"/content/cancer_dataset_U.xlsx\",sheet_name = \"Tree_based_method\").set_index('Attributes_Names')\n",
        "df_tree = df_new[rank2[0:15].index]\n",
        "X_col =  df_tree\n",
        "y = df_new['diagnosis']\n",
        "Scaler = StandardScaler()\n",
        "X_col =  Scaler.fit_transform(X_col)\n",
        "X_train, X_test, y_train, y_test = train_test_split(X_col, y, test_size=0.2, random_state=0)\n",
        "print(\"Shape of training data\",X_train.shape)\n",
        "print(\"Shape of testing data\",X_test.shape)"
      ],
      "metadata": {
        "colab": {
          "base_uri": "https://localhost:8080/"
        },
        "id": "uB05YyvNmND4",
        "outputId": "87eb7efb-d8d2-4a28-8d24-025166226145"
      },
      "execution_count": 26,
      "outputs": [
        {
          "output_type": "stream",
          "name": "stdout",
          "text": [
            "Shape of training data (455, 15)\n",
            "Shape of testing data (114, 15)\n"
          ]
        }
      ]
    },
    {
      "cell_type": "markdown",
      "source": [
        "Random Forest"
      ],
      "metadata": {
        "id": "3pV1RJsinWHz"
      }
    },
    {
      "cell_type": "code",
      "source": [
        "rf =  RandomForestClassifier()\n",
        "rf.fit(X_train,y_train)\n",
        "y_pred_rf =  rf.predict(X_test)\n",
        "print(\"Accuracy: \",accuracy_score(y_test,y_pred_rf))\n",
        "print(\"Recall: \", recall_score(y_test,y_pred_rf))\n",
        "print(\"Precision: \", precision_score(y_test,y_pred_rf))"
      ],
      "metadata": {
        "colab": {
          "base_uri": "https://localhost:8080/"
        },
        "id": "0DjROJMMmp3r",
        "outputId": "ba997fd7-aae2-4afa-ffc7-3fd96ac65071"
      },
      "execution_count": 27,
      "outputs": [
        {
          "output_type": "stream",
          "name": "stdout",
          "text": [
            "Accuracy:  0.9736842105263158\n",
            "Recall:  0.9574468085106383\n",
            "Precision:  0.9782608695652174\n"
          ]
        }
      ]
    },
    {
      "cell_type": "markdown",
      "source": [
        "SVM"
      ],
      "metadata": {
        "id": "yWM-2xIAnVGQ"
      }
    },
    {
      "cell_type": "code",
      "source": [
        "svc =  SVC()\n",
        "svc.fit(X_test,y_test)\n",
        "y_pred_svc =  svc.predict(X_test)\n",
        "print(\"Accuracy: \",accuracy_score(y_test,y_pred_svc))\n",
        "print(\"Recall: \", recall_score(y_test,y_pred_svc))\n",
        "print(\"Precision: \", precision_score(y_test,y_pred_svc))"
      ],
      "metadata": {
        "colab": {
          "base_uri": "https://localhost:8080/"
        },
        "id": "SsIp55Azmuzv",
        "outputId": "0c2699d7-d528-4b1c-9075-7020b90e53e9"
      },
      "execution_count": 28,
      "outputs": [
        {
          "output_type": "stream",
          "name": "stdout",
          "text": [
            "Accuracy:  0.9736842105263158\n",
            "Recall:  0.9787234042553191\n",
            "Precision:  0.9583333333333334\n"
          ]
        }
      ]
    },
    {
      "cell_type": "markdown",
      "source": [
        "ANN"
      ],
      "metadata": {
        "id": "2Wevx2LtnTvb"
      }
    },
    {
      "cell_type": "code",
      "source": [
        "model = tf.keras.Sequential([\n",
        "    tf.keras.layers.Dense(15, activation='relu', input_shape=(15,)),\n",
        "    tf.keras.layers.BatchNormalization(),\n",
        "    tf.keras.layers.Dense(20, activation='relu'),\n",
        "    tf.keras.layers.BatchNormalization(),\n",
        "    tf.keras.layers.Dense(24, activation='relu'),\n",
        "    tf.keras.layers.Dropout(0.5),\n",
        "    tf.keras.layers.BatchNormalization(),\n",
        "    tf.keras.layers.Dense(28, activation='relu'),\n",
        "    tf.keras.layers.Dropout(0.5),\n",
        "    tf.keras.layers.Dense(1,activation='sigmoid')\n",
        "  ])"
      ],
      "metadata": {
        "id": "7GEoNM0_m1yA"
      },
      "execution_count": 29,
      "outputs": []
    },
    {
      "cell_type": "code",
      "source": [
        "model.compile(loss='binary_crossentropy',\n",
        "              optimizer = 'adam',\n",
        "              metrics=['accuracy'])\n",
        "model.summary()"
      ],
      "metadata": {
        "colab": {
          "base_uri": "https://localhost:8080/"
        },
        "id": "dDr2_FSkm-jN",
        "outputId": "7ecc1081-79f1-4a5f-c337-5468af87cb56"
      },
      "execution_count": 30,
      "outputs": [
        {
          "output_type": "stream",
          "name": "stdout",
          "text": [
            "Model: \"sequential_1\"\n",
            "_________________________________________________________________\n",
            "Layer (type)                 Output Shape              Param #   \n",
            "=================================================================\n",
            "dense_5 (Dense)              (None, 15)                240       \n",
            "_________________________________________________________________\n",
            "batch_normalization_3 (Batch (None, 15)                60        \n",
            "_________________________________________________________________\n",
            "dense_6 (Dense)              (None, 20)                320       \n",
            "_________________________________________________________________\n",
            "batch_normalization_4 (Batch (None, 20)                80        \n",
            "_________________________________________________________________\n",
            "dense_7 (Dense)              (None, 24)                504       \n",
            "_________________________________________________________________\n",
            "dropout_2 (Dropout)          (None, 24)                0         \n",
            "_________________________________________________________________\n",
            "batch_normalization_5 (Batch (None, 24)                96        \n",
            "_________________________________________________________________\n",
            "dense_8 (Dense)              (None, 28)                700       \n",
            "_________________________________________________________________\n",
            "dropout_3 (Dropout)          (None, 28)                0         \n",
            "_________________________________________________________________\n",
            "dense_9 (Dense)              (None, 1)                 29        \n",
            "=================================================================\n",
            "Total params: 2,029\n",
            "Trainable params: 1,911\n",
            "Non-trainable params: 118\n",
            "_________________________________________________________________\n"
          ]
        }
      ]
    },
    {
      "cell_type": "code",
      "source": [
        "h = model.fit(X_train,y_train,epochs=100,validation_data=(X_test,y_test))"
      ],
      "metadata": {
        "colab": {
          "base_uri": "https://localhost:8080/"
        },
        "id": "Iu2l47pXm-gT",
        "outputId": "b39b1975-6ace-42ae-91b0-aff7659aeac2"
      },
      "execution_count": 31,
      "outputs": [
        {
          "output_type": "stream",
          "name": "stdout",
          "text": [
            "Epoch 1/100\n",
            "15/15 [==============================] - 2s 18ms/step - loss: 0.7832 - accuracy: 0.4967 - val_loss: 0.6391 - val_accuracy: 0.8246\n",
            "Epoch 2/100\n",
            "15/15 [==============================] - 0s 4ms/step - loss: 0.6654 - accuracy: 0.6198 - val_loss: 0.6116 - val_accuracy: 0.8947\n",
            "Epoch 3/100\n",
            "15/15 [==============================] - 0s 4ms/step - loss: 0.6312 - accuracy: 0.6549 - val_loss: 0.5730 - val_accuracy: 0.8947\n",
            "Epoch 4/100\n",
            "15/15 [==============================] - 0s 6ms/step - loss: 0.5479 - accuracy: 0.7011 - val_loss: 0.5302 - val_accuracy: 0.9123\n",
            "Epoch 5/100\n",
            "15/15 [==============================] - 0s 6ms/step - loss: 0.4941 - accuracy: 0.7648 - val_loss: 0.4831 - val_accuracy: 0.9211\n",
            "Epoch 6/100\n",
            "15/15 [==============================] - 0s 5ms/step - loss: 0.4698 - accuracy: 0.7934 - val_loss: 0.4318 - val_accuracy: 0.9211\n",
            "Epoch 7/100\n",
            "15/15 [==============================] - 0s 5ms/step - loss: 0.4183 - accuracy: 0.8242 - val_loss: 0.3815 - val_accuracy: 0.9298\n",
            "Epoch 8/100\n",
            "15/15 [==============================] - 0s 5ms/step - loss: 0.3886 - accuracy: 0.8527 - val_loss: 0.3380 - val_accuracy: 0.9386\n",
            "Epoch 9/100\n",
            "15/15 [==============================] - 0s 4ms/step - loss: 0.3310 - accuracy: 0.8835 - val_loss: 0.3009 - val_accuracy: 0.9561\n",
            "Epoch 10/100\n",
            "15/15 [==============================] - 0s 5ms/step - loss: 0.3223 - accuracy: 0.8967 - val_loss: 0.2655 - val_accuracy: 0.9649\n",
            "Epoch 11/100\n",
            "15/15 [==============================] - 0s 6ms/step - loss: 0.3411 - accuracy: 0.8923 - val_loss: 0.2373 - val_accuracy: 0.9649\n",
            "Epoch 12/100\n",
            "15/15 [==============================] - 0s 5ms/step - loss: 0.2964 - accuracy: 0.9011 - val_loss: 0.2146 - val_accuracy: 0.9649\n",
            "Epoch 13/100\n",
            "15/15 [==============================] - 0s 4ms/step - loss: 0.2887 - accuracy: 0.9033 - val_loss: 0.1957 - val_accuracy: 0.9561\n",
            "Epoch 14/100\n",
            "15/15 [==============================] - 0s 5ms/step - loss: 0.2629 - accuracy: 0.9099 - val_loss: 0.1822 - val_accuracy: 0.9561\n",
            "Epoch 15/100\n",
            "15/15 [==============================] - 0s 6ms/step - loss: 0.2468 - accuracy: 0.9187 - val_loss: 0.1721 - val_accuracy: 0.9561\n",
            "Epoch 16/100\n",
            "15/15 [==============================] - 0s 6ms/step - loss: 0.2574 - accuracy: 0.9143 - val_loss: 0.1617 - val_accuracy: 0.9649\n",
            "Epoch 17/100\n",
            "15/15 [==============================] - 0s 5ms/step - loss: 0.2714 - accuracy: 0.9033 - val_loss: 0.1530 - val_accuracy: 0.9649\n",
            "Epoch 18/100\n",
            "15/15 [==============================] - 0s 5ms/step - loss: 0.2176 - accuracy: 0.9231 - val_loss: 0.1501 - val_accuracy: 0.9649\n",
            "Epoch 19/100\n",
            "15/15 [==============================] - 0s 5ms/step - loss: 0.2600 - accuracy: 0.9165 - val_loss: 0.1421 - val_accuracy: 0.9649\n",
            "Epoch 20/100\n",
            "15/15 [==============================] - 0s 6ms/step - loss: 0.2006 - accuracy: 0.9451 - val_loss: 0.1338 - val_accuracy: 0.9649\n",
            "Epoch 21/100\n",
            "15/15 [==============================] - 0s 5ms/step - loss: 0.2209 - accuracy: 0.9319 - val_loss: 0.1265 - val_accuracy: 0.9649\n",
            "Epoch 22/100\n",
            "15/15 [==============================] - 0s 5ms/step - loss: 0.2040 - accuracy: 0.9319 - val_loss: 0.1205 - val_accuracy: 0.9561\n",
            "Epoch 23/100\n",
            "15/15 [==============================] - 0s 4ms/step - loss: 0.1928 - accuracy: 0.9407 - val_loss: 0.1172 - val_accuracy: 0.9561\n",
            "Epoch 24/100\n",
            "15/15 [==============================] - 0s 6ms/step - loss: 0.1886 - accuracy: 0.9451 - val_loss: 0.1155 - val_accuracy: 0.9561\n",
            "Epoch 25/100\n",
            "15/15 [==============================] - 0s 4ms/step - loss: 0.1515 - accuracy: 0.9451 - val_loss: 0.1127 - val_accuracy: 0.9561\n",
            "Epoch 26/100\n",
            "15/15 [==============================] - 0s 5ms/step - loss: 0.2021 - accuracy: 0.9407 - val_loss: 0.1097 - val_accuracy: 0.9561\n",
            "Epoch 27/100\n",
            "15/15 [==============================] - 0s 4ms/step - loss: 0.1725 - accuracy: 0.9473 - val_loss: 0.1069 - val_accuracy: 0.9561\n",
            "Epoch 28/100\n",
            "15/15 [==============================] - 0s 4ms/step - loss: 0.1843 - accuracy: 0.9297 - val_loss: 0.1044 - val_accuracy: 0.9474\n",
            "Epoch 29/100\n",
            "15/15 [==============================] - 0s 6ms/step - loss: 0.1427 - accuracy: 0.9604 - val_loss: 0.1028 - val_accuracy: 0.9474\n",
            "Epoch 30/100\n",
            "15/15 [==============================] - 0s 5ms/step - loss: 0.1583 - accuracy: 0.9495 - val_loss: 0.1008 - val_accuracy: 0.9474\n",
            "Epoch 31/100\n",
            "15/15 [==============================] - 0s 6ms/step - loss: 0.2082 - accuracy: 0.9407 - val_loss: 0.1023 - val_accuracy: 0.9474\n",
            "Epoch 32/100\n",
            "15/15 [==============================] - 0s 4ms/step - loss: 0.2091 - accuracy: 0.9143 - val_loss: 0.1007 - val_accuracy: 0.9474\n",
            "Epoch 33/100\n",
            "15/15 [==============================] - 0s 5ms/step - loss: 0.1635 - accuracy: 0.9495 - val_loss: 0.0995 - val_accuracy: 0.9474\n",
            "Epoch 34/100\n",
            "15/15 [==============================] - 0s 7ms/step - loss: 0.1916 - accuracy: 0.9429 - val_loss: 0.0957 - val_accuracy: 0.9474\n",
            "Epoch 35/100\n",
            "15/15 [==============================] - 0s 4ms/step - loss: 0.1423 - accuracy: 0.9495 - val_loss: 0.0942 - val_accuracy: 0.9474\n",
            "Epoch 36/100\n",
            "15/15 [==============================] - 0s 6ms/step - loss: 0.1548 - accuracy: 0.9473 - val_loss: 0.0924 - val_accuracy: 0.9474\n",
            "Epoch 37/100\n",
            "15/15 [==============================] - 0s 4ms/step - loss: 0.1378 - accuracy: 0.9516 - val_loss: 0.0923 - val_accuracy: 0.9561\n",
            "Epoch 38/100\n",
            "15/15 [==============================] - 0s 5ms/step - loss: 0.1518 - accuracy: 0.9538 - val_loss: 0.0921 - val_accuracy: 0.9561\n",
            "Epoch 39/100\n",
            "15/15 [==============================] - 0s 5ms/step - loss: 0.1415 - accuracy: 0.9560 - val_loss: 0.0920 - val_accuracy: 0.9561\n",
            "Epoch 40/100\n",
            "15/15 [==============================] - 0s 5ms/step - loss: 0.1487 - accuracy: 0.9495 - val_loss: 0.0939 - val_accuracy: 0.9561\n",
            "Epoch 41/100\n",
            "15/15 [==============================] - 0s 8ms/step - loss: 0.1041 - accuracy: 0.9692 - val_loss: 0.0920 - val_accuracy: 0.9561\n",
            "Epoch 42/100\n",
            "15/15 [==============================] - 0s 4ms/step - loss: 0.1366 - accuracy: 0.9516 - val_loss: 0.0893 - val_accuracy: 0.9561\n",
            "Epoch 43/100\n",
            "15/15 [==============================] - 0s 5ms/step - loss: 0.1447 - accuracy: 0.9560 - val_loss: 0.0920 - val_accuracy: 0.9561\n",
            "Epoch 44/100\n",
            "15/15 [==============================] - 0s 4ms/step - loss: 0.1197 - accuracy: 0.9670 - val_loss: 0.0899 - val_accuracy: 0.9561\n",
            "Epoch 45/100\n",
            "15/15 [==============================] - 0s 4ms/step - loss: 0.1301 - accuracy: 0.9626 - val_loss: 0.0865 - val_accuracy: 0.9561\n",
            "Epoch 46/100\n",
            "15/15 [==============================] - 0s 4ms/step - loss: 0.0994 - accuracy: 0.9670 - val_loss: 0.0867 - val_accuracy: 0.9561\n",
            "Epoch 47/100\n",
            "15/15 [==============================] - 0s 4ms/step - loss: 0.1440 - accuracy: 0.9429 - val_loss: 0.0868 - val_accuracy: 0.9561\n",
            "Epoch 48/100\n",
            "15/15 [==============================] - 0s 4ms/step - loss: 0.1225 - accuracy: 0.9604 - val_loss: 0.0851 - val_accuracy: 0.9561\n",
            "Epoch 49/100\n",
            "15/15 [==============================] - 0s 6ms/step - loss: 0.1157 - accuracy: 0.9714 - val_loss: 0.0853 - val_accuracy: 0.9561\n",
            "Epoch 50/100\n",
            "15/15 [==============================] - 0s 5ms/step - loss: 0.1087 - accuracy: 0.9582 - val_loss: 0.0854 - val_accuracy: 0.9561\n",
            "Epoch 51/100\n",
            "15/15 [==============================] - 0s 5ms/step - loss: 0.1076 - accuracy: 0.9736 - val_loss: 0.0851 - val_accuracy: 0.9561\n",
            "Epoch 52/100\n",
            "15/15 [==============================] - 0s 6ms/step - loss: 0.1045 - accuracy: 0.9670 - val_loss: 0.0851 - val_accuracy: 0.9561\n",
            "Epoch 53/100\n",
            "15/15 [==============================] - 0s 4ms/step - loss: 0.1496 - accuracy: 0.9516 - val_loss: 0.0846 - val_accuracy: 0.9561\n",
            "Epoch 54/100\n",
            "15/15 [==============================] - 0s 6ms/step - loss: 0.1248 - accuracy: 0.9560 - val_loss: 0.0845 - val_accuracy: 0.9561\n",
            "Epoch 55/100\n",
            "15/15 [==============================] - 0s 5ms/step - loss: 0.0921 - accuracy: 0.9714 - val_loss: 0.0827 - val_accuracy: 0.9561\n",
            "Epoch 56/100\n",
            "15/15 [==============================] - 0s 5ms/step - loss: 0.0970 - accuracy: 0.9670 - val_loss: 0.0825 - val_accuracy: 0.9561\n",
            "Epoch 57/100\n",
            "15/15 [==============================] - 0s 6ms/step - loss: 0.1303 - accuracy: 0.9560 - val_loss: 0.0824 - val_accuracy: 0.9561\n",
            "Epoch 58/100\n",
            "15/15 [==============================] - 0s 5ms/step - loss: 0.1105 - accuracy: 0.9670 - val_loss: 0.0839 - val_accuracy: 0.9649\n",
            "Epoch 59/100\n",
            "15/15 [==============================] - 0s 5ms/step - loss: 0.1534 - accuracy: 0.9516 - val_loss: 0.0830 - val_accuracy: 0.9649\n",
            "Epoch 60/100\n",
            "15/15 [==============================] - 0s 5ms/step - loss: 0.1013 - accuracy: 0.9670 - val_loss: 0.0774 - val_accuracy: 0.9649\n",
            "Epoch 61/100\n",
            "15/15 [==============================] - 0s 4ms/step - loss: 0.1069 - accuracy: 0.9648 - val_loss: 0.0759 - val_accuracy: 0.9649\n",
            "Epoch 62/100\n",
            "15/15 [==============================] - 0s 5ms/step - loss: 0.1313 - accuracy: 0.9604 - val_loss: 0.0755 - val_accuracy: 0.9649\n",
            "Epoch 63/100\n",
            "15/15 [==============================] - 0s 4ms/step - loss: 0.1264 - accuracy: 0.9626 - val_loss: 0.0768 - val_accuracy: 0.9649\n",
            "Epoch 64/100\n",
            "15/15 [==============================] - 0s 5ms/step - loss: 0.1024 - accuracy: 0.9670 - val_loss: 0.0769 - val_accuracy: 0.9649\n",
            "Epoch 65/100\n",
            "15/15 [==============================] - 0s 5ms/step - loss: 0.1109 - accuracy: 0.9626 - val_loss: 0.0768 - val_accuracy: 0.9649\n",
            "Epoch 66/100\n",
            "15/15 [==============================] - 0s 5ms/step - loss: 0.1376 - accuracy: 0.9604 - val_loss: 0.0771 - val_accuracy: 0.9649\n",
            "Epoch 67/100\n",
            "15/15 [==============================] - 0s 4ms/step - loss: 0.1021 - accuracy: 0.9736 - val_loss: 0.0752 - val_accuracy: 0.9649\n",
            "Epoch 68/100\n",
            "15/15 [==============================] - 0s 5ms/step - loss: 0.1580 - accuracy: 0.9582 - val_loss: 0.0750 - val_accuracy: 0.9561\n",
            "Epoch 69/100\n",
            "15/15 [==============================] - 0s 5ms/step - loss: 0.1187 - accuracy: 0.9648 - val_loss: 0.0756 - val_accuracy: 0.9649\n",
            "Epoch 70/100\n",
            "15/15 [==============================] - 0s 5ms/step - loss: 0.0789 - accuracy: 0.9758 - val_loss: 0.0740 - val_accuracy: 0.9561\n",
            "Epoch 71/100\n",
            "15/15 [==============================] - 0s 6ms/step - loss: 0.1009 - accuracy: 0.9604 - val_loss: 0.0741 - val_accuracy: 0.9561\n",
            "Epoch 72/100\n",
            "15/15 [==============================] - 0s 7ms/step - loss: 0.1166 - accuracy: 0.9692 - val_loss: 0.0749 - val_accuracy: 0.9649\n",
            "Epoch 73/100\n",
            "15/15 [==============================] - 0s 10ms/step - loss: 0.1216 - accuracy: 0.9626 - val_loss: 0.0754 - val_accuracy: 0.9561\n",
            "Epoch 74/100\n",
            "15/15 [==============================] - 0s 8ms/step - loss: 0.1070 - accuracy: 0.9648 - val_loss: 0.0773 - val_accuracy: 0.9561\n",
            "Epoch 75/100\n",
            "15/15 [==============================] - 0s 9ms/step - loss: 0.1232 - accuracy: 0.9582 - val_loss: 0.0763 - val_accuracy: 0.9649\n",
            "Epoch 76/100\n",
            "15/15 [==============================] - 0s 10ms/step - loss: 0.0901 - accuracy: 0.9758 - val_loss: 0.0770 - val_accuracy: 0.9649\n",
            "Epoch 77/100\n",
            "15/15 [==============================] - 0s 9ms/step - loss: 0.1319 - accuracy: 0.9626 - val_loss: 0.0775 - val_accuracy: 0.9649\n",
            "Epoch 78/100\n",
            "15/15 [==============================] - 0s 11ms/step - loss: 0.1154 - accuracy: 0.9626 - val_loss: 0.0760 - val_accuracy: 0.9649\n",
            "Epoch 79/100\n",
            "15/15 [==============================] - 0s 9ms/step - loss: 0.0925 - accuracy: 0.9736 - val_loss: 0.0759 - val_accuracy: 0.9649\n",
            "Epoch 80/100\n",
            "15/15 [==============================] - 0s 13ms/step - loss: 0.0973 - accuracy: 0.9538 - val_loss: 0.0765 - val_accuracy: 0.9649\n",
            "Epoch 81/100\n",
            "15/15 [==============================] - 0s 13ms/step - loss: 0.1301 - accuracy: 0.9736 - val_loss: 0.0769 - val_accuracy: 0.9649\n",
            "Epoch 82/100\n",
            "15/15 [==============================] - 0s 12ms/step - loss: 0.0823 - accuracy: 0.9736 - val_loss: 0.0772 - val_accuracy: 0.9649\n",
            "Epoch 83/100\n",
            "15/15 [==============================] - 0s 11ms/step - loss: 0.0862 - accuracy: 0.9758 - val_loss: 0.0788 - val_accuracy: 0.9649\n",
            "Epoch 84/100\n",
            "15/15 [==============================] - 0s 11ms/step - loss: 0.1011 - accuracy: 0.9648 - val_loss: 0.0794 - val_accuracy: 0.9649\n",
            "Epoch 85/100\n",
            "15/15 [==============================] - 0s 15ms/step - loss: 0.1069 - accuracy: 0.9692 - val_loss: 0.0789 - val_accuracy: 0.9649\n",
            "Epoch 86/100\n",
            "15/15 [==============================] - 0s 10ms/step - loss: 0.1505 - accuracy: 0.9516 - val_loss: 0.0803 - val_accuracy: 0.9649\n",
            "Epoch 87/100\n",
            "15/15 [==============================] - 0s 13ms/step - loss: 0.1046 - accuracy: 0.9582 - val_loss: 0.0818 - val_accuracy: 0.9649\n",
            "Epoch 88/100\n",
            "15/15 [==============================] - 0s 10ms/step - loss: 0.1042 - accuracy: 0.9648 - val_loss: 0.0816 - val_accuracy: 0.9649\n",
            "Epoch 89/100\n",
            "15/15 [==============================] - 0s 14ms/step - loss: 0.0965 - accuracy: 0.9692 - val_loss: 0.0775 - val_accuracy: 0.9561\n",
            "Epoch 90/100\n",
            "15/15 [==============================] - 0s 11ms/step - loss: 0.0938 - accuracy: 0.9758 - val_loss: 0.0766 - val_accuracy: 0.9561\n",
            "Epoch 91/100\n",
            "15/15 [==============================] - 0s 11ms/step - loss: 0.1132 - accuracy: 0.9648 - val_loss: 0.0781 - val_accuracy: 0.9649\n",
            "Epoch 92/100\n",
            "15/15 [==============================] - 0s 9ms/step - loss: 0.1029 - accuracy: 0.9516 - val_loss: 0.0774 - val_accuracy: 0.9561\n",
            "Epoch 93/100\n",
            "15/15 [==============================] - 0s 9ms/step - loss: 0.0707 - accuracy: 0.9802 - val_loss: 0.0752 - val_accuracy: 0.9561\n",
            "Epoch 94/100\n",
            "15/15 [==============================] - 0s 11ms/step - loss: 0.1082 - accuracy: 0.9648 - val_loss: 0.0769 - val_accuracy: 0.9649\n",
            "Epoch 95/100\n",
            "15/15 [==============================] - 0s 12ms/step - loss: 0.0993 - accuracy: 0.9780 - val_loss: 0.0796 - val_accuracy: 0.9649\n",
            "Epoch 96/100\n",
            "15/15 [==============================] - 0s 10ms/step - loss: 0.1280 - accuracy: 0.9626 - val_loss: 0.0818 - val_accuracy: 0.9649\n",
            "Epoch 97/100\n",
            "15/15 [==============================] - 0s 11ms/step - loss: 0.1011 - accuracy: 0.9604 - val_loss: 0.0811 - val_accuracy: 0.9649\n",
            "Epoch 98/100\n",
            "15/15 [==============================] - 0s 9ms/step - loss: 0.0832 - accuracy: 0.9780 - val_loss: 0.0795 - val_accuracy: 0.9649\n",
            "Epoch 99/100\n",
            "15/15 [==============================] - 0s 9ms/step - loss: 0.0874 - accuracy: 0.9736 - val_loss: 0.0785 - val_accuracy: 0.9649\n",
            "Epoch 100/100\n",
            "15/15 [==============================] - 0s 14ms/step - loss: 0.1140 - accuracy: 0.9560 - val_loss: 0.0775 - val_accuracy: 0.9649\n"
          ]
        }
      ]
    },
    {
      "cell_type": "code",
      "source": [
        "plt.plot(h.history['accuracy'], label = 'Accuracy for Train set')\n",
        "plt.plot(h.history['val_accuracy'], label = 'Accuracy for Test Set')\n",
        "plt.title('Accuracy Graph for ANN')\n",
        "plt.ylabel('Accuracy')\n",
        "plt.xlabel('epochs')\n",
        "plt.legend()"
      ],
      "metadata": {
        "colab": {
          "base_uri": "https://localhost:8080/",
          "height": 312
        },
        "id": "VbwiZACHm-b3",
        "outputId": "baafd0a7-0460-4e67-c5da-4b2742c0f517"
      },
      "execution_count": 32,
      "outputs": [
        {
          "output_type": "execute_result",
          "data": {
            "text/plain": [
              "<matplotlib.legend.Legend at 0x7f53bcf20d50>"
            ]
          },
          "metadata": {},
          "execution_count": 32
        },
        {
          "output_type": "display_data",
          "data": {
            "text/plain": [
              "<Figure size 432x288 with 1 Axes>"
            ],
            "image/png": "[encoded data removed]"
          },
          "metadata": {
            "needs_background": "light"
          }
        }
      ]
    },
    {
      "cell_type": "code",
      "source": [
        "plt.plot(h.history['loss'], label = 'loss for Train set')\n",
        "plt.plot(h.history['val_loss'], label = 'loss for Test Set')\n",
        "plt.title('loss Graph for ANN')\n",
        "plt.ylabel('loss')\n",
        "plt.xlabel('epochs')\n",
        "plt.legend()"
      ],
      "metadata": {
        "colab": {
          "base_uri": "https://localhost:8080/",
          "height": 312
        },
        "id": "BpL_7CvYm-Zr",
        "outputId": "a0e26c02-b377-43f1-bda4-d9abb3215aae"
      },
      "execution_count": 33,
      "outputs": [
        {
          "output_type": "execute_result",
          "data": {
            "text/plain": [
              "<matplotlib.legend.Legend at 0x7f53bceb2cd0>"
            ]
          },
          "metadata": {},
          "execution_count": 33
        },
        {
          "output_type": "display_data",
          "data": {
            "text/plain": [
              "<Figure size 432x288 with 1 Axes>"
            ],
            "image/png": "[encoded data removed]"
          },
          "metadata": {
            "needs_background": "light"
          }
        }
      ]
    },
    {
      "cell_type": "code",
      "source": [
        "y_pred_ann = model.predict_classes(X_test)\n",
        "print(\"Accuracy: \",accuracy_score(y_test,y_pred_ann))\n",
        "print(\"Recall: \", recall_score(y_test,y_pred_ann))\n",
        "print(\"Precision: \", precision_score(y_test,y_pred_ann))"
      ],
      "metadata": {
        "colab": {
          "base_uri": "https://localhost:8080/"
        },
        "id": "INHc6kuSm-Xb",
        "outputId": "e3002c90-5fcb-4bc0-d953-9630f3cc257e"
      },
      "execution_count": 34,
      "outputs": [
        {
          "output_type": "stream",
          "name": "stderr",
          "text": [
            "/usr/local/lib/python3.7/dist-packages/tensorflow/python/keras/engine/sequential.py:455: UserWarning: `model.predict_classes()` is deprecated and will be removed after 2021-01-01. Please use instead:* `np.argmax(model.predict(x), axis=-1)`,   if your model does multi-class classification   (e.g. if it uses a `softmax` last-layer activation).* `(model.predict(x) > 0.5).astype(\"int32\")`,   if your model does binary classification   (e.g. if it uses a `sigmoid` last-layer activation).\n",
            "  warnings.warn('`model.predict_classes()` is deprecated and '\n"
          ]
        },
        {
          "output_type": "stream",
          "name": "stdout",
          "text": [
            "Accuracy:  0.9649122807017544\n",
            "Recall:  0.9574468085106383\n",
            "Precision:  0.9574468085106383\n"
          ]
        }
      ]
    },
    {
      "cell_type": "markdown",
      "source": [
        "Permutation Method Mean"
      ],
      "metadata": {
        "id": "hE_fxi51nZxL"
      }
    },
    {
      "cell_type": "code",
      "source": [
        "rank3  = pd.read_excel(\"/content/cancer_dataset_U.xlsx\",sheet_name = \"permutation_method_mean\").set_index('Attributes_Names')\n",
        "df_per_mean = df_new[rank3[0:15].index]\n",
        "X_col =  df_per_mean\n",
        "y = df_new['diagnosis']\n",
        "Scaler = StandardScaler()\n",
        "X_col =  Scaler.fit_transform(X_col)\n",
        "X_train, X_test, y_train, y_test = train_test_split(X_col, y, test_size=0.2, random_state=0)\n",
        "print(\"Shape of training data\",X_train.shape)\n",
        "print(\"Shape of testing data\",X_test.shape)"
      ],
      "metadata": {
        "colab": {
          "base_uri": "https://localhost:8080/"
        },
        "id": "8QjwW4Szm-U1",
        "outputId": "70cf4a9a-6c28-43e6-85fd-487e29ec551e"
      },
      "execution_count": 35,
      "outputs": [
        {
          "output_type": "stream",
          "name": "stdout",
          "text": [
            "Shape of training data (455, 15)\n",
            "Shape of testing data (114, 15)\n"
          ]
        }
      ]
    },
    {
      "cell_type": "markdown",
      "source": [
        "Random Forest "
      ],
      "metadata": {
        "id": "l9334-k8oLen"
      }
    },
    {
      "cell_type": "code",
      "source": [
        "rf =  RandomForestClassifier()\n",
        "rf.fit(X_train,y_train)\n",
        "y_pred_rf =  rf.predict(X_test)\n",
        "print(\"Accuracy: \",accuracy_score(y_test,y_pred_rf))\n",
        "print(\"Recall: \", recall_score(y_test,y_pred_rf))\n",
        "print(\"Precision: \", precision_score(y_test,y_pred_rf))"
      ],
      "metadata": {
        "colab": {
          "base_uri": "https://localhost:8080/"
        },
        "id": "OxnYcjeRm-Sy",
        "outputId": "c5756a34-3d58-4acf-9606-1455ec78f32e"
      },
      "execution_count": 36,
      "outputs": [
        {
          "output_type": "stream",
          "name": "stdout",
          "text": [
            "Accuracy:  0.956140350877193\n",
            "Recall:  0.9787234042553191\n",
            "Precision:  0.92\n"
          ]
        }
      ]
    },
    {
      "cell_type": "markdown",
      "source": [
        "SVM"
      ],
      "metadata": {
        "id": "SmrSGBw-oJeu"
      }
    },
    {
      "cell_type": "code",
      "source": [
        "svc =  SVC()\n",
        "svc.fit(X_test,y_test)\n",
        "y_pred_svc =  svc.predict(X_test)\n",
        "print(\"Accuracy: \",accuracy_score(y_test,y_pred_svc))\n",
        "print(\"Recall: \", recall_score(y_test,y_pred_svc))\n",
        "print(\"Precision: \", precision_score(y_test,y_pred_svc))"
      ],
      "metadata": {
        "colab": {
          "base_uri": "https://localhost:8080/"
        },
        "id": "a3p3j61am-Qp",
        "outputId": "1f9972ca-da39-4de0-e1e9-183762c15737"
      },
      "execution_count": 37,
      "outputs": [
        {
          "output_type": "stream",
          "name": "stdout",
          "text": [
            "Accuracy:  0.9736842105263158\n",
            "Recall:  0.9787234042553191\n",
            "Precision:  0.9583333333333334\n"
          ]
        }
      ]
    },
    {
      "cell_type": "markdown",
      "source": [
        "ANN"
      ],
      "metadata": {
        "id": "hm-g0i5uoIy4"
      }
    },
    {
      "cell_type": "code",
      "source": [
        "model = tf.keras.Sequential([\n",
        "    tf.keras.layers.Dense(15, activation='relu', input_shape=(15,)),\n",
        "    tf.keras.layers.BatchNormalization(),\n",
        "    tf.keras.layers.Dense(20, activation='relu'),\n",
        "    tf.keras.layers.BatchNormalization(),\n",
        "    tf.keras.layers.Dense(24, activation='relu'),\n",
        "    tf.keras.layers.Dropout(0.5),\n",
        "    tf.keras.layers.BatchNormalization(),\n",
        "    tf.keras.layers.Dense(28, activation='relu'),\n",
        "    tf.keras.layers.Dropout(0.5),\n",
        "    tf.keras.layers.Dense(1,activation='sigmoid')\n",
        "  ])\n",
        "model.compile(loss='binary_crossentropy',\n",
        "              optimizer = 'adam',\n",
        "              metrics=['accuracy'])\n",
        "model.summary()"
      ],
      "metadata": {
        "colab": {
          "base_uri": "https://localhost:8080/"
        },
        "id": "hHOPIvrVm-Ol",
        "outputId": "8d7effcc-66e1-4f1a-aaa2-bcdb0cfc056d"
      },
      "execution_count": 38,
      "outputs": [
        {
          "output_type": "stream",
          "name": "stdout",
          "text": [
            "Model: \"sequential_2\"\n",
            "_________________________________________________________________\n",
            "Layer (type)                 Output Shape              Param #   \n",
            "=================================================================\n",
            "dense_10 (Dense)             (None, 15)                240       \n",
            "_________________________________________________________________\n",
            "batch_normalization_6 (Batch (None, 15)                60        \n",
            "_________________________________________________________________\n",
            "dense_11 (Dense)             (None, 20)                320       \n",
            "_________________________________________________________________\n",
            "batch_normalization_7 (Batch (None, 20)                80        \n",
            "_________________________________________________________________\n",
            "dense_12 (Dense)             (None, 24)                504       \n",
            "_________________________________________________________________\n",
            "dropout_4 (Dropout)          (None, 24)                0         \n",
            "_________________________________________________________________\n",
            "batch_normalization_8 (Batch (None, 24)                96        \n",
            "_________________________________________________________________\n",
            "dense_13 (Dense)             (None, 28)                700       \n",
            "_________________________________________________________________\n",
            "dropout_5 (Dropout)          (None, 28)                0         \n",
            "_________________________________________________________________\n",
            "dense_14 (Dense)             (None, 1)                 29        \n",
            "=================================================================\n",
            "Total params: 2,029\n",
            "Trainable params: 1,911\n",
            "Non-trainable params: 118\n",
            "_________________________________________________________________\n"
          ]
        }
      ]
    },
    {
      "cell_type": "code",
      "source": [
        "h = model.fit(X_train,y_train,epochs=50,validation_data=(X_test,y_test))"
      ],
      "metadata": {
        "colab": {
          "base_uri": "https://localhost:8080/"
        },
        "id": "tH348LClm-MO",
        "outputId": "ef45ad62-95d6-4541-d414-5fe8823de449"
      },
      "execution_count": 39,
      "outputs": [
        {
          "output_type": "stream",
          "name": "stdout",
          "text": [
            "Epoch 1/50\n",
            "15/15 [==============================] - 1s 20ms/step - loss: 0.8014 - accuracy: 0.5297 - val_loss: 0.6683 - val_accuracy: 0.6667\n",
            "Epoch 2/50\n",
            "15/15 [==============================] - 0s 4ms/step - loss: 0.7458 - accuracy: 0.5648 - val_loss: 0.6342 - val_accuracy: 0.5877\n",
            "Epoch 3/50\n",
            "15/15 [==============================] - 0s 4ms/step - loss: 0.6991 - accuracy: 0.6110 - val_loss: 0.6044 - val_accuracy: 0.5965\n",
            "Epoch 4/50\n",
            "15/15 [==============================] - 0s 4ms/step - loss: 0.6541 - accuracy: 0.6593 - val_loss: 0.5741 - val_accuracy: 0.6140\n",
            "Epoch 5/50\n",
            "15/15 [==============================] - 0s 5ms/step - loss: 0.5724 - accuracy: 0.7165 - val_loss: 0.5440 - val_accuracy: 0.6579\n",
            "Epoch 6/50\n",
            "15/15 [==============================] - 0s 6ms/step - loss: 0.5323 - accuracy: 0.7473 - val_loss: 0.5094 - val_accuracy: 0.7368\n",
            "Epoch 7/50\n",
            "15/15 [==============================] - 0s 5ms/step - loss: 0.4981 - accuracy: 0.7758 - val_loss: 0.4675 - val_accuracy: 0.8333\n",
            "Epoch 8/50\n",
            "15/15 [==============================] - 0s 4ms/step - loss: 0.4281 - accuracy: 0.8242 - val_loss: 0.4227 - val_accuracy: 0.8509\n",
            "Epoch 9/50\n",
            "15/15 [==============================] - 0s 5ms/step - loss: 0.4214 - accuracy: 0.8220 - val_loss: 0.3856 - val_accuracy: 0.8684\n",
            "Epoch 10/50\n",
            "15/15 [==============================] - 0s 4ms/step - loss: 0.3971 - accuracy: 0.8330 - val_loss: 0.3457 - val_accuracy: 0.8772\n",
            "Epoch 11/50\n",
            "15/15 [==============================] - 0s 5ms/step - loss: 0.3142 - accuracy: 0.8571 - val_loss: 0.3087 - val_accuracy: 0.8860\n",
            "Epoch 12/50\n",
            "15/15 [==============================] - 0s 4ms/step - loss: 0.3623 - accuracy: 0.8615 - val_loss: 0.2728 - val_accuracy: 0.8947\n",
            "Epoch 13/50\n",
            "15/15 [==============================] - 0s 5ms/step - loss: 0.2949 - accuracy: 0.8901 - val_loss: 0.2477 - val_accuracy: 0.9123\n",
            "Epoch 14/50\n",
            "15/15 [==============================] - 0s 6ms/step - loss: 0.3060 - accuracy: 0.8681 - val_loss: 0.2286 - val_accuracy: 0.9211\n",
            "Epoch 15/50\n",
            "15/15 [==============================] - 0s 4ms/step - loss: 0.2697 - accuracy: 0.9143 - val_loss: 0.2122 - val_accuracy: 0.9298\n",
            "Epoch 16/50\n",
            "15/15 [==============================] - 0s 4ms/step - loss: 0.2622 - accuracy: 0.9011 - val_loss: 0.1977 - val_accuracy: 0.9386\n",
            "Epoch 17/50\n",
            "15/15 [==============================] - 0s 4ms/step - loss: 0.2594 - accuracy: 0.9165 - val_loss: 0.1873 - val_accuracy: 0.9386\n",
            "Epoch 18/50\n",
            "15/15 [==============================] - 0s 4ms/step - loss: 0.2453 - accuracy: 0.9209 - val_loss: 0.1807 - val_accuracy: 0.9386\n",
            "Epoch 19/50\n",
            "15/15 [==============================] - 0s 5ms/step - loss: 0.1982 - accuracy: 0.9429 - val_loss: 0.1759 - val_accuracy: 0.9386\n",
            "Epoch 20/50\n",
            "15/15 [==============================] - 0s 4ms/step - loss: 0.2341 - accuracy: 0.9099 - val_loss: 0.1748 - val_accuracy: 0.9386\n",
            "Epoch 21/50\n",
            "15/15 [==============================] - 0s 5ms/step - loss: 0.2121 - accuracy: 0.9319 - val_loss: 0.1769 - val_accuracy: 0.9386\n",
            "Epoch 22/50\n",
            "15/15 [==============================] - 0s 4ms/step - loss: 0.1876 - accuracy: 0.9385 - val_loss: 0.1751 - val_accuracy: 0.9386\n",
            "Epoch 23/50\n",
            "15/15 [==============================] - 0s 5ms/step - loss: 0.2193 - accuracy: 0.9209 - val_loss: 0.1750 - val_accuracy: 0.9386\n",
            "Epoch 24/50\n",
            "15/15 [==============================] - 0s 5ms/step - loss: 0.1614 - accuracy: 0.9429 - val_loss: 0.1737 - val_accuracy: 0.9386\n",
            "Epoch 25/50\n",
            "15/15 [==============================] - 0s 4ms/step - loss: 0.1729 - accuracy: 0.9538 - val_loss: 0.1723 - val_accuracy: 0.9386\n",
            "Epoch 26/50\n",
            "15/15 [==============================] - 0s 5ms/step - loss: 0.2006 - accuracy: 0.9363 - val_loss: 0.1712 - val_accuracy: 0.9386\n",
            "Epoch 27/50\n",
            "15/15 [==============================] - 0s 6ms/step - loss: 0.1654 - accuracy: 0.9429 - val_loss: 0.1710 - val_accuracy: 0.9386\n",
            "Epoch 28/50\n",
            "15/15 [==============================] - 0s 6ms/step - loss: 0.1767 - accuracy: 0.9516 - val_loss: 0.1683 - val_accuracy: 0.9386\n",
            "Epoch 29/50\n",
            "15/15 [==============================] - 0s 5ms/step - loss: 0.1769 - accuracy: 0.9473 - val_loss: 0.1685 - val_accuracy: 0.9386\n",
            "Epoch 30/50\n",
            "15/15 [==============================] - 0s 6ms/step - loss: 0.1927 - accuracy: 0.9473 - val_loss: 0.1676 - val_accuracy: 0.9386\n",
            "Epoch 31/50\n",
            "15/15 [==============================] - 0s 4ms/step - loss: 0.1412 - accuracy: 0.9560 - val_loss: 0.1667 - val_accuracy: 0.9386\n",
            "Epoch 32/50\n",
            "15/15 [==============================] - 0s 4ms/step - loss: 0.1613 - accuracy: 0.9429 - val_loss: 0.1676 - val_accuracy: 0.9386\n",
            "Epoch 33/50\n",
            "15/15 [==============================] - 0s 5ms/step - loss: 0.1776 - accuracy: 0.9407 - val_loss: 0.1630 - val_accuracy: 0.9386\n",
            "Epoch 34/50\n",
            "15/15 [==============================] - 0s 4ms/step - loss: 0.1550 - accuracy: 0.9495 - val_loss: 0.1596 - val_accuracy: 0.9386\n",
            "Epoch 35/50\n",
            "15/15 [==============================] - 0s 4ms/step - loss: 0.1523 - accuracy: 0.9429 - val_loss: 0.1583 - val_accuracy: 0.9386\n",
            "Epoch 36/50\n",
            "15/15 [==============================] - 0s 4ms/step - loss: 0.1257 - accuracy: 0.9560 - val_loss: 0.1556 - val_accuracy: 0.9386\n",
            "Epoch 37/50\n",
            "15/15 [==============================] - 0s 5ms/step - loss: 0.1645 - accuracy: 0.9407 - val_loss: 0.1540 - val_accuracy: 0.9386\n",
            "Epoch 38/50\n",
            "15/15 [==============================] - 0s 6ms/step - loss: 0.1634 - accuracy: 0.9560 - val_loss: 0.1573 - val_accuracy: 0.9386\n",
            "Epoch 39/50\n",
            "15/15 [==============================] - 0s 4ms/step - loss: 0.1340 - accuracy: 0.9626 - val_loss: 0.1579 - val_accuracy: 0.9386\n",
            "Epoch 40/50\n",
            "15/15 [==============================] - 0s 6ms/step - loss: 0.1593 - accuracy: 0.9516 - val_loss: 0.1579 - val_accuracy: 0.9386\n",
            "Epoch 41/50\n",
            "15/15 [==============================] - 0s 4ms/step - loss: 0.1084 - accuracy: 0.9648 - val_loss: 0.1560 - val_accuracy: 0.9386\n",
            "Epoch 42/50\n",
            "15/15 [==============================] - 0s 5ms/step - loss: 0.1376 - accuracy: 0.9560 - val_loss: 0.1534 - val_accuracy: 0.9386\n",
            "Epoch 43/50\n",
            "15/15 [==============================] - 0s 5ms/step - loss: 0.1470 - accuracy: 0.9670 - val_loss: 0.1518 - val_accuracy: 0.9386\n",
            "Epoch 44/50\n",
            "15/15 [==============================] - 0s 4ms/step - loss: 0.1442 - accuracy: 0.9473 - val_loss: 0.1508 - val_accuracy: 0.9474\n",
            "Epoch 45/50\n",
            "15/15 [==============================] - 0s 4ms/step - loss: 0.1311 - accuracy: 0.9604 - val_loss: 0.1511 - val_accuracy: 0.9474\n",
            "Epoch 46/50\n",
            "15/15 [==============================] - 0s 4ms/step - loss: 0.1517 - accuracy: 0.9604 - val_loss: 0.1481 - val_accuracy: 0.9474\n",
            "Epoch 47/50\n",
            "15/15 [==============================] - 0s 5ms/step - loss: 0.1196 - accuracy: 0.9648 - val_loss: 0.1422 - val_accuracy: 0.9474\n",
            "Epoch 48/50\n",
            "15/15 [==============================] - 0s 4ms/step - loss: 0.1312 - accuracy: 0.9648 - val_loss: 0.1386 - val_accuracy: 0.9474\n",
            "Epoch 49/50\n",
            "15/15 [==============================] - 0s 4ms/step - loss: 0.1307 - accuracy: 0.9604 - val_loss: 0.1366 - val_accuracy: 0.9474\n",
            "Epoch 50/50\n",
            "15/15 [==============================] - 0s 4ms/step - loss: 0.1215 - accuracy: 0.9626 - val_loss: 0.1363 - val_accuracy: 0.9386\n"
          ]
        }
      ]
    },
    {
      "cell_type": "code",
      "source": [
        "plt.plot(h.history['accuracy'], label = 'Accuracy for Train set')\n",
        "plt.plot(h.history['val_accuracy'], label = 'Accuracy for Test Set')\n",
        "plt.title('Accuracy Graph for ANN')\n",
        "plt.ylabel('Accuracy')\n",
        "plt.xlabel('epochs')\n",
        "plt.legend()"
      ],
      "metadata": {
        "colab": {
          "base_uri": "https://localhost:8080/",
          "height": 312
        },
        "id": "9Ze0fIpEnzma",
        "outputId": "738f7fe2-5d48-4f25-8fe9-6cb9635c06be"
      },
      "execution_count": 40,
      "outputs": [
        {
          "output_type": "execute_result",
          "data": {
            "text/plain": [
              "<matplotlib.legend.Legend at 0x7f53bca6b0d0>"
            ]
          },
          "metadata": {},
          "execution_count": 40
        },
        {
          "output_type": "display_data",
          "data": {
            "text/plain": [
              "<Figure size 432x288 with 1 Axes>"
            ],
            "image/png": "[encoded data removed]"
          },
          "metadata": {
            "needs_background": "light"
          }
        }
      ]
    },
    {
      "cell_type": "code",
      "source": [
        "plt.plot(h.history['loss'], label = 'loss for Train set')\n",
        "plt.plot(h.history['val_loss'], label = 'loss for Test Set')\n",
        "plt.title('loss Graph for ANN')\n",
        "plt.ylabel('loss')\n",
        "plt.xlabel('epochs')\n",
        "plt.legend()"
      ],
      "metadata": {
        "colab": {
          "base_uri": "https://localhost:8080/",
          "height": 312
        },
        "id": "Qwm6lb1Bn9ol",
        "outputId": "92d3e3dc-8e70-4c09-ecd6-da0e748f85ab"
      },
      "execution_count": 41,
      "outputs": [
        {
          "output_type": "execute_result",
          "data": {
            "text/plain": [
              "<matplotlib.legend.Legend at 0x7f53be8d2ad0>"
            ]
          },
          "metadata": {},
          "execution_count": 41
        },
        {
          "output_type": "display_data",
          "data": {
            "text/plain": [
              "<Figure size 432x288 with 1 Axes>"
            ],
            "image/png": "[encoded data removed]"
          },
          "metadata": {
            "needs_background": "light"
          }
        }
      ]
    },
    {
      "cell_type": "code",
      "source": [
        "y_pred_ann = model.predict_classes(X_test)\n",
        "print(\"Accuracy: \",accuracy_score(y_test,y_pred_ann))\n",
        "print(\"Recall: \", recall_score(y_test,y_pred_ann))\n",
        "print(\"Precision: \", precision_score(y_test,y_pred_ann))"
      ],
      "metadata": {
        "colab": {
          "base_uri": "https://localhost:8080/"
        },
        "id": "YbePp_YkoBvG",
        "outputId": "434e0268-4bbe-4c77-821b-36baed32819b"
      },
      "execution_count": 42,
      "outputs": [
        {
          "output_type": "stream",
          "name": "stderr",
          "text": [
            "/usr/local/lib/python3.7/dist-packages/tensorflow/python/keras/engine/sequential.py:455: UserWarning: `model.predict_classes()` is deprecated and will be removed after 2021-01-01. Please use instead:* `np.argmax(model.predict(x), axis=-1)`,   if your model does multi-class classification   (e.g. if it uses a `softmax` last-layer activation).* `(model.predict(x) > 0.5).astype(\"int32\")`,   if your model does binary classification   (e.g. if it uses a `sigmoid` last-layer activation).\n",
            "  warnings.warn('`model.predict_classes()` is deprecated and '\n"
          ]
        },
        {
          "output_type": "stream",
          "name": "stdout",
          "text": [
            "Accuracy:  0.9385964912280702\n",
            "Recall:  0.9148936170212766\n",
            "Precision:  0.9347826086956522\n"
          ]
        }
      ]
    },
    {
      "cell_type": "code",
      "source": [
        "rank4  = pd.read_excel(\"/content/cancer_dataset_U.xlsx\",sheet_name = \"permutation_method_std\").set_index('Attributes_Names')\n",
        "df_per_std  = df_new[rank4[0:15].index]\n",
        "X_col =  df_per_std\n",
        "y = df_new['diagnosis']\n",
        "Scaler = StandardScaler()\n",
        "X_col =  Scaler.fit_transform(X_col)\n",
        "X_train, X_test, y_train, y_test = train_test_split(X_col, y, test_size=0.2, random_state=0)\n",
        "print(\"Shape of training data\",X_train.shape)\n",
        "print(\"Shape of testing data\",X_test.shape)"
      ],
      "metadata": {
        "colab": {
          "base_uri": "https://localhost:8080/"
        },
        "id": "tqKbOrjToEui",
        "outputId": "f018ffb6-214c-49e9-ea31-67135b9b3e0f"
      },
      "execution_count": 43,
      "outputs": [
        {
          "output_type": "stream",
          "name": "stdout",
          "text": [
            "Shape of training data (455, 15)\n",
            "Shape of testing data (114, 15)\n"
          ]
        }
      ]
    },
    {
      "cell_type": "code",
      "source": [
        "rf =  RandomForestClassifier()\n",
        "rf.fit(X_train,y_train)\n",
        "y_pred_rf =  rf.predict(X_test)\n",
        "print(\"Accuracy: \",accuracy_score(y_test,y_pred_rf))\n",
        "print(\"Recall: \", recall_score(y_test,y_pred_rf))\n",
        "print(\"Precision: \", precision_score(y_test,y_pred_rf))"
      ],
      "metadata": {
        "colab": {
          "base_uri": "https://localhost:8080/"
        },
        "id": "smBr_U0AoY3W",
        "outputId": "192e12be-37c4-482f-9fee-4768dfb33601"
      },
      "execution_count": 44,
      "outputs": [
        {
          "output_type": "stream",
          "name": "stdout",
          "text": [
            "Accuracy:  0.956140350877193\n",
            "Recall:  0.9787234042553191\n",
            "Precision:  0.92\n"
          ]
        }
      ]
    },
    {
      "cell_type": "code",
      "source": [
        "svc =  SVC()\n",
        "svc.fit(X_test,y_test)\n",
        "y_pred_svc =  svc.predict(X_test)\n",
        "print(\"Accuracy: \",accuracy_score(y_test,y_pred_svc))\n",
        "print(\"Recall: \", recall_score(y_test,y_pred_svc))\n",
        "print(\"Precision: \", precision_score(y_test,y_pred_svc))"
      ],
      "metadata": {
        "colab": {
          "base_uri": "https://localhost:8080/"
        },
        "id": "ue7MZrzzodc1",
        "outputId": "9b3f867b-1146-4d30-831f-da3ed0e363c7"
      },
      "execution_count": 45,
      "outputs": [
        {
          "output_type": "stream",
          "name": "stdout",
          "text": [
            "Accuracy:  0.9736842105263158\n",
            "Recall:  0.9574468085106383\n",
            "Precision:  0.9782608695652174\n"
          ]
        }
      ]
    },
    {
      "cell_type": "code",
      "source": [
        "model = tf.keras.Sequential([\n",
        "    tf.keras.layers.Dense(15, activation='relu', input_shape=(15,)),\n",
        "    tf.keras.layers.BatchNormalization(),\n",
        "    tf.keras.layers.Dense(20, activation='relu'),\n",
        "    tf.keras.layers.BatchNormalization(),\n",
        "    tf.keras.layers.Dense(24, activation='relu'),\n",
        "    tf.keras.layers.Dropout(0.5),\n",
        "    tf.keras.layers.BatchNormalization(),\n",
        "    tf.keras.layers.Dense(28, activation='relu'),\n",
        "    tf.keras.layers.Dropout(0.5),\n",
        "    tf.keras.layers.Dense(1,activation='sigmoid')\n",
        "  ])\n",
        "model.compile(loss='binary_crossentropy',\n",
        "              optimizer = 'adam',\n",
        "              metrics=['accuracy'])\n",
        "model.summary()"
      ],
      "metadata": {
        "id": "xTUTquW6odZ-",
        "colab": {
          "base_uri": "https://localhost:8080/"
        },
        "outputId": "2119e9b3-4458-438e-c9e5-8d7a02ce90f8"
      },
      "execution_count": 46,
      "outputs": [
        {
          "output_type": "stream",
          "name": "stdout",
          "text": [
            "Model: \"sequential_3\"\n",
            "_________________________________________________________________\n",
            "Layer (type)                 Output Shape              Param #   \n",
            "=================================================================\n",
            "dense_15 (Dense)             (None, 15)                240       \n",
            "_________________________________________________________________\n",
            "batch_normalization_9 (Batch (None, 15)                60        \n",
            "_________________________________________________________________\n",
            "dense_16 (Dense)             (None, 20)                320       \n",
            "_________________________________________________________________\n",
            "batch_normalization_10 (Batc (None, 20)                80        \n",
            "_________________________________________________________________\n",
            "dense_17 (Dense)             (None, 24)                504       \n",
            "_________________________________________________________________\n",
            "dropout_6 (Dropout)          (None, 24)                0         \n",
            "_________________________________________________________________\n",
            "batch_normalization_11 (Batc (None, 24)                96        \n",
            "_________________________________________________________________\n",
            "dense_18 (Dense)             (None, 28)                700       \n",
            "_________________________________________________________________\n",
            "dropout_7 (Dropout)          (None, 28)                0         \n",
            "_________________________________________________________________\n",
            "dense_19 (Dense)             (None, 1)                 29        \n",
            "=================================================================\n",
            "Total params: 2,029\n",
            "Trainable params: 1,911\n",
            "Non-trainable params: 118\n",
            "_________________________________________________________________\n"
          ]
        }
      ]
    },
    {
      "cell_type": "code",
      "source": [
        "h = model.fit(X_train,y_train,epochs=50,validation_data=(X_test,y_test))"
      ],
      "metadata": {
        "id": "HJSas2jkodXX",
        "colab": {
          "base_uri": "https://localhost:8080/"
        },
        "outputId": "7c78fbd9-c9c2-495e-94d6-27a1c3fed987"
      },
      "execution_count": 47,
      "outputs": [
        {
          "output_type": "stream",
          "name": "stdout",
          "text": [
            "Epoch 1/50\n",
            "15/15 [==============================] - 3s 30ms/step - loss: 0.7195 - accuracy: 0.5714 - val_loss: 0.6065 - val_accuracy: 0.6930\n",
            "Epoch 2/50\n",
            "15/15 [==============================] - 0s 9ms/step - loss: 0.6301 - accuracy: 0.6505 - val_loss: 0.5631 - val_accuracy: 0.7895\n",
            "Epoch 3/50\n",
            "15/15 [==============================] - 0s 7ms/step - loss: 0.5351 - accuracy: 0.6945 - val_loss: 0.5227 - val_accuracy: 0.8509\n",
            "Epoch 4/50\n",
            "15/15 [==============================] - 0s 9ms/step - loss: 0.4974 - accuracy: 0.7451 - val_loss: 0.4840 - val_accuracy: 0.8860\n",
            "Epoch 5/50\n",
            "15/15 [==============================] - 0s 8ms/step - loss: 0.4947 - accuracy: 0.7802 - val_loss: 0.4460 - val_accuracy: 0.8772\n",
            "Epoch 6/50\n",
            "15/15 [==============================] - 0s 9ms/step - loss: 0.4384 - accuracy: 0.8176 - val_loss: 0.4095 - val_accuracy: 0.9035\n",
            "Epoch 7/50\n",
            "15/15 [==============================] - 0s 8ms/step - loss: 0.4016 - accuracy: 0.8088 - val_loss: 0.3718 - val_accuracy: 0.9035\n",
            "Epoch 8/50\n",
            "15/15 [==============================] - 0s 9ms/step - loss: 0.3941 - accuracy: 0.8286 - val_loss: 0.3406 - val_accuracy: 0.9035\n",
            "Epoch 9/50\n",
            "15/15 [==============================] - 0s 8ms/step - loss: 0.3589 - accuracy: 0.8527 - val_loss: 0.3112 - val_accuracy: 0.9035\n",
            "Epoch 10/50\n",
            "15/15 [==============================] - 0s 10ms/step - loss: 0.3488 - accuracy: 0.8549 - val_loss: 0.2858 - val_accuracy: 0.9035\n",
            "Epoch 11/50\n",
            "15/15 [==============================] - 0s 9ms/step - loss: 0.2849 - accuracy: 0.9077 - val_loss: 0.2617 - val_accuracy: 0.9035\n",
            "Epoch 12/50\n",
            "15/15 [==============================] - 0s 8ms/step - loss: 0.2828 - accuracy: 0.9011 - val_loss: 0.2457 - val_accuracy: 0.9035\n",
            "Epoch 13/50\n",
            "15/15 [==============================] - 0s 9ms/step - loss: 0.2678 - accuracy: 0.9055 - val_loss: 0.2296 - val_accuracy: 0.9035\n",
            "Epoch 14/50\n",
            "15/15 [==============================] - 0s 9ms/step - loss: 0.2722 - accuracy: 0.9033 - val_loss: 0.2159 - val_accuracy: 0.9035\n",
            "Epoch 15/50\n",
            "15/15 [==============================] - 0s 9ms/step - loss: 0.2600 - accuracy: 0.8901 - val_loss: 0.2046 - val_accuracy: 0.9123\n",
            "Epoch 16/50\n",
            "15/15 [==============================] - 0s 9ms/step - loss: 0.2421 - accuracy: 0.9165 - val_loss: 0.1953 - val_accuracy: 0.9211\n",
            "Epoch 17/50\n",
            "15/15 [==============================] - 0s 8ms/step - loss: 0.2103 - accuracy: 0.9231 - val_loss: 0.1881 - val_accuracy: 0.9211\n",
            "Epoch 18/50\n",
            "15/15 [==============================] - 0s 7ms/step - loss: 0.2518 - accuracy: 0.9187 - val_loss: 0.1799 - val_accuracy: 0.9211\n",
            "Epoch 19/50\n",
            "15/15 [==============================] - 0s 5ms/step - loss: 0.1935 - accuracy: 0.9319 - val_loss: 0.1707 - val_accuracy: 0.9211\n",
            "Epoch 20/50\n",
            "15/15 [==============================] - 0s 4ms/step - loss: 0.2640 - accuracy: 0.9077 - val_loss: 0.1643 - val_accuracy: 0.9386\n",
            "Epoch 21/50\n",
            "15/15 [==============================] - 0s 4ms/step - loss: 0.1910 - accuracy: 0.9385 - val_loss: 0.1590 - val_accuracy: 0.9298\n",
            "Epoch 22/50\n",
            "15/15 [==============================] - 0s 5ms/step - loss: 0.1984 - accuracy: 0.9209 - val_loss: 0.1585 - val_accuracy: 0.9298\n",
            "Epoch 23/50\n",
            "15/15 [==============================] - 0s 4ms/step - loss: 0.1960 - accuracy: 0.9209 - val_loss: 0.1556 - val_accuracy: 0.9298\n",
            "Epoch 24/50\n",
            "15/15 [==============================] - 0s 6ms/step - loss: 0.1735 - accuracy: 0.9516 - val_loss: 0.1554 - val_accuracy: 0.9298\n",
            "Epoch 25/50\n",
            "15/15 [==============================] - 0s 4ms/step - loss: 0.1541 - accuracy: 0.9429 - val_loss: 0.1519 - val_accuracy: 0.9211\n",
            "Epoch 26/50\n",
            "15/15 [==============================] - 0s 4ms/step - loss: 0.1789 - accuracy: 0.9319 - val_loss: 0.1488 - val_accuracy: 0.9211\n",
            "Epoch 27/50\n",
            "15/15 [==============================] - 0s 4ms/step - loss: 0.1637 - accuracy: 0.9495 - val_loss: 0.1465 - val_accuracy: 0.9386\n",
            "Epoch 28/50\n",
            "15/15 [==============================] - 0s 4ms/step - loss: 0.1678 - accuracy: 0.9407 - val_loss: 0.1484 - val_accuracy: 0.9298\n",
            "Epoch 29/50\n",
            "15/15 [==============================] - 0s 4ms/step - loss: 0.1841 - accuracy: 0.9385 - val_loss: 0.1474 - val_accuracy: 0.9298\n",
            "Epoch 30/50\n",
            "15/15 [==============================] - 0s 5ms/step - loss: 0.1481 - accuracy: 0.9538 - val_loss: 0.1467 - val_accuracy: 0.9298\n",
            "Epoch 31/50\n",
            "15/15 [==============================] - 0s 5ms/step - loss: 0.1635 - accuracy: 0.9407 - val_loss: 0.1447 - val_accuracy: 0.9298\n",
            "Epoch 32/50\n",
            "15/15 [==============================] - 0s 6ms/step - loss: 0.1410 - accuracy: 0.9604 - val_loss: 0.1460 - val_accuracy: 0.9386\n",
            "Epoch 33/50\n",
            "15/15 [==============================] - 0s 4ms/step - loss: 0.1495 - accuracy: 0.9451 - val_loss: 0.1443 - val_accuracy: 0.9386\n",
            "Epoch 34/50\n",
            "15/15 [==============================] - 0s 4ms/step - loss: 0.1530 - accuracy: 0.9516 - val_loss: 0.1465 - val_accuracy: 0.9386\n",
            "Epoch 35/50\n",
            "15/15 [==============================] - 0s 4ms/step - loss: 0.1334 - accuracy: 0.9604 - val_loss: 0.1471 - val_accuracy: 0.9386\n",
            "Epoch 36/50\n",
            "15/15 [==============================] - 0s 5ms/step - loss: 0.1624 - accuracy: 0.9451 - val_loss: 0.1452 - val_accuracy: 0.9386\n",
            "Epoch 37/50\n",
            "15/15 [==============================] - 0s 5ms/step - loss: 0.1395 - accuracy: 0.9495 - val_loss: 0.1449 - val_accuracy: 0.9298\n",
            "Epoch 38/50\n",
            "15/15 [==============================] - 0s 4ms/step - loss: 0.1508 - accuracy: 0.9407 - val_loss: 0.1448 - val_accuracy: 0.9298\n",
            "Epoch 39/50\n",
            "15/15 [==============================] - 0s 4ms/step - loss: 0.1357 - accuracy: 0.9648 - val_loss: 0.1459 - val_accuracy: 0.9298\n",
            "Epoch 40/50\n",
            "15/15 [==============================] - 0s 4ms/step - loss: 0.1683 - accuracy: 0.9451 - val_loss: 0.1479 - val_accuracy: 0.9298\n",
            "Epoch 41/50\n",
            "15/15 [==============================] - 0s 6ms/step - loss: 0.1447 - accuracy: 0.9516 - val_loss: 0.1475 - val_accuracy: 0.9298\n",
            "Epoch 42/50\n",
            "15/15 [==============================] - 0s 4ms/step - loss: 0.1270 - accuracy: 0.9582 - val_loss: 0.1449 - val_accuracy: 0.9386\n",
            "Epoch 43/50\n",
            "15/15 [==============================] - 0s 5ms/step - loss: 0.1679 - accuracy: 0.9451 - val_loss: 0.1451 - val_accuracy: 0.9298\n",
            "Epoch 44/50\n",
            "15/15 [==============================] - 0s 6ms/step - loss: 0.1336 - accuracy: 0.9560 - val_loss: 0.1419 - val_accuracy: 0.9386\n",
            "Epoch 45/50\n",
            "15/15 [==============================] - 0s 5ms/step - loss: 0.1470 - accuracy: 0.9451 - val_loss: 0.1404 - val_accuracy: 0.9386\n",
            "Epoch 46/50\n",
            "15/15 [==============================] - 0s 5ms/step - loss: 0.1527 - accuracy: 0.9385 - val_loss: 0.1375 - val_accuracy: 0.9386\n",
            "Epoch 47/50\n",
            "15/15 [==============================] - 0s 5ms/step - loss: 0.1483 - accuracy: 0.9538 - val_loss: 0.1396 - val_accuracy: 0.9386\n",
            "Epoch 48/50\n",
            "15/15 [==============================] - 0s 4ms/step - loss: 0.1257 - accuracy: 0.9604 - val_loss: 0.1416 - val_accuracy: 0.9298\n",
            "Epoch 49/50\n",
            "15/15 [==============================] - 0s 7ms/step - loss: 0.1428 - accuracy: 0.9495 - val_loss: 0.1404 - val_accuracy: 0.9298\n",
            "Epoch 50/50\n",
            "15/15 [==============================] - 0s 4ms/step - loss: 0.1323 - accuracy: 0.9648 - val_loss: 0.1329 - val_accuracy: 0.9298\n"
          ]
        }
      ]
    },
    {
      "cell_type": "code",
      "source": [
        "plt.plot(h.history['accuracy'], label = 'Accuracy for Train set')\n",
        "plt.plot(h.history['val_accuracy'], label = 'Accuracy for Test Set')\n",
        "plt.title('Accuracy Graph for ANN')\n",
        "plt.ylabel('Accuracy')\n",
        "plt.xlabel('epochs')\n",
        "plt.legend()"
      ],
      "metadata": {
        "id": "30DgohYrodVH",
        "colab": {
          "base_uri": "https://localhost:8080/",
          "height": 312
        },
        "outputId": "ae0d557d-c33b-4d57-f926-a26313253842"
      },
      "execution_count": 48,
      "outputs": [
        {
          "output_type": "execute_result",
          "data": {
            "text/plain": [
              "<matplotlib.legend.Legend at 0x7f53c06ed850>"
            ]
          },
          "metadata": {},
          "execution_count": 48
        },
        {
          "output_type": "display_data",
          "data": {
            "text/plain": [
              "<Figure size 432x288 with 1 Axes>"
            ],
            "image/png": "[encoded data removed]"
          },
          "metadata": {
            "needs_background": "light"
          }
        }
      ]
    },
    {
      "cell_type": "code",
      "source": [
        "plt.plot(h.history['loss'], label = 'loss for Train set')\n",
        "plt.plot(h.history['val_loss'], label = 'loss for Test Set')\n",
        "plt.title('loss Graph for ANN')\n",
        "plt.ylabel('loss')\n",
        "plt.xlabel('epochs')\n",
        "plt.legend()"
      ],
      "metadata": {
        "colab": {
          "base_uri": "https://localhost:8080/",
          "height": 312
        },
        "id": "bSmhE4KgUWwZ",
        "outputId": "1f6e10d0-1e7c-4968-8cea-95b09e91e5bf"
      },
      "execution_count": 49,
      "outputs": [
        {
          "output_type": "execute_result",
          "data": {
            "text/plain": [
              "<matplotlib.legend.Legend at 0x7f53c0744490>"
            ]
          },
          "metadata": {},
          "execution_count": 49
        },
        {
          "output_type": "display_data",
          "data": {
            "text/plain": [
              "<Figure size 432x288 with 1 Axes>"
            ],
            "image/png": "[encoded data removed]"
          },
          "metadata": {
            "needs_background": "light"
          }
        }
      ]
    },
    {
      "cell_type": "code",
      "source": [
        "y_pred_ann = model.predict_classes(X_test)\n",
        "print(\"Accuracy: \",accuracy_score(y_test,y_pred_ann))\n",
        "print(\"Recall: \", recall_score(y_test,y_pred_ann))\n",
        "print(\"Precision: \", precision_score(y_test,y_pred_ann))"
      ],
      "metadata": {
        "colab": {
          "base_uri": "https://localhost:8080/"
        },
        "id": "ELiW3G_PUX4g",
        "outputId": "6fccc457-74eb-40a9-b2af-9703241b51d5"
      },
      "execution_count": 50,
      "outputs": [
        {
          "output_type": "stream",
          "name": "stderr",
          "text": [
            "/usr/local/lib/python3.7/dist-packages/tensorflow/python/keras/engine/sequential.py:455: UserWarning: `model.predict_classes()` is deprecated and will be removed after 2021-01-01. Please use instead:* `np.argmax(model.predict(x), axis=-1)`,   if your model does multi-class classification   (e.g. if it uses a `softmax` last-layer activation).* `(model.predict(x) > 0.5).astype(\"int32\")`,   if your model does binary classification   (e.g. if it uses a `sigmoid` last-layer activation).\n",
            "  warnings.warn('`model.predict_classes()` is deprecated and '\n"
          ]
        },
        {
          "output_type": "stream",
          "name": "stdout",
          "text": [
            "Accuracy:  0.9298245614035088\n",
            "Recall:  0.9148936170212766\n",
            "Precision:  0.9148936170212766\n"
          ]
        }
      ]
    },
    {
      "cell_type": "code",
      "source": [
        "rank5  = pd.read_excel(\"/content/cancer_dataset_U.xlsx\",sheet_name = \"PCA\").set_index('Attributes_Names')\n",
        "df_pca  = df_new[rank5[:15].index]\n",
        "X_col =  df_pca\n",
        "y = df_new['diagnosis']\n",
        "Scaler = StandardScaler()\n",
        "X_col =  Scaler.fit_transform(X_col)\n",
        "X_train, X_test, y_train, y_test = train_test_split(X_col, y, test_size=0.2, random_state=0)\n",
        "print(\"Shape of training data\",X_train.shape)\n",
        "print(\"Shape of testing data\",X_test.shape)"
      ],
      "metadata": {
        "colab": {
          "base_uri": "https://localhost:8080/"
        },
        "id": "7UtXqTNyUbEn",
        "outputId": "4407b49a-3326-47c3-be52-34cab73665e6"
      },
      "execution_count": 51,
      "outputs": [
        {
          "output_type": "stream",
          "name": "stdout",
          "text": [
            "Shape of training data (455, 15)\n",
            "Shape of testing data (114, 15)\n"
          ]
        }
      ]
    },
    {
      "cell_type": "code",
      "source": [
        "rf =  RandomForestClassifier()\n",
        "rf.fit(X_train,y_train)\n",
        "y_pred_rf =  rf.predict(X_test)\n",
        "print(\"Accuracy: \",accuracy_score(y_test,y_pred_rf))\n",
        "print(\"Recall: \", recall_score(y_test,y_pred_rf))\n",
        "print(\"Precision: \", precision_score(y_test,y_pred_rf))"
      ],
      "metadata": {
        "colab": {
          "base_uri": "https://localhost:8080/"
        },
        "id": "xvVa6EG1UpFI",
        "outputId": "b3386ea0-1aae-4cd9-895e-c115e103df6b"
      },
      "execution_count": 52,
      "outputs": [
        {
          "output_type": "stream",
          "name": "stdout",
          "text": [
            "Accuracy:  0.9649122807017544\n",
            "Recall:  0.9574468085106383\n",
            "Precision:  0.9574468085106383\n"
          ]
        }
      ]
    },
    {
      "cell_type": "code",
      "source": [
        "svc =  SVC()\n",
        "svc.fit(X_test,y_test)\n",
        "y_pred_svc =  svc.predict(X_test)\n",
        "print(\"Accuracy: \",accuracy_score(y_test,y_pred_svc))\n",
        "print(\"Recall: \", recall_score(y_test,y_pred_svc))\n",
        "print(\"Precision: \", precision_score(y_test,y_pred_svc))"
      ],
      "metadata": {
        "colab": {
          "base_uri": "https://localhost:8080/"
        },
        "id": "TfJKnB1HUwyg",
        "outputId": "f38e56a3-44aa-427c-aefd-bdfb63d6dbba"
      },
      "execution_count": 53,
      "outputs": [
        {
          "output_type": "stream",
          "name": "stdout",
          "text": [
            "Accuracy:  0.9649122807017544\n",
            "Recall:  0.9574468085106383\n",
            "Precision:  0.9574468085106383\n"
          ]
        }
      ]
    },
    {
      "cell_type": "code",
      "source": [
        "model = tf.keras.Sequential([\n",
        "    tf.keras.layers.Dense(15, activation='relu', input_shape=(15,)),\n",
        "    tf.keras.layers.BatchNormalization(),\n",
        "    tf.keras.layers.Dense(20, activation='relu'),\n",
        "    tf.keras.layers.BatchNormalization(),\n",
        "    tf.keras.layers.Dense(24, activation='relu'),\n",
        "    tf.keras.layers.Dropout(0.5),\n",
        "    tf.keras.layers.BatchNormalization(),\n",
        "    tf.keras.layers.Dense(28, activation='relu'),\n",
        "    tf.keras.layers.Dropout(0.5),\n",
        "    tf.keras.layers.Dense(1,activation='sigmoid')\n",
        "  ])\n",
        "model.compile(loss='binary_crossentropy',\n",
        "              optimizer = 'adam',\n",
        "              metrics=['accuracy'])\n",
        "model.summary()"
      ],
      "metadata": {
        "colab": {
          "base_uri": "https://localhost:8080/"
        },
        "id": "Xv9HTTd9Uz2x",
        "outputId": "9bddb890-76fd-4123-9ae7-ea9bd3f0990e"
      },
      "execution_count": 54,
      "outputs": [
        {
          "output_type": "stream",
          "name": "stdout",
          "text": [
            "Model: \"sequential_4\"\n",
            "_________________________________________________________________\n",
            "Layer (type)                 Output Shape              Param #   \n",
            "=================================================================\n",
            "dense_20 (Dense)             (None, 15)                240       \n",
            "_________________________________________________________________\n",
            "batch_normalization_12 (Batc (None, 15)                60        \n",
            "_________________________________________________________________\n",
            "dense_21 (Dense)             (None, 20)                320       \n",
            "_________________________________________________________________\n",
            "batch_normalization_13 (Batc (None, 20)                80        \n",
            "_________________________________________________________________\n",
            "dense_22 (Dense)             (None, 24)                504       \n",
            "_________________________________________________________________\n",
            "dropout_8 (Dropout)          (None, 24)                0         \n",
            "_________________________________________________________________\n",
            "batch_normalization_14 (Batc (None, 24)                96        \n",
            "_________________________________________________________________\n",
            "dense_23 (Dense)             (None, 28)                700       \n",
            "_________________________________________________________________\n",
            "dropout_9 (Dropout)          (None, 28)                0         \n",
            "_________________________________________________________________\n",
            "dense_24 (Dense)             (None, 1)                 29        \n",
            "=================================================================\n",
            "Total params: 2,029\n",
            "Trainable params: 1,911\n",
            "Non-trainable params: 118\n",
            "_________________________________________________________________\n"
          ]
        }
      ]
    },
    {
      "cell_type": "code",
      "source": [
        "h = model.fit(X_train,y_train,epochs=50,validation_data=(X_test,y_test))"
      ],
      "metadata": {
        "colab": {
          "base_uri": "https://localhost:8080/"
        },
        "id": "Lmvfu8P7U5Jw",
        "outputId": "0b96c1bb-5eee-405a-cde4-6cb19813177c"
      },
      "execution_count": 55,
      "outputs": [
        {
          "output_type": "stream",
          "name": "stdout",
          "text": [
            "Epoch 1/50\n",
            "15/15 [==============================] - 3s 30ms/step - loss: 0.9567 - accuracy: 0.4022 - val_loss: 0.6823 - val_accuracy: 0.5965\n",
            "Epoch 2/50\n",
            "15/15 [==============================] - 0s 9ms/step - loss: 0.8155 - accuracy: 0.4615 - val_loss: 0.6523 - val_accuracy: 0.8070\n",
            "Epoch 3/50\n",
            "15/15 [==============================] - 0s 9ms/step - loss: 0.6621 - accuracy: 0.6066 - val_loss: 0.6142 - val_accuracy: 0.8421\n",
            "Epoch 4/50\n",
            "15/15 [==============================] - 0s 9ms/step - loss: 0.6161 - accuracy: 0.6593 - val_loss: 0.5687 - val_accuracy: 0.8772\n",
            "Epoch 5/50\n",
            "15/15 [==============================] - 0s 9ms/step - loss: 0.5849 - accuracy: 0.6945 - val_loss: 0.5189 - val_accuracy: 0.9123\n",
            "Epoch 6/50\n",
            "15/15 [==============================] - 0s 9ms/step - loss: 0.5215 - accuracy: 0.7121 - val_loss: 0.4608 - val_accuracy: 0.9298\n",
            "Epoch 7/50\n",
            "15/15 [==============================] - 0s 8ms/step - loss: 0.4801 - accuracy: 0.7846 - val_loss: 0.4047 - val_accuracy: 0.9298\n",
            "Epoch 8/50\n",
            "15/15 [==============================] - 0s 9ms/step - loss: 0.4217 - accuracy: 0.8110 - val_loss: 0.3551 - val_accuracy: 0.9386\n",
            "Epoch 9/50\n",
            "15/15 [==============================] - 0s 9ms/step - loss: 0.3865 - accuracy: 0.8418 - val_loss: 0.3095 - val_accuracy: 0.9474\n",
            "Epoch 10/50\n",
            "15/15 [==============================] - 0s 11ms/step - loss: 0.3268 - accuracy: 0.8835 - val_loss: 0.2584 - val_accuracy: 0.9649\n",
            "Epoch 11/50\n",
            "15/15 [==============================] - 0s 9ms/step - loss: 0.3060 - accuracy: 0.8791 - val_loss: 0.2214 - val_accuracy: 0.9649\n",
            "Epoch 12/50\n",
            "15/15 [==============================] - 0s 6ms/step - loss: 0.3384 - accuracy: 0.8681 - val_loss: 0.1920 - val_accuracy: 0.9649\n",
            "Epoch 13/50\n",
            "15/15 [==============================] - 0s 5ms/step - loss: 0.2947 - accuracy: 0.8791 - val_loss: 0.1724 - val_accuracy: 0.9649\n",
            "Epoch 14/50\n",
            "15/15 [==============================] - 0s 4ms/step - loss: 0.2580 - accuracy: 0.9077 - val_loss: 0.1528 - val_accuracy: 0.9737\n",
            "Epoch 15/50\n",
            "15/15 [==============================] - 0s 6ms/step - loss: 0.2754 - accuracy: 0.9011 - val_loss: 0.1362 - val_accuracy: 0.9649\n",
            "Epoch 16/50\n",
            "15/15 [==============================] - 0s 4ms/step - loss: 0.2533 - accuracy: 0.9099 - val_loss: 0.1231 - val_accuracy: 0.9649\n",
            "Epoch 17/50\n",
            "15/15 [==============================] - 0s 5ms/step - loss: 0.2008 - accuracy: 0.9385 - val_loss: 0.1119 - val_accuracy: 0.9649\n",
            "Epoch 18/50\n",
            "15/15 [==============================] - 0s 6ms/step - loss: 0.2329 - accuracy: 0.9011 - val_loss: 0.1042 - val_accuracy: 0.9649\n",
            "Epoch 19/50\n",
            "15/15 [==============================] - 0s 5ms/step - loss: 0.2232 - accuracy: 0.9275 - val_loss: 0.1004 - val_accuracy: 0.9649\n",
            "Epoch 20/50\n",
            "15/15 [==============================] - 0s 4ms/step - loss: 0.2098 - accuracy: 0.9341 - val_loss: 0.0981 - val_accuracy: 0.9649\n",
            "Epoch 21/50\n",
            "15/15 [==============================] - 0s 4ms/step - loss: 0.1826 - accuracy: 0.9407 - val_loss: 0.0931 - val_accuracy: 0.9649\n",
            "Epoch 22/50\n",
            "15/15 [==============================] - 0s 4ms/step - loss: 0.1852 - accuracy: 0.9407 - val_loss: 0.0900 - val_accuracy: 0.9649\n",
            "Epoch 23/50\n",
            "15/15 [==============================] - 0s 4ms/step - loss: 0.2288 - accuracy: 0.9231 - val_loss: 0.0861 - val_accuracy: 0.9649\n",
            "Epoch 24/50\n",
            "15/15 [==============================] - 0s 5ms/step - loss: 0.2312 - accuracy: 0.9253 - val_loss: 0.0845 - val_accuracy: 0.9649\n",
            "Epoch 25/50\n",
            "15/15 [==============================] - 0s 5ms/step - loss: 0.1569 - accuracy: 0.9670 - val_loss: 0.0837 - val_accuracy: 0.9649\n",
            "Epoch 26/50\n",
            "15/15 [==============================] - 0s 4ms/step - loss: 0.1868 - accuracy: 0.9473 - val_loss: 0.0815 - val_accuracy: 0.9649\n",
            "Epoch 27/50\n",
            "15/15 [==============================] - 0s 4ms/step - loss: 0.1936 - accuracy: 0.9473 - val_loss: 0.0801 - val_accuracy: 0.9561\n",
            "Epoch 28/50\n",
            "15/15 [==============================] - 0s 5ms/step - loss: 0.2230 - accuracy: 0.9319 - val_loss: 0.0812 - val_accuracy: 0.9561\n",
            "Epoch 29/50\n",
            "15/15 [==============================] - 0s 6ms/step - loss: 0.1689 - accuracy: 0.9363 - val_loss: 0.0806 - val_accuracy: 0.9737\n",
            "Epoch 30/50\n",
            "15/15 [==============================] - 0s 6ms/step - loss: 0.1601 - accuracy: 0.9516 - val_loss: 0.0788 - val_accuracy: 0.9737\n",
            "Epoch 31/50\n",
            "15/15 [==============================] - 0s 6ms/step - loss: 0.1671 - accuracy: 0.9363 - val_loss: 0.0787 - val_accuracy: 0.9649\n",
            "Epoch 32/50\n",
            "15/15 [==============================] - 0s 7ms/step - loss: 0.1773 - accuracy: 0.9429 - val_loss: 0.0767 - val_accuracy: 0.9649\n",
            "Epoch 33/50\n",
            "15/15 [==============================] - 0s 8ms/step - loss: 0.2002 - accuracy: 0.9429 - val_loss: 0.0765 - val_accuracy: 0.9737\n",
            "Epoch 34/50\n",
            "15/15 [==============================] - 0s 7ms/step - loss: 0.1609 - accuracy: 0.9516 - val_loss: 0.0763 - val_accuracy: 0.9737\n",
            "Epoch 35/50\n",
            "15/15 [==============================] - 0s 10ms/step - loss: 0.1430 - accuracy: 0.9604 - val_loss: 0.0771 - val_accuracy: 0.9737\n",
            "Epoch 36/50\n",
            "15/15 [==============================] - 0s 13ms/step - loss: 0.1851 - accuracy: 0.9451 - val_loss: 0.0790 - val_accuracy: 0.9737\n",
            "Epoch 37/50\n",
            "15/15 [==============================] - 0s 12ms/step - loss: 0.1179 - accuracy: 0.9714 - val_loss: 0.0776 - val_accuracy: 0.9737\n",
            "Epoch 38/50\n",
            "15/15 [==============================] - 0s 12ms/step - loss: 0.1521 - accuracy: 0.9473 - val_loss: 0.0776 - val_accuracy: 0.9649\n",
            "Epoch 39/50\n",
            "15/15 [==============================] - 0s 12ms/step - loss: 0.1254 - accuracy: 0.9582 - val_loss: 0.0781 - val_accuracy: 0.9649\n",
            "Epoch 40/50\n",
            "15/15 [==============================] - 0s 9ms/step - loss: 0.1710 - accuracy: 0.9363 - val_loss: 0.0765 - val_accuracy: 0.9737\n",
            "Epoch 41/50\n",
            "15/15 [==============================] - 0s 10ms/step - loss: 0.1305 - accuracy: 0.9626 - val_loss: 0.0775 - val_accuracy: 0.9561\n",
            "Epoch 42/50\n",
            "15/15 [==============================] - 0s 11ms/step - loss: 0.1339 - accuracy: 0.9560 - val_loss: 0.0748 - val_accuracy: 0.9737\n",
            "Epoch 43/50\n",
            "15/15 [==============================] - 0s 11ms/step - loss: 0.1330 - accuracy: 0.9538 - val_loss: 0.0735 - val_accuracy: 0.9737\n",
            "Epoch 44/50\n",
            "15/15 [==============================] - 0s 11ms/step - loss: 0.1164 - accuracy: 0.9648 - val_loss: 0.0751 - val_accuracy: 0.9649\n",
            "Epoch 45/50\n",
            "15/15 [==============================] - 0s 11ms/step - loss: 0.1419 - accuracy: 0.9582 - val_loss: 0.0733 - val_accuracy: 0.9649\n",
            "Epoch 46/50\n",
            "15/15 [==============================] - 0s 12ms/step - loss: 0.1372 - accuracy: 0.9604 - val_loss: 0.0747 - val_accuracy: 0.9649\n",
            "Epoch 47/50\n",
            "15/15 [==============================] - 0s 11ms/step - loss: 0.1035 - accuracy: 0.9692 - val_loss: 0.0746 - val_accuracy: 0.9649\n",
            "Epoch 48/50\n",
            "15/15 [==============================] - 0s 10ms/step - loss: 0.1034 - accuracy: 0.9714 - val_loss: 0.0750 - val_accuracy: 0.9649\n",
            "Epoch 49/50\n",
            "15/15 [==============================] - 0s 11ms/step - loss: 0.1440 - accuracy: 0.9495 - val_loss: 0.0755 - val_accuracy: 0.9649\n",
            "Epoch 50/50\n",
            "15/15 [==============================] - 0s 11ms/step - loss: 0.1013 - accuracy: 0.9670 - val_loss: 0.0716 - val_accuracy: 0.9649\n"
          ]
        }
      ]
    },
    {
      "cell_type": "code",
      "source": [
        "plt.plot(h.history['accuracy'], label = 'Accuracy for Train set')\n",
        "plt.plot(h.history['val_accuracy'], label = 'Accuracy for Test Set')\n",
        "plt.title('Accuracy Graph for ANN')\n",
        "plt.ylabel('Accuracy')\n",
        "plt.xlabel('epochs')\n",
        "plt.legend()"
      ],
      "metadata": {
        "colab": {
          "base_uri": "https://localhost:8080/",
          "height": 312
        },
        "id": "P8ha2JpYU7gw",
        "outputId": "a99c7828-b94b-4538-c239-b37e3ace5329"
      },
      "execution_count": 56,
      "outputs": [
        {
          "output_type": "execute_result",
          "data": {
            "text/plain": [
              "<matplotlib.legend.Legend at 0x7f53b8d58410>"
            ]
          },
          "metadata": {},
          "execution_count": 56
        },
        {
          "output_type": "display_data",
          "data": {
            "text/plain": [
              "<Figure size 432x288 with 1 Axes>"
            ],
            "image/png": "[encoded data removed]"
          },
          "metadata": {
            "needs_background": "light"
          }
        }
      ]
    },
    {
      "cell_type": "code",
      "source": [
        "plt.plot(h.history['loss'], label = 'loss for Train set')\n",
        "plt.plot(h.history['val_loss'], label = 'loss for Test Set')\n",
        "plt.title('loss Graph for ANN')\n",
        "plt.ylabel('loss')\n",
        "plt.xlabel('epochs')\n",
        "plt.legend()"
      ],
      "metadata": {
        "colab": {
          "base_uri": "https://localhost:8080/",
          "height": 312
        },
        "id": "M80lhS2mVwmS",
        "outputId": "3ac854b9-aad9-4398-d7e8-889e0c1d5ce7"
      },
      "execution_count": 57,
      "outputs": [
        {
          "output_type": "execute_result",
          "data": {
            "text/plain": [
              "<matplotlib.legend.Legend at 0x7f53b7d22c90>"
            ]
          },
          "metadata": {},
          "execution_count": 57
        },
        {
          "output_type": "display_data",
          "data": {
            "text/plain": [
              "<Figure size 432x288 with 1 Axes>"
            ],
            "image/png": "[encoded data removed]"
          },
          "metadata": {
            "needs_background": "light"
          }
        }
      ]
    },
    {
      "cell_type": "code",
      "source": [
        "y_pred_ann = model.predict_classes(X_test)\n",
        "print(\"Accuracy: \",accuracy_score(y_test,y_pred_ann))\n",
        "print(\"Recall: \", recall_score(y_test,y_pred_ann))\n",
        "print(\"Precision: \", precision_score(y_test,y_pred_ann))"
      ],
      "metadata": {
        "colab": {
          "base_uri": "https://localhost:8080/"
        },
        "id": "XjLVVRocVxlb",
        "outputId": "32c4f0d6-416b-4ae6-cf96-50599f700466"
      },
      "execution_count": 58,
      "outputs": [
        {
          "output_type": "stream",
          "name": "stderr",
          "text": [
            "/usr/local/lib/python3.7/dist-packages/tensorflow/python/keras/engine/sequential.py:455: UserWarning: `model.predict_classes()` is deprecated and will be removed after 2021-01-01. Please use instead:* `np.argmax(model.predict(x), axis=-1)`,   if your model does multi-class classification   (e.g. if it uses a `softmax` last-layer activation).* `(model.predict(x) > 0.5).astype(\"int32\")`,   if your model does binary classification   (e.g. if it uses a `sigmoid` last-layer activation).\n",
            "  warnings.warn('`model.predict_classes()` is deprecated and '\n"
          ]
        },
        {
          "output_type": "stream",
          "name": "stdout",
          "text": [
            "Accuracy:  0.9649122807017544\n",
            "Recall:  1.0\n",
            "Precision:  0.9215686274509803\n"
          ]
        }
      ]
    },
    {
      "cell_type": "code",
      "source": [
        "rank6  = pd.read_excel(\"/content/cancer_dataset_U.xlsx\",sheet_name = \"F_test\").set_index('Attributes_Names')\n",
        "df_f_test  = df_new[rank6[:15].index]\n",
        "X_col =  df_f_test\n",
        "y = df_new['diagnosis']\n",
        "Scaler = StandardScaler()\n",
        "X_col =  Scaler.fit_transform(X_col)\n",
        "X_train, X_test, y_train, y_test = train_test_split(X_col, y, test_size=0.2, random_state=0)\n",
        "print(\"Shape of training data\",X_train.shape)\n",
        "print(\"Shape of testing data\",X_test.shape)"
      ],
      "metadata": {
        "colab": {
          "base_uri": "https://localhost:8080/"
        },
        "id": "cVzdyN8fV1NK",
        "outputId": "7da74c8c-c7df-4687-a767-c51f225ffd48"
      },
      "execution_count": 59,
      "outputs": [
        {
          "output_type": "stream",
          "name": "stdout",
          "text": [
            "Shape of training data (455, 15)\n",
            "Shape of testing data (114, 15)\n"
          ]
        }
      ]
    },
    {
      "cell_type": "code",
      "source": [
        "rf =  RandomForestClassifier()\n",
        "rf.fit(X_train,y_train)\n",
        "y_pred_rf =  rf.predict(X_test)\n",
        "print(\"Accuracy: \",accuracy_score(y_test,y_pred_rf))\n",
        "print(\"Recall: \", recall_score(y_test,y_pred_rf))\n",
        "print(\"Precision: \", precision_score(y_test,y_pred_rf))"
      ],
      "metadata": {
        "colab": {
          "base_uri": "https://localhost:8080/"
        },
        "id": "qycNl0SHWCR_",
        "outputId": "47647d0a-af17-474b-b137-1d75007fc242"
      },
      "execution_count": 61,
      "outputs": [
        {
          "output_type": "stream",
          "name": "stdout",
          "text": [
            "Accuracy:  0.9385964912280702\n",
            "Recall:  0.9361702127659575\n",
            "Precision:  0.9166666666666666\n"
          ]
        }
      ]
    },
    {
      "cell_type": "code",
      "source": [
        "svc =  SVC()\n",
        "svc.fit(X_test,y_test)\n",
        "y_pred_svc =  svc.predict(X_test)\n",
        "print(\"Accuracy: \",accuracy_score(y_test,y_pred_svc))\n",
        "print(\"Recall: \", recall_score(y_test,y_pred_svc))\n",
        "print(\"Precision: \", precision_score(y_test,y_pred_svc))"
      ],
      "metadata": {
        "colab": {
          "base_uri": "https://localhost:8080/"
        },
        "id": "vbih4imHWHfl",
        "outputId": "9af6076c-4735-46bb-ba2d-babc5ecc3be1"
      },
      "execution_count": 62,
      "outputs": [
        {
          "output_type": "stream",
          "name": "stdout",
          "text": [
            "Accuracy:  0.9385964912280702\n",
            "Recall:  0.9148936170212766\n",
            "Precision:  0.9347826086956522\n"
          ]
        }
      ]
    },
    {
      "cell_type": "code",
      "source": [
        "model = tf.keras.Sequential([\n",
        "    tf.keras.layers.Dense(15, activation='relu', input_shape=(15,)),\n",
        "    tf.keras.layers.BatchNormalization(),\n",
        "    tf.keras.layers.Dense(20, activation='relu'),\n",
        "    tf.keras.layers.BatchNormalization(),\n",
        "    tf.keras.layers.Dense(24, activation='relu'),\n",
        "    tf.keras.layers.Dropout(0.5),\n",
        "    tf.keras.layers.BatchNormalization(),\n",
        "    tf.keras.layers.Dense(28, activation='relu'),\n",
        "    tf.keras.layers.Dropout(0.5),\n",
        "    tf.keras.layers.Dense(1,activation='sigmoid')\n",
        "  ])\n",
        "model.compile(loss='binary_crossentropy',\n",
        "              optimizer = 'adam',\n",
        "              metrics=['accuracy'])\n",
        "model.summary()"
      ],
      "metadata": {
        "colab": {
          "base_uri": "https://localhost:8080/"
        },
        "id": "vFatN0KhWJr1",
        "outputId": "7ceb5e7d-9a8f-44ae-ab41-2d8ace47e179"
      },
      "execution_count": 63,
      "outputs": [
        {
          "output_type": "stream",
          "name": "stdout",
          "text": [
            "Model: \"sequential_5\"\n",
            "_________________________________________________________________\n",
            "Layer (type)                 Output Shape              Param #   \n",
            "=================================================================\n",
            "dense_25 (Dense)             (None, 15)                240       \n",
            "_________________________________________________________________\n",
            "batch_normalization_15 (Batc (None, 15)                60        \n",
            "_________________________________________________________________\n",
            "dense_26 (Dense)             (None, 20)                320       \n",
            "_________________________________________________________________\n",
            "batch_normalization_16 (Batc (None, 20)                80        \n",
            "_________________________________________________________________\n",
            "dense_27 (Dense)             (None, 24)                504       \n",
            "_________________________________________________________________\n",
            "dropout_10 (Dropout)         (None, 24)                0         \n",
            "_________________________________________________________________\n",
            "batch_normalization_17 (Batc (None, 24)                96        \n",
            "_________________________________________________________________\n",
            "dense_28 (Dense)             (None, 28)                700       \n",
            "_________________________________________________________________\n",
            "dropout_11 (Dropout)         (None, 28)                0         \n",
            "_________________________________________________________________\n",
            "dense_29 (Dense)             (None, 1)                 29        \n",
            "=================================================================\n",
            "Total params: 2,029\n",
            "Trainable params: 1,911\n",
            "Non-trainable params: 118\n",
            "_________________________________________________________________\n"
          ]
        }
      ]
    },
    {
      "cell_type": "code",
      "source": [
        "h = model.fit(X_train,y_train,epochs=50,validation_data=(X_test,y_test))"
      ],
      "metadata": {
        "colab": {
          "base_uri": "https://localhost:8080/"
        },
        "id": "fGeE_CR8WSNG",
        "outputId": "82c484d9-7185-4242-fcce-0f22ac1a1953"
      },
      "execution_count": 64,
      "outputs": [
        {
          "output_type": "stream",
          "name": "stdout",
          "text": [
            "Epoch 1/50\n",
            "15/15 [==============================] - 2s 18ms/step - loss: 0.8195 - accuracy: 0.5209 - val_loss: 0.6320 - val_accuracy: 0.7544\n",
            "Epoch 2/50\n",
            "15/15 [==============================] - 0s 4ms/step - loss: 0.7047 - accuracy: 0.5868 - val_loss: 0.5851 - val_accuracy: 0.9035\n",
            "Epoch 3/50\n",
            "15/15 [==============================] - 0s 4ms/step - loss: 0.6154 - accuracy: 0.6967 - val_loss: 0.5374 - val_accuracy: 0.8860\n",
            "Epoch 4/50\n",
            "15/15 [==============================] - 0s 5ms/step - loss: 0.5814 - accuracy: 0.6879 - val_loss: 0.4998 - val_accuracy: 0.8684\n",
            "Epoch 5/50\n",
            "15/15 [==============================] - 0s 5ms/step - loss: 0.4940 - accuracy: 0.7363 - val_loss: 0.4586 - val_accuracy: 0.8772\n",
            "Epoch 6/50\n",
            "15/15 [==============================] - 0s 4ms/step - loss: 0.4524 - accuracy: 0.8242 - val_loss: 0.4173 - val_accuracy: 0.8860\n",
            "Epoch 7/50\n",
            "15/15 [==============================] - 0s 6ms/step - loss: 0.3932 - accuracy: 0.8374 - val_loss: 0.3787 - val_accuracy: 0.9035\n",
            "Epoch 8/50\n",
            "15/15 [==============================] - 0s 6ms/step - loss: 0.3880 - accuracy: 0.8330 - val_loss: 0.3430 - val_accuracy: 0.9035\n",
            "Epoch 9/50\n",
            "15/15 [==============================] - 0s 6ms/step - loss: 0.3681 - accuracy: 0.8703 - val_loss: 0.3136 - val_accuracy: 0.9123\n",
            "Epoch 10/50\n",
            "15/15 [==============================] - 0s 4ms/step - loss: 0.3400 - accuracy: 0.8615 - val_loss: 0.2850 - val_accuracy: 0.9386\n",
            "Epoch 11/50\n",
            "15/15 [==============================] - 0s 5ms/step - loss: 0.3705 - accuracy: 0.8527 - val_loss: 0.2564 - val_accuracy: 0.9474\n",
            "Epoch 12/50\n",
            "15/15 [==============================] - 0s 4ms/step - loss: 0.3277 - accuracy: 0.8681 - val_loss: 0.2357 - val_accuracy: 0.9474\n",
            "Epoch 13/50\n",
            "15/15 [==============================] - 0s 4ms/step - loss: 0.3016 - accuracy: 0.8989 - val_loss: 0.2131 - val_accuracy: 0.9474\n",
            "Epoch 14/50\n",
            "15/15 [==============================] - 0s 4ms/step - loss: 0.2806 - accuracy: 0.8747 - val_loss: 0.1999 - val_accuracy: 0.9298\n",
            "Epoch 15/50\n",
            "15/15 [==============================] - 0s 5ms/step - loss: 0.2707 - accuracy: 0.9143 - val_loss: 0.1860 - val_accuracy: 0.9386\n",
            "Epoch 16/50\n",
            "15/15 [==============================] - 0s 4ms/step - loss: 0.2467 - accuracy: 0.9187 - val_loss: 0.1741 - val_accuracy: 0.9298\n",
            "Epoch 17/50\n",
            "15/15 [==============================] - 0s 4ms/step - loss: 0.2881 - accuracy: 0.9143 - val_loss: 0.1631 - val_accuracy: 0.9298\n",
            "Epoch 18/50\n",
            "15/15 [==============================] - 0s 4ms/step - loss: 0.2876 - accuracy: 0.8923 - val_loss: 0.1534 - val_accuracy: 0.9474\n",
            "Epoch 19/50\n",
            "15/15 [==============================] - 0s 6ms/step - loss: 0.2379 - accuracy: 0.9143 - val_loss: 0.1473 - val_accuracy: 0.9474\n",
            "Epoch 20/50\n",
            "15/15 [==============================] - 0s 4ms/step - loss: 0.2442 - accuracy: 0.9143 - val_loss: 0.1432 - val_accuracy: 0.9298\n",
            "Epoch 21/50\n",
            "15/15 [==============================] - 0s 4ms/step - loss: 0.2507 - accuracy: 0.9121 - val_loss: 0.1397 - val_accuracy: 0.9298\n",
            "Epoch 22/50\n",
            "15/15 [==============================] - 0s 5ms/step - loss: 0.2693 - accuracy: 0.8967 - val_loss: 0.1387 - val_accuracy: 0.9211\n",
            "Epoch 23/50\n",
            "15/15 [==============================] - 0s 4ms/step - loss: 0.2014 - accuracy: 0.9275 - val_loss: 0.1372 - val_accuracy: 0.9298\n",
            "Epoch 24/50\n",
            "15/15 [==============================] - 0s 5ms/step - loss: 0.1973 - accuracy: 0.9275 - val_loss: 0.1367 - val_accuracy: 0.9211\n",
            "Epoch 25/50\n",
            "15/15 [==============================] - 0s 6ms/step - loss: 0.2580 - accuracy: 0.9055 - val_loss: 0.1365 - val_accuracy: 0.9211\n",
            "Epoch 26/50\n",
            "15/15 [==============================] - 0s 6ms/step - loss: 0.1967 - accuracy: 0.9429 - val_loss: 0.1421 - val_accuracy: 0.9298\n",
            "Epoch 27/50\n",
            "15/15 [==============================] - 0s 5ms/step - loss: 0.2262 - accuracy: 0.9077 - val_loss: 0.1427 - val_accuracy: 0.9298\n",
            "Epoch 28/50\n",
            "15/15 [==============================] - 0s 4ms/step - loss: 0.1959 - accuracy: 0.9451 - val_loss: 0.1368 - val_accuracy: 0.9211\n",
            "Epoch 29/50\n",
            "15/15 [==============================] - 0s 4ms/step - loss: 0.1822 - accuracy: 0.9319 - val_loss: 0.1417 - val_accuracy: 0.9211\n",
            "Epoch 30/50\n",
            "15/15 [==============================] - 0s 4ms/step - loss: 0.2019 - accuracy: 0.9143 - val_loss: 0.1362 - val_accuracy: 0.9298\n",
            "Epoch 31/50\n",
            "15/15 [==============================] - 0s 4ms/step - loss: 0.1790 - accuracy: 0.9363 - val_loss: 0.1417 - val_accuracy: 0.9298\n",
            "Epoch 32/50\n",
            "15/15 [==============================] - 0s 4ms/step - loss: 0.1809 - accuracy: 0.9385 - val_loss: 0.1463 - val_accuracy: 0.9211\n",
            "Epoch 33/50\n",
            "15/15 [==============================] - 0s 4ms/step - loss: 0.1870 - accuracy: 0.9297 - val_loss: 0.1464 - val_accuracy: 0.9298\n",
            "Epoch 34/50\n",
            "15/15 [==============================] - 0s 4ms/step - loss: 0.2226 - accuracy: 0.9253 - val_loss: 0.1521 - val_accuracy: 0.9298\n",
            "Epoch 35/50\n",
            "15/15 [==============================] - 0s 4ms/step - loss: 0.1516 - accuracy: 0.9604 - val_loss: 0.1458 - val_accuracy: 0.9298\n",
            "Epoch 36/50\n",
            "15/15 [==============================] - 0s 7ms/step - loss: 0.1660 - accuracy: 0.9341 - val_loss: 0.1484 - val_accuracy: 0.9298\n",
            "Epoch 37/50\n",
            "15/15 [==============================] - 0s 4ms/step - loss: 0.1734 - accuracy: 0.9407 - val_loss: 0.1506 - val_accuracy: 0.9211\n",
            "Epoch 38/50\n",
            "15/15 [==============================] - 0s 4ms/step - loss: 0.1949 - accuracy: 0.9231 - val_loss: 0.1466 - val_accuracy: 0.9386\n",
            "Epoch 39/50\n",
            "15/15 [==============================] - 0s 5ms/step - loss: 0.1866 - accuracy: 0.9495 - val_loss: 0.1399 - val_accuracy: 0.9386\n",
            "Epoch 40/50\n",
            "15/15 [==============================] - 0s 4ms/step - loss: 0.1864 - accuracy: 0.9407 - val_loss: 0.1325 - val_accuracy: 0.9386\n",
            "Epoch 41/50\n",
            "15/15 [==============================] - 0s 4ms/step - loss: 0.1507 - accuracy: 0.9363 - val_loss: 0.1389 - val_accuracy: 0.9474\n",
            "Epoch 42/50\n",
            "15/15 [==============================] - 0s 4ms/step - loss: 0.1405 - accuracy: 0.9495 - val_loss: 0.1425 - val_accuracy: 0.9474\n",
            "Epoch 43/50\n",
            "15/15 [==============================] - 0s 5ms/step - loss: 0.1798 - accuracy: 0.9473 - val_loss: 0.1389 - val_accuracy: 0.9474\n",
            "Epoch 44/50\n",
            "15/15 [==============================] - 0s 4ms/step - loss: 0.1548 - accuracy: 0.9385 - val_loss: 0.1464 - val_accuracy: 0.9298\n",
            "Epoch 45/50\n",
            "15/15 [==============================] - 0s 4ms/step - loss: 0.1735 - accuracy: 0.9473 - val_loss: 0.1543 - val_accuracy: 0.9386\n",
            "Epoch 46/50\n",
            "15/15 [==============================] - 0s 5ms/step - loss: 0.1622 - accuracy: 0.9363 - val_loss: 0.1555 - val_accuracy: 0.9386\n",
            "Epoch 47/50\n",
            "15/15 [==============================] - 0s 4ms/step - loss: 0.1613 - accuracy: 0.9473 - val_loss: 0.1374 - val_accuracy: 0.9386\n",
            "Epoch 48/50\n",
            "15/15 [==============================] - 0s 4ms/step - loss: 0.2160 - accuracy: 0.9275 - val_loss: 0.1368 - val_accuracy: 0.9386\n",
            "Epoch 49/50\n",
            "15/15 [==============================] - 0s 4ms/step - loss: 0.1815 - accuracy: 0.9341 - val_loss: 0.1386 - val_accuracy: 0.9386\n",
            "Epoch 50/50\n",
            "15/15 [==============================] - 0s 6ms/step - loss: 0.1453 - accuracy: 0.9385 - val_loss: 0.1367 - val_accuracy: 0.9386\n"
          ]
        }
      ]
    },
    {
      "cell_type": "code",
      "source": [
        "plt.plot(h.history['accuracy'], label = 'Accuracy for Train set')\n",
        "plt.plot(h.history['val_accuracy'], label = 'Accuracy for Test Set')\n",
        "plt.title('Accuracy Graph for ANN')\n",
        "plt.ylabel('Accuracy')\n",
        "plt.xlabel('epochs')\n",
        "plt.legend()"
      ],
      "metadata": {
        "colab": {
          "base_uri": "https://localhost:8080/",
          "height": 312
        },
        "id": "jdcB3eTYWVgV",
        "outputId": "091dfd35-1bf2-4f1e-fa5b-0552e1df7867"
      },
      "execution_count": 65,
      "outputs": [
        {
          "output_type": "execute_result",
          "data": {
            "text/plain": [
              "<matplotlib.legend.Legend at 0x7f53b70ec710>"
            ]
          },
          "metadata": {},
          "execution_count": 65
        },
        {
          "output_type": "display_data",
          "data": {
            "text/plain": [
              "<Figure size 432x288 with 1 Axes>"
            ],
            "image/png": "[encoded data removed]"
          },
          "metadata": {
            "needs_background": "light"
          }
        }
      ]
    },
    {
      "cell_type": "code",
      "source": [
        "plt.plot(h.history['loss'], label = 'loss for Train set')\n",
        "plt.plot(h.history['val_loss'], label = 'loss for Test Set')\n",
        "plt.title('loss Graph for ANN')\n",
        "plt.ylabel('loss')\n",
        "plt.xlabel('epochs')\n",
        "plt.legend()"
      ],
      "metadata": {
        "colab": {
          "base_uri": "https://localhost:8080/",
          "height": 312
        },
        "id": "wIYjx4Z4WcLd",
        "outputId": "9abd13c7-630f-4e88-c325-b7ed0d5bca0b"
      },
      "execution_count": 66,
      "outputs": [
        {
          "output_type": "execute_result",
          "data": {
            "text/plain": [
              "<matplotlib.legend.Legend at 0x7f53b7b2d8d0>"
            ]
          },
          "metadata": {},
          "execution_count": 66
        },
        {
          "output_type": "display_data",
          "data": {
            "text/plain": [
              "<Figure size 432x288 with 1 Axes>"
            ],
            "image/png": "[encoded data removed]"
          },
          "metadata": {
            "needs_background": "light"
          }
        }
      ]
    },
    {
      "cell_type": "code",
      "source": [
        "y_pred_ann = model.predict_classes(X_test)\n",
        "print(\"Accuracy: \",accuracy_score(y_test,y_pred_ann))\n",
        "print(\"Recall: \", recall_score(y_test,y_pred_ann))\n",
        "print(\"Precision: \", precision_score(y_test,y_pred_ann))"
      ],
      "metadata": {
        "colab": {
          "base_uri": "https://localhost:8080/"
        },
        "id": "PwP9gWzBWc1V",
        "outputId": "296344d4-2ec3-41d7-da0d-ec1fdd016232"
      },
      "execution_count": 67,
      "outputs": [
        {
          "output_type": "stream",
          "name": "stderr",
          "text": [
            "/usr/local/lib/python3.7/dist-packages/tensorflow/python/keras/engine/sequential.py:455: UserWarning: `model.predict_classes()` is deprecated and will be removed after 2021-01-01. Please use instead:* `np.argmax(model.predict(x), axis=-1)`,   if your model does multi-class classification   (e.g. if it uses a `softmax` last-layer activation).* `(model.predict(x) > 0.5).astype(\"int32\")`,   if your model does binary classification   (e.g. if it uses a `sigmoid` last-layer activation).\n",
            "  warnings.warn('`model.predict_classes()` is deprecated and '\n"
          ]
        },
        {
          "output_type": "stream",
          "name": "stdout",
          "text": [
            "Accuracy:  0.9385964912280702\n",
            "Recall:  0.9148936170212766\n",
            "Precision:  0.9347826086956522\n"
          ]
        }
      ]
    },
    {
      "cell_type": "code",
      "source": [
        "rank7  = pd.read_excel(\"/content/cancer_dataset_U.xlsx\",sheet_name = \"mutual_info\").set_index('Attributes_Names')\n",
        "df_mutual = df_new[rank7[:15].index]\n",
        "X_col =  df_mutual\n",
        "y = df_new['diagnosis']\n",
        "Scaler = StandardScaler()\n",
        "X_col =  Scaler.fit_transform(X_col)\n",
        "X_train, X_test, y_train, y_test = train_test_split(X_col, y, test_size=0.2, random_state=0)\n",
        "print(\"Shape of training data\",X_train.shape)\n",
        "print(\"Shape of testing data\",X_test.shape)"
      ],
      "metadata": {
        "colab": {
          "base_uri": "https://localhost:8080/"
        },
        "id": "NrVciHGzWfui",
        "outputId": "4905f6b5-f573-48b4-d5e6-856083d075ef"
      },
      "execution_count": 68,
      "outputs": [
        {
          "output_type": "stream",
          "name": "stdout",
          "text": [
            "Shape of training data (455, 15)\n",
            "Shape of testing data (114, 15)\n"
          ]
        }
      ]
    },
    {
      "cell_type": "code",
      "source": [
        "rf =  RandomForestClassifier()\n",
        "rf.fit(X_train,y_train)\n",
        "y_pred_rf =  rf.predict(X_test)\n",
        "print(\"Accuracy: \",accuracy_score(y_test,y_pred_rf))\n",
        "print(\"Recall: \", recall_score(y_test,y_pred_rf))\n",
        "print(\"Precision: \", precision_score(y_test,y_pred_rf))"
      ],
      "metadata": {
        "colab": {
          "base_uri": "https://localhost:8080/"
        },
        "id": "hKLJj3VLWsBe",
        "outputId": "368a30f2-e1cf-478b-9170-790cde1f1584"
      },
      "execution_count": 69,
      "outputs": [
        {
          "output_type": "stream",
          "name": "stdout",
          "text": [
            "Accuracy:  0.9385964912280702\n",
            "Recall:  0.9361702127659575\n",
            "Precision:  0.9166666666666666\n"
          ]
        }
      ]
    },
    {
      "cell_type": "code",
      "source": [
        "svc =  SVC()\n",
        "svc.fit(X_test,y_test)\n",
        "y_pred_svc =  svc.predict(X_test)\n",
        "print(\"Accuracy: \",accuracy_score(y_test,y_pred_svc))\n",
        "print(\"Recall: \", recall_score(y_test,y_pred_svc))\n",
        "print(\"Precision: \", precision_score(y_test,y_pred_svc))"
      ],
      "metadata": {
        "colab": {
          "base_uri": "https://localhost:8080/"
        },
        "id": "dKhOgF_IWyWy",
        "outputId": "a846b168-6892-4691-bb81-a72e8b85e2a8"
      },
      "execution_count": 70,
      "outputs": [
        {
          "output_type": "stream",
          "name": "stdout",
          "text": [
            "Accuracy:  0.9385964912280702\n",
            "Recall:  0.9148936170212766\n",
            "Precision:  0.9347826086956522\n"
          ]
        }
      ]
    },
    {
      "cell_type": "code",
      "source": [
        "model = tf.keras.Sequential([\n",
        "    tf.keras.layers.Dense(15, activation='relu', input_shape=(15,)),\n",
        "    tf.keras.layers.BatchNormalization(),\n",
        "    tf.keras.layers.Dense(20, activation='relu'),\n",
        "    tf.keras.layers.BatchNormalization(),\n",
        "    tf.keras.layers.Dense(24, activation='relu'),\n",
        "    tf.keras.layers.Dropout(0.5),\n",
        "    tf.keras.layers.BatchNormalization(),\n",
        "    tf.keras.layers.Dense(28, activation='relu'),\n",
        "    tf.keras.layers.Dropout(0.5),\n",
        "    tf.keras.layers.Dense(1,activation='sigmoid')\n",
        "  ])\n",
        "model.compile(loss='binary_crossentropy',\n",
        "              optimizer = 'adam',\n",
        "              metrics=['accuracy'])\n",
        "model.summary()"
      ],
      "metadata": {
        "colab": {
          "base_uri": "https://localhost:8080/"
        },
        "id": "qH0MPiIMW1qo",
        "outputId": "f3bcdd6b-cdb7-4b58-ae76-0fcc89e4530d"
      },
      "execution_count": 71,
      "outputs": [
        {
          "output_type": "stream",
          "name": "stdout",
          "text": [
            "Model: \"sequential_6\"\n",
            "_________________________________________________________________\n",
            "Layer (type)                 Output Shape              Param #   \n",
            "=================================================================\n",
            "dense_30 (Dense)             (None, 15)                240       \n",
            "_________________________________________________________________\n",
            "batch_normalization_18 (Batc (None, 15)                60        \n",
            "_________________________________________________________________\n",
            "dense_31 (Dense)             (None, 20)                320       \n",
            "_________________________________________________________________\n",
            "batch_normalization_19 (Batc (None, 20)                80        \n",
            "_________________________________________________________________\n",
            "dense_32 (Dense)             (None, 24)                504       \n",
            "_________________________________________________________________\n",
            "dropout_12 (Dropout)         (None, 24)                0         \n",
            "_________________________________________________________________\n",
            "batch_normalization_20 (Batc (None, 24)                96        \n",
            "_________________________________________________________________\n",
            "dense_33 (Dense)             (None, 28)                700       \n",
            "_________________________________________________________________\n",
            "dropout_13 (Dropout)         (None, 28)                0         \n",
            "_________________________________________________________________\n",
            "dense_34 (Dense)             (None, 1)                 29        \n",
            "=================================================================\n",
            "Total params: 2,029\n",
            "Trainable params: 1,911\n",
            "Non-trainable params: 118\n",
            "_________________________________________________________________\n"
          ]
        }
      ]
    },
    {
      "cell_type": "code",
      "source": [
        "h = model.fit(X_train,y_train,epochs=50,validation_data=(X_test,y_test))"
      ],
      "metadata": {
        "colab": {
          "base_uri": "https://localhost:8080/"
        },
        "id": "HxJZS2g7W6Re",
        "outputId": "9c8a1ac6-82fc-4f35-c0b8-0c2a86d49ced"
      },
      "execution_count": 72,
      "outputs": [
        {
          "output_type": "stream",
          "name": "stdout",
          "text": [
            "Epoch 1/50\n",
            "15/15 [==============================] - 2s 68ms/step - loss: 0.7151 - accuracy: 0.5297 - val_loss: 0.5931 - val_accuracy: 0.8421\n",
            "Epoch 2/50\n",
            "15/15 [==============================] - 0s 6ms/step - loss: 0.5637 - accuracy: 0.6945 - val_loss: 0.5435 - val_accuracy: 0.9386\n",
            "Epoch 3/50\n",
            "15/15 [==============================] - 0s 7ms/step - loss: 0.4950 - accuracy: 0.7604 - val_loss: 0.4825 - val_accuracy: 0.9123\n",
            "Epoch 4/50\n",
            "15/15 [==============================] - 0s 6ms/step - loss: 0.4309 - accuracy: 0.8022 - val_loss: 0.4310 - val_accuracy: 0.9211\n",
            "Epoch 5/50\n",
            "15/15 [==============================] - 0s 7ms/step - loss: 0.3743 - accuracy: 0.8571 - val_loss: 0.3897 - val_accuracy: 0.9211\n",
            "Epoch 6/50\n",
            "15/15 [==============================] - 0s 6ms/step - loss: 0.3362 - accuracy: 0.8725 - val_loss: 0.3486 - val_accuracy: 0.9211\n",
            "Epoch 7/50\n",
            "15/15 [==============================] - 0s 6ms/step - loss: 0.3276 - accuracy: 0.8703 - val_loss: 0.3186 - val_accuracy: 0.9211\n",
            "Epoch 8/50\n",
            "15/15 [==============================] - 0s 6ms/step - loss: 0.2695 - accuracy: 0.8923 - val_loss: 0.2917 - val_accuracy: 0.9211\n",
            "Epoch 9/50\n",
            "15/15 [==============================] - 0s 7ms/step - loss: 0.2591 - accuracy: 0.8945 - val_loss: 0.2661 - val_accuracy: 0.9211\n",
            "Epoch 10/50\n",
            "15/15 [==============================] - 0s 5ms/step - loss: 0.2353 - accuracy: 0.9165 - val_loss: 0.2464 - val_accuracy: 0.9211\n",
            "Epoch 11/50\n",
            "15/15 [==============================] - 0s 6ms/step - loss: 0.2382 - accuracy: 0.9187 - val_loss: 0.2307 - val_accuracy: 0.9298\n",
            "Epoch 12/50\n",
            "15/15 [==============================] - 0s 6ms/step - loss: 0.2511 - accuracy: 0.9099 - val_loss: 0.2239 - val_accuracy: 0.9298\n",
            "Epoch 13/50\n",
            "15/15 [==============================] - 0s 5ms/step - loss: 0.2465 - accuracy: 0.9143 - val_loss: 0.2188 - val_accuracy: 0.9298\n",
            "Epoch 14/50\n",
            "15/15 [==============================] - 0s 6ms/step - loss: 0.2066 - accuracy: 0.9319 - val_loss: 0.2134 - val_accuracy: 0.9298\n",
            "Epoch 15/50\n",
            "15/15 [==============================] - 0s 6ms/step - loss: 0.2108 - accuracy: 0.9231 - val_loss: 0.2053 - val_accuracy: 0.9386\n",
            "Epoch 16/50\n",
            "15/15 [==============================] - 0s 7ms/step - loss: 0.2540 - accuracy: 0.9055 - val_loss: 0.1975 - val_accuracy: 0.9211\n",
            "Epoch 17/50\n",
            "15/15 [==============================] - 0s 5ms/step - loss: 0.2077 - accuracy: 0.9341 - val_loss: 0.1916 - val_accuracy: 0.9386\n",
            "Epoch 18/50\n",
            "15/15 [==============================] - 0s 5ms/step - loss: 0.1833 - accuracy: 0.9385 - val_loss: 0.1868 - val_accuracy: 0.9211\n",
            "Epoch 19/50\n",
            "15/15 [==============================] - 0s 6ms/step - loss: 0.2009 - accuracy: 0.9385 - val_loss: 0.1800 - val_accuracy: 0.9211\n",
            "Epoch 20/50\n",
            "15/15 [==============================] - 0s 6ms/step - loss: 0.2025 - accuracy: 0.9429 - val_loss: 0.1736 - val_accuracy: 0.9211\n",
            "Epoch 21/50\n",
            "15/15 [==============================] - 0s 8ms/step - loss: 0.2064 - accuracy: 0.9363 - val_loss: 0.1704 - val_accuracy: 0.9123\n",
            "Epoch 22/50\n",
            "15/15 [==============================] - 0s 7ms/step - loss: 0.1967 - accuracy: 0.9319 - val_loss: 0.1646 - val_accuracy: 0.9123\n",
            "Epoch 23/50\n",
            "15/15 [==============================] - 0s 7ms/step - loss: 0.1722 - accuracy: 0.9429 - val_loss: 0.1641 - val_accuracy: 0.9123\n",
            "Epoch 24/50\n",
            "15/15 [==============================] - 0s 6ms/step - loss: 0.1623 - accuracy: 0.9495 - val_loss: 0.1629 - val_accuracy: 0.9035\n",
            "Epoch 25/50\n",
            "15/15 [==============================] - 0s 8ms/step - loss: 0.1626 - accuracy: 0.9385 - val_loss: 0.1600 - val_accuracy: 0.9035\n",
            "Epoch 26/50\n",
            "15/15 [==============================] - 0s 7ms/step - loss: 0.1303 - accuracy: 0.9516 - val_loss: 0.1628 - val_accuracy: 0.9035\n",
            "Epoch 27/50\n",
            "15/15 [==============================] - 0s 6ms/step - loss: 0.1950 - accuracy: 0.9429 - val_loss: 0.1677 - val_accuracy: 0.9035\n",
            "Epoch 28/50\n",
            "15/15 [==============================] - 0s 9ms/step - loss: 0.1658 - accuracy: 0.9538 - val_loss: 0.1677 - val_accuracy: 0.9035\n",
            "Epoch 29/50\n",
            "15/15 [==============================] - 0s 8ms/step - loss: 0.1677 - accuracy: 0.9363 - val_loss: 0.1651 - val_accuracy: 0.9035\n",
            "Epoch 30/50\n",
            "15/15 [==============================] - 0s 8ms/step - loss: 0.1868 - accuracy: 0.9407 - val_loss: 0.1634 - val_accuracy: 0.9035\n",
            "Epoch 31/50\n",
            "15/15 [==============================] - 0s 11ms/step - loss: 0.1503 - accuracy: 0.9516 - val_loss: 0.1632 - val_accuracy: 0.9123\n",
            "Epoch 32/50\n",
            "15/15 [==============================] - 0s 7ms/step - loss: 0.1543 - accuracy: 0.9429 - val_loss: 0.1589 - val_accuracy: 0.9123\n",
            "Epoch 33/50\n",
            "15/15 [==============================] - 0s 8ms/step - loss: 0.1570 - accuracy: 0.9495 - val_loss: 0.1529 - val_accuracy: 0.9211\n",
            "Epoch 34/50\n",
            "15/15 [==============================] - 0s 9ms/step - loss: 0.1207 - accuracy: 0.9495 - val_loss: 0.1486 - val_accuracy: 0.9123\n",
            "Epoch 35/50\n",
            "15/15 [==============================] - 0s 7ms/step - loss: 0.1659 - accuracy: 0.9385 - val_loss: 0.1494 - val_accuracy: 0.9211\n",
            "Epoch 36/50\n",
            "15/15 [==============================] - 0s 8ms/step - loss: 0.1532 - accuracy: 0.9407 - val_loss: 0.1519 - val_accuracy: 0.9211\n",
            "Epoch 37/50\n",
            "15/15 [==============================] - 0s 10ms/step - loss: 0.1274 - accuracy: 0.9495 - val_loss: 0.1555 - val_accuracy: 0.9211\n",
            "Epoch 38/50\n",
            "15/15 [==============================] - 0s 14ms/step - loss: 0.1512 - accuracy: 0.9626 - val_loss: 0.1533 - val_accuracy: 0.9211\n",
            "Epoch 39/50\n",
            "15/15 [==============================] - 0s 20ms/step - loss: 0.1567 - accuracy: 0.9341 - val_loss: 0.1530 - val_accuracy: 0.9211\n",
            "Epoch 40/50\n",
            "15/15 [==============================] - 0s 14ms/step - loss: 0.1473 - accuracy: 0.9582 - val_loss: 0.1479 - val_accuracy: 0.9298\n",
            "Epoch 41/50\n",
            "15/15 [==============================] - 0s 7ms/step - loss: 0.1449 - accuracy: 0.9538 - val_loss: 0.1448 - val_accuracy: 0.9298\n",
            "Epoch 42/50\n",
            "15/15 [==============================] - 0s 8ms/step - loss: 0.2286 - accuracy: 0.9209 - val_loss: 0.1312 - val_accuracy: 0.9298\n",
            "Epoch 43/50\n",
            "15/15 [==============================] - 0s 8ms/step - loss: 0.1492 - accuracy: 0.9538 - val_loss: 0.1323 - val_accuracy: 0.9298\n",
            "Epoch 44/50\n",
            "15/15 [==============================] - 0s 11ms/step - loss: 0.1562 - accuracy: 0.9429 - val_loss: 0.1507 - val_accuracy: 0.9298\n",
            "Epoch 45/50\n",
            "15/15 [==============================] - 0s 11ms/step - loss: 0.1715 - accuracy: 0.9451 - val_loss: 0.1524 - val_accuracy: 0.9298\n",
            "Epoch 46/50\n",
            "15/15 [==============================] - 0s 13ms/step - loss: 0.1441 - accuracy: 0.9516 - val_loss: 0.1415 - val_accuracy: 0.9298\n",
            "Epoch 47/50\n",
            "15/15 [==============================] - 0s 10ms/step - loss: 0.1456 - accuracy: 0.9560 - val_loss: 0.1392 - val_accuracy: 0.9123\n",
            "Epoch 48/50\n",
            "15/15 [==============================] - 0s 12ms/step - loss: 0.1398 - accuracy: 0.9516 - val_loss: 0.1416 - val_accuracy: 0.9298\n",
            "Epoch 49/50\n",
            "15/15 [==============================] - 0s 14ms/step - loss: 0.1235 - accuracy: 0.9604 - val_loss: 0.1402 - val_accuracy: 0.9298\n",
            "Epoch 50/50\n",
            "15/15 [==============================] - 0s 12ms/step - loss: 0.1198 - accuracy: 0.9560 - val_loss: 0.1426 - val_accuracy: 0.9298\n"
          ]
        }
      ]
    },
    {
      "cell_type": "code",
      "source": [
        "plt.plot(h.history['accuracy'], label = 'Accuracy for Train set')\n",
        "plt.plot(h.history['val_accuracy'], label = 'Accuracy for Test Set')\n",
        "plt.title('Accuracy Graph for ANN')\n",
        "plt.ylabel('Accuracy')\n",
        "plt.xlabel('epochs')\n",
        "plt.legend()"
      ],
      "metadata": {
        "colab": {
          "base_uri": "https://localhost:8080/",
          "height": 312
        },
        "id": "MXzXiNFqW-T7",
        "outputId": "780ac4b6-b6f2-439e-8061-f4ac90e25f25"
      },
      "execution_count": 73,
      "outputs": [
        {
          "output_type": "execute_result",
          "data": {
            "text/plain": [
              "<matplotlib.legend.Legend at 0x7f53b8da2f90>"
            ]
          },
          "metadata": {},
          "execution_count": 73
        },
        {
          "output_type": "display_data",
          "data": {
            "text/plain": [
              "<Figure size 432x288 with 1 Axes>"
            ],
            "image/png": "[encoded data removed]"
          },
          "metadata": {
            "needs_background": "light"
          }
        }
      ]
    },
    {
      "cell_type": "code",
      "source": [
        "plt.plot(h.history['loss'], label = 'loss for Train set')\n",
        "plt.plot(h.history['val_loss'], label = 'loss for Test Set')\n",
        "plt.title('loss Graph for ANN')\n",
        "plt.ylabel('loss')\n",
        "plt.xlabel('epochs')\n",
        "plt.legend()"
      ],
      "metadata": {
        "colab": {
          "base_uri": "https://localhost:8080/",
          "height": 312
        },
        "id": "YFY92YkwXBy9",
        "outputId": "e34cce11-7c87-442a-f280-075704a3e6ca"
      },
      "execution_count": 74,
      "outputs": [
        {
          "output_type": "execute_result",
          "data": {
            "text/plain": [
              "<matplotlib.legend.Legend at 0x7f53b9823e50>"
            ]
          },
          "metadata": {},
          "execution_count": 74
        },
        {
          "output_type": "display_data",
          "data": {
            "text/plain": [
              "<Figure size 432x288 with 1 Axes>"
            ],
            "image/png": "[encoded data removed]"
          },
          "metadata": {
            "needs_background": "light"
          }
        }
      ]
    },
    {
      "cell_type": "code",
      "source": [
        "y_pred_ann = model.predict_classes(X_test)\n",
        "print(\"Accuracy: \",accuracy_score(y_test,y_pred_ann))\n",
        "print(\"Recall: \", recall_score(y_test,y_pred_ann))\n",
        "print(\"Precision: \", precision_score(y_test,y_pred_ann))"
      ],
      "metadata": {
        "colab": {
          "base_uri": "https://localhost:8080/"
        },
        "id": "yAPpJuXHXFxi",
        "outputId": "1ff21e82-c81d-4148-b049-74ca837db3a9"
      },
      "execution_count": 75,
      "outputs": [
        {
          "output_type": "stream",
          "name": "stderr",
          "text": [
            "/usr/local/lib/python3.7/dist-packages/tensorflow/python/keras/engine/sequential.py:455: UserWarning: `model.predict_classes()` is deprecated and will be removed after 2021-01-01. Please use instead:* `np.argmax(model.predict(x), axis=-1)`,   if your model does multi-class classification   (e.g. if it uses a `softmax` last-layer activation).* `(model.predict(x) > 0.5).astype(\"int32\")`,   if your model does binary classification   (e.g. if it uses a `sigmoid` last-layer activation).\n",
            "  warnings.warn('`model.predict_classes()` is deprecated and '\n"
          ]
        },
        {
          "output_type": "stream",
          "name": "stdout",
          "text": [
            "Accuracy:  0.9298245614035088\n",
            "Recall:  0.9574468085106383\n",
            "Precision:  0.8823529411764706\n"
          ]
        }
      ]
    },
    {
      "cell_type": "code",
      "source": [
        "rank8  = pd.read_excel(\"/content/cancer_dataset_U.xlsx\",sheet_name = \"Pearson_Correlation\").set_index('Attributes_Names')\n",
        "df_pearson =  df_new[rank8[:15].index]\n",
        "X_col =  df_pearson\n",
        "y = df_new['diagnosis']\n",
        "Scaler = StandardScaler()\n",
        "X_col =  Scaler.fit_transform(X_col)\n",
        "X_train, X_test, y_train, y_test = train_test_split(X_col, y, test_size=0.2, random_state=0)\n",
        "print(\"Shape of training data\",X_train.shape)\n",
        "print(\"Shape of testing data\",X_test.shape)"
      ],
      "metadata": {
        "colab": {
          "base_uri": "https://localhost:8080/"
        },
        "id": "AI_HwJdSXJeN",
        "outputId": "6a8be9fe-2811-44c4-b9a8-5695924fb935"
      },
      "execution_count": 76,
      "outputs": [
        {
          "output_type": "stream",
          "name": "stdout",
          "text": [
            "Shape of training data (455, 15)\n",
            "Shape of testing data (114, 15)\n"
          ]
        }
      ]
    },
    {
      "cell_type": "code",
      "source": [
        "rf =  RandomForestClassifier()\n",
        "rf.fit(X_train,y_train)\n",
        "y_pred_rf =  rf.predict(X_test)\n",
        "print(\"Accuracy: \",accuracy_score(y_test,y_pred_rf))\n",
        "print(\"Recall: \", recall_score(y_test,y_pred_rf))\n",
        "print(\"Precision: \", precision_score(y_test,y_pred_rf))"
      ],
      "metadata": {
        "colab": {
          "base_uri": "https://localhost:8080/"
        },
        "id": "qdQLaNY0XTHt",
        "outputId": "35d812a2-7575-47c2-cbe8-c67482dd98cf"
      },
      "execution_count": 77,
      "outputs": [
        {
          "output_type": "stream",
          "name": "stdout",
          "text": [
            "Accuracy:  0.9473684210526315\n",
            "Recall:  0.9361702127659575\n",
            "Precision:  0.9361702127659575\n"
          ]
        }
      ]
    },
    {
      "cell_type": "code",
      "source": [
        "svc =  SVC()\n",
        "svc.fit(X_test,y_test)\n",
        "y_pred_svc =  svc.predict(X_test)\n",
        "print(\"Accuracy: \",accuracy_score(y_test,y_pred_svc))\n",
        "print(\"Recall: \", recall_score(y_test,y_pred_svc))\n",
        "print(\"Precision: \", precision_score(y_test,y_pred_svc))"
      ],
      "metadata": {
        "colab": {
          "base_uri": "https://localhost:8080/"
        },
        "id": "i3g0Pem0XbBp",
        "outputId": "3fb23325-1751-4422-9374-1c34195dfe24"
      },
      "execution_count": 78,
      "outputs": [
        {
          "output_type": "stream",
          "name": "stdout",
          "text": [
            "Accuracy:  0.9385964912280702\n",
            "Recall:  0.9148936170212766\n",
            "Precision:  0.9347826086956522\n"
          ]
        }
      ]
    },
    {
      "cell_type": "code",
      "source": [
        "model = tf.keras.Sequential([\n",
        "    tf.keras.layers.Dense(15, activation='relu', input_shape=(15,)),\n",
        "    tf.keras.layers.BatchNormalization(),\n",
        "    tf.keras.layers.Dense(20, activation='relu'),\n",
        "    tf.keras.layers.BatchNormalization(),\n",
        "    tf.keras.layers.Dense(24, activation='relu'),\n",
        "    tf.keras.layers.Dropout(0.5),\n",
        "    tf.keras.layers.BatchNormalization(),\n",
        "    tf.keras.layers.Dense(28, activation='relu'),\n",
        "    tf.keras.layers.Dropout(0.5),\n",
        "    tf.keras.layers.Dense(1,activation='sigmoid')\n",
        "  ])\n",
        "model.compile(loss='binary_crossentropy',\n",
        "              optimizer = 'adam',\n",
        "              metrics=['accuracy'])\n",
        "model.summary()"
      ],
      "metadata": {
        "colab": {
          "base_uri": "https://localhost:8080/"
        },
        "id": "856h8huNXdvj",
        "outputId": "ec8aa2f3-f417-4648-e2ae-3f34c1d35d97"
      },
      "execution_count": 79,
      "outputs": [
        {
          "output_type": "stream",
          "name": "stdout",
          "text": [
            "Model: \"sequential_7\"\n",
            "_________________________________________________________________\n",
            "Layer (type)                 Output Shape              Param #   \n",
            "=================================================================\n",
            "dense_35 (Dense)             (None, 15)                240       \n",
            "_________________________________________________________________\n",
            "batch_normalization_21 (Batc (None, 15)                60        \n",
            "_________________________________________________________________\n",
            "dense_36 (Dense)             (None, 20)                320       \n",
            "_________________________________________________________________\n",
            "batch_normalization_22 (Batc (None, 20)                80        \n",
            "_________________________________________________________________\n",
            "dense_37 (Dense)             (None, 24)                504       \n",
            "_________________________________________________________________\n",
            "dropout_14 (Dropout)         (None, 24)                0         \n",
            "_________________________________________________________________\n",
            "batch_normalization_23 (Batc (None, 24)                96        \n",
            "_________________________________________________________________\n",
            "dense_38 (Dense)             (None, 28)                700       \n",
            "_________________________________________________________________\n",
            "dropout_15 (Dropout)         (None, 28)                0         \n",
            "_________________________________________________________________\n",
            "dense_39 (Dense)             (None, 1)                 29        \n",
            "=================================================================\n",
            "Total params: 2,029\n",
            "Trainable params: 1,911\n",
            "Non-trainable params: 118\n",
            "_________________________________________________________________\n"
          ]
        }
      ]
    },
    {
      "cell_type": "code",
      "source": [
        "h = model.fit(X_train,y_train,epochs=50,validation_data=(X_test,y_test))"
      ],
      "metadata": {
        "colab": {
          "base_uri": "https://localhost:8080/"
        },
        "id": "HGQ1tbpBXkHt",
        "outputId": "90a8a992-1c8d-4af9-ef1d-43d9d611eb7a"
      },
      "execution_count": 80,
      "outputs": [
        {
          "output_type": "stream",
          "name": "stdout",
          "text": [
            "Epoch 1/50\n",
            "15/15 [==============================] - 1s 18ms/step - loss: 0.7905 - accuracy: 0.6022 - val_loss: 0.6848 - val_accuracy: 0.6140\n",
            "Epoch 2/50\n",
            "15/15 [==============================] - 0s 4ms/step - loss: 0.6715 - accuracy: 0.6484 - val_loss: 0.6226 - val_accuracy: 0.7895\n",
            "Epoch 3/50\n",
            "15/15 [==============================] - 0s 5ms/step - loss: 0.5358 - accuracy: 0.7055 - val_loss: 0.5739 - val_accuracy: 0.9211\n",
            "Epoch 4/50\n",
            "15/15 [==============================] - 0s 5ms/step - loss: 0.4811 - accuracy: 0.7670 - val_loss: 0.5268 - val_accuracy: 0.9211\n",
            "Epoch 5/50\n",
            "15/15 [==============================] - 0s 5ms/step - loss: 0.4769 - accuracy: 0.7868 - val_loss: 0.4773 - val_accuracy: 0.9123\n",
            "Epoch 6/50\n",
            "15/15 [==============================] - 0s 4ms/step - loss: 0.3992 - accuracy: 0.8176 - val_loss: 0.4330 - val_accuracy: 0.9123\n",
            "Epoch 7/50\n",
            "15/15 [==============================] - 0s 4ms/step - loss: 0.4070 - accuracy: 0.8220 - val_loss: 0.3900 - val_accuracy: 0.9211\n",
            "Epoch 8/50\n",
            "15/15 [==============================] - 0s 5ms/step - loss: 0.3350 - accuracy: 0.8440 - val_loss: 0.3502 - val_accuracy: 0.9211\n",
            "Epoch 9/50\n",
            "15/15 [==============================] - 0s 4ms/step - loss: 0.3444 - accuracy: 0.8615 - val_loss: 0.3107 - val_accuracy: 0.9211\n",
            "Epoch 10/50\n",
            "15/15 [==============================] - 0s 5ms/step - loss: 0.3111 - accuracy: 0.8571 - val_loss: 0.2799 - val_accuracy: 0.9211\n",
            "Epoch 11/50\n",
            "15/15 [==============================] - 0s 4ms/step - loss: 0.2925 - accuracy: 0.8813 - val_loss: 0.2554 - val_accuracy: 0.9211\n",
            "Epoch 12/50\n",
            "15/15 [==============================] - 0s 5ms/step - loss: 0.2700 - accuracy: 0.8967 - val_loss: 0.2274 - val_accuracy: 0.9211\n",
            "Epoch 13/50\n",
            "15/15 [==============================] - 0s 4ms/step - loss: 0.2430 - accuracy: 0.9165 - val_loss: 0.2052 - val_accuracy: 0.9211\n",
            "Epoch 14/50\n",
            "15/15 [==============================] - 0s 4ms/step - loss: 0.2363 - accuracy: 0.9187 - val_loss: 0.1914 - val_accuracy: 0.9211\n",
            "Epoch 15/50\n",
            "15/15 [==============================] - 0s 5ms/step - loss: 0.2397 - accuracy: 0.8923 - val_loss: 0.1813 - val_accuracy: 0.9211\n",
            "Epoch 16/50\n",
            "15/15 [==============================] - 0s 6ms/step - loss: 0.2778 - accuracy: 0.9011 - val_loss: 0.1709 - val_accuracy: 0.9298\n",
            "Epoch 17/50\n",
            "15/15 [==============================] - 0s 5ms/step - loss: 0.2035 - accuracy: 0.9341 - val_loss: 0.1607 - val_accuracy: 0.9298\n",
            "Epoch 18/50\n",
            "15/15 [==============================] - 0s 6ms/step - loss: 0.2125 - accuracy: 0.9187 - val_loss: 0.1542 - val_accuracy: 0.9298\n",
            "Epoch 19/50\n",
            "15/15 [==============================] - 0s 4ms/step - loss: 0.2070 - accuracy: 0.9121 - val_loss: 0.1512 - val_accuracy: 0.9298\n",
            "Epoch 20/50\n",
            "15/15 [==============================] - 0s 4ms/step - loss: 0.1933 - accuracy: 0.9319 - val_loss: 0.1497 - val_accuracy: 0.9298\n",
            "Epoch 21/50\n",
            "15/15 [==============================] - 0s 5ms/step - loss: 0.2111 - accuracy: 0.9275 - val_loss: 0.1457 - val_accuracy: 0.9211\n",
            "Epoch 22/50\n",
            "15/15 [==============================] - 0s 4ms/step - loss: 0.2043 - accuracy: 0.9275 - val_loss: 0.1394 - val_accuracy: 0.9211\n",
            "Epoch 23/50\n",
            "15/15 [==============================] - 0s 4ms/step - loss: 0.1829 - accuracy: 0.9319 - val_loss: 0.1356 - val_accuracy: 0.9211\n",
            "Epoch 24/50\n",
            "15/15 [==============================] - 0s 4ms/step - loss: 0.2041 - accuracy: 0.9341 - val_loss: 0.1346 - val_accuracy: 0.9123\n",
            "Epoch 25/50\n",
            "15/15 [==============================] - 0s 4ms/step - loss: 0.1866 - accuracy: 0.9297 - val_loss: 0.1321 - val_accuracy: 0.9211\n",
            "Epoch 26/50\n",
            "15/15 [==============================] - 0s 4ms/step - loss: 0.1761 - accuracy: 0.9363 - val_loss: 0.1304 - val_accuracy: 0.9211\n",
            "Epoch 27/50\n",
            "15/15 [==============================] - 0s 5ms/step - loss: 0.2034 - accuracy: 0.9341 - val_loss: 0.1249 - val_accuracy: 0.9211\n",
            "Epoch 28/50\n",
            "15/15 [==============================] - 0s 5ms/step - loss: 0.1585 - accuracy: 0.9560 - val_loss: 0.1192 - val_accuracy: 0.9211\n",
            "Epoch 29/50\n",
            "15/15 [==============================] - 0s 4ms/step - loss: 0.1573 - accuracy: 0.9407 - val_loss: 0.1140 - val_accuracy: 0.9211\n",
            "Epoch 30/50\n",
            "15/15 [==============================] - 0s 6ms/step - loss: 0.1779 - accuracy: 0.9429 - val_loss: 0.1111 - val_accuracy: 0.9211\n",
            "Epoch 31/50\n",
            "15/15 [==============================] - 0s 6ms/step - loss: 0.1535 - accuracy: 0.9451 - val_loss: 0.1101 - val_accuracy: 0.9211\n",
            "Epoch 32/50\n",
            "15/15 [==============================] - 0s 4ms/step - loss: 0.1986 - accuracy: 0.9231 - val_loss: 0.1128 - val_accuracy: 0.9211\n",
            "Epoch 33/50\n",
            "15/15 [==============================] - 0s 5ms/step - loss: 0.1470 - accuracy: 0.9429 - val_loss: 0.1102 - val_accuracy: 0.9211\n",
            "Epoch 34/50\n",
            "15/15 [==============================] - 0s 4ms/step - loss: 0.1346 - accuracy: 0.9626 - val_loss: 0.1110 - val_accuracy: 0.9123\n",
            "Epoch 35/50\n",
            "15/15 [==============================] - 0s 4ms/step - loss: 0.1724 - accuracy: 0.9473 - val_loss: 0.1113 - val_accuracy: 0.9123\n",
            "Epoch 36/50\n",
            "15/15 [==============================] - 0s 5ms/step - loss: 0.1449 - accuracy: 0.9407 - val_loss: 0.1101 - val_accuracy: 0.9211\n",
            "Epoch 37/50\n",
            "15/15 [==============================] - 0s 4ms/step - loss: 0.1522 - accuracy: 0.9341 - val_loss: 0.1097 - val_accuracy: 0.9123\n",
            "Epoch 38/50\n",
            "15/15 [==============================] - 0s 5ms/step - loss: 0.1727 - accuracy: 0.9341 - val_loss: 0.1115 - val_accuracy: 0.9123\n",
            "Epoch 39/50\n",
            "15/15 [==============================] - 0s 4ms/step - loss: 0.1446 - accuracy: 0.9516 - val_loss: 0.1134 - val_accuracy: 0.9123\n",
            "Epoch 40/50\n",
            "15/15 [==============================] - 0s 4ms/step - loss: 0.1956 - accuracy: 0.9319 - val_loss: 0.1117 - val_accuracy: 0.9211\n",
            "Epoch 41/50\n",
            "15/15 [==============================] - 0s 5ms/step - loss: 0.1416 - accuracy: 0.9451 - val_loss: 0.1065 - val_accuracy: 0.9211\n",
            "Epoch 42/50\n",
            "15/15 [==============================] - 0s 4ms/step - loss: 0.1623 - accuracy: 0.9407 - val_loss: 0.1045 - val_accuracy: 0.9211\n",
            "Epoch 43/50\n",
            "15/15 [==============================] - 0s 4ms/step - loss: 0.1180 - accuracy: 0.9670 - val_loss: 0.1029 - val_accuracy: 0.9386\n",
            "Epoch 44/50\n",
            "15/15 [==============================] - 0s 5ms/step - loss: 0.1269 - accuracy: 0.9560 - val_loss: 0.1022 - val_accuracy: 0.9386\n",
            "Epoch 45/50\n",
            "15/15 [==============================] - 0s 5ms/step - loss: 0.1805 - accuracy: 0.9473 - val_loss: 0.1104 - val_accuracy: 0.9123\n",
            "Epoch 46/50\n",
            "15/15 [==============================] - 0s 6ms/step - loss: 0.1308 - accuracy: 0.9473 - val_loss: 0.1083 - val_accuracy: 0.9298\n",
            "Epoch 47/50\n",
            "15/15 [==============================] - 0s 5ms/step - loss: 0.1212 - accuracy: 0.9648 - val_loss: 0.1043 - val_accuracy: 0.9386\n",
            "Epoch 48/50\n",
            "15/15 [==============================] - 0s 5ms/step - loss: 0.1157 - accuracy: 0.9714 - val_loss: 0.1043 - val_accuracy: 0.9386\n",
            "Epoch 49/50\n",
            "15/15 [==============================] - 0s 4ms/step - loss: 0.1577 - accuracy: 0.9385 - val_loss: 0.1006 - val_accuracy: 0.9474\n",
            "Epoch 50/50\n",
            "15/15 [==============================] - 0s 5ms/step - loss: 0.1277 - accuracy: 0.9560 - val_loss: 0.0992 - val_accuracy: 0.9386\n"
          ]
        }
      ]
    },
    {
      "cell_type": "code",
      "source": [
        "plt.plot(h.history['accuracy'], label = 'Accuracy for Train set')\n",
        "plt.plot(h.history['val_accuracy'], label = 'Accuracy for Test Set')\n",
        "plt.title('Accuracy Graph for ANN')\n",
        "plt.ylabel('Accuracy')\n",
        "plt.xlabel('epochs')\n",
        "plt.legend()"
      ],
      "metadata": {
        "colab": {
          "base_uri": "https://localhost:8080/",
          "height": 312
        },
        "id": "iQ_AZxfCXoQO",
        "outputId": "0666a938-dad7-4432-a7dc-c01b804dedc5"
      },
      "execution_count": 81,
      "outputs": [
        {
          "output_type": "execute_result",
          "data": {
            "text/plain": [
              "<matplotlib.legend.Legend at 0x7f53bce30410>"
            ]
          },
          "metadata": {},
          "execution_count": 81
        },
        {
          "output_type": "display_data",
          "data": {
            "text/plain": [
              "<Figure size 432x288 with 1 Axes>"
            ],
            "image/png": "[encoded data removed]"
          },
          "metadata": {
            "needs_background": "light"
          }
        }
      ]
    },
    {
      "cell_type": "code",
      "source": [
        "plt.plot(h.history['loss'], label = 'loss for Train set')\n",
        "plt.plot(h.history['val_loss'], label = 'loss for Test Set')\n",
        "plt.title('loss Graph for ANN')\n",
        "plt.ylabel('loss')\n",
        "plt.xlabel('epochs')\n",
        "plt.legend()"
      ],
      "metadata": {
        "colab": {
          "base_uri": "https://localhost:8080/",
          "height": 312
        },
        "id": "2stcKHeBXsyM",
        "outputId": "016061de-657b-4d47-c34f-1a79807b65eb"
      },
      "execution_count": 82,
      "outputs": [
        {
          "output_type": "execute_result",
          "data": {
            "text/plain": [
              "<matplotlib.legend.Legend at 0x7f53bcd48250>"
            ]
          },
          "metadata": {},
          "execution_count": 82
        },
        {
          "output_type": "display_data",
          "data": {
            "text/plain": [
              "<Figure size 432x288 with 1 Axes>"
            ],
            "image/png": "[encoded data removed]"
          },
          "metadata": {
            "needs_background": "light"
          }
        }
      ]
    },
    {
      "cell_type": "code",
      "source": [
        "y_pred_ann = model.predict_classes(X_test)\n",
        "print(\"Accuracy: \",accuracy_score(y_test,y_pred_ann))\n",
        "print(\"Recall: \", recall_score(y_test,y_pred_ann))\n",
        "print(\"Precision: \", precision_score(y_test,y_pred_ann))"
      ],
      "metadata": {
        "colab": {
          "base_uri": "https://localhost:8080/"
        },
        "id": "feaf-pypXwZe",
        "outputId": "37b6c455-272b-4d3a-8974-28443521cf74"
      },
      "execution_count": 83,
      "outputs": [
        {
          "output_type": "stream",
          "name": "stderr",
          "text": [
            "/usr/local/lib/python3.7/dist-packages/tensorflow/python/keras/engine/sequential.py:455: UserWarning: `model.predict_classes()` is deprecated and will be removed after 2021-01-01. Please use instead:* `np.argmax(model.predict(x), axis=-1)`,   if your model does multi-class classification   (e.g. if it uses a `softmax` last-layer activation).* `(model.predict(x) > 0.5).astype(\"int32\")`,   if your model does binary classification   (e.g. if it uses a `sigmoid` last-layer activation).\n",
            "  warnings.warn('`model.predict_classes()` is deprecated and '\n"
          ]
        },
        {
          "output_type": "stream",
          "name": "stdout",
          "text": [
            "Accuracy:  0.9385964912280702\n",
            "Recall:  0.9574468085106383\n",
            "Precision:  0.9\n"
          ]
        }
      ]
    },
    {
      "cell_type": "markdown",
      "source": [
        "OWA"
      ],
      "metadata": {
        "id": "68pOx06KZI_5"
      }
    },
    {
      "cell_type": "code",
      "source": [
        "OWA =  rank8  = pd.read_excel(\"/content/cancer_dataset_U.xlsx\",sheet_name = \"OWA_method\").set_index('Attributes_Name')"
      ],
      "metadata": {
        "id": "jZ_BAhBUX0JG"
      },
      "execution_count": 84,
      "outputs": []
    },
    {
      "cell_type": "code",
      "source": [
        "df_owa  = df_new[OWA[:15].index]"
      ],
      "metadata": {
        "id": "LhO52ehnYLMh"
      },
      "execution_count": 85,
      "outputs": []
    },
    {
      "cell_type": "code",
      "source": [
        "X_col =  df_owa\n",
        "y = df_new['diagnosis']\n",
        "Scaler = StandardScaler()\n",
        "X_col =  Scaler.fit_transform(X_col)\n",
        "X_train, X_test, y_train, y_test = train_test_split(X_col, y, test_size=0.2, random_state=0)\n",
        "print(\"Shape of training data\",X_train.shape)\n",
        "print(\"Shape of testing data\",X_test.shape)"
      ],
      "metadata": {
        "colab": {
          "base_uri": "https://localhost:8080/"
        },
        "id": "MIn5pz3KYP9M",
        "outputId": "92209531-3534-492b-c0b4-546d56da5c59"
      },
      "execution_count": 86,
      "outputs": [
        {
          "output_type": "stream",
          "name": "stdout",
          "text": [
            "Shape of training data (455, 15)\n",
            "Shape of testing data (114, 15)\n"
          ]
        }
      ]
    },
    {
      "cell_type": "code",
      "source": [
        "rf =  RandomForestClassifier()\n",
        "rf.fit(X_train,y_train)\n",
        "pred =  rf.predict(X_test)\n",
        "print(\"Accuracy: \",accuracy_score(y_test,pred))\n",
        "print(\"Recall: \", recall_score(y_test,pred))\n",
        "print(\"Precision: \", precision_score(y_test,pred))"
      ],
      "metadata": {
        "colab": {
          "base_uri": "https://localhost:8080/"
        },
        "id": "mSXtb2ppYser",
        "outputId": "a7e3cb71-cd5b-4956-c3fe-12de7583742b"
      },
      "execution_count": 92,
      "outputs": [
        {
          "output_type": "stream",
          "name": "stdout",
          "text": [
            "Accuracy:  0.956140350877193\n",
            "Recall:  0.9574468085106383\n",
            "Precision:  0.9375\n"
          ]
        }
      ]
    },
    {
      "cell_type": "code",
      "source": [
        "svc =  SVC()\n",
        "svc.fit(X_test,y_test)\n",
        "y_pred =  svc.predict(X_test)\n",
        "print(\"Accuracy: \",accuracy_score(y_test,y_pred))\n",
        "print(\"Recall: \", recall_score(y_test,y_pred))\n",
        "print(\"Precision: \", precision_score(y_test,y_pred))"
      ],
      "metadata": {
        "colab": {
          "base_uri": "https://localhost:8080/"
        },
        "id": "9uDPmhGZYunN",
        "outputId": "005bc4e7-e314-4f0e-f0fe-f05d220e257e"
      },
      "execution_count": 99,
      "outputs": [
        {
          "output_type": "stream",
          "name": "stdout",
          "text": [
            "Accuracy:  0.9649122807017544\n",
            "Recall:  0.9574468085106383\n",
            "Precision:  0.9574468085106383\n"
          ]
        }
      ]
    },
    {
      "cell_type": "code",
      "source": [
        "model = tf.keras.Sequential([\n",
        "    tf.keras.layers.Dense(15, activation='relu', input_shape=(15,)),\n",
        "    tf.keras.layers.BatchNormalization(),\n",
        "    tf.keras.layers.Dense(20, activation='relu'),\n",
        "    tf.keras.layers.BatchNormalization(),\n",
        "    tf.keras.layers.Dense(24, activation='relu'),\n",
        "    tf.keras.layers.Dropout(0.5),\n",
        "    tf.keras.layers.BatchNormalization(),\n",
        "    tf.keras.layers.Dense(28, activation='relu'),\n",
        "    tf.keras.layers.Dropout(0.5),\n",
        "    tf.keras.layers.Dense(1,activation='sigmoid')\n",
        "  ])\n",
        "model.compile(loss='binary_crossentropy',\n",
        "              optimizer = 'adam',\n",
        "              metrics=['accuracy'])\n",
        "model.summary()"
      ],
      "metadata": {
        "colab": {
          "base_uri": "https://localhost:8080/"
        },
        "id": "JM7nJCKCYxKZ",
        "outputId": "681cf841-b852-4443-a30c-1ab624583160"
      },
      "execution_count": 94,
      "outputs": [
        {
          "output_type": "stream",
          "name": "stdout",
          "text": [
            "Model: \"sequential_8\"\n",
            "_________________________________________________________________\n",
            "Layer (type)                 Output Shape              Param #   \n",
            "=================================================================\n",
            "dense_40 (Dense)             (None, 15)                240       \n",
            "_________________________________________________________________\n",
            "batch_normalization_24 (Batc (None, 15)                60        \n",
            "_________________________________________________________________\n",
            "dense_41 (Dense)             (None, 20)                320       \n",
            "_________________________________________________________________\n",
            "batch_normalization_25 (Batc (None, 20)                80        \n",
            "_________________________________________________________________\n",
            "dense_42 (Dense)             (None, 24)                504       \n",
            "_________________________________________________________________\n",
            "dropout_16 (Dropout)         (None, 24)                0         \n",
            "_________________________________________________________________\n",
            "batch_normalization_26 (Batc (None, 24)                96        \n",
            "_________________________________________________________________\n",
            "dense_43 (Dense)             (None, 28)                700       \n",
            "_________________________________________________________________\n",
            "dropout_17 (Dropout)         (None, 28)                0         \n",
            "_________________________________________________________________\n",
            "dense_44 (Dense)             (None, 1)                 29        \n",
            "=================================================================\n",
            "Total params: 2,029\n",
            "Trainable params: 1,911\n",
            "Non-trainable params: 118\n",
            "_________________________________________________________________\n"
          ]
        }
      ]
    },
    {
      "cell_type": "code",
      "source": [
        "h = model.fit(X_train,y_train,epochs=50,validation_data=(X_test,y_test))"
      ],
      "metadata": {
        "colab": {
          "base_uri": "https://localhost:8080/"
        },
        "id": "mTkesy-cY2rT",
        "outputId": "cadf743e-0af0-4fc3-b26b-6629f267d26c"
      },
      "execution_count": 95,
      "outputs": [
        {
          "output_type": "stream",
          "name": "stdout",
          "text": [
            "Epoch 1/50\n",
            "15/15 [==============================] - 1s 17ms/step - loss: 0.8743 - accuracy: 0.5011 - val_loss: 0.6815 - val_accuracy: 0.6228\n",
            "Epoch 2/50\n",
            "15/15 [==============================] - 0s 5ms/step - loss: 0.7393 - accuracy: 0.5868 - val_loss: 0.6473 - val_accuracy: 0.7895\n",
            "Epoch 3/50\n",
            "15/15 [==============================] - 0s 4ms/step - loss: 0.6083 - accuracy: 0.6637 - val_loss: 0.6154 - val_accuracy: 0.8421\n",
            "Epoch 4/50\n",
            "15/15 [==============================] - 0s 5ms/step - loss: 0.5520 - accuracy: 0.7209 - val_loss: 0.5759 - val_accuracy: 0.8421\n",
            "Epoch 5/50\n",
            "15/15 [==============================] - 0s 4ms/step - loss: 0.4974 - accuracy: 0.7802 - val_loss: 0.5320 - val_accuracy: 0.8421\n",
            "Epoch 6/50\n",
            "15/15 [==============================] - 0s 6ms/step - loss: 0.4540 - accuracy: 0.8088 - val_loss: 0.4857 - val_accuracy: 0.8509\n",
            "Epoch 7/50\n",
            "15/15 [==============================] - 0s 5ms/step - loss: 0.4243 - accuracy: 0.8154 - val_loss: 0.4378 - val_accuracy: 0.8596\n",
            "Epoch 8/50\n",
            "15/15 [==============================] - 0s 5ms/step - loss: 0.3961 - accuracy: 0.8505 - val_loss: 0.3868 - val_accuracy: 0.8947\n",
            "Epoch 9/50\n",
            "15/15 [==============================] - 0s 5ms/step - loss: 0.3412 - accuracy: 0.8615 - val_loss: 0.3440 - val_accuracy: 0.9035\n",
            "Epoch 10/50\n",
            "15/15 [==============================] - 0s 4ms/step - loss: 0.3104 - accuracy: 0.9077 - val_loss: 0.3063 - val_accuracy: 0.9211\n",
            "Epoch 11/50\n",
            "15/15 [==============================] - 0s 4ms/step - loss: 0.3274 - accuracy: 0.8835 - val_loss: 0.2691 - val_accuracy: 0.9298\n",
            "Epoch 12/50\n",
            "15/15 [==============================] - 0s 6ms/step - loss: 0.3260 - accuracy: 0.8857 - val_loss: 0.2418 - val_accuracy: 0.9386\n",
            "Epoch 13/50\n",
            "15/15 [==============================] - 0s 4ms/step - loss: 0.2783 - accuracy: 0.8989 - val_loss: 0.2185 - val_accuracy: 0.9474\n",
            "Epoch 14/50\n",
            "15/15 [==============================] - 0s 4ms/step - loss: 0.2549 - accuracy: 0.9011 - val_loss: 0.1991 - val_accuracy: 0.9386\n",
            "Epoch 15/50\n",
            "15/15 [==============================] - 0s 5ms/step - loss: 0.2249 - accuracy: 0.9165 - val_loss: 0.1846 - val_accuracy: 0.9386\n",
            "Epoch 16/50\n",
            "15/15 [==============================] - 0s 5ms/step - loss: 0.2236 - accuracy: 0.9209 - val_loss: 0.1705 - val_accuracy: 0.9386\n",
            "Epoch 17/50\n",
            "15/15 [==============================] - 0s 5ms/step - loss: 0.2437 - accuracy: 0.8967 - val_loss: 0.1540 - val_accuracy: 0.9474\n",
            "Epoch 18/50\n",
            "15/15 [==============================] - 0s 4ms/step - loss: 0.2263 - accuracy: 0.9209 - val_loss: 0.1452 - val_accuracy: 0.9474\n",
            "Epoch 19/50\n",
            "15/15 [==============================] - 0s 5ms/step - loss: 0.1802 - accuracy: 0.9385 - val_loss: 0.1374 - val_accuracy: 0.9474\n",
            "Epoch 20/50\n",
            "15/15 [==============================] - 0s 4ms/step - loss: 0.1764 - accuracy: 0.9429 - val_loss: 0.1329 - val_accuracy: 0.9474\n",
            "Epoch 21/50\n",
            "15/15 [==============================] - 0s 5ms/step - loss: 0.2034 - accuracy: 0.9407 - val_loss: 0.1293 - val_accuracy: 0.9474\n",
            "Epoch 22/50\n",
            "15/15 [==============================] - 0s 5ms/step - loss: 0.2094 - accuracy: 0.9231 - val_loss: 0.1254 - val_accuracy: 0.9474\n",
            "Epoch 23/50\n",
            "15/15 [==============================] - 0s 4ms/step - loss: 0.1779 - accuracy: 0.9407 - val_loss: 0.1225 - val_accuracy: 0.9474\n",
            "Epoch 24/50\n",
            "15/15 [==============================] - 0s 4ms/step - loss: 0.1782 - accuracy: 0.9341 - val_loss: 0.1171 - val_accuracy: 0.9474\n",
            "Epoch 25/50\n",
            "15/15 [==============================] - 0s 5ms/step - loss: 0.1763 - accuracy: 0.9473 - val_loss: 0.1124 - val_accuracy: 0.9561\n",
            "Epoch 26/50\n",
            "15/15 [==============================] - 0s 5ms/step - loss: 0.1939 - accuracy: 0.9319 - val_loss: 0.1080 - val_accuracy: 0.9561\n",
            "Epoch 27/50\n",
            "15/15 [==============================] - 0s 4ms/step - loss: 0.1506 - accuracy: 0.9538 - val_loss: 0.1097 - val_accuracy: 0.9561\n",
            "Epoch 28/50\n",
            "15/15 [==============================] - 0s 5ms/step - loss: 0.1471 - accuracy: 0.9560 - val_loss: 0.1082 - val_accuracy: 0.9561\n",
            "Epoch 29/50\n",
            "15/15 [==============================] - 0s 5ms/step - loss: 0.1963 - accuracy: 0.9407 - val_loss: 0.1045 - val_accuracy: 0.9649\n",
            "Epoch 30/50\n",
            "15/15 [==============================] - 0s 5ms/step - loss: 0.1576 - accuracy: 0.9538 - val_loss: 0.1017 - val_accuracy: 0.9649\n",
            "Epoch 31/50\n",
            "15/15 [==============================] - 0s 4ms/step - loss: 0.1971 - accuracy: 0.9231 - val_loss: 0.1021 - val_accuracy: 0.9649\n",
            "Epoch 32/50\n",
            "15/15 [==============================] - 0s 4ms/step - loss: 0.1537 - accuracy: 0.9538 - val_loss: 0.1004 - val_accuracy: 0.9649\n",
            "Epoch 33/50\n",
            "15/15 [==============================] - 0s 6ms/step - loss: 0.1535 - accuracy: 0.9495 - val_loss: 0.1012 - val_accuracy: 0.9649\n",
            "Epoch 34/50\n",
            "15/15 [==============================] - 0s 6ms/step - loss: 0.1841 - accuracy: 0.9121 - val_loss: 0.1009 - val_accuracy: 0.9474\n",
            "Epoch 35/50\n",
            "15/15 [==============================] - 0s 7ms/step - loss: 0.1404 - accuracy: 0.9560 - val_loss: 0.0993 - val_accuracy: 0.9561\n",
            "Epoch 36/50\n",
            "15/15 [==============================] - 0s 5ms/step - loss: 0.1315 - accuracy: 0.9560 - val_loss: 0.0976 - val_accuracy: 0.9649\n",
            "Epoch 37/50\n",
            "15/15 [==============================] - 0s 4ms/step - loss: 0.1387 - accuracy: 0.9560 - val_loss: 0.0959 - val_accuracy: 0.9649\n",
            "Epoch 38/50\n",
            "15/15 [==============================] - 0s 4ms/step - loss: 0.1306 - accuracy: 0.9538 - val_loss: 0.0950 - val_accuracy: 0.9649\n",
            "Epoch 39/50\n",
            "15/15 [==============================] - 0s 4ms/step - loss: 0.1680 - accuracy: 0.9516 - val_loss: 0.0948 - val_accuracy: 0.9561\n",
            "Epoch 40/50\n",
            "15/15 [==============================] - 0s 4ms/step - loss: 0.1247 - accuracy: 0.9560 - val_loss: 0.0938 - val_accuracy: 0.9649\n",
            "Epoch 41/50\n",
            "15/15 [==============================] - 0s 4ms/step - loss: 0.1549 - accuracy: 0.9451 - val_loss: 0.0946 - val_accuracy: 0.9649\n",
            "Epoch 42/50\n",
            "15/15 [==============================] - 0s 4ms/step - loss: 0.1252 - accuracy: 0.9560 - val_loss: 0.1051 - val_accuracy: 0.9474\n",
            "Epoch 43/50\n",
            "15/15 [==============================] - 0s 6ms/step - loss: 0.1441 - accuracy: 0.9582 - val_loss: 0.1049 - val_accuracy: 0.9474\n",
            "Epoch 44/50\n",
            "15/15 [==============================] - 0s 4ms/step - loss: 0.1269 - accuracy: 0.9560 - val_loss: 0.1021 - val_accuracy: 0.9649\n",
            "Epoch 45/50\n",
            "15/15 [==============================] - 0s 4ms/step - loss: 0.1706 - accuracy: 0.9451 - val_loss: 0.0999 - val_accuracy: 0.9649\n",
            "Epoch 46/50\n",
            "15/15 [==============================] - 0s 4ms/step - loss: 0.0949 - accuracy: 0.9692 - val_loss: 0.0991 - val_accuracy: 0.9649\n",
            "Epoch 47/50\n",
            "15/15 [==============================] - 0s 4ms/step - loss: 0.1497 - accuracy: 0.9538 - val_loss: 0.0947 - val_accuracy: 0.9649\n",
            "Epoch 48/50\n",
            "15/15 [==============================] - 0s 4ms/step - loss: 0.1355 - accuracy: 0.9560 - val_loss: 0.0916 - val_accuracy: 0.9649\n",
            "Epoch 49/50\n",
            "15/15 [==============================] - 0s 5ms/step - loss: 0.1144 - accuracy: 0.9626 - val_loss: 0.0878 - val_accuracy: 0.9649\n",
            "Epoch 50/50\n",
            "15/15 [==============================] - 0s 4ms/step - loss: 0.1345 - accuracy: 0.9538 - val_loss: 0.0878 - val_accuracy: 0.9649\n"
          ]
        }
      ]
    },
    {
      "cell_type": "code",
      "source": [
        "plt.plot(h.history['accuracy'], label = 'Accuracy for Train set')\n",
        "plt.plot(h.history['val_accuracy'], label = 'Accuracy for Test Set')\n",
        "plt.title('Accuracy Graph for ANN')\n",
        "plt.ylabel('Accuracy')\n",
        "plt.xlabel('epochs')\n",
        "plt.legend()"
      ],
      "metadata": {
        "colab": {
          "base_uri": "https://localhost:8080/",
          "height": 312
        },
        "id": "A2Zgqeg3Y6Vi",
        "outputId": "1d17eec2-d1f2-441b-9e5d-3a1ca7347b76"
      },
      "execution_count": 96,
      "outputs": [
        {
          "output_type": "execute_result",
          "data": {
            "text/plain": [
              "<matplotlib.legend.Legend at 0x7f53bcc2ee50>"
            ]
          },
          "metadata": {},
          "execution_count": 96
        },
        {
          "output_type": "display_data",
          "data": {
            "text/plain": [
              "<Figure size 432x288 with 1 Axes>"
            ],
            "image/png": "[encoded data removed]"
          },
          "metadata": {
            "needs_background": "light"
          }
        }
      ]
    },
    {
      "cell_type": "code",
      "source": [
        "plt.plot(h.history['loss'], label = 'loss for Train set')\n",
        "plt.plot(h.history['val_loss'], label = 'loss for Test Set')\n",
        "plt.title('loss Graph for ANN')\n",
        "plt.ylabel('loss')\n",
        "plt.xlabel('epochs')\n",
        "plt.legend()"
      ],
      "metadata": {
        "colab": {
          "base_uri": "https://localhost:8080/",
          "height": 312
        },
        "id": "3sYChiK1Y_hH",
        "outputId": "f57cb8d5-ddca-420f-b94a-bbcc7c1b9b92"
      },
      "execution_count": 97,
      "outputs": [
        {
          "output_type": "execute_result",
          "data": {
            "text/plain": [
              "<matplotlib.legend.Legend at 0x7f53bcbf4510>"
            ]
          },
          "metadata": {},
          "execution_count": 97
        },
        {
          "output_type": "display_data",
          "data": {
            "text/plain": [
              "<Figure size 432x288 with 1 Axes>"
            ],
            "image/png": "[encoded data removed]"
          },
          "metadata": {
            "needs_background": "light"
          }
        }
      ]
    },
    {
      "cell_type": "code",
      "source": [
        "y_pred_ann_owa = model.predict_classes(X_test)\n",
        "print(\"Accuracy: \",accuracy_score(y_test,y_pred_ann_owa))\n",
        "print(\"Recall: \", recall_score(y_test,y_pred_ann_owa))\n",
        "print(\"Precision: \", precision_score(y_test,y_pred_ann_owa))"
      ],
      "metadata": {
        "colab": {
          "base_uri": "https://localhost:8080/"
        },
        "id": "y69G15FsZB0K",
        "outputId": "e3794367-a6e3-4da4-bc3c-f8c9d7ca1bb4"
      },
      "execution_count": 98,
      "outputs": [
        {
          "output_type": "stream",
          "name": "stderr",
          "text": [
            "/usr/local/lib/python3.7/dist-packages/tensorflow/python/keras/engine/sequential.py:455: UserWarning: `model.predict_classes()` is deprecated and will be removed after 2021-01-01. Please use instead:* `np.argmax(model.predict(x), axis=-1)`,   if your model does multi-class classification   (e.g. if it uses a `softmax` last-layer activation).* `(model.predict(x) > 0.5).astype(\"int32\")`,   if your model does binary classification   (e.g. if it uses a `sigmoid` last-layer activation).\n",
            "  warnings.warn('`model.predict_classes()` is deprecated and '\n"
          ]
        },
        {
          "output_type": "stream",
          "name": "stdout",
          "text": [
            "Accuracy:  0.9649122807017544\n",
            "Recall:  0.9574468085106383\n",
            "Precision:  0.9574468085106383\n"
          ]
        }
      ]
    },
    {
      "cell_type": "code",
      "source": [
        ""
      ],
      "metadata": {
        "id": "20PHqvd4ZF3U"
      },
      "execution_count": null,
      "outputs": []
    }
  ]
}