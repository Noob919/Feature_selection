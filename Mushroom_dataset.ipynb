{
  "nbformat": 4,
  "nbformat_minor": 0,
  "metadata": {
    "colab": {
      "name": "Mushroom_dataset.ipynb",
      "provenance": [],
      "authorship_tag": "ABX9TyMuB7IsJVjWZgmzdxgjyOBa",
      "include_colab_link": true
    },
    "kernelspec": {
      "name": "python3",
      "display_name": "Python 3"
    },
    "language_info": {
      "name": "python"
    }
  },
  "cells": [
    {
      "cell_type": "markdown",
      "metadata": {
        "id": "view-in-github",
        "colab_type": "text"
      },
      "source": [
        "<a href=\"https://colab.research.google.com/github/Noob919/Feature_selection/blob/main/Mushroom_dataset.ipynb\" target=\"_parent\"><img src=\"https://colab.research.google.com/assets/colab-badge.svg\" alt=\"Open In Colab\"/></a>"
      ]
    },
    {
      "cell_type": "code",
      "execution_count": 1,
      "metadata": {
        "id": "4dZ_CYnE7jFQ"
      },
      "outputs": [],
      "source": [
        "import numpy as np\n",
        "import pandas as pd\n",
        "from sklearn.model_selection import cross_val_score\n",
        "from sklearn import preprocessing\n",
        "from sklearn.feature_selection  import chi2, SelectKBest,mutual_info_classif,SelectPercentile,f_classif\n",
        "from sklearn.inspection import permutation_importance\n",
        "from sklearn.model_selection import train_test_split\n",
        "from sklearn.tree import DecisionTreeClassifier\n",
        "from sklearn.linear_model import LogisticRegression\n",
        "from sklearn.ensemble import RandomForestClassifier\n",
        "from sklearn.preprocessing import LabelEncoder\n",
        "from sklearn.preprocessing import StandardScaler\n",
        "from sklearn.feature_selection import RFE\n",
        "from sklearn.svm import LinearSVC\n",
        "from sklearn.decomposition import PCA\n",
        "import matplotlib.pyplot as plt\n",
        "import seaborn as sns"
      ]
    },
    {
      "cell_type": "code",
      "source": [
        "df = pd.read_csv(\"/content/Mushroom data.csv\")\n",
        "df_new = df.drop(['veil_type'],axis =1)"
      ],
      "metadata": {
        "id": "0q0-ZM2g7oPi"
      },
      "execution_count": 2,
      "outputs": []
    },
    {
      "cell_type": "code",
      "source": [
        "for i in range(len(df_new.columns)):\n",
        "  if((df_new[df_new.columns[i]].dtype) == 'object'):\n",
        "    df_new[df_new.columns[i]] =  LabelEncoder().fit_transform(df_new[df_new.columns[i]])"
      ],
      "metadata": {
        "id": "xTVHdIPz71Nd"
      },
      "execution_count": 3,
      "outputs": []
    },
    {
      "cell_type": "code",
      "source": [
        "X = df_new.drop(['Mushroom_quality'],axis =1)\n",
        "y = df_new['Mushroom_quality']"
      ],
      "metadata": {
        "id": "IBONMmhj725U"
      },
      "execution_count": 4,
      "outputs": []
    },
    {
      "cell_type": "code",
      "source": [
        "X_train, X_test, y_train, y_test = train_test_split(X, y, test_size=0.1, random_state=0)"
      ],
      "metadata": {
        "id": "WV2oDoT584ks"
      },
      "execution_count": 5,
      "outputs": []
    },
    {
      "cell_type": "code",
      "source": [
        "test = SelectKBest(score_func=chi2, k=len(X.columns)).fit(X,y)\n",
        "np.set_printoptions(precision=3)\n",
        "score  =  test.scores_\n",
        "print(score)\n",
        "Y = X.columns\n",
        "sns.barplot(x  = score,y = Y )\n",
        "plt.xlabel('Importance Score')\n",
        "plt.ylabel('Features name')"
      ],
      "metadata": {
        "colab": {
          "base_uri": "https://localhost:8080/",
          "height": 348
        },
        "id": "xUabFbns9I2e",
        "outputId": "c36713be-41e1-4adf-f6a4-cdcbd530a1c5"
      },
      "execution_count": 6,
      "outputs": [
        {
          "output_type": "stream",
          "name": "stdout",
          "text": [
            "[1.751e+01 2.141e+02 1.151e+01 1.194e+03 7.591e+01 3.505e+00 8.268e+02\n",
            " 1.637e+03 5.958e+03 3.659e+01 1.186e+03 2.230e+02 2.066e+02 1.198e+02\n",
            " 1.098e+02 5.127e+00 2.565e+01 1.951e+03 3.791e+02 3.118e+02 7.513e+02]\n"
          ]
        },
        {
          "output_type": "execute_result",
          "data": {
            "text/plain": [
              "Text(0, 0.5, 'Features name')"
            ]
          },
          "metadata": {},
          "execution_count": 6
        },
        {
          "output_type": "display_data",
          "data": {
            "text/plain": [
              "<Figure size 432x288 with 1 Axes>"
            ],
            "image/png": "[encoded data removed]"
          },
          "metadata": {
            "needs_background": "light"
          }
        }
      ]
    },
    {
      "cell_type": "code",
      "source": [
        "dc = {'Chi2 ranking': X.columns[score.argsort()[::-1]]}\n",
        "ranking_chi = pd.DataFrame(data =  dc)\n",
        "ranking_chi.to_excel(\"mushroom_dataset.xlsx\",sheet_name='Chi_2')  "
      ],
      "metadata": {
        "id": "1-qvN5xox33I"
      },
      "execution_count": 7,
      "outputs": []
    },
    {
      "cell_type": "code",
      "source": [
        "rf = RandomForestClassifier(n_estimators=150)\n",
        "rf.fit(X_train, y_train)"
      ],
      "metadata": {
        "colab": {
          "base_uri": "https://localhost:8080/"
        },
        "id": "VTaPCTwY9KxB",
        "outputId": "05c4b260-cdf8-42aa-eabe-7fb4e740af5f"
      },
      "execution_count": 8,
      "outputs": [
        {
          "output_type": "execute_result",
          "data": {
            "text/plain": [
              "RandomForestClassifier(n_estimators=150)"
            ]
          },
          "metadata": {},
          "execution_count": 8
        }
      ]
    },
    {
      "cell_type": "code",
      "source": [
        "rf.feature_importances_"
      ],
      "metadata": {
        "colab": {
          "base_uri": "https://localhost:8080/"
        },
        "id": "p7vTrZsg9OAY",
        "outputId": "30d444a6-2a70-412c-deba-e0f55414abe6"
      },
      "execution_count": 9,
      "outputs": [
        {
          "output_type": "execute_result",
          "data": {
            "text/plain": [
              "array([0.005, 0.008, 0.015, 0.039, 0.154, 0.002, 0.039, 0.11 , 0.122,\n",
              "       0.023, 0.058, 0.053, 0.05 , 0.012, 0.016, 0.003, 0.013, 0.083,\n",
              "       0.094, 0.072, 0.03 ])"
            ]
          },
          "metadata": {},
          "execution_count": 9
        }
      ]
    },
    {
      "cell_type": "code",
      "source": [
        "sort = rf.feature_importances_\n",
        "plt.barh(X.columns, rf.feature_importances_)\n",
        "plt.xlabel(\"Feature Importance\")"
      ],
      "metadata": {
        "colab": {
          "base_uri": "https://localhost:8080/",
          "height": 296
        },
        "id": "4q6UbrcD9Pxw",
        "outputId": "8b428dfc-8288-409a-d406-304c90134558"
      },
      "execution_count": 10,
      "outputs": [
        {
          "output_type": "execute_result",
          "data": {
            "text/plain": [
              "Text(0.5, 0, 'Feature Importance')"
            ]
          },
          "metadata": {},
          "execution_count": 10
        },
        {
          "output_type": "display_data",
          "data": {
            "text/plain": [
              "<Figure size 432x288 with 1 Axes>"
            ],
            "image/png": "[encoded data removed]"
          },
          "metadata": {
            "needs_background": "light"
          }
        }
      ]
    },
    {
      "cell_type": "code",
      "source": [
        "dc = {'Tree based method Attributes': X.columns[rf.feature_importances_.argsort()[::-1]] }\n",
        "rank_tree = pd.DataFrame(data =  dc) \n",
        "from openpyxl import load_workbook\n",
        "book = load_workbook('/content/mushroom_dataset.xlsx')\n",
        "writer = pd.ExcelWriter('/content/mushroom_dataset.xlsx', engine='openpyxl') \n",
        "writer.book = book\n",
        "## ExcelWriter for some reason uses writer.sheets to access the sheet.\n",
        "## If you leave it empty it will not know that sheet Main is already there\n",
        "## and will create a new sheet.\n",
        "writer.sheets = dict((ws.title, ws) for ws in book.worksheets)\n",
        "rank_tree.to_excel(writer, \"Tree_based_method\")\n",
        "writer.save()"
      ],
      "metadata": {
        "id": "zrKLmOdSyGq4"
      },
      "execution_count": 11,
      "outputs": []
    },
    {
      "cell_type": "code",
      "source": [
        "clf = LogisticRegression(solver = 'liblinear').fit(X_train, y_train)\n",
        "result = permutation_importance(clf, X, y, n_repeats=10, random_state=0)\n",
        "plt.barh(X.columns, result.importances_mean )\n",
        "plt.xlabel(\"Feature Importance MEAN\")"
      ],
      "metadata": {
        "colab": {
          "base_uri": "https://localhost:8080/",
          "height": 296
        },
        "id": "JS35flyS9Rlq",
        "outputId": "c9247ef2-511b-4438-f207-613b04ea6b1e"
      },
      "execution_count": 12,
      "outputs": [
        {
          "output_type": "execute_result",
          "data": {
            "text/plain": [
              "Text(0.5, 0, 'Feature Importance MEAN')"
            ]
          },
          "metadata": {},
          "execution_count": 12
        },
        {
          "output_type": "display_data",
          "data": {
            "text/plain": [
              "<Figure size 432x288 with 1 Axes>"
            ],
            "image/png": "[encoded data removed]"
          },
          "metadata": {
            "needs_background": "light"
          }
        }
      ]
    },
    {
      "cell_type": "code",
      "source": [
        "plt.barh(X.columns, result.importances_std)\n",
        "plt.xlabel(\"Feature Importance STD\")"
      ],
      "metadata": {
        "colab": {
          "base_uri": "https://localhost:8080/",
          "height": 296
        },
        "id": "kXvzfVgK9Thf",
        "outputId": "c182d62d-a65b-4d74-c4bd-4d8b0b41e3ec"
      },
      "execution_count": 13,
      "outputs": [
        {
          "output_type": "execute_result",
          "data": {
            "text/plain": [
              "Text(0.5, 0, 'Feature Importance STD')"
            ]
          },
          "metadata": {},
          "execution_count": 13
        },
        {
          "output_type": "display_data",
          "data": {
            "text/plain": [
              "<Figure size 432x288 with 1 Axes>"
            ],
            "image/png": "[encoded data removed]"
          },
          "metadata": {
            "needs_background": "light"
          }
        }
      ]
    },
    {
      "cell_type": "code",
      "source": [
        "dc = {'Permutation_importance_mean': X.columns[result.importances_mean.argsort()[::-1]]}\n",
        "rank_per_mean = pd.DataFrame(data =  dc) \n",
        "book = load_workbook('/content/mushroom_dataset.xlsx')\n",
        "writer = pd.ExcelWriter('/content/mushroom_dataset.xlsx', engine='openpyxl') \n",
        "writer.book = book\n",
        "## ExcelWriter for some reason uses writer.sheets to access the sheet.\n",
        "## If you leave it empty it will not know that sheet Main is already there\n",
        "## and will create a new sheet.\n",
        "writer.sheets = dict((ws.title, ws) for ws in book.worksheets)\n",
        "rank_per_mean.to_excel(writer, \"permutation_method_mean\")\n",
        "writer.save()"
      ],
      "metadata": {
        "id": "eL97cr8myWfL"
      },
      "execution_count": 14,
      "outputs": []
    },
    {
      "cell_type": "code",
      "source": [
        "dc = {'Permutation_importance_std': X.columns[result.importances_std.argsort()[::-1]]}\n",
        "rank_per_std = pd.DataFrame(data =  dc) \n",
        "book = load_workbook('/content/mushroom_dataset.xlsx')\n",
        "writer = pd.ExcelWriter('/content/mushroom_dataset.xlsx', engine='openpyxl') \n",
        "writer.book = book\n",
        "\n",
        "## ExcelWriter for some reason uses writer.sheets to access the sheet.\n",
        "## If you leave it empty it will not know that sheet Main is already there\n",
        "## and will create a new sheet.\n",
        "\n",
        "writer.sheets = dict((ws.title, ws) for ws in book.worksheets)\n",
        "rank_per_std.to_excel(writer, \"permutation_method_std\")\n",
        "writer.save()"
      ],
      "metadata": {
        "id": "_lczGkJwylyL"
      },
      "execution_count": 15,
      "outputs": []
    },
    {
      "cell_type": "code",
      "source": [
        "pca = PCA().fit(X_train)\n",
        "plt.plot(pca.explained_variance_ratio_.cumsum(), lw=3, color='#087E8B')\n",
        "plt.title('Cumulative explained variance by number of principal components', size=5)\n",
        "plt.show()"
      ],
      "metadata": {
        "id": "VXqeetad9VzE",
        "colab": {
          "base_uri": "https://localhost:8080/",
          "height": 275
        },
        "outputId": "ae929e81-1cfd-4ae5-de12-9fab1ba32eed"
      },
      "execution_count": 16,
      "outputs": [
        {
          "output_type": "display_data",
          "data": {
            "text/plain": [
              "<Figure size 432x288 with 1 Axes>"
            ],
            "image/png": "[encoded data removed]"
          },
          "metadata": {
            "needs_background": "light"
          }
        }
      ]
    },
    {
      "cell_type": "code",
      "source": [
        "loadings = pd.DataFrame(\n",
        "    data=pca.components_.T * np.sqrt(pca.explained_variance_), \n",
        "    columns=[f'PC{i}' for i in range(1, len(X.columns) + 1)],\n",
        "    index=X.columns\n",
        ")\n",
        "loadings.head()"
      ],
      "metadata": {
        "colab": {
          "base_uri": "https://localhost:8080/",
          "height": 300
        },
        "id": "bhp-yZzN9XXL",
        "outputId": "ef13fbe7-29d7-4197-bff2-76ffc8a38e0a"
      },
      "execution_count": 17,
      "outputs": [
        {
          "output_type": "execute_result",
          "data": {
            "text/plain": [
              "                  PC1       PC2       PC3       PC4       PC5       PC6  \\\n",
              "cap_shape   -0.019120  0.033373  0.223885 -0.495258 -0.064250  1.021059   \n",
              "cap_surface  0.268751 -0.013434 -0.118644  0.234964  0.214355 -0.236667   \n",
              "cap_color   -0.795502  1.792788 -1.259148  0.646336 -0.700856  0.062889   \n",
              "bruises     -0.262856 -0.129290 -0.057977 -0.050341  0.064121 -0.100530   \n",
              "odor         0.856449 -1.336547 -0.117629  0.287238 -0.915716  0.486397   \n",
              "\n",
              "                  PC7       PC8       PC9      PC10  ...      PC12      PC13  \\\n",
              "cap_shape    1.081894  0.210189 -0.002736 -0.004555  ... -0.018714  0.004714   \n",
              "cap_surface  0.208799  0.294765 -0.052140 -1.063985  ... -0.068499  0.038970   \n",
              "cap_color    0.166985  0.177593 -0.032683  0.040670  ... -0.015844 -0.020870   \n",
              "bruises      0.018207  0.177212 -0.045119 -0.026741  ...  0.060943 -0.085314   \n",
              "odor        -0.508878  0.649452 -0.165518 -0.008869  ... -0.051609  0.016970   \n",
              "\n",
              "                 PC14      PC15      PC16      PC17      PC18      PC19  \\\n",
              "cap_shape    0.000076 -0.000919 -0.005818  0.000239  0.004127  0.000001   \n",
              "cap_surface  0.006906  0.008942 -0.007300  0.015135 -0.013331  0.000626   \n",
              "cap_color   -0.008445 -0.023102  0.004810  0.005290  0.001368  0.000682   \n",
              "bruises     -0.001689 -0.238925 -0.035175 -0.112155  0.034726 -0.088320   \n",
              "odor        -0.010843  0.019656 -0.006596 -0.007394 -0.001377  0.002177   \n",
              "\n",
              "                 PC20      PC21  \n",
              "cap_shape   -0.000135  0.000024  \n",
              "cap_surface  0.000453 -0.000092  \n",
              "cap_color    0.001170  0.000104  \n",
              "bruises     -0.032083  0.001300  \n",
              "odor        -0.002164 -0.000234  \n",
              "\n",
              "[5 rows x 21 columns]"
            ],
            "text/html": [
              "\n",
              "  <div id=\"df-0207a3ba-c6d8-4400-879d-331f136a9c48\">\n",
              "    <div class=\"colab-df-container\">\n",
              "      <div>\n",
              "<style scoped>\n",
              "    .dataframe tbody tr th:only-of-type {\n",
              "        vertical-align: middle;\n",
              "    }\n",
              "\n",
              "    .dataframe tbody tr th {\n",
              "        vertical-align: top;\n",
              "    }\n",
              "\n",
              "    .dataframe thead th {\n",
              "        text-align: right;\n",
              "    }\n",
              "</style>\n",
              "<table border=\"1\" class=\"dataframe\">\n",
              "  <thead>\n",
              "    <tr style=\"text-align: right;\">\n",
              "      <th></th>\n",
              "      <th>PC1</th>\n",
              "      <th>PC2</th>\n",
              "      <th>PC3</th>\n",
              "      <th>PC4</th>\n",
              "      <th>PC5</th>\n",
              "      <th>PC6</th>\n",
              "      <th>PC7</th>\n",
              "      <th>PC8</th>\n",
              "      <th>PC9</th>\n",
              "      <th>PC10</th>\n",
              "      <th>...</th>\n",
              "      <th>PC12</th>\n",
              "      <th>PC13</th>\n",
              "      <th>PC14</th>\n",
              "      <th>PC15</th>\n",
              "      <th>PC16</th>\n",
              "      <th>PC17</th>\n",
              "      <th>PC18</th>\n",
              "      <th>PC19</th>\n",
              "      <th>PC20</th>\n",
              "      <th>PC21</th>\n",
              "    </tr>\n",
              "  </thead>\n",
              "  <tbody>\n",
              "    <tr>\n",
              "      <th>cap_shape</th>\n",
              "      <td>-0.019120</td>\n",
              "      <td>0.033373</td>\n",
              "      <td>0.223885</td>\n",
              "      <td>-0.495258</td>\n",
              "      <td>-0.064250</td>\n",
              "      <td>1.021059</td>\n",
              "      <td>1.081894</td>\n",
              "      <td>0.210189</td>\n",
              "      <td>-0.002736</td>\n",
              "      <td>-0.004555</td>\n",
              "      <td>...</td>\n",
              "      <td>-0.018714</td>\n",
              "      <td>0.004714</td>\n",
              "      <td>0.000076</td>\n",
              "      <td>-0.000919</td>\n",
              "      <td>-0.005818</td>\n",
              "      <td>0.000239</td>\n",
              "      <td>0.004127</td>\n",
              "      <td>0.000001</td>\n",
              "      <td>-0.000135</td>\n",
              "      <td>0.000024</td>\n",
              "    </tr>\n",
              "    <tr>\n",
              "      <th>cap_surface</th>\n",
              "      <td>0.268751</td>\n",
              "      <td>-0.013434</td>\n",
              "      <td>-0.118644</td>\n",
              "      <td>0.234964</td>\n",
              "      <td>0.214355</td>\n",
              "      <td>-0.236667</td>\n",
              "      <td>0.208799</td>\n",
              "      <td>0.294765</td>\n",
              "      <td>-0.052140</td>\n",
              "      <td>-1.063985</td>\n",
              "      <td>...</td>\n",
              "      <td>-0.068499</td>\n",
              "      <td>0.038970</td>\n",
              "      <td>0.006906</td>\n",
              "      <td>0.008942</td>\n",
              "      <td>-0.007300</td>\n",
              "      <td>0.015135</td>\n",
              "      <td>-0.013331</td>\n",
              "      <td>0.000626</td>\n",
              "      <td>0.000453</td>\n",
              "      <td>-0.000092</td>\n",
              "    </tr>\n",
              "    <tr>\n",
              "      <th>cap_color</th>\n",
              "      <td>-0.795502</td>\n",
              "      <td>1.792788</td>\n",
              "      <td>-1.259148</td>\n",
              "      <td>0.646336</td>\n",
              "      <td>-0.700856</td>\n",
              "      <td>0.062889</td>\n",
              "      <td>0.166985</td>\n",
              "      <td>0.177593</td>\n",
              "      <td>-0.032683</td>\n",
              "      <td>0.040670</td>\n",
              "      <td>...</td>\n",
              "      <td>-0.015844</td>\n",
              "      <td>-0.020870</td>\n",
              "      <td>-0.008445</td>\n",
              "      <td>-0.023102</td>\n",
              "      <td>0.004810</td>\n",
              "      <td>0.005290</td>\n",
              "      <td>0.001368</td>\n",
              "      <td>0.000682</td>\n",
              "      <td>0.001170</td>\n",
              "      <td>0.000104</td>\n",
              "    </tr>\n",
              "    <tr>\n",
              "      <th>bruises</th>\n",
              "      <td>-0.262856</td>\n",
              "      <td>-0.129290</td>\n",
              "      <td>-0.057977</td>\n",
              "      <td>-0.050341</td>\n",
              "      <td>0.064121</td>\n",
              "      <td>-0.100530</td>\n",
              "      <td>0.018207</td>\n",
              "      <td>0.177212</td>\n",
              "      <td>-0.045119</td>\n",
              "      <td>-0.026741</td>\n",
              "      <td>...</td>\n",
              "      <td>0.060943</td>\n",
              "      <td>-0.085314</td>\n",
              "      <td>-0.001689</td>\n",
              "      <td>-0.238925</td>\n",
              "      <td>-0.035175</td>\n",
              "      <td>-0.112155</td>\n",
              "      <td>0.034726</td>\n",
              "      <td>-0.088320</td>\n",
              "      <td>-0.032083</td>\n",
              "      <td>0.001300</td>\n",
              "    </tr>\n",
              "    <tr>\n",
              "      <th>odor</th>\n",
              "      <td>0.856449</td>\n",
              "      <td>-1.336547</td>\n",
              "      <td>-0.117629</td>\n",
              "      <td>0.287238</td>\n",
              "      <td>-0.915716</td>\n",
              "      <td>0.486397</td>\n",
              "      <td>-0.508878</td>\n",
              "      <td>0.649452</td>\n",
              "      <td>-0.165518</td>\n",
              "      <td>-0.008869</td>\n",
              "      <td>...</td>\n",
              "      <td>-0.051609</td>\n",
              "      <td>0.016970</td>\n",
              "      <td>-0.010843</td>\n",
              "      <td>0.019656</td>\n",
              "      <td>-0.006596</td>\n",
              "      <td>-0.007394</td>\n",
              "      <td>-0.001377</td>\n",
              "      <td>0.002177</td>\n",
              "      <td>-0.002164</td>\n",
              "      <td>-0.000234</td>\n",
              "    </tr>\n",
              "  </tbody>\n",
              "</table>\n",
              "<p>5 rows × 21 columns</p>\n",
              "</div>\n",
              "      <button class=\"colab-df-convert\" onclick=\"convertToInteractive('df-0207a3ba-c6d8-4400-879d-331f136a9c48')\"\n",
              "              title=\"Convert this dataframe to an interactive table.\"\n",
              "              style=\"display:none;\">\n",
              "        \n",
              "  <svg xmlns=\"http://www.w3.org/2000/svg\" height=\"24px\"viewBox=\"0 0 24 24\"\n",
              "       width=\"24px\">\n",
              "    <path d=\"M0 0h24v24H0V0z\" fill=\"none\"/>\n",
              "    <path d=\"M18.56 5.44l.94 2.06.94-2.06 2.06-.94-2.06-.94-.94-2.06-.94 2.06-2.06.94zm-11 1L8.5 8.5l.94-2.06 2.06-.94-2.06-.94L8.5 2.5l-.94 2.06-2.06.94zm10 10l.94 2.06.94-2.06 2.06-.94-2.06-.94-.94-2.06-.94 2.06-2.06.94z\"/><path d=\"M17.41 7.96l-1.37-1.37c-.4-.4-.92-.59-1.43-.59-.52 0-1.04.2-1.43.59L10.3 9.45l-7.72 7.72c-.78.78-.78 2.05 0 2.83L4 21.41c.39.39.9.59 1.41.59.51 0 1.02-.2 1.41-.59l7.78-7.78 2.81-2.81c.8-.78.8-2.07 0-2.86zM5.41 20L4 18.59l7.72-7.72 1.47 1.35L5.41 20z\"/>\n",
              "  </svg>\n",
              "      </button>\n",
              "      \n",
              "  <style>\n",
              "    .colab-df-container {\n",
              "      display:flex;\n",
              "      flex-wrap:wrap;\n",
              "      gap: 12px;\n",
              "    }\n",
              "\n",
              "    .colab-df-convert {\n",
              "      background-color: #E8F0FE;\n",
              "      border: none;\n",
              "      border-radius: 50%;\n",
              "      cursor: pointer;\n",
              "      display: none;\n",
              "      fill: #1967D2;\n",
              "      height: 32px;\n",
              "      padding: 0 0 0 0;\n",
              "      width: 32px;\n",
              "    }\n",
              "\n",
              "    .colab-df-convert:hover {\n",
              "      background-color: #E2EBFA;\n",
              "      box-shadow: 0px 1px 2px rgba(60, 64, 67, 0.3), 0px 1px 3px 1px rgba(60, 64, 67, 0.15);\n",
              "      fill: #174EA6;\n",
              "    }\n",
              "\n",
              "    [theme=dark] .colab-df-convert {\n",
              "      background-color: #3B4455;\n",
              "      fill: #D2E3FC;\n",
              "    }\n",
              "\n",
              "    [theme=dark] .colab-df-convert:hover {\n",
              "      background-color: #434B5C;\n",
              "      box-shadow: 0px 1px 3px 1px rgba(0, 0, 0, 0.15);\n",
              "      filter: drop-shadow(0px 1px 2px rgba(0, 0, 0, 0.3));\n",
              "      fill: #FFFFFF;\n",
              "    }\n",
              "  </style>\n",
              "\n",
              "      <script>\n",
              "        const buttonEl =\n",
              "          document.querySelector('#df-0207a3ba-c6d8-4400-879d-331f136a9c48 button.colab-df-convert');\n",
              "        buttonEl.style.display =\n",
              "          google.colab.kernel.accessAllowed ? 'block' : 'none';\n",
              "\n",
              "        async function convertToInteractive(key) {\n",
              "          const element = document.querySelector('#df-0207a3ba-c6d8-4400-879d-331f136a9c48');\n",
              "          const dataTable =\n",
              "            await google.colab.kernel.invokeFunction('convertToInteractive',\n",
              "                                                     [key], {});\n",
              "          if (!dataTable) return;\n",
              "\n",
              "          const docLinkHtml = 'Like what you see? Visit the ' +\n",
              "            '<a target=\"_blank\" href=https://colab.research.google.com/notebooks/data_table.ipynb>data table notebook</a>'\n",
              "            + ' to learn more about interactive tables.';\n",
              "          element.innerHTML = '';\n",
              "          dataTable['output_type'] = 'display_data';\n",
              "          await google.colab.output.renderOutput(dataTable, element);\n",
              "          const docLink = document.createElement('div');\n",
              "          docLink.innerHTML = docLinkHtml;\n",
              "          element.appendChild(docLink);\n",
              "        }\n",
              "      </script>\n",
              "    </div>\n",
              "  </div>\n",
              "  "
            ]
          },
          "metadata": {},
          "execution_count": 17
        }
      ]
    },
    {
      "cell_type": "code",
      "source": [
        "pc1_loadings = loadings.sort_values(by='PC1', ascending=False)[['PC1']]\n",
        "pc1_loadings = pc1_loadings.reset_index()\n",
        "pc1_loadings.columns = ['Attribute', 'CorrelationWithPC1']\n",
        "\n",
        "plt.bar(x=pc1_loadings['Attribute'], height=pc1_loadings['CorrelationWithPC1'], color='#087E8B')\n",
        "plt.title('PCA loading scores (first principal component)', size=5)\n",
        "plt.xticks(rotation='vertical')\n",
        "plt.show()"
      ],
      "metadata": {
        "colab": {
          "base_uri": "https://localhost:8080/",
          "height": 391
        },
        "id": "wnOX4lbQ9ZRb",
        "outputId": "c30b85c5-08cc-4e39-bf6e-1d07f7b51081"
      },
      "execution_count": 18,
      "outputs": [
        {
          "output_type": "display_data",
          "data": {
            "text/plain": [
              "<Figure size 432x288 with 1 Axes>"
            ],
            "image/png": "[encoded data removed]"
          },
          "metadata": {
            "needs_background": "light"
          }
        }
      ]
    },
    {
      "cell_type": "code",
      "source": [
        "rank_pca = pd.DataFrame(loadings['PC1'])\n",
        "rank_pca =  rank_pca.sort_values(by='PC1', ascending = False)\n",
        "book = load_workbook('/content/mushroom_dataset.xlsx')\n",
        "writer = pd.ExcelWriter('/content/mushroom_dataset.xlsx', engine='openpyxl') \n",
        "writer.book = book\n",
        "## ExcelWriter for some reason uses writer.sheets to access the sheet.\n",
        "## If you leave it empty it will not know that sheet Main is already there\n",
        "## and will create a new sheet.\n",
        "writer.sheets = dict((ws.title, ws) for ws in book.worksheets)\n",
        "rank_pca.to_excel(writer, \"PCA\")\n",
        "writer.save()"
      ],
      "metadata": {
        "id": "JM7CdhTvyw9F"
      },
      "execution_count": 19,
      "outputs": []
    },
    {
      "cell_type": "code",
      "source": [
        "fs_fit_fscore = SelectKBest(f_classif, k=len(X.columns))\n",
        "fs_fit_fscore.fit_transform(X_train, y_train)\n",
        "fs_indices_fscore = np.argsort(np.nan_to_num(fs_fit_fscore.scores_))[::-1][0:len(X.columns)]\n",
        "fs_indices_fscore"
      ],
      "metadata": {
        "colab": {
          "base_uri": "https://localhost:8080/"
        },
        "id": "5z407y_U9bJX",
        "outputId": "09087572-4890-45fc-cd74-6b032927e557"
      },
      "execution_count": 20,
      "outputs": [
        {
          "output_type": "execute_result",
          "data": {
            "text/plain": [
              "array([ 7,  8,  3, 17, 10,  6, 11, 12, 19, 16, 20, 18,  1, 13, 14, 15,  5,\n",
              "        9,  4,  0,  2])"
            ]
          },
          "metadata": {},
          "execution_count": 20
        }
      ]
    },
    {
      "cell_type": "code",
      "source": [
        "best_features_fscore = df_new.columns[fs_indices_fscore].values\n",
        "print(best_features_fscore)\n",
        "feature_importances_fscore = fs_fit_fscore.scores_[fs_indices_fscore]\n",
        "print(feature_importances_fscore)"
      ],
      "metadata": {
        "colab": {
          "base_uri": "https://localhost:8080/"
        },
        "id": "0Xylh0Sp9c-M",
        "outputId": "4d89b3a5-0fee-4c4a-e512-9ede0e1f8e10"
      },
      "execution_count": 21,
      "outputs": [
        {
          "output_type": "stream",
          "name": "stdout",
          "text": [
            "['gill_spacing' 'gill_size' 'cap_color' 'ring_number' 'stalkshape'\n",
            " 'gill_attachment' 'stalk_root' 'stalk_surface_above_ring'\n",
            " 'spore_print_color' 'veil_color' 'population' 'ring_type' 'cap_shape'\n",
            " 'stalk_surface_below_ring' 'stalk_color_above_ring'\n",
            " 'stalk_color_below_ring' 'odor' 'gill_color' 'bruises' 'Mushroom_quality'\n",
            " 'cap_surface']\n",
            "[3095.207 2931.53  2504.101 1497.849 1242.906 1001.112  885.168  716.775\n",
            "  706.582  364.117  354.681  241.771  240.731  165.169  153.238  150.888\n",
            "  117.22    80.443   66.454   18.798    6.983]\n"
          ]
        }
      ]
    },
    {
      "cell_type": "code",
      "source": [
        "plt.barh(best_features_fscore, feature_importances_fscore)\n",
        "plt.xlabel('Imporatnce')\n",
        "plt.ylabel('Features')"
      ],
      "metadata": {
        "colab": {
          "base_uri": "https://localhost:8080/",
          "height": 296
        },
        "id": "lNFrAzaN9fNB",
        "outputId": "907006ef-3301-4830-b864-69e8ad27024f"
      },
      "execution_count": 22,
      "outputs": [
        {
          "output_type": "execute_result",
          "data": {
            "text/plain": [
              "Text(0, 0.5, 'Features')"
            ]
          },
          "metadata": {},
          "execution_count": 22
        },
        {
          "output_type": "display_data",
          "data": {
            "text/plain": [
              "<Figure size 432x288 with 1 Axes>"
            ],
            "image/png": "[encoded data removed]"
          },
          "metadata": {
            "needs_background": "light"
          }
        }
      ]
    },
    {
      "cell_type": "code",
      "source": [
        "fs_fit_mutual_info = SelectKBest(mutual_info_classif, k=len(X.columns))\n",
        "fs_fit_mutual_info.fit_transform(X_train, y_train)\n",
        "fs_indices_mutual_info = np.argsort(fs_fit_mutual_info.scores_)[::-1][0:len(X.columns)]\n",
        "best_features_mutual_info = df.columns[fs_indices_mutual_info].values\n",
        "best_features_mutual_info"
      ],
      "metadata": {
        "colab": {
          "base_uri": "https://localhost:8080/"
        },
        "id": "hs3oQXGp9hhJ",
        "outputId": "cfb26663-4365-4ce2-ed8a-b51f90ea6653"
      },
      "execution_count": 25,
      "outputs": [
        {
          "output_type": "execute_result",
          "data": {
            "text/plain": [
              "array(['bruises', 'ring_number', 'gill_size', 'veil_color', 'stalk_root',\n",
              "       'stalk_surface_above_ring', 'stalk_surface_below_ring',\n",
              "       'stalk_color_above_ring', 'gill_spacing', 'cap_color', 'ring_type',\n",
              "       'spore_print_color', 'stalkshape', 'gill_attachment',\n",
              "       'Mushroom_quality', 'veil_type', 'cap_surface', 'cap_shape',\n",
              "       'stalk_color_below_ring', 'gill_color', 'odor'], dtype=object)"
            ]
          },
          "metadata": {},
          "execution_count": 25
        }
      ]
    },
    {
      "cell_type": "code",
      "source": [
        "rank_f_test = pd.DataFrame(best_features_fscore, columns = ['F_test_rank']) \n",
        "book = load_workbook('/content/mushroom_dataset.xlsx')\n",
        "writer = pd.ExcelWriter('/content/mushroom_dataset.xlsx', engine='openpyxl') \n",
        "writer.book = book\n",
        "## ExcelWriter for some reason uses writer.sheets to access the sheet.\n",
        "## If you leave it empty it will not know that sheet Main is already there\n",
        "## and will create a new sheet.\n",
        "writer.sheets = dict((ws.title, ws) for ws in book.worksheets)\n",
        "rank_f_test.to_excel(writer, \"F_test\")\n",
        "writer.save()"
      ],
      "metadata": {
        "id": "mMltEJU8zBeF"
      },
      "execution_count": 23,
      "outputs": []
    },
    {
      "cell_type": "code",
      "source": [
        "feature_importances_mutual_info = fs_fit_mutual_info.scores_[fs_indices_mutual_info]\n",
        "feature_importances_mutual_info"
      ],
      "metadata": {
        "colab": {
          "base_uri": "https://localhost:8080/"
        },
        "id": "IwwW-kij9jTV",
        "outputId": "4d09bea1-d2a8-4278-f5c6-c7b4e2437c8b"
      },
      "execution_count": 26,
      "outputs": [
        {
          "output_type": "execute_result",
          "data": {
            "text/plain": [
              "array([0.628, 0.328, 0.293, 0.216, 0.189, 0.186, 0.179, 0.173, 0.162,\n",
              "       0.141, 0.132, 0.106, 0.093, 0.063, 0.028, 0.027, 0.023, 0.016,\n",
              "       0.011, 0.008, 0.   ])"
            ]
          },
          "metadata": {},
          "execution_count": 26
        }
      ]
    },
    {
      "cell_type": "code",
      "source": [
        "plt.barh(best_features_mutual_info,feature_importances_mutual_info)\n",
        "plt.xlabel('Importance')\n",
        "plt.ylabel('Features')"
      ],
      "metadata": {
        "colab": {
          "base_uri": "https://localhost:8080/",
          "height": 296
        },
        "id": "3NNTKIMA9lbY",
        "outputId": "245183cb-c0e2-4c92-fd84-533b7ad50823"
      },
      "execution_count": 27,
      "outputs": [
        {
          "output_type": "execute_result",
          "data": {
            "text/plain": [
              "Text(0, 0.5, 'Features')"
            ]
          },
          "metadata": {},
          "execution_count": 27
        },
        {
          "output_type": "display_data",
          "data": {
            "text/plain": [
              "<Figure size 432x288 with 1 Axes>"
            ],
            "image/png": "[encoded data removed]"
          },
          "metadata": {
            "needs_background": "light"
          }
        }
      ]
    },
    {
      "cell_type": "code",
      "source": [
        "rank_mutual = pd.DataFrame(best_features_mutual_info,columns = ['Mutual_Info_rank'])\n",
        "book = load_workbook('/content/mushroom_dataset.xlsx')\n",
        "writer = pd.ExcelWriter('/content/mushroom_dataset.xlsx', engine='openpyxl') \n",
        "writer.book = book\n",
        "\n",
        "## ExcelWriter for some reason uses writer.sheets to access the sheet.\n",
        "## If you leave it empty it will not know that sheet Main is already there\n",
        "## and will create a new sheet.\n",
        "\n",
        "writer.sheets = dict((ws.title, ws) for ws in book.worksheets)\n",
        "rank_mutual.to_excel(writer, \"mutual_info\")\n",
        "writer.save()"
      ],
      "metadata": {
        "id": "9_TBrZE_zYuj"
      },
      "execution_count": 28,
      "outputs": []
    },
    {
      "cell_type": "code",
      "source": [
        "df_corr = df_new.corr()\n",
        "df_corr"
      ],
      "metadata": {
        "colab": {
          "base_uri": "https://localhost:8080/",
          "height": 833
        },
        "id": "pGuVupbK9nLo",
        "outputId": "39ddaf2b-a6cd-4dd1-ef12-0cdd957d204b"
      },
      "execution_count": 29,
      "outputs": [
        {
          "output_type": "execute_result",
          "data": {
            "text/plain": [
              "                          Mushroom_quality  cap_shape  cap_surface  cap_color  \\\n",
              "Mushroom_quality                  1.000000   0.052951     0.178446  -0.031384   \n",
              "cap_shape                         0.052951   1.000000    -0.050454  -0.048203   \n",
              "cap_surface                       0.178446  -0.050454     1.000000  -0.019402   \n",
              "cap_color                        -0.031384  -0.048203    -0.019402   1.000000   \n",
              "bruises                          -0.501530  -0.035374     0.070228  -0.000764   \n",
              "odor                             -0.093552  -0.021935     0.045233  -0.387121   \n",
              "gill_attachment                   0.129200   0.078865    -0.034180   0.041436   \n",
              "gill_spacing                     -0.348387   0.013196    -0.282306   0.144259   \n",
              "gill_size                         0.540024   0.054050     0.208100  -0.169464   \n",
              "gill_color                       -0.530566  -0.006039    -0.161017   0.084659   \n",
              "stalkshape                       -0.102019   0.063794    -0.014123  -0.456496   \n",
              "stalk_root                       -0.379361   0.030191    -0.126245   0.321274   \n",
              "stalk_surface_above_ring         -0.334593  -0.030417     0.089090  -0.060837   \n",
              "stalk_surface_below_ring         -0.298801  -0.032591     0.107965  -0.047710   \n",
              "stalk_color_above_ring           -0.154003  -0.031659     0.066050   0.002364   \n",
              "stalk_color_below_ring           -0.146730  -0.030390     0.068885   0.008057   \n",
              "veil_color                        0.145142   0.072560    -0.016603   0.036130   \n",
              "ring_number                      -0.214366  -0.106534    -0.026147  -0.005822   \n",
              "ring_type                        -0.411771  -0.025457    -0.106407   0.162513   \n",
              "spore_print_color                 0.171961  -0.073416     0.230364  -0.293523   \n",
              "population                        0.298686   0.063413     0.021555  -0.144770   \n",
              "habitat                           0.217179  -0.042221     0.163887   0.033925   \n",
              "\n",
              "                           bruises      odor  gill_attachment  gill_spacing  \\\n",
              "Mushroom_quality         -0.501530 -0.093552         0.129200     -0.348387   \n",
              "cap_shape                -0.035374 -0.021935         0.078865      0.013196   \n",
              "cap_surface               0.070228  0.045233        -0.034180     -0.282306   \n",
              "cap_color                -0.000764 -0.387121         0.041436      0.144259   \n",
              "bruises                   1.000000 -0.061825         0.137359     -0.299473   \n",
              "odor                     -0.061825  1.000000        -0.059590      0.063936   \n",
              "gill_attachment           0.137359 -0.059590         1.000000      0.071489   \n",
              "gill_spacing             -0.299473  0.063936         0.071489      1.000000   \n",
              "gill_size                -0.369596  0.310495         0.108984     -0.108333   \n",
              "gill_color                0.527120 -0.129213        -0.128567      0.100193   \n",
              "stalkshape                0.099364  0.459766         0.186485      0.080895   \n",
              "stalk_root                0.244188 -0.205215         0.144063      0.350548   \n",
              "stalk_surface_above_ring  0.460824  0.118617        -0.088916     -0.212359   \n",
              "stalk_surface_below_ring  0.458983  0.061820        -0.116177     -0.213775   \n",
              "stalk_color_above_ring    0.083538  0.174532         0.099299      0.274574   \n",
              "stalk_color_below_ring    0.092874  0.169407         0.097160      0.253505   \n",
              "veil_color                0.119770 -0.057747         0.897518      0.073363   \n",
              "ring_number               0.056788  0.111905         0.093236      0.243014   \n",
              "ring_type                 0.692973 -0.281387        -0.146689     -0.195897   \n",
              "spore_print_color        -0.285008  0.469055        -0.029524      0.047323   \n",
              "population                0.088137 -0.043623         0.165575     -0.529253   \n",
              "habitat                  -0.075095 -0.026610        -0.030304     -0.154680   \n",
              "\n",
              "                          gill_size  gill_color  ...  \\\n",
              "Mushroom_quality           0.540024   -0.530566  ...   \n",
              "cap_shape                  0.054050   -0.006039  ...   \n",
              "cap_surface                0.208100   -0.161017  ...   \n",
              "cap_color                 -0.169464    0.084659  ...   \n",
              "bruises                   -0.369596    0.527120  ...   \n",
              "odor                       0.310495   -0.129213  ...   \n",
              "gill_attachment            0.108984   -0.128567  ...   \n",
              "gill_spacing              -0.108333    0.100193  ...   \n",
              "gill_size                  1.000000   -0.516736  ...   \n",
              "gill_color                -0.516736    1.000000  ...   \n",
              "stalkshape                 0.214576   -0.175699  ...   \n",
              "stalk_root                -0.344345    0.315080  ...   \n",
              "stalk_surface_above_ring   0.056310    0.224287  ...   \n",
              "stalk_surface_below_ring   0.010894    0.257224  ...   \n",
              "stalk_color_above_ring     0.296548   -0.058299  ...   \n",
              "stalk_color_below_ring     0.278708   -0.074781  ...   \n",
              "veil_color                 0.103809   -0.097583  ...   \n",
              "ring_number               -0.171362    0.096054  ...   \n",
              "ring_type                 -0.460872    0.629398  ...   \n",
              "spore_print_color          0.622991   -0.416135  ...   \n",
              "population                 0.147682   -0.034090  ...   \n",
              "habitat                    0.161418   -0.202972  ...   \n",
              "\n",
              "                          stalk_surface_above_ring  stalk_surface_below_ring  \\\n",
              "Mushroom_quality                         -0.334593                 -0.298801   \n",
              "cap_shape                                -0.030417                 -0.032591   \n",
              "cap_surface                               0.089090                  0.107965   \n",
              "cap_color                                -0.060837                 -0.047710   \n",
              "bruises                                   0.460824                  0.458983   \n",
              "odor                                      0.118617                  0.061820   \n",
              "gill_attachment                          -0.088916                 -0.116177   \n",
              "gill_spacing                             -0.212359                 -0.213775   \n",
              "gill_size                                 0.056310                  0.010894   \n",
              "gill_color                                0.224287                  0.257224   \n",
              "stalkshape                                0.015193                 -0.034399   \n",
              "stalk_root                               -0.027065                  0.087454   \n",
              "stalk_surface_above_ring                  1.000000                  0.437164   \n",
              "stalk_surface_below_ring                  0.437164                  1.000000   \n",
              "stalk_color_above_ring                    0.132708                  0.106933   \n",
              "stalk_color_below_ring                    0.142835                  0.110656   \n",
              "veil_color                               -0.090591                 -0.077284   \n",
              "ring_number                               0.107904                  0.040006   \n",
              "ring_type                                 0.390091                  0.394644   \n",
              "spore_print_color                         0.100764                  0.130974   \n",
              "population                                0.079604                  0.046797   \n",
              "habitat                                  -0.058076                 -0.039628   \n",
              "\n",
              "                          stalk_color_above_ring  stalk_color_below_ring  \\\n",
              "Mushroom_quality                       -0.154003               -0.146730   \n",
              "cap_shape                              -0.031659               -0.030390   \n",
              "cap_surface                             0.066050                0.068885   \n",
              "cap_color                               0.002364                0.008057   \n",
              "bruises                                 0.083538                0.092874   \n",
              "odor                                    0.174532                0.169407   \n",
              "gill_attachment                         0.099299                0.097160   \n",
              "gill_spacing                            0.274574                0.253505   \n",
              "gill_size                               0.296548                0.278708   \n",
              "gill_color                             -0.058299               -0.074781   \n",
              "stalkshape                              0.223439                0.235794   \n",
              "stalk_root                              0.157140                0.159805   \n",
              "stalk_surface_above_ring                0.132708                0.142835   \n",
              "stalk_surface_below_ring                0.106933                0.110656   \n",
              "stalk_color_above_ring                  1.000000                0.491510   \n",
              "stalk_color_below_ring                  0.491510                1.000000   \n",
              "veil_color                              0.067377                0.065567   \n",
              "ring_number                             0.084917                0.087580   \n",
              "ring_type                              -0.048878               -0.034284   \n",
              "spore_print_color                       0.271533                0.254518   \n",
              "population                             -0.240261               -0.242792   \n",
              "habitat                                 0.042561                0.041594   \n",
              "\n",
              "                          veil_color  ring_number  ring_type  \\\n",
              "Mushroom_quality            0.145142    -0.214366  -0.411771   \n",
              "cap_shape                   0.072560    -0.106534  -0.025457   \n",
              "cap_surface                -0.016603    -0.026147  -0.106407   \n",
              "cap_color                   0.036130    -0.005822   0.162513   \n",
              "bruises                     0.119770     0.056788   0.692973   \n",
              "odor                       -0.057747     0.111905  -0.281387   \n",
              "gill_attachment             0.897518     0.093236  -0.146689   \n",
              "gill_spacing                0.073363     0.243014  -0.195897   \n",
              "gill_size                   0.103809    -0.171362  -0.460872   \n",
              "gill_color                 -0.097583     0.096054   0.629398   \n",
              "stalkshape                  0.162604    -0.293221  -0.291444   \n",
              "stalk_root                  0.156213    -0.247357   0.210155   \n",
              "stalk_surface_above_ring   -0.090591     0.107904   0.390091   \n",
              "stalk_surface_below_ring   -0.077284     0.040006   0.394644   \n",
              "stalk_color_above_ring      0.067377     0.084917  -0.048878   \n",
              "stalk_color_below_ring      0.065567     0.087580  -0.034284   \n",
              "veil_color                  1.000000     0.036380  -0.143673   \n",
              "ring_number                 0.036380     1.000000   0.058312   \n",
              "ring_type                  -0.143673     0.058312   1.000000   \n",
              "spore_print_color          -0.003600     0.338417  -0.487048   \n",
              "population                  0.124924    -0.242020   0.211763   \n",
              "habitat                    -0.040581     0.235835  -0.212080   \n",
              "\n",
              "                          spore_print_color  population   habitat  \n",
              "Mushroom_quality                   0.171961    0.298686  0.217179  \n",
              "cap_shape                         -0.073416    0.063413 -0.042221  \n",
              "cap_surface                        0.230364    0.021555  0.163887  \n",
              "cap_color                         -0.293523   -0.144770  0.033925  \n",
              "bruises                           -0.285008    0.088137 -0.075095  \n",
              "odor                               0.469055   -0.043623 -0.026610  \n",
              "gill_attachment                   -0.029524    0.165575 -0.030304  \n",
              "gill_spacing                       0.047323   -0.529253 -0.154680  \n",
              "gill_size                          0.622991    0.147682  0.161418  \n",
              "gill_color                        -0.416135   -0.034090 -0.202972  \n",
              "stalkshape                         0.258831    0.087383 -0.269216  \n",
              "stalk_root                        -0.536996   -0.306747 -0.007668  \n",
              "stalk_surface_above_ring           0.100764    0.079604 -0.058076  \n",
              "stalk_surface_below_ring           0.130974    0.046797 -0.039628  \n",
              "stalk_color_above_ring             0.271533   -0.240261  0.042561  \n",
              "stalk_color_below_ring             0.254518   -0.242792  0.041594  \n",
              "veil_color                        -0.003600    0.124924 -0.040581  \n",
              "ring_number                        0.338417   -0.242020  0.235835  \n",
              "ring_type                         -0.487048    0.211763 -0.212080  \n",
              "spore_print_color                  1.000000   -0.126859  0.185954  \n",
              "population                        -0.126859    1.000000 -0.174529  \n",
              "habitat                            0.185954   -0.174529  1.000000  \n",
              "\n",
              "[22 rows x 22 columns]"
            ],
            "text/html": [
              "\n",
              "  <div id=\"df-39a5f3ba-1bb7-4c33-b8e4-458ae78c73dc\">\n",
              "    <div class=\"colab-df-container\">\n",
              "      <div>\n",
              "<style scoped>\n",
              "    .dataframe tbody tr th:only-of-type {\n",
              "        vertical-align: middle;\n",
              "    }\n",
              "\n",
              "    .dataframe tbody tr th {\n",
              "        vertical-align: top;\n",
              "    }\n",
              "\n",
              "    .dataframe thead th {\n",
              "        text-align: right;\n",
              "    }\n",
              "</style>\n",
              "<table border=\"1\" class=\"dataframe\">\n",
              "  <thead>\n",
              "    <tr style=\"text-align: right;\">\n",
              "      <th></th>\n",
              "      <th>Mushroom_quality</th>\n",
              "      <th>cap_shape</th>\n",
              "      <th>cap_surface</th>\n",
              "      <th>cap_color</th>\n",
              "      <th>bruises</th>\n",
              "      <th>odor</th>\n",
              "      <th>gill_attachment</th>\n",
              "      <th>gill_spacing</th>\n",
              "      <th>gill_size</th>\n",
              "      <th>gill_color</th>\n",
              "      <th>...</th>\n",
              "      <th>stalk_surface_above_ring</th>\n",
              "      <th>stalk_surface_below_ring</th>\n",
              "      <th>stalk_color_above_ring</th>\n",
              "      <th>stalk_color_below_ring</th>\n",
              "      <th>veil_color</th>\n",
              "      <th>ring_number</th>\n",
              "      <th>ring_type</th>\n",
              "      <th>spore_print_color</th>\n",
              "      <th>population</th>\n",
              "      <th>habitat</th>\n",
              "    </tr>\n",
              "  </thead>\n",
              "  <tbody>\n",
              "    <tr>\n",
              "      <th>Mushroom_quality</th>\n",
              "      <td>1.000000</td>\n",
              "      <td>0.052951</td>\n",
              "      <td>0.178446</td>\n",
              "      <td>-0.031384</td>\n",
              "      <td>-0.501530</td>\n",
              "      <td>-0.093552</td>\n",
              "      <td>0.129200</td>\n",
              "      <td>-0.348387</td>\n",
              "      <td>0.540024</td>\n",
              "      <td>-0.530566</td>\n",
              "      <td>...</td>\n",
              "      <td>-0.334593</td>\n",
              "      <td>-0.298801</td>\n",
              "      <td>-0.154003</td>\n",
              "      <td>-0.146730</td>\n",
              "      <td>0.145142</td>\n",
              "      <td>-0.214366</td>\n",
              "      <td>-0.411771</td>\n",
              "      <td>0.171961</td>\n",
              "      <td>0.298686</td>\n",
              "      <td>0.217179</td>\n",
              "    </tr>\n",
              "    <tr>\n",
              "      <th>cap_shape</th>\n",
              "      <td>0.052951</td>\n",
              "      <td>1.000000</td>\n",
              "      <td>-0.050454</td>\n",
              "      <td>-0.048203</td>\n",
              "      <td>-0.035374</td>\n",
              "      <td>-0.021935</td>\n",
              "      <td>0.078865</td>\n",
              "      <td>0.013196</td>\n",
              "      <td>0.054050</td>\n",
              "      <td>-0.006039</td>\n",
              "      <td>...</td>\n",
              "      <td>-0.030417</td>\n",
              "      <td>-0.032591</td>\n",
              "      <td>-0.031659</td>\n",
              "      <td>-0.030390</td>\n",
              "      <td>0.072560</td>\n",
              "      <td>-0.106534</td>\n",
              "      <td>-0.025457</td>\n",
              "      <td>-0.073416</td>\n",
              "      <td>0.063413</td>\n",
              "      <td>-0.042221</td>\n",
              "    </tr>\n",
              "    <tr>\n",
              "      <th>cap_surface</th>\n",
              "      <td>0.178446</td>\n",
              "      <td>-0.050454</td>\n",
              "      <td>1.000000</td>\n",
              "      <td>-0.019402</td>\n",
              "      <td>0.070228</td>\n",
              "      <td>0.045233</td>\n",
              "      <td>-0.034180</td>\n",
              "      <td>-0.282306</td>\n",
              "      <td>0.208100</td>\n",
              "      <td>-0.161017</td>\n",
              "      <td>...</td>\n",
              "      <td>0.089090</td>\n",
              "      <td>0.107965</td>\n",
              "      <td>0.066050</td>\n",
              "      <td>0.068885</td>\n",
              "      <td>-0.016603</td>\n",
              "      <td>-0.026147</td>\n",
              "      <td>-0.106407</td>\n",
              "      <td>0.230364</td>\n",
              "      <td>0.021555</td>\n",
              "      <td>0.163887</td>\n",
              "    </tr>\n",
              "    <tr>\n",
              "      <th>cap_color</th>\n",
              "      <td>-0.031384</td>\n",
              "      <td>-0.048203</td>\n",
              "      <td>-0.019402</td>\n",
              "      <td>1.000000</td>\n",
              "      <td>-0.000764</td>\n",
              "      <td>-0.387121</td>\n",
              "      <td>0.041436</td>\n",
              "      <td>0.144259</td>\n",
              "      <td>-0.169464</td>\n",
              "      <td>0.084659</td>\n",
              "      <td>...</td>\n",
              "      <td>-0.060837</td>\n",
              "      <td>-0.047710</td>\n",
              "      <td>0.002364</td>\n",
              "      <td>0.008057</td>\n",
              "      <td>0.036130</td>\n",
              "      <td>-0.005822</td>\n",
              "      <td>0.162513</td>\n",
              "      <td>-0.293523</td>\n",
              "      <td>-0.144770</td>\n",
              "      <td>0.033925</td>\n",
              "    </tr>\n",
              "    <tr>\n",
              "      <th>bruises</th>\n",
              "      <td>-0.501530</td>\n",
              "      <td>-0.035374</td>\n",
              "      <td>0.070228</td>\n",
              "      <td>-0.000764</td>\n",
              "      <td>1.000000</td>\n",
              "      <td>-0.061825</td>\n",
              "      <td>0.137359</td>\n",
              "      <td>-0.299473</td>\n",
              "      <td>-0.369596</td>\n",
              "      <td>0.527120</td>\n",
              "      <td>...</td>\n",
              "      <td>0.460824</td>\n",
              "      <td>0.458983</td>\n",
              "      <td>0.083538</td>\n",
              "      <td>0.092874</td>\n",
              "      <td>0.119770</td>\n",
              "      <td>0.056788</td>\n",
              "      <td>0.692973</td>\n",
              "      <td>-0.285008</td>\n",
              "      <td>0.088137</td>\n",
              "      <td>-0.075095</td>\n",
              "    </tr>\n",
              "    <tr>\n",
              "      <th>odor</th>\n",
              "      <td>-0.093552</td>\n",
              "      <td>-0.021935</td>\n",
              "      <td>0.045233</td>\n",
              "      <td>-0.387121</td>\n",
              "      <td>-0.061825</td>\n",
              "      <td>1.000000</td>\n",
              "      <td>-0.059590</td>\n",
              "      <td>0.063936</td>\n",
              "      <td>0.310495</td>\n",
              "      <td>-0.129213</td>\n",
              "      <td>...</td>\n",
              "      <td>0.118617</td>\n",
              "      <td>0.061820</td>\n",
              "      <td>0.174532</td>\n",
              "      <td>0.169407</td>\n",
              "      <td>-0.057747</td>\n",
              "      <td>0.111905</td>\n",
              "      <td>-0.281387</td>\n",
              "      <td>0.469055</td>\n",
              "      <td>-0.043623</td>\n",
              "      <td>-0.026610</td>\n",
              "    </tr>\n",
              "    <tr>\n",
              "      <th>gill_attachment</th>\n",
              "      <td>0.129200</td>\n",
              "      <td>0.078865</td>\n",
              "      <td>-0.034180</td>\n",
              "      <td>0.041436</td>\n",
              "      <td>0.137359</td>\n",
              "      <td>-0.059590</td>\n",
              "      <td>1.000000</td>\n",
              "      <td>0.071489</td>\n",
              "      <td>0.108984</td>\n",
              "      <td>-0.128567</td>\n",
              "      <td>...</td>\n",
              "      <td>-0.088916</td>\n",
              "      <td>-0.116177</td>\n",
              "      <td>0.099299</td>\n",
              "      <td>0.097160</td>\n",
              "      <td>0.897518</td>\n",
              "      <td>0.093236</td>\n",
              "      <td>-0.146689</td>\n",
              "      <td>-0.029524</td>\n",
              "      <td>0.165575</td>\n",
              "      <td>-0.030304</td>\n",
              "    </tr>\n",
              "    <tr>\n",
              "      <th>gill_spacing</th>\n",
              "      <td>-0.348387</td>\n",
              "      <td>0.013196</td>\n",
              "      <td>-0.282306</td>\n",
              "      <td>0.144259</td>\n",
              "      <td>-0.299473</td>\n",
              "      <td>0.063936</td>\n",
              "      <td>0.071489</td>\n",
              "      <td>1.000000</td>\n",
              "      <td>-0.108333</td>\n",
              "      <td>0.100193</td>\n",
              "      <td>...</td>\n",
              "      <td>-0.212359</td>\n",
              "      <td>-0.213775</td>\n",
              "      <td>0.274574</td>\n",
              "      <td>0.253505</td>\n",
              "      <td>0.073363</td>\n",
              "      <td>0.243014</td>\n",
              "      <td>-0.195897</td>\n",
              "      <td>0.047323</td>\n",
              "      <td>-0.529253</td>\n",
              "      <td>-0.154680</td>\n",
              "    </tr>\n",
              "    <tr>\n",
              "      <th>gill_size</th>\n",
              "      <td>0.540024</td>\n",
              "      <td>0.054050</td>\n",
              "      <td>0.208100</td>\n",
              "      <td>-0.169464</td>\n",
              "      <td>-0.369596</td>\n",
              "      <td>0.310495</td>\n",
              "      <td>0.108984</td>\n",
              "      <td>-0.108333</td>\n",
              "      <td>1.000000</td>\n",
              "      <td>-0.516736</td>\n",
              "      <td>...</td>\n",
              "      <td>0.056310</td>\n",
              "      <td>0.010894</td>\n",
              "      <td>0.296548</td>\n",
              "      <td>0.278708</td>\n",
              "      <td>0.103809</td>\n",
              "      <td>-0.171362</td>\n",
              "      <td>-0.460872</td>\n",
              "      <td>0.622991</td>\n",
              "      <td>0.147682</td>\n",
              "      <td>0.161418</td>\n",
              "    </tr>\n",
              "    <tr>\n",
              "      <th>gill_color</th>\n",
              "      <td>-0.530566</td>\n",
              "      <td>-0.006039</td>\n",
              "      <td>-0.161017</td>\n",
              "      <td>0.084659</td>\n",
              "      <td>0.527120</td>\n",
              "      <td>-0.129213</td>\n",
              "      <td>-0.128567</td>\n",
              "      <td>0.100193</td>\n",
              "      <td>-0.516736</td>\n",
              "      <td>1.000000</td>\n",
              "      <td>...</td>\n",
              "      <td>0.224287</td>\n",
              "      <td>0.257224</td>\n",
              "      <td>-0.058299</td>\n",
              "      <td>-0.074781</td>\n",
              "      <td>-0.097583</td>\n",
              "      <td>0.096054</td>\n",
              "      <td>0.629398</td>\n",
              "      <td>-0.416135</td>\n",
              "      <td>-0.034090</td>\n",
              "      <td>-0.202972</td>\n",
              "    </tr>\n",
              "    <tr>\n",
              "      <th>stalkshape</th>\n",
              "      <td>-0.102019</td>\n",
              "      <td>0.063794</td>\n",
              "      <td>-0.014123</td>\n",
              "      <td>-0.456496</td>\n",
              "      <td>0.099364</td>\n",
              "      <td>0.459766</td>\n",
              "      <td>0.186485</td>\n",
              "      <td>0.080895</td>\n",
              "      <td>0.214576</td>\n",
              "      <td>-0.175699</td>\n",
              "      <td>...</td>\n",
              "      <td>0.015193</td>\n",
              "      <td>-0.034399</td>\n",
              "      <td>0.223439</td>\n",
              "      <td>0.235794</td>\n",
              "      <td>0.162604</td>\n",
              "      <td>-0.293221</td>\n",
              "      <td>-0.291444</td>\n",
              "      <td>0.258831</td>\n",
              "      <td>0.087383</td>\n",
              "      <td>-0.269216</td>\n",
              "    </tr>\n",
              "    <tr>\n",
              "      <th>stalk_root</th>\n",
              "      <td>-0.379361</td>\n",
              "      <td>0.030191</td>\n",
              "      <td>-0.126245</td>\n",
              "      <td>0.321274</td>\n",
              "      <td>0.244188</td>\n",
              "      <td>-0.205215</td>\n",
              "      <td>0.144063</td>\n",
              "      <td>0.350548</td>\n",
              "      <td>-0.344345</td>\n",
              "      <td>0.315080</td>\n",
              "      <td>...</td>\n",
              "      <td>-0.027065</td>\n",
              "      <td>0.087454</td>\n",
              "      <td>0.157140</td>\n",
              "      <td>0.159805</td>\n",
              "      <td>0.156213</td>\n",
              "      <td>-0.247357</td>\n",
              "      <td>0.210155</td>\n",
              "      <td>-0.536996</td>\n",
              "      <td>-0.306747</td>\n",
              "      <td>-0.007668</td>\n",
              "    </tr>\n",
              "    <tr>\n",
              "      <th>stalk_surface_above_ring</th>\n",
              "      <td>-0.334593</td>\n",
              "      <td>-0.030417</td>\n",
              "      <td>0.089090</td>\n",
              "      <td>-0.060837</td>\n",
              "      <td>0.460824</td>\n",
              "      <td>0.118617</td>\n",
              "      <td>-0.088916</td>\n",
              "      <td>-0.212359</td>\n",
              "      <td>0.056310</td>\n",
              "      <td>0.224287</td>\n",
              "      <td>...</td>\n",
              "      <td>1.000000</td>\n",
              "      <td>0.437164</td>\n",
              "      <td>0.132708</td>\n",
              "      <td>0.142835</td>\n",
              "      <td>-0.090591</td>\n",
              "      <td>0.107904</td>\n",
              "      <td>0.390091</td>\n",
              "      <td>0.100764</td>\n",
              "      <td>0.079604</td>\n",
              "      <td>-0.058076</td>\n",
              "    </tr>\n",
              "    <tr>\n",
              "      <th>stalk_surface_below_ring</th>\n",
              "      <td>-0.298801</td>\n",
              "      <td>-0.032591</td>\n",
              "      <td>0.107965</td>\n",
              "      <td>-0.047710</td>\n",
              "      <td>0.458983</td>\n",
              "      <td>0.061820</td>\n",
              "      <td>-0.116177</td>\n",
              "      <td>-0.213775</td>\n",
              "      <td>0.010894</td>\n",
              "      <td>0.257224</td>\n",
              "      <td>...</td>\n",
              "      <td>0.437164</td>\n",
              "      <td>1.000000</td>\n",
              "      <td>0.106933</td>\n",
              "      <td>0.110656</td>\n",
              "      <td>-0.077284</td>\n",
              "      <td>0.040006</td>\n",
              "      <td>0.394644</td>\n",
              "      <td>0.130974</td>\n",
              "      <td>0.046797</td>\n",
              "      <td>-0.039628</td>\n",
              "    </tr>\n",
              "    <tr>\n",
              "      <th>stalk_color_above_ring</th>\n",
              "      <td>-0.154003</td>\n",
              "      <td>-0.031659</td>\n",
              "      <td>0.066050</td>\n",
              "      <td>0.002364</td>\n",
              "      <td>0.083538</td>\n",
              "      <td>0.174532</td>\n",
              "      <td>0.099299</td>\n",
              "      <td>0.274574</td>\n",
              "      <td>0.296548</td>\n",
              "      <td>-0.058299</td>\n",
              "      <td>...</td>\n",
              "      <td>0.132708</td>\n",
              "      <td>0.106933</td>\n",
              "      <td>1.000000</td>\n",
              "      <td>0.491510</td>\n",
              "      <td>0.067377</td>\n",
              "      <td>0.084917</td>\n",
              "      <td>-0.048878</td>\n",
              "      <td>0.271533</td>\n",
              "      <td>-0.240261</td>\n",
              "      <td>0.042561</td>\n",
              "    </tr>\n",
              "    <tr>\n",
              "      <th>stalk_color_below_ring</th>\n",
              "      <td>-0.146730</td>\n",
              "      <td>-0.030390</td>\n",
              "      <td>0.068885</td>\n",
              "      <td>0.008057</td>\n",
              "      <td>0.092874</td>\n",
              "      <td>0.169407</td>\n",
              "      <td>0.097160</td>\n",
              "      <td>0.253505</td>\n",
              "      <td>0.278708</td>\n",
              "      <td>-0.074781</td>\n",
              "      <td>...</td>\n",
              "      <td>0.142835</td>\n",
              "      <td>0.110656</td>\n",
              "      <td>0.491510</td>\n",
              "      <td>1.000000</td>\n",
              "      <td>0.065567</td>\n",
              "      <td>0.087580</td>\n",
              "      <td>-0.034284</td>\n",
              "      <td>0.254518</td>\n",
              "      <td>-0.242792</td>\n",
              "      <td>0.041594</td>\n",
              "    </tr>\n",
              "    <tr>\n",
              "      <th>veil_color</th>\n",
              "      <td>0.145142</td>\n",
              "      <td>0.072560</td>\n",
              "      <td>-0.016603</td>\n",
              "      <td>0.036130</td>\n",
              "      <td>0.119770</td>\n",
              "      <td>-0.057747</td>\n",
              "      <td>0.897518</td>\n",
              "      <td>0.073363</td>\n",
              "      <td>0.103809</td>\n",
              "      <td>-0.097583</td>\n",
              "      <td>...</td>\n",
              "      <td>-0.090591</td>\n",
              "      <td>-0.077284</td>\n",
              "      <td>0.067377</td>\n",
              "      <td>0.065567</td>\n",
              "      <td>1.000000</td>\n",
              "      <td>0.036380</td>\n",
              "      <td>-0.143673</td>\n",
              "      <td>-0.003600</td>\n",
              "      <td>0.124924</td>\n",
              "      <td>-0.040581</td>\n",
              "    </tr>\n",
              "    <tr>\n",
              "      <th>ring_number</th>\n",
              "      <td>-0.214366</td>\n",
              "      <td>-0.106534</td>\n",
              "      <td>-0.026147</td>\n",
              "      <td>-0.005822</td>\n",
              "      <td>0.056788</td>\n",
              "      <td>0.111905</td>\n",
              "      <td>0.093236</td>\n",
              "      <td>0.243014</td>\n",
              "      <td>-0.171362</td>\n",
              "      <td>0.096054</td>\n",
              "      <td>...</td>\n",
              "      <td>0.107904</td>\n",
              "      <td>0.040006</td>\n",
              "      <td>0.084917</td>\n",
              "      <td>0.087580</td>\n",
              "      <td>0.036380</td>\n",
              "      <td>1.000000</td>\n",
              "      <td>0.058312</td>\n",
              "      <td>0.338417</td>\n",
              "      <td>-0.242020</td>\n",
              "      <td>0.235835</td>\n",
              "    </tr>\n",
              "    <tr>\n",
              "      <th>ring_type</th>\n",
              "      <td>-0.411771</td>\n",
              "      <td>-0.025457</td>\n",
              "      <td>-0.106407</td>\n",
              "      <td>0.162513</td>\n",
              "      <td>0.692973</td>\n",
              "      <td>-0.281387</td>\n",
              "      <td>-0.146689</td>\n",
              "      <td>-0.195897</td>\n",
              "      <td>-0.460872</td>\n",
              "      <td>0.629398</td>\n",
              "      <td>...</td>\n",
              "      <td>0.390091</td>\n",
              "      <td>0.394644</td>\n",
              "      <td>-0.048878</td>\n",
              "      <td>-0.034284</td>\n",
              "      <td>-0.143673</td>\n",
              "      <td>0.058312</td>\n",
              "      <td>1.000000</td>\n",
              "      <td>-0.487048</td>\n",
              "      <td>0.211763</td>\n",
              "      <td>-0.212080</td>\n",
              "    </tr>\n",
              "    <tr>\n",
              "      <th>spore_print_color</th>\n",
              "      <td>0.171961</td>\n",
              "      <td>-0.073416</td>\n",
              "      <td>0.230364</td>\n",
              "      <td>-0.293523</td>\n",
              "      <td>-0.285008</td>\n",
              "      <td>0.469055</td>\n",
              "      <td>-0.029524</td>\n",
              "      <td>0.047323</td>\n",
              "      <td>0.622991</td>\n",
              "      <td>-0.416135</td>\n",
              "      <td>...</td>\n",
              "      <td>0.100764</td>\n",
              "      <td>0.130974</td>\n",
              "      <td>0.271533</td>\n",
              "      <td>0.254518</td>\n",
              "      <td>-0.003600</td>\n",
              "      <td>0.338417</td>\n",
              "      <td>-0.487048</td>\n",
              "      <td>1.000000</td>\n",
              "      <td>-0.126859</td>\n",
              "      <td>0.185954</td>\n",
              "    </tr>\n",
              "    <tr>\n",
              "      <th>population</th>\n",
              "      <td>0.298686</td>\n",
              "      <td>0.063413</td>\n",
              "      <td>0.021555</td>\n",
              "      <td>-0.144770</td>\n",
              "      <td>0.088137</td>\n",
              "      <td>-0.043623</td>\n",
              "      <td>0.165575</td>\n",
              "      <td>-0.529253</td>\n",
              "      <td>0.147682</td>\n",
              "      <td>-0.034090</td>\n",
              "      <td>...</td>\n",
              "      <td>0.079604</td>\n",
              "      <td>0.046797</td>\n",
              "      <td>-0.240261</td>\n",
              "      <td>-0.242792</td>\n",
              "      <td>0.124924</td>\n",
              "      <td>-0.242020</td>\n",
              "      <td>0.211763</td>\n",
              "      <td>-0.126859</td>\n",
              "      <td>1.000000</td>\n",
              "      <td>-0.174529</td>\n",
              "    </tr>\n",
              "    <tr>\n",
              "      <th>habitat</th>\n",
              "      <td>0.217179</td>\n",
              "      <td>-0.042221</td>\n",
              "      <td>0.163887</td>\n",
              "      <td>0.033925</td>\n",
              "      <td>-0.075095</td>\n",
              "      <td>-0.026610</td>\n",
              "      <td>-0.030304</td>\n",
              "      <td>-0.154680</td>\n",
              "      <td>0.161418</td>\n",
              "      <td>-0.202972</td>\n",
              "      <td>...</td>\n",
              "      <td>-0.058076</td>\n",
              "      <td>-0.039628</td>\n",
              "      <td>0.042561</td>\n",
              "      <td>0.041594</td>\n",
              "      <td>-0.040581</td>\n",
              "      <td>0.235835</td>\n",
              "      <td>-0.212080</td>\n",
              "      <td>0.185954</td>\n",
              "      <td>-0.174529</td>\n",
              "      <td>1.000000</td>\n",
              "    </tr>\n",
              "  </tbody>\n",
              "</table>\n",
              "<p>22 rows × 22 columns</p>\n",
              "</div>\n",
              "      <button class=\"colab-df-convert\" onclick=\"convertToInteractive('df-39a5f3ba-1bb7-4c33-b8e4-458ae78c73dc')\"\n",
              "              title=\"Convert this dataframe to an interactive table.\"\n",
              "              style=\"display:none;\">\n",
              "        \n",
              "  <svg xmlns=\"http://www.w3.org/2000/svg\" height=\"24px\"viewBox=\"0 0 24 24\"\n",
              "       width=\"24px\">\n",
              "    <path d=\"M0 0h24v24H0V0z\" fill=\"none\"/>\n",
              "    <path d=\"M18.56 5.44l.94 2.06.94-2.06 2.06-.94-2.06-.94-.94-2.06-.94 2.06-2.06.94zm-11 1L8.5 8.5l.94-2.06 2.06-.94-2.06-.94L8.5 2.5l-.94 2.06-2.06.94zm10 10l.94 2.06.94-2.06 2.06-.94-2.06-.94-.94-2.06-.94 2.06-2.06.94z\"/><path d=\"M17.41 7.96l-1.37-1.37c-.4-.4-.92-.59-1.43-.59-.52 0-1.04.2-1.43.59L10.3 9.45l-7.72 7.72c-.78.78-.78 2.05 0 2.83L4 21.41c.39.39.9.59 1.41.59.51 0 1.02-.2 1.41-.59l7.78-7.78 2.81-2.81c.8-.78.8-2.07 0-2.86zM5.41 20L4 18.59l7.72-7.72 1.47 1.35L5.41 20z\"/>\n",
              "  </svg>\n",
              "      </button>\n",
              "      \n",
              "  <style>\n",
              "    .colab-df-container {\n",
              "      display:flex;\n",
              "      flex-wrap:wrap;\n",
              "      gap: 12px;\n",
              "    }\n",
              "\n",
              "    .colab-df-convert {\n",
              "      background-color: #E8F0FE;\n",
              "      border: none;\n",
              "      border-radius: 50%;\n",
              "      cursor: pointer;\n",
              "      display: none;\n",
              "      fill: #1967D2;\n",
              "      height: 32px;\n",
              "      padding: 0 0 0 0;\n",
              "      width: 32px;\n",
              "    }\n",
              "\n",
              "    .colab-df-convert:hover {\n",
              "      background-color: #E2EBFA;\n",
              "      box-shadow: 0px 1px 2px rgba(60, 64, 67, 0.3), 0px 1px 3px 1px rgba(60, 64, 67, 0.15);\n",
              "      fill: #174EA6;\n",
              "    }\n",
              "\n",
              "    [theme=dark] .colab-df-convert {\n",
              "      background-color: #3B4455;\n",
              "      fill: #D2E3FC;\n",
              "    }\n",
              "\n",
              "    [theme=dark] .colab-df-convert:hover {\n",
              "      background-color: #434B5C;\n",
              "      box-shadow: 0px 1px 3px 1px rgba(0, 0, 0, 0.15);\n",
              "      filter: drop-shadow(0px 1px 2px rgba(0, 0, 0, 0.3));\n",
              "      fill: #FFFFFF;\n",
              "    }\n",
              "  </style>\n",
              "\n",
              "      <script>\n",
              "        const buttonEl =\n",
              "          document.querySelector('#df-39a5f3ba-1bb7-4c33-b8e4-458ae78c73dc button.colab-df-convert');\n",
              "        buttonEl.style.display =\n",
              "          google.colab.kernel.accessAllowed ? 'block' : 'none';\n",
              "\n",
              "        async function convertToInteractive(key) {\n",
              "          const element = document.querySelector('#df-39a5f3ba-1bb7-4c33-b8e4-458ae78c73dc');\n",
              "          const dataTable =\n",
              "            await google.colab.kernel.invokeFunction('convertToInteractive',\n",
              "                                                     [key], {});\n",
              "          if (!dataTable) return;\n",
              "\n",
              "          const docLinkHtml = 'Like what you see? Visit the ' +\n",
              "            '<a target=\"_blank\" href=https://colab.research.google.com/notebooks/data_table.ipynb>data table notebook</a>'\n",
              "            + ' to learn more about interactive tables.';\n",
              "          element.innerHTML = '';\n",
              "          dataTable['output_type'] = 'display_data';\n",
              "          await google.colab.output.renderOutput(dataTable, element);\n",
              "          const docLink = document.createElement('div');\n",
              "          docLink.innerHTML = docLinkHtml;\n",
              "          element.appendChild(docLink);\n",
              "        }\n",
              "      </script>\n",
              "    </div>\n",
              "  </div>\n",
              "  "
            ]
          },
          "metadata": {},
          "execution_count": 29
        }
      ]
    },
    {
      "cell_type": "code",
      "source": [
        "corr_rank = pd.DataFrame(df_corr['Mushroom_quality'])\n",
        "corr_rank = corr_rank.sort_values(by = 'Mushroom_quality',ascending = False)\n",
        "corr_rank"
      ],
      "metadata": {
        "colab": {
          "base_uri": "https://localhost:8080/",
          "height": 739
        },
        "id": "4pFSGnk-9pJY",
        "outputId": "98693701-5aac-4986-c040-db824572f164"
      },
      "execution_count": 32,
      "outputs": [
        {
          "output_type": "execute_result",
          "data": {
            "text/plain": [
              "                          Mushroom_quality\n",
              "Mushroom_quality                  1.000000\n",
              "gill_size                         0.540024\n",
              "population                        0.298686\n",
              "habitat                           0.217179\n",
              "cap_surface                       0.178446\n",
              "spore_print_color                 0.171961\n",
              "veil_color                        0.145142\n",
              "gill_attachment                   0.129200\n",
              "cap_shape                         0.052951\n",
              "cap_color                        -0.031384\n",
              "odor                             -0.093552\n",
              "stalkshape                       -0.102019\n",
              "stalk_color_below_ring           -0.146730\n",
              "stalk_color_above_ring           -0.154003\n",
              "ring_number                      -0.214366\n",
              "stalk_surface_below_ring         -0.298801\n",
              "stalk_surface_above_ring         -0.334593\n",
              "gill_spacing                     -0.348387\n",
              "stalk_root                       -0.379361\n",
              "ring_type                        -0.411771\n",
              "bruises                          -0.501530\n",
              "gill_color                       -0.530566"
            ],
            "text/html": [
              "\n",
              "  <div id=\"df-1fb6e65e-a574-47e9-b040-b228c54bbee7\">\n",
              "    <div class=\"colab-df-container\">\n",
              "      <div>\n",
              "<style scoped>\n",
              "    .dataframe tbody tr th:only-of-type {\n",
              "        vertical-align: middle;\n",
              "    }\n",
              "\n",
              "    .dataframe tbody tr th {\n",
              "        vertical-align: top;\n",
              "    }\n",
              "\n",
              "    .dataframe thead th {\n",
              "        text-align: right;\n",
              "    }\n",
              "</style>\n",
              "<table border=\"1\" class=\"dataframe\">\n",
              "  <thead>\n",
              "    <tr style=\"text-align: right;\">\n",
              "      <th></th>\n",
              "      <th>Mushroom_quality</th>\n",
              "    </tr>\n",
              "  </thead>\n",
              "  <tbody>\n",
              "    <tr>\n",
              "      <th>Mushroom_quality</th>\n",
              "      <td>1.000000</td>\n",
              "    </tr>\n",
              "    <tr>\n",
              "      <th>gill_size</th>\n",
              "      <td>0.540024</td>\n",
              "    </tr>\n",
              "    <tr>\n",
              "      <th>population</th>\n",
              "      <td>0.298686</td>\n",
              "    </tr>\n",
              "    <tr>\n",
              "      <th>habitat</th>\n",
              "      <td>0.217179</td>\n",
              "    </tr>\n",
              "    <tr>\n",
              "      <th>cap_surface</th>\n",
              "      <td>0.178446</td>\n",
              "    </tr>\n",
              "    <tr>\n",
              "      <th>spore_print_color</th>\n",
              "      <td>0.171961</td>\n",
              "    </tr>\n",
              "    <tr>\n",
              "      <th>veil_color</th>\n",
              "      <td>0.145142</td>\n",
              "    </tr>\n",
              "    <tr>\n",
              "      <th>gill_attachment</th>\n",
              "      <td>0.129200</td>\n",
              "    </tr>\n",
              "    <tr>\n",
              "      <th>cap_shape</th>\n",
              "      <td>0.052951</td>\n",
              "    </tr>\n",
              "    <tr>\n",
              "      <th>cap_color</th>\n",
              "      <td>-0.031384</td>\n",
              "    </tr>\n",
              "    <tr>\n",
              "      <th>odor</th>\n",
              "      <td>-0.093552</td>\n",
              "    </tr>\n",
              "    <tr>\n",
              "      <th>stalkshape</th>\n",
              "      <td>-0.102019</td>\n",
              "    </tr>\n",
              "    <tr>\n",
              "      <th>stalk_color_below_ring</th>\n",
              "      <td>-0.146730</td>\n",
              "    </tr>\n",
              "    <tr>\n",
              "      <th>stalk_color_above_ring</th>\n",
              "      <td>-0.154003</td>\n",
              "    </tr>\n",
              "    <tr>\n",
              "      <th>ring_number</th>\n",
              "      <td>-0.214366</td>\n",
              "    </tr>\n",
              "    <tr>\n",
              "      <th>stalk_surface_below_ring</th>\n",
              "      <td>-0.298801</td>\n",
              "    </tr>\n",
              "    <tr>\n",
              "      <th>stalk_surface_above_ring</th>\n",
              "      <td>-0.334593</td>\n",
              "    </tr>\n",
              "    <tr>\n",
              "      <th>gill_spacing</th>\n",
              "      <td>-0.348387</td>\n",
              "    </tr>\n",
              "    <tr>\n",
              "      <th>stalk_root</th>\n",
              "      <td>-0.379361</td>\n",
              "    </tr>\n",
              "    <tr>\n",
              "      <th>ring_type</th>\n",
              "      <td>-0.411771</td>\n",
              "    </tr>\n",
              "    <tr>\n",
              "      <th>bruises</th>\n",
              "      <td>-0.501530</td>\n",
              "    </tr>\n",
              "    <tr>\n",
              "      <th>gill_color</th>\n",
              "      <td>-0.530566</td>\n",
              "    </tr>\n",
              "  </tbody>\n",
              "</table>\n",
              "</div>\n",
              "      <button class=\"colab-df-convert\" onclick=\"convertToInteractive('df-1fb6e65e-a574-47e9-b040-b228c54bbee7')\"\n",
              "              title=\"Convert this dataframe to an interactive table.\"\n",
              "              style=\"display:none;\">\n",
              "        \n",
              "  <svg xmlns=\"http://www.w3.org/2000/svg\" height=\"24px\"viewBox=\"0 0 24 24\"\n",
              "       width=\"24px\">\n",
              "    <path d=\"M0 0h24v24H0V0z\" fill=\"none\"/>\n",
              "    <path d=\"M18.56 5.44l.94 2.06.94-2.06 2.06-.94-2.06-.94-.94-2.06-.94 2.06-2.06.94zm-11 1L8.5 8.5l.94-2.06 2.06-.94-2.06-.94L8.5 2.5l-.94 2.06-2.06.94zm10 10l.94 2.06.94-2.06 2.06-.94-2.06-.94-.94-2.06-.94 2.06-2.06.94z\"/><path d=\"M17.41 7.96l-1.37-1.37c-.4-.4-.92-.59-1.43-.59-.52 0-1.04.2-1.43.59L10.3 9.45l-7.72 7.72c-.78.78-.78 2.05 0 2.83L4 21.41c.39.39.9.59 1.41.59.51 0 1.02-.2 1.41-.59l7.78-7.78 2.81-2.81c.8-.78.8-2.07 0-2.86zM5.41 20L4 18.59l7.72-7.72 1.47 1.35L5.41 20z\"/>\n",
              "  </svg>\n",
              "      </button>\n",
              "      \n",
              "  <style>\n",
              "    .colab-df-container {\n",
              "      display:flex;\n",
              "      flex-wrap:wrap;\n",
              "      gap: 12px;\n",
              "    }\n",
              "\n",
              "    .colab-df-convert {\n",
              "      background-color: #E8F0FE;\n",
              "      border: none;\n",
              "      border-radius: 50%;\n",
              "      cursor: pointer;\n",
              "      display: none;\n",
              "      fill: #1967D2;\n",
              "      height: 32px;\n",
              "      padding: 0 0 0 0;\n",
              "      width: 32px;\n",
              "    }\n",
              "\n",
              "    .colab-df-convert:hover {\n",
              "      background-color: #E2EBFA;\n",
              "      box-shadow: 0px 1px 2px rgba(60, 64, 67, 0.3), 0px 1px 3px 1px rgba(60, 64, 67, 0.15);\n",
              "      fill: #174EA6;\n",
              "    }\n",
              "\n",
              "    [theme=dark] .colab-df-convert {\n",
              "      background-color: #3B4455;\n",
              "      fill: #D2E3FC;\n",
              "    }\n",
              "\n",
              "    [theme=dark] .colab-df-convert:hover {\n",
              "      background-color: #434B5C;\n",
              "      box-shadow: 0px 1px 3px 1px rgba(0, 0, 0, 0.15);\n",
              "      filter: drop-shadow(0px 1px 2px rgba(0, 0, 0, 0.3));\n",
              "      fill: #FFFFFF;\n",
              "    }\n",
              "  </style>\n",
              "\n",
              "      <script>\n",
              "        const buttonEl =\n",
              "          document.querySelector('#df-1fb6e65e-a574-47e9-b040-b228c54bbee7 button.colab-df-convert');\n",
              "        buttonEl.style.display =\n",
              "          google.colab.kernel.accessAllowed ? 'block' : 'none';\n",
              "\n",
              "        async function convertToInteractive(key) {\n",
              "          const element = document.querySelector('#df-1fb6e65e-a574-47e9-b040-b228c54bbee7');\n",
              "          const dataTable =\n",
              "            await google.colab.kernel.invokeFunction('convertToInteractive',\n",
              "                                                     [key], {});\n",
              "          if (!dataTable) return;\n",
              "\n",
              "          const docLinkHtml = 'Like what you see? Visit the ' +\n",
              "            '<a target=\"_blank\" href=https://colab.research.google.com/notebooks/data_table.ipynb>data table notebook</a>'\n",
              "            + ' to learn more about interactive tables.';\n",
              "          element.innerHTML = '';\n",
              "          dataTable['output_type'] = 'display_data';\n",
              "          await google.colab.output.renderOutput(dataTable, element);\n",
              "          const docLink = document.createElement('div');\n",
              "          docLink.innerHTML = docLinkHtml;\n",
              "          element.appendChild(docLink);\n",
              "        }\n",
              "      </script>\n",
              "    </div>\n",
              "  </div>\n",
              "  "
            ]
          },
          "metadata": {},
          "execution_count": 32
        }
      ]
    },
    {
      "cell_type": "code",
      "source": [
        "book = load_workbook('/content/mushroom_dataset.xlsx')\n",
        "writer = pd.ExcelWriter('/content/mushroom_dataset.xlsx', engine='openpyxl') \n",
        "writer.book = book\n",
        "\n",
        "## ExcelWriter for some reason uses writer.sheets to access the sheet.\n",
        "## If you leave it empty it will not know that sheet Main is already there\n",
        "## and will create a new sheet.\n",
        "writer.sheets = dict((ws.title, ws) for ws in book.worksheets)\n",
        "corr_rank.to_excel(writer, \"Pearson_Correlation\")\n",
        "writer.save()"
      ],
      "metadata": {
        "id": "9stYZdVdz463"
      },
      "execution_count": 33,
      "outputs": []
    },
    {
      "cell_type": "code",
      "source": [
        "from sklearn.feature_selection import RFE"
      ],
      "metadata": {
        "id": "QSMvjHpu9wmp"
      },
      "execution_count": 34,
      "outputs": []
    },
    {
      "cell_type": "code",
      "source": [
        "estimator = DecisionTreeClassifier()"
      ],
      "metadata": {
        "id": "Zn5W5n_f9-D_"
      },
      "execution_count": 35,
      "outputs": []
    },
    {
      "cell_type": "code",
      "source": [
        "selector = RFE(estimator, n_features_to_select=1, step=1)\n",
        "selector = selector.fit(X_train, y_train)"
      ],
      "metadata": {
        "id": "VTsDPdo30JC_"
      },
      "execution_count": 36,
      "outputs": []
    },
    {
      "cell_type": "code",
      "source": [
        "index = selector.ranking_.argsort()\n",
        "index"
      ],
      "metadata": {
        "colab": {
          "base_uri": "https://localhost:8080/"
        },
        "id": "PnQFTzml0LTl",
        "outputId": "7fdb8eff-261e-4096-a5ed-786b632951c5"
      },
      "execution_count": 37,
      "outputs": [
        {
          "output_type": "execute_result",
          "data": {
            "text/plain": [
              "array([ 8, 18, 19,  7, 10,  3, 20,  9, 16, 12,  2, 13, 14, 11,  6,  5,  4,\n",
              "       15, 17,  1,  0])"
            ]
          },
          "metadata": {},
          "execution_count": 37
        }
      ]
    },
    {
      "cell_type": "code",
      "source": [
        "X.columns[index]"
      ],
      "metadata": {
        "colab": {
          "base_uri": "https://localhost:8080/"
        },
        "id": "2N0dhuo00NDa",
        "outputId": "242cdd9a-2b26-4f26-d9d4-14db584e34b8"
      },
      "execution_count": 38,
      "outputs": [
        {
          "output_type": "execute_result",
          "data": {
            "text/plain": [
              "Index(['gill_color', 'spore_print_color', 'population', 'gill_size',\n",
              "       'stalk_root', 'bruises', 'habitat', 'stalkshape', 'ring_number',\n",
              "       'stalk_surface_below_ring', 'cap_color', 'stalk_color_above_ring',\n",
              "       'stalk_color_below_ring', 'stalk_surface_above_ring', 'gill_spacing',\n",
              "       'gill_attachment', 'odor', 'veil_color', 'ring_type', 'cap_surface',\n",
              "       'cap_shape'],\n",
              "      dtype='object')"
            ]
          },
          "metadata": {},
          "execution_count": 38
        }
      ]
    },
    {
      "cell_type": "code",
      "source": [
        "dc = {'Rank_RFE': X.columns[index]}\n",
        "rank_RFE = pd.DataFrame(data =  dc) \n",
        "book = load_workbook('/content/mushroom_dataset.xlsx')\n",
        "writer = pd.ExcelWriter('/content/mushroom_dataset.xlsx', engine='openpyxl') \n",
        "writer.book = book\n",
        "## ExcelWriter for some reason uses writer.sheets to access the sheet.\n",
        "## If you leave it empty it will not know that sheet Main is already there\n",
        "## and will create a new sheet.\n",
        "writer.sheets = dict((ws.title, ws) for ws in book.worksheets)\n",
        "rank_RFE.to_excel(writer, \"RFE\")\n",
        "writer.save()"
      ],
      "metadata": {
        "id": "s0cbBj0w0Qq5"
      },
      "execution_count": 39,
      "outputs": []
    },
    {
      "cell_type": "code",
      "source": [
        ""
      ],
      "metadata": {
        "id": "mTIqTQ0U0Z0c"
      },
      "execution_count": null,
      "outputs": []
    }
  ]
}