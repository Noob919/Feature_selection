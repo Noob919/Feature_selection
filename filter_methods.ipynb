{
  "nbformat": 4,
  "nbformat_minor": 0,
  "metadata": {
    "colab": {
      "name": "filter_methods.ipynb",
      "provenance": [],
      "authorship_tag": "ABX9TyODnpKBug+Qac6QVe7RETiA",
      "include_colab_link": true
    },
    "kernelspec": {
      "name": "python3",
      "display_name": "Python 3"
    },
    "language_info": {
      "name": "python"
    }
  },
  "cells": [
    {
      "cell_type": "markdown",
      "metadata": {
        "id": "view-in-github",
        "colab_type": "text"
      },
      "source": [
        "<a href=\"https://colab.research.google.com/github/Noob919/Feature_selection/blob/main/filter_methods.ipynb\" target=\"_parent\"><img src=\"https://colab.research.google.com/assets/colab-badge.svg\" alt=\"Open In Colab\"/></a>"
      ]
    },
    {
      "cell_type": "code",
      "execution_count": 41,
      "metadata": {
        "id": "uxHq9bDXJVwd"
      },
      "outputs": [],
      "source": [
        "import numpy as np\n",
        "import pandas as pd\n",
        "from sklearn.model_selection import cross_val_score\n",
        "from sklearn import preprocessing\n",
        "from sklearn.feature_selection  import chi2, SelectKBest,mutual_info_classif,SelectPercentile,SelectFpr\n",
        "from sklearn.model_selection import train_test_split\n",
        "from sklearn.tree import DecisionTreeClassifier\n",
        "from sklearn.linear_model import LogisticRegression\n",
        "from sklearn.preprocessing import LabelEncoder\n",
        "from sklearn.preprocessing import StandardScaler\n",
        "import matplotlib.pyplot as plt\n",
        "import seaborn as sns"
      ]
    },
    {
      "cell_type": "code",
      "source": [
        "df =  pd.read_csv(\"/content/wine_dataset.csv\")"
      ],
      "metadata": {
        "id": "jwQ9XyTSJw7P"
      },
      "execution_count": 2,
      "outputs": []
    },
    {
      "cell_type": "code",
      "source": [
        "X_col =  df.drop(['style'], axis=1)\n",
        "y = LabelEncoder().fit_transform(df['style'])"
      ],
      "metadata": {
        "id": "Nz3qLAHRJ2kI"
      },
      "execution_count": 3,
      "outputs": []
    },
    {
      "cell_type": "code",
      "source": [
        "X_train, X_test, y_train, y_test = train_test_split(X_col, y, test_size=0.2, random_state=0)"
      ],
      "metadata": {
        "id": "lOpaX9lbJ4nU"
      },
      "execution_count": 4,
      "outputs": []
    },
    {
      "cell_type": "markdown",
      "source": [
        "CHI Square Method"
      ],
      "metadata": {
        "id": "mRM98BNiL8P-"
      }
    },
    {
      "cell_type": "code",
      "source": [
        "test = SelectKBest(score_func=chi2, k=len(X.columns)).fit(X,y)\n",
        "np.set_printoptions(precision=3)\n",
        "score  =  test.scores_"
      ],
      "metadata": {
        "id": "hs98u-uzJ6Y9"
      },
      "execution_count": 5,
      "outputs": []
    },
    {
      "cell_type": "code",
      "source": [
        "Y = X.columns"
      ],
      "metadata": {
        "id": "hP5Pf5seK-46"
      },
      "execution_count": 6,
      "outputs": []
    },
    {
      "cell_type": "code",
      "source": [
        "sns.barplot(x  = score,y = Y )\n",
        "plt.xlabel('Importance Score')\n",
        "plt.ylabel('Features name')"
      ],
      "metadata": {
        "colab": {
          "base_uri": "https://localhost:8080/",
          "height": 296
        },
        "id": "zTh3210KFJ8G",
        "outputId": "7d030ef8-771f-40d5-8fdd-72654bf2c03c"
      },
      "execution_count": 7,
      "outputs": [
        {
          "output_type": "execute_result",
          "data": {
            "text/plain": [
              "Text(0, 0.5, 'Features name')"
            ]
          },
          "metadata": {},
          "execution_count": 7
        },
        {
          "output_type": "display_data",
          "data": {
            "text/plain": [
              "<Figure size 432x288 with 1 Axes>"
            ],
            "image/png": "[encoded data removed]"
          },
          "metadata": {
            "needs_background": "light"
          }
        }
      ]
    },
    {
      "cell_type": "markdown",
      "source": [
        "ANOVA using SVM"
      ],
      "metadata": {
        "id": "YiS3dZCvN1yG"
      }
    },
    {
      "cell_type": "code",
      "source": [
        "from sklearn.feature_selection import SelectKBest, f_classif\n",
        "from sklearn.pipeline import make_pipeline\n",
        "from sklearn.svm import LinearSVC\n",
        "\n",
        "anova_filter = SelectKBest(f_classif, k=len(X.columns))\n",
        "clf = LinearSVC()\n",
        "anova_svm = make_pipeline(anova_filter, clf)\n",
        "anova_svm.fit(X_train, y_train)"
      ],
      "metadata": {
        "colab": {
          "base_uri": "https://localhost:8080/"
        },
        "id": "xN4vd9RkBZfM",
        "outputId": "faf4035f-f23c-4775-aca6-b9fb486fc72f"
      },
      "execution_count": 8,
      "outputs": [
        {
          "output_type": "stream",
          "name": "stderr",
          "text": [
            "/usr/local/lib/python3.7/dist-packages/sklearn/svm/_base.py:1208: ConvergenceWarning: Liblinear failed to converge, increase the number of iterations.\n",
            "  ConvergenceWarning,\n"
          ]
        },
        {
          "output_type": "execute_result",
          "data": {
            "text/plain": [
              "Pipeline(steps=[('selectkbest', SelectKBest(k=12)), ('linearsvc', LinearSVC())])"
            ]
          },
          "metadata": {},
          "execution_count": 8
        }
      ]
    },
    {
      "cell_type": "code",
      "source": [
        "from sklearn.metrics import classification_report\n",
        "\n",
        "y_pred = anova_svm.predict(X_test)\n",
        "print(classification_report(y_test, y_pred))"
      ],
      "metadata": {
        "colab": {
          "base_uri": "https://localhost:8080/"
        },
        "id": "f4stqK4DBeoD",
        "outputId": "ef885caa-436b-4f6b-e40a-02290813a4e7"
      },
      "execution_count": 9,
      "outputs": [
        {
          "output_type": "stream",
          "name": "stdout",
          "text": [
            "              precision    recall  f1-score   support\n",
            "\n",
            "           0       0.88      0.99      0.93       311\n",
            "           1       1.00      0.96      0.98       989\n",
            "\n",
            "    accuracy                           0.96      1300\n",
            "   macro avg       0.94      0.97      0.95      1300\n",
            "weighted avg       0.97      0.96      0.97      1300\n",
            "\n"
          ]
        }
      ]
    },
    {
      "cell_type": "code",
      "source": [
        "ranks = anova_svm[-1].coef_.reshape(-1)"
      ],
      "metadata": {
        "id": "cUWz_YMsBnxo"
      },
      "execution_count": 10,
      "outputs": []
    },
    {
      "cell_type": "code",
      "source": [
        ""
      ],
      "metadata": {
        "id": "LCrklUFFD1gj"
      },
      "execution_count": 10,
      "outputs": []
    },
    {
      "cell_type": "code",
      "source": [
        "sns.barplot(x  = ranks,y = Y )\n",
        "plt.xlabel('Importance Score')\n",
        "plt.ylabel('Features name')"
      ],
      "metadata": {
        "colab": {
          "base_uri": "https://localhost:8080/",
          "height": 296
        },
        "id": "mcjWRQhDB9YE",
        "outputId": "fdf984c2-1c1d-44f8-d244-f5570c3e88ab"
      },
      "execution_count": 11,
      "outputs": [
        {
          "output_type": "execute_result",
          "data": {
            "text/plain": [
              "Text(0, 0.5, 'Features name')"
            ]
          },
          "metadata": {},
          "execution_count": 11
        },
        {
          "output_type": "display_data",
          "data": {
            "text/plain": [
              "<Figure size 432x288 with 1 Axes>"
            ],
            "image/png": "[encoded data removed]"
          },
          "metadata": {
            "needs_background": "light"
          }
        }
      ]
    },
    {
      "cell_type": "markdown",
      "source": [
        "ANOVA using Logistic Regression"
      ],
      "metadata": {
        "id": "Xo0llNvWElym"
      }
    },
    {
      "cell_type": "code",
      "source": [
        "anova_filter = SelectKBest(f_classif, k=len(X.columns))\n",
        "linear_clasifier =  LogisticRegression()\n",
        "anova_lr = make_pipeline(anova_filter, linear_clasifier)\n",
        "anova_lr.fit(X_train, y_train)"
      ],
      "metadata": {
        "colab": {
          "base_uri": "https://localhost:8080/"
        },
        "id": "A0-I65S_ElhD",
        "outputId": "cd8b3a0b-407d-4443-e4c9-2532a12960c2"
      },
      "execution_count": 12,
      "outputs": [
        {
          "output_type": "stream",
          "name": "stderr",
          "text": [
            "/usr/local/lib/python3.7/dist-packages/sklearn/linear_model/_logistic.py:818: ConvergenceWarning: lbfgs failed to converge (status=1):\n",
            "STOP: TOTAL NO. of ITERATIONS REACHED LIMIT.\n",
            "\n",
            "Increase the number of iterations (max_iter) or scale the data as shown in:\n",
            "    https://scikit-learn.org/stable/modules/preprocessing.html\n",
            "Please also refer to the documentation for alternative solver options:\n",
            "    https://scikit-learn.org/stable/modules/linear_model.html#logistic-regression\n",
            "  extra_warning_msg=_LOGISTIC_SOLVER_CONVERGENCE_MSG,\n"
          ]
        },
        {
          "output_type": "execute_result",
          "data": {
            "text/plain": [
              "Pipeline(steps=[('selectkbest', SelectKBest(k=12)),\n",
              "                ('logisticregression', LogisticRegression())])"
            ]
          },
          "metadata": {},
          "execution_count": 12
        }
      ]
    },
    {
      "cell_type": "code",
      "source": [
        "y_pred = anova_lr.predict(X_test)\n",
        "print(classification_report(y_test, y_pred))"
      ],
      "metadata": {
        "colab": {
          "base_uri": "https://localhost:8080/"
        },
        "id": "z5LuNvjdDzQ8",
        "outputId": "eaa04716-f302-4052-84cb-fbbf247c2432"
      },
      "execution_count": 13,
      "outputs": [
        {
          "output_type": "stream",
          "name": "stdout",
          "text": [
            "              precision    recall  f1-score   support\n",
            "\n",
            "           0       0.96      0.97      0.96       311\n",
            "           1       0.99      0.99      0.99       989\n",
            "\n",
            "    accuracy                           0.98      1300\n",
            "   macro avg       0.97      0.98      0.97      1300\n",
            "weighted avg       0.98      0.98      0.98      1300\n",
            "\n"
          ]
        }
      ]
    },
    {
      "cell_type": "code",
      "source": [
        "ranks = anova_lr[-1].coef_.reshape(-1)"
      ],
      "metadata": {
        "id": "5k8hXG6OGog0"
      },
      "execution_count": 14,
      "outputs": []
    },
    {
      "cell_type": "code",
      "source": [
        "sns.barplot(x  = ranks,y = Y )\n",
        "plt.xlabel('Importance Score')\n",
        "plt.ylabel('Features name')"
      ],
      "metadata": {
        "colab": {
          "base_uri": "https://localhost:8080/",
          "height": 296
        },
        "id": "quWOF_EfGxad",
        "outputId": "c960a386-9b0c-4ad2-897e-834cc579c8ff"
      },
      "execution_count": 15,
      "outputs": [
        {
          "output_type": "execute_result",
          "data": {
            "text/plain": [
              "Text(0, 0.5, 'Features name')"
            ]
          },
          "metadata": {},
          "execution_count": 15
        },
        {
          "output_type": "display_data",
          "data": {
            "text/plain": [
              "<Figure size 432x288 with 1 Axes>"
            ],
            "image/png": "[encoded data removed]"
          },
          "metadata": {
            "needs_background": "light"
          }
        }
      ]
    },
    {
      "cell_type": "markdown",
      "source": [
        "Tree based models"
      ],
      "metadata": {
        "id": "D6Ew1BMFgAjK"
      }
    },
    {
      "cell_type": "code",
      "source": [
        "from sklearn.ensemble import RandomForestRegressor\n"
      ],
      "metadata": {
        "id": "zn4a5b1wG1na"
      },
      "execution_count": 16,
      "outputs": []
    },
    {
      "cell_type": "code",
      "source": [
        "rf = RandomForestRegressor(n_estimators=150)\n",
        "rf.fit(X_train, y_train)"
      ],
      "metadata": {
        "colab": {
          "base_uri": "https://localhost:8080/"
        },
        "id": "D_mQAicHgVUk",
        "outputId": "6e93b8bc-8f9f-4611-a5a2-0ef76f96e86d"
      },
      "execution_count": 17,
      "outputs": [
        {
          "output_type": "execute_result",
          "data": {
            "text/plain": [
              "RandomForestRegressor(n_estimators=150)"
            ]
          },
          "metadata": {},
          "execution_count": 17
        }
      ]
    },
    {
      "cell_type": "code",
      "source": [
        "df.head()"
      ],
      "metadata": {
        "colab": {
          "base_uri": "https://localhost:8080/",
          "height": 268
        },
        "id": "HawT4IrTm3zp",
        "outputId": "d54ef71e-23fd-43fc-fd63-3483dddb2971"
      },
      "execution_count": 18,
      "outputs": [
        {
          "output_type": "execute_result",
          "data": {
            "text/plain": [
              "   fixed_acidity  volatile_acidity  citric_acid  residual_sugar  chlorides  \\\n",
              "0            7.4              0.70         0.00             1.9      0.076   \n",
              "1            7.8              0.88         0.00             2.6      0.098   \n",
              "2            7.8              0.76         0.04             2.3      0.092   \n",
              "3           11.2              0.28         0.56             1.9      0.075   \n",
              "4            7.4              0.70         0.00             1.9      0.076   \n",
              "\n",
              "   free_sulfur_dioxide  total_sulfur_dioxide  density    pH  sulphates  \\\n",
              "0                 11.0                  34.0   0.9978  3.51       0.56   \n",
              "1                 25.0                  67.0   0.9968  3.20       0.68   \n",
              "2                 15.0                  54.0   0.9970  3.26       0.65   \n",
              "3                 17.0                  60.0   0.9980  3.16       0.58   \n",
              "4                 11.0                  34.0   0.9978  3.51       0.56   \n",
              "\n",
              "   alcohol  quality style  \n",
              "0      9.4        5   red  \n",
              "1      9.8        5   red  \n",
              "2      9.8        5   red  \n",
              "3      9.8        6   red  \n",
              "4      9.4        5   red  "
            ],
            "text/html": [
              "\n",
              "  <div id=\"df-181c02d2-37ed-4c97-9553-7abee6208978\">\n",
              "    <div class=\"colab-df-container\">\n",
              "      <div>\n",
              "<style scoped>\n",
              "    .dataframe tbody tr th:only-of-type {\n",
              "        vertical-align: middle;\n",
              "    }\n",
              "\n",
              "    .dataframe tbody tr th {\n",
              "        vertical-align: top;\n",
              "    }\n",
              "\n",
              "    .dataframe thead th {\n",
              "        text-align: right;\n",
              "    }\n",
              "</style>\n",
              "<table border=\"1\" class=\"dataframe\">\n",
              "  <thead>\n",
              "    <tr style=\"text-align: right;\">\n",
              "      <th></th>\n",
              "      <th>fixed_acidity</th>\n",
              "      <th>volatile_acidity</th>\n",
              "      <th>citric_acid</th>\n",
              "      <th>residual_sugar</th>\n",
              "      <th>chlorides</th>\n",
              "      <th>free_sulfur_dioxide</th>\n",
              "      <th>total_sulfur_dioxide</th>\n",
              "      <th>density</th>\n",
              "      <th>pH</th>\n",
              "      <th>sulphates</th>\n",
              "      <th>alcohol</th>\n",
              "      <th>quality</th>\n",
              "      <th>style</th>\n",
              "    </tr>\n",
              "  </thead>\n",
              "  <tbody>\n",
              "    <tr>\n",
              "      <th>0</th>\n",
              "      <td>7.4</td>\n",
              "      <td>0.70</td>\n",
              "      <td>0.00</td>\n",
              "      <td>1.9</td>\n",
              "      <td>0.076</td>\n",
              "      <td>11.0</td>\n",
              "      <td>34.0</td>\n",
              "      <td>0.9978</td>\n",
              "      <td>3.51</td>\n",
              "      <td>0.56</td>\n",
              "      <td>9.4</td>\n",
              "      <td>5</td>\n",
              "      <td>red</td>\n",
              "    </tr>\n",
              "    <tr>\n",
              "      <th>1</th>\n",
              "      <td>7.8</td>\n",
              "      <td>0.88</td>\n",
              "      <td>0.00</td>\n",
              "      <td>2.6</td>\n",
              "      <td>0.098</td>\n",
              "      <td>25.0</td>\n",
              "      <td>67.0</td>\n",
              "      <td>0.9968</td>\n",
              "      <td>3.20</td>\n",
              "      <td>0.68</td>\n",
              "      <td>9.8</td>\n",
              "      <td>5</td>\n",
              "      <td>red</td>\n",
              "    </tr>\n",
              "    <tr>\n",
              "      <th>2</th>\n",
              "      <td>7.8</td>\n",
              "      <td>0.76</td>\n",
              "      <td>0.04</td>\n",
              "      <td>2.3</td>\n",
              "      <td>0.092</td>\n",
              "      <td>15.0</td>\n",
              "      <td>54.0</td>\n",
              "      <td>0.9970</td>\n",
              "      <td>3.26</td>\n",
              "      <td>0.65</td>\n",
              "      <td>9.8</td>\n",
              "      <td>5</td>\n",
              "      <td>red</td>\n",
              "    </tr>\n",
              "    <tr>\n",
              "      <th>3</th>\n",
              "      <td>11.2</td>\n",
              "      <td>0.28</td>\n",
              "      <td>0.56</td>\n",
              "      <td>1.9</td>\n",
              "      <td>0.075</td>\n",
              "      <td>17.0</td>\n",
              "      <td>60.0</td>\n",
              "      <td>0.9980</td>\n",
              "      <td>3.16</td>\n",
              "      <td>0.58</td>\n",
              "      <td>9.8</td>\n",
              "      <td>6</td>\n",
              "      <td>red</td>\n",
              "    </tr>\n",
              "    <tr>\n",
              "      <th>4</th>\n",
              "      <td>7.4</td>\n",
              "      <td>0.70</td>\n",
              "      <td>0.00</td>\n",
              "      <td>1.9</td>\n",
              "      <td>0.076</td>\n",
              "      <td>11.0</td>\n",
              "      <td>34.0</td>\n",
              "      <td>0.9978</td>\n",
              "      <td>3.51</td>\n",
              "      <td>0.56</td>\n",
              "      <td>9.4</td>\n",
              "      <td>5</td>\n",
              "      <td>red</td>\n",
              "    </tr>\n",
              "  </tbody>\n",
              "</table>\n",
              "</div>\n",
              "      <button class=\"colab-df-convert\" onclick=\"convertToInteractive('df-181c02d2-37ed-4c97-9553-7abee6208978')\"\n",
              "              title=\"Convert this dataframe to an interactive table.\"\n",
              "              style=\"display:none;\">\n",
              "        \n",
              "  <svg xmlns=\"http://www.w3.org/2000/svg\" height=\"24px\"viewBox=\"0 0 24 24\"\n",
              "       width=\"24px\">\n",
              "    <path d=\"M0 0h24v24H0V0z\" fill=\"none\"/>\n",
              "    <path d=\"M18.56 5.44l.94 2.06.94-2.06 2.06-.94-2.06-.94-.94-2.06-.94 2.06-2.06.94zm-11 1L8.5 8.5l.94-2.06 2.06-.94-2.06-.94L8.5 2.5l-.94 2.06-2.06.94zm10 10l.94 2.06.94-2.06 2.06-.94-2.06-.94-.94-2.06-.94 2.06-2.06.94z\"/><path d=\"M17.41 7.96l-1.37-1.37c-.4-.4-.92-.59-1.43-.59-.52 0-1.04.2-1.43.59L10.3 9.45l-7.72 7.72c-.78.78-.78 2.05 0 2.83L4 21.41c.39.39.9.59 1.41.59.51 0 1.02-.2 1.41-.59l7.78-7.78 2.81-2.81c.8-.78.8-2.07 0-2.86zM5.41 20L4 18.59l7.72-7.72 1.47 1.35L5.41 20z\"/>\n",
              "  </svg>\n",
              "      </button>\n",
              "      \n",
              "  <style>\n",
              "    .colab-df-container {\n",
              "      display:flex;\n",
              "      flex-wrap:wrap;\n",
              "      gap: 12px;\n",
              "    }\n",
              "\n",
              "    .colab-df-convert {\n",
              "      background-color: #E8F0FE;\n",
              "      border: none;\n",
              "      border-radius: 50%;\n",
              "      cursor: pointer;\n",
              "      display: none;\n",
              "      fill: #1967D2;\n",
              "      height: 32px;\n",
              "      padding: 0 0 0 0;\n",
              "      width: 32px;\n",
              "    }\n",
              "\n",
              "    .colab-df-convert:hover {\n",
              "      background-color: #E2EBFA;\n",
              "      box-shadow: 0px 1px 2px rgba(60, 64, 67, 0.3), 0px 1px 3px 1px rgba(60, 64, 67, 0.15);\n",
              "      fill: #174EA6;\n",
              "    }\n",
              "\n",
              "    [theme=dark] .colab-df-convert {\n",
              "      background-color: #3B4455;\n",
              "      fill: #D2E3FC;\n",
              "    }\n",
              "\n",
              "    [theme=dark] .colab-df-convert:hover {\n",
              "      background-color: #434B5C;\n",
              "      box-shadow: 0px 1px 3px 1px rgba(0, 0, 0, 0.15);\n",
              "      filter: drop-shadow(0px 1px 2px rgba(0, 0, 0, 0.3));\n",
              "      fill: #FFFFFF;\n",
              "    }\n",
              "  </style>\n",
              "\n",
              "      <script>\n",
              "        const buttonEl =\n",
              "          document.querySelector('#df-181c02d2-37ed-4c97-9553-7abee6208978 button.colab-df-convert');\n",
              "        buttonEl.style.display =\n",
              "          google.colab.kernel.accessAllowed ? 'block' : 'none';\n",
              "\n",
              "        async function convertToInteractive(key) {\n",
              "          const element = document.querySelector('#df-181c02d2-37ed-4c97-9553-7abee6208978');\n",
              "          const dataTable =\n",
              "            await google.colab.kernel.invokeFunction('convertToInteractive',\n",
              "                                                     [key], {});\n",
              "          if (!dataTable) return;\n",
              "\n",
              "          const docLinkHtml = 'Like what you see? Visit the ' +\n",
              "            '<a target=\"_blank\" href=https://colab.research.google.com/notebooks/data_table.ipynb>data table notebook</a>'\n",
              "            + ' to learn more about interactive tables.';\n",
              "          element.innerHTML = '';\n",
              "          dataTable['output_type'] = 'display_data';\n",
              "          await google.colab.output.renderOutput(dataTable, element);\n",
              "          const docLink = document.createElement('div');\n",
              "          docLink.innerHTML = docLinkHtml;\n",
              "          element.appendChild(docLink);\n",
              "        }\n",
              "      </script>\n",
              "    </div>\n",
              "  </div>\n",
              "  "
            ]
          },
          "metadata": {},
          "execution_count": 18
        }
      ]
    },
    {
      "cell_type": "code",
      "source": [
        "rf.feature_importances_"
      ],
      "metadata": {
        "colab": {
          "base_uri": "https://localhost:8080/"
        },
        "id": "m9eOOfKzmrD-",
        "outputId": "9b173bef-5a42-4cee-e493-a53a272edb8a"
      },
      "execution_count": 19,
      "outputs": [
        {
          "output_type": "execute_result",
          "data": {
            "text/plain": [
              "array([0.017, 0.033, 0.003, 0.008, 0.362, 0.002, 0.517, 0.024, 0.012,\n",
              "       0.014, 0.006, 0.001])"
            ]
          },
          "metadata": {},
          "execution_count": 19
        }
      ]
    },
    {
      "cell_type": "code",
      "source": [
        "sort = rf.feature_importances_\n",
        "plt.barh(X.columns, rf.feature_importances_)\n",
        "plt.xlabel(\"Feature Importance\")"
      ],
      "metadata": {
        "colab": {
          "base_uri": "https://localhost:8080/",
          "height": 296
        },
        "id": "MqeHzfkigdI8",
        "outputId": "7801a40b-fa0a-4645-c8cd-ec71930a0f51"
      },
      "execution_count": 20,
      "outputs": [
        {
          "output_type": "execute_result",
          "data": {
            "text/plain": [
              "Text(0.5, 0, 'Feature Importance')"
            ]
          },
          "metadata": {},
          "execution_count": 20
        },
        {
          "output_type": "display_data",
          "data": {
            "text/plain": [
              "<Figure size 432x288 with 1 Axes>"
            ],
            "image/png": "[encoded data removed]"
          },
          "metadata": {
            "needs_background": "light"
          }
        }
      ]
    },
    {
      "cell_type": "markdown",
      "source": [
        "Feature importance using permutation importance of SCikit learn this method can be used in any model."
      ],
      "metadata": {
        "id": "pD06SMxpluHe"
      }
    },
    {
      "cell_type": "code",
      "source": [
        "from sklearn.inspection import permutation_importance"
      ],
      "metadata": {
        "id": "30a2Phvrg3zN"
      },
      "execution_count": 21,
      "outputs": []
    },
    {
      "cell_type": "code",
      "source": [
        "clf = LogisticRegression().fit(X_train, y_train)"
      ],
      "metadata": {
        "colab": {
          "base_uri": "https://localhost:8080/"
        },
        "id": "NB5Fx84ahtWZ",
        "outputId": "e0c7253e-354a-4004-f12b-d958d43d5da4"
      },
      "execution_count": 22,
      "outputs": [
        {
          "output_type": "stream",
          "name": "stderr",
          "text": [
            "/usr/local/lib/python3.7/dist-packages/sklearn/linear_model/_logistic.py:818: ConvergenceWarning: lbfgs failed to converge (status=1):\n",
            "STOP: TOTAL NO. of ITERATIONS REACHED LIMIT.\n",
            "\n",
            "Increase the number of iterations (max_iter) or scale the data as shown in:\n",
            "    https://scikit-learn.org/stable/modules/preprocessing.html\n",
            "Please also refer to the documentation for alternative solver options:\n",
            "    https://scikit-learn.org/stable/modules/linear_model.html#logistic-regression\n",
            "  extra_warning_msg=_LOGISTIC_SOLVER_CONVERGENCE_MSG,\n"
          ]
        }
      ]
    },
    {
      "cell_type": "code",
      "source": [
        "result = permutation_importance(clf, X, y, n_repeats=10, random_state=0)"
      ],
      "metadata": {
        "id": "hLI1TxhsiITM"
      },
      "execution_count": 23,
      "outputs": []
    },
    {
      "cell_type": "code",
      "source": [
        "plt.barh(X.columns, result.importances_mean )\n",
        "plt.xlabel(\"Feature Importance MEAN\")"
      ],
      "metadata": {
        "colab": {
          "base_uri": "https://localhost:8080/",
          "height": 296
        },
        "id": "c8sL-aIomi9i",
        "outputId": "4961f4b4-c2fa-4ab8-ab80-eb34a4489fe7"
      },
      "execution_count": 24,
      "outputs": [
        {
          "output_type": "execute_result",
          "data": {
            "text/plain": [
              "Text(0.5, 0, 'Feature Importance MEAN')"
            ]
          },
          "metadata": {},
          "execution_count": 24
        },
        {
          "output_type": "display_data",
          "data": {
            "text/plain": [
              "<Figure size 432x288 with 1 Axes>"
            ],
            "image/png": "[encoded data removed]"
          },
          "metadata": {
            "needs_background": "light"
          }
        }
      ]
    },
    {
      "cell_type": "code",
      "source": [
        "plt.barh(X.columns, result.importances_std)\n",
        "plt.xlabel(\"Feature Importance STD\")"
      ],
      "metadata": {
        "colab": {
          "base_uri": "https://localhost:8080/",
          "height": 296
        },
        "id": "aUiwhmEiitNz",
        "outputId": "54eb52ec-b094-4abb-8c66-cb329d48b418"
      },
      "execution_count": 25,
      "outputs": [
        {
          "output_type": "execute_result",
          "data": {
            "text/plain": [
              "Text(0.5, 0, 'Feature Importance STD')"
            ]
          },
          "metadata": {},
          "execution_count": 25
        },
        {
          "output_type": "display_data",
          "data": {
            "text/plain": [
              "<Figure size 432x288 with 1 Axes>"
            ],
            "image/png": "[encoded data removed]"
          },
          "metadata": {
            "needs_background": "light"
          }
        }
      ]
    },
    {
      "cell_type": "markdown",
      "source": [
        "Feature importane using PCA "
      ],
      "metadata": {
        "id": "olCiFvpbqA7t"
      }
    },
    {
      "cell_type": "code",
      "source": [
        "from sklearn.decomposition import PCA"
      ],
      "metadata": {
        "id": "y1Ik8VwAmd4P"
      },
      "execution_count": 26,
      "outputs": []
    },
    {
      "cell_type": "code",
      "source": [
        "Scaler =  StandardScaler()\n",
        "df_scaled =  Scaler.fit_transform(X)"
      ],
      "metadata": {
        "id": "QCfXYIwi9e_2"
      },
      "execution_count": 32,
      "outputs": []
    },
    {
      "cell_type": "code",
      "source": [
        "X_train, X_test, y_train, y_test = train_test_split(df_scaled, y, test_size=0.2, random_state=0)"
      ],
      "metadata": {
        "id": "g9hp7qMB-ehs"
      },
      "execution_count": 33,
      "outputs": []
    },
    {
      "cell_type": "code",
      "source": [
        "pca = PCA().fit(X_train)\n",
        "plt.plot(pca.explained_variance_ratio_.cumsum(), lw=3, color='#087E8B')\n",
        "plt.title('Cumulative explained variance by number of principal components', size=5)\n",
        "plt.show()"
      ],
      "metadata": {
        "colab": {
          "base_uri": "https://localhost:8080/",
          "height": 275
        },
        "id": "EbP14xDMoiwO",
        "outputId": "99814589-7967-4e9f-d358-bb8ed5f0050d"
      },
      "execution_count": 35,
      "outputs": [
        {
          "output_type": "display_data",
          "data": {
            "text/plain": [
              "<Figure size 432x288 with 1 Axes>"
            ],
            "image/png": "[encoded data removed]"
          },
          "metadata": {
            "needs_background": "light"
          }
        }
      ]
    },
    {
      "cell_type": "code",
      "source": [
        "loadings = pd.DataFrame(\n",
        "    data=pca.components_.T * np.sqrt(pca.explained_variance_), \n",
        "    columns=[f'PC{i}' for i in range(1, len(X_col.columns) + 1)],\n",
        "    index=X_col.columns\n",
        ")\n",
        "loadings.head()"
      ],
      "metadata": {
        "colab": {
          "base_uri": "https://localhost:8080/",
          "height": 268
        },
        "id": "_pu0ne_b-z_D",
        "outputId": "90af7fde-b0fd-4a19-b98c-a16cded5c7db"
      },
      "execution_count": 39,
      "outputs": [
        {
          "output_type": "execute_result",
          "data": {
            "text/plain": [
              "                       PC1       PC2       PC3       PC4       PC5       PC6  \\\n",
              "fixed_acidity    -0.429527  0.441015  0.586923 -0.153369 -0.160715  0.024520   \n",
              "volatile_acidity -0.688445  0.185438 -0.371258 -0.080136 -0.111260  0.357786   \n",
              "citric_acid       0.270564  0.236857  0.749245  0.049137  0.210859 -0.277070   \n",
              "residual_sugar    0.563251  0.515761 -0.103204  0.106863 -0.451469  0.050947   \n",
              "chlorides        -0.525155  0.468333  0.051824  0.181789  0.381217  0.301027   \n",
              "\n",
              "                       PC7       PC8       PC9      PC10      PC11      PC12  \n",
              "fixed_acidity    -0.294142 -0.093663 -0.274585  0.142065 -0.137490  0.057350  \n",
              "volatile_acidity -0.279865 -0.216677  0.139998 -0.262745  0.071007  0.013776  \n",
              "citric_acid      -0.029498 -0.303762  0.213628 -0.176580  0.111122 -0.000028  \n",
              "residual_sugar    0.087243 -0.003404  0.345961  0.128966 -0.006180  0.074714  \n",
              "chlorides         0.416277 -0.200731  0.048081  0.118642 -0.095607  0.007269  "
            ],
            "text/html": [
              "\n",
              "  <div id=\"df-6fdd46ee-b3a6-4b8a-a460-838767181c83\">\n",
              "    <div class=\"colab-df-container\">\n",
              "      <div>\n",
              "<style scoped>\n",
              "    .dataframe tbody tr th:only-of-type {\n",
              "        vertical-align: middle;\n",
              "    }\n",
              "\n",
              "    .dataframe tbody tr th {\n",
              "        vertical-align: top;\n",
              "    }\n",
              "\n",
              "    .dataframe thead th {\n",
              "        text-align: right;\n",
              "    }\n",
              "</style>\n",
              "<table border=\"1\" class=\"dataframe\">\n",
              "  <thead>\n",
              "    <tr style=\"text-align: right;\">\n",
              "      <th></th>\n",
              "      <th>PC1</th>\n",
              "      <th>PC2</th>\n",
              "      <th>PC3</th>\n",
              "      <th>PC4</th>\n",
              "      <th>PC5</th>\n",
              "      <th>PC6</th>\n",
              "      <th>PC7</th>\n",
              "      <th>PC8</th>\n",
              "      <th>PC9</th>\n",
              "      <th>PC10</th>\n",
              "      <th>PC11</th>\n",
              "      <th>PC12</th>\n",
              "    </tr>\n",
              "  </thead>\n",
              "  <tbody>\n",
              "    <tr>\n",
              "      <th>fixed_acidity</th>\n",
              "      <td>-0.429527</td>\n",
              "      <td>0.441015</td>\n",
              "      <td>0.586923</td>\n",
              "      <td>-0.153369</td>\n",
              "      <td>-0.160715</td>\n",
              "      <td>0.024520</td>\n",
              "      <td>-0.294142</td>\n",
              "      <td>-0.093663</td>\n",
              "      <td>-0.274585</td>\n",
              "      <td>0.142065</td>\n",
              "      <td>-0.137490</td>\n",
              "      <td>0.057350</td>\n",
              "    </tr>\n",
              "    <tr>\n",
              "      <th>volatile_acidity</th>\n",
              "      <td>-0.688445</td>\n",
              "      <td>0.185438</td>\n",
              "      <td>-0.371258</td>\n",
              "      <td>-0.080136</td>\n",
              "      <td>-0.111260</td>\n",
              "      <td>0.357786</td>\n",
              "      <td>-0.279865</td>\n",
              "      <td>-0.216677</td>\n",
              "      <td>0.139998</td>\n",
              "      <td>-0.262745</td>\n",
              "      <td>0.071007</td>\n",
              "      <td>0.013776</td>\n",
              "    </tr>\n",
              "    <tr>\n",
              "      <th>citric_acid</th>\n",
              "      <td>0.270564</td>\n",
              "      <td>0.236857</td>\n",
              "      <td>0.749245</td>\n",
              "      <td>0.049137</td>\n",
              "      <td>0.210859</td>\n",
              "      <td>-0.277070</td>\n",
              "      <td>-0.029498</td>\n",
              "      <td>-0.303762</td>\n",
              "      <td>0.213628</td>\n",
              "      <td>-0.176580</td>\n",
              "      <td>0.111122</td>\n",
              "      <td>-0.000028</td>\n",
              "    </tr>\n",
              "    <tr>\n",
              "      <th>residual_sugar</th>\n",
              "      <td>0.563251</td>\n",
              "      <td>0.515761</td>\n",
              "      <td>-0.103204</td>\n",
              "      <td>0.106863</td>\n",
              "      <td>-0.451469</td>\n",
              "      <td>0.050947</td>\n",
              "      <td>0.087243</td>\n",
              "      <td>-0.003404</td>\n",
              "      <td>0.345961</td>\n",
              "      <td>0.128966</td>\n",
              "      <td>-0.006180</td>\n",
              "      <td>0.074714</td>\n",
              "    </tr>\n",
              "    <tr>\n",
              "      <th>chlorides</th>\n",
              "      <td>-0.525155</td>\n",
              "      <td>0.468333</td>\n",
              "      <td>0.051824</td>\n",
              "      <td>0.181789</td>\n",
              "      <td>0.381217</td>\n",
              "      <td>0.301027</td>\n",
              "      <td>0.416277</td>\n",
              "      <td>-0.200731</td>\n",
              "      <td>0.048081</td>\n",
              "      <td>0.118642</td>\n",
              "      <td>-0.095607</td>\n",
              "      <td>0.007269</td>\n",
              "    </tr>\n",
              "  </tbody>\n",
              "</table>\n",
              "</div>\n",
              "      <button class=\"colab-df-convert\" onclick=\"convertToInteractive('df-6fdd46ee-b3a6-4b8a-a460-838767181c83')\"\n",
              "              title=\"Convert this dataframe to an interactive table.\"\n",
              "              style=\"display:none;\">\n",
              "        \n",
              "  <svg xmlns=\"http://www.w3.org/2000/svg\" height=\"24px\"viewBox=\"0 0 24 24\"\n",
              "       width=\"24px\">\n",
              "    <path d=\"M0 0h24v24H0V0z\" fill=\"none\"/>\n",
              "    <path d=\"M18.56 5.44l.94 2.06.94-2.06 2.06-.94-2.06-.94-.94-2.06-.94 2.06-2.06.94zm-11 1L8.5 8.5l.94-2.06 2.06-.94-2.06-.94L8.5 2.5l-.94 2.06-2.06.94zm10 10l.94 2.06.94-2.06 2.06-.94-2.06-.94-.94-2.06-.94 2.06-2.06.94z\"/><path d=\"M17.41 7.96l-1.37-1.37c-.4-.4-.92-.59-1.43-.59-.52 0-1.04.2-1.43.59L10.3 9.45l-7.72 7.72c-.78.78-.78 2.05 0 2.83L4 21.41c.39.39.9.59 1.41.59.51 0 1.02-.2 1.41-.59l7.78-7.78 2.81-2.81c.8-.78.8-2.07 0-2.86zM5.41 20L4 18.59l7.72-7.72 1.47 1.35L5.41 20z\"/>\n",
              "  </svg>\n",
              "      </button>\n",
              "      \n",
              "  <style>\n",
              "    .colab-df-container {\n",
              "      display:flex;\n",
              "      flex-wrap:wrap;\n",
              "      gap: 12px;\n",
              "    }\n",
              "\n",
              "    .colab-df-convert {\n",
              "      background-color: #E8F0FE;\n",
              "      border: none;\n",
              "      border-radius: 50%;\n",
              "      cursor: pointer;\n",
              "      display: none;\n",
              "      fill: #1967D2;\n",
              "      height: 32px;\n",
              "      padding: 0 0 0 0;\n",
              "      width: 32px;\n",
              "    }\n",
              "\n",
              "    .colab-df-convert:hover {\n",
              "      background-color: #E2EBFA;\n",
              "      box-shadow: 0px 1px 2px rgba(60, 64, 67, 0.3), 0px 1px 3px 1px rgba(60, 64, 67, 0.15);\n",
              "      fill: #174EA6;\n",
              "    }\n",
              "\n",
              "    [theme=dark] .colab-df-convert {\n",
              "      background-color: #3B4455;\n",
              "      fill: #D2E3FC;\n",
              "    }\n",
              "\n",
              "    [theme=dark] .colab-df-convert:hover {\n",
              "      background-color: #434B5C;\n",
              "      box-shadow: 0px 1px 3px 1px rgba(0, 0, 0, 0.15);\n",
              "      filter: drop-shadow(0px 1px 2px rgba(0, 0, 0, 0.3));\n",
              "      fill: #FFFFFF;\n",
              "    }\n",
              "  </style>\n",
              "\n",
              "      <script>\n",
              "        const buttonEl =\n",
              "          document.querySelector('#df-6fdd46ee-b3a6-4b8a-a460-838767181c83 button.colab-df-convert');\n",
              "        buttonEl.style.display =\n",
              "          google.colab.kernel.accessAllowed ? 'block' : 'none';\n",
              "\n",
              "        async function convertToInteractive(key) {\n",
              "          const element = document.querySelector('#df-6fdd46ee-b3a6-4b8a-a460-838767181c83');\n",
              "          const dataTable =\n",
              "            await google.colab.kernel.invokeFunction('convertToInteractive',\n",
              "                                                     [key], {});\n",
              "          if (!dataTable) return;\n",
              "\n",
              "          const docLinkHtml = 'Like what you see? Visit the ' +\n",
              "            '<a target=\"_blank\" href=https://colab.research.google.com/notebooks/data_table.ipynb>data table notebook</a>'\n",
              "            + ' to learn more about interactive tables.';\n",
              "          element.innerHTML = '';\n",
              "          dataTable['output_type'] = 'display_data';\n",
              "          await google.colab.output.renderOutput(dataTable, element);\n",
              "          const docLink = document.createElement('div');\n",
              "          docLink.innerHTML = docLinkHtml;\n",
              "          element.appendChild(docLink);\n",
              "        }\n",
              "      </script>\n",
              "    </div>\n",
              "  </div>\n",
              "  "
            ]
          },
          "metadata": {},
          "execution_count": 39
        }
      ]
    },
    {
      "cell_type": "code",
      "source": [
        "pc1_loadings = loadings.sort_values(by='PC1', ascending=False)[['PC1']]\n",
        "pc1_loadings = pc1_loadings.reset_index()\n",
        "pc1_loadings.columns = ['Attribute', 'CorrelationWithPC1']\n",
        "\n",
        "plt.bar(x=pc1_loadings['Attribute'], height=pc1_loadings['CorrelationWithPC1'], color='#087E8B')\n",
        "plt.title('PCA loading scores (first principal component)', size=5)\n",
        "plt.xticks(rotation='vertical')\n",
        "plt.show()"
      ],
      "metadata": {
        "colab": {
          "base_uri": "https://localhost:8080/",
          "height": 363
        },
        "id": "bk8bbXRH_EkF",
        "outputId": "1bff9aca-839c-4baf-f444-e4166da86781"
      },
      "execution_count": 41,
      "outputs": [
        {
          "output_type": "display_data",
          "data": {
            "text/plain": [
              "<Figure size 432x288 with 1 Axes>"
            ],
            "image/png": "[encoded data removed]"
          },
          "metadata": {
            "needs_background": "light"
          }
        }
      ]
    },
    {
      "cell_type": "markdown",
      "source": [
        "F score method"
      ],
      "metadata": {
        "id": "fQqoqLitAUnW"
      }
    },
    {
      "cell_type": "code",
      "source": [
        "fs_fit_fscore = SelectKBest(f_classif, k=len(X_col.columns))\n",
        "fs_fit_fscore.fit_transform(X_train, y_train)\n",
        "fs_indices_fscore = np.argsort(np.nan_to_num(fs_fit_fscore.scores_))[::-1][0:len(X_col.columns)]\n",
        "fs_indices_fscore"
      ],
      "metadata": {
        "colab": {
          "base_uri": "https://localhost:8080/"
        },
        "id": "Z3FornCT_sSG",
        "outputId": "f50fd16b-8b3b-41ea-9d40-5b823b717d50"
      },
      "execution_count": 43,
      "outputs": [
        {
          "output_type": "execute_result",
          "data": {
            "text/plain": [
              "array([ 6,  1,  4,  0,  9,  5,  7,  3,  8,  2, 11, 10])"
            ]
          },
          "metadata": {},
          "execution_count": 43
        }
      ]
    },
    {
      "cell_type": "code",
      "source": [
        "best_features_fscore = df.columns[fs_indices_fscore].values\n",
        "best_features_fscore"
      ],
      "metadata": {
        "colab": {
          "base_uri": "https://localhost:8080/"
        },
        "id": "xvX-TpyuBqf3",
        "outputId": "24bde9f6-40d0-418a-c5bc-bcb581755c22"
      },
      "execution_count": 44,
      "outputs": [
        {
          "output_type": "execute_result",
          "data": {
            "text/plain": [
              "array(['total_sulfur_dioxide', 'volatile_acidity', 'chlorides',\n",
              "       'fixed_acidity', 'sulphates', 'free_sulfur_dioxide', 'density',\n",
              "       'residual_sugar', 'pH', 'citric_acid', 'quality', 'alcohol'],\n",
              "      dtype=object)"
            ]
          },
          "metadata": {},
          "execution_count": 44
        }
      ]
    },
    {
      "cell_type": "code",
      "source": [
        "feature_importances_fscore = fs_fit_fscore.scores_[fs_indices_fscore]\n",
        "feature_importances_fscore"
      ],
      "metadata": {
        "colab": {
          "base_uri": "https://localhost:8080/"
        },
        "id": "mHXDKHLWB3EJ",
        "outputId": "d883b978-e31d-41aa-bb49-85a9871d52e3"
      },
      "execution_count": 45,
      "outputs": [
        {
          "output_type": "execute_result",
          "data": {
            "text/plain": [
              "array([5.044e+03, 3.869e+03, 1.788e+03, 1.650e+03, 1.583e+03, 1.505e+03,\n",
              "       9.794e+02, 7.273e+02, 6.205e+02, 1.932e+02, 6.948e+01, 3.352e+00])"
            ]
          },
          "metadata": {},
          "execution_count": 45
        }
      ]
    },
    {
      "cell_type": "code",
      "source": [
        "plt.barh(best_features_fscore, feature_importances_fscore)\n",
        "plt.xlabel('Imporatnce')\n",
        "plt.ylabel('Features')"
      ],
      "metadata": {
        "colab": {
          "base_uri": "https://localhost:8080/",
          "height": 296
        },
        "id": "8X_JSUxiB6iK",
        "outputId": "e15672b3-f037-4544-943e-2ba5198babaa"
      },
      "execution_count": 48,
      "outputs": [
        {
          "output_type": "execute_result",
          "data": {
            "text/plain": [
              "Text(0, 0.5, 'Features')"
            ]
          },
          "metadata": {},
          "execution_count": 48
        },
        {
          "output_type": "display_data",
          "data": {
            "text/plain": [
              "<Figure size 432x288 with 1 Axes>"
            ],
            "image/png": "[encoded data removed]"
          },
          "metadata": {
            "needs_background": "light"
          }
        }
      ]
    },
    {
      "cell_type": "markdown",
      "source": [
        "Mutual Information (Entropy based method)"
      ],
      "metadata": {
        "id": "n6iORvMdDOzT"
      }
    },
    {
      "cell_type": "code",
      "source": [
        "fs_fit_mutual_info = SelectKBest(mutual_info_classif, k=len(X_col.columns))\n",
        "fs_fit_mutual_info.fit_transform(X_train, y_train)\n",
        "fs_indices_mutual_info = np.argsort(fs_fit_mutual_info.scores_)[::-1][0:len(X_col.columns)]\n",
        "best_features_mutual_info = df.columns[fs_indices_mutual_info].values\n",
        "best_features_mutual_info"
      ],
      "metadata": {
        "colab": {
          "base_uri": "https://localhost:8080/"
        },
        "id": "DYGBi_hJCbiV",
        "outputId": "3519bbe9-0238-42e6-c4cc-1b9fc745b8ac"
      },
      "execution_count": 50,
      "outputs": [
        {
          "output_type": "execute_result",
          "data": {
            "text/plain": [
              "array(['chlorides', 'total_sulfur_dioxide', 'volatile_acidity',\n",
              "       'residual_sugar', 'free_sulfur_dioxide', 'sulphates', 'density',\n",
              "       'fixed_acidity', 'citric_acid', 'pH', 'alcohol', 'quality'],\n",
              "      dtype=object)"
            ]
          },
          "metadata": {},
          "execution_count": 50
        }
      ]
    },
    {
      "cell_type": "code",
      "source": [
        "feature_importances_mutual_info = fs_fit_mutual_info.scores_[fs_indices_mutual_info]\n",
        "feature_importances_mutual_info"
      ],
      "metadata": {
        "colab": {
          "base_uri": "https://localhost:8080/"
        },
        "id": "hUonDcXPDyzs",
        "outputId": "2af59d2c-0697-41db-9f2a-4e4f96ce2515"
      },
      "execution_count": 51,
      "outputs": [
        {
          "output_type": "execute_result",
          "data": {
            "text/plain": [
              "array([0.355, 0.347, 0.241, 0.212, 0.165, 0.152, 0.138, 0.133, 0.098,\n",
              "       0.07 , 0.023, 0.007])"
            ]
          },
          "metadata": {},
          "execution_count": 51
        }
      ]
    },
    {
      "cell_type": "code",
      "source": [
        "plt.barh(best_features_mutual_info,feature_importances_mutual_info)\n",
        "plt.xlabel('Importance')\n",
        "plt.ylabel('Features')"
      ],
      "metadata": {
        "colab": {
          "base_uri": "https://localhost:8080/",
          "height": 296
        },
        "id": "cDy-oAtwD4RD",
        "outputId": "a6c5ae5c-f3b9-457f-cb11-2001e9966a63"
      },
      "execution_count": 53,
      "outputs": [
        {
          "output_type": "execute_result",
          "data": {
            "text/plain": [
              "Text(0, 0.5, 'Features')"
            ]
          },
          "metadata": {},
          "execution_count": 53
        },
        {
          "output_type": "display_data",
          "data": {
            "text/plain": [
              "<Figure size 432x288 with 1 Axes>"
            ],
            "image/png": "[encoded data removed]"
          },
          "metadata": {
            "needs_background": "light"
          }
        }
      ]
    },
    {
      "cell_type": "markdown",
      "source": [
        "Pearson Correlation"
      ],
      "metadata": {
        "id": "4GsnHz2OpSn2"
      }
    },
    {
      "cell_type": "code",
      "source": [
        "df['style'] = LabelEncoder().fit_transform(df['style'])\n",
        "df_corr = df.corr()"
      ],
      "metadata": {
        "id": "cCF1tgMfaz-m"
      },
      "execution_count": 53,
      "outputs": []
    },
    {
      "cell_type": "code",
      "source": [
        "df_corr['style']"
      ],
      "metadata": {
        "colab": {
          "base_uri": "https://localhost:8080/"
        },
        "id": "sSBvLglobQxB",
        "outputId": "369a22ff-fd25-47bd-eafc-7d2e7dcd4598"
      },
      "execution_count": 80,
      "outputs": [
        {
          "output_type": "execute_result",
          "data": {
            "text/plain": [
              "fixed_acidity          -0.486740\n",
              "volatile_acidity       -0.653036\n",
              "citric_acid             0.187397\n",
              "residual_sugar          0.348821\n",
              "chlorides              -0.512678\n",
              "free_sulfur_dioxide     0.471644\n",
              "total_sulfur_dioxide    0.700357\n",
              "density                -0.390645\n",
              "pH                     -0.329129\n",
              "sulphates              -0.487218\n",
              "alcohol                 0.032970\n",
              "quality                 0.119323\n",
              "style                   1.000000\n",
              "Name: style, dtype: float64"
            ]
          },
          "metadata": {},
          "execution_count": 80
        }
      ]
    },
    {
      "cell_type": "code",
      "source": [
        ""
      ],
      "metadata": {
        "id": "u-UG7sxTwdTx"
      },
      "execution_count": 82,
      "outputs": []
    }
  ]
}