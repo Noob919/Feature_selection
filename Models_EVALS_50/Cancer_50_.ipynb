{
  "nbformat": 4,
  "nbformat_minor": 0,
  "metadata": {
    "colab": {
      "name": "Cancer_50%.ipynb",
      "provenance": [],
      "authorship_tag": "ABX9TyMN1XU0q5Ev9uIHopYOD0RU",
      "include_colab_link": true
    },
    "kernelspec": {
      "name": "python3",
      "display_name": "Python 3"
    },
    "language_info": {
      "name": "python"
    }
  },
  "cells": [
    {
      "cell_type": "markdown",
      "metadata": {
        "id": "view-in-github",
        "colab_type": "text"
      },
      "source": [
        "<a href=\"https://colab.research.google.com/github/Noob919/Feature_selection/blob/main/Models_EVALS_50/Cancer_50_.ipynb\" target=\"_parent\"><img src=\"https://colab.research.google.com/assets/colab-badge.svg\" alt=\"Open In Colab\"/></a>"
      ]
    },
    {
      "cell_type": "code",
      "execution_count": 1,
      "metadata": {
        "colab": {
          "base_uri": "https://localhost:8080/"
        },
        "id": "If-QS-5YisCY",
        "outputId": "eee3ab7a-37af-439a-bbf8-ccdea3e18eac"
      },
      "outputs": [
        {
          "output_type": "stream",
          "name": "stdout",
          "text": [
            "Found existing installation: tensorflow 2.8.2+zzzcolab20220527125636\n",
            "Uninstalling tensorflow-2.8.2+zzzcolab20220527125636:\n",
            "  Would remove:\n",
            "    /usr/local/bin/estimator_ckpt_converter\n",
            "    /usr/local/bin/import_pb_to_tensorboard\n",
            "    /usr/local/bin/saved_model_cli\n",
            "    /usr/local/bin/tensorboard\n",
            "    /usr/local/bin/tf_upgrade_v2\n",
            "    /usr/local/bin/tflite_convert\n",
            "    /usr/local/bin/toco\n",
            "    /usr/local/bin/toco_from_protos\n",
            "    /usr/local/lib/python3.7/dist-packages/tensorflow-2.8.2+zzzcolab20220527125636.dist-info/*\n",
            "    /usr/local/lib/python3.7/dist-packages/tensorflow/*\n",
            "Proceed (y/n)? y\n",
            "y\n",
            "y\n",
            "\n",
            "\n",
            "\n",
            "\n",
            "\n",
            "y\n",
            "\n",
            "  Successfully uninstalled tensorflow-2.8.2+zzzcolab20220527125636\n"
          ]
        }
      ],
      "source": [
        "!pip uninstall tensorflow"
      ]
    },
    {
      "cell_type": "code",
      "source": [
        "!pip install tensorflow==2.5"
      ],
      "metadata": {
        "colab": {
          "base_uri": "https://localhost:8080/",
          "height": 1000
        },
        "id": "bG0anEhKi4sM",
        "outputId": "40b8f45c-4ca2-476b-a371-c4c6a29861be"
      },
      "execution_count": 2,
      "outputs": [
        {
          "output_type": "stream",
          "name": "stdout",
          "text": [
            "Looking in indexes: https://pypi.org/simple, https://us-python.pkg.dev/colab-wheels/public/simple/\n",
            "Collecting tensorflow==2.5\n",
            "  Downloading tensorflow-2.5.0-cp37-cp37m-manylinux2010_x86_64.whl (454.3 MB)\n",
            "\u001b[K     |████████████████████████████████| 454.3 MB 15 kB/s \n",
            "\u001b[?25hRequirement already satisfied: keras-preprocessing~=1.1.2 in /usr/local/lib/python3.7/dist-packages (from tensorflow==2.5) (1.1.2)\n",
            "Collecting absl-py~=0.10\n",
            "  Downloading absl_py-0.15.0-py3-none-any.whl (132 kB)\n",
            "\u001b[K     |████████████████████████████████| 132 kB 55.5 MB/s \n",
            "\u001b[?25hRequirement already satisfied: wheel~=0.35 in /usr/local/lib/python3.7/dist-packages (from tensorflow==2.5) (0.37.1)\n",
            "Collecting tensorflow-estimator<2.6.0,>=2.5.0rc0\n",
            "  Downloading tensorflow_estimator-2.5.0-py2.py3-none-any.whl (462 kB)\n",
            "\u001b[K     |████████████████████████████████| 462 kB 39.7 MB/s \n",
            "\u001b[?25hRequirement already satisfied: tensorboard~=2.5 in /usr/local/lib/python3.7/dist-packages (from tensorflow==2.5) (2.8.0)\n",
            "Requirement already satisfied: google-pasta~=0.2 in /usr/local/lib/python3.7/dist-packages (from tensorflow==2.5) (0.2.0)\n",
            "Collecting wrapt~=1.12.1\n",
            "  Downloading wrapt-1.12.1.tar.gz (27 kB)\n",
            "Collecting keras-nightly~=2.5.0.dev\n",
            "  Downloading keras_nightly-2.5.0.dev2021032900-py2.py3-none-any.whl (1.2 MB)\n",
            "\u001b[K     |████████████████████████████████| 1.2 MB 37.9 MB/s \n",
            "\u001b[?25hCollecting typing-extensions~=3.7.4\n",
            "  Downloading typing_extensions-3.7.4.3-py3-none-any.whl (22 kB)\n",
            "Requirement already satisfied: astunparse~=1.6.3 in /usr/local/lib/python3.7/dist-packages (from tensorflow==2.5) (1.6.3)\n",
            "Requirement already satisfied: termcolor~=1.1.0 in /usr/local/lib/python3.7/dist-packages (from tensorflow==2.5) (1.1.0)\n",
            "Collecting gast==0.4.0\n",
            "  Downloading gast-0.4.0-py3-none-any.whl (9.8 kB)\n",
            "Requirement already satisfied: h5py~=3.1.0 in /usr/local/lib/python3.7/dist-packages (from tensorflow==2.5) (3.1.0)\n",
            "Collecting flatbuffers~=1.12.0\n",
            "  Downloading flatbuffers-1.12-py2.py3-none-any.whl (15 kB)\n",
            "Requirement already satisfied: six~=1.15.0 in /usr/local/lib/python3.7/dist-packages (from tensorflow==2.5) (1.15.0)\n",
            "Requirement already satisfied: protobuf>=3.9.2 in /usr/local/lib/python3.7/dist-packages (from tensorflow==2.5) (3.17.3)\n",
            "Collecting numpy~=1.19.2\n",
            "  Downloading numpy-1.19.5-cp37-cp37m-manylinux2010_x86_64.whl (14.8 MB)\n",
            "\u001b[K     |████████████████████████████████| 14.8 MB 544 kB/s \n",
            "\u001b[?25hCollecting grpcio~=1.34.0\n",
            "  Downloading grpcio-1.34.1-cp37-cp37m-manylinux2014_x86_64.whl (4.0 MB)\n",
            "\u001b[K     |████████████████████████████████| 4.0 MB 14.2 MB/s \n",
            "\u001b[?25hRequirement already satisfied: opt-einsum~=3.3.0 in /usr/local/lib/python3.7/dist-packages (from tensorflow==2.5) (3.3.0)\n",
            "Requirement already satisfied: cached-property in /usr/local/lib/python3.7/dist-packages (from h5py~=3.1.0->tensorflow==2.5) (1.5.2)\n",
            "Requirement already satisfied: google-auth<3,>=1.6.3 in /usr/local/lib/python3.7/dist-packages (from tensorboard~=2.5->tensorflow==2.5) (1.35.0)\n",
            "Requirement already satisfied: setuptools>=41.0.0 in /usr/local/lib/python3.7/dist-packages (from tensorboard~=2.5->tensorflow==2.5) (57.4.0)\n",
            "Requirement already satisfied: tensorboard-plugin-wit>=1.6.0 in /usr/local/lib/python3.7/dist-packages (from tensorboard~=2.5->tensorflow==2.5) (1.8.1)\n",
            "Requirement already satisfied: werkzeug>=0.11.15 in /usr/local/lib/python3.7/dist-packages (from tensorboard~=2.5->tensorflow==2.5) (1.0.1)\n",
            "Requirement already satisfied: google-auth-oauthlib<0.5,>=0.4.1 in /usr/local/lib/python3.7/dist-packages (from tensorboard~=2.5->tensorflow==2.5) (0.4.6)\n",
            "Requirement already satisfied: markdown>=2.6.8 in /usr/local/lib/python3.7/dist-packages (from tensorboard~=2.5->tensorflow==2.5) (3.3.7)\n",
            "Requirement already satisfied: tensorboard-data-server<0.7.0,>=0.6.0 in /usr/local/lib/python3.7/dist-packages (from tensorboard~=2.5->tensorflow==2.5) (0.6.1)\n",
            "Requirement already satisfied: requests<3,>=2.21.0 in /usr/local/lib/python3.7/dist-packages (from tensorboard~=2.5->tensorflow==2.5) (2.23.0)\n",
            "Requirement already satisfied: pyasn1-modules>=0.2.1 in /usr/local/lib/python3.7/dist-packages (from google-auth<3,>=1.6.3->tensorboard~=2.5->tensorflow==2.5) (0.2.8)\n",
            "Requirement already satisfied: rsa<5,>=3.1.4 in /usr/local/lib/python3.7/dist-packages (from google-auth<3,>=1.6.3->tensorboard~=2.5->tensorflow==2.5) (4.8)\n",
            "Requirement already satisfied: cachetools<5.0,>=2.0.0 in /usr/local/lib/python3.7/dist-packages (from google-auth<3,>=1.6.3->tensorboard~=2.5->tensorflow==2.5) (4.2.4)\n",
            "Requirement already satisfied: requests-oauthlib>=0.7.0 in /usr/local/lib/python3.7/dist-packages (from google-auth-oauthlib<0.5,>=0.4.1->tensorboard~=2.5->tensorflow==2.5) (1.3.1)\n",
            "Requirement already satisfied: importlib-metadata>=4.4 in /usr/local/lib/python3.7/dist-packages (from markdown>=2.6.8->tensorboard~=2.5->tensorflow==2.5) (4.11.4)\n",
            "Requirement already satisfied: zipp>=0.5 in /usr/local/lib/python3.7/dist-packages (from importlib-metadata>=4.4->markdown>=2.6.8->tensorboard~=2.5->tensorflow==2.5) (3.8.0)\n",
            "Requirement already satisfied: pyasn1<0.5.0,>=0.4.6 in /usr/local/lib/python3.7/dist-packages (from pyasn1-modules>=0.2.1->google-auth<3,>=1.6.3->tensorboard~=2.5->tensorflow==2.5) (0.4.8)\n",
            "Requirement already satisfied: urllib3!=1.25.0,!=1.25.1,<1.26,>=1.21.1 in /usr/local/lib/python3.7/dist-packages (from requests<3,>=2.21.0->tensorboard~=2.5->tensorflow==2.5) (1.24.3)\n",
            "Requirement already satisfied: certifi>=2017.4.17 in /usr/local/lib/python3.7/dist-packages (from requests<3,>=2.21.0->tensorboard~=2.5->tensorflow==2.5) (2022.5.18.1)\n",
            "Requirement already satisfied: idna<3,>=2.5 in /usr/local/lib/python3.7/dist-packages (from requests<3,>=2.21.0->tensorboard~=2.5->tensorflow==2.5) (2.10)\n",
            "Requirement already satisfied: chardet<4,>=3.0.2 in /usr/local/lib/python3.7/dist-packages (from requests<3,>=2.21.0->tensorboard~=2.5->tensorflow==2.5) (3.0.4)\n",
            "Requirement already satisfied: oauthlib>=3.0.0 in /usr/local/lib/python3.7/dist-packages (from requests-oauthlib>=0.7.0->google-auth-oauthlib<0.5,>=0.4.1->tensorboard~=2.5->tensorflow==2.5) (3.2.0)\n",
            "Building wheels for collected packages: wrapt\n",
            "  Building wheel for wrapt (setup.py) ... \u001b[?25l\u001b[?25hdone\n",
            "  Created wheel for wrapt: filename=wrapt-1.12.1-cp37-cp37m-linux_x86_64.whl size=68723 sha256=4cc43a6f6406a1538997aa2ebd88731cc28b1eff459b173e9157926644be430e\n",
            "  Stored in directory: /root/.cache/pip/wheels/62/76/4c/aa25851149f3f6d9785f6c869387ad82b3fd37582fa8147ac6\n",
            "Successfully built wrapt\n",
            "Installing collected packages: typing-extensions, numpy, grpcio, absl-py, wrapt, tensorflow-estimator, keras-nightly, gast, flatbuffers, tensorflow\n",
            "  Attempting uninstall: typing-extensions\n",
            "    Found existing installation: typing-extensions 4.2.0\n",
            "    Uninstalling typing-extensions-4.2.0:\n",
            "      Successfully uninstalled typing-extensions-4.2.0\n",
            "  Attempting uninstall: numpy\n",
            "    Found existing installation: numpy 1.21.6\n",
            "    Uninstalling numpy-1.21.6:\n",
            "      Successfully uninstalled numpy-1.21.6\n",
            "  Attempting uninstall: grpcio\n",
            "    Found existing installation: grpcio 1.46.3\n",
            "    Uninstalling grpcio-1.46.3:\n",
            "      Successfully uninstalled grpcio-1.46.3\n",
            "  Attempting uninstall: absl-py\n",
            "    Found existing installation: absl-py 1.0.0\n",
            "    Uninstalling absl-py-1.0.0:\n",
            "      Successfully uninstalled absl-py-1.0.0\n",
            "  Attempting uninstall: wrapt\n",
            "    Found existing installation: wrapt 1.14.1\n",
            "    Uninstalling wrapt-1.14.1:\n",
            "      Successfully uninstalled wrapt-1.14.1\n",
            "  Attempting uninstall: tensorflow-estimator\n",
            "    Found existing installation: tensorflow-estimator 2.8.0\n",
            "    Uninstalling tensorflow-estimator-2.8.0:\n",
            "      Successfully uninstalled tensorflow-estimator-2.8.0\n",
            "  Attempting uninstall: gast\n",
            "    Found existing installation: gast 0.5.3\n",
            "    Uninstalling gast-0.5.3:\n",
            "      Successfully uninstalled gast-0.5.3\n",
            "  Attempting uninstall: flatbuffers\n",
            "    Found existing installation: flatbuffers 2.0\n",
            "    Uninstalling flatbuffers-2.0:\n",
            "      Successfully uninstalled flatbuffers-2.0\n",
            "\u001b[31mERROR: pip's dependency resolver does not currently take into account all the packages that are installed. This behaviour is the source of the following dependency conflicts.\n",
            "xarray-einstats 0.2.2 requires numpy>=1.21, but you have numpy 1.19.5 which is incompatible.\n",
            "datascience 0.10.6 requires folium==0.2.1, but you have folium 0.8.3 which is incompatible.\n",
            "albumentations 0.1.12 requires imgaug<0.2.7,>=0.2.5, but you have imgaug 0.2.9 which is incompatible.\u001b[0m\n",
            "Successfully installed absl-py-0.15.0 flatbuffers-1.12 gast-0.4.0 grpcio-1.34.1 keras-nightly-2.5.0.dev2021032900 numpy-1.19.5 tensorflow-2.5.0 tensorflow-estimator-2.5.0 typing-extensions-3.7.4.3 wrapt-1.12.1\n"
          ]
        },
        {
          "output_type": "display_data",
          "data": {
            "application/vnd.colab-display-data+json": {
              "pip_warning": {
                "packages": [
                  "numpy",
                  "typing_extensions"
                ]
              }
            }
          },
          "metadata": {}
        }
      ]
    },
    {
      "cell_type": "code",
      "source": [
        "import numpy as np\n",
        "import pandas as pd\n",
        "from sklearn import preprocessing\n",
        "from sklearn.model_selection import train_test_split\n",
        "from sklearn.ensemble import RandomForestClassifier\n",
        "from sklearn.svm import SVC\n",
        "from sklearn.metrics import accuracy_score\n",
        "from sklearn.preprocessing import LabelEncoder\n",
        "from sklearn.preprocessing import StandardScaler\n",
        "import matplotlib.pyplot as plt\n",
        "import seaborn as sns\n",
        "import tensorflow as tf\n",
        "from tensorflow.keras import datasets, layers, models,Sequential"
      ],
      "metadata": {
        "id": "4GRi6-m-jEgN"
      },
      "execution_count": 3,
      "outputs": []
    },
    {
      "cell_type": "code",
      "source": [
        "df = pd.read_csv(\"/content/cancer.csv\")\n",
        "df_new = df.drop(['id','Unnamed: 32'],axis =1)\n",
        "df_new['diagnosis'] = LabelEncoder().fit_transform(df_new['diagnosis'])\n",
        "y = df_new['diagnosis']"
      ],
      "metadata": {
        "id": "AroqNKDHjY2i"
      },
      "execution_count": 4,
      "outputs": []
    },
    {
      "cell_type": "code",
      "source": [
        "Scaler = StandardScaler()"
      ],
      "metadata": {
        "id": "MWKF5QuJjh5N"
      },
      "execution_count": 5,
      "outputs": []
    },
    {
      "cell_type": "code",
      "source": [
        "rank1 = pd.read_excel(\"/content/cancer_dataset_U.xlsx\",sheet_name = \"Chi_2\").set_index('Attributes_Names')\n",
        "df_chi = df_new[rank1[:15].index]"
      ],
      "metadata": {
        "id": "I2AajGaYjmwn"
      },
      "execution_count": 6,
      "outputs": []
    },
    {
      "cell_type": "code",
      "source": [
        "X_col =  df_chi\n",
        "y = df_new['diagnosis']\n",
        "Scaler = StandardScaler()\n",
        "X_col =  Scaler.fit_transform(X_col)\n",
        "X_train, X_test, y_train, y_test = train_test_split(X_col, y, test_size=0.2, random_state=0)\n",
        "print(\"Shape of training data\",X_train.shape)\n",
        "print(\"Shape of testing data\",X_test.shape)"
      ],
      "metadata": {
        "colab": {
          "base_uri": "https://localhost:8080/"
        },
        "id": "QE0ZUzhTjoeg",
        "outputId": "a0881685-09df-4edf-808e-e6823fe255aa"
      },
      "execution_count": 7,
      "outputs": [
        {
          "output_type": "stream",
          "name": "stdout",
          "text": [
            "Shape of training data (455, 15)\n",
            "Shape of testing data (114, 15)\n"
          ]
        }
      ]
    },
    {
      "cell_type": "markdown",
      "source": [
        "CHI Square"
      ],
      "metadata": {
        "id": "7OEbG_TzmQ4h"
      }
    },
    {
      "cell_type": "markdown",
      "source": [
        "Random Forest"
      ],
      "metadata": {
        "id": "0PrmA1aTmUrJ"
      }
    },
    {
      "cell_type": "code",
      "source": [
        "rf =  RandomForestClassifier()\n",
        "rf.fit(X_train,y_train)\n",
        "y_pred_rf =  rf.predict(X_test)\n",
        "accuracy_score(y_test,y_pred_rf)"
      ],
      "metadata": {
        "colab": {
          "base_uri": "https://localhost:8080/"
        },
        "id": "qaUW18J2lASV",
        "outputId": "a6256e80-8c04-4e07-a474-d9709a306834"
      },
      "execution_count": 8,
      "outputs": [
        {
          "output_type": "execute_result",
          "data": {
            "text/plain": [
              "0.956140350877193"
            ]
          },
          "metadata": {},
          "execution_count": 8
        }
      ]
    },
    {
      "cell_type": "markdown",
      "source": [
        "SVM"
      ],
      "metadata": {
        "id": "PbXs0b_bmWtT"
      }
    },
    {
      "cell_type": "code",
      "source": [
        "svc =  SVC()\n",
        "svc.fit(X_test,y_test)\n",
        "y_pred_svc =  svc.predict(X_test)\n",
        "accuracy_score(y_test,y_pred_svc)"
      ],
      "metadata": {
        "colab": {
          "base_uri": "https://localhost:8080/"
        },
        "id": "RUXw00UDlQeN",
        "outputId": "30e5d7a5-aaa9-4c38-f3d1-534ae07b2c8f"
      },
      "execution_count": 9,
      "outputs": [
        {
          "output_type": "execute_result",
          "data": {
            "text/plain": [
              "0.9649122807017544"
            ]
          },
          "metadata": {},
          "execution_count": 9
        }
      ]
    },
    {
      "cell_type": "markdown",
      "source": [
        "ANN"
      ],
      "metadata": {
        "id": "uBSV0AFSmXvS"
      }
    },
    {
      "cell_type": "code",
      "source": [
        "model = tf.keras.Sequential([\n",
        "    tf.keras.layers.Dense(15, activation='relu', input_shape=(15,)),\n",
        "    tf.keras.layers.BatchNormalization(),\n",
        "    tf.keras.layers.Dense(20, activation='relu'),\n",
        "    tf.keras.layers.BatchNormalization(),\n",
        "    tf.keras.layers.Dense(24, activation='relu'),\n",
        "    tf.keras.layers.Dropout(0.5),\n",
        "    tf.keras.layers.BatchNormalization(),\n",
        "    tf.keras.layers.Dense(28, activation='relu'),\n",
        "    tf.keras.layers.Dropout(0.5),\n",
        "    tf.keras.layers.Dense(1,activation='sigmoid')\n",
        "  ])"
      ],
      "metadata": {
        "id": "8jcnRpwylSzd"
      },
      "execution_count": 10,
      "outputs": []
    },
    {
      "cell_type": "code",
      "source": [
        "model.compile(loss='binary_crossentropy',\n",
        "              optimizer = 'adam',\n",
        "              metrics=['accuracy'])\n",
        "model.summary()"
      ],
      "metadata": {
        "colab": {
          "base_uri": "https://localhost:8080/"
        },
        "id": "76bcfDzwlZOo",
        "outputId": "42ca403f-4042-48b1-ff90-6f4ce91be9a6"
      },
      "execution_count": 11,
      "outputs": [
        {
          "output_type": "stream",
          "name": "stdout",
          "text": [
            "Model: \"sequential\"\n",
            "_________________________________________________________________\n",
            "Layer (type)                 Output Shape              Param #   \n",
            "=================================================================\n",
            "dense (Dense)                (None, 15)                240       \n",
            "_________________________________________________________________\n",
            "batch_normalization (BatchNo (None, 15)                60        \n",
            "_________________________________________________________________\n",
            "dense_1 (Dense)              (None, 20)                320       \n",
            "_________________________________________________________________\n",
            "batch_normalization_1 (Batch (None, 20)                80        \n",
            "_________________________________________________________________\n",
            "dense_2 (Dense)              (None, 24)                504       \n",
            "_________________________________________________________________\n",
            "dropout (Dropout)            (None, 24)                0         \n",
            "_________________________________________________________________\n",
            "batch_normalization_2 (Batch (None, 24)                96        \n",
            "_________________________________________________________________\n",
            "dense_3 (Dense)              (None, 28)                700       \n",
            "_________________________________________________________________\n",
            "dropout_1 (Dropout)          (None, 28)                0         \n",
            "_________________________________________________________________\n",
            "dense_4 (Dense)              (None, 1)                 29        \n",
            "=================================================================\n",
            "Total params: 2,029\n",
            "Trainable params: 1,911\n",
            "Non-trainable params: 118\n",
            "_________________________________________________________________\n"
          ]
        }
      ]
    },
    {
      "cell_type": "code",
      "source": [
        "h = model.fit(X_train,y_train,epochs=100,validation_data=(X_test,y_test))"
      ],
      "metadata": {
        "colab": {
          "base_uri": "https://localhost:8080/"
        },
        "id": "SthMOrVglfhF",
        "outputId": "b383dc9b-0287-4a94-be7d-1ae3f1dcf154"
      },
      "execution_count": 12,
      "outputs": [
        {
          "output_type": "stream",
          "name": "stdout",
          "text": [
            "Epoch 1/100\n",
            "15/15 [==============================] - 2s 22ms/step - loss: 0.6773 - accuracy: 0.6198 - val_loss: 0.6368 - val_accuracy: 0.7632\n",
            "Epoch 2/100\n",
            "15/15 [==============================] - 0s 4ms/step - loss: 0.5807 - accuracy: 0.7165 - val_loss: 0.6013 - val_accuracy: 0.8421\n",
            "Epoch 3/100\n",
            "15/15 [==============================] - 0s 5ms/step - loss: 0.5788 - accuracy: 0.6989 - val_loss: 0.5622 - val_accuracy: 0.8246\n",
            "Epoch 4/100\n",
            "15/15 [==============================] - 0s 4ms/step - loss: 0.5239 - accuracy: 0.7407 - val_loss: 0.5249 - val_accuracy: 0.8509\n",
            "Epoch 5/100\n",
            "15/15 [==============================] - 0s 4ms/step - loss: 0.4790 - accuracy: 0.7802 - val_loss: 0.4782 - val_accuracy: 0.8596\n",
            "Epoch 6/100\n",
            "15/15 [==============================] - 0s 4ms/step - loss: 0.4473 - accuracy: 0.7868 - val_loss: 0.4359 - val_accuracy: 0.8684\n",
            "Epoch 7/100\n",
            "15/15 [==============================] - 0s 4ms/step - loss: 0.4201 - accuracy: 0.8154 - val_loss: 0.3937 - val_accuracy: 0.8947\n",
            "Epoch 8/100\n",
            "15/15 [==============================] - 0s 4ms/step - loss: 0.3988 - accuracy: 0.8396 - val_loss: 0.3581 - val_accuracy: 0.9123\n",
            "Epoch 9/100\n",
            "15/15 [==============================] - 0s 5ms/step - loss: 0.4090 - accuracy: 0.8220 - val_loss: 0.3255 - val_accuracy: 0.9211\n",
            "Epoch 10/100\n",
            "15/15 [==============================] - 0s 4ms/step - loss: 0.3456 - accuracy: 0.8308 - val_loss: 0.2953 - val_accuracy: 0.9298\n",
            "Epoch 11/100\n",
            "15/15 [==============================] - 0s 6ms/step - loss: 0.3401 - accuracy: 0.8725 - val_loss: 0.2663 - val_accuracy: 0.9386\n",
            "Epoch 12/100\n",
            "15/15 [==============================] - 0s 5ms/step - loss: 0.2985 - accuracy: 0.8923 - val_loss: 0.2428 - val_accuracy: 0.9474\n",
            "Epoch 13/100\n",
            "15/15 [==============================] - 0s 5ms/step - loss: 0.2916 - accuracy: 0.8813 - val_loss: 0.2219 - val_accuracy: 0.9298\n",
            "Epoch 14/100\n",
            "15/15 [==============================] - 0s 5ms/step - loss: 0.2811 - accuracy: 0.8791 - val_loss: 0.2033 - val_accuracy: 0.9386\n",
            "Epoch 15/100\n",
            "15/15 [==============================] - 0s 4ms/step - loss: 0.2526 - accuracy: 0.9077 - val_loss: 0.1880 - val_accuracy: 0.9386\n",
            "Epoch 16/100\n",
            "15/15 [==============================] - 0s 5ms/step - loss: 0.2560 - accuracy: 0.9187 - val_loss: 0.1768 - val_accuracy: 0.9386\n",
            "Epoch 17/100\n",
            "15/15 [==============================] - 0s 6ms/step - loss: 0.2552 - accuracy: 0.9077 - val_loss: 0.1675 - val_accuracy: 0.9561\n",
            "Epoch 18/100\n",
            "15/15 [==============================] - 0s 4ms/step - loss: 0.2168 - accuracy: 0.9231 - val_loss: 0.1584 - val_accuracy: 0.9561\n",
            "Epoch 19/100\n",
            "15/15 [==============================] - 0s 5ms/step - loss: 0.2461 - accuracy: 0.9253 - val_loss: 0.1526 - val_accuracy: 0.9561\n",
            "Epoch 20/100\n",
            "15/15 [==============================] - 0s 5ms/step - loss: 0.2625 - accuracy: 0.8901 - val_loss: 0.1491 - val_accuracy: 0.9561\n",
            "Epoch 21/100\n",
            "15/15 [==============================] - 0s 5ms/step - loss: 0.2054 - accuracy: 0.9319 - val_loss: 0.1469 - val_accuracy: 0.9561\n",
            "Epoch 22/100\n",
            "15/15 [==============================] - 0s 5ms/step - loss: 0.2249 - accuracy: 0.9275 - val_loss: 0.1426 - val_accuracy: 0.9561\n",
            "Epoch 23/100\n",
            "15/15 [==============================] - 0s 5ms/step - loss: 0.2076 - accuracy: 0.9077 - val_loss: 0.1358 - val_accuracy: 0.9561\n",
            "Epoch 24/100\n",
            "15/15 [==============================] - 0s 6ms/step - loss: 0.1869 - accuracy: 0.9363 - val_loss: 0.1336 - val_accuracy: 0.9561\n",
            "Epoch 25/100\n",
            "15/15 [==============================] - 0s 6ms/step - loss: 0.1766 - accuracy: 0.9582 - val_loss: 0.1296 - val_accuracy: 0.9561\n",
            "Epoch 26/100\n",
            "15/15 [==============================] - 0s 6ms/step - loss: 0.2268 - accuracy: 0.9077 - val_loss: 0.1286 - val_accuracy: 0.9561\n",
            "Epoch 27/100\n",
            "15/15 [==============================] - 0s 4ms/step - loss: 0.1763 - accuracy: 0.9385 - val_loss: 0.1261 - val_accuracy: 0.9561\n",
            "Epoch 28/100\n",
            "15/15 [==============================] - 0s 5ms/step - loss: 0.1623 - accuracy: 0.9451 - val_loss: 0.1223 - val_accuracy: 0.9561\n",
            "Epoch 29/100\n",
            "15/15 [==============================] - 0s 5ms/step - loss: 0.1453 - accuracy: 0.9495 - val_loss: 0.1214 - val_accuracy: 0.9561\n",
            "Epoch 30/100\n",
            "15/15 [==============================] - 0s 4ms/step - loss: 0.1750 - accuracy: 0.9473 - val_loss: 0.1188 - val_accuracy: 0.9561\n",
            "Epoch 31/100\n",
            "15/15 [==============================] - 0s 5ms/step - loss: 0.1826 - accuracy: 0.9341 - val_loss: 0.1147 - val_accuracy: 0.9561\n",
            "Epoch 32/100\n",
            "15/15 [==============================] - 0s 6ms/step - loss: 0.1790 - accuracy: 0.9297 - val_loss: 0.1179 - val_accuracy: 0.9561\n",
            "Epoch 33/100\n",
            "15/15 [==============================] - 0s 5ms/step - loss: 0.1408 - accuracy: 0.9604 - val_loss: 0.1186 - val_accuracy: 0.9561\n",
            "Epoch 34/100\n",
            "15/15 [==============================] - 0s 5ms/step - loss: 0.1621 - accuracy: 0.9429 - val_loss: 0.1162 - val_accuracy: 0.9561\n",
            "Epoch 35/100\n",
            "15/15 [==============================] - 0s 4ms/step - loss: 0.1298 - accuracy: 0.9582 - val_loss: 0.1147 - val_accuracy: 0.9561\n",
            "Epoch 36/100\n",
            "15/15 [==============================] - 0s 4ms/step - loss: 0.1863 - accuracy: 0.9385 - val_loss: 0.1167 - val_accuracy: 0.9474\n",
            "Epoch 37/100\n",
            "15/15 [==============================] - 0s 5ms/step - loss: 0.1615 - accuracy: 0.9429 - val_loss: 0.1109 - val_accuracy: 0.9474\n",
            "Epoch 38/100\n",
            "15/15 [==============================] - 0s 7ms/step - loss: 0.1685 - accuracy: 0.9363 - val_loss: 0.1110 - val_accuracy: 0.9474\n",
            "Epoch 39/100\n",
            "15/15 [==============================] - 0s 7ms/step - loss: 0.1852 - accuracy: 0.9385 - val_loss: 0.1145 - val_accuracy: 0.9474\n",
            "Epoch 40/100\n",
            "15/15 [==============================] - 0s 4ms/step - loss: 0.1523 - accuracy: 0.9451 - val_loss: 0.1176 - val_accuracy: 0.9474\n",
            "Epoch 41/100\n",
            "15/15 [==============================] - 0s 6ms/step - loss: 0.1720 - accuracy: 0.9451 - val_loss: 0.1120 - val_accuracy: 0.9474\n",
            "Epoch 42/100\n",
            "15/15 [==============================] - 0s 6ms/step - loss: 0.1417 - accuracy: 0.9538 - val_loss: 0.1069 - val_accuracy: 0.9561\n",
            "Epoch 43/100\n",
            "15/15 [==============================] - 0s 6ms/step - loss: 0.1676 - accuracy: 0.9516 - val_loss: 0.1033 - val_accuracy: 0.9474\n",
            "Epoch 44/100\n",
            "15/15 [==============================] - 0s 5ms/step - loss: 0.1706 - accuracy: 0.9473 - val_loss: 0.1058 - val_accuracy: 0.9561\n",
            "Epoch 45/100\n",
            "15/15 [==============================] - 0s 5ms/step - loss: 0.1468 - accuracy: 0.9516 - val_loss: 0.1038 - val_accuracy: 0.9474\n",
            "Epoch 46/100\n",
            "15/15 [==============================] - 0s 4ms/step - loss: 0.1449 - accuracy: 0.9451 - val_loss: 0.1017 - val_accuracy: 0.9561\n",
            "Epoch 47/100\n",
            "15/15 [==============================] - 0s 5ms/step - loss: 0.1155 - accuracy: 0.9692 - val_loss: 0.0994 - val_accuracy: 0.9474\n",
            "Epoch 48/100\n",
            "15/15 [==============================] - 0s 5ms/step - loss: 0.1443 - accuracy: 0.9538 - val_loss: 0.0967 - val_accuracy: 0.9561\n",
            "Epoch 49/100\n",
            "15/15 [==============================] - 0s 5ms/step - loss: 0.0969 - accuracy: 0.9670 - val_loss: 0.0944 - val_accuracy: 0.9561\n",
            "Epoch 50/100\n",
            "15/15 [==============================] - 0s 6ms/step - loss: 0.0941 - accuracy: 0.9758 - val_loss: 0.0954 - val_accuracy: 0.9649\n",
            "Epoch 51/100\n",
            "15/15 [==============================] - 0s 4ms/step - loss: 0.1187 - accuracy: 0.9604 - val_loss: 0.0934 - val_accuracy: 0.9649\n",
            "Epoch 52/100\n",
            "15/15 [==============================] - 0s 6ms/step - loss: 0.1837 - accuracy: 0.9363 - val_loss: 0.0902 - val_accuracy: 0.9649\n",
            "Epoch 53/100\n",
            "15/15 [==============================] - 0s 4ms/step - loss: 0.1293 - accuracy: 0.9495 - val_loss: 0.0862 - val_accuracy: 0.9649\n",
            "Epoch 54/100\n",
            "15/15 [==============================] - 0s 5ms/step - loss: 0.1496 - accuracy: 0.9516 - val_loss: 0.0843 - val_accuracy: 0.9649\n",
            "Epoch 55/100\n",
            "15/15 [==============================] - 0s 4ms/step - loss: 0.1129 - accuracy: 0.9648 - val_loss: 0.0832 - val_accuracy: 0.9649\n",
            "Epoch 56/100\n",
            "15/15 [==============================] - 0s 4ms/step - loss: 0.1356 - accuracy: 0.9473 - val_loss: 0.0834 - val_accuracy: 0.9649\n",
            "Epoch 57/100\n",
            "15/15 [==============================] - 0s 4ms/step - loss: 0.1267 - accuracy: 0.9604 - val_loss: 0.0838 - val_accuracy: 0.9649\n",
            "Epoch 58/100\n",
            "15/15 [==============================] - 0s 4ms/step - loss: 0.1419 - accuracy: 0.9516 - val_loss: 0.0824 - val_accuracy: 0.9561\n",
            "Epoch 59/100\n",
            "15/15 [==============================] - 0s 5ms/step - loss: 0.1028 - accuracy: 0.9648 - val_loss: 0.0816 - val_accuracy: 0.9561\n",
            "Epoch 60/100\n",
            "15/15 [==============================] - 0s 5ms/step - loss: 0.1399 - accuracy: 0.9407 - val_loss: 0.0812 - val_accuracy: 0.9561\n",
            "Epoch 61/100\n",
            "15/15 [==============================] - 0s 4ms/step - loss: 0.0981 - accuracy: 0.9626 - val_loss: 0.0942 - val_accuracy: 0.9561\n",
            "Epoch 62/100\n",
            "15/15 [==============================] - 0s 4ms/step - loss: 0.1311 - accuracy: 0.9648 - val_loss: 0.0994 - val_accuracy: 0.9561\n",
            "Epoch 63/100\n",
            "15/15 [==============================] - 0s 5ms/step - loss: 0.1070 - accuracy: 0.9648 - val_loss: 0.0966 - val_accuracy: 0.9561\n",
            "Epoch 64/100\n",
            "15/15 [==============================] - 0s 4ms/step - loss: 0.1048 - accuracy: 0.9714 - val_loss: 0.0921 - val_accuracy: 0.9561\n",
            "Epoch 65/100\n",
            "15/15 [==============================] - 0s 4ms/step - loss: 0.1170 - accuracy: 0.9582 - val_loss: 0.0905 - val_accuracy: 0.9561\n",
            "Epoch 66/100\n",
            "15/15 [==============================] - 0s 5ms/step - loss: 0.1112 - accuracy: 0.9604 - val_loss: 0.0894 - val_accuracy: 0.9561\n",
            "Epoch 67/100\n",
            "15/15 [==============================] - 0s 6ms/step - loss: 0.0915 - accuracy: 0.9736 - val_loss: 0.0901 - val_accuracy: 0.9561\n",
            "Epoch 68/100\n",
            "15/15 [==============================] - 0s 5ms/step - loss: 0.1090 - accuracy: 0.9582 - val_loss: 0.0981 - val_accuracy: 0.9561\n",
            "Epoch 69/100\n",
            "15/15 [==============================] - 0s 6ms/step - loss: 0.1320 - accuracy: 0.9560 - val_loss: 0.1020 - val_accuracy: 0.9561\n",
            "Epoch 70/100\n",
            "15/15 [==============================] - 0s 4ms/step - loss: 0.1247 - accuracy: 0.9670 - val_loss: 0.0851 - val_accuracy: 0.9561\n",
            "Epoch 71/100\n",
            "15/15 [==============================] - 0s 5ms/step - loss: 0.1095 - accuracy: 0.9648 - val_loss: 0.0834 - val_accuracy: 0.9474\n",
            "Epoch 72/100\n",
            "15/15 [==============================] - 0s 4ms/step - loss: 0.1129 - accuracy: 0.9604 - val_loss: 0.0825 - val_accuracy: 0.9474\n",
            "Epoch 73/100\n",
            "15/15 [==============================] - 0s 6ms/step - loss: 0.1041 - accuracy: 0.9692 - val_loss: 0.0810 - val_accuracy: 0.9474\n",
            "Epoch 74/100\n",
            "15/15 [==============================] - 0s 4ms/step - loss: 0.1115 - accuracy: 0.9648 - val_loss: 0.0816 - val_accuracy: 0.9474\n",
            "Epoch 75/100\n",
            "15/15 [==============================] - 0s 5ms/step - loss: 0.1320 - accuracy: 0.9560 - val_loss: 0.0786 - val_accuracy: 0.9474\n",
            "Epoch 76/100\n",
            "15/15 [==============================] - 0s 5ms/step - loss: 0.0886 - accuracy: 0.9604 - val_loss: 0.0775 - val_accuracy: 0.9561\n",
            "Epoch 77/100\n",
            "15/15 [==============================] - 0s 5ms/step - loss: 0.1306 - accuracy: 0.9516 - val_loss: 0.0783 - val_accuracy: 0.9474\n",
            "Epoch 78/100\n",
            "15/15 [==============================] - 0s 5ms/step - loss: 0.0908 - accuracy: 0.9736 - val_loss: 0.0789 - val_accuracy: 0.9474\n",
            "Epoch 79/100\n",
            "15/15 [==============================] - 0s 4ms/step - loss: 0.1146 - accuracy: 0.9758 - val_loss: 0.0783 - val_accuracy: 0.9474\n",
            "Epoch 80/100\n",
            "15/15 [==============================] - 0s 5ms/step - loss: 0.0736 - accuracy: 0.9824 - val_loss: 0.0764 - val_accuracy: 0.9649\n",
            "Epoch 81/100\n",
            "15/15 [==============================] - 0s 5ms/step - loss: 0.1154 - accuracy: 0.9648 - val_loss: 0.0753 - val_accuracy: 0.9649\n",
            "Epoch 82/100\n",
            "15/15 [==============================] - 0s 5ms/step - loss: 0.1133 - accuracy: 0.9670 - val_loss: 0.0760 - val_accuracy: 0.9649\n",
            "Epoch 83/100\n",
            "15/15 [==============================] - 0s 4ms/step - loss: 0.1195 - accuracy: 0.9560 - val_loss: 0.0769 - val_accuracy: 0.9649\n",
            "Epoch 84/100\n",
            "15/15 [==============================] - 0s 5ms/step - loss: 0.1170 - accuracy: 0.9626 - val_loss: 0.0786 - val_accuracy: 0.9561\n",
            "Epoch 85/100\n",
            "15/15 [==============================] - 0s 4ms/step - loss: 0.1297 - accuracy: 0.9582 - val_loss: 0.0850 - val_accuracy: 0.9474\n",
            "Epoch 86/100\n",
            "15/15 [==============================] - 0s 5ms/step - loss: 0.1130 - accuracy: 0.9648 - val_loss: 0.0846 - val_accuracy: 0.9561\n",
            "Epoch 87/100\n",
            "15/15 [==============================] - 0s 5ms/step - loss: 0.1408 - accuracy: 0.9560 - val_loss: 0.0831 - val_accuracy: 0.9474\n",
            "Epoch 88/100\n",
            "15/15 [==============================] - 0s 5ms/step - loss: 0.0957 - accuracy: 0.9714 - val_loss: 0.0830 - val_accuracy: 0.9649\n",
            "Epoch 89/100\n",
            "15/15 [==============================] - 0s 5ms/step - loss: 0.1087 - accuracy: 0.9626 - val_loss: 0.0821 - val_accuracy: 0.9649\n",
            "Epoch 90/100\n",
            "15/15 [==============================] - 0s 5ms/step - loss: 0.0690 - accuracy: 0.9758 - val_loss: 0.0820 - val_accuracy: 0.9649\n",
            "Epoch 91/100\n",
            "15/15 [==============================] - 0s 6ms/step - loss: 0.1493 - accuracy: 0.9363 - val_loss: 0.0806 - val_accuracy: 0.9649\n",
            "Epoch 92/100\n",
            "15/15 [==============================] - 0s 8ms/step - loss: 0.1277 - accuracy: 0.9451 - val_loss: 0.0733 - val_accuracy: 0.9649\n",
            "Epoch 93/100\n",
            "15/15 [==============================] - 0s 5ms/step - loss: 0.0864 - accuracy: 0.9692 - val_loss: 0.0726 - val_accuracy: 0.9649\n",
            "Epoch 94/100\n",
            "15/15 [==============================] - 0s 5ms/step - loss: 0.0717 - accuracy: 0.9758 - val_loss: 0.0717 - val_accuracy: 0.9649\n",
            "Epoch 95/100\n",
            "15/15 [==============================] - 0s 5ms/step - loss: 0.1611 - accuracy: 0.9516 - val_loss: 0.0696 - val_accuracy: 0.9649\n",
            "Epoch 96/100\n",
            "15/15 [==============================] - 0s 6ms/step - loss: 0.0897 - accuracy: 0.9714 - val_loss: 0.0720 - val_accuracy: 0.9649\n",
            "Epoch 97/100\n",
            "15/15 [==============================] - 0s 4ms/step - loss: 0.0903 - accuracy: 0.9714 - val_loss: 0.0716 - val_accuracy: 0.9649\n",
            "Epoch 98/100\n",
            "15/15 [==============================] - 0s 6ms/step - loss: 0.0940 - accuracy: 0.9736 - val_loss: 0.0722 - val_accuracy: 0.9649\n",
            "Epoch 99/100\n",
            "15/15 [==============================] - 0s 5ms/step - loss: 0.1031 - accuracy: 0.9626 - val_loss: 0.0709 - val_accuracy: 0.9649\n",
            "Epoch 100/100\n",
            "15/15 [==============================] - 0s 4ms/step - loss: 0.1311 - accuracy: 0.9648 - val_loss: 0.0700 - val_accuracy: 0.9737\n"
          ]
        }
      ]
    },
    {
      "cell_type": "code",
      "source": [
        "plt.plot(h.history['accuracy'], label = 'Accuracy for Train set')\n",
        "plt.plot(h.history['val_accuracy'], label = 'Accuracy for Test Set')\n",
        "plt.title('Accuracy Graph for ANN')\n",
        "plt.ylabel('Accuracy')\n",
        "plt.xlabel('epochs')\n",
        "plt.legend()"
      ],
      "metadata": {
        "colab": {
          "base_uri": "https://localhost:8080/",
          "height": 312
        },
        "id": "1PWB2opilkQJ",
        "outputId": "01ab8bf9-779c-4c98-d6c8-66055e1c0462"
      },
      "execution_count": 13,
      "outputs": [
        {
          "output_type": "execute_result",
          "data": {
            "text/plain": [
              "<matplotlib.legend.Legend at 0x7fc22ed55950>"
            ]
          },
          "metadata": {},
          "execution_count": 13
        },
        {
          "output_type": "display_data",
          "data": {
            "text/plain": [
              "<Figure size 432x288 with 1 Axes>"
            ],
            "image/png": "[encoded data removed]"
          },
          "metadata": {
            "needs_background": "light"
          }
        }
      ]
    },
    {
      "cell_type": "code",
      "source": [
        "plt.plot(h.history['loss'], label = 'loss for Train set')\n",
        "plt.plot(h.history['val_loss'], label = 'loss for Test Set')\n",
        "plt.title('loss Graph for ANN')\n",
        "plt.ylabel('loss')\n",
        "plt.xlabel('epochs')\n",
        "plt.legend()"
      ],
      "metadata": {
        "colab": {
          "base_uri": "https://localhost:8080/",
          "height": 312
        },
        "id": "a2qCJpHil2Ww",
        "outputId": "b78a1d11-a1c7-4c2f-b7c8-2c425850eacf"
      },
      "execution_count": 14,
      "outputs": [
        {
          "output_type": "execute_result",
          "data": {
            "text/plain": [
              "<matplotlib.legend.Legend at 0x7fc22756d650>"
            ]
          },
          "metadata": {},
          "execution_count": 14
        },
        {
          "output_type": "display_data",
          "data": {
            "text/plain": [
              "<Figure size 432x288 with 1 Axes>"
            ],
            "image/png": "[encoded data removed]"
          },
          "metadata": {
            "needs_background": "light"
          }
        }
      ]
    },
    {
      "cell_type": "code",
      "source": [
        "y_pred_ann = model.predict_classes(X_test)\n",
        "accuracy_score(y_test,y_pred_ann)"
      ],
      "metadata": {
        "colab": {
          "base_uri": "https://localhost:8080/"
        },
        "id": "t6HQ7kYxl4WI",
        "outputId": "757c492e-3417-4bc6-b7ad-ee52bc84d0d9"
      },
      "execution_count": 15,
      "outputs": [
        {
          "output_type": "stream",
          "name": "stderr",
          "text": [
            "/usr/local/lib/python3.7/dist-packages/tensorflow/python/keras/engine/sequential.py:455: UserWarning: `model.predict_classes()` is deprecated and will be removed after 2021-01-01. Please use instead:* `np.argmax(model.predict(x), axis=-1)`,   if your model does multi-class classification   (e.g. if it uses a `softmax` last-layer activation).* `(model.predict(x) > 0.5).astype(\"int32\")`,   if your model does binary classification   (e.g. if it uses a `sigmoid` last-layer activation).\n",
            "  warnings.warn('`model.predict_classes()` is deprecated and '\n"
          ]
        },
        {
          "output_type": "execute_result",
          "data": {
            "text/plain": [
              "0.9736842105263158"
            ]
          },
          "metadata": {},
          "execution_count": 15
        }
      ]
    },
    {
      "cell_type": "markdown",
      "source": [
        "Tree Based Method"
      ],
      "metadata": {
        "id": "ICrmpa_emZq6"
      }
    },
    {
      "cell_type": "code",
      "source": [
        "rank2  = pd.read_excel(\"/content/cancer_dataset_U.xlsx\",sheet_name = \"Tree_based_method\").set_index('Attributes_Names')\n",
        "df_tree = df_new[rank2[0:15].index]\n",
        "X_col =  df_tree\n",
        "y = df_new['diagnosis']\n",
        "Scaler = StandardScaler()\n",
        "X_col =  Scaler.fit_transform(X_col)\n",
        "X_train, X_test, y_train, y_test = train_test_split(X_col, y, test_size=0.2, random_state=0)\n",
        "print(\"Shape of training data\",X_train.shape)\n",
        "print(\"Shape of testing data\",X_test.shape)"
      ],
      "metadata": {
        "colab": {
          "base_uri": "https://localhost:8080/"
        },
        "id": "uB05YyvNmND4",
        "outputId": "57f3cb2d-b3a2-4310-ace0-a1f0c5c63594"
      },
      "execution_count": 16,
      "outputs": [
        {
          "output_type": "stream",
          "name": "stdout",
          "text": [
            "Shape of training data (455, 15)\n",
            "Shape of testing data (114, 15)\n"
          ]
        }
      ]
    },
    {
      "cell_type": "markdown",
      "source": [
        "Random Forest"
      ],
      "metadata": {
        "id": "3pV1RJsinWHz"
      }
    },
    {
      "cell_type": "code",
      "source": [
        "rf =  RandomForestClassifier()\n",
        "rf.fit(X_train,y_train)\n",
        "y_pred_rf =  rf.predict(X_test)\n",
        "accuracy_score(y_test,y_pred_rf)"
      ],
      "metadata": {
        "colab": {
          "base_uri": "https://localhost:8080/"
        },
        "id": "0DjROJMMmp3r",
        "outputId": "99c566bb-3d2d-4acb-d14b-a26a534fe1ea"
      },
      "execution_count": 17,
      "outputs": [
        {
          "output_type": "execute_result",
          "data": {
            "text/plain": [
              "0.956140350877193"
            ]
          },
          "metadata": {},
          "execution_count": 17
        }
      ]
    },
    {
      "cell_type": "markdown",
      "source": [
        "SVM"
      ],
      "metadata": {
        "id": "yWM-2xIAnVGQ"
      }
    },
    {
      "cell_type": "code",
      "source": [
        "svc =  SVC()\n",
        "svc.fit(X_test,y_test)\n",
        "y_pred_svc =  svc.predict(X_test)\n",
        "accuracy_score(y_test,y_pred_svc)"
      ],
      "metadata": {
        "colab": {
          "base_uri": "https://localhost:8080/"
        },
        "id": "SsIp55Azmuzv",
        "outputId": "31f3a919-6416-4046-ceb0-460a2f85f3ef"
      },
      "execution_count": 18,
      "outputs": [
        {
          "output_type": "execute_result",
          "data": {
            "text/plain": [
              "0.9736842105263158"
            ]
          },
          "metadata": {},
          "execution_count": 18
        }
      ]
    },
    {
      "cell_type": "markdown",
      "source": [
        "ANN"
      ],
      "metadata": {
        "id": "2Wevx2LtnTvb"
      }
    },
    {
      "cell_type": "code",
      "source": [
        "model = tf.keras.Sequential([\n",
        "    tf.keras.layers.Dense(15, activation='relu', input_shape=(15,)),\n",
        "    tf.keras.layers.BatchNormalization(),\n",
        "    tf.keras.layers.Dense(20, activation='relu'),\n",
        "    tf.keras.layers.BatchNormalization(),\n",
        "    tf.keras.layers.Dense(24, activation='relu'),\n",
        "    tf.keras.layers.Dropout(0.5),\n",
        "    tf.keras.layers.BatchNormalization(),\n",
        "    tf.keras.layers.Dense(28, activation='relu'),\n",
        "    tf.keras.layers.Dropout(0.5),\n",
        "    tf.keras.layers.Dense(1,activation='sigmoid')\n",
        "  ])"
      ],
      "metadata": {
        "id": "7GEoNM0_m1yA"
      },
      "execution_count": 19,
      "outputs": []
    },
    {
      "cell_type": "code",
      "source": [
        "model.compile(loss='binary_crossentropy',\n",
        "              optimizer = 'adam',\n",
        "              metrics=['accuracy'])\n",
        "model.summary()"
      ],
      "metadata": {
        "colab": {
          "base_uri": "https://localhost:8080/"
        },
        "id": "dDr2_FSkm-jN",
        "outputId": "8f970104-3ee1-49d3-8d28-b5fd1173da84"
      },
      "execution_count": 20,
      "outputs": [
        {
          "output_type": "stream",
          "name": "stdout",
          "text": [
            "Model: \"sequential_1\"\n",
            "_________________________________________________________________\n",
            "Layer (type)                 Output Shape              Param #   \n",
            "=================================================================\n",
            "dense_5 (Dense)              (None, 15)                240       \n",
            "_________________________________________________________________\n",
            "batch_normalization_3 (Batch (None, 15)                60        \n",
            "_________________________________________________________________\n",
            "dense_6 (Dense)              (None, 20)                320       \n",
            "_________________________________________________________________\n",
            "batch_normalization_4 (Batch (None, 20)                80        \n",
            "_________________________________________________________________\n",
            "dense_7 (Dense)              (None, 24)                504       \n",
            "_________________________________________________________________\n",
            "dropout_2 (Dropout)          (None, 24)                0         \n",
            "_________________________________________________________________\n",
            "batch_normalization_5 (Batch (None, 24)                96        \n",
            "_________________________________________________________________\n",
            "dense_8 (Dense)              (None, 28)                700       \n",
            "_________________________________________________________________\n",
            "dropout_3 (Dropout)          (None, 28)                0         \n",
            "_________________________________________________________________\n",
            "dense_9 (Dense)              (None, 1)                 29        \n",
            "=================================================================\n",
            "Total params: 2,029\n",
            "Trainable params: 1,911\n",
            "Non-trainable params: 118\n",
            "_________________________________________________________________\n"
          ]
        }
      ]
    },
    {
      "cell_type": "code",
      "source": [
        "h = model.fit(X_train,y_train,epochs=100,validation_data=(X_test,y_test))"
      ],
      "metadata": {
        "colab": {
          "base_uri": "https://localhost:8080/"
        },
        "id": "Iu2l47pXm-gT",
        "outputId": "1cd93a00-e26e-49f3-af1d-dafe1a8c3e09"
      },
      "execution_count": 21,
      "outputs": [
        {
          "output_type": "stream",
          "name": "stdout",
          "text": [
            "Epoch 1/100\n",
            "15/15 [==============================] - 2s 19ms/step - loss: 0.7152 - accuracy: 0.6088 - val_loss: 0.6573 - val_accuracy: 0.8421\n",
            "Epoch 2/100\n",
            "15/15 [==============================] - 0s 6ms/step - loss: 0.6127 - accuracy: 0.6923 - val_loss: 0.6101 - val_accuracy: 0.8860\n",
            "Epoch 3/100\n",
            "15/15 [==============================] - 0s 4ms/step - loss: 0.5281 - accuracy: 0.7736 - val_loss: 0.5531 - val_accuracy: 0.9035\n",
            "Epoch 4/100\n",
            "15/15 [==============================] - 0s 4ms/step - loss: 0.4382 - accuracy: 0.8198 - val_loss: 0.4923 - val_accuracy: 0.9035\n",
            "Epoch 5/100\n",
            "15/15 [==============================] - 0s 5ms/step - loss: 0.4362 - accuracy: 0.8132 - val_loss: 0.4287 - val_accuracy: 0.9035\n",
            "Epoch 6/100\n",
            "15/15 [==============================] - 0s 4ms/step - loss: 0.3775 - accuracy: 0.8593 - val_loss: 0.3640 - val_accuracy: 0.9035\n",
            "Epoch 7/100\n",
            "15/15 [==============================] - 0s 4ms/step - loss: 0.3150 - accuracy: 0.8857 - val_loss: 0.3078 - val_accuracy: 0.9211\n",
            "Epoch 8/100\n",
            "15/15 [==============================] - 0s 6ms/step - loss: 0.3099 - accuracy: 0.8879 - val_loss: 0.2626 - val_accuracy: 0.9474\n",
            "Epoch 9/100\n",
            "15/15 [==============================] - 0s 4ms/step - loss: 0.2873 - accuracy: 0.9077 - val_loss: 0.2242 - val_accuracy: 0.9474\n",
            "Epoch 10/100\n",
            "15/15 [==============================] - 0s 6ms/step - loss: 0.2539 - accuracy: 0.9319 - val_loss: 0.1971 - val_accuracy: 0.9474\n",
            "Epoch 11/100\n",
            "15/15 [==============================] - 0s 15ms/step - loss: 0.2314 - accuracy: 0.9297 - val_loss: 0.1773 - val_accuracy: 0.9474\n",
            "Epoch 12/100\n",
            "15/15 [==============================] - 0s 16ms/step - loss: 0.2349 - accuracy: 0.9143 - val_loss: 0.1594 - val_accuracy: 0.9474\n",
            "Epoch 13/100\n",
            "15/15 [==============================] - 0s 20ms/step - loss: 0.2095 - accuracy: 0.9363 - val_loss: 0.1428 - val_accuracy: 0.9561\n",
            "Epoch 14/100\n",
            "15/15 [==============================] - 0s 18ms/step - loss: 0.1964 - accuracy: 0.9341 - val_loss: 0.1312 - val_accuracy: 0.9649\n",
            "Epoch 15/100\n",
            "15/15 [==============================] - 0s 15ms/step - loss: 0.1836 - accuracy: 0.9451 - val_loss: 0.1192 - val_accuracy: 0.9649\n",
            "Epoch 16/100\n",
            "15/15 [==============================] - 0s 13ms/step - loss: 0.1819 - accuracy: 0.9341 - val_loss: 0.1126 - val_accuracy: 0.9649\n",
            "Epoch 17/100\n",
            "15/15 [==============================] - 0s 10ms/step - loss: 0.2007 - accuracy: 0.9407 - val_loss: 0.1078 - val_accuracy: 0.9649\n",
            "Epoch 18/100\n",
            "15/15 [==============================] - 0s 5ms/step - loss: 0.1767 - accuracy: 0.9451 - val_loss: 0.1030 - val_accuracy: 0.9649\n",
            "Epoch 19/100\n",
            "15/15 [==============================] - 0s 7ms/step - loss: 0.1792 - accuracy: 0.9407 - val_loss: 0.1012 - val_accuracy: 0.9649\n",
            "Epoch 20/100\n",
            "15/15 [==============================] - 0s 6ms/step - loss: 0.1857 - accuracy: 0.9516 - val_loss: 0.0998 - val_accuracy: 0.9561\n",
            "Epoch 21/100\n",
            "15/15 [==============================] - 0s 5ms/step - loss: 0.1767 - accuracy: 0.9451 - val_loss: 0.1004 - val_accuracy: 0.9561\n",
            "Epoch 22/100\n",
            "15/15 [==============================] - 0s 5ms/step - loss: 0.1852 - accuracy: 0.9473 - val_loss: 0.0973 - val_accuracy: 0.9474\n",
            "Epoch 23/100\n",
            "15/15 [==============================] - 0s 5ms/step - loss: 0.1656 - accuracy: 0.9341 - val_loss: 0.0982 - val_accuracy: 0.9474\n",
            "Epoch 24/100\n",
            "15/15 [==============================] - 0s 5ms/step - loss: 0.1276 - accuracy: 0.9604 - val_loss: 0.0982 - val_accuracy: 0.9474\n",
            "Epoch 25/100\n",
            "15/15 [==============================] - 0s 4ms/step - loss: 0.1869 - accuracy: 0.9451 - val_loss: 0.0957 - val_accuracy: 0.9474\n",
            "Epoch 26/100\n",
            "15/15 [==============================] - 0s 4ms/step - loss: 0.1551 - accuracy: 0.9451 - val_loss: 0.0993 - val_accuracy: 0.9474\n",
            "Epoch 27/100\n",
            "15/15 [==============================] - 0s 4ms/step - loss: 0.1490 - accuracy: 0.9604 - val_loss: 0.0981 - val_accuracy: 0.9474\n",
            "Epoch 28/100\n",
            "15/15 [==============================] - 0s 4ms/step - loss: 0.1763 - accuracy: 0.9451 - val_loss: 0.0954 - val_accuracy: 0.9474\n",
            "Epoch 29/100\n",
            "15/15 [==============================] - 0s 4ms/step - loss: 0.1259 - accuracy: 0.9582 - val_loss: 0.0944 - val_accuracy: 0.9386\n",
            "Epoch 30/100\n",
            "15/15 [==============================] - 0s 4ms/step - loss: 0.1865 - accuracy: 0.9473 - val_loss: 0.0952 - val_accuracy: 0.9561\n",
            "Epoch 31/100\n",
            "15/15 [==============================] - 0s 4ms/step - loss: 0.1555 - accuracy: 0.9473 - val_loss: 0.0885 - val_accuracy: 0.9561\n",
            "Epoch 32/100\n",
            "15/15 [==============================] - 0s 5ms/step - loss: 0.1562 - accuracy: 0.9516 - val_loss: 0.0843 - val_accuracy: 0.9649\n",
            "Epoch 33/100\n",
            "15/15 [==============================] - 0s 5ms/step - loss: 0.1453 - accuracy: 0.9538 - val_loss: 0.0828 - val_accuracy: 0.9649\n",
            "Epoch 34/100\n",
            "15/15 [==============================] - 0s 5ms/step - loss: 0.1383 - accuracy: 0.9582 - val_loss: 0.0850 - val_accuracy: 0.9649\n",
            "Epoch 35/100\n",
            "15/15 [==============================] - 0s 4ms/step - loss: 0.1309 - accuracy: 0.9582 - val_loss: 0.0845 - val_accuracy: 0.9649\n",
            "Epoch 36/100\n",
            "15/15 [==============================] - 0s 6ms/step - loss: 0.1444 - accuracy: 0.9516 - val_loss: 0.0854 - val_accuracy: 0.9649\n",
            "Epoch 37/100\n",
            "15/15 [==============================] - 0s 4ms/step - loss: 0.1198 - accuracy: 0.9626 - val_loss: 0.0900 - val_accuracy: 0.9474\n",
            "Epoch 38/100\n",
            "15/15 [==============================] - 0s 6ms/step - loss: 0.1302 - accuracy: 0.9516 - val_loss: 0.0923 - val_accuracy: 0.9474\n",
            "Epoch 39/100\n",
            "15/15 [==============================] - 0s 5ms/step - loss: 0.1725 - accuracy: 0.9626 - val_loss: 0.0901 - val_accuracy: 0.9474\n",
            "Epoch 40/100\n",
            "15/15 [==============================] - 0s 5ms/step - loss: 0.1302 - accuracy: 0.9538 - val_loss: 0.0899 - val_accuracy: 0.9474\n",
            "Epoch 41/100\n",
            "15/15 [==============================] - 0s 6ms/step - loss: 0.1624 - accuracy: 0.9473 - val_loss: 0.0904 - val_accuracy: 0.9474\n",
            "Epoch 42/100\n",
            "15/15 [==============================] - 0s 5ms/step - loss: 0.1451 - accuracy: 0.9626 - val_loss: 0.0897 - val_accuracy: 0.9474\n",
            "Epoch 43/100\n",
            "15/15 [==============================] - 0s 6ms/step - loss: 0.1325 - accuracy: 0.9582 - val_loss: 0.1046 - val_accuracy: 0.9474\n",
            "Epoch 44/100\n",
            "15/15 [==============================] - 0s 6ms/step - loss: 0.1226 - accuracy: 0.9560 - val_loss: 0.0974 - val_accuracy: 0.9474\n",
            "Epoch 45/100\n",
            "15/15 [==============================] - 0s 5ms/step - loss: 0.1482 - accuracy: 0.9516 - val_loss: 0.0833 - val_accuracy: 0.9561\n",
            "Epoch 46/100\n",
            "15/15 [==============================] - 0s 7ms/step - loss: 0.1087 - accuracy: 0.9604 - val_loss: 0.0749 - val_accuracy: 0.9649\n",
            "Epoch 47/100\n",
            "15/15 [==============================] - 0s 6ms/step - loss: 0.1200 - accuracy: 0.9604 - val_loss: 0.0734 - val_accuracy: 0.9649\n",
            "Epoch 48/100\n",
            "15/15 [==============================] - 0s 6ms/step - loss: 0.1261 - accuracy: 0.9604 - val_loss: 0.0753 - val_accuracy: 0.9649\n",
            "Epoch 49/100\n",
            "15/15 [==============================] - 0s 5ms/step - loss: 0.1204 - accuracy: 0.9670 - val_loss: 0.0705 - val_accuracy: 0.9649\n",
            "Epoch 50/100\n",
            "15/15 [==============================] - 0s 6ms/step - loss: 0.1485 - accuracy: 0.9560 - val_loss: 0.0708 - val_accuracy: 0.9737\n",
            "Epoch 51/100\n",
            "15/15 [==============================] - 0s 5ms/step - loss: 0.1335 - accuracy: 0.9626 - val_loss: 0.0731 - val_accuracy: 0.9737\n",
            "Epoch 52/100\n",
            "15/15 [==============================] - 0s 6ms/step - loss: 0.1099 - accuracy: 0.9670 - val_loss: 0.0778 - val_accuracy: 0.9825\n",
            "Epoch 53/100\n",
            "15/15 [==============================] - 0s 5ms/step - loss: 0.1194 - accuracy: 0.9604 - val_loss: 0.0794 - val_accuracy: 0.9649\n",
            "Epoch 54/100\n",
            "15/15 [==============================] - 0s 6ms/step - loss: 0.0792 - accuracy: 0.9670 - val_loss: 0.0820 - val_accuracy: 0.9649\n",
            "Epoch 55/100\n",
            "15/15 [==============================] - 0s 5ms/step - loss: 0.1344 - accuracy: 0.9582 - val_loss: 0.0885 - val_accuracy: 0.9561\n",
            "Epoch 56/100\n",
            "15/15 [==============================] - 0s 5ms/step - loss: 0.1116 - accuracy: 0.9560 - val_loss: 0.0799 - val_accuracy: 0.9649\n",
            "Epoch 57/100\n",
            "15/15 [==============================] - 0s 6ms/step - loss: 0.1124 - accuracy: 0.9582 - val_loss: 0.0729 - val_accuracy: 0.9649\n",
            "Epoch 58/100\n",
            "15/15 [==============================] - 0s 6ms/step - loss: 0.1204 - accuracy: 0.9670 - val_loss: 0.0627 - val_accuracy: 0.9825\n",
            "Epoch 59/100\n",
            "15/15 [==============================] - 0s 5ms/step - loss: 0.0928 - accuracy: 0.9626 - val_loss: 0.0673 - val_accuracy: 0.9825\n",
            "Epoch 60/100\n",
            "15/15 [==============================] - 0s 5ms/step - loss: 0.0950 - accuracy: 0.9714 - val_loss: 0.0699 - val_accuracy: 0.9825\n",
            "Epoch 61/100\n",
            "15/15 [==============================] - 0s 5ms/step - loss: 0.0871 - accuracy: 0.9736 - val_loss: 0.0689 - val_accuracy: 0.9825\n",
            "Epoch 62/100\n",
            "15/15 [==============================] - 0s 7ms/step - loss: 0.0892 - accuracy: 0.9714 - val_loss: 0.0718 - val_accuracy: 0.9737\n",
            "Epoch 63/100\n",
            "15/15 [==============================] - 0s 5ms/step - loss: 0.0871 - accuracy: 0.9692 - val_loss: 0.0767 - val_accuracy: 0.9737\n",
            "Epoch 64/100\n",
            "15/15 [==============================] - 0s 6ms/step - loss: 0.0840 - accuracy: 0.9736 - val_loss: 0.0851 - val_accuracy: 0.9649\n",
            "Epoch 65/100\n",
            "15/15 [==============================] - 0s 5ms/step - loss: 0.1198 - accuracy: 0.9560 - val_loss: 0.0711 - val_accuracy: 0.9649\n",
            "Epoch 66/100\n",
            "15/15 [==============================] - 0s 4ms/step - loss: 0.1173 - accuracy: 0.9648 - val_loss: 0.0753 - val_accuracy: 0.9737\n",
            "Epoch 67/100\n",
            "15/15 [==============================] - 0s 8ms/step - loss: 0.0944 - accuracy: 0.9714 - val_loss: 0.0747 - val_accuracy: 0.9649\n",
            "Epoch 68/100\n",
            "15/15 [==============================] - 0s 7ms/step - loss: 0.1087 - accuracy: 0.9582 - val_loss: 0.0633 - val_accuracy: 0.9825\n",
            "Epoch 69/100\n",
            "15/15 [==============================] - 0s 5ms/step - loss: 0.0964 - accuracy: 0.9648 - val_loss: 0.0617 - val_accuracy: 0.9825\n",
            "Epoch 70/100\n",
            "15/15 [==============================] - 0s 6ms/step - loss: 0.0943 - accuracy: 0.9692 - val_loss: 0.0655 - val_accuracy: 0.9825\n",
            "Epoch 71/100\n",
            "15/15 [==============================] - 0s 6ms/step - loss: 0.0945 - accuracy: 0.9626 - val_loss: 0.0664 - val_accuracy: 0.9825\n",
            "Epoch 72/100\n",
            "15/15 [==============================] - 0s 7ms/step - loss: 0.0721 - accuracy: 0.9846 - val_loss: 0.0716 - val_accuracy: 0.9561\n",
            "Epoch 73/100\n",
            "15/15 [==============================] - 0s 4ms/step - loss: 0.0833 - accuracy: 0.9780 - val_loss: 0.0821 - val_accuracy: 0.9561\n",
            "Epoch 74/100\n",
            "15/15 [==============================] - 0s 5ms/step - loss: 0.1061 - accuracy: 0.9582 - val_loss: 0.0715 - val_accuracy: 0.9649\n",
            "Epoch 75/100\n",
            "15/15 [==============================] - 0s 6ms/step - loss: 0.0906 - accuracy: 0.9714 - val_loss: 0.0733 - val_accuracy: 0.9561\n",
            "Epoch 76/100\n",
            "15/15 [==============================] - 0s 6ms/step - loss: 0.0784 - accuracy: 0.9714 - val_loss: 0.0768 - val_accuracy: 0.9561\n",
            "Epoch 77/100\n",
            "15/15 [==============================] - 0s 6ms/step - loss: 0.0833 - accuracy: 0.9714 - val_loss: 0.0636 - val_accuracy: 0.9737\n",
            "Epoch 78/100\n",
            "15/15 [==============================] - 0s 6ms/step - loss: 0.0858 - accuracy: 0.9714 - val_loss: 0.0620 - val_accuracy: 0.9737\n",
            "Epoch 79/100\n",
            "15/15 [==============================] - 0s 6ms/step - loss: 0.1042 - accuracy: 0.9604 - val_loss: 0.0628 - val_accuracy: 0.9825\n",
            "Epoch 80/100\n",
            "15/15 [==============================] - 0s 6ms/step - loss: 0.1410 - accuracy: 0.9516 - val_loss: 0.0783 - val_accuracy: 0.9561\n",
            "Epoch 81/100\n",
            "15/15 [==============================] - 0s 7ms/step - loss: 0.0840 - accuracy: 0.9648 - val_loss: 0.0770 - val_accuracy: 0.9561\n",
            "Epoch 82/100\n",
            "15/15 [==============================] - 0s 5ms/step - loss: 0.0791 - accuracy: 0.9692 - val_loss: 0.0796 - val_accuracy: 0.9561\n",
            "Epoch 83/100\n",
            "15/15 [==============================] - 0s 7ms/step - loss: 0.0971 - accuracy: 0.9714 - val_loss: 0.0773 - val_accuracy: 0.9561\n",
            "Epoch 84/100\n",
            "15/15 [==============================] - 0s 5ms/step - loss: 0.1314 - accuracy: 0.9560 - val_loss: 0.0694 - val_accuracy: 0.9737\n",
            "Epoch 85/100\n",
            "15/15 [==============================] - 0s 4ms/step - loss: 0.1096 - accuracy: 0.9626 - val_loss: 0.0614 - val_accuracy: 0.9825\n",
            "Epoch 86/100\n",
            "15/15 [==============================] - 0s 6ms/step - loss: 0.0736 - accuracy: 0.9780 - val_loss: 0.0617 - val_accuracy: 0.9825\n",
            "Epoch 87/100\n",
            "15/15 [==============================] - 0s 6ms/step - loss: 0.0680 - accuracy: 0.9758 - val_loss: 0.0620 - val_accuracy: 0.9825\n",
            "Epoch 88/100\n",
            "15/15 [==============================] - 0s 5ms/step - loss: 0.1612 - accuracy: 0.9473 - val_loss: 0.0653 - val_accuracy: 0.9737\n",
            "Epoch 89/100\n",
            "15/15 [==============================] - 0s 4ms/step - loss: 0.1191 - accuracy: 0.9604 - val_loss: 0.0679 - val_accuracy: 0.9737\n",
            "Epoch 90/100\n",
            "15/15 [==============================] - 0s 4ms/step - loss: 0.0964 - accuracy: 0.9692 - val_loss: 0.0625 - val_accuracy: 0.9737\n",
            "Epoch 91/100\n",
            "15/15 [==============================] - 0s 6ms/step - loss: 0.0817 - accuracy: 0.9626 - val_loss: 0.0834 - val_accuracy: 0.9474\n",
            "Epoch 92/100\n",
            "15/15 [==============================] - 0s 5ms/step - loss: 0.0650 - accuracy: 0.9868 - val_loss: 0.0833 - val_accuracy: 0.9474\n",
            "Epoch 93/100\n",
            "15/15 [==============================] - 0s 5ms/step - loss: 0.0973 - accuracy: 0.9692 - val_loss: 0.0703 - val_accuracy: 0.9561\n",
            "Epoch 94/100\n",
            "15/15 [==============================] - 0s 5ms/step - loss: 0.0949 - accuracy: 0.9714 - val_loss: 0.0748 - val_accuracy: 0.9474\n",
            "Epoch 95/100\n",
            "15/15 [==============================] - 0s 6ms/step - loss: 0.0787 - accuracy: 0.9670 - val_loss: 0.0713 - val_accuracy: 0.9474\n",
            "Epoch 96/100\n",
            "15/15 [==============================] - 0s 4ms/step - loss: 0.1115 - accuracy: 0.9604 - val_loss: 0.0598 - val_accuracy: 0.9649\n",
            "Epoch 97/100\n",
            "15/15 [==============================] - 0s 5ms/step - loss: 0.1008 - accuracy: 0.9714 - val_loss: 0.0541 - val_accuracy: 0.9737\n",
            "Epoch 98/100\n",
            "15/15 [==============================] - 0s 6ms/step - loss: 0.0979 - accuracy: 0.9626 - val_loss: 0.0702 - val_accuracy: 0.9561\n",
            "Epoch 99/100\n",
            "15/15 [==============================] - 0s 4ms/step - loss: 0.0989 - accuracy: 0.9648 - val_loss: 0.0672 - val_accuracy: 0.9561\n",
            "Epoch 100/100\n",
            "15/15 [==============================] - 0s 4ms/step - loss: 0.0929 - accuracy: 0.9670 - val_loss: 0.0610 - val_accuracy: 0.9737\n"
          ]
        }
      ]
    },
    {
      "cell_type": "code",
      "source": [
        "plt.plot(h.history['accuracy'], label = 'Accuracy for Train set')\n",
        "plt.plot(h.history['val_accuracy'], label = 'Accuracy for Test Set')\n",
        "plt.title('Accuracy Graph for ANN')\n",
        "plt.ylabel('Accuracy')\n",
        "plt.xlabel('epochs')\n",
        "plt.legend()"
      ],
      "metadata": {
        "colab": {
          "base_uri": "https://localhost:8080/",
          "height": 312
        },
        "id": "VbwiZACHm-b3",
        "outputId": "5aef9d1a-1524-4fe7-e7d2-5f1edb06b0f7"
      },
      "execution_count": 22,
      "outputs": [
        {
          "output_type": "execute_result",
          "data": {
            "text/plain": [
              "<matplotlib.legend.Legend at 0x7fc226c8eb10>"
            ]
          },
          "metadata": {},
          "execution_count": 22
        },
        {
          "output_type": "display_data",
          "data": {
            "text/plain": [
              "<Figure size 432x288 with 1 Axes>"
            ],
            "image/png": "[encoded data removed]"
          },
          "metadata": {
            "needs_background": "light"
          }
        }
      ]
    },
    {
      "cell_type": "code",
      "source": [
        "plt.plot(h.history['loss'], label = 'loss for Train set')\n",
        "plt.plot(h.history['val_loss'], label = 'loss for Test Set')\n",
        "plt.title('loss Graph for ANN')\n",
        "plt.ylabel('loss')\n",
        "plt.xlabel('epochs')\n",
        "plt.legend()"
      ],
      "metadata": {
        "colab": {
          "base_uri": "https://localhost:8080/",
          "height": 312
        },
        "id": "BpL_7CvYm-Zr",
        "outputId": "93064075-5d96-4b73-e63d-cefd282015b1"
      },
      "execution_count": 23,
      "outputs": [
        {
          "output_type": "execute_result",
          "data": {
            "text/plain": [
              "<matplotlib.legend.Legend at 0x7fc226c3acd0>"
            ]
          },
          "metadata": {},
          "execution_count": 23
        },
        {
          "output_type": "display_data",
          "data": {
            "text/plain": [
              "<Figure size 432x288 with 1 Axes>"
            ],
            "image/png": "[encoded data removed]"
          },
          "metadata": {
            "needs_background": "light"
          }
        }
      ]
    },
    {
      "cell_type": "code",
      "source": [
        "y_pred_ann = model.predict_classes(X_test)\n",
        "accuracy_score(y_test,y_pred_ann)"
      ],
      "metadata": {
        "colab": {
          "base_uri": "https://localhost:8080/"
        },
        "id": "INHc6kuSm-Xb",
        "outputId": "38c536c9-fc0f-4e95-dcf6-4af00d13bea0"
      },
      "execution_count": 24,
      "outputs": [
        {
          "output_type": "stream",
          "name": "stderr",
          "text": [
            "/usr/local/lib/python3.7/dist-packages/tensorflow/python/keras/engine/sequential.py:455: UserWarning: `model.predict_classes()` is deprecated and will be removed after 2021-01-01. Please use instead:* `np.argmax(model.predict(x), axis=-1)`,   if your model does multi-class classification   (e.g. if it uses a `softmax` last-layer activation).* `(model.predict(x) > 0.5).astype(\"int32\")`,   if your model does binary classification   (e.g. if it uses a `sigmoid` last-layer activation).\n",
            "  warnings.warn('`model.predict_classes()` is deprecated and '\n"
          ]
        },
        {
          "output_type": "execute_result",
          "data": {
            "text/plain": [
              "0.9736842105263158"
            ]
          },
          "metadata": {},
          "execution_count": 24
        }
      ]
    },
    {
      "cell_type": "markdown",
      "source": [
        "Permutation Method Mean"
      ],
      "metadata": {
        "id": "hE_fxi51nZxL"
      }
    },
    {
      "cell_type": "code",
      "source": [
        "rank3  = pd.read_excel(\"/content/cancer_dataset_U.xlsx\",sheet_name = \"permutation_method_mean\").set_index('Attributes_Names')\n",
        "df_per_mean = df_new[rank3[0:15].index]\n",
        "X_col =  df_per_mean\n",
        "y = df_new['diagnosis']\n",
        "Scaler = StandardScaler()\n",
        "X_col =  Scaler.fit_transform(X_col)\n",
        "X_train, X_test, y_train, y_test = train_test_split(X_col, y, test_size=0.2, random_state=0)\n",
        "print(\"Shape of training data\",X_train.shape)\n",
        "print(\"Shape of testing data\",X_test.shape)"
      ],
      "metadata": {
        "colab": {
          "base_uri": "https://localhost:8080/"
        },
        "id": "8QjwW4Szm-U1",
        "outputId": "72af32bb-9be7-49d3-998a-7a9da5fddaaa"
      },
      "execution_count": 25,
      "outputs": [
        {
          "output_type": "stream",
          "name": "stdout",
          "text": [
            "Shape of training data (455, 15)\n",
            "Shape of testing data (114, 15)\n"
          ]
        }
      ]
    },
    {
      "cell_type": "markdown",
      "source": [
        "Random Forest "
      ],
      "metadata": {
        "id": "l9334-k8oLen"
      }
    },
    {
      "cell_type": "code",
      "source": [
        "rf =  RandomForestClassifier()\n",
        "rf.fit(X_train,y_train)\n",
        "y_pred_rf =  rf.predict(X_test)\n",
        "accuracy_score(y_test,y_pred_rf)"
      ],
      "metadata": {
        "colab": {
          "base_uri": "https://localhost:8080/"
        },
        "id": "OxnYcjeRm-Sy",
        "outputId": "b45b6ab8-d4a7-4831-81b4-0018aac1a18a"
      },
      "execution_count": 26,
      "outputs": [
        {
          "output_type": "execute_result",
          "data": {
            "text/plain": [
              "0.9385964912280702"
            ]
          },
          "metadata": {},
          "execution_count": 26
        }
      ]
    },
    {
      "cell_type": "markdown",
      "source": [
        "SVM"
      ],
      "metadata": {
        "id": "SmrSGBw-oJeu"
      }
    },
    {
      "cell_type": "code",
      "source": [
        "svc =  SVC()\n",
        "svc.fit(X_test,y_test)\n",
        "y_pred_svc =  svc.predict(X_test)\n",
        "accuracy_score(y_test,y_pred_svc)"
      ],
      "metadata": {
        "colab": {
          "base_uri": "https://localhost:8080/"
        },
        "id": "a3p3j61am-Qp",
        "outputId": "93d28bf6-fadf-4052-a7c1-8a0a3f408a0d"
      },
      "execution_count": 27,
      "outputs": [
        {
          "output_type": "execute_result",
          "data": {
            "text/plain": [
              "0.9736842105263158"
            ]
          },
          "metadata": {},
          "execution_count": 27
        }
      ]
    },
    {
      "cell_type": "markdown",
      "source": [
        "ANN"
      ],
      "metadata": {
        "id": "hm-g0i5uoIy4"
      }
    },
    {
      "cell_type": "code",
      "source": [
        "model = tf.keras.Sequential([\n",
        "    tf.keras.layers.Dense(15, activation='relu', input_shape=(15,)),\n",
        "    tf.keras.layers.BatchNormalization(),\n",
        "    tf.keras.layers.Dense(20, activation='relu'),\n",
        "    tf.keras.layers.BatchNormalization(),\n",
        "    tf.keras.layers.Dense(24, activation='relu'),\n",
        "    tf.keras.layers.Dropout(0.5),\n",
        "    tf.keras.layers.BatchNormalization(),\n",
        "    tf.keras.layers.Dense(28, activation='relu'),\n",
        "    tf.keras.layers.Dropout(0.5),\n",
        "    tf.keras.layers.Dense(1,activation='sigmoid')\n",
        "  ])\n",
        "model.compile(loss='binary_crossentropy',\n",
        "              optimizer = 'adam',\n",
        "              metrics=['accuracy'])\n",
        "model.summary()"
      ],
      "metadata": {
        "colab": {
          "base_uri": "https://localhost:8080/"
        },
        "id": "hHOPIvrVm-Ol",
        "outputId": "50cf9597-9336-4d73-ee7c-4016dd78c785"
      },
      "execution_count": 28,
      "outputs": [
        {
          "output_type": "stream",
          "name": "stdout",
          "text": [
            "Model: \"sequential_2\"\n",
            "_________________________________________________________________\n",
            "Layer (type)                 Output Shape              Param #   \n",
            "=================================================================\n",
            "dense_10 (Dense)             (None, 15)                240       \n",
            "_________________________________________________________________\n",
            "batch_normalization_6 (Batch (None, 15)                60        \n",
            "_________________________________________________________________\n",
            "dense_11 (Dense)             (None, 20)                320       \n",
            "_________________________________________________________________\n",
            "batch_normalization_7 (Batch (None, 20)                80        \n",
            "_________________________________________________________________\n",
            "dense_12 (Dense)             (None, 24)                504       \n",
            "_________________________________________________________________\n",
            "dropout_4 (Dropout)          (None, 24)                0         \n",
            "_________________________________________________________________\n",
            "batch_normalization_8 (Batch (None, 24)                96        \n",
            "_________________________________________________________________\n",
            "dense_13 (Dense)             (None, 28)                700       \n",
            "_________________________________________________________________\n",
            "dropout_5 (Dropout)          (None, 28)                0         \n",
            "_________________________________________________________________\n",
            "dense_14 (Dense)             (None, 1)                 29        \n",
            "=================================================================\n",
            "Total params: 2,029\n",
            "Trainable params: 1,911\n",
            "Non-trainable params: 118\n",
            "_________________________________________________________________\n"
          ]
        }
      ]
    },
    {
      "cell_type": "code",
      "source": [
        "h = model.fit(X_train,y_train,epochs=50,validation_data=(X_test,y_test))"
      ],
      "metadata": {
        "colab": {
          "base_uri": "https://localhost:8080/"
        },
        "id": "tH348LClm-MO",
        "outputId": "481ed2e2-9f70-41e6-db49-53c5b9fc7a84"
      },
      "execution_count": 29,
      "outputs": [
        {
          "output_type": "stream",
          "name": "stdout",
          "text": [
            "Epoch 1/50\n",
            "15/15 [==============================] - 2s 20ms/step - loss: 0.7711 - accuracy: 0.5802 - val_loss: 0.6481 - val_accuracy: 0.7368\n",
            "Epoch 2/50\n",
            "15/15 [==============================] - 0s 4ms/step - loss: 0.6467 - accuracy: 0.6835 - val_loss: 0.6098 - val_accuracy: 0.8070\n",
            "Epoch 3/50\n",
            "15/15 [==============================] - 0s 5ms/step - loss: 0.6128 - accuracy: 0.6725 - val_loss: 0.5775 - val_accuracy: 0.7807\n",
            "Epoch 4/50\n",
            "15/15 [==============================] - 0s 5ms/step - loss: 0.5528 - accuracy: 0.7341 - val_loss: 0.5401 - val_accuracy: 0.8158\n",
            "Epoch 5/50\n",
            "15/15 [==============================] - 0s 4ms/step - loss: 0.5241 - accuracy: 0.7495 - val_loss: 0.4972 - val_accuracy: 0.8333\n",
            "Epoch 6/50\n",
            "15/15 [==============================] - 0s 5ms/step - loss: 0.4492 - accuracy: 0.7868 - val_loss: 0.4516 - val_accuracy: 0.8596\n",
            "Epoch 7/50\n",
            "15/15 [==============================] - 0s 6ms/step - loss: 0.4144 - accuracy: 0.8132 - val_loss: 0.4108 - val_accuracy: 0.8684\n",
            "Epoch 8/50\n",
            "15/15 [==============================] - 0s 4ms/step - loss: 0.3928 - accuracy: 0.8352 - val_loss: 0.3658 - val_accuracy: 0.8772\n",
            "Epoch 9/50\n",
            "15/15 [==============================] - 0s 6ms/step - loss: 0.3805 - accuracy: 0.8440 - val_loss: 0.3265 - val_accuracy: 0.9123\n",
            "Epoch 10/50\n",
            "15/15 [==============================] - 0s 5ms/step - loss: 0.3385 - accuracy: 0.8681 - val_loss: 0.2921 - val_accuracy: 0.9123\n",
            "Epoch 11/50\n",
            "15/15 [==============================] - 0s 6ms/step - loss: 0.3176 - accuracy: 0.8703 - val_loss: 0.2630 - val_accuracy: 0.9298\n",
            "Epoch 12/50\n",
            "15/15 [==============================] - 0s 4ms/step - loss: 0.2961 - accuracy: 0.8989 - val_loss: 0.2312 - val_accuracy: 0.9386\n",
            "Epoch 13/50\n",
            "15/15 [==============================] - 0s 7ms/step - loss: 0.3003 - accuracy: 0.8791 - val_loss: 0.2063 - val_accuracy: 0.9474\n",
            "Epoch 14/50\n",
            "15/15 [==============================] - 0s 5ms/step - loss: 0.2487 - accuracy: 0.9099 - val_loss: 0.1852 - val_accuracy: 0.9386\n",
            "Epoch 15/50\n",
            "15/15 [==============================] - 0s 5ms/step - loss: 0.2492 - accuracy: 0.9099 - val_loss: 0.1678 - val_accuracy: 0.9474\n",
            "Epoch 16/50\n",
            "15/15 [==============================] - 0s 5ms/step - loss: 0.2329 - accuracy: 0.9187 - val_loss: 0.1518 - val_accuracy: 0.9474\n",
            "Epoch 17/50\n",
            "15/15 [==============================] - 0s 4ms/step - loss: 0.2095 - accuracy: 0.9341 - val_loss: 0.1413 - val_accuracy: 0.9561\n",
            "Epoch 18/50\n",
            "15/15 [==============================] - 0s 4ms/step - loss: 0.2299 - accuracy: 0.9011 - val_loss: 0.1342 - val_accuracy: 0.9561\n",
            "Epoch 19/50\n",
            "15/15 [==============================] - 0s 7ms/step - loss: 0.1977 - accuracy: 0.9187 - val_loss: 0.1279 - val_accuracy: 0.9561\n",
            "Epoch 20/50\n",
            "15/15 [==============================] - 0s 4ms/step - loss: 0.1868 - accuracy: 0.9407 - val_loss: 0.1217 - val_accuracy: 0.9561\n",
            "Epoch 21/50\n",
            "15/15 [==============================] - 0s 4ms/step - loss: 0.2297 - accuracy: 0.9077 - val_loss: 0.1159 - val_accuracy: 0.9649\n",
            "Epoch 22/50\n",
            "15/15 [==============================] - 0s 5ms/step - loss: 0.2117 - accuracy: 0.9319 - val_loss: 0.1131 - val_accuracy: 0.9649\n",
            "Epoch 23/50\n",
            "15/15 [==============================] - 0s 6ms/step - loss: 0.1910 - accuracy: 0.9473 - val_loss: 0.1132 - val_accuracy: 0.9561\n",
            "Epoch 24/50\n",
            "15/15 [==============================] - 0s 6ms/step - loss: 0.2140 - accuracy: 0.9253 - val_loss: 0.1092 - val_accuracy: 0.9649\n",
            "Epoch 25/50\n",
            "15/15 [==============================] - 0s 6ms/step - loss: 0.1916 - accuracy: 0.9385 - val_loss: 0.1029 - val_accuracy: 0.9561\n",
            "Epoch 26/50\n",
            "15/15 [==============================] - 0s 6ms/step - loss: 0.1673 - accuracy: 0.9495 - val_loss: 0.1003 - val_accuracy: 0.9561\n",
            "Epoch 27/50\n",
            "15/15 [==============================] - 0s 6ms/step - loss: 0.1720 - accuracy: 0.9407 - val_loss: 0.0992 - val_accuracy: 0.9561\n",
            "Epoch 28/50\n",
            "15/15 [==============================] - 0s 7ms/step - loss: 0.1817 - accuracy: 0.9297 - val_loss: 0.0974 - val_accuracy: 0.9561\n",
            "Epoch 29/50\n",
            "15/15 [==============================] - 0s 6ms/step - loss: 0.1695 - accuracy: 0.9451 - val_loss: 0.0965 - val_accuracy: 0.9561\n",
            "Epoch 30/50\n",
            "15/15 [==============================] - 0s 6ms/step - loss: 0.1693 - accuracy: 0.9275 - val_loss: 0.0972 - val_accuracy: 0.9561\n",
            "Epoch 31/50\n",
            "15/15 [==============================] - 0s 5ms/step - loss: 0.1424 - accuracy: 0.9516 - val_loss: 0.0973 - val_accuracy: 0.9561\n",
            "Epoch 32/50\n",
            "15/15 [==============================] - 0s 7ms/step - loss: 0.1595 - accuracy: 0.9429 - val_loss: 0.0953 - val_accuracy: 0.9561\n",
            "Epoch 33/50\n",
            "15/15 [==============================] - 0s 5ms/step - loss: 0.1666 - accuracy: 0.9473 - val_loss: 0.0980 - val_accuracy: 0.9561\n",
            "Epoch 34/50\n",
            "15/15 [==============================] - 0s 6ms/step - loss: 0.1430 - accuracy: 0.9648 - val_loss: 0.0953 - val_accuracy: 0.9561\n",
            "Epoch 35/50\n",
            "15/15 [==============================] - 0s 6ms/step - loss: 0.1387 - accuracy: 0.9560 - val_loss: 0.0933 - val_accuracy: 0.9561\n",
            "Epoch 36/50\n",
            "15/15 [==============================] - 0s 5ms/step - loss: 0.1628 - accuracy: 0.9538 - val_loss: 0.0921 - val_accuracy: 0.9561\n",
            "Epoch 37/50\n",
            "15/15 [==============================] - 0s 5ms/step - loss: 0.1426 - accuracy: 0.9538 - val_loss: 0.0928 - val_accuracy: 0.9649\n",
            "Epoch 38/50\n",
            "15/15 [==============================] - 0s 6ms/step - loss: 0.1463 - accuracy: 0.9582 - val_loss: 0.0928 - val_accuracy: 0.9649\n",
            "Epoch 39/50\n",
            "15/15 [==============================] - 0s 4ms/step - loss: 0.1470 - accuracy: 0.9560 - val_loss: 0.0935 - val_accuracy: 0.9561\n",
            "Epoch 40/50\n",
            "15/15 [==============================] - 0s 4ms/step - loss: 0.1250 - accuracy: 0.9560 - val_loss: 0.0941 - val_accuracy: 0.9561\n",
            "Epoch 41/50\n",
            "15/15 [==============================] - 0s 6ms/step - loss: 0.1673 - accuracy: 0.9429 - val_loss: 0.0972 - val_accuracy: 0.9561\n",
            "Epoch 42/50\n",
            "15/15 [==============================] - 0s 5ms/step - loss: 0.1766 - accuracy: 0.9495 - val_loss: 0.0972 - val_accuracy: 0.9561\n",
            "Epoch 43/50\n",
            "15/15 [==============================] - 0s 4ms/step - loss: 0.1453 - accuracy: 0.9473 - val_loss: 0.0952 - val_accuracy: 0.9561\n",
            "Epoch 44/50\n",
            "15/15 [==============================] - 0s 4ms/step - loss: 0.1119 - accuracy: 0.9604 - val_loss: 0.0943 - val_accuracy: 0.9561\n",
            "Epoch 45/50\n",
            "15/15 [==============================] - 0s 4ms/step - loss: 0.1228 - accuracy: 0.9626 - val_loss: 0.0922 - val_accuracy: 0.9561\n",
            "Epoch 46/50\n",
            "15/15 [==============================] - 0s 4ms/step - loss: 0.1114 - accuracy: 0.9648 - val_loss: 0.0905 - val_accuracy: 0.9561\n",
            "Epoch 47/50\n",
            "15/15 [==============================] - 0s 5ms/step - loss: 0.1173 - accuracy: 0.9626 - val_loss: 0.0911 - val_accuracy: 0.9561\n",
            "Epoch 48/50\n",
            "15/15 [==============================] - 0s 6ms/step - loss: 0.1199 - accuracy: 0.9604 - val_loss: 0.0917 - val_accuracy: 0.9561\n",
            "Epoch 49/50\n",
            "15/15 [==============================] - 0s 5ms/step - loss: 0.1200 - accuracy: 0.9626 - val_loss: 0.0960 - val_accuracy: 0.9561\n",
            "Epoch 50/50\n",
            "15/15 [==============================] - 0s 6ms/step - loss: 0.1487 - accuracy: 0.9429 - val_loss: 0.0970 - val_accuracy: 0.9561\n"
          ]
        }
      ]
    },
    {
      "cell_type": "code",
      "source": [
        "plt.plot(h.history['accuracy'], label = 'Accuracy for Train set')\n",
        "plt.plot(h.history['val_accuracy'], label = 'Accuracy for Test Set')\n",
        "plt.title('Accuracy Graph for ANN')\n",
        "plt.ylabel('Accuracy')\n",
        "plt.xlabel('epochs')\n",
        "plt.legend()"
      ],
      "metadata": {
        "colab": {
          "base_uri": "https://localhost:8080/",
          "height": 312
        },
        "id": "9Ze0fIpEnzma",
        "outputId": "75ba8012-6c97-44c7-ecd6-78878cfb47a5"
      },
      "execution_count": 30,
      "outputs": [
        {
          "output_type": "execute_result",
          "data": {
            "text/plain": [
              "<matplotlib.legend.Legend at 0x7fc2267bf950>"
            ]
          },
          "metadata": {},
          "execution_count": 30
        },
        {
          "output_type": "display_data",
          "data": {
            "text/plain": [
              "<Figure size 432x288 with 1 Axes>"
            ],
            "image/png": "[encoded data removed]"
          },
          "metadata": {
            "needs_background": "light"
          }
        }
      ]
    },
    {
      "cell_type": "code",
      "source": [
        "plt.plot(h.history['loss'], label = 'loss for Train set')\n",
        "plt.plot(h.history['val_loss'], label = 'loss for Test Set')\n",
        "plt.title('loss Graph for ANN')\n",
        "plt.ylabel('loss')\n",
        "plt.xlabel('epochs')\n",
        "plt.legend()"
      ],
      "metadata": {
        "colab": {
          "base_uri": "https://localhost:8080/",
          "height": 312
        },
        "id": "Qwm6lb1Bn9ol",
        "outputId": "db09444d-2ac9-414e-8302-a07b5e89e19e"
      },
      "execution_count": 31,
      "outputs": [
        {
          "output_type": "execute_result",
          "data": {
            "text/plain": [
              "<matplotlib.legend.Legend at 0x7fc2265ec550>"
            ]
          },
          "metadata": {},
          "execution_count": 31
        },
        {
          "output_type": "display_data",
          "data": {
            "text/plain": [
              "<Figure size 432x288 with 1 Axes>"
            ],
            "image/png": "[encoded data removed]"
          },
          "metadata": {
            "needs_background": "light"
          }
        }
      ]
    },
    {
      "cell_type": "code",
      "source": [
        "y_pred_ann = model.predict_classes(X_test)\n",
        "accuracy_score(y_test,y_pred_ann)"
      ],
      "metadata": {
        "colab": {
          "base_uri": "https://localhost:8080/"
        },
        "id": "YbePp_YkoBvG",
        "outputId": "bf78cf3c-0888-466b-f470-37d7570de961"
      },
      "execution_count": 32,
      "outputs": [
        {
          "output_type": "stream",
          "name": "stderr",
          "text": [
            "/usr/local/lib/python3.7/dist-packages/tensorflow/python/keras/engine/sequential.py:455: UserWarning: `model.predict_classes()` is deprecated and will be removed after 2021-01-01. Please use instead:* `np.argmax(model.predict(x), axis=-1)`,   if your model does multi-class classification   (e.g. if it uses a `softmax` last-layer activation).* `(model.predict(x) > 0.5).astype(\"int32\")`,   if your model does binary classification   (e.g. if it uses a `sigmoid` last-layer activation).\n",
            "  warnings.warn('`model.predict_classes()` is deprecated and '\n"
          ]
        },
        {
          "output_type": "execute_result",
          "data": {
            "text/plain": [
              "0.956140350877193"
            ]
          },
          "metadata": {},
          "execution_count": 32
        }
      ]
    },
    {
      "cell_type": "code",
      "source": [
        "rank4  = pd.read_excel(\"/content/cancer_dataset_U.xlsx\",sheet_name = \"permutation_method_std\").set_index('Attributes_Names')\n",
        "df_per_std  = df_new[rank4[0:15].index]\n",
        "X_col =  df_per_std\n",
        "y = df_new['diagnosis']\n",
        "Scaler = StandardScaler()\n",
        "X_col =  Scaler.fit_transform(X_col)\n",
        "X_train, X_test, y_train, y_test = train_test_split(X_col, y, test_size=0.2, random_state=0)\n",
        "print(\"Shape of training data\",X_train.shape)\n",
        "print(\"Shape of testing data\",X_test.shape)"
      ],
      "metadata": {
        "colab": {
          "base_uri": "https://localhost:8080/"
        },
        "id": "tqKbOrjToEui",
        "outputId": "0c5a454a-5ef8-4703-8520-5cdaf65d70a0"
      },
      "execution_count": 33,
      "outputs": [
        {
          "output_type": "stream",
          "name": "stdout",
          "text": [
            "Shape of training data (455, 15)\n",
            "Shape of testing data (114, 15)\n"
          ]
        }
      ]
    },
    {
      "cell_type": "code",
      "source": [
        "rf =  RandomForestClassifier()\n",
        "rf.fit(X_train,y_train)\n",
        "y_pred_rf =  rf.predict(X_test)\n",
        "accuracy_score(y_test,y_pred_rf)"
      ],
      "metadata": {
        "colab": {
          "base_uri": "https://localhost:8080/"
        },
        "id": "smBr_U0AoY3W",
        "outputId": "228c4657-00e3-4965-f2d2-cf439f5393d3"
      },
      "execution_count": 34,
      "outputs": [
        {
          "output_type": "execute_result",
          "data": {
            "text/plain": [
              "0.956140350877193"
            ]
          },
          "metadata": {},
          "execution_count": 34
        }
      ]
    },
    {
      "cell_type": "code",
      "source": [
        "svc =  SVC()\n",
        "svc.fit(X_test,y_test)\n",
        "y_pred_svc =  svc.predict(X_test)\n",
        "accuracy_score(y_test,y_pred_svc)"
      ],
      "metadata": {
        "colab": {
          "base_uri": "https://localhost:8080/"
        },
        "id": "ue7MZrzzodc1",
        "outputId": "0013cf95-5adb-4938-bc05-0b8407ba6491"
      },
      "execution_count": 35,
      "outputs": [
        {
          "output_type": "execute_result",
          "data": {
            "text/plain": [
              "0.9736842105263158"
            ]
          },
          "metadata": {},
          "execution_count": 35
        }
      ]
    },
    {
      "cell_type": "code",
      "source": [
        "model = tf.keras.Sequential([\n",
        "    tf.keras.layers.Dense(15, activation='relu', input_shape=(15,)),\n",
        "    tf.keras.layers.BatchNormalization(),\n",
        "    tf.keras.layers.Dense(20, activation='relu'),\n",
        "    tf.keras.layers.BatchNormalization(),\n",
        "    tf.keras.layers.Dense(24, activation='relu'),\n",
        "    tf.keras.layers.Dropout(0.5),\n",
        "    tf.keras.layers.BatchNormalization(),\n",
        "    tf.keras.layers.Dense(28, activation='relu'),\n",
        "    tf.keras.layers.Dropout(0.5),\n",
        "    tf.keras.layers.Dense(1,activation='sigmoid')\n",
        "  ])\n",
        "model.compile(loss='binary_crossentropy',\n",
        "              optimizer = 'adam',\n",
        "              metrics=['accuracy'])\n",
        "model.summary()"
      ],
      "metadata": {
        "id": "xTUTquW6odZ-",
        "colab": {
          "base_uri": "https://localhost:8080/"
        },
        "outputId": "5ca3163a-e5df-4b47-dc8f-cbbb06c6a796"
      },
      "execution_count": 36,
      "outputs": [
        {
          "output_type": "stream",
          "name": "stdout",
          "text": [
            "Model: \"sequential_3\"\n",
            "_________________________________________________________________\n",
            "Layer (type)                 Output Shape              Param #   \n",
            "=================================================================\n",
            "dense_15 (Dense)             (None, 15)                240       \n",
            "_________________________________________________________________\n",
            "batch_normalization_9 (Batch (None, 15)                60        \n",
            "_________________________________________________________________\n",
            "dense_16 (Dense)             (None, 20)                320       \n",
            "_________________________________________________________________\n",
            "batch_normalization_10 (Batc (None, 20)                80        \n",
            "_________________________________________________________________\n",
            "dense_17 (Dense)             (None, 24)                504       \n",
            "_________________________________________________________________\n",
            "dropout_6 (Dropout)          (None, 24)                0         \n",
            "_________________________________________________________________\n",
            "batch_normalization_11 (Batc (None, 24)                96        \n",
            "_________________________________________________________________\n",
            "dense_18 (Dense)             (None, 28)                700       \n",
            "_________________________________________________________________\n",
            "dropout_7 (Dropout)          (None, 28)                0         \n",
            "_________________________________________________________________\n",
            "dense_19 (Dense)             (None, 1)                 29        \n",
            "=================================================================\n",
            "Total params: 2,029\n",
            "Trainable params: 1,911\n",
            "Non-trainable params: 118\n",
            "_________________________________________________________________\n"
          ]
        }
      ]
    },
    {
      "cell_type": "code",
      "source": [
        "h = model.fit(X_train,y_train,epochs=50,validation_data=(X_test,y_test))"
      ],
      "metadata": {
        "id": "HJSas2jkodXX",
        "colab": {
          "base_uri": "https://localhost:8080/"
        },
        "outputId": "e443ad9e-8b8c-471e-ccfb-857769c24a4d"
      },
      "execution_count": 37,
      "outputs": [
        {
          "output_type": "stream",
          "name": "stdout",
          "text": [
            "Epoch 1/50\n",
            "15/15 [==============================] - 3s 37ms/step - loss: 0.8410 - accuracy: 0.5275 - val_loss: 0.6915 - val_accuracy: 0.5877\n",
            "Epoch 2/50\n",
            "15/15 [==============================] - 0s 8ms/step - loss: 0.7235 - accuracy: 0.6044 - val_loss: 0.6664 - val_accuracy: 0.6228\n",
            "Epoch 3/50\n",
            "15/15 [==============================] - 0s 9ms/step - loss: 0.6676 - accuracy: 0.6484 - val_loss: 0.6459 - val_accuracy: 0.7105\n",
            "Epoch 4/50\n",
            "15/15 [==============================] - 0s 9ms/step - loss: 0.6424 - accuracy: 0.6747 - val_loss: 0.6182 - val_accuracy: 0.7456\n",
            "Epoch 5/50\n",
            "15/15 [==============================] - 0s 10ms/step - loss: 0.6245 - accuracy: 0.6857 - val_loss: 0.5870 - val_accuracy: 0.7456\n",
            "Epoch 6/50\n",
            "15/15 [==============================] - 0s 8ms/step - loss: 0.5340 - accuracy: 0.7187 - val_loss: 0.5541 - val_accuracy: 0.7719\n",
            "Epoch 7/50\n",
            "15/15 [==============================] - 0s 9ms/step - loss: 0.5665 - accuracy: 0.7231 - val_loss: 0.5220 - val_accuracy: 0.7982\n",
            "Epoch 8/50\n",
            "15/15 [==============================] - 0s 9ms/step - loss: 0.5399 - accuracy: 0.7495 - val_loss: 0.4849 - val_accuracy: 0.8421\n",
            "Epoch 9/50\n",
            "15/15 [==============================] - 0s 9ms/step - loss: 0.4637 - accuracy: 0.8044 - val_loss: 0.4467 - val_accuracy: 0.8509\n",
            "Epoch 10/50\n",
            "15/15 [==============================] - 0s 8ms/step - loss: 0.4604 - accuracy: 0.8308 - val_loss: 0.4118 - val_accuracy: 0.8509\n",
            "Epoch 11/50\n",
            "15/15 [==============================] - 0s 10ms/step - loss: 0.4327 - accuracy: 0.8022 - val_loss: 0.3752 - val_accuracy: 0.8772\n",
            "Epoch 12/50\n",
            "15/15 [==============================] - 0s 8ms/step - loss: 0.4244 - accuracy: 0.8022 - val_loss: 0.3412 - val_accuracy: 0.8860\n",
            "Epoch 13/50\n",
            "15/15 [==============================] - 0s 9ms/step - loss: 0.4129 - accuracy: 0.8374 - val_loss: 0.3100 - val_accuracy: 0.8860\n",
            "Epoch 14/50\n",
            "15/15 [==============================] - 0s 10ms/step - loss: 0.3675 - accuracy: 0.8527 - val_loss: 0.2842 - val_accuracy: 0.8860\n",
            "Epoch 15/50\n",
            "15/15 [==============================] - 0s 11ms/step - loss: 0.3741 - accuracy: 0.8286 - val_loss: 0.2626 - val_accuracy: 0.8947\n",
            "Epoch 16/50\n",
            "15/15 [==============================] - 0s 10ms/step - loss: 0.3237 - accuracy: 0.8747 - val_loss: 0.2446 - val_accuracy: 0.8947\n",
            "Epoch 17/50\n",
            "15/15 [==============================] - 0s 10ms/step - loss: 0.2917 - accuracy: 0.8857 - val_loss: 0.2278 - val_accuracy: 0.8947\n",
            "Epoch 18/50\n",
            "15/15 [==============================] - 0s 11ms/step - loss: 0.3198 - accuracy: 0.8791 - val_loss: 0.2150 - val_accuracy: 0.9123\n",
            "Epoch 19/50\n",
            "15/15 [==============================] - 0s 10ms/step - loss: 0.3044 - accuracy: 0.8879 - val_loss: 0.2048 - val_accuracy: 0.9123\n",
            "Epoch 20/50\n",
            "15/15 [==============================] - 0s 10ms/step - loss: 0.2933 - accuracy: 0.8967 - val_loss: 0.1928 - val_accuracy: 0.9211\n",
            "Epoch 21/50\n",
            "15/15 [==============================] - 0s 10ms/step - loss: 0.2815 - accuracy: 0.8989 - val_loss: 0.1808 - val_accuracy: 0.9211\n",
            "Epoch 22/50\n",
            "15/15 [==============================] - 0s 9ms/step - loss: 0.2580 - accuracy: 0.9099 - val_loss: 0.1707 - val_accuracy: 0.9386\n",
            "Epoch 23/50\n",
            "15/15 [==============================] - 0s 10ms/step - loss: 0.2675 - accuracy: 0.8989 - val_loss: 0.1622 - val_accuracy: 0.9298\n",
            "Epoch 24/50\n",
            "15/15 [==============================] - 0s 9ms/step - loss: 0.2357 - accuracy: 0.9055 - val_loss: 0.1558 - val_accuracy: 0.9298\n",
            "Epoch 25/50\n",
            "15/15 [==============================] - 0s 9ms/step - loss: 0.2306 - accuracy: 0.9077 - val_loss: 0.1521 - val_accuracy: 0.9298\n",
            "Epoch 26/50\n",
            "15/15 [==============================] - 0s 10ms/step - loss: 0.2352 - accuracy: 0.9121 - val_loss: 0.1482 - val_accuracy: 0.9298\n",
            "Epoch 27/50\n",
            "15/15 [==============================] - 0s 10ms/step - loss: 0.2856 - accuracy: 0.8791 - val_loss: 0.1434 - val_accuracy: 0.9386\n",
            "Epoch 28/50\n",
            "15/15 [==============================] - 0s 10ms/step - loss: 0.2427 - accuracy: 0.9231 - val_loss: 0.1346 - val_accuracy: 0.9474\n",
            "Epoch 29/50\n",
            "15/15 [==============================] - 0s 9ms/step - loss: 0.1809 - accuracy: 0.9407 - val_loss: 0.1307 - val_accuracy: 0.9474\n",
            "Epoch 30/50\n",
            "15/15 [==============================] - 0s 6ms/step - loss: 0.2164 - accuracy: 0.9121 - val_loss: 0.1280 - val_accuracy: 0.9474\n",
            "Epoch 31/50\n",
            "15/15 [==============================] - 0s 5ms/step - loss: 0.1976 - accuracy: 0.9165 - val_loss: 0.1228 - val_accuracy: 0.9474\n",
            "Epoch 32/50\n",
            "15/15 [==============================] - 0s 5ms/step - loss: 0.1935 - accuracy: 0.9231 - val_loss: 0.1193 - val_accuracy: 0.9474\n",
            "Epoch 33/50\n",
            "15/15 [==============================] - 0s 5ms/step - loss: 0.1897 - accuracy: 0.9385 - val_loss: 0.1156 - val_accuracy: 0.9474\n",
            "Epoch 34/50\n",
            "15/15 [==============================] - 0s 6ms/step - loss: 0.1781 - accuracy: 0.9363 - val_loss: 0.1124 - val_accuracy: 0.9474\n",
            "Epoch 35/50\n",
            "15/15 [==============================] - 0s 5ms/step - loss: 0.1622 - accuracy: 0.9495 - val_loss: 0.1076 - val_accuracy: 0.9561\n",
            "Epoch 36/50\n",
            "15/15 [==============================] - 0s 6ms/step - loss: 0.1789 - accuracy: 0.9341 - val_loss: 0.1049 - val_accuracy: 0.9561\n",
            "Epoch 37/50\n",
            "15/15 [==============================] - 0s 5ms/step - loss: 0.1473 - accuracy: 0.9429 - val_loss: 0.1041 - val_accuracy: 0.9561\n",
            "Epoch 38/50\n",
            "15/15 [==============================] - 0s 5ms/step - loss: 0.1882 - accuracy: 0.9341 - val_loss: 0.1002 - val_accuracy: 0.9561\n",
            "Epoch 39/50\n",
            "15/15 [==============================] - 0s 5ms/step - loss: 0.1571 - accuracy: 0.9429 - val_loss: 0.0983 - val_accuracy: 0.9561\n",
            "Epoch 40/50\n",
            "15/15 [==============================] - 0s 5ms/step - loss: 0.1455 - accuracy: 0.9516 - val_loss: 0.0966 - val_accuracy: 0.9561\n",
            "Epoch 41/50\n",
            "15/15 [==============================] - 0s 6ms/step - loss: 0.1545 - accuracy: 0.9516 - val_loss: 0.0941 - val_accuracy: 0.9561\n",
            "Epoch 42/50\n",
            "15/15 [==============================] - 0s 5ms/step - loss: 0.1424 - accuracy: 0.9604 - val_loss: 0.0942 - val_accuracy: 0.9561\n",
            "Epoch 43/50\n",
            "15/15 [==============================] - 0s 5ms/step - loss: 0.1361 - accuracy: 0.9736 - val_loss: 0.0935 - val_accuracy: 0.9561\n",
            "Epoch 44/50\n",
            "15/15 [==============================] - 0s 4ms/step - loss: 0.1503 - accuracy: 0.9495 - val_loss: 0.0912 - val_accuracy: 0.9561\n",
            "Epoch 45/50\n",
            "15/15 [==============================] - 0s 6ms/step - loss: 0.1326 - accuracy: 0.9538 - val_loss: 0.0878 - val_accuracy: 0.9561\n",
            "Epoch 46/50\n",
            "15/15 [==============================] - 0s 6ms/step - loss: 0.1439 - accuracy: 0.9495 - val_loss: 0.0872 - val_accuracy: 0.9561\n",
            "Epoch 47/50\n",
            "15/15 [==============================] - 0s 6ms/step - loss: 0.1439 - accuracy: 0.9604 - val_loss: 0.0862 - val_accuracy: 0.9561\n",
            "Epoch 48/50\n",
            "15/15 [==============================] - 0s 5ms/step - loss: 0.1528 - accuracy: 0.9516 - val_loss: 0.0855 - val_accuracy: 0.9561\n",
            "Epoch 49/50\n",
            "15/15 [==============================] - 0s 5ms/step - loss: 0.1420 - accuracy: 0.9538 - val_loss: 0.0870 - val_accuracy: 0.9649\n",
            "Epoch 50/50\n",
            "15/15 [==============================] - 0s 6ms/step - loss: 0.1492 - accuracy: 0.9495 - val_loss: 0.0848 - val_accuracy: 0.9649\n"
          ]
        }
      ]
    },
    {
      "cell_type": "code",
      "source": [
        "plt.plot(h.history['accuracy'], label = 'Accuracy for Train set')\n",
        "plt.plot(h.history['val_accuracy'], label = 'Accuracy for Test Set')\n",
        "plt.title('Accuracy Graph for ANN')\n",
        "plt.ylabel('Accuracy')\n",
        "plt.xlabel('epochs')\n",
        "plt.legend()"
      ],
      "metadata": {
        "id": "30DgohYrodVH",
        "colab": {
          "base_uri": "https://localhost:8080/",
          "height": 312
        },
        "outputId": "61dccbc8-c0ee-4051-99aa-5d5cdf91308e"
      },
      "execution_count": 38,
      "outputs": [
        {
          "output_type": "execute_result",
          "data": {
            "text/plain": [
              "<matplotlib.legend.Legend at 0x7fc22a42ed90>"
            ]
          },
          "metadata": {},
          "execution_count": 38
        },
        {
          "output_type": "display_data",
          "data": {
            "text/plain": [
              "<Figure size 432x288 with 1 Axes>"
            ],
            "image/png": "[encoded data removed]"
          },
          "metadata": {
            "needs_background": "light"
          }
        }
      ]
    },
    {
      "cell_type": "code",
      "source": [
        "plt.plot(h.history['loss'], label = 'loss for Train set')\n",
        "plt.plot(h.history['val_loss'], label = 'loss for Test Set')\n",
        "plt.title('loss Graph for ANN')\n",
        "plt.ylabel('loss')\n",
        "plt.xlabel('epochs')\n",
        "plt.legend()"
      ],
      "metadata": {
        "colab": {
          "base_uri": "https://localhost:8080/",
          "height": 312
        },
        "id": "bSmhE4KgUWwZ",
        "outputId": "5504abda-32c2-4a4c-9b39-8f8d348dcf13"
      },
      "execution_count": 39,
      "outputs": [
        {
          "output_type": "execute_result",
          "data": {
            "text/plain": [
              "<matplotlib.legend.Legend at 0x7fc226e12590>"
            ]
          },
          "metadata": {},
          "execution_count": 39
        },
        {
          "output_type": "display_data",
          "data": {
            "text/plain": [
              "<Figure size 432x288 with 1 Axes>"
            ],
            "image/png": "[encoded data removed]"
          },
          "metadata": {
            "needs_background": "light"
          }
        }
      ]
    },
    {
      "cell_type": "code",
      "source": [
        "y_pred_ann = model.predict_classes(X_test)\n",
        "accuracy_score(y_test,y_pred_ann)"
      ],
      "metadata": {
        "colab": {
          "base_uri": "https://localhost:8080/"
        },
        "id": "ELiW3G_PUX4g",
        "outputId": "b6ea0dab-74dd-4312-8b83-5862ef236d83"
      },
      "execution_count": 40,
      "outputs": [
        {
          "output_type": "stream",
          "name": "stderr",
          "text": [
            "/usr/local/lib/python3.7/dist-packages/tensorflow/python/keras/engine/sequential.py:455: UserWarning: `model.predict_classes()` is deprecated and will be removed after 2021-01-01. Please use instead:* `np.argmax(model.predict(x), axis=-1)`,   if your model does multi-class classification   (e.g. if it uses a `softmax` last-layer activation).* `(model.predict(x) > 0.5).astype(\"int32\")`,   if your model does binary classification   (e.g. if it uses a `sigmoid` last-layer activation).\n",
            "  warnings.warn('`model.predict_classes()` is deprecated and '\n"
          ]
        },
        {
          "output_type": "execute_result",
          "data": {
            "text/plain": [
              "0.9649122807017544"
            ]
          },
          "metadata": {},
          "execution_count": 40
        }
      ]
    },
    {
      "cell_type": "code",
      "source": [
        "rank5  = pd.read_excel(\"/content/cancer_dataset_U.xlsx\",sheet_name = \"PCA\").set_index('Attributes_Names')\n",
        "df_pca  = df_new[rank5[:15].index]\n",
        "X_col =  df_pca\n",
        "y = df_new['diagnosis']\n",
        "Scaler = StandardScaler()\n",
        "X_col =  Scaler.fit_transform(X_col)\n",
        "X_train, X_test, y_train, y_test = train_test_split(X_col, y, test_size=0.2, random_state=0)\n",
        "print(\"Shape of training data\",X_train.shape)\n",
        "print(\"Shape of testing data\",X_test.shape)"
      ],
      "metadata": {
        "colab": {
          "base_uri": "https://localhost:8080/"
        },
        "id": "7UtXqTNyUbEn",
        "outputId": "413d9edf-b19d-4138-f71a-22c02d2f559d"
      },
      "execution_count": 49,
      "outputs": [
        {
          "output_type": "stream",
          "name": "stdout",
          "text": [
            "Shape of training data (455, 15)\n",
            "Shape of testing data (114, 15)\n"
          ]
        }
      ]
    },
    {
      "cell_type": "code",
      "source": [
        "rf =  RandomForestClassifier()\n",
        "rf.fit(X_train,y_train)\n",
        "y_pred_rf =  rf.predict(X_test)\n",
        "accuracy_score(y_test,y_pred_rf)"
      ],
      "metadata": {
        "colab": {
          "base_uri": "https://localhost:8080/"
        },
        "id": "xvVa6EG1UpFI",
        "outputId": "5321246e-1334-451d-ab34-97edda8ae793"
      },
      "execution_count": 50,
      "outputs": [
        {
          "output_type": "execute_result",
          "data": {
            "text/plain": [
              "0.9649122807017544"
            ]
          },
          "metadata": {},
          "execution_count": 50
        }
      ]
    },
    {
      "cell_type": "code",
      "source": [
        "svc =  SVC()\n",
        "svc.fit(X_test,y_test)\n",
        "y_pred_svc =  svc.predict(X_test)\n",
        "accuracy_score(y_test,y_pred_svc)"
      ],
      "metadata": {
        "colab": {
          "base_uri": "https://localhost:8080/"
        },
        "id": "TfJKnB1HUwyg",
        "outputId": "9158aada-7c03-4eca-c1ad-928eeeaf3d2b"
      },
      "execution_count": 51,
      "outputs": [
        {
          "output_type": "execute_result",
          "data": {
            "text/plain": [
              "0.9649122807017544"
            ]
          },
          "metadata": {},
          "execution_count": 51
        }
      ]
    },
    {
      "cell_type": "code",
      "source": [
        "model = tf.keras.Sequential([\n",
        "    tf.keras.layers.Dense(15, activation='relu', input_shape=(15,)),\n",
        "    tf.keras.layers.BatchNormalization(),\n",
        "    tf.keras.layers.Dense(20, activation='relu'),\n",
        "    tf.keras.layers.BatchNormalization(),\n",
        "    tf.keras.layers.Dense(24, activation='relu'),\n",
        "    tf.keras.layers.Dropout(0.5),\n",
        "    tf.keras.layers.BatchNormalization(),\n",
        "    tf.keras.layers.Dense(28, activation='relu'),\n",
        "    tf.keras.layers.Dropout(0.5),\n",
        "    tf.keras.layers.Dense(1,activation='sigmoid')\n",
        "  ])\n",
        "model.compile(loss='binary_crossentropy',\n",
        "              optimizer = 'adam',\n",
        "              metrics=['accuracy'])\n",
        "model.summary()"
      ],
      "metadata": {
        "colab": {
          "base_uri": "https://localhost:8080/"
        },
        "id": "Xv9HTTd9Uz2x",
        "outputId": "49c74561-6049-47ec-a9db-b4a51f68a058"
      },
      "execution_count": 52,
      "outputs": [
        {
          "output_type": "stream",
          "name": "stdout",
          "text": [
            "Model: \"sequential_6\"\n",
            "_________________________________________________________________\n",
            "Layer (type)                 Output Shape              Param #   \n",
            "=================================================================\n",
            "dense_30 (Dense)             (None, 15)                240       \n",
            "_________________________________________________________________\n",
            "batch_normalization_18 (Batc (None, 15)                60        \n",
            "_________________________________________________________________\n",
            "dense_31 (Dense)             (None, 20)                320       \n",
            "_________________________________________________________________\n",
            "batch_normalization_19 (Batc (None, 20)                80        \n",
            "_________________________________________________________________\n",
            "dense_32 (Dense)             (None, 24)                504       \n",
            "_________________________________________________________________\n",
            "dropout_12 (Dropout)         (None, 24)                0         \n",
            "_________________________________________________________________\n",
            "batch_normalization_20 (Batc (None, 24)                96        \n",
            "_________________________________________________________________\n",
            "dense_33 (Dense)             (None, 28)                700       \n",
            "_________________________________________________________________\n",
            "dropout_13 (Dropout)         (None, 28)                0         \n",
            "_________________________________________________________________\n",
            "dense_34 (Dense)             (None, 1)                 29        \n",
            "=================================================================\n",
            "Total params: 2,029\n",
            "Trainable params: 1,911\n",
            "Non-trainable params: 118\n",
            "_________________________________________________________________\n"
          ]
        }
      ]
    },
    {
      "cell_type": "code",
      "source": [
        "h = model.fit(X_train,y_train,epochs=50,validation_data=(X_test,y_test))"
      ],
      "metadata": {
        "colab": {
          "base_uri": "https://localhost:8080/"
        },
        "id": "Lmvfu8P7U5Jw",
        "outputId": "aee68e4d-3dfc-42e3-c0f1-6dd6598f82ed"
      },
      "execution_count": 53,
      "outputs": [
        {
          "output_type": "stream",
          "name": "stdout",
          "text": [
            "Epoch 1/50\n",
            "15/15 [==============================] - 2s 19ms/step - loss: 0.8687 - accuracy: 0.5538 - val_loss: 0.6623 - val_accuracy: 0.6404\n",
            "Epoch 2/50\n",
            "15/15 [==============================] - 0s 4ms/step - loss: 0.7054 - accuracy: 0.6264 - val_loss: 0.6168 - val_accuracy: 0.7544\n",
            "Epoch 3/50\n",
            "15/15 [==============================] - 0s 4ms/step - loss: 0.6459 - accuracy: 0.6615 - val_loss: 0.5648 - val_accuracy: 0.7895\n",
            "Epoch 4/50\n",
            "15/15 [==============================] - 0s 5ms/step - loss: 0.5299 - accuracy: 0.7407 - val_loss: 0.5099 - val_accuracy: 0.8158\n",
            "Epoch 5/50\n",
            "15/15 [==============================] - 0s 5ms/step - loss: 0.4619 - accuracy: 0.7956 - val_loss: 0.4620 - val_accuracy: 0.8333\n",
            "Epoch 6/50\n",
            "15/15 [==============================] - 0s 5ms/step - loss: 0.4346 - accuracy: 0.8066 - val_loss: 0.4191 - val_accuracy: 0.8333\n",
            "Epoch 7/50\n",
            "15/15 [==============================] - 0s 5ms/step - loss: 0.4325 - accuracy: 0.8308 - val_loss: 0.3806 - val_accuracy: 0.8333\n",
            "Epoch 8/50\n",
            "15/15 [==============================] - 0s 4ms/step - loss: 0.3818 - accuracy: 0.8308 - val_loss: 0.3507 - val_accuracy: 0.8509\n",
            "Epoch 9/50\n",
            "15/15 [==============================] - 0s 6ms/step - loss: 0.3391 - accuracy: 0.8637 - val_loss: 0.3226 - val_accuracy: 0.9035\n",
            "Epoch 10/50\n",
            "15/15 [==============================] - 0s 7ms/step - loss: 0.3308 - accuracy: 0.8681 - val_loss: 0.2922 - val_accuracy: 0.9123\n",
            "Epoch 11/50\n",
            "15/15 [==============================] - 0s 7ms/step - loss: 0.3165 - accuracy: 0.8703 - val_loss: 0.2639 - val_accuracy: 0.9298\n",
            "Epoch 12/50\n",
            "15/15 [==============================] - 0s 5ms/step - loss: 0.2832 - accuracy: 0.8813 - val_loss: 0.2391 - val_accuracy: 0.9561\n",
            "Epoch 13/50\n",
            "15/15 [==============================] - 0s 5ms/step - loss: 0.2614 - accuracy: 0.8967 - val_loss: 0.2150 - val_accuracy: 0.9561\n",
            "Epoch 14/50\n",
            "15/15 [==============================] - 0s 6ms/step - loss: 0.2785 - accuracy: 0.9033 - val_loss: 0.1974 - val_accuracy: 0.9561\n",
            "Epoch 15/50\n",
            "15/15 [==============================] - 0s 5ms/step - loss: 0.2565 - accuracy: 0.9077 - val_loss: 0.1794 - val_accuracy: 0.9649\n",
            "Epoch 16/50\n",
            "15/15 [==============================] - 0s 5ms/step - loss: 0.2482 - accuracy: 0.9055 - val_loss: 0.1675 - val_accuracy: 0.9561\n",
            "Epoch 17/50\n",
            "15/15 [==============================] - 0s 5ms/step - loss: 0.2396 - accuracy: 0.9099 - val_loss: 0.1564 - val_accuracy: 0.9474\n",
            "Epoch 18/50\n",
            "15/15 [==============================] - 0s 4ms/step - loss: 0.2307 - accuracy: 0.9187 - val_loss: 0.1478 - val_accuracy: 0.9474\n",
            "Epoch 19/50\n",
            "15/15 [==============================] - 0s 4ms/step - loss: 0.2237 - accuracy: 0.9165 - val_loss: 0.1394 - val_accuracy: 0.9474\n",
            "Epoch 20/50\n",
            "15/15 [==============================] - 0s 5ms/step - loss: 0.2342 - accuracy: 0.9055 - val_loss: 0.1335 - val_accuracy: 0.9474\n",
            "Epoch 21/50\n",
            "15/15 [==============================] - 0s 6ms/step - loss: 0.2176 - accuracy: 0.9363 - val_loss: 0.1307 - val_accuracy: 0.9386\n",
            "Epoch 22/50\n",
            "15/15 [==============================] - 0s 4ms/step - loss: 0.2296 - accuracy: 0.9209 - val_loss: 0.1270 - val_accuracy: 0.9211\n",
            "Epoch 23/50\n",
            "15/15 [==============================] - 0s 4ms/step - loss: 0.2660 - accuracy: 0.9209 - val_loss: 0.1255 - val_accuracy: 0.9386\n",
            "Epoch 24/50\n",
            "15/15 [==============================] - 0s 5ms/step - loss: 0.1896 - accuracy: 0.9385 - val_loss: 0.1259 - val_accuracy: 0.9386\n",
            "Epoch 25/50\n",
            "15/15 [==============================] - 0s 4ms/step - loss: 0.1935 - accuracy: 0.9319 - val_loss: 0.1251 - val_accuracy: 0.9386\n",
            "Epoch 26/50\n",
            "15/15 [==============================] - 0s 6ms/step - loss: 0.1998 - accuracy: 0.9297 - val_loss: 0.1253 - val_accuracy: 0.9386\n",
            "Epoch 27/50\n",
            "15/15 [==============================] - 0s 6ms/step - loss: 0.2103 - accuracy: 0.9165 - val_loss: 0.1187 - val_accuracy: 0.9386\n",
            "Epoch 28/50\n",
            "15/15 [==============================] - 0s 5ms/step - loss: 0.1714 - accuracy: 0.9385 - val_loss: 0.1178 - val_accuracy: 0.9386\n",
            "Epoch 29/50\n",
            "15/15 [==============================] - 0s 6ms/step - loss: 0.1972 - accuracy: 0.9275 - val_loss: 0.1177 - val_accuracy: 0.9386\n",
            "Epoch 30/50\n",
            "15/15 [==============================] - 0s 6ms/step - loss: 0.1514 - accuracy: 0.9473 - val_loss: 0.1171 - val_accuracy: 0.9386\n",
            "Epoch 31/50\n",
            "15/15 [==============================] - 0s 5ms/step - loss: 0.1698 - accuracy: 0.9363 - val_loss: 0.1088 - val_accuracy: 0.9474\n",
            "Epoch 32/50\n",
            "15/15 [==============================] - 0s 6ms/step - loss: 0.1670 - accuracy: 0.9363 - val_loss: 0.1065 - val_accuracy: 0.9474\n",
            "Epoch 33/50\n",
            "15/15 [==============================] - 0s 7ms/step - loss: 0.1794 - accuracy: 0.9253 - val_loss: 0.1090 - val_accuracy: 0.9474\n",
            "Epoch 34/50\n",
            "15/15 [==============================] - 0s 5ms/step - loss: 0.1817 - accuracy: 0.9407 - val_loss: 0.1090 - val_accuracy: 0.9386\n",
            "Epoch 35/50\n",
            "15/15 [==============================] - 0s 6ms/step - loss: 0.1588 - accuracy: 0.9407 - val_loss: 0.1085 - val_accuracy: 0.9474\n",
            "Epoch 36/50\n",
            "15/15 [==============================] - 0s 5ms/step - loss: 0.1612 - accuracy: 0.9451 - val_loss: 0.1125 - val_accuracy: 0.9298\n",
            "Epoch 37/50\n",
            "15/15 [==============================] - 0s 5ms/step - loss: 0.1508 - accuracy: 0.9538 - val_loss: 0.1103 - val_accuracy: 0.9386\n",
            "Epoch 38/50\n",
            "15/15 [==============================] - 0s 5ms/step - loss: 0.1551 - accuracy: 0.9429 - val_loss: 0.1077 - val_accuracy: 0.9386\n",
            "Epoch 39/50\n",
            "15/15 [==============================] - 0s 4ms/step - loss: 0.1725 - accuracy: 0.9473 - val_loss: 0.1021 - val_accuracy: 0.9386\n",
            "Epoch 40/50\n",
            "15/15 [==============================] - 0s 5ms/step - loss: 0.2001 - accuracy: 0.9429 - val_loss: 0.0957 - val_accuracy: 0.9649\n",
            "Epoch 41/50\n",
            "15/15 [==============================] - 0s 4ms/step - loss: 0.1389 - accuracy: 0.9473 - val_loss: 0.0954 - val_accuracy: 0.9649\n",
            "Epoch 42/50\n",
            "15/15 [==============================] - 0s 4ms/step - loss: 0.1696 - accuracy: 0.9516 - val_loss: 0.0972 - val_accuracy: 0.9737\n",
            "Epoch 43/50\n",
            "15/15 [==============================] - 0s 6ms/step - loss: 0.1851 - accuracy: 0.9341 - val_loss: 0.0984 - val_accuracy: 0.9649\n",
            "Epoch 44/50\n",
            "15/15 [==============================] - 0s 5ms/step - loss: 0.1667 - accuracy: 0.9385 - val_loss: 0.0955 - val_accuracy: 0.9649\n",
            "Epoch 45/50\n",
            "15/15 [==============================] - 0s 5ms/step - loss: 0.1400 - accuracy: 0.9560 - val_loss: 0.0951 - val_accuracy: 0.9649\n",
            "Epoch 46/50\n",
            "15/15 [==============================] - 0s 6ms/step - loss: 0.1394 - accuracy: 0.9582 - val_loss: 0.0969 - val_accuracy: 0.9561\n",
            "Epoch 47/50\n",
            "15/15 [==============================] - 0s 6ms/step - loss: 0.1240 - accuracy: 0.9692 - val_loss: 0.0966 - val_accuracy: 0.9561\n",
            "Epoch 48/50\n",
            "15/15 [==============================] - 0s 5ms/step - loss: 0.1437 - accuracy: 0.9604 - val_loss: 0.0992 - val_accuracy: 0.9561\n",
            "Epoch 49/50\n",
            "15/15 [==============================] - 0s 4ms/step - loss: 0.1502 - accuracy: 0.9516 - val_loss: 0.1008 - val_accuracy: 0.9649\n",
            "Epoch 50/50\n",
            "15/15 [==============================] - 0s 6ms/step - loss: 0.1155 - accuracy: 0.9538 - val_loss: 0.1011 - val_accuracy: 0.9561\n"
          ]
        }
      ]
    },
    {
      "cell_type": "code",
      "source": [
        "plt.plot(h.history['accuracy'], label = 'Accuracy for Train set')\n",
        "plt.plot(h.history['val_accuracy'], label = 'Accuracy for Test Set')\n",
        "plt.title('Accuracy Graph for ANN')\n",
        "plt.ylabel('Accuracy')\n",
        "plt.xlabel('epochs')\n",
        "plt.legend()"
      ],
      "metadata": {
        "colab": {
          "base_uri": "https://localhost:8080/",
          "height": 312
        },
        "id": "P8ha2JpYU7gw",
        "outputId": "24758ccc-2ffa-482f-f976-2093dff0d512"
      },
      "execution_count": 54,
      "outputs": [
        {
          "output_type": "execute_result",
          "data": {
            "text/plain": [
              "<matplotlib.legend.Legend at 0x7fc228157810>"
            ]
          },
          "metadata": {},
          "execution_count": 54
        },
        {
          "output_type": "display_data",
          "data": {
            "text/plain": [
              "<Figure size 432x288 with 1 Axes>"
            ],
            "image/png": "[encoded data removed]"
          },
          "metadata": {
            "needs_background": "light"
          }
        }
      ]
    },
    {
      "cell_type": "code",
      "source": [
        "plt.plot(h.history['loss'], label = 'loss for Train set')\n",
        "plt.plot(h.history['val_loss'], label = 'loss for Test Set')\n",
        "plt.title('loss Graph for ANN')\n",
        "plt.ylabel('loss')\n",
        "plt.xlabel('epochs')\n",
        "plt.legend()"
      ],
      "metadata": {
        "colab": {
          "base_uri": "https://localhost:8080/",
          "height": 312
        },
        "id": "M80lhS2mVwmS",
        "outputId": "9fa7c0c1-0893-4cef-8fc3-219db67e4a86"
      },
      "execution_count": 55,
      "outputs": [
        {
          "output_type": "execute_result",
          "data": {
            "text/plain": [
              "<matplotlib.legend.Legend at 0x7fc2280ba210>"
            ]
          },
          "metadata": {},
          "execution_count": 55
        },
        {
          "output_type": "display_data",
          "data": {
            "text/plain": [
              "<Figure size 432x288 with 1 Axes>"
            ],
            "image/png": "[encoded data removed]"
          },
          "metadata": {
            "needs_background": "light"
          }
        }
      ]
    },
    {
      "cell_type": "code",
      "source": [
        "y_pred_ann = model.predict_classes(X_test)\n",
        "accuracy_score(y_test,y_pred_ann)"
      ],
      "metadata": {
        "colab": {
          "base_uri": "https://localhost:8080/"
        },
        "id": "XjLVVRocVxlb",
        "outputId": "1a04261b-5b2d-4c63-bfea-c0fd357a5d12"
      },
      "execution_count": 56,
      "outputs": [
        {
          "output_type": "stream",
          "name": "stderr",
          "text": [
            "/usr/local/lib/python3.7/dist-packages/tensorflow/python/keras/engine/sequential.py:455: UserWarning: `model.predict_classes()` is deprecated and will be removed after 2021-01-01. Please use instead:* `np.argmax(model.predict(x), axis=-1)`,   if your model does multi-class classification   (e.g. if it uses a `softmax` last-layer activation).* `(model.predict(x) > 0.5).astype(\"int32\")`,   if your model does binary classification   (e.g. if it uses a `sigmoid` last-layer activation).\n",
            "  warnings.warn('`model.predict_classes()` is deprecated and '\n"
          ]
        },
        {
          "output_type": "execute_result",
          "data": {
            "text/plain": [
              "0.956140350877193"
            ]
          },
          "metadata": {},
          "execution_count": 56
        }
      ]
    },
    {
      "cell_type": "code",
      "source": [
        "rank6  = pd.read_excel(\"/content/cancer_dataset_U.xlsx\",sheet_name = \"F_test\").set_index('Attributes_Names')\n",
        "df_f_test  = df_new[rank6[:15].index]\n",
        "X_col =  df_f_test\n",
        "y = df_new['diagnosis']\n",
        "Scaler = StandardScaler()\n",
        "X_col =  Scaler.fit_transform(X_col)\n",
        "X_train, X_test, y_train, y_test = train_test_split(X_col, y, test_size=0.2, random_state=0)\n",
        "print(\"Shape of training data\",X_train.shape)\n",
        "print(\"Shape of testing data\",X_test.shape)"
      ],
      "metadata": {
        "colab": {
          "base_uri": "https://localhost:8080/"
        },
        "id": "cVzdyN8fV1NK",
        "outputId": "dd9a79f9-5370-4cfe-b460-6357b48c6b75"
      },
      "execution_count": 57,
      "outputs": [
        {
          "output_type": "stream",
          "name": "stdout",
          "text": [
            "Shape of training data (455, 15)\n",
            "Shape of testing data (114, 15)\n"
          ]
        }
      ]
    },
    {
      "cell_type": "code",
      "source": [
        "rf =  RandomForestClassifier()\n",
        "rf.fit(X_train,y_train)\n",
        "y_pred_rf =  rf.predict(X_test)\n",
        "accuracy_score(y_test,y_pred_rf)"
      ],
      "metadata": {
        "colab": {
          "base_uri": "https://localhost:8080/"
        },
        "id": "qycNl0SHWCR_",
        "outputId": "3e298b85-495f-4fee-83c6-40412c143f49"
      },
      "execution_count": 58,
      "outputs": [
        {
          "output_type": "execute_result",
          "data": {
            "text/plain": [
              "0.9473684210526315"
            ]
          },
          "metadata": {},
          "execution_count": 58
        }
      ]
    },
    {
      "cell_type": "code",
      "source": [
        "svc =  SVC()\n",
        "svc.fit(X_test,y_test)\n",
        "y_pred_svc =  svc.predict(X_test)\n",
        "accuracy_score(y_test,y_pred_svc)"
      ],
      "metadata": {
        "colab": {
          "base_uri": "https://localhost:8080/"
        },
        "id": "vbih4imHWHfl",
        "outputId": "2f3abe08-210c-4900-d094-c5c7a6c68df3"
      },
      "execution_count": 59,
      "outputs": [
        {
          "output_type": "execute_result",
          "data": {
            "text/plain": [
              "0.9385964912280702"
            ]
          },
          "metadata": {},
          "execution_count": 59
        }
      ]
    },
    {
      "cell_type": "code",
      "source": [
        "model = tf.keras.Sequential([\n",
        "    tf.keras.layers.Dense(15, activation='relu', input_shape=(15,)),\n",
        "    tf.keras.layers.BatchNormalization(),\n",
        "    tf.keras.layers.Dense(20, activation='relu'),\n",
        "    tf.keras.layers.BatchNormalization(),\n",
        "    tf.keras.layers.Dense(24, activation='relu'),\n",
        "    tf.keras.layers.Dropout(0.5),\n",
        "    tf.keras.layers.BatchNormalization(),\n",
        "    tf.keras.layers.Dense(28, activation='relu'),\n",
        "    tf.keras.layers.Dropout(0.5),\n",
        "    tf.keras.layers.Dense(1,activation='sigmoid')\n",
        "  ])\n",
        "model.compile(loss='binary_crossentropy',\n",
        "              optimizer = 'adam',\n",
        "              metrics=['accuracy'])\n",
        "model.summary()"
      ],
      "metadata": {
        "colab": {
          "base_uri": "https://localhost:8080/"
        },
        "id": "vFatN0KhWJr1",
        "outputId": "0a862f74-f1cd-4d7b-ef3b-18df2952e21a"
      },
      "execution_count": 60,
      "outputs": [
        {
          "output_type": "stream",
          "name": "stdout",
          "text": [
            "Model: \"sequential_7\"\n",
            "_________________________________________________________________\n",
            "Layer (type)                 Output Shape              Param #   \n",
            "=================================================================\n",
            "dense_35 (Dense)             (None, 15)                240       \n",
            "_________________________________________________________________\n",
            "batch_normalization_21 (Batc (None, 15)                60        \n",
            "_________________________________________________________________\n",
            "dense_36 (Dense)             (None, 20)                320       \n",
            "_________________________________________________________________\n",
            "batch_normalization_22 (Batc (None, 20)                80        \n",
            "_________________________________________________________________\n",
            "dense_37 (Dense)             (None, 24)                504       \n",
            "_________________________________________________________________\n",
            "dropout_14 (Dropout)         (None, 24)                0         \n",
            "_________________________________________________________________\n",
            "batch_normalization_23 (Batc (None, 24)                96        \n",
            "_________________________________________________________________\n",
            "dense_38 (Dense)             (None, 28)                700       \n",
            "_________________________________________________________________\n",
            "dropout_15 (Dropout)         (None, 28)                0         \n",
            "_________________________________________________________________\n",
            "dense_39 (Dense)             (None, 1)                 29        \n",
            "=================================================================\n",
            "Total params: 2,029\n",
            "Trainable params: 1,911\n",
            "Non-trainable params: 118\n",
            "_________________________________________________________________\n"
          ]
        }
      ]
    },
    {
      "cell_type": "code",
      "source": [
        "h = model.fit(X_train,y_train,epochs=50,validation_data=(X_test,y_test))"
      ],
      "metadata": {
        "colab": {
          "base_uri": "https://localhost:8080/"
        },
        "id": "fGeE_CR8WSNG",
        "outputId": "357b84a3-5c9f-4c63-e73c-be6c81138c13"
      },
      "execution_count": 61,
      "outputs": [
        {
          "output_type": "stream",
          "name": "stdout",
          "text": [
            "Epoch 1/50\n",
            "15/15 [==============================] - 3s 34ms/step - loss: 0.8808 - accuracy: 0.4791 - val_loss: 0.6692 - val_accuracy: 0.5526\n",
            "Epoch 2/50\n",
            "15/15 [==============================] - 0s 7ms/step - loss: 0.6636 - accuracy: 0.5780 - val_loss: 0.6148 - val_accuracy: 0.8246\n",
            "Epoch 3/50\n",
            "15/15 [==============================] - 0s 10ms/step - loss: 0.6267 - accuracy: 0.6220 - val_loss: 0.5745 - val_accuracy: 0.8596\n",
            "Epoch 4/50\n",
            "15/15 [==============================] - 0s 9ms/step - loss: 0.5368 - accuracy: 0.7121 - val_loss: 0.5323 - val_accuracy: 0.8772\n",
            "Epoch 5/50\n",
            "15/15 [==============================] - 0s 9ms/step - loss: 0.5165 - accuracy: 0.7473 - val_loss: 0.4954 - val_accuracy: 0.9035\n",
            "Epoch 6/50\n",
            "15/15 [==============================] - 0s 9ms/step - loss: 0.4681 - accuracy: 0.8000 - val_loss: 0.4610 - val_accuracy: 0.9123\n",
            "Epoch 7/50\n",
            "15/15 [==============================] - 0s 12ms/step - loss: 0.4543 - accuracy: 0.8088 - val_loss: 0.4231 - val_accuracy: 0.9123\n",
            "Epoch 8/50\n",
            "15/15 [==============================] - 0s 12ms/step - loss: 0.4356 - accuracy: 0.8286 - val_loss: 0.3861 - val_accuracy: 0.9123\n",
            "Epoch 9/50\n",
            "15/15 [==============================] - 0s 9ms/step - loss: 0.4061 - accuracy: 0.8352 - val_loss: 0.3538 - val_accuracy: 0.9035\n",
            "Epoch 10/50\n",
            "15/15 [==============================] - 0s 12ms/step - loss: 0.3345 - accuracy: 0.8857 - val_loss: 0.3257 - val_accuracy: 0.9035\n",
            "Epoch 11/50\n",
            "15/15 [==============================] - 0s 11ms/step - loss: 0.3729 - accuracy: 0.8505 - val_loss: 0.2970 - val_accuracy: 0.9035\n",
            "Epoch 12/50\n",
            "15/15 [==============================] - 0s 10ms/step - loss: 0.3185 - accuracy: 0.8835 - val_loss: 0.2751 - val_accuracy: 0.9123\n",
            "Epoch 13/50\n",
            "15/15 [==============================] - 0s 9ms/step - loss: 0.3064 - accuracy: 0.8791 - val_loss: 0.2580 - val_accuracy: 0.9123\n",
            "Epoch 14/50\n",
            "15/15 [==============================] - 0s 9ms/step - loss: 0.2826 - accuracy: 0.8923 - val_loss: 0.2404 - val_accuracy: 0.9123\n",
            "Epoch 15/50\n",
            "15/15 [==============================] - 0s 9ms/step - loss: 0.2712 - accuracy: 0.9121 - val_loss: 0.2247 - val_accuracy: 0.9211\n",
            "Epoch 16/50\n",
            "15/15 [==============================] - 0s 9ms/step - loss: 0.2899 - accuracy: 0.9077 - val_loss: 0.2118 - val_accuracy: 0.9211\n",
            "Epoch 17/50\n",
            "15/15 [==============================] - 0s 10ms/step - loss: 0.2393 - accuracy: 0.9231 - val_loss: 0.2007 - val_accuracy: 0.9211\n",
            "Epoch 18/50\n",
            "15/15 [==============================] - 0s 7ms/step - loss: 0.2596 - accuracy: 0.9077 - val_loss: 0.1954 - val_accuracy: 0.9211\n",
            "Epoch 19/50\n",
            "15/15 [==============================] - 0s 9ms/step - loss: 0.2324 - accuracy: 0.9209 - val_loss: 0.1873 - val_accuracy: 0.9211\n",
            "Epoch 20/50\n",
            "15/15 [==============================] - 0s 8ms/step - loss: 0.2373 - accuracy: 0.9143 - val_loss: 0.1828 - val_accuracy: 0.9211\n",
            "Epoch 21/50\n",
            "15/15 [==============================] - 0s 8ms/step - loss: 0.2292 - accuracy: 0.9121 - val_loss: 0.1785 - val_accuracy: 0.9123\n",
            "Epoch 22/50\n",
            "15/15 [==============================] - 0s 8ms/step - loss: 0.2196 - accuracy: 0.9209 - val_loss: 0.1738 - val_accuracy: 0.9211\n",
            "Epoch 23/50\n",
            "15/15 [==============================] - 0s 9ms/step - loss: 0.2214 - accuracy: 0.9275 - val_loss: 0.1696 - val_accuracy: 0.9211\n",
            "Epoch 24/50\n",
            "15/15 [==============================] - 0s 11ms/step - loss: 0.2203 - accuracy: 0.9121 - val_loss: 0.1676 - val_accuracy: 0.9211\n",
            "Epoch 25/50\n",
            "15/15 [==============================] - 0s 9ms/step - loss: 0.2244 - accuracy: 0.9275 - val_loss: 0.1639 - val_accuracy: 0.9298\n",
            "Epoch 26/50\n",
            "15/15 [==============================] - 0s 12ms/step - loss: 0.2162 - accuracy: 0.9143 - val_loss: 0.1604 - val_accuracy: 0.9298\n",
            "Epoch 27/50\n",
            "15/15 [==============================] - 0s 9ms/step - loss: 0.2202 - accuracy: 0.9275 - val_loss: 0.1627 - val_accuracy: 0.9298\n",
            "Epoch 28/50\n",
            "15/15 [==============================] - 0s 9ms/step - loss: 0.1971 - accuracy: 0.9275 - val_loss: 0.1643 - val_accuracy: 0.9298\n",
            "Epoch 29/50\n",
            "15/15 [==============================] - 0s 9ms/step - loss: 0.2080 - accuracy: 0.9275 - val_loss: 0.1612 - val_accuracy: 0.9298\n",
            "Epoch 30/50\n",
            "15/15 [==============================] - 0s 9ms/step - loss: 0.1698 - accuracy: 0.9363 - val_loss: 0.1560 - val_accuracy: 0.9298\n",
            "Epoch 31/50\n",
            "15/15 [==============================] - 0s 10ms/step - loss: 0.1889 - accuracy: 0.9275 - val_loss: 0.1538 - val_accuracy: 0.9298\n",
            "Epoch 32/50\n",
            "15/15 [==============================] - 0s 9ms/step - loss: 0.1982 - accuracy: 0.9319 - val_loss: 0.1523 - val_accuracy: 0.9298\n",
            "Epoch 33/50\n",
            "15/15 [==============================] - 0s 8ms/step - loss: 0.2131 - accuracy: 0.9363 - val_loss: 0.1569 - val_accuracy: 0.9298\n",
            "Epoch 34/50\n",
            "15/15 [==============================] - 0s 9ms/step - loss: 0.1933 - accuracy: 0.9209 - val_loss: 0.1581 - val_accuracy: 0.9298\n",
            "Epoch 35/50\n",
            "15/15 [==============================] - 0s 9ms/step - loss: 0.1765 - accuracy: 0.9473 - val_loss: 0.1514 - val_accuracy: 0.9298\n",
            "Epoch 36/50\n",
            "15/15 [==============================] - 0s 9ms/step - loss: 0.2129 - accuracy: 0.9187 - val_loss: 0.1479 - val_accuracy: 0.9298\n",
            "Epoch 37/50\n",
            "15/15 [==============================] - 0s 10ms/step - loss: 0.2196 - accuracy: 0.9319 - val_loss: 0.1432 - val_accuracy: 0.9386\n",
            "Epoch 38/50\n",
            "15/15 [==============================] - 0s 9ms/step - loss: 0.2198 - accuracy: 0.9275 - val_loss: 0.1412 - val_accuracy: 0.9386\n",
            "Epoch 39/50\n",
            "15/15 [==============================] - 0s 9ms/step - loss: 0.1760 - accuracy: 0.9363 - val_loss: 0.1401 - val_accuracy: 0.9386\n",
            "Epoch 40/50\n",
            "15/15 [==============================] - 0s 9ms/step - loss: 0.1891 - accuracy: 0.9363 - val_loss: 0.1379 - val_accuracy: 0.9386\n",
            "Epoch 41/50\n",
            "15/15 [==============================] - 0s 9ms/step - loss: 0.1726 - accuracy: 0.9407 - val_loss: 0.1348 - val_accuracy: 0.9386\n",
            "Epoch 42/50\n",
            "15/15 [==============================] - 0s 10ms/step - loss: 0.1670 - accuracy: 0.9516 - val_loss: 0.1366 - val_accuracy: 0.9386\n",
            "Epoch 43/50\n",
            "15/15 [==============================] - 0s 8ms/step - loss: 0.1513 - accuracy: 0.9473 - val_loss: 0.1362 - val_accuracy: 0.9386\n",
            "Epoch 44/50\n",
            "15/15 [==============================] - 0s 9ms/step - loss: 0.1930 - accuracy: 0.9275 - val_loss: 0.1444 - val_accuracy: 0.9298\n",
            "Epoch 45/50\n",
            "15/15 [==============================] - 0s 12ms/step - loss: 0.1618 - accuracy: 0.9385 - val_loss: 0.1449 - val_accuracy: 0.9298\n",
            "Epoch 46/50\n",
            "15/15 [==============================] - 0s 11ms/step - loss: 0.1561 - accuracy: 0.9385 - val_loss: 0.1520 - val_accuracy: 0.9298\n",
            "Epoch 47/50\n",
            "15/15 [==============================] - 0s 8ms/step - loss: 0.1878 - accuracy: 0.9495 - val_loss: 0.1464 - val_accuracy: 0.9298\n",
            "Epoch 48/50\n",
            "15/15 [==============================] - 0s 8ms/step - loss: 0.1519 - accuracy: 0.9516 - val_loss: 0.1389 - val_accuracy: 0.9298\n",
            "Epoch 49/50\n",
            "15/15 [==============================] - 0s 8ms/step - loss: 0.1660 - accuracy: 0.9341 - val_loss: 0.1333 - val_accuracy: 0.9474\n",
            "Epoch 50/50\n",
            "15/15 [==============================] - 0s 9ms/step - loss: 0.1723 - accuracy: 0.9495 - val_loss: 0.1348 - val_accuracy: 0.9386\n"
          ]
        }
      ]
    },
    {
      "cell_type": "code",
      "source": [
        "plt.plot(h.history['accuracy'], label = 'Accuracy for Train set')\n",
        "plt.plot(h.history['val_accuracy'], label = 'Accuracy for Test Set')\n",
        "plt.title('Accuracy Graph for ANN')\n",
        "plt.ylabel('Accuracy')\n",
        "plt.xlabel('epochs')\n",
        "plt.legend()"
      ],
      "metadata": {
        "colab": {
          "base_uri": "https://localhost:8080/",
          "height": 312
        },
        "id": "jdcB3eTYWVgV",
        "outputId": "303c2f47-5e33-4c0e-ea2d-36337033b462"
      },
      "execution_count": 62,
      "outputs": [
        {
          "output_type": "execute_result",
          "data": {
            "text/plain": [
              "<matplotlib.legend.Legend at 0x7fc2266c3850>"
            ]
          },
          "metadata": {},
          "execution_count": 62
        },
        {
          "output_type": "display_data",
          "data": {
            "text/plain": [
              "<Figure size 432x288 with 1 Axes>"
            ],
            "image/png": "[encoded data removed]"
          },
          "metadata": {
            "needs_background": "light"
          }
        }
      ]
    },
    {
      "cell_type": "code",
      "source": [
        "plt.plot(h.history['loss'], label = 'loss for Train set')\n",
        "plt.plot(h.history['val_loss'], label = 'loss for Test Set')\n",
        "plt.title('loss Graph for ANN')\n",
        "plt.ylabel('loss')\n",
        "plt.xlabel('epochs')\n",
        "plt.legend()"
      ],
      "metadata": {
        "colab": {
          "base_uri": "https://localhost:8080/",
          "height": 312
        },
        "id": "wIYjx4Z4WcLd",
        "outputId": "f5f7fcb6-8992-49f9-93e0-855d845705ed"
      },
      "execution_count": 63,
      "outputs": [
        {
          "output_type": "execute_result",
          "data": {
            "text/plain": [
              "<matplotlib.legend.Legend at 0x7fc22a4e2d10>"
            ]
          },
          "metadata": {},
          "execution_count": 63
        },
        {
          "output_type": "display_data",
          "data": {
            "text/plain": [
              "<Figure size 432x288 with 1 Axes>"
            ],
            "image/png": "[encoded data removed]"
          },
          "metadata": {
            "needs_background": "light"
          }
        }
      ]
    },
    {
      "cell_type": "code",
      "source": [
        "y_pred_ann = model.predict_classes(X_test)\n",
        "accuracy_score(y_test,y_pred_ann)"
      ],
      "metadata": {
        "colab": {
          "base_uri": "https://localhost:8080/"
        },
        "id": "PwP9gWzBWc1V",
        "outputId": "bcd1237f-3fe5-4c58-92a5-06042ad011b7"
      },
      "execution_count": 64,
      "outputs": [
        {
          "output_type": "stream",
          "name": "stderr",
          "text": [
            "/usr/local/lib/python3.7/dist-packages/tensorflow/python/keras/engine/sequential.py:455: UserWarning: `model.predict_classes()` is deprecated and will be removed after 2021-01-01. Please use instead:* `np.argmax(model.predict(x), axis=-1)`,   if your model does multi-class classification   (e.g. if it uses a `softmax` last-layer activation).* `(model.predict(x) > 0.5).astype(\"int32\")`,   if your model does binary classification   (e.g. if it uses a `sigmoid` last-layer activation).\n",
            "  warnings.warn('`model.predict_classes()` is deprecated and '\n"
          ]
        },
        {
          "output_type": "execute_result",
          "data": {
            "text/plain": [
              "0.9385964912280702"
            ]
          },
          "metadata": {},
          "execution_count": 64
        }
      ]
    },
    {
      "cell_type": "code",
      "source": [
        "rank7  = pd.read_excel(\"/content/cancer_dataset_U.xlsx\",sheet_name = \"mutual_info\").set_index('Attributes_Names')\n",
        "df_mutual = df_new[rank7[:15].index]\n",
        "X_col =  df_mutual\n",
        "y = df_new['diagnosis']\n",
        "Scaler = StandardScaler()\n",
        "X_col =  Scaler.fit_transform(X_col)\n",
        "X_train, X_test, y_train, y_test = train_test_split(X_col, y, test_size=0.2, random_state=0)\n",
        "print(\"Shape of training data\",X_train.shape)\n",
        "print(\"Shape of testing data\",X_test.shape)"
      ],
      "metadata": {
        "colab": {
          "base_uri": "https://localhost:8080/"
        },
        "id": "NrVciHGzWfui",
        "outputId": "fa6fecd2-df36-4c12-b41e-1ca6dbe28623"
      },
      "execution_count": 66,
      "outputs": [
        {
          "output_type": "stream",
          "name": "stdout",
          "text": [
            "Shape of training data (455, 15)\n",
            "Shape of testing data (114, 15)\n"
          ]
        }
      ]
    },
    {
      "cell_type": "code",
      "source": [
        "rf =  RandomForestClassifier()\n",
        "rf.fit(X_train,y_train)\n",
        "y_pred_rf =  rf.predict(X_test)\n",
        "accuracy_score(y_test,y_pred_rf)"
      ],
      "metadata": {
        "colab": {
          "base_uri": "https://localhost:8080/"
        },
        "id": "hKLJj3VLWsBe",
        "outputId": "0934771a-cbdd-4895-fbfe-454f936147c4"
      },
      "execution_count": 67,
      "outputs": [
        {
          "output_type": "execute_result",
          "data": {
            "text/plain": [
              "0.9473684210526315"
            ]
          },
          "metadata": {},
          "execution_count": 67
        }
      ]
    },
    {
      "cell_type": "code",
      "source": [
        "svc =  SVC()\n",
        "svc.fit(X_test,y_test)\n",
        "y_pred_svc =  svc.predict(X_test)\n",
        "accuracy_score(y_test,y_pred_svc)"
      ],
      "metadata": {
        "colab": {
          "base_uri": "https://localhost:8080/"
        },
        "id": "dKhOgF_IWyWy",
        "outputId": "6476f70e-9fd5-4388-bca3-be8df67772fb"
      },
      "execution_count": 68,
      "outputs": [
        {
          "output_type": "execute_result",
          "data": {
            "text/plain": [
              "0.9385964912280702"
            ]
          },
          "metadata": {},
          "execution_count": 68
        }
      ]
    },
    {
      "cell_type": "code",
      "source": [
        "model = tf.keras.Sequential([\n",
        "    tf.keras.layers.Dense(15, activation='relu', input_shape=(15,)),\n",
        "    tf.keras.layers.BatchNormalization(),\n",
        "    tf.keras.layers.Dense(20, activation='relu'),\n",
        "    tf.keras.layers.BatchNormalization(),\n",
        "    tf.keras.layers.Dense(24, activation='relu'),\n",
        "    tf.keras.layers.Dropout(0.5),\n",
        "    tf.keras.layers.BatchNormalization(),\n",
        "    tf.keras.layers.Dense(28, activation='relu'),\n",
        "    tf.keras.layers.Dropout(0.5),\n",
        "    tf.keras.layers.Dense(1,activation='sigmoid')\n",
        "  ])\n",
        "model.compile(loss='binary_crossentropy',\n",
        "              optimizer = 'adam',\n",
        "              metrics=['accuracy'])\n",
        "model.summary()"
      ],
      "metadata": {
        "colab": {
          "base_uri": "https://localhost:8080/"
        },
        "id": "qH0MPiIMW1qo",
        "outputId": "4788cb77-e64a-4bbf-8542-b066e6b8631e"
      },
      "execution_count": 69,
      "outputs": [
        {
          "output_type": "stream",
          "name": "stdout",
          "text": [
            "Model: \"sequential_8\"\n",
            "_________________________________________________________________\n",
            "Layer (type)                 Output Shape              Param #   \n",
            "=================================================================\n",
            "dense_40 (Dense)             (None, 15)                240       \n",
            "_________________________________________________________________\n",
            "batch_normalization_24 (Batc (None, 15)                60        \n",
            "_________________________________________________________________\n",
            "dense_41 (Dense)             (None, 20)                320       \n",
            "_________________________________________________________________\n",
            "batch_normalization_25 (Batc (None, 20)                80        \n",
            "_________________________________________________________________\n",
            "dense_42 (Dense)             (None, 24)                504       \n",
            "_________________________________________________________________\n",
            "dropout_16 (Dropout)         (None, 24)                0         \n",
            "_________________________________________________________________\n",
            "batch_normalization_26 (Batc (None, 24)                96        \n",
            "_________________________________________________________________\n",
            "dense_43 (Dense)             (None, 28)                700       \n",
            "_________________________________________________________________\n",
            "dropout_17 (Dropout)         (None, 28)                0         \n",
            "_________________________________________________________________\n",
            "dense_44 (Dense)             (None, 1)                 29        \n",
            "=================================================================\n",
            "Total params: 2,029\n",
            "Trainable params: 1,911\n",
            "Non-trainable params: 118\n",
            "_________________________________________________________________\n"
          ]
        }
      ]
    },
    {
      "cell_type": "code",
      "source": [
        "h = model.fit(X_train,y_train,epochs=50,validation_data=(X_test,y_test))"
      ],
      "metadata": {
        "colab": {
          "base_uri": "https://localhost:8080/"
        },
        "id": "HxJZS2g7W6Re",
        "outputId": "44ced5e4-bd9d-440b-9c05-26e23d2f6ccb"
      },
      "execution_count": 70,
      "outputs": [
        {
          "output_type": "stream",
          "name": "stdout",
          "text": [
            "Epoch 1/50\n",
            "15/15 [==============================] - 3s 37ms/step - loss: 0.8237 - accuracy: 0.4923 - val_loss: 0.6826 - val_accuracy: 0.6316\n",
            "Epoch 2/50\n",
            "15/15 [==============================] - 0s 10ms/step - loss: 0.7081 - accuracy: 0.6132 - val_loss: 0.6367 - val_accuracy: 0.8070\n",
            "Epoch 3/50\n",
            "15/15 [==============================] - 0s 10ms/step - loss: 0.5798 - accuracy: 0.6813 - val_loss: 0.5987 - val_accuracy: 0.8333\n",
            "Epoch 4/50\n",
            "15/15 [==============================] - 0s 10ms/step - loss: 0.5838 - accuracy: 0.7033 - val_loss: 0.5580 - val_accuracy: 0.8596\n",
            "Epoch 5/50\n",
            "15/15 [==============================] - 0s 9ms/step - loss: 0.5112 - accuracy: 0.7670 - val_loss: 0.5124 - val_accuracy: 0.8509\n",
            "Epoch 6/50\n",
            "15/15 [==============================] - 0s 10ms/step - loss: 0.4573 - accuracy: 0.7890 - val_loss: 0.4644 - val_accuracy: 0.8596\n",
            "Epoch 7/50\n",
            "15/15 [==============================] - 0s 9ms/step - loss: 0.4411 - accuracy: 0.8264 - val_loss: 0.4181 - val_accuracy: 0.8596\n",
            "Epoch 8/50\n",
            "15/15 [==============================] - 0s 8ms/step - loss: 0.3680 - accuracy: 0.8571 - val_loss: 0.3768 - val_accuracy: 0.8772\n",
            "Epoch 9/50\n",
            "15/15 [==============================] - 0s 8ms/step - loss: 0.3736 - accuracy: 0.8505 - val_loss: 0.3440 - val_accuracy: 0.8860\n",
            "Epoch 10/50\n",
            "15/15 [==============================] - 0s 8ms/step - loss: 0.3598 - accuracy: 0.8769 - val_loss: 0.3089 - val_accuracy: 0.8860\n",
            "Epoch 11/50\n",
            "15/15 [==============================] - 0s 8ms/step - loss: 0.3095 - accuracy: 0.8857 - val_loss: 0.2837 - val_accuracy: 0.9035\n",
            "Epoch 12/50\n",
            "15/15 [==============================] - 0s 8ms/step - loss: 0.3086 - accuracy: 0.8791 - val_loss: 0.2588 - val_accuracy: 0.9211\n",
            "Epoch 13/50\n",
            "15/15 [==============================] - 0s 9ms/step - loss: 0.2805 - accuracy: 0.8835 - val_loss: 0.2381 - val_accuracy: 0.9211\n",
            "Epoch 14/50\n",
            "15/15 [==============================] - 0s 9ms/step - loss: 0.2815 - accuracy: 0.8901 - val_loss: 0.2252 - val_accuracy: 0.9211\n",
            "Epoch 15/50\n",
            "15/15 [==============================] - 0s 9ms/step - loss: 0.2665 - accuracy: 0.9099 - val_loss: 0.2098 - val_accuracy: 0.9298\n",
            "Epoch 16/50\n",
            "15/15 [==============================] - 0s 9ms/step - loss: 0.2305 - accuracy: 0.9231 - val_loss: 0.1973 - val_accuracy: 0.9298\n",
            "Epoch 17/50\n",
            "15/15 [==============================] - 0s 9ms/step - loss: 0.2484 - accuracy: 0.9165 - val_loss: 0.1862 - val_accuracy: 0.9386\n",
            "Epoch 18/50\n",
            "15/15 [==============================] - 0s 9ms/step - loss: 0.2211 - accuracy: 0.9319 - val_loss: 0.1753 - val_accuracy: 0.9386\n",
            "Epoch 19/50\n",
            "15/15 [==============================] - 0s 10ms/step - loss: 0.2124 - accuracy: 0.9275 - val_loss: 0.1705 - val_accuracy: 0.9298\n",
            "Epoch 20/50\n",
            "15/15 [==============================] - 0s 9ms/step - loss: 0.1948 - accuracy: 0.9275 - val_loss: 0.1656 - val_accuracy: 0.9298\n",
            "Epoch 21/50\n",
            "15/15 [==============================] - 0s 9ms/step - loss: 0.1837 - accuracy: 0.9231 - val_loss: 0.1581 - val_accuracy: 0.9211\n",
            "Epoch 22/50\n",
            "15/15 [==============================] - 0s 9ms/step - loss: 0.1940 - accuracy: 0.9319 - val_loss: 0.1568 - val_accuracy: 0.9298\n",
            "Epoch 23/50\n",
            "15/15 [==============================] - 0s 9ms/step - loss: 0.2029 - accuracy: 0.9319 - val_loss: 0.1603 - val_accuracy: 0.9298\n",
            "Epoch 24/50\n",
            "15/15 [==============================] - 0s 9ms/step - loss: 0.1633 - accuracy: 0.9451 - val_loss: 0.1606 - val_accuracy: 0.9386\n",
            "Epoch 25/50\n",
            "15/15 [==============================] - 0s 10ms/step - loss: 0.1621 - accuracy: 0.9516 - val_loss: 0.1567 - val_accuracy: 0.9386\n",
            "Epoch 26/50\n",
            "15/15 [==============================] - 0s 9ms/step - loss: 0.1648 - accuracy: 0.9385 - val_loss: 0.1498 - val_accuracy: 0.9298\n",
            "Epoch 27/50\n",
            "15/15 [==============================] - 0s 9ms/step - loss: 0.2048 - accuracy: 0.9385 - val_loss: 0.1452 - val_accuracy: 0.9298\n",
            "Epoch 28/50\n",
            "15/15 [==============================] - 0s 10ms/step - loss: 0.1773 - accuracy: 0.9363 - val_loss: 0.1422 - val_accuracy: 0.9386\n",
            "Epoch 29/50\n",
            "15/15 [==============================] - 0s 9ms/step - loss: 0.2118 - accuracy: 0.9319 - val_loss: 0.1384 - val_accuracy: 0.9386\n",
            "Epoch 30/50\n",
            "15/15 [==============================] - 0s 9ms/step - loss: 0.1556 - accuracy: 0.9516 - val_loss: 0.1374 - val_accuracy: 0.9386\n",
            "Epoch 31/50\n",
            "15/15 [==============================] - 0s 10ms/step - loss: 0.1541 - accuracy: 0.9407 - val_loss: 0.1332 - val_accuracy: 0.9386\n",
            "Epoch 32/50\n",
            "15/15 [==============================] - 0s 10ms/step - loss: 0.1564 - accuracy: 0.9495 - val_loss: 0.1343 - val_accuracy: 0.9386\n",
            "Epoch 33/50\n",
            "15/15 [==============================] - 0s 9ms/step - loss: 0.1686 - accuracy: 0.9429 - val_loss: 0.1376 - val_accuracy: 0.9386\n",
            "Epoch 34/50\n",
            "15/15 [==============================] - 0s 11ms/step - loss: 0.1663 - accuracy: 0.9297 - val_loss: 0.1404 - val_accuracy: 0.9386\n",
            "Epoch 35/50\n",
            "15/15 [==============================] - 0s 10ms/step - loss: 0.1777 - accuracy: 0.9407 - val_loss: 0.1386 - val_accuracy: 0.9298\n",
            "Epoch 36/50\n",
            "15/15 [==============================] - 0s 9ms/step - loss: 0.1611 - accuracy: 0.9451 - val_loss: 0.1353 - val_accuracy: 0.9386\n",
            "Epoch 37/50\n",
            "15/15 [==============================] - 0s 9ms/step - loss: 0.1398 - accuracy: 0.9516 - val_loss: 0.1357 - val_accuracy: 0.9474\n",
            "Epoch 38/50\n",
            "15/15 [==============================] - 0s 8ms/step - loss: 0.1437 - accuracy: 0.9538 - val_loss: 0.1410 - val_accuracy: 0.9474\n",
            "Epoch 39/50\n",
            "15/15 [==============================] - 0s 8ms/step - loss: 0.1423 - accuracy: 0.9538 - val_loss: 0.1419 - val_accuracy: 0.9474\n",
            "Epoch 40/50\n",
            "15/15 [==============================] - 0s 7ms/step - loss: 0.1361 - accuracy: 0.9582 - val_loss: 0.1373 - val_accuracy: 0.9386\n",
            "Epoch 41/50\n",
            "15/15 [==============================] - 0s 9ms/step - loss: 0.1470 - accuracy: 0.9429 - val_loss: 0.1314 - val_accuracy: 0.9386\n",
            "Epoch 42/50\n",
            "15/15 [==============================] - 0s 11ms/step - loss: 0.1336 - accuracy: 0.9407 - val_loss: 0.1314 - val_accuracy: 0.9386\n",
            "Epoch 43/50\n",
            "15/15 [==============================] - 0s 9ms/step - loss: 0.1756 - accuracy: 0.9253 - val_loss: 0.1374 - val_accuracy: 0.9474\n",
            "Epoch 44/50\n",
            "15/15 [==============================] - 0s 9ms/step - loss: 0.1082 - accuracy: 0.9626 - val_loss: 0.1432 - val_accuracy: 0.9474\n",
            "Epoch 45/50\n",
            "15/15 [==============================] - 0s 9ms/step - loss: 0.1572 - accuracy: 0.9495 - val_loss: 0.1543 - val_accuracy: 0.9386\n",
            "Epoch 46/50\n",
            "15/15 [==============================] - 0s 9ms/step - loss: 0.1264 - accuracy: 0.9560 - val_loss: 0.1566 - val_accuracy: 0.9298\n",
            "Epoch 47/50\n",
            "15/15 [==============================] - 0s 9ms/step - loss: 0.1650 - accuracy: 0.9473 - val_loss: 0.1491 - val_accuracy: 0.9386\n",
            "Epoch 48/50\n",
            "15/15 [==============================] - 0s 9ms/step - loss: 0.1593 - accuracy: 0.9451 - val_loss: 0.1462 - val_accuracy: 0.9474\n",
            "Epoch 49/50\n",
            "15/15 [==============================] - 0s 9ms/step - loss: 0.1515 - accuracy: 0.9604 - val_loss: 0.1488 - val_accuracy: 0.9474\n",
            "Epoch 50/50\n",
            "15/15 [==============================] - 0s 8ms/step - loss: 0.1717 - accuracy: 0.9341 - val_loss: 0.1372 - val_accuracy: 0.9474\n"
          ]
        }
      ]
    },
    {
      "cell_type": "code",
      "source": [
        "plt.plot(h.history['accuracy'], label = 'Accuracy for Train set')\n",
        "plt.plot(h.history['val_accuracy'], label = 'Accuracy for Test Set')\n",
        "plt.title('Accuracy Graph for ANN')\n",
        "plt.ylabel('Accuracy')\n",
        "plt.xlabel('epochs')\n",
        "plt.legend()"
      ],
      "metadata": {
        "colab": {
          "base_uri": "https://localhost:8080/",
          "height": 312
        },
        "id": "MXzXiNFqW-T7",
        "outputId": "18861c88-e3f9-48bc-9dae-da24be807761"
      },
      "execution_count": 71,
      "outputs": [
        {
          "output_type": "execute_result",
          "data": {
            "text/plain": [
              "<matplotlib.legend.Legend at 0x7fc2267f97d0>"
            ]
          },
          "metadata": {},
          "execution_count": 71
        },
        {
          "output_type": "display_data",
          "data": {
            "text/plain": [
              "<Figure size 432x288 with 1 Axes>"
            ],
            "image/png": "[encoded data removed]"
          },
          "metadata": {
            "needs_background": "light"
          }
        }
      ]
    },
    {
      "cell_type": "code",
      "source": [
        "plt.plot(h.history['loss'], label = 'loss for Train set')\n",
        "plt.plot(h.history['val_loss'], label = 'loss for Test Set')\n",
        "plt.title('loss Graph for ANN')\n",
        "plt.ylabel('loss')\n",
        "plt.xlabel('epochs')\n",
        "plt.legend()"
      ],
      "metadata": {
        "colab": {
          "base_uri": "https://localhost:8080/",
          "height": 312
        },
        "id": "YFY92YkwXBy9",
        "outputId": "b3ef1e49-a6ce-4797-81dd-537f644468d9"
      },
      "execution_count": 72,
      "outputs": [
        {
          "output_type": "execute_result",
          "data": {
            "text/plain": [
              "<matplotlib.legend.Legend at 0x7fc226d64450>"
            ]
          },
          "metadata": {},
          "execution_count": 72
        },
        {
          "output_type": "display_data",
          "data": {
            "text/plain": [
              "<Figure size 432x288 with 1 Axes>"
            ],
            "image/png": "[encoded data removed]"
          },
          "metadata": {
            "needs_background": "light"
          }
        }
      ]
    },
    {
      "cell_type": "code",
      "source": [
        "y_pred_ann = model.predict_classes(X_test)\n",
        "accuracy_score(y_test,y_pred_ann)"
      ],
      "metadata": {
        "colab": {
          "base_uri": "https://localhost:8080/"
        },
        "id": "yAPpJuXHXFxi",
        "outputId": "02abe5bb-77ac-4767-dc7e-94db6c334e64"
      },
      "execution_count": 73,
      "outputs": [
        {
          "output_type": "stream",
          "name": "stderr",
          "text": [
            "/usr/local/lib/python3.7/dist-packages/tensorflow/python/keras/engine/sequential.py:455: UserWarning: `model.predict_classes()` is deprecated and will be removed after 2021-01-01. Please use instead:* `np.argmax(model.predict(x), axis=-1)`,   if your model does multi-class classification   (e.g. if it uses a `softmax` last-layer activation).* `(model.predict(x) > 0.5).astype(\"int32\")`,   if your model does binary classification   (e.g. if it uses a `sigmoid` last-layer activation).\n",
            "  warnings.warn('`model.predict_classes()` is deprecated and '\n"
          ]
        },
        {
          "output_type": "execute_result",
          "data": {
            "text/plain": [
              "0.9473684210526315"
            ]
          },
          "metadata": {},
          "execution_count": 73
        }
      ]
    },
    {
      "cell_type": "code",
      "source": [
        "rank8  = pd.read_excel(\"/content/cancer_dataset_U.xlsx\",sheet_name = \"Pearson_Correlation\").set_index('Attributes_Names')\n",
        "df_pearson =  df_new[rank8[:15].index]\n",
        "X_col =  df_pearson\n",
        "y = df_new['diagnosis']\n",
        "Scaler = StandardScaler()\n",
        "X_col =  Scaler.fit_transform(X_col)\n",
        "X_train, X_test, y_train, y_test = train_test_split(X_col, y, test_size=0.2, random_state=0)\n",
        "print(\"Shape of training data\",X_train.shape)\n",
        "print(\"Shape of testing data\",X_test.shape)"
      ],
      "metadata": {
        "colab": {
          "base_uri": "https://localhost:8080/"
        },
        "id": "AI_HwJdSXJeN",
        "outputId": "09def250-4795-4bc7-a9cf-a996c4f72c45"
      },
      "execution_count": 76,
      "outputs": [
        {
          "output_type": "stream",
          "name": "stdout",
          "text": [
            "Shape of training data (455, 15)\n",
            "Shape of testing data (114, 15)\n"
          ]
        }
      ]
    },
    {
      "cell_type": "code",
      "source": [
        "rf =  RandomForestClassifier()\n",
        "rf.fit(X_train,y_train)\n",
        "y_pred_rf =  rf.predict(X_test)\n",
        "accuracy_score(y_test,y_pred_rf)"
      ],
      "metadata": {
        "colab": {
          "base_uri": "https://localhost:8080/"
        },
        "id": "qdQLaNY0XTHt",
        "outputId": "cc38bc0d-308d-4d7c-9fc6-638eb907cbe0"
      },
      "execution_count": 77,
      "outputs": [
        {
          "output_type": "execute_result",
          "data": {
            "text/plain": [
              "0.9385964912280702"
            ]
          },
          "metadata": {},
          "execution_count": 77
        }
      ]
    },
    {
      "cell_type": "code",
      "source": [
        "svc =  SVC()\n",
        "svc.fit(X_test,y_test)\n",
        "y_pred_svc =  svc.predict(X_test)\n",
        "accuracy_score(y_test,y_pred_svc)"
      ],
      "metadata": {
        "colab": {
          "base_uri": "https://localhost:8080/"
        },
        "id": "i3g0Pem0XbBp",
        "outputId": "b8d816ab-477e-4aa3-84fe-bf931716cc0e"
      },
      "execution_count": 78,
      "outputs": [
        {
          "output_type": "execute_result",
          "data": {
            "text/plain": [
              "0.9385964912280702"
            ]
          },
          "metadata": {},
          "execution_count": 78
        }
      ]
    },
    {
      "cell_type": "code",
      "source": [
        "model = tf.keras.Sequential([\n",
        "    tf.keras.layers.Dense(15, activation='relu', input_shape=(15,)),\n",
        "    tf.keras.layers.BatchNormalization(),\n",
        "    tf.keras.layers.Dense(20, activation='relu'),\n",
        "    tf.keras.layers.BatchNormalization(),\n",
        "    tf.keras.layers.Dense(24, activation='relu'),\n",
        "    tf.keras.layers.Dropout(0.5),\n",
        "    tf.keras.layers.BatchNormalization(),\n",
        "    tf.keras.layers.Dense(28, activation='relu'),\n",
        "    tf.keras.layers.Dropout(0.5),\n",
        "    tf.keras.layers.Dense(1,activation='sigmoid')\n",
        "  ])\n",
        "model.compile(loss='binary_crossentropy',\n",
        "              optimizer = 'adam',\n",
        "              metrics=['accuracy'])\n",
        "model.summary()"
      ],
      "metadata": {
        "colab": {
          "base_uri": "https://localhost:8080/"
        },
        "id": "856h8huNXdvj",
        "outputId": "59bf9ae8-d044-4c70-9838-bf6c2480a1eb"
      },
      "execution_count": 79,
      "outputs": [
        {
          "output_type": "stream",
          "name": "stdout",
          "text": [
            "Model: \"sequential_9\"\n",
            "_________________________________________________________________\n",
            "Layer (type)                 Output Shape              Param #   \n",
            "=================================================================\n",
            "dense_45 (Dense)             (None, 15)                240       \n",
            "_________________________________________________________________\n",
            "batch_normalization_27 (Batc (None, 15)                60        \n",
            "_________________________________________________________________\n",
            "dense_46 (Dense)             (None, 20)                320       \n",
            "_________________________________________________________________\n",
            "batch_normalization_28 (Batc (None, 20)                80        \n",
            "_________________________________________________________________\n",
            "dense_47 (Dense)             (None, 24)                504       \n",
            "_________________________________________________________________\n",
            "dropout_18 (Dropout)         (None, 24)                0         \n",
            "_________________________________________________________________\n",
            "batch_normalization_29 (Batc (None, 24)                96        \n",
            "_________________________________________________________________\n",
            "dense_48 (Dense)             (None, 28)                700       \n",
            "_________________________________________________________________\n",
            "dropout_19 (Dropout)         (None, 28)                0         \n",
            "_________________________________________________________________\n",
            "dense_49 (Dense)             (None, 1)                 29        \n",
            "=================================================================\n",
            "Total params: 2,029\n",
            "Trainable params: 1,911\n",
            "Non-trainable params: 118\n",
            "_________________________________________________________________\n"
          ]
        }
      ]
    },
    {
      "cell_type": "code",
      "source": [
        "h = model.fit(X_train,y_train,epochs=50,validation_data=(X_test,y_test))"
      ],
      "metadata": {
        "colab": {
          "base_uri": "https://localhost:8080/"
        },
        "id": "HGQ1tbpBXkHt",
        "outputId": "3cd12883-4726-47ed-c5ba-70daa7decad4"
      },
      "execution_count": 80,
      "outputs": [
        {
          "output_type": "stream",
          "name": "stdout",
          "text": [
            "Epoch 1/50\n",
            "15/15 [==============================] - 3s 37ms/step - loss: 0.7163 - accuracy: 0.5846 - val_loss: 0.6089 - val_accuracy: 0.6842\n",
            "Epoch 2/50\n",
            "15/15 [==============================] - 0s 9ms/step - loss: 0.6190 - accuracy: 0.6747 - val_loss: 0.5760 - val_accuracy: 0.7105\n",
            "Epoch 3/50\n",
            "15/15 [==============================] - 0s 9ms/step - loss: 0.5582 - accuracy: 0.7099 - val_loss: 0.5456 - val_accuracy: 0.7544\n",
            "Epoch 4/50\n",
            "15/15 [==============================] - 0s 9ms/step - loss: 0.4653 - accuracy: 0.7758 - val_loss: 0.5074 - val_accuracy: 0.8246\n",
            "Epoch 5/50\n",
            "15/15 [==============================] - 0s 9ms/step - loss: 0.4392 - accuracy: 0.8044 - val_loss: 0.4656 - val_accuracy: 0.8596\n",
            "Epoch 6/50\n",
            "15/15 [==============================] - 0s 10ms/step - loss: 0.4038 - accuracy: 0.8330 - val_loss: 0.4216 - val_accuracy: 0.8947\n",
            "Epoch 7/50\n",
            "15/15 [==============================] - 0s 9ms/step - loss: 0.3624 - accuracy: 0.8462 - val_loss: 0.3805 - val_accuracy: 0.9035\n",
            "Epoch 8/50\n",
            "15/15 [==============================] - 0s 8ms/step - loss: 0.2975 - accuracy: 0.8989 - val_loss: 0.3409 - val_accuracy: 0.9123\n",
            "Epoch 9/50\n",
            "15/15 [==============================] - 0s 10ms/step - loss: 0.2943 - accuracy: 0.8857 - val_loss: 0.3033 - val_accuracy: 0.9298\n",
            "Epoch 10/50\n",
            "15/15 [==============================] - 0s 10ms/step - loss: 0.3116 - accuracy: 0.8813 - val_loss: 0.2696 - val_accuracy: 0.9386\n",
            "Epoch 11/50\n",
            "15/15 [==============================] - 0s 9ms/step - loss: 0.2710 - accuracy: 0.9121 - val_loss: 0.2404 - val_accuracy: 0.9211\n",
            "Epoch 12/50\n",
            "15/15 [==============================] - 0s 9ms/step - loss: 0.2558 - accuracy: 0.9011 - val_loss: 0.2274 - val_accuracy: 0.9211\n",
            "Epoch 13/50\n",
            "15/15 [==============================] - 0s 9ms/step - loss: 0.3094 - accuracy: 0.8703 - val_loss: 0.2139 - val_accuracy: 0.9211\n",
            "Epoch 14/50\n",
            "15/15 [==============================] - 0s 10ms/step - loss: 0.2626 - accuracy: 0.9011 - val_loss: 0.2001 - val_accuracy: 0.9211\n",
            "Epoch 15/50\n",
            "15/15 [==============================] - 0s 11ms/step - loss: 0.2598 - accuracy: 0.9011 - val_loss: 0.1918 - val_accuracy: 0.9211\n",
            "Epoch 16/50\n",
            "15/15 [==============================] - 0s 9ms/step - loss: 0.2494 - accuracy: 0.9143 - val_loss: 0.1835 - val_accuracy: 0.9211\n",
            "Epoch 17/50\n",
            "15/15 [==============================] - 0s 8ms/step - loss: 0.2383 - accuracy: 0.9121 - val_loss: 0.1761 - val_accuracy: 0.9211\n",
            "Epoch 18/50\n",
            "15/15 [==============================] - 0s 9ms/step - loss: 0.2456 - accuracy: 0.9209 - val_loss: 0.1718 - val_accuracy: 0.9211\n",
            "Epoch 19/50\n",
            "15/15 [==============================] - 0s 10ms/step - loss: 0.2031 - accuracy: 0.9407 - val_loss: 0.1640 - val_accuracy: 0.9211\n",
            "Epoch 20/50\n",
            "15/15 [==============================] - 0s 10ms/step - loss: 0.2117 - accuracy: 0.9253 - val_loss: 0.1587 - val_accuracy: 0.9211\n",
            "Epoch 21/50\n",
            "15/15 [==============================] - 0s 10ms/step - loss: 0.2087 - accuracy: 0.9231 - val_loss: 0.1565 - val_accuracy: 0.9211\n",
            "Epoch 22/50\n",
            "15/15 [==============================] - 0s 9ms/step - loss: 0.1984 - accuracy: 0.9187 - val_loss: 0.1524 - val_accuracy: 0.9211\n",
            "Epoch 23/50\n",
            "15/15 [==============================] - 0s 9ms/step - loss: 0.1926 - accuracy: 0.9231 - val_loss: 0.1448 - val_accuracy: 0.9211\n",
            "Epoch 24/50\n",
            "15/15 [==============================] - 0s 10ms/step - loss: 0.1966 - accuracy: 0.9275 - val_loss: 0.1391 - val_accuracy: 0.9211\n",
            "Epoch 25/50\n",
            "15/15 [==============================] - 0s 9ms/step - loss: 0.1953 - accuracy: 0.9187 - val_loss: 0.1338 - val_accuracy: 0.9211\n",
            "Epoch 26/50\n",
            "15/15 [==============================] - 0s 14ms/step - loss: 0.1827 - accuracy: 0.9495 - val_loss: 0.1363 - val_accuracy: 0.9211\n",
            "Epoch 27/50\n",
            "15/15 [==============================] - 0s 13ms/step - loss: 0.1983 - accuracy: 0.9275 - val_loss: 0.1362 - val_accuracy: 0.9298\n",
            "Epoch 28/50\n",
            "15/15 [==============================] - 0s 13ms/step - loss: 0.2178 - accuracy: 0.9165 - val_loss: 0.1296 - val_accuracy: 0.9298\n",
            "Epoch 29/50\n",
            "15/15 [==============================] - 0s 13ms/step - loss: 0.1700 - accuracy: 0.9429 - val_loss: 0.1197 - val_accuracy: 0.9298\n",
            "Epoch 30/50\n",
            "15/15 [==============================] - 0s 9ms/step - loss: 0.1519 - accuracy: 0.9495 - val_loss: 0.1187 - val_accuracy: 0.9386\n",
            "Epoch 31/50\n",
            "15/15 [==============================] - 0s 8ms/step - loss: 0.1811 - accuracy: 0.9275 - val_loss: 0.1167 - val_accuracy: 0.9386\n",
            "Epoch 32/50\n",
            "15/15 [==============================] - 0s 12ms/step - loss: 0.1818 - accuracy: 0.9253 - val_loss: 0.1139 - val_accuracy: 0.9298\n",
            "Epoch 33/50\n",
            "15/15 [==============================] - 0s 12ms/step - loss: 0.1675 - accuracy: 0.9495 - val_loss: 0.1183 - val_accuracy: 0.9298\n",
            "Epoch 34/50\n",
            "15/15 [==============================] - 0s 13ms/step - loss: 0.1989 - accuracy: 0.9407 - val_loss: 0.1191 - val_accuracy: 0.9386\n",
            "Epoch 35/50\n",
            "15/15 [==============================] - 0s 11ms/step - loss: 0.1713 - accuracy: 0.9341 - val_loss: 0.1193 - val_accuracy: 0.9298\n",
            "Epoch 36/50\n",
            "15/15 [==============================] - 0s 12ms/step - loss: 0.1524 - accuracy: 0.9451 - val_loss: 0.1201 - val_accuracy: 0.9386\n",
            "Epoch 37/50\n",
            "15/15 [==============================] - 0s 15ms/step - loss: 0.1602 - accuracy: 0.9341 - val_loss: 0.1211 - val_accuracy: 0.9298\n",
            "Epoch 38/50\n",
            "15/15 [==============================] - 0s 14ms/step - loss: 0.1255 - accuracy: 0.9538 - val_loss: 0.1264 - val_accuracy: 0.9298\n",
            "Epoch 39/50\n",
            "15/15 [==============================] - 0s 12ms/step - loss: 0.1940 - accuracy: 0.9495 - val_loss: 0.1206 - val_accuracy: 0.9298\n",
            "Epoch 40/50\n",
            "15/15 [==============================] - 0s 14ms/step - loss: 0.1525 - accuracy: 0.9495 - val_loss: 0.1170 - val_accuracy: 0.9298\n",
            "Epoch 41/50\n",
            "15/15 [==============================] - 0s 15ms/step - loss: 0.1703 - accuracy: 0.9538 - val_loss: 0.1143 - val_accuracy: 0.9386\n",
            "Epoch 42/50\n",
            "15/15 [==============================] - 0s 18ms/step - loss: 0.1369 - accuracy: 0.9538 - val_loss: 0.1115 - val_accuracy: 0.9386\n",
            "Epoch 43/50\n",
            "15/15 [==============================] - 0s 15ms/step - loss: 0.1495 - accuracy: 0.9495 - val_loss: 0.1093 - val_accuracy: 0.9298\n",
            "Epoch 44/50\n",
            "15/15 [==============================] - 0s 17ms/step - loss: 0.1527 - accuracy: 0.9516 - val_loss: 0.1097 - val_accuracy: 0.9386\n",
            "Epoch 45/50\n",
            "15/15 [==============================] - 0s 12ms/step - loss: 0.1351 - accuracy: 0.9451 - val_loss: 0.1149 - val_accuracy: 0.9298\n",
            "Epoch 46/50\n",
            "15/15 [==============================] - 0s 18ms/step - loss: 0.1564 - accuracy: 0.9495 - val_loss: 0.1160 - val_accuracy: 0.9386\n",
            "Epoch 47/50\n",
            "15/15 [==============================] - 0s 19ms/step - loss: 0.1292 - accuracy: 0.9582 - val_loss: 0.1122 - val_accuracy: 0.9386\n",
            "Epoch 48/50\n",
            "15/15 [==============================] - 0s 11ms/step - loss: 0.1451 - accuracy: 0.9495 - val_loss: 0.1060 - val_accuracy: 0.9474\n",
            "Epoch 49/50\n",
            "15/15 [==============================] - 0s 13ms/step - loss: 0.1735 - accuracy: 0.9319 - val_loss: 0.1051 - val_accuracy: 0.9561\n",
            "Epoch 50/50\n",
            "15/15 [==============================] - 0s 13ms/step - loss: 0.1875 - accuracy: 0.9319 - val_loss: 0.1106 - val_accuracy: 0.9386\n"
          ]
        }
      ]
    },
    {
      "cell_type": "code",
      "source": [
        "plt.plot(h.history['accuracy'], label = 'Accuracy for Train set')\n",
        "plt.plot(h.history['val_accuracy'], label = 'Accuracy for Test Set')\n",
        "plt.title('Accuracy Graph for ANN')\n",
        "plt.ylabel('Accuracy')\n",
        "plt.xlabel('epochs')\n",
        "plt.legend()"
      ],
      "metadata": {
        "colab": {
          "base_uri": "https://localhost:8080/",
          "height": 312
        },
        "id": "iQ_AZxfCXoQO",
        "outputId": "318f5b27-6e3b-4d20-c53d-b5813d01c6ae"
      },
      "execution_count": 81,
      "outputs": [
        {
          "output_type": "execute_result",
          "data": {
            "text/plain": [
              "<matplotlib.legend.Legend at 0x7fc2268d6890>"
            ]
          },
          "metadata": {},
          "execution_count": 81
        },
        {
          "output_type": "display_data",
          "data": {
            "text/plain": [
              "<Figure size 432x288 with 1 Axes>"
            ],
            "image/png": "[encoded data removed]"
          },
          "metadata": {
            "needs_background": "light"
          }
        }
      ]
    },
    {
      "cell_type": "code",
      "source": [
        "plt.plot(h.history['loss'], label = 'loss for Train set')\n",
        "plt.plot(h.history['val_loss'], label = 'loss for Test Set')\n",
        "plt.title('loss Graph for ANN')\n",
        "plt.ylabel('loss')\n",
        "plt.xlabel('epochs')\n",
        "plt.legend()"
      ],
      "metadata": {
        "colab": {
          "base_uri": "https://localhost:8080/",
          "height": 312
        },
        "id": "2stcKHeBXsyM",
        "outputId": "816cd611-2a4a-4a05-a11e-8a4cd4bc6f5b"
      },
      "execution_count": 82,
      "outputs": [
        {
          "output_type": "execute_result",
          "data": {
            "text/plain": [
              "<matplotlib.legend.Legend at 0x7fc2269232d0>"
            ]
          },
          "metadata": {},
          "execution_count": 82
        },
        {
          "output_type": "display_data",
          "data": {
            "text/plain": [
              "<Figure size 432x288 with 1 Axes>"
            ],
            "image/png": "[encoded data removed]"
          },
          "metadata": {
            "needs_background": "light"
          }
        }
      ]
    },
    {
      "cell_type": "code",
      "source": [
        "y_pred_ann = model.predict_classes(X_test)\n",
        "accuracy_score(y_test,y_pred_ann)"
      ],
      "metadata": {
        "colab": {
          "base_uri": "https://localhost:8080/"
        },
        "id": "feaf-pypXwZe",
        "outputId": "f6b6788b-07cd-4b24-be7e-ad8d3c079eca"
      },
      "execution_count": 83,
      "outputs": [
        {
          "output_type": "stream",
          "name": "stderr",
          "text": [
            "/usr/local/lib/python3.7/dist-packages/tensorflow/python/keras/engine/sequential.py:455: UserWarning: `model.predict_classes()` is deprecated and will be removed after 2021-01-01. Please use instead:* `np.argmax(model.predict(x), axis=-1)`,   if your model does multi-class classification   (e.g. if it uses a `softmax` last-layer activation).* `(model.predict(x) > 0.5).astype(\"int32\")`,   if your model does binary classification   (e.g. if it uses a `sigmoid` last-layer activation).\n",
            "  warnings.warn('`model.predict_classes()` is deprecated and '\n"
          ]
        },
        {
          "output_type": "execute_result",
          "data": {
            "text/plain": [
              "0.9385964912280702"
            ]
          },
          "metadata": {},
          "execution_count": 83
        }
      ]
    },
    {
      "cell_type": "markdown",
      "source": [
        "OWA"
      ],
      "metadata": {
        "id": "68pOx06KZI_5"
      }
    },
    {
      "cell_type": "code",
      "source": [
        "OWA =  rank8  = pd.read_excel(\"/content/cancer_dataset_U.xlsx\",sheet_name = \"OWA_method\").set_index('Attributes_Name')"
      ],
      "metadata": {
        "id": "jZ_BAhBUX0JG"
      },
      "execution_count": 85,
      "outputs": []
    },
    {
      "cell_type": "code",
      "source": [
        "df_owa  = df_new[OWA[:15].index]"
      ],
      "metadata": {
        "id": "LhO52ehnYLMh"
      },
      "execution_count": 91,
      "outputs": []
    },
    {
      "cell_type": "code",
      "source": [
        "X_col =  df_owa\n",
        "y = df_new['diagnosis']\n",
        "Scaler = StandardScaler()\n",
        "X_col =  Scaler.fit_transform(X_col)\n",
        "X_train, X_test, y_train, y_test = train_test_split(X_col, y, test_size=0.2, random_state=0)\n",
        "print(\"Shape of training data\",X_train.shape)\n",
        "print(\"Shape of testing data\",X_test.shape)"
      ],
      "metadata": {
        "colab": {
          "base_uri": "https://localhost:8080/"
        },
        "id": "MIn5pz3KYP9M",
        "outputId": "079f0c98-fdc0-4c14-86bc-f6db988588d2"
      },
      "execution_count": 92,
      "outputs": [
        {
          "output_type": "stream",
          "name": "stdout",
          "text": [
            "Shape of training data (455, 15)\n",
            "Shape of testing data (114, 15)\n"
          ]
        }
      ]
    },
    {
      "cell_type": "code",
      "source": [
        "rf =  RandomForestClassifier()\n",
        "rf.fit(X_train,y_train)\n",
        "pred =  rf.predict(X_test)\n",
        "accuracy_score(y_test,pred)"
      ],
      "metadata": {
        "colab": {
          "base_uri": "https://localhost:8080/"
        },
        "id": "mSXtb2ppYser",
        "outputId": "244b9a08-40c6-4fae-91d7-ef76511cc721"
      },
      "execution_count": 93,
      "outputs": [
        {
          "output_type": "execute_result",
          "data": {
            "text/plain": [
              "0.9473684210526315"
            ]
          },
          "metadata": {},
          "execution_count": 93
        }
      ]
    },
    {
      "cell_type": "code",
      "source": [
        "svc =  SVC()\n",
        "svc.fit(X_test,y_test)\n",
        "y_pred =  svc.predict(X_test)\n",
        "accuracy_score(y_test,y_pred)"
      ],
      "metadata": {
        "colab": {
          "base_uri": "https://localhost:8080/"
        },
        "id": "9uDPmhGZYunN",
        "outputId": "3f388268-7c58-495c-b784-471e70bd2ae7"
      },
      "execution_count": 94,
      "outputs": [
        {
          "output_type": "execute_result",
          "data": {
            "text/plain": [
              "0.9649122807017544"
            ]
          },
          "metadata": {},
          "execution_count": 94
        }
      ]
    },
    {
      "cell_type": "code",
      "source": [
        "model = tf.keras.Sequential([\n",
        "    tf.keras.layers.Dense(15, activation='relu', input_shape=(15,)),\n",
        "    tf.keras.layers.BatchNormalization(),\n",
        "    tf.keras.layers.Dense(20, activation='relu'),\n",
        "    tf.keras.layers.BatchNormalization(),\n",
        "    tf.keras.layers.Dense(24, activation='relu'),\n",
        "    tf.keras.layers.Dropout(0.5),\n",
        "    tf.keras.layers.BatchNormalization(),\n",
        "    tf.keras.layers.Dense(28, activation='relu'),\n",
        "    tf.keras.layers.Dropout(0.5),\n",
        "    tf.keras.layers.Dense(1,activation='sigmoid')\n",
        "  ])\n",
        "model.compile(loss='binary_crossentropy',\n",
        "              optimizer = 'adam',\n",
        "              metrics=['accuracy'])\n",
        "model.summary()"
      ],
      "metadata": {
        "colab": {
          "base_uri": "https://localhost:8080/"
        },
        "id": "JM7nJCKCYxKZ",
        "outputId": "95f960a3-4db6-4e98-b88b-4f6e4eaa703a"
      },
      "execution_count": 95,
      "outputs": [
        {
          "output_type": "stream",
          "name": "stdout",
          "text": [
            "Model: \"sequential_10\"\n",
            "_________________________________________________________________\n",
            "Layer (type)                 Output Shape              Param #   \n",
            "=================================================================\n",
            "dense_50 (Dense)             (None, 15)                240       \n",
            "_________________________________________________________________\n",
            "batch_normalization_30 (Batc (None, 15)                60        \n",
            "_________________________________________________________________\n",
            "dense_51 (Dense)             (None, 20)                320       \n",
            "_________________________________________________________________\n",
            "batch_normalization_31 (Batc (None, 20)                80        \n",
            "_________________________________________________________________\n",
            "dense_52 (Dense)             (None, 24)                504       \n",
            "_________________________________________________________________\n",
            "dropout_20 (Dropout)         (None, 24)                0         \n",
            "_________________________________________________________________\n",
            "batch_normalization_32 (Batc (None, 24)                96        \n",
            "_________________________________________________________________\n",
            "dense_53 (Dense)             (None, 28)                700       \n",
            "_________________________________________________________________\n",
            "dropout_21 (Dropout)         (None, 28)                0         \n",
            "_________________________________________________________________\n",
            "dense_54 (Dense)             (None, 1)                 29        \n",
            "=================================================================\n",
            "Total params: 2,029\n",
            "Trainable params: 1,911\n",
            "Non-trainable params: 118\n",
            "_________________________________________________________________\n"
          ]
        }
      ]
    },
    {
      "cell_type": "code",
      "source": [
        "h = model.fit(X_train,y_train,epochs=50,validation_data=(X_test,y_test))"
      ],
      "metadata": {
        "colab": {
          "base_uri": "https://localhost:8080/"
        },
        "id": "mTkesy-cY2rT",
        "outputId": "831bc7bd-988a-43d0-cb04-17c75988a0d9"
      },
      "execution_count": 96,
      "outputs": [
        {
          "output_type": "stream",
          "name": "stdout",
          "text": [
            "Epoch 1/50\n",
            "15/15 [==============================] - 3s 36ms/step - loss: 0.8272 - accuracy: 0.5802 - val_loss: 0.6747 - val_accuracy: 0.6404\n",
            "Epoch 2/50\n",
            "15/15 [==============================] - 0s 10ms/step - loss: 0.6407 - accuracy: 0.6637 - val_loss: 0.6421 - val_accuracy: 0.9298\n",
            "Epoch 3/50\n",
            "15/15 [==============================] - 0s 9ms/step - loss: 0.5580 - accuracy: 0.7055 - val_loss: 0.6022 - val_accuracy: 0.9298\n",
            "Epoch 4/50\n",
            "15/15 [==============================] - 0s 8ms/step - loss: 0.5178 - accuracy: 0.7582 - val_loss: 0.5527 - val_accuracy: 0.9386\n",
            "Epoch 5/50\n",
            "15/15 [==============================] - 0s 9ms/step - loss: 0.4742 - accuracy: 0.7890 - val_loss: 0.4947 - val_accuracy: 0.9123\n",
            "Epoch 6/50\n",
            "15/15 [==============================] - 0s 10ms/step - loss: 0.4166 - accuracy: 0.8154 - val_loss: 0.4323 - val_accuracy: 0.9123\n",
            "Epoch 7/50\n",
            "15/15 [==============================] - 0s 9ms/step - loss: 0.3471 - accuracy: 0.8484 - val_loss: 0.3742 - val_accuracy: 0.9211\n",
            "Epoch 8/50\n",
            "15/15 [==============================] - 0s 10ms/step - loss: 0.3681 - accuracy: 0.8484 - val_loss: 0.3181 - val_accuracy: 0.9211\n",
            "Epoch 9/50\n",
            "15/15 [==============================] - 0s 9ms/step - loss: 0.3133 - accuracy: 0.8813 - val_loss: 0.2747 - val_accuracy: 0.9211\n",
            "Epoch 10/50\n",
            "15/15 [==============================] - 0s 9ms/step - loss: 0.2816 - accuracy: 0.8879 - val_loss: 0.2413 - val_accuracy: 0.9298\n",
            "Epoch 11/50\n",
            "15/15 [==============================] - 0s 9ms/step - loss: 0.2734 - accuracy: 0.8879 - val_loss: 0.2160 - val_accuracy: 0.9123\n",
            "Epoch 12/50\n",
            "15/15 [==============================] - 0s 8ms/step - loss: 0.2906 - accuracy: 0.8703 - val_loss: 0.1987 - val_accuracy: 0.9211\n",
            "Epoch 13/50\n",
            "15/15 [==============================] - 0s 9ms/step - loss: 0.2196 - accuracy: 0.9165 - val_loss: 0.1842 - val_accuracy: 0.9211\n",
            "Epoch 14/50\n",
            "15/15 [==============================] - 0s 10ms/step - loss: 0.2255 - accuracy: 0.9209 - val_loss: 0.1688 - val_accuracy: 0.9211\n",
            "Epoch 15/50\n",
            "15/15 [==============================] - 0s 10ms/step - loss: 0.2458 - accuracy: 0.8967 - val_loss: 0.1592 - val_accuracy: 0.9298\n",
            "Epoch 16/50\n",
            "15/15 [==============================] - 0s 9ms/step - loss: 0.2061 - accuracy: 0.9209 - val_loss: 0.1527 - val_accuracy: 0.9298\n",
            "Epoch 17/50\n",
            "15/15 [==============================] - 0s 9ms/step - loss: 0.2064 - accuracy: 0.9209 - val_loss: 0.1401 - val_accuracy: 0.9386\n",
            "Epoch 18/50\n",
            "15/15 [==============================] - 0s 9ms/step - loss: 0.2045 - accuracy: 0.9253 - val_loss: 0.1358 - val_accuracy: 0.9474\n",
            "Epoch 19/50\n",
            "15/15 [==============================] - 0s 9ms/step - loss: 0.1991 - accuracy: 0.9319 - val_loss: 0.1303 - val_accuracy: 0.9474\n",
            "Epoch 20/50\n",
            "15/15 [==============================] - 0s 10ms/step - loss: 0.1813 - accuracy: 0.9385 - val_loss: 0.1294 - val_accuracy: 0.9474\n",
            "Epoch 21/50\n",
            "15/15 [==============================] - 0s 10ms/step - loss: 0.1982 - accuracy: 0.9253 - val_loss: 0.1279 - val_accuracy: 0.9474\n",
            "Epoch 22/50\n",
            "15/15 [==============================] - 0s 9ms/step - loss: 0.1775 - accuracy: 0.9231 - val_loss: 0.1249 - val_accuracy: 0.9561\n",
            "Epoch 23/50\n",
            "15/15 [==============================] - 0s 9ms/step - loss: 0.1852 - accuracy: 0.9385 - val_loss: 0.1187 - val_accuracy: 0.9561\n",
            "Epoch 24/50\n",
            "15/15 [==============================] - 0s 10ms/step - loss: 0.1464 - accuracy: 0.9582 - val_loss: 0.1184 - val_accuracy: 0.9474\n",
            "Epoch 25/50\n",
            "15/15 [==============================] - 0s 10ms/step - loss: 0.1581 - accuracy: 0.9495 - val_loss: 0.1173 - val_accuracy: 0.9474\n",
            "Epoch 26/50\n",
            "15/15 [==============================] - 0s 10ms/step - loss: 0.2020 - accuracy: 0.9297 - val_loss: 0.1160 - val_accuracy: 0.9561\n",
            "Epoch 27/50\n",
            "15/15 [==============================] - 0s 12ms/step - loss: 0.1285 - accuracy: 0.9473 - val_loss: 0.1162 - val_accuracy: 0.9561\n",
            "Epoch 28/50\n",
            "15/15 [==============================] - 0s 10ms/step - loss: 0.1594 - accuracy: 0.9407 - val_loss: 0.1111 - val_accuracy: 0.9561\n",
            "Epoch 29/50\n",
            "15/15 [==============================] - 0s 10ms/step - loss: 0.1622 - accuracy: 0.9473 - val_loss: 0.1092 - val_accuracy: 0.9561\n",
            "Epoch 30/50\n",
            "15/15 [==============================] - 0s 10ms/step - loss: 0.1472 - accuracy: 0.9538 - val_loss: 0.1116 - val_accuracy: 0.9561\n",
            "Epoch 31/50\n",
            "15/15 [==============================] - 0s 10ms/step - loss: 0.1379 - accuracy: 0.9648 - val_loss: 0.1130 - val_accuracy: 0.9561\n",
            "Epoch 32/50\n",
            "15/15 [==============================] - 0s 10ms/step - loss: 0.1880 - accuracy: 0.9297 - val_loss: 0.1116 - val_accuracy: 0.9561\n",
            "Epoch 33/50\n",
            "15/15 [==============================] - 0s 10ms/step - loss: 0.1639 - accuracy: 0.9495 - val_loss: 0.1098 - val_accuracy: 0.9561\n",
            "Epoch 34/50\n",
            "15/15 [==============================] - 0s 10ms/step - loss: 0.1334 - accuracy: 0.9604 - val_loss: 0.1096 - val_accuracy: 0.9561\n",
            "Epoch 35/50\n",
            "15/15 [==============================] - 0s 9ms/step - loss: 0.1161 - accuracy: 0.9736 - val_loss: 0.1121 - val_accuracy: 0.9561\n",
            "Epoch 36/50\n",
            "15/15 [==============================] - 0s 9ms/step - loss: 0.1278 - accuracy: 0.9560 - val_loss: 0.1144 - val_accuracy: 0.9561\n",
            "Epoch 37/50\n",
            "15/15 [==============================] - 0s 8ms/step - loss: 0.1155 - accuracy: 0.9516 - val_loss: 0.1162 - val_accuracy: 0.9561\n",
            "Epoch 38/50\n",
            "15/15 [==============================] - 0s 8ms/step - loss: 0.1297 - accuracy: 0.9473 - val_loss: 0.1174 - val_accuracy: 0.9474\n",
            "Epoch 39/50\n",
            "15/15 [==============================] - 0s 7ms/step - loss: 0.1075 - accuracy: 0.9692 - val_loss: 0.1140 - val_accuracy: 0.9474\n",
            "Epoch 40/50\n",
            "15/15 [==============================] - 0s 9ms/step - loss: 0.1071 - accuracy: 0.9582 - val_loss: 0.1155 - val_accuracy: 0.9474\n",
            "Epoch 41/50\n",
            "15/15 [==============================] - 0s 11ms/step - loss: 0.1085 - accuracy: 0.9670 - val_loss: 0.1127 - val_accuracy: 0.9561\n",
            "Epoch 42/50\n",
            "15/15 [==============================] - 0s 10ms/step - loss: 0.1728 - accuracy: 0.9429 - val_loss: 0.1088 - val_accuracy: 0.9561\n",
            "Epoch 43/50\n",
            "15/15 [==============================] - 0s 10ms/step - loss: 0.1307 - accuracy: 0.9582 - val_loss: 0.1127 - val_accuracy: 0.9561\n",
            "Epoch 44/50\n",
            "15/15 [==============================] - 0s 10ms/step - loss: 0.1203 - accuracy: 0.9538 - val_loss: 0.1133 - val_accuracy: 0.9561\n",
            "Epoch 45/50\n",
            "15/15 [==============================] - 0s 10ms/step - loss: 0.1324 - accuracy: 0.9516 - val_loss: 0.1118 - val_accuracy: 0.9474\n",
            "Epoch 46/50\n",
            "15/15 [==============================] - 0s 10ms/step - loss: 0.1915 - accuracy: 0.9363 - val_loss: 0.1017 - val_accuracy: 0.9474\n",
            "Epoch 47/50\n",
            "15/15 [==============================] - 0s 10ms/step - loss: 0.1138 - accuracy: 0.9648 - val_loss: 0.1064 - val_accuracy: 0.9474\n",
            "Epoch 48/50\n",
            "15/15 [==============================] - 0s 9ms/step - loss: 0.1235 - accuracy: 0.9626 - val_loss: 0.1087 - val_accuracy: 0.9474\n",
            "Epoch 49/50\n",
            "15/15 [==============================] - 0s 9ms/step - loss: 0.2007 - accuracy: 0.9363 - val_loss: 0.1078 - val_accuracy: 0.9474\n",
            "Epoch 50/50\n",
            "15/15 [==============================] - 0s 9ms/step - loss: 0.1749 - accuracy: 0.9451 - val_loss: 0.1102 - val_accuracy: 0.9474\n"
          ]
        }
      ]
    },
    {
      "cell_type": "code",
      "source": [
        "plt.plot(h.history['accuracy'], label = 'Accuracy for Train set')\n",
        "plt.plot(h.history['val_accuracy'], label = 'Accuracy for Test Set')\n",
        "plt.title('Accuracy Graph for ANN')\n",
        "plt.ylabel('Accuracy')\n",
        "plt.xlabel('epochs')\n",
        "plt.legend()"
      ],
      "metadata": {
        "colab": {
          "base_uri": "https://localhost:8080/",
          "height": 312
        },
        "id": "A2Zgqeg3Y6Vi",
        "outputId": "8a1769af-1fa9-4f01-8929-6514aa3a30be"
      },
      "execution_count": 97,
      "outputs": [
        {
          "output_type": "execute_result",
          "data": {
            "text/plain": [
              "<matplotlib.legend.Legend at 0x7fc22187f550>"
            ]
          },
          "metadata": {},
          "execution_count": 97
        },
        {
          "output_type": "display_data",
          "data": {
            "text/plain": [
              "<Figure size 432x288 with 1 Axes>"
            ],
            "image/png": "[encoded data removed]"
          },
          "metadata": {
            "needs_background": "light"
          }
        }
      ]
    },
    {
      "cell_type": "code",
      "source": [
        "plt.plot(h.history['loss'], label = 'loss for Train set')\n",
        "plt.plot(h.history['val_loss'], label = 'loss for Test Set')\n",
        "plt.title('loss Graph for ANN')\n",
        "plt.ylabel('loss')\n",
        "plt.xlabel('epochs')\n",
        "plt.legend()"
      ],
      "metadata": {
        "colab": {
          "base_uri": "https://localhost:8080/",
          "height": 312
        },
        "id": "3sYChiK1Y_hH",
        "outputId": "0b5c6bcb-6734-4420-93d1-7978d1432da6"
      },
      "execution_count": 98,
      "outputs": [
        {
          "output_type": "execute_result",
          "data": {
            "text/plain": [
              "<matplotlib.legend.Legend at 0x7fc2217fdc90>"
            ]
          },
          "metadata": {},
          "execution_count": 98
        },
        {
          "output_type": "display_data",
          "data": {
            "text/plain": [
              "<Figure size 432x288 with 1 Axes>"
            ],
            "image/png": "[encoded data removed]"
          },
          "metadata": {
            "needs_background": "light"
          }
        }
      ]
    },
    {
      "cell_type": "code",
      "source": [
        "y_pred_ann_owa = model.predict_classes(X_test)\n",
        "accuracy_score(y_test,y_pred_ann_owa)"
      ],
      "metadata": {
        "colab": {
          "base_uri": "https://localhost:8080/"
        },
        "id": "y69G15FsZB0K",
        "outputId": "69d4354c-953d-4125-8d58-582f1bdbf7f4"
      },
      "execution_count": 99,
      "outputs": [
        {
          "output_type": "stream",
          "name": "stderr",
          "text": [
            "/usr/local/lib/python3.7/dist-packages/tensorflow/python/keras/engine/sequential.py:455: UserWarning: `model.predict_classes()` is deprecated and will be removed after 2021-01-01. Please use instead:* `np.argmax(model.predict(x), axis=-1)`,   if your model does multi-class classification   (e.g. if it uses a `softmax` last-layer activation).* `(model.predict(x) > 0.5).astype(\"int32\")`,   if your model does binary classification   (e.g. if it uses a `sigmoid` last-layer activation).\n",
            "  warnings.warn('`model.predict_classes()` is deprecated and '\n"
          ]
        },
        {
          "output_type": "execute_result",
          "data": {
            "text/plain": [
              "0.9473684210526315"
            ]
          },
          "metadata": {},
          "execution_count": 99
        }
      ]
    },
    {
      "cell_type": "code",
      "source": [
        ""
      ],
      "metadata": {
        "id": "20PHqvd4ZF3U"
      },
      "execution_count": null,
      "outputs": []
    }
  ]
}