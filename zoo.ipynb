{
  "nbformat": 4,
  "nbformat_minor": 0,
  "metadata": {
    "colab": {
      "name": "zoo.ipynb",
      "provenance": [],
      "authorship_tag": "ABX9TyNScI5r1e20Fap0HOfUZL3f",
      "include_colab_link": true
    },
    "kernelspec": {
      "name": "python3",
      "display_name": "Python 3"
    },
    "language_info": {
      "name": "python"
    }
  },
  "cells": [
    {
      "cell_type": "markdown",
      "metadata": {
        "id": "view-in-github",
        "colab_type": "text"
      },
      "source": [
        "<a href=\"https://colab.research.google.com/github/Noob919/Feature_selection/blob/main/zoo.ipynb\" target=\"_parent\"><img src=\"https://colab.research.google.com/assets/colab-badge.svg\" alt=\"Open In Colab\"/></a>"
      ]
    },
    {
      "cell_type": "code",
      "execution_count": 20,
      "metadata": {
        "id": "KvFvVN-vMQe3"
      },
      "outputs": [],
      "source": [
        "import numpy as np\n",
        "import pandas as pd\n",
        "from sklearn.model_selection import cross_val_score\n",
        "from sklearn import preprocessing\n",
        "from sklearn.feature_selection  import chi2, SelectKBest,mutual_info_classif,SelectPercentile,f_classif\n",
        "from sklearn.inspection import permutation_importance\n",
        "from sklearn.model_selection import train_test_split\n",
        "from sklearn.tree import DecisionTreeClassifier\n",
        "from sklearn.linear_model import LogisticRegression\n",
        "from sklearn.ensemble import RandomForestClassifier\n",
        "from sklearn.preprocessing import LabelEncoder\n",
        "from sklearn.preprocessing import StandardScaler\n",
        "from sklearn.feature_selection import RFE\n",
        "from sklearn.svm import LinearSVC\n",
        "from sklearn.decomposition import PCA\n",
        "import matplotlib.pyplot as plt\n",
        "import seaborn as sns"
      ]
    },
    {
      "cell_type": "code",
      "source": [
        "df = pd.read_csv('/content/zoo.csv')"
      ],
      "metadata": {
        "id": "812TBIXWMvXZ"
      },
      "execution_count": 2,
      "outputs": []
    },
    {
      "cell_type": "code",
      "source": [
        "df_new = df.drop(['animal_name'], axis =1)"
      ],
      "metadata": {
        "id": "BMOGw1ftM2Hr"
      },
      "execution_count": 8,
      "outputs": []
    },
    {
      "cell_type": "code",
      "source": [
        "X = df_new.drop(['class_type'], axis = 1)\n",
        "y = df_new['class_type']"
      ],
      "metadata": {
        "id": "Xlw0xTePM4AB"
      },
      "execution_count": 11,
      "outputs": []
    },
    {
      "cell_type": "code",
      "source": [
        "X_train, X_test, y_train, y_test = train_test_split(X, y, test_size=0.1, random_state=0)"
      ],
      "metadata": {
        "id": "6ghb800GinRa"
      },
      "execution_count": 13,
      "outputs": []
    },
    {
      "cell_type": "code",
      "source": [
        "test = SelectKBest(score_func=chi2, k=len(X.columns)).fit(X,y)\n",
        "np.set_printoptions(precision=3)\n",
        "score  =  test.scores_"
      ],
      "metadata": {
        "id": "LOCOxYC9i1Hf"
      },
      "execution_count": 15,
      "outputs": []
    },
    {
      "cell_type": "code",
      "source": [
        "Y = X.columns"
      ],
      "metadata": {
        "id": "Eqb4hdM5i_qe"
      },
      "execution_count": 17,
      "outputs": []
    },
    {
      "cell_type": "code",
      "source": [
        "sns.barplot(x  = score,y = Y )\n",
        "plt.xlabel('Importance Score')\n",
        "plt.ylabel('Features name')"
      ],
      "metadata": {
        "colab": {
          "base_uri": "https://localhost:8080/",
          "height": 296
        },
        "id": "-mQ_yzFLjAsM",
        "outputId": "28549201-ac47-4bf0-c28b-ddbeedd3b92a"
      },
      "execution_count": 18,
      "outputs": [
        {
          "output_type": "execute_result",
          "data": {
            "text/plain": [
              "Text(0, 0.5, 'Features name')"
            ]
          },
          "metadata": {},
          "execution_count": 18
        },
        {
          "output_type": "display_data",
          "data": {
            "text/plain": [
              "<Figure size 432x288 with 1 Axes>"
            ],
            "image/png": "[encoded data removed]"
          },
          "metadata": {
            "needs_background": "light"
          }
        }
      ]
    },
    {
      "cell_type": "code",
      "source": [
        "score"
      ],
      "metadata": {
        "colab": {
          "base_uri": "https://localhost:8080/"
        },
        "id": "fOna2m1wjH1d",
        "outputId": "aeb56136-ed93-46c2-e71f-8848c8e7f3c1"
      },
      "execution_count": 19,
      "outputs": [
        {
          "output_type": "execute_result",
          "data": {
            "text/plain": [
              "array([48.834, 81.   , 37.42 , 60.   , 49.215, 29.869,  5.431, 37.06 ,\n",
              "       18.   , 17.339, 17.59 , 62.554, 81.171, 16.88 ,  4.193, 20.976])"
            ]
          },
          "metadata": {},
          "execution_count": 19
        }
      ]
    },
    {
      "cell_type": "code",
      "source": [
        "rf = RandomForestClassifier(n_estimators=150)\n",
        "rf.fit(X_train, y_train)"
      ],
      "metadata": {
        "colab": {
          "base_uri": "https://localhost:8080/"
        },
        "id": "BXo6Un26jRLW",
        "outputId": "9ddfe724-e79f-4435-d8b6-1e2ecaa3ff3e"
      },
      "execution_count": 22,
      "outputs": [
        {
          "output_type": "execute_result",
          "data": {
            "text/plain": [
              "RandomForestClassifier(n_estimators=150)"
            ]
          },
          "metadata": {},
          "execution_count": 22
        }
      ]
    },
    {
      "cell_type": "code",
      "source": [
        "rf.feature_importances_"
      ],
      "metadata": {
        "colab": {
          "base_uri": "https://localhost:8080/"
        },
        "id": "fvdmfpAnjuEP",
        "outputId": "9b558306-7ae8-48c5-9eeb-7aa44fb8a6d8"
      },
      "execution_count": 23,
      "outputs": [
        {
          "output_type": "execute_result",
          "data": {
            "text/plain": [
              "array([0.059, 0.136, 0.106, 0.158, 0.036, 0.041, 0.018, 0.088, 0.068,\n",
              "       0.053, 0.012, 0.064, 0.093, 0.053, 0.001, 0.015])"
            ]
          },
          "metadata": {},
          "execution_count": 23
        }
      ]
    },
    {
      "cell_type": "code",
      "source": [
        "sort = rf.feature_importances_\n",
        "plt.barh(X.columns, rf.feature_importances_)\n",
        "plt.xlabel(\"Feature Importance\")"
      ],
      "metadata": {
        "colab": {
          "base_uri": "https://localhost:8080/",
          "height": 296
        },
        "id": "Yo4WPOMCkXbC",
        "outputId": "f85fc672-eb83-41cb-99c7-5e24fce066e7"
      },
      "execution_count": 24,
      "outputs": [
        {
          "output_type": "execute_result",
          "data": {
            "text/plain": [
              "Text(0.5, 0, 'Feature Importance')"
            ]
          },
          "metadata": {},
          "execution_count": 24
        },
        {
          "output_type": "display_data",
          "data": {
            "text/plain": [
              "<Figure size 432x288 with 1 Axes>"
            ],
            "image/png": "[encoded data removed]"
          },
          "metadata": {
            "needs_background": "light"
          }
        }
      ]
    },
    {
      "cell_type": "code",
      "source": [
        "clf = LogisticRegression(solver = 'liblinear').fit(X_train, y_train)"
      ],
      "metadata": {
        "id": "VptOhq2qkZ0z"
      },
      "execution_count": 26,
      "outputs": []
    },
    {
      "cell_type": "code",
      "source": [
        "result = permutation_importance(clf, X, y, n_repeats=10, random_state=0)"
      ],
      "metadata": {
        "id": "fiGcgPBGkpED"
      },
      "execution_count": 27,
      "outputs": []
    },
    {
      "cell_type": "code",
      "source": [
        "plt.barh(X.columns, result.importances_mean )\n",
        "plt.xlabel(\"Feature Importance MEAN\")"
      ],
      "metadata": {
        "colab": {
          "base_uri": "https://localhost:8080/",
          "height": 296
        },
        "id": "KVkvcM79k6BD",
        "outputId": "915b87c4-e19a-469c-f88e-87a8bf604e06"
      },
      "execution_count": 28,
      "outputs": [
        {
          "output_type": "execute_result",
          "data": {
            "text/plain": [
              "Text(0.5, 0, 'Feature Importance MEAN')"
            ]
          },
          "metadata": {},
          "execution_count": 28
        },
        {
          "output_type": "display_data",
          "data": {
            "text/plain": [
              "<Figure size 432x288 with 1 Axes>"
            ],
            "image/png": "[encoded data removed]"
          },
          "metadata": {
            "needs_background": "light"
          }
        }
      ]
    },
    {
      "cell_type": "code",
      "source": [
        "plt.barh(X.columns, result.importances_std)\n",
        "plt.xlabel(\"Feature Importance STD\")"
      ],
      "metadata": {
        "colab": {
          "base_uri": "https://localhost:8080/",
          "height": 296
        },
        "id": "1ibLn0z1k8zr",
        "outputId": "a41b95a3-ddc6-4caa-af48-7811bd51a456"
      },
      "execution_count": 29,
      "outputs": [
        {
          "output_type": "execute_result",
          "data": {
            "text/plain": [
              "Text(0.5, 0, 'Feature Importance STD')"
            ]
          },
          "metadata": {},
          "execution_count": 29
        },
        {
          "output_type": "display_data",
          "data": {
            "text/plain": [
              "<Figure size 432x288 with 1 Axes>"
            ],
            "image/png": "[encoded data removed]"
          },
          "metadata": {
            "needs_background": "light"
          }
        }
      ]
    },
    {
      "cell_type": "code",
      "source": [
        "pca = PCA().fit(X_train)\n",
        "plt.plot(pca.explained_variance_ratio_.cumsum(), lw=3, color='#087E8B')\n",
        "plt.title('Cumulative explained variance by number of principal components', size=5)\n",
        "plt.show()"
      ],
      "metadata": {
        "colab": {
          "base_uri": "https://localhost:8080/",
          "height": 275
        },
        "id": "FnddbrhtlBAq",
        "outputId": "317de447-8eeb-4961-9f7b-8175d38d5075"
      },
      "execution_count": 30,
      "outputs": [
        {
          "output_type": "display_data",
          "data": {
            "text/plain": [
              "<Figure size 432x288 with 1 Axes>"
            ],
            "image/png": "[encoded data removed]"
          },
          "metadata": {
            "needs_background": "light"
          }
        }
      ]
    },
    {
      "cell_type": "code",
      "source": [
        "loadings = pd.DataFrame(\n",
        "    data=pca.components_.T * np.sqrt(pca.explained_variance_), \n",
        "    columns=[f'PC{i}' for i in range(1, len(X.columns) + 1)],\n",
        "    index=X.columns\n",
        ")\n",
        "loadings.head()"
      ],
      "metadata": {
        "colab": {
          "base_uri": "https://localhost:8080/",
          "height": 270
        },
        "id": "sI0t4AjylD8S",
        "outputId": "6cae563e-5fa0-4f7c-d184-6ac4341bc483"
      },
      "execution_count": 31,
      "outputs": [
        {
          "output_type": "execute_result",
          "data": {
            "text/plain": [
              "               PC1       PC2       PC3       PC4       PC5       PC6  \\\n",
              "hair      0.235536 -0.369555 -0.070887  0.105224  0.044667  0.014759   \n",
              "feathers -0.097160  0.187174 -0.265549 -0.192504  0.006253 -0.019414   \n",
              "eggs     -0.137252  0.438359  0.028989 -0.038849 -0.034068 -0.062491   \n",
              "milk      0.132085 -0.449584 -0.047551  0.030786  0.043295  0.004581   \n",
              "airborne  0.022362  0.234548 -0.268059 -0.028516 -0.017726  0.054993   \n",
              "\n",
              "               PC7       PC8       PC9      PC10      PC11      PC12  \\\n",
              "hair      0.119674 -0.004450 -0.054551 -0.023546 -0.021805 -0.110503   \n",
              "feathers  0.035179  0.040960  0.038803  0.035543 -0.038416 -0.008841   \n",
              "eggs     -0.046915 -0.007030  0.024478 -0.090561  0.030877 -0.092010   \n",
              "milk      0.081144 -0.007455  0.024824  0.036464 -0.065008  0.031117   \n",
              "airborne  0.202977 -0.027622 -0.079291 -0.088805  0.023548  0.021610   \n",
              "\n",
              "              PC13      PC14      PC15      PC16  \n",
              "hair      0.057581  0.041122 -0.026622  0.007697  \n",
              "feathers -0.049590  0.070548 -0.023642 -0.026779  \n",
              "eggs      0.069468 -0.006019  0.023638 -0.022724  \n",
              "milk      0.029116 -0.006231  0.050559 -0.028232  \n",
              "airborne -0.035179 -0.049137  0.007403  0.000857  "
            ],
            "text/html": [
              "\n",
              "  <div id=\"df-f27b65fd-db59-4952-856f-c5f31605a944\">\n",
              "    <div class=\"colab-df-container\">\n",
              "      <div>\n",
              "<style scoped>\n",
              "    .dataframe tbody tr th:only-of-type {\n",
              "        vertical-align: middle;\n",
              "    }\n",
              "\n",
              "    .dataframe tbody tr th {\n",
              "        vertical-align: top;\n",
              "    }\n",
              "\n",
              "    .dataframe thead th {\n",
              "        text-align: right;\n",
              "    }\n",
              "</style>\n",
              "<table border=\"1\" class=\"dataframe\">\n",
              "  <thead>\n",
              "    <tr style=\"text-align: right;\">\n",
              "      <th></th>\n",
              "      <th>PC1</th>\n",
              "      <th>PC2</th>\n",
              "      <th>PC3</th>\n",
              "      <th>PC4</th>\n",
              "      <th>PC5</th>\n",
              "      <th>PC6</th>\n",
              "      <th>PC7</th>\n",
              "      <th>PC8</th>\n",
              "      <th>PC9</th>\n",
              "      <th>PC10</th>\n",
              "      <th>PC11</th>\n",
              "      <th>PC12</th>\n",
              "      <th>PC13</th>\n",
              "      <th>PC14</th>\n",
              "      <th>PC15</th>\n",
              "      <th>PC16</th>\n",
              "    </tr>\n",
              "  </thead>\n",
              "  <tbody>\n",
              "    <tr>\n",
              "      <th>hair</th>\n",
              "      <td>0.235536</td>\n",
              "      <td>-0.369555</td>\n",
              "      <td>-0.070887</td>\n",
              "      <td>0.105224</td>\n",
              "      <td>0.044667</td>\n",
              "      <td>0.014759</td>\n",
              "      <td>0.119674</td>\n",
              "      <td>-0.004450</td>\n",
              "      <td>-0.054551</td>\n",
              "      <td>-0.023546</td>\n",
              "      <td>-0.021805</td>\n",
              "      <td>-0.110503</td>\n",
              "      <td>0.057581</td>\n",
              "      <td>0.041122</td>\n",
              "      <td>-0.026622</td>\n",
              "      <td>0.007697</td>\n",
              "    </tr>\n",
              "    <tr>\n",
              "      <th>feathers</th>\n",
              "      <td>-0.097160</td>\n",
              "      <td>0.187174</td>\n",
              "      <td>-0.265549</td>\n",
              "      <td>-0.192504</td>\n",
              "      <td>0.006253</td>\n",
              "      <td>-0.019414</td>\n",
              "      <td>0.035179</td>\n",
              "      <td>0.040960</td>\n",
              "      <td>0.038803</td>\n",
              "      <td>0.035543</td>\n",
              "      <td>-0.038416</td>\n",
              "      <td>-0.008841</td>\n",
              "      <td>-0.049590</td>\n",
              "      <td>0.070548</td>\n",
              "      <td>-0.023642</td>\n",
              "      <td>-0.026779</td>\n",
              "    </tr>\n",
              "    <tr>\n",
              "      <th>eggs</th>\n",
              "      <td>-0.137252</td>\n",
              "      <td>0.438359</td>\n",
              "      <td>0.028989</td>\n",
              "      <td>-0.038849</td>\n",
              "      <td>-0.034068</td>\n",
              "      <td>-0.062491</td>\n",
              "      <td>-0.046915</td>\n",
              "      <td>-0.007030</td>\n",
              "      <td>0.024478</td>\n",
              "      <td>-0.090561</td>\n",
              "      <td>0.030877</td>\n",
              "      <td>-0.092010</td>\n",
              "      <td>0.069468</td>\n",
              "      <td>-0.006019</td>\n",
              "      <td>0.023638</td>\n",
              "      <td>-0.022724</td>\n",
              "    </tr>\n",
              "    <tr>\n",
              "      <th>milk</th>\n",
              "      <td>0.132085</td>\n",
              "      <td>-0.449584</td>\n",
              "      <td>-0.047551</td>\n",
              "      <td>0.030786</td>\n",
              "      <td>0.043295</td>\n",
              "      <td>0.004581</td>\n",
              "      <td>0.081144</td>\n",
              "      <td>-0.007455</td>\n",
              "      <td>0.024824</td>\n",
              "      <td>0.036464</td>\n",
              "      <td>-0.065008</td>\n",
              "      <td>0.031117</td>\n",
              "      <td>0.029116</td>\n",
              "      <td>-0.006231</td>\n",
              "      <td>0.050559</td>\n",
              "      <td>-0.028232</td>\n",
              "    </tr>\n",
              "    <tr>\n",
              "      <th>airborne</th>\n",
              "      <td>0.022362</td>\n",
              "      <td>0.234548</td>\n",
              "      <td>-0.268059</td>\n",
              "      <td>-0.028516</td>\n",
              "      <td>-0.017726</td>\n",
              "      <td>0.054993</td>\n",
              "      <td>0.202977</td>\n",
              "      <td>-0.027622</td>\n",
              "      <td>-0.079291</td>\n",
              "      <td>-0.088805</td>\n",
              "      <td>0.023548</td>\n",
              "      <td>0.021610</td>\n",
              "      <td>-0.035179</td>\n",
              "      <td>-0.049137</td>\n",
              "      <td>0.007403</td>\n",
              "      <td>0.000857</td>\n",
              "    </tr>\n",
              "  </tbody>\n",
              "</table>\n",
              "</div>\n",
              "      <button class=\"colab-df-convert\" onclick=\"convertToInteractive('df-f27b65fd-db59-4952-856f-c5f31605a944')\"\n",
              "              title=\"Convert this dataframe to an interactive table.\"\n",
              "              style=\"display:none;\">\n",
              "        \n",
              "  <svg xmlns=\"http://www.w3.org/2000/svg\" height=\"24px\"viewBox=\"0 0 24 24\"\n",
              "       width=\"24px\">\n",
              "    <path d=\"M0 0h24v24H0V0z\" fill=\"none\"/>\n",
              "    <path d=\"M18.56 5.44l.94 2.06.94-2.06 2.06-.94-2.06-.94-.94-2.06-.94 2.06-2.06.94zm-11 1L8.5 8.5l.94-2.06 2.06-.94-2.06-.94L8.5 2.5l-.94 2.06-2.06.94zm10 10l.94 2.06.94-2.06 2.06-.94-2.06-.94-.94-2.06-.94 2.06-2.06.94z\"/><path d=\"M17.41 7.96l-1.37-1.37c-.4-.4-.92-.59-1.43-.59-.52 0-1.04.2-1.43.59L10.3 9.45l-7.72 7.72c-.78.78-.78 2.05 0 2.83L4 21.41c.39.39.9.59 1.41.59.51 0 1.02-.2 1.41-.59l7.78-7.78 2.81-2.81c.8-.78.8-2.07 0-2.86zM5.41 20L4 18.59l7.72-7.72 1.47 1.35L5.41 20z\"/>\n",
              "  </svg>\n",
              "      </button>\n",
              "      \n",
              "  <style>\n",
              "    .colab-df-container {\n",
              "      display:flex;\n",
              "      flex-wrap:wrap;\n",
              "      gap: 12px;\n",
              "    }\n",
              "\n",
              "    .colab-df-convert {\n",
              "      background-color: #E8F0FE;\n",
              "      border: none;\n",
              "      border-radius: 50%;\n",
              "      cursor: pointer;\n",
              "      display: none;\n",
              "      fill: #1967D2;\n",
              "      height: 32px;\n",
              "      padding: 0 0 0 0;\n",
              "      width: 32px;\n",
              "    }\n",
              "\n",
              "    .colab-df-convert:hover {\n",
              "      background-color: #E2EBFA;\n",
              "      box-shadow: 0px 1px 2px rgba(60, 64, 67, 0.3), 0px 1px 3px 1px rgba(60, 64, 67, 0.15);\n",
              "      fill: #174EA6;\n",
              "    }\n",
              "\n",
              "    [theme=dark] .colab-df-convert {\n",
              "      background-color: #3B4455;\n",
              "      fill: #D2E3FC;\n",
              "    }\n",
              "\n",
              "    [theme=dark] .colab-df-convert:hover {\n",
              "      background-color: #434B5C;\n",
              "      box-shadow: 0px 1px 3px 1px rgba(0, 0, 0, 0.15);\n",
              "      filter: drop-shadow(0px 1px 2px rgba(0, 0, 0, 0.3));\n",
              "      fill: #FFFFFF;\n",
              "    }\n",
              "  </style>\n",
              "\n",
              "      <script>\n",
              "        const buttonEl =\n",
              "          document.querySelector('#df-f27b65fd-db59-4952-856f-c5f31605a944 button.colab-df-convert');\n",
              "        buttonEl.style.display =\n",
              "          google.colab.kernel.accessAllowed ? 'block' : 'none';\n",
              "\n",
              "        async function convertToInteractive(key) {\n",
              "          const element = document.querySelector('#df-f27b65fd-db59-4952-856f-c5f31605a944');\n",
              "          const dataTable =\n",
              "            await google.colab.kernel.invokeFunction('convertToInteractive',\n",
              "                                                     [key], {});\n",
              "          if (!dataTable) return;\n",
              "\n",
              "          const docLinkHtml = 'Like what you see? Visit the ' +\n",
              "            '<a target=\"_blank\" href=https://colab.research.google.com/notebooks/data_table.ipynb>data table notebook</a>'\n",
              "            + ' to learn more about interactive tables.';\n",
              "          element.innerHTML = '';\n",
              "          dataTable['output_type'] = 'display_data';\n",
              "          await google.colab.output.renderOutput(dataTable, element);\n",
              "          const docLink = document.createElement('div');\n",
              "          docLink.innerHTML = docLinkHtml;\n",
              "          element.appendChild(docLink);\n",
              "        }\n",
              "      </script>\n",
              "    </div>\n",
              "  </div>\n",
              "  "
            ]
          },
          "metadata": {},
          "execution_count": 31
        }
      ]
    },
    {
      "cell_type": "code",
      "source": [
        "pc1_loadings = loadings.sort_values(by='PC1', ascending=False)[['PC1']]\n",
        "pc1_loadings = pc1_loadings.reset_index()\n",
        "pc1_loadings.columns = ['Attribute', 'CorrelationWithPC1']\n",
        "\n",
        "plt.bar(x=pc1_loadings['Attribute'], height=pc1_loadings['CorrelationWithPC1'], color='#087E8B')\n",
        "plt.title('PCA loading scores (first principal component)', size=5)\n",
        "plt.xticks(rotation='vertical')\n",
        "plt.show()"
      ],
      "metadata": {
        "colab": {
          "base_uri": "https://localhost:8080/",
          "height": 317
        },
        "id": "Ww4Xt6nJlH1n",
        "outputId": "3667b8ad-9707-49bc-a1ca-16396302c3bd"
      },
      "execution_count": 32,
      "outputs": [
        {
          "output_type": "display_data",
          "data": {
            "text/plain": [
              "<Figure size 432x288 with 1 Axes>"
            ],
            "image/png": "[encoded data removed]"
          },
          "metadata": {
            "needs_background": "light"
          }
        }
      ]
    },
    {
      "cell_type": "code",
      "source": [
        "pc2_loadings = loadings.sort_values(by='PC2', ascending=False)[['PC2']]\n",
        "pc2_loadings = pc2_loadings.reset_index()\n",
        "pc2_loadings.columns = ['Attribute', 'CorrelationWithPC2']\n",
        "\n",
        "plt.bar(x=pc2_loadings['Attribute'], height=pc2_loadings['CorrelationWithPC2'], color='#087E8B')\n",
        "plt.title('PCA loading scores (Second principal component)', size=5)\n",
        "plt.xticks(rotation='vertical')\n",
        "plt.show()"
      ],
      "metadata": {
        "colab": {
          "base_uri": "https://localhost:8080/",
          "height": 317
        },
        "id": "4n-ZyGOzlP7C",
        "outputId": "9118ecc0-539f-4667-d958-a141a7390ac4"
      },
      "execution_count": 33,
      "outputs": [
        {
          "output_type": "display_data",
          "data": {
            "text/plain": [
              "<Figure size 432x288 with 1 Axes>"
            ],
            "image/png": "[encoded data removed]"
          },
          "metadata": {
            "needs_background": "light"
          }
        }
      ]
    },
    {
      "cell_type": "code",
      "source": [
        "fs_fit_fscore = SelectKBest(f_classif, k=len(X.columns))\n",
        "fs_fit_fscore.fit_transform(X_train, y_train)\n",
        "fs_indices_fscore = np.argsort(np.nan_to_num(fs_fit_fscore.scores_))[::-1][0:len(X.columns)]\n",
        "fs_indices_fscore"
      ],
      "metadata": {
        "colab": {
          "base_uri": "https://localhost:8080/"
        },
        "id": "85dK8lD7lSYC",
        "outputId": "00ebe9d3-44dd-4c40-9c1c-b66c652e1696"
      },
      "execution_count": 34,
      "outputs": [
        {
          "output_type": "stream",
          "name": "stderr",
          "text": [
            "/usr/local/lib/python3.7/dist-packages/sklearn/feature_selection/_univariate_selection.py:113: RuntimeWarning: divide by zero encountered in true_divide\n",
            "  f = msb / msw\n"
          ]
        },
        {
          "output_type": "execute_result",
          "data": {
            "text/plain": [
              "array([ 8,  3,  1,  7,  2,  0,  9, 11, 13,  4, 12,  5, 15, 10,  6, 14])"
            ]
          },
          "metadata": {},
          "execution_count": 34
        }
      ]
    },
    {
      "cell_type": "code",
      "source": [
        "best_features_fscore = df.columns[fs_indices_fscore].values\n",
        "best_features_fscore"
      ],
      "metadata": {
        "colab": {
          "base_uri": "https://localhost:8080/"
        },
        "id": "brjWA1fUlV0b",
        "outputId": "855ac32f-dd42-4e10-eaa5-268cdab81168"
      },
      "execution_count": 35,
      "outputs": [
        {
          "output_type": "execute_result",
          "data": {
            "text/plain": [
              "array(['toothed', 'eggs', 'hair', 'predator', 'feathers', 'animal_name',\n",
              "       'backbone', 'venomous', 'legs', 'milk', 'fins', 'airborne',\n",
              "       'domestic', 'breathes', 'aquatic', 'tail'], dtype=object)"
            ]
          },
          "metadata": {},
          "execution_count": 35
        }
      ]
    },
    {
      "cell_type": "code",
      "source": [
        "feature_importances_fscore = fs_fit_fscore.scores_[fs_indices_fscore]\n",
        "feature_importances_fscore"
      ],
      "metadata": {
        "colab": {
          "base_uri": "https://localhost:8080/"
        },
        "id": "vMGvantzlagi",
        "outputId": "af435c94-251f-4ceb-9503-8bb4bca04351"
      },
      "execution_count": 36,
      "outputs": [
        {
          "output_type": "execute_result",
          "data": {
            "text/plain": [
              "array([    inf,     inf,     inf, 157.544,  99.432,  64.266,  54.29 ,\n",
              "        42.115,  23.306,  22.346,  17.395,  10.366,  10.345,   4.37 ,\n",
              "         1.988,   0.787])"
            ]
          },
          "metadata": {},
          "execution_count": 36
        }
      ]
    },
    {
      "cell_type": "code",
      "source": [
        "plt.barh(best_features_fscore, feature_importances_fscore)\n",
        "plt.xlabel('Imporatnce')\n",
        "plt.ylabel('Features')"
      ],
      "metadata": {
        "colab": {
          "base_uri": "https://localhost:8080/",
          "height": 296
        },
        "id": "o58dNWdQldIA",
        "outputId": "c9c927de-8145-4d77-fdfa-d0c4b9e3883c"
      },
      "execution_count": 37,
      "outputs": [
        {
          "output_type": "execute_result",
          "data": {
            "text/plain": [
              "Text(0, 0.5, 'Features')"
            ]
          },
          "metadata": {},
          "execution_count": 37
        },
        {
          "output_type": "display_data",
          "data": {
            "text/plain": [
              "<Figure size 432x288 with 1 Axes>"
            ],
            "image/png": "[encoded data removed]"
          },
          "metadata": {
            "needs_background": "light"
          }
        }
      ]
    },
    {
      "cell_type": "code",
      "source": [
        "fs_fit_mutual_info = SelectKBest(mutual_info_classif, k=len(X.columns))\n",
        "fs_fit_mutual_info.fit_transform(X_train, y_train)\n",
        "fs_indices_mutual_info = np.argsort(fs_fit_mutual_info.scores_)[::-1][0:len(X.columns)]\n",
        "best_features_mutual_info = df.columns[fs_indices_mutual_info].values\n",
        "best_features_mutual_info"
      ],
      "metadata": {
        "colab": {
          "base_uri": "https://localhost:8080/"
        },
        "id": "58DtixQvnHus",
        "outputId": "d0a344b0-ed16-4910-e5f1-44dedda678f2"
      },
      "execution_count": 38,
      "outputs": [
        {
          "output_type": "execute_result",
          "data": {
            "text/plain": [
              "array(['fins', 'feathers', 'predator', 'toothed', 'eggs', 'backbone',\n",
              "       'animal_name', 'airborne', 'hair', 'legs', 'domestic', 'milk',\n",
              "       'venomous', 'aquatic', 'tail', 'breathes'], dtype=object)"
            ]
          },
          "metadata": {},
          "execution_count": 38
        }
      ]
    },
    {
      "cell_type": "code",
      "source": [
        "feature_importances_mutual_info = fs_fit_mutual_info.scores_[fs_indices_mutual_info]\n",
        "feature_importances_mutual_info"
      ],
      "metadata": {
        "colab": {
          "base_uri": "https://localhost:8080/"
        },
        "id": "7IzH4PZrnM84",
        "outputId": "6f37fbfa-3b55-4fc3-c8c6-e0a370b811d8"
      },
      "execution_count": 39,
      "outputs": [
        {
          "output_type": "execute_result",
          "data": {
            "text/plain": [
              "array([0.977, 0.921, 0.918, 0.898, 0.679, 0.615, 0.574, 0.554, 0.538,\n",
              "       0.528, 0.325, 0.313, 0.245, 0.185, 0.   , 0.   ])"
            ]
          },
          "metadata": {},
          "execution_count": 39
        }
      ]
    },
    {
      "cell_type": "code",
      "source": [
        "plt.barh(best_features_mutual_info,feature_importances_mutual_info)\n",
        "plt.xlabel('Importance')\n",
        "plt.ylabel('Features')"
      ],
      "metadata": {
        "colab": {
          "base_uri": "https://localhost:8080/",
          "height": 296
        },
        "id": "cvZj-3bPnQRE",
        "outputId": "c9363fba-6fff-4972-f823-ccaec7b21f78"
      },
      "execution_count": 40,
      "outputs": [
        {
          "output_type": "execute_result",
          "data": {
            "text/plain": [
              "Text(0, 0.5, 'Features')"
            ]
          },
          "metadata": {},
          "execution_count": 40
        },
        {
          "output_type": "display_data",
          "data": {
            "text/plain": [
              "<Figure size 432x288 with 1 Axes>"
            ],
            "image/png": "[encoded data removed]"
          },
          "metadata": {
            "needs_background": "light"
          }
        }
      ]
    },
    {
      "cell_type": "code",
      "source": [
        "df_corr = df_new.corr()"
      ],
      "metadata": {
        "id": "4kv2V8dqnT_9"
      },
      "execution_count": 41,
      "outputs": []
    },
    {
      "cell_type": "code",
      "source": [
        "df_corr['class_type']"
      ],
      "metadata": {
        "colab": {
          "base_uri": "https://localhost:8080/"
        },
        "id": "sUsN4odXnbD5",
        "outputId": "5b37d86e-a7d6-4340-ed98-80a359030f70"
      },
      "execution_count": 45,
      "outputs": [
        {
          "output_type": "execute_result",
          "data": {
            "text/plain": [
              "hair         -0.562384\n",
              "feathers     -0.197520\n",
              "eggs          0.661825\n",
              "milk         -0.723683\n",
              "airborne      0.022677\n",
              "aquatic       0.326639\n",
              "predator      0.061179\n",
              "toothed      -0.471527\n",
              "backbone     -0.828845\n",
              "breathes     -0.519308\n",
              "venomous      0.321476\n",
              "fins          0.099430\n",
              "legs          0.131693\n",
              "tail         -0.631830\n",
              "domestic     -0.181043\n",
              "catsize      -0.521030\n",
              "class_type    1.000000\n",
              "Name: class_type, dtype: float64"
            ]
          },
          "metadata": {},
          "execution_count": 45
        }
      ]
    },
    {
      "cell_type": "code",
      "source": [
        "estimator = LinearSVC()\n",
        "selector = RFE(estimator, n_features_to_select=1, step=1)\n",
        "selector = selector.fit(X_train, y_train)\n",
        "index = selector.ranking_.argsort()\n",
        "X.columns[index]"
      ],
      "metadata": {
        "colab": {
          "base_uri": "https://localhost:8080/"
        },
        "id": "Ra00okS8ndOA",
        "outputId": "03ce37f1-1b0f-4bb2-a240-c4e459e05f0e"
      },
      "execution_count": 46,
      "outputs": [
        {
          "output_type": "execute_result",
          "data": {
            "text/plain": [
              "Index(['milk', 'feathers', 'fins', 'backbone', 'airborne', 'tail', 'breathes',\n",
              "       'aquatic', 'toothed', 'hair', 'venomous', 'eggs', 'predator', 'catsize',\n",
              "       'legs', 'domestic'],\n",
              "      dtype='object')"
            ]
          },
          "metadata": {},
          "execution_count": 46
        }
      ]
    },
    {
      "cell_type": "code",
      "source": [
        ""
      ],
      "metadata": {
        "id": "3JjJDe9unpfm"
      },
      "execution_count": null,
      "outputs": []
    }
  ]
}