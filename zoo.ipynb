{
  "nbformat": 4,
  "nbformat_minor": 0,
  "metadata": {
    "colab": {
      "name": "zoo.ipynb",
      "provenance": [],
      "authorship_tag": "ABX9TyNPaLutdFdRtKXznTX3iFrv",
      "include_colab_link": true
    },
    "kernelspec": {
      "name": "python3",
      "display_name": "Python 3"
    },
    "language_info": {
      "name": "python"
    }
  },
  "cells": [
    {
      "cell_type": "markdown",
      "metadata": {
        "id": "view-in-github",
        "colab_type": "text"
      },
      "source": [
        "<a href=\"https://colab.research.google.com/github/Noob919/Feature_selection/blob/main/zoo.ipynb\" target=\"_parent\"><img src=\"https://colab.research.google.com/assets/colab-badge.svg\" alt=\"Open In Colab\"/></a>"
      ]
    },
    {
      "cell_type": "code",
      "execution_count": 1,
      "metadata": {
        "id": "KvFvVN-vMQe3"
      },
      "outputs": [],
      "source": [
        "import numpy as np\n",
        "import pandas as pd\n",
        "from sklearn.model_selection import cross_val_score\n",
        "from sklearn import preprocessing\n",
        "from sklearn.feature_selection  import chi2, SelectKBest,mutual_info_classif,SelectPercentile,f_classif\n",
        "from sklearn.inspection import permutation_importance\n",
        "from sklearn.model_selection import train_test_split\n",
        "from sklearn.tree import DecisionTreeClassifier\n",
        "from sklearn.linear_model import LogisticRegression\n",
        "from sklearn.ensemble import RandomForestClassifier\n",
        "from sklearn.preprocessing import LabelEncoder\n",
        "from sklearn.preprocessing import StandardScaler\n",
        "from sklearn.feature_selection import RFE\n",
        "from sklearn.svm import LinearSVC\n",
        "from sklearn.decomposition import PCA\n",
        "import matplotlib.pyplot as plt\n",
        "import seaborn as sns"
      ]
    },
    {
      "cell_type": "code",
      "source": [
        "df = pd.read_csv('https://raw.githubusercontent.com/Noob919/Feature_selection/main/Data/zoo.csv')"
      ],
      "metadata": {
        "id": "812TBIXWMvXZ"
      },
      "execution_count": 2,
      "outputs": []
    },
    {
      "cell_type": "code",
      "source": [
        "df_new = df.drop(['animal_name'], axis =1)"
      ],
      "metadata": {
        "id": "BMOGw1ftM2Hr"
      },
      "execution_count": 3,
      "outputs": []
    },
    {
      "cell_type": "code",
      "source": [
        "X = df_new.drop(['class_type'], axis = 1)\n",
        "y = df_new['class_type']"
      ],
      "metadata": {
        "id": "Xlw0xTePM4AB"
      },
      "execution_count": 4,
      "outputs": []
    },
    {
      "cell_type": "code",
      "source": [
        "X_train, X_test, y_train, y_test = train_test_split(X, y, test_size=0.1, random_state=0)"
      ],
      "metadata": {
        "id": "6ghb800GinRa"
      },
      "execution_count": 5,
      "outputs": []
    },
    {
      "cell_type": "code",
      "source": [
        "test = SelectKBest(score_func=chi2, k=len(X.columns)).fit(X,y)\n",
        "np.set_printoptions(precision=3)\n",
        "score  =  test.scores_"
      ],
      "metadata": {
        "id": "LOCOxYC9i1Hf"
      },
      "execution_count": 6,
      "outputs": []
    },
    {
      "cell_type": "code",
      "source": [
        "sns.barplot(x  = score,y = X.columns )\n",
        "plt.xlabel('Importance Score')\n",
        "plt.ylabel('Features name')"
      ],
      "metadata": {
        "colab": {
          "base_uri": "https://localhost:8080/",
          "height": 296
        },
        "id": "-mQ_yzFLjAsM",
        "outputId": "b0ce8bf3-2494-4d17-ffe0-e21a635707b7"
      },
      "execution_count": 7,
      "outputs": [
        {
          "output_type": "execute_result",
          "data": {
            "text/plain": [
              "Text(0, 0.5, 'Features name')"
            ]
          },
          "metadata": {},
          "execution_count": 7
        },
        {
          "output_type": "display_data",
          "data": {
            "text/plain": [
              "<Figure size 432x288 with 1 Axes>"
            ],
            "image/png": "[encoded data removed]"
          },
          "metadata": {
            "needs_background": "light"
          }
        }
      ]
    },
    {
      "cell_type": "code",
      "source": [
        "dc = {'Chi2 ranking': X.columns[score.argsort()[::-1]],'score': np.sort(score)[::-1]}\n",
        "ranking_chi = pd.DataFrame(data =  dc)\n",
        "ranking_chi.to_excel(\"zoo_dataset.xlsx\",sheet_name='Chi_2')  "
      ],
      "metadata": {
        "id": "LnY5PiKxsRKF"
      },
      "execution_count": 8,
      "outputs": []
    },
    {
      "cell_type": "code",
      "source": [
        "rf = RandomForestClassifier(n_estimators=150)\n",
        "rf.fit(X_train, y_train)"
      ],
      "metadata": {
        "colab": {
          "base_uri": "https://localhost:8080/"
        },
        "id": "BXo6Un26jRLW",
        "outputId": "1fdf488c-611a-4105-de9b-02490b99b225"
      },
      "execution_count": 9,
      "outputs": [
        {
          "output_type": "execute_result",
          "data": {
            "text/plain": [
              "RandomForestClassifier(n_estimators=150)"
            ]
          },
          "metadata": {},
          "execution_count": 9
        }
      ]
    },
    {
      "cell_type": "code",
      "source": [
        "rf.feature_importances_"
      ],
      "metadata": {
        "colab": {
          "base_uri": "https://localhost:8080/"
        },
        "id": "fvdmfpAnjuEP",
        "outputId": "3cb83726-152b-48ab-9a4b-2f83d584fdf8"
      },
      "execution_count": 10,
      "outputs": [
        {
          "output_type": "execute_result",
          "data": {
            "text/plain": [
              "array([0.076, 0.108, 0.109, 0.156, 0.039, 0.035, 0.017, 0.081, 0.084,\n",
              "       0.069, 0.013, 0.059, 0.093, 0.041, 0.   , 0.02 ])"
            ]
          },
          "metadata": {},
          "execution_count": 10
        }
      ]
    },
    {
      "cell_type": "code",
      "source": [
        "sort = rf.feature_importances_\n",
        "plt.barh(X.columns, rf.feature_importances_)\n",
        "plt.xlabel(\"Feature Importance\")"
      ],
      "metadata": {
        "colab": {
          "base_uri": "https://localhost:8080/",
          "height": 296
        },
        "id": "Yo4WPOMCkXbC",
        "outputId": "34b58f9e-1f15-4c57-f2b9-ed49ad37e730"
      },
      "execution_count": 11,
      "outputs": [
        {
          "output_type": "execute_result",
          "data": {
            "text/plain": [
              "Text(0.5, 0, 'Feature Importance')"
            ]
          },
          "metadata": {},
          "execution_count": 11
        },
        {
          "output_type": "display_data",
          "data": {
            "text/plain": [
              "<Figure size 432x288 with 1 Axes>"
            ],
            "image/png": "[encoded data removed]"
          },
          "metadata": {
            "needs_background": "light"
          }
        }
      ]
    },
    {
      "cell_type": "code",
      "source": [
        "dc = {'Tree based method Attributes': X.columns[rf.feature_importances_.argsort()[::-1]],'score': np.sort(rf.feature_importances_)[::-1] }\n",
        "rank_tree = pd.DataFrame(data =  dc) \n",
        "from openpyxl import load_workbook\n",
        "book = load_workbook('/content/zoo_dataset.xlsx')\n",
        "writer = pd.ExcelWriter('/content/zoo_dataset.xlsx', engine='openpyxl') \n",
        "writer.book = book\n",
        "## ExcelWriter for some reason uses writer.sheets to access the sheet.\n",
        "## If you leave it empty it will not know that sheet Main is already there\n",
        "## and will create a new sheet.\n",
        "writer.sheets = dict((ws.title, ws) for ws in book.worksheets)\n",
        "rank_tree.to_excel(writer, \"Tree_based_method\")\n",
        "writer.save()"
      ],
      "metadata": {
        "id": "7NtuhFbDsYTQ"
      },
      "execution_count": 12,
      "outputs": []
    },
    {
      "cell_type": "code",
      "source": [
        "clf = LogisticRegression(solver = 'liblinear').fit(X_train, y_train)"
      ],
      "metadata": {
        "id": "VptOhq2qkZ0z"
      },
      "execution_count": 13,
      "outputs": []
    },
    {
      "cell_type": "code",
      "source": [
        "result = permutation_importance(clf, X, y, n_repeats=10, random_state=0)"
      ],
      "metadata": {
        "id": "fiGcgPBGkpED"
      },
      "execution_count": 14,
      "outputs": []
    },
    {
      "cell_type": "code",
      "source": [
        "plt.barh(X.columns, result.importances_mean )\n",
        "plt.xlabel(\"Feature Importance MEAN\")"
      ],
      "metadata": {
        "colab": {
          "base_uri": "https://localhost:8080/",
          "height": 296
        },
        "id": "KVkvcM79k6BD",
        "outputId": "3890ad58-eac3-4545-9217-753a6e0642ce"
      },
      "execution_count": 15,
      "outputs": [
        {
          "output_type": "execute_result",
          "data": {
            "text/plain": [
              "Text(0.5, 0, 'Feature Importance MEAN')"
            ]
          },
          "metadata": {},
          "execution_count": 15
        },
        {
          "output_type": "display_data",
          "data": {
            "text/plain": [
              "<Figure size 432x288 with 1 Axes>"
            ],
            "image/png": "[encoded data removed]"
          },
          "metadata": {
            "needs_background": "light"
          }
        }
      ]
    },
    {
      "cell_type": "code",
      "source": [
        "dc = {'Permutation_importance_mean': X.columns[result.importances_mean.argsort()[::-1]],'score': np.sort(result.importances_mean)[::-1]}\n",
        "rank_per_mean = pd.DataFrame(data =  dc) \n",
        "book = load_workbook('/content/zoo_dataset.xlsx')\n",
        "writer = pd.ExcelWriter('/content/zoo_dataset.xlsx', engine='openpyxl') \n",
        "writer.book = book\n",
        "## ExcelWriter for some reason uses writer.sheets to access the sheet.\n",
        "## If you leave it empty it will not know that sheet Main is already there\n",
        "## and will create a new sheet.\n",
        "writer.sheets = dict((ws.title, ws) for ws in book.worksheets)\n",
        "rank_per_mean.to_excel(writer, \"permutation_method_mean\")\n",
        "writer.save()"
      ],
      "metadata": {
        "id": "KgFx0ng3slA1"
      },
      "execution_count": 16,
      "outputs": []
    },
    {
      "cell_type": "code",
      "source": [
        "plt.barh(X.columns, result.importances_std)\n",
        "plt.xlabel(\"Feature Importance STD\")"
      ],
      "metadata": {
        "colab": {
          "base_uri": "https://localhost:8080/",
          "height": 296
        },
        "id": "1ibLn0z1k8zr",
        "outputId": "5cb40594-c807-4cdf-afc9-d49704a7fed2"
      },
      "execution_count": 17,
      "outputs": [
        {
          "output_type": "execute_result",
          "data": {
            "text/plain": [
              "Text(0.5, 0, 'Feature Importance STD')"
            ]
          },
          "metadata": {},
          "execution_count": 17
        },
        {
          "output_type": "display_data",
          "data": {
            "text/plain": [
              "<Figure size 432x288 with 1 Axes>"
            ],
            "image/png": "[encoded data removed]"
          },
          "metadata": {
            "needs_background": "light"
          }
        }
      ]
    },
    {
      "cell_type": "code",
      "source": [
        "dc = {'Permutation_importance_std': X.columns[result.importances_std.argsort()[::-1]],'score': np.sort(result.importances_std)[::-1]}\n",
        "rank_per_std = pd.DataFrame(data =  dc) \n",
        "book = load_workbook('/content/zoo_dataset.xlsx')\n",
        "writer = pd.ExcelWriter('/content/zoo_dataset.xlsx', engine='openpyxl') \n",
        "writer.book = book\n",
        "\n",
        "## ExcelWriter for some reason uses writer.sheets to access the sheet.\n",
        "## If you leave it empty it will not know that sheet Main is already there\n",
        "## and will create a new sheet.\n",
        "\n",
        "writer.sheets = dict((ws.title, ws) for ws in book.worksheets)\n",
        "rank_per_std.to_excel(writer, \"permutation_method_std\")\n",
        "writer.save()"
      ],
      "metadata": {
        "id": "lLW57mWdsp4-"
      },
      "execution_count": 18,
      "outputs": []
    },
    {
      "cell_type": "code",
      "source": [
        "pca = PCA().fit(X_train)\n",
        "plt.plot(pca.explained_variance_ratio_.cumsum(), lw=3, color='#087E8B')\n",
        "plt.title('Cumulative explained variance by number of principal components', size=5)\n",
        "plt.show()"
      ],
      "metadata": {
        "colab": {
          "base_uri": "https://localhost:8080/",
          "height": 275
        },
        "id": "FnddbrhtlBAq",
        "outputId": "fe4e381d-7589-45f2-fda3-cf9693b775f6"
      },
      "execution_count": 19,
      "outputs": [
        {
          "output_type": "display_data",
          "data": {
            "text/plain": [
              "<Figure size 432x288 with 1 Axes>"
            ],
            "image/png": "[encoded data removed]"
          },
          "metadata": {
            "needs_background": "light"
          }
        }
      ]
    },
    {
      "cell_type": "code",
      "source": [
        "loadings = pd.DataFrame(\n",
        "    data=pca.components_.T * np.sqrt(pca.explained_variance_), \n",
        "    columns=[f'PC{i}' for i in range(1, len(X.columns) + 1)],\n",
        "    index=X.columns\n",
        ")\n",
        "loadings.head()"
      ],
      "metadata": {
        "colab": {
          "base_uri": "https://localhost:8080/",
          "height": 270
        },
        "id": "sI0t4AjylD8S",
        "outputId": "2e17e753-53e3-4efd-db6e-14f50cd60c25"
      },
      "execution_count": 20,
      "outputs": [
        {
          "output_type": "execute_result",
          "data": {
            "text/plain": [
              "               PC1       PC2       PC3       PC4       PC5       PC6  \\\n",
              "hair      0.235536 -0.369555 -0.070887  0.105224  0.044667  0.014759   \n",
              "feathers -0.097160  0.187174 -0.265549 -0.192504  0.006253 -0.019414   \n",
              "eggs     -0.137252  0.438359  0.028989 -0.038849 -0.034068 -0.062491   \n",
              "milk      0.132085 -0.449584 -0.047551  0.030786  0.043295  0.004581   \n",
              "airborne  0.022362  0.234548 -0.268059 -0.028516 -0.017726  0.054993   \n",
              "\n",
              "               PC7       PC8       PC9      PC10      PC11      PC12  \\\n",
              "hair      0.119674 -0.004450 -0.054551 -0.023546 -0.021805 -0.110503   \n",
              "feathers  0.035179  0.040960  0.038803  0.035543 -0.038416 -0.008841   \n",
              "eggs     -0.046915 -0.007030  0.024478 -0.090561  0.030877 -0.092010   \n",
              "milk      0.081144 -0.007455  0.024824  0.036464 -0.065008  0.031117   \n",
              "airborne  0.202977 -0.027622 -0.079291 -0.088805  0.023548  0.021610   \n",
              "\n",
              "              PC13      PC14      PC15      PC16  \n",
              "hair      0.057581  0.041122 -0.026622  0.007697  \n",
              "feathers -0.049590  0.070548 -0.023642 -0.026779  \n",
              "eggs      0.069468 -0.006019  0.023638 -0.022724  \n",
              "milk      0.029116 -0.006231  0.050559 -0.028232  \n",
              "airborne -0.035179 -0.049137  0.007403  0.000857  "
            ],
            "text/html": [
              "\n",
              "  <div id=\"df-078eeac4-bb2b-4f72-a9b2-eff8c5a7ec6a\">\n",
              "    <div class=\"colab-df-container\">\n",
              "      <div>\n",
              "<style scoped>\n",
              "    .dataframe tbody tr th:only-of-type {\n",
              "        vertical-align: middle;\n",
              "    }\n",
              "\n",
              "    .dataframe tbody tr th {\n",
              "        vertical-align: top;\n",
              "    }\n",
              "\n",
              "    .dataframe thead th {\n",
              "        text-align: right;\n",
              "    }\n",
              "</style>\n",
              "<table border=\"1\" class=\"dataframe\">\n",
              "  <thead>\n",
              "    <tr style=\"text-align: right;\">\n",
              "      <th></th>\n",
              "      <th>PC1</th>\n",
              "      <th>PC2</th>\n",
              "      <th>PC3</th>\n",
              "      <th>PC4</th>\n",
              "      <th>PC5</th>\n",
              "      <th>PC6</th>\n",
              "      <th>PC7</th>\n",
              "      <th>PC8</th>\n",
              "      <th>PC9</th>\n",
              "      <th>PC10</th>\n",
              "      <th>PC11</th>\n",
              "      <th>PC12</th>\n",
              "      <th>PC13</th>\n",
              "      <th>PC14</th>\n",
              "      <th>PC15</th>\n",
              "      <th>PC16</th>\n",
              "    </tr>\n",
              "  </thead>\n",
              "  <tbody>\n",
              "    <tr>\n",
              "      <th>hair</th>\n",
              "      <td>0.235536</td>\n",
              "      <td>-0.369555</td>\n",
              "      <td>-0.070887</td>\n",
              "      <td>0.105224</td>\n",
              "      <td>0.044667</td>\n",
              "      <td>0.014759</td>\n",
              "      <td>0.119674</td>\n",
              "      <td>-0.004450</td>\n",
              "      <td>-0.054551</td>\n",
              "      <td>-0.023546</td>\n",
              "      <td>-0.021805</td>\n",
              "      <td>-0.110503</td>\n",
              "      <td>0.057581</td>\n",
              "      <td>0.041122</td>\n",
              "      <td>-0.026622</td>\n",
              "      <td>0.007697</td>\n",
              "    </tr>\n",
              "    <tr>\n",
              "      <th>feathers</th>\n",
              "      <td>-0.097160</td>\n",
              "      <td>0.187174</td>\n",
              "      <td>-0.265549</td>\n",
              "      <td>-0.192504</td>\n",
              "      <td>0.006253</td>\n",
              "      <td>-0.019414</td>\n",
              "      <td>0.035179</td>\n",
              "      <td>0.040960</td>\n",
              "      <td>0.038803</td>\n",
              "      <td>0.035543</td>\n",
              "      <td>-0.038416</td>\n",
              "      <td>-0.008841</td>\n",
              "      <td>-0.049590</td>\n",
              "      <td>0.070548</td>\n",
              "      <td>-0.023642</td>\n",
              "      <td>-0.026779</td>\n",
              "    </tr>\n",
              "    <tr>\n",
              "      <th>eggs</th>\n",
              "      <td>-0.137252</td>\n",
              "      <td>0.438359</td>\n",
              "      <td>0.028989</td>\n",
              "      <td>-0.038849</td>\n",
              "      <td>-0.034068</td>\n",
              "      <td>-0.062491</td>\n",
              "      <td>-0.046915</td>\n",
              "      <td>-0.007030</td>\n",
              "      <td>0.024478</td>\n",
              "      <td>-0.090561</td>\n",
              "      <td>0.030877</td>\n",
              "      <td>-0.092010</td>\n",
              "      <td>0.069468</td>\n",
              "      <td>-0.006019</td>\n",
              "      <td>0.023638</td>\n",
              "      <td>-0.022724</td>\n",
              "    </tr>\n",
              "    <tr>\n",
              "      <th>milk</th>\n",
              "      <td>0.132085</td>\n",
              "      <td>-0.449584</td>\n",
              "      <td>-0.047551</td>\n",
              "      <td>0.030786</td>\n",
              "      <td>0.043295</td>\n",
              "      <td>0.004581</td>\n",
              "      <td>0.081144</td>\n",
              "      <td>-0.007455</td>\n",
              "      <td>0.024824</td>\n",
              "      <td>0.036464</td>\n",
              "      <td>-0.065008</td>\n",
              "      <td>0.031117</td>\n",
              "      <td>0.029116</td>\n",
              "      <td>-0.006231</td>\n",
              "      <td>0.050559</td>\n",
              "      <td>-0.028232</td>\n",
              "    </tr>\n",
              "    <tr>\n",
              "      <th>airborne</th>\n",
              "      <td>0.022362</td>\n",
              "      <td>0.234548</td>\n",
              "      <td>-0.268059</td>\n",
              "      <td>-0.028516</td>\n",
              "      <td>-0.017726</td>\n",
              "      <td>0.054993</td>\n",
              "      <td>0.202977</td>\n",
              "      <td>-0.027622</td>\n",
              "      <td>-0.079291</td>\n",
              "      <td>-0.088805</td>\n",
              "      <td>0.023548</td>\n",
              "      <td>0.021610</td>\n",
              "      <td>-0.035179</td>\n",
              "      <td>-0.049137</td>\n",
              "      <td>0.007403</td>\n",
              "      <td>0.000857</td>\n",
              "    </tr>\n",
              "  </tbody>\n",
              "</table>\n",
              "</div>\n",
              "      <button class=\"colab-df-convert\" onclick=\"convertToInteractive('df-078eeac4-bb2b-4f72-a9b2-eff8c5a7ec6a')\"\n",
              "              title=\"Convert this dataframe to an interactive table.\"\n",
              "              style=\"display:none;\">\n",
              "        \n",
              "  <svg xmlns=\"http://www.w3.org/2000/svg\" height=\"24px\"viewBox=\"0 0 24 24\"\n",
              "       width=\"24px\">\n",
              "    <path d=\"M0 0h24v24H0V0z\" fill=\"none\"/>\n",
              "    <path d=\"M18.56 5.44l.94 2.06.94-2.06 2.06-.94-2.06-.94-.94-2.06-.94 2.06-2.06.94zm-11 1L8.5 8.5l.94-2.06 2.06-.94-2.06-.94L8.5 2.5l-.94 2.06-2.06.94zm10 10l.94 2.06.94-2.06 2.06-.94-2.06-.94-.94-2.06-.94 2.06-2.06.94z\"/><path d=\"M17.41 7.96l-1.37-1.37c-.4-.4-.92-.59-1.43-.59-.52 0-1.04.2-1.43.59L10.3 9.45l-7.72 7.72c-.78.78-.78 2.05 0 2.83L4 21.41c.39.39.9.59 1.41.59.51 0 1.02-.2 1.41-.59l7.78-7.78 2.81-2.81c.8-.78.8-2.07 0-2.86zM5.41 20L4 18.59l7.72-7.72 1.47 1.35L5.41 20z\"/>\n",
              "  </svg>\n",
              "      </button>\n",
              "      \n",
              "  <style>\n",
              "    .colab-df-container {\n",
              "      display:flex;\n",
              "      flex-wrap:wrap;\n",
              "      gap: 12px;\n",
              "    }\n",
              "\n",
              "    .colab-df-convert {\n",
              "      background-color: #E8F0FE;\n",
              "      border: none;\n",
              "      border-radius: 50%;\n",
              "      cursor: pointer;\n",
              "      display: none;\n",
              "      fill: #1967D2;\n",
              "      height: 32px;\n",
              "      padding: 0 0 0 0;\n",
              "      width: 32px;\n",
              "    }\n",
              "\n",
              "    .colab-df-convert:hover {\n",
              "      background-color: #E2EBFA;\n",
              "      box-shadow: 0px 1px 2px rgba(60, 64, 67, 0.3), 0px 1px 3px 1px rgba(60, 64, 67, 0.15);\n",
              "      fill: #174EA6;\n",
              "    }\n",
              "\n",
              "    [theme=dark] .colab-df-convert {\n",
              "      background-color: #3B4455;\n",
              "      fill: #D2E3FC;\n",
              "    }\n",
              "\n",
              "    [theme=dark] .colab-df-convert:hover {\n",
              "      background-color: #434B5C;\n",
              "      box-shadow: 0px 1px 3px 1px rgba(0, 0, 0, 0.15);\n",
              "      filter: drop-shadow(0px 1px 2px rgba(0, 0, 0, 0.3));\n",
              "      fill: #FFFFFF;\n",
              "    }\n",
              "  </style>\n",
              "\n",
              "      <script>\n",
              "        const buttonEl =\n",
              "          document.querySelector('#df-078eeac4-bb2b-4f72-a9b2-eff8c5a7ec6a button.colab-df-convert');\n",
              "        buttonEl.style.display =\n",
              "          google.colab.kernel.accessAllowed ? 'block' : 'none';\n",
              "\n",
              "        async function convertToInteractive(key) {\n",
              "          const element = document.querySelector('#df-078eeac4-bb2b-4f72-a9b2-eff8c5a7ec6a');\n",
              "          const dataTable =\n",
              "            await google.colab.kernel.invokeFunction('convertToInteractive',\n",
              "                                                     [key], {});\n",
              "          if (!dataTable) return;\n",
              "\n",
              "          const docLinkHtml = 'Like what you see? Visit the ' +\n",
              "            '<a target=\"_blank\" href=https://colab.research.google.com/notebooks/data_table.ipynb>data table notebook</a>'\n",
              "            + ' to learn more about interactive tables.';\n",
              "          element.innerHTML = '';\n",
              "          dataTable['output_type'] = 'display_data';\n",
              "          await google.colab.output.renderOutput(dataTable, element);\n",
              "          const docLink = document.createElement('div');\n",
              "          docLink.innerHTML = docLinkHtml;\n",
              "          element.appendChild(docLink);\n",
              "        }\n",
              "      </script>\n",
              "    </div>\n",
              "  </div>\n",
              "  "
            ]
          },
          "metadata": {},
          "execution_count": 20
        }
      ]
    },
    {
      "cell_type": "code",
      "source": [
        "pc1_loadings = loadings.sort_values(by='PC1', ascending=False)[['PC1']]\n",
        "pc1_loadings = pc1_loadings.reset_index()\n",
        "pc1_loadings.columns = ['Attribute', 'CorrelationWithPC1']\n",
        "\n",
        "plt.bar(x=pc1_loadings['Attribute'], height=pc1_loadings['CorrelationWithPC1'], color='#087E8B')\n",
        "plt.title('PCA loading scores (first principal component)', size=5)\n",
        "plt.xticks(rotation='vertical')\n",
        "plt.show()"
      ],
      "metadata": {
        "colab": {
          "base_uri": "https://localhost:8080/",
          "height": 317
        },
        "id": "Ww4Xt6nJlH1n",
        "outputId": "40384d5e-a806-43cc-e274-925e3885e035"
      },
      "execution_count": 21,
      "outputs": [
        {
          "output_type": "display_data",
          "data": {
            "text/plain": [
              "<Figure size 432x288 with 1 Axes>"
            ],
            "image/png": "[encoded data removed]"
          },
          "metadata": {
            "needs_background": "light"
          }
        }
      ]
    },
    {
      "cell_type": "code",
      "source": [
        "pc2_loadings = loadings.sort_values(by='PC2', ascending=False)[['PC2']]\n",
        "pc2_loadings = pc2_loadings.reset_index()\n",
        "pc2_loadings.columns = ['Attribute', 'CorrelationWithPC2']\n",
        "\n",
        "plt.bar(x=pc2_loadings['Attribute'], height=pc2_loadings['CorrelationWithPC2'], color='#087E8B')\n",
        "plt.title('PCA loading scores (Second principal component)', size=5)\n",
        "plt.xticks(rotation='vertical')\n",
        "plt.show()"
      ],
      "metadata": {
        "colab": {
          "base_uri": "https://localhost:8080/",
          "height": 317
        },
        "id": "4n-ZyGOzlP7C",
        "outputId": "5fb9d2b7-26cd-42ae-c35d-9e5498c35b98"
      },
      "execution_count": null,
      "outputs": [
        {
          "output_type": "display_data",
          "data": {
            "text/plain": [
              "<Figure size 432x288 with 1 Axes>"
            ],
            "image/png": "[encoded data removed]"
          },
          "metadata": {
            "needs_background": "light"
          }
        }
      ]
    },
    {
      "cell_type": "code",
      "source": [
        "rank_pca = pd.DataFrame(loadings['PC1'])\n",
        "rank_pca =  rank_pca.sort_values(by='PC1', ascending = False)\n",
        "book = load_workbook('/content/zoo_dataset.xlsx')\n",
        "writer = pd.ExcelWriter('/content/zoo_dataset.xlsx', engine='openpyxl') \n",
        "writer.book = book\n",
        "## ExcelWriter for some reason uses writer.sheets to access the sheet.\n",
        "## If you leave it empty it will not know that sheet Main is already there\n",
        "## and will create a new sheet.\n",
        "writer.sheets = dict((ws.title, ws) for ws in book.worksheets)\n",
        "rank_pca.to_excel(writer, \"PCA\")\n",
        "writer.save()"
      ],
      "metadata": {
        "id": "GQZL_xNuswU4"
      },
      "execution_count": 22,
      "outputs": []
    },
    {
      "cell_type": "code",
      "source": [
        "fs_fit_fscore = SelectKBest(f_classif, k=len(X.columns))\n",
        "fs_fit_fscore.fit_transform(X_train, y_train)\n",
        "fs_indices_fscore = np.argsort(np.nan_to_num(fs_fit_fscore.scores_))[::-1][0:len(X.columns)]\n",
        "fs_indices_fscore"
      ],
      "metadata": {
        "colab": {
          "base_uri": "https://localhost:8080/"
        },
        "id": "85dK8lD7lSYC",
        "outputId": "2cb4387e-d9e7-411b-f00c-d38b16edc0be"
      },
      "execution_count": 23,
      "outputs": [
        {
          "output_type": "stream",
          "name": "stderr",
          "text": [
            "/usr/local/lib/python3.7/dist-packages/sklearn/feature_selection/_univariate_selection.py:113: RuntimeWarning: divide by zero encountered in true_divide\n",
            "  f = msb / msw\n"
          ]
        },
        {
          "output_type": "execute_result",
          "data": {
            "text/plain": [
              "array([ 8,  3,  1,  7,  2,  0,  9, 11, 13,  4, 12,  5, 15, 10,  6, 14])"
            ]
          },
          "metadata": {},
          "execution_count": 23
        }
      ]
    },
    {
      "cell_type": "code",
      "source": [
        "best_features_fscore = df.columns[fs_indices_fscore].values\n",
        "best_features_fscore"
      ],
      "metadata": {
        "colab": {
          "base_uri": "https://localhost:8080/"
        },
        "id": "brjWA1fUlV0b",
        "outputId": "c2e55387-4ace-4acc-af8b-c52e1a0c2162"
      },
      "execution_count": 24,
      "outputs": [
        {
          "output_type": "execute_result",
          "data": {
            "text/plain": [
              "array(['toothed', 'eggs', 'hair', 'predator', 'feathers', 'animal_name',\n",
              "       'backbone', 'venomous', 'legs', 'milk', 'fins', 'airborne',\n",
              "       'domestic', 'breathes', 'aquatic', 'tail'], dtype=object)"
            ]
          },
          "metadata": {},
          "execution_count": 24
        }
      ]
    },
    {
      "cell_type": "code",
      "source": [
        "feature_importances_fscore = fs_fit_fscore.scores_[fs_indices_fscore]\n",
        "feature_importances_fscore"
      ],
      "metadata": {
        "colab": {
          "base_uri": "https://localhost:8080/"
        },
        "id": "vMGvantzlagi",
        "outputId": "c7d5781f-ecae-4b5e-99fa-26211be3a6be"
      },
      "execution_count": 25,
      "outputs": [
        {
          "output_type": "execute_result",
          "data": {
            "text/plain": [
              "array([    inf,     inf,     inf, 157.544,  99.432,  64.266,  54.29 ,\n",
              "        42.115,  23.306,  22.346,  17.395,  10.366,  10.345,   4.37 ,\n",
              "         1.988,   0.787])"
            ]
          },
          "metadata": {},
          "execution_count": 25
        }
      ]
    },
    {
      "cell_type": "code",
      "source": [
        "plt.barh(best_features_fscore, feature_importances_fscore)\n",
        "plt.xlabel('Imporatnce')\n",
        "plt.ylabel('Features')"
      ],
      "metadata": {
        "colab": {
          "base_uri": "https://localhost:8080/",
          "height": 296
        },
        "id": "o58dNWdQldIA",
        "outputId": "5f5098e6-6acd-40eb-98d3-52ff09c1d857"
      },
      "execution_count": 26,
      "outputs": [
        {
          "output_type": "execute_result",
          "data": {
            "text/plain": [
              "Text(0, 0.5, 'Features')"
            ]
          },
          "metadata": {},
          "execution_count": 26
        },
        {
          "output_type": "display_data",
          "data": {
            "text/plain": [
              "<Figure size 432x288 with 1 Axes>"
            ],
            "image/png": "[encoded data removed]"
          },
          "metadata": {
            "needs_background": "light"
          }
        }
      ]
    },
    {
      "cell_type": "code",
      "source": [
        "dc = {'Score': feature_importances_fscore , 'Name': best_features_fscore }\n",
        "rank_f_test = pd.DataFrame(dc) \n",
        "book = load_workbook('/content/zoo_dataset.xlsx')\n",
        "writer = pd.ExcelWriter('/content/zoo_dataset.xlsx', engine='openpyxl') \n",
        "writer.book = book\n",
        "## ExcelWriter for some reason uses writer.sheets to access the sheet.\n",
        "## If you leave it empty it will not know that sheet Main is already there\n",
        "## and will create a new sheet.\n",
        "writer.sheets = dict((ws.title, ws) for ws in book.worksheets)\n",
        "rank_f_test.to_excel(writer, \"F_test\")\n",
        "writer.save()"
      ],
      "metadata": {
        "id": "jPFpAuvjs3NO"
      },
      "execution_count": 27,
      "outputs": []
    },
    {
      "cell_type": "code",
      "source": [
        "fs_fit_mutual_info = SelectKBest(mutual_info_classif, k=len(X.columns))\n",
        "fs_fit_mutual_info.fit_transform(X_train, y_train)\n",
        "fs_indices_mutual_info = np.argsort(fs_fit_mutual_info.scores_)[::-1][0:len(X.columns)]\n",
        "best_features_mutual_info = df.columns[fs_indices_mutual_info].values\n",
        "best_features_mutual_info"
      ],
      "metadata": {
        "colab": {
          "base_uri": "https://localhost:8080/"
        },
        "id": "58DtixQvnHus",
        "outputId": "181e240e-224a-460d-d9da-62f0fa872112"
      },
      "execution_count": 28,
      "outputs": [
        {
          "output_type": "execute_result",
          "data": {
            "text/plain": [
              "array(['fins', 'feathers', 'predator', 'backbone', 'toothed', 'eggs',\n",
              "       'hair', 'animal_name', 'legs', 'milk', 'domestic', 'airborne',\n",
              "       'venomous', 'aquatic', 'tail', 'breathes'], dtype=object)"
            ]
          },
          "metadata": {},
          "execution_count": 28
        }
      ]
    },
    {
      "cell_type": "code",
      "source": [
        "feature_importances_mutual_info = fs_fit_mutual_info.scores_[fs_indices_mutual_info]\n",
        "feature_importances_mutual_info"
      ],
      "metadata": {
        "colab": {
          "base_uri": "https://localhost:8080/"
        },
        "id": "7IzH4PZrnM84",
        "outputId": "997e241c-baed-4cc8-b415-3f09b3a2ad3f"
      },
      "execution_count": 29,
      "outputs": [
        {
          "output_type": "execute_result",
          "data": {
            "text/plain": [
              "array([0.94 , 0.938, 0.872, 0.764, 0.749, 0.619, 0.574, 0.567, 0.412,\n",
              "       0.294, 0.254, 0.254, 0.203, 0.2  , 0.   , 0.   ])"
            ]
          },
          "metadata": {},
          "execution_count": 29
        }
      ]
    },
    {
      "cell_type": "code",
      "source": [
        "plt.barh(best_features_mutual_info,feature_importances_mutual_info)\n",
        "plt.xlabel('Importance')\n",
        "plt.ylabel('Features')"
      ],
      "metadata": {
        "colab": {
          "base_uri": "https://localhost:8080/",
          "height": 296
        },
        "id": "cvZj-3bPnQRE",
        "outputId": "e3e0b187-7c44-4043-8692-4818e2d7d734"
      },
      "execution_count": 30,
      "outputs": [
        {
          "output_type": "execute_result",
          "data": {
            "text/plain": [
              "Text(0, 0.5, 'Features')"
            ]
          },
          "metadata": {},
          "execution_count": 30
        },
        {
          "output_type": "display_data",
          "data": {
            "text/plain": [
              "<Figure size 432x288 with 1 Axes>"
            ],
            "image/png": "[encoded data removed]"
          },
          "metadata": {
            "needs_background": "light"
          }
        }
      ]
    },
    {
      "cell_type": "code",
      "source": [
        "dc = {'Score':feature_importances_mutual_info, 'Name':best_features_mutual_info }\n",
        "rank_mutual = pd.DataFrame(dc)\n",
        "book = load_workbook('/content/zoo_dataset.xlsx')\n",
        "writer = pd.ExcelWriter('/content/zoo_dataset.xlsx', engine='openpyxl') \n",
        "writer.book = book\n",
        "\n",
        "## ExcelWriter for some reason uses writer.sheets to access the sheet.\n",
        "## If you leave it empty it will not know that sheet Main is already there\n",
        "## and will create a new sheet.\n",
        "\n",
        "writer.sheets = dict((ws.title, ws) for ws in book.worksheets)\n",
        "rank_mutual.to_excel(writer, \"mutual_info\")\n",
        "writer.save()"
      ],
      "metadata": {
        "id": "8F-B5bWhs8uu"
      },
      "execution_count": 31,
      "outputs": []
    },
    {
      "cell_type": "code",
      "source": [
        "df_corr = df_new.corr()"
      ],
      "metadata": {
        "id": "4kv2V8dqnT_9"
      },
      "execution_count": 32,
      "outputs": []
    },
    {
      "cell_type": "code",
      "source": [
        "df_corr['class_type']\n",
        "corr_rank = pd.DataFrame(df_corr['class_type'])\n",
        "corr_rank = corr_rank.sort_values(by = 'class_type',ascending = False)\n",
        "corr_rank"
      ],
      "metadata": {
        "colab": {
          "base_uri": "https://localhost:8080/",
          "height": 582
        },
        "id": "sUsN4odXnbD5",
        "outputId": "6f0d8a77-dee6-4c2e-d29c-afc246d1060e"
      },
      "execution_count": 33,
      "outputs": [
        {
          "output_type": "execute_result",
          "data": {
            "text/plain": [
              "            class_type\n",
              "class_type    1.000000\n",
              "eggs          0.661825\n",
              "aquatic       0.326639\n",
              "venomous      0.321476\n",
              "legs          0.131693\n",
              "fins          0.099430\n",
              "predator      0.061179\n",
              "airborne      0.022677\n",
              "domestic     -0.181043\n",
              "feathers     -0.197520\n",
              "toothed      -0.471527\n",
              "breathes     -0.519308\n",
              "catsize      -0.521030\n",
              "hair         -0.562384\n",
              "tail         -0.631830\n",
              "milk         -0.723683\n",
              "backbone     -0.828845"
            ],
            "text/html": [
              "\n",
              "  <div id=\"df-e910ef7d-1949-4193-89b7-ecaa3ab79e2f\">\n",
              "    <div class=\"colab-df-container\">\n",
              "      <div>\n",
              "<style scoped>\n",
              "    .dataframe tbody tr th:only-of-type {\n",
              "        vertical-align: middle;\n",
              "    }\n",
              "\n",
              "    .dataframe tbody tr th {\n",
              "        vertical-align: top;\n",
              "    }\n",
              "\n",
              "    .dataframe thead th {\n",
              "        text-align: right;\n",
              "    }\n",
              "</style>\n",
              "<table border=\"1\" class=\"dataframe\">\n",
              "  <thead>\n",
              "    <tr style=\"text-align: right;\">\n",
              "      <th></th>\n",
              "      <th>class_type</th>\n",
              "    </tr>\n",
              "  </thead>\n",
              "  <tbody>\n",
              "    <tr>\n",
              "      <th>class_type</th>\n",
              "      <td>1.000000</td>\n",
              "    </tr>\n",
              "    <tr>\n",
              "      <th>eggs</th>\n",
              "      <td>0.661825</td>\n",
              "    </tr>\n",
              "    <tr>\n",
              "      <th>aquatic</th>\n",
              "      <td>0.326639</td>\n",
              "    </tr>\n",
              "    <tr>\n",
              "      <th>venomous</th>\n",
              "      <td>0.321476</td>\n",
              "    </tr>\n",
              "    <tr>\n",
              "      <th>legs</th>\n",
              "      <td>0.131693</td>\n",
              "    </tr>\n",
              "    <tr>\n",
              "      <th>fins</th>\n",
              "      <td>0.099430</td>\n",
              "    </tr>\n",
              "    <tr>\n",
              "      <th>predator</th>\n",
              "      <td>0.061179</td>\n",
              "    </tr>\n",
              "    <tr>\n",
              "      <th>airborne</th>\n",
              "      <td>0.022677</td>\n",
              "    </tr>\n",
              "    <tr>\n",
              "      <th>domestic</th>\n",
              "      <td>-0.181043</td>\n",
              "    </tr>\n",
              "    <tr>\n",
              "      <th>feathers</th>\n",
              "      <td>-0.197520</td>\n",
              "    </tr>\n",
              "    <tr>\n",
              "      <th>toothed</th>\n",
              "      <td>-0.471527</td>\n",
              "    </tr>\n",
              "    <tr>\n",
              "      <th>breathes</th>\n",
              "      <td>-0.519308</td>\n",
              "    </tr>\n",
              "    <tr>\n",
              "      <th>catsize</th>\n",
              "      <td>-0.521030</td>\n",
              "    </tr>\n",
              "    <tr>\n",
              "      <th>hair</th>\n",
              "      <td>-0.562384</td>\n",
              "    </tr>\n",
              "    <tr>\n",
              "      <th>tail</th>\n",
              "      <td>-0.631830</td>\n",
              "    </tr>\n",
              "    <tr>\n",
              "      <th>milk</th>\n",
              "      <td>-0.723683</td>\n",
              "    </tr>\n",
              "    <tr>\n",
              "      <th>backbone</th>\n",
              "      <td>-0.828845</td>\n",
              "    </tr>\n",
              "  </tbody>\n",
              "</table>\n",
              "</div>\n",
              "      <button class=\"colab-df-convert\" onclick=\"convertToInteractive('df-e910ef7d-1949-4193-89b7-ecaa3ab79e2f')\"\n",
              "              title=\"Convert this dataframe to an interactive table.\"\n",
              "              style=\"display:none;\">\n",
              "        \n",
              "  <svg xmlns=\"http://www.w3.org/2000/svg\" height=\"24px\"viewBox=\"0 0 24 24\"\n",
              "       width=\"24px\">\n",
              "    <path d=\"M0 0h24v24H0V0z\" fill=\"none\"/>\n",
              "    <path d=\"M18.56 5.44l.94 2.06.94-2.06 2.06-.94-2.06-.94-.94-2.06-.94 2.06-2.06.94zm-11 1L8.5 8.5l.94-2.06 2.06-.94-2.06-.94L8.5 2.5l-.94 2.06-2.06.94zm10 10l.94 2.06.94-2.06 2.06-.94-2.06-.94-.94-2.06-.94 2.06-2.06.94z\"/><path d=\"M17.41 7.96l-1.37-1.37c-.4-.4-.92-.59-1.43-.59-.52 0-1.04.2-1.43.59L10.3 9.45l-7.72 7.72c-.78.78-.78 2.05 0 2.83L4 21.41c.39.39.9.59 1.41.59.51 0 1.02-.2 1.41-.59l7.78-7.78 2.81-2.81c.8-.78.8-2.07 0-2.86zM5.41 20L4 18.59l7.72-7.72 1.47 1.35L5.41 20z\"/>\n",
              "  </svg>\n",
              "      </button>\n",
              "      \n",
              "  <style>\n",
              "    .colab-df-container {\n",
              "      display:flex;\n",
              "      flex-wrap:wrap;\n",
              "      gap: 12px;\n",
              "    }\n",
              "\n",
              "    .colab-df-convert {\n",
              "      background-color: #E8F0FE;\n",
              "      border: none;\n",
              "      border-radius: 50%;\n",
              "      cursor: pointer;\n",
              "      display: none;\n",
              "      fill: #1967D2;\n",
              "      height: 32px;\n",
              "      padding: 0 0 0 0;\n",
              "      width: 32px;\n",
              "    }\n",
              "\n",
              "    .colab-df-convert:hover {\n",
              "      background-color: #E2EBFA;\n",
              "      box-shadow: 0px 1px 2px rgba(60, 64, 67, 0.3), 0px 1px 3px 1px rgba(60, 64, 67, 0.15);\n",
              "      fill: #174EA6;\n",
              "    }\n",
              "\n",
              "    [theme=dark] .colab-df-convert {\n",
              "      background-color: #3B4455;\n",
              "      fill: #D2E3FC;\n",
              "    }\n",
              "\n",
              "    [theme=dark] .colab-df-convert:hover {\n",
              "      background-color: #434B5C;\n",
              "      box-shadow: 0px 1px 3px 1px rgba(0, 0, 0, 0.15);\n",
              "      filter: drop-shadow(0px 1px 2px rgba(0, 0, 0, 0.3));\n",
              "      fill: #FFFFFF;\n",
              "    }\n",
              "  </style>\n",
              "\n",
              "      <script>\n",
              "        const buttonEl =\n",
              "          document.querySelector('#df-e910ef7d-1949-4193-89b7-ecaa3ab79e2f button.colab-df-convert');\n",
              "        buttonEl.style.display =\n",
              "          google.colab.kernel.accessAllowed ? 'block' : 'none';\n",
              "\n",
              "        async function convertToInteractive(key) {\n",
              "          const element = document.querySelector('#df-e910ef7d-1949-4193-89b7-ecaa3ab79e2f');\n",
              "          const dataTable =\n",
              "            await google.colab.kernel.invokeFunction('convertToInteractive',\n",
              "                                                     [key], {});\n",
              "          if (!dataTable) return;\n",
              "\n",
              "          const docLinkHtml = 'Like what you see? Visit the ' +\n",
              "            '<a target=\"_blank\" href=https://colab.research.google.com/notebooks/data_table.ipynb>data table notebook</a>'\n",
              "            + ' to learn more about interactive tables.';\n",
              "          element.innerHTML = '';\n",
              "          dataTable['output_type'] = 'display_data';\n",
              "          await google.colab.output.renderOutput(dataTable, element);\n",
              "          const docLink = document.createElement('div');\n",
              "          docLink.innerHTML = docLinkHtml;\n",
              "          element.appendChild(docLink);\n",
              "        }\n",
              "      </script>\n",
              "    </div>\n",
              "  </div>\n",
              "  "
            ]
          },
          "metadata": {},
          "execution_count": 33
        }
      ]
    },
    {
      "cell_type": "code",
      "source": [
        "book = load_workbook('/content/zoo_dataset.xlsx')\n",
        "writer = pd.ExcelWriter('/content/zoo_dataset.xlsx', engine='openpyxl') \n",
        "writer.book = book\n",
        "\n",
        "## ExcelWriter for some reason uses writer.sheets to access the sheet.\n",
        "## If you leave it empty it will not know that sheet Main is already there\n",
        "## and will create a new sheet.\n",
        "writer.sheets = dict((ws.title, ws) for ws in book.worksheets)\n",
        "corr_rank.to_excel(writer, \"Pearson_Correlation\")\n",
        "writer.save()"
      ],
      "metadata": {
        "id": "OeekrEfitMPM"
      },
      "execution_count": 34,
      "outputs": []
    },
    {
      "cell_type": "code",
      "source": [
        "estimator = DecisionTreeClassifier()\n",
        "selector = RFE(estimator, n_features_to_select=1, step=1)\n",
        "selector = selector.fit(X_train, y_train)\n",
        "index = selector.ranking_.argsort()\n",
        "X.columns[index]"
      ],
      "metadata": {
        "colab": {
          "base_uri": "https://localhost:8080/"
        },
        "id": "Ra00okS8ndOA",
        "outputId": "7768532e-8518-4bfe-cf41-35e44727de14"
      },
      "execution_count": null,
      "outputs": [
        {
          "output_type": "execute_result",
          "data": {
            "text/plain": [
              "Index(['milk', 'feathers', 'fins', 'backbone', 'airborne', 'legs', 'aquatic',\n",
              "       'predator', 'catsize', 'venomous', 'domestic', 'tail', 'breathes',\n",
              "       'eggs', 'toothed', 'hair'],\n",
              "      dtype='object')"
            ]
          },
          "metadata": {},
          "execution_count": 39
        }
      ]
    },
    {
      "cell_type": "code",
      "source": [
        "dc = {'Rank_RFE': X.columns[index]}\n",
        "rank_RFE = pd.DataFrame(data =  dc) \n",
        "book = load_workbook('/content/zoo_dataset.xlsx')\n",
        "writer = pd.ExcelWriter('/content/zoo_dataset.xlsx', engine='openpyxl') \n",
        "writer.book = book\n",
        "## ExcelWriter for some reason uses writer.sheets to access the sheet.\n",
        "## If you leave it empty it will not know that sheet Main is already there\n",
        "## and will create a new sheet.\n",
        "writer.sheets = dict((ws.title, ws) for ws in book.worksheets)\n",
        "rank_RFE.to_excel(writer, \"RFE\")\n",
        "writer.save()"
      ],
      "metadata": {
        "id": "3JjJDe9unpfm"
      },
      "execution_count": null,
      "outputs": []
    },
    {
      "cell_type": "code",
      "source": [
        ""
      ],
      "metadata": {
        "id": "eLmrelEktW2g"
      },
      "execution_count": null,
      "outputs": []
    }
  ]
}