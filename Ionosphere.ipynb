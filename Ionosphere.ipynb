{
  "nbformat": 4,
  "nbformat_minor": 0,
  "metadata": {
    "colab": {
      "name": "Ionosphere.ipynb",
      "provenance": [],
      "authorship_tag": "ABX9TyMdxH6UzyQHhC630iCPN6pt",
      "include_colab_link": true
    },
    "kernelspec": {
      "name": "python3",
      "display_name": "Python 3"
    },
    "language_info": {
      "name": "python"
    }
  },
  "cells": [
    {
      "cell_type": "markdown",
      "metadata": {
        "id": "view-in-github",
        "colab_type": "text"
      },
      "source": [
        "<a href=\"https://colab.research.google.com/github/Noob919/Feature_selection/blob/main/Ionosphere.ipynb\" target=\"_parent\"><img src=\"https://colab.research.google.com/assets/colab-badge.svg\" alt=\"Open In Colab\"/></a>"
      ]
    },
    {
      "cell_type": "code",
      "execution_count": 1,
      "metadata": {
        "id": "p9zpQDPtt2H9"
      },
      "outputs": [],
      "source": [
        "import numpy as np\n",
        "import pandas as pd\n",
        "from sklearn.model_selection import cross_val_score\n",
        "from sklearn import preprocessing\n",
        "from sklearn.feature_selection  import chi2, SelectKBest,mutual_info_classif,SelectPercentile,f_classif\n",
        "from sklearn.inspection import permutation_importance\n",
        "from sklearn.model_selection import train_test_split\n",
        "from sklearn.tree import DecisionTreeClassifier\n",
        "from sklearn.linear_model import LogisticRegression\n",
        "from sklearn.ensemble import RandomForestClassifier\n",
        "from sklearn.preprocessing import LabelEncoder\n",
        "from sklearn.preprocessing import StandardScaler\n",
        "from sklearn.feature_selection import RFE\n",
        "from sklearn.svm import LinearSVC\n",
        "from sklearn.decomposition import PCA\n",
        "import matplotlib.pyplot as plt\n",
        "import seaborn as sns"
      ]
    },
    {
      "cell_type": "code",
      "source": [
        "df = pd.read_csv(\"/content/ionosphere_data.csv\")"
      ],
      "metadata": {
        "id": "93iITRrJt7RV"
      },
      "execution_count": 2,
      "outputs": []
    },
    {
      "cell_type": "code",
      "source": [
        "df.head()"
      ],
      "metadata": {
        "colab": {
          "base_uri": "https://localhost:8080/",
          "height": 300
        },
        "id": "mpfOG6ZcuFsX",
        "outputId": "a76f8f47-94a0-4379-8d05-dcd40756245a"
      },
      "execution_count": 3,
      "outputs": [
        {
          "output_type": "execute_result",
          "data": {
            "text/plain": [
              "   column_a  column_b  column_c  column_d  column_e  column_f  column_g  \\\n",
              "0      True     False   0.99539  -0.05889   0.85243   0.02306   0.83398   \n",
              "1      True     False   1.00000  -0.18829   0.93035  -0.36156  -0.10868   \n",
              "2      True     False   1.00000  -0.03365   1.00000   0.00485   1.00000   \n",
              "3      True     False   1.00000  -0.45161   1.00000   1.00000   0.71216   \n",
              "4      True     False   1.00000  -0.02401   0.94140   0.06531   0.92106   \n",
              "\n",
              "   column_h  column_i  column_j  ...  column_z  column_aa  column_ab  \\\n",
              "0  -0.37708   1.00000   0.03760  ...  -0.51171    0.41078   -0.46168   \n",
              "1  -0.93597   1.00000  -0.04549  ...  -0.26569   -0.20468   -0.18401   \n",
              "2  -0.12062   0.88965   0.01198  ...  -0.40220    0.58984   -0.22145   \n",
              "3  -1.00000   0.00000   0.00000  ...   0.90695    0.51613    1.00000   \n",
              "4  -0.23255   0.77152  -0.16399  ...  -0.65158    0.13290   -0.53206   \n",
              "\n",
              "   column_ac  column_ad  column_ae  column_af  column_ag  column_ah  column_ai  \n",
              "0    0.21266   -0.34090    0.42267   -0.54487    0.18641   -0.45300          g  \n",
              "1   -0.19040   -0.11593   -0.16626   -0.06288   -0.13738   -0.02447          b  \n",
              "2    0.43100   -0.17365    0.60436   -0.24180    0.56045   -0.38238          g  \n",
              "3    1.00000   -0.20099    0.25682    1.00000   -0.32382    1.00000          b  \n",
              "4    0.02431   -0.62197   -0.05707   -0.59573   -0.04608   -0.65697          g  \n",
              "\n",
              "[5 rows x 35 columns]"
            ],
            "text/html": [
              "\n",
              "  <div id=\"df-551dc093-aaff-493a-b294-dfe4b4d8048c\">\n",
              "    <div class=\"colab-df-container\">\n",
              "      <div>\n",
              "<style scoped>\n",
              "    .dataframe tbody tr th:only-of-type {\n",
              "        vertical-align: middle;\n",
              "    }\n",
              "\n",
              "    .dataframe tbody tr th {\n",
              "        vertical-align: top;\n",
              "    }\n",
              "\n",
              "    .dataframe thead th {\n",
              "        text-align: right;\n",
              "    }\n",
              "</style>\n",
              "<table border=\"1\" class=\"dataframe\">\n",
              "  <thead>\n",
              "    <tr style=\"text-align: right;\">\n",
              "      <th></th>\n",
              "      <th>column_a</th>\n",
              "      <th>column_b</th>\n",
              "      <th>column_c</th>\n",
              "      <th>column_d</th>\n",
              "      <th>column_e</th>\n",
              "      <th>column_f</th>\n",
              "      <th>column_g</th>\n",
              "      <th>column_h</th>\n",
              "      <th>column_i</th>\n",
              "      <th>column_j</th>\n",
              "      <th>...</th>\n",
              "      <th>column_z</th>\n",
              "      <th>column_aa</th>\n",
              "      <th>column_ab</th>\n",
              "      <th>column_ac</th>\n",
              "      <th>column_ad</th>\n",
              "      <th>column_ae</th>\n",
              "      <th>column_af</th>\n",
              "      <th>column_ag</th>\n",
              "      <th>column_ah</th>\n",
              "      <th>column_ai</th>\n",
              "    </tr>\n",
              "  </thead>\n",
              "  <tbody>\n",
              "    <tr>\n",
              "      <th>0</th>\n",
              "      <td>True</td>\n",
              "      <td>False</td>\n",
              "      <td>0.99539</td>\n",
              "      <td>-0.05889</td>\n",
              "      <td>0.85243</td>\n",
              "      <td>0.02306</td>\n",
              "      <td>0.83398</td>\n",
              "      <td>-0.37708</td>\n",
              "      <td>1.00000</td>\n",
              "      <td>0.03760</td>\n",
              "      <td>...</td>\n",
              "      <td>-0.51171</td>\n",
              "      <td>0.41078</td>\n",
              "      <td>-0.46168</td>\n",
              "      <td>0.21266</td>\n",
              "      <td>-0.34090</td>\n",
              "      <td>0.42267</td>\n",
              "      <td>-0.54487</td>\n",
              "      <td>0.18641</td>\n",
              "      <td>-0.45300</td>\n",
              "      <td>g</td>\n",
              "    </tr>\n",
              "    <tr>\n",
              "      <th>1</th>\n",
              "      <td>True</td>\n",
              "      <td>False</td>\n",
              "      <td>1.00000</td>\n",
              "      <td>-0.18829</td>\n",
              "      <td>0.93035</td>\n",
              "      <td>-0.36156</td>\n",
              "      <td>-0.10868</td>\n",
              "      <td>-0.93597</td>\n",
              "      <td>1.00000</td>\n",
              "      <td>-0.04549</td>\n",
              "      <td>...</td>\n",
              "      <td>-0.26569</td>\n",
              "      <td>-0.20468</td>\n",
              "      <td>-0.18401</td>\n",
              "      <td>-0.19040</td>\n",
              "      <td>-0.11593</td>\n",
              "      <td>-0.16626</td>\n",
              "      <td>-0.06288</td>\n",
              "      <td>-0.13738</td>\n",
              "      <td>-0.02447</td>\n",
              "      <td>b</td>\n",
              "    </tr>\n",
              "    <tr>\n",
              "      <th>2</th>\n",
              "      <td>True</td>\n",
              "      <td>False</td>\n",
              "      <td>1.00000</td>\n",
              "      <td>-0.03365</td>\n",
              "      <td>1.00000</td>\n",
              "      <td>0.00485</td>\n",
              "      <td>1.00000</td>\n",
              "      <td>-0.12062</td>\n",
              "      <td>0.88965</td>\n",
              "      <td>0.01198</td>\n",
              "      <td>...</td>\n",
              "      <td>-0.40220</td>\n",
              "      <td>0.58984</td>\n",
              "      <td>-0.22145</td>\n",
              "      <td>0.43100</td>\n",
              "      <td>-0.17365</td>\n",
              "      <td>0.60436</td>\n",
              "      <td>-0.24180</td>\n",
              "      <td>0.56045</td>\n",
              "      <td>-0.38238</td>\n",
              "      <td>g</td>\n",
              "    </tr>\n",
              "    <tr>\n",
              "      <th>3</th>\n",
              "      <td>True</td>\n",
              "      <td>False</td>\n",
              "      <td>1.00000</td>\n",
              "      <td>-0.45161</td>\n",
              "      <td>1.00000</td>\n",
              "      <td>1.00000</td>\n",
              "      <td>0.71216</td>\n",
              "      <td>-1.00000</td>\n",
              "      <td>0.00000</td>\n",
              "      <td>0.00000</td>\n",
              "      <td>...</td>\n",
              "      <td>0.90695</td>\n",
              "      <td>0.51613</td>\n",
              "      <td>1.00000</td>\n",
              "      <td>1.00000</td>\n",
              "      <td>-0.20099</td>\n",
              "      <td>0.25682</td>\n",
              "      <td>1.00000</td>\n",
              "      <td>-0.32382</td>\n",
              "      <td>1.00000</td>\n",
              "      <td>b</td>\n",
              "    </tr>\n",
              "    <tr>\n",
              "      <th>4</th>\n",
              "      <td>True</td>\n",
              "      <td>False</td>\n",
              "      <td>1.00000</td>\n",
              "      <td>-0.02401</td>\n",
              "      <td>0.94140</td>\n",
              "      <td>0.06531</td>\n",
              "      <td>0.92106</td>\n",
              "      <td>-0.23255</td>\n",
              "      <td>0.77152</td>\n",
              "      <td>-0.16399</td>\n",
              "      <td>...</td>\n",
              "      <td>-0.65158</td>\n",
              "      <td>0.13290</td>\n",
              "      <td>-0.53206</td>\n",
              "      <td>0.02431</td>\n",
              "      <td>-0.62197</td>\n",
              "      <td>-0.05707</td>\n",
              "      <td>-0.59573</td>\n",
              "      <td>-0.04608</td>\n",
              "      <td>-0.65697</td>\n",
              "      <td>g</td>\n",
              "    </tr>\n",
              "  </tbody>\n",
              "</table>\n",
              "<p>5 rows × 35 columns</p>\n",
              "</div>\n",
              "      <button class=\"colab-df-convert\" onclick=\"convertToInteractive('df-551dc093-aaff-493a-b294-dfe4b4d8048c')\"\n",
              "              title=\"Convert this dataframe to an interactive table.\"\n",
              "              style=\"display:none;\">\n",
              "        \n",
              "  <svg xmlns=\"http://www.w3.org/2000/svg\" height=\"24px\"viewBox=\"0 0 24 24\"\n",
              "       width=\"24px\">\n",
              "    <path d=\"M0 0h24v24H0V0z\" fill=\"none\"/>\n",
              "    <path d=\"M18.56 5.44l.94 2.06.94-2.06 2.06-.94-2.06-.94-.94-2.06-.94 2.06-2.06.94zm-11 1L8.5 8.5l.94-2.06 2.06-.94-2.06-.94L8.5 2.5l-.94 2.06-2.06.94zm10 10l.94 2.06.94-2.06 2.06-.94-2.06-.94-.94-2.06-.94 2.06-2.06.94z\"/><path d=\"M17.41 7.96l-1.37-1.37c-.4-.4-.92-.59-1.43-.59-.52 0-1.04.2-1.43.59L10.3 9.45l-7.72 7.72c-.78.78-.78 2.05 0 2.83L4 21.41c.39.39.9.59 1.41.59.51 0 1.02-.2 1.41-.59l7.78-7.78 2.81-2.81c.8-.78.8-2.07 0-2.86zM5.41 20L4 18.59l7.72-7.72 1.47 1.35L5.41 20z\"/>\n",
              "  </svg>\n",
              "      </button>\n",
              "      \n",
              "  <style>\n",
              "    .colab-df-container {\n",
              "      display:flex;\n",
              "      flex-wrap:wrap;\n",
              "      gap: 12px;\n",
              "    }\n",
              "\n",
              "    .colab-df-convert {\n",
              "      background-color: #E8F0FE;\n",
              "      border: none;\n",
              "      border-radius: 50%;\n",
              "      cursor: pointer;\n",
              "      display: none;\n",
              "      fill: #1967D2;\n",
              "      height: 32px;\n",
              "      padding: 0 0 0 0;\n",
              "      width: 32px;\n",
              "    }\n",
              "\n",
              "    .colab-df-convert:hover {\n",
              "      background-color: #E2EBFA;\n",
              "      box-shadow: 0px 1px 2px rgba(60, 64, 67, 0.3), 0px 1px 3px 1px rgba(60, 64, 67, 0.15);\n",
              "      fill: #174EA6;\n",
              "    }\n",
              "\n",
              "    [theme=dark] .colab-df-convert {\n",
              "      background-color: #3B4455;\n",
              "      fill: #D2E3FC;\n",
              "    }\n",
              "\n",
              "    [theme=dark] .colab-df-convert:hover {\n",
              "      background-color: #434B5C;\n",
              "      box-shadow: 0px 1px 3px 1px rgba(0, 0, 0, 0.15);\n",
              "      filter: drop-shadow(0px 1px 2px rgba(0, 0, 0, 0.3));\n",
              "      fill: #FFFFFF;\n",
              "    }\n",
              "  </style>\n",
              "\n",
              "      <script>\n",
              "        const buttonEl =\n",
              "          document.querySelector('#df-551dc093-aaff-493a-b294-dfe4b4d8048c button.colab-df-convert');\n",
              "        buttonEl.style.display =\n",
              "          google.colab.kernel.accessAllowed ? 'block' : 'none';\n",
              "\n",
              "        async function convertToInteractive(key) {\n",
              "          const element = document.querySelector('#df-551dc093-aaff-493a-b294-dfe4b4d8048c');\n",
              "          const dataTable =\n",
              "            await google.colab.kernel.invokeFunction('convertToInteractive',\n",
              "                                                     [key], {});\n",
              "          if (!dataTable) return;\n",
              "\n",
              "          const docLinkHtml = 'Like what you see? Visit the ' +\n",
              "            '<a target=\"_blank\" href=https://colab.research.google.com/notebooks/data_table.ipynb>data table notebook</a>'\n",
              "            + ' to learn more about interactive tables.';\n",
              "          element.innerHTML = '';\n",
              "          dataTable['output_type'] = 'display_data';\n",
              "          await google.colab.output.renderOutput(dataTable, element);\n",
              "          const docLink = document.createElement('div');\n",
              "          docLink.innerHTML = docLinkHtml;\n",
              "          element.appendChild(docLink);\n",
              "        }\n",
              "      </script>\n",
              "    </div>\n",
              "  </div>\n",
              "  "
            ]
          },
          "metadata": {},
          "execution_count": 3
        }
      ]
    },
    {
      "cell_type": "code",
      "source": [
        "df_new =  df.drop(['column_b'],axis =1)"
      ],
      "metadata": {
        "id": "YOqsmNlDuG0P"
      },
      "execution_count": 5,
      "outputs": []
    },
    {
      "cell_type": "code",
      "source": [
        "df['column_ai'] =  LabelEncoder().fit_transform(df['column_ai'])\n",
        "df['column_a'] =  LabelEncoder().fit_transform(df['column_a'])"
      ],
      "metadata": {
        "id": "BkZYCbzrueYI"
      },
      "execution_count": 14,
      "outputs": []
    },
    {
      "cell_type": "code",
      "source": [
        "X =  df_new.drop(['column_ai'],axis =1)\n",
        "y = df_new['column_ai']"
      ],
      "metadata": {
        "id": "oSQdgEUBuucA"
      },
      "execution_count": 15,
      "outputs": []
    },
    {
      "cell_type": "code",
      "source": [
        "X_train, X_test, y_train, y_test = train_test_split(X, y, test_size=0.1, random_state=0)"
      ],
      "metadata": {
        "id": "7YHrO1wavxS5"
      },
      "execution_count": 17,
      "outputs": []
    },
    {
      "cell_type": "code",
      "source": [
        "rf = RandomForestClassifier(n_estimators=150)\n",
        "rf.fit(X_train, y_train)"
      ],
      "metadata": {
        "colab": {
          "base_uri": "https://localhost:8080/"
        },
        "id": "H5Y3MIMWvlsT",
        "outputId": "ba320865-d14d-488b-8118-bc863ab38012"
      },
      "execution_count": 18,
      "outputs": [
        {
          "output_type": "execute_result",
          "data": {
            "text/plain": [
              "RandomForestClassifier(n_estimators=150)"
            ]
          },
          "metadata": {},
          "execution_count": 18
        }
      ]
    },
    {
      "cell_type": "code",
      "source": [
        "rf.feature_importances_"
      ],
      "metadata": {
        "colab": {
          "base_uri": "https://localhost:8080/"
        },
        "id": "k9EH4jO8voyI",
        "outputId": "0fd63481-e083-4f63-db1e-ac8403ed7b31"
      },
      "execution_count": 19,
      "outputs": [
        {
          "output_type": "execute_result",
          "data": {
            "text/plain": [
              "array([0.02956885, 0.11588298, 0.03110641, 0.16239141, 0.04474331,\n",
              "       0.06369631, 0.05467885, 0.01238961, 0.01625761, 0.00801442,\n",
              "       0.02039691, 0.00908732, 0.02473863, 0.00872098, 0.02136842,\n",
              "       0.0067684 , 0.02162498, 0.00633088, 0.0142839 , 0.01090992,\n",
              "       0.02557028, 0.01341582, 0.03085256, 0.01013754, 0.01431735,\n",
              "       0.09016166, 0.02258691, 0.01624922, 0.00711463, 0.02656145,\n",
              "       0.01167981, 0.02545322, 0.02293944])"
            ]
          },
          "metadata": {},
          "execution_count": 19
        }
      ]
    },
    {
      "cell_type": "code",
      "source": [
        "sort = rf.feature_importances_\n",
        "plt.barh(X.columns, rf.feature_importances_)\n",
        "plt.xlabel(\"Feature Importance\")"
      ],
      "metadata": {
        "colab": {
          "base_uri": "https://localhost:8080/",
          "height": 296
        },
        "id": "YE9sNI1lv5-B",
        "outputId": "49df92db-0b01-432c-ecb4-fba3ddddc042"
      },
      "execution_count": 20,
      "outputs": [
        {
          "output_type": "execute_result",
          "data": {
            "text/plain": [
              "Text(0.5, 0, 'Feature Importance')"
            ]
          },
          "metadata": {},
          "execution_count": 20
        },
        {
          "output_type": "display_data",
          "data": {
            "text/plain": [
              "<Figure size 432x288 with 1 Axes>"
            ],
            "image/png": "[encoded data removed]"
          },
          "metadata": {
            "needs_background": "light"
          }
        }
      ]
    },
    {
      "cell_type": "code",
      "source": [
        "clf = LogisticRegression(solver = 'liblinear').fit(X_train, y_train)\n",
        "result = permutation_importance(clf, X, y, n_repeats=10, random_state=0)\n",
        "plt.barh(X.columns, result.importances_mean )\n",
        "plt.xlabel(\"Feature Importance MEAN\")"
      ],
      "metadata": {
        "colab": {
          "base_uri": "https://localhost:8080/",
          "height": 296
        },
        "id": "C1js-3MQv81B",
        "outputId": "eae38510-7749-4c66-a2c0-ad2b6d26ad2f"
      },
      "execution_count": 21,
      "outputs": [
        {
          "output_type": "execute_result",
          "data": {
            "text/plain": [
              "Text(0.5, 0, 'Feature Importance MEAN')"
            ]
          },
          "metadata": {},
          "execution_count": 21
        },
        {
          "output_type": "display_data",
          "data": {
            "text/plain": [
              "<Figure size 432x288 with 1 Axes>"
            ],
            "image/png": "[encoded data removed]"
          },
          "metadata": {
            "needs_background": "light"
          }
        }
      ]
    },
    {
      "cell_type": "code",
      "source": [
        "plt.barh(X.columns, result.importances_std)\n",
        "plt.xlabel(\"Feature Importance STD\")"
      ],
      "metadata": {
        "colab": {
          "base_uri": "https://localhost:8080/",
          "height": 296
        },
        "id": "MFkSlwIuwCa1",
        "outputId": "b3f22463-3776-4af0-bcce-9c492d8af747"
      },
      "execution_count": 22,
      "outputs": [
        {
          "output_type": "execute_result",
          "data": {
            "text/plain": [
              "Text(0.5, 0, 'Feature Importance STD')"
            ]
          },
          "metadata": {},
          "execution_count": 22
        },
        {
          "output_type": "display_data",
          "data": {
            "text/plain": [
              "<Figure size 432x288 with 1 Axes>"
            ],
            "image/png": "[encoded data removed]"
          },
          "metadata": {
            "needs_background": "light"
          }
        }
      ]
    },
    {
      "cell_type": "code",
      "source": [
        "pca = PCA().fit(X_train)\n",
        "plt.plot(pca.explained_variance_ratio_.cumsum(), lw=3, color='#087E8B')\n",
        "plt.title('Cumulative explained variance by number of principal components', size=5)\n",
        "plt.show()"
      ],
      "metadata": {
        "colab": {
          "base_uri": "https://localhost:8080/",
          "height": 275
        },
        "id": "sAtr2-aYwFi-",
        "outputId": "7d753b1d-28d0-4392-e8b8-8b8e88b907fa"
      },
      "execution_count": 23,
      "outputs": [
        {
          "output_type": "display_data",
          "data": {
            "text/plain": [
              "<Figure size 432x288 with 1 Axes>"
            ],
            "image/png": "[encoded data removed]"
          },
          "metadata": {
            "needs_background": "light"
          }
        }
      ]
    },
    {
      "cell_type": "code",
      "source": [
        "loadings = pd.DataFrame(\n",
        "    data=pca.components_.T * np.sqrt(pca.explained_variance_), \n",
        "    columns=[f'PC{i}' for i in range(1, len(X.columns) + 1)],\n",
        "    index=X.columns\n",
        ")\n",
        "loadings.head()"
      ],
      "metadata": {
        "colab": {
          "base_uri": "https://localhost:8080/",
          "height": 300
        },
        "id": "r7sYr2B3wIza",
        "outputId": "9a0f034d-7de1-4a83-a276-c72f95ae36b4"
      },
      "execution_count": 24,
      "outputs": [
        {
          "output_type": "execute_result",
          "data": {
            "text/plain": [
              "               PC1       PC2       PC3       PC4       PC5       PC6  \\\n",
              "column_a -0.031871  0.010467  0.040942  0.102753  0.075802  0.000458   \n",
              "column_c -0.172870  0.109026  0.209247  0.239333 -0.062069 -0.181431   \n",
              "column_d  0.127824  0.045115  0.114349  0.044121 -0.284439  0.053329   \n",
              "column_e -0.238625  0.103888  0.176207  0.222099 -0.017890 -0.014535   \n",
              "column_f  0.125485 -0.019848  0.164383  0.044296  0.290262 -0.011724   \n",
              "\n",
              "               PC7       PC8       PC9      PC10  ...      PC24      PC25  \\\n",
              "column_a  0.109647  0.067161 -0.006515 -0.042839  ... -0.045440 -0.018488   \n",
              "column_c  0.114082 -0.046741  0.017470 -0.117289  ...  0.023969  0.006258   \n",
              "column_d  0.056899 -0.069380  0.017985  0.025248  ... -0.071462 -0.024148   \n",
              "column_e -0.206899 -0.057851  0.138438 -0.125797  ... -0.003344  0.072580   \n",
              "column_f -0.003699 -0.066056  0.032485 -0.117584  ... -0.003803 -0.001420   \n",
              "\n",
              "              PC26      PC27      PC28      PC29      PC30      PC31  \\\n",
              "column_a  0.040815 -0.025135 -0.047683  0.033018 -0.101880 -0.035856   \n",
              "column_c -0.011706 -0.008738  0.089126 -0.010108  0.005238 -0.012222   \n",
              "column_d  0.035938 -0.026239 -0.027147 -0.069251  0.013316  0.031364   \n",
              "column_e -0.010707  0.011867 -0.055829  0.055916 -0.009867  0.015220   \n",
              "column_f  0.034946 -0.060128  0.034082 -0.068601 -0.007730 -0.024273   \n",
              "\n",
              "              PC32      PC33  \n",
              "column_a  0.058233 -0.018161  \n",
              "column_c -0.004887  0.023452  \n",
              "column_d -0.017192  0.018095  \n",
              "column_e -0.001977  0.057169  \n",
              "column_f -0.012959 -0.006186  \n",
              "\n",
              "[5 rows x 33 columns]"
            ],
            "text/html": [
              "\n",
              "  <div id=\"df-a91fd764-8833-4f95-805d-e8f5350edc8b\">\n",
              "    <div class=\"colab-df-container\">\n",
              "      <div>\n",
              "<style scoped>\n",
              "    .dataframe tbody tr th:only-of-type {\n",
              "        vertical-align: middle;\n",
              "    }\n",
              "\n",
              "    .dataframe tbody tr th {\n",
              "        vertical-align: top;\n",
              "    }\n",
              "\n",
              "    .dataframe thead th {\n",
              "        text-align: right;\n",
              "    }\n",
              "</style>\n",
              "<table border=\"1\" class=\"dataframe\">\n",
              "  <thead>\n",
              "    <tr style=\"text-align: right;\">\n",
              "      <th></th>\n",
              "      <th>PC1</th>\n",
              "      <th>PC2</th>\n",
              "      <th>PC3</th>\n",
              "      <th>PC4</th>\n",
              "      <th>PC5</th>\n",
              "      <th>PC6</th>\n",
              "      <th>PC7</th>\n",
              "      <th>PC8</th>\n",
              "      <th>PC9</th>\n",
              "      <th>PC10</th>\n",
              "      <th>...</th>\n",
              "      <th>PC24</th>\n",
              "      <th>PC25</th>\n",
              "      <th>PC26</th>\n",
              "      <th>PC27</th>\n",
              "      <th>PC28</th>\n",
              "      <th>PC29</th>\n",
              "      <th>PC30</th>\n",
              "      <th>PC31</th>\n",
              "      <th>PC32</th>\n",
              "      <th>PC33</th>\n",
              "    </tr>\n",
              "  </thead>\n",
              "  <tbody>\n",
              "    <tr>\n",
              "      <th>column_a</th>\n",
              "      <td>-0.031871</td>\n",
              "      <td>0.010467</td>\n",
              "      <td>0.040942</td>\n",
              "      <td>0.102753</td>\n",
              "      <td>0.075802</td>\n",
              "      <td>0.000458</td>\n",
              "      <td>0.109647</td>\n",
              "      <td>0.067161</td>\n",
              "      <td>-0.006515</td>\n",
              "      <td>-0.042839</td>\n",
              "      <td>...</td>\n",
              "      <td>-0.045440</td>\n",
              "      <td>-0.018488</td>\n",
              "      <td>0.040815</td>\n",
              "      <td>-0.025135</td>\n",
              "      <td>-0.047683</td>\n",
              "      <td>0.033018</td>\n",
              "      <td>-0.101880</td>\n",
              "      <td>-0.035856</td>\n",
              "      <td>0.058233</td>\n",
              "      <td>-0.018161</td>\n",
              "    </tr>\n",
              "    <tr>\n",
              "      <th>column_c</th>\n",
              "      <td>-0.172870</td>\n",
              "      <td>0.109026</td>\n",
              "      <td>0.209247</td>\n",
              "      <td>0.239333</td>\n",
              "      <td>-0.062069</td>\n",
              "      <td>-0.181431</td>\n",
              "      <td>0.114082</td>\n",
              "      <td>-0.046741</td>\n",
              "      <td>0.017470</td>\n",
              "      <td>-0.117289</td>\n",
              "      <td>...</td>\n",
              "      <td>0.023969</td>\n",
              "      <td>0.006258</td>\n",
              "      <td>-0.011706</td>\n",
              "      <td>-0.008738</td>\n",
              "      <td>0.089126</td>\n",
              "      <td>-0.010108</td>\n",
              "      <td>0.005238</td>\n",
              "      <td>-0.012222</td>\n",
              "      <td>-0.004887</td>\n",
              "      <td>0.023452</td>\n",
              "    </tr>\n",
              "    <tr>\n",
              "      <th>column_d</th>\n",
              "      <td>0.127824</td>\n",
              "      <td>0.045115</td>\n",
              "      <td>0.114349</td>\n",
              "      <td>0.044121</td>\n",
              "      <td>-0.284439</td>\n",
              "      <td>0.053329</td>\n",
              "      <td>0.056899</td>\n",
              "      <td>-0.069380</td>\n",
              "      <td>0.017985</td>\n",
              "      <td>0.025248</td>\n",
              "      <td>...</td>\n",
              "      <td>-0.071462</td>\n",
              "      <td>-0.024148</td>\n",
              "      <td>0.035938</td>\n",
              "      <td>-0.026239</td>\n",
              "      <td>-0.027147</td>\n",
              "      <td>-0.069251</td>\n",
              "      <td>0.013316</td>\n",
              "      <td>0.031364</td>\n",
              "      <td>-0.017192</td>\n",
              "      <td>0.018095</td>\n",
              "    </tr>\n",
              "    <tr>\n",
              "      <th>column_e</th>\n",
              "      <td>-0.238625</td>\n",
              "      <td>0.103888</td>\n",
              "      <td>0.176207</td>\n",
              "      <td>0.222099</td>\n",
              "      <td>-0.017890</td>\n",
              "      <td>-0.014535</td>\n",
              "      <td>-0.206899</td>\n",
              "      <td>-0.057851</td>\n",
              "      <td>0.138438</td>\n",
              "      <td>-0.125797</td>\n",
              "      <td>...</td>\n",
              "      <td>-0.003344</td>\n",
              "      <td>0.072580</td>\n",
              "      <td>-0.010707</td>\n",
              "      <td>0.011867</td>\n",
              "      <td>-0.055829</td>\n",
              "      <td>0.055916</td>\n",
              "      <td>-0.009867</td>\n",
              "      <td>0.015220</td>\n",
              "      <td>-0.001977</td>\n",
              "      <td>0.057169</td>\n",
              "    </tr>\n",
              "    <tr>\n",
              "      <th>column_f</th>\n",
              "      <td>0.125485</td>\n",
              "      <td>-0.019848</td>\n",
              "      <td>0.164383</td>\n",
              "      <td>0.044296</td>\n",
              "      <td>0.290262</td>\n",
              "      <td>-0.011724</td>\n",
              "      <td>-0.003699</td>\n",
              "      <td>-0.066056</td>\n",
              "      <td>0.032485</td>\n",
              "      <td>-0.117584</td>\n",
              "      <td>...</td>\n",
              "      <td>-0.003803</td>\n",
              "      <td>-0.001420</td>\n",
              "      <td>0.034946</td>\n",
              "      <td>-0.060128</td>\n",
              "      <td>0.034082</td>\n",
              "      <td>-0.068601</td>\n",
              "      <td>-0.007730</td>\n",
              "      <td>-0.024273</td>\n",
              "      <td>-0.012959</td>\n",
              "      <td>-0.006186</td>\n",
              "    </tr>\n",
              "  </tbody>\n",
              "</table>\n",
              "<p>5 rows × 33 columns</p>\n",
              "</div>\n",
              "      <button class=\"colab-df-convert\" onclick=\"convertToInteractive('df-a91fd764-8833-4f95-805d-e8f5350edc8b')\"\n",
              "              title=\"Convert this dataframe to an interactive table.\"\n",
              "              style=\"display:none;\">\n",
              "        \n",
              "  <svg xmlns=\"http://www.w3.org/2000/svg\" height=\"24px\"viewBox=\"0 0 24 24\"\n",
              "       width=\"24px\">\n",
              "    <path d=\"M0 0h24v24H0V0z\" fill=\"none\"/>\n",
              "    <path d=\"M18.56 5.44l.94 2.06.94-2.06 2.06-.94-2.06-.94-.94-2.06-.94 2.06-2.06.94zm-11 1L8.5 8.5l.94-2.06 2.06-.94-2.06-.94L8.5 2.5l-.94 2.06-2.06.94zm10 10l.94 2.06.94-2.06 2.06-.94-2.06-.94-.94-2.06-.94 2.06-2.06.94z\"/><path d=\"M17.41 7.96l-1.37-1.37c-.4-.4-.92-.59-1.43-.59-.52 0-1.04.2-1.43.59L10.3 9.45l-7.72 7.72c-.78.78-.78 2.05 0 2.83L4 21.41c.39.39.9.59 1.41.59.51 0 1.02-.2 1.41-.59l7.78-7.78 2.81-2.81c.8-.78.8-2.07 0-2.86zM5.41 20L4 18.59l7.72-7.72 1.47 1.35L5.41 20z\"/>\n",
              "  </svg>\n",
              "      </button>\n",
              "      \n",
              "  <style>\n",
              "    .colab-df-container {\n",
              "      display:flex;\n",
              "      flex-wrap:wrap;\n",
              "      gap: 12px;\n",
              "    }\n",
              "\n",
              "    .colab-df-convert {\n",
              "      background-color: #E8F0FE;\n",
              "      border: none;\n",
              "      border-radius: 50%;\n",
              "      cursor: pointer;\n",
              "      display: none;\n",
              "      fill: #1967D2;\n",
              "      height: 32px;\n",
              "      padding: 0 0 0 0;\n",
              "      width: 32px;\n",
              "    }\n",
              "\n",
              "    .colab-df-convert:hover {\n",
              "      background-color: #E2EBFA;\n",
              "      box-shadow: 0px 1px 2px rgba(60, 64, 67, 0.3), 0px 1px 3px 1px rgba(60, 64, 67, 0.15);\n",
              "      fill: #174EA6;\n",
              "    }\n",
              "\n",
              "    [theme=dark] .colab-df-convert {\n",
              "      background-color: #3B4455;\n",
              "      fill: #D2E3FC;\n",
              "    }\n",
              "\n",
              "    [theme=dark] .colab-df-convert:hover {\n",
              "      background-color: #434B5C;\n",
              "      box-shadow: 0px 1px 3px 1px rgba(0, 0, 0, 0.15);\n",
              "      filter: drop-shadow(0px 1px 2px rgba(0, 0, 0, 0.3));\n",
              "      fill: #FFFFFF;\n",
              "    }\n",
              "  </style>\n",
              "\n",
              "      <script>\n",
              "        const buttonEl =\n",
              "          document.querySelector('#df-a91fd764-8833-4f95-805d-e8f5350edc8b button.colab-df-convert');\n",
              "        buttonEl.style.display =\n",
              "          google.colab.kernel.accessAllowed ? 'block' : 'none';\n",
              "\n",
              "        async function convertToInteractive(key) {\n",
              "          const element = document.querySelector('#df-a91fd764-8833-4f95-805d-e8f5350edc8b');\n",
              "          const dataTable =\n",
              "            await google.colab.kernel.invokeFunction('convertToInteractive',\n",
              "                                                     [key], {});\n",
              "          if (!dataTable) return;\n",
              "\n",
              "          const docLinkHtml = 'Like what you see? Visit the ' +\n",
              "            '<a target=\"_blank\" href=https://colab.research.google.com/notebooks/data_table.ipynb>data table notebook</a>'\n",
              "            + ' to learn more about interactive tables.';\n",
              "          element.innerHTML = '';\n",
              "          dataTable['output_type'] = 'display_data';\n",
              "          await google.colab.output.renderOutput(dataTable, element);\n",
              "          const docLink = document.createElement('div');\n",
              "          docLink.innerHTML = docLinkHtml;\n",
              "          element.appendChild(docLink);\n",
              "        }\n",
              "      </script>\n",
              "    </div>\n",
              "  </div>\n",
              "  "
            ]
          },
          "metadata": {},
          "execution_count": 24
        }
      ]
    },
    {
      "cell_type": "code",
      "source": [
        "pc1_loadings = loadings.sort_values(by='PC1', ascending=False)[['PC1']]\n",
        "pc1_loadings = pc1_loadings.reset_index()\n",
        "pc1_loadings.columns = ['Attribute', 'CorrelationWithPC1']\n",
        "\n",
        "plt.bar(x=pc1_loadings['Attribute'], height=pc1_loadings['CorrelationWithPC1'], color='#087E8B')\n",
        "plt.title('PCA loading scores (first principal component)', size=5)\n",
        "plt.xticks(rotation='vertical')\n",
        "plt.show()"
      ],
      "metadata": {
        "colab": {
          "base_uri": "https://localhost:8080/",
          "height": 320
        },
        "id": "faxoRJX_wLxB",
        "outputId": "bc63c69b-e1b4-411c-9d4f-ed4829ed1a5a"
      },
      "execution_count": 25,
      "outputs": [
        {
          "output_type": "display_data",
          "data": {
            "text/plain": [
              "<Figure size 432x288 with 1 Axes>"
            ],
            "image/png": "[encoded data removed]"
          },
          "metadata": {
            "needs_background": "light"
          }
        }
      ]
    },
    {
      "cell_type": "code",
      "source": [
        "fs_fit_fscore = SelectKBest(f_classif, k=len(X.columns))\n",
        "fs_fit_fscore.fit_transform(X_train, y_train)\n",
        "fs_indices_fscore = np.argsort(np.nan_to_num(fs_fit_fscore.scores_))[::-1][0:len(X.columns)]\n",
        "fs_indices_fscore"
      ],
      "metadata": {
        "colab": {
          "base_uri": "https://localhost:8080/"
        },
        "id": "Fn_8QOFRwNup",
        "outputId": "e41c317f-eae2-4a39-e0bd-d7cfbefb61c4"
      },
      "execution_count": 26,
      "outputs": [
        {
          "output_type": "execute_result",
          "data": {
            "text/plain": [
              "array([ 1,  3,  0,  5, 29,  7, 31, 27,  6, 10, 19, 21, 13, 12, 14, 11,  2,\n",
              "        9, 23,  4, 20, 16,  8, 25, 17, 15, 32, 30, 18, 26, 24, 28, 22])"
            ]
          },
          "metadata": {},
          "execution_count": 26
        }
      ]
    },
    {
      "cell_type": "code",
      "source": [
        "best_features_fscore = df.columns[fs_indices_fscore].values\n",
        "print(best_features_fscore)\n",
        "feature_importances_fscore = fs_fit_fscore.scores_[fs_indices_fscore]\n",
        "print(feature_importances_fscore)"
      ],
      "metadata": {
        "colab": {
          "base_uri": "https://localhost:8080/"
        },
        "id": "5ZovuGwJwSEi",
        "outputId": "aee15d08-c518-4867-dac8-7befd1d23c26"
      },
      "execution_count": 27,
      "outputs": [
        {
          "output_type": "stream",
          "name": "stdout",
          "text": [
            "['column_b' 'column_d' 'column_a' 'column_f' 'column_ad' 'column_h'\n",
            " 'column_af' 'column_ab' 'column_g' 'column_k' 'column_t' 'column_v'\n",
            " 'column_n' 'column_m' 'column_o' 'column_l' 'column_c' 'column_j'\n",
            " 'column_x' 'column_e' 'column_u' 'column_q' 'column_i' 'column_z'\n",
            " 'column_r' 'column_p' 'column_ag' 'column_ae' 'column_s' 'column_aa'\n",
            " 'column_y' 'column_ac' 'column_w']\n",
            "[1.16646725e+02 1.02892638e+02 8.79253561e+01 6.18245753e+01\n",
            " 2.98777955e+01 2.47840201e+01 1.81838434e+01 1.63710246e+01\n",
            " 1.52322565e+01 1.17732797e+01 1.05760121e+01 1.05205678e+01\n",
            " 9.93918744e+00 8.55174298e+00 7.78360594e+00 7.75621530e+00\n",
            " 7.55664833e+00 6.85392596e+00 6.65410136e+00 6.59201325e+00\n",
            " 6.07438980e+00 5.11934019e+00 4.76956666e+00 4.51042964e+00\n",
            " 3.76731032e+00 1.25743000e+00 1.24707039e+00 6.46737989e-01\n",
            " 1.12374318e-01 1.04686923e-01 2.65092043e-02 2.16378729e-02\n",
            " 4.62716304e-03]\n"
          ]
        }
      ]
    },
    {
      "cell_type": "code",
      "source": [
        "plt.barh(best_features_fscore, feature_importances_fscore)\n",
        "plt.xlabel('Imporatnce')\n",
        "plt.ylabel('Features')"
      ],
      "metadata": {
        "colab": {
          "base_uri": "https://localhost:8080/",
          "height": 296
        },
        "id": "O8YUMTEdwUe1",
        "outputId": "5d77bc0d-6e6b-4b7b-8d07-ca28d883ea10"
      },
      "execution_count": 28,
      "outputs": [
        {
          "output_type": "execute_result",
          "data": {
            "text/plain": [
              "Text(0, 0.5, 'Features')"
            ]
          },
          "metadata": {},
          "execution_count": 28
        },
        {
          "output_type": "display_data",
          "data": {
            "text/plain": [
              "<Figure size 432x288 with 1 Axes>"
            ],
            "image/png": "[encoded data removed]"
          },
          "metadata": {
            "needs_background": "light"
          }
        }
      ]
    },
    {
      "cell_type": "code",
      "source": [
        "fs_fit_mutual_info = SelectKBest(mutual_info_classif, k=len(X.columns))\n",
        "fs_fit_mutual_info.fit_transform(X_train, y_train)\n",
        "fs_indices_mutual_info = np.argsort(fs_fit_mutual_info.scores_)[::-1][0:len(X.columns)]\n",
        "best_features_mutual_info = df.columns[fs_indices_mutual_info].values\n",
        "best_features_mutual_info"
      ],
      "metadata": {
        "colab": {
          "base_uri": "https://localhost:8080/"
        },
        "id": "3HRgeVGMwXfI",
        "outputId": "976b4374-e7d8-498d-8cce-516c5ff3a6ee"
      },
      "execution_count": 29,
      "outputs": [
        {
          "output_type": "execute_result",
          "data": {
            "text/plain": [
              "array(['column_d', 'column_e', 'column_b', 'column_g', 'column_t',\n",
              "       'column_ad', 'column_ab', 'column_n', 'column_z', 'column_ag',\n",
              "       'column_f', 'column_m', 'column_af', 'column_w', 'column_o',\n",
              "       'column_aa', 'column_u', 'column_i', 'column_y', 'column_ae',\n",
              "       'column_q', 'column_l', 'column_p', 'column_c', 'column_v',\n",
              "       'column_k', 'column_j', 'column_s', 'column_x', 'column_r',\n",
              "       'column_h', 'column_ac', 'column_a'], dtype=object)"
            ]
          },
          "metadata": {},
          "execution_count": 29
        }
      ]
    },
    {
      "cell_type": "code",
      "source": [
        "feature_importances_mutual_info = fs_fit_mutual_info.scores_[fs_indices_mutual_info]\n",
        "feature_importances_mutual_info"
      ],
      "metadata": {
        "colab": {
          "base_uri": "https://localhost:8080/"
        },
        "id": "kTsCqGWLwZsO",
        "outputId": "96d9221a-cfff-450e-f14b-c16518f3037c"
      },
      "execution_count": 30,
      "outputs": [
        {
          "output_type": "execute_result",
          "data": {
            "text/plain": [
              "array([0.30706702, 0.2928909 , 0.28907135, 0.28866949, 0.2871185 ,\n",
              "       0.26832927, 0.25909278, 0.24638559, 0.24569375, 0.2419483 ,\n",
              "       0.24063727, 0.23833937, 0.23772008, 0.23683424, 0.22628842,\n",
              "       0.21825982, 0.20336648, 0.20172132, 0.19680711, 0.19529507,\n",
              "       0.19444243, 0.1915093 , 0.19105037, 0.19095315, 0.18672284,\n",
              "       0.18463762, 0.18018492, 0.17426855, 0.17234479, 0.1674532 ,\n",
              "       0.16578443, 0.13853958, 0.13405606])"
            ]
          },
          "metadata": {},
          "execution_count": 30
        }
      ]
    },
    {
      "cell_type": "code",
      "source": [
        "plt.barh(best_features_mutual_info,feature_importances_mutual_info)\n",
        "plt.xlabel('Importance')\n",
        "plt.ylabel('Features')"
      ],
      "metadata": {
        "colab": {
          "base_uri": "https://localhost:8080/",
          "height": 296
        },
        "id": "1bXi3rMSwczx",
        "outputId": "4b04e908-99b6-4909-afec-fae0476c5b4b"
      },
      "execution_count": 31,
      "outputs": [
        {
          "output_type": "execute_result",
          "data": {
            "text/plain": [
              "Text(0, 0.5, 'Features')"
            ]
          },
          "metadata": {},
          "execution_count": 31
        },
        {
          "output_type": "display_data",
          "data": {
            "text/plain": [
              "<Figure size 432x288 with 1 Axes>"
            ],
            "image/png": "[encoded data removed]"
          },
          "metadata": {
            "needs_background": "light"
          }
        }
      ]
    },
    {
      "cell_type": "code",
      "source": [
        "df_corr = df.drop(['column_b'],axis =1).corr()"
      ],
      "metadata": {
        "id": "17izPbKywfBc"
      },
      "execution_count": 50,
      "outputs": []
    },
    {
      "cell_type": "code",
      "source": [
        "print(abs(df_corr['column_ai']))"
      ],
      "metadata": {
        "colab": {
          "base_uri": "https://localhost:8080/"
        },
        "id": "hUrCvsCCwjlR",
        "outputId": "238289e8-8adf-4801-910a-541b86c5509b"
      },
      "execution_count": 51,
      "outputs": [
        {
          "output_type": "stream",
          "name": "stdout",
          "text": [
            "column_a     0.465614\n",
            "column_c     0.519145\n",
            "column_d     0.125884\n",
            "column_e     0.516477\n",
            "column_f     0.149099\n",
            "column_g     0.450429\n",
            "column_h     0.207544\n",
            "column_i     0.294852\n",
            "column_j     0.120634\n",
            "column_k     0.167908\n",
            "column_l     0.159940\n",
            "column_m     0.181682\n",
            "column_n     0.197041\n",
            "column_o     0.207201\n",
            "column_p     0.148775\n",
            "column_q     0.087060\n",
            "column_r     0.119346\n",
            "column_s     0.117435\n",
            "column_t     0.035620\n",
            "column_u     0.219583\n",
            "column_v     0.116385\n",
            "column_w     0.204361\n",
            "column_x     0.006193\n",
            "column_y     0.188185\n",
            "column_z     0.001541\n",
            "column_aa    0.111107\n",
            "column_ab    0.042756\n",
            "column_ac    0.250036\n",
            "column_ad    0.003942\n",
            "column_ae    0.294417\n",
            "column_af    0.036004\n",
            "column_ag    0.261157\n",
            "column_ah    0.064168\n",
            "column_ai    1.000000\n",
            "Name: column_ai, dtype: float64\n"
          ]
        }
      ]
    },
    {
      "cell_type": "code",
      "source": [
        ""
      ],
      "metadata": {
        "id": "RibACc1fwofX"
      },
      "execution_count": null,
      "outputs": []
    }
  ]
}