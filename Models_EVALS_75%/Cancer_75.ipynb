{
  "nbformat": 4,
  "nbformat_minor": 0,
  "metadata": {
    "colab": {
      "name": "Cancer_75.ipynb",
      "provenance": [],
      "authorship_tag": "ABX9TyMaSDwcFlJNr1yNzTEZ06iD",
      "include_colab_link": true
    },
    "kernelspec": {
      "name": "python3",
      "display_name": "Python 3"
    },
    "language_info": {
      "name": "python"
    }
  },
  "cells": [
    {
      "cell_type": "markdown",
      "metadata": {
        "id": "view-in-github",
        "colab_type": "text"
      },
      "source": [
        "<a href=\"https://colab.research.google.com/github/Noob919/Feature_selection/blob/main/Models_EVALS_75%25/Cancer_75.ipynb\" target=\"_parent\"><img src=\"https://colab.research.google.com/assets/colab-badge.svg\" alt=\"Open In Colab\"/></a>"
      ]
    },
    {
      "cell_type": "code",
      "execution_count": 1,
      "metadata": {
        "colab": {
          "base_uri": "https://localhost:8080/"
        },
        "id": "d-uUOfZ7ZhSY",
        "outputId": "0c5323d5-ab31-4d1c-bab6-abaaa169b458"
      },
      "outputs": [
        {
          "output_type": "stream",
          "name": "stdout",
          "text": [
            "Found existing installation: tensorflow 2.8.2+zzzcolab20220527125636\n",
            "Uninstalling tensorflow-2.8.2+zzzcolab20220527125636:\n",
            "  Would remove:\n",
            "    /usr/local/bin/estimator_ckpt_converter\n",
            "    /usr/local/bin/import_pb_to_tensorboard\n",
            "    /usr/local/bin/saved_model_cli\n",
            "    /usr/local/bin/tensorboard\n",
            "    /usr/local/bin/tf_upgrade_v2\n",
            "    /usr/local/bin/tflite_convert\n",
            "    /usr/local/bin/toco\n",
            "    /usr/local/bin/toco_from_protos\n",
            "    /usr/local/lib/python3.7/dist-packages/tensorflow-2.8.2+zzzcolab20220527125636.dist-info/*\n",
            "    /usr/local/lib/python3.7/dist-packages/tensorflow/*\n",
            "Proceed (y/n)? y\n",
            "  Successfully uninstalled tensorflow-2.8.2+zzzcolab20220527125636\n"
          ]
        }
      ],
      "source": [
        "!pip uninstall tensorflow"
      ]
    },
    {
      "cell_type": "code",
      "source": [
        "!pip install tensorflow==2.5"
      ],
      "metadata": {
        "colab": {
          "base_uri": "https://localhost:8080/",
          "height": 1000
        },
        "id": "gqbsblHHwuhP",
        "outputId": "1f6ec92f-e58d-4e8a-a289-164a2686811b"
      },
      "execution_count": 2,
      "outputs": [
        {
          "output_type": "stream",
          "name": "stdout",
          "text": [
            "Looking in indexes: https://pypi.org/simple, https://us-python.pkg.dev/colab-wheels/public/simple/\n",
            "Collecting tensorflow==2.5\n",
            "  Downloading tensorflow-2.5.0-cp37-cp37m-manylinux2010_x86_64.whl (454.3 MB)\n",
            "\u001b[K     |████████████████████████████████| 454.3 MB 11 kB/s \n",
            "\u001b[?25hCollecting tensorflow-estimator<2.6.0,>=2.5.0rc0\n",
            "  Downloading tensorflow_estimator-2.5.0-py2.py3-none-any.whl (462 kB)\n",
            "\u001b[K     |████████████████████████████████| 462 kB 65.8 MB/s \n",
            "\u001b[?25hCollecting gast==0.4.0\n",
            "  Downloading gast-0.4.0-py3-none-any.whl (9.8 kB)\n",
            "Collecting typing-extensions~=3.7.4\n",
            "  Downloading typing_extensions-3.7.4.3-py3-none-any.whl (22 kB)\n",
            "Requirement already satisfied: six~=1.15.0 in /usr/local/lib/python3.7/dist-packages (from tensorflow==2.5) (1.15.0)\n",
            "Requirement already satisfied: astunparse~=1.6.3 in /usr/local/lib/python3.7/dist-packages (from tensorflow==2.5) (1.6.3)\n",
            "Collecting flatbuffers~=1.12.0\n",
            "  Downloading flatbuffers-1.12-py2.py3-none-any.whl (15 kB)\n",
            "Collecting numpy~=1.19.2\n",
            "  Downloading numpy-1.19.5-cp37-cp37m-manylinux2010_x86_64.whl (14.8 MB)\n",
            "\u001b[K     |████████████████████████████████| 14.8 MB 46.3 MB/s \n",
            "\u001b[?25hCollecting absl-py~=0.10\n",
            "  Downloading absl_py-0.15.0-py3-none-any.whl (132 kB)\n",
            "\u001b[K     |████████████████████████████████| 132 kB 63.6 MB/s \n",
            "\u001b[?25hCollecting wrapt~=1.12.1\n",
            "  Downloading wrapt-1.12.1.tar.gz (27 kB)\n",
            "Requirement already satisfied: tensorboard~=2.5 in /usr/local/lib/python3.7/dist-packages (from tensorflow==2.5) (2.8.0)\n",
            "Requirement already satisfied: protobuf>=3.9.2 in /usr/local/lib/python3.7/dist-packages (from tensorflow==2.5) (3.17.3)\n",
            "Collecting keras-nightly~=2.5.0.dev\n",
            "  Downloading keras_nightly-2.5.0.dev2021032900-py2.py3-none-any.whl (1.2 MB)\n",
            "\u001b[K     |████████████████████████████████| 1.2 MB 59.7 MB/s \n",
            "\u001b[?25hRequirement already satisfied: h5py~=3.1.0 in /usr/local/lib/python3.7/dist-packages (from tensorflow==2.5) (3.1.0)\n",
            "Requirement already satisfied: opt-einsum~=3.3.0 in /usr/local/lib/python3.7/dist-packages (from tensorflow==2.5) (3.3.0)\n",
            "Requirement already satisfied: google-pasta~=0.2 in /usr/local/lib/python3.7/dist-packages (from tensorflow==2.5) (0.2.0)\n",
            "Requirement already satisfied: termcolor~=1.1.0 in /usr/local/lib/python3.7/dist-packages (from tensorflow==2.5) (1.1.0)\n",
            "Requirement already satisfied: wheel~=0.35 in /usr/local/lib/python3.7/dist-packages (from tensorflow==2.5) (0.37.1)\n",
            "Collecting grpcio~=1.34.0\n",
            "  Downloading grpcio-1.34.1-cp37-cp37m-manylinux2014_x86_64.whl (4.0 MB)\n",
            "\u001b[K     |████████████████████████████████| 4.0 MB 40.0 MB/s \n",
            "\u001b[?25hRequirement already satisfied: keras-preprocessing~=1.1.2 in /usr/local/lib/python3.7/dist-packages (from tensorflow==2.5) (1.1.2)\n",
            "Requirement already satisfied: cached-property in /usr/local/lib/python3.7/dist-packages (from h5py~=3.1.0->tensorflow==2.5) (1.5.2)\n",
            "Requirement already satisfied: requests<3,>=2.21.0 in /usr/local/lib/python3.7/dist-packages (from tensorboard~=2.5->tensorflow==2.5) (2.23.0)\n",
            "Requirement already satisfied: setuptools>=41.0.0 in /usr/local/lib/python3.7/dist-packages (from tensorboard~=2.5->tensorflow==2.5) (57.4.0)\n",
            "Requirement already satisfied: werkzeug>=0.11.15 in /usr/local/lib/python3.7/dist-packages (from tensorboard~=2.5->tensorflow==2.5) (1.0.1)\n",
            "Requirement already satisfied: google-auth<3,>=1.6.3 in /usr/local/lib/python3.7/dist-packages (from tensorboard~=2.5->tensorflow==2.5) (1.35.0)\n",
            "Requirement already satisfied: tensorboard-plugin-wit>=1.6.0 in /usr/local/lib/python3.7/dist-packages (from tensorboard~=2.5->tensorflow==2.5) (1.8.1)\n",
            "Requirement already satisfied: markdown>=2.6.8 in /usr/local/lib/python3.7/dist-packages (from tensorboard~=2.5->tensorflow==2.5) (3.3.7)\n",
            "Requirement already satisfied: google-auth-oauthlib<0.5,>=0.4.1 in /usr/local/lib/python3.7/dist-packages (from tensorboard~=2.5->tensorflow==2.5) (0.4.6)\n",
            "Requirement already satisfied: tensorboard-data-server<0.7.0,>=0.6.0 in /usr/local/lib/python3.7/dist-packages (from tensorboard~=2.5->tensorflow==2.5) (0.6.1)\n",
            "Requirement already satisfied: rsa<5,>=3.1.4 in /usr/local/lib/python3.7/dist-packages (from google-auth<3,>=1.6.3->tensorboard~=2.5->tensorflow==2.5) (4.8)\n",
            "Requirement already satisfied: cachetools<5.0,>=2.0.0 in /usr/local/lib/python3.7/dist-packages (from google-auth<3,>=1.6.3->tensorboard~=2.5->tensorflow==2.5) (4.2.4)\n",
            "Requirement already satisfied: pyasn1-modules>=0.2.1 in /usr/local/lib/python3.7/dist-packages (from google-auth<3,>=1.6.3->tensorboard~=2.5->tensorflow==2.5) (0.2.8)\n",
            "Requirement already satisfied: requests-oauthlib>=0.7.0 in /usr/local/lib/python3.7/dist-packages (from google-auth-oauthlib<0.5,>=0.4.1->tensorboard~=2.5->tensorflow==2.5) (1.3.1)\n",
            "Requirement already satisfied: importlib-metadata>=4.4 in /usr/local/lib/python3.7/dist-packages (from markdown>=2.6.8->tensorboard~=2.5->tensorflow==2.5) (4.11.4)\n",
            "Requirement already satisfied: zipp>=0.5 in /usr/local/lib/python3.7/dist-packages (from importlib-metadata>=4.4->markdown>=2.6.8->tensorboard~=2.5->tensorflow==2.5) (3.8.0)\n",
            "Requirement already satisfied: pyasn1<0.5.0,>=0.4.6 in /usr/local/lib/python3.7/dist-packages (from pyasn1-modules>=0.2.1->google-auth<3,>=1.6.3->tensorboard~=2.5->tensorflow==2.5) (0.4.8)\n",
            "Requirement already satisfied: certifi>=2017.4.17 in /usr/local/lib/python3.7/dist-packages (from requests<3,>=2.21.0->tensorboard~=2.5->tensorflow==2.5) (2022.6.15)\n",
            "Requirement already satisfied: chardet<4,>=3.0.2 in /usr/local/lib/python3.7/dist-packages (from requests<3,>=2.21.0->tensorboard~=2.5->tensorflow==2.5) (3.0.4)\n",
            "Requirement already satisfied: urllib3!=1.25.0,!=1.25.1,<1.26,>=1.21.1 in /usr/local/lib/python3.7/dist-packages (from requests<3,>=2.21.0->tensorboard~=2.5->tensorflow==2.5) (1.24.3)\n",
            "Requirement already satisfied: idna<3,>=2.5 in /usr/local/lib/python3.7/dist-packages (from requests<3,>=2.21.0->tensorboard~=2.5->tensorflow==2.5) (2.10)\n",
            "Requirement already satisfied: oauthlib>=3.0.0 in /usr/local/lib/python3.7/dist-packages (from requests-oauthlib>=0.7.0->google-auth-oauthlib<0.5,>=0.4.1->tensorboard~=2.5->tensorflow==2.5) (3.2.0)\n",
            "Building wheels for collected packages: wrapt\n",
            "  Building wheel for wrapt (setup.py) ... \u001b[?25l\u001b[?25hdone\n",
            "  Created wheel for wrapt: filename=wrapt-1.12.1-cp37-cp37m-linux_x86_64.whl size=68725 sha256=6af68c4c943cd32fd0d7ff08af4683199923842a47c84c80b89df6b993fb6cf2\n",
            "  Stored in directory: /root/.cache/pip/wheels/62/76/4c/aa25851149f3f6d9785f6c869387ad82b3fd37582fa8147ac6\n",
            "Successfully built wrapt\n",
            "Installing collected packages: typing-extensions, numpy, grpcio, absl-py, wrapt, tensorflow-estimator, keras-nightly, gast, flatbuffers, tensorflow\n",
            "  Attempting uninstall: typing-extensions\n",
            "    Found existing installation: typing-extensions 4.1.1\n",
            "    Uninstalling typing-extensions-4.1.1:\n",
            "      Successfully uninstalled typing-extensions-4.1.1\n",
            "  Attempting uninstall: numpy\n",
            "    Found existing installation: numpy 1.21.6\n",
            "    Uninstalling numpy-1.21.6:\n",
            "      Successfully uninstalled numpy-1.21.6\n",
            "  Attempting uninstall: grpcio\n",
            "    Found existing installation: grpcio 1.46.3\n",
            "    Uninstalling grpcio-1.46.3:\n",
            "      Successfully uninstalled grpcio-1.46.3\n",
            "  Attempting uninstall: absl-py\n",
            "    Found existing installation: absl-py 1.1.0\n",
            "    Uninstalling absl-py-1.1.0:\n",
            "      Successfully uninstalled absl-py-1.1.0\n",
            "  Attempting uninstall: wrapt\n",
            "    Found existing installation: wrapt 1.14.1\n",
            "    Uninstalling wrapt-1.14.1:\n",
            "      Successfully uninstalled wrapt-1.14.1\n",
            "  Attempting uninstall: tensorflow-estimator\n",
            "    Found existing installation: tensorflow-estimator 2.8.0\n",
            "    Uninstalling tensorflow-estimator-2.8.0:\n",
            "      Successfully uninstalled tensorflow-estimator-2.8.0\n",
            "  Attempting uninstall: gast\n",
            "    Found existing installation: gast 0.5.3\n",
            "    Uninstalling gast-0.5.3:\n",
            "      Successfully uninstalled gast-0.5.3\n",
            "  Attempting uninstall: flatbuffers\n",
            "    Found existing installation: flatbuffers 2.0\n",
            "    Uninstalling flatbuffers-2.0:\n",
            "      Successfully uninstalled flatbuffers-2.0\n",
            "\u001b[31mERROR: pip's dependency resolver does not currently take into account all the packages that are installed. This behaviour is the source of the following dependency conflicts.\n",
            "xarray-einstats 0.2.2 requires numpy>=1.21, but you have numpy 1.19.5 which is incompatible.\n",
            "datascience 0.10.6 requires folium==0.2.1, but you have folium 0.8.3 which is incompatible.\n",
            "albumentations 0.1.12 requires imgaug<0.2.7,>=0.2.5, but you have imgaug 0.2.9 which is incompatible.\u001b[0m\n",
            "Successfully installed absl-py-0.15.0 flatbuffers-1.12 gast-0.4.0 grpcio-1.34.1 keras-nightly-2.5.0.dev2021032900 numpy-1.19.5 tensorflow-2.5.0 tensorflow-estimator-2.5.0 typing-extensions-3.7.4.3 wrapt-1.12.1\n"
          ]
        },
        {
          "output_type": "display_data",
          "data": {
            "application/vnd.colab-display-data+json": {
              "pip_warning": {
                "packages": [
                  "numpy",
                  "typing_extensions"
                ]
              }
            }
          },
          "metadata": {}
        }
      ]
    },
    {
      "cell_type": "code",
      "source": [
        "import numpy as np\n",
        "import pandas as pd\n",
        "from sklearn import preprocessing\n",
        "from sklearn.model_selection import train_test_split\n",
        "from sklearn.ensemble import RandomForestClassifier\n",
        "from sklearn.svm import SVC\n",
        "from sklearn.metrics import accuracy_score\n",
        "from sklearn.preprocessing import LabelEncoder\n",
        "from sklearn.preprocessing import StandardScaler\n",
        "import matplotlib.pyplot as plt\n",
        "import seaborn as sns\n",
        "import tensorflow as tf\n",
        "from tensorflow.keras import datasets, layers, models,Sequential\n",
        "from sklearn.metrics import confusion_matrix\n",
        "from sklearn.metrics import recall_score,precision_score"
      ],
      "metadata": {
        "id": "AiW2qA02xFIC"
      },
      "execution_count": 1,
      "outputs": []
    },
    {
      "cell_type": "code",
      "source": [
        "df = pd.read_csv(\"/content/cancer.csv\")\n",
        "df_new = df.drop(['id','Unnamed: 32'],axis =1)\n",
        "df_new['diagnosis'] = LabelEncoder().fit_transform(df_new['diagnosis'])\n",
        "y = df_new['diagnosis']"
      ],
      "metadata": {
        "id": "BV1oiKHkxZjT"
      },
      "execution_count": 2,
      "outputs": []
    },
    {
      "cell_type": "code",
      "source": [
        "rank1 = pd.read_excel(\"/content/cancer_dataset_U.xlsx\",sheet_name = \"Chi_2\").set_index('Attributes_Names')\n",
        "df_chi = df_new[rank1[:23].index]\n",
        "X_col =  df_chi\n",
        "y = df_new['diagnosis']\n",
        "Scaler = StandardScaler()\n",
        "X_col =  Scaler.fit_transform(X_col)\n",
        "X_train, X_test, y_train, y_test = train_test_split(X_col, y, test_size=0.2, random_state=0)\n",
        "print(\"Shape of training data\",X_train.shape)\n",
        "print(\"Shape of testing data\",X_test.shape)"
      ],
      "metadata": {
        "colab": {
          "base_uri": "https://localhost:8080/"
        },
        "id": "umEGwQ46xeS-",
        "outputId": "bfd7b20f-d704-4e58-cb5c-49bcf19f92af"
      },
      "execution_count": 3,
      "outputs": [
        {
          "output_type": "stream",
          "name": "stdout",
          "text": [
            "Shape of training data (455, 23)\n",
            "Shape of testing data (114, 23)\n"
          ]
        }
      ]
    },
    {
      "cell_type": "code",
      "source": [
        "rf =  RandomForestClassifier()\n",
        "rf.fit(X_train,y_train)\n",
        "y_pred_rf =  rf.predict(X_test)\n",
        "accuracy_score(y_test,y_pred_rf)\n",
        "print(\"Accuracy: \",accuracy_score(y_test,y_pred_rf))\n",
        "print(\"Recall: \", recall_score(y_test,y_pred_rf))\n",
        "print(\"Precision: \", precision_score(y_test,y_pred_rf))\n",
        "print(confusion_matrix(y_test,y_pred_rf))"
      ],
      "metadata": {
        "colab": {
          "base_uri": "https://localhost:8080/"
        },
        "id": "jIljnFdHxln3",
        "outputId": "f8a22020-e3b3-4954-f786-77b08b9784db"
      },
      "execution_count": 4,
      "outputs": [
        {
          "output_type": "stream",
          "name": "stdout",
          "text": [
            "Accuracy:  0.956140350877193\n",
            "Recall:  0.9574468085106383\n",
            "Precision:  0.9375\n",
            "[[64  3]\n",
            " [ 2 45]]\n"
          ]
        }
      ]
    },
    {
      "cell_type": "code",
      "source": [
        "svc =  SVC()\n",
        "svc.fit(X_test,y_test)\n",
        "y_pred_svc =  svc.predict(X_test)\n",
        "print(\"Accuracy: \",accuracy_score(y_test,y_pred_svc))\n",
        "print(\"Recall: \", recall_score(y_test,y_pred_svc))\n",
        "print(\"Precision: \", precision_score(y_test,y_pred_svc))\n",
        "print(confusion_matrix(y_test,y_pred_rf))"
      ],
      "metadata": {
        "colab": {
          "base_uri": "https://localhost:8080/"
        },
        "id": "fiCrrnKbxr71",
        "outputId": "80fa06f2-a9ca-4bab-d209-1ac0e6ff74f6"
      },
      "execution_count": 5,
      "outputs": [
        {
          "output_type": "stream",
          "name": "stdout",
          "text": [
            "Accuracy:  0.9912280701754386\n",
            "Recall:  0.9787234042553191\n",
            "Precision:  1.0\n",
            "[[64  3]\n",
            " [ 2 45]]\n"
          ]
        }
      ]
    },
    {
      "cell_type": "code",
      "source": [
        "model = tf.keras.Sequential([\n",
        "    tf.keras.layers.Dense(23, activation='relu', input_shape=(23,)),\n",
        "    tf.keras.layers.BatchNormalization(),\n",
        "    tf.keras.layers.Dense(20, activation='relu'),\n",
        "    tf.keras.layers.BatchNormalization(),\n",
        "    tf.keras.layers.Dense(24, activation='relu'),\n",
        "    tf.keras.layers.Dropout(0.5),\n",
        "    tf.keras.layers.BatchNormalization(),\n",
        "    tf.keras.layers.Dense(28, activation='relu'),\n",
        "    tf.keras.layers.Dropout(0.5),\n",
        "    tf.keras.layers.Dense(1,activation='sigmoid')\n",
        "  ])\n",
        "model.compile(loss='binary_crossentropy',\n",
        "              optimizer = 'adam',\n",
        "              metrics=['accuracy'])\n",
        "model.summary()"
      ],
      "metadata": {
        "colab": {
          "base_uri": "https://localhost:8080/"
        },
        "id": "SMQAkkS3xvKm",
        "outputId": "f63a232f-d09a-45e9-9ff9-fb1fb6bbf50e"
      },
      "execution_count": 6,
      "outputs": [
        {
          "output_type": "stream",
          "name": "stdout",
          "text": [
            "Model: \"sequential\"\n",
            "_________________________________________________________________\n",
            "Layer (type)                 Output Shape              Param #   \n",
            "=================================================================\n",
            "dense (Dense)                (None, 23)                552       \n",
            "_________________________________________________________________\n",
            "batch_normalization (BatchNo (None, 23)                92        \n",
            "_________________________________________________________________\n",
            "dense_1 (Dense)              (None, 20)                480       \n",
            "_________________________________________________________________\n",
            "batch_normalization_1 (Batch (None, 20)                80        \n",
            "_________________________________________________________________\n",
            "dense_2 (Dense)              (None, 24)                504       \n",
            "_________________________________________________________________\n",
            "dropout (Dropout)            (None, 24)                0         \n",
            "_________________________________________________________________\n",
            "batch_normalization_2 (Batch (None, 24)                96        \n",
            "_________________________________________________________________\n",
            "dense_3 (Dense)              (None, 28)                700       \n",
            "_________________________________________________________________\n",
            "dropout_1 (Dropout)          (None, 28)                0         \n",
            "_________________________________________________________________\n",
            "dense_4 (Dense)              (None, 1)                 29        \n",
            "=================================================================\n",
            "Total params: 2,533\n",
            "Trainable params: 2,399\n",
            "Non-trainable params: 134\n",
            "_________________________________________________________________\n"
          ]
        }
      ]
    },
    {
      "cell_type": "code",
      "source": [
        "h = model.fit(X_train,y_train,epochs=100,validation_data=(X_test,y_test))"
      ],
      "metadata": {
        "colab": {
          "base_uri": "https://localhost:8080/"
        },
        "id": "UfW994ImxyQL",
        "outputId": "66287dba-35ae-4cb0-844b-b7876384a9d7"
      },
      "execution_count": 7,
      "outputs": [
        {
          "output_type": "stream",
          "name": "stdout",
          "text": [
            "Epoch 1/100\n",
            "15/15 [==============================] - 4s 48ms/step - loss: 0.8074 - accuracy: 0.5451 - val_loss: 0.6252 - val_accuracy: 0.6491\n",
            "Epoch 2/100\n",
            "15/15 [==============================] - 0s 10ms/step - loss: 0.7088 - accuracy: 0.6132 - val_loss: 0.5771 - val_accuracy: 0.6842\n",
            "Epoch 3/100\n",
            "15/15 [==============================] - 0s 9ms/step - loss: 0.6211 - accuracy: 0.6725 - val_loss: 0.5304 - val_accuracy: 0.7456\n",
            "Epoch 4/100\n",
            "15/15 [==============================] - 0s 10ms/step - loss: 0.5058 - accuracy: 0.7604 - val_loss: 0.4881 - val_accuracy: 0.7895\n",
            "Epoch 5/100\n",
            "15/15 [==============================] - 0s 11ms/step - loss: 0.4782 - accuracy: 0.7736 - val_loss: 0.4403 - val_accuracy: 0.8333\n",
            "Epoch 6/100\n",
            "15/15 [==============================] - 0s 14ms/step - loss: 0.4140 - accuracy: 0.8088 - val_loss: 0.3884 - val_accuracy: 0.8421\n",
            "Epoch 7/100\n",
            "15/15 [==============================] - 0s 13ms/step - loss: 0.4264 - accuracy: 0.8374 - val_loss: 0.3385 - val_accuracy: 0.9298\n",
            "Epoch 8/100\n",
            "15/15 [==============================] - 0s 9ms/step - loss: 0.3846 - accuracy: 0.8220 - val_loss: 0.2936 - val_accuracy: 0.9474\n",
            "Epoch 9/100\n",
            "15/15 [==============================] - 0s 11ms/step - loss: 0.3366 - accuracy: 0.8637 - val_loss: 0.2483 - val_accuracy: 0.9737\n",
            "Epoch 10/100\n",
            "15/15 [==============================] - 0s 12ms/step - loss: 0.3152 - accuracy: 0.8813 - val_loss: 0.2090 - val_accuracy: 0.9737\n",
            "Epoch 11/100\n",
            "15/15 [==============================] - 0s 11ms/step - loss: 0.2692 - accuracy: 0.8901 - val_loss: 0.1788 - val_accuracy: 0.9737\n",
            "Epoch 12/100\n",
            "15/15 [==============================] - 0s 13ms/step - loss: 0.2317 - accuracy: 0.9231 - val_loss: 0.1576 - val_accuracy: 0.9737\n",
            "Epoch 13/100\n",
            "15/15 [==============================] - 0s 11ms/step - loss: 0.2196 - accuracy: 0.9231 - val_loss: 0.1370 - val_accuracy: 0.9737\n",
            "Epoch 14/100\n",
            "15/15 [==============================] - 0s 14ms/step - loss: 0.2157 - accuracy: 0.9143 - val_loss: 0.1216 - val_accuracy: 0.9649\n",
            "Epoch 15/100\n",
            "15/15 [==============================] - 0s 9ms/step - loss: 0.2049 - accuracy: 0.9253 - val_loss: 0.1095 - val_accuracy: 0.9561\n",
            "Epoch 16/100\n",
            "15/15 [==============================] - 0s 12ms/step - loss: 0.1979 - accuracy: 0.9407 - val_loss: 0.1007 - val_accuracy: 0.9561\n",
            "Epoch 17/100\n",
            "15/15 [==============================] - 0s 8ms/step - loss: 0.1764 - accuracy: 0.9451 - val_loss: 0.0946 - val_accuracy: 0.9561\n",
            "Epoch 18/100\n",
            "15/15 [==============================] - 0s 8ms/step - loss: 0.1705 - accuracy: 0.9538 - val_loss: 0.0910 - val_accuracy: 0.9649\n",
            "Epoch 19/100\n",
            "15/15 [==============================] - 0s 8ms/step - loss: 0.1642 - accuracy: 0.9385 - val_loss: 0.0873 - val_accuracy: 0.9561\n",
            "Epoch 20/100\n",
            "15/15 [==============================] - 0s 12ms/step - loss: 0.1577 - accuracy: 0.9429 - val_loss: 0.0859 - val_accuracy: 0.9561\n",
            "Epoch 21/100\n",
            "15/15 [==============================] - 0s 9ms/step - loss: 0.1436 - accuracy: 0.9516 - val_loss: 0.0847 - val_accuracy: 0.9561\n",
            "Epoch 22/100\n",
            "15/15 [==============================] - 0s 8ms/step - loss: 0.1248 - accuracy: 0.9604 - val_loss: 0.0834 - val_accuracy: 0.9561\n",
            "Epoch 23/100\n",
            "15/15 [==============================] - 0s 11ms/step - loss: 0.1159 - accuracy: 0.9714 - val_loss: 0.0811 - val_accuracy: 0.9561\n",
            "Epoch 24/100\n",
            "15/15 [==============================] - 0s 9ms/step - loss: 0.1320 - accuracy: 0.9604 - val_loss: 0.0826 - val_accuracy: 0.9561\n",
            "Epoch 25/100\n",
            "15/15 [==============================] - 0s 9ms/step - loss: 0.1468 - accuracy: 0.9582 - val_loss: 0.0836 - val_accuracy: 0.9561\n",
            "Epoch 26/100\n",
            "15/15 [==============================] - 0s 9ms/step - loss: 0.1179 - accuracy: 0.9626 - val_loss: 0.0857 - val_accuracy: 0.9561\n",
            "Epoch 27/100\n",
            "15/15 [==============================] - 0s 9ms/step - loss: 0.1250 - accuracy: 0.9670 - val_loss: 0.0878 - val_accuracy: 0.9561\n",
            "Epoch 28/100\n",
            "15/15 [==============================] - 0s 9ms/step - loss: 0.1263 - accuracy: 0.9582 - val_loss: 0.0880 - val_accuracy: 0.9561\n",
            "Epoch 29/100\n",
            "15/15 [==============================] - 0s 12ms/step - loss: 0.0963 - accuracy: 0.9692 - val_loss: 0.0868 - val_accuracy: 0.9561\n",
            "Epoch 30/100\n",
            "15/15 [==============================] - 0s 9ms/step - loss: 0.0937 - accuracy: 0.9692 - val_loss: 0.0864 - val_accuracy: 0.9561\n",
            "Epoch 31/100\n",
            "15/15 [==============================] - 0s 11ms/step - loss: 0.0976 - accuracy: 0.9670 - val_loss: 0.0875 - val_accuracy: 0.9561\n",
            "Epoch 32/100\n",
            "15/15 [==============================] - 0s 8ms/step - loss: 0.0919 - accuracy: 0.9626 - val_loss: 0.0887 - val_accuracy: 0.9561\n",
            "Epoch 33/100\n",
            "15/15 [==============================] - 0s 11ms/step - loss: 0.1290 - accuracy: 0.9582 - val_loss: 0.0893 - val_accuracy: 0.9561\n",
            "Epoch 34/100\n",
            "15/15 [==============================] - 0s 10ms/step - loss: 0.0996 - accuracy: 0.9758 - val_loss: 0.0935 - val_accuracy: 0.9474\n",
            "Epoch 35/100\n",
            "15/15 [==============================] - 0s 7ms/step - loss: 0.1002 - accuracy: 0.9670 - val_loss: 0.0917 - val_accuracy: 0.9474\n",
            "Epoch 36/100\n",
            "15/15 [==============================] - 0s 12ms/step - loss: 0.0974 - accuracy: 0.9604 - val_loss: 0.0925 - val_accuracy: 0.9561\n",
            "Epoch 37/100\n",
            "15/15 [==============================] - 0s 11ms/step - loss: 0.1001 - accuracy: 0.9626 - val_loss: 0.0958 - val_accuracy: 0.9561\n",
            "Epoch 38/100\n",
            "15/15 [==============================] - 0s 9ms/step - loss: 0.0951 - accuracy: 0.9670 - val_loss: 0.0968 - val_accuracy: 0.9474\n",
            "Epoch 39/100\n",
            "15/15 [==============================] - 0s 9ms/step - loss: 0.0891 - accuracy: 0.9736 - val_loss: 0.0948 - val_accuracy: 0.9474\n",
            "Epoch 40/100\n",
            "15/15 [==============================] - 0s 8ms/step - loss: 0.1084 - accuracy: 0.9692 - val_loss: 0.0957 - val_accuracy: 0.9474\n",
            "Epoch 41/100\n",
            "15/15 [==============================] - 0s 14ms/step - loss: 0.1166 - accuracy: 0.9604 - val_loss: 0.0947 - val_accuracy: 0.9474\n",
            "Epoch 42/100\n",
            "15/15 [==============================] - 0s 8ms/step - loss: 0.1005 - accuracy: 0.9670 - val_loss: 0.0969 - val_accuracy: 0.9474\n",
            "Epoch 43/100\n",
            "15/15 [==============================] - 0s 9ms/step - loss: 0.0984 - accuracy: 0.9758 - val_loss: 0.0983 - val_accuracy: 0.9561\n",
            "Epoch 44/100\n",
            "15/15 [==============================] - 0s 8ms/step - loss: 0.1542 - accuracy: 0.9516 - val_loss: 0.0927 - val_accuracy: 0.9561\n",
            "Epoch 45/100\n",
            "15/15 [==============================] - 0s 7ms/step - loss: 0.0708 - accuracy: 0.9846 - val_loss: 0.0907 - val_accuracy: 0.9474\n",
            "Epoch 46/100\n",
            "15/15 [==============================] - 0s 9ms/step - loss: 0.1398 - accuracy: 0.9560 - val_loss: 0.0913 - val_accuracy: 0.9474\n",
            "Epoch 47/100\n",
            "15/15 [==============================] - 0s 8ms/step - loss: 0.0863 - accuracy: 0.9802 - val_loss: 0.0948 - val_accuracy: 0.9474\n",
            "Epoch 48/100\n",
            "15/15 [==============================] - 0s 10ms/step - loss: 0.0647 - accuracy: 0.9846 - val_loss: 0.0947 - val_accuracy: 0.9561\n",
            "Epoch 49/100\n",
            "15/15 [==============================] - 0s 14ms/step - loss: 0.0757 - accuracy: 0.9736 - val_loss: 0.0957 - val_accuracy: 0.9561\n",
            "Epoch 50/100\n",
            "15/15 [==============================] - 0s 8ms/step - loss: 0.0716 - accuracy: 0.9846 - val_loss: 0.0967 - val_accuracy: 0.9561\n",
            "Epoch 51/100\n",
            "15/15 [==============================] - 0s 10ms/step - loss: 0.0901 - accuracy: 0.9758 - val_loss: 0.0986 - val_accuracy: 0.9474\n",
            "Epoch 52/100\n",
            "15/15 [==============================] - 0s 11ms/step - loss: 0.0923 - accuracy: 0.9692 - val_loss: 0.0993 - val_accuracy: 0.9474\n",
            "Epoch 53/100\n",
            "15/15 [==============================] - 0s 10ms/step - loss: 0.0874 - accuracy: 0.9736 - val_loss: 0.0977 - val_accuracy: 0.9561\n",
            "Epoch 54/100\n",
            "15/15 [==============================] - 0s 12ms/step - loss: 0.0957 - accuracy: 0.9736 - val_loss: 0.0971 - val_accuracy: 0.9561\n",
            "Epoch 55/100\n",
            "15/15 [==============================] - 0s 9ms/step - loss: 0.0652 - accuracy: 0.9846 - val_loss: 0.0994 - val_accuracy: 0.9561\n",
            "Epoch 56/100\n",
            "15/15 [==============================] - 0s 9ms/step - loss: 0.0657 - accuracy: 0.9824 - val_loss: 0.0990 - val_accuracy: 0.9561\n",
            "Epoch 57/100\n",
            "15/15 [==============================] - 0s 12ms/step - loss: 0.0833 - accuracy: 0.9758 - val_loss: 0.0978 - val_accuracy: 0.9561\n",
            "Epoch 58/100\n",
            "15/15 [==============================] - 0s 9ms/step - loss: 0.0705 - accuracy: 0.9802 - val_loss: 0.0980 - val_accuracy: 0.9561\n",
            "Epoch 59/100\n",
            "15/15 [==============================] - 0s 14ms/step - loss: 0.0749 - accuracy: 0.9780 - val_loss: 0.1008 - val_accuracy: 0.9561\n",
            "Epoch 60/100\n",
            "15/15 [==============================] - 0s 8ms/step - loss: 0.1322 - accuracy: 0.9538 - val_loss: 0.1007 - val_accuracy: 0.9561\n",
            "Epoch 61/100\n",
            "15/15 [==============================] - 0s 12ms/step - loss: 0.1093 - accuracy: 0.9736 - val_loss: 0.1025 - val_accuracy: 0.9561\n",
            "Epoch 62/100\n",
            "15/15 [==============================] - 0s 13ms/step - loss: 0.1137 - accuracy: 0.9604 - val_loss: 0.1068 - val_accuracy: 0.9386\n",
            "Epoch 63/100\n",
            "15/15 [==============================] - 0s 9ms/step - loss: 0.1020 - accuracy: 0.9780 - val_loss: 0.1101 - val_accuracy: 0.9474\n",
            "Epoch 64/100\n",
            "15/15 [==============================] - 0s 11ms/step - loss: 0.0809 - accuracy: 0.9758 - val_loss: 0.1126 - val_accuracy: 0.9474\n",
            "Epoch 65/100\n",
            "15/15 [==============================] - 0s 8ms/step - loss: 0.0875 - accuracy: 0.9758 - val_loss: 0.1118 - val_accuracy: 0.9474\n",
            "Epoch 66/100\n",
            "15/15 [==============================] - 0s 10ms/step - loss: 0.0886 - accuracy: 0.9670 - val_loss: 0.1147 - val_accuracy: 0.9561\n",
            "Epoch 67/100\n",
            "15/15 [==============================] - 0s 9ms/step - loss: 0.0955 - accuracy: 0.9714 - val_loss: 0.1182 - val_accuracy: 0.9561\n",
            "Epoch 68/100\n",
            "15/15 [==============================] - 0s 9ms/step - loss: 0.1009 - accuracy: 0.9648 - val_loss: 0.1184 - val_accuracy: 0.9561\n",
            "Epoch 69/100\n",
            "15/15 [==============================] - 0s 9ms/step - loss: 0.0821 - accuracy: 0.9780 - val_loss: 0.1200 - val_accuracy: 0.9561\n",
            "Epoch 70/100\n",
            "15/15 [==============================] - 0s 10ms/step - loss: 0.0800 - accuracy: 0.9780 - val_loss: 0.1173 - val_accuracy: 0.9561\n",
            "Epoch 71/100\n",
            "15/15 [==============================] - 0s 12ms/step - loss: 0.0564 - accuracy: 0.9846 - val_loss: 0.1137 - val_accuracy: 0.9561\n",
            "Epoch 72/100\n",
            "15/15 [==============================] - 0s 14ms/step - loss: 0.0668 - accuracy: 0.9846 - val_loss: 0.1132 - val_accuracy: 0.9474\n",
            "Epoch 73/100\n",
            "15/15 [==============================] - 0s 13ms/step - loss: 0.0640 - accuracy: 0.9736 - val_loss: 0.1157 - val_accuracy: 0.9474\n",
            "Epoch 74/100\n",
            "15/15 [==============================] - 0s 9ms/step - loss: 0.0724 - accuracy: 0.9802 - val_loss: 0.1165 - val_accuracy: 0.9474\n",
            "Epoch 75/100\n",
            "15/15 [==============================] - 0s 13ms/step - loss: 0.0969 - accuracy: 0.9758 - val_loss: 0.1188 - val_accuracy: 0.9561\n",
            "Epoch 76/100\n",
            "15/15 [==============================] - 0s 11ms/step - loss: 0.1261 - accuracy: 0.9648 - val_loss: 0.1157 - val_accuracy: 0.9474\n",
            "Epoch 77/100\n",
            "15/15 [==============================] - 0s 9ms/step - loss: 0.0806 - accuracy: 0.9692 - val_loss: 0.1210 - val_accuracy: 0.9649\n",
            "Epoch 78/100\n",
            "15/15 [==============================] - 0s 10ms/step - loss: 0.0615 - accuracy: 0.9824 - val_loss: 0.1206 - val_accuracy: 0.9561\n",
            "Epoch 79/100\n",
            "15/15 [==============================] - 0s 12ms/step - loss: 0.0946 - accuracy: 0.9758 - val_loss: 0.1192 - val_accuracy: 0.9737\n",
            "Epoch 80/100\n",
            "15/15 [==============================] - 0s 9ms/step - loss: 0.0732 - accuracy: 0.9758 - val_loss: 0.1187 - val_accuracy: 0.9561\n",
            "Epoch 81/100\n",
            "15/15 [==============================] - 0s 10ms/step - loss: 0.0821 - accuracy: 0.9758 - val_loss: 0.1149 - val_accuracy: 0.9561\n",
            "Epoch 82/100\n",
            "15/15 [==============================] - 0s 10ms/step - loss: 0.0785 - accuracy: 0.9802 - val_loss: 0.1141 - val_accuracy: 0.9649\n",
            "Epoch 83/100\n",
            "15/15 [==============================] - 0s 14ms/step - loss: 0.0682 - accuracy: 0.9824 - val_loss: 0.1154 - val_accuracy: 0.9649\n",
            "Epoch 84/100\n",
            "15/15 [==============================] - 0s 8ms/step - loss: 0.0597 - accuracy: 0.9868 - val_loss: 0.1163 - val_accuracy: 0.9737\n",
            "Epoch 85/100\n",
            "15/15 [==============================] - 0s 11ms/step - loss: 0.0478 - accuracy: 0.9868 - val_loss: 0.1157 - val_accuracy: 0.9649\n",
            "Epoch 86/100\n",
            "15/15 [==============================] - 0s 10ms/step - loss: 0.1021 - accuracy: 0.9670 - val_loss: 0.1141 - val_accuracy: 0.9737\n",
            "Epoch 87/100\n",
            "15/15 [==============================] - 0s 9ms/step - loss: 0.0761 - accuracy: 0.9758 - val_loss: 0.1129 - val_accuracy: 0.9474\n",
            "Epoch 88/100\n",
            "15/15 [==============================] - 0s 11ms/step - loss: 0.0519 - accuracy: 0.9846 - val_loss: 0.1116 - val_accuracy: 0.9474\n",
            "Epoch 89/100\n",
            "15/15 [==============================] - 0s 8ms/step - loss: 0.0833 - accuracy: 0.9780 - val_loss: 0.1110 - val_accuracy: 0.9474\n",
            "Epoch 90/100\n",
            "15/15 [==============================] - 0s 9ms/step - loss: 0.0728 - accuracy: 0.9780 - val_loss: 0.1028 - val_accuracy: 0.9561\n",
            "Epoch 91/100\n",
            "15/15 [==============================] - 0s 8ms/step - loss: 0.0645 - accuracy: 0.9780 - val_loss: 0.1016 - val_accuracy: 0.9649\n",
            "Epoch 92/100\n",
            "15/15 [==============================] - 0s 9ms/step - loss: 0.0519 - accuracy: 0.9890 - val_loss: 0.1017 - val_accuracy: 0.9649\n",
            "Epoch 93/100\n",
            "15/15 [==============================] - 0s 11ms/step - loss: 0.0612 - accuracy: 0.9868 - val_loss: 0.1031 - val_accuracy: 0.9649\n",
            "Epoch 94/100\n",
            "15/15 [==============================] - 0s 12ms/step - loss: 0.0533 - accuracy: 0.9846 - val_loss: 0.1026 - val_accuracy: 0.9649\n",
            "Epoch 95/100\n",
            "15/15 [==============================] - 0s 14ms/step - loss: 0.0640 - accuracy: 0.9846 - val_loss: 0.1007 - val_accuracy: 0.9649\n",
            "Epoch 96/100\n",
            "15/15 [==============================] - 0s 14ms/step - loss: 0.0746 - accuracy: 0.9736 - val_loss: 0.0992 - val_accuracy: 0.9649\n",
            "Epoch 97/100\n",
            "15/15 [==============================] - 0s 13ms/step - loss: 0.0763 - accuracy: 0.9736 - val_loss: 0.1015 - val_accuracy: 0.9561\n",
            "Epoch 98/100\n",
            "15/15 [==============================] - 0s 12ms/step - loss: 0.0773 - accuracy: 0.9736 - val_loss: 0.1011 - val_accuracy: 0.9474\n",
            "Epoch 99/100\n",
            "15/15 [==============================] - 0s 14ms/step - loss: 0.0958 - accuracy: 0.9758 - val_loss: 0.1069 - val_accuracy: 0.9561\n",
            "Epoch 100/100\n",
            "15/15 [==============================] - 0s 12ms/step - loss: 0.0407 - accuracy: 0.9890 - val_loss: 0.1085 - val_accuracy: 0.9561\n"
          ]
        }
      ]
    },
    {
      "cell_type": "code",
      "source": [
        "plt.plot(h.history['accuracy'], label = 'Accuracy for Train set')\n",
        "plt.plot(h.history['val_accuracy'], label = 'Accuracy for Test Set')\n",
        "plt.title('Accuracy Graph for ANN')\n",
        "plt.ylabel('Accuracy')\n",
        "plt.xlabel('epochs')\n",
        "plt.legend()"
      ],
      "metadata": {
        "colab": {
          "base_uri": "https://localhost:8080/",
          "height": 312
        },
        "id": "awFWFmVGx3yo",
        "outputId": "9338a66c-c34a-4128-f37f-b9cc764bbf7b"
      },
      "execution_count": 8,
      "outputs": [
        {
          "output_type": "execute_result",
          "data": {
            "text/plain": [
              "<matplotlib.legend.Legend at 0x7f9b387eb2d0>"
            ]
          },
          "metadata": {},
          "execution_count": 8
        },
        {
          "output_type": "display_data",
          "data": {
            "text/plain": [
              "<Figure size 432x288 with 1 Axes>"
            ],
            "image/png": "[encoded data removed]"
          },
          "metadata": {
            "needs_background": "light"
          }
        }
      ]
    },
    {
      "cell_type": "code",
      "source": [
        "plt.plot(h.history['loss'], label = 'loss for Train set')\n",
        "plt.plot(h.history['val_loss'], label = 'loss for Test Set')\n",
        "plt.title('loss Graph for ANN')\n",
        "plt.ylabel('loss')\n",
        "plt.xlabel('epochs')\n",
        "plt.legend()"
      ],
      "metadata": {
        "colab": {
          "base_uri": "https://localhost:8080/",
          "height": 312
        },
        "id": "pVsN2z8VyAI-",
        "outputId": "ff91d64a-af14-4fc6-96c9-d90017bc722f"
      },
      "execution_count": 9,
      "outputs": [
        {
          "output_type": "execute_result",
          "data": {
            "text/plain": [
              "<matplotlib.legend.Legend at 0x7f9b397512d0>"
            ]
          },
          "metadata": {},
          "execution_count": 9
        },
        {
          "output_type": "display_data",
          "data": {
            "text/plain": [
              "<Figure size 432x288 with 1 Axes>"
            ],
            "image/png": "[encoded data removed]"
          },
          "metadata": {
            "needs_background": "light"
          }
        }
      ]
    },
    {
      "cell_type": "code",
      "source": [
        "y_pred_ann = model.predict_classes(X_test)\n",
        "print(\"Accuracy: \",accuracy_score(y_test,y_pred_ann))\n",
        "print(\"Recall: \", recall_score(y_test,y_pred_ann))\n",
        "print(\"Precision: \", precision_score(y_test,y_pred_ann))\n",
        "print(confusion_matrix(y_test,y_pred_ann))"
      ],
      "metadata": {
        "colab": {
          "base_uri": "https://localhost:8080/"
        },
        "id": "IGkZ5jbByCeP",
        "outputId": "67107848-0df8-4311-9989-0fb88cd47f7a"
      },
      "execution_count": 10,
      "outputs": [
        {
          "output_type": "stream",
          "name": "stderr",
          "text": [
            "/usr/local/lib/python3.7/dist-packages/tensorflow/python/keras/engine/sequential.py:455: UserWarning: `model.predict_classes()` is deprecated and will be removed after 2021-01-01. Please use instead:* `np.argmax(model.predict(x), axis=-1)`,   if your model does multi-class classification   (e.g. if it uses a `softmax` last-layer activation).* `(model.predict(x) > 0.5).astype(\"int32\")`,   if your model does binary classification   (e.g. if it uses a `sigmoid` last-layer activation).\n",
            "  warnings.warn('`model.predict_classes()` is deprecated and '\n"
          ]
        },
        {
          "output_type": "stream",
          "name": "stdout",
          "text": [
            "Accuracy:  0.956140350877193\n",
            "Recall:  0.9361702127659575\n",
            "Precision:  0.9565217391304348\n",
            "[[65  2]\n",
            " [ 3 44]]\n"
          ]
        }
      ]
    },
    {
      "cell_type": "code",
      "source": [
        "rank2  = pd.read_excel(\"/content/cancer_dataset_U.xlsx\",sheet_name = \"Tree_based_method\").set_index('Attributes_Names')\n",
        "df_tree = df_new[rank2[0:23].index]\n",
        "X_col =  df_tree\n",
        "y = df_new['diagnosis']\n",
        "Scaler = StandardScaler()\n",
        "X_col =  Scaler.fit_transform(X_col)\n",
        "X_train, X_test, y_train, y_test = train_test_split(X_col, y, test_size=0.2, random_state=0)\n",
        "print(\"Shape of training data\",X_train.shape)\n",
        "print(\"Shape of testing data\",X_test.shape)"
      ],
      "metadata": {
        "colab": {
          "base_uri": "https://localhost:8080/"
        },
        "id": "1HGkGtvTyErR",
        "outputId": "0af1fd3e-b6af-4f35-ed96-2f55d2f617c5"
      },
      "execution_count": 11,
      "outputs": [
        {
          "output_type": "stream",
          "name": "stdout",
          "text": [
            "Shape of training data (455, 23)\n",
            "Shape of testing data (114, 23)\n"
          ]
        }
      ]
    },
    {
      "cell_type": "code",
      "source": [
        "rf =  RandomForestClassifier()\n",
        "rf.fit(X_train,y_train)\n",
        "y_pred_rf =  rf.predict(X_test)\n",
        "print(\"Accuracy: \",accuracy_score(y_test,y_pred_rf))\n",
        "print(\"Recall: \", recall_score(y_test,y_pred_rf))\n",
        "print(\"Precision: \", precision_score(y_test,y_pred_rf))\n",
        "print(confusion_matrix(y_test,y_pred_rf))"
      ],
      "metadata": {
        "colab": {
          "base_uri": "https://localhost:8080/"
        },
        "id": "O2j0KU2TyHZX",
        "outputId": "5e6fb525-f9a3-4383-9e5f-629ecf107a1e"
      },
      "execution_count": 12,
      "outputs": [
        {
          "output_type": "stream",
          "name": "stdout",
          "text": [
            "Accuracy:  0.9736842105263158\n",
            "Recall:  0.9787234042553191\n",
            "Precision:  0.9583333333333334\n",
            "[[65  2]\n",
            " [ 1 46]]\n"
          ]
        }
      ]
    },
    {
      "cell_type": "code",
      "source": [
        "svc =  SVC()\n",
        "svc.fit(X_test,y_test)\n",
        "y_pred_svc =  svc.predict(X_test)\n",
        "print(\"Accuracy: \",accuracy_score(y_test,y_pred_svc))\n",
        "print(\"Recall: \", recall_score(y_test,y_pred_svc))\n",
        "print(\"Precision: \", precision_score(y_test,y_pred_svc))\n",
        "print(confusion_matrix(y_test,y_pred_svc))"
      ],
      "metadata": {
        "colab": {
          "base_uri": "https://localhost:8080/"
        },
        "id": "VWhXltVyyT-k",
        "outputId": "fa2be79c-5aba-4a2a-bc8d-379aa7f984d9"
      },
      "execution_count": 13,
      "outputs": [
        {
          "output_type": "stream",
          "name": "stdout",
          "text": [
            "Accuracy:  0.9824561403508771\n",
            "Recall:  0.9574468085106383\n",
            "Precision:  1.0\n",
            "[[67  0]\n",
            " [ 2 45]]\n"
          ]
        }
      ]
    },
    {
      "cell_type": "code",
      "source": [
        "model = tf.keras.Sequential([\n",
        "    tf.keras.layers.Dense(23, activation='relu', input_shape=(23,)),\n",
        "    tf.keras.layers.BatchNormalization(),\n",
        "    tf.keras.layers.Dense(20, activation='relu'),\n",
        "    tf.keras.layers.BatchNormalization(),\n",
        "    tf.keras.layers.Dense(24, activation='relu'),\n",
        "    tf.keras.layers.Dropout(0.5),\n",
        "    tf.keras.layers.BatchNormalization(),\n",
        "    tf.keras.layers.Dense(28, activation='relu'),\n",
        "    tf.keras.layers.Dropout(0.5),\n",
        "    tf.keras.layers.Dense(1,activation='sigmoid')\n",
        "  ])\n",
        "model.compile(loss='binary_crossentropy',\n",
        "              optimizer = 'adam',\n",
        "              metrics=['accuracy'])\n",
        "model.summary()"
      ],
      "metadata": {
        "colab": {
          "base_uri": "https://localhost:8080/"
        },
        "id": "A73Zt-iKyWkV",
        "outputId": "a6728adb-ea24-486b-96a2-52065214d678"
      },
      "execution_count": 14,
      "outputs": [
        {
          "output_type": "stream",
          "name": "stdout",
          "text": [
            "Model: \"sequential_1\"\n",
            "_________________________________________________________________\n",
            "Layer (type)                 Output Shape              Param #   \n",
            "=================================================================\n",
            "dense_5 (Dense)              (None, 23)                552       \n",
            "_________________________________________________________________\n",
            "batch_normalization_3 (Batch (None, 23)                92        \n",
            "_________________________________________________________________\n",
            "dense_6 (Dense)              (None, 20)                480       \n",
            "_________________________________________________________________\n",
            "batch_normalization_4 (Batch (None, 20)                80        \n",
            "_________________________________________________________________\n",
            "dense_7 (Dense)              (None, 24)                504       \n",
            "_________________________________________________________________\n",
            "dropout_2 (Dropout)          (None, 24)                0         \n",
            "_________________________________________________________________\n",
            "batch_normalization_5 (Batch (None, 24)                96        \n",
            "_________________________________________________________________\n",
            "dense_8 (Dense)              (None, 28)                700       \n",
            "_________________________________________________________________\n",
            "dropout_3 (Dropout)          (None, 28)                0         \n",
            "_________________________________________________________________\n",
            "dense_9 (Dense)              (None, 1)                 29        \n",
            "=================================================================\n",
            "Total params: 2,533\n",
            "Trainable params: 2,399\n",
            "Non-trainable params: 134\n",
            "_________________________________________________________________\n"
          ]
        }
      ]
    },
    {
      "cell_type": "code",
      "source": [
        "h = model.fit(X_train,y_train,epochs=100,validation_data=(X_test,y_test))"
      ],
      "metadata": {
        "colab": {
          "base_uri": "https://localhost:8080/"
        },
        "id": "f5KTXaL-yazj",
        "outputId": "89660b66-9284-44f6-c2c9-dafd370ea5a0"
      },
      "execution_count": 15,
      "outputs": [
        {
          "output_type": "stream",
          "name": "stdout",
          "text": [
            "Epoch 1/100\n",
            "15/15 [==============================] - 3s 35ms/step - loss: 0.6854 - accuracy: 0.5824 - val_loss: 0.6450 - val_accuracy: 0.7368\n",
            "Epoch 2/100\n",
            "15/15 [==============================] - 0s 9ms/step - loss: 0.6322 - accuracy: 0.6110 - val_loss: 0.5991 - val_accuracy: 0.7982\n",
            "Epoch 3/100\n",
            "15/15 [==============================] - 0s 9ms/step - loss: 0.5702 - accuracy: 0.7231 - val_loss: 0.5453 - val_accuracy: 0.8246\n",
            "Epoch 4/100\n",
            "15/15 [==============================] - 0s 8ms/step - loss: 0.5073 - accuracy: 0.7495 - val_loss: 0.4941 - val_accuracy: 0.8509\n",
            "Epoch 5/100\n",
            "15/15 [==============================] - 0s 8ms/step - loss: 0.4717 - accuracy: 0.7670 - val_loss: 0.4366 - val_accuracy: 0.8772\n",
            "Epoch 6/100\n",
            "15/15 [==============================] - 0s 10ms/step - loss: 0.4198 - accuracy: 0.8022 - val_loss: 0.3860 - val_accuracy: 0.8772\n",
            "Epoch 7/100\n",
            "15/15 [==============================] - 0s 10ms/step - loss: 0.3561 - accuracy: 0.8681 - val_loss: 0.3402 - val_accuracy: 0.8860\n",
            "Epoch 8/100\n",
            "15/15 [==============================] - 0s 10ms/step - loss: 0.3511 - accuracy: 0.8593 - val_loss: 0.2978 - val_accuracy: 0.8947\n",
            "Epoch 9/100\n",
            "15/15 [==============================] - 0s 9ms/step - loss: 0.3487 - accuracy: 0.8725 - val_loss: 0.2665 - val_accuracy: 0.9211\n",
            "Epoch 10/100\n",
            "15/15 [==============================] - 0s 9ms/step - loss: 0.2744 - accuracy: 0.8835 - val_loss: 0.2373 - val_accuracy: 0.9211\n",
            "Epoch 11/100\n",
            "15/15 [==============================] - 0s 9ms/step - loss: 0.2727 - accuracy: 0.9121 - val_loss: 0.2073 - val_accuracy: 0.9035\n",
            "Epoch 12/100\n",
            "15/15 [==============================] - 0s 7ms/step - loss: 0.2396 - accuracy: 0.9275 - val_loss: 0.1878 - val_accuracy: 0.9123\n",
            "Epoch 13/100\n",
            "15/15 [==============================] - 0s 8ms/step - loss: 0.2178 - accuracy: 0.9231 - val_loss: 0.1666 - val_accuracy: 0.9298\n",
            "Epoch 14/100\n",
            "15/15 [==============================] - 0s 13ms/step - loss: 0.2268 - accuracy: 0.9341 - val_loss: 0.1535 - val_accuracy: 0.9474\n",
            "Epoch 15/100\n",
            "15/15 [==============================] - 0s 10ms/step - loss: 0.1904 - accuracy: 0.9407 - val_loss: 0.1447 - val_accuracy: 0.9386\n",
            "Epoch 16/100\n",
            "15/15 [==============================] - 0s 10ms/step - loss: 0.1774 - accuracy: 0.9495 - val_loss: 0.1375 - val_accuracy: 0.9386\n",
            "Epoch 17/100\n",
            "15/15 [==============================] - 0s 9ms/step - loss: 0.1752 - accuracy: 0.9516 - val_loss: 0.1314 - val_accuracy: 0.9386\n",
            "Epoch 18/100\n",
            "15/15 [==============================] - 0s 8ms/step - loss: 0.1865 - accuracy: 0.9429 - val_loss: 0.1259 - val_accuracy: 0.9474\n",
            "Epoch 19/100\n",
            "15/15 [==============================] - 0s 8ms/step - loss: 0.1607 - accuracy: 0.9560 - val_loss: 0.1242 - val_accuracy: 0.9474\n",
            "Epoch 20/100\n",
            "15/15 [==============================] - 0s 8ms/step - loss: 0.1305 - accuracy: 0.9560 - val_loss: 0.1194 - val_accuracy: 0.9474\n",
            "Epoch 21/100\n",
            "15/15 [==============================] - 0s 9ms/step - loss: 0.1331 - accuracy: 0.9582 - val_loss: 0.1123 - val_accuracy: 0.9386\n",
            "Epoch 22/100\n",
            "15/15 [==============================] - 0s 9ms/step - loss: 0.1444 - accuracy: 0.9516 - val_loss: 0.1087 - val_accuracy: 0.9386\n",
            "Epoch 23/100\n",
            "15/15 [==============================] - 0s 9ms/step - loss: 0.1496 - accuracy: 0.9604 - val_loss: 0.1115 - val_accuracy: 0.9386\n",
            "Epoch 24/100\n",
            "15/15 [==============================] - 0s 10ms/step - loss: 0.1354 - accuracy: 0.9670 - val_loss: 0.1123 - val_accuracy: 0.9386\n",
            "Epoch 25/100\n",
            "15/15 [==============================] - 0s 9ms/step - loss: 0.1298 - accuracy: 0.9714 - val_loss: 0.1132 - val_accuracy: 0.9386\n",
            "Epoch 26/100\n",
            "15/15 [==============================] - 0s 8ms/step - loss: 0.1446 - accuracy: 0.9451 - val_loss: 0.1163 - val_accuracy: 0.9386\n",
            "Epoch 27/100\n",
            "15/15 [==============================] - 0s 7ms/step - loss: 0.1487 - accuracy: 0.9473 - val_loss: 0.1171 - val_accuracy: 0.9386\n",
            "Epoch 28/100\n",
            "15/15 [==============================] - 0s 4ms/step - loss: 0.1423 - accuracy: 0.9582 - val_loss: 0.1140 - val_accuracy: 0.9298\n",
            "Epoch 29/100\n",
            "15/15 [==============================] - 0s 10ms/step - loss: 0.1329 - accuracy: 0.9670 - val_loss: 0.1151 - val_accuracy: 0.9386\n",
            "Epoch 30/100\n",
            "15/15 [==============================] - 0s 9ms/step - loss: 0.1135 - accuracy: 0.9648 - val_loss: 0.1166 - val_accuracy: 0.9474\n",
            "Epoch 31/100\n",
            "15/15 [==============================] - 0s 9ms/step - loss: 0.1215 - accuracy: 0.9582 - val_loss: 0.1168 - val_accuracy: 0.9386\n",
            "Epoch 32/100\n",
            "15/15 [==============================] - 0s 9ms/step - loss: 0.1452 - accuracy: 0.9538 - val_loss: 0.1118 - val_accuracy: 0.9474\n",
            "Epoch 33/100\n",
            "15/15 [==============================] - 0s 8ms/step - loss: 0.1020 - accuracy: 0.9736 - val_loss: 0.1053 - val_accuracy: 0.9474\n",
            "Epoch 34/100\n",
            "15/15 [==============================] - 0s 9ms/step - loss: 0.0786 - accuracy: 0.9802 - val_loss: 0.1010 - val_accuracy: 0.9561\n",
            "Epoch 35/100\n",
            "15/15 [==============================] - 0s 9ms/step - loss: 0.1112 - accuracy: 0.9582 - val_loss: 0.1076 - val_accuracy: 0.9561\n",
            "Epoch 36/100\n",
            "15/15 [==============================] - 0s 9ms/step - loss: 0.1101 - accuracy: 0.9714 - val_loss: 0.1047 - val_accuracy: 0.9561\n",
            "Epoch 37/100\n",
            "15/15 [==============================] - 0s 8ms/step - loss: 0.0881 - accuracy: 0.9692 - val_loss: 0.1031 - val_accuracy: 0.9561\n",
            "Epoch 38/100\n",
            "15/15 [==============================] - 0s 15ms/step - loss: 0.0806 - accuracy: 0.9736 - val_loss: 0.1048 - val_accuracy: 0.9649\n",
            "Epoch 39/100\n",
            "15/15 [==============================] - 0s 14ms/step - loss: 0.0836 - accuracy: 0.9846 - val_loss: 0.1005 - val_accuracy: 0.9649\n",
            "Epoch 40/100\n",
            "15/15 [==============================] - 0s 17ms/step - loss: 0.0857 - accuracy: 0.9692 - val_loss: 0.0945 - val_accuracy: 0.9649\n",
            "Epoch 41/100\n",
            "15/15 [==============================] - 0s 16ms/step - loss: 0.0838 - accuracy: 0.9714 - val_loss: 0.0919 - val_accuracy: 0.9649\n",
            "Epoch 42/100\n",
            "15/15 [==============================] - 0s 10ms/step - loss: 0.0868 - accuracy: 0.9802 - val_loss: 0.0919 - val_accuracy: 0.9561\n",
            "Epoch 43/100\n",
            "15/15 [==============================] - 0s 10ms/step - loss: 0.0843 - accuracy: 0.9802 - val_loss: 0.1006 - val_accuracy: 0.9649\n",
            "Epoch 44/100\n",
            "15/15 [==============================] - 0s 14ms/step - loss: 0.0727 - accuracy: 0.9780 - val_loss: 0.0934 - val_accuracy: 0.9649\n",
            "Epoch 45/100\n",
            "15/15 [==============================] - 0s 10ms/step - loss: 0.0839 - accuracy: 0.9780 - val_loss: 0.0944 - val_accuracy: 0.9649\n",
            "Epoch 46/100\n",
            "15/15 [==============================] - 0s 11ms/step - loss: 0.0885 - accuracy: 0.9714 - val_loss: 0.0978 - val_accuracy: 0.9649\n",
            "Epoch 47/100\n",
            "15/15 [==============================] - 0s 13ms/step - loss: 0.0843 - accuracy: 0.9692 - val_loss: 0.0987 - val_accuracy: 0.9649\n",
            "Epoch 48/100\n",
            "15/15 [==============================] - 0s 11ms/step - loss: 0.1211 - accuracy: 0.9560 - val_loss: 0.0989 - val_accuracy: 0.9561\n",
            "Epoch 49/100\n",
            "15/15 [==============================] - 0s 10ms/step - loss: 0.0770 - accuracy: 0.9780 - val_loss: 0.1003 - val_accuracy: 0.9561\n",
            "Epoch 50/100\n",
            "15/15 [==============================] - 0s 14ms/step - loss: 0.0604 - accuracy: 0.9802 - val_loss: 0.0864 - val_accuracy: 0.9561\n",
            "Epoch 51/100\n",
            "15/15 [==============================] - 0s 10ms/step - loss: 0.0866 - accuracy: 0.9780 - val_loss: 0.0833 - val_accuracy: 0.9649\n",
            "Epoch 52/100\n",
            "15/15 [==============================] - 0s 13ms/step - loss: 0.0519 - accuracy: 0.9824 - val_loss: 0.0829 - val_accuracy: 0.9561\n",
            "Epoch 53/100\n",
            "15/15 [==============================] - 0s 10ms/step - loss: 0.0693 - accuracy: 0.9758 - val_loss: 0.0841 - val_accuracy: 0.9649\n",
            "Epoch 54/100\n",
            "15/15 [==============================] - 0s 16ms/step - loss: 0.0732 - accuracy: 0.9758 - val_loss: 0.0886 - val_accuracy: 0.9561\n",
            "Epoch 55/100\n",
            "15/15 [==============================] - 0s 14ms/step - loss: 0.0718 - accuracy: 0.9758 - val_loss: 0.0878 - val_accuracy: 0.9649\n",
            "Epoch 56/100\n",
            "15/15 [==============================] - 0s 10ms/step - loss: 0.0950 - accuracy: 0.9626 - val_loss: 0.0885 - val_accuracy: 0.9649\n",
            "Epoch 57/100\n",
            "15/15 [==============================] - 0s 12ms/step - loss: 0.1149 - accuracy: 0.9714 - val_loss: 0.0809 - val_accuracy: 0.9649\n",
            "Epoch 58/100\n",
            "15/15 [==============================] - 0s 11ms/step - loss: 0.0862 - accuracy: 0.9736 - val_loss: 0.0762 - val_accuracy: 0.9649\n",
            "Epoch 59/100\n",
            "15/15 [==============================] - 0s 11ms/step - loss: 0.0576 - accuracy: 0.9758 - val_loss: 0.0708 - val_accuracy: 0.9737\n",
            "Epoch 60/100\n",
            "15/15 [==============================] - 0s 10ms/step - loss: 0.1441 - accuracy: 0.9495 - val_loss: 0.0729 - val_accuracy: 0.9649\n",
            "Epoch 61/100\n",
            "15/15 [==============================] - 0s 15ms/step - loss: 0.0479 - accuracy: 0.9868 - val_loss: 0.0808 - val_accuracy: 0.9561\n",
            "Epoch 62/100\n",
            "15/15 [==============================] - 0s 8ms/step - loss: 0.0994 - accuracy: 0.9758 - val_loss: 0.0856 - val_accuracy: 0.9649\n",
            "Epoch 63/100\n",
            "15/15 [==============================] - 0s 11ms/step - loss: 0.0758 - accuracy: 0.9780 - val_loss: 0.0816 - val_accuracy: 0.9649\n",
            "Epoch 64/100\n",
            "15/15 [==============================] - 0s 14ms/step - loss: 0.0490 - accuracy: 0.9890 - val_loss: 0.0832 - val_accuracy: 0.9737\n",
            "Epoch 65/100\n",
            "15/15 [==============================] - 0s 14ms/step - loss: 0.0879 - accuracy: 0.9736 - val_loss: 0.0821 - val_accuracy: 0.9737\n",
            "Epoch 66/100\n",
            "15/15 [==============================] - 0s 11ms/step - loss: 0.0943 - accuracy: 0.9802 - val_loss: 0.0833 - val_accuracy: 0.9737\n",
            "Epoch 67/100\n",
            "15/15 [==============================] - 0s 12ms/step - loss: 0.0761 - accuracy: 0.9824 - val_loss: 0.0822 - val_accuracy: 0.9737\n",
            "Epoch 68/100\n",
            "15/15 [==============================] - 0s 9ms/step - loss: 0.0593 - accuracy: 0.9890 - val_loss: 0.0767 - val_accuracy: 0.9737\n",
            "Epoch 69/100\n",
            "15/15 [==============================] - 0s 12ms/step - loss: 0.0481 - accuracy: 0.9890 - val_loss: 0.0774 - val_accuracy: 0.9649\n",
            "Epoch 70/100\n",
            "15/15 [==============================] - 0s 12ms/step - loss: 0.0753 - accuracy: 0.9758 - val_loss: 0.0789 - val_accuracy: 0.9649\n",
            "Epoch 71/100\n",
            "15/15 [==============================] - 0s 10ms/step - loss: 0.0599 - accuracy: 0.9846 - val_loss: 0.0846 - val_accuracy: 0.9561\n",
            "Epoch 72/100\n",
            "15/15 [==============================] - 0s 15ms/step - loss: 0.1044 - accuracy: 0.9648 - val_loss: 0.0886 - val_accuracy: 0.9474\n",
            "Epoch 73/100\n",
            "15/15 [==============================] - 0s 10ms/step - loss: 0.2047 - accuracy: 0.9407 - val_loss: 0.0892 - val_accuracy: 0.9474\n",
            "Epoch 74/100\n",
            "15/15 [==============================] - 0s 11ms/step - loss: 0.1309 - accuracy: 0.9560 - val_loss: 0.0881 - val_accuracy: 0.9561\n",
            "Epoch 75/100\n",
            "15/15 [==============================] - 0s 11ms/step - loss: 0.0659 - accuracy: 0.9802 - val_loss: 0.0847 - val_accuracy: 0.9649\n",
            "Epoch 76/100\n",
            "15/15 [==============================] - 0s 15ms/step - loss: 0.0892 - accuracy: 0.9736 - val_loss: 0.0811 - val_accuracy: 0.9561\n",
            "Epoch 77/100\n",
            "15/15 [==============================] - 0s 15ms/step - loss: 0.0576 - accuracy: 0.9824 - val_loss: 0.0797 - val_accuracy: 0.9561\n",
            "Epoch 78/100\n",
            "15/15 [==============================] - 0s 12ms/step - loss: 0.0335 - accuracy: 0.9912 - val_loss: 0.0776 - val_accuracy: 0.9561\n",
            "Epoch 79/100\n",
            "15/15 [==============================] - 0s 11ms/step - loss: 0.0570 - accuracy: 0.9890 - val_loss: 0.0805 - val_accuracy: 0.9561\n",
            "Epoch 80/100\n",
            "15/15 [==============================] - 0s 10ms/step - loss: 0.0552 - accuracy: 0.9802 - val_loss: 0.0836 - val_accuracy: 0.9561\n",
            "Epoch 81/100\n",
            "15/15 [==============================] - 0s 8ms/step - loss: 0.0640 - accuracy: 0.9758 - val_loss: 0.0825 - val_accuracy: 0.9561\n",
            "Epoch 82/100\n",
            "15/15 [==============================] - 0s 10ms/step - loss: 0.0538 - accuracy: 0.9934 - val_loss: 0.0737 - val_accuracy: 0.9561\n",
            "Epoch 83/100\n",
            "15/15 [==============================] - 0s 9ms/step - loss: 0.1111 - accuracy: 0.9670 - val_loss: 0.0797 - val_accuracy: 0.9561\n",
            "Epoch 84/100\n",
            "15/15 [==============================] - 0s 9ms/step - loss: 0.0428 - accuracy: 0.9890 - val_loss: 0.0819 - val_accuracy: 0.9561\n",
            "Epoch 85/100\n",
            "15/15 [==============================] - 0s 10ms/step - loss: 0.0908 - accuracy: 0.9780 - val_loss: 0.0824 - val_accuracy: 0.9561\n",
            "Epoch 86/100\n",
            "15/15 [==============================] - 0s 10ms/step - loss: 0.0556 - accuracy: 0.9802 - val_loss: 0.0757 - val_accuracy: 0.9561\n",
            "Epoch 87/100\n",
            "15/15 [==============================] - 0s 10ms/step - loss: 0.0640 - accuracy: 0.9824 - val_loss: 0.0753 - val_accuracy: 0.9649\n",
            "Epoch 88/100\n",
            "15/15 [==============================] - 0s 9ms/step - loss: 0.0624 - accuracy: 0.9802 - val_loss: 0.0700 - val_accuracy: 0.9561\n",
            "Epoch 89/100\n",
            "15/15 [==============================] - 0s 8ms/step - loss: 0.0714 - accuracy: 0.9802 - val_loss: 0.0673 - val_accuracy: 0.9561\n",
            "Epoch 90/100\n",
            "15/15 [==============================] - 0s 8ms/step - loss: 0.0502 - accuracy: 0.9824 - val_loss: 0.0615 - val_accuracy: 0.9737\n",
            "Epoch 91/100\n",
            "15/15 [==============================] - 0s 9ms/step - loss: 0.0722 - accuracy: 0.9736 - val_loss: 0.0581 - val_accuracy: 0.9737\n",
            "Epoch 92/100\n",
            "15/15 [==============================] - 0s 9ms/step - loss: 0.0579 - accuracy: 0.9802 - val_loss: 0.0571 - val_accuracy: 0.9737\n",
            "Epoch 93/100\n",
            "15/15 [==============================] - 0s 8ms/step - loss: 0.0427 - accuracy: 0.9868 - val_loss: 0.0736 - val_accuracy: 0.9649\n",
            "Epoch 94/100\n",
            "15/15 [==============================] - 0s 10ms/step - loss: 0.1027 - accuracy: 0.9758 - val_loss: 0.0728 - val_accuracy: 0.9825\n",
            "Epoch 95/100\n",
            "15/15 [==============================] - 0s 9ms/step - loss: 0.1367 - accuracy: 0.9692 - val_loss: 0.0724 - val_accuracy: 0.9737\n",
            "Epoch 96/100\n",
            "15/15 [==============================] - 0s 8ms/step - loss: 0.0744 - accuracy: 0.9736 - val_loss: 0.0597 - val_accuracy: 0.9825\n",
            "Epoch 97/100\n",
            "15/15 [==============================] - 0s 8ms/step - loss: 0.0868 - accuracy: 0.9736 - val_loss: 0.0580 - val_accuracy: 0.9825\n",
            "Epoch 98/100\n",
            "15/15 [==============================] - 0s 8ms/step - loss: 0.0707 - accuracy: 0.9868 - val_loss: 0.0547 - val_accuracy: 0.9825\n",
            "Epoch 99/100\n",
            "15/15 [==============================] - 0s 9ms/step - loss: 0.0608 - accuracy: 0.9802 - val_loss: 0.0717 - val_accuracy: 0.9561\n",
            "Epoch 100/100\n",
            "15/15 [==============================] - 0s 5ms/step - loss: 0.0736 - accuracy: 0.9824 - val_loss: 0.1008 - val_accuracy: 0.9561\n"
          ]
        }
      ]
    },
    {
      "cell_type": "code",
      "source": [
        "plt.plot(h.history['accuracy'], label = 'Accuracy for Train set')\n",
        "plt.plot(h.history['val_accuracy'], label = 'Accuracy for Test Set')\n",
        "plt.title('Accuracy Graph for ANN')\n",
        "plt.ylabel('Accuracy')\n",
        "plt.xlabel('epochs')\n",
        "plt.legend()"
      ],
      "metadata": {
        "colab": {
          "base_uri": "https://localhost:8080/",
          "height": 312
        },
        "id": "97medt6jyemf",
        "outputId": "f13c419d-fc4a-41ac-e999-96c92bdbbbfb"
      },
      "execution_count": 16,
      "outputs": [
        {
          "output_type": "execute_result",
          "data": {
            "text/plain": [
              "<matplotlib.legend.Legend at 0x7f9b392a3750>"
            ]
          },
          "metadata": {},
          "execution_count": 16
        },
        {
          "output_type": "display_data",
          "data": {
            "text/plain": [
              "<Figure size 432x288 with 1 Axes>"
            ],
            "image/png": "[encoded data removed]"
          },
          "metadata": {
            "needs_background": "light"
          }
        }
      ]
    },
    {
      "cell_type": "code",
      "source": [
        "plt.plot(h.history['loss'], label = 'loss for Train set')\n",
        "plt.plot(h.history['val_loss'], label = 'loss for Test Set')\n",
        "plt.title('loss Graph for ANN')\n",
        "plt.ylabel('loss')\n",
        "plt.xlabel('epochs')\n",
        "plt.legend()"
      ],
      "metadata": {
        "colab": {
          "base_uri": "https://localhost:8080/",
          "height": 312
        },
        "id": "jnyonT62yidv",
        "outputId": "7c791bbd-4545-4b60-b714-435c7906a2b3"
      },
      "execution_count": 17,
      "outputs": [
        {
          "output_type": "execute_result",
          "data": {
            "text/plain": [
              "<matplotlib.legend.Legend at 0x7f9b38dcc390>"
            ]
          },
          "metadata": {},
          "execution_count": 17
        },
        {
          "output_type": "display_data",
          "data": {
            "text/plain": [
              "<Figure size 432x288 with 1 Axes>"
            ],
            "image/png": "[encoded data removed]"
          },
          "metadata": {
            "needs_background": "light"
          }
        }
      ]
    },
    {
      "cell_type": "code",
      "source": [
        "y_pred_ann = model.predict_classes(X_test)\n",
        "print(\"Accuracy: \",accuracy_score(y_test,y_pred_ann))\n",
        "print(\"Recall: \", recall_score(y_test,y_pred_ann))\n",
        "print(\"Precision: \", precision_score(y_test,y_pred_ann))\n",
        "print(confusion_matrix(y_test,y_pred_ann))"
      ],
      "metadata": {
        "colab": {
          "base_uri": "https://localhost:8080/"
        },
        "id": "zb2wpn31ykne",
        "outputId": "26b625ce-94a1-4910-d624-c8e76c7d3439"
      },
      "execution_count": 18,
      "outputs": [
        {
          "output_type": "stream",
          "name": "stderr",
          "text": [
            "/usr/local/lib/python3.7/dist-packages/tensorflow/python/keras/engine/sequential.py:455: UserWarning: `model.predict_classes()` is deprecated and will be removed after 2021-01-01. Please use instead:* `np.argmax(model.predict(x), axis=-1)`,   if your model does multi-class classification   (e.g. if it uses a `softmax` last-layer activation).* `(model.predict(x) > 0.5).astype(\"int32\")`,   if your model does binary classification   (e.g. if it uses a `sigmoid` last-layer activation).\n",
            "  warnings.warn('`model.predict_classes()` is deprecated and '\n"
          ]
        },
        {
          "output_type": "stream",
          "name": "stdout",
          "text": [
            "Accuracy:  0.956140350877193\n",
            "Recall:  0.9574468085106383\n",
            "Precision:  0.9375\n",
            "[[64  3]\n",
            " [ 2 45]]\n"
          ]
        }
      ]
    },
    {
      "cell_type": "code",
      "source": [
        "rank3  = pd.read_excel(\"/content/cancer_dataset_U.xlsx\",sheet_name = \"permutation_method_mean\").set_index('Attributes_Names')\n",
        "df_per_mean = df_new[rank3[0:23].index]\n",
        "X_col =  df_per_mean\n",
        "y = df_new['diagnosis']\n",
        "Scaler = StandardScaler()\n",
        "X_col =  Scaler.fit_transform(X_col)\n",
        "X_train, X_test, y_train, y_test = train_test_split(X_col, y, test_size=0.2, random_state=0)\n",
        "print(\"Shape of training data\",X_train.shape)\n",
        "print(\"Shape of testing data\",X_test.shape)"
      ],
      "metadata": {
        "colab": {
          "base_uri": "https://localhost:8080/"
        },
        "id": "PL0OmvqDymzS",
        "outputId": "d3829904-6cd8-42b6-835e-8a461538d97f"
      },
      "execution_count": 19,
      "outputs": [
        {
          "output_type": "stream",
          "name": "stdout",
          "text": [
            "Shape of training data (455, 23)\n",
            "Shape of testing data (114, 23)\n"
          ]
        }
      ]
    },
    {
      "cell_type": "code",
      "source": [
        "rf =  RandomForestClassifier()\n",
        "rf.fit(X_train,y_train)\n",
        "y_pred_rf =  rf.predict(X_test)\n",
        "print(\"Accuracy: \",accuracy_score(y_test,y_pred_rf))\n",
        "print(\"Recall: \", recall_score(y_test,y_pred_rf))\n",
        "print(\"Precision: \", precision_score(y_test,y_pred_rf))\n",
        "print(confusion_matrix(y_test,y_pred_rf))"
      ],
      "metadata": {
        "colab": {
          "base_uri": "https://localhost:8080/"
        },
        "id": "TMZPloylzV7a",
        "outputId": "9f089bc0-9721-4e11-a484-b98e131bc7c9"
      },
      "execution_count": 20,
      "outputs": [
        {
          "output_type": "stream",
          "name": "stdout",
          "text": [
            "Accuracy:  0.9385964912280702\n",
            "Recall:  0.9574468085106383\n",
            "Precision:  0.9\n",
            "[[62  5]\n",
            " [ 2 45]]\n"
          ]
        }
      ]
    },
    {
      "cell_type": "code",
      "source": [
        "svc =  SVC()\n",
        "svc.fit(X_test,y_test)\n",
        "y_pred_svc =  svc.predict(X_test)\n",
        "print(\"Accuracy: \",accuracy_score(y_test,y_pred_svc))\n",
        "print(\"Recall: \", recall_score(y_test,y_pred_svc))\n",
        "print(\"Precision: \", precision_score(y_test,y_pred_svc))\n",
        "print(confusion_matrix(y_test,y_pred_svc))"
      ],
      "metadata": {
        "colab": {
          "base_uri": "https://localhost:8080/"
        },
        "id": "n08wQs1dzYJc",
        "outputId": "e7071bc3-6627-433b-86b8-d33cfb73ba9f"
      },
      "execution_count": 21,
      "outputs": [
        {
          "output_type": "stream",
          "name": "stdout",
          "text": [
            "Accuracy:  0.9736842105263158\n",
            "Recall:  0.9574468085106383\n",
            "Precision:  0.9782608695652174\n",
            "[[66  1]\n",
            " [ 2 45]]\n"
          ]
        }
      ]
    },
    {
      "cell_type": "code",
      "source": [
        "model = tf.keras.Sequential([\n",
        "    tf.keras.layers.Dense(23, activation='relu', input_shape=(23,)),\n",
        "    tf.keras.layers.BatchNormalization(),\n",
        "    tf.keras.layers.Dense(20, activation='relu'),\n",
        "    tf.keras.layers.BatchNormalization(),\n",
        "    tf.keras.layers.Dense(24, activation='relu'),\n",
        "    tf.keras.layers.Dropout(0.5),\n",
        "    tf.keras.layers.BatchNormalization(),\n",
        "    tf.keras.layers.Dense(28, activation='relu'),\n",
        "    tf.keras.layers.Dropout(0.5),\n",
        "    tf.keras.layers.Dense(1,activation='sigmoid')\n",
        "  ])\n",
        "model.compile(loss='binary_crossentropy',\n",
        "              optimizer = 'adam',\n",
        "              metrics=['accuracy'])\n",
        "model.summary()"
      ],
      "metadata": {
        "colab": {
          "base_uri": "https://localhost:8080/"
        },
        "id": "3gGC3pBezgdZ",
        "outputId": "36b61733-f878-4659-be57-389f95c501c9"
      },
      "execution_count": 22,
      "outputs": [
        {
          "output_type": "stream",
          "name": "stdout",
          "text": [
            "Model: \"sequential_2\"\n",
            "_________________________________________________________________\n",
            "Layer (type)                 Output Shape              Param #   \n",
            "=================================================================\n",
            "dense_10 (Dense)             (None, 23)                552       \n",
            "_________________________________________________________________\n",
            "batch_normalization_6 (Batch (None, 23)                92        \n",
            "_________________________________________________________________\n",
            "dense_11 (Dense)             (None, 20)                480       \n",
            "_________________________________________________________________\n",
            "batch_normalization_7 (Batch (None, 20)                80        \n",
            "_________________________________________________________________\n",
            "dense_12 (Dense)             (None, 24)                504       \n",
            "_________________________________________________________________\n",
            "dropout_4 (Dropout)          (None, 24)                0         \n",
            "_________________________________________________________________\n",
            "batch_normalization_8 (Batch (None, 24)                96        \n",
            "_________________________________________________________________\n",
            "dense_13 (Dense)             (None, 28)                700       \n",
            "_________________________________________________________________\n",
            "dropout_5 (Dropout)          (None, 28)                0         \n",
            "_________________________________________________________________\n",
            "dense_14 (Dense)             (None, 1)                 29        \n",
            "=================================================================\n",
            "Total params: 2,533\n",
            "Trainable params: 2,399\n",
            "Non-trainable params: 134\n",
            "_________________________________________________________________\n"
          ]
        }
      ]
    },
    {
      "cell_type": "code",
      "source": [
        "h = model.fit(X_train,y_train,epochs=50,validation_data=(X_test,y_test))"
      ],
      "metadata": {
        "colab": {
          "base_uri": "https://localhost:8080/"
        },
        "id": "IANb-EeLzn8r",
        "outputId": "4c37d33d-2aed-408d-d96e-d8b96392e4ad"
      },
      "execution_count": 23,
      "outputs": [
        {
          "output_type": "stream",
          "name": "stdout",
          "text": [
            "Epoch 1/50\n",
            "15/15 [==============================] - 3s 28ms/step - loss: 0.7379 - accuracy: 0.5868 - val_loss: 0.6251 - val_accuracy: 0.6754\n",
            "Epoch 2/50\n",
            "15/15 [==============================] - 0s 5ms/step - loss: 0.6656 - accuracy: 0.6396 - val_loss: 0.5676 - val_accuracy: 0.8509\n",
            "Epoch 3/50\n",
            "15/15 [==============================] - 0s 7ms/step - loss: 0.6175 - accuracy: 0.6637 - val_loss: 0.5221 - val_accuracy: 0.8246\n",
            "Epoch 4/50\n",
            "15/15 [==============================] - 0s 5ms/step - loss: 0.5105 - accuracy: 0.7648 - val_loss: 0.4809 - val_accuracy: 0.8421\n",
            "Epoch 5/50\n",
            "15/15 [==============================] - 0s 5ms/step - loss: 0.4955 - accuracy: 0.7604 - val_loss: 0.4416 - val_accuracy: 0.8596\n",
            "Epoch 6/50\n",
            "15/15 [==============================] - 0s 5ms/step - loss: 0.4831 - accuracy: 0.7868 - val_loss: 0.3990 - val_accuracy: 0.8772\n",
            "Epoch 7/50\n",
            "15/15 [==============================] - 0s 6ms/step - loss: 0.4119 - accuracy: 0.8044 - val_loss: 0.3641 - val_accuracy: 0.8860\n",
            "Epoch 8/50\n",
            "15/15 [==============================] - 0s 5ms/step - loss: 0.4202 - accuracy: 0.8396 - val_loss: 0.3278 - val_accuracy: 0.8947\n",
            "Epoch 9/50\n",
            "15/15 [==============================] - 0s 5ms/step - loss: 0.3679 - accuracy: 0.8352 - val_loss: 0.2950 - val_accuracy: 0.9123\n",
            "Epoch 10/50\n",
            "15/15 [==============================] - 0s 6ms/step - loss: 0.3357 - accuracy: 0.8549 - val_loss: 0.2626 - val_accuracy: 0.9211\n",
            "Epoch 11/50\n",
            "15/15 [==============================] - 0s 6ms/step - loss: 0.3326 - accuracy: 0.8659 - val_loss: 0.2354 - val_accuracy: 0.9211\n",
            "Epoch 12/50\n",
            "15/15 [==============================] - 0s 5ms/step - loss: 0.2924 - accuracy: 0.8835 - val_loss: 0.2113 - val_accuracy: 0.9298\n",
            "Epoch 13/50\n",
            "15/15 [==============================] - 0s 5ms/step - loss: 0.3052 - accuracy: 0.8857 - val_loss: 0.1929 - val_accuracy: 0.9298\n",
            "Epoch 14/50\n",
            "15/15 [==============================] - 0s 5ms/step - loss: 0.2686 - accuracy: 0.8967 - val_loss: 0.1805 - val_accuracy: 0.9386\n",
            "Epoch 15/50\n",
            "15/15 [==============================] - 0s 6ms/step - loss: 0.2747 - accuracy: 0.9011 - val_loss: 0.1677 - val_accuracy: 0.9298\n",
            "Epoch 16/50\n",
            "15/15 [==============================] - 0s 5ms/step - loss: 0.2194 - accuracy: 0.9275 - val_loss: 0.1633 - val_accuracy: 0.9386\n",
            "Epoch 17/50\n",
            "15/15 [==============================] - 0s 6ms/step - loss: 0.2095 - accuracy: 0.9209 - val_loss: 0.1561 - val_accuracy: 0.9298\n",
            "Epoch 18/50\n",
            "15/15 [==============================] - 0s 5ms/step - loss: 0.2228 - accuracy: 0.9099 - val_loss: 0.1469 - val_accuracy: 0.9298\n",
            "Epoch 19/50\n",
            "15/15 [==============================] - 0s 5ms/step - loss: 0.1981 - accuracy: 0.9209 - val_loss: 0.1383 - val_accuracy: 0.9386\n",
            "Epoch 20/50\n",
            "15/15 [==============================] - 0s 5ms/step - loss: 0.2154 - accuracy: 0.9341 - val_loss: 0.1321 - val_accuracy: 0.9474\n",
            "Epoch 21/50\n",
            "15/15 [==============================] - 0s 6ms/step - loss: 0.1629 - accuracy: 0.9451 - val_loss: 0.1280 - val_accuracy: 0.9474\n",
            "Epoch 22/50\n",
            "15/15 [==============================] - 0s 6ms/step - loss: 0.1772 - accuracy: 0.9341 - val_loss: 0.1245 - val_accuracy: 0.9298\n",
            "Epoch 23/50\n",
            "15/15 [==============================] - 0s 5ms/step - loss: 0.1727 - accuracy: 0.9495 - val_loss: 0.1234 - val_accuracy: 0.9474\n",
            "Epoch 24/50\n",
            "15/15 [==============================] - 0s 5ms/step - loss: 0.1798 - accuracy: 0.9429 - val_loss: 0.1232 - val_accuracy: 0.9474\n",
            "Epoch 25/50\n",
            "15/15 [==============================] - 0s 5ms/step - loss: 0.1558 - accuracy: 0.9538 - val_loss: 0.1208 - val_accuracy: 0.9474\n",
            "Epoch 26/50\n",
            "15/15 [==============================] - 0s 5ms/step - loss: 0.1620 - accuracy: 0.9495 - val_loss: 0.1173 - val_accuracy: 0.9474\n",
            "Epoch 27/50\n",
            "15/15 [==============================] - 0s 8ms/step - loss: 0.1653 - accuracy: 0.9473 - val_loss: 0.1149 - val_accuracy: 0.9474\n",
            "Epoch 28/50\n",
            "15/15 [==============================] - 0s 5ms/step - loss: 0.1824 - accuracy: 0.9385 - val_loss: 0.1160 - val_accuracy: 0.9474\n",
            "Epoch 29/50\n",
            "15/15 [==============================] - 0s 6ms/step - loss: 0.1220 - accuracy: 0.9582 - val_loss: 0.1137 - val_accuracy: 0.9474\n",
            "Epoch 30/50\n",
            "15/15 [==============================] - 0s 5ms/step - loss: 0.1600 - accuracy: 0.9429 - val_loss: 0.1132 - val_accuracy: 0.9474\n",
            "Epoch 31/50\n",
            "15/15 [==============================] - 0s 4ms/step - loss: 0.1524 - accuracy: 0.9516 - val_loss: 0.1248 - val_accuracy: 0.9561\n",
            "Epoch 32/50\n",
            "15/15 [==============================] - 0s 5ms/step - loss: 0.1597 - accuracy: 0.9560 - val_loss: 0.1265 - val_accuracy: 0.9561\n",
            "Epoch 33/50\n",
            "15/15 [==============================] - 0s 4ms/step - loss: 0.1847 - accuracy: 0.9473 - val_loss: 0.1224 - val_accuracy: 0.9561\n",
            "Epoch 34/50\n",
            "15/15 [==============================] - 0s 4ms/step - loss: 0.1515 - accuracy: 0.9473 - val_loss: 0.1215 - val_accuracy: 0.9561\n",
            "Epoch 35/50\n",
            "15/15 [==============================] - 0s 5ms/step - loss: 0.1357 - accuracy: 0.9516 - val_loss: 0.1180 - val_accuracy: 0.9474\n",
            "Epoch 36/50\n",
            "15/15 [==============================] - 0s 5ms/step - loss: 0.1457 - accuracy: 0.9495 - val_loss: 0.1150 - val_accuracy: 0.9474\n",
            "Epoch 37/50\n",
            "15/15 [==============================] - 0s 5ms/step - loss: 0.1526 - accuracy: 0.9407 - val_loss: 0.1167 - val_accuracy: 0.9474\n",
            "Epoch 38/50\n",
            "15/15 [==============================] - 0s 4ms/step - loss: 0.2072 - accuracy: 0.9407 - val_loss: 0.1135 - val_accuracy: 0.9474\n",
            "Epoch 39/50\n",
            "15/15 [==============================] - 0s 5ms/step - loss: 0.1636 - accuracy: 0.9429 - val_loss: 0.1088 - val_accuracy: 0.9474\n",
            "Epoch 40/50\n",
            "15/15 [==============================] - 0s 5ms/step - loss: 0.1634 - accuracy: 0.9407 - val_loss: 0.1069 - val_accuracy: 0.9474\n",
            "Epoch 41/50\n",
            "15/15 [==============================] - 0s 6ms/step - loss: 0.1195 - accuracy: 0.9582 - val_loss: 0.1086 - val_accuracy: 0.9561\n",
            "Epoch 42/50\n",
            "15/15 [==============================] - 0s 5ms/step - loss: 0.1431 - accuracy: 0.9582 - val_loss: 0.1031 - val_accuracy: 0.9561\n",
            "Epoch 43/50\n",
            "15/15 [==============================] - 0s 6ms/step - loss: 0.1236 - accuracy: 0.9670 - val_loss: 0.0990 - val_accuracy: 0.9561\n",
            "Epoch 44/50\n",
            "15/15 [==============================] - 0s 5ms/step - loss: 0.1574 - accuracy: 0.9495 - val_loss: 0.1004 - val_accuracy: 0.9561\n",
            "Epoch 45/50\n",
            "15/15 [==============================] - 0s 4ms/step - loss: 0.1396 - accuracy: 0.9516 - val_loss: 0.1030 - val_accuracy: 0.9561\n",
            "Epoch 46/50\n",
            "15/15 [==============================] - 0s 6ms/step - loss: 0.1200 - accuracy: 0.9604 - val_loss: 0.0983 - val_accuracy: 0.9561\n",
            "Epoch 47/50\n",
            "15/15 [==============================] - 0s 4ms/step - loss: 0.1280 - accuracy: 0.9538 - val_loss: 0.1007 - val_accuracy: 0.9649\n",
            "Epoch 48/50\n",
            "15/15 [==============================] - 0s 5ms/step - loss: 0.1333 - accuracy: 0.9582 - val_loss: 0.1009 - val_accuracy: 0.9649\n",
            "Epoch 49/50\n",
            "15/15 [==============================] - 0s 5ms/step - loss: 0.1512 - accuracy: 0.9560 - val_loss: 0.0977 - val_accuracy: 0.9649\n",
            "Epoch 50/50\n",
            "15/15 [==============================] - 0s 5ms/step - loss: 0.1020 - accuracy: 0.9714 - val_loss: 0.0965 - val_accuracy: 0.9649\n"
          ]
        }
      ]
    },
    {
      "cell_type": "code",
      "source": [
        "plt.plot(h.history['accuracy'], label = 'Accuracy for Train set')\n",
        "plt.plot(h.history['val_accuracy'], label = 'Accuracy for Test Set')\n",
        "plt.title('Accuracy Graph for ANN')\n",
        "plt.ylabel('Accuracy')\n",
        "plt.xlabel('epochs')\n",
        "plt.legend()"
      ],
      "metadata": {
        "colab": {
          "base_uri": "https://localhost:8080/",
          "height": 312
        },
        "id": "AtC-oEbXzquB",
        "outputId": "30d66f81-6a31-4394-ad57-b2a538a221a1"
      },
      "execution_count": 24,
      "outputs": [
        {
          "output_type": "execute_result",
          "data": {
            "text/plain": [
              "<matplotlib.legend.Legend at 0x7f9b3899c750>"
            ]
          },
          "metadata": {},
          "execution_count": 24
        },
        {
          "output_type": "display_data",
          "data": {
            "text/plain": [
              "<Figure size 432x288 with 1 Axes>"
            ],
            "image/png": "[encoded data removed]"
          },
          "metadata": {
            "needs_background": "light"
          }
        }
      ]
    },
    {
      "cell_type": "code",
      "source": [
        "plt.plot(h.history['loss'], label = 'loss for Train set')\n",
        "plt.plot(h.history['val_loss'], label = 'loss for Test Set')\n",
        "plt.title('loss Graph for ANN')\n",
        "plt.ylabel('loss')\n",
        "plt.xlabel('epochs')\n",
        "plt.legend()"
      ],
      "metadata": {
        "colab": {
          "base_uri": "https://localhost:8080/",
          "height": 312
        },
        "id": "xLoZ5tmXzu_K",
        "outputId": "b4b334bd-af9e-40d0-b592-1046f458e725"
      },
      "execution_count": 25,
      "outputs": [
        {
          "output_type": "execute_result",
          "data": {
            "text/plain": [
              "<matplotlib.legend.Legend at 0x7f9b3a838410>"
            ]
          },
          "metadata": {},
          "execution_count": 25
        },
        {
          "output_type": "display_data",
          "data": {
            "text/plain": [
              "<Figure size 432x288 with 1 Axes>"
            ],
            "image/png": "[encoded data removed]"
          },
          "metadata": {
            "needs_background": "light"
          }
        }
      ]
    },
    {
      "cell_type": "code",
      "source": [
        "y_pred_ann = model.predict_classes(X_test)\n",
        "print(\"Accuracy: \",accuracy_score(y_test,y_pred_ann))\n",
        "print(\"Recall: \", recall_score(y_test,y_pred_ann))\n",
        "print(\"Precision: \", precision_score(y_test,y_pred_ann))\n",
        "print(confusion_matrix(y_test,y_pred_ann))"
      ],
      "metadata": {
        "colab": {
          "base_uri": "https://localhost:8080/"
        },
        "id": "NqJ5Ih39zxcm",
        "outputId": "58553a80-330b-4447-d7d5-c012ebeff413"
      },
      "execution_count": 26,
      "outputs": [
        {
          "output_type": "stream",
          "name": "stderr",
          "text": [
            "/usr/local/lib/python3.7/dist-packages/tensorflow/python/keras/engine/sequential.py:455: UserWarning: `model.predict_classes()` is deprecated and will be removed after 2021-01-01. Please use instead:* `np.argmax(model.predict(x), axis=-1)`,   if your model does multi-class classification   (e.g. if it uses a `softmax` last-layer activation).* `(model.predict(x) > 0.5).astype(\"int32\")`,   if your model does binary classification   (e.g. if it uses a `sigmoid` last-layer activation).\n",
            "  warnings.warn('`model.predict_classes()` is deprecated and '\n"
          ]
        },
        {
          "output_type": "stream",
          "name": "stdout",
          "text": [
            "Accuracy:  0.9649122807017544\n",
            "Recall:  0.9361702127659575\n",
            "Precision:  0.9777777777777777\n",
            "[[66  1]\n",
            " [ 3 44]]\n"
          ]
        }
      ]
    },
    {
      "cell_type": "code",
      "source": [
        "rank4  = pd.read_excel(\"/content/cancer_dataset_U.xlsx\",sheet_name = \"permutation_method_std\").set_index('Attributes_Names')\n",
        "df_per_std  = df_new[rank4[0:23].index]\n",
        "X_col =  df_per_std\n",
        "y = df_new['diagnosis']\n",
        "Scaler = StandardScaler()\n",
        "X_col =  Scaler.fit_transform(X_col)\n",
        "X_train, X_test, y_train, y_test = train_test_split(X_col, y, test_size=0.2, random_state=0)\n",
        "print(\"Shape of training data\",X_train.shape)\n",
        "print(\"Shape of testing data\",X_test.shape)"
      ],
      "metadata": {
        "colab": {
          "base_uri": "https://localhost:8080/"
        },
        "id": "LLnbG6LrzzcR",
        "outputId": "a3ea9c4b-9653-4be6-f047-fcc40e269cf6"
      },
      "execution_count": 27,
      "outputs": [
        {
          "output_type": "stream",
          "name": "stdout",
          "text": [
            "Shape of training data (455, 23)\n",
            "Shape of testing data (114, 23)\n"
          ]
        }
      ]
    },
    {
      "cell_type": "code",
      "source": [
        "rf =  RandomForestClassifier()\n",
        "rf.fit(X_train,y_train)\n",
        "y_pred_rf =  rf.predict(X_test)\n",
        "print(\"Accuracy: \",accuracy_score(y_test,y_pred_rf))\n",
        "print(\"Recall: \", recall_score(y_test,y_pred_rf))\n",
        "print(\"Precision: \", precision_score(y_test,y_pred_rf))\n",
        "print(confusion_matrix(y_test,y_pred_rf))"
      ],
      "metadata": {
        "colab": {
          "base_uri": "https://localhost:8080/"
        },
        "id": "XprvIseSz26s",
        "outputId": "2431a580-2b45-4197-bbdb-f73409d5621c"
      },
      "execution_count": 29,
      "outputs": [
        {
          "output_type": "stream",
          "name": "stdout",
          "text": [
            "Accuracy:  0.9824561403508771\n",
            "Recall:  0.9787234042553191\n",
            "Precision:  0.9787234042553191\n",
            "[[66  1]\n",
            " [ 1 46]]\n"
          ]
        }
      ]
    },
    {
      "cell_type": "code",
      "source": [
        "svc =  SVC()\n",
        "svc.fit(X_test,y_test)\n",
        "y_pred_svc =  svc.predict(X_test)\n",
        "print(\"Accuracy: \",accuracy_score(y_test,y_pred_svc))\n",
        "print(\"Recall: \", recall_score(y_test,y_pred_svc))\n",
        "print(\"Precision: \", precision_score(y_test,y_pred_svc))\n",
        "print(confusion_matrix(y_test,y_pred_svc))"
      ],
      "metadata": {
        "colab": {
          "base_uri": "https://localhost:8080/"
        },
        "id": "GQuPgo-pz7mg",
        "outputId": "720a86a9-7386-497c-d22b-afbc92d10015"
      },
      "execution_count": 30,
      "outputs": [
        {
          "output_type": "stream",
          "name": "stdout",
          "text": [
            "Accuracy:  0.9736842105263158\n",
            "Recall:  0.9361702127659575\n",
            "Precision:  1.0\n",
            "[[67  0]\n",
            " [ 3 44]]\n"
          ]
        }
      ]
    },
    {
      "cell_type": "code",
      "source": [
        "model = tf.keras.Sequential([\n",
        "    tf.keras.layers.Dense(23, activation='relu', input_shape=(23,)),\n",
        "    tf.keras.layers.BatchNormalization(),\n",
        "    tf.keras.layers.Dense(20, activation='relu'),\n",
        "    tf.keras.layers.BatchNormalization(),\n",
        "    tf.keras.layers.Dense(24, activation='relu'),\n",
        "    tf.keras.layers.Dropout(0.5),\n",
        "    tf.keras.layers.BatchNormalization(),\n",
        "    tf.keras.layers.Dense(28, activation='relu'),\n",
        "    tf.keras.layers.Dropout(0.5),\n",
        "    tf.keras.layers.Dense(1,activation='sigmoid')\n",
        "  ])\n",
        "model.compile(loss='binary_crossentropy',\n",
        "              optimizer = 'adam',\n",
        "              metrics=['accuracy'])\n",
        "model.summary()"
      ],
      "metadata": {
        "colab": {
          "base_uri": "https://localhost:8080/"
        },
        "id": "zeuOpM4Bz9zZ",
        "outputId": "6355fc10-97f0-4f74-f639-9a4010fae983"
      },
      "execution_count": 31,
      "outputs": [
        {
          "output_type": "stream",
          "name": "stdout",
          "text": [
            "Model: \"sequential_3\"\n",
            "_________________________________________________________________\n",
            "Layer (type)                 Output Shape              Param #   \n",
            "=================================================================\n",
            "dense_15 (Dense)             (None, 23)                552       \n",
            "_________________________________________________________________\n",
            "batch_normalization_9 (Batch (None, 23)                92        \n",
            "_________________________________________________________________\n",
            "dense_16 (Dense)             (None, 20)                480       \n",
            "_________________________________________________________________\n",
            "batch_normalization_10 (Batc (None, 20)                80        \n",
            "_________________________________________________________________\n",
            "dense_17 (Dense)             (None, 24)                504       \n",
            "_________________________________________________________________\n",
            "dropout_6 (Dropout)          (None, 24)                0         \n",
            "_________________________________________________________________\n",
            "batch_normalization_11 (Batc (None, 24)                96        \n",
            "_________________________________________________________________\n",
            "dense_18 (Dense)             (None, 28)                700       \n",
            "_________________________________________________________________\n",
            "dropout_7 (Dropout)          (None, 28)                0         \n",
            "_________________________________________________________________\n",
            "dense_19 (Dense)             (None, 1)                 29        \n",
            "=================================================================\n",
            "Total params: 2,533\n",
            "Trainable params: 2,399\n",
            "Non-trainable params: 134\n",
            "_________________________________________________________________\n"
          ]
        }
      ]
    },
    {
      "cell_type": "code",
      "source": [
        "h = model.fit(X_train,y_train,epochs=50,validation_data=(X_test,y_test))"
      ],
      "metadata": {
        "colab": {
          "base_uri": "https://localhost:8080/"
        },
        "id": "_wxlJ1BY0IEr",
        "outputId": "08e3bb15-6069-411d-9b15-c0db77555492"
      },
      "execution_count": 32,
      "outputs": [
        {
          "output_type": "stream",
          "name": "stdout",
          "text": [
            "Epoch 1/50\n",
            "15/15 [==============================] - 2s 20ms/step - loss: 0.7686 - accuracy: 0.5341 - val_loss: 0.6726 - val_accuracy: 0.5965\n",
            "Epoch 2/50\n",
            "15/15 [==============================] - 0s 6ms/step - loss: 0.6369 - accuracy: 0.6396 - val_loss: 0.6467 - val_accuracy: 0.6579\n",
            "Epoch 3/50\n",
            "15/15 [==============================] - 0s 5ms/step - loss: 0.6592 - accuracy: 0.6352 - val_loss: 0.6191 - val_accuracy: 0.7281\n",
            "Epoch 4/50\n",
            "15/15 [==============================] - 0s 4ms/step - loss: 0.5801 - accuracy: 0.6857 - val_loss: 0.5835 - val_accuracy: 0.7719\n",
            "Epoch 5/50\n",
            "15/15 [==============================] - 0s 4ms/step - loss: 0.5304 - accuracy: 0.7495 - val_loss: 0.5434 - val_accuracy: 0.8246\n",
            "Epoch 6/50\n",
            "15/15 [==============================] - 0s 5ms/step - loss: 0.5290 - accuracy: 0.7429 - val_loss: 0.5024 - val_accuracy: 0.8509\n",
            "Epoch 7/50\n",
            "15/15 [==============================] - 0s 4ms/step - loss: 0.4536 - accuracy: 0.8022 - val_loss: 0.4544 - val_accuracy: 0.8596\n",
            "Epoch 8/50\n",
            "15/15 [==============================] - 0s 6ms/step - loss: 0.4307 - accuracy: 0.8110 - val_loss: 0.4086 - val_accuracy: 0.8772\n",
            "Epoch 9/50\n",
            "15/15 [==============================] - 0s 5ms/step - loss: 0.4076 - accuracy: 0.8286 - val_loss: 0.3648 - val_accuracy: 0.9035\n",
            "Epoch 10/50\n",
            "15/15 [==============================] - 0s 4ms/step - loss: 0.3691 - accuracy: 0.8505 - val_loss: 0.3273 - val_accuracy: 0.9123\n",
            "Epoch 11/50\n",
            "15/15 [==============================] - 0s 5ms/step - loss: 0.3531 - accuracy: 0.8484 - val_loss: 0.2911 - val_accuracy: 0.9035\n",
            "Epoch 12/50\n",
            "15/15 [==============================] - 0s 5ms/step - loss: 0.3507 - accuracy: 0.8549 - val_loss: 0.2606 - val_accuracy: 0.9211\n",
            "Epoch 13/50\n",
            "15/15 [==============================] - 0s 4ms/step - loss: 0.2955 - accuracy: 0.8901 - val_loss: 0.2325 - val_accuracy: 0.9211\n",
            "Epoch 14/50\n",
            "15/15 [==============================] - 0s 5ms/step - loss: 0.3007 - accuracy: 0.8747 - val_loss: 0.2089 - val_accuracy: 0.9298\n",
            "Epoch 15/50\n",
            "15/15 [==============================] - 0s 4ms/step - loss: 0.2505 - accuracy: 0.9165 - val_loss: 0.1876 - val_accuracy: 0.9386\n",
            "Epoch 16/50\n",
            "15/15 [==============================] - 0s 6ms/step - loss: 0.2612 - accuracy: 0.9011 - val_loss: 0.1687 - val_accuracy: 0.9386\n",
            "Epoch 17/50\n",
            "15/15 [==============================] - 0s 5ms/step - loss: 0.2456 - accuracy: 0.9099 - val_loss: 0.1533 - val_accuracy: 0.9386\n",
            "Epoch 18/50\n",
            "15/15 [==============================] - 0s 4ms/step - loss: 0.2253 - accuracy: 0.9165 - val_loss: 0.1426 - val_accuracy: 0.9474\n",
            "Epoch 19/50\n",
            "15/15 [==============================] - 0s 5ms/step - loss: 0.1952 - accuracy: 0.9495 - val_loss: 0.1321 - val_accuracy: 0.9561\n",
            "Epoch 20/50\n",
            "15/15 [==============================] - 0s 5ms/step - loss: 0.1859 - accuracy: 0.9385 - val_loss: 0.1212 - val_accuracy: 0.9561\n",
            "Epoch 21/50\n",
            "15/15 [==============================] - 0s 4ms/step - loss: 0.2055 - accuracy: 0.9297 - val_loss: 0.1128 - val_accuracy: 0.9561\n",
            "Epoch 22/50\n",
            "15/15 [==============================] - 0s 6ms/step - loss: 0.2041 - accuracy: 0.9253 - val_loss: 0.1072 - val_accuracy: 0.9474\n",
            "Epoch 23/50\n",
            "15/15 [==============================] - 0s 5ms/step - loss: 0.1610 - accuracy: 0.9582 - val_loss: 0.0989 - val_accuracy: 0.9474\n",
            "Epoch 24/50\n",
            "15/15 [==============================] - 0s 5ms/step - loss: 0.1836 - accuracy: 0.9473 - val_loss: 0.0920 - val_accuracy: 0.9649\n",
            "Epoch 25/50\n",
            "15/15 [==============================] - 0s 5ms/step - loss: 0.2175 - accuracy: 0.9341 - val_loss: 0.0890 - val_accuracy: 0.9474\n",
            "Epoch 26/50\n",
            "15/15 [==============================] - 0s 5ms/step - loss: 0.1620 - accuracy: 0.9560 - val_loss: 0.0890 - val_accuracy: 0.9474\n",
            "Epoch 27/50\n",
            "15/15 [==============================] - 0s 7ms/step - loss: 0.1609 - accuracy: 0.9407 - val_loss: 0.0857 - val_accuracy: 0.9474\n",
            "Epoch 28/50\n",
            "15/15 [==============================] - 0s 5ms/step - loss: 0.1339 - accuracy: 0.9604 - val_loss: 0.0799 - val_accuracy: 0.9474\n",
            "Epoch 29/50\n",
            "15/15 [==============================] - 0s 7ms/step - loss: 0.1371 - accuracy: 0.9560 - val_loss: 0.0743 - val_accuracy: 0.9561\n",
            "Epoch 30/50\n",
            "15/15 [==============================] - 0s 9ms/step - loss: 0.2093 - accuracy: 0.9495 - val_loss: 0.0744 - val_accuracy: 0.9561\n",
            "Epoch 31/50\n",
            "15/15 [==============================] - 0s 9ms/step - loss: 0.1417 - accuracy: 0.9560 - val_loss: 0.0705 - val_accuracy: 0.9649\n",
            "Epoch 32/50\n",
            "15/15 [==============================] - 0s 10ms/step - loss: 0.1068 - accuracy: 0.9626 - val_loss: 0.0636 - val_accuracy: 0.9825\n",
            "Epoch 33/50\n",
            "15/15 [==============================] - 0s 9ms/step - loss: 0.1682 - accuracy: 0.9538 - val_loss: 0.0633 - val_accuracy: 0.9825\n",
            "Epoch 34/50\n",
            "15/15 [==============================] - 0s 11ms/step - loss: 0.1324 - accuracy: 0.9604 - val_loss: 0.0617 - val_accuracy: 0.9825\n",
            "Epoch 35/50\n",
            "15/15 [==============================] - 0s 9ms/step - loss: 0.1580 - accuracy: 0.9560 - val_loss: 0.0645 - val_accuracy: 0.9737\n",
            "Epoch 36/50\n",
            "15/15 [==============================] - 0s 10ms/step - loss: 0.1286 - accuracy: 0.9604 - val_loss: 0.0650 - val_accuracy: 0.9649\n",
            "Epoch 37/50\n",
            "15/15 [==============================] - 0s 9ms/step - loss: 0.1109 - accuracy: 0.9670 - val_loss: 0.0675 - val_accuracy: 0.9561\n",
            "Epoch 38/50\n",
            "15/15 [==============================] - 0s 9ms/step - loss: 0.1055 - accuracy: 0.9670 - val_loss: 0.0685 - val_accuracy: 0.9649\n",
            "Epoch 39/50\n",
            "15/15 [==============================] - 0s 8ms/step - loss: 0.1208 - accuracy: 0.9648 - val_loss: 0.0665 - val_accuracy: 0.9649\n",
            "Epoch 40/50\n",
            "15/15 [==============================] - 0s 8ms/step - loss: 0.1267 - accuracy: 0.9582 - val_loss: 0.0674 - val_accuracy: 0.9649\n",
            "Epoch 41/50\n",
            "15/15 [==============================] - 0s 7ms/step - loss: 0.1304 - accuracy: 0.9560 - val_loss: 0.0642 - val_accuracy: 0.9737\n",
            "Epoch 42/50\n",
            "15/15 [==============================] - 0s 10ms/step - loss: 0.1029 - accuracy: 0.9648 - val_loss: 0.0589 - val_accuracy: 0.9737\n",
            "Epoch 43/50\n",
            "15/15 [==============================] - 0s 12ms/step - loss: 0.1018 - accuracy: 0.9648 - val_loss: 0.0602 - val_accuracy: 0.9737\n",
            "Epoch 44/50\n",
            "15/15 [==============================] - 0s 10ms/step - loss: 0.1092 - accuracy: 0.9648 - val_loss: 0.0624 - val_accuracy: 0.9737\n",
            "Epoch 45/50\n",
            "15/15 [==============================] - 0s 12ms/step - loss: 0.1075 - accuracy: 0.9604 - val_loss: 0.0634 - val_accuracy: 0.9649\n",
            "Epoch 46/50\n",
            "15/15 [==============================] - 0s 10ms/step - loss: 0.1174 - accuracy: 0.9758 - val_loss: 0.0622 - val_accuracy: 0.9649\n",
            "Epoch 47/50\n",
            "15/15 [==============================] - 0s 9ms/step - loss: 0.1484 - accuracy: 0.9516 - val_loss: 0.0687 - val_accuracy: 0.9649\n",
            "Epoch 48/50\n",
            "15/15 [==============================] - 0s 10ms/step - loss: 0.0745 - accuracy: 0.9824 - val_loss: 0.0874 - val_accuracy: 0.9474\n",
            "Epoch 49/50\n",
            "15/15 [==============================] - 0s 8ms/step - loss: 0.1128 - accuracy: 0.9648 - val_loss: 0.0810 - val_accuracy: 0.9474\n",
            "Epoch 50/50\n",
            "15/15 [==============================] - 0s 9ms/step - loss: 0.0882 - accuracy: 0.9692 - val_loss: 0.0781 - val_accuracy: 0.9649\n"
          ]
        }
      ]
    },
    {
      "cell_type": "code",
      "source": [
        "plt.plot(h.history['accuracy'], label = 'Accuracy for Train set')\n",
        "plt.plot(h.history['val_accuracy'], label = 'Accuracy for Test Set')\n",
        "plt.title('Accuracy Graph for ANN')\n",
        "plt.ylabel('Accuracy')\n",
        "plt.xlabel('epochs')\n",
        "plt.legend()"
      ],
      "metadata": {
        "colab": {
          "base_uri": "https://localhost:8080/",
          "height": 312
        },
        "id": "LL6QkCzB0KLB",
        "outputId": "82fb8ada-83d1-4f5b-b26d-eb9f001e661b"
      },
      "execution_count": 33,
      "outputs": [
        {
          "output_type": "execute_result",
          "data": {
            "text/plain": [
              "<matplotlib.legend.Legend at 0x7f9b3923fc50>"
            ]
          },
          "metadata": {},
          "execution_count": 33
        },
        {
          "output_type": "display_data",
          "data": {
            "text/plain": [
              "<Figure size 432x288 with 1 Axes>"
            ],
            "image/png": "[encoded data removed]"
          },
          "metadata": {
            "needs_background": "light"
          }
        }
      ]
    },
    {
      "cell_type": "code",
      "source": [
        "plt.plot(h.history['loss'], label = 'loss for Train set')\n",
        "plt.plot(h.history['val_loss'], label = 'loss for Test Set')\n",
        "plt.title('loss Graph for ANN')\n",
        "plt.ylabel('loss')\n",
        "plt.xlabel('epochs')\n",
        "plt.legend()"
      ],
      "metadata": {
        "colab": {
          "base_uri": "https://localhost:8080/",
          "height": 312
        },
        "id": "9cmAY7Z70NM-",
        "outputId": "08884782-4865-48a1-d07a-bf5ddc6e2bdb"
      },
      "execution_count": 34,
      "outputs": [
        {
          "output_type": "execute_result",
          "data": {
            "text/plain": [
              "<matplotlib.legend.Legend at 0x7f9b3c683a10>"
            ]
          },
          "metadata": {},
          "execution_count": 34
        },
        {
          "output_type": "display_data",
          "data": {
            "text/plain": [
              "<Figure size 432x288 with 1 Axes>"
            ],
            "image/png": "[encoded data removed]"
          },
          "metadata": {
            "needs_background": "light"
          }
        }
      ]
    },
    {
      "cell_type": "code",
      "source": [
        "y_pred_ann = model.predict_classes(X_test)\n",
        "print(\"Accuracy: \",accuracy_score(y_test,y_pred_ann))\n",
        "print(\"Recall: \", recall_score(y_test,y_pred_ann))\n",
        "print(\"Precision: \", precision_score(y_test,y_pred_ann))\n",
        "print(confusion_matrix(y_test,y_pred_ann))"
      ],
      "metadata": {
        "colab": {
          "base_uri": "https://localhost:8080/"
        },
        "id": "p6t1KGF90PLF",
        "outputId": "abdf11a8-28a1-4e02-d25b-831a089db1bb"
      },
      "execution_count": 35,
      "outputs": [
        {
          "output_type": "stream",
          "name": "stderr",
          "text": [
            "/usr/local/lib/python3.7/dist-packages/tensorflow/python/keras/engine/sequential.py:455: UserWarning: `model.predict_classes()` is deprecated and will be removed after 2021-01-01. Please use instead:* `np.argmax(model.predict(x), axis=-1)`,   if your model does multi-class classification   (e.g. if it uses a `softmax` last-layer activation).* `(model.predict(x) > 0.5).astype(\"int32\")`,   if your model does binary classification   (e.g. if it uses a `sigmoid` last-layer activation).\n",
            "  warnings.warn('`model.predict_classes()` is deprecated and '\n"
          ]
        },
        {
          "output_type": "stream",
          "name": "stdout",
          "text": [
            "Accuracy:  0.9649122807017544\n",
            "Recall:  0.9574468085106383\n",
            "Precision:  0.9574468085106383\n",
            "[[65  2]\n",
            " [ 2 45]]\n"
          ]
        }
      ]
    },
    {
      "cell_type": "code",
      "source": [
        "rank5  = pd.read_excel(\"/content/cancer_dataset_U.xlsx\",sheet_name = \"PCA\").set_index('Attributes_Names')\n",
        "df_pca  = df_new[rank5[:23].index]\n",
        "X_col =  df_pca\n",
        "y = df_new['diagnosis']\n",
        "Scaler = StandardScaler()\n",
        "X_col =  Scaler.fit_transform(X_col)\n",
        "X_train, X_test, y_train, y_test = train_test_split(X_col, y, test_size=0.2, random_state=0)\n",
        "print(\"Shape of training data\",X_train.shape)\n",
        "print(\"Shape of testing data\",X_test.shape)"
      ],
      "metadata": {
        "colab": {
          "base_uri": "https://localhost:8080/"
        },
        "id": "T7Fobjcq0RjI",
        "outputId": "4793b1ec-e3be-4488-ca72-328f5f623f22"
      },
      "execution_count": 36,
      "outputs": [
        {
          "output_type": "stream",
          "name": "stdout",
          "text": [
            "Shape of training data (455, 23)\n",
            "Shape of testing data (114, 23)\n"
          ]
        }
      ]
    },
    {
      "cell_type": "code",
      "source": [
        "rf =  RandomForestClassifier()\n",
        "rf.fit(X_train,y_train)\n",
        "y_pred_rf =  rf.predict(X_test)\n",
        "print(\"Accuracy: \",accuracy_score(y_test,y_pred_rf))\n",
        "print(\"Recall: \", recall_score(y_test,y_pred_rf))\n",
        "print(\"Precision: \", precision_score(y_test,y_pred_rf))\n",
        "print(confusion_matrix(y_test,y_pred_rf))"
      ],
      "metadata": {
        "colab": {
          "base_uri": "https://localhost:8080/"
        },
        "id": "njwrL3Ia0V7M",
        "outputId": "f2c6e19b-9ab7-4163-9c0b-453b8cd85917"
      },
      "execution_count": 37,
      "outputs": [
        {
          "output_type": "stream",
          "name": "stdout",
          "text": [
            "Accuracy:  0.9824561403508771\n",
            "Recall:  0.9787234042553191\n",
            "Precision:  0.9787234042553191\n",
            "[[66  1]\n",
            " [ 1 46]]\n"
          ]
        }
      ]
    },
    {
      "cell_type": "code",
      "source": [
        "svc =  SVC()\n",
        "svc.fit(X_test,y_test)\n",
        "y_pred_svc =  svc.predict(X_test)\n",
        "print(\"Accuracy: \",accuracy_score(y_test,y_pred_svc))\n",
        "print(\"Recall: \", recall_score(y_test,y_pred_svc))\n",
        "print(\"Precision: \", precision_score(y_test,y_pred_svc))\n",
        "print(confusion_matrix(y_test,y_pred_svc))"
      ],
      "metadata": {
        "colab": {
          "base_uri": "https://localhost:8080/"
        },
        "id": "uGEx_g1v0YWV",
        "outputId": "e0b038de-bfd9-421f-fd92-45850c13f0d8"
      },
      "execution_count": 38,
      "outputs": [
        {
          "output_type": "stream",
          "name": "stdout",
          "text": [
            "Accuracy:  0.9824561403508771\n",
            "Recall:  0.9574468085106383\n",
            "Precision:  1.0\n",
            "[[67  0]\n",
            " [ 2 45]]\n"
          ]
        }
      ]
    },
    {
      "cell_type": "code",
      "source": [
        "model = tf.keras.Sequential([\n",
        "    tf.keras.layers.Dense(23, activation='relu', input_shape=(23,)),\n",
        "    tf.keras.layers.BatchNormalization(),\n",
        "    tf.keras.layers.Dense(20, activation='relu'),\n",
        "    tf.keras.layers.BatchNormalization(),\n",
        "    tf.keras.layers.Dense(24, activation='relu'),\n",
        "    tf.keras.layers.Dropout(0.5),\n",
        "    tf.keras.layers.BatchNormalization(),\n",
        "    tf.keras.layers.Dense(28, activation='relu'),\n",
        "    tf.keras.layers.Dropout(0.5),\n",
        "    tf.keras.layers.Dense(1,activation='sigmoid')\n",
        "  ])\n",
        "model.compile(loss='binary_crossentropy',\n",
        "              optimizer = 'adam',\n",
        "              metrics=['accuracy'])\n",
        "model.summary()"
      ],
      "metadata": {
        "colab": {
          "base_uri": "https://localhost:8080/"
        },
        "id": "HjB9NQG20jVU",
        "outputId": "c332b1bf-97d5-4d46-d0be-ad5f20b6b313"
      },
      "execution_count": 39,
      "outputs": [
        {
          "output_type": "stream",
          "name": "stdout",
          "text": [
            "Model: \"sequential_4\"\n",
            "_________________________________________________________________\n",
            "Layer (type)                 Output Shape              Param #   \n",
            "=================================================================\n",
            "dense_20 (Dense)             (None, 23)                552       \n",
            "_________________________________________________________________\n",
            "batch_normalization_12 (Batc (None, 23)                92        \n",
            "_________________________________________________________________\n",
            "dense_21 (Dense)             (None, 20)                480       \n",
            "_________________________________________________________________\n",
            "batch_normalization_13 (Batc (None, 20)                80        \n",
            "_________________________________________________________________\n",
            "dense_22 (Dense)             (None, 24)                504       \n",
            "_________________________________________________________________\n",
            "dropout_8 (Dropout)          (None, 24)                0         \n",
            "_________________________________________________________________\n",
            "batch_normalization_14 (Batc (None, 24)                96        \n",
            "_________________________________________________________________\n",
            "dense_23 (Dense)             (None, 28)                700       \n",
            "_________________________________________________________________\n",
            "dropout_9 (Dropout)          (None, 28)                0         \n",
            "_________________________________________________________________\n",
            "dense_24 (Dense)             (None, 1)                 29        \n",
            "=================================================================\n",
            "Total params: 2,533\n",
            "Trainable params: 2,399\n",
            "Non-trainable params: 134\n",
            "_________________________________________________________________\n"
          ]
        }
      ]
    },
    {
      "cell_type": "code",
      "source": [
        "h = model.fit(X_train,y_train,epochs=50,validation_data=(X_test,y_test))"
      ],
      "metadata": {
        "colab": {
          "base_uri": "https://localhost:8080/"
        },
        "id": "PEBFxasu0ncS",
        "outputId": "5d6fed80-0559-4e87-acb9-e1c467221198"
      },
      "execution_count": 40,
      "outputs": [
        {
          "output_type": "stream",
          "name": "stdout",
          "text": [
            "Epoch 1/50\n",
            "15/15 [==============================] - 3s 35ms/step - loss: 0.8313 - accuracy: 0.5099 - val_loss: 0.6572 - val_accuracy: 0.7544\n",
            "Epoch 2/50\n",
            "15/15 [==============================] - 0s 8ms/step - loss: 0.7044 - accuracy: 0.5868 - val_loss: 0.6136 - val_accuracy: 0.8509\n",
            "Epoch 3/50\n",
            "15/15 [==============================] - 0s 8ms/step - loss: 0.6042 - accuracy: 0.6857 - val_loss: 0.5731 - val_accuracy: 0.8421\n",
            "Epoch 4/50\n",
            "15/15 [==============================] - 0s 13ms/step - loss: 0.5919 - accuracy: 0.7099 - val_loss: 0.5366 - val_accuracy: 0.8596\n",
            "Epoch 5/50\n",
            "15/15 [==============================] - 0s 12ms/step - loss: 0.5049 - accuracy: 0.7495 - val_loss: 0.4894 - val_accuracy: 0.8772\n",
            "Epoch 6/50\n",
            "15/15 [==============================] - 0s 10ms/step - loss: 0.4448 - accuracy: 0.8044 - val_loss: 0.4350 - val_accuracy: 0.8947\n",
            "Epoch 7/50\n",
            "15/15 [==============================] - 0s 9ms/step - loss: 0.4178 - accuracy: 0.8220 - val_loss: 0.3868 - val_accuracy: 0.8947\n",
            "Epoch 8/50\n",
            "15/15 [==============================] - 0s 12ms/step - loss: 0.3723 - accuracy: 0.8527 - val_loss: 0.3415 - val_accuracy: 0.9298\n",
            "Epoch 9/50\n",
            "15/15 [==============================] - 0s 9ms/step - loss: 0.3561 - accuracy: 0.8593 - val_loss: 0.3008 - val_accuracy: 0.9386\n",
            "Epoch 10/50\n",
            "15/15 [==============================] - 0s 9ms/step - loss: 0.3282 - accuracy: 0.8637 - val_loss: 0.2645 - val_accuracy: 0.9561\n",
            "Epoch 11/50\n",
            "15/15 [==============================] - 0s 9ms/step - loss: 0.3048 - accuracy: 0.8791 - val_loss: 0.2247 - val_accuracy: 0.9649\n",
            "Epoch 12/50\n",
            "15/15 [==============================] - 0s 9ms/step - loss: 0.2834 - accuracy: 0.9011 - val_loss: 0.1960 - val_accuracy: 0.9649\n",
            "Epoch 13/50\n",
            "15/15 [==============================] - 0s 8ms/step - loss: 0.2418 - accuracy: 0.9187 - val_loss: 0.1724 - val_accuracy: 0.9561\n",
            "Epoch 14/50\n",
            "15/15 [==============================] - 0s 7ms/step - loss: 0.2248 - accuracy: 0.9165 - val_loss: 0.1547 - val_accuracy: 0.9561\n",
            "Epoch 15/50\n",
            "15/15 [==============================] - 0s 9ms/step - loss: 0.2227 - accuracy: 0.9209 - val_loss: 0.1387 - val_accuracy: 0.9561\n",
            "Epoch 16/50\n",
            "15/15 [==============================] - 0s 10ms/step - loss: 0.2140 - accuracy: 0.9121 - val_loss: 0.1315 - val_accuracy: 0.9649\n",
            "Epoch 17/50\n",
            "15/15 [==============================] - 0s 9ms/step - loss: 0.2178 - accuracy: 0.9165 - val_loss: 0.1228 - val_accuracy: 0.9649\n",
            "Epoch 18/50\n",
            "15/15 [==============================] - 0s 9ms/step - loss: 0.2071 - accuracy: 0.9473 - val_loss: 0.1144 - val_accuracy: 0.9649\n",
            "Epoch 19/50\n",
            "15/15 [==============================] - 0s 10ms/step - loss: 0.1839 - accuracy: 0.9319 - val_loss: 0.1038 - val_accuracy: 0.9561\n",
            "Epoch 20/50\n",
            "15/15 [==============================] - 0s 10ms/step - loss: 0.1987 - accuracy: 0.9253 - val_loss: 0.0961 - val_accuracy: 0.9649\n",
            "Epoch 21/50\n",
            "15/15 [==============================] - 0s 10ms/step - loss: 0.1611 - accuracy: 0.9473 - val_loss: 0.0898 - val_accuracy: 0.9649\n",
            "Epoch 22/50\n",
            "15/15 [==============================] - 0s 12ms/step - loss: 0.1725 - accuracy: 0.9341 - val_loss: 0.0851 - val_accuracy: 0.9649\n",
            "Epoch 23/50\n",
            "15/15 [==============================] - 0s 9ms/step - loss: 0.1691 - accuracy: 0.9407 - val_loss: 0.0808 - val_accuracy: 0.9649\n",
            "Epoch 24/50\n",
            "15/15 [==============================] - 0s 8ms/step - loss: 0.1832 - accuracy: 0.9363 - val_loss: 0.0756 - val_accuracy: 0.9737\n",
            "Epoch 25/50\n",
            "15/15 [==============================] - 0s 8ms/step - loss: 0.1629 - accuracy: 0.9516 - val_loss: 0.0718 - val_accuracy: 0.9561\n",
            "Epoch 26/50\n",
            "15/15 [==============================] - 0s 4ms/step - loss: 0.1492 - accuracy: 0.9495 - val_loss: 0.0761 - val_accuracy: 0.9561\n",
            "Epoch 27/50\n",
            "15/15 [==============================] - 0s 5ms/step - loss: 0.1445 - accuracy: 0.9538 - val_loss: 0.0718 - val_accuracy: 0.9649\n",
            "Epoch 28/50\n",
            "15/15 [==============================] - 0s 6ms/step - loss: 0.1486 - accuracy: 0.9582 - val_loss: 0.0700 - val_accuracy: 0.9649\n",
            "Epoch 29/50\n",
            "15/15 [==============================] - 0s 9ms/step - loss: 0.1381 - accuracy: 0.9516 - val_loss: 0.0729 - val_accuracy: 0.9649\n",
            "Epoch 30/50\n",
            "15/15 [==============================] - 0s 8ms/step - loss: 0.1458 - accuracy: 0.9407 - val_loss: 0.0723 - val_accuracy: 0.9737\n",
            "Epoch 31/50\n",
            "15/15 [==============================] - 0s 9ms/step - loss: 0.1219 - accuracy: 0.9582 - val_loss: 0.0738 - val_accuracy: 0.9737\n",
            "Epoch 32/50\n",
            "15/15 [==============================] - 0s 8ms/step - loss: 0.1204 - accuracy: 0.9648 - val_loss: 0.0684 - val_accuracy: 0.9737\n",
            "Epoch 33/50\n",
            "15/15 [==============================] - 0s 9ms/step - loss: 0.1335 - accuracy: 0.9429 - val_loss: 0.0675 - val_accuracy: 0.9737\n",
            "Epoch 34/50\n",
            "15/15 [==============================] - 0s 7ms/step - loss: 0.1010 - accuracy: 0.9648 - val_loss: 0.0652 - val_accuracy: 0.9825\n",
            "Epoch 35/50\n",
            "15/15 [==============================] - 0s 7ms/step - loss: 0.1125 - accuracy: 0.9670 - val_loss: 0.0655 - val_accuracy: 0.9825\n",
            "Epoch 36/50\n",
            "15/15 [==============================] - 0s 11ms/step - loss: 0.1115 - accuracy: 0.9582 - val_loss: 0.0638 - val_accuracy: 0.9825\n",
            "Epoch 37/50\n",
            "15/15 [==============================] - 0s 11ms/step - loss: 0.1416 - accuracy: 0.9451 - val_loss: 0.0681 - val_accuracy: 0.9737\n",
            "Epoch 38/50\n",
            "15/15 [==============================] - 0s 12ms/step - loss: 0.0971 - accuracy: 0.9648 - val_loss: 0.0669 - val_accuracy: 0.9737\n",
            "Epoch 39/50\n",
            "15/15 [==============================] - 0s 12ms/step - loss: 0.1115 - accuracy: 0.9648 - val_loss: 0.0644 - val_accuracy: 0.9825\n",
            "Epoch 40/50\n",
            "15/15 [==============================] - 0s 12ms/step - loss: 0.1047 - accuracy: 0.9670 - val_loss: 0.0650 - val_accuracy: 0.9649\n",
            "Epoch 41/50\n",
            "15/15 [==============================] - 0s 13ms/step - loss: 0.0903 - accuracy: 0.9714 - val_loss: 0.0616 - val_accuracy: 0.9737\n",
            "Epoch 42/50\n",
            "15/15 [==============================] - 0s 11ms/step - loss: 0.0944 - accuracy: 0.9626 - val_loss: 0.0586 - val_accuracy: 0.9737\n",
            "Epoch 43/50\n",
            "15/15 [==============================] - 0s 11ms/step - loss: 0.1005 - accuracy: 0.9648 - val_loss: 0.0617 - val_accuracy: 0.9737\n",
            "Epoch 44/50\n",
            "15/15 [==============================] - 0s 13ms/step - loss: 0.0994 - accuracy: 0.9648 - val_loss: 0.0648 - val_accuracy: 0.9737\n",
            "Epoch 45/50\n",
            "15/15 [==============================] - 0s 9ms/step - loss: 0.0939 - accuracy: 0.9714 - val_loss: 0.0688 - val_accuracy: 0.9649\n",
            "Epoch 46/50\n",
            "15/15 [==============================] - 0s 10ms/step - loss: 0.1023 - accuracy: 0.9626 - val_loss: 0.0730 - val_accuracy: 0.9649\n",
            "Epoch 47/50\n",
            "15/15 [==============================] - 0s 12ms/step - loss: 0.0931 - accuracy: 0.9692 - val_loss: 0.0682 - val_accuracy: 0.9649\n",
            "Epoch 48/50\n",
            "15/15 [==============================] - 0s 14ms/step - loss: 0.1144 - accuracy: 0.9582 - val_loss: 0.0696 - val_accuracy: 0.9737\n",
            "Epoch 49/50\n",
            "15/15 [==============================] - 0s 13ms/step - loss: 0.0754 - accuracy: 0.9758 - val_loss: 0.0699 - val_accuracy: 0.9649\n",
            "Epoch 50/50\n",
            "15/15 [==============================] - 0s 9ms/step - loss: 0.0901 - accuracy: 0.9692 - val_loss: 0.0628 - val_accuracy: 0.9737\n"
          ]
        }
      ]
    },
    {
      "cell_type": "code",
      "source": [
        "plt.plot(h.history['accuracy'], label = 'Accuracy for Train set')\n",
        "plt.plot(h.history['val_accuracy'], label = 'Accuracy for Test Set')\n",
        "plt.title('Accuracy Graph for ANN')\n",
        "plt.ylabel('Accuracy')\n",
        "plt.xlabel('epochs')\n",
        "plt.legend()"
      ],
      "metadata": {
        "colab": {
          "base_uri": "https://localhost:8080/",
          "height": 312
        },
        "id": "Od-_QGpn084u",
        "outputId": "0cc11e55-ff68-4ccd-8ed0-a38770779c89"
      },
      "execution_count": 41,
      "outputs": [
        {
          "output_type": "execute_result",
          "data": {
            "text/plain": [
              "<matplotlib.legend.Legend at 0x7f9b3a64ee10>"
            ]
          },
          "metadata": {},
          "execution_count": 41
        },
        {
          "output_type": "display_data",
          "data": {
            "text/plain": [
              "<Figure size 432x288 with 1 Axes>"
            ],
            "image/png": "[encoded data removed]"
          },
          "metadata": {
            "needs_background": "light"
          }
        }
      ]
    },
    {
      "cell_type": "code",
      "source": [
        "plt.plot(h.history['loss'], label = 'loss for Train set')\n",
        "plt.plot(h.history['val_loss'], label = 'loss for Test Set')\n",
        "plt.title('loss Graph for ANN')\n",
        "plt.ylabel('loss')\n",
        "plt.xlabel('epochs')\n",
        "plt.legend()"
      ],
      "metadata": {
        "colab": {
          "base_uri": "https://localhost:8080/",
          "height": 312
        },
        "id": "SkvtkN4i0_k7",
        "outputId": "844388d0-8d30-4e0b-f0bf-02acf3db9b19"
      },
      "execution_count": 42,
      "outputs": [
        {
          "output_type": "execute_result",
          "data": {
            "text/plain": [
              "<matplotlib.legend.Legend at 0x7f9b3a6d5090>"
            ]
          },
          "metadata": {},
          "execution_count": 42
        },
        {
          "output_type": "display_data",
          "data": {
            "text/plain": [
              "<Figure size 432x288 with 1 Axes>"
            ],
            "image/png": "[encoded data removed]"
          },
          "metadata": {
            "needs_background": "light"
          }
        }
      ]
    },
    {
      "cell_type": "code",
      "source": [
        "y_pred_ann = model.predict_classes(X_test)\n",
        "print(\"Accuracy: \",accuracy_score(y_test,y_pred_ann))\n",
        "print(\"Recall: \", recall_score(y_test,y_pred_ann))\n",
        "print(\"Precision: \", precision_score(y_test,y_pred_ann))\n",
        "print(confusion_matrix(y_test,y_pred_ann))"
      ],
      "metadata": {
        "colab": {
          "base_uri": "https://localhost:8080/"
        },
        "id": "c1mKFEId1BjG",
        "outputId": "0b78cd79-f82c-482c-8338-4cb30d19d1c0"
      },
      "execution_count": 43,
      "outputs": [
        {
          "output_type": "stream",
          "name": "stderr",
          "text": [
            "/usr/local/lib/python3.7/dist-packages/tensorflow/python/keras/engine/sequential.py:455: UserWarning: `model.predict_classes()` is deprecated and will be removed after 2021-01-01. Please use instead:* `np.argmax(model.predict(x), axis=-1)`,   if your model does multi-class classification   (e.g. if it uses a `softmax` last-layer activation).* `(model.predict(x) > 0.5).astype(\"int32\")`,   if your model does binary classification   (e.g. if it uses a `sigmoid` last-layer activation).\n",
            "  warnings.warn('`model.predict_classes()` is deprecated and '\n"
          ]
        },
        {
          "output_type": "stream",
          "name": "stdout",
          "text": [
            "Accuracy:  0.9736842105263158\n",
            "Recall:  0.9574468085106383\n",
            "Precision:  0.9782608695652174\n",
            "[[66  1]\n",
            " [ 2 45]]\n"
          ]
        }
      ]
    },
    {
      "cell_type": "code",
      "source": [
        "rank6  = pd.read_excel(\"/content/cancer_dataset_U.xlsx\",sheet_name = \"F_test\").set_index('Attributes_Names')\n",
        "df_f_test  = df_new[rank6[:23].index]\n",
        "X_col =  df_f_test\n",
        "y = df_new['diagnosis']\n",
        "Scaler = StandardScaler()\n",
        "X_col =  Scaler.fit_transform(X_col)\n",
        "X_train, X_test, y_train, y_test = train_test_split(X_col, y, test_size=0.2, random_state=0)\n",
        "print(\"Shape of training data\",X_train.shape)\n",
        "print(\"Shape of testing data\",X_test.shape)"
      ],
      "metadata": {
        "colab": {
          "base_uri": "https://localhost:8080/"
        },
        "id": "1xhVlD6i1DmK",
        "outputId": "3497bfc7-f17e-4821-bf78-1bc11a5e234a"
      },
      "execution_count": 44,
      "outputs": [
        {
          "output_type": "stream",
          "name": "stdout",
          "text": [
            "Shape of training data (455, 23)\n",
            "Shape of testing data (114, 23)\n"
          ]
        }
      ]
    },
    {
      "cell_type": "code",
      "source": [
        "rf =  RandomForestClassifier()\n",
        "rf.fit(X_train,y_train)\n",
        "y_pred_rf =  rf.predict(X_test)\n",
        "print(\"Accuracy: \",accuracy_score(y_test,y_pred_rf))\n",
        "print(\"Recall: \", recall_score(y_test,y_pred_rf))\n",
        "print(\"Precision: \", precision_score(y_test,y_pred_rf))\n",
        "print(confusion_matrix(y_test,y_pred_rf))"
      ],
      "metadata": {
        "id": "SoKWq8-I1GPo",
        "colab": {
          "base_uri": "https://localhost:8080/"
        },
        "outputId": "7a0de029-5065-47c7-bc85-04cac4eec6c1"
      },
      "execution_count": 45,
      "outputs": [
        {
          "output_type": "stream",
          "name": "stdout",
          "text": [
            "Accuracy:  0.956140350877193\n",
            "Recall:  0.9787234042553191\n",
            "Precision:  0.92\n",
            "[[63  4]\n",
            " [ 1 46]]\n"
          ]
        }
      ]
    },
    {
      "cell_type": "code",
      "source": [
        "svc =  SVC()\n",
        "svc.fit(X_test,y_test)\n",
        "y_pred_svc =  svc.predict(X_test)\n",
        "print(\"Accuracy: \",accuracy_score(y_test,y_pred_svc))\n",
        "print(\"Recall: \", recall_score(y_test,y_pred_svc))\n",
        "print(\"Precision: \", precision_score(y_test,y_pred_svc))\n",
        "print(confusion_matrix(y_test,y_pred_svc))\n"
      ],
      "metadata": {
        "colab": {
          "base_uri": "https://localhost:8080/"
        },
        "id": "HHXbKpTkd-nj",
        "outputId": "6b3706c5-6f95-465f-c89e-e02c7a07f114"
      },
      "execution_count": 46,
      "outputs": [
        {
          "output_type": "stream",
          "name": "stdout",
          "text": [
            "Accuracy:  0.9824561403508771\n",
            "Recall:  0.9574468085106383\n",
            "Precision:  1.0\n",
            "[[67  0]\n",
            " [ 2 45]]\n"
          ]
        }
      ]
    },
    {
      "cell_type": "code",
      "source": [
        "model = tf.keras.Sequential([\n",
        "    tf.keras.layers.Dense(23, activation='relu', input_shape=(23,)),\n",
        "    tf.keras.layers.BatchNormalization(),\n",
        "    tf.keras.layers.Dense(20, activation='relu'),\n",
        "    tf.keras.layers.BatchNormalization(),\n",
        "    tf.keras.layers.Dense(24, activation='relu'),\n",
        "    tf.keras.layers.Dropout(0.5),\n",
        "    tf.keras.layers.BatchNormalization(),\n",
        "    tf.keras.layers.Dense(28, activation='relu'),\n",
        "    tf.keras.layers.Dropout(0.5),\n",
        "    tf.keras.layers.Dense(1,activation='sigmoid')\n",
        "  ])\n",
        "model.compile(loss='binary_crossentropy',\n",
        "              optimizer = 'adam',\n",
        "              metrics=['accuracy'])\n",
        "model.summary()"
      ],
      "metadata": {
        "colab": {
          "base_uri": "https://localhost:8080/"
        },
        "id": "Cs4tWO8AeBKB",
        "outputId": "846f3061-5501-478d-8967-f97f47b49e27"
      },
      "execution_count": 47,
      "outputs": [
        {
          "output_type": "stream",
          "name": "stdout",
          "text": [
            "Model: \"sequential_5\"\n",
            "_________________________________________________________________\n",
            "Layer (type)                 Output Shape              Param #   \n",
            "=================================================================\n",
            "dense_25 (Dense)             (None, 23)                552       \n",
            "_________________________________________________________________\n",
            "batch_normalization_15 (Batc (None, 23)                92        \n",
            "_________________________________________________________________\n",
            "dense_26 (Dense)             (None, 20)                480       \n",
            "_________________________________________________________________\n",
            "batch_normalization_16 (Batc (None, 20)                80        \n",
            "_________________________________________________________________\n",
            "dense_27 (Dense)             (None, 24)                504       \n",
            "_________________________________________________________________\n",
            "dropout_10 (Dropout)         (None, 24)                0         \n",
            "_________________________________________________________________\n",
            "batch_normalization_17 (Batc (None, 24)                96        \n",
            "_________________________________________________________________\n",
            "dense_28 (Dense)             (None, 28)                700       \n",
            "_________________________________________________________________\n",
            "dropout_11 (Dropout)         (None, 28)                0         \n",
            "_________________________________________________________________\n",
            "dense_29 (Dense)             (None, 1)                 29        \n",
            "=================================================================\n",
            "Total params: 2,533\n",
            "Trainable params: 2,399\n",
            "Non-trainable params: 134\n",
            "_________________________________________________________________\n"
          ]
        }
      ]
    },
    {
      "cell_type": "code",
      "source": [
        "h = model.fit(X_train,y_train,epochs=50,validation_data=(X_test,y_test))"
      ],
      "metadata": {
        "colab": {
          "base_uri": "https://localhost:8080/"
        },
        "id": "d2sfxpjLeDg8",
        "outputId": "e403394d-7cce-4724-a013-a6945c6080d6"
      },
      "execution_count": 48,
      "outputs": [
        {
          "output_type": "stream",
          "name": "stdout",
          "text": [
            "Epoch 1/50\n",
            "15/15 [==============================] - 2s 20ms/step - loss: 0.8142 - accuracy: 0.5231 - val_loss: 0.6422 - val_accuracy: 0.7018\n",
            "Epoch 2/50\n",
            "15/15 [==============================] - 0s 4ms/step - loss: 0.7099 - accuracy: 0.6066 - val_loss: 0.5951 - val_accuracy: 0.7807\n",
            "Epoch 3/50\n",
            "15/15 [==============================] - 0s 5ms/step - loss: 0.6545 - accuracy: 0.6264 - val_loss: 0.5551 - val_accuracy: 0.8333\n",
            "Epoch 4/50\n",
            "15/15 [==============================] - 0s 6ms/step - loss: 0.6211 - accuracy: 0.6527 - val_loss: 0.5113 - val_accuracy: 0.8509\n",
            "Epoch 5/50\n",
            "15/15 [==============================] - 0s 6ms/step - loss: 0.5380 - accuracy: 0.7538 - val_loss: 0.4622 - val_accuracy: 0.8772\n",
            "Epoch 6/50\n",
            "15/15 [==============================] - 0s 6ms/step - loss: 0.4703 - accuracy: 0.7890 - val_loss: 0.4216 - val_accuracy: 0.9035\n",
            "Epoch 7/50\n",
            "15/15 [==============================] - 0s 5ms/step - loss: 0.4297 - accuracy: 0.8264 - val_loss: 0.3742 - val_accuracy: 0.9211\n",
            "Epoch 8/50\n",
            "15/15 [==============================] - 0s 5ms/step - loss: 0.4108 - accuracy: 0.8198 - val_loss: 0.3306 - val_accuracy: 0.9386\n",
            "Epoch 9/50\n",
            "15/15 [==============================] - 0s 5ms/step - loss: 0.4131 - accuracy: 0.8286 - val_loss: 0.2955 - val_accuracy: 0.9386\n",
            "Epoch 10/50\n",
            "15/15 [==============================] - 0s 6ms/step - loss: 0.3556 - accuracy: 0.8637 - val_loss: 0.2653 - val_accuracy: 0.9386\n",
            "Epoch 11/50\n",
            "15/15 [==============================] - 0s 5ms/step - loss: 0.3351 - accuracy: 0.8879 - val_loss: 0.2376 - val_accuracy: 0.9474\n",
            "Epoch 12/50\n",
            "15/15 [==============================] - 0s 5ms/step - loss: 0.3131 - accuracy: 0.8813 - val_loss: 0.2130 - val_accuracy: 0.9474\n",
            "Epoch 13/50\n",
            "15/15 [==============================] - 0s 6ms/step - loss: 0.2863 - accuracy: 0.8923 - val_loss: 0.1893 - val_accuracy: 0.9474\n",
            "Epoch 14/50\n",
            "15/15 [==============================] - 0s 4ms/step - loss: 0.2816 - accuracy: 0.8857 - val_loss: 0.1707 - val_accuracy: 0.9474\n",
            "Epoch 15/50\n",
            "15/15 [==============================] - 0s 5ms/step - loss: 0.2622 - accuracy: 0.9077 - val_loss: 0.1544 - val_accuracy: 0.9474\n",
            "Epoch 16/50\n",
            "15/15 [==============================] - 0s 5ms/step - loss: 0.2380 - accuracy: 0.9143 - val_loss: 0.1394 - val_accuracy: 0.9474\n",
            "Epoch 17/50\n",
            "15/15 [==============================] - 0s 6ms/step - loss: 0.2452 - accuracy: 0.9143 - val_loss: 0.1288 - val_accuracy: 0.9561\n",
            "Epoch 18/50\n",
            "15/15 [==============================] - 0s 5ms/step - loss: 0.2290 - accuracy: 0.9187 - val_loss: 0.1200 - val_accuracy: 0.9561\n",
            "Epoch 19/50\n",
            "15/15 [==============================] - 0s 5ms/step - loss: 0.2192 - accuracy: 0.9319 - val_loss: 0.1138 - val_accuracy: 0.9649\n",
            "Epoch 20/50\n",
            "15/15 [==============================] - 0s 5ms/step - loss: 0.1850 - accuracy: 0.9538 - val_loss: 0.1053 - val_accuracy: 0.9737\n",
            "Epoch 21/50\n",
            "15/15 [==============================] - 0s 5ms/step - loss: 0.1956 - accuracy: 0.9275 - val_loss: 0.0974 - val_accuracy: 0.9737\n",
            "Epoch 22/50\n",
            "15/15 [==============================] - 0s 6ms/step - loss: 0.1579 - accuracy: 0.9516 - val_loss: 0.0886 - val_accuracy: 0.9737\n",
            "Epoch 23/50\n",
            "15/15 [==============================] - 0s 4ms/step - loss: 0.1819 - accuracy: 0.9516 - val_loss: 0.0888 - val_accuracy: 0.9737\n",
            "Epoch 24/50\n",
            "15/15 [==============================] - 0s 5ms/step - loss: 0.1557 - accuracy: 0.9407 - val_loss: 0.0876 - val_accuracy: 0.9737\n",
            "Epoch 25/50\n",
            "15/15 [==============================] - 0s 7ms/step - loss: 0.1553 - accuracy: 0.9626 - val_loss: 0.0818 - val_accuracy: 0.9737\n",
            "Epoch 26/50\n",
            "15/15 [==============================] - 0s 6ms/step - loss: 0.1421 - accuracy: 0.9495 - val_loss: 0.0764 - val_accuracy: 0.9737\n",
            "Epoch 27/50\n",
            "15/15 [==============================] - 0s 5ms/step - loss: 0.1424 - accuracy: 0.9626 - val_loss: 0.0743 - val_accuracy: 0.9737\n",
            "Epoch 28/50\n",
            "15/15 [==============================] - 0s 4ms/step - loss: 0.1515 - accuracy: 0.9538 - val_loss: 0.0738 - val_accuracy: 0.9737\n",
            "Epoch 29/50\n",
            "15/15 [==============================] - 0s 5ms/step - loss: 0.1890 - accuracy: 0.9363 - val_loss: 0.0710 - val_accuracy: 0.9737\n",
            "Epoch 30/50\n",
            "15/15 [==============================] - 0s 5ms/step - loss: 0.1274 - accuracy: 0.9648 - val_loss: 0.0716 - val_accuracy: 0.9737\n",
            "Epoch 31/50\n",
            "15/15 [==============================] - 0s 4ms/step - loss: 0.1370 - accuracy: 0.9626 - val_loss: 0.0698 - val_accuracy: 0.9737\n",
            "Epoch 32/50\n",
            "15/15 [==============================] - 0s 6ms/step - loss: 0.1370 - accuracy: 0.9582 - val_loss: 0.0655 - val_accuracy: 0.9737\n",
            "Epoch 33/50\n",
            "15/15 [==============================] - 0s 5ms/step - loss: 0.1166 - accuracy: 0.9604 - val_loss: 0.0626 - val_accuracy: 0.9649\n",
            "Epoch 34/50\n",
            "15/15 [==============================] - 0s 5ms/step - loss: 0.1543 - accuracy: 0.9473 - val_loss: 0.0628 - val_accuracy: 0.9649\n",
            "Epoch 35/50\n",
            "15/15 [==============================] - 0s 5ms/step - loss: 0.1412 - accuracy: 0.9516 - val_loss: 0.0622 - val_accuracy: 0.9649\n",
            "Epoch 36/50\n",
            "15/15 [==============================] - 0s 5ms/step - loss: 0.1022 - accuracy: 0.9670 - val_loss: 0.0600 - val_accuracy: 0.9737\n",
            "Epoch 37/50\n",
            "15/15 [==============================] - 0s 7ms/step - loss: 0.1481 - accuracy: 0.9626 - val_loss: 0.0602 - val_accuracy: 0.9737\n",
            "Epoch 38/50\n",
            "15/15 [==============================] - 0s 4ms/step - loss: 0.1198 - accuracy: 0.9560 - val_loss: 0.0588 - val_accuracy: 0.9737\n",
            "Epoch 39/50\n",
            "15/15 [==============================] - 0s 6ms/step - loss: 0.1056 - accuracy: 0.9604 - val_loss: 0.0564 - val_accuracy: 0.9825\n",
            "Epoch 40/50\n",
            "15/15 [==============================] - 0s 6ms/step - loss: 0.0877 - accuracy: 0.9670 - val_loss: 0.0534 - val_accuracy: 0.9825\n",
            "Epoch 41/50\n",
            "15/15 [==============================] - 0s 6ms/step - loss: 0.1166 - accuracy: 0.9648 - val_loss: 0.0530 - val_accuracy: 0.9737\n",
            "Epoch 42/50\n",
            "15/15 [==============================] - 0s 5ms/step - loss: 0.0930 - accuracy: 0.9692 - val_loss: 0.0526 - val_accuracy: 0.9737\n",
            "Epoch 43/50\n",
            "15/15 [==============================] - 0s 6ms/step - loss: 0.1060 - accuracy: 0.9648 - val_loss: 0.0506 - val_accuracy: 0.9737\n",
            "Epoch 44/50\n",
            "15/15 [==============================] - 0s 5ms/step - loss: 0.1075 - accuracy: 0.9758 - val_loss: 0.0503 - val_accuracy: 0.9825\n",
            "Epoch 45/50\n",
            "15/15 [==============================] - 0s 6ms/step - loss: 0.1152 - accuracy: 0.9582 - val_loss: 0.0498 - val_accuracy: 0.9825\n",
            "Epoch 46/50\n",
            "15/15 [==============================] - 0s 4ms/step - loss: 0.1018 - accuracy: 0.9714 - val_loss: 0.0488 - val_accuracy: 0.9825\n",
            "Epoch 47/50\n",
            "15/15 [==============================] - 0s 4ms/step - loss: 0.1163 - accuracy: 0.9604 - val_loss: 0.0468 - val_accuracy: 0.9737\n",
            "Epoch 48/50\n",
            "15/15 [==============================] - 0s 5ms/step - loss: 0.0939 - accuracy: 0.9714 - val_loss: 0.0432 - val_accuracy: 0.9737\n",
            "Epoch 49/50\n",
            "15/15 [==============================] - 0s 6ms/step - loss: 0.1194 - accuracy: 0.9582 - val_loss: 0.0404 - val_accuracy: 0.9825\n",
            "Epoch 50/50\n",
            "15/15 [==============================] - 0s 4ms/step - loss: 0.1236 - accuracy: 0.9670 - val_loss: 0.0413 - val_accuracy: 0.9912\n"
          ]
        }
      ]
    },
    {
      "cell_type": "code",
      "source": [
        "plt.plot(h.history['accuracy'], label = 'Accuracy for Train set')\n",
        "plt.plot(h.history['val_accuracy'], label = 'Accuracy for Test Set')\n",
        "plt.title('Accuracy Graph for ANN')\n",
        "plt.ylabel('Accuracy')\n",
        "plt.xlabel('epochs')\n",
        "plt.legend()"
      ],
      "metadata": {
        "colab": {
          "base_uri": "https://localhost:8080/",
          "height": 312
        },
        "id": "d4RAHNz3eJjP",
        "outputId": "041c88c7-cf26-49a7-96df-954b20c4f5a2"
      },
      "execution_count": 49,
      "outputs": [
        {
          "output_type": "execute_result",
          "data": {
            "text/plain": [
              "<matplotlib.legend.Legend at 0x7f9b3a1e6950>"
            ]
          },
          "metadata": {},
          "execution_count": 49
        },
        {
          "output_type": "display_data",
          "data": {
            "text/plain": [
              "<Figure size 432x288 with 1 Axes>"
            ],
            "image/png": "[encoded data removed]"
          },
          "metadata": {
            "needs_background": "light"
          }
        }
      ]
    },
    {
      "cell_type": "code",
      "source": [
        "plt.plot(h.history['loss'], label = 'loss for Train set')\n",
        "plt.plot(h.history['val_loss'], label = 'loss for Test Set')\n",
        "plt.title('loss Graph for ANN')\n",
        "plt.ylabel('loss')\n",
        "plt.xlabel('epochs')\n",
        "plt.legend()"
      ],
      "metadata": {
        "colab": {
          "base_uri": "https://localhost:8080/",
          "height": 312
        },
        "id": "tpG82z_deMyg",
        "outputId": "ae950dc8-dc6d-45f0-f1b8-c0b312f589db"
      },
      "execution_count": 50,
      "outputs": [
        {
          "output_type": "execute_result",
          "data": {
            "text/plain": [
              "<matplotlib.legend.Legend at 0x7f9b3a272050>"
            ]
          },
          "metadata": {},
          "execution_count": 50
        },
        {
          "output_type": "display_data",
          "data": {
            "text/plain": [
              "<Figure size 432x288 with 1 Axes>"
            ],
            "image/png": "[encoded data removed]"
          },
          "metadata": {
            "needs_background": "light"
          }
        }
      ]
    },
    {
      "cell_type": "code",
      "source": [
        "y_pred_ann = model.predict_classes(X_test)\n",
        "print(\"Accuracy: \",accuracy_score(y_test,y_pred_ann))\n",
        "print(\"Recall: \", recall_score(y_test,y_pred_ann))\n",
        "print(\"Precision: \", precision_score(y_test,y_pred_ann))\n",
        "print(confusion_matrix(y_test,y_pred_ann))"
      ],
      "metadata": {
        "colab": {
          "base_uri": "https://localhost:8080/"
        },
        "id": "Erb6uFK5eOtK",
        "outputId": "15dd71f1-fb5c-4b17-b345-dafe3202921f"
      },
      "execution_count": 51,
      "outputs": [
        {
          "output_type": "stream",
          "name": "stderr",
          "text": [
            "/usr/local/lib/python3.7/dist-packages/tensorflow/python/keras/engine/sequential.py:455: UserWarning: `model.predict_classes()` is deprecated and will be removed after 2021-01-01. Please use instead:* `np.argmax(model.predict(x), axis=-1)`,   if your model does multi-class classification   (e.g. if it uses a `softmax` last-layer activation).* `(model.predict(x) > 0.5).astype(\"int32\")`,   if your model does binary classification   (e.g. if it uses a `sigmoid` last-layer activation).\n",
            "  warnings.warn('`model.predict_classes()` is deprecated and '\n"
          ]
        },
        {
          "output_type": "stream",
          "name": "stdout",
          "text": [
            "Accuracy:  0.9912280701754386\n",
            "Recall:  0.9787234042553191\n",
            "Precision:  1.0\n",
            "[[67  0]\n",
            " [ 1 46]]\n"
          ]
        }
      ]
    },
    {
      "cell_type": "code",
      "source": [
        "rank7  = pd.read_excel(\"/content/cancer_dataset_U.xlsx\",sheet_name = \"mutual_info\").set_index('Attributes_Names')\n",
        "df_mutual = df_new[rank7[:23].index]\n",
        "X_col =  df_mutual\n",
        "y = df_new['diagnosis']\n",
        "Scaler = StandardScaler()\n",
        "X_col =  Scaler.fit_transform(X_col)\n",
        "X_train, X_test, y_train, y_test = train_test_split(X_col, y, test_size=0.2, random_state=0)\n",
        "print(\"Shape of training data\",X_train.shape)\n",
        "print(\"Shape of testing data\",X_test.shape)"
      ],
      "metadata": {
        "colab": {
          "base_uri": "https://localhost:8080/"
        },
        "id": "djvHMItneR8v",
        "outputId": "30550528-16d1-43ca-eefe-f575c967b4a0"
      },
      "execution_count": 52,
      "outputs": [
        {
          "output_type": "stream",
          "name": "stdout",
          "text": [
            "Shape of training data (455, 23)\n",
            "Shape of testing data (114, 23)\n"
          ]
        }
      ]
    },
    {
      "cell_type": "code",
      "source": [
        "rf =  RandomForestClassifier()\n",
        "rf.fit(X_train,y_train)\n",
        "y_pred_rf =  rf.predict(X_test)\n",
        "print(\"Accuracy: \",accuracy_score(y_test,y_pred_rf))\n",
        "print(\"Recall: \", recall_score(y_test,y_pred_rf))\n",
        "print(\"Precision: \", precision_score(y_test,y_pred_rf))\n",
        "print(confusion_matrix(y_test,y_pred_rf))"
      ],
      "metadata": {
        "colab": {
          "base_uri": "https://localhost:8080/"
        },
        "id": "NoOg33yYeVre",
        "outputId": "3da5871a-65fd-427d-f30a-f987a75fe3f5"
      },
      "execution_count": 53,
      "outputs": [
        {
          "output_type": "stream",
          "name": "stdout",
          "text": [
            "Accuracy:  0.9649122807017544\n",
            "Recall:  0.9787234042553191\n",
            "Precision:  0.9387755102040817\n",
            "[[64  3]\n",
            " [ 1 46]]\n"
          ]
        }
      ]
    },
    {
      "cell_type": "code",
      "source": [
        "svc =  SVC()\n",
        "svc.fit(X_test,y_test)\n",
        "y_pred_svc =  svc.predict(X_test)\n",
        "print(\"Accuracy: \",accuracy_score(y_test,y_pred_svc))\n",
        "print(\"Recall: \", recall_score(y_test,y_pred_svc))\n",
        "print(\"Precision: \", precision_score(y_test,y_pred_svc))\n",
        "print(confusion_matrix(y_test,y_pred_svc))"
      ],
      "metadata": {
        "colab": {
          "base_uri": "https://localhost:8080/"
        },
        "id": "L_MCIjYMeX_7",
        "outputId": "02b88c5d-c634-4c84-a58d-9816e3100ad5"
      },
      "execution_count": 54,
      "outputs": [
        {
          "output_type": "stream",
          "name": "stdout",
          "text": [
            "Accuracy:  0.9824561403508771\n",
            "Recall:  0.9574468085106383\n",
            "Precision:  1.0\n",
            "[[67  0]\n",
            " [ 2 45]]\n"
          ]
        }
      ]
    },
    {
      "cell_type": "code",
      "source": [
        "model = tf.keras.Sequential([\n",
        "    tf.keras.layers.Dense(23, activation='relu', input_shape=(23,)),\n",
        "    tf.keras.layers.BatchNormalization(),\n",
        "    tf.keras.layers.Dense(20, activation='relu'),\n",
        "    tf.keras.layers.BatchNormalization(),\n",
        "    tf.keras.layers.Dense(24, activation='relu'),\n",
        "    tf.keras.layers.Dropout(0.5),\n",
        "    tf.keras.layers.BatchNormalization(),\n",
        "    tf.keras.layers.Dense(28, activation='relu'),\n",
        "    tf.keras.layers.Dropout(0.5),\n",
        "    tf.keras.layers.Dense(1,activation='sigmoid')\n",
        "  ])\n",
        "model.compile(loss='binary_crossentropy',\n",
        "              optimizer = 'adam',\n",
        "              metrics=['accuracy'])\n",
        "model.summary()"
      ],
      "metadata": {
        "colab": {
          "base_uri": "https://localhost:8080/"
        },
        "id": "kVLAQGh5eaRr",
        "outputId": "b0a67d05-0b95-4401-d3cc-a8a1cac4fdfe"
      },
      "execution_count": 55,
      "outputs": [
        {
          "output_type": "stream",
          "name": "stdout",
          "text": [
            "Model: \"sequential_6\"\n",
            "_________________________________________________________________\n",
            "Layer (type)                 Output Shape              Param #   \n",
            "=================================================================\n",
            "dense_30 (Dense)             (None, 23)                552       \n",
            "_________________________________________________________________\n",
            "batch_normalization_18 (Batc (None, 23)                92        \n",
            "_________________________________________________________________\n",
            "dense_31 (Dense)             (None, 20)                480       \n",
            "_________________________________________________________________\n",
            "batch_normalization_19 (Batc (None, 20)                80        \n",
            "_________________________________________________________________\n",
            "dense_32 (Dense)             (None, 24)                504       \n",
            "_________________________________________________________________\n",
            "dropout_12 (Dropout)         (None, 24)                0         \n",
            "_________________________________________________________________\n",
            "batch_normalization_20 (Batc (None, 24)                96        \n",
            "_________________________________________________________________\n",
            "dense_33 (Dense)             (None, 28)                700       \n",
            "_________________________________________________________________\n",
            "dropout_13 (Dropout)         (None, 28)                0         \n",
            "_________________________________________________________________\n",
            "dense_34 (Dense)             (None, 1)                 29        \n",
            "=================================================================\n",
            "Total params: 2,533\n",
            "Trainable params: 2,399\n",
            "Non-trainable params: 134\n",
            "_________________________________________________________________\n"
          ]
        }
      ]
    },
    {
      "cell_type": "code",
      "source": [
        "h = model.fit(X_train,y_train,epochs=50,validation_data=(X_test,y_test))"
      ],
      "metadata": {
        "colab": {
          "base_uri": "https://localhost:8080/"
        },
        "id": "01clw7ybed0e",
        "outputId": "dbf2244a-1572-4077-a804-d2ed4c3063d1"
      },
      "execution_count": 56,
      "outputs": [
        {
          "output_type": "stream",
          "name": "stdout",
          "text": [
            "Epoch 1/50\n",
            "15/15 [==============================] - 2s 20ms/step - loss: 0.8166 - accuracy: 0.5890 - val_loss: 0.6665 - val_accuracy: 0.5965\n",
            "Epoch 2/50\n",
            "15/15 [==============================] - 0s 8ms/step - loss: 0.6484 - accuracy: 0.6286 - val_loss: 0.6203 - val_accuracy: 0.5877\n",
            "Epoch 3/50\n",
            "15/15 [==============================] - 0s 6ms/step - loss: 0.5942 - accuracy: 0.6747 - val_loss: 0.5752 - val_accuracy: 0.7193\n",
            "Epoch 4/50\n",
            "15/15 [==============================] - 0s 6ms/step - loss: 0.5263 - accuracy: 0.7121 - val_loss: 0.5315 - val_accuracy: 0.8596\n",
            "Epoch 5/50\n",
            "15/15 [==============================] - 0s 4ms/step - loss: 0.4726 - accuracy: 0.7868 - val_loss: 0.4945 - val_accuracy: 0.9035\n",
            "Epoch 6/50\n",
            "15/15 [==============================] - 0s 4ms/step - loss: 0.4387 - accuracy: 0.7714 - val_loss: 0.4567 - val_accuracy: 0.9211\n",
            "Epoch 7/50\n",
            "15/15 [==============================] - 0s 5ms/step - loss: 0.3907 - accuracy: 0.8396 - val_loss: 0.4133 - val_accuracy: 0.9211\n",
            "Epoch 8/50\n",
            "15/15 [==============================] - 0s 5ms/step - loss: 0.4068 - accuracy: 0.8066 - val_loss: 0.3689 - val_accuracy: 0.9123\n",
            "Epoch 9/50\n",
            "15/15 [==============================] - 0s 5ms/step - loss: 0.3491 - accuracy: 0.8703 - val_loss: 0.3261 - val_accuracy: 0.9211\n",
            "Epoch 10/50\n",
            "15/15 [==============================] - 0s 5ms/step - loss: 0.3435 - accuracy: 0.8571 - val_loss: 0.2928 - val_accuracy: 0.9211\n",
            "Epoch 11/50\n",
            "15/15 [==============================] - 0s 4ms/step - loss: 0.2932 - accuracy: 0.9055 - val_loss: 0.2643 - val_accuracy: 0.9211\n",
            "Epoch 12/50\n",
            "15/15 [==============================] - 0s 5ms/step - loss: 0.2722 - accuracy: 0.9033 - val_loss: 0.2372 - val_accuracy: 0.9298\n",
            "Epoch 13/50\n",
            "15/15 [==============================] - 0s 4ms/step - loss: 0.2677 - accuracy: 0.9099 - val_loss: 0.2088 - val_accuracy: 0.9386\n",
            "Epoch 14/50\n",
            "15/15 [==============================] - 0s 4ms/step - loss: 0.2443 - accuracy: 0.9033 - val_loss: 0.1869 - val_accuracy: 0.9386\n",
            "Epoch 15/50\n",
            "15/15 [==============================] - 0s 6ms/step - loss: 0.2427 - accuracy: 0.9165 - val_loss: 0.1734 - val_accuracy: 0.9386\n",
            "Epoch 16/50\n",
            "15/15 [==============================] - 0s 4ms/step - loss: 0.2294 - accuracy: 0.9319 - val_loss: 0.1554 - val_accuracy: 0.9474\n",
            "Epoch 17/50\n",
            "15/15 [==============================] - 0s 4ms/step - loss: 0.2126 - accuracy: 0.9407 - val_loss: 0.1376 - val_accuracy: 0.9474\n",
            "Epoch 18/50\n",
            "15/15 [==============================] - 0s 5ms/step - loss: 0.1970 - accuracy: 0.9429 - val_loss: 0.1224 - val_accuracy: 0.9561\n",
            "Epoch 19/50\n",
            "15/15 [==============================] - 0s 4ms/step - loss: 0.1877 - accuracy: 0.9495 - val_loss: 0.1095 - val_accuracy: 0.9561\n",
            "Epoch 20/50\n",
            "15/15 [==============================] - 0s 6ms/step - loss: 0.1816 - accuracy: 0.9473 - val_loss: 0.1004 - val_accuracy: 0.9561\n",
            "Epoch 21/50\n",
            "15/15 [==============================] - 0s 6ms/step - loss: 0.1780 - accuracy: 0.9385 - val_loss: 0.0935 - val_accuracy: 0.9561\n",
            "Epoch 22/50\n",
            "15/15 [==============================] - 0s 4ms/step - loss: 0.1806 - accuracy: 0.9429 - val_loss: 0.0894 - val_accuracy: 0.9649\n",
            "Epoch 23/50\n",
            "15/15 [==============================] - 0s 7ms/step - loss: 0.1656 - accuracy: 0.9516 - val_loss: 0.0818 - val_accuracy: 0.9737\n",
            "Epoch 24/50\n",
            "15/15 [==============================] - 0s 7ms/step - loss: 0.1600 - accuracy: 0.9582 - val_loss: 0.0801 - val_accuracy: 0.9649\n",
            "Epoch 25/50\n",
            "15/15 [==============================] - 0s 5ms/step - loss: 0.1698 - accuracy: 0.9560 - val_loss: 0.0759 - val_accuracy: 0.9649\n",
            "Epoch 26/50\n",
            "15/15 [==============================] - 0s 5ms/step - loss: 0.1577 - accuracy: 0.9582 - val_loss: 0.0710 - val_accuracy: 0.9737\n",
            "Epoch 27/50\n",
            "15/15 [==============================] - 0s 7ms/step - loss: 0.1343 - accuracy: 0.9604 - val_loss: 0.0678 - val_accuracy: 0.9649\n",
            "Epoch 28/50\n",
            "15/15 [==============================] - 0s 6ms/step - loss: 0.1597 - accuracy: 0.9429 - val_loss: 0.0658 - val_accuracy: 0.9737\n",
            "Epoch 29/50\n",
            "15/15 [==============================] - 0s 6ms/step - loss: 0.1640 - accuracy: 0.9560 - val_loss: 0.0628 - val_accuracy: 0.9737\n",
            "Epoch 30/50\n",
            "15/15 [==============================] - 0s 5ms/step - loss: 0.1744 - accuracy: 0.9429 - val_loss: 0.0594 - val_accuracy: 0.9737\n",
            "Epoch 31/50\n",
            "15/15 [==============================] - 0s 6ms/step - loss: 0.1786 - accuracy: 0.9385 - val_loss: 0.0583 - val_accuracy: 0.9825\n",
            "Epoch 32/50\n",
            "15/15 [==============================] - 0s 5ms/step - loss: 0.1645 - accuracy: 0.9582 - val_loss: 0.0599 - val_accuracy: 0.9825\n",
            "Epoch 33/50\n",
            "15/15 [==============================] - 0s 6ms/step - loss: 0.1335 - accuracy: 0.9582 - val_loss: 0.0654 - val_accuracy: 0.9737\n",
            "Epoch 34/50\n",
            "15/15 [==============================] - 0s 10ms/step - loss: 0.1409 - accuracy: 0.9516 - val_loss: 0.0624 - val_accuracy: 0.9737\n",
            "Epoch 35/50\n",
            "15/15 [==============================] - 0s 10ms/step - loss: 0.1245 - accuracy: 0.9670 - val_loss: 0.0580 - val_accuracy: 0.9737\n",
            "Epoch 36/50\n",
            "15/15 [==============================] - 0s 9ms/step - loss: 0.1249 - accuracy: 0.9692 - val_loss: 0.0541 - val_accuracy: 0.9825\n",
            "Epoch 37/50\n",
            "15/15 [==============================] - 0s 10ms/step - loss: 0.1361 - accuracy: 0.9692 - val_loss: 0.0504 - val_accuracy: 0.9825\n",
            "Epoch 38/50\n",
            "15/15 [==============================] - 0s 9ms/step - loss: 0.1085 - accuracy: 0.9736 - val_loss: 0.0495 - val_accuracy: 0.9825\n",
            "Epoch 39/50\n",
            "15/15 [==============================] - 0s 11ms/step - loss: 0.1046 - accuracy: 0.9692 - val_loss: 0.0474 - val_accuracy: 0.9825\n",
            "Epoch 40/50\n",
            "15/15 [==============================] - 0s 13ms/step - loss: 0.1263 - accuracy: 0.9538 - val_loss: 0.0470 - val_accuracy: 0.9825\n",
            "Epoch 41/50\n",
            "15/15 [==============================] - 0s 11ms/step - loss: 0.1055 - accuracy: 0.9648 - val_loss: 0.0466 - val_accuracy: 0.9825\n",
            "Epoch 42/50\n",
            "15/15 [==============================] - 0s 10ms/step - loss: 0.1345 - accuracy: 0.9604 - val_loss: 0.0555 - val_accuracy: 0.9825\n",
            "Epoch 43/50\n",
            "15/15 [==============================] - 0s 14ms/step - loss: 0.1282 - accuracy: 0.9582 - val_loss: 0.0571 - val_accuracy: 0.9825\n",
            "Epoch 44/50\n",
            "15/15 [==============================] - 0s 11ms/step - loss: 0.1072 - accuracy: 0.9714 - val_loss: 0.0555 - val_accuracy: 0.9825\n",
            "Epoch 45/50\n",
            "15/15 [==============================] - 0s 10ms/step - loss: 0.1111 - accuracy: 0.9758 - val_loss: 0.0530 - val_accuracy: 0.9825\n",
            "Epoch 46/50\n",
            "15/15 [==============================] - 0s 12ms/step - loss: 0.1318 - accuracy: 0.9582 - val_loss: 0.0487 - val_accuracy: 0.9825\n",
            "Epoch 47/50\n",
            "15/15 [==============================] - 0s 12ms/step - loss: 0.1631 - accuracy: 0.9648 - val_loss: 0.0463 - val_accuracy: 0.9737\n",
            "Epoch 48/50\n",
            "15/15 [==============================] - 0s 12ms/step - loss: 0.1182 - accuracy: 0.9736 - val_loss: 0.0457 - val_accuracy: 0.9737\n",
            "Epoch 49/50\n",
            "15/15 [==============================] - 0s 10ms/step - loss: 0.1220 - accuracy: 0.9692 - val_loss: 0.0445 - val_accuracy: 0.9737\n",
            "Epoch 50/50\n",
            "15/15 [==============================] - 0s 13ms/step - loss: 0.1067 - accuracy: 0.9648 - val_loss: 0.0409 - val_accuracy: 0.9825\n"
          ]
        }
      ]
    },
    {
      "cell_type": "code",
      "source": [
        "plt.plot(h.history['accuracy'], label = 'Accuracy for Train set')\n",
        "plt.plot(h.history['val_accuracy'], label = 'Accuracy for Test Set')\n",
        "plt.title('Accuracy Graph for ANN')\n",
        "plt.ylabel('Accuracy')\n",
        "plt.xlabel('epochs')\n",
        "plt.legend()"
      ],
      "metadata": {
        "colab": {
          "base_uri": "https://localhost:8080/",
          "height": 312
        },
        "id": "zuZGP9PcegGT",
        "outputId": "d02227eb-03aa-4c48-bc17-7294da666b85"
      },
      "execution_count": 57,
      "outputs": [
        {
          "output_type": "execute_result",
          "data": {
            "text/plain": [
              "<matplotlib.legend.Legend at 0x7f9b3c74d390>"
            ]
          },
          "metadata": {},
          "execution_count": 57
        },
        {
          "output_type": "display_data",
          "data": {
            "text/plain": [
              "<Figure size 432x288 with 1 Axes>"
            ],
            "image/png": "[encoded data removed]"
          },
          "metadata": {
            "needs_background": "light"
          }
        }
      ]
    },
    {
      "cell_type": "code",
      "source": [
        "plt.plot(h.history['loss'], label = 'loss for Train set')\n",
        "plt.plot(h.history['val_loss'], label = 'loss for Test Set')\n",
        "plt.title('loss Graph for ANN')\n",
        "plt.ylabel('loss')\n",
        "plt.xlabel('epochs')\n",
        "plt.legend()"
      ],
      "metadata": {
        "colab": {
          "base_uri": "https://localhost:8080/",
          "height": 312
        },
        "id": "nHaCmDN4ejVj",
        "outputId": "f0e746b3-2c42-4123-cc59-92d5695b9cf4"
      },
      "execution_count": 58,
      "outputs": [
        {
          "output_type": "execute_result",
          "data": {
            "text/plain": [
              "<matplotlib.legend.Legend at 0x7f9b3c66e550>"
            ]
          },
          "metadata": {},
          "execution_count": 58
        },
        {
          "output_type": "display_data",
          "data": {
            "text/plain": [
              "<Figure size 432x288 with 1 Axes>"
            ],
            "image/png": "[encoded data removed]"
          },
          "metadata": {
            "needs_background": "light"
          }
        }
      ]
    },
    {
      "cell_type": "code",
      "source": [
        "y_pred_ann = model.predict_classes(X_test)\n",
        "print(\"Accuracy: \",accuracy_score(y_test,y_pred_ann))\n",
        "print(\"Recall: \", recall_score(y_test,y_pred_ann))\n",
        "print(\"Precision: \", precision_score(y_test,y_pred_ann))\n",
        "print(confusion_matrix(y_test,y_pred_ann))\n"
      ],
      "metadata": {
        "colab": {
          "base_uri": "https://localhost:8080/"
        },
        "id": "sx-GVog9elek",
        "outputId": "2c370392-4f4a-4d25-fc6a-bfab52f8c87d"
      },
      "execution_count": 59,
      "outputs": [
        {
          "output_type": "stream",
          "name": "stderr",
          "text": [
            "/usr/local/lib/python3.7/dist-packages/tensorflow/python/keras/engine/sequential.py:455: UserWarning: `model.predict_classes()` is deprecated and will be removed after 2021-01-01. Please use instead:* `np.argmax(model.predict(x), axis=-1)`,   if your model does multi-class classification   (e.g. if it uses a `softmax` last-layer activation).* `(model.predict(x) > 0.5).astype(\"int32\")`,   if your model does binary classification   (e.g. if it uses a `sigmoid` last-layer activation).\n",
            "  warnings.warn('`model.predict_classes()` is deprecated and '\n"
          ]
        },
        {
          "output_type": "stream",
          "name": "stdout",
          "text": [
            "Accuracy:  0.9824561403508771\n",
            "Recall:  0.9787234042553191\n",
            "Precision:  0.9787234042553191\n",
            "[[66  1]\n",
            " [ 1 46]]\n"
          ]
        }
      ]
    },
    {
      "cell_type": "code",
      "source": [
        "rank8  = pd.read_excel(\"/content/cancer_dataset_U.xlsx\",sheet_name = \"Pearson_Correlation\").set_index('Attributes_Names')\n",
        "df_pearson =  df_new[rank8[:23].index]\n",
        "X_col =  df_pearson\n",
        "y = df_new['diagnosis']\n",
        "Scaler = StandardScaler()\n",
        "X_col =  Scaler.fit_transform(X_col)\n",
        "X_train, X_test, y_train, y_test = train_test_split(X_col, y, test_size=0.2, random_state=0)\n",
        "print(\"Shape of training data\",X_train.shape)\n",
        "print(\"Shape of testing data\",X_test.shape)"
      ],
      "metadata": {
        "colab": {
          "base_uri": "https://localhost:8080/"
        },
        "id": "_mpDgsuxenak",
        "outputId": "d081ce35-e929-4567-e8a6-0bc97017205f"
      },
      "execution_count": 60,
      "outputs": [
        {
          "output_type": "stream",
          "name": "stdout",
          "text": [
            "Shape of training data (455, 23)\n",
            "Shape of testing data (114, 23)\n"
          ]
        }
      ]
    },
    {
      "cell_type": "code",
      "source": [
        "rf =  RandomForestClassifier()\n",
        "rf.fit(X_train,y_train)\n",
        "y_pred_rf =  rf.predict(X_test)\n",
        "print(\"Accuracy: \",accuracy_score(y_test,y_pred_rf))\n",
        "print(\"Recall: \", recall_score(y_test,y_pred_rf))\n",
        "print(\"Precision: \", precision_score(y_test,y_pred_rf))\n",
        "print(confusion_matrix(y_test,y_pred_rf))"
      ],
      "metadata": {
        "colab": {
          "base_uri": "https://localhost:8080/"
        },
        "id": "k3h852Yaeqnx",
        "outputId": "a54286ce-9457-4336-8514-d7ed988a3b92"
      },
      "execution_count": 61,
      "outputs": [
        {
          "output_type": "stream",
          "name": "stdout",
          "text": [
            "Accuracy:  0.956140350877193\n",
            "Recall:  0.9574468085106383\n",
            "Precision:  0.9375\n",
            "[[64  3]\n",
            " [ 2 45]]\n"
          ]
        }
      ]
    },
    {
      "cell_type": "code",
      "source": [
        "svc =  SVC()\n",
        "svc.fit(X_test,y_test)\n",
        "y_pred_svc =  svc.predict(X_test)\n",
        "print(\"Accuracy: \",accuracy_score(y_test,y_pred_svc))\n",
        "print(\"Recall: \", recall_score(y_test,y_pred_svc))\n",
        "print(\"Precision: \", precision_score(y_test,y_pred_svc))\n",
        "print(confusion_matrix(y_test,y_pred_svc))"
      ],
      "metadata": {
        "colab": {
          "base_uri": "https://localhost:8080/"
        },
        "id": "QcgA0ohkesvf",
        "outputId": "202f00f6-7a51-4f2f-a9a3-56a695ee6468"
      },
      "execution_count": 62,
      "outputs": [
        {
          "output_type": "stream",
          "name": "stdout",
          "text": [
            "Accuracy:  0.9824561403508771\n",
            "Recall:  0.9574468085106383\n",
            "Precision:  1.0\n",
            "[[67  0]\n",
            " [ 2 45]]\n"
          ]
        }
      ]
    },
    {
      "cell_type": "code",
      "source": [
        "model = tf.keras.Sequential([\n",
        "    tf.keras.layers.Dense(23, activation='relu', input_shape=(23,)),\n",
        "    tf.keras.layers.BatchNormalization(),\n",
        "    tf.keras.layers.Dense(20, activation='relu'),\n",
        "    tf.keras.layers.BatchNormalization(),\n",
        "    tf.keras.layers.Dense(24, activation='relu'),\n",
        "    tf.keras.layers.Dropout(0.5),\n",
        "    tf.keras.layers.BatchNormalization(),\n",
        "    tf.keras.layers.Dense(28, activation='relu'),\n",
        "    tf.keras.layers.Dropout(0.5),\n",
        "    tf.keras.layers.Dense(1,activation='sigmoid')\n",
        "  ])\n",
        "model.compile(loss='binary_crossentropy',\n",
        "              optimizer = 'adam',\n",
        "              metrics=['accuracy'])\n",
        "model.summary()"
      ],
      "metadata": {
        "colab": {
          "base_uri": "https://localhost:8080/"
        },
        "id": "Tg3JshC0exgI",
        "outputId": "c8ec6df4-389d-4b22-f753-4b215dfab0c3"
      },
      "execution_count": 63,
      "outputs": [
        {
          "output_type": "stream",
          "name": "stdout",
          "text": [
            "Model: \"sequential_7\"\n",
            "_________________________________________________________________\n",
            "Layer (type)                 Output Shape              Param #   \n",
            "=================================================================\n",
            "dense_35 (Dense)             (None, 23)                552       \n",
            "_________________________________________________________________\n",
            "batch_normalization_21 (Batc (None, 23)                92        \n",
            "_________________________________________________________________\n",
            "dense_36 (Dense)             (None, 20)                480       \n",
            "_________________________________________________________________\n",
            "batch_normalization_22 (Batc (None, 20)                80        \n",
            "_________________________________________________________________\n",
            "dense_37 (Dense)             (None, 24)                504       \n",
            "_________________________________________________________________\n",
            "dropout_14 (Dropout)         (None, 24)                0         \n",
            "_________________________________________________________________\n",
            "batch_normalization_23 (Batc (None, 24)                96        \n",
            "_________________________________________________________________\n",
            "dense_38 (Dense)             (None, 28)                700       \n",
            "_________________________________________________________________\n",
            "dropout_15 (Dropout)         (None, 28)                0         \n",
            "_________________________________________________________________\n",
            "dense_39 (Dense)             (None, 1)                 29        \n",
            "=================================================================\n",
            "Total params: 2,533\n",
            "Trainable params: 2,399\n",
            "Non-trainable params: 134\n",
            "_________________________________________________________________\n"
          ]
        }
      ]
    },
    {
      "cell_type": "code",
      "source": [
        "h = model.fit(X_train,y_train,epochs=50,validation_data=(X_test,y_test))"
      ],
      "metadata": {
        "colab": {
          "base_uri": "https://localhost:8080/"
        },
        "id": "KuyrWIOoe1PV",
        "outputId": "39938d99-0858-4b02-d0c7-7092ebbd8316"
      },
      "execution_count": 64,
      "outputs": [
        {
          "output_type": "stream",
          "name": "stdout",
          "text": [
            "Epoch 1/50\n",
            "15/15 [==============================] - 3s 33ms/step - loss: 0.7741 - accuracy: 0.6110 - val_loss: 0.6899 - val_accuracy: 0.6228\n",
            "Epoch 2/50\n",
            "15/15 [==============================] - 0s 9ms/step - loss: 0.6939 - accuracy: 0.6681 - val_loss: 0.6488 - val_accuracy: 0.8246\n",
            "Epoch 3/50\n",
            "15/15 [==============================] - 0s 8ms/step - loss: 0.5960 - accuracy: 0.6901 - val_loss: 0.6029 - val_accuracy: 0.8947\n",
            "Epoch 4/50\n",
            "15/15 [==============================] - 0s 8ms/step - loss: 0.5764 - accuracy: 0.7055 - val_loss: 0.5558 - val_accuracy: 0.9123\n",
            "Epoch 5/50\n",
            "15/15 [==============================] - 0s 9ms/step - loss: 0.5115 - accuracy: 0.7385 - val_loss: 0.5067 - val_accuracy: 0.9474\n",
            "Epoch 6/50\n",
            "15/15 [==============================] - 0s 10ms/step - loss: 0.4505 - accuracy: 0.8000 - val_loss: 0.4505 - val_accuracy: 0.9561\n",
            "Epoch 7/50\n",
            "15/15 [==============================] - 0s 8ms/step - loss: 0.4042 - accuracy: 0.8176 - val_loss: 0.3926 - val_accuracy: 0.9561\n",
            "Epoch 8/50\n",
            "15/15 [==============================] - 0s 7ms/step - loss: 0.3960 - accuracy: 0.8242 - val_loss: 0.3473 - val_accuracy: 0.9561\n",
            "Epoch 9/50\n",
            "15/15 [==============================] - 0s 8ms/step - loss: 0.3454 - accuracy: 0.8396 - val_loss: 0.2963 - val_accuracy: 0.9561\n",
            "Epoch 10/50\n",
            "15/15 [==============================] - 0s 8ms/step - loss: 0.3375 - accuracy: 0.8484 - val_loss: 0.2519 - val_accuracy: 0.9474\n",
            "Epoch 11/50\n",
            "15/15 [==============================] - 0s 9ms/step - loss: 0.3154 - accuracy: 0.8769 - val_loss: 0.2235 - val_accuracy: 0.9561\n",
            "Epoch 12/50\n",
            "15/15 [==============================] - 0s 8ms/step - loss: 0.2849 - accuracy: 0.8681 - val_loss: 0.1988 - val_accuracy: 0.9649\n",
            "Epoch 13/50\n",
            "15/15 [==============================] - 0s 8ms/step - loss: 0.2815 - accuracy: 0.8857 - val_loss: 0.1780 - val_accuracy: 0.9649\n",
            "Epoch 14/50\n",
            "15/15 [==============================] - 0s 9ms/step - loss: 0.2765 - accuracy: 0.9165 - val_loss: 0.1571 - val_accuracy: 0.9649\n",
            "Epoch 15/50\n",
            "15/15 [==============================] - 0s 10ms/step - loss: 0.2179 - accuracy: 0.9363 - val_loss: 0.1416 - val_accuracy: 0.9649\n",
            "Epoch 16/50\n",
            "15/15 [==============================] - 0s 9ms/step - loss: 0.2268 - accuracy: 0.9275 - val_loss: 0.1293 - val_accuracy: 0.9649\n",
            "Epoch 17/50\n",
            "15/15 [==============================] - 0s 10ms/step - loss: 0.1842 - accuracy: 0.9363 - val_loss: 0.1173 - val_accuracy: 0.9737\n",
            "Epoch 18/50\n",
            "15/15 [==============================] - 0s 9ms/step - loss: 0.2012 - accuracy: 0.9451 - val_loss: 0.1075 - val_accuracy: 0.9737\n",
            "Epoch 19/50\n",
            "15/15 [==============================] - 0s 9ms/step - loss: 0.2152 - accuracy: 0.9187 - val_loss: 0.1000 - val_accuracy: 0.9737\n",
            "Epoch 20/50\n",
            "15/15 [==============================] - 0s 9ms/step - loss: 0.1806 - accuracy: 0.9451 - val_loss: 0.0946 - val_accuracy: 0.9737\n",
            "Epoch 21/50\n",
            "15/15 [==============================] - 0s 8ms/step - loss: 0.2059 - accuracy: 0.9385 - val_loss: 0.0915 - val_accuracy: 0.9737\n",
            "Epoch 22/50\n",
            "15/15 [==============================] - 0s 9ms/step - loss: 0.2042 - accuracy: 0.9319 - val_loss: 0.0932 - val_accuracy: 0.9737\n",
            "Epoch 23/50\n",
            "15/15 [==============================] - 0s 7ms/step - loss: 0.1461 - accuracy: 0.9495 - val_loss: 0.0884 - val_accuracy: 0.9737\n",
            "Epoch 24/50\n",
            "15/15 [==============================] - 0s 6ms/step - loss: 0.1808 - accuracy: 0.9429 - val_loss: 0.0848 - val_accuracy: 0.9825\n",
            "Epoch 25/50\n",
            "15/15 [==============================] - 0s 5ms/step - loss: 0.1465 - accuracy: 0.9538 - val_loss: 0.0809 - val_accuracy: 0.9912\n",
            "Epoch 26/50\n",
            "15/15 [==============================] - 0s 7ms/step - loss: 0.1321 - accuracy: 0.9604 - val_loss: 0.0760 - val_accuracy: 0.9825\n",
            "Epoch 27/50\n",
            "15/15 [==============================] - 0s 8ms/step - loss: 0.1219 - accuracy: 0.9626 - val_loss: 0.0767 - val_accuracy: 0.9737\n",
            "Epoch 28/50\n",
            "15/15 [==============================] - 0s 8ms/step - loss: 0.1566 - accuracy: 0.9495 - val_loss: 0.0780 - val_accuracy: 0.9737\n",
            "Epoch 29/50\n",
            "15/15 [==============================] - 0s 7ms/step - loss: 0.1216 - accuracy: 0.9560 - val_loss: 0.0745 - val_accuracy: 0.9649\n",
            "Epoch 30/50\n",
            "15/15 [==============================] - 0s 8ms/step - loss: 0.1255 - accuracy: 0.9670 - val_loss: 0.0721 - val_accuracy: 0.9737\n",
            "Epoch 31/50\n",
            "15/15 [==============================] - 0s 10ms/step - loss: 0.1418 - accuracy: 0.9538 - val_loss: 0.0778 - val_accuracy: 0.9649\n",
            "Epoch 32/50\n",
            "15/15 [==============================] - 0s 9ms/step - loss: 0.1097 - accuracy: 0.9670 - val_loss: 0.0791 - val_accuracy: 0.9649\n",
            "Epoch 33/50\n",
            "15/15 [==============================] - 0s 9ms/step - loss: 0.1607 - accuracy: 0.9429 - val_loss: 0.0774 - val_accuracy: 0.9649\n",
            "Epoch 34/50\n",
            "15/15 [==============================] - 0s 9ms/step - loss: 0.1329 - accuracy: 0.9473 - val_loss: 0.0785 - val_accuracy: 0.9649\n",
            "Epoch 35/50\n",
            "15/15 [==============================] - 0s 9ms/step - loss: 0.1356 - accuracy: 0.9560 - val_loss: 0.0742 - val_accuracy: 0.9649\n",
            "Epoch 36/50\n",
            "15/15 [==============================] - 0s 9ms/step - loss: 0.1538 - accuracy: 0.9582 - val_loss: 0.0744 - val_accuracy: 0.9649\n",
            "Epoch 37/50\n",
            "15/15 [==============================] - 0s 14ms/step - loss: 0.1063 - accuracy: 0.9736 - val_loss: 0.0766 - val_accuracy: 0.9561\n",
            "Epoch 38/50\n",
            "15/15 [==============================] - 0s 10ms/step - loss: 0.1055 - accuracy: 0.9582 - val_loss: 0.0775 - val_accuracy: 0.9649\n",
            "Epoch 39/50\n",
            "15/15 [==============================] - 0s 13ms/step - loss: 0.1134 - accuracy: 0.9582 - val_loss: 0.0773 - val_accuracy: 0.9649\n",
            "Epoch 40/50\n",
            "15/15 [==============================] - 0s 9ms/step - loss: 0.1139 - accuracy: 0.9648 - val_loss: 0.0777 - val_accuracy: 0.9649\n",
            "Epoch 41/50\n",
            "15/15 [==============================] - 0s 16ms/step - loss: 0.0828 - accuracy: 0.9824 - val_loss: 0.0777 - val_accuracy: 0.9561\n",
            "Epoch 42/50\n",
            "15/15 [==============================] - 0s 12ms/step - loss: 0.1140 - accuracy: 0.9560 - val_loss: 0.0758 - val_accuracy: 0.9737\n",
            "Epoch 43/50\n",
            "15/15 [==============================] - 0s 15ms/step - loss: 0.1081 - accuracy: 0.9714 - val_loss: 0.0770 - val_accuracy: 0.9649\n",
            "Epoch 44/50\n",
            "15/15 [==============================] - 0s 13ms/step - loss: 0.1445 - accuracy: 0.9560 - val_loss: 0.0756 - val_accuracy: 0.9649\n",
            "Epoch 45/50\n",
            "15/15 [==============================] - 0s 11ms/step - loss: 0.1309 - accuracy: 0.9538 - val_loss: 0.0766 - val_accuracy: 0.9474\n",
            "Epoch 46/50\n",
            "15/15 [==============================] - 0s 10ms/step - loss: 0.1721 - accuracy: 0.9363 - val_loss: 0.0769 - val_accuracy: 0.9561\n",
            "Epoch 47/50\n",
            "15/15 [==============================] - 0s 8ms/step - loss: 0.1129 - accuracy: 0.9670 - val_loss: 0.0788 - val_accuracy: 0.9649\n",
            "Epoch 48/50\n",
            "15/15 [==============================] - 0s 14ms/step - loss: 0.1002 - accuracy: 0.9736 - val_loss: 0.0801 - val_accuracy: 0.9561\n",
            "Epoch 49/50\n",
            "15/15 [==============================] - 0s 9ms/step - loss: 0.0940 - accuracy: 0.9692 - val_loss: 0.0795 - val_accuracy: 0.9649\n",
            "Epoch 50/50\n",
            "15/15 [==============================] - 0s 10ms/step - loss: 0.1082 - accuracy: 0.9648 - val_loss: 0.0804 - val_accuracy: 0.9649\n"
          ]
        }
      ]
    },
    {
      "cell_type": "code",
      "source": [
        "plt.plot(h.history['accuracy'], label = 'Accuracy for Train set')\n",
        "plt.plot(h.history['val_accuracy'], label = 'Accuracy for Test Set')\n",
        "plt.title('Accuracy Graph for ANN')\n",
        "plt.ylabel('Accuracy')\n",
        "plt.xlabel('epochs')\n",
        "plt.legend()"
      ],
      "metadata": {
        "colab": {
          "base_uri": "https://localhost:8080/",
          "height": 312
        },
        "id": "accLvRnEe4ZH",
        "outputId": "3fd309d9-1171-4807-9fce-ac68b74c3a85"
      },
      "execution_count": 65,
      "outputs": [
        {
          "output_type": "execute_result",
          "data": {
            "text/plain": [
              "<matplotlib.legend.Legend at 0x7f9b3c5ff590>"
            ]
          },
          "metadata": {},
          "execution_count": 65
        },
        {
          "output_type": "display_data",
          "data": {
            "text/plain": [
              "<Figure size 432x288 with 1 Axes>"
            ],
            "image/png": "[encoded data removed]"
          },
          "metadata": {
            "needs_background": "light"
          }
        }
      ]
    },
    {
      "cell_type": "code",
      "source": [
        "plt.plot(h.history['loss'], label = 'loss for Train set')\n",
        "plt.plot(h.history['val_loss'], label = 'loss for Test Set')\n",
        "plt.title('loss Graph for ANN')\n",
        "plt.ylabel('loss')\n",
        "plt.xlabel('epochs')\n",
        "plt.legend()"
      ],
      "metadata": {
        "colab": {
          "base_uri": "https://localhost:8080/",
          "height": 312
        },
        "id": "iMwkQASwe7RA",
        "outputId": "ff88e06c-ff74-4e96-bbf5-349c10996e6b"
      },
      "execution_count": 66,
      "outputs": [
        {
          "output_type": "execute_result",
          "data": {
            "text/plain": [
              "<matplotlib.legend.Legend at 0x7f9b38a4ba90>"
            ]
          },
          "metadata": {},
          "execution_count": 66
        },
        {
          "output_type": "display_data",
          "data": {
            "text/plain": [
              "<Figure size 432x288 with 1 Axes>"
            ],
            "image/png": "[encoded data removed]"
          },
          "metadata": {
            "needs_background": "light"
          }
        }
      ]
    },
    {
      "cell_type": "code",
      "source": [
        "y_pred_ann = model.predict_classes(X_test)\n",
        "print(\"Accuracy: \",accuracy_score(y_test,y_pred_ann))\n",
        "print(\"Recall: \", recall_score(y_test,y_pred_ann))\n",
        "print(\"Precision: \", precision_score(y_test,y_pred_ann))\n",
        "print(confusion_matrix(y_test,y_pred_ann))"
      ],
      "metadata": {
        "colab": {
          "base_uri": "https://localhost:8080/"
        },
        "id": "kyrSnXqGe9R0",
        "outputId": "0cc15ace-ab7a-4f32-990e-202914edb850"
      },
      "execution_count": 67,
      "outputs": [
        {
          "output_type": "stream",
          "name": "stderr",
          "text": [
            "/usr/local/lib/python3.7/dist-packages/tensorflow/python/keras/engine/sequential.py:455: UserWarning: `model.predict_classes()` is deprecated and will be removed after 2021-01-01. Please use instead:* `np.argmax(model.predict(x), axis=-1)`,   if your model does multi-class classification   (e.g. if it uses a `softmax` last-layer activation).* `(model.predict(x) > 0.5).astype(\"int32\")`,   if your model does binary classification   (e.g. if it uses a `sigmoid` last-layer activation).\n",
            "  warnings.warn('`model.predict_classes()` is deprecated and '\n"
          ]
        },
        {
          "output_type": "stream",
          "name": "stdout",
          "text": [
            "Accuracy:  0.9649122807017544\n",
            "Recall:  0.9574468085106383\n",
            "Precision:  0.9574468085106383\n",
            "[[65  2]\n",
            " [ 2 45]]\n"
          ]
        }
      ]
    },
    {
      "cell_type": "code",
      "source": [
        "OWA =  rank8  = pd.read_excel(\"/content/cancer_dataset_U.xlsx\",sheet_name = \"OWA_method\").set_index('Attributes_Name')"
      ],
      "metadata": {
        "id": "bxvhhur9fA3W"
      },
      "execution_count": 68,
      "outputs": []
    },
    {
      "cell_type": "code",
      "source": [
        "df_owa  = df_new[OWA[:23].index]"
      ],
      "metadata": {
        "id": "CTBpcKLwfHay"
      },
      "execution_count": 69,
      "outputs": []
    },
    {
      "cell_type": "code",
      "source": [
        "X_col =  df_owa\n",
        "y = df_new['diagnosis']\n",
        "Scaler = StandardScaler()\n",
        "X_col =  Scaler.fit_transform(X_col)\n",
        "X_train, X_test, y_train, y_test = train_test_split(X_col, y, test_size=0.2, random_state=0)\n",
        "print(\"Shape of training data\",X_train.shape)\n",
        "print(\"Shape of testing data\",X_test.shape)"
      ],
      "metadata": {
        "colab": {
          "base_uri": "https://localhost:8080/"
        },
        "id": "shc4oK8jfKv3",
        "outputId": "dd98f078-31d0-4dc5-c472-f32404b5ae57"
      },
      "execution_count": 70,
      "outputs": [
        {
          "output_type": "stream",
          "name": "stdout",
          "text": [
            "Shape of training data (455, 23)\n",
            "Shape of testing data (114, 23)\n"
          ]
        }
      ]
    },
    {
      "cell_type": "code",
      "source": [
        "rf =  RandomForestClassifier()\n",
        "rf.fit(X_train,y_train)\n",
        "pred =  rf.predict(X_test)\n",
        "print(\"Accuracy: \",accuracy_score(y_test,pred))\n",
        "print(\"Recall: \", recall_score(y_test,pred))\n",
        "print(\"Precision: \", precision_score(y_test,pred))\n",
        "print(confusion_matrix(y_test,pred))"
      ],
      "metadata": {
        "colab": {
          "base_uri": "https://localhost:8080/"
        },
        "id": "7bDdMcCDfPWb",
        "outputId": "00451cfe-19c7-4b13-8f10-e0622c6d67bf"
      },
      "execution_count": 72,
      "outputs": [
        {
          "output_type": "stream",
          "name": "stdout",
          "text": [
            "Accuracy:  0.956140350877193\n",
            "Recall:  0.9574468085106383\n",
            "Precision:  0.9375\n",
            "[[64  3]\n",
            " [ 2 45]]\n"
          ]
        }
      ]
    },
    {
      "cell_type": "code",
      "source": [
        "svc =  SVC()\n",
        "svc.fit(X_test,y_test)\n",
        "y_pred =  svc.predict(X_test)\n",
        "print(\"Accuracy: \",accuracy_score(y_test,y_pred))\n",
        "print(\"Recall: \", recall_score(y_test,y_pred))\n",
        "print(\"Precision: \", precision_score(y_test,y_pred))\n",
        "print(confusion_matrix(y_test,y_pred))"
      ],
      "metadata": {
        "colab": {
          "base_uri": "https://localhost:8080/"
        },
        "id": "xf85JcRofRzD",
        "outputId": "46ee1d53-54e3-4251-c30d-e154f4d2f297"
      },
      "execution_count": 73,
      "outputs": [
        {
          "output_type": "stream",
          "name": "stdout",
          "text": [
            "Accuracy:  0.9824561403508771\n",
            "Recall:  0.9574468085106383\n",
            "Precision:  1.0\n",
            "[[67  0]\n",
            " [ 2 45]]\n"
          ]
        }
      ]
    },
    {
      "cell_type": "code",
      "source": [
        "model = tf.keras.Sequential([\n",
        "    tf.keras.layers.Dense(23, activation='relu', input_shape=(23,)),\n",
        "    tf.keras.layers.BatchNormalization(),\n",
        "    tf.keras.layers.Dense(20, activation='relu'),\n",
        "    tf.keras.layers.BatchNormalization(),\n",
        "    tf.keras.layers.Dense(24, activation='relu'),\n",
        "    tf.keras.layers.Dropout(0.5),\n",
        "    tf.keras.layers.BatchNormalization(),\n",
        "    tf.keras.layers.Dense(28, activation='relu'),\n",
        "    tf.keras.layers.Dropout(0.5),\n",
        "    tf.keras.layers.Dense(1,activation='sigmoid')\n",
        "  ])\n",
        "model.compile(loss='binary_crossentropy',\n",
        "              optimizer = 'adam',\n",
        "              metrics=['accuracy'])\n",
        "model.summary()"
      ],
      "metadata": {
        "colab": {
          "base_uri": "https://localhost:8080/"
        },
        "id": "F6RekhJLfUWF",
        "outputId": "0b850e12-cf7f-42ce-8029-5ca97cf3e04b"
      },
      "execution_count": 74,
      "outputs": [
        {
          "output_type": "stream",
          "name": "stdout",
          "text": [
            "Model: \"sequential_8\"\n",
            "_________________________________________________________________\n",
            "Layer (type)                 Output Shape              Param #   \n",
            "=================================================================\n",
            "dense_40 (Dense)             (None, 23)                552       \n",
            "_________________________________________________________________\n",
            "batch_normalization_24 (Batc (None, 23)                92        \n",
            "_________________________________________________________________\n",
            "dense_41 (Dense)             (None, 20)                480       \n",
            "_________________________________________________________________\n",
            "batch_normalization_25 (Batc (None, 20)                80        \n",
            "_________________________________________________________________\n",
            "dense_42 (Dense)             (None, 24)                504       \n",
            "_________________________________________________________________\n",
            "dropout_16 (Dropout)         (None, 24)                0         \n",
            "_________________________________________________________________\n",
            "batch_normalization_26 (Batc (None, 24)                96        \n",
            "_________________________________________________________________\n",
            "dense_43 (Dense)             (None, 28)                700       \n",
            "_________________________________________________________________\n",
            "dropout_17 (Dropout)         (None, 28)                0         \n",
            "_________________________________________________________________\n",
            "dense_44 (Dense)             (None, 1)                 29        \n",
            "=================================================================\n",
            "Total params: 2,533\n",
            "Trainable params: 2,399\n",
            "Non-trainable params: 134\n",
            "_________________________________________________________________\n"
          ]
        }
      ]
    },
    {
      "cell_type": "code",
      "source": [
        "h = model.fit(X_train,y_train,epochs=50,validation_data=(X_test,y_test))"
      ],
      "metadata": {
        "colab": {
          "base_uri": "https://localhost:8080/"
        },
        "id": "zjso3SeofYKF",
        "outputId": "80a3954e-9b2e-4ba6-870a-f106d30160ef"
      },
      "execution_count": 75,
      "outputs": [
        {
          "output_type": "stream",
          "name": "stdout",
          "text": [
            "Epoch 1/50\n",
            "15/15 [==============================] - 3s 42ms/step - loss: 0.7335 - accuracy: 0.5780 - val_loss: 0.6292 - val_accuracy: 0.5965\n",
            "Epoch 2/50\n",
            "15/15 [==============================] - 0s 21ms/step - loss: 0.6631 - accuracy: 0.6022 - val_loss: 0.6085 - val_accuracy: 0.6316\n",
            "Epoch 3/50\n",
            "15/15 [==============================] - 0s 15ms/step - loss: 0.5935 - accuracy: 0.6615 - val_loss: 0.5787 - val_accuracy: 0.6579\n",
            "Epoch 4/50\n",
            "15/15 [==============================] - 0s 13ms/step - loss: 0.5819 - accuracy: 0.6879 - val_loss: 0.5434 - val_accuracy: 0.7895\n",
            "Epoch 5/50\n",
            "15/15 [==============================] - 0s 16ms/step - loss: 0.5580 - accuracy: 0.7253 - val_loss: 0.5170 - val_accuracy: 0.8333\n",
            "Epoch 6/50\n",
            "15/15 [==============================] - 0s 15ms/step - loss: 0.5411 - accuracy: 0.7451 - val_loss: 0.4860 - val_accuracy: 0.9123\n",
            "Epoch 7/50\n",
            "15/15 [==============================] - 0s 17ms/step - loss: 0.4951 - accuracy: 0.7604 - val_loss: 0.4567 - val_accuracy: 0.9298\n",
            "Epoch 8/50\n",
            "15/15 [==============================] - 0s 8ms/step - loss: 0.4435 - accuracy: 0.8066 - val_loss: 0.4296 - val_accuracy: 0.9474\n",
            "Epoch 9/50\n",
            "15/15 [==============================] - 0s 5ms/step - loss: 0.4375 - accuracy: 0.8000 - val_loss: 0.4041 - val_accuracy: 0.9474\n",
            "Epoch 10/50\n",
            "15/15 [==============================] - 0s 6ms/step - loss: 0.4081 - accuracy: 0.8022 - val_loss: 0.3757 - val_accuracy: 0.9561\n",
            "Epoch 11/50\n",
            "15/15 [==============================] - 0s 6ms/step - loss: 0.3991 - accuracy: 0.8022 - val_loss: 0.3441 - val_accuracy: 0.9298\n",
            "Epoch 12/50\n",
            "15/15 [==============================] - 0s 5ms/step - loss: 0.3816 - accuracy: 0.8220 - val_loss: 0.3187 - val_accuracy: 0.9298\n",
            "Epoch 13/50\n",
            "15/15 [==============================] - 0s 6ms/step - loss: 0.3736 - accuracy: 0.8484 - val_loss: 0.2933 - val_accuracy: 0.9298\n",
            "Epoch 14/50\n",
            "15/15 [==============================] - 0s 4ms/step - loss: 0.3185 - accuracy: 0.8835 - val_loss: 0.2768 - val_accuracy: 0.9386\n",
            "Epoch 15/50\n",
            "15/15 [==============================] - 0s 4ms/step - loss: 0.3030 - accuracy: 0.8835 - val_loss: 0.2529 - val_accuracy: 0.9386\n",
            "Epoch 16/50\n",
            "15/15 [==============================] - 0s 5ms/step - loss: 0.3280 - accuracy: 0.8901 - val_loss: 0.2328 - val_accuracy: 0.9474\n",
            "Epoch 17/50\n",
            "15/15 [==============================] - 0s 5ms/step - loss: 0.2899 - accuracy: 0.8923 - val_loss: 0.2165 - val_accuracy: 0.9386\n",
            "Epoch 18/50\n",
            "15/15 [==============================] - 0s 5ms/step - loss: 0.3054 - accuracy: 0.8835 - val_loss: 0.1958 - val_accuracy: 0.9386\n",
            "Epoch 19/50\n",
            "15/15 [==============================] - 0s 4ms/step - loss: 0.2628 - accuracy: 0.9143 - val_loss: 0.1830 - val_accuracy: 0.9386\n",
            "Epoch 20/50\n",
            "15/15 [==============================] - 0s 6ms/step - loss: 0.2338 - accuracy: 0.9231 - val_loss: 0.1716 - val_accuracy: 0.9474\n",
            "Epoch 21/50\n",
            "15/15 [==============================] - 0s 7ms/step - loss: 0.2350 - accuracy: 0.9187 - val_loss: 0.1590 - val_accuracy: 0.9474\n",
            "Epoch 22/50\n",
            "15/15 [==============================] - 0s 7ms/step - loss: 0.2381 - accuracy: 0.9187 - val_loss: 0.1500 - val_accuracy: 0.9474\n",
            "Epoch 23/50\n",
            "15/15 [==============================] - 0s 11ms/step - loss: 0.2104 - accuracy: 0.9275 - val_loss: 0.1426 - val_accuracy: 0.9474\n",
            "Epoch 24/50\n",
            "15/15 [==============================] - 0s 8ms/step - loss: 0.1993 - accuracy: 0.9341 - val_loss: 0.1332 - val_accuracy: 0.9474\n",
            "Epoch 25/50\n",
            "15/15 [==============================] - 0s 8ms/step - loss: 0.1908 - accuracy: 0.9363 - val_loss: 0.1260 - val_accuracy: 0.9474\n",
            "Epoch 26/50\n",
            "15/15 [==============================] - 0s 12ms/step - loss: 0.2361 - accuracy: 0.9099 - val_loss: 0.1201 - val_accuracy: 0.9474\n",
            "Epoch 27/50\n",
            "15/15 [==============================] - 0s 13ms/step - loss: 0.1518 - accuracy: 0.9538 - val_loss: 0.1105 - val_accuracy: 0.9474\n",
            "Epoch 28/50\n",
            "15/15 [==============================] - 0s 12ms/step - loss: 0.1634 - accuracy: 0.9516 - val_loss: 0.1051 - val_accuracy: 0.9561\n",
            "Epoch 29/50\n",
            "15/15 [==============================] - 0s 15ms/step - loss: 0.2043 - accuracy: 0.9297 - val_loss: 0.1014 - val_accuracy: 0.9649\n",
            "Epoch 30/50\n",
            "15/15 [==============================] - 0s 17ms/step - loss: 0.1945 - accuracy: 0.9297 - val_loss: 0.0986 - val_accuracy: 0.9561\n",
            "Epoch 31/50\n",
            "15/15 [==============================] - 0s 15ms/step - loss: 0.1713 - accuracy: 0.9473 - val_loss: 0.1012 - val_accuracy: 0.9474\n",
            "Epoch 32/50\n",
            "15/15 [==============================] - 0s 14ms/step - loss: 0.1962 - accuracy: 0.9275 - val_loss: 0.0954 - val_accuracy: 0.9561\n",
            "Epoch 33/50\n",
            "15/15 [==============================] - 0s 12ms/step - loss: 0.1704 - accuracy: 0.9407 - val_loss: 0.0958 - val_accuracy: 0.9649\n",
            "Epoch 34/50\n",
            "15/15 [==============================] - 0s 15ms/step - loss: 0.1494 - accuracy: 0.9560 - val_loss: 0.0931 - val_accuracy: 0.9649\n",
            "Epoch 35/50\n",
            "15/15 [==============================] - 0s 11ms/step - loss: 0.1380 - accuracy: 0.9582 - val_loss: 0.0911 - val_accuracy: 0.9737\n",
            "Epoch 36/50\n",
            "15/15 [==============================] - 0s 13ms/step - loss: 0.1637 - accuracy: 0.9516 - val_loss: 0.0920 - val_accuracy: 0.9561\n",
            "Epoch 37/50\n",
            "15/15 [==============================] - 0s 15ms/step - loss: 0.1475 - accuracy: 0.9451 - val_loss: 0.0910 - val_accuracy: 0.9561\n",
            "Epoch 38/50\n",
            "15/15 [==============================] - 0s 12ms/step - loss: 0.1349 - accuracy: 0.9648 - val_loss: 0.0868 - val_accuracy: 0.9649\n",
            "Epoch 39/50\n",
            "15/15 [==============================] - 0s 12ms/step - loss: 0.1319 - accuracy: 0.9714 - val_loss: 0.0887 - val_accuracy: 0.9561\n",
            "Epoch 40/50\n",
            "15/15 [==============================] - 0s 10ms/step - loss: 0.1425 - accuracy: 0.9582 - val_loss: 0.0873 - val_accuracy: 0.9561\n",
            "Epoch 41/50\n",
            "15/15 [==============================] - 0s 12ms/step - loss: 0.1140 - accuracy: 0.9604 - val_loss: 0.0839 - val_accuracy: 0.9561\n",
            "Epoch 42/50\n",
            "15/15 [==============================] - 0s 11ms/step - loss: 0.1727 - accuracy: 0.9385 - val_loss: 0.0882 - val_accuracy: 0.9561\n",
            "Epoch 43/50\n",
            "15/15 [==============================] - 0s 10ms/step - loss: 0.1473 - accuracy: 0.9582 - val_loss: 0.0931 - val_accuracy: 0.9561\n",
            "Epoch 44/50\n",
            "15/15 [==============================] - 0s 14ms/step - loss: 0.1337 - accuracy: 0.9714 - val_loss: 0.0933 - val_accuracy: 0.9561\n",
            "Epoch 45/50\n",
            "15/15 [==============================] - 0s 10ms/step - loss: 0.1485 - accuracy: 0.9473 - val_loss: 0.0984 - val_accuracy: 0.9649\n",
            "Epoch 46/50\n",
            "15/15 [==============================] - 0s 10ms/step - loss: 0.1591 - accuracy: 0.9560 - val_loss: 0.0981 - val_accuracy: 0.9649\n",
            "Epoch 47/50\n",
            "15/15 [==============================] - 0s 11ms/step - loss: 0.1251 - accuracy: 0.9714 - val_loss: 0.0947 - val_accuracy: 0.9561\n",
            "Epoch 48/50\n",
            "15/15 [==============================] - 0s 10ms/step - loss: 0.1383 - accuracy: 0.9516 - val_loss: 0.0857 - val_accuracy: 0.9561\n",
            "Epoch 49/50\n",
            "15/15 [==============================] - 0s 11ms/step - loss: 0.0937 - accuracy: 0.9714 - val_loss: 0.0842 - val_accuracy: 0.9649\n",
            "Epoch 50/50\n",
            "15/15 [==============================] - 0s 9ms/step - loss: 0.1484 - accuracy: 0.9626 - val_loss: 0.0850 - val_accuracy: 0.9561\n"
          ]
        }
      ]
    },
    {
      "cell_type": "code",
      "source": [
        "plt.plot(h.history['accuracy'], label = 'Accuracy for Train set')\n",
        "plt.plot(h.history['val_accuracy'], label = 'Accuracy for Test Set')\n",
        "plt.title('Accuracy Graph for ANN')\n",
        "plt.ylabel('Accuracy')\n",
        "plt.xlabel('epochs')\n",
        "plt.legend()"
      ],
      "metadata": {
        "colab": {
          "base_uri": "https://localhost:8080/",
          "height": 312
        },
        "id": "moXUFnGSfbH9",
        "outputId": "8f706aba-3cee-4aca-9840-b001d36b4149"
      },
      "execution_count": 76,
      "outputs": [
        {
          "output_type": "execute_result",
          "data": {
            "text/plain": [
              "<matplotlib.legend.Legend at 0x7f9b38858dd0>"
            ]
          },
          "metadata": {},
          "execution_count": 76
        },
        {
          "output_type": "display_data",
          "data": {
            "text/plain": [
              "<Figure size 432x288 with 1 Axes>"
            ],
            "image/png": "[encoded data removed]"
          },
          "metadata": {
            "needs_background": "light"
          }
        }
      ]
    },
    {
      "cell_type": "code",
      "source": [
        "plt.plot(h.history['loss'], label = 'loss for Train set')\n",
        "plt.plot(h.history['val_loss'], label = 'loss for Test Set')\n",
        "plt.title('loss Graph for ANN')\n",
        "plt.ylabel('loss')\n",
        "plt.xlabel('epochs')\n",
        "plt.legend()"
      ],
      "metadata": {
        "colab": {
          "base_uri": "https://localhost:8080/",
          "height": 312
        },
        "id": "Cxm15c0Off-D",
        "outputId": "e1bc9cc7-f5f4-4a1d-dddb-f18e8ef55d5e"
      },
      "execution_count": 77,
      "outputs": [
        {
          "output_type": "execute_result",
          "data": {
            "text/plain": [
              "<matplotlib.legend.Legend at 0x7f9b3676f190>"
            ]
          },
          "metadata": {},
          "execution_count": 77
        },
        {
          "output_type": "display_data",
          "data": {
            "text/plain": [
              "<Figure size 432x288 with 1 Axes>"
            ],
            "image/png": "[encoded data removed]"
          },
          "metadata": {
            "needs_background": "light"
          }
        }
      ]
    },
    {
      "cell_type": "code",
      "source": [
        "y_pred_ann_owa = model.predict_classes(X_test)\n",
        "print(\"Accuracy: \",accuracy_score(y_test,y_pred_ann_owa))\n",
        "print(\"Recall: \", recall_score(y_test,y_pred_ann_owa))\n",
        "print(\"Precision: \", precision_score(y_test,y_pred_ann_owa))\n",
        "print(confusion_matrix(y_test,y_pred_ann_owa))"
      ],
      "metadata": {
        "colab": {
          "base_uri": "https://localhost:8080/"
        },
        "id": "Z23_RKe9fhuQ",
        "outputId": "a43a8bc9-4ce4-455a-8dd3-294333735c65"
      },
      "execution_count": 79,
      "outputs": [
        {
          "output_type": "stream",
          "name": "stdout",
          "text": [
            "Accuracy:  0.956140350877193\n",
            "Recall:  0.9574468085106383\n",
            "Precision:  0.9375\n",
            "[[64  3]\n",
            " [ 2 45]]\n"
          ]
        },
        {
          "output_type": "stream",
          "name": "stderr",
          "text": [
            "/usr/local/lib/python3.7/dist-packages/tensorflow/python/keras/engine/sequential.py:455: UserWarning: `model.predict_classes()` is deprecated and will be removed after 2021-01-01. Please use instead:* `np.argmax(model.predict(x), axis=-1)`,   if your model does multi-class classification   (e.g. if it uses a `softmax` last-layer activation).* `(model.predict(x) > 0.5).astype(\"int32\")`,   if your model does binary classification   (e.g. if it uses a `sigmoid` last-layer activation).\n",
            "  warnings.warn('`model.predict_classes()` is deprecated and '\n"
          ]
        }
      ]
    },
    {
      "cell_type": "code",
      "source": [
        ""
      ],
      "metadata": {
        "id": "3EvAuntxfkfl"
      },
      "execution_count": null,
      "outputs": []
    }
  ]
}