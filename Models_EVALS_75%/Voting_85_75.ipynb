{
  "nbformat": 4,
  "nbformat_minor": 0,
  "metadata": {
    "colab": {
      "name": "Voting_85_75.ipynb",
      "provenance": [],
      "authorship_tag": "ABX9TyP7aueZjGNP/28Ad1iK9CRm",
      "include_colab_link": true
    },
    "kernelspec": {
      "name": "python3",
      "display_name": "Python 3"
    },
    "language_info": {
      "name": "python"
    }
  },
  "cells": [
    {
      "cell_type": "markdown",
      "metadata": {
        "id": "view-in-github",
        "colab_type": "text"
      },
      "source": [
        "<a href=\"https://colab.research.google.com/github/Noob919/Feature_selection/blob/main/Models_EVALS_75%25/Voting_85_75.ipynb\" target=\"_parent\"><img src=\"https://colab.research.google.com/assets/colab-badge.svg\" alt=\"Open In Colab\"/></a>"
      ]
    },
    {
      "cell_type": "code",
      "execution_count": 1,
      "metadata": {
        "colab": {
          "base_uri": "https://localhost:8080/"
        },
        "id": "Vq9u-qCiuHaP",
        "outputId": "945e85ab-ebdf-41c9-c789-af0ec9547ee7"
      },
      "outputs": [
        {
          "output_type": "stream",
          "name": "stdout",
          "text": [
            "Found existing installation: tensorflow 2.8.2+zzzcolab20220527125636\n",
            "Uninstalling tensorflow-2.8.2+zzzcolab20220527125636:\n",
            "  Would remove:\n",
            "    /usr/local/bin/estimator_ckpt_converter\n",
            "    /usr/local/bin/import_pb_to_tensorboard\n",
            "    /usr/local/bin/saved_model_cli\n",
            "    /usr/local/bin/tensorboard\n",
            "    /usr/local/bin/tf_upgrade_v2\n",
            "    /usr/local/bin/tflite_convert\n",
            "    /usr/local/bin/toco\n",
            "    /usr/local/bin/toco_from_protos\n",
            "    /usr/local/lib/python3.7/dist-packages/tensorflow-2.8.2+zzzcolab20220527125636.dist-info/*\n",
            "    /usr/local/lib/python3.7/dist-packages/tensorflow/*\n",
            "Proceed (y/n)? y\n",
            "  Successfully uninstalled tensorflow-2.8.2+zzzcolab20220527125636\n"
          ]
        }
      ],
      "source": [
        "!pip uninstall tensorflow"
      ]
    },
    {
      "cell_type": "code",
      "source": [
        "!pip install tensorflow==2.5"
      ],
      "metadata": {
        "colab": {
          "base_uri": "https://localhost:8080/",
          "height": 1000
        },
        "id": "bzaFuAl_uK5Q",
        "outputId": "142d88ab-b193-4625-fa97-c788c3708c06"
      },
      "execution_count": 2,
      "outputs": [
        {
          "output_type": "stream",
          "name": "stdout",
          "text": [
            "Looking in indexes: https://pypi.org/simple, https://us-python.pkg.dev/colab-wheels/public/simple/\n",
            "Collecting tensorflow==2.5\n",
            "  Downloading tensorflow-2.5.0-cp37-cp37m-manylinux2010_x86_64.whl (454.3 MB)\n",
            "\u001b[K     |████████████████████████████████| 454.3 MB 14 kB/s \n",
            "\u001b[?25hCollecting keras-nightly~=2.5.0.dev\n",
            "  Downloading keras_nightly-2.5.0.dev2021032900-py2.py3-none-any.whl (1.2 MB)\n",
            "\u001b[K     |████████████████████████████████| 1.2 MB 42.5 MB/s \n",
            "\u001b[?25hRequirement already satisfied: six~=1.15.0 in /usr/local/lib/python3.7/dist-packages (from tensorflow==2.5) (1.15.0)\n",
            "Collecting flatbuffers~=1.12.0\n",
            "  Downloading flatbuffers-1.12-py2.py3-none-any.whl (15 kB)\n",
            "Requirement already satisfied: protobuf>=3.9.2 in /usr/local/lib/python3.7/dist-packages (from tensorflow==2.5) (3.17.3)\n",
            "Collecting typing-extensions~=3.7.4\n",
            "  Downloading typing_extensions-3.7.4.3-py3-none-any.whl (22 kB)\n",
            "Requirement already satisfied: h5py~=3.1.0 in /usr/local/lib/python3.7/dist-packages (from tensorflow==2.5) (3.1.0)\n",
            "Requirement already satisfied: opt-einsum~=3.3.0 in /usr/local/lib/python3.7/dist-packages (from tensorflow==2.5) (3.3.0)\n",
            "Requirement already satisfied: astunparse~=1.6.3 in /usr/local/lib/python3.7/dist-packages (from tensorflow==2.5) (1.6.3)\n",
            "Requirement already satisfied: termcolor~=1.1.0 in /usr/local/lib/python3.7/dist-packages (from tensorflow==2.5) (1.1.0)\n",
            "Collecting gast==0.4.0\n",
            "  Downloading gast-0.4.0-py3-none-any.whl (9.8 kB)\n",
            "Collecting tensorflow-estimator<2.6.0,>=2.5.0rc0\n",
            "  Downloading tensorflow_estimator-2.5.0-py2.py3-none-any.whl (462 kB)\n",
            "\u001b[K     |████████████████████████████████| 462 kB 14.1 MB/s \n",
            "\u001b[?25hRequirement already satisfied: google-pasta~=0.2 in /usr/local/lib/python3.7/dist-packages (from tensorflow==2.5) (0.2.0)\n",
            "Collecting numpy~=1.19.2\n",
            "  Downloading numpy-1.19.5-cp37-cp37m-manylinux2010_x86_64.whl (14.8 MB)\n",
            "\u001b[K     |████████████████████████████████| 14.8 MB 471 kB/s \n",
            "\u001b[?25hCollecting grpcio~=1.34.0\n",
            "  Downloading grpcio-1.34.1-cp37-cp37m-manylinux2014_x86_64.whl (4.0 MB)\n",
            "\u001b[K     |████████████████████████████████| 4.0 MB 43.9 MB/s \n",
            "\u001b[?25hCollecting absl-py~=0.10\n",
            "  Downloading absl_py-0.15.0-py3-none-any.whl (132 kB)\n",
            "\u001b[K     |████████████████████████████████| 132 kB 79.8 MB/s \n",
            "\u001b[?25hRequirement already satisfied: tensorboard~=2.5 in /usr/local/lib/python3.7/dist-packages (from tensorflow==2.5) (2.8.0)\n",
            "Collecting wrapt~=1.12.1\n",
            "  Downloading wrapt-1.12.1.tar.gz (27 kB)\n",
            "Requirement already satisfied: wheel~=0.35 in /usr/local/lib/python3.7/dist-packages (from tensorflow==2.5) (0.37.1)\n",
            "Requirement already satisfied: keras-preprocessing~=1.1.2 in /usr/local/lib/python3.7/dist-packages (from tensorflow==2.5) (1.1.2)\n",
            "Requirement already satisfied: cached-property in /usr/local/lib/python3.7/dist-packages (from h5py~=3.1.0->tensorflow==2.5) (1.5.2)\n",
            "Requirement already satisfied: markdown>=2.6.8 in /usr/local/lib/python3.7/dist-packages (from tensorboard~=2.5->tensorflow==2.5) (3.3.7)\n",
            "Requirement already satisfied: google-auth<3,>=1.6.3 in /usr/local/lib/python3.7/dist-packages (from tensorboard~=2.5->tensorflow==2.5) (1.35.0)\n",
            "Requirement already satisfied: google-auth-oauthlib<0.5,>=0.4.1 in /usr/local/lib/python3.7/dist-packages (from tensorboard~=2.5->tensorflow==2.5) (0.4.6)\n",
            "Requirement already satisfied: tensorboard-data-server<0.7.0,>=0.6.0 in /usr/local/lib/python3.7/dist-packages (from tensorboard~=2.5->tensorflow==2.5) (0.6.1)\n",
            "Requirement already satisfied: tensorboard-plugin-wit>=1.6.0 in /usr/local/lib/python3.7/dist-packages (from tensorboard~=2.5->tensorflow==2.5) (1.8.1)\n",
            "Requirement already satisfied: setuptools>=41.0.0 in /usr/local/lib/python3.7/dist-packages (from tensorboard~=2.5->tensorflow==2.5) (57.4.0)\n",
            "Requirement already satisfied: werkzeug>=0.11.15 in /usr/local/lib/python3.7/dist-packages (from tensorboard~=2.5->tensorflow==2.5) (1.0.1)\n",
            "Requirement already satisfied: requests<3,>=2.21.0 in /usr/local/lib/python3.7/dist-packages (from tensorboard~=2.5->tensorflow==2.5) (2.23.0)\n",
            "Requirement already satisfied: pyasn1-modules>=0.2.1 in /usr/local/lib/python3.7/dist-packages (from google-auth<3,>=1.6.3->tensorboard~=2.5->tensorflow==2.5) (0.2.8)\n",
            "Requirement already satisfied: rsa<5,>=3.1.4 in /usr/local/lib/python3.7/dist-packages (from google-auth<3,>=1.6.3->tensorboard~=2.5->tensorflow==2.5) (4.8)\n",
            "Requirement already satisfied: cachetools<5.0,>=2.0.0 in /usr/local/lib/python3.7/dist-packages (from google-auth<3,>=1.6.3->tensorboard~=2.5->tensorflow==2.5) (4.2.4)\n",
            "Requirement already satisfied: requests-oauthlib>=0.7.0 in /usr/local/lib/python3.7/dist-packages (from google-auth-oauthlib<0.5,>=0.4.1->tensorboard~=2.5->tensorflow==2.5) (1.3.1)\n",
            "Requirement already satisfied: importlib-metadata>=4.4 in /usr/local/lib/python3.7/dist-packages (from markdown>=2.6.8->tensorboard~=2.5->tensorflow==2.5) (4.11.4)\n",
            "Requirement already satisfied: zipp>=0.5 in /usr/local/lib/python3.7/dist-packages (from importlib-metadata>=4.4->markdown>=2.6.8->tensorboard~=2.5->tensorflow==2.5) (3.8.0)\n",
            "Requirement already satisfied: pyasn1<0.5.0,>=0.4.6 in /usr/local/lib/python3.7/dist-packages (from pyasn1-modules>=0.2.1->google-auth<3,>=1.6.3->tensorboard~=2.5->tensorflow==2.5) (0.4.8)\n",
            "Requirement already satisfied: urllib3!=1.25.0,!=1.25.1,<1.26,>=1.21.1 in /usr/local/lib/python3.7/dist-packages (from requests<3,>=2.21.0->tensorboard~=2.5->tensorflow==2.5) (1.24.3)\n",
            "Requirement already satisfied: idna<3,>=2.5 in /usr/local/lib/python3.7/dist-packages (from requests<3,>=2.21.0->tensorboard~=2.5->tensorflow==2.5) (2.10)\n",
            "Requirement already satisfied: chardet<4,>=3.0.2 in /usr/local/lib/python3.7/dist-packages (from requests<3,>=2.21.0->tensorboard~=2.5->tensorflow==2.5) (3.0.4)\n",
            "Requirement already satisfied: certifi>=2017.4.17 in /usr/local/lib/python3.7/dist-packages (from requests<3,>=2.21.0->tensorboard~=2.5->tensorflow==2.5) (2022.6.15)\n",
            "Requirement already satisfied: oauthlib>=3.0.0 in /usr/local/lib/python3.7/dist-packages (from requests-oauthlib>=0.7.0->google-auth-oauthlib<0.5,>=0.4.1->tensorboard~=2.5->tensorflow==2.5) (3.2.0)\n",
            "Building wheels for collected packages: wrapt\n",
            "  Building wheel for wrapt (setup.py) ... \u001b[?25l\u001b[?25hdone\n",
            "  Created wheel for wrapt: filename=wrapt-1.12.1-cp37-cp37m-linux_x86_64.whl size=68718 sha256=00007bb831d13ddfc882ea4503b5af6b575a52194c7786d80b469b3177fcebc0\n",
            "  Stored in directory: /root/.cache/pip/wheels/62/76/4c/aa25851149f3f6d9785f6c869387ad82b3fd37582fa8147ac6\n",
            "Successfully built wrapt\n",
            "Installing collected packages: typing-extensions, numpy, grpcio, absl-py, wrapt, tensorflow-estimator, keras-nightly, gast, flatbuffers, tensorflow\n",
            "  Attempting uninstall: typing-extensions\n",
            "    Found existing installation: typing-extensions 4.1.1\n",
            "    Uninstalling typing-extensions-4.1.1:\n",
            "      Successfully uninstalled typing-extensions-4.1.1\n",
            "  Attempting uninstall: numpy\n",
            "    Found existing installation: numpy 1.21.6\n",
            "    Uninstalling numpy-1.21.6:\n",
            "      Successfully uninstalled numpy-1.21.6\n",
            "  Attempting uninstall: grpcio\n",
            "    Found existing installation: grpcio 1.46.3\n",
            "    Uninstalling grpcio-1.46.3:\n",
            "      Successfully uninstalled grpcio-1.46.3\n",
            "  Attempting uninstall: absl-py\n",
            "    Found existing installation: absl-py 1.1.0\n",
            "    Uninstalling absl-py-1.1.0:\n",
            "      Successfully uninstalled absl-py-1.1.0\n",
            "  Attempting uninstall: wrapt\n",
            "    Found existing installation: wrapt 1.14.1\n",
            "    Uninstalling wrapt-1.14.1:\n",
            "      Successfully uninstalled wrapt-1.14.1\n",
            "  Attempting uninstall: tensorflow-estimator\n",
            "    Found existing installation: tensorflow-estimator 2.8.0\n",
            "    Uninstalling tensorflow-estimator-2.8.0:\n",
            "      Successfully uninstalled tensorflow-estimator-2.8.0\n",
            "  Attempting uninstall: gast\n",
            "    Found existing installation: gast 0.5.3\n",
            "    Uninstalling gast-0.5.3:\n",
            "      Successfully uninstalled gast-0.5.3\n",
            "  Attempting uninstall: flatbuffers\n",
            "    Found existing installation: flatbuffers 2.0\n",
            "    Uninstalling flatbuffers-2.0:\n",
            "      Successfully uninstalled flatbuffers-2.0\n",
            "\u001b[31mERROR: pip's dependency resolver does not currently take into account all the packages that are installed. This behaviour is the source of the following dependency conflicts.\n",
            "xarray-einstats 0.2.2 requires numpy>=1.21, but you have numpy 1.19.5 which is incompatible.\n",
            "datascience 0.10.6 requires folium==0.2.1, but you have folium 0.8.3 which is incompatible.\n",
            "albumentations 0.1.12 requires imgaug<0.2.7,>=0.2.5, but you have imgaug 0.2.9 which is incompatible.\u001b[0m\n",
            "Successfully installed absl-py-0.15.0 flatbuffers-1.12 gast-0.4.0 grpcio-1.34.1 keras-nightly-2.5.0.dev2021032900 numpy-1.19.5 tensorflow-2.5.0 tensorflow-estimator-2.5.0 typing-extensions-3.7.4.3 wrapt-1.12.1\n"
          ]
        },
        {
          "output_type": "display_data",
          "data": {
            "application/vnd.colab-display-data+json": {
              "pip_warning": {
                "packages": [
                  "numpy",
                  "typing_extensions"
                ]
              }
            }
          },
          "metadata": {}
        }
      ]
    },
    {
      "cell_type": "code",
      "source": [
        "import numpy as np\n",
        "import pandas as pd\n",
        "from sklearn import preprocessing\n",
        "from sklearn.model_selection import train_test_split\n",
        "from sklearn.ensemble import RandomForestClassifier\n",
        "from sklearn.svm import SVC\n",
        "from sklearn.metrics import accuracy_score\n",
        "from sklearn.preprocessing import LabelEncoder\n",
        "from sklearn.preprocessing import StandardScaler\n",
        "import matplotlib.pyplot as plt\n",
        "import seaborn as sns\n",
        "import tensorflow as tf\n",
        "from tensorflow.keras import datasets, layers, models,Sequential\n",
        "from sklearn.metrics import confusion_matrix\n",
        "from sklearn.metrics import recall_score,precision_score"
      ],
      "metadata": {
        "id": "p5wBz1VPuS2w"
      },
      "execution_count": 3,
      "outputs": []
    },
    {
      "cell_type": "code",
      "source": [
        "df  = pd.read_csv(\"https://raw.githubusercontent.com/Noob919/Feature_selection/main/Data/house-votes-84.csv\")\n",
        "for i in range((len(df.columns))):\n",
        "  if(df[df.columns[i]].dtype == 'object'):\n",
        "    df[df.columns[i]] =  df[df.columns[i]].replace(\"?\", df[df.columns[i]].value_counts().index[0])\n",
        "for i in range((len(df.columns))):\n",
        "   df[df.columns[i]]  =  LabelEncoder().fit_transform(df[df.columns[i]])\n",
        "df.head()"
      ],
      "metadata": {
        "colab": {
          "base_uri": "https://localhost:8080/",
          "height": 322
        },
        "id": "IKnEjBSLuZ50",
        "outputId": "345a4451-f8b7-45d9-938e-b607ce456b03"
      },
      "execution_count": 4,
      "outputs": [
        {
          "output_type": "execute_result",
          "data": {
            "text/plain": [
              "   Class Name   handicapped-infants   water-project-cost-sharing  \\\n",
              "0           1                     0                            1   \n",
              "1           1                     0                            1   \n",
              "2           0                     0                            1   \n",
              "3           0                     0                            1   \n",
              "4           0                     1                            1   \n",
              "\n",
              "    adoption-of-the-budget-resolution   physician-fee-freeze  \\\n",
              "0                                   0                      1   \n",
              "1                                   0                      1   \n",
              "2                                   1                      0   \n",
              "3                                   1                      0   \n",
              "4                                   1                      0   \n",
              "\n",
              "    el-salvador-aid   religious-groups-in-schools   anti-satellite-test-ban  \\\n",
              "0                 1                             1                         0   \n",
              "1                 1                             1                         0   \n",
              "2                 1                             1                         0   \n",
              "3                 1                             1                         0   \n",
              "4                 1                             1                         0   \n",
              "\n",
              "    aid-to-nicaraguan-contras   mx-missile   immigration  \\\n",
              "0                           0            0             1   \n",
              "1                           0            0             0   \n",
              "2                           0            0             0   \n",
              "3                           0            0             0   \n",
              "4                           0            0             0   \n",
              "\n",
              "    synfuels-corporation-cutback   education-spending  \\\n",
              "0                              0                    1   \n",
              "1                              0                    1   \n",
              "2                              1                    0   \n",
              "3                              1                    0   \n",
              "4                              1                    0   \n",
              "\n",
              "    superfund-right-to-sue   crime   duty-free-exports  \\\n",
              "0                        1       1                   0   \n",
              "1                        1       1                   0   \n",
              "2                        1       1                   0   \n",
              "3                        1       0                   0   \n",
              "4                        1       1                   1   \n",
              "\n",
              "    export-administration-act-south-africa  \n",
              "0                                        1  \n",
              "1                                        1  \n",
              "2                                        0  \n",
              "3                                        1  \n",
              "4                                        1  "
            ],
            "text/html": [
              "\n",
              "  <div id=\"df-36ea7024-3ed1-40a9-8e48-16d71db84e28\">\n",
              "    <div class=\"colab-df-container\">\n",
              "      <div>\n",
              "<style scoped>\n",
              "    .dataframe tbody tr th:only-of-type {\n",
              "        vertical-align: middle;\n",
              "    }\n",
              "\n",
              "    .dataframe tbody tr th {\n",
              "        vertical-align: top;\n",
              "    }\n",
              "\n",
              "    .dataframe thead th {\n",
              "        text-align: right;\n",
              "    }\n",
              "</style>\n",
              "<table border=\"1\" class=\"dataframe\">\n",
              "  <thead>\n",
              "    <tr style=\"text-align: right;\">\n",
              "      <th></th>\n",
              "      <th>Class Name</th>\n",
              "      <th>handicapped-infants</th>\n",
              "      <th>water-project-cost-sharing</th>\n",
              "      <th>adoption-of-the-budget-resolution</th>\n",
              "      <th>physician-fee-freeze</th>\n",
              "      <th>el-salvador-aid</th>\n",
              "      <th>religious-groups-in-schools</th>\n",
              "      <th>anti-satellite-test-ban</th>\n",
              "      <th>aid-to-nicaraguan-contras</th>\n",
              "      <th>mx-missile</th>\n",
              "      <th>immigration</th>\n",
              "      <th>synfuels-corporation-cutback</th>\n",
              "      <th>education-spending</th>\n",
              "      <th>superfund-right-to-sue</th>\n",
              "      <th>crime</th>\n",
              "      <th>duty-free-exports</th>\n",
              "      <th>export-administration-act-south-africa</th>\n",
              "    </tr>\n",
              "  </thead>\n",
              "  <tbody>\n",
              "    <tr>\n",
              "      <th>0</th>\n",
              "      <td>1</td>\n",
              "      <td>0</td>\n",
              "      <td>1</td>\n",
              "      <td>0</td>\n",
              "      <td>1</td>\n",
              "      <td>1</td>\n",
              "      <td>1</td>\n",
              "      <td>0</td>\n",
              "      <td>0</td>\n",
              "      <td>0</td>\n",
              "      <td>1</td>\n",
              "      <td>0</td>\n",
              "      <td>1</td>\n",
              "      <td>1</td>\n",
              "      <td>1</td>\n",
              "      <td>0</td>\n",
              "      <td>1</td>\n",
              "    </tr>\n",
              "    <tr>\n",
              "      <th>1</th>\n",
              "      <td>1</td>\n",
              "      <td>0</td>\n",
              "      <td>1</td>\n",
              "      <td>0</td>\n",
              "      <td>1</td>\n",
              "      <td>1</td>\n",
              "      <td>1</td>\n",
              "      <td>0</td>\n",
              "      <td>0</td>\n",
              "      <td>0</td>\n",
              "      <td>0</td>\n",
              "      <td>0</td>\n",
              "      <td>1</td>\n",
              "      <td>1</td>\n",
              "      <td>1</td>\n",
              "      <td>0</td>\n",
              "      <td>1</td>\n",
              "    </tr>\n",
              "    <tr>\n",
              "      <th>2</th>\n",
              "      <td>0</td>\n",
              "      <td>0</td>\n",
              "      <td>1</td>\n",
              "      <td>1</td>\n",
              "      <td>0</td>\n",
              "      <td>1</td>\n",
              "      <td>1</td>\n",
              "      <td>0</td>\n",
              "      <td>0</td>\n",
              "      <td>0</td>\n",
              "      <td>0</td>\n",
              "      <td>1</td>\n",
              "      <td>0</td>\n",
              "      <td>1</td>\n",
              "      <td>1</td>\n",
              "      <td>0</td>\n",
              "      <td>0</td>\n",
              "    </tr>\n",
              "    <tr>\n",
              "      <th>3</th>\n",
              "      <td>0</td>\n",
              "      <td>0</td>\n",
              "      <td>1</td>\n",
              "      <td>1</td>\n",
              "      <td>0</td>\n",
              "      <td>1</td>\n",
              "      <td>1</td>\n",
              "      <td>0</td>\n",
              "      <td>0</td>\n",
              "      <td>0</td>\n",
              "      <td>0</td>\n",
              "      <td>1</td>\n",
              "      <td>0</td>\n",
              "      <td>1</td>\n",
              "      <td>0</td>\n",
              "      <td>0</td>\n",
              "      <td>1</td>\n",
              "    </tr>\n",
              "    <tr>\n",
              "      <th>4</th>\n",
              "      <td>0</td>\n",
              "      <td>1</td>\n",
              "      <td>1</td>\n",
              "      <td>1</td>\n",
              "      <td>0</td>\n",
              "      <td>1</td>\n",
              "      <td>1</td>\n",
              "      <td>0</td>\n",
              "      <td>0</td>\n",
              "      <td>0</td>\n",
              "      <td>0</td>\n",
              "      <td>1</td>\n",
              "      <td>0</td>\n",
              "      <td>1</td>\n",
              "      <td>1</td>\n",
              "      <td>1</td>\n",
              "      <td>1</td>\n",
              "    </tr>\n",
              "  </tbody>\n",
              "</table>\n",
              "</div>\n",
              "      <button class=\"colab-df-convert\" onclick=\"convertToInteractive('df-36ea7024-3ed1-40a9-8e48-16d71db84e28')\"\n",
              "              title=\"Convert this dataframe to an interactive table.\"\n",
              "              style=\"display:none;\">\n",
              "        \n",
              "  <svg xmlns=\"http://www.w3.org/2000/svg\" height=\"24px\"viewBox=\"0 0 24 24\"\n",
              "       width=\"24px\">\n",
              "    <path d=\"M0 0h24v24H0V0z\" fill=\"none\"/>\n",
              "    <path d=\"M18.56 5.44l.94 2.06.94-2.06 2.06-.94-2.06-.94-.94-2.06-.94 2.06-2.06.94zm-11 1L8.5 8.5l.94-2.06 2.06-.94-2.06-.94L8.5 2.5l-.94 2.06-2.06.94zm10 10l.94 2.06.94-2.06 2.06-.94-2.06-.94-.94-2.06-.94 2.06-2.06.94z\"/><path d=\"M17.41 7.96l-1.37-1.37c-.4-.4-.92-.59-1.43-.59-.52 0-1.04.2-1.43.59L10.3 9.45l-7.72 7.72c-.78.78-.78 2.05 0 2.83L4 21.41c.39.39.9.59 1.41.59.51 0 1.02-.2 1.41-.59l7.78-7.78 2.81-2.81c.8-.78.8-2.07 0-2.86zM5.41 20L4 18.59l7.72-7.72 1.47 1.35L5.41 20z\"/>\n",
              "  </svg>\n",
              "      </button>\n",
              "      \n",
              "  <style>\n",
              "    .colab-df-container {\n",
              "      display:flex;\n",
              "      flex-wrap:wrap;\n",
              "      gap: 12px;\n",
              "    }\n",
              "\n",
              "    .colab-df-convert {\n",
              "      background-color: #E8F0FE;\n",
              "      border: none;\n",
              "      border-radius: 50%;\n",
              "      cursor: pointer;\n",
              "      display: none;\n",
              "      fill: #1967D2;\n",
              "      height: 32px;\n",
              "      padding: 0 0 0 0;\n",
              "      width: 32px;\n",
              "    }\n",
              "\n",
              "    .colab-df-convert:hover {\n",
              "      background-color: #E2EBFA;\n",
              "      box-shadow: 0px 1px 2px rgba(60, 64, 67, 0.3), 0px 1px 3px 1px rgba(60, 64, 67, 0.15);\n",
              "      fill: #174EA6;\n",
              "    }\n",
              "\n",
              "    [theme=dark] .colab-df-convert {\n",
              "      background-color: #3B4455;\n",
              "      fill: #D2E3FC;\n",
              "    }\n",
              "\n",
              "    [theme=dark] .colab-df-convert:hover {\n",
              "      background-color: #434B5C;\n",
              "      box-shadow: 0px 1px 3px 1px rgba(0, 0, 0, 0.15);\n",
              "      filter: drop-shadow(0px 1px 2px rgba(0, 0, 0, 0.3));\n",
              "      fill: #FFFFFF;\n",
              "    }\n",
              "  </style>\n",
              "\n",
              "      <script>\n",
              "        const buttonEl =\n",
              "          document.querySelector('#df-36ea7024-3ed1-40a9-8e48-16d71db84e28 button.colab-df-convert');\n",
              "        buttonEl.style.display =\n",
              "          google.colab.kernel.accessAllowed ? 'block' : 'none';\n",
              "\n",
              "        async function convertToInteractive(key) {\n",
              "          const element = document.querySelector('#df-36ea7024-3ed1-40a9-8e48-16d71db84e28');\n",
              "          const dataTable =\n",
              "            await google.colab.kernel.invokeFunction('convertToInteractive',\n",
              "                                                     [key], {});\n",
              "          if (!dataTable) return;\n",
              "\n",
              "          const docLinkHtml = 'Like what you see? Visit the ' +\n",
              "            '<a target=\"_blank\" href=https://colab.research.google.com/notebooks/data_table.ipynb>data table notebook</a>'\n",
              "            + ' to learn more about interactive tables.';\n",
              "          element.innerHTML = '';\n",
              "          dataTable['output_type'] = 'display_data';\n",
              "          await google.colab.output.renderOutput(dataTable, element);\n",
              "          const docLink = document.createElement('div');\n",
              "          docLink.innerHTML = docLinkHtml;\n",
              "          element.appendChild(docLink);\n",
              "        }\n",
              "      </script>\n",
              "    </div>\n",
              "  </div>\n",
              "  "
            ]
          },
          "metadata": {},
          "execution_count": 4
        }
      ]
    },
    {
      "cell_type": "code",
      "source": [
        "X = df.drop(['Class Name'],axis =1)\n",
        "y = df['Class Name']"
      ],
      "metadata": {
        "id": "JFyWVrQEuah5"
      },
      "execution_count": 5,
      "outputs": []
    },
    {
      "cell_type": "code",
      "source": [
        "rank1 = pd.read_excel(\"/content/voting84_dataset.xlsx\",sheet_name = \"Chi_2\").set_index('Attributes_Names')\n",
        "df_chi = df[rank1[:12].index]"
      ],
      "metadata": {
        "id": "y6KLje8dugQX"
      },
      "execution_count": 6,
      "outputs": []
    },
    {
      "cell_type": "code",
      "source": [
        "X_col =  df_chi\n",
        "y = df['Class Name']\n",
        "Scaler = StandardScaler()\n",
        "X_col =  Scaler.fit_transform(X_col)\n",
        "X_train, X_test, y_train, y_test = train_test_split(X_col, y, test_size=0.2, random_state=0)\n",
        "print(\"Shape of training data\",X_train.shape)\n",
        "print(\"Shape of testing data\",X_test.shape)"
      ],
      "metadata": {
        "colab": {
          "base_uri": "https://localhost:8080/"
        },
        "id": "r8vMl14TumbV",
        "outputId": "78445d47-c4a4-4a25-8882-afb3f7d7b417"
      },
      "execution_count": 7,
      "outputs": [
        {
          "output_type": "stream",
          "name": "stdout",
          "text": [
            "Shape of training data (348, 12)\n",
            "Shape of testing data (87, 12)\n"
          ]
        }
      ]
    },
    {
      "cell_type": "code",
      "source": [
        "rf =  RandomForestClassifier()\n",
        "rf.fit(X_train,y_train)\n",
        "y_pred_rf =  rf.predict(X_test)\n",
        "print(\"Accuracy: \",accuracy_score(y_test,y_pred_rf))\n",
        "print(\"Recall: \", recall_score(y_test,y_pred_rf))\n",
        "print(\"Precision: \", precision_score(y_test,y_pred_rf))\n",
        "print(confusion_matrix(y_test,y_pred_rf))"
      ],
      "metadata": {
        "colab": {
          "base_uri": "https://localhost:8080/"
        },
        "id": "4OeGikuXuo7i",
        "outputId": "038e4dfe-3944-421c-8627-7065c2483e4e"
      },
      "execution_count": 8,
      "outputs": [
        {
          "output_type": "stream",
          "name": "stdout",
          "text": [
            "Accuracy:  0.9770114942528736\n",
            "Recall:  0.9714285714285714\n",
            "Precision:  0.9714285714285714\n",
            "[[51  1]\n",
            " [ 1 34]]\n"
          ]
        }
      ]
    },
    {
      "cell_type": "code",
      "source": [
        "svc =  SVC()\n",
        "svc.fit(X_test,y_test)\n",
        "y_pred_svc =  svc.predict(X_test)\n",
        "print(\"Accuracy: \",accuracy_score(y_test,y_pred_svc))\n",
        "print(\"Recall: \", recall_score(y_test,y_pred_svc))\n",
        "print(\"Precision: \", precision_score(y_test,y_pred_svc))\n",
        "print(confusion_matrix(y_test,y_pred_svc))"
      ],
      "metadata": {
        "colab": {
          "base_uri": "https://localhost:8080/"
        },
        "id": "kqphoJR0urUe",
        "outputId": "42ef055e-0dcf-47a4-f0ac-fc50eb7c6c64"
      },
      "execution_count": 9,
      "outputs": [
        {
          "output_type": "stream",
          "name": "stdout",
          "text": [
            "Accuracy:  0.9770114942528736\n",
            "Recall:  0.9714285714285714\n",
            "Precision:  0.9714285714285714\n",
            "[[51  1]\n",
            " [ 1 34]]\n"
          ]
        }
      ]
    },
    {
      "cell_type": "code",
      "source": [
        "model = tf.keras.Sequential([\n",
        "    tf.keras.layers.Dense(8, activation='relu', input_shape=(12,)),\n",
        "    tf.keras.layers.BatchNormalization(),\n",
        "    tf.keras.layers.Dense(16, activation='relu'),\n",
        "    tf.keras.layers.BatchNormalization(),\n",
        "    tf.keras.layers.Dense(24, activation='relu'),\n",
        "    tf.keras.layers.Dropout(0.5), \n",
        "    tf.keras.layers.Dense(1,activation='sigmoid')\n",
        "  ])\n",
        "model.compile(loss='binary_crossentropy',\n",
        "              optimizer = 'adam',\n",
        "              metrics=['accuracy'])\n",
        "model.summary()"
      ],
      "metadata": {
        "colab": {
          "base_uri": "https://localhost:8080/"
        },
        "id": "AdD19DZ-utJV",
        "outputId": "9423ae7f-da39-4807-ed37-4fa8dd49ff6a"
      },
      "execution_count": 10,
      "outputs": [
        {
          "output_type": "stream",
          "name": "stdout",
          "text": [
            "Model: \"sequential\"\n",
            "_________________________________________________________________\n",
            "Layer (type)                 Output Shape              Param #   \n",
            "=================================================================\n",
            "dense (Dense)                (None, 8)                 104       \n",
            "_________________________________________________________________\n",
            "batch_normalization (BatchNo (None, 8)                 32        \n",
            "_________________________________________________________________\n",
            "dense_1 (Dense)              (None, 16)                144       \n",
            "_________________________________________________________________\n",
            "batch_normalization_1 (Batch (None, 16)                64        \n",
            "_________________________________________________________________\n",
            "dense_2 (Dense)              (None, 24)                408       \n",
            "_________________________________________________________________\n",
            "dropout (Dropout)            (None, 24)                0         \n",
            "_________________________________________________________________\n",
            "dense_3 (Dense)              (None, 1)                 25        \n",
            "=================================================================\n",
            "Total params: 777\n",
            "Trainable params: 729\n",
            "Non-trainable params: 48\n",
            "_________________________________________________________________\n"
          ]
        }
      ]
    },
    {
      "cell_type": "code",
      "source": [
        "h = model.fit(X_train,y_train,epochs=100,validation_data=(X_test,y_test))"
      ],
      "metadata": {
        "colab": {
          "base_uri": "https://localhost:8080/"
        },
        "id": "kV--1JVLuwrt",
        "outputId": "e41454a6-2b7e-4c47-c980-8371ae03c56e"
      },
      "execution_count": 11,
      "outputs": [
        {
          "output_type": "stream",
          "name": "stdout",
          "text": [
            "Epoch 1/100\n",
            "11/11 [==============================] - 2s 39ms/step - loss: 0.5751 - accuracy: 0.7471 - val_loss: 0.6083 - val_accuracy: 0.8276\n",
            "Epoch 2/100\n",
            "11/11 [==============================] - 0s 6ms/step - loss: 0.5064 - accuracy: 0.7759 - val_loss: 0.5831 - val_accuracy: 0.8161\n",
            "Epoch 3/100\n",
            "11/11 [==============================] - 0s 5ms/step - loss: 0.4658 - accuracy: 0.7845 - val_loss: 0.5555 - val_accuracy: 0.8161\n",
            "Epoch 4/100\n",
            "11/11 [==============================] - 0s 5ms/step - loss: 0.4215 - accuracy: 0.8333 - val_loss: 0.5295 - val_accuracy: 0.8276\n",
            "Epoch 5/100\n",
            "11/11 [==============================] - 0s 6ms/step - loss: 0.4080 - accuracy: 0.8477 - val_loss: 0.4996 - val_accuracy: 0.8391\n",
            "Epoch 6/100\n",
            "11/11 [==============================] - 0s 6ms/step - loss: 0.3774 - accuracy: 0.8477 - val_loss: 0.4713 - val_accuracy: 0.8391\n",
            "Epoch 7/100\n",
            "11/11 [==============================] - 0s 5ms/step - loss: 0.3452 - accuracy: 0.8649 - val_loss: 0.4462 - val_accuracy: 0.8391\n",
            "Epoch 8/100\n",
            "11/11 [==============================] - 0s 6ms/step - loss: 0.3478 - accuracy: 0.8506 - val_loss: 0.4238 - val_accuracy: 0.8506\n",
            "Epoch 9/100\n",
            "11/11 [==============================] - 0s 7ms/step - loss: 0.3362 - accuracy: 0.8592 - val_loss: 0.4036 - val_accuracy: 0.8621\n",
            "Epoch 10/100\n",
            "11/11 [==============================] - 0s 6ms/step - loss: 0.3589 - accuracy: 0.8764 - val_loss: 0.3829 - val_accuracy: 0.8621\n",
            "Epoch 11/100\n",
            "11/11 [==============================] - 0s 5ms/step - loss: 0.2931 - accuracy: 0.8678 - val_loss: 0.3659 - val_accuracy: 0.8621\n",
            "Epoch 12/100\n",
            "11/11 [==============================] - 0s 6ms/step - loss: 0.3225 - accuracy: 0.8851 - val_loss: 0.3512 - val_accuracy: 0.8621\n",
            "Epoch 13/100\n",
            "11/11 [==============================] - 0s 7ms/step - loss: 0.2848 - accuracy: 0.8851 - val_loss: 0.3369 - val_accuracy: 0.8621\n",
            "Epoch 14/100\n",
            "11/11 [==============================] - 0s 8ms/step - loss: 0.2592 - accuracy: 0.8908 - val_loss: 0.3233 - val_accuracy: 0.8966\n",
            "Epoch 15/100\n",
            "11/11 [==============================] - 0s 5ms/step - loss: 0.2968 - accuracy: 0.8879 - val_loss: 0.3121 - val_accuracy: 0.8966\n",
            "Epoch 16/100\n",
            "11/11 [==============================] - 0s 7ms/step - loss: 0.2730 - accuracy: 0.9023 - val_loss: 0.3001 - val_accuracy: 0.8966\n",
            "Epoch 17/100\n",
            "11/11 [==============================] - 0s 5ms/step - loss: 0.2423 - accuracy: 0.9224 - val_loss: 0.2899 - val_accuracy: 0.8966\n",
            "Epoch 18/100\n",
            "11/11 [==============================] - 0s 5ms/step - loss: 0.2429 - accuracy: 0.9080 - val_loss: 0.2811 - val_accuracy: 0.9080\n",
            "Epoch 19/100\n",
            "11/11 [==============================] - 0s 5ms/step - loss: 0.2177 - accuracy: 0.9167 - val_loss: 0.2724 - val_accuracy: 0.9080\n",
            "Epoch 20/100\n",
            "11/11 [==============================] - 0s 5ms/step - loss: 0.2205 - accuracy: 0.9282 - val_loss: 0.2656 - val_accuracy: 0.9080\n",
            "Epoch 21/100\n",
            "11/11 [==============================] - 0s 5ms/step - loss: 0.2230 - accuracy: 0.9397 - val_loss: 0.2605 - val_accuracy: 0.9080\n",
            "Epoch 22/100\n",
            "11/11 [==============================] - 0s 7ms/step - loss: 0.1951 - accuracy: 0.9253 - val_loss: 0.2539 - val_accuracy: 0.9080\n",
            "Epoch 23/100\n",
            "11/11 [==============================] - 0s 5ms/step - loss: 0.1949 - accuracy: 0.9310 - val_loss: 0.2488 - val_accuracy: 0.9080\n",
            "Epoch 24/100\n",
            "11/11 [==============================] - 0s 6ms/step - loss: 0.2012 - accuracy: 0.9310 - val_loss: 0.2450 - val_accuracy: 0.9080\n",
            "Epoch 25/100\n",
            "11/11 [==============================] - 0s 6ms/step - loss: 0.2017 - accuracy: 0.9282 - val_loss: 0.2391 - val_accuracy: 0.9080\n",
            "Epoch 26/100\n",
            "11/11 [==============================] - 0s 5ms/step - loss: 0.2026 - accuracy: 0.9253 - val_loss: 0.2318 - val_accuracy: 0.9080\n",
            "Epoch 27/100\n",
            "11/11 [==============================] - 0s 5ms/step - loss: 0.1821 - accuracy: 0.9368 - val_loss: 0.2284 - val_accuracy: 0.9080\n",
            "Epoch 28/100\n",
            "11/11 [==============================] - 0s 6ms/step - loss: 0.1453 - accuracy: 0.9511 - val_loss: 0.2262 - val_accuracy: 0.9080\n",
            "Epoch 29/100\n",
            "11/11 [==============================] - 0s 5ms/step - loss: 0.1782 - accuracy: 0.9483 - val_loss: 0.2248 - val_accuracy: 0.9310\n",
            "Epoch 30/100\n",
            "11/11 [==============================] - 0s 5ms/step - loss: 0.1571 - accuracy: 0.9569 - val_loss: 0.2198 - val_accuracy: 0.9310\n",
            "Epoch 31/100\n",
            "11/11 [==============================] - 0s 5ms/step - loss: 0.1524 - accuracy: 0.9540 - val_loss: 0.2182 - val_accuracy: 0.9310\n",
            "Epoch 32/100\n",
            "11/11 [==============================] - 0s 5ms/step - loss: 0.1439 - accuracy: 0.9626 - val_loss: 0.2180 - val_accuracy: 0.9310\n",
            "Epoch 33/100\n",
            "11/11 [==============================] - 0s 6ms/step - loss: 0.1445 - accuracy: 0.9511 - val_loss: 0.2153 - val_accuracy: 0.9310\n",
            "Epoch 34/100\n",
            "11/11 [==============================] - 0s 5ms/step - loss: 0.1534 - accuracy: 0.9569 - val_loss: 0.2144 - val_accuracy: 0.9310\n",
            "Epoch 35/100\n",
            "11/11 [==============================] - 0s 5ms/step - loss: 0.1382 - accuracy: 0.9511 - val_loss: 0.2136 - val_accuracy: 0.9310\n",
            "Epoch 36/100\n",
            "11/11 [==============================] - 0s 5ms/step - loss: 0.1380 - accuracy: 0.9569 - val_loss: 0.2158 - val_accuracy: 0.9310\n",
            "Epoch 37/100\n",
            "11/11 [==============================] - 0s 5ms/step - loss: 0.1021 - accuracy: 0.9598 - val_loss: 0.2175 - val_accuracy: 0.9310\n",
            "Epoch 38/100\n",
            "11/11 [==============================] - 0s 5ms/step - loss: 0.1214 - accuracy: 0.9540 - val_loss: 0.2201 - val_accuracy: 0.9310\n",
            "Epoch 39/100\n",
            "11/11 [==============================] - 0s 4ms/step - loss: 0.1252 - accuracy: 0.9598 - val_loss: 0.2223 - val_accuracy: 0.9310\n",
            "Epoch 40/100\n",
            "11/11 [==============================] - 0s 7ms/step - loss: 0.1086 - accuracy: 0.9770 - val_loss: 0.2181 - val_accuracy: 0.9310\n",
            "Epoch 41/100\n",
            "11/11 [==============================] - 0s 5ms/step - loss: 0.1252 - accuracy: 0.9511 - val_loss: 0.2153 - val_accuracy: 0.9310\n",
            "Epoch 42/100\n",
            "11/11 [==============================] - 0s 5ms/step - loss: 0.1248 - accuracy: 0.9655 - val_loss: 0.2131 - val_accuracy: 0.9310\n",
            "Epoch 43/100\n",
            "11/11 [==============================] - 0s 8ms/step - loss: 0.1378 - accuracy: 0.9483 - val_loss: 0.2198 - val_accuracy: 0.9310\n",
            "Epoch 44/100\n",
            "11/11 [==============================] - 0s 8ms/step - loss: 0.1004 - accuracy: 0.9770 - val_loss: 0.2274 - val_accuracy: 0.9310\n",
            "Epoch 45/100\n",
            "11/11 [==============================] - 0s 5ms/step - loss: 0.1223 - accuracy: 0.9540 - val_loss: 0.2336 - val_accuracy: 0.9310\n",
            "Epoch 46/100\n",
            "11/11 [==============================] - 0s 6ms/step - loss: 0.0997 - accuracy: 0.9770 - val_loss: 0.2382 - val_accuracy: 0.9310\n",
            "Epoch 47/100\n",
            "11/11 [==============================] - 0s 5ms/step - loss: 0.1267 - accuracy: 0.9598 - val_loss: 0.2391 - val_accuracy: 0.9310\n",
            "Epoch 48/100\n",
            "11/11 [==============================] - 0s 5ms/step - loss: 0.1040 - accuracy: 0.9770 - val_loss: 0.2418 - val_accuracy: 0.9310\n",
            "Epoch 49/100\n",
            "11/11 [==============================] - 0s 5ms/step - loss: 0.1096 - accuracy: 0.9569 - val_loss: 0.2372 - val_accuracy: 0.9310\n",
            "Epoch 50/100\n",
            "11/11 [==============================] - 0s 5ms/step - loss: 0.1163 - accuracy: 0.9626 - val_loss: 0.2393 - val_accuracy: 0.9310\n",
            "Epoch 51/100\n",
            "11/11 [==============================] - 0s 6ms/step - loss: 0.0935 - accuracy: 0.9713 - val_loss: 0.2454 - val_accuracy: 0.9310\n",
            "Epoch 52/100\n",
            "11/11 [==============================] - 0s 5ms/step - loss: 0.0809 - accuracy: 0.9770 - val_loss: 0.2487 - val_accuracy: 0.9310\n",
            "Epoch 53/100\n",
            "11/11 [==============================] - 0s 6ms/step - loss: 0.1034 - accuracy: 0.9655 - val_loss: 0.2540 - val_accuracy: 0.9310\n",
            "Epoch 54/100\n",
            "11/11 [==============================] - 0s 9ms/step - loss: 0.1208 - accuracy: 0.9626 - val_loss: 0.2550 - val_accuracy: 0.9310\n",
            "Epoch 55/100\n",
            "11/11 [==============================] - 0s 5ms/step - loss: 0.1018 - accuracy: 0.9626 - val_loss: 0.2527 - val_accuracy: 0.9310\n",
            "Epoch 56/100\n",
            "11/11 [==============================] - 0s 5ms/step - loss: 0.0933 - accuracy: 0.9626 - val_loss: 0.2524 - val_accuracy: 0.9195\n",
            "Epoch 57/100\n",
            "11/11 [==============================] - 0s 8ms/step - loss: 0.1068 - accuracy: 0.9713 - val_loss: 0.2575 - val_accuracy: 0.9195\n",
            "Epoch 58/100\n",
            "11/11 [==============================] - 0s 5ms/step - loss: 0.0858 - accuracy: 0.9713 - val_loss: 0.2565 - val_accuracy: 0.9195\n",
            "Epoch 59/100\n",
            "11/11 [==============================] - 0s 9ms/step - loss: 0.0891 - accuracy: 0.9741 - val_loss: 0.2612 - val_accuracy: 0.9195\n",
            "Epoch 60/100\n",
            "11/11 [==============================] - 0s 6ms/step - loss: 0.0900 - accuracy: 0.9713 - val_loss: 0.2615 - val_accuracy: 0.9195\n",
            "Epoch 61/100\n",
            "11/11 [==============================] - 0s 5ms/step - loss: 0.0896 - accuracy: 0.9626 - val_loss: 0.2696 - val_accuracy: 0.9195\n",
            "Epoch 62/100\n",
            "11/11 [==============================] - 0s 5ms/step - loss: 0.0920 - accuracy: 0.9626 - val_loss: 0.2645 - val_accuracy: 0.9195\n",
            "Epoch 63/100\n",
            "11/11 [==============================] - 0s 5ms/step - loss: 0.0895 - accuracy: 0.9713 - val_loss: 0.2596 - val_accuracy: 0.9195\n",
            "Epoch 64/100\n",
            "11/11 [==============================] - 0s 10ms/step - loss: 0.1128 - accuracy: 0.9684 - val_loss: 0.2597 - val_accuracy: 0.9195\n",
            "Epoch 65/100\n",
            "11/11 [==============================] - 0s 5ms/step - loss: 0.0750 - accuracy: 0.9684 - val_loss: 0.2574 - val_accuracy: 0.9195\n",
            "Epoch 66/100\n",
            "11/11 [==============================] - 0s 7ms/step - loss: 0.0974 - accuracy: 0.9626 - val_loss: 0.2587 - val_accuracy: 0.9195\n",
            "Epoch 67/100\n",
            "11/11 [==============================] - 0s 5ms/step - loss: 0.0806 - accuracy: 0.9856 - val_loss: 0.2658 - val_accuracy: 0.9195\n",
            "Epoch 68/100\n",
            "11/11 [==============================] - 0s 6ms/step - loss: 0.0881 - accuracy: 0.9684 - val_loss: 0.2667 - val_accuracy: 0.9195\n",
            "Epoch 69/100\n",
            "11/11 [==============================] - 0s 5ms/step - loss: 0.0752 - accuracy: 0.9741 - val_loss: 0.2605 - val_accuracy: 0.9195\n",
            "Epoch 70/100\n",
            "11/11 [==============================] - 0s 6ms/step - loss: 0.0681 - accuracy: 0.9741 - val_loss: 0.2645 - val_accuracy: 0.9195\n",
            "Epoch 71/100\n",
            "11/11 [==============================] - 0s 13ms/step - loss: 0.0903 - accuracy: 0.9741 - val_loss: 0.2677 - val_accuracy: 0.9195\n",
            "Epoch 72/100\n",
            "11/11 [==============================] - 0s 10ms/step - loss: 0.0844 - accuracy: 0.9626 - val_loss: 0.2737 - val_accuracy: 0.9195\n",
            "Epoch 73/100\n",
            "11/11 [==============================] - 0s 10ms/step - loss: 0.1053 - accuracy: 0.9741 - val_loss: 0.2801 - val_accuracy: 0.9195\n",
            "Epoch 74/100\n",
            "11/11 [==============================] - 0s 9ms/step - loss: 0.1022 - accuracy: 0.9684 - val_loss: 0.2726 - val_accuracy: 0.9195\n",
            "Epoch 75/100\n",
            "11/11 [==============================] - 0s 6ms/step - loss: 0.0696 - accuracy: 0.9799 - val_loss: 0.2692 - val_accuracy: 0.9195\n",
            "Epoch 76/100\n",
            "11/11 [==============================] - 0s 7ms/step - loss: 0.0920 - accuracy: 0.9713 - val_loss: 0.2664 - val_accuracy: 0.9195\n",
            "Epoch 77/100\n",
            "11/11 [==============================] - 0s 6ms/step - loss: 0.0690 - accuracy: 0.9799 - val_loss: 0.2569 - val_accuracy: 0.9195\n",
            "Epoch 78/100\n",
            "11/11 [==============================] - 0s 5ms/step - loss: 0.0775 - accuracy: 0.9799 - val_loss: 0.2570 - val_accuracy: 0.9195\n",
            "Epoch 79/100\n",
            "11/11 [==============================] - 0s 5ms/step - loss: 0.0806 - accuracy: 0.9626 - val_loss: 0.2599 - val_accuracy: 0.9195\n",
            "Epoch 80/100\n",
            "11/11 [==============================] - 0s 5ms/step - loss: 0.0620 - accuracy: 0.9828 - val_loss: 0.2667 - val_accuracy: 0.9195\n",
            "Epoch 81/100\n",
            "11/11 [==============================] - 0s 5ms/step - loss: 0.0914 - accuracy: 0.9713 - val_loss: 0.2667 - val_accuracy: 0.9195\n",
            "Epoch 82/100\n",
            "11/11 [==============================] - 0s 5ms/step - loss: 0.0877 - accuracy: 0.9655 - val_loss: 0.2726 - val_accuracy: 0.9195\n",
            "Epoch 83/100\n",
            "11/11 [==============================] - 0s 5ms/step - loss: 0.0957 - accuracy: 0.9655 - val_loss: 0.2684 - val_accuracy: 0.9310\n",
            "Epoch 84/100\n",
            "11/11 [==============================] - 0s 7ms/step - loss: 0.0659 - accuracy: 0.9799 - val_loss: 0.2666 - val_accuracy: 0.9310\n",
            "Epoch 85/100\n",
            "11/11 [==============================] - 0s 11ms/step - loss: 0.0686 - accuracy: 0.9713 - val_loss: 0.2640 - val_accuracy: 0.9310\n",
            "Epoch 86/100\n",
            "11/11 [==============================] - 0s 7ms/step - loss: 0.1305 - accuracy: 0.9540 - val_loss: 0.2518 - val_accuracy: 0.9310\n",
            "Epoch 87/100\n",
            "11/11 [==============================] - 0s 7ms/step - loss: 0.0769 - accuracy: 0.9770 - val_loss: 0.2460 - val_accuracy: 0.9310\n",
            "Epoch 88/100\n",
            "11/11 [==============================] - 0s 6ms/step - loss: 0.0700 - accuracy: 0.9770 - val_loss: 0.2491 - val_accuracy: 0.9310\n",
            "Epoch 89/100\n",
            "11/11 [==============================] - 0s 7ms/step - loss: 0.0932 - accuracy: 0.9655 - val_loss: 0.2604 - val_accuracy: 0.9310\n",
            "Epoch 90/100\n",
            "11/11 [==============================] - 0s 5ms/step - loss: 0.0577 - accuracy: 0.9770 - val_loss: 0.2628 - val_accuracy: 0.9195\n",
            "Epoch 91/100\n",
            "11/11 [==============================] - 0s 7ms/step - loss: 0.0777 - accuracy: 0.9770 - val_loss: 0.2585 - val_accuracy: 0.9310\n",
            "Epoch 92/100\n",
            "11/11 [==============================] - 0s 6ms/step - loss: 0.0819 - accuracy: 0.9770 - val_loss: 0.2603 - val_accuracy: 0.9195\n",
            "Epoch 93/100\n",
            "11/11 [==============================] - 0s 5ms/step - loss: 0.0762 - accuracy: 0.9684 - val_loss: 0.2650 - val_accuracy: 0.9195\n",
            "Epoch 94/100\n",
            "11/11 [==============================] - 0s 6ms/step - loss: 0.0736 - accuracy: 0.9713 - val_loss: 0.2639 - val_accuracy: 0.9195\n",
            "Epoch 95/100\n",
            "11/11 [==============================] - 0s 6ms/step - loss: 0.0521 - accuracy: 0.9770 - val_loss: 0.2673 - val_accuracy: 0.9195\n",
            "Epoch 96/100\n",
            "11/11 [==============================] - 0s 8ms/step - loss: 0.0527 - accuracy: 0.9856 - val_loss: 0.2722 - val_accuracy: 0.9195\n",
            "Epoch 97/100\n",
            "11/11 [==============================] - 0s 5ms/step - loss: 0.0699 - accuracy: 0.9799 - val_loss: 0.2721 - val_accuracy: 0.9195\n",
            "Epoch 98/100\n",
            "11/11 [==============================] - 0s 8ms/step - loss: 0.0793 - accuracy: 0.9770 - val_loss: 0.2769 - val_accuracy: 0.9195\n",
            "Epoch 99/100\n",
            "11/11 [==============================] - 0s 5ms/step - loss: 0.0923 - accuracy: 0.9684 - val_loss: 0.2723 - val_accuracy: 0.9195\n",
            "Epoch 100/100\n",
            "11/11 [==============================] - 0s 8ms/step - loss: 0.0556 - accuracy: 0.9741 - val_loss: 0.2678 - val_accuracy: 0.9195\n"
          ]
        }
      ]
    },
    {
      "cell_type": "code",
      "source": [
        "plt.plot(h.history['accuracy'], label = 'Accuracy for Train set')\n",
        "plt.plot(h.history['val_accuracy'], label = 'Accuracy for Test Set')\n",
        "plt.title('Accuracy Graph for ANN')\n",
        "plt.ylabel('Accuracy')\n",
        "plt.xlabel('epochs')\n",
        "plt.legend()"
      ],
      "metadata": {
        "colab": {
          "base_uri": "https://localhost:8080/",
          "height": 312
        },
        "id": "cxeh0qr6uzW0",
        "outputId": "693312ea-f908-4124-a279-53fc1f42222d"
      },
      "execution_count": 12,
      "outputs": [
        {
          "output_type": "execute_result",
          "data": {
            "text/plain": [
              "<matplotlib.legend.Legend at 0x7f2db84b19d0>"
            ]
          },
          "metadata": {},
          "execution_count": 12
        },
        {
          "output_type": "display_data",
          "data": {
            "text/plain": [
              "<Figure size 432x288 with 1 Axes>"
            ],
            "image/png": "[encoded data removed]"
          },
          "metadata": {
            "needs_background": "light"
          }
        }
      ]
    },
    {
      "cell_type": "code",
      "source": [
        "plt.plot(h.history['loss'], label = 'loss for Train set')\n",
        "plt.plot(h.history['val_loss'], label = 'loss for Test Set')\n",
        "plt.title('loss Graph for ANN')\n",
        "plt.ylabel('loss')\n",
        "plt.xlabel('epochs')\n",
        "plt.legend()"
      ],
      "metadata": {
        "colab": {
          "base_uri": "https://localhost:8080/",
          "height": 312
        },
        "id": "q8eFwCv9u23C",
        "outputId": "c5c36395-50e8-4fc0-be85-c42c7add9bba"
      },
      "execution_count": 13,
      "outputs": [
        {
          "output_type": "execute_result",
          "data": {
            "text/plain": [
              "<matplotlib.legend.Legend at 0x7f2db944c050>"
            ]
          },
          "metadata": {},
          "execution_count": 13
        },
        {
          "output_type": "display_data",
          "data": {
            "text/plain": [
              "<Figure size 432x288 with 1 Axes>"
            ],
            "image/png": "[encoded data removed]"
          },
          "metadata": {
            "needs_background": "light"
          }
        }
      ]
    },
    {
      "cell_type": "code",
      "source": [
        "y_pred_ann = model.predict_classes(X_test)\n",
        "print(\"Accuracy: \",accuracy_score(y_test,y_pred_ann))\n",
        "print(\"Recall: \", recall_score(y_test,y_pred_ann))\n",
        "print(\"Precision: \", precision_score(y_test,y_pred_ann))\n",
        "print(confusion_matrix(y_test,y_pred_ann))"
      ],
      "metadata": {
        "colab": {
          "base_uri": "https://localhost:8080/"
        },
        "id": "O56Rpziou4hK",
        "outputId": "48d613bc-a618-40e9-fde0-45b2b09706a9"
      },
      "execution_count": 14,
      "outputs": [
        {
          "output_type": "stream",
          "name": "stdout",
          "text": [
            "Accuracy:  0.9195402298850575\n",
            "Recall:  0.8857142857142857\n",
            "Precision:  0.9117647058823529\n",
            "[[49  3]\n",
            " [ 4 31]]\n"
          ]
        },
        {
          "output_type": "stream",
          "name": "stderr",
          "text": [
            "/usr/local/lib/python3.7/dist-packages/tensorflow/python/keras/engine/sequential.py:455: UserWarning: `model.predict_classes()` is deprecated and will be removed after 2021-01-01. Please use instead:* `np.argmax(model.predict(x), axis=-1)`,   if your model does multi-class classification   (e.g. if it uses a `softmax` last-layer activation).* `(model.predict(x) > 0.5).astype(\"int32\")`,   if your model does binary classification   (e.g. if it uses a `sigmoid` last-layer activation).\n",
            "  warnings.warn('`model.predict_classes()` is deprecated and '\n"
          ]
        }
      ]
    },
    {
      "cell_type": "code",
      "source": [
        "rank2  = pd.read_excel(\"/content/voting84_dataset.xlsx\",sheet_name = \"Tree_based_method\").set_index('Attributes_Names')\n",
        "df_tree = df[rank2[0:12].index]\n",
        "X_col =  df_tree\n",
        "y = df['Class Name']\n",
        "Scaler = StandardScaler()\n",
        "X_col =  Scaler.fit_transform(X_col)\n",
        "X_train, X_test, y_train, y_test = train_test_split(X_col, y, test_size=0.2, random_state=0)\n",
        "print(\"Shape of training data\",X_train.shape)\n",
        "print(\"Shape of testing data\",X_test.shape)"
      ],
      "metadata": {
        "colab": {
          "base_uri": "https://localhost:8080/"
        },
        "id": "REmbKHKcu6g_",
        "outputId": "dc6be8df-fe2f-48f5-8447-b3af4733976f"
      },
      "execution_count": 15,
      "outputs": [
        {
          "output_type": "stream",
          "name": "stdout",
          "text": [
            "Shape of training data (348, 12)\n",
            "Shape of testing data (87, 12)\n"
          ]
        }
      ]
    },
    {
      "cell_type": "code",
      "source": [
        "rf =  RandomForestClassifier()\n",
        "rf.fit(X_train,y_train)\n",
        "y_pred_rf =  rf.predict(X_test)\n",
        "print(\"Accuracy: \",accuracy_score(y_test,y_pred_rf))\n",
        "print(\"Recall: \", recall_score(y_test,y_pred_rf))\n",
        "print(\"Precision: \", precision_score(y_test,y_pred_rf))\n",
        "print(confusion_matrix(y_test,y_pred_rf))"
      ],
      "metadata": {
        "colab": {
          "base_uri": "https://localhost:8080/"
        },
        "id": "WVCIzsfmu8-R",
        "outputId": "74cf092c-8bc2-49af-ce72-4f64737862d5"
      },
      "execution_count": 16,
      "outputs": [
        {
          "output_type": "stream",
          "name": "stdout",
          "text": [
            "Accuracy:  0.9770114942528736\n",
            "Recall:  0.9714285714285714\n",
            "Precision:  0.9714285714285714\n",
            "[[51  1]\n",
            " [ 1 34]]\n"
          ]
        }
      ]
    },
    {
      "cell_type": "code",
      "source": [
        "svc =  SVC()\n",
        "svc.fit(X_test,y_test)\n",
        "y_pred_svc =  svc.predict(X_test)\n",
        "print(\"Accuracy: \",accuracy_score(y_test,y_pred_svc))\n",
        "print(\"Recall: \", recall_score(y_test,y_pred_svc))\n",
        "print(\"Precision: \", precision_score(y_test,y_pred_svc))\n",
        "print(confusion_matrix(y_test,y_pred_svc))"
      ],
      "metadata": {
        "colab": {
          "base_uri": "https://localhost:8080/"
        },
        "id": "ti7RXRuju-9d",
        "outputId": "ea05b28a-4b1a-4834-83d1-e282d10c32f1"
      },
      "execution_count": 17,
      "outputs": [
        {
          "output_type": "stream",
          "name": "stdout",
          "text": [
            "Accuracy:  0.9770114942528736\n",
            "Recall:  0.9714285714285714\n",
            "Precision:  0.9714285714285714\n",
            "[[51  1]\n",
            " [ 1 34]]\n"
          ]
        }
      ]
    },
    {
      "cell_type": "code",
      "source": [
        "model = tf.keras.Sequential([\n",
        "    tf.keras.layers.Dense(8, activation='relu', input_shape=(12,)),\n",
        "    tf.keras.layers.BatchNormalization(),\n",
        "    tf.keras.layers.Dense(16, activation='relu'),\n",
        "    tf.keras.layers.BatchNormalization(),\n",
        "    tf.keras.layers.Dense(24, activation='relu'),\n",
        "    tf.keras.layers.Dropout(0.5), \n",
        "    tf.keras.layers.Dense(1,activation='sigmoid')\n",
        "  ])\n",
        "model.compile(loss='binary_crossentropy',\n",
        "              optimizer = 'adam',\n",
        "              metrics=['accuracy'])\n",
        "model.summary()"
      ],
      "metadata": {
        "colab": {
          "base_uri": "https://localhost:8080/"
        },
        "id": "G6I3y_d0vBG7",
        "outputId": "c1b382bd-72f3-485a-8217-31fb28f56686"
      },
      "execution_count": 18,
      "outputs": [
        {
          "output_type": "stream",
          "name": "stdout",
          "text": [
            "Model: \"sequential_1\"\n",
            "_________________________________________________________________\n",
            "Layer (type)                 Output Shape              Param #   \n",
            "=================================================================\n",
            "dense_4 (Dense)              (None, 8)                 104       \n",
            "_________________________________________________________________\n",
            "batch_normalization_2 (Batch (None, 8)                 32        \n",
            "_________________________________________________________________\n",
            "dense_5 (Dense)              (None, 16)                144       \n",
            "_________________________________________________________________\n",
            "batch_normalization_3 (Batch (None, 16)                64        \n",
            "_________________________________________________________________\n",
            "dense_6 (Dense)              (None, 24)                408       \n",
            "_________________________________________________________________\n",
            "dropout_1 (Dropout)          (None, 24)                0         \n",
            "_________________________________________________________________\n",
            "dense_7 (Dense)              (None, 1)                 25        \n",
            "=================================================================\n",
            "Total params: 777\n",
            "Trainable params: 729\n",
            "Non-trainable params: 48\n",
            "_________________________________________________________________\n"
          ]
        }
      ]
    },
    {
      "cell_type": "code",
      "source": [
        "h = model.fit(X_train,y_train,epochs=100,validation_data=(X_test,y_test))"
      ],
      "metadata": {
        "colab": {
          "base_uri": "https://localhost:8080/"
        },
        "id": "dwKnhiwnvIG2",
        "outputId": "ef0a23b1-7f7d-4f3d-e4a3-0d1c2b57d928"
      },
      "execution_count": 19,
      "outputs": [
        {
          "output_type": "stream",
          "name": "stdout",
          "text": [
            "Epoch 1/100\n",
            "11/11 [==============================] - 2s 18ms/step - loss: 0.8048 - accuracy: 0.5115 - val_loss: 0.6047 - val_accuracy: 0.7011\n",
            "Epoch 2/100\n",
            "11/11 [==============================] - 0s 9ms/step - loss: 0.6499 - accuracy: 0.6207 - val_loss: 0.5779 - val_accuracy: 0.7356\n",
            "Epoch 3/100\n",
            "11/11 [==============================] - 0s 6ms/step - loss: 0.5760 - accuracy: 0.6897 - val_loss: 0.5520 - val_accuracy: 0.8621\n",
            "Epoch 4/100\n",
            "11/11 [==============================] - 0s 5ms/step - loss: 0.5176 - accuracy: 0.7557 - val_loss: 0.5251 - val_accuracy: 0.8621\n",
            "Epoch 5/100\n",
            "11/11 [==============================] - 0s 5ms/step - loss: 0.4746 - accuracy: 0.7529 - val_loss: 0.4981 - val_accuracy: 0.8736\n",
            "Epoch 6/100\n",
            "11/11 [==============================] - 0s 5ms/step - loss: 0.4723 - accuracy: 0.7960 - val_loss: 0.4717 - val_accuracy: 0.8851\n",
            "Epoch 7/100\n",
            "11/11 [==============================] - 0s 5ms/step - loss: 0.3983 - accuracy: 0.8190 - val_loss: 0.4381 - val_accuracy: 0.8851\n",
            "Epoch 8/100\n",
            "11/11 [==============================] - 0s 5ms/step - loss: 0.3393 - accuracy: 0.8621 - val_loss: 0.4090 - val_accuracy: 0.8851\n",
            "Epoch 9/100\n",
            "11/11 [==============================] - 0s 5ms/step - loss: 0.3542 - accuracy: 0.8736 - val_loss: 0.3806 - val_accuracy: 0.8736\n",
            "Epoch 10/100\n",
            "11/11 [==============================] - 0s 5ms/step - loss: 0.3318 - accuracy: 0.8621 - val_loss: 0.3551 - val_accuracy: 0.8851\n",
            "Epoch 11/100\n",
            "11/11 [==============================] - 0s 5ms/step - loss: 0.3488 - accuracy: 0.8448 - val_loss: 0.3349 - val_accuracy: 0.8851\n",
            "Epoch 12/100\n",
            "11/11 [==============================] - 0s 4ms/step - loss: 0.2954 - accuracy: 0.8879 - val_loss: 0.3166 - val_accuracy: 0.8851\n",
            "Epoch 13/100\n",
            "11/11 [==============================] - 0s 6ms/step - loss: 0.3093 - accuracy: 0.8736 - val_loss: 0.2995 - val_accuracy: 0.8966\n",
            "Epoch 14/100\n",
            "11/11 [==============================] - 0s 5ms/step - loss: 0.2712 - accuracy: 0.8879 - val_loss: 0.2862 - val_accuracy: 0.8966\n",
            "Epoch 15/100\n",
            "11/11 [==============================] - 0s 7ms/step - loss: 0.2580 - accuracy: 0.9138 - val_loss: 0.2705 - val_accuracy: 0.8966\n",
            "Epoch 16/100\n",
            "11/11 [==============================] - 0s 6ms/step - loss: 0.2856 - accuracy: 0.8937 - val_loss: 0.2581 - val_accuracy: 0.8966\n",
            "Epoch 17/100\n",
            "11/11 [==============================] - 0s 5ms/step - loss: 0.2488 - accuracy: 0.9224 - val_loss: 0.2461 - val_accuracy: 0.9080\n",
            "Epoch 18/100\n",
            "11/11 [==============================] - 0s 6ms/step - loss: 0.2281 - accuracy: 0.9282 - val_loss: 0.2353 - val_accuracy: 0.9080\n",
            "Epoch 19/100\n",
            "11/11 [==============================] - 0s 5ms/step - loss: 0.2337 - accuracy: 0.9224 - val_loss: 0.2257 - val_accuracy: 0.9080\n",
            "Epoch 20/100\n",
            "11/11 [==============================] - 0s 5ms/step - loss: 0.2157 - accuracy: 0.9167 - val_loss: 0.2186 - val_accuracy: 0.9080\n",
            "Epoch 21/100\n",
            "11/11 [==============================] - 0s 5ms/step - loss: 0.2042 - accuracy: 0.9282 - val_loss: 0.2119 - val_accuracy: 0.9080\n",
            "Epoch 22/100\n",
            "11/11 [==============================] - 0s 5ms/step - loss: 0.2121 - accuracy: 0.9253 - val_loss: 0.2049 - val_accuracy: 0.9080\n",
            "Epoch 23/100\n",
            "11/11 [==============================] - 0s 5ms/step - loss: 0.1962 - accuracy: 0.9310 - val_loss: 0.1978 - val_accuracy: 0.9195\n",
            "Epoch 24/100\n",
            "11/11 [==============================] - 0s 5ms/step - loss: 0.1685 - accuracy: 0.9511 - val_loss: 0.1930 - val_accuracy: 0.9195\n",
            "Epoch 25/100\n",
            "11/11 [==============================] - 0s 5ms/step - loss: 0.1591 - accuracy: 0.9511 - val_loss: 0.1872 - val_accuracy: 0.9195\n",
            "Epoch 26/100\n",
            "11/11 [==============================] - 0s 7ms/step - loss: 0.1729 - accuracy: 0.9368 - val_loss: 0.1793 - val_accuracy: 0.9195\n",
            "Epoch 27/100\n",
            "11/11 [==============================] - 0s 5ms/step - loss: 0.1731 - accuracy: 0.9454 - val_loss: 0.1731 - val_accuracy: 0.9195\n",
            "Epoch 28/100\n",
            "11/11 [==============================] - 0s 5ms/step - loss: 0.1587 - accuracy: 0.9598 - val_loss: 0.1681 - val_accuracy: 0.9310\n",
            "Epoch 29/100\n",
            "11/11 [==============================] - 0s 7ms/step - loss: 0.1633 - accuracy: 0.9569 - val_loss: 0.1635 - val_accuracy: 0.9195\n",
            "Epoch 30/100\n",
            "11/11 [==============================] - 0s 5ms/step - loss: 0.1682 - accuracy: 0.9569 - val_loss: 0.1597 - val_accuracy: 0.9195\n",
            "Epoch 31/100\n",
            "11/11 [==============================] - 0s 5ms/step - loss: 0.1662 - accuracy: 0.9483 - val_loss: 0.1575 - val_accuracy: 0.9195\n",
            "Epoch 32/100\n",
            "11/11 [==============================] - 0s 5ms/step - loss: 0.1755 - accuracy: 0.9368 - val_loss: 0.1573 - val_accuracy: 0.9195\n",
            "Epoch 33/100\n",
            "11/11 [==============================] - 0s 6ms/step - loss: 0.1432 - accuracy: 0.9598 - val_loss: 0.1517 - val_accuracy: 0.9195\n",
            "Epoch 34/100\n",
            "11/11 [==============================] - 0s 5ms/step - loss: 0.1511 - accuracy: 0.9540 - val_loss: 0.1477 - val_accuracy: 0.9195\n",
            "Epoch 35/100\n",
            "11/11 [==============================] - 0s 5ms/step - loss: 0.1587 - accuracy: 0.9339 - val_loss: 0.1445 - val_accuracy: 0.9195\n",
            "Epoch 36/100\n",
            "11/11 [==============================] - 0s 5ms/step - loss: 0.1462 - accuracy: 0.9368 - val_loss: 0.1389 - val_accuracy: 0.9195\n",
            "Epoch 37/100\n",
            "11/11 [==============================] - 0s 5ms/step - loss: 0.1248 - accuracy: 0.9511 - val_loss: 0.1341 - val_accuracy: 0.9195\n",
            "Epoch 38/100\n",
            "11/11 [==============================] - 0s 5ms/step - loss: 0.1414 - accuracy: 0.9540 - val_loss: 0.1330 - val_accuracy: 0.9195\n",
            "Epoch 39/100\n",
            "11/11 [==============================] - 0s 5ms/step - loss: 0.1266 - accuracy: 0.9511 - val_loss: 0.1277 - val_accuracy: 0.9195\n",
            "Epoch 40/100\n",
            "11/11 [==============================] - 0s 5ms/step - loss: 0.1158 - accuracy: 0.9540 - val_loss: 0.1291 - val_accuracy: 0.9195\n",
            "Epoch 41/100\n",
            "11/11 [==============================] - 0s 5ms/step - loss: 0.1398 - accuracy: 0.9569 - val_loss: 0.1314 - val_accuracy: 0.9310\n",
            "Epoch 42/100\n",
            "11/11 [==============================] - 0s 6ms/step - loss: 0.1155 - accuracy: 0.9713 - val_loss: 0.1307 - val_accuracy: 0.9310\n",
            "Epoch 43/100\n",
            "11/11 [==============================] - 0s 6ms/step - loss: 0.1160 - accuracy: 0.9511 - val_loss: 0.1290 - val_accuracy: 0.9310\n",
            "Epoch 44/100\n",
            "11/11 [==============================] - 0s 5ms/step - loss: 0.1162 - accuracy: 0.9684 - val_loss: 0.1274 - val_accuracy: 0.9310\n",
            "Epoch 45/100\n",
            "11/11 [==============================] - 0s 5ms/step - loss: 0.1257 - accuracy: 0.9511 - val_loss: 0.1288 - val_accuracy: 0.9310\n",
            "Epoch 46/100\n",
            "11/11 [==============================] - 0s 6ms/step - loss: 0.1145 - accuracy: 0.9741 - val_loss: 0.1240 - val_accuracy: 0.9425\n",
            "Epoch 47/100\n",
            "11/11 [==============================] - 0s 6ms/step - loss: 0.1158 - accuracy: 0.9626 - val_loss: 0.1212 - val_accuracy: 0.9425\n",
            "Epoch 48/100\n",
            "11/11 [==============================] - 0s 8ms/step - loss: 0.1351 - accuracy: 0.9511 - val_loss: 0.1180 - val_accuracy: 0.9540\n",
            "Epoch 49/100\n",
            "11/11 [==============================] - 0s 5ms/step - loss: 0.1018 - accuracy: 0.9713 - val_loss: 0.1165 - val_accuracy: 0.9540\n",
            "Epoch 50/100\n",
            "11/11 [==============================] - 0s 6ms/step - loss: 0.1154 - accuracy: 0.9598 - val_loss: 0.1166 - val_accuracy: 0.9540\n",
            "Epoch 51/100\n",
            "11/11 [==============================] - 0s 5ms/step - loss: 0.1142 - accuracy: 0.9569 - val_loss: 0.1170 - val_accuracy: 0.9540\n",
            "Epoch 52/100\n",
            "11/11 [==============================] - 0s 5ms/step - loss: 0.0999 - accuracy: 0.9713 - val_loss: 0.1213 - val_accuracy: 0.9540\n",
            "Epoch 53/100\n",
            "11/11 [==============================] - 0s 5ms/step - loss: 0.0991 - accuracy: 0.9684 - val_loss: 0.1297 - val_accuracy: 0.9540\n",
            "Epoch 54/100\n",
            "11/11 [==============================] - 0s 5ms/step - loss: 0.1217 - accuracy: 0.9684 - val_loss: 0.1342 - val_accuracy: 0.9540\n",
            "Epoch 55/100\n",
            "11/11 [==============================] - 0s 5ms/step - loss: 0.1280 - accuracy: 0.9684 - val_loss: 0.1315 - val_accuracy: 0.9540\n",
            "Epoch 56/100\n",
            "11/11 [==============================] - 0s 5ms/step - loss: 0.0995 - accuracy: 0.9713 - val_loss: 0.1263 - val_accuracy: 0.9540\n",
            "Epoch 57/100\n",
            "11/11 [==============================] - 0s 5ms/step - loss: 0.0800 - accuracy: 0.9828 - val_loss: 0.1258 - val_accuracy: 0.9540\n",
            "Epoch 58/100\n",
            "11/11 [==============================] - 0s 5ms/step - loss: 0.0849 - accuracy: 0.9770 - val_loss: 0.1281 - val_accuracy: 0.9540\n",
            "Epoch 59/100\n",
            "11/11 [==============================] - 0s 8ms/step - loss: 0.0892 - accuracy: 0.9741 - val_loss: 0.1274 - val_accuracy: 0.9540\n",
            "Epoch 60/100\n",
            "11/11 [==============================] - 0s 5ms/step - loss: 0.1028 - accuracy: 0.9598 - val_loss: 0.1279 - val_accuracy: 0.9540\n",
            "Epoch 61/100\n",
            "11/11 [==============================] - 0s 5ms/step - loss: 0.1013 - accuracy: 0.9713 - val_loss: 0.1273 - val_accuracy: 0.9540\n",
            "Epoch 62/100\n",
            "11/11 [==============================] - 0s 5ms/step - loss: 0.0973 - accuracy: 0.9713 - val_loss: 0.1195 - val_accuracy: 0.9540\n",
            "Epoch 63/100\n",
            "11/11 [==============================] - 0s 7ms/step - loss: 0.1017 - accuracy: 0.9684 - val_loss: 0.1146 - val_accuracy: 0.9655\n",
            "Epoch 64/100\n",
            "11/11 [==============================] - 0s 5ms/step - loss: 0.1163 - accuracy: 0.9540 - val_loss: 0.1141 - val_accuracy: 0.9655\n",
            "Epoch 65/100\n",
            "11/11 [==============================] - 0s 6ms/step - loss: 0.1069 - accuracy: 0.9569 - val_loss: 0.1236 - val_accuracy: 0.9425\n",
            "Epoch 66/100\n",
            "11/11 [==============================] - 0s 5ms/step - loss: 0.1194 - accuracy: 0.9626 - val_loss: 0.1336 - val_accuracy: 0.9425\n",
            "Epoch 67/100\n",
            "11/11 [==============================] - 0s 5ms/step - loss: 0.0728 - accuracy: 0.9799 - val_loss: 0.1355 - val_accuracy: 0.9425\n",
            "Epoch 68/100\n",
            "11/11 [==============================] - 0s 5ms/step - loss: 0.1326 - accuracy: 0.9598 - val_loss: 0.1365 - val_accuracy: 0.9310\n",
            "Epoch 69/100\n",
            "11/11 [==============================] - 0s 5ms/step - loss: 0.0905 - accuracy: 0.9770 - val_loss: 0.1358 - val_accuracy: 0.9310\n",
            "Epoch 70/100\n",
            "11/11 [==============================] - 0s 5ms/step - loss: 0.0816 - accuracy: 0.9856 - val_loss: 0.1358 - val_accuracy: 0.9310\n",
            "Epoch 71/100\n",
            "11/11 [==============================] - 0s 6ms/step - loss: 0.1014 - accuracy: 0.9655 - val_loss: 0.1261 - val_accuracy: 0.9425\n",
            "Epoch 72/100\n",
            "11/11 [==============================] - 0s 5ms/step - loss: 0.0662 - accuracy: 0.9799 - val_loss: 0.1222 - val_accuracy: 0.9540\n",
            "Epoch 73/100\n",
            "11/11 [==============================] - 0s 5ms/step - loss: 0.0816 - accuracy: 0.9713 - val_loss: 0.1228 - val_accuracy: 0.9540\n",
            "Epoch 74/100\n",
            "11/11 [==============================] - 0s 6ms/step - loss: 0.1032 - accuracy: 0.9598 - val_loss: 0.1225 - val_accuracy: 0.9540\n",
            "Epoch 75/100\n",
            "11/11 [==============================] - 0s 5ms/step - loss: 0.0833 - accuracy: 0.9770 - val_loss: 0.1171 - val_accuracy: 0.9655\n",
            "Epoch 76/100\n",
            "11/11 [==============================] - 0s 5ms/step - loss: 0.0856 - accuracy: 0.9713 - val_loss: 0.1193 - val_accuracy: 0.9655\n",
            "Epoch 77/100\n",
            "11/11 [==============================] - 0s 5ms/step - loss: 0.0645 - accuracy: 0.9770 - val_loss: 0.1249 - val_accuracy: 0.9540\n",
            "Epoch 78/100\n",
            "11/11 [==============================] - 0s 5ms/step - loss: 0.0755 - accuracy: 0.9770 - val_loss: 0.1256 - val_accuracy: 0.9540\n",
            "Epoch 79/100\n",
            "11/11 [==============================] - 0s 6ms/step - loss: 0.1032 - accuracy: 0.9626 - val_loss: 0.1212 - val_accuracy: 0.9540\n",
            "Epoch 80/100\n",
            "11/11 [==============================] - 0s 5ms/step - loss: 0.0801 - accuracy: 0.9655 - val_loss: 0.1195 - val_accuracy: 0.9655\n",
            "Epoch 81/100\n",
            "11/11 [==============================] - 0s 5ms/step - loss: 0.0734 - accuracy: 0.9799 - val_loss: 0.1186 - val_accuracy: 0.9655\n",
            "Epoch 82/100\n",
            "11/11 [==============================] - 0s 6ms/step - loss: 0.0895 - accuracy: 0.9713 - val_loss: 0.1238 - val_accuracy: 0.9655\n",
            "Epoch 83/100\n",
            "11/11 [==============================] - 0s 6ms/step - loss: 0.0783 - accuracy: 0.9770 - val_loss: 0.1206 - val_accuracy: 0.9655\n",
            "Epoch 84/100\n",
            "11/11 [==============================] - 0s 5ms/step - loss: 0.0656 - accuracy: 0.9828 - val_loss: 0.1232 - val_accuracy: 0.9655\n",
            "Epoch 85/100\n",
            "11/11 [==============================] - 0s 5ms/step - loss: 0.0800 - accuracy: 0.9770 - val_loss: 0.1239 - val_accuracy: 0.9655\n",
            "Epoch 86/100\n",
            "11/11 [==============================] - 0s 5ms/step - loss: 0.0959 - accuracy: 0.9713 - val_loss: 0.1366 - val_accuracy: 0.9655\n",
            "Epoch 87/100\n",
            "11/11 [==============================] - 0s 5ms/step - loss: 0.0604 - accuracy: 0.9828 - val_loss: 0.1445 - val_accuracy: 0.9540\n",
            "Epoch 88/100\n",
            "11/11 [==============================] - 0s 5ms/step - loss: 0.0783 - accuracy: 0.9799 - val_loss: 0.1443 - val_accuracy: 0.9540\n",
            "Epoch 89/100\n",
            "11/11 [==============================] - 0s 6ms/step - loss: 0.0660 - accuracy: 0.9741 - val_loss: 0.1434 - val_accuracy: 0.9540\n",
            "Epoch 90/100\n",
            "11/11 [==============================] - 0s 5ms/step - loss: 0.0758 - accuracy: 0.9741 - val_loss: 0.1411 - val_accuracy: 0.9655\n",
            "Epoch 91/100\n",
            "11/11 [==============================] - 0s 5ms/step - loss: 0.0653 - accuracy: 0.9799 - val_loss: 0.1365 - val_accuracy: 0.9655\n",
            "Epoch 92/100\n",
            "11/11 [==============================] - 0s 5ms/step - loss: 0.0811 - accuracy: 0.9799 - val_loss: 0.1254 - val_accuracy: 0.9540\n",
            "Epoch 93/100\n",
            "11/11 [==============================] - 0s 5ms/step - loss: 0.0706 - accuracy: 0.9741 - val_loss: 0.1212 - val_accuracy: 0.9655\n",
            "Epoch 94/100\n",
            "11/11 [==============================] - 0s 7ms/step - loss: 0.0968 - accuracy: 0.9598 - val_loss: 0.1241 - val_accuracy: 0.9655\n",
            "Epoch 95/100\n",
            "11/11 [==============================] - 0s 6ms/step - loss: 0.0709 - accuracy: 0.9770 - val_loss: 0.1189 - val_accuracy: 0.9655\n",
            "Epoch 96/100\n",
            "11/11 [==============================] - 0s 5ms/step - loss: 0.0687 - accuracy: 0.9741 - val_loss: 0.1215 - val_accuracy: 0.9655\n",
            "Epoch 97/100\n",
            "11/11 [==============================] - 0s 5ms/step - loss: 0.0449 - accuracy: 0.9770 - val_loss: 0.1214 - val_accuracy: 0.9655\n",
            "Epoch 98/100\n",
            "11/11 [==============================] - 0s 5ms/step - loss: 0.0853 - accuracy: 0.9684 - val_loss: 0.1272 - val_accuracy: 0.9655\n",
            "Epoch 99/100\n",
            "11/11 [==============================] - 0s 5ms/step - loss: 0.0625 - accuracy: 0.9770 - val_loss: 0.1324 - val_accuracy: 0.9655\n",
            "Epoch 100/100\n",
            "11/11 [==============================] - 0s 5ms/step - loss: 0.0656 - accuracy: 0.9770 - val_loss: 0.1360 - val_accuracy: 0.9655\n"
          ]
        }
      ]
    },
    {
      "cell_type": "code",
      "source": [
        "plt.plot(h.history['accuracy'], label = 'Accuracy for Train set')\n",
        "plt.plot(h.history['val_accuracy'], label = 'Accuracy for Test Set')\n",
        "plt.title('Accuracy Graph for ANN')\n",
        "plt.ylabel('Accuracy')\n",
        "plt.xlabel('epochs')\n",
        "plt.legend()"
      ],
      "metadata": {
        "colab": {
          "base_uri": "https://localhost:8080/",
          "height": 312
        },
        "id": "ogE1C_R2vKJE",
        "outputId": "9d08d91d-a6df-47d6-e3f1-e0a203bde55f"
      },
      "execution_count": 20,
      "outputs": [
        {
          "output_type": "execute_result",
          "data": {
            "text/plain": [
              "<matplotlib.legend.Legend at 0x7f2db8c2ced0>"
            ]
          },
          "metadata": {},
          "execution_count": 20
        },
        {
          "output_type": "display_data",
          "data": {
            "text/plain": [
              "<Figure size 432x288 with 1 Axes>"
            ],
            "image/png": "[encoded data removed]"
          },
          "metadata": {
            "needs_background": "light"
          }
        }
      ]
    },
    {
      "cell_type": "code",
      "source": [
        "plt.plot(h.history['loss'], label = 'loss for Train set')\n",
        "plt.plot(h.history['val_loss'], label = 'loss for Test Set')\n",
        "plt.title('loss Graph for ANN')\n",
        "plt.ylabel('loss')\n",
        "plt.xlabel('epochs')\n",
        "plt.legend()"
      ],
      "metadata": {
        "colab": {
          "base_uri": "https://localhost:8080/",
          "height": 312
        },
        "id": "wmmLwfy_vMtF",
        "outputId": "d6793a3b-248b-44f8-c830-55780109665e"
      },
      "execution_count": 21,
      "outputs": [
        {
          "output_type": "execute_result",
          "data": {
            "text/plain": [
              "<matplotlib.legend.Legend at 0x7f2db8bf1110>"
            ]
          },
          "metadata": {},
          "execution_count": 21
        },
        {
          "output_type": "display_data",
          "data": {
            "text/plain": [
              "<Figure size 432x288 with 1 Axes>"
            ],
            "image/png": "[encoded data removed]"
          },
          "metadata": {
            "needs_background": "light"
          }
        }
      ]
    },
    {
      "cell_type": "code",
      "source": [
        "y_pred_ann = model.predict_classes(X_test)\n",
        "print(\"Accuracy: \",accuracy_score(y_test,y_pred_ann))\n",
        "print(\"Recall: \", recall_score(y_test,y_pred_ann))\n",
        "print(\"Precision: \", precision_score(y_test,y_pred_ann))\n",
        "print(confusion_matrix(y_test,y_pred_ann))"
      ],
      "metadata": {
        "colab": {
          "base_uri": "https://localhost:8080/"
        },
        "id": "FHE0nFSJvOmK",
        "outputId": "aa019def-491b-4c5d-8375-e1f64de062e1"
      },
      "execution_count": 22,
      "outputs": [
        {
          "output_type": "stream",
          "name": "stdout",
          "text": [
            "Accuracy:  0.9655172413793104\n",
            "Recall:  0.9714285714285714\n",
            "Precision:  0.9444444444444444\n",
            "[[50  2]\n",
            " [ 1 34]]\n"
          ]
        },
        {
          "output_type": "stream",
          "name": "stderr",
          "text": [
            "/usr/local/lib/python3.7/dist-packages/tensorflow/python/keras/engine/sequential.py:455: UserWarning: `model.predict_classes()` is deprecated and will be removed after 2021-01-01. Please use instead:* `np.argmax(model.predict(x), axis=-1)`,   if your model does multi-class classification   (e.g. if it uses a `softmax` last-layer activation).* `(model.predict(x) > 0.5).astype(\"int32\")`,   if your model does binary classification   (e.g. if it uses a `sigmoid` last-layer activation).\n",
            "  warnings.warn('`model.predict_classes()` is deprecated and '\n"
          ]
        }
      ]
    },
    {
      "cell_type": "code",
      "source": [
        "rank3  = pd.read_excel(\"/content/voting84_dataset.xlsx\",sheet_name = \"permutation_method_mean\").set_index('Attributes_Names')\n",
        "df_per_mean = df[rank3[0:12].index]\n",
        "X_col =  df_per_mean\n",
        "y = df['Class Name']\n",
        "Scaler = StandardScaler()\n",
        "X_col =  Scaler.fit_transform(X_col)\n",
        "X_train, X_test, y_train, y_test = train_test_split(X_col, y, test_size=0.2, random_state=0)\n",
        "print(\"Shape of training data\",X_train.shape)\n",
        "print(\"Shape of testing data\",X_test.shape)"
      ],
      "metadata": {
        "colab": {
          "base_uri": "https://localhost:8080/"
        },
        "id": "RqAmIOFPvQcN",
        "outputId": "8bdab6cb-2a8d-48ca-8df1-6f6527b99d54"
      },
      "execution_count": 23,
      "outputs": [
        {
          "output_type": "stream",
          "name": "stdout",
          "text": [
            "Shape of training data (348, 12)\n",
            "Shape of testing data (87, 12)\n"
          ]
        }
      ]
    },
    {
      "cell_type": "code",
      "source": [
        "rf =  RandomForestClassifier()\n",
        "rf.fit(X_train,y_train)\n",
        "y_pred_rf =  rf.predict(X_test)\n",
        "print(\"Accuracy: \",accuracy_score(y_test,y_pred_rf))\n",
        "print(\"Recall: \", recall_score(y_test,y_pred_rf))\n",
        "print(\"Precision: \", precision_score(y_test,y_pred_rf))\n",
        "print(confusion_matrix(y_test,y_pred_rf))"
      ],
      "metadata": {
        "colab": {
          "base_uri": "https://localhost:8080/"
        },
        "id": "_oojsFXuvTHm",
        "outputId": "04cb202f-7db5-4b8d-b929-ba34d169cb5b"
      },
      "execution_count": 24,
      "outputs": [
        {
          "output_type": "stream",
          "name": "stdout",
          "text": [
            "Accuracy:  0.9540229885057471\n",
            "Recall:  0.9428571428571428\n",
            "Precision:  0.9428571428571428\n",
            "[[50  2]\n",
            " [ 2 33]]\n"
          ]
        }
      ]
    },
    {
      "cell_type": "code",
      "source": [
        "svc =  SVC()\n",
        "svc.fit(X_test,y_test)\n",
        "y_pred_svc =  svc.predict(X_test)\n",
        "print(\"Accuracy: \",accuracy_score(y_test,y_pred_svc))\n",
        "print(\"Recall: \", recall_score(y_test,y_pred_svc))\n",
        "print(\"Precision: \", precision_score(y_test,y_pred_svc))\n",
        "print(confusion_matrix(y_test,y_pred_svc))"
      ],
      "metadata": {
        "colab": {
          "base_uri": "https://localhost:8080/"
        },
        "id": "-roVVj4qvVqA",
        "outputId": "adbfd532-4517-46c1-8df2-1d96913567c6"
      },
      "execution_count": 25,
      "outputs": [
        {
          "output_type": "stream",
          "name": "stdout",
          "text": [
            "Accuracy:  0.9770114942528736\n",
            "Recall:  0.9714285714285714\n",
            "Precision:  0.9714285714285714\n",
            "[[51  1]\n",
            " [ 1 34]]\n"
          ]
        }
      ]
    },
    {
      "cell_type": "code",
      "source": [
        "model = tf.keras.Sequential([\n",
        "    tf.keras.layers.Dense(8, activation='relu', input_shape=(12,)),\n",
        "    tf.keras.layers.BatchNormalization(),\n",
        "    tf.keras.layers.Dense(16, activation='relu'),\n",
        "    tf.keras.layers.BatchNormalization(),\n",
        "    tf.keras.layers.Dense(24, activation='relu'),\n",
        "    tf.keras.layers.Dropout(0.5), \n",
        "    tf.keras.layers.Dense(1,activation='sigmoid')\n",
        "  ])\n",
        "model.compile(loss='binary_crossentropy',\n",
        "              optimizer = 'adam',\n",
        "              metrics=['accuracy'])\n",
        "model.summary()"
      ],
      "metadata": {
        "colab": {
          "base_uri": "https://localhost:8080/"
        },
        "id": "5Xfeemd_vX79",
        "outputId": "a22ecae5-ffb8-439e-a6a6-3dcacee482a4"
      },
      "execution_count": 26,
      "outputs": [
        {
          "output_type": "stream",
          "name": "stdout",
          "text": [
            "Model: \"sequential_2\"\n",
            "_________________________________________________________________\n",
            "Layer (type)                 Output Shape              Param #   \n",
            "=================================================================\n",
            "dense_8 (Dense)              (None, 8)                 104       \n",
            "_________________________________________________________________\n",
            "batch_normalization_4 (Batch (None, 8)                 32        \n",
            "_________________________________________________________________\n",
            "dense_9 (Dense)              (None, 16)                144       \n",
            "_________________________________________________________________\n",
            "batch_normalization_5 (Batch (None, 16)                64        \n",
            "_________________________________________________________________\n",
            "dense_10 (Dense)             (None, 24)                408       \n",
            "_________________________________________________________________\n",
            "dropout_2 (Dropout)          (None, 24)                0         \n",
            "_________________________________________________________________\n",
            "dense_11 (Dense)             (None, 1)                 25        \n",
            "=================================================================\n",
            "Total params: 777\n",
            "Trainable params: 729\n",
            "Non-trainable params: 48\n",
            "_________________________________________________________________\n"
          ]
        }
      ]
    },
    {
      "cell_type": "code",
      "source": [
        "h = model.fit(X_train,y_train,epochs=50,validation_data=(X_test,y_test))"
      ],
      "metadata": {
        "colab": {
          "base_uri": "https://localhost:8080/"
        },
        "id": "ErVuRluJvajP",
        "outputId": "bad3fda7-44dd-4796-9e68-5bb323fc723d"
      },
      "execution_count": 27,
      "outputs": [
        {
          "output_type": "stream",
          "name": "stdout",
          "text": [
            "Epoch 1/50\n",
            "11/11 [==============================] - 3s 36ms/step - loss: 0.5446 - accuracy: 0.7098 - val_loss: 0.5417 - val_accuracy: 0.8736\n",
            "Epoch 2/50\n",
            "11/11 [==============================] - 0s 8ms/step - loss: 0.4870 - accuracy: 0.7500 - val_loss: 0.4959 - val_accuracy: 0.9310\n",
            "Epoch 3/50\n",
            "11/11 [==============================] - 0s 5ms/step - loss: 0.4402 - accuracy: 0.8017 - val_loss: 0.4487 - val_accuracy: 0.9425\n",
            "Epoch 4/50\n",
            "11/11 [==============================] - 0s 6ms/step - loss: 0.4163 - accuracy: 0.8103 - val_loss: 0.4033 - val_accuracy: 0.9195\n",
            "Epoch 5/50\n",
            "11/11 [==============================] - 0s 6ms/step - loss: 0.3475 - accuracy: 0.8563 - val_loss: 0.3624 - val_accuracy: 0.9425\n",
            "Epoch 6/50\n",
            "11/11 [==============================] - 0s 5ms/step - loss: 0.3345 - accuracy: 0.8764 - val_loss: 0.3230 - val_accuracy: 0.9425\n",
            "Epoch 7/50\n",
            "11/11 [==============================] - 0s 8ms/step - loss: 0.2837 - accuracy: 0.8851 - val_loss: 0.2883 - val_accuracy: 0.9425\n",
            "Epoch 8/50\n",
            "11/11 [==============================] - 0s 6ms/step - loss: 0.3053 - accuracy: 0.8764 - val_loss: 0.2587 - val_accuracy: 0.9425\n",
            "Epoch 9/50\n",
            "11/11 [==============================] - 0s 9ms/step - loss: 0.2710 - accuracy: 0.8851 - val_loss: 0.2304 - val_accuracy: 0.9425\n",
            "Epoch 10/50\n",
            "11/11 [==============================] - 0s 5ms/step - loss: 0.2511 - accuracy: 0.9023 - val_loss: 0.2070 - val_accuracy: 0.9310\n",
            "Epoch 11/50\n",
            "11/11 [==============================] - 0s 5ms/step - loss: 0.2386 - accuracy: 0.8994 - val_loss: 0.1884 - val_accuracy: 0.9310\n",
            "Epoch 12/50\n",
            "11/11 [==============================] - 0s 10ms/step - loss: 0.2472 - accuracy: 0.9138 - val_loss: 0.1724 - val_accuracy: 0.9310\n",
            "Epoch 13/50\n",
            "11/11 [==============================] - 0s 5ms/step - loss: 0.2329 - accuracy: 0.9080 - val_loss: 0.1598 - val_accuracy: 0.9425\n",
            "Epoch 14/50\n",
            "11/11 [==============================] - 0s 8ms/step - loss: 0.2200 - accuracy: 0.9195 - val_loss: 0.1492 - val_accuracy: 0.9425\n",
            "Epoch 15/50\n",
            "11/11 [==============================] - 0s 7ms/step - loss: 0.1796 - accuracy: 0.9224 - val_loss: 0.1408 - val_accuracy: 0.9425\n",
            "Epoch 16/50\n",
            "11/11 [==============================] - 0s 6ms/step - loss: 0.2210 - accuracy: 0.9195 - val_loss: 0.1349 - val_accuracy: 0.9540\n",
            "Epoch 17/50\n",
            "11/11 [==============================] - 0s 9ms/step - loss: 0.1933 - accuracy: 0.9425 - val_loss: 0.1297 - val_accuracy: 0.9540\n",
            "Epoch 18/50\n",
            "11/11 [==============================] - 0s 11ms/step - loss: 0.1533 - accuracy: 0.9569 - val_loss: 0.1246 - val_accuracy: 0.9540\n",
            "Epoch 19/50\n",
            "11/11 [==============================] - 0s 5ms/step - loss: 0.1618 - accuracy: 0.9425 - val_loss: 0.1209 - val_accuracy: 0.9540\n",
            "Epoch 20/50\n",
            "11/11 [==============================] - 0s 7ms/step - loss: 0.1861 - accuracy: 0.9368 - val_loss: 0.1185 - val_accuracy: 0.9540\n",
            "Epoch 21/50\n",
            "11/11 [==============================] - 0s 5ms/step - loss: 0.1821 - accuracy: 0.9310 - val_loss: 0.1163 - val_accuracy: 0.9655\n",
            "Epoch 22/50\n",
            "11/11 [==============================] - 0s 5ms/step - loss: 0.1510 - accuracy: 0.9540 - val_loss: 0.1135 - val_accuracy: 0.9655\n",
            "Epoch 23/50\n",
            "11/11 [==============================] - 0s 5ms/step - loss: 0.1354 - accuracy: 0.9626 - val_loss: 0.1106 - val_accuracy: 0.9655\n",
            "Epoch 24/50\n",
            "11/11 [==============================] - 0s 6ms/step - loss: 0.1292 - accuracy: 0.9569 - val_loss: 0.1077 - val_accuracy: 0.9655\n",
            "Epoch 25/50\n",
            "11/11 [==============================] - 0s 5ms/step - loss: 0.1567 - accuracy: 0.9425 - val_loss: 0.1051 - val_accuracy: 0.9770\n",
            "Epoch 26/50\n",
            "11/11 [==============================] - 0s 5ms/step - loss: 0.1428 - accuracy: 0.9540 - val_loss: 0.1024 - val_accuracy: 0.9770\n",
            "Epoch 27/50\n",
            "11/11 [==============================] - 0s 6ms/step - loss: 0.1208 - accuracy: 0.9626 - val_loss: 0.1000 - val_accuracy: 0.9770\n",
            "Epoch 28/50\n",
            "11/11 [==============================] - 0s 7ms/step - loss: 0.1439 - accuracy: 0.9454 - val_loss: 0.0983 - val_accuracy: 0.9770\n",
            "Epoch 29/50\n",
            "11/11 [==============================] - 0s 6ms/step - loss: 0.1472 - accuracy: 0.9483 - val_loss: 0.0976 - val_accuracy: 0.9770\n",
            "Epoch 30/50\n",
            "11/11 [==============================] - 0s 6ms/step - loss: 0.1138 - accuracy: 0.9655 - val_loss: 0.0978 - val_accuracy: 0.9770\n",
            "Epoch 31/50\n",
            "11/11 [==============================] - 0s 6ms/step - loss: 0.1093 - accuracy: 0.9655 - val_loss: 0.0977 - val_accuracy: 0.9770\n",
            "Epoch 32/50\n",
            "11/11 [==============================] - 0s 8ms/step - loss: 0.1084 - accuracy: 0.9626 - val_loss: 0.0984 - val_accuracy: 0.9770\n",
            "Epoch 33/50\n",
            "11/11 [==============================] - 0s 7ms/step - loss: 0.1264 - accuracy: 0.9540 - val_loss: 0.0989 - val_accuracy: 0.9770\n",
            "Epoch 34/50\n",
            "11/11 [==============================] - 0s 7ms/step - loss: 0.1337 - accuracy: 0.9684 - val_loss: 0.1004 - val_accuracy: 0.9770\n",
            "Epoch 35/50\n",
            "11/11 [==============================] - 0s 5ms/step - loss: 0.1113 - accuracy: 0.9684 - val_loss: 0.1019 - val_accuracy: 0.9770\n",
            "Epoch 36/50\n",
            "11/11 [==============================] - 0s 6ms/step - loss: 0.1062 - accuracy: 0.9741 - val_loss: 0.1019 - val_accuracy: 0.9770\n",
            "Epoch 37/50\n",
            "11/11 [==============================] - 0s 5ms/step - loss: 0.1063 - accuracy: 0.9598 - val_loss: 0.1008 - val_accuracy: 0.9770\n",
            "Epoch 38/50\n",
            "11/11 [==============================] - 0s 5ms/step - loss: 0.1241 - accuracy: 0.9540 - val_loss: 0.1000 - val_accuracy: 0.9770\n",
            "Epoch 39/50\n",
            "11/11 [==============================] - 0s 5ms/step - loss: 0.1059 - accuracy: 0.9626 - val_loss: 0.1016 - val_accuracy: 0.9770\n",
            "Epoch 40/50\n",
            "11/11 [==============================] - 0s 5ms/step - loss: 0.1261 - accuracy: 0.9483 - val_loss: 0.1012 - val_accuracy: 0.9770\n",
            "Epoch 41/50\n",
            "11/11 [==============================] - 0s 5ms/step - loss: 0.1000 - accuracy: 0.9684 - val_loss: 0.1020 - val_accuracy: 0.9655\n",
            "Epoch 42/50\n",
            "11/11 [==============================] - 0s 5ms/step - loss: 0.1099 - accuracy: 0.9626 - val_loss: 0.1027 - val_accuracy: 0.9655\n",
            "Epoch 43/50\n",
            "11/11 [==============================] - 0s 6ms/step - loss: 0.0873 - accuracy: 0.9626 - val_loss: 0.1041 - val_accuracy: 0.9655\n",
            "Epoch 44/50\n",
            "11/11 [==============================] - 0s 5ms/step - loss: 0.0832 - accuracy: 0.9713 - val_loss: 0.1036 - val_accuracy: 0.9655\n",
            "Epoch 45/50\n",
            "11/11 [==============================] - 0s 5ms/step - loss: 0.1279 - accuracy: 0.9540 - val_loss: 0.1036 - val_accuracy: 0.9655\n",
            "Epoch 46/50\n",
            "11/11 [==============================] - 0s 5ms/step - loss: 0.0988 - accuracy: 0.9655 - val_loss: 0.1040 - val_accuracy: 0.9655\n",
            "Epoch 47/50\n",
            "11/11 [==============================] - 0s 5ms/step - loss: 0.0859 - accuracy: 0.9741 - val_loss: 0.1037 - val_accuracy: 0.9655\n",
            "Epoch 48/50\n",
            "11/11 [==============================] - 0s 5ms/step - loss: 0.0950 - accuracy: 0.9713 - val_loss: 0.1034 - val_accuracy: 0.9655\n",
            "Epoch 49/50\n",
            "11/11 [==============================] - 0s 5ms/step - loss: 0.1072 - accuracy: 0.9626 - val_loss: 0.1042 - val_accuracy: 0.9655\n",
            "Epoch 50/50\n",
            "11/11 [==============================] - 0s 4ms/step - loss: 0.1067 - accuracy: 0.9741 - val_loss: 0.1047 - val_accuracy: 0.9655\n"
          ]
        }
      ]
    },
    {
      "cell_type": "code",
      "source": [
        "plt.plot(h.history['accuracy'], label = 'Accuracy for Train set')\n",
        "plt.plot(h.history['val_accuracy'], label = 'Accuracy for Test Set')\n",
        "plt.title('Accuracy Graph for ANN')\n",
        "plt.ylabel('Accuracy')\n",
        "plt.xlabel('epochs')\n",
        "plt.legend()\n"
      ],
      "metadata": {
        "colab": {
          "base_uri": "https://localhost:8080/",
          "height": 312
        },
        "id": "5Vj0esd1vcen",
        "outputId": "6695331f-4a28-4547-fd39-ceff95d43a8c"
      },
      "execution_count": 28,
      "outputs": [
        {
          "output_type": "execute_result",
          "data": {
            "text/plain": [
              "<matplotlib.legend.Legend at 0x7f2db8835290>"
            ]
          },
          "metadata": {},
          "execution_count": 28
        },
        {
          "output_type": "display_data",
          "data": {
            "text/plain": [
              "<Figure size 432x288 with 1 Axes>"
            ],
            "image/png": "[encoded data removed]"
          },
          "metadata": {
            "needs_background": "light"
          }
        }
      ]
    },
    {
      "cell_type": "code",
      "source": [
        "plt.plot(h.history['loss'], label = 'loss for Train set')\n",
        "plt.plot(h.history['val_loss'], label = 'loss for Test Set')\n",
        "plt.title('loss Graph for ANN')\n",
        "plt.ylabel('loss')\n",
        "plt.xlabel('epochs')\n",
        "plt.legend()"
      ],
      "metadata": {
        "colab": {
          "base_uri": "https://localhost:8080/",
          "height": 312
        },
        "id": "0iLKCdbNvfJa",
        "outputId": "ff222834-29b6-40fd-ab13-da25a3d9528d"
      },
      "execution_count": 29,
      "outputs": [
        {
          "output_type": "execute_result",
          "data": {
            "text/plain": [
              "<matplotlib.legend.Legend at 0x7f2db87b1650>"
            ]
          },
          "metadata": {},
          "execution_count": 29
        },
        {
          "output_type": "display_data",
          "data": {
            "text/plain": [
              "<Figure size 432x288 with 1 Axes>"
            ],
            "image/png": "[encoded data removed]"
          },
          "metadata": {
            "needs_background": "light"
          }
        }
      ]
    },
    {
      "cell_type": "code",
      "source": [
        "y_pred_ann = model.predict_classes(X_test)\n",
        "print(\"Accuracy: \",accuracy_score(y_test,y_pred_ann))\n",
        "print(\"Recall: \", recall_score(y_test,y_pred_ann))\n",
        "print(\"Precision: \", precision_score(y_test,y_pred_ann))\n",
        "print(confusion_matrix(y_test,y_pred_ann))"
      ],
      "metadata": {
        "colab": {
          "base_uri": "https://localhost:8080/"
        },
        "id": "jGkhDSKvviWI",
        "outputId": "bf3a2b4f-d8c1-496c-d0c7-cac6320efd9f"
      },
      "execution_count": 30,
      "outputs": [
        {
          "output_type": "stream",
          "name": "stdout",
          "text": [
            "Accuracy:  0.9655172413793104\n",
            "Recall:  0.9428571428571428\n",
            "Precision:  0.9705882352941176\n",
            "[[51  1]\n",
            " [ 2 33]]\n"
          ]
        },
        {
          "output_type": "stream",
          "name": "stderr",
          "text": [
            "/usr/local/lib/python3.7/dist-packages/tensorflow/python/keras/engine/sequential.py:455: UserWarning: `model.predict_classes()` is deprecated and will be removed after 2021-01-01. Please use instead:* `np.argmax(model.predict(x), axis=-1)`,   if your model does multi-class classification   (e.g. if it uses a `softmax` last-layer activation).* `(model.predict(x) > 0.5).astype(\"int32\")`,   if your model does binary classification   (e.g. if it uses a `sigmoid` last-layer activation).\n",
            "  warnings.warn('`model.predict_classes()` is deprecated and '\n"
          ]
        }
      ]
    },
    {
      "cell_type": "code",
      "source": [
        "rank4  = pd.read_excel(\"/content/voting84_dataset.xlsx\",sheet_name = \"permutation_method_std\").set_index('Attributes_Names')\n",
        "df_per_std  = df[rank4[0:12].index]\n",
        "X_col =  df_per_std\n",
        "y = df['Class Name']\n",
        "Scaler = StandardScaler()\n",
        "X_col =  Scaler.fit_transform(X_col)\n",
        "X_train, X_test, y_train, y_test = train_test_split(X_col, y, test_size=0.2, random_state=0)\n",
        "print(\"Shape of training data\",X_train.shape)\n",
        "print(\"Shape of testing data\",X_test.shape)"
      ],
      "metadata": {
        "colab": {
          "base_uri": "https://localhost:8080/"
        },
        "id": "q5mbBGQqvkuQ",
        "outputId": "ef7994c6-45f6-4280-9bbe-55141affb333"
      },
      "execution_count": 31,
      "outputs": [
        {
          "output_type": "stream",
          "name": "stdout",
          "text": [
            "Shape of training data (348, 12)\n",
            "Shape of testing data (87, 12)\n"
          ]
        }
      ]
    },
    {
      "cell_type": "code",
      "source": [
        "rf =  RandomForestClassifier()\n",
        "rf.fit(X_train,y_train)\n",
        "y_pred_rf =  rf.predict(X_test)\n",
        "print(\"Accuracy: \",accuracy_score(y_test,y_pred_rf))\n",
        "print(\"Recall: \", recall_score(y_test,y_pred_rf))\n",
        "print(\"Precision: \", precision_score(y_test,y_pred_rf))\n",
        "print(confusion_matrix(y_test,y_pred_rf))"
      ],
      "metadata": {
        "colab": {
          "base_uri": "https://localhost:8080/"
        },
        "id": "wSkO9JjEvoor",
        "outputId": "586beacc-d3b9-40f0-ae87-65927f8903a9"
      },
      "execution_count": 32,
      "outputs": [
        {
          "output_type": "stream",
          "name": "stdout",
          "text": [
            "Accuracy:  0.9770114942528736\n",
            "Recall:  0.9714285714285714\n",
            "Precision:  0.9714285714285714\n",
            "[[51  1]\n",
            " [ 1 34]]\n"
          ]
        }
      ]
    },
    {
      "cell_type": "code",
      "source": [
        "svc =  SVC()\n",
        "svc.fit(X_test,y_test)\n",
        "y_pred_svc =  svc.predict(X_test)\n",
        "print(\"Accuracy: \",accuracy_score(y_test,y_pred_svc))\n",
        "print(\"Recall: \", recall_score(y_test,y_pred_svc))\n",
        "print(\"Precision: \", precision_score(y_test,y_pred_svc))\n",
        "print(confusion_matrix(y_test,y_pred_svc))"
      ],
      "metadata": {
        "colab": {
          "base_uri": "https://localhost:8080/"
        },
        "id": "1nk2iGZSvqYy",
        "outputId": "d26e99d6-52a4-4dec-ad77-592e995b1945"
      },
      "execution_count": 33,
      "outputs": [
        {
          "output_type": "stream",
          "name": "stdout",
          "text": [
            "Accuracy:  0.9770114942528736\n",
            "Recall:  0.9714285714285714\n",
            "Precision:  0.9714285714285714\n",
            "[[51  1]\n",
            " [ 1 34]]\n"
          ]
        }
      ]
    },
    {
      "cell_type": "code",
      "source": [
        "model = tf.keras.Sequential([\n",
        "    tf.keras.layers.Dense(8, activation='relu', input_shape=(12,)),\n",
        "    tf.keras.layers.BatchNormalization(),\n",
        "    tf.keras.layers.Dense(16, activation='relu'),\n",
        "    tf.keras.layers.BatchNormalization(),\n",
        "    tf.keras.layers.Dense(24, activation='relu'),\n",
        "    tf.keras.layers.Dropout(0.5), \n",
        "    tf.keras.layers.Dense(1,activation='sigmoid')\n",
        "  ])\n",
        "model.compile(loss='binary_crossentropy',\n",
        "              optimizer = 'adam',\n",
        "              metrics=['accuracy'])\n",
        "model.summary()"
      ],
      "metadata": {
        "colab": {
          "base_uri": "https://localhost:8080/"
        },
        "id": "O0G4Vqm9vtOD",
        "outputId": "96e96c9a-b30f-428f-ce06-fa8c00948a52"
      },
      "execution_count": 34,
      "outputs": [
        {
          "output_type": "stream",
          "name": "stdout",
          "text": [
            "Model: \"sequential_3\"\n",
            "_________________________________________________________________\n",
            "Layer (type)                 Output Shape              Param #   \n",
            "=================================================================\n",
            "dense_12 (Dense)             (None, 8)                 104       \n",
            "_________________________________________________________________\n",
            "batch_normalization_6 (Batch (None, 8)                 32        \n",
            "_________________________________________________________________\n",
            "dense_13 (Dense)             (None, 16)                144       \n",
            "_________________________________________________________________\n",
            "batch_normalization_7 (Batch (None, 16)                64        \n",
            "_________________________________________________________________\n",
            "dense_14 (Dense)             (None, 24)                408       \n",
            "_________________________________________________________________\n",
            "dropout_3 (Dropout)          (None, 24)                0         \n",
            "_________________________________________________________________\n",
            "dense_15 (Dense)             (None, 1)                 25        \n",
            "=================================================================\n",
            "Total params: 777\n",
            "Trainable params: 729\n",
            "Non-trainable params: 48\n",
            "_________________________________________________________________\n"
          ]
        }
      ]
    },
    {
      "cell_type": "code",
      "source": [
        "h = model.fit(X_train,y_train,epochs=50,validation_data=(X_test,y_test))"
      ],
      "metadata": {
        "colab": {
          "base_uri": "https://localhost:8080/"
        },
        "id": "J_KDKEbfvvuE",
        "outputId": "f146cd88-8bbb-48a5-b87b-fd3eb959d036"
      },
      "execution_count": 35,
      "outputs": [
        {
          "output_type": "stream",
          "name": "stdout",
          "text": [
            "Epoch 1/50\n",
            "11/11 [==============================] - 2s 37ms/step - loss: 0.7030 - accuracy: 0.6466 - val_loss: 0.6674 - val_accuracy: 0.5862\n",
            "Epoch 2/50\n",
            "11/11 [==============================] - 0s 5ms/step - loss: 0.6294 - accuracy: 0.7040 - val_loss: 0.6205 - val_accuracy: 0.7471\n",
            "Epoch 3/50\n",
            "11/11 [==============================] - 0s 7ms/step - loss: 0.5519 - accuracy: 0.7557 - val_loss: 0.5763 - val_accuracy: 0.8621\n",
            "Epoch 4/50\n",
            "11/11 [==============================] - 0s 5ms/step - loss: 0.4758 - accuracy: 0.7902 - val_loss: 0.5339 - val_accuracy: 0.8851\n",
            "Epoch 5/50\n",
            "11/11 [==============================] - 0s 5ms/step - loss: 0.4610 - accuracy: 0.7931 - val_loss: 0.4958 - val_accuracy: 0.9080\n",
            "Epoch 6/50\n",
            "11/11 [==============================] - 0s 5ms/step - loss: 0.3906 - accuracy: 0.8534 - val_loss: 0.4598 - val_accuracy: 0.9080\n",
            "Epoch 7/50\n",
            "11/11 [==============================] - 0s 6ms/step - loss: 0.3720 - accuracy: 0.8563 - val_loss: 0.4251 - val_accuracy: 0.9195\n",
            "Epoch 8/50\n",
            "11/11 [==============================] - 0s 5ms/step - loss: 0.3778 - accuracy: 0.8506 - val_loss: 0.3927 - val_accuracy: 0.9195\n",
            "Epoch 9/50\n",
            "11/11 [==============================] - 0s 5ms/step - loss: 0.3350 - accuracy: 0.8793 - val_loss: 0.3642 - val_accuracy: 0.9425\n",
            "Epoch 10/50\n",
            "11/11 [==============================] - 0s 5ms/step - loss: 0.3151 - accuracy: 0.8908 - val_loss: 0.3374 - val_accuracy: 0.9310\n",
            "Epoch 11/50\n",
            "11/11 [==============================] - 0s 5ms/step - loss: 0.3040 - accuracy: 0.8937 - val_loss: 0.3121 - val_accuracy: 0.9540\n",
            "Epoch 12/50\n",
            "11/11 [==============================] - 0s 5ms/step - loss: 0.2558 - accuracy: 0.9282 - val_loss: 0.2886 - val_accuracy: 0.9540\n",
            "Epoch 13/50\n",
            "11/11 [==============================] - 0s 5ms/step - loss: 0.2794 - accuracy: 0.9138 - val_loss: 0.2682 - val_accuracy: 0.9540\n",
            "Epoch 14/50\n",
            "11/11 [==============================] - 0s 5ms/step - loss: 0.2442 - accuracy: 0.9224 - val_loss: 0.2521 - val_accuracy: 0.9540\n",
            "Epoch 15/50\n",
            "11/11 [==============================] - 0s 6ms/step - loss: 0.2397 - accuracy: 0.9310 - val_loss: 0.2403 - val_accuracy: 0.9540\n",
            "Epoch 16/50\n",
            "11/11 [==============================] - 0s 5ms/step - loss: 0.2408 - accuracy: 0.9339 - val_loss: 0.2302 - val_accuracy: 0.9540\n",
            "Epoch 17/50\n",
            "11/11 [==============================] - 0s 5ms/step - loss: 0.2441 - accuracy: 0.9195 - val_loss: 0.2228 - val_accuracy: 0.9540\n",
            "Epoch 18/50\n",
            "11/11 [==============================] - 0s 5ms/step - loss: 0.2328 - accuracy: 0.9397 - val_loss: 0.2155 - val_accuracy: 0.9540\n",
            "Epoch 19/50\n",
            "11/11 [==============================] - 0s 5ms/step - loss: 0.1835 - accuracy: 0.9425 - val_loss: 0.2090 - val_accuracy: 0.9540\n",
            "Epoch 20/50\n",
            "11/11 [==============================] - 0s 6ms/step - loss: 0.1855 - accuracy: 0.9454 - val_loss: 0.2023 - val_accuracy: 0.9540\n",
            "Epoch 21/50\n",
            "11/11 [==============================] - 0s 5ms/step - loss: 0.1912 - accuracy: 0.9483 - val_loss: 0.1995 - val_accuracy: 0.9540\n",
            "Epoch 22/50\n",
            "11/11 [==============================] - 0s 7ms/step - loss: 0.1609 - accuracy: 0.9626 - val_loss: 0.1964 - val_accuracy: 0.9540\n",
            "Epoch 23/50\n",
            "11/11 [==============================] - 0s 6ms/step - loss: 0.1749 - accuracy: 0.9483 - val_loss: 0.1940 - val_accuracy: 0.9540\n",
            "Epoch 24/50\n",
            "11/11 [==============================] - 0s 5ms/step - loss: 0.1614 - accuracy: 0.9569 - val_loss: 0.1928 - val_accuracy: 0.9540\n",
            "Epoch 25/50\n",
            "11/11 [==============================] - 0s 5ms/step - loss: 0.1712 - accuracy: 0.9425 - val_loss: 0.1901 - val_accuracy: 0.9540\n",
            "Epoch 26/50\n",
            "11/11 [==============================] - 0s 6ms/step - loss: 0.1513 - accuracy: 0.9540 - val_loss: 0.1878 - val_accuracy: 0.9540\n",
            "Epoch 27/50\n",
            "11/11 [==============================] - 0s 5ms/step - loss: 0.1583 - accuracy: 0.9397 - val_loss: 0.1862 - val_accuracy: 0.9540\n",
            "Epoch 28/50\n",
            "11/11 [==============================] - 0s 5ms/step - loss: 0.1592 - accuracy: 0.9655 - val_loss: 0.1845 - val_accuracy: 0.9540\n",
            "Epoch 29/50\n",
            "11/11 [==============================] - 0s 7ms/step - loss: 0.1488 - accuracy: 0.9655 - val_loss: 0.1847 - val_accuracy: 0.9540\n",
            "Epoch 30/50\n",
            "11/11 [==============================] - 0s 7ms/step - loss: 0.1285 - accuracy: 0.9713 - val_loss: 0.1865 - val_accuracy: 0.9310\n",
            "Epoch 31/50\n",
            "11/11 [==============================] - 0s 6ms/step - loss: 0.1411 - accuracy: 0.9540 - val_loss: 0.1875 - val_accuracy: 0.9310\n",
            "Epoch 32/50\n",
            "11/11 [==============================] - 0s 6ms/step - loss: 0.1862 - accuracy: 0.9511 - val_loss: 0.1870 - val_accuracy: 0.9540\n",
            "Epoch 33/50\n",
            "11/11 [==============================] - 0s 6ms/step - loss: 0.1590 - accuracy: 0.9540 - val_loss: 0.1865 - val_accuracy: 0.9540\n",
            "Epoch 34/50\n",
            "11/11 [==============================] - 0s 5ms/step - loss: 0.1173 - accuracy: 0.9770 - val_loss: 0.1858 - val_accuracy: 0.9540\n",
            "Epoch 35/50\n",
            "11/11 [==============================] - 0s 6ms/step - loss: 0.1486 - accuracy: 0.9598 - val_loss: 0.1846 - val_accuracy: 0.9540\n",
            "Epoch 36/50\n",
            "11/11 [==============================] - 0s 5ms/step - loss: 0.1381 - accuracy: 0.9569 - val_loss: 0.1844 - val_accuracy: 0.9540\n",
            "Epoch 37/50\n",
            "11/11 [==============================] - 0s 5ms/step - loss: 0.1153 - accuracy: 0.9626 - val_loss: 0.1855 - val_accuracy: 0.9310\n",
            "Epoch 38/50\n",
            "11/11 [==============================] - 0s 6ms/step - loss: 0.1124 - accuracy: 0.9684 - val_loss: 0.1866 - val_accuracy: 0.9310\n",
            "Epoch 39/50\n",
            "11/11 [==============================] - 0s 6ms/step - loss: 0.1191 - accuracy: 0.9626 - val_loss: 0.1868 - val_accuracy: 0.9425\n",
            "Epoch 40/50\n",
            "11/11 [==============================] - 0s 6ms/step - loss: 0.1101 - accuracy: 0.9684 - val_loss: 0.1888 - val_accuracy: 0.9425\n",
            "Epoch 41/50\n",
            "11/11 [==============================] - 0s 6ms/step - loss: 0.1630 - accuracy: 0.9425 - val_loss: 0.1877 - val_accuracy: 0.9425\n",
            "Epoch 42/50\n",
            "11/11 [==============================] - 0s 6ms/step - loss: 0.1127 - accuracy: 0.9655 - val_loss: 0.1875 - val_accuracy: 0.9425\n",
            "Epoch 43/50\n",
            "11/11 [==============================] - 0s 6ms/step - loss: 0.1111 - accuracy: 0.9626 - val_loss: 0.1905 - val_accuracy: 0.9425\n",
            "Epoch 44/50\n",
            "11/11 [==============================] - 0s 5ms/step - loss: 0.1177 - accuracy: 0.9770 - val_loss: 0.1923 - val_accuracy: 0.9425\n",
            "Epoch 45/50\n",
            "11/11 [==============================] - 0s 5ms/step - loss: 0.1220 - accuracy: 0.9741 - val_loss: 0.1931 - val_accuracy: 0.9425\n",
            "Epoch 46/50\n",
            "11/11 [==============================] - 0s 6ms/step - loss: 0.0908 - accuracy: 0.9713 - val_loss: 0.1946 - val_accuracy: 0.9425\n",
            "Epoch 47/50\n",
            "11/11 [==============================] - 0s 5ms/step - loss: 0.0986 - accuracy: 0.9684 - val_loss: 0.1964 - val_accuracy: 0.9310\n",
            "Epoch 48/50\n",
            "11/11 [==============================] - 0s 5ms/step - loss: 0.0901 - accuracy: 0.9713 - val_loss: 0.1966 - val_accuracy: 0.9310\n",
            "Epoch 49/50\n",
            "11/11 [==============================] - 0s 6ms/step - loss: 0.1030 - accuracy: 0.9713 - val_loss: 0.1985 - val_accuracy: 0.9310\n",
            "Epoch 50/50\n",
            "11/11 [==============================] - 0s 5ms/step - loss: 0.0807 - accuracy: 0.9713 - val_loss: 0.1983 - val_accuracy: 0.9310\n"
          ]
        }
      ]
    },
    {
      "cell_type": "code",
      "source": [
        "plt.plot(h.history['accuracy'], label = 'Accuracy for Train set')\n",
        "plt.plot(h.history['val_accuracy'], label = 'Accuracy for Test Set')\n",
        "plt.title('Accuracy Graph for ANN')\n",
        "plt.ylabel('Accuracy')\n",
        "plt.xlabel('epochs')\n",
        "plt.legend()"
      ],
      "metadata": {
        "colab": {
          "base_uri": "https://localhost:8080/",
          "height": 312
        },
        "id": "_wfQbRT8vyNo",
        "outputId": "9da68ffc-188f-487d-abb0-d06f25c7fb31"
      },
      "execution_count": 36,
      "outputs": [
        {
          "output_type": "execute_result",
          "data": {
            "text/plain": [
              "<matplotlib.legend.Legend at 0x7f2db8716850>"
            ]
          },
          "metadata": {},
          "execution_count": 36
        },
        {
          "output_type": "display_data",
          "data": {
            "text/plain": [
              "<Figure size 432x288 with 1 Axes>"
            ],
            "image/png": "[encoded data removed]"
          },
          "metadata": {
            "needs_background": "light"
          }
        }
      ]
    },
    {
      "cell_type": "code",
      "source": [
        "plt.plot(h.history['loss'], label = 'loss for Train set')\n",
        "plt.plot(h.history['val_loss'], label = 'loss for Test Set')\n",
        "plt.title('loss Graph for ANN')\n",
        "plt.ylabel('loss')\n",
        "plt.xlabel('epochs')\n",
        "plt.legend()\n"
      ],
      "metadata": {
        "colab": {
          "base_uri": "https://localhost:8080/",
          "height": 312
        },
        "id": "H-9PTSl6v0wi",
        "outputId": "2503caeb-040f-4509-b955-3e544a981ff2"
      },
      "execution_count": 37,
      "outputs": [
        {
          "output_type": "execute_result",
          "data": {
            "text/plain": [
              "<matplotlib.legend.Legend at 0x7f2dba550a10>"
            ]
          },
          "metadata": {},
          "execution_count": 37
        },
        {
          "output_type": "display_data",
          "data": {
            "text/plain": [
              "<Figure size 432x288 with 1 Axes>"
            ],
            "image/png": "[encoded data removed]"
          },
          "metadata": {
            "needs_background": "light"
          }
        }
      ]
    },
    {
      "cell_type": "code",
      "source": [
        "y_pred_ann = model.predict_classes(X_test)\n",
        "print(\"Accuracy: \",accuracy_score(y_test,y_pred_ann))\n",
        "print(\"Recall: \", recall_score(y_test,y_pred_ann))\n",
        "print(\"Precision: \", precision_score(y_test,y_pred_ann))\n",
        "print(confusion_matrix(y_test,y_pred_ann))"
      ],
      "metadata": {
        "colab": {
          "base_uri": "https://localhost:8080/"
        },
        "id": "BIwVh_LQv2mb",
        "outputId": "20a3d4e4-dd7f-49f4-9975-3098b1909884"
      },
      "execution_count": 38,
      "outputs": [
        {
          "output_type": "stream",
          "name": "stdout",
          "text": [
            "Accuracy:  0.9310344827586207\n",
            "Recall:  0.8571428571428571\n",
            "Precision:  0.967741935483871\n",
            "[[51  1]\n",
            " [ 5 30]]\n"
          ]
        },
        {
          "output_type": "stream",
          "name": "stderr",
          "text": [
            "/usr/local/lib/python3.7/dist-packages/tensorflow/python/keras/engine/sequential.py:455: UserWarning: `model.predict_classes()` is deprecated and will be removed after 2021-01-01. Please use instead:* `np.argmax(model.predict(x), axis=-1)`,   if your model does multi-class classification   (e.g. if it uses a `softmax` last-layer activation).* `(model.predict(x) > 0.5).astype(\"int32\")`,   if your model does binary classification   (e.g. if it uses a `sigmoid` last-layer activation).\n",
            "  warnings.warn('`model.predict_classes()` is deprecated and '\n"
          ]
        }
      ]
    },
    {
      "cell_type": "code",
      "source": [
        "rank5  = pd.read_excel(\"/content/voting84_dataset.xlsx\",sheet_name = \"PCA\").set_index('Attributes_Names')\n",
        "df_pca  = df[rank5[:12].index]\n",
        "X_col =  df_pca\n",
        "y = df['Class Name']\n",
        "Scaler = StandardScaler()\n",
        "X_col =  Scaler.fit_transform(X_col)\n",
        "X_train, X_test, y_train, y_test = train_test_split(X_col, y, test_size=0.2, random_state=0)\n",
        "print(\"Shape of training data\",X_train.shape)\n",
        "print(\"Shape of testing data\",X_test.shape)"
      ],
      "metadata": {
        "colab": {
          "base_uri": "https://localhost:8080/"
        },
        "id": "eNRBLhQ8v4OF",
        "outputId": "547a51a3-a034-4682-9f2b-c56bece07d61"
      },
      "execution_count": 39,
      "outputs": [
        {
          "output_type": "stream",
          "name": "stdout",
          "text": [
            "Shape of training data (348, 12)\n",
            "Shape of testing data (87, 12)\n"
          ]
        }
      ]
    },
    {
      "cell_type": "code",
      "source": [
        "rf =  RandomForestClassifier()\n",
        "rf.fit(X_train,y_train)\n",
        "y_pred_rf =  rf.predict(X_test)\n",
        "print(\"Accuracy: \",accuracy_score(y_test,y_pred_rf))\n",
        "print(\"Recall: \", recall_score(y_test,y_pred_rf))\n",
        "print(\"Precision: \", precision_score(y_test,y_pred_rf))\n",
        "print(confusion_matrix(y_test,y_pred_rf))"
      ],
      "metadata": {
        "colab": {
          "base_uri": "https://localhost:8080/"
        },
        "id": "g4ZNGjyyv7T4",
        "outputId": "35022b17-ceee-4298-b0e0-a65a17365cc0"
      },
      "execution_count": 40,
      "outputs": [
        {
          "output_type": "stream",
          "name": "stdout",
          "text": [
            "Accuracy:  0.9425287356321839\n",
            "Recall:  0.8857142857142857\n",
            "Precision:  0.96875\n",
            "[[51  1]\n",
            " [ 4 31]]\n"
          ]
        }
      ]
    },
    {
      "cell_type": "code",
      "source": [
        "svc =  SVC()\n",
        "svc.fit(X_test,y_test)\n",
        "y_pred_svc =  svc.predict(X_test)\n",
        "print(\"Accuracy: \",accuracy_score(y_test,y_pred_svc))\n",
        "print(\"Recall: \", recall_score(y_test,y_pred_svc))\n",
        "print(\"Precision: \", precision_score(y_test,y_pred_svc))\n",
        "print(confusion_matrix(y_test,y_pred_svc))"
      ],
      "metadata": {
        "colab": {
          "base_uri": "https://localhost:8080/"
        },
        "id": "ZdTR_udav9YI",
        "outputId": "22d51944-789f-439f-c4e3-d2bf0182608e"
      },
      "execution_count": 41,
      "outputs": [
        {
          "output_type": "stream",
          "name": "stdout",
          "text": [
            "Accuracy:  0.9770114942528736\n",
            "Recall:  0.9714285714285714\n",
            "Precision:  0.9714285714285714\n",
            "[[51  1]\n",
            " [ 1 34]]\n"
          ]
        }
      ]
    },
    {
      "cell_type": "code",
      "source": [
        "model = tf.keras.Sequential([\n",
        "    tf.keras.layers.Dense(8, activation='relu', input_shape=(12,)),\n",
        "    tf.keras.layers.BatchNormalization(),\n",
        "    tf.keras.layers.Dense(16, activation='relu'),\n",
        "    tf.keras.layers.BatchNormalization(),\n",
        "    tf.keras.layers.Dense(24, activation='relu'),\n",
        "    tf.keras.layers.Dropout(0.5), \n",
        "    tf.keras.layers.Dense(1,activation='sigmoid')\n",
        "  ])\n",
        "model.compile(loss='binary_crossentropy',\n",
        "              optimizer = 'adam',\n",
        "              metrics=['accuracy'])\n",
        "model.summary()"
      ],
      "metadata": {
        "colab": {
          "base_uri": "https://localhost:8080/"
        },
        "id": "XdIyT8HIv-_S",
        "outputId": "dcba780d-862c-49f6-9394-fef314314ab9"
      },
      "execution_count": 42,
      "outputs": [
        {
          "output_type": "stream",
          "name": "stdout",
          "text": [
            "Model: \"sequential_4\"\n",
            "_________________________________________________________________\n",
            "Layer (type)                 Output Shape              Param #   \n",
            "=================================================================\n",
            "dense_16 (Dense)             (None, 8)                 104       \n",
            "_________________________________________________________________\n",
            "batch_normalization_8 (Batch (None, 8)                 32        \n",
            "_________________________________________________________________\n",
            "dense_17 (Dense)             (None, 16)                144       \n",
            "_________________________________________________________________\n",
            "batch_normalization_9 (Batch (None, 16)                64        \n",
            "_________________________________________________________________\n",
            "dense_18 (Dense)             (None, 24)                408       \n",
            "_________________________________________________________________\n",
            "dropout_4 (Dropout)          (None, 24)                0         \n",
            "_________________________________________________________________\n",
            "dense_19 (Dense)             (None, 1)                 25        \n",
            "=================================================================\n",
            "Total params: 777\n",
            "Trainable params: 729\n",
            "Non-trainable params: 48\n",
            "_________________________________________________________________\n"
          ]
        }
      ]
    },
    {
      "cell_type": "code",
      "source": [
        "h = model.fit(X_train,y_train,epochs=50,validation_data=(X_test,y_test))"
      ],
      "metadata": {
        "colab": {
          "base_uri": "https://localhost:8080/"
        },
        "id": "lJV2F_biwBcL",
        "outputId": "af43feec-195d-4ff4-e093-0530cb1653f8"
      },
      "execution_count": 43,
      "outputs": [
        {
          "output_type": "stream",
          "name": "stdout",
          "text": [
            "Epoch 1/50\n",
            "11/11 [==============================] - 2s 38ms/step - loss: 0.7530 - accuracy: 0.5316 - val_loss: 0.6454 - val_accuracy: 0.6207\n",
            "Epoch 2/50\n",
            "11/11 [==============================] - 0s 13ms/step - loss: 0.6436 - accuracy: 0.6063 - val_loss: 0.6204 - val_accuracy: 0.6322\n",
            "Epoch 3/50\n",
            "11/11 [==============================] - 0s 8ms/step - loss: 0.5962 - accuracy: 0.7213 - val_loss: 0.5955 - val_accuracy: 0.6552\n",
            "Epoch 4/50\n",
            "11/11 [==============================] - 0s 6ms/step - loss: 0.5373 - accuracy: 0.7471 - val_loss: 0.5696 - val_accuracy: 0.7241\n",
            "Epoch 5/50\n",
            "11/11 [==============================] - 0s 5ms/step - loss: 0.4932 - accuracy: 0.7874 - val_loss: 0.5401 - val_accuracy: 0.8276\n",
            "Epoch 6/50\n",
            "11/11 [==============================] - 0s 5ms/step - loss: 0.4695 - accuracy: 0.7960 - val_loss: 0.5074 - val_accuracy: 0.8391\n",
            "Epoch 7/50\n",
            "11/11 [==============================] - 0s 5ms/step - loss: 0.4212 - accuracy: 0.8649 - val_loss: 0.4736 - val_accuracy: 0.8851\n",
            "Epoch 8/50\n",
            "11/11 [==============================] - 0s 9ms/step - loss: 0.3829 - accuracy: 0.8477 - val_loss: 0.4393 - val_accuracy: 0.8966\n",
            "Epoch 9/50\n",
            "11/11 [==============================] - 0s 9ms/step - loss: 0.3602 - accuracy: 0.8649 - val_loss: 0.4065 - val_accuracy: 0.9310\n",
            "Epoch 10/50\n",
            "11/11 [==============================] - 0s 8ms/step - loss: 0.3442 - accuracy: 0.8822 - val_loss: 0.3761 - val_accuracy: 0.9195\n",
            "Epoch 11/50\n",
            "11/11 [==============================] - 0s 7ms/step - loss: 0.3093 - accuracy: 0.9195 - val_loss: 0.3490 - val_accuracy: 0.9310\n",
            "Epoch 12/50\n",
            "11/11 [==============================] - 0s 5ms/step - loss: 0.3029 - accuracy: 0.8879 - val_loss: 0.3247 - val_accuracy: 0.9425\n",
            "Epoch 13/50\n",
            "11/11 [==============================] - 0s 5ms/step - loss: 0.2795 - accuracy: 0.9167 - val_loss: 0.3023 - val_accuracy: 0.9310\n",
            "Epoch 14/50\n",
            "11/11 [==============================] - 0s 6ms/step - loss: 0.2652 - accuracy: 0.9253 - val_loss: 0.2837 - val_accuracy: 0.9195\n",
            "Epoch 15/50\n",
            "11/11 [==============================] - 0s 5ms/step - loss: 0.2764 - accuracy: 0.9224 - val_loss: 0.2656 - val_accuracy: 0.9310\n",
            "Epoch 16/50\n",
            "11/11 [==============================] - 0s 6ms/step - loss: 0.2493 - accuracy: 0.9195 - val_loss: 0.2502 - val_accuracy: 0.9310\n",
            "Epoch 17/50\n",
            "11/11 [==============================] - 0s 11ms/step - loss: 0.2265 - accuracy: 0.9224 - val_loss: 0.2381 - val_accuracy: 0.9310\n",
            "Epoch 18/50\n",
            "11/11 [==============================] - 0s 8ms/step - loss: 0.2294 - accuracy: 0.9368 - val_loss: 0.2291 - val_accuracy: 0.9310\n",
            "Epoch 19/50\n",
            "11/11 [==============================] - 0s 7ms/step - loss: 0.2229 - accuracy: 0.9282 - val_loss: 0.2179 - val_accuracy: 0.9310\n",
            "Epoch 20/50\n",
            "11/11 [==============================] - 0s 5ms/step - loss: 0.2043 - accuracy: 0.9368 - val_loss: 0.2091 - val_accuracy: 0.9195\n",
            "Epoch 21/50\n",
            "11/11 [==============================] - 0s 5ms/step - loss: 0.1932 - accuracy: 0.9425 - val_loss: 0.2025 - val_accuracy: 0.9195\n",
            "Epoch 22/50\n",
            "11/11 [==============================] - 0s 5ms/step - loss: 0.2002 - accuracy: 0.9310 - val_loss: 0.1995 - val_accuracy: 0.9195\n",
            "Epoch 23/50\n",
            "11/11 [==============================] - 0s 5ms/step - loss: 0.2043 - accuracy: 0.9310 - val_loss: 0.1979 - val_accuracy: 0.9195\n",
            "Epoch 24/50\n",
            "11/11 [==============================] - 0s 5ms/step - loss: 0.1972 - accuracy: 0.9368 - val_loss: 0.1973 - val_accuracy: 0.9195\n",
            "Epoch 25/50\n",
            "11/11 [==============================] - 0s 5ms/step - loss: 0.1801 - accuracy: 0.9511 - val_loss: 0.1947 - val_accuracy: 0.9195\n",
            "Epoch 26/50\n",
            "11/11 [==============================] - 0s 8ms/step - loss: 0.1934 - accuracy: 0.9282 - val_loss: 0.1922 - val_accuracy: 0.9195\n",
            "Epoch 27/50\n",
            "11/11 [==============================] - 0s 7ms/step - loss: 0.1624 - accuracy: 0.9397 - val_loss: 0.1899 - val_accuracy: 0.9195\n",
            "Epoch 28/50\n",
            "11/11 [==============================] - 0s 5ms/step - loss: 0.2111 - accuracy: 0.9425 - val_loss: 0.1877 - val_accuracy: 0.9195\n",
            "Epoch 29/50\n",
            "11/11 [==============================] - 0s 5ms/step - loss: 0.1754 - accuracy: 0.9425 - val_loss: 0.1882 - val_accuracy: 0.9195\n",
            "Epoch 30/50\n",
            "11/11 [==============================] - 0s 5ms/step - loss: 0.1680 - accuracy: 0.9397 - val_loss: 0.1910 - val_accuracy: 0.9195\n",
            "Epoch 31/50\n",
            "11/11 [==============================] - 0s 6ms/step - loss: 0.1642 - accuracy: 0.9454 - val_loss: 0.1950 - val_accuracy: 0.9195\n",
            "Epoch 32/50\n",
            "11/11 [==============================] - 0s 7ms/step - loss: 0.1300 - accuracy: 0.9598 - val_loss: 0.1984 - val_accuracy: 0.9195\n",
            "Epoch 33/50\n",
            "11/11 [==============================] - 0s 5ms/step - loss: 0.1670 - accuracy: 0.9511 - val_loss: 0.1990 - val_accuracy: 0.9310\n",
            "Epoch 34/50\n",
            "11/11 [==============================] - 0s 5ms/step - loss: 0.1446 - accuracy: 0.9569 - val_loss: 0.2009 - val_accuracy: 0.9310\n",
            "Epoch 35/50\n",
            "11/11 [==============================] - 0s 5ms/step - loss: 0.1775 - accuracy: 0.9540 - val_loss: 0.2031 - val_accuracy: 0.9310\n",
            "Epoch 36/50\n",
            "11/11 [==============================] - 0s 6ms/step - loss: 0.1296 - accuracy: 0.9655 - val_loss: 0.2059 - val_accuracy: 0.9310\n",
            "Epoch 37/50\n",
            "11/11 [==============================] - 0s 6ms/step - loss: 0.1345 - accuracy: 0.9598 - val_loss: 0.1974 - val_accuracy: 0.9310\n",
            "Epoch 38/50\n",
            "11/11 [==============================] - 0s 5ms/step - loss: 0.1592 - accuracy: 0.9483 - val_loss: 0.1998 - val_accuracy: 0.9310\n",
            "Epoch 39/50\n",
            "11/11 [==============================] - 0s 7ms/step - loss: 0.1887 - accuracy: 0.9425 - val_loss: 0.2014 - val_accuracy: 0.9310\n",
            "Epoch 40/50\n",
            "11/11 [==============================] - 0s 5ms/step - loss: 0.1266 - accuracy: 0.9655 - val_loss: 0.2039 - val_accuracy: 0.9310\n",
            "Epoch 41/50\n",
            "11/11 [==============================] - 0s 6ms/step - loss: 0.1435 - accuracy: 0.9540 - val_loss: 0.1996 - val_accuracy: 0.9310\n",
            "Epoch 42/50\n",
            "11/11 [==============================] - 0s 5ms/step - loss: 0.1415 - accuracy: 0.9569 - val_loss: 0.1978 - val_accuracy: 0.9310\n",
            "Epoch 43/50\n",
            "11/11 [==============================] - 0s 6ms/step - loss: 0.1521 - accuracy: 0.9454 - val_loss: 0.2020 - val_accuracy: 0.9310\n",
            "Epoch 44/50\n",
            "11/11 [==============================] - 0s 6ms/step - loss: 0.1616 - accuracy: 0.9483 - val_loss: 0.2029 - val_accuracy: 0.9310\n",
            "Epoch 45/50\n",
            "11/11 [==============================] - 0s 6ms/step - loss: 0.1356 - accuracy: 0.9569 - val_loss: 0.2031 - val_accuracy: 0.9310\n",
            "Epoch 46/50\n",
            "11/11 [==============================] - 0s 6ms/step - loss: 0.1411 - accuracy: 0.9598 - val_loss: 0.2050 - val_accuracy: 0.9310\n",
            "Epoch 47/50\n",
            "11/11 [==============================] - 0s 8ms/step - loss: 0.1232 - accuracy: 0.9655 - val_loss: 0.2089 - val_accuracy: 0.9310\n",
            "Epoch 48/50\n",
            "11/11 [==============================] - 0s 6ms/step - loss: 0.1408 - accuracy: 0.9569 - val_loss: 0.2082 - val_accuracy: 0.9310\n",
            "Epoch 49/50\n",
            "11/11 [==============================] - 0s 5ms/step - loss: 0.1470 - accuracy: 0.9569 - val_loss: 0.2100 - val_accuracy: 0.9310\n",
            "Epoch 50/50\n",
            "11/11 [==============================] - 0s 5ms/step - loss: 0.1171 - accuracy: 0.9741 - val_loss: 0.2102 - val_accuracy: 0.9310\n"
          ]
        }
      ]
    },
    {
      "cell_type": "code",
      "source": [
        "plt.plot(h.history['accuracy'], label = 'Accuracy for Train set')\n",
        "plt.plot(h.history['val_accuracy'], label = 'Accuracy for Test Set')\n",
        "plt.title('Accuracy Graph for ANN')\n",
        "plt.ylabel('Accuracy')\n",
        "plt.xlabel('epochs')\n",
        "plt.legend()"
      ],
      "metadata": {
        "colab": {
          "base_uri": "https://localhost:8080/",
          "height": 312
        },
        "id": "KbQayn30wDkQ",
        "outputId": "f662f31a-c96e-4805-e0b6-da9cf91de3fb"
      },
      "execution_count": 44,
      "outputs": [
        {
          "output_type": "execute_result",
          "data": {
            "text/plain": [
              "<matplotlib.legend.Legend at 0x7f2dbc361d50>"
            ]
          },
          "metadata": {},
          "execution_count": 44
        },
        {
          "output_type": "display_data",
          "data": {
            "text/plain": [
              "<Figure size 432x288 with 1 Axes>"
            ],
            "image/png": "[encoded data removed]"
          },
          "metadata": {
            "needs_background": "light"
          }
        }
      ]
    },
    {
      "cell_type": "code",
      "source": [
        "plt.plot(h.history['loss'], label = 'loss for Train set')\n",
        "plt.plot(h.history['val_loss'], label = 'loss for Test Set')\n",
        "plt.title('loss Graph for ANN')\n",
        "plt.ylabel('loss')\n",
        "plt.xlabel('epochs')\n",
        "plt.legend()"
      ],
      "metadata": {
        "colab": {
          "base_uri": "https://localhost:8080/",
          "height": 312
        },
        "id": "0SITA5fFwF08",
        "outputId": "6e431e3e-7ee9-4333-d39d-4ba08627a858"
      },
      "execution_count": 45,
      "outputs": [
        {
          "output_type": "execute_result",
          "data": {
            "text/plain": [
              "<matplotlib.legend.Legend at 0x7f2db8d86310>"
            ]
          },
          "metadata": {},
          "execution_count": 45
        },
        {
          "output_type": "display_data",
          "data": {
            "text/plain": [
              "<Figure size 432x288 with 1 Axes>"
            ],
            "image/png": "[encoded data removed]"
          },
          "metadata": {
            "needs_background": "light"
          }
        }
      ]
    },
    {
      "cell_type": "code",
      "source": [
        "y_pred_ann = model.predict_classes(X_test)\n",
        "print(\"Accuracy: \",accuracy_score(y_test,y_pred_ann))\n",
        "print(\"Recall: \", recall_score(y_test,y_pred_ann))\n",
        "print(\"Precision: \", precision_score(y_test,y_pred_ann))\n",
        "print(confusion_matrix(y_test,y_pred_ann))"
      ],
      "metadata": {
        "colab": {
          "base_uri": "https://localhost:8080/"
        },
        "id": "nSv47XISwHnf",
        "outputId": "44d60f5d-24bb-4305-9336-dee90539976c"
      },
      "execution_count": 46,
      "outputs": [
        {
          "output_type": "stream",
          "name": "stdout",
          "text": [
            "WARNING:tensorflow:5 out of the last 13 calls to <function Model.make_predict_function.<locals>.predict_function at 0x7f2db85a3170> triggered tf.function retracing. Tracing is expensive and the excessive number of tracings could be due to (1) creating @tf.function repeatedly in a loop, (2) passing tensors with different shapes, (3) passing Python objects instead of tensors. For (1), please define your @tf.function outside of the loop. For (2), @tf.function has experimental_relax_shapes=True option that relaxes argument shapes that can avoid unnecessary retracing. For (3), please refer to https://www.tensorflow.org/guide/function#controlling_retracing and https://www.tensorflow.org/api_docs/python/tf/function for  more details.\n",
            "Accuracy:  0.9310344827586207\n",
            "Recall:  0.9142857142857143\n",
            "Precision:  0.9142857142857143\n",
            "[[49  3]\n",
            " [ 3 32]]\n"
          ]
        },
        {
          "output_type": "stream",
          "name": "stderr",
          "text": [
            "/usr/local/lib/python3.7/dist-packages/tensorflow/python/keras/engine/sequential.py:455: UserWarning: `model.predict_classes()` is deprecated and will be removed after 2021-01-01. Please use instead:* `np.argmax(model.predict(x), axis=-1)`,   if your model does multi-class classification   (e.g. if it uses a `softmax` last-layer activation).* `(model.predict(x) > 0.5).astype(\"int32\")`,   if your model does binary classification   (e.g. if it uses a `sigmoid` last-layer activation).\n",
            "  warnings.warn('`model.predict_classes()` is deprecated and '\n"
          ]
        }
      ]
    },
    {
      "cell_type": "code",
      "source": [
        "rank6  = pd.read_excel(\"/content/voting84_dataset.xlsx\",sheet_name = \"F_test\").set_index('Attributes_Names')\n",
        "df_f_test  = df[rank6[:12].index]\n",
        "X_col =  df_f_test\n",
        "y = df['Class Name']\n",
        "Scaler = StandardScaler()\n",
        "X_col =  Scaler.fit_transform(X_col)\n",
        "X_train, X_test, y_train, y_test = train_test_split(X_col, y, test_size=0.2, random_state=0)\n",
        "print(\"Shape of training data\",X_train.shape)\n",
        "print(\"Shape of testing data\",X_test.shape)"
      ],
      "metadata": {
        "colab": {
          "base_uri": "https://localhost:8080/"
        },
        "id": "yzJON_qywJPN",
        "outputId": "0a8b5ffe-1f37-473b-b5b3-977d213ab7fe"
      },
      "execution_count": 48,
      "outputs": [
        {
          "output_type": "stream",
          "name": "stdout",
          "text": [
            "Shape of training data (348, 12)\n",
            "Shape of testing data (87, 12)\n"
          ]
        }
      ]
    },
    {
      "cell_type": "code",
      "source": [
        "rf =  RandomForestClassifier()\n",
        "rf.fit(X_train,y_train)\n",
        "y_pred_rf =  rf.predict(X_test)\n",
        "print(\"Accuracy: \",accuracy_score(y_test,y_pred_rf))\n",
        "print(\"Recall: \", recall_score(y_test,y_pred_rf))\n",
        "print(\"Precision: \", precision_score(y_test,y_pred_rf))\n",
        "print(confusion_matrix(y_test,y_pred_rf))"
      ],
      "metadata": {
        "colab": {
          "base_uri": "https://localhost:8080/"
        },
        "id": "aRpoMDxLwLf8",
        "outputId": "8a0570d4-6700-4144-c56c-19a69acc379a"
      },
      "execution_count": 49,
      "outputs": [
        {
          "output_type": "stream",
          "name": "stdout",
          "text": [
            "Accuracy:  0.9540229885057471\n",
            "Recall:  0.9428571428571428\n",
            "Precision:  0.9428571428571428\n",
            "[[50  2]\n",
            " [ 2 33]]\n"
          ]
        }
      ]
    },
    {
      "cell_type": "code",
      "source": [
        "svc =  SVC()\n",
        "svc.fit(X_test,y_test)\n",
        "y_pred_svc =  svc.predict(X_test)\n",
        "print(\"Accuracy: \",accuracy_score(y_test,y_pred_svc))\n",
        "print(\"Recall: \", recall_score(y_test,y_pred_svc))\n",
        "print(\"Precision: \", precision_score(y_test,y_pred_svc))\n",
        "print(confusion_matrix(y_test,y_pred_svc))"
      ],
      "metadata": {
        "colab": {
          "base_uri": "https://localhost:8080/"
        },
        "id": "A3jVJgWywPey",
        "outputId": "e10cca1d-9955-4d68-e987-44ff64425140"
      },
      "execution_count": 50,
      "outputs": [
        {
          "output_type": "stream",
          "name": "stdout",
          "text": [
            "Accuracy:  0.9770114942528736\n",
            "Recall:  0.9714285714285714\n",
            "Precision:  0.9714285714285714\n",
            "[[51  1]\n",
            " [ 1 34]]\n"
          ]
        }
      ]
    },
    {
      "cell_type": "code",
      "source": [
        "model = tf.keras.Sequential([\n",
        "    tf.keras.layers.Dense(8, activation='relu', input_shape=(12,)),\n",
        "    tf.keras.layers.BatchNormalization(),\n",
        "    tf.keras.layers.Dense(16, activation='relu'),\n",
        "    tf.keras.layers.BatchNormalization(),\n",
        "    tf.keras.layers.Dense(24, activation='relu'),\n",
        "    tf.keras.layers.Dropout(0.5), \n",
        "    tf.keras.layers.Dense(1,activation='sigmoid')\n",
        "  ])\n",
        "model.compile(loss='binary_crossentropy',\n",
        "              optimizer = 'adam',\n",
        "              metrics=['accuracy'])\n",
        "model.summary()"
      ],
      "metadata": {
        "colab": {
          "base_uri": "https://localhost:8080/"
        },
        "id": "Xmjf4cbRwR7u",
        "outputId": "6003aea6-f849-43d8-c3d5-20020e80179e"
      },
      "execution_count": 51,
      "outputs": [
        {
          "output_type": "stream",
          "name": "stdout",
          "text": [
            "Model: \"sequential_5\"\n",
            "_________________________________________________________________\n",
            "Layer (type)                 Output Shape              Param #   \n",
            "=================================================================\n",
            "dense_20 (Dense)             (None, 8)                 104       \n",
            "_________________________________________________________________\n",
            "batch_normalization_10 (Batc (None, 8)                 32        \n",
            "_________________________________________________________________\n",
            "dense_21 (Dense)             (None, 16)                144       \n",
            "_________________________________________________________________\n",
            "batch_normalization_11 (Batc (None, 16)                64        \n",
            "_________________________________________________________________\n",
            "dense_22 (Dense)             (None, 24)                408       \n",
            "_________________________________________________________________\n",
            "dropout_5 (Dropout)          (None, 24)                0         \n",
            "_________________________________________________________________\n",
            "dense_23 (Dense)             (None, 1)                 25        \n",
            "=================================================================\n",
            "Total params: 777\n",
            "Trainable params: 729\n",
            "Non-trainable params: 48\n",
            "_________________________________________________________________\n"
          ]
        }
      ]
    },
    {
      "cell_type": "code",
      "source": [
        "h = model.fit(X_train,y_train,epochs=50,validation_data=(X_test,y_test))"
      ],
      "metadata": {
        "colab": {
          "base_uri": "https://localhost:8080/"
        },
        "id": "Tef3cw6hwUzA",
        "outputId": "94601b1b-ef48-4207-822d-4c2a69b14ded"
      },
      "execution_count": 52,
      "outputs": [
        {
          "output_type": "stream",
          "name": "stdout",
          "text": [
            "Epoch 1/50\n",
            "11/11 [==============================] - 2s 33ms/step - loss: 0.9261 - accuracy: 0.5000 - val_loss: 0.6991 - val_accuracy: 0.5287\n",
            "Epoch 2/50\n",
            "11/11 [==============================] - 0s 7ms/step - loss: 0.7890 - accuracy: 0.5805 - val_loss: 0.6717 - val_accuracy: 0.6897\n",
            "Epoch 3/50\n",
            "11/11 [==============================] - 0s 5ms/step - loss: 0.7213 - accuracy: 0.6379 - val_loss: 0.6473 - val_accuracy: 0.8161\n",
            "Epoch 4/50\n",
            "11/11 [==============================] - 0s 5ms/step - loss: 0.6185 - accuracy: 0.6868 - val_loss: 0.6233 - val_accuracy: 0.8161\n",
            "Epoch 5/50\n",
            "11/11 [==============================] - 0s 5ms/step - loss: 0.5921 - accuracy: 0.7184 - val_loss: 0.5988 - val_accuracy: 0.8046\n",
            "Epoch 6/50\n",
            "11/11 [==============================] - 0s 5ms/step - loss: 0.5337 - accuracy: 0.7931 - val_loss: 0.5729 - val_accuracy: 0.8161\n",
            "Epoch 7/50\n",
            "11/11 [==============================] - 0s 5ms/step - loss: 0.5418 - accuracy: 0.7672 - val_loss: 0.5469 - val_accuracy: 0.8161\n",
            "Epoch 8/50\n",
            "11/11 [==============================] - 0s 5ms/step - loss: 0.5055 - accuracy: 0.8190 - val_loss: 0.5199 - val_accuracy: 0.8276\n",
            "Epoch 9/50\n",
            "11/11 [==============================] - 0s 5ms/step - loss: 0.4872 - accuracy: 0.8132 - val_loss: 0.4935 - val_accuracy: 0.8276\n",
            "Epoch 10/50\n",
            "11/11 [==============================] - 0s 5ms/step - loss: 0.4582 - accuracy: 0.8218 - val_loss: 0.4692 - val_accuracy: 0.8506\n",
            "Epoch 11/50\n",
            "11/11 [==============================] - 0s 5ms/step - loss: 0.4330 - accuracy: 0.8132 - val_loss: 0.4452 - val_accuracy: 0.8621\n",
            "Epoch 12/50\n",
            "11/11 [==============================] - 0s 6ms/step - loss: 0.3760 - accuracy: 0.8563 - val_loss: 0.4207 - val_accuracy: 0.8736\n",
            "Epoch 13/50\n",
            "11/11 [==============================] - 0s 5ms/step - loss: 0.3720 - accuracy: 0.8534 - val_loss: 0.3944 - val_accuracy: 0.8851\n",
            "Epoch 14/50\n",
            "11/11 [==============================] - 0s 6ms/step - loss: 0.3547 - accuracy: 0.8736 - val_loss: 0.3725 - val_accuracy: 0.8851\n",
            "Epoch 15/50\n",
            "11/11 [==============================] - 0s 6ms/step - loss: 0.3327 - accuracy: 0.8822 - val_loss: 0.3537 - val_accuracy: 0.8966\n",
            "Epoch 16/50\n",
            "11/11 [==============================] - 0s 5ms/step - loss: 0.2780 - accuracy: 0.8966 - val_loss: 0.3362 - val_accuracy: 0.8966\n",
            "Epoch 17/50\n",
            "11/11 [==============================] - 0s 5ms/step - loss: 0.2905 - accuracy: 0.8879 - val_loss: 0.3203 - val_accuracy: 0.8966\n",
            "Epoch 18/50\n",
            "11/11 [==============================] - 0s 6ms/step - loss: 0.3015 - accuracy: 0.8822 - val_loss: 0.3040 - val_accuracy: 0.9080\n",
            "Epoch 19/50\n",
            "11/11 [==============================] - 0s 5ms/step - loss: 0.2657 - accuracy: 0.9109 - val_loss: 0.2898 - val_accuracy: 0.9080\n",
            "Epoch 20/50\n",
            "11/11 [==============================] - 0s 6ms/step - loss: 0.2573 - accuracy: 0.9080 - val_loss: 0.2761 - val_accuracy: 0.9195\n",
            "Epoch 21/50\n",
            "11/11 [==============================] - 0s 5ms/step - loss: 0.2689 - accuracy: 0.8937 - val_loss: 0.2644 - val_accuracy: 0.9195\n",
            "Epoch 22/50\n",
            "11/11 [==============================] - 0s 6ms/step - loss: 0.2624 - accuracy: 0.9109 - val_loss: 0.2542 - val_accuracy: 0.9310\n",
            "Epoch 23/50\n",
            "11/11 [==============================] - 0s 5ms/step - loss: 0.2545 - accuracy: 0.9167 - val_loss: 0.2439 - val_accuracy: 0.9310\n",
            "Epoch 24/50\n",
            "11/11 [==============================] - 0s 5ms/step - loss: 0.2311 - accuracy: 0.9109 - val_loss: 0.2339 - val_accuracy: 0.9310\n",
            "Epoch 25/50\n",
            "11/11 [==============================] - 0s 5ms/step - loss: 0.2262 - accuracy: 0.9253 - val_loss: 0.2255 - val_accuracy: 0.9425\n",
            "Epoch 26/50\n",
            "11/11 [==============================] - 0s 5ms/step - loss: 0.2447 - accuracy: 0.9195 - val_loss: 0.2184 - val_accuracy: 0.9425\n",
            "Epoch 27/50\n",
            "11/11 [==============================] - 0s 5ms/step - loss: 0.1981 - accuracy: 0.9368 - val_loss: 0.2118 - val_accuracy: 0.9425\n",
            "Epoch 28/50\n",
            "11/11 [==============================] - 0s 5ms/step - loss: 0.2509 - accuracy: 0.9109 - val_loss: 0.2047 - val_accuracy: 0.9425\n",
            "Epoch 29/50\n",
            "11/11 [==============================] - 0s 5ms/step - loss: 0.1989 - accuracy: 0.9483 - val_loss: 0.2000 - val_accuracy: 0.9425\n",
            "Epoch 30/50\n",
            "11/11 [==============================] - 0s 5ms/step - loss: 0.2029 - accuracy: 0.9195 - val_loss: 0.1955 - val_accuracy: 0.9425\n",
            "Epoch 31/50\n",
            "11/11 [==============================] - 0s 5ms/step - loss: 0.1885 - accuracy: 0.9310 - val_loss: 0.1911 - val_accuracy: 0.9425\n",
            "Epoch 32/50\n",
            "11/11 [==============================] - 0s 6ms/step - loss: 0.1828 - accuracy: 0.9483 - val_loss: 0.1860 - val_accuracy: 0.9540\n",
            "Epoch 33/50\n",
            "11/11 [==============================] - 0s 5ms/step - loss: 0.1877 - accuracy: 0.9397 - val_loss: 0.1815 - val_accuracy: 0.9425\n",
            "Epoch 34/50\n",
            "11/11 [==============================] - 0s 5ms/step - loss: 0.1908 - accuracy: 0.9397 - val_loss: 0.1784 - val_accuracy: 0.9425\n",
            "Epoch 35/50\n",
            "11/11 [==============================] - 0s 7ms/step - loss: 0.1752 - accuracy: 0.9540 - val_loss: 0.1779 - val_accuracy: 0.9425\n",
            "Epoch 36/50\n",
            "11/11 [==============================] - 0s 5ms/step - loss: 0.1783 - accuracy: 0.9454 - val_loss: 0.1746 - val_accuracy: 0.9425\n",
            "Epoch 37/50\n",
            "11/11 [==============================] - 0s 6ms/step - loss: 0.1945 - accuracy: 0.9425 - val_loss: 0.1723 - val_accuracy: 0.9425\n",
            "Epoch 38/50\n",
            "11/11 [==============================] - 0s 5ms/step - loss: 0.1955 - accuracy: 0.9368 - val_loss: 0.1704 - val_accuracy: 0.9425\n",
            "Epoch 39/50\n",
            "11/11 [==============================] - 0s 7ms/step - loss: 0.2038 - accuracy: 0.9339 - val_loss: 0.1689 - val_accuracy: 0.9425\n",
            "Epoch 40/50\n",
            "11/11 [==============================] - 0s 8ms/step - loss: 0.1617 - accuracy: 0.9511 - val_loss: 0.1682 - val_accuracy: 0.9425\n",
            "Epoch 41/50\n",
            "11/11 [==============================] - 0s 6ms/step - loss: 0.1670 - accuracy: 0.9511 - val_loss: 0.1679 - val_accuracy: 0.9425\n",
            "Epoch 42/50\n",
            "11/11 [==============================] - 0s 6ms/step - loss: 0.1646 - accuracy: 0.9425 - val_loss: 0.1659 - val_accuracy: 0.9425\n",
            "Epoch 43/50\n",
            "11/11 [==============================] - 0s 5ms/step - loss: 0.1466 - accuracy: 0.9483 - val_loss: 0.1643 - val_accuracy: 0.9425\n",
            "Epoch 44/50\n",
            "11/11 [==============================] - 0s 6ms/step - loss: 0.1800 - accuracy: 0.9454 - val_loss: 0.1628 - val_accuracy: 0.9540\n",
            "Epoch 45/50\n",
            "11/11 [==============================] - 0s 6ms/step - loss: 0.1986 - accuracy: 0.9454 - val_loss: 0.1618 - val_accuracy: 0.9540\n",
            "Epoch 46/50\n",
            "11/11 [==============================] - 0s 7ms/step - loss: 0.1579 - accuracy: 0.9511 - val_loss: 0.1617 - val_accuracy: 0.9540\n",
            "Epoch 47/50\n",
            "11/11 [==============================] - 0s 5ms/step - loss: 0.1704 - accuracy: 0.9511 - val_loss: 0.1609 - val_accuracy: 0.9540\n",
            "Epoch 48/50\n",
            "11/11 [==============================] - 0s 6ms/step - loss: 0.1507 - accuracy: 0.9483 - val_loss: 0.1629 - val_accuracy: 0.9540\n",
            "Epoch 49/50\n",
            "11/11 [==============================] - 0s 5ms/step - loss: 0.1582 - accuracy: 0.9511 - val_loss: 0.1645 - val_accuracy: 0.9540\n",
            "Epoch 50/50\n",
            "11/11 [==============================] - 0s 5ms/step - loss: 0.1742 - accuracy: 0.9397 - val_loss: 0.1651 - val_accuracy: 0.9540\n"
          ]
        }
      ]
    },
    {
      "cell_type": "code",
      "source": [
        "plt.plot(h.history['accuracy'], label = 'Accuracy for Train set')\n",
        "plt.plot(h.history['val_accuracy'], label = 'Accuracy for Test Set')\n",
        "plt.title('Accuracy Graph for ANN')\n",
        "plt.ylabel('Accuracy')\n",
        "plt.xlabel('epochs')\n",
        "plt.legend()"
      ],
      "metadata": {
        "colab": {
          "base_uri": "https://localhost:8080/",
          "height": 312
        },
        "id": "XQlllhW2wWxr",
        "outputId": "70cdec13-b7ca-4a4b-b3b9-6dc4328f20be"
      },
      "execution_count": 53,
      "outputs": [
        {
          "output_type": "execute_result",
          "data": {
            "text/plain": [
              "<matplotlib.legend.Legend at 0x7f2db4a3ccd0>"
            ]
          },
          "metadata": {},
          "execution_count": 53
        },
        {
          "output_type": "display_data",
          "data": {
            "text/plain": [
              "<Figure size 432x288 with 1 Axes>"
            ],
            "image/png": "[encoded data removed]"
          },
          "metadata": {
            "needs_background": "light"
          }
        }
      ]
    },
    {
      "cell_type": "code",
      "source": [
        "plt.plot(h.history['loss'], label = 'loss for Train set')\n",
        "plt.plot(h.history['val_loss'], label = 'loss for Test Set')\n",
        "plt.title('loss Graph for ANN')\n",
        "plt.ylabel('loss')\n",
        "plt.xlabel('epochs')\n",
        "plt.legend()"
      ],
      "metadata": {
        "colab": {
          "base_uri": "https://localhost:8080/",
          "height": 312
        },
        "id": "KIOzAyanwZMg",
        "outputId": "bc4e937a-1368-4432-bd20-3b1df35857d2"
      },
      "execution_count": 54,
      "outputs": [
        {
          "output_type": "execute_result",
          "data": {
            "text/plain": [
              "<matplotlib.legend.Legend at 0x7f2db39eae90>"
            ]
          },
          "metadata": {},
          "execution_count": 54
        },
        {
          "output_type": "display_data",
          "data": {
            "text/plain": [
              "<Figure size 432x288 with 1 Axes>"
            ],
            "image/png": "[encoded data removed]"
          },
          "metadata": {
            "needs_background": "light"
          }
        }
      ]
    },
    {
      "cell_type": "code",
      "source": [
        "y_pred_ann = model.predict_classes(X_test)\n",
        "print(\"Accuracy: \",accuracy_score(y_test,y_pred_ann))\n",
        "print(\"Recall: \", recall_score(y_test,y_pred_ann))\n",
        "print(\"Precision: \", precision_score(y_test,y_pred_ann))\n",
        "print(confusion_matrix(y_test,y_pred_ann))"
      ],
      "metadata": {
        "colab": {
          "base_uri": "https://localhost:8080/"
        },
        "id": "DxCPy5SmwbG5",
        "outputId": "91ac4227-d94c-499c-dd6c-c0bae44da821"
      },
      "execution_count": 55,
      "outputs": [
        {
          "output_type": "stream",
          "name": "stdout",
          "text": [
            "WARNING:tensorflow:5 out of the last 13 calls to <function Model.make_predict_function.<locals>.predict_function at 0x7f2db3969440> triggered tf.function retracing. Tracing is expensive and the excessive number of tracings could be due to (1) creating @tf.function repeatedly in a loop, (2) passing tensors with different shapes, (3) passing Python objects instead of tensors. For (1), please define your @tf.function outside of the loop. For (2), @tf.function has experimental_relax_shapes=True option that relaxes argument shapes that can avoid unnecessary retracing. For (3), please refer to https://www.tensorflow.org/guide/function#controlling_retracing and https://www.tensorflow.org/api_docs/python/tf/function for  more details.\n",
            "Accuracy:  0.9540229885057471\n",
            "Recall:  0.9428571428571428\n",
            "Precision:  0.9428571428571428\n",
            "[[50  2]\n",
            " [ 2 33]]\n"
          ]
        },
        {
          "output_type": "stream",
          "name": "stderr",
          "text": [
            "/usr/local/lib/python3.7/dist-packages/tensorflow/python/keras/engine/sequential.py:455: UserWarning: `model.predict_classes()` is deprecated and will be removed after 2021-01-01. Please use instead:* `np.argmax(model.predict(x), axis=-1)`,   if your model does multi-class classification   (e.g. if it uses a `softmax` last-layer activation).* `(model.predict(x) > 0.5).astype(\"int32\")`,   if your model does binary classification   (e.g. if it uses a `sigmoid` last-layer activation).\n",
            "  warnings.warn('`model.predict_classes()` is deprecated and '\n"
          ]
        }
      ]
    },
    {
      "cell_type": "code",
      "source": [
        "rank7  = pd.read_excel(\"/content/voting84_dataset.xlsx\",sheet_name = \"mutual_info\").set_index('Attributes_Names')\n",
        "df_mutual = df[rank7[:12].index]\n",
        "X_col =  df_mutual\n",
        "y = df['Class Name']\n",
        "Scaler = StandardScaler()\n",
        "X_col =  Scaler.fit_transform(X_col)\n",
        "X_train, X_test, y_train, y_test = train_test_split(X_col, y, test_size=0.2, random_state=0)\n",
        "print(\"Shape of training data\",X_train.shape)\n",
        "print(\"Shape of testing data\",X_test.shape)"
      ],
      "metadata": {
        "colab": {
          "base_uri": "https://localhost:8080/"
        },
        "id": "4CRjbj9swc5U",
        "outputId": "d0ee6687-56b6-48c6-cca5-21086d58efb2"
      },
      "execution_count": 56,
      "outputs": [
        {
          "output_type": "stream",
          "name": "stdout",
          "text": [
            "Shape of training data (348, 12)\n",
            "Shape of testing data (87, 12)\n"
          ]
        }
      ]
    },
    {
      "cell_type": "code",
      "source": [
        "rf =  RandomForestClassifier()\n",
        "rf.fit(X_train,y_train)\n",
        "y_pred_rf =  rf.predict(X_test)\n",
        "print(\"Accuracy: \",accuracy_score(y_test,y_pred_rf))\n",
        "print(\"Recall: \", recall_score(y_test,y_pred_rf))\n",
        "print(\"Precision: \", precision_score(y_test,y_pred_rf))\n",
        "print(confusion_matrix(y_test,y_pred_rf))"
      ],
      "metadata": {
        "colab": {
          "base_uri": "https://localhost:8080/"
        },
        "id": "wV_WHIL2wfzo",
        "outputId": "cd5ff130-2b0a-4b58-b669-ccc114ba5071"
      },
      "execution_count": 57,
      "outputs": [
        {
          "output_type": "stream",
          "name": "stdout",
          "text": [
            "Accuracy:  0.9770114942528736\n",
            "Recall:  0.9714285714285714\n",
            "Precision:  0.9714285714285714\n",
            "[[51  1]\n",
            " [ 1 34]]\n"
          ]
        }
      ]
    },
    {
      "cell_type": "code",
      "source": [
        "svc =  SVC()\n",
        "svc.fit(X_test,y_test)\n",
        "y_pred_svc =  svc.predict(X_test)\n",
        "print(\"Accuracy: \",accuracy_score(y_test,y_pred_svc))\n",
        "print(\"Recall: \", recall_score(y_test,y_pred_svc))\n",
        "print(\"Precision: \", precision_score(y_test,y_pred_svc))\n",
        "print(confusion_matrix(y_test,y_pred_svc))"
      ],
      "metadata": {
        "colab": {
          "base_uri": "https://localhost:8080/"
        },
        "id": "PS0ZdqsVwiFO",
        "outputId": "d8a7daa0-5a99-4fa2-b43b-3a8c9b2ca75c"
      },
      "execution_count": 58,
      "outputs": [
        {
          "output_type": "stream",
          "name": "stdout",
          "text": [
            "Accuracy:  0.9770114942528736\n",
            "Recall:  0.9714285714285714\n",
            "Precision:  0.9714285714285714\n",
            "[[51  1]\n",
            " [ 1 34]]\n"
          ]
        }
      ]
    },
    {
      "cell_type": "code",
      "source": [
        "model = tf.keras.Sequential([\n",
        "    tf.keras.layers.Dense(8, activation='relu', input_shape=(12,)),\n",
        "    tf.keras.layers.BatchNormalization(),\n",
        "    tf.keras.layers.Dense(16, activation='relu'),\n",
        "    tf.keras.layers.BatchNormalization(),\n",
        "    tf.keras.layers.Dense(24, activation='relu'),\n",
        "    tf.keras.layers.Dropout(0.5), \n",
        "    tf.keras.layers.Dense(1,activation='sigmoid')\n",
        "  ])\n",
        "model.compile(loss='binary_crossentropy',\n",
        "              optimizer = 'adam',\n",
        "              metrics=['accuracy'])\n",
        "model.summary()"
      ],
      "metadata": {
        "colab": {
          "base_uri": "https://localhost:8080/"
        },
        "id": "MOKr_kFQwkz5",
        "outputId": "3777ff35-d065-4e71-d958-5bb9af5b554d"
      },
      "execution_count": 59,
      "outputs": [
        {
          "output_type": "stream",
          "name": "stdout",
          "text": [
            "Model: \"sequential_6\"\n",
            "_________________________________________________________________\n",
            "Layer (type)                 Output Shape              Param #   \n",
            "=================================================================\n",
            "dense_24 (Dense)             (None, 8)                 104       \n",
            "_________________________________________________________________\n",
            "batch_normalization_12 (Batc (None, 8)                 32        \n",
            "_________________________________________________________________\n",
            "dense_25 (Dense)             (None, 16)                144       \n",
            "_________________________________________________________________\n",
            "batch_normalization_13 (Batc (None, 16)                64        \n",
            "_________________________________________________________________\n",
            "dense_26 (Dense)             (None, 24)                408       \n",
            "_________________________________________________________________\n",
            "dropout_6 (Dropout)          (None, 24)                0         \n",
            "_________________________________________________________________\n",
            "dense_27 (Dense)             (None, 1)                 25        \n",
            "=================================================================\n",
            "Total params: 777\n",
            "Trainable params: 729\n",
            "Non-trainable params: 48\n",
            "_________________________________________________________________\n"
          ]
        }
      ]
    },
    {
      "cell_type": "code",
      "source": [
        "h = model.fit(X_train,y_train,epochs=50,validation_data=(X_test,y_test))"
      ],
      "metadata": {
        "colab": {
          "base_uri": "https://localhost:8080/"
        },
        "id": "kP1SCsjownL5",
        "outputId": "e846378f-d3b8-47f3-c119-ff485a529ab7"
      },
      "execution_count": 60,
      "outputs": [
        {
          "output_type": "stream",
          "name": "stdout",
          "text": [
            "Epoch 1/50\n",
            "11/11 [==============================] - 2s 34ms/step - loss: 0.5538 - accuracy: 0.7385 - val_loss: 0.6408 - val_accuracy: 0.4598\n",
            "Epoch 2/50\n",
            "11/11 [==============================] - 0s 8ms/step - loss: 0.5342 - accuracy: 0.7500 - val_loss: 0.5938 - val_accuracy: 0.7586\n",
            "Epoch 3/50\n",
            "11/11 [==============================] - 0s 5ms/step - loss: 0.4443 - accuracy: 0.8247 - val_loss: 0.5488 - val_accuracy: 0.7931\n",
            "Epoch 4/50\n",
            "11/11 [==============================] - 0s 5ms/step - loss: 0.4086 - accuracy: 0.8276 - val_loss: 0.5057 - val_accuracy: 0.8391\n",
            "Epoch 5/50\n",
            "11/11 [==============================] - 0s 5ms/step - loss: 0.3676 - accuracy: 0.8592 - val_loss: 0.4653 - val_accuracy: 0.8506\n",
            "Epoch 6/50\n",
            "11/11 [==============================] - 0s 5ms/step - loss: 0.3699 - accuracy: 0.8420 - val_loss: 0.4262 - val_accuracy: 0.8621\n",
            "Epoch 7/50\n",
            "11/11 [==============================] - 0s 5ms/step - loss: 0.3092 - accuracy: 0.8793 - val_loss: 0.3903 - val_accuracy: 0.8506\n",
            "Epoch 8/50\n",
            "11/11 [==============================] - 0s 5ms/step - loss: 0.3165 - accuracy: 0.8707 - val_loss: 0.3619 - val_accuracy: 0.8506\n",
            "Epoch 9/50\n",
            "11/11 [==============================] - 0s 5ms/step - loss: 0.2886 - accuracy: 0.8966 - val_loss: 0.3395 - val_accuracy: 0.8506\n",
            "Epoch 10/50\n",
            "11/11 [==============================] - 0s 7ms/step - loss: 0.2548 - accuracy: 0.8937 - val_loss: 0.3191 - val_accuracy: 0.8621\n",
            "Epoch 11/50\n",
            "11/11 [==============================] - 0s 5ms/step - loss: 0.2636 - accuracy: 0.8994 - val_loss: 0.3016 - val_accuracy: 0.8621\n",
            "Epoch 12/50\n",
            "11/11 [==============================] - 0s 7ms/step - loss: 0.2422 - accuracy: 0.9138 - val_loss: 0.2852 - val_accuracy: 0.8621\n",
            "Epoch 13/50\n",
            "11/11 [==============================] - 0s 8ms/step - loss: 0.2654 - accuracy: 0.9195 - val_loss: 0.2713 - val_accuracy: 0.8736\n",
            "Epoch 14/50\n",
            "11/11 [==============================] - 0s 6ms/step - loss: 0.2470 - accuracy: 0.9052 - val_loss: 0.2612 - val_accuracy: 0.8736\n",
            "Epoch 15/50\n",
            "11/11 [==============================] - 0s 5ms/step - loss: 0.2219 - accuracy: 0.9282 - val_loss: 0.2509 - val_accuracy: 0.8851\n",
            "Epoch 16/50\n",
            "11/11 [==============================] - 0s 5ms/step - loss: 0.2269 - accuracy: 0.9195 - val_loss: 0.2425 - val_accuracy: 0.8851\n",
            "Epoch 17/50\n",
            "11/11 [==============================] - 0s 5ms/step - loss: 0.1994 - accuracy: 0.9253 - val_loss: 0.2352 - val_accuracy: 0.8851\n",
            "Epoch 18/50\n",
            "11/11 [==============================] - 0s 7ms/step - loss: 0.2255 - accuracy: 0.9224 - val_loss: 0.2276 - val_accuracy: 0.8851\n",
            "Epoch 19/50\n",
            "11/11 [==============================] - 0s 5ms/step - loss: 0.2236 - accuracy: 0.9167 - val_loss: 0.2203 - val_accuracy: 0.8966\n",
            "Epoch 20/50\n",
            "11/11 [==============================] - 0s 6ms/step - loss: 0.2114 - accuracy: 0.9253 - val_loss: 0.2148 - val_accuracy: 0.8966\n",
            "Epoch 21/50\n",
            "11/11 [==============================] - 0s 5ms/step - loss: 0.1999 - accuracy: 0.9310 - val_loss: 0.2101 - val_accuracy: 0.8966\n",
            "Epoch 22/50\n",
            "11/11 [==============================] - 0s 7ms/step - loss: 0.1985 - accuracy: 0.9368 - val_loss: 0.2068 - val_accuracy: 0.8966\n",
            "Epoch 23/50\n",
            "11/11 [==============================] - 0s 6ms/step - loss: 0.1667 - accuracy: 0.9454 - val_loss: 0.2020 - val_accuracy: 0.8966\n",
            "Epoch 24/50\n",
            "11/11 [==============================] - 0s 5ms/step - loss: 0.1970 - accuracy: 0.9454 - val_loss: 0.1975 - val_accuracy: 0.8966\n",
            "Epoch 25/50\n",
            "11/11 [==============================] - 0s 5ms/step - loss: 0.1674 - accuracy: 0.9282 - val_loss: 0.1954 - val_accuracy: 0.8966\n",
            "Epoch 26/50\n",
            "11/11 [==============================] - 0s 5ms/step - loss: 0.1613 - accuracy: 0.9397 - val_loss: 0.1939 - val_accuracy: 0.8966\n",
            "Epoch 27/50\n",
            "11/11 [==============================] - 0s 5ms/step - loss: 0.1871 - accuracy: 0.9253 - val_loss: 0.1923 - val_accuracy: 0.8966\n",
            "Epoch 28/50\n",
            "11/11 [==============================] - 0s 5ms/step - loss: 0.1636 - accuracy: 0.9397 - val_loss: 0.1906 - val_accuracy: 0.9080\n",
            "Epoch 29/50\n",
            "11/11 [==============================] - 0s 7ms/step - loss: 0.1435 - accuracy: 0.9483 - val_loss: 0.1883 - val_accuracy: 0.9080\n",
            "Epoch 30/50\n",
            "11/11 [==============================] - 0s 8ms/step - loss: 0.1423 - accuracy: 0.9454 - val_loss: 0.1861 - val_accuracy: 0.8966\n",
            "Epoch 31/50\n",
            "11/11 [==============================] - 0s 6ms/step - loss: 0.1510 - accuracy: 0.9310 - val_loss: 0.1864 - val_accuracy: 0.8966\n",
            "Epoch 32/50\n",
            "11/11 [==============================] - 0s 6ms/step - loss: 0.1514 - accuracy: 0.9483 - val_loss: 0.1844 - val_accuracy: 0.9080\n",
            "Epoch 33/50\n",
            "11/11 [==============================] - 0s 5ms/step - loss: 0.1400 - accuracy: 0.9511 - val_loss: 0.1832 - val_accuracy: 0.9080\n",
            "Epoch 34/50\n",
            "11/11 [==============================] - 0s 6ms/step - loss: 0.1673 - accuracy: 0.9282 - val_loss: 0.1821 - val_accuracy: 0.9080\n",
            "Epoch 35/50\n",
            "11/11 [==============================] - 0s 6ms/step - loss: 0.1600 - accuracy: 0.9397 - val_loss: 0.1797 - val_accuracy: 0.9080\n",
            "Epoch 36/50\n",
            "11/11 [==============================] - 0s 7ms/step - loss: 0.1641 - accuracy: 0.9310 - val_loss: 0.1762 - val_accuracy: 0.9080\n",
            "Epoch 37/50\n",
            "11/11 [==============================] - 0s 5ms/step - loss: 0.1601 - accuracy: 0.9397 - val_loss: 0.1722 - val_accuracy: 0.9080\n",
            "Epoch 38/50\n",
            "11/11 [==============================] - 0s 5ms/step - loss: 0.1406 - accuracy: 0.9483 - val_loss: 0.1723 - val_accuracy: 0.9080\n",
            "Epoch 39/50\n",
            "11/11 [==============================] - 0s 7ms/step - loss: 0.1339 - accuracy: 0.9483 - val_loss: 0.1732 - val_accuracy: 0.9080\n",
            "Epoch 40/50\n",
            "11/11 [==============================] - 0s 7ms/step - loss: 0.1335 - accuracy: 0.9511 - val_loss: 0.1715 - val_accuracy: 0.9195\n",
            "Epoch 41/50\n",
            "11/11 [==============================] - 0s 8ms/step - loss: 0.1288 - accuracy: 0.9598 - val_loss: 0.1691 - val_accuracy: 0.9195\n",
            "Epoch 42/50\n",
            "11/11 [==============================] - 0s 7ms/step - loss: 0.1280 - accuracy: 0.9454 - val_loss: 0.1679 - val_accuracy: 0.9195\n",
            "Epoch 43/50\n",
            "11/11 [==============================] - 0s 9ms/step - loss: 0.1425 - accuracy: 0.9540 - val_loss: 0.1670 - val_accuracy: 0.9195\n",
            "Epoch 44/50\n",
            "11/11 [==============================] - 0s 5ms/step - loss: 0.1478 - accuracy: 0.9339 - val_loss: 0.1679 - val_accuracy: 0.9195\n",
            "Epoch 45/50\n",
            "11/11 [==============================] - 0s 5ms/step - loss: 0.1261 - accuracy: 0.9655 - val_loss: 0.1679 - val_accuracy: 0.9195\n",
            "Epoch 46/50\n",
            "11/11 [==============================] - 0s 7ms/step - loss: 0.1237 - accuracy: 0.9569 - val_loss: 0.1663 - val_accuracy: 0.9195\n",
            "Epoch 47/50\n",
            "11/11 [==============================] - 0s 8ms/step - loss: 0.1196 - accuracy: 0.9569 - val_loss: 0.1640 - val_accuracy: 0.9195\n",
            "Epoch 48/50\n",
            "11/11 [==============================] - 0s 7ms/step - loss: 0.1068 - accuracy: 0.9626 - val_loss: 0.1601 - val_accuracy: 0.9195\n",
            "Epoch 49/50\n",
            "11/11 [==============================] - 0s 5ms/step - loss: 0.1419 - accuracy: 0.9454 - val_loss: 0.1541 - val_accuracy: 0.9195\n",
            "Epoch 50/50\n",
            "11/11 [==============================] - 0s 7ms/step - loss: 0.1348 - accuracy: 0.9569 - val_loss: 0.1550 - val_accuracy: 0.9195\n"
          ]
        }
      ]
    },
    {
      "cell_type": "code",
      "source": [
        "plt.plot(h.history['accuracy'], label = 'Accuracy for Train set')\n",
        "plt.plot(h.history['val_accuracy'], label = 'Accuracy for Test Set')\n",
        "plt.title('Accuracy Graph for ANN')\n",
        "plt.ylabel('Accuracy')\n",
        "plt.xlabel('epochs')\n",
        "plt.legend()"
      ],
      "metadata": {
        "colab": {
          "base_uri": "https://localhost:8080/",
          "height": 312
        },
        "id": "rqJMYfHOwpNo",
        "outputId": "5cbaddc8-f0da-4cf0-aa76-6f9442a26c4e"
      },
      "execution_count": 61,
      "outputs": [
        {
          "output_type": "execute_result",
          "data": {
            "text/plain": [
              "<matplotlib.legend.Legend at 0x7f2db2e8a150>"
            ]
          },
          "metadata": {},
          "execution_count": 61
        },
        {
          "output_type": "display_data",
          "data": {
            "text/plain": [
              "<Figure size 432x288 with 1 Axes>"
            ],
            "image/png": "[encoded data removed]"
          },
          "metadata": {
            "needs_background": "light"
          }
        }
      ]
    },
    {
      "cell_type": "code",
      "source": [
        "plt.plot(h.history['loss'], label = 'loss for Train set')\n",
        "plt.plot(h.history['val_loss'], label = 'loss for Test Set')\n",
        "plt.title('loss Graph for ANN')\n",
        "plt.ylabel('loss')\n",
        "plt.xlabel('epochs')\n",
        "plt.legend()"
      ],
      "metadata": {
        "colab": {
          "base_uri": "https://localhost:8080/",
          "height": 312
        },
        "id": "4ln4CGgNwroV",
        "outputId": "70b040c9-63e8-414e-faf8-e4e2fc230a47"
      },
      "execution_count": 62,
      "outputs": [
        {
          "output_type": "execute_result",
          "data": {
            "text/plain": [
              "<matplotlib.legend.Legend at 0x7f2db2df0610>"
            ]
          },
          "metadata": {},
          "execution_count": 62
        },
        {
          "output_type": "display_data",
          "data": {
            "text/plain": [
              "<Figure size 432x288 with 1 Axes>"
            ],
            "image/png": "[encoded data removed]"
          },
          "metadata": {
            "needs_background": "light"
          }
        }
      ]
    },
    {
      "cell_type": "code",
      "source": [
        "y_pred_ann = model.predict_classes(X_test)\n",
        "print(\"Accuracy: \",accuracy_score(y_test,y_pred_ann))\n",
        "print(\"Recall: \", recall_score(y_test,y_pred_ann))\n",
        "print(\"Precision: \", precision_score(y_test,y_pred_ann))\n",
        "print(confusion_matrix(y_test,y_pred_ann))"
      ],
      "metadata": {
        "colab": {
          "base_uri": "https://localhost:8080/"
        },
        "id": "osUKIBsxwtbL",
        "outputId": "f83bafd2-fc51-439a-86dd-48c04e6a6840"
      },
      "execution_count": 63,
      "outputs": [
        {
          "output_type": "stream",
          "name": "stdout",
          "text": [
            "Accuracy:  0.9195402298850575\n",
            "Recall:  0.8857142857142857\n",
            "Precision:  0.9117647058823529\n",
            "[[49  3]\n",
            " [ 4 31]]\n"
          ]
        },
        {
          "output_type": "stream",
          "name": "stderr",
          "text": [
            "/usr/local/lib/python3.7/dist-packages/tensorflow/python/keras/engine/sequential.py:455: UserWarning: `model.predict_classes()` is deprecated and will be removed after 2021-01-01. Please use instead:* `np.argmax(model.predict(x), axis=-1)`,   if your model does multi-class classification   (e.g. if it uses a `softmax` last-layer activation).* `(model.predict(x) > 0.5).astype(\"int32\")`,   if your model does binary classification   (e.g. if it uses a `sigmoid` last-layer activation).\n",
            "  warnings.warn('`model.predict_classes()` is deprecated and '\n"
          ]
        }
      ]
    },
    {
      "cell_type": "code",
      "source": [
        "rank8  = pd.read_excel(\"/content/voting84_dataset.xlsx\",sheet_name = \"Pearson_Correlation\").set_index('Attributes_Names')\n",
        "df_pearson =  df[rank8[:12].index]\n",
        "X_col =  df_pearson\n",
        "y = df['Class Name']\n",
        "Scaler = StandardScaler()\n",
        "X_col =  Scaler.fit_transform(X_col)\n",
        "X_train, X_test, y_train, y_test = train_test_split(X_col, y, test_size=0.2, random_state=0)\n",
        "print(\"Shape of training data\",X_train.shape)\n",
        "print(\"Shape of testing data\",X_test.shape)"
      ],
      "metadata": {
        "colab": {
          "base_uri": "https://localhost:8080/"
        },
        "id": "W0xJMsjdwvMJ",
        "outputId": "6e45d953-fb56-4a17-c51a-a4b01e188f8f"
      },
      "execution_count": 64,
      "outputs": [
        {
          "output_type": "stream",
          "name": "stdout",
          "text": [
            "Shape of training data (348, 12)\n",
            "Shape of testing data (87, 12)\n"
          ]
        }
      ]
    },
    {
      "cell_type": "code",
      "source": [
        "rf =  RandomForestClassifier()\n",
        "rf.fit(X_train,y_train)\n",
        "y_pred_rf =  rf.predict(X_test)\n",
        "print(\"Accuracy: \",accuracy_score(y_test,y_pred_rf))\n",
        "print(\"Recall: \", recall_score(y_test,y_pred_rf))\n",
        "print(\"Precision: \", precision_score(y_test,y_pred_rf))\n",
        "print(confusion_matrix(y_test,y_pred_rf))"
      ],
      "metadata": {
        "colab": {
          "base_uri": "https://localhost:8080/"
        },
        "id": "_hDp_NMywx4L",
        "outputId": "fb782c6d-16e1-44d8-cdba-3a192d9ec7f1"
      },
      "execution_count": 65,
      "outputs": [
        {
          "output_type": "stream",
          "name": "stdout",
          "text": [
            "Accuracy:  0.9310344827586207\n",
            "Recall:  0.8571428571428571\n",
            "Precision:  0.967741935483871\n",
            "[[51  1]\n",
            " [ 5 30]]\n"
          ]
        }
      ]
    },
    {
      "cell_type": "code",
      "source": [
        "svc =  SVC()\n",
        "svc.fit(X_test,y_test)\n",
        "y_pred_svc =  svc.predict(X_test)\n",
        "print(\"Accuracy: \",accuracy_score(y_test,y_pred_svc))\n",
        "print(\"Recall: \", recall_score(y_test,y_pred_svc))\n",
        "print(\"Precision: \", precision_score(y_test,y_pred_svc))\n",
        "print(confusion_matrix(y_test,y_pred_svc))"
      ],
      "metadata": {
        "colab": {
          "base_uri": "https://localhost:8080/"
        },
        "id": "qUoZchC3w1Jo",
        "outputId": "231b5c01-eaf0-4790-f63c-d4949f74cd9a"
      },
      "execution_count": 66,
      "outputs": [
        {
          "output_type": "stream",
          "name": "stdout",
          "text": [
            "Accuracy:  0.9770114942528736\n",
            "Recall:  0.9714285714285714\n",
            "Precision:  0.9714285714285714\n",
            "[[51  1]\n",
            " [ 1 34]]\n"
          ]
        }
      ]
    },
    {
      "cell_type": "code",
      "source": [
        "model = tf.keras.Sequential([\n",
        "    tf.keras.layers.Dense(8, activation='relu', input_shape=(12,)),\n",
        "    tf.keras.layers.BatchNormalization(),\n",
        "    tf.keras.layers.Dense(16, activation='relu'),\n",
        "    tf.keras.layers.BatchNormalization(),\n",
        "    tf.keras.layers.Dense(24, activation='relu'),\n",
        "    tf.keras.layers.Dropout(0.5), \n",
        "    tf.keras.layers.Dense(1,activation='sigmoid')\n",
        "  ])\n",
        "model.compile(loss='binary_crossentropy',\n",
        "              optimizer = 'adam',\n",
        "              metrics=['accuracy'])\n",
        "model.summary()"
      ],
      "metadata": {
        "colab": {
          "base_uri": "https://localhost:8080/"
        },
        "id": "qwdiTIL4w3I0",
        "outputId": "ad52e2b4-ca41-4ba4-e14b-0114593b7fef"
      },
      "execution_count": 67,
      "outputs": [
        {
          "output_type": "stream",
          "name": "stdout",
          "text": [
            "Model: \"sequential_7\"\n",
            "_________________________________________________________________\n",
            "Layer (type)                 Output Shape              Param #   \n",
            "=================================================================\n",
            "dense_28 (Dense)             (None, 8)                 104       \n",
            "_________________________________________________________________\n",
            "batch_normalization_14 (Batc (None, 8)                 32        \n",
            "_________________________________________________________________\n",
            "dense_29 (Dense)             (None, 16)                144       \n",
            "_________________________________________________________________\n",
            "batch_normalization_15 (Batc (None, 16)                64        \n",
            "_________________________________________________________________\n",
            "dense_30 (Dense)             (None, 24)                408       \n",
            "_________________________________________________________________\n",
            "dropout_7 (Dropout)          (None, 24)                0         \n",
            "_________________________________________________________________\n",
            "dense_31 (Dense)             (None, 1)                 25        \n",
            "=================================================================\n",
            "Total params: 777\n",
            "Trainable params: 729\n",
            "Non-trainable params: 48\n",
            "_________________________________________________________________\n"
          ]
        }
      ]
    },
    {
      "cell_type": "code",
      "source": [
        "h = model.fit(X_train,y_train,epochs=50,validation_data=(X_test,y_test))"
      ],
      "metadata": {
        "colab": {
          "base_uri": "https://localhost:8080/"
        },
        "id": "CFg8Dsjfw53W",
        "outputId": "55847419-fd31-4b38-8dcb-f1a09ac09f6a"
      },
      "execution_count": 68,
      "outputs": [
        {
          "output_type": "stream",
          "name": "stdout",
          "text": [
            "Epoch 1/50\n",
            "11/11 [==============================] - 3s 33ms/step - loss: 0.8650 - accuracy: 0.5029 - val_loss: 0.6593 - val_accuracy: 0.4713\n",
            "Epoch 2/50\n",
            "11/11 [==============================] - 0s 6ms/step - loss: 0.7479 - accuracy: 0.5948 - val_loss: 0.6140 - val_accuracy: 0.7126\n",
            "Epoch 3/50\n",
            "11/11 [==============================] - 0s 6ms/step - loss: 0.6378 - accuracy: 0.6782 - val_loss: 0.5705 - val_accuracy: 0.8276\n",
            "Epoch 4/50\n",
            "11/11 [==============================] - 0s 5ms/step - loss: 0.5625 - accuracy: 0.7184 - val_loss: 0.5293 - val_accuracy: 0.8276\n",
            "Epoch 5/50\n",
            "11/11 [==============================] - 0s 5ms/step - loss: 0.5104 - accuracy: 0.7356 - val_loss: 0.4889 - val_accuracy: 0.8621\n",
            "Epoch 6/50\n",
            "11/11 [==============================] - 0s 5ms/step - loss: 0.4526 - accuracy: 0.8103 - val_loss: 0.4529 - val_accuracy: 0.8621\n",
            "Epoch 7/50\n",
            "11/11 [==============================] - 0s 5ms/step - loss: 0.4298 - accuracy: 0.8247 - val_loss: 0.4177 - val_accuracy: 0.9195\n",
            "Epoch 8/50\n",
            "11/11 [==============================] - 0s 6ms/step - loss: 0.3816 - accuracy: 0.8621 - val_loss: 0.3849 - val_accuracy: 0.9310\n",
            "Epoch 9/50\n",
            "11/11 [==============================] - 0s 7ms/step - loss: 0.3646 - accuracy: 0.8592 - val_loss: 0.3565 - val_accuracy: 0.9425\n",
            "Epoch 10/50\n",
            "11/11 [==============================] - 0s 5ms/step - loss: 0.3661 - accuracy: 0.8678 - val_loss: 0.3294 - val_accuracy: 0.9540\n",
            "Epoch 11/50\n",
            "11/11 [==============================] - 0s 5ms/step - loss: 0.3502 - accuracy: 0.8793 - val_loss: 0.3028 - val_accuracy: 0.9540\n",
            "Epoch 12/50\n",
            "11/11 [==============================] - 0s 5ms/step - loss: 0.3031 - accuracy: 0.8966 - val_loss: 0.2774 - val_accuracy: 0.9540\n",
            "Epoch 13/50\n",
            "11/11 [==============================] - 0s 6ms/step - loss: 0.2955 - accuracy: 0.8908 - val_loss: 0.2560 - val_accuracy: 0.9540\n",
            "Epoch 14/50\n",
            "11/11 [==============================] - 0s 5ms/step - loss: 0.2986 - accuracy: 0.8908 - val_loss: 0.2389 - val_accuracy: 0.9540\n",
            "Epoch 15/50\n",
            "11/11 [==============================] - 0s 6ms/step - loss: 0.2554 - accuracy: 0.9023 - val_loss: 0.2183 - val_accuracy: 0.9540\n",
            "Epoch 16/50\n",
            "11/11 [==============================] - 0s 8ms/step - loss: 0.2512 - accuracy: 0.9109 - val_loss: 0.2002 - val_accuracy: 0.9540\n",
            "Epoch 17/50\n",
            "11/11 [==============================] - 0s 5ms/step - loss: 0.2611 - accuracy: 0.9167 - val_loss: 0.1872 - val_accuracy: 0.9540\n",
            "Epoch 18/50\n",
            "11/11 [==============================] - 0s 7ms/step - loss: 0.2582 - accuracy: 0.8994 - val_loss: 0.1779 - val_accuracy: 0.9540\n",
            "Epoch 19/50\n",
            "11/11 [==============================] - 0s 5ms/step - loss: 0.2537 - accuracy: 0.9138 - val_loss: 0.1686 - val_accuracy: 0.9540\n",
            "Epoch 20/50\n",
            "11/11 [==============================] - 0s 5ms/step - loss: 0.2299 - accuracy: 0.9253 - val_loss: 0.1607 - val_accuracy: 0.9540\n",
            "Epoch 21/50\n",
            "11/11 [==============================] - 0s 5ms/step - loss: 0.2397 - accuracy: 0.9195 - val_loss: 0.1552 - val_accuracy: 0.9540\n",
            "Epoch 22/50\n",
            "11/11 [==============================] - 0s 5ms/step - loss: 0.2248 - accuracy: 0.9282 - val_loss: 0.1489 - val_accuracy: 0.9540\n",
            "Epoch 23/50\n",
            "11/11 [==============================] - 0s 6ms/step - loss: 0.2254 - accuracy: 0.9109 - val_loss: 0.1438 - val_accuracy: 0.9540\n",
            "Epoch 24/50\n",
            "11/11 [==============================] - 0s 5ms/step - loss: 0.2103 - accuracy: 0.9109 - val_loss: 0.1398 - val_accuracy: 0.9540\n",
            "Epoch 25/50\n",
            "11/11 [==============================] - 0s 5ms/step - loss: 0.2030 - accuracy: 0.9339 - val_loss: 0.1347 - val_accuracy: 0.9540\n",
            "Epoch 26/50\n",
            "11/11 [==============================] - 0s 5ms/step - loss: 0.1941 - accuracy: 0.9195 - val_loss: 0.1309 - val_accuracy: 0.9540\n",
            "Epoch 27/50\n",
            "11/11 [==============================] - 0s 5ms/step - loss: 0.2221 - accuracy: 0.9282 - val_loss: 0.1284 - val_accuracy: 0.9540\n",
            "Epoch 28/50\n",
            "11/11 [==============================] - 0s 5ms/step - loss: 0.1951 - accuracy: 0.9253 - val_loss: 0.1275 - val_accuracy: 0.9540\n",
            "Epoch 29/50\n",
            "11/11 [==============================] - 0s 7ms/step - loss: 0.1905 - accuracy: 0.9339 - val_loss: 0.1259 - val_accuracy: 0.9540\n",
            "Epoch 30/50\n",
            "11/11 [==============================] - 0s 5ms/step - loss: 0.1909 - accuracy: 0.9368 - val_loss: 0.1257 - val_accuracy: 0.9540\n",
            "Epoch 31/50\n",
            "11/11 [==============================] - 0s 6ms/step - loss: 0.1872 - accuracy: 0.9282 - val_loss: 0.1249 - val_accuracy: 0.9540\n",
            "Epoch 32/50\n",
            "11/11 [==============================] - 0s 5ms/step - loss: 0.1942 - accuracy: 0.9339 - val_loss: 0.1232 - val_accuracy: 0.9540\n",
            "Epoch 33/50\n",
            "11/11 [==============================] - 0s 5ms/step - loss: 0.1701 - accuracy: 0.9569 - val_loss: 0.1210 - val_accuracy: 0.9540\n",
            "Epoch 34/50\n",
            "11/11 [==============================] - 0s 7ms/step - loss: 0.1652 - accuracy: 0.9310 - val_loss: 0.1202 - val_accuracy: 0.9540\n",
            "Epoch 35/50\n",
            "11/11 [==============================] - 0s 5ms/step - loss: 0.1778 - accuracy: 0.9282 - val_loss: 0.1215 - val_accuracy: 0.9540\n",
            "Epoch 36/50\n",
            "11/11 [==============================] - 0s 5ms/step - loss: 0.1327 - accuracy: 0.9454 - val_loss: 0.1210 - val_accuracy: 0.9540\n",
            "Epoch 37/50\n",
            "11/11 [==============================] - 0s 7ms/step - loss: 0.1396 - accuracy: 0.9569 - val_loss: 0.1210 - val_accuracy: 0.9425\n",
            "Epoch 38/50\n",
            "11/11 [==============================] - 0s 6ms/step - loss: 0.1355 - accuracy: 0.9540 - val_loss: 0.1210 - val_accuracy: 0.9425\n",
            "Epoch 39/50\n",
            "11/11 [==============================] - 0s 7ms/step - loss: 0.1317 - accuracy: 0.9598 - val_loss: 0.1224 - val_accuracy: 0.9425\n",
            "Epoch 40/50\n",
            "11/11 [==============================] - 0s 6ms/step - loss: 0.1353 - accuracy: 0.9454 - val_loss: 0.1217 - val_accuracy: 0.9425\n",
            "Epoch 41/50\n",
            "11/11 [==============================] - 0s 5ms/step - loss: 0.1498 - accuracy: 0.9425 - val_loss: 0.1216 - val_accuracy: 0.9425\n",
            "Epoch 42/50\n",
            "11/11 [==============================] - 0s 5ms/step - loss: 0.1384 - accuracy: 0.9511 - val_loss: 0.1230 - val_accuracy: 0.9425\n",
            "Epoch 43/50\n",
            "11/11 [==============================] - 0s 7ms/step - loss: 0.1656 - accuracy: 0.9483 - val_loss: 0.1230 - val_accuracy: 0.9425\n",
            "Epoch 44/50\n",
            "11/11 [==============================] - 0s 6ms/step - loss: 0.1409 - accuracy: 0.9511 - val_loss: 0.1251 - val_accuracy: 0.9425\n",
            "Epoch 45/50\n",
            "11/11 [==============================] - 0s 5ms/step - loss: 0.1420 - accuracy: 0.9569 - val_loss: 0.1240 - val_accuracy: 0.9425\n",
            "Epoch 46/50\n",
            "11/11 [==============================] - 0s 7ms/step - loss: 0.1399 - accuracy: 0.9425 - val_loss: 0.1243 - val_accuracy: 0.9425\n",
            "Epoch 47/50\n",
            "11/11 [==============================] - 0s 6ms/step - loss: 0.1400 - accuracy: 0.9454 - val_loss: 0.1242 - val_accuracy: 0.9425\n",
            "Epoch 48/50\n",
            "11/11 [==============================] - 0s 5ms/step - loss: 0.1351 - accuracy: 0.9397 - val_loss: 0.1198 - val_accuracy: 0.9425\n",
            "Epoch 49/50\n",
            "11/11 [==============================] - 0s 5ms/step - loss: 0.1425 - accuracy: 0.9483 - val_loss: 0.1152 - val_accuracy: 0.9425\n",
            "Epoch 50/50\n",
            "11/11 [==============================] - 0s 5ms/step - loss: 0.1548 - accuracy: 0.9540 - val_loss: 0.1123 - val_accuracy: 0.9425\n"
          ]
        }
      ]
    },
    {
      "cell_type": "code",
      "source": [
        "plt.plot(h.history['accuracy'], label = 'Accuracy for Train set')\n",
        "plt.plot(h.history['val_accuracy'], label = 'Accuracy for Test Set')\n",
        "plt.title('Accuracy Graph for ANN')\n",
        "plt.ylabel('Accuracy')\n",
        "plt.xlabel('epochs')\n",
        "plt.legend()"
      ],
      "metadata": {
        "colab": {
          "base_uri": "https://localhost:8080/",
          "height": 312
        },
        "id": "Zo94cvcDw8Pi",
        "outputId": "4672871d-ee58-4ee3-9dee-650f09298433"
      },
      "execution_count": 69,
      "outputs": [
        {
          "output_type": "execute_result",
          "data": {
            "text/plain": [
              "<matplotlib.legend.Legend at 0x7f2db8cc1a10>"
            ]
          },
          "metadata": {},
          "execution_count": 69
        },
        {
          "output_type": "display_data",
          "data": {
            "text/plain": [
              "<Figure size 432x288 with 1 Axes>"
            ],
            "image/png": "[encoded data removed]"
          },
          "metadata": {
            "needs_background": "light"
          }
        }
      ]
    },
    {
      "cell_type": "code",
      "source": [
        "plt.plot(h.history['loss'], label = 'loss for Train set')\n",
        "plt.plot(h.history['val_loss'], label = 'loss for Test Set')\n",
        "plt.title('loss Graph for ANN')\n",
        "plt.ylabel('loss')\n",
        "plt.xlabel('epochs')\n",
        "plt.legend()"
      ],
      "metadata": {
        "colab": {
          "base_uri": "https://localhost:8080/",
          "height": 312
        },
        "id": "mdmqj5p6w-a1",
        "outputId": "460503cd-1521-4f23-de3f-d0a61d1cfa32"
      },
      "execution_count": 70,
      "outputs": [
        {
          "output_type": "execute_result",
          "data": {
            "text/plain": [
              "<matplotlib.legend.Legend at 0x7f2db8eba350>"
            ]
          },
          "metadata": {},
          "execution_count": 70
        },
        {
          "output_type": "display_data",
          "data": {
            "text/plain": [
              "<Figure size 432x288 with 1 Axes>"
            ],
            "image/png": "[encoded data removed]"
          },
          "metadata": {
            "needs_background": "light"
          }
        }
      ]
    },
    {
      "cell_type": "code",
      "source": [
        "y_pred_ann = model.predict_classes(X_test)\n",
        "print(\"Accuracy: \",accuracy_score(y_test,y_pred_ann))\n",
        "print(\"Recall: \", recall_score(y_test,y_pred_ann))\n",
        "print(\"Precision: \", precision_score(y_test,y_pred_ann))\n",
        "print(confusion_matrix(y_test,y_pred_ann))"
      ],
      "metadata": {
        "colab": {
          "base_uri": "https://localhost:8080/"
        },
        "id": "_HW1rt5wxAMG",
        "outputId": "c2dab0d3-8cc1-4369-9c97-6696316bffaf"
      },
      "execution_count": 71,
      "outputs": [
        {
          "output_type": "stream",
          "name": "stdout",
          "text": [
            "Accuracy:  0.9425287356321839\n",
            "Recall:  0.9428571428571428\n",
            "Precision:  0.9166666666666666\n",
            "[[49  3]\n",
            " [ 2 33]]\n"
          ]
        },
        {
          "output_type": "stream",
          "name": "stderr",
          "text": [
            "/usr/local/lib/python3.7/dist-packages/tensorflow/python/keras/engine/sequential.py:455: UserWarning: `model.predict_classes()` is deprecated and will be removed after 2021-01-01. Please use instead:* `np.argmax(model.predict(x), axis=-1)`,   if your model does multi-class classification   (e.g. if it uses a `softmax` last-layer activation).* `(model.predict(x) > 0.5).astype(\"int32\")`,   if your model does binary classification   (e.g. if it uses a `sigmoid` last-layer activation).\n",
            "  warnings.warn('`model.predict_classes()` is deprecated and '\n"
          ]
        }
      ]
    },
    {
      "cell_type": "code",
      "source": [
        "OWA =  rank8  = pd.read_excel(\"/content/voting84_dataset.xlsx\",sheet_name = \"OWA_method\").set_index('Attributes_Name')\n",
        "df_owa  = df[OWA[:12].index]\n",
        "X_col =  df_owa\n",
        "y = df['Class Name']\n",
        "Scaler = StandardScaler()\n",
        "X_col =  Scaler.fit_transform(X_col)\n",
        "X_train, X_test, y_train, y_test = train_test_split(X_col, y, test_size=0.2, random_state=0)\n",
        "print(\"Shape of training data\",X_train.shape)\n",
        "print(\"Shape of testing data\",X_test.shape)"
      ],
      "metadata": {
        "colab": {
          "base_uri": "https://localhost:8080/"
        },
        "id": "EH5KeoBsxCGA",
        "outputId": "b6b7e44b-c732-4835-9a8e-9ff29b815d70"
      },
      "execution_count": 72,
      "outputs": [
        {
          "output_type": "stream",
          "name": "stdout",
          "text": [
            "Shape of training data (348, 12)\n",
            "Shape of testing data (87, 12)\n"
          ]
        }
      ]
    },
    {
      "cell_type": "code",
      "source": [
        "rf =  RandomForestClassifier()\n",
        "rf.fit(X_train,y_train)\n",
        "pred =  rf.predict(X_test)\n",
        "print(\"Accuracy: \",accuracy_score(y_test,pred))\n",
        "print(\"Recall: \", recall_score(y_test,pred))\n",
        "print(\"Precision: \", precision_score(y_test,pred))\n",
        "print(confusion_matrix(y_test,pred))"
      ],
      "metadata": {
        "colab": {
          "base_uri": "https://localhost:8080/"
        },
        "id": "DJb00f3exFFH",
        "outputId": "5b930361-7ae4-4fe8-dc32-75a1416465e4"
      },
      "execution_count": 73,
      "outputs": [
        {
          "output_type": "stream",
          "name": "stdout",
          "text": [
            "Accuracy:  0.9655172413793104\n",
            "Recall:  0.9428571428571428\n",
            "Precision:  0.9705882352941176\n",
            "[[51  1]\n",
            " [ 2 33]]\n"
          ]
        }
      ]
    },
    {
      "cell_type": "code",
      "source": [
        "svc =  SVC()\n",
        "svc.fit(X_test,y_test)\n",
        "y_pred =  svc.predict(X_test)\n",
        "print(\"Accuracy: \",accuracy_score(y_test,y_pred))\n",
        "print(\"Recall: \", recall_score(y_test,y_pred))\n",
        "print(\"Precision: \", precision_score(y_test,y_pred))\n",
        "print(confusion_matrix(y_test,y_pred))"
      ],
      "metadata": {
        "colab": {
          "base_uri": "https://localhost:8080/"
        },
        "id": "v7iqzzGCxHJX",
        "outputId": "3e6f2ec3-2b46-4f14-9880-3a9d997c9dd8"
      },
      "execution_count": 74,
      "outputs": [
        {
          "output_type": "stream",
          "name": "stdout",
          "text": [
            "Accuracy:  0.9770114942528736\n",
            "Recall:  0.9714285714285714\n",
            "Precision:  0.9714285714285714\n",
            "[[51  1]\n",
            " [ 1 34]]\n"
          ]
        }
      ]
    },
    {
      "cell_type": "code",
      "source": [
        "model = tf.keras.Sequential([\n",
        "    tf.keras.layers.Dense(8, activation='relu', input_shape=(12,)),\n",
        "    tf.keras.layers.BatchNormalization(),\n",
        "    tf.keras.layers.Dense(16, activation='relu'),\n",
        "    tf.keras.layers.BatchNormalization(),\n",
        "    tf.keras.layers.Dense(24, activation='relu'),\n",
        "    tf.keras.layers.Dropout(0.5), \n",
        "    tf.keras.layers.Dense(1,activation='sigmoid')\n",
        "  ])\n",
        "model.compile(loss='binary_crossentropy',\n",
        "              optimizer = 'adam',\n",
        "              metrics=['accuracy'])\n",
        "model.summary()"
      ],
      "metadata": {
        "colab": {
          "base_uri": "https://localhost:8080/"
        },
        "id": "yMQYRATzxI9d",
        "outputId": "efa8d270-353e-41c4-8cc1-9f4d5162f9d4"
      },
      "execution_count": 75,
      "outputs": [
        {
          "output_type": "stream",
          "name": "stdout",
          "text": [
            "Model: \"sequential_8\"\n",
            "_________________________________________________________________\n",
            "Layer (type)                 Output Shape              Param #   \n",
            "=================================================================\n",
            "dense_32 (Dense)             (None, 8)                 104       \n",
            "_________________________________________________________________\n",
            "batch_normalization_16 (Batc (None, 8)                 32        \n",
            "_________________________________________________________________\n",
            "dense_33 (Dense)             (None, 16)                144       \n",
            "_________________________________________________________________\n",
            "batch_normalization_17 (Batc (None, 16)                64        \n",
            "_________________________________________________________________\n",
            "dense_34 (Dense)             (None, 24)                408       \n",
            "_________________________________________________________________\n",
            "dropout_8 (Dropout)          (None, 24)                0         \n",
            "_________________________________________________________________\n",
            "dense_35 (Dense)             (None, 1)                 25        \n",
            "=================================================================\n",
            "Total params: 777\n",
            "Trainable params: 729\n",
            "Non-trainable params: 48\n",
            "_________________________________________________________________\n"
          ]
        }
      ]
    },
    {
      "cell_type": "code",
      "source": [
        "h = model.fit(X_train,y_train,epochs=50,validation_data=(X_test,y_test))"
      ],
      "metadata": {
        "colab": {
          "base_uri": "https://localhost:8080/"
        },
        "id": "u6CtTQkkxLGX",
        "outputId": "3acc6d43-787b-49ca-a57c-f454eabbe93d"
      },
      "execution_count": 76,
      "outputs": [
        {
          "output_type": "stream",
          "name": "stdout",
          "text": [
            "Epoch 1/50\n",
            "11/11 [==============================] - 2s 33ms/step - loss: 0.7166 - accuracy: 0.5948 - val_loss: 0.6389 - val_accuracy: 0.8391\n",
            "Epoch 2/50\n",
            "11/11 [==============================] - 0s 5ms/step - loss: 0.6092 - accuracy: 0.6897 - val_loss: 0.6106 - val_accuracy: 0.8621\n",
            "Epoch 3/50\n",
            "11/11 [==============================] - 0s 6ms/step - loss: 0.5546 - accuracy: 0.7126 - val_loss: 0.5781 - val_accuracy: 0.8621\n",
            "Epoch 4/50\n",
            "11/11 [==============================] - 0s 7ms/step - loss: 0.4899 - accuracy: 0.7787 - val_loss: 0.5422 - val_accuracy: 0.8851\n",
            "Epoch 5/50\n",
            "11/11 [==============================] - 0s 10ms/step - loss: 0.4536 - accuracy: 0.7931 - val_loss: 0.5034 - val_accuracy: 0.9080\n",
            "Epoch 6/50\n",
            "11/11 [==============================] - 0s 5ms/step - loss: 0.4036 - accuracy: 0.8276 - val_loss: 0.4637 - val_accuracy: 0.9195\n",
            "Epoch 7/50\n",
            "11/11 [==============================] - 0s 4ms/step - loss: 0.3696 - accuracy: 0.8420 - val_loss: 0.4259 - val_accuracy: 0.9540\n",
            "Epoch 8/50\n",
            "11/11 [==============================] - 0s 6ms/step - loss: 0.3435 - accuracy: 0.8621 - val_loss: 0.3895 - val_accuracy: 0.9540\n",
            "Epoch 9/50\n",
            "11/11 [==============================] - 0s 6ms/step - loss: 0.3302 - accuracy: 0.8563 - val_loss: 0.3552 - val_accuracy: 0.9540\n",
            "Epoch 10/50\n",
            "11/11 [==============================] - 0s 5ms/step - loss: 0.3093 - accuracy: 0.8707 - val_loss: 0.3239 - val_accuracy: 0.9425\n",
            "Epoch 11/50\n",
            "11/11 [==============================] - 0s 11ms/step - loss: 0.2970 - accuracy: 0.8678 - val_loss: 0.2978 - val_accuracy: 0.9425\n",
            "Epoch 12/50\n",
            "11/11 [==============================] - 0s 6ms/step - loss: 0.2725 - accuracy: 0.8764 - val_loss: 0.2746 - val_accuracy: 0.9425\n",
            "Epoch 13/50\n",
            "11/11 [==============================] - 0s 6ms/step - loss: 0.2710 - accuracy: 0.8937 - val_loss: 0.2538 - val_accuracy: 0.9425\n",
            "Epoch 14/50\n",
            "11/11 [==============================] - 0s 6ms/step - loss: 0.2888 - accuracy: 0.9052 - val_loss: 0.2378 - val_accuracy: 0.9425\n",
            "Epoch 15/50\n",
            "11/11 [==============================] - 0s 7ms/step - loss: 0.2496 - accuracy: 0.9138 - val_loss: 0.2241 - val_accuracy: 0.9425\n",
            "Epoch 16/50\n",
            "11/11 [==============================] - 0s 6ms/step - loss: 0.2541 - accuracy: 0.9138 - val_loss: 0.2134 - val_accuracy: 0.9425\n",
            "Epoch 17/50\n",
            "11/11 [==============================] - 0s 6ms/step - loss: 0.2152 - accuracy: 0.9109 - val_loss: 0.2028 - val_accuracy: 0.9425\n",
            "Epoch 18/50\n",
            "11/11 [==============================] - 0s 6ms/step - loss: 0.2218 - accuracy: 0.9253 - val_loss: 0.1922 - val_accuracy: 0.9425\n",
            "Epoch 19/50\n",
            "11/11 [==============================] - 0s 5ms/step - loss: 0.2613 - accuracy: 0.8994 - val_loss: 0.1860 - val_accuracy: 0.9425\n",
            "Epoch 20/50\n",
            "11/11 [==============================] - 0s 7ms/step - loss: 0.2019 - accuracy: 0.9224 - val_loss: 0.1786 - val_accuracy: 0.9425\n",
            "Epoch 21/50\n",
            "11/11 [==============================] - 0s 5ms/step - loss: 0.2053 - accuracy: 0.9282 - val_loss: 0.1731 - val_accuracy: 0.9425\n",
            "Epoch 22/50\n",
            "11/11 [==============================] - 0s 5ms/step - loss: 0.2265 - accuracy: 0.9253 - val_loss: 0.1671 - val_accuracy: 0.9425\n",
            "Epoch 23/50\n",
            "11/11 [==============================] - 0s 5ms/step - loss: 0.2220 - accuracy: 0.9224 - val_loss: 0.1630 - val_accuracy: 0.9540\n",
            "Epoch 24/50\n",
            "11/11 [==============================] - 0s 6ms/step - loss: 0.2070 - accuracy: 0.9397 - val_loss: 0.1589 - val_accuracy: 0.9540\n",
            "Epoch 25/50\n",
            "11/11 [==============================] - 0s 5ms/step - loss: 0.1869 - accuracy: 0.9368 - val_loss: 0.1569 - val_accuracy: 0.9540\n",
            "Epoch 26/50\n",
            "11/11 [==============================] - 0s 5ms/step - loss: 0.1882 - accuracy: 0.9425 - val_loss: 0.1542 - val_accuracy: 0.9540\n",
            "Epoch 27/50\n",
            "11/11 [==============================] - 0s 6ms/step - loss: 0.1743 - accuracy: 0.9425 - val_loss: 0.1503 - val_accuracy: 0.9540\n",
            "Epoch 28/50\n",
            "11/11 [==============================] - 0s 6ms/step - loss: 0.1651 - accuracy: 0.9511 - val_loss: 0.1471 - val_accuracy: 0.9540\n",
            "Epoch 29/50\n",
            "11/11 [==============================] - 0s 5ms/step - loss: 0.1489 - accuracy: 0.9598 - val_loss: 0.1460 - val_accuracy: 0.9540\n",
            "Epoch 30/50\n",
            "11/11 [==============================] - 0s 5ms/step - loss: 0.1589 - accuracy: 0.9540 - val_loss: 0.1449 - val_accuracy: 0.9540\n",
            "Epoch 31/50\n",
            "11/11 [==============================] - 0s 7ms/step - loss: 0.1370 - accuracy: 0.9511 - val_loss: 0.1445 - val_accuracy: 0.9540\n",
            "Epoch 32/50\n",
            "11/11 [==============================] - 0s 7ms/step - loss: 0.1648 - accuracy: 0.9454 - val_loss: 0.1458 - val_accuracy: 0.9540\n",
            "Epoch 33/50\n",
            "11/11 [==============================] - 0s 7ms/step - loss: 0.1576 - accuracy: 0.9454 - val_loss: 0.1460 - val_accuracy: 0.9540\n",
            "Epoch 34/50\n",
            "11/11 [==============================] - 0s 9ms/step - loss: 0.1578 - accuracy: 0.9425 - val_loss: 0.1474 - val_accuracy: 0.9540\n",
            "Epoch 35/50\n",
            "11/11 [==============================] - 0s 7ms/step - loss: 0.1704 - accuracy: 0.9483 - val_loss: 0.1475 - val_accuracy: 0.9540\n",
            "Epoch 36/50\n",
            "11/11 [==============================] - 0s 6ms/step - loss: 0.1484 - accuracy: 0.9598 - val_loss: 0.1468 - val_accuracy: 0.9540\n",
            "Epoch 37/50\n",
            "11/11 [==============================] - 0s 10ms/step - loss: 0.1347 - accuracy: 0.9511 - val_loss: 0.1435 - val_accuracy: 0.9540\n",
            "Epoch 38/50\n",
            "11/11 [==============================] - 0s 6ms/step - loss: 0.1494 - accuracy: 0.9598 - val_loss: 0.1417 - val_accuracy: 0.9540\n",
            "Epoch 39/50\n",
            "11/11 [==============================] - 0s 6ms/step - loss: 0.1593 - accuracy: 0.9511 - val_loss: 0.1408 - val_accuracy: 0.9540\n",
            "Epoch 40/50\n",
            "11/11 [==============================] - 0s 5ms/step - loss: 0.1142 - accuracy: 0.9626 - val_loss: 0.1423 - val_accuracy: 0.9540\n",
            "Epoch 41/50\n",
            "11/11 [==============================] - 0s 6ms/step - loss: 0.1620 - accuracy: 0.9511 - val_loss: 0.1418 - val_accuracy: 0.9540\n",
            "Epoch 42/50\n",
            "11/11 [==============================] - 0s 6ms/step - loss: 0.1734 - accuracy: 0.9425 - val_loss: 0.1411 - val_accuracy: 0.9540\n",
            "Epoch 43/50\n",
            "11/11 [==============================] - 0s 7ms/step - loss: 0.1146 - accuracy: 0.9684 - val_loss: 0.1436 - val_accuracy: 0.9540\n",
            "Epoch 44/50\n",
            "11/11 [==============================] - 0s 5ms/step - loss: 0.1293 - accuracy: 0.9540 - val_loss: 0.1458 - val_accuracy: 0.9540\n",
            "Epoch 45/50\n",
            "11/11 [==============================] - 0s 5ms/step - loss: 0.1352 - accuracy: 0.9483 - val_loss: 0.1452 - val_accuracy: 0.9540\n",
            "Epoch 46/50\n",
            "11/11 [==============================] - 0s 5ms/step - loss: 0.1044 - accuracy: 0.9741 - val_loss: 0.1438 - val_accuracy: 0.9540\n",
            "Epoch 47/50\n",
            "11/11 [==============================] - 0s 6ms/step - loss: 0.1296 - accuracy: 0.9626 - val_loss: 0.1389 - val_accuracy: 0.9540\n",
            "Epoch 48/50\n",
            "11/11 [==============================] - 0s 8ms/step - loss: 0.1195 - accuracy: 0.9598 - val_loss: 0.1355 - val_accuracy: 0.9540\n",
            "Epoch 49/50\n",
            "11/11 [==============================] - 0s 6ms/step - loss: 0.1235 - accuracy: 0.9598 - val_loss: 0.1337 - val_accuracy: 0.9540\n",
            "Epoch 50/50\n",
            "11/11 [==============================] - 0s 6ms/step - loss: 0.1221 - accuracy: 0.9569 - val_loss: 0.1310 - val_accuracy: 0.9425\n"
          ]
        }
      ]
    },
    {
      "cell_type": "code",
      "source": [
        "plt.plot(h.history['accuracy'], label = 'Accuracy for Train set')\n",
        "plt.plot(h.history['val_accuracy'], label = 'Accuracy for Test Set')\n",
        "plt.title('Accuracy Graph for ANN')\n",
        "plt.ylabel('Accuracy')\n",
        "plt.xlabel('epochs')\n",
        "plt.legend()"
      ],
      "metadata": {
        "colab": {
          "base_uri": "https://localhost:8080/",
          "height": 312
        },
        "id": "4FnTf2MRxM9z",
        "outputId": "31f83ce7-5a27-4aa7-a2ba-97d1a571b41f"
      },
      "execution_count": 77,
      "outputs": [
        {
          "output_type": "execute_result",
          "data": {
            "text/plain": [
              "<matplotlib.legend.Legend at 0x7f2db88c4810>"
            ]
          },
          "metadata": {},
          "execution_count": 77
        },
        {
          "output_type": "display_data",
          "data": {
            "text/plain": [
              "<Figure size 432x288 with 1 Axes>"
            ],
            "image/png": "[encoded data removed]"
          },
          "metadata": {
            "needs_background": "light"
          }
        }
      ]
    },
    {
      "cell_type": "code",
      "source": [
        "plt.plot(h.history['loss'], label = 'loss for Train set')\n",
        "plt.plot(h.history['val_loss'], label = 'loss for Test Set')\n",
        "plt.title('loss Graph for ANN')\n",
        "plt.ylabel('loss')\n",
        "plt.xlabel('epochs')\n",
        "plt.legend()"
      ],
      "metadata": {
        "colab": {
          "base_uri": "https://localhost:8080/",
          "height": 312
        },
        "id": "GBrqTqrvxPvZ",
        "outputId": "aa7c9f6a-84ab-4aff-e789-f2ff645cab37"
      },
      "execution_count": 78,
      "outputs": [
        {
          "output_type": "execute_result",
          "data": {
            "text/plain": [
              "<matplotlib.legend.Legend at 0x7f2db4a87210>"
            ]
          },
          "metadata": {},
          "execution_count": 78
        },
        {
          "output_type": "display_data",
          "data": {
            "text/plain": [
              "<Figure size 432x288 with 1 Axes>"
            ],
            "image/png": "[encoded data removed]"
          },
          "metadata": {
            "needs_background": "light"
          }
        }
      ]
    },
    {
      "cell_type": "code",
      "source": [
        "y_pred_ann_owa = model.predict_classes(X_test)\n",
        "print(\"Accuracy: \",accuracy_score(y_test,y_pred_ann_owa))\n",
        "print(\"Recall: \", recall_score(y_test,y_pred_ann_owa))\n",
        "print(\"Precision: \", precision_score(y_test,y_pred_ann_owa))\n",
        "print(confusion_matrix(y_test,y_pred_ann_owa))"
      ],
      "metadata": {
        "colab": {
          "base_uri": "https://localhost:8080/"
        },
        "id": "XbhZAC2rxR6L",
        "outputId": "98580c0c-07c0-4ac4-c178-0b81b854d329"
      },
      "execution_count": 80,
      "outputs": [
        {
          "output_type": "stream",
          "name": "stdout",
          "text": [
            "Accuracy:  0.9425287356321839\n",
            "Recall:  0.9142857142857143\n",
            "Precision:  0.9411764705882353\n",
            "[[50  2]\n",
            " [ 3 32]]\n"
          ]
        },
        {
          "output_type": "stream",
          "name": "stderr",
          "text": [
            "/usr/local/lib/python3.7/dist-packages/tensorflow/python/keras/engine/sequential.py:455: UserWarning: `model.predict_classes()` is deprecated and will be removed after 2021-01-01. Please use instead:* `np.argmax(model.predict(x), axis=-1)`,   if your model does multi-class classification   (e.g. if it uses a `softmax` last-layer activation).* `(model.predict(x) > 0.5).astype(\"int32\")`,   if your model does binary classification   (e.g. if it uses a `sigmoid` last-layer activation).\n",
            "  warnings.warn('`model.predict_classes()` is deprecated and '\n"
          ]
        }
      ]
    },
    {
      "cell_type": "code",
      "source": [
        ""
      ],
      "metadata": {
        "id": "DRSqNCTexTqe"
      },
      "execution_count": null,
      "outputs": []
    }
  ]
}