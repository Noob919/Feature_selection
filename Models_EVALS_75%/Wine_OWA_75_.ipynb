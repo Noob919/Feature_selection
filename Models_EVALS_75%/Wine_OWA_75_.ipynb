{
  "nbformat": 4,
  "nbformat_minor": 0,
  "metadata": {
    "colab": {
      "name": "Wine_OWA_75%.ipynb",
      "provenance": [],
      "authorship_tag": "ABX9TyNdMytPany2Ri1L/EvsvNlD",
      "include_colab_link": true
    },
    "kernelspec": {
      "name": "python3",
      "display_name": "Python 3"
    },
    "language_info": {
      "name": "python"
    }
  },
  "cells": [
    {
      "cell_type": "markdown",
      "metadata": {
        "id": "view-in-github",
        "colab_type": "text"
      },
      "source": [
        "<a href=\"https://colab.research.google.com/github/Noob919/Feature_selection/blob/main/Models_EVALS_75%25/Wine_OWA_75_.ipynb\" target=\"_parent\"><img src=\"https://colab.research.google.com/assets/colab-badge.svg\" alt=\"Open In Colab\"/></a>"
      ]
    },
    {
      "cell_type": "code",
      "execution_count": 1,
      "metadata": {
        "colab": {
          "base_uri": "https://localhost:8080/"
        },
        "id": "p7IRLru9Wo5A",
        "outputId": "d872a779-365f-4615-f429-fef0b2207ce0"
      },
      "outputs": [
        {
          "output_type": "stream",
          "name": "stdout",
          "text": [
            "Found existing installation: tensorflow 2.8.2+zzzcolab20220527125636\n",
            "Uninstalling tensorflow-2.8.2+zzzcolab20220527125636:\n",
            "  Would remove:\n",
            "    /usr/local/bin/estimator_ckpt_converter\n",
            "    /usr/local/bin/import_pb_to_tensorboard\n",
            "    /usr/local/bin/saved_model_cli\n",
            "    /usr/local/bin/tensorboard\n",
            "    /usr/local/bin/tf_upgrade_v2\n",
            "    /usr/local/bin/tflite_convert\n",
            "    /usr/local/bin/toco\n",
            "    /usr/local/bin/toco_from_protos\n",
            "    /usr/local/lib/python3.7/dist-packages/tensorflow-2.8.2+zzzcolab20220527125636.dist-info/*\n",
            "    /usr/local/lib/python3.7/dist-packages/tensorflow/*\n",
            "Proceed (y/n)? y\n",
            "\n",
            "\n",
            "  Successfully uninstalled tensorflow-2.8.2+zzzcolab20220527125636\n"
          ]
        }
      ],
      "source": [
        "!pip uninstall tensorflow  "
      ]
    },
    {
      "cell_type": "code",
      "source": [
        "!pip install tensorflow==2.5"
      ],
      "metadata": {
        "colab": {
          "base_uri": "https://localhost:8080/",
          "height": 1000
        },
        "id": "18b0G8i4XYbK",
        "outputId": "4c435a68-9625-430f-82fb-efc3a199b60d"
      },
      "execution_count": 2,
      "outputs": [
        {
          "output_type": "stream",
          "name": "stdout",
          "text": [
            "Looking in indexes: https://pypi.org/simple, https://us-python.pkg.dev/colab-wheels/public/simple/\n",
            "Collecting tensorflow==2.5\n",
            "  Downloading tensorflow-2.5.0-cp37-cp37m-manylinux2010_x86_64.whl (454.3 MB)\n",
            "\u001b[K     |████████████████████████████████| 454.3 MB 15 kB/s \n",
            "\u001b[?25hRequirement already satisfied: opt-einsum~=3.3.0 in /usr/local/lib/python3.7/dist-packages (from tensorflow==2.5) (3.3.0)\n",
            "Collecting keras-nightly~=2.5.0.dev\n",
            "  Downloading keras_nightly-2.5.0.dev2021032900-py2.py3-none-any.whl (1.2 MB)\n",
            "\u001b[K     |████████████████████████████████| 1.2 MB 67.0 MB/s \n",
            "\u001b[?25hCollecting typing-extensions~=3.7.4\n",
            "  Downloading typing_extensions-3.7.4.3-py3-none-any.whl (22 kB)\n",
            "Collecting grpcio~=1.34.0\n",
            "  Downloading grpcio-1.34.1-cp37-cp37m-manylinux2014_x86_64.whl (4.0 MB)\n",
            "\u001b[K     |████████████████████████████████| 4.0 MB 37.4 MB/s \n",
            "\u001b[?25hRequirement already satisfied: termcolor~=1.1.0 in /usr/local/lib/python3.7/dist-packages (from tensorflow==2.5) (1.1.0)\n",
            "Collecting tensorflow-estimator<2.6.0,>=2.5.0rc0\n",
            "  Downloading tensorflow_estimator-2.5.0-py2.py3-none-any.whl (462 kB)\n",
            "\u001b[K     |████████████████████████████████| 462 kB 65.5 MB/s \n",
            "\u001b[?25hCollecting wrapt~=1.12.1\n",
            "  Downloading wrapt-1.12.1.tar.gz (27 kB)\n",
            "Collecting gast==0.4.0\n",
            "  Downloading gast-0.4.0-py3-none-any.whl (9.8 kB)\n",
            "Requirement already satisfied: h5py~=3.1.0 in /usr/local/lib/python3.7/dist-packages (from tensorflow==2.5) (3.1.0)\n",
            "Requirement already satisfied: protobuf>=3.9.2 in /usr/local/lib/python3.7/dist-packages (from tensorflow==2.5) (3.17.3)\n",
            "Requirement already satisfied: keras-preprocessing~=1.1.2 in /usr/local/lib/python3.7/dist-packages (from tensorflow==2.5) (1.1.2)\n",
            "Requirement already satisfied: wheel~=0.35 in /usr/local/lib/python3.7/dist-packages (from tensorflow==2.5) (0.37.1)\n",
            "Requirement already satisfied: astunparse~=1.6.3 in /usr/local/lib/python3.7/dist-packages (from tensorflow==2.5) (1.6.3)\n",
            "Requirement already satisfied: tensorboard~=2.5 in /usr/local/lib/python3.7/dist-packages (from tensorflow==2.5) (2.8.0)\n",
            "Collecting numpy~=1.19.2\n",
            "  Downloading numpy-1.19.5-cp37-cp37m-manylinux2010_x86_64.whl (14.8 MB)\n",
            "\u001b[K     |████████████████████████████████| 14.8 MB 64.8 MB/s \n",
            "\u001b[?25hCollecting absl-py~=0.10\n",
            "  Downloading absl_py-0.15.0-py3-none-any.whl (132 kB)\n",
            "\u001b[K     |████████████████████████████████| 132 kB 61.9 MB/s \n",
            "\u001b[?25hCollecting flatbuffers~=1.12.0\n",
            "  Downloading flatbuffers-1.12-py2.py3-none-any.whl (15 kB)\n",
            "Requirement already satisfied: google-pasta~=0.2 in /usr/local/lib/python3.7/dist-packages (from tensorflow==2.5) (0.2.0)\n",
            "Requirement already satisfied: six~=1.15.0 in /usr/local/lib/python3.7/dist-packages (from tensorflow==2.5) (1.15.0)\n",
            "Requirement already satisfied: cached-property in /usr/local/lib/python3.7/dist-packages (from h5py~=3.1.0->tensorflow==2.5) (1.5.2)\n",
            "Requirement already satisfied: google-auth<3,>=1.6.3 in /usr/local/lib/python3.7/dist-packages (from tensorboard~=2.5->tensorflow==2.5) (1.35.0)\n",
            "Requirement already satisfied: requests<3,>=2.21.0 in /usr/local/lib/python3.7/dist-packages (from tensorboard~=2.5->tensorflow==2.5) (2.23.0)\n",
            "Requirement already satisfied: setuptools>=41.0.0 in /usr/local/lib/python3.7/dist-packages (from tensorboard~=2.5->tensorflow==2.5) (57.4.0)\n",
            "Requirement already satisfied: tensorboard-plugin-wit>=1.6.0 in /usr/local/lib/python3.7/dist-packages (from tensorboard~=2.5->tensorflow==2.5) (1.8.1)\n",
            "Requirement already satisfied: werkzeug>=0.11.15 in /usr/local/lib/python3.7/dist-packages (from tensorboard~=2.5->tensorflow==2.5) (1.0.1)\n",
            "Requirement already satisfied: google-auth-oauthlib<0.5,>=0.4.1 in /usr/local/lib/python3.7/dist-packages (from tensorboard~=2.5->tensorflow==2.5) (0.4.6)\n",
            "Requirement already satisfied: tensorboard-data-server<0.7.0,>=0.6.0 in /usr/local/lib/python3.7/dist-packages (from tensorboard~=2.5->tensorflow==2.5) (0.6.1)\n",
            "Requirement already satisfied: markdown>=2.6.8 in /usr/local/lib/python3.7/dist-packages (from tensorboard~=2.5->tensorflow==2.5) (3.3.7)\n",
            "Requirement already satisfied: pyasn1-modules>=0.2.1 in /usr/local/lib/python3.7/dist-packages (from google-auth<3,>=1.6.3->tensorboard~=2.5->tensorflow==2.5) (0.2.8)\n",
            "Requirement already satisfied: cachetools<5.0,>=2.0.0 in /usr/local/lib/python3.7/dist-packages (from google-auth<3,>=1.6.3->tensorboard~=2.5->tensorflow==2.5) (4.2.4)\n",
            "Requirement already satisfied: rsa<5,>=3.1.4 in /usr/local/lib/python3.7/dist-packages (from google-auth<3,>=1.6.3->tensorboard~=2.5->tensorflow==2.5) (4.8)\n",
            "Requirement already satisfied: requests-oauthlib>=0.7.0 in /usr/local/lib/python3.7/dist-packages (from google-auth-oauthlib<0.5,>=0.4.1->tensorboard~=2.5->tensorflow==2.5) (1.3.1)\n",
            "Requirement already satisfied: importlib-metadata>=4.4 in /usr/local/lib/python3.7/dist-packages (from markdown>=2.6.8->tensorboard~=2.5->tensorflow==2.5) (4.11.4)\n",
            "Requirement already satisfied: zipp>=0.5 in /usr/local/lib/python3.7/dist-packages (from importlib-metadata>=4.4->markdown>=2.6.8->tensorboard~=2.5->tensorflow==2.5) (3.8.0)\n",
            "Requirement already satisfied: pyasn1<0.5.0,>=0.4.6 in /usr/local/lib/python3.7/dist-packages (from pyasn1-modules>=0.2.1->google-auth<3,>=1.6.3->tensorboard~=2.5->tensorflow==2.5) (0.4.8)\n",
            "Requirement already satisfied: chardet<4,>=3.0.2 in /usr/local/lib/python3.7/dist-packages (from requests<3,>=2.21.0->tensorboard~=2.5->tensorflow==2.5) (3.0.4)\n",
            "Requirement already satisfied: idna<3,>=2.5 in /usr/local/lib/python3.7/dist-packages (from requests<3,>=2.21.0->tensorboard~=2.5->tensorflow==2.5) (2.10)\n",
            "Requirement already satisfied: urllib3!=1.25.0,!=1.25.1,<1.26,>=1.21.1 in /usr/local/lib/python3.7/dist-packages (from requests<3,>=2.21.0->tensorboard~=2.5->tensorflow==2.5) (1.24.3)\n",
            "Requirement already satisfied: certifi>=2017.4.17 in /usr/local/lib/python3.7/dist-packages (from requests<3,>=2.21.0->tensorboard~=2.5->tensorflow==2.5) (2022.5.18.1)\n",
            "Requirement already satisfied: oauthlib>=3.0.0 in /usr/local/lib/python3.7/dist-packages (from requests-oauthlib>=0.7.0->google-auth-oauthlib<0.5,>=0.4.1->tensorboard~=2.5->tensorflow==2.5) (3.2.0)\n",
            "Building wheels for collected packages: wrapt\n",
            "  Building wheel for wrapt (setup.py) ... \u001b[?25l\u001b[?25hdone\n",
            "  Created wheel for wrapt: filename=wrapt-1.12.1-cp37-cp37m-linux_x86_64.whl size=68723 sha256=3739076a9350f6a5e234b48d9bdb081951415d53bb353bcb38586105a17f42cc\n",
            "  Stored in directory: /root/.cache/pip/wheels/62/76/4c/aa25851149f3f6d9785f6c869387ad82b3fd37582fa8147ac6\n",
            "Successfully built wrapt\n",
            "Installing collected packages: typing-extensions, numpy, grpcio, absl-py, wrapt, tensorflow-estimator, keras-nightly, gast, flatbuffers, tensorflow\n",
            "  Attempting uninstall: typing-extensions\n",
            "    Found existing installation: typing-extensions 4.2.0\n",
            "    Uninstalling typing-extensions-4.2.0:\n",
            "      Successfully uninstalled typing-extensions-4.2.0\n",
            "  Attempting uninstall: numpy\n",
            "    Found existing installation: numpy 1.21.6\n",
            "    Uninstalling numpy-1.21.6:\n",
            "      Successfully uninstalled numpy-1.21.6\n",
            "  Attempting uninstall: grpcio\n",
            "    Found existing installation: grpcio 1.46.3\n",
            "    Uninstalling grpcio-1.46.3:\n",
            "      Successfully uninstalled grpcio-1.46.3\n",
            "  Attempting uninstall: absl-py\n",
            "    Found existing installation: absl-py 1.0.0\n",
            "    Uninstalling absl-py-1.0.0:\n",
            "      Successfully uninstalled absl-py-1.0.0\n",
            "  Attempting uninstall: wrapt\n",
            "    Found existing installation: wrapt 1.14.1\n",
            "    Uninstalling wrapt-1.14.1:\n",
            "      Successfully uninstalled wrapt-1.14.1\n",
            "  Attempting uninstall: tensorflow-estimator\n",
            "    Found existing installation: tensorflow-estimator 2.8.0\n",
            "    Uninstalling tensorflow-estimator-2.8.0:\n",
            "      Successfully uninstalled tensorflow-estimator-2.8.0\n",
            "  Attempting uninstall: gast\n",
            "    Found existing installation: gast 0.5.3\n",
            "    Uninstalling gast-0.5.3:\n",
            "      Successfully uninstalled gast-0.5.3\n",
            "  Attempting uninstall: flatbuffers\n",
            "    Found existing installation: flatbuffers 2.0\n",
            "    Uninstalling flatbuffers-2.0:\n",
            "      Successfully uninstalled flatbuffers-2.0\n",
            "\u001b[31mERROR: pip's dependency resolver does not currently take into account all the packages that are installed. This behaviour is the source of the following dependency conflicts.\n",
            "xarray-einstats 0.2.2 requires numpy>=1.21, but you have numpy 1.19.5 which is incompatible.\n",
            "datascience 0.10.6 requires folium==0.2.1, but you have folium 0.8.3 which is incompatible.\n",
            "albumentations 0.1.12 requires imgaug<0.2.7,>=0.2.5, but you have imgaug 0.2.9 which is incompatible.\u001b[0m\n",
            "Successfully installed absl-py-0.15.0 flatbuffers-1.12 gast-0.4.0 grpcio-1.34.1 keras-nightly-2.5.0.dev2021032900 numpy-1.19.5 tensorflow-2.5.0 tensorflow-estimator-2.5.0 typing-extensions-3.7.4.3 wrapt-1.12.1\n"
          ]
        },
        {
          "output_type": "display_data",
          "data": {
            "application/vnd.colab-display-data+json": {
              "pip_warning": {
                "packages": [
                  "numpy",
                  "typing_extensions"
                ]
              }
            }
          },
          "metadata": {}
        }
      ]
    },
    {
      "cell_type": "code",
      "source": [
        "import numpy as np\n",
        "import pandas as pd\n",
        "from sklearn import preprocessing\n",
        "from sklearn.model_selection import train_test_split\n",
        "from sklearn.ensemble import RandomForestClassifier\n",
        "from sklearn.svm import SVC\n",
        "from sklearn.metrics import accuracy_score\n",
        "from sklearn.preprocessing import LabelEncoder\n",
        "from sklearn.preprocessing import StandardScaler\n",
        "import matplotlib.pyplot as plt\n",
        "import seaborn as sns\n",
        "import tensorflow as tf\n",
        "from tensorflow.keras import datasets, layers, models,Sequential"
      ],
      "metadata": {
        "id": "9z971YGMXa76"
      },
      "execution_count": 1,
      "outputs": []
    },
    {
      "cell_type": "code",
      "source": [
        "df =  pd.read_csv(\"https://raw.githubusercontent.com/Noob919/Feature_selection/main/Data/wine_dataset.csv\")"
      ],
      "metadata": {
        "id": "jGbsJaseXxrw"
      },
      "execution_count": 2,
      "outputs": []
    },
    {
      "cell_type": "markdown",
      "source": [
        "Dataset according to Chi Square"
      ],
      "metadata": {
        "id": "e9apftNVZLZJ"
      }
    },
    {
      "cell_type": "code",
      "source": [
        "rank1 = pd.read_excel(\"/content/Wine_dataset (1).xlsx\",sheet_name = \"Chi_2\").set_index('Attributes_Names')\n",
        "df_chi =  df[rank1[:9].index]"
      ],
      "metadata": {
        "id": "rqCDroEDY-yN"
      },
      "execution_count": 10,
      "outputs": []
    },
    {
      "cell_type": "code",
      "source": [
        "X_col =  df_chi\n",
        "y = LabelEncoder().fit_transform(df['style'])\n",
        "Scaler = StandardScaler()\n",
        "X_col =  Scaler.fit_transform(X_col)\n",
        "X_train, X_test, y_train, y_test = train_test_split(X_col, y, test_size=0.2, random_state=0)\n",
        "print(\"Shape of training data\",X_train.shape)\n",
        "print(\"Shape of testing data\",X_test.shape)"
      ],
      "metadata": {
        "colab": {
          "base_uri": "https://localhost:8080/"
        },
        "id": "N9oQfkIdZOZK",
        "outputId": "c0749380-9a04-46ea-b9f3-ea0313790152"
      },
      "execution_count": 11,
      "outputs": [
        {
          "output_type": "stream",
          "name": "stdout",
          "text": [
            "Shape of training data (5197, 9)\n",
            "Shape of testing data (1300, 9)\n"
          ]
        }
      ]
    },
    {
      "cell_type": "markdown",
      "source": [
        "Random Forest"
      ],
      "metadata": {
        "id": "-WoeSoArZvKl"
      }
    },
    {
      "cell_type": "code",
      "source": [
        "rf =  RandomForestClassifier()\n",
        "rf.fit(X_train,y_train)\n",
        "y_pred_rf =  rf.predict(X_test)\n",
        "accuracy_score(y_test,y_pred_rf)"
      ],
      "metadata": {
        "colab": {
          "base_uri": "https://localhost:8080/"
        },
        "id": "rbcFEbx7Zbr2",
        "outputId": "0b64e1f5-a043-4bb2-c89c-5a705ca033cb"
      },
      "execution_count": 12,
      "outputs": [
        {
          "output_type": "execute_result",
          "data": {
            "text/plain": [
              "0.9923076923076923"
            ]
          },
          "metadata": {},
          "execution_count": 12
        }
      ]
    },
    {
      "cell_type": "markdown",
      "source": [
        "SVC"
      ],
      "metadata": {
        "id": "-Yjfo0_yZ2rY"
      }
    },
    {
      "cell_type": "code",
      "source": [
        "svc =  SVC()\n",
        "svc.fit(X_test,y_test)\n",
        "y_pred_svc =  svc.predict(X_test)\n",
        "accuracy_score(y_test,y_pred_svc)"
      ],
      "metadata": {
        "colab": {
          "base_uri": "https://localhost:8080/"
        },
        "id": "Ud20tONHZueC",
        "outputId": "f5a32551-dd53-4bc0-96c8-61cb007d7d1c"
      },
      "execution_count": 13,
      "outputs": [
        {
          "output_type": "execute_result",
          "data": {
            "text/plain": [
              "0.9976923076923077"
            ]
          },
          "metadata": {},
          "execution_count": 13
        }
      ]
    },
    {
      "cell_type": "markdown",
      "source": [
        "ANN"
      ],
      "metadata": {
        "id": "yhHn40B9Z319"
      }
    },
    {
      "cell_type": "code",
      "source": [
        "model = tf.keras.Sequential([\n",
        "    tf.keras.layers.Dense(9, activation='relu', input_shape=(9,)),\n",
        "    tf.keras.layers.BatchNormalization(),\n",
        "    tf.keras.layers.Dense(12, activation='relu'),\n",
        "    tf.keras.layers.BatchNormalization(),\n",
        "    tf.keras.layers.Dense(24, activation='relu'),\n",
        "    tf.keras.layers.Dropout(0.5),\n",
        "    tf.keras.layers.Dense(1,activation='sigmoid')\n",
        "  ])"
      ],
      "metadata": {
        "id": "gZg20vF6ZzNg"
      },
      "execution_count": 19,
      "outputs": []
    },
    {
      "cell_type": "code",
      "source": [
        "model.compile(loss='binary_crossentropy',\n",
        "              optimizer = 'adam',\n",
        "              metrics=['accuracy'])"
      ],
      "metadata": {
        "id": "GtcbkCCiZ2L6"
      },
      "execution_count": 20,
      "outputs": []
    },
    {
      "cell_type": "code",
      "source": [
        "model.summary()"
      ],
      "metadata": {
        "colab": {
          "base_uri": "https://localhost:8080/"
        },
        "id": "WKLWsTsDZ7M-",
        "outputId": "6300fa32-6483-4080-faf0-c8456e5b10bb"
      },
      "execution_count": 21,
      "outputs": [
        {
          "output_type": "stream",
          "name": "stdout",
          "text": [
            "Model: \"sequential_1\"\n",
            "_________________________________________________________________\n",
            "Layer (type)                 Output Shape              Param #   \n",
            "=================================================================\n",
            "dense_4 (Dense)              (None, 9)                 90        \n",
            "_________________________________________________________________\n",
            "batch_normalization_2 (Batch (None, 9)                 36        \n",
            "_________________________________________________________________\n",
            "dense_5 (Dense)              (None, 12)                120       \n",
            "_________________________________________________________________\n",
            "batch_normalization_3 (Batch (None, 12)                48        \n",
            "_________________________________________________________________\n",
            "dense_6 (Dense)              (None, 24)                312       \n",
            "_________________________________________________________________\n",
            "dropout_1 (Dropout)          (None, 24)                0         \n",
            "_________________________________________________________________\n",
            "dense_7 (Dense)              (None, 1)                 25        \n",
            "=================================================================\n",
            "Total params: 631\n",
            "Trainable params: 589\n",
            "Non-trainable params: 42\n",
            "_________________________________________________________________\n"
          ]
        }
      ]
    },
    {
      "cell_type": "code",
      "source": [
        "h = model.fit(X_train,y_train,epochs=50,validation_data=(X_test,y_test))"
      ],
      "metadata": {
        "colab": {
          "base_uri": "https://localhost:8080/"
        },
        "id": "UXrH2wLlaEQn",
        "outputId": "a1b93ec9-eb46-4bb1-90ed-f54bc83171ed"
      },
      "execution_count": 22,
      "outputs": [
        {
          "output_type": "stream",
          "name": "stdout",
          "text": [
            "Epoch 1/50\n",
            "163/163 [==============================] - 1s 3ms/step - loss: 0.4718 - accuracy: 0.7801 - val_loss: 0.2056 - val_accuracy: 0.9546\n",
            "Epoch 2/50\n",
            "163/163 [==============================] - 0s 2ms/step - loss: 0.1686 - accuracy: 0.9482 - val_loss: 0.0785 - val_accuracy: 0.9700\n",
            "Epoch 3/50\n",
            "163/163 [==============================] - 0s 2ms/step - loss: 0.1173 - accuracy: 0.9621 - val_loss: 0.0559 - val_accuracy: 0.9792\n",
            "Epoch 4/50\n",
            "163/163 [==============================] - 0s 2ms/step - loss: 0.0942 - accuracy: 0.9765 - val_loss: 0.0482 - val_accuracy: 0.9815\n",
            "Epoch 5/50\n",
            "163/163 [==============================] - 0s 2ms/step - loss: 0.0842 - accuracy: 0.9784 - val_loss: 0.0418 - val_accuracy: 0.9838\n",
            "Epoch 6/50\n",
            "163/163 [==============================] - 0s 2ms/step - loss: 0.0774 - accuracy: 0.9790 - val_loss: 0.0383 - val_accuracy: 0.9838\n",
            "Epoch 7/50\n",
            "163/163 [==============================] - 0s 2ms/step - loss: 0.0683 - accuracy: 0.9813 - val_loss: 0.0335 - val_accuracy: 0.9885\n",
            "Epoch 8/50\n",
            "163/163 [==============================] - 0s 2ms/step - loss: 0.0654 - accuracy: 0.9836 - val_loss: 0.0306 - val_accuracy: 0.9869\n",
            "Epoch 9/50\n",
            "163/163 [==============================] - 0s 2ms/step - loss: 0.0613 - accuracy: 0.9865 - val_loss: 0.0275 - val_accuracy: 0.9869\n",
            "Epoch 10/50\n",
            "163/163 [==============================] - 0s 2ms/step - loss: 0.0644 - accuracy: 0.9838 - val_loss: 0.0246 - val_accuracy: 0.9892\n",
            "Epoch 11/50\n",
            "163/163 [==============================] - 0s 2ms/step - loss: 0.0611 - accuracy: 0.9842 - val_loss: 0.0238 - val_accuracy: 0.9915\n",
            "Epoch 12/50\n",
            "163/163 [==============================] - 0s 2ms/step - loss: 0.0562 - accuracy: 0.9846 - val_loss: 0.0226 - val_accuracy: 0.9938\n",
            "Epoch 13/50\n",
            "163/163 [==============================] - 0s 2ms/step - loss: 0.0516 - accuracy: 0.9883 - val_loss: 0.0215 - val_accuracy: 0.9923\n",
            "Epoch 14/50\n",
            "163/163 [==============================] - 0s 2ms/step - loss: 0.0515 - accuracy: 0.9875 - val_loss: 0.0220 - val_accuracy: 0.9900\n",
            "Epoch 15/50\n",
            "163/163 [==============================] - 0s 2ms/step - loss: 0.0535 - accuracy: 0.9858 - val_loss: 0.0208 - val_accuracy: 0.9908\n",
            "Epoch 16/50\n",
            "163/163 [==============================] - 0s 2ms/step - loss: 0.0483 - accuracy: 0.9879 - val_loss: 0.0199 - val_accuracy: 0.9938\n",
            "Epoch 17/50\n",
            "163/163 [==============================] - 0s 2ms/step - loss: 0.0534 - accuracy: 0.9865 - val_loss: 0.0201 - val_accuracy: 0.9938\n",
            "Epoch 18/50\n",
            "163/163 [==============================] - 0s 2ms/step - loss: 0.0466 - accuracy: 0.9871 - val_loss: 0.0193 - val_accuracy: 0.9923\n",
            "Epoch 19/50\n",
            "163/163 [==============================] - 0s 2ms/step - loss: 0.0461 - accuracy: 0.9881 - val_loss: 0.0184 - val_accuracy: 0.9946\n",
            "Epoch 20/50\n",
            "163/163 [==============================] - 0s 2ms/step - loss: 0.0459 - accuracy: 0.9875 - val_loss: 0.0176 - val_accuracy: 0.9946\n",
            "Epoch 21/50\n",
            "163/163 [==============================] - 0s 2ms/step - loss: 0.0488 - accuracy: 0.9881 - val_loss: 0.0182 - val_accuracy: 0.9931\n",
            "Epoch 22/50\n",
            "163/163 [==============================] - 0s 2ms/step - loss: 0.0464 - accuracy: 0.9881 - val_loss: 0.0182 - val_accuracy: 0.9931\n",
            "Epoch 23/50\n",
            "163/163 [==============================] - 0s 2ms/step - loss: 0.0427 - accuracy: 0.9875 - val_loss: 0.0192 - val_accuracy: 0.9946\n",
            "Epoch 24/50\n",
            "163/163 [==============================] - 0s 2ms/step - loss: 0.0436 - accuracy: 0.9888 - val_loss: 0.0179 - val_accuracy: 0.9938\n",
            "Epoch 25/50\n",
            "163/163 [==============================] - 0s 2ms/step - loss: 0.0412 - accuracy: 0.9885 - val_loss: 0.0175 - val_accuracy: 0.9931\n",
            "Epoch 26/50\n",
            "163/163 [==============================] - 0s 2ms/step - loss: 0.0411 - accuracy: 0.9908 - val_loss: 0.0180 - val_accuracy: 0.9946\n",
            "Epoch 27/50\n",
            "163/163 [==============================] - 0s 2ms/step - loss: 0.0395 - accuracy: 0.9894 - val_loss: 0.0172 - val_accuracy: 0.9946\n",
            "Epoch 28/50\n",
            "163/163 [==============================] - 0s 2ms/step - loss: 0.0406 - accuracy: 0.9888 - val_loss: 0.0163 - val_accuracy: 0.9938\n",
            "Epoch 29/50\n",
            "163/163 [==============================] - 0s 2ms/step - loss: 0.0418 - accuracy: 0.9896 - val_loss: 0.0170 - val_accuracy: 0.9946\n",
            "Epoch 30/50\n",
            "163/163 [==============================] - 0s 2ms/step - loss: 0.0397 - accuracy: 0.9898 - val_loss: 0.0164 - val_accuracy: 0.9946\n",
            "Epoch 31/50\n",
            "163/163 [==============================] - 0s 2ms/step - loss: 0.0427 - accuracy: 0.9896 - val_loss: 0.0163 - val_accuracy: 0.9946\n",
            "Epoch 32/50\n",
            "163/163 [==============================] - 0s 2ms/step - loss: 0.0364 - accuracy: 0.9900 - val_loss: 0.0177 - val_accuracy: 0.9923\n",
            "Epoch 33/50\n",
            "163/163 [==============================] - 0s 2ms/step - loss: 0.0404 - accuracy: 0.9890 - val_loss: 0.0179 - val_accuracy: 0.9946\n",
            "Epoch 34/50\n",
            "163/163 [==============================] - 0s 2ms/step - loss: 0.0391 - accuracy: 0.9883 - val_loss: 0.0181 - val_accuracy: 0.9954\n",
            "Epoch 35/50\n",
            "163/163 [==============================] - 0s 2ms/step - loss: 0.0382 - accuracy: 0.9898 - val_loss: 0.0176 - val_accuracy: 0.9938\n",
            "Epoch 36/50\n",
            "163/163 [==============================] - 0s 2ms/step - loss: 0.0317 - accuracy: 0.9900 - val_loss: 0.0171 - val_accuracy: 0.9931\n",
            "Epoch 37/50\n",
            "163/163 [==============================] - 0s 2ms/step - loss: 0.0321 - accuracy: 0.9917 - val_loss: 0.0179 - val_accuracy: 0.9931\n",
            "Epoch 38/50\n",
            "163/163 [==============================] - 0s 2ms/step - loss: 0.0385 - accuracy: 0.9896 - val_loss: 0.0193 - val_accuracy: 0.9931\n",
            "Epoch 39/50\n",
            "163/163 [==============================] - 0s 2ms/step - loss: 0.0309 - accuracy: 0.9917 - val_loss: 0.0176 - val_accuracy: 0.9931\n",
            "Epoch 40/50\n",
            "163/163 [==============================] - 0s 2ms/step - loss: 0.0426 - accuracy: 0.9902 - val_loss: 0.0176 - val_accuracy: 0.9931\n",
            "Epoch 41/50\n",
            "163/163 [==============================] - 0s 2ms/step - loss: 0.0337 - accuracy: 0.9910 - val_loss: 0.0200 - val_accuracy: 0.9915\n",
            "Epoch 42/50\n",
            "163/163 [==============================] - 0s 2ms/step - loss: 0.0285 - accuracy: 0.9927 - val_loss: 0.0168 - val_accuracy: 0.9931\n",
            "Epoch 43/50\n",
            "163/163 [==============================] - 0s 2ms/step - loss: 0.0305 - accuracy: 0.9917 - val_loss: 0.0169 - val_accuracy: 0.9938\n",
            "Epoch 44/50\n",
            "163/163 [==============================] - 0s 2ms/step - loss: 0.0314 - accuracy: 0.9911 - val_loss: 0.0169 - val_accuracy: 0.9938\n",
            "Epoch 45/50\n",
            "163/163 [==============================] - 0s 2ms/step - loss: 0.0323 - accuracy: 0.9913 - val_loss: 0.0183 - val_accuracy: 0.9938\n",
            "Epoch 46/50\n",
            "163/163 [==============================] - 0s 2ms/step - loss: 0.0366 - accuracy: 0.9917 - val_loss: 0.0201 - val_accuracy: 0.9946\n",
            "Epoch 47/50\n",
            "163/163 [==============================] - 0s 2ms/step - loss: 0.0315 - accuracy: 0.9906 - val_loss: 0.0187 - val_accuracy: 0.9931\n",
            "Epoch 48/50\n",
            "163/163 [==============================] - 0s 2ms/step - loss: 0.0274 - accuracy: 0.9931 - val_loss: 0.0180 - val_accuracy: 0.9946\n",
            "Epoch 49/50\n",
            "163/163 [==============================] - 0s 2ms/step - loss: 0.0265 - accuracy: 0.9931 - val_loss: 0.0175 - val_accuracy: 0.9923\n",
            "Epoch 50/50\n",
            "163/163 [==============================] - 0s 2ms/step - loss: 0.0329 - accuracy: 0.9896 - val_loss: 0.0191 - val_accuracy: 0.9938\n"
          ]
        }
      ]
    },
    {
      "cell_type": "code",
      "source": [
        "plt.plot(h.history['accuracy'], label = 'Accuracy for Train set')\n",
        "plt.plot(h.history['val_accuracy'], label = 'Accuracy for Test Set')\n",
        "plt.title('Accuracy Graph for ANN')\n",
        "plt.ylabel('Accuracy')\n",
        "plt.xlabel('epochs')\n",
        "plt.legend()"
      ],
      "metadata": {
        "colab": {
          "base_uri": "https://localhost:8080/",
          "height": 312
        },
        "id": "82FcRs3oZ8_F",
        "outputId": "2e382c4e-15fa-449c-b7c7-20c1aec783fb"
      },
      "execution_count": 23,
      "outputs": [
        {
          "output_type": "execute_result",
          "data": {
            "text/plain": [
              "<matplotlib.legend.Legend at 0x7fadb6ec0f10>"
            ]
          },
          "metadata": {},
          "execution_count": 23
        },
        {
          "output_type": "display_data",
          "data": {
            "text/plain": [
              "<Figure size 432x288 with 1 Axes>"
            ],
            "image/png": "[encoded data removed]"
          },
          "metadata": {
            "needs_background": "light"
          }
        }
      ]
    },
    {
      "cell_type": "code",
      "source": [
        "plt.plot(h.history['loss'], label = 'loss for Train set')\n",
        "plt.plot(h.history['val_loss'], label = 'loss for Test Set')\n",
        "plt.title('loss Graph for ANN')\n",
        "plt.ylabel('loss')\n",
        "plt.xlabel('epochs')\n",
        "plt.legend()"
      ],
      "metadata": {
        "colab": {
          "base_uri": "https://localhost:8080/",
          "height": 312
        },
        "id": "v1sbHokzZ_kw",
        "outputId": "c3bdd8e8-7958-4066-b787-f2a3fae86bbb"
      },
      "execution_count": 24,
      "outputs": [
        {
          "output_type": "execute_result",
          "data": {
            "text/plain": [
              "<matplotlib.legend.Legend at 0x7fadb5df9c50>"
            ]
          },
          "metadata": {},
          "execution_count": 24
        },
        {
          "output_type": "display_data",
          "data": {
            "text/plain": [
              "<Figure size 432x288 with 1 Axes>"
            ],
            "image/png": "[encoded data removed]"
          },
          "metadata": {
            "needs_background": "light"
          }
        }
      ]
    },
    {
      "cell_type": "code",
      "source": [
        "y_pred_ann = model.predict_classes(X_test)\n",
        "accuracy_score(y_test,y_pred_ann)"
      ],
      "metadata": {
        "colab": {
          "base_uri": "https://localhost:8080/"
        },
        "id": "0eev2--aacdB",
        "outputId": "0b7f21db-ed63-4176-b647-4f2f026c2124"
      },
      "execution_count": 25,
      "outputs": [
        {
          "output_type": "stream",
          "name": "stderr",
          "text": [
            "/usr/local/lib/python3.7/dist-packages/tensorflow/python/keras/engine/sequential.py:455: UserWarning: `model.predict_classes()` is deprecated and will be removed after 2021-01-01. Please use instead:* `np.argmax(model.predict(x), axis=-1)`,   if your model does multi-class classification   (e.g. if it uses a `softmax` last-layer activation).* `(model.predict(x) > 0.5).astype(\"int32\")`,   if your model does binary classification   (e.g. if it uses a `sigmoid` last-layer activation).\n",
            "  warnings.warn('`model.predict_classes()` is deprecated and '\n"
          ]
        },
        {
          "output_type": "execute_result",
          "data": {
            "text/plain": [
              "0.9938461538461538"
            ]
          },
          "metadata": {},
          "execution_count": 25
        }
      ]
    },
    {
      "cell_type": "markdown",
      "source": [
        "Tree Method"
      ],
      "metadata": {
        "id": "V0F-MO-galkD"
      }
    },
    {
      "cell_type": "markdown",
      "source": [
        "DataSet according to tree method"
      ],
      "metadata": {
        "id": "-sPhhcTmapnF"
      }
    },
    {
      "cell_type": "code",
      "source": [
        "rank2  = pd.read_excel(\"/content/Wine_dataset (1).xlsx\",sheet_name = \"Tree_based_method\").set_index('Attributes_Names')\n",
        "df_tree = df[rank2[0:9].index]"
      ],
      "metadata": {
        "id": "l8UcTGybag5a"
      },
      "execution_count": 35,
      "outputs": []
    },
    {
      "cell_type": "code",
      "source": [
        "X_col =  df_tree\n",
        "y = LabelEncoder().fit_transform(df['style'])\n",
        "Scaler = StandardScaler()\n",
        "X_col =  Scaler.fit_transform(X_col)\n",
        "X_train, X_test, y_train, y_test = train_test_split(X_col, y, test_size=0.2, random_state=0)\n",
        "print(\"Shape of training data\",X_train.shape)\n",
        "print(\"Shape of testing data\",X_test.shape)"
      ],
      "metadata": {
        "colab": {
          "base_uri": "https://localhost:8080/"
        },
        "id": "JFfu1F4Za3K4",
        "outputId": "f2f11eb7-16f0-4c1a-f00c-ab744ae88074"
      },
      "execution_count": 36,
      "outputs": [
        {
          "output_type": "stream",
          "name": "stdout",
          "text": [
            "Shape of training data (5197, 9)\n",
            "Shape of testing data (1300, 9)\n"
          ]
        }
      ]
    },
    {
      "cell_type": "markdown",
      "source": [
        "Random Forest"
      ],
      "metadata": {
        "id": "hajcg9XAbUNe"
      }
    },
    {
      "cell_type": "code",
      "source": [
        "rf =  RandomForestClassifier()\n",
        "rf.fit(X_train,y_train)\n",
        "y_pred_rf =  rf.predict(X_test)\n",
        "accuracy_score(y_test,y_pred_rf)"
      ],
      "metadata": {
        "colab": {
          "base_uri": "https://localhost:8080/"
        },
        "id": "G0P_vcqVbQuO",
        "outputId": "93de196b-0add-4d47-8032-0a2ef9f7ac9e"
      },
      "execution_count": 37,
      "outputs": [
        {
          "output_type": "execute_result",
          "data": {
            "text/plain": [
              "0.9953846153846154"
            ]
          },
          "metadata": {},
          "execution_count": 37
        }
      ]
    },
    {
      "cell_type": "code",
      "source": [
        "svc =  SVC()\n",
        "svc.fit(X_test,y_test)\n",
        "y_pred_svc =  svc.predict(X_test)\n",
        "accuracy_score(y_test,y_pred_svc)"
      ],
      "metadata": {
        "colab": {
          "base_uri": "https://localhost:8080/"
        },
        "id": "Vc2XERTQbWv1",
        "outputId": "9b9a6aee-092d-4f98-913d-b7793f6a8497"
      },
      "execution_count": 38,
      "outputs": [
        {
          "output_type": "execute_result",
          "data": {
            "text/plain": [
              "0.9984615384615385"
            ]
          },
          "metadata": {},
          "execution_count": 38
        }
      ]
    },
    {
      "cell_type": "code",
      "source": [
        "model = tf.keras.Sequential([\n",
        "    tf.keras.layers.Dense(9, activation='relu', input_shape=(9,)),\n",
        "    tf.keras.layers.BatchNormalization(),\n",
        "    tf.keras.layers.Dense(12, activation='relu'),\n",
        "    tf.keras.layers.BatchNormalization(),\n",
        "    tf.keras.layers.Dense(24, activation='relu'),\n",
        "    tf.keras.layers.Dropout(0.5),\n",
        "    tf.keras.layers.Dense(1,activation='sigmoid')\n",
        "  ])"
      ],
      "metadata": {
        "id": "Kcfh0uvadWwn"
      },
      "execution_count": 39,
      "outputs": []
    },
    {
      "cell_type": "code",
      "source": [
        "model.compile(loss='binary_crossentropy',\n",
        "              optimizer = 'adam',\n",
        "              metrics=['accuracy'])\n",
        "model.summary()"
      ],
      "metadata": {
        "colab": {
          "base_uri": "https://localhost:8080/"
        },
        "id": "_dhhSqfAdciw",
        "outputId": "183138cb-f93b-49e7-f170-7582d97177f1"
      },
      "execution_count": 40,
      "outputs": [
        {
          "output_type": "stream",
          "name": "stdout",
          "text": [
            "Model: \"sequential_3\"\n",
            "_________________________________________________________________\n",
            "Layer (type)                 Output Shape              Param #   \n",
            "=================================================================\n",
            "dense_12 (Dense)             (None, 9)                 90        \n",
            "_________________________________________________________________\n",
            "batch_normalization_6 (Batch (None, 9)                 36        \n",
            "_________________________________________________________________\n",
            "dense_13 (Dense)             (None, 12)                120       \n",
            "_________________________________________________________________\n",
            "batch_normalization_7 (Batch (None, 12)                48        \n",
            "_________________________________________________________________\n",
            "dense_14 (Dense)             (None, 24)                312       \n",
            "_________________________________________________________________\n",
            "dropout_3 (Dropout)          (None, 24)                0         \n",
            "_________________________________________________________________\n",
            "dense_15 (Dense)             (None, 1)                 25        \n",
            "=================================================================\n",
            "Total params: 631\n",
            "Trainable params: 589\n",
            "Non-trainable params: 42\n",
            "_________________________________________________________________\n"
          ]
        }
      ]
    },
    {
      "cell_type": "code",
      "source": [
        "h = model.fit(X_train,y_train,epochs=50,validation_data=(X_test,y_test))"
      ],
      "metadata": {
        "colab": {
          "base_uri": "https://localhost:8080/"
        },
        "id": "LJpx1K7edexc",
        "outputId": "51733aba-f788-4575-9df4-13c11dfc002d"
      },
      "execution_count": 41,
      "outputs": [
        {
          "output_type": "stream",
          "name": "stdout",
          "text": [
            "Epoch 1/50\n",
            "163/163 [==============================] - 1s 3ms/step - loss: 0.5012 - accuracy: 0.7643 - val_loss: 0.2534 - val_accuracy: 0.9785\n",
            "Epoch 2/50\n",
            "163/163 [==============================] - 0s 2ms/step - loss: 0.1594 - accuracy: 0.9659 - val_loss: 0.0473 - val_accuracy: 0.9931\n",
            "Epoch 3/50\n",
            "163/163 [==============================] - 0s 2ms/step - loss: 0.0783 - accuracy: 0.9835 - val_loss: 0.0240 - val_accuracy: 0.9938\n",
            "Epoch 4/50\n",
            "163/163 [==============================] - 0s 2ms/step - loss: 0.0564 - accuracy: 0.9860 - val_loss: 0.0188 - val_accuracy: 0.9962\n",
            "Epoch 5/50\n",
            "163/163 [==============================] - 0s 2ms/step - loss: 0.0552 - accuracy: 0.9900 - val_loss: 0.0173 - val_accuracy: 0.9962\n",
            "Epoch 6/50\n",
            "163/163 [==============================] - 0s 2ms/step - loss: 0.0542 - accuracy: 0.9888 - val_loss: 0.0164 - val_accuracy: 0.9969\n",
            "Epoch 7/50\n",
            "163/163 [==============================] - 0s 2ms/step - loss: 0.0467 - accuracy: 0.9896 - val_loss: 0.0162 - val_accuracy: 0.9962\n",
            "Epoch 8/50\n",
            "163/163 [==============================] - 0s 2ms/step - loss: 0.0374 - accuracy: 0.9929 - val_loss: 0.0174 - val_accuracy: 0.9954\n",
            "Epoch 9/50\n",
            "163/163 [==============================] - 0s 2ms/step - loss: 0.0454 - accuracy: 0.9908 - val_loss: 0.0156 - val_accuracy: 0.9969\n",
            "Epoch 10/50\n",
            "163/163 [==============================] - 0s 2ms/step - loss: 0.0438 - accuracy: 0.9906 - val_loss: 0.0150 - val_accuracy: 0.9969\n",
            "Epoch 11/50\n",
            "163/163 [==============================] - 0s 2ms/step - loss: 0.0393 - accuracy: 0.9925 - val_loss: 0.0183 - val_accuracy: 0.9931\n",
            "Epoch 12/50\n",
            "163/163 [==============================] - 0s 2ms/step - loss: 0.0347 - accuracy: 0.9942 - val_loss: 0.0155 - val_accuracy: 0.9969\n",
            "Epoch 13/50\n",
            "163/163 [==============================] - 0s 2ms/step - loss: 0.0402 - accuracy: 0.9917 - val_loss: 0.0148 - val_accuracy: 0.9969\n",
            "Epoch 14/50\n",
            "163/163 [==============================] - 0s 2ms/step - loss: 0.0389 - accuracy: 0.9925 - val_loss: 0.0150 - val_accuracy: 0.9969\n",
            "Epoch 15/50\n",
            "163/163 [==============================] - 0s 2ms/step - loss: 0.0351 - accuracy: 0.9925 - val_loss: 0.0149 - val_accuracy: 0.9969\n",
            "Epoch 16/50\n",
            "163/163 [==============================] - 0s 2ms/step - loss: 0.0326 - accuracy: 0.9933 - val_loss: 0.0160 - val_accuracy: 0.9954\n",
            "Epoch 17/50\n",
            "163/163 [==============================] - 0s 2ms/step - loss: 0.0316 - accuracy: 0.9952 - val_loss: 0.0169 - val_accuracy: 0.9954\n",
            "Epoch 18/50\n",
            "163/163 [==============================] - 0s 2ms/step - loss: 0.0307 - accuracy: 0.9948 - val_loss: 0.0166 - val_accuracy: 0.9954\n",
            "Epoch 19/50\n",
            "163/163 [==============================] - 0s 2ms/step - loss: 0.0314 - accuracy: 0.9946 - val_loss: 0.0142 - val_accuracy: 0.9969\n",
            "Epoch 20/50\n",
            "163/163 [==============================] - 0s 2ms/step - loss: 0.0311 - accuracy: 0.9931 - val_loss: 0.0144 - val_accuracy: 0.9969\n",
            "Epoch 21/50\n",
            "163/163 [==============================] - 0s 2ms/step - loss: 0.0351 - accuracy: 0.9942 - val_loss: 0.0131 - val_accuracy: 0.9977\n",
            "Epoch 22/50\n",
            "163/163 [==============================] - 0s 2ms/step - loss: 0.0337 - accuracy: 0.9931 - val_loss: 0.0136 - val_accuracy: 0.9977\n",
            "Epoch 23/50\n",
            "163/163 [==============================] - 0s 2ms/step - loss: 0.0354 - accuracy: 0.9929 - val_loss: 0.0145 - val_accuracy: 0.9969\n",
            "Epoch 24/50\n",
            "163/163 [==============================] - 0s 2ms/step - loss: 0.0372 - accuracy: 0.9940 - val_loss: 0.0130 - val_accuracy: 0.9977\n",
            "Epoch 25/50\n",
            "163/163 [==============================] - 0s 2ms/step - loss: 0.0270 - accuracy: 0.9952 - val_loss: 0.0129 - val_accuracy: 0.9977\n",
            "Epoch 26/50\n",
            "163/163 [==============================] - 0s 2ms/step - loss: 0.0285 - accuracy: 0.9935 - val_loss: 0.0129 - val_accuracy: 0.9977\n",
            "Epoch 27/50\n",
            "163/163 [==============================] - 0s 2ms/step - loss: 0.0288 - accuracy: 0.9937 - val_loss: 0.0141 - val_accuracy: 0.9969\n",
            "Epoch 28/50\n",
            "163/163 [==============================] - 0s 2ms/step - loss: 0.0309 - accuracy: 0.9948 - val_loss: 0.0130 - val_accuracy: 0.9977\n",
            "Epoch 29/50\n",
            "163/163 [==============================] - 0s 2ms/step - loss: 0.0311 - accuracy: 0.9942 - val_loss: 0.0154 - val_accuracy: 0.9969\n",
            "Epoch 30/50\n",
            "163/163 [==============================] - 0s 2ms/step - loss: 0.0285 - accuracy: 0.9942 - val_loss: 0.0147 - val_accuracy: 0.9969\n",
            "Epoch 31/50\n",
            "163/163 [==============================] - 0s 2ms/step - loss: 0.0290 - accuracy: 0.9946 - val_loss: 0.0173 - val_accuracy: 0.9969\n",
            "Epoch 32/50\n",
            "163/163 [==============================] - 0s 2ms/step - loss: 0.0292 - accuracy: 0.9942 - val_loss: 0.0145 - val_accuracy: 0.9969\n",
            "Epoch 33/50\n",
            "163/163 [==============================] - 0s 2ms/step - loss: 0.0289 - accuracy: 0.9950 - val_loss: 0.0170 - val_accuracy: 0.9969\n",
            "Epoch 34/50\n",
            "163/163 [==============================] - 0s 2ms/step - loss: 0.0266 - accuracy: 0.9952 - val_loss: 0.0161 - val_accuracy: 0.9969\n",
            "Epoch 35/50\n",
            "163/163 [==============================] - 0s 2ms/step - loss: 0.0273 - accuracy: 0.9942 - val_loss: 0.0150 - val_accuracy: 0.9969\n",
            "Epoch 36/50\n",
            "163/163 [==============================] - 0s 2ms/step - loss: 0.0288 - accuracy: 0.9942 - val_loss: 0.0145 - val_accuracy: 0.9969\n",
            "Epoch 37/50\n",
            "163/163 [==============================] - 0s 2ms/step - loss: 0.0224 - accuracy: 0.9952 - val_loss: 0.0155 - val_accuracy: 0.9969\n",
            "Epoch 38/50\n",
            "163/163 [==============================] - 0s 2ms/step - loss: 0.0281 - accuracy: 0.9954 - val_loss: 0.0146 - val_accuracy: 0.9969\n",
            "Epoch 39/50\n",
            "163/163 [==============================] - 0s 2ms/step - loss: 0.0274 - accuracy: 0.9946 - val_loss: 0.0148 - val_accuracy: 0.9977\n",
            "Epoch 40/50\n",
            "163/163 [==============================] - 0s 2ms/step - loss: 0.0246 - accuracy: 0.9960 - val_loss: 0.0138 - val_accuracy: 0.9969\n",
            "Epoch 41/50\n",
            "163/163 [==============================] - 0s 2ms/step - loss: 0.0220 - accuracy: 0.9950 - val_loss: 0.0142 - val_accuracy: 0.9969\n",
            "Epoch 42/50\n",
            "163/163 [==============================] - 0s 2ms/step - loss: 0.0252 - accuracy: 0.9948 - val_loss: 0.0166 - val_accuracy: 0.9969\n",
            "Epoch 43/50\n",
            "163/163 [==============================] - 0s 2ms/step - loss: 0.0237 - accuracy: 0.9960 - val_loss: 0.0167 - val_accuracy: 0.9969\n",
            "Epoch 44/50\n",
            "163/163 [==============================] - 0s 2ms/step - loss: 0.0196 - accuracy: 0.9963 - val_loss: 0.0180 - val_accuracy: 0.9977\n",
            "Epoch 45/50\n",
            "163/163 [==============================] - 0s 2ms/step - loss: 0.0225 - accuracy: 0.9954 - val_loss: 0.0200 - val_accuracy: 0.9969\n",
            "Epoch 46/50\n",
            "163/163 [==============================] - 0s 2ms/step - loss: 0.0221 - accuracy: 0.9950 - val_loss: 0.0203 - val_accuracy: 0.9977\n",
            "Epoch 47/50\n",
            "163/163 [==============================] - 0s 2ms/step - loss: 0.0173 - accuracy: 0.9962 - val_loss: 0.0220 - val_accuracy: 0.9962\n",
            "Epoch 48/50\n",
            "163/163 [==============================] - 0s 2ms/step - loss: 0.0247 - accuracy: 0.9948 - val_loss: 0.0225 - val_accuracy: 0.9969\n",
            "Epoch 49/50\n",
            "163/163 [==============================] - 0s 2ms/step - loss: 0.0219 - accuracy: 0.9960 - val_loss: 0.0255 - val_accuracy: 0.9977\n",
            "Epoch 50/50\n",
            "163/163 [==============================] - 0s 2ms/step - loss: 0.0270 - accuracy: 0.9944 - val_loss: 0.0195 - val_accuracy: 0.9977\n"
          ]
        }
      ]
    },
    {
      "cell_type": "code",
      "source": [
        "plt.plot(h.history['accuracy'], label = 'Accuracy for Train set')\n",
        "plt.plot(h.history['val_accuracy'], label = 'Accuracy for Test Set')\n",
        "plt.title('Accuracy Graph for ANN')\n",
        "plt.ylabel('Accuracy')\n",
        "plt.xlabel('epochs')\n",
        "plt.legend()"
      ],
      "metadata": {
        "colab": {
          "base_uri": "https://localhost:8080/",
          "height": 312
        },
        "id": "eIfiAgjSdhhr",
        "outputId": "69a5cb60-6316-4afa-b455-4a86669a6aa5"
      },
      "execution_count": 42,
      "outputs": [
        {
          "output_type": "execute_result",
          "data": {
            "text/plain": [
              "<matplotlib.legend.Legend at 0x7fadb553b690>"
            ]
          },
          "metadata": {},
          "execution_count": 42
        },
        {
          "output_type": "display_data",
          "data": {
            "text/plain": [
              "<Figure size 432x288 with 1 Axes>"
            ],
            "image/png": "[encoded data removed]"
          },
          "metadata": {
            "needs_background": "light"
          }
        }
      ]
    },
    {
      "cell_type": "code",
      "source": [
        "plt.plot(h.history['loss'], label = 'loss for Train set')\n",
        "plt.plot(h.history['val_loss'], label = 'loss for Test Set')\n",
        "plt.title('loss Graph for ANN')\n",
        "plt.ylabel('loss')\n",
        "plt.xlabel('epochs')\n",
        "plt.legend()"
      ],
      "metadata": {
        "colab": {
          "base_uri": "https://localhost:8080/",
          "height": 312
        },
        "id": "O4UE1mSwdwn8",
        "outputId": "7dc96200-fef6-46b8-85e9-0673fe8bfa32"
      },
      "execution_count": 43,
      "outputs": [
        {
          "output_type": "execute_result",
          "data": {
            "text/plain": [
              "<matplotlib.legend.Legend at 0x7fadb54f6650>"
            ]
          },
          "metadata": {},
          "execution_count": 43
        },
        {
          "output_type": "display_data",
          "data": {
            "text/plain": [
              "<Figure size 432x288 with 1 Axes>"
            ],
            "image/png": "[encoded data removed]"
          },
          "metadata": {
            "needs_background": "light"
          }
        }
      ]
    },
    {
      "cell_type": "code",
      "source": [
        "y_pred_ann = model.predict_classes(X_test)\n",
        "accuracy_score(y_test,y_pred_ann)"
      ],
      "metadata": {
        "colab": {
          "base_uri": "https://localhost:8080/"
        },
        "id": "H77AGZcodyv8",
        "outputId": "9f76d321-348f-4fd8-e354-c18cfa7fb90a"
      },
      "execution_count": 44,
      "outputs": [
        {
          "output_type": "stream",
          "name": "stderr",
          "text": [
            "/usr/local/lib/python3.7/dist-packages/tensorflow/python/keras/engine/sequential.py:455: UserWarning: `model.predict_classes()` is deprecated and will be removed after 2021-01-01. Please use instead:* `np.argmax(model.predict(x), axis=-1)`,   if your model does multi-class classification   (e.g. if it uses a `softmax` last-layer activation).* `(model.predict(x) > 0.5).astype(\"int32\")`,   if your model does binary classification   (e.g. if it uses a `sigmoid` last-layer activation).\n",
            "  warnings.warn('`model.predict_classes()` is deprecated and '\n"
          ]
        },
        {
          "output_type": "execute_result",
          "data": {
            "text/plain": [
              "0.9976923076923077"
            ]
          },
          "metadata": {},
          "execution_count": 44
        }
      ]
    },
    {
      "cell_type": "markdown",
      "source": [
        "Permutation Mean Method"
      ],
      "metadata": {
        "id": "JDuTs0hWd6An"
      }
    },
    {
      "cell_type": "code",
      "source": [
        "rank3  = pd.read_excel(\"/content/Wine_dataset (1).xlsx\",sheet_name = \"permutation_method_mean\").set_index('Attributes_Names')\n",
        "df_per_mean = df[rank3[0:9].index]\n",
        "X_col =  df_per_mean\n",
        "y = LabelEncoder().fit_transform(df['style'])\n",
        "Scaler = StandardScaler()\n",
        "X_col =  Scaler.fit_transform(X_col)\n",
        "X_train, X_test, y_train, y_test = train_test_split(X_col, y, test_size=0.2, random_state=0)\n",
        "print(\"Shape of training data\",X_train.shape)\n",
        "print(\"Shape of testing data\",X_test.shape)"
      ],
      "metadata": {
        "colab": {
          "base_uri": "https://localhost:8080/"
        },
        "id": "jOloif-jd048",
        "outputId": "c30904ef-9875-4355-a004-fff1c14988be"
      },
      "execution_count": 46,
      "outputs": [
        {
          "output_type": "stream",
          "name": "stdout",
          "text": [
            "Shape of training data (5197, 9)\n",
            "Shape of testing data (1300, 9)\n"
          ]
        }
      ]
    },
    {
      "cell_type": "code",
      "source": [
        "rf =  RandomForestClassifier()\n",
        "rf.fit(X_train,y_train)\n",
        "y_pred_rf =  rf.predict(X_test)\n",
        "accuracy_score(y_test,y_pred_rf)"
      ],
      "metadata": {
        "colab": {
          "base_uri": "https://localhost:8080/"
        },
        "id": "0U0LhgIOeBKV",
        "outputId": "a467036c-1109-4cc8-aa1b-74e64392bd8f"
      },
      "execution_count": 47,
      "outputs": [
        {
          "output_type": "execute_result",
          "data": {
            "text/plain": [
              "0.9946153846153846"
            ]
          },
          "metadata": {},
          "execution_count": 47
        }
      ]
    },
    {
      "cell_type": "code",
      "source": [
        "svc =  SVC()\n",
        "svc.fit(X_test,y_test)\n",
        "y_pred_svc =  svc.predict(X_test)\n",
        "accuracy_score(y_test,y_pred_svc)"
      ],
      "metadata": {
        "id": "V9sWPBRYeQeu",
        "outputId": "e95989c3-b743-4c7c-fb5d-e3acfb0e286f",
        "colab": {
          "base_uri": "https://localhost:8080/"
        }
      },
      "execution_count": 48,
      "outputs": [
        {
          "output_type": "execute_result",
          "data": {
            "text/plain": [
              "0.9969230769230769"
            ]
          },
          "metadata": {},
          "execution_count": 48
        }
      ]
    },
    {
      "cell_type": "code",
      "source": [
        "model = tf.keras.Sequential([\n",
        "    tf.keras.layers.Dense(9, activation='relu', input_shape=(9,)),\n",
        "    tf.keras.layers.BatchNormalization(),\n",
        "    tf.keras.layers.Dense(12, activation='relu'),\n",
        "    tf.keras.layers.BatchNormalization(),\n",
        "    tf.keras.layers.Dense(24, activation='relu'),\n",
        "    tf.keras.layers.Dropout(0.5),\n",
        "    tf.keras.layers.Dense(1,activation='sigmoid')\n",
        "  ])\n",
        "model.compile(loss='binary_crossentropy',\n",
        "              optimizer = 'adam',\n",
        "              metrics=['accuracy'])\n",
        "model.summary()"
      ],
      "metadata": {
        "id": "6RZpqj28eS_t",
        "outputId": "fcf2efc3-41ff-4376-e6cb-45241d234d17",
        "colab": {
          "base_uri": "https://localhost:8080/"
        }
      },
      "execution_count": 50,
      "outputs": [
        {
          "output_type": "stream",
          "name": "stdout",
          "text": [
            "Model: \"sequential_5\"\n",
            "_________________________________________________________________\n",
            "Layer (type)                 Output Shape              Param #   \n",
            "=================================================================\n",
            "dense_20 (Dense)             (None, 9)                 90        \n",
            "_________________________________________________________________\n",
            "batch_normalization_10 (Batc (None, 9)                 36        \n",
            "_________________________________________________________________\n",
            "dense_21 (Dense)             (None, 12)                120       \n",
            "_________________________________________________________________\n",
            "batch_normalization_11 (Batc (None, 12)                48        \n",
            "_________________________________________________________________\n",
            "dense_22 (Dense)             (None, 24)                312       \n",
            "_________________________________________________________________\n",
            "dropout_5 (Dropout)          (None, 24)                0         \n",
            "_________________________________________________________________\n",
            "dense_23 (Dense)             (None, 1)                 25        \n",
            "=================================================================\n",
            "Total params: 631\n",
            "Trainable params: 589\n",
            "Non-trainable params: 42\n",
            "_________________________________________________________________\n"
          ]
        }
      ]
    },
    {
      "cell_type": "code",
      "source": [
        "h = model.fit(X_train,y_train,epochs=50,validation_data=(X_test,y_test))"
      ],
      "metadata": {
        "id": "xSQ-2KcWeWNZ",
        "outputId": "c28c6207-a26b-4f4e-eda8-8fd83b534060",
        "colab": {
          "base_uri": "https://localhost:8080/"
        }
      },
      "execution_count": 51,
      "outputs": [
        {
          "output_type": "stream",
          "name": "stdout",
          "text": [
            "Epoch 1/50\n",
            "163/163 [==============================] - 3s 6ms/step - loss: 0.4508 - accuracy: 0.7939 - val_loss: 0.2045 - val_accuracy: 0.9731\n",
            "Epoch 2/50\n",
            "163/163 [==============================] - 1s 4ms/step - loss: 0.1670 - accuracy: 0.9588 - val_loss: 0.0562 - val_accuracy: 0.9823\n",
            "Epoch 3/50\n",
            "163/163 [==============================] - 1s 4ms/step - loss: 0.0992 - accuracy: 0.9756 - val_loss: 0.0361 - val_accuracy: 0.9877\n",
            "Epoch 4/50\n",
            "163/163 [==============================] - 0s 3ms/step - loss: 0.0863 - accuracy: 0.9783 - val_loss: 0.0307 - val_accuracy: 0.9892\n",
            "Epoch 5/50\n",
            "163/163 [==============================] - 0s 3ms/step - loss: 0.0744 - accuracy: 0.9817 - val_loss: 0.0282 - val_accuracy: 0.9908\n",
            "Epoch 6/50\n",
            "163/163 [==============================] - 0s 3ms/step - loss: 0.0697 - accuracy: 0.9835 - val_loss: 0.0258 - val_accuracy: 0.9931\n",
            "Epoch 7/50\n",
            "163/163 [==============================] - 1s 3ms/step - loss: 0.0610 - accuracy: 0.9829 - val_loss: 0.0240 - val_accuracy: 0.9931\n",
            "Epoch 8/50\n",
            "163/163 [==============================] - 0s 3ms/step - loss: 0.0572 - accuracy: 0.9861 - val_loss: 0.0253 - val_accuracy: 0.9931\n",
            "Epoch 9/50\n",
            "163/163 [==============================] - 1s 3ms/step - loss: 0.0585 - accuracy: 0.9842 - val_loss: 0.0231 - val_accuracy: 0.9931\n",
            "Epoch 10/50\n",
            "163/163 [==============================] - 0s 3ms/step - loss: 0.0633 - accuracy: 0.9844 - val_loss: 0.0234 - val_accuracy: 0.9938\n",
            "Epoch 11/50\n",
            "163/163 [==============================] - 1s 3ms/step - loss: 0.0551 - accuracy: 0.9863 - val_loss: 0.0243 - val_accuracy: 0.9938\n",
            "Epoch 12/50\n",
            "163/163 [==============================] - 1s 3ms/step - loss: 0.0482 - accuracy: 0.9885 - val_loss: 0.0223 - val_accuracy: 0.9931\n",
            "Epoch 13/50\n",
            "163/163 [==============================] - 1s 4ms/step - loss: 0.0498 - accuracy: 0.9881 - val_loss: 0.0220 - val_accuracy: 0.9938\n",
            "Epoch 14/50\n",
            "163/163 [==============================] - 0s 3ms/step - loss: 0.0479 - accuracy: 0.9885 - val_loss: 0.0234 - val_accuracy: 0.9938\n",
            "Epoch 15/50\n",
            "163/163 [==============================] - 1s 3ms/step - loss: 0.0513 - accuracy: 0.9871 - val_loss: 0.0223 - val_accuracy: 0.9938\n",
            "Epoch 16/50\n",
            "163/163 [==============================] - 0s 3ms/step - loss: 0.0453 - accuracy: 0.9898 - val_loss: 0.0228 - val_accuracy: 0.9938\n",
            "Epoch 17/50\n",
            "163/163 [==============================] - 0s 3ms/step - loss: 0.0446 - accuracy: 0.9902 - val_loss: 0.0219 - val_accuracy: 0.9938\n",
            "Epoch 18/50\n",
            "163/163 [==============================] - 0s 2ms/step - loss: 0.0408 - accuracy: 0.9894 - val_loss: 0.0231 - val_accuracy: 0.9938\n",
            "Epoch 19/50\n",
            "163/163 [==============================] - 0s 2ms/step - loss: 0.0417 - accuracy: 0.9906 - val_loss: 0.0209 - val_accuracy: 0.9946\n",
            "Epoch 20/50\n",
            "163/163 [==============================] - 0s 2ms/step - loss: 0.0463 - accuracy: 0.9902 - val_loss: 0.0235 - val_accuracy: 0.9946\n",
            "Epoch 21/50\n",
            "163/163 [==============================] - 0s 2ms/step - loss: 0.0428 - accuracy: 0.9913 - val_loss: 0.0204 - val_accuracy: 0.9946\n",
            "Epoch 22/50\n",
            "163/163 [==============================] - 0s 2ms/step - loss: 0.0464 - accuracy: 0.9894 - val_loss: 0.0207 - val_accuracy: 0.9946\n",
            "Epoch 23/50\n",
            "163/163 [==============================] - 0s 2ms/step - loss: 0.0414 - accuracy: 0.9898 - val_loss: 0.0193 - val_accuracy: 0.9946\n",
            "Epoch 24/50\n",
            "163/163 [==============================] - 0s 2ms/step - loss: 0.0394 - accuracy: 0.9919 - val_loss: 0.0182 - val_accuracy: 0.9938\n",
            "Epoch 25/50\n",
            "163/163 [==============================] - 0s 2ms/step - loss: 0.0375 - accuracy: 0.9917 - val_loss: 0.0179 - val_accuracy: 0.9946\n",
            "Epoch 26/50\n",
            "163/163 [==============================] - 0s 2ms/step - loss: 0.0371 - accuracy: 0.9913 - val_loss: 0.0177 - val_accuracy: 0.9946\n",
            "Epoch 27/50\n",
            "163/163 [==============================] - 0s 2ms/step - loss: 0.0391 - accuracy: 0.9923 - val_loss: 0.0187 - val_accuracy: 0.9962\n",
            "Epoch 28/50\n",
            "163/163 [==============================] - 0s 2ms/step - loss: 0.0330 - accuracy: 0.9927 - val_loss: 0.0180 - val_accuracy: 0.9946\n",
            "Epoch 29/50\n",
            "163/163 [==============================] - 0s 2ms/step - loss: 0.0331 - accuracy: 0.9931 - val_loss: 0.0208 - val_accuracy: 0.9938\n",
            "Epoch 30/50\n",
            "163/163 [==============================] - 0s 2ms/step - loss: 0.0351 - accuracy: 0.9927 - val_loss: 0.0182 - val_accuracy: 0.9938\n",
            "Epoch 31/50\n",
            "163/163 [==============================] - 0s 2ms/step - loss: 0.0346 - accuracy: 0.9921 - val_loss: 0.0189 - val_accuracy: 0.9946\n",
            "Epoch 32/50\n",
            "163/163 [==============================] - 0s 2ms/step - loss: 0.0339 - accuracy: 0.9915 - val_loss: 0.0195 - val_accuracy: 0.9954\n",
            "Epoch 33/50\n",
            "163/163 [==============================] - 0s 2ms/step - loss: 0.0314 - accuracy: 0.9929 - val_loss: 0.0195 - val_accuracy: 0.9946\n",
            "Epoch 34/50\n",
            "163/163 [==============================] - 0s 2ms/step - loss: 0.0322 - accuracy: 0.9937 - val_loss: 0.0178 - val_accuracy: 0.9946\n",
            "Epoch 35/50\n",
            "163/163 [==============================] - 0s 2ms/step - loss: 0.0332 - accuracy: 0.9933 - val_loss: 0.0184 - val_accuracy: 0.9946\n",
            "Epoch 36/50\n",
            "163/163 [==============================] - 0s 2ms/step - loss: 0.0334 - accuracy: 0.9919 - val_loss: 0.0184 - val_accuracy: 0.9946\n",
            "Epoch 37/50\n",
            "163/163 [==============================] - 0s 2ms/step - loss: 0.0325 - accuracy: 0.9917 - val_loss: 0.0180 - val_accuracy: 0.9946\n",
            "Epoch 38/50\n",
            "163/163 [==============================] - 0s 2ms/step - loss: 0.0325 - accuracy: 0.9915 - val_loss: 0.0189 - val_accuracy: 0.9954\n",
            "Epoch 39/50\n",
            "163/163 [==============================] - 0s 2ms/step - loss: 0.0303 - accuracy: 0.9937 - val_loss: 0.0196 - val_accuracy: 0.9938\n",
            "Epoch 40/50\n",
            "163/163 [==============================] - 0s 2ms/step - loss: 0.0317 - accuracy: 0.9927 - val_loss: 0.0192 - val_accuracy: 0.9946\n",
            "Epoch 41/50\n",
            "163/163 [==============================] - 0s 2ms/step - loss: 0.0276 - accuracy: 0.9937 - val_loss: 0.0203 - val_accuracy: 0.9954\n",
            "Epoch 42/50\n",
            "163/163 [==============================] - 0s 2ms/step - loss: 0.0288 - accuracy: 0.9929 - val_loss: 0.0198 - val_accuracy: 0.9946\n",
            "Epoch 43/50\n",
            "163/163 [==============================] - 0s 2ms/step - loss: 0.0333 - accuracy: 0.9923 - val_loss: 0.0200 - val_accuracy: 0.9946\n",
            "Epoch 44/50\n",
            "163/163 [==============================] - 0s 2ms/step - loss: 0.0279 - accuracy: 0.9933 - val_loss: 0.0196 - val_accuracy: 0.9946\n",
            "Epoch 45/50\n",
            "163/163 [==============================] - 0s 2ms/step - loss: 0.0267 - accuracy: 0.9944 - val_loss: 0.0187 - val_accuracy: 0.9931\n",
            "Epoch 46/50\n",
            "163/163 [==============================] - 0s 2ms/step - loss: 0.0285 - accuracy: 0.9931 - val_loss: 0.0189 - val_accuracy: 0.9954\n",
            "Epoch 47/50\n",
            "163/163 [==============================] - 0s 2ms/step - loss: 0.0248 - accuracy: 0.9938 - val_loss: 0.0231 - val_accuracy: 0.9931\n",
            "Epoch 48/50\n",
            "163/163 [==============================] - 0s 2ms/step - loss: 0.0267 - accuracy: 0.9942 - val_loss: 0.0201 - val_accuracy: 0.9946\n",
            "Epoch 49/50\n",
            "163/163 [==============================] - 0s 2ms/step - loss: 0.0234 - accuracy: 0.9942 - val_loss: 0.0248 - val_accuracy: 0.9923\n",
            "Epoch 50/50\n",
            "163/163 [==============================] - 0s 2ms/step - loss: 0.0242 - accuracy: 0.9942 - val_loss: 0.0202 - val_accuracy: 0.9946\n"
          ]
        }
      ]
    },
    {
      "cell_type": "code",
      "source": [
        "plt.plot(h.history['accuracy'], label = 'Accuracy for Train set')\n",
        "plt.plot(h.history['val_accuracy'], label = 'Accuracy for Test Set')\n",
        "plt.title('Accuracy Graph for ANN')\n",
        "plt.ylabel('Accuracy')\n",
        "plt.xlabel('epochs')\n",
        "plt.legend()"
      ],
      "metadata": {
        "id": "Ag6hCl0zebaP",
        "outputId": "eb1e5751-ca2c-40d3-88e7-df62f56c6104",
        "colab": {
          "base_uri": "https://localhost:8080/",
          "height": 312
        }
      },
      "execution_count": 52,
      "outputs": [
        {
          "output_type": "execute_result",
          "data": {
            "text/plain": [
              "<matplotlib.legend.Legend at 0x7fadb9a7e250>"
            ]
          },
          "metadata": {},
          "execution_count": 52
        },
        {
          "output_type": "display_data",
          "data": {
            "text/plain": [
              "<Figure size 432x288 with 1 Axes>"
            ],
            "image/png": "[encoded data removed]"
          },
          "metadata": {
            "needs_background": "light"
          }
        }
      ]
    },
    {
      "cell_type": "code",
      "source": [
        "plt.plot(h.history['loss'], label = 'loss for Train set')\n",
        "plt.plot(h.history['val_loss'], label = 'loss for Test Set')\n",
        "plt.title('loss Graph for ANN')\n",
        "plt.ylabel('loss')\n",
        "plt.xlabel('epochs')\n",
        "plt.legend()"
      ],
      "metadata": {
        "id": "KB_mfdkTeliA",
        "outputId": "90583e28-1548-473b-d26e-c594656a1a4a",
        "colab": {
          "base_uri": "https://localhost:8080/",
          "height": 312
        }
      },
      "execution_count": 53,
      "outputs": [
        {
          "output_type": "execute_result",
          "data": {
            "text/plain": [
              "<matplotlib.legend.Legend at 0x7fadb55bead0>"
            ]
          },
          "metadata": {},
          "execution_count": 53
        },
        {
          "output_type": "display_data",
          "data": {
            "text/plain": [
              "<Figure size 432x288 with 1 Axes>"
            ],
            "image/png": "[encoded data removed]"
          },
          "metadata": {
            "needs_background": "light"
          }
        }
      ]
    },
    {
      "cell_type": "code",
      "source": [
        "y_pred_ann = model.predict_classes(X_test)\n",
        "accuracy_score(y_test,y_pred_ann)"
      ],
      "metadata": {
        "id": "47I0ap0Xenhi",
        "outputId": "20ba5e66-a7be-4593-cc48-81de69e7036d",
        "colab": {
          "base_uri": "https://localhost:8080/"
        }
      },
      "execution_count": 54,
      "outputs": [
        {
          "output_type": "stream",
          "name": "stderr",
          "text": [
            "/usr/local/lib/python3.7/dist-packages/tensorflow/python/keras/engine/sequential.py:455: UserWarning: `model.predict_classes()` is deprecated and will be removed after 2021-01-01. Please use instead:* `np.argmax(model.predict(x), axis=-1)`,   if your model does multi-class classification   (e.g. if it uses a `softmax` last-layer activation).* `(model.predict(x) > 0.5).astype(\"int32\")`,   if your model does binary classification   (e.g. if it uses a `sigmoid` last-layer activation).\n",
            "  warnings.warn('`model.predict_classes()` is deprecated and '\n"
          ]
        },
        {
          "output_type": "execute_result",
          "data": {
            "text/plain": [
              "0.9946153846153846"
            ]
          },
          "metadata": {},
          "execution_count": 54
        }
      ]
    },
    {
      "cell_type": "markdown",
      "source": [
        "Permutation Method Standard Deviation"
      ],
      "metadata": {
        "id": "EZJwgKnJfbYV"
      }
    },
    {
      "cell_type": "code",
      "source": [
        "rank4  = pd.read_excel(\"/content/Wine_dataset (1).xlsx\",sheet_name = \"permutation_method_std\").set_index('Attributes_Names')\n",
        "df_per_std  = df[rank4[0:9].index]\n",
        "X_col =  df_per_std\n",
        "y = LabelEncoder().fit_transform(df['style'])\n",
        "Scaler = StandardScaler()\n",
        "X_col =  Scaler.fit_transform(X_col)\n",
        "X_train, X_test, y_train, y_test = train_test_split(X_col, y, test_size=0.2, random_state=0)\n",
        "print(\"Shape of training data\",X_train.shape)\n",
        "print(\"Shape of testing data\",X_test.shape)"
      ],
      "metadata": {
        "id": "fUUcJ31He6oO",
        "outputId": "4942a52c-2594-43d0-88f2-10adb2950d08",
        "colab": {
          "base_uri": "https://localhost:8080/"
        }
      },
      "execution_count": 55,
      "outputs": [
        {
          "output_type": "stream",
          "name": "stdout",
          "text": [
            "Shape of training data (5197, 9)\n",
            "Shape of testing data (1300, 9)\n"
          ]
        }
      ]
    },
    {
      "cell_type": "code",
      "source": [
        "rf =  RandomForestClassifier()\n",
        "rf.fit(X_train,y_train)\n",
        "y_pred_rf =  rf.predict(X_test)\n",
        "accuracy_score(y_test,y_pred_rf)"
      ],
      "metadata": {
        "id": "qs2hheoiff5U",
        "outputId": "68c16712-d2e0-4b86-d135-201724aad7c3",
        "colab": {
          "base_uri": "https://localhost:8080/"
        }
      },
      "execution_count": 56,
      "outputs": [
        {
          "output_type": "execute_result",
          "data": {
            "text/plain": [
              "0.9884615384615385"
            ]
          },
          "metadata": {},
          "execution_count": 56
        }
      ]
    },
    {
      "cell_type": "code",
      "source": [
        "svc =  SVC()\n",
        "svc.fit(X_test,y_test)\n",
        "y_pred_svc =  svc.predict(X_test)\n",
        "accuracy_score(y_test,y_pred_svc)"
      ],
      "metadata": {
        "id": "ZDe2fS_xfi8j",
        "outputId": "f0c1a931-9549-4f87-a4e9-954d591ac723",
        "colab": {
          "base_uri": "https://localhost:8080/"
        }
      },
      "execution_count": 57,
      "outputs": [
        {
          "output_type": "execute_result",
          "data": {
            "text/plain": [
              "0.9953846153846154"
            ]
          },
          "metadata": {},
          "execution_count": 57
        }
      ]
    },
    {
      "cell_type": "code",
      "source": [
        "model = tf.keras.Sequential([\n",
        "    tf.keras.layers.Dense(9, activation='relu', input_shape=(9,)),\n",
        "    tf.keras.layers.BatchNormalization(),\n",
        "    tf.keras.layers.Dense(12, activation='relu'),\n",
        "    tf.keras.layers.BatchNormalization(),\n",
        "    tf.keras.layers.Dense(24, activation='relu'),\n",
        "    tf.keras.layers.Dropout(0.5),\n",
        "    tf.keras.layers.Dense(1,activation='sigmoid')\n",
        "  ])\n",
        "model.compile(loss='binary_crossentropy',\n",
        "              optimizer = 'adam',\n",
        "              metrics=['accuracy'])\n",
        "model.summary()"
      ],
      "metadata": {
        "id": "ZA-999Tsfk_V",
        "outputId": "0d3cf3e8-ee06-472c-dca8-54fce19a4eb5",
        "colab": {
          "base_uri": "https://localhost:8080/"
        }
      },
      "execution_count": 59,
      "outputs": [
        {
          "output_type": "stream",
          "name": "stdout",
          "text": [
            "Model: \"sequential_7\"\n",
            "_________________________________________________________________\n",
            "Layer (type)                 Output Shape              Param #   \n",
            "=================================================================\n",
            "dense_28 (Dense)             (None, 9)                 90        \n",
            "_________________________________________________________________\n",
            "batch_normalization_14 (Batc (None, 9)                 36        \n",
            "_________________________________________________________________\n",
            "dense_29 (Dense)             (None, 12)                120       \n",
            "_________________________________________________________________\n",
            "batch_normalization_15 (Batc (None, 12)                48        \n",
            "_________________________________________________________________\n",
            "dense_30 (Dense)             (None, 24)                312       \n",
            "_________________________________________________________________\n",
            "dropout_7 (Dropout)          (None, 24)                0         \n",
            "_________________________________________________________________\n",
            "dense_31 (Dense)             (None, 1)                 25        \n",
            "=================================================================\n",
            "Total params: 631\n",
            "Trainable params: 589\n",
            "Non-trainable params: 42\n",
            "_________________________________________________________________\n"
          ]
        }
      ]
    },
    {
      "cell_type": "code",
      "source": [
        "h = model.fit(X_train,y_train,epochs=50,validation_data=(X_test,y_test))"
      ],
      "metadata": {
        "id": "npIZuk3kfncR",
        "outputId": "db5f890e-77ae-4d78-ad39-ad6798487697",
        "colab": {
          "base_uri": "https://localhost:8080/"
        }
      },
      "execution_count": 60,
      "outputs": [
        {
          "output_type": "stream",
          "name": "stdout",
          "text": [
            "Epoch 1/50\n",
            "163/163 [==============================] - 2s 5ms/step - loss: 0.3963 - accuracy: 0.8457 - val_loss: 0.1943 - val_accuracy: 0.9692\n",
            "Epoch 2/50\n",
            "163/163 [==============================] - 0s 3ms/step - loss: 0.1450 - accuracy: 0.9617 - val_loss: 0.0584 - val_accuracy: 0.9792\n",
            "Epoch 3/50\n",
            "163/163 [==============================] - 1s 3ms/step - loss: 0.0911 - accuracy: 0.9775 - val_loss: 0.0435 - val_accuracy: 0.9846\n",
            "Epoch 4/50\n",
            "163/163 [==============================] - 1s 3ms/step - loss: 0.0788 - accuracy: 0.9817 - val_loss: 0.0349 - val_accuracy: 0.9900\n",
            "Epoch 5/50\n",
            "163/163 [==============================] - 1s 4ms/step - loss: 0.0796 - accuracy: 0.9808 - val_loss: 0.0336 - val_accuracy: 0.9885\n",
            "Epoch 6/50\n",
            "163/163 [==============================] - 1s 3ms/step - loss: 0.0614 - accuracy: 0.9840 - val_loss: 0.0317 - val_accuracy: 0.9923\n",
            "Epoch 7/50\n",
            "163/163 [==============================] - 1s 3ms/step - loss: 0.0652 - accuracy: 0.9850 - val_loss: 0.0312 - val_accuracy: 0.9923\n",
            "Epoch 8/50\n",
            "163/163 [==============================] - 1s 3ms/step - loss: 0.0696 - accuracy: 0.9836 - val_loss: 0.0350 - val_accuracy: 0.9892\n",
            "Epoch 9/50\n",
            "163/163 [==============================] - 1s 3ms/step - loss: 0.0648 - accuracy: 0.9860 - val_loss: 0.0303 - val_accuracy: 0.9915\n",
            "Epoch 10/50\n",
            "163/163 [==============================] - 0s 3ms/step - loss: 0.0607 - accuracy: 0.9869 - val_loss: 0.0305 - val_accuracy: 0.9915\n",
            "Epoch 11/50\n",
            "163/163 [==============================] - 1s 3ms/step - loss: 0.0582 - accuracy: 0.9869 - val_loss: 0.0311 - val_accuracy: 0.9915\n",
            "Epoch 12/50\n",
            "163/163 [==============================] - 0s 2ms/step - loss: 0.0523 - accuracy: 0.9879 - val_loss: 0.0305 - val_accuracy: 0.9923\n",
            "Epoch 13/50\n",
            "163/163 [==============================] - 0s 2ms/step - loss: 0.0666 - accuracy: 0.9863 - val_loss: 0.0321 - val_accuracy: 0.9915\n",
            "Epoch 14/50\n",
            "163/163 [==============================] - 0s 2ms/step - loss: 0.0584 - accuracy: 0.9869 - val_loss: 0.0301 - val_accuracy: 0.9915\n",
            "Epoch 15/50\n",
            "163/163 [==============================] - 0s 2ms/step - loss: 0.0505 - accuracy: 0.9883 - val_loss: 0.0312 - val_accuracy: 0.9908\n",
            "Epoch 16/50\n",
            "163/163 [==============================] - 0s 2ms/step - loss: 0.0601 - accuracy: 0.9875 - val_loss: 0.0295 - val_accuracy: 0.9931\n",
            "Epoch 17/50\n",
            "163/163 [==============================] - 0s 2ms/step - loss: 0.0563 - accuracy: 0.9890 - val_loss: 0.0306 - val_accuracy: 0.9923\n",
            "Epoch 18/50\n",
            "163/163 [==============================] - 0s 2ms/step - loss: 0.0487 - accuracy: 0.9898 - val_loss: 0.0289 - val_accuracy: 0.9923\n",
            "Epoch 19/50\n",
            "163/163 [==============================] - 0s 2ms/step - loss: 0.0525 - accuracy: 0.9890 - val_loss: 0.0288 - val_accuracy: 0.9931\n",
            "Epoch 20/50\n",
            "163/163 [==============================] - 0s 2ms/step - loss: 0.0521 - accuracy: 0.9875 - val_loss: 0.0293 - val_accuracy: 0.9923\n",
            "Epoch 21/50\n",
            "163/163 [==============================] - 0s 2ms/step - loss: 0.0513 - accuracy: 0.9894 - val_loss: 0.0304 - val_accuracy: 0.9923\n",
            "Epoch 22/50\n",
            "163/163 [==============================] - 0s 2ms/step - loss: 0.0542 - accuracy: 0.9898 - val_loss: 0.0289 - val_accuracy: 0.9923\n",
            "Epoch 23/50\n",
            "163/163 [==============================] - 0s 2ms/step - loss: 0.0548 - accuracy: 0.9886 - val_loss: 0.0299 - val_accuracy: 0.9923\n",
            "Epoch 24/50\n",
            "163/163 [==============================] - 0s 2ms/step - loss: 0.0531 - accuracy: 0.9888 - val_loss: 0.0302 - val_accuracy: 0.9915\n",
            "Epoch 25/50\n",
            "163/163 [==============================] - 0s 2ms/step - loss: 0.0555 - accuracy: 0.9883 - val_loss: 0.0282 - val_accuracy: 0.9923\n",
            "Epoch 26/50\n",
            "163/163 [==============================] - 0s 2ms/step - loss: 0.0498 - accuracy: 0.9898 - val_loss: 0.0285 - val_accuracy: 0.9931\n",
            "Epoch 27/50\n",
            "163/163 [==============================] - 0s 2ms/step - loss: 0.0480 - accuracy: 0.9902 - val_loss: 0.0284 - val_accuracy: 0.9931\n",
            "Epoch 28/50\n",
            "163/163 [==============================] - 0s 2ms/step - loss: 0.0508 - accuracy: 0.9900 - val_loss: 0.0278 - val_accuracy: 0.9931\n",
            "Epoch 29/50\n",
            "163/163 [==============================] - 0s 2ms/step - loss: 0.0456 - accuracy: 0.9888 - val_loss: 0.0296 - val_accuracy: 0.9923\n",
            "Epoch 30/50\n",
            "163/163 [==============================] - 0s 2ms/step - loss: 0.0471 - accuracy: 0.9900 - val_loss: 0.0298 - val_accuracy: 0.9923\n",
            "Epoch 31/50\n",
            "163/163 [==============================] - 0s 2ms/step - loss: 0.0453 - accuracy: 0.9917 - val_loss: 0.0287 - val_accuracy: 0.9923\n",
            "Epoch 32/50\n",
            "163/163 [==============================] - 0s 2ms/step - loss: 0.0509 - accuracy: 0.9881 - val_loss: 0.0304 - val_accuracy: 0.9915\n",
            "Epoch 33/50\n",
            "163/163 [==============================] - 0s 2ms/step - loss: 0.0444 - accuracy: 0.9898 - val_loss: 0.0275 - val_accuracy: 0.9923\n",
            "Epoch 34/50\n",
            "163/163 [==============================] - 0s 2ms/step - loss: 0.0426 - accuracy: 0.9896 - val_loss: 0.0284 - val_accuracy: 0.9923\n",
            "Epoch 35/50\n",
            "163/163 [==============================] - 0s 2ms/step - loss: 0.0454 - accuracy: 0.9902 - val_loss: 0.0270 - val_accuracy: 0.9923\n",
            "Epoch 36/50\n",
            "163/163 [==============================] - 0s 2ms/step - loss: 0.0464 - accuracy: 0.9900 - val_loss: 0.0277 - val_accuracy: 0.9923\n",
            "Epoch 37/50\n",
            "163/163 [==============================] - 0s 2ms/step - loss: 0.0435 - accuracy: 0.9906 - val_loss: 0.0294 - val_accuracy: 0.9915\n",
            "Epoch 38/50\n",
            "163/163 [==============================] - 0s 2ms/step - loss: 0.0407 - accuracy: 0.9913 - val_loss: 0.0281 - val_accuracy: 0.9915\n",
            "Epoch 39/50\n",
            "163/163 [==============================] - 0s 2ms/step - loss: 0.0417 - accuracy: 0.9904 - val_loss: 0.0273 - val_accuracy: 0.9915\n",
            "Epoch 40/50\n",
            "163/163 [==============================] - 0s 2ms/step - loss: 0.0452 - accuracy: 0.9915 - val_loss: 0.0279 - val_accuracy: 0.9923\n",
            "Epoch 41/50\n",
            "163/163 [==============================] - 0s 2ms/step - loss: 0.0419 - accuracy: 0.9913 - val_loss: 0.0269 - val_accuracy: 0.9923\n",
            "Epoch 42/50\n",
            "163/163 [==============================] - 0s 2ms/step - loss: 0.0421 - accuracy: 0.9915 - val_loss: 0.0267 - val_accuracy: 0.9915\n",
            "Epoch 43/50\n",
            "163/163 [==============================] - 0s 3ms/step - loss: 0.0397 - accuracy: 0.9913 - val_loss: 0.0259 - val_accuracy: 0.9915\n",
            "Epoch 44/50\n",
            "163/163 [==============================] - 0s 2ms/step - loss: 0.0423 - accuracy: 0.9906 - val_loss: 0.0261 - val_accuracy: 0.9923\n",
            "Epoch 45/50\n",
            "163/163 [==============================] - 0s 2ms/step - loss: 0.0391 - accuracy: 0.9900 - val_loss: 0.0260 - val_accuracy: 0.9923\n",
            "Epoch 46/50\n",
            "163/163 [==============================] - 0s 2ms/step - loss: 0.0383 - accuracy: 0.9917 - val_loss: 0.0275 - val_accuracy: 0.9931\n",
            "Epoch 47/50\n",
            "163/163 [==============================] - 0s 2ms/step - loss: 0.0426 - accuracy: 0.9913 - val_loss: 0.0278 - val_accuracy: 0.9923\n",
            "Epoch 48/50\n",
            "163/163 [==============================] - 0s 2ms/step - loss: 0.0404 - accuracy: 0.9908 - val_loss: 0.0268 - val_accuracy: 0.9923\n",
            "Epoch 49/50\n",
            "163/163 [==============================] - 0s 2ms/step - loss: 0.0376 - accuracy: 0.9917 - val_loss: 0.0272 - val_accuracy: 0.9915\n",
            "Epoch 50/50\n",
            "163/163 [==============================] - 0s 2ms/step - loss: 0.0363 - accuracy: 0.9925 - val_loss: 0.0279 - val_accuracy: 0.9923\n"
          ]
        }
      ]
    },
    {
      "cell_type": "code",
      "source": [
        "plt.plot(h.history['accuracy'], label = 'Accuracy for Train set')\n",
        "plt.plot(h.history['val_accuracy'], label = 'Accuracy for Test Set')\n",
        "plt.title('Accuracy Graph for ANN')\n",
        "plt.ylabel('Accuracy')\n",
        "plt.xlabel('epochs')\n",
        "plt.legend()"
      ],
      "metadata": {
        "id": "y9gOXcH2fr98",
        "outputId": "7f48ec79-bcc8-40c2-91dd-18721ce8a00c",
        "colab": {
          "base_uri": "https://localhost:8080/",
          "height": 312
        }
      },
      "execution_count": 61,
      "outputs": [
        {
          "output_type": "execute_result",
          "data": {
            "text/plain": [
              "<matplotlib.legend.Legend at 0x7fadb55bc410>"
            ]
          },
          "metadata": {},
          "execution_count": 61
        },
        {
          "output_type": "display_data",
          "data": {
            "text/plain": [
              "<Figure size 432x288 with 1 Axes>"
            ],
            "image/png": "[encoded data removed]"
          },
          "metadata": {
            "needs_background": "light"
          }
        }
      ]
    },
    {
      "cell_type": "code",
      "source": [
        "plt.plot(h.history['loss'], label = 'loss for Train set')\n",
        "plt.plot(h.history['val_loss'], label = 'loss for Test Set')\n",
        "plt.title('loss Graph for ANN')\n",
        "plt.ylabel('loss')\n",
        "plt.xlabel('epochs')\n",
        "plt.legend()"
      ],
      "metadata": {
        "id": "sxt-l1z_fzea",
        "outputId": "508adc6e-adff-4e2b-bb28-f4fb31f44c73",
        "colab": {
          "base_uri": "https://localhost:8080/",
          "height": 312
        }
      },
      "execution_count": 62,
      "outputs": [
        {
          "output_type": "execute_result",
          "data": {
            "text/plain": [
              "<matplotlib.legend.Legend at 0x7fadb50889d0>"
            ]
          },
          "metadata": {},
          "execution_count": 62
        },
        {
          "output_type": "display_data",
          "data": {
            "text/plain": [
              "<Figure size 432x288 with 1 Axes>"
            ],
            "image/png": "[encoded data removed]"
          },
          "metadata": {
            "needs_background": "light"
          }
        }
      ]
    },
    {
      "cell_type": "code",
      "source": [
        "y_pred_ann = model.predict_classes(X_test)\n",
        "accuracy_score(y_test,y_pred_ann)"
      ],
      "metadata": {
        "id": "RVSGUO8cf1nE",
        "outputId": "b51bb25a-a81c-4fed-9038-2029fa62fbf9",
        "colab": {
          "base_uri": "https://localhost:8080/"
        }
      },
      "execution_count": 63,
      "outputs": [
        {
          "output_type": "stream",
          "name": "stderr",
          "text": [
            "/usr/local/lib/python3.7/dist-packages/tensorflow/python/keras/engine/sequential.py:455: UserWarning: `model.predict_classes()` is deprecated and will be removed after 2021-01-01. Please use instead:* `np.argmax(model.predict(x), axis=-1)`,   if your model does multi-class classification   (e.g. if it uses a `softmax` last-layer activation).* `(model.predict(x) > 0.5).astype(\"int32\")`,   if your model does binary classification   (e.g. if it uses a `sigmoid` last-layer activation).\n",
            "  warnings.warn('`model.predict_classes()` is deprecated and '\n"
          ]
        },
        {
          "output_type": "execute_result",
          "data": {
            "text/plain": [
              "0.9923076923076923"
            ]
          },
          "metadata": {},
          "execution_count": 63
        }
      ]
    },
    {
      "cell_type": "markdown",
      "source": [
        "PCA"
      ],
      "metadata": {
        "id": "7-4m2Se1f5gf"
      }
    },
    {
      "cell_type": "code",
      "source": [
        "rank5  = pd.read_excel(\"/content/Wine_dataset (1).xlsx\",sheet_name = \"PCA\").set_index('Attributes_Names')\n",
        "df_pca  = df[rank5[:6].index]\n",
        "X_col =  df_pca\n",
        "y = LabelEncoder().fit_transform(df['style'])\n",
        "Scaler = StandardScaler()\n",
        "X_col =  Scaler.fit_transform(X_col)\n",
        "X_train, X_test, y_train, y_test = train_test_split(X_col, y, test_size=0.2, random_state=0)\n",
        "print(\"Shape of training data\",X_train.shape)\n",
        "print(\"Shape of testing data\",X_test.shape)"
      ],
      "metadata": {
        "id": "J1DO2iz5f3Ww",
        "outputId": "8b890112-ff88-4b24-b82d-3a0035df0022",
        "colab": {
          "base_uri": "https://localhost:8080/"
        }
      },
      "execution_count": 64,
      "outputs": [
        {
          "output_type": "stream",
          "name": "stdout",
          "text": [
            "Shape of training data (5197, 6)\n",
            "Shape of testing data (1300, 6)\n"
          ]
        }
      ]
    },
    {
      "cell_type": "code",
      "source": [
        "rf =  RandomForestClassifier()\n",
        "rf.fit(X_train,y_train)\n",
        "y_pred_rf =  rf.predict(X_test)\n",
        "accuracy_score(y_test,y_pred_rf)"
      ],
      "metadata": {
        "id": "oMSKjAojf9TK",
        "outputId": "757749ff-64e0-4554-e54c-98ba6f46d450",
        "colab": {
          "base_uri": "https://localhost:8080/"
        }
      },
      "execution_count": 65,
      "outputs": [
        {
          "output_type": "execute_result",
          "data": {
            "text/plain": [
              "0.9884615384615385"
            ]
          },
          "metadata": {},
          "execution_count": 65
        }
      ]
    },
    {
      "cell_type": "code",
      "source": [
        "svc =  SVC()\n",
        "svc.fit(X_test,y_test)\n",
        "y_pred_svc =  svc.predict(X_test)\n",
        "accuracy_score(y_test,y_pred_svc)"
      ],
      "metadata": {
        "id": "GrF-76iFf_pF",
        "outputId": "9c9cb019-fbd7-4b1d-921b-124cc1b9601c",
        "colab": {
          "base_uri": "https://localhost:8080/"
        }
      },
      "execution_count": 66,
      "outputs": [
        {
          "output_type": "execute_result",
          "data": {
            "text/plain": [
              "0.9946153846153846"
            ]
          },
          "metadata": {},
          "execution_count": 66
        }
      ]
    },
    {
      "cell_type": "code",
      "source": [
        "model = tf.keras.Sequential([\n",
        "    tf.keras.layers.Dense(6, activation='relu', input_shape=(6,)),\n",
        "    tf.keras.layers.BatchNormalization(),\n",
        "    tf.keras.layers.Dense(12, activation='relu'),\n",
        "    tf.keras.layers.BatchNormalization(),\n",
        "    tf.keras.layers.Dense(24, activation='relu'),\n",
        "    tf.keras.layers.Dropout(0.5),\n",
        "    tf.keras.layers.Dense(1,activation='sigmoid')\n",
        "  ])\n",
        "model.compile(loss='binary_crossentropy',\n",
        "              optimizer = 'adam',\n",
        "              metrics=['accuracy'])\n",
        "model.summary()"
      ],
      "metadata": {
        "id": "DcC3tOBFgBqI",
        "outputId": "dde79752-9e73-4568-b784-56e574a5a464",
        "colab": {
          "base_uri": "https://localhost:8080/"
        }
      },
      "execution_count": 67,
      "outputs": [
        {
          "output_type": "stream",
          "name": "stdout",
          "text": [
            "Model: \"sequential_8\"\n",
            "_________________________________________________________________\n",
            "Layer (type)                 Output Shape              Param #   \n",
            "=================================================================\n",
            "dense_32 (Dense)             (None, 6)                 42        \n",
            "_________________________________________________________________\n",
            "batch_normalization_16 (Batc (None, 6)                 24        \n",
            "_________________________________________________________________\n",
            "dense_33 (Dense)             (None, 12)                84        \n",
            "_________________________________________________________________\n",
            "batch_normalization_17 (Batc (None, 12)                48        \n",
            "_________________________________________________________________\n",
            "dense_34 (Dense)             (None, 24)                312       \n",
            "_________________________________________________________________\n",
            "dropout_8 (Dropout)          (None, 24)                0         \n",
            "_________________________________________________________________\n",
            "dense_35 (Dense)             (None, 1)                 25        \n",
            "=================================================================\n",
            "Total params: 535\n",
            "Trainable params: 499\n",
            "Non-trainable params: 36\n",
            "_________________________________________________________________\n"
          ]
        }
      ]
    },
    {
      "cell_type": "code",
      "source": [
        "h = model.fit(X_train,y_train,epochs=50,validation_data=(X_test,y_test))"
      ],
      "metadata": {
        "id": "6_-tMWLsgEJg",
        "outputId": "67652fa1-856a-40f7-d81d-0697c1cb7097",
        "colab": {
          "base_uri": "https://localhost:8080/"
        }
      },
      "execution_count": 68,
      "outputs": [
        {
          "output_type": "stream",
          "name": "stdout",
          "text": [
            "Epoch 1/50\n",
            "163/163 [==============================] - 2s 5ms/step - loss: 0.5833 - accuracy: 0.6733 - val_loss: 0.3910 - val_accuracy: 0.8400\n",
            "Epoch 2/50\n",
            "163/163 [==============================] - 0s 3ms/step - loss: 0.3143 - accuracy: 0.8672 - val_loss: 0.2026 - val_accuracy: 0.8962\n",
            "Epoch 3/50\n",
            "163/163 [==============================] - 0s 3ms/step - loss: 0.1959 - accuracy: 0.9344 - val_loss: 0.1042 - val_accuracy: 0.9692\n",
            "Epoch 4/50\n",
            "163/163 [==============================] - 0s 3ms/step - loss: 0.1246 - accuracy: 0.9648 - val_loss: 0.0634 - val_accuracy: 0.9854\n",
            "Epoch 5/50\n",
            "163/163 [==============================] - 1s 4ms/step - loss: 0.1018 - accuracy: 0.9744 - val_loss: 0.0468 - val_accuracy: 0.9831\n",
            "Epoch 6/50\n",
            "163/163 [==============================] - 1s 3ms/step - loss: 0.0900 - accuracy: 0.9775 - val_loss: 0.0436 - val_accuracy: 0.9862\n",
            "Epoch 7/50\n",
            "163/163 [==============================] - 0s 3ms/step - loss: 0.0885 - accuracy: 0.9788 - val_loss: 0.0415 - val_accuracy: 0.9877\n",
            "Epoch 8/50\n",
            "163/163 [==============================] - 0s 3ms/step - loss: 0.0847 - accuracy: 0.9783 - val_loss: 0.0400 - val_accuracy: 0.9877\n",
            "Epoch 9/50\n",
            "163/163 [==============================] - 0s 3ms/step - loss: 0.0812 - accuracy: 0.9794 - val_loss: 0.0398 - val_accuracy: 0.9877\n",
            "Epoch 10/50\n",
            "163/163 [==============================] - 0s 3ms/step - loss: 0.0795 - accuracy: 0.9798 - val_loss: 0.0376 - val_accuracy: 0.9892\n",
            "Epoch 11/50\n",
            "163/163 [==============================] - 0s 3ms/step - loss: 0.0811 - accuracy: 0.9810 - val_loss: 0.0373 - val_accuracy: 0.9877\n",
            "Epoch 12/50\n",
            "163/163 [==============================] - 0s 3ms/step - loss: 0.0729 - accuracy: 0.9833 - val_loss: 0.0395 - val_accuracy: 0.9877\n",
            "Epoch 13/50\n",
            "163/163 [==============================] - 0s 2ms/step - loss: 0.0768 - accuracy: 0.9817 - val_loss: 0.0353 - val_accuracy: 0.9900\n",
            "Epoch 14/50\n",
            "163/163 [==============================] - 0s 2ms/step - loss: 0.0714 - accuracy: 0.9821 - val_loss: 0.0365 - val_accuracy: 0.9900\n",
            "Epoch 15/50\n",
            "163/163 [==============================] - 0s 2ms/step - loss: 0.0781 - accuracy: 0.9804 - val_loss: 0.0373 - val_accuracy: 0.9900\n",
            "Epoch 16/50\n",
            "163/163 [==============================] - 0s 2ms/step - loss: 0.0744 - accuracy: 0.9850 - val_loss: 0.0377 - val_accuracy: 0.9900\n",
            "Epoch 17/50\n",
            "163/163 [==============================] - 0s 2ms/step - loss: 0.0680 - accuracy: 0.9827 - val_loss: 0.0359 - val_accuracy: 0.9908\n",
            "Epoch 18/50\n",
            "163/163 [==============================] - 0s 2ms/step - loss: 0.0614 - accuracy: 0.9850 - val_loss: 0.0375 - val_accuracy: 0.9877\n",
            "Epoch 19/50\n",
            "163/163 [==============================] - 0s 2ms/step - loss: 0.0685 - accuracy: 0.9819 - val_loss: 0.0397 - val_accuracy: 0.9892\n",
            "Epoch 20/50\n",
            "163/163 [==============================] - 0s 2ms/step - loss: 0.0651 - accuracy: 0.9823 - val_loss: 0.0356 - val_accuracy: 0.9915\n",
            "Epoch 21/50\n",
            "163/163 [==============================] - 0s 2ms/step - loss: 0.0665 - accuracy: 0.9823 - val_loss: 0.0367 - val_accuracy: 0.9885\n",
            "Epoch 22/50\n",
            "163/163 [==============================] - 0s 2ms/step - loss: 0.0634 - accuracy: 0.9852 - val_loss: 0.0390 - val_accuracy: 0.9877\n",
            "Epoch 23/50\n",
            "163/163 [==============================] - 0s 2ms/step - loss: 0.0700 - accuracy: 0.9850 - val_loss: 0.0382 - val_accuracy: 0.9908\n",
            "Epoch 24/50\n",
            "163/163 [==============================] - 0s 2ms/step - loss: 0.0660 - accuracy: 0.9836 - val_loss: 0.0379 - val_accuracy: 0.9885\n",
            "Epoch 25/50\n",
            "163/163 [==============================] - 0s 2ms/step - loss: 0.0674 - accuracy: 0.9838 - val_loss: 0.0396 - val_accuracy: 0.9908\n",
            "Epoch 26/50\n",
            "163/163 [==============================] - 0s 2ms/step - loss: 0.0603 - accuracy: 0.9840 - val_loss: 0.0395 - val_accuracy: 0.9900\n",
            "Epoch 27/50\n",
            "163/163 [==============================] - 0s 2ms/step - loss: 0.0635 - accuracy: 0.9840 - val_loss: 0.0410 - val_accuracy: 0.9892\n",
            "Epoch 28/50\n",
            "163/163 [==============================] - 0s 2ms/step - loss: 0.0562 - accuracy: 0.9844 - val_loss: 0.0384 - val_accuracy: 0.9900\n",
            "Epoch 29/50\n",
            "163/163 [==============================] - 0s 2ms/step - loss: 0.0568 - accuracy: 0.9835 - val_loss: 0.0373 - val_accuracy: 0.9915\n",
            "Epoch 30/50\n",
            "163/163 [==============================] - 0s 2ms/step - loss: 0.0558 - accuracy: 0.9835 - val_loss: 0.0391 - val_accuracy: 0.9900\n",
            "Epoch 31/50\n",
            "163/163 [==============================] - 0s 2ms/step - loss: 0.0551 - accuracy: 0.9861 - val_loss: 0.0388 - val_accuracy: 0.9908\n",
            "Epoch 32/50\n",
            "163/163 [==============================] - 0s 2ms/step - loss: 0.0583 - accuracy: 0.9844 - val_loss: 0.0397 - val_accuracy: 0.9900\n",
            "Epoch 33/50\n",
            "163/163 [==============================] - 0s 2ms/step - loss: 0.0571 - accuracy: 0.9861 - val_loss: 0.0442 - val_accuracy: 0.9900\n",
            "Epoch 34/50\n",
            "163/163 [==============================] - 0s 2ms/step - loss: 0.0608 - accuracy: 0.9835 - val_loss: 0.0440 - val_accuracy: 0.9900\n",
            "Epoch 35/50\n",
            "163/163 [==============================] - 1s 3ms/step - loss: 0.0524 - accuracy: 0.9861 - val_loss: 0.0401 - val_accuracy: 0.9915\n",
            "Epoch 36/50\n",
            "163/163 [==============================] - 1s 3ms/step - loss: 0.0536 - accuracy: 0.9861 - val_loss: 0.0422 - val_accuracy: 0.9908\n",
            "Epoch 37/50\n",
            "163/163 [==============================] - 1s 3ms/step - loss: 0.0649 - accuracy: 0.9836 - val_loss: 0.0421 - val_accuracy: 0.9908\n",
            "Epoch 38/50\n",
            "163/163 [==============================] - 0s 3ms/step - loss: 0.0581 - accuracy: 0.9856 - val_loss: 0.0411 - val_accuracy: 0.9869\n",
            "Epoch 39/50\n",
            "163/163 [==============================] - 1s 4ms/step - loss: 0.0603 - accuracy: 0.9848 - val_loss: 0.0482 - val_accuracy: 0.9900\n",
            "Epoch 40/50\n",
            "163/163 [==============================] - 1s 4ms/step - loss: 0.0550 - accuracy: 0.9858 - val_loss: 0.0454 - val_accuracy: 0.9869\n",
            "Epoch 41/50\n",
            "163/163 [==============================] - 0s 3ms/step - loss: 0.0552 - accuracy: 0.9861 - val_loss: 0.0407 - val_accuracy: 0.9892\n",
            "Epoch 42/50\n",
            "163/163 [==============================] - 0s 3ms/step - loss: 0.0506 - accuracy: 0.9861 - val_loss: 0.0423 - val_accuracy: 0.9892\n",
            "Epoch 43/50\n",
            "163/163 [==============================] - 0s 3ms/step - loss: 0.0560 - accuracy: 0.9860 - val_loss: 0.0477 - val_accuracy: 0.9900\n",
            "Epoch 44/50\n",
            "163/163 [==============================] - 0s 3ms/step - loss: 0.0587 - accuracy: 0.9850 - val_loss: 0.0442 - val_accuracy: 0.9869\n",
            "Epoch 45/50\n",
            "163/163 [==============================] - 0s 3ms/step - loss: 0.0518 - accuracy: 0.9879 - val_loss: 0.0411 - val_accuracy: 0.9892\n",
            "Epoch 46/50\n",
            "163/163 [==============================] - 0s 2ms/step - loss: 0.0559 - accuracy: 0.9871 - val_loss: 0.0415 - val_accuracy: 0.9892\n",
            "Epoch 47/50\n",
            "163/163 [==============================] - 0s 3ms/step - loss: 0.0533 - accuracy: 0.9854 - val_loss: 0.0448 - val_accuracy: 0.9908\n",
            "Epoch 48/50\n",
            "163/163 [==============================] - 0s 3ms/step - loss: 0.0513 - accuracy: 0.9861 - val_loss: 0.0426 - val_accuracy: 0.9908\n",
            "Epoch 49/50\n",
            "163/163 [==============================] - 1s 3ms/step - loss: 0.0516 - accuracy: 0.9871 - val_loss: 0.0442 - val_accuracy: 0.9900\n",
            "Epoch 50/50\n",
            "163/163 [==============================] - 0s 3ms/step - loss: 0.0519 - accuracy: 0.9863 - val_loss: 0.0412 - val_accuracy: 0.9885\n"
          ]
        }
      ]
    },
    {
      "cell_type": "code",
      "source": [
        "plt.plot(h.history['accuracy'], label = 'Accuracy for Train set')\n",
        "plt.plot(h.history['val_accuracy'], label = 'Accuracy for Test Set')\n",
        "plt.title('Accuracy Graph for ANN')\n",
        "plt.ylabel('Accuracy')\n",
        "plt.xlabel('epochs')\n",
        "plt.legend()"
      ],
      "metadata": {
        "id": "PGQPUNwjgG8W",
        "outputId": "ecf15950-f946-4f52-9beb-f438eba3ba6e",
        "colab": {
          "base_uri": "https://localhost:8080/",
          "height": 312
        }
      },
      "execution_count": 69,
      "outputs": [
        {
          "output_type": "execute_result",
          "data": {
            "text/plain": [
              "<matplotlib.legend.Legend at 0x7fadb1422c90>"
            ]
          },
          "metadata": {},
          "execution_count": 69
        },
        {
          "output_type": "display_data",
          "data": {
            "text/plain": [
              "<Figure size 432x288 with 1 Axes>"
            ],
            "image/png": "[encoded data removed]"
          },
          "metadata": {
            "needs_background": "light"
          }
        }
      ]
    },
    {
      "cell_type": "code",
      "source": [
        "plt.plot(h.history['loss'], label = 'loss for Train set')\n",
        "plt.plot(h.history['val_loss'], label = 'loss for Test Set')\n",
        "plt.title('loss Graph for ANN')\n",
        "plt.ylabel('loss')\n",
        "plt.xlabel('epochs')\n",
        "plt.legend()"
      ],
      "metadata": {
        "id": "dCiB79OvgNcN",
        "outputId": "09e3d94f-68bd-4f99-829f-1a4c8cbf07d3",
        "colab": {
          "base_uri": "https://localhost:8080/",
          "height": 312
        }
      },
      "execution_count": 70,
      "outputs": [
        {
          "output_type": "execute_result",
          "data": {
            "text/plain": [
              "<matplotlib.legend.Legend at 0x7fadb0409890>"
            ]
          },
          "metadata": {},
          "execution_count": 70
        },
        {
          "output_type": "display_data",
          "data": {
            "text/plain": [
              "<Figure size 432x288 with 1 Axes>"
            ],
            "image/png": "[encoded data removed]"
          },
          "metadata": {
            "needs_background": "light"
          }
        }
      ]
    },
    {
      "cell_type": "code",
      "source": [
        "y_pred_ann = model.predict_classes(X_test)\n",
        "accuracy_score(y_test,y_pred_ann)"
      ],
      "metadata": {
        "id": "Vzx8NhV9gN_U",
        "outputId": "21aeb23f-229d-4aa2-ea55-22749c93607b",
        "colab": {
          "base_uri": "https://localhost:8080/"
        }
      },
      "execution_count": 71,
      "outputs": [
        {
          "output_type": "stream",
          "name": "stderr",
          "text": [
            "/usr/local/lib/python3.7/dist-packages/tensorflow/python/keras/engine/sequential.py:455: UserWarning: `model.predict_classes()` is deprecated and will be removed after 2021-01-01. Please use instead:* `np.argmax(model.predict(x), axis=-1)`,   if your model does multi-class classification   (e.g. if it uses a `softmax` last-layer activation).* `(model.predict(x) > 0.5).astype(\"int32\")`,   if your model does binary classification   (e.g. if it uses a `sigmoid` last-layer activation).\n",
            "  warnings.warn('`model.predict_classes()` is deprecated and '\n"
          ]
        },
        {
          "output_type": "execute_result",
          "data": {
            "text/plain": [
              "0.9884615384615385"
            ]
          },
          "metadata": {},
          "execution_count": 71
        }
      ]
    },
    {
      "cell_type": "markdown",
      "source": [
        "F Test"
      ],
      "metadata": {
        "id": "j7wnWfUNgTVY"
      }
    },
    {
      "cell_type": "code",
      "source": [
        "rank6  = pd.read_excel(\"/content/Wine_dataset (1).xlsx\",sheet_name = \"F_test\").set_index('Attributes_Names')\n",
        "df_f_test  = df[rank6[:9].index]\n",
        "X_col =  df_f_test\n",
        "y = LabelEncoder().fit_transform(df['style'])\n",
        "Scaler = StandardScaler()\n",
        "X_col =  Scaler.fit_transform(X_col)\n",
        "X_train, X_test, y_train, y_test = train_test_split(X_col, y, test_size=0.2, random_state=0)\n",
        "print(\"Shape of training data\",X_train.shape)\n",
        "print(\"Shape of testing data\",X_test.shape)"
      ],
      "metadata": {
        "id": "rnVtsxLNgQoY",
        "outputId": "9aa2684c-ea4a-408c-e767-61232da3cd0d",
        "colab": {
          "base_uri": "https://localhost:8080/"
        }
      },
      "execution_count": 74,
      "outputs": [
        {
          "output_type": "stream",
          "name": "stdout",
          "text": [
            "Shape of training data (5197, 9)\n",
            "Shape of testing data (1300, 9)\n"
          ]
        }
      ]
    },
    {
      "cell_type": "code",
      "source": [
        "rf =  RandomForestClassifier()\n",
        "rf.fit(X_train,y_train)\n",
        "y_pred_rf =  rf.predict(X_test)\n",
        "accuracy_score(y_test,y_pred_rf)"
      ],
      "metadata": {
        "id": "zYMb2xyegXSw",
        "outputId": "743b2860-767f-40dc-8952-42191d571665",
        "colab": {
          "base_uri": "https://localhost:8080/"
        }
      },
      "execution_count": 75,
      "outputs": [
        {
          "output_type": "execute_result",
          "data": {
            "text/plain": [
              "0.9961538461538462"
            ]
          },
          "metadata": {},
          "execution_count": 75
        }
      ]
    },
    {
      "cell_type": "code",
      "source": [
        "svc =  SVC()\n",
        "svc.fit(X_test,y_test)\n",
        "y_pred_svc =  svc.predict(X_test)\n",
        "accuracy_score(y_test,y_pred_svc)"
      ],
      "metadata": {
        "id": "DPBCgNuXgZlY",
        "outputId": "5bec53a2-4b3d-4316-a1b0-80b8a185fdc2",
        "colab": {
          "base_uri": "https://localhost:8080/"
        }
      },
      "execution_count": 76,
      "outputs": [
        {
          "output_type": "execute_result",
          "data": {
            "text/plain": [
              "0.9976923076923077"
            ]
          },
          "metadata": {},
          "execution_count": 76
        }
      ]
    },
    {
      "cell_type": "code",
      "source": [
        "model = tf.keras.Sequential([\n",
        "    tf.keras.layers.Dense(9, activation='relu', input_shape=(9,)),\n",
        "    tf.keras.layers.BatchNormalization(),\n",
        "    tf.keras.layers.Dense(12, activation='relu'),\n",
        "    tf.keras.layers.BatchNormalization(),\n",
        "    tf.keras.layers.Dense(24, activation='relu'),\n",
        "    tf.keras.layers.Dropout(0.5),\n",
        "    tf.keras.layers.Dense(1,activation='sigmoid')\n",
        "  ])\n",
        "model.compile(loss='binary_crossentropy',\n",
        "              optimizer = 'adam',\n",
        "              metrics=['accuracy'])\n",
        "model.summary()"
      ],
      "metadata": {
        "id": "SZd3KOKKgfQF",
        "outputId": "d362c70a-94ca-4b4b-ae5b-0ef98ee6ad09",
        "colab": {
          "base_uri": "https://localhost:8080/"
        }
      },
      "execution_count": 77,
      "outputs": [
        {
          "output_type": "stream",
          "name": "stdout",
          "text": [
            "Model: \"sequential_9\"\n",
            "_________________________________________________________________\n",
            "Layer (type)                 Output Shape              Param #   \n",
            "=================================================================\n",
            "dense_36 (Dense)             (None, 9)                 90        \n",
            "_________________________________________________________________\n",
            "batch_normalization_18 (Batc (None, 9)                 36        \n",
            "_________________________________________________________________\n",
            "dense_37 (Dense)             (None, 12)                120       \n",
            "_________________________________________________________________\n",
            "batch_normalization_19 (Batc (None, 12)                48        \n",
            "_________________________________________________________________\n",
            "dense_38 (Dense)             (None, 24)                312       \n",
            "_________________________________________________________________\n",
            "dropout_9 (Dropout)          (None, 24)                0         \n",
            "_________________________________________________________________\n",
            "dense_39 (Dense)             (None, 1)                 25        \n",
            "=================================================================\n",
            "Total params: 631\n",
            "Trainable params: 589\n",
            "Non-trainable params: 42\n",
            "_________________________________________________________________\n"
          ]
        }
      ]
    },
    {
      "cell_type": "code",
      "source": [
        "h = model.fit(X_train,y_train,epochs=50,validation_data=(X_test,y_test))"
      ],
      "metadata": {
        "id": "5LBO2m4DgkUP",
        "outputId": "0d8adab7-0616-42be-96ed-ed442d66ad72",
        "colab": {
          "base_uri": "https://localhost:8080/"
        }
      },
      "execution_count": 78,
      "outputs": [
        {
          "output_type": "stream",
          "name": "stdout",
          "text": [
            "Epoch 1/50\n",
            "163/163 [==============================] - 2s 5ms/step - loss: 0.3803 - accuracy: 0.8339 - val_loss: 0.1775 - val_accuracy: 0.9792\n",
            "Epoch 2/50\n",
            "163/163 [==============================] - 1s 3ms/step - loss: 0.1327 - accuracy: 0.9692 - val_loss: 0.0431 - val_accuracy: 0.9908\n",
            "Epoch 3/50\n",
            "163/163 [==============================] - 0s 3ms/step - loss: 0.0793 - accuracy: 0.9833 - val_loss: 0.0223 - val_accuracy: 0.9931\n",
            "Epoch 4/50\n",
            "163/163 [==============================] - 0s 3ms/step - loss: 0.0665 - accuracy: 0.9854 - val_loss: 0.0161 - val_accuracy: 0.9969\n",
            "Epoch 5/50\n",
            "163/163 [==============================] - 0s 3ms/step - loss: 0.0533 - accuracy: 0.9894 - val_loss: 0.0154 - val_accuracy: 0.9969\n",
            "Epoch 6/50\n",
            "163/163 [==============================] - 0s 3ms/step - loss: 0.0608 - accuracy: 0.9865 - val_loss: 0.0143 - val_accuracy: 0.9962\n",
            "Epoch 7/50\n",
            "163/163 [==============================] - 0s 3ms/step - loss: 0.0471 - accuracy: 0.9910 - val_loss: 0.0142 - val_accuracy: 0.9946\n",
            "Epoch 8/50\n",
            "163/163 [==============================] - 1s 3ms/step - loss: 0.0467 - accuracy: 0.9900 - val_loss: 0.0125 - val_accuracy: 0.9962\n",
            "Epoch 9/50\n",
            "163/163 [==============================] - 1s 3ms/step - loss: 0.0528 - accuracy: 0.9877 - val_loss: 0.0129 - val_accuracy: 0.9962\n",
            "Epoch 10/50\n",
            "163/163 [==============================] - 1s 3ms/step - loss: 0.0408 - accuracy: 0.9910 - val_loss: 0.0137 - val_accuracy: 0.9962\n",
            "Epoch 11/50\n",
            "163/163 [==============================] - 1s 5ms/step - loss: 0.0505 - accuracy: 0.9883 - val_loss: 0.0128 - val_accuracy: 0.9969\n",
            "Epoch 12/50\n",
            "163/163 [==============================] - 1s 5ms/step - loss: 0.0405 - accuracy: 0.9913 - val_loss: 0.0130 - val_accuracy: 0.9962\n",
            "Epoch 13/50\n",
            "163/163 [==============================] - 1s 5ms/step - loss: 0.0415 - accuracy: 0.9904 - val_loss: 0.0132 - val_accuracy: 0.9962\n",
            "Epoch 14/50\n",
            "163/163 [==============================] - 1s 3ms/step - loss: 0.0387 - accuracy: 0.9919 - val_loss: 0.0135 - val_accuracy: 0.9962\n",
            "Epoch 15/50\n",
            "163/163 [==============================] - 0s 2ms/step - loss: 0.0351 - accuracy: 0.9915 - val_loss: 0.0135 - val_accuracy: 0.9962\n",
            "Epoch 16/50\n",
            "163/163 [==============================] - 0s 2ms/step - loss: 0.0427 - accuracy: 0.9921 - val_loss: 0.0126 - val_accuracy: 0.9962\n",
            "Epoch 17/50\n",
            "163/163 [==============================] - 0s 2ms/step - loss: 0.0419 - accuracy: 0.9896 - val_loss: 0.0135 - val_accuracy: 0.9962\n",
            "Epoch 18/50\n",
            "163/163 [==============================] - 1s 3ms/step - loss: 0.0388 - accuracy: 0.9913 - val_loss: 0.0124 - val_accuracy: 0.9962\n",
            "Epoch 19/50\n",
            "163/163 [==============================] - 1s 3ms/step - loss: 0.0417 - accuracy: 0.9919 - val_loss: 0.0118 - val_accuracy: 0.9969\n",
            "Epoch 20/50\n",
            "163/163 [==============================] - 1s 4ms/step - loss: 0.0318 - accuracy: 0.9938 - val_loss: 0.0122 - val_accuracy: 0.9962\n",
            "Epoch 21/50\n",
            "163/163 [==============================] - 1s 3ms/step - loss: 0.0339 - accuracy: 0.9927 - val_loss: 0.0127 - val_accuracy: 0.9962\n",
            "Epoch 22/50\n",
            "163/163 [==============================] - 1s 3ms/step - loss: 0.0402 - accuracy: 0.9911 - val_loss: 0.0122 - val_accuracy: 0.9962\n",
            "Epoch 23/50\n",
            "163/163 [==============================] - 0s 3ms/step - loss: 0.0322 - accuracy: 0.9929 - val_loss: 0.0122 - val_accuracy: 0.9962\n",
            "Epoch 24/50\n",
            "163/163 [==============================] - 1s 3ms/step - loss: 0.0358 - accuracy: 0.9927 - val_loss: 0.0135 - val_accuracy: 0.9962\n",
            "Epoch 25/50\n",
            "163/163 [==============================] - 1s 3ms/step - loss: 0.0341 - accuracy: 0.9931 - val_loss: 0.0124 - val_accuracy: 0.9954\n",
            "Epoch 26/50\n",
            "163/163 [==============================] - 1s 4ms/step - loss: 0.0340 - accuracy: 0.9929 - val_loss: 0.0127 - val_accuracy: 0.9969\n",
            "Epoch 27/50\n",
            "163/163 [==============================] - 1s 4ms/step - loss: 0.0329 - accuracy: 0.9925 - val_loss: 0.0127 - val_accuracy: 0.9962\n",
            "Epoch 28/50\n",
            "163/163 [==============================] - 1s 3ms/step - loss: 0.0275 - accuracy: 0.9937 - val_loss: 0.0161 - val_accuracy: 0.9954\n",
            "Epoch 29/50\n",
            "163/163 [==============================] - 1s 3ms/step - loss: 0.0347 - accuracy: 0.9913 - val_loss: 0.0148 - val_accuracy: 0.9954\n",
            "Epoch 30/50\n",
            "163/163 [==============================] - 1s 3ms/step - loss: 0.0325 - accuracy: 0.9933 - val_loss: 0.0156 - val_accuracy: 0.9954\n",
            "Epoch 31/50\n",
            "163/163 [==============================] - 1s 4ms/step - loss: 0.0354 - accuracy: 0.9927 - val_loss: 0.0183 - val_accuracy: 0.9962\n",
            "Epoch 32/50\n",
            "163/163 [==============================] - 0s 2ms/step - loss: 0.0355 - accuracy: 0.9923 - val_loss: 0.0190 - val_accuracy: 0.9962\n",
            "Epoch 33/50\n",
            "163/163 [==============================] - 0s 2ms/step - loss: 0.0339 - accuracy: 0.9933 - val_loss: 0.0188 - val_accuracy: 0.9954\n",
            "Epoch 34/50\n",
            "163/163 [==============================] - 0s 2ms/step - loss: 0.0320 - accuracy: 0.9921 - val_loss: 0.0210 - val_accuracy: 0.9954\n",
            "Epoch 35/50\n",
            "163/163 [==============================] - 0s 2ms/step - loss: 0.0345 - accuracy: 0.9917 - val_loss: 0.0209 - val_accuracy: 0.9962\n",
            "Epoch 36/50\n",
            "163/163 [==============================] - 0s 3ms/step - loss: 0.0303 - accuracy: 0.9927 - val_loss: 0.0218 - val_accuracy: 0.9962\n",
            "Epoch 37/50\n",
            "163/163 [==============================] - 1s 3ms/step - loss: 0.0284 - accuracy: 0.9937 - val_loss: 0.0196 - val_accuracy: 0.9954\n",
            "Epoch 38/50\n",
            "163/163 [==============================] - 0s 3ms/step - loss: 0.0269 - accuracy: 0.9937 - val_loss: 0.0205 - val_accuracy: 0.9962\n",
            "Epoch 39/50\n",
            "163/163 [==============================] - 1s 3ms/step - loss: 0.0320 - accuracy: 0.9923 - val_loss: 0.0224 - val_accuracy: 0.9954\n",
            "Epoch 40/50\n",
            "163/163 [==============================] - 1s 3ms/step - loss: 0.0263 - accuracy: 0.9948 - val_loss: 0.0217 - val_accuracy: 0.9954\n",
            "Epoch 41/50\n",
            "163/163 [==============================] - 0s 3ms/step - loss: 0.0311 - accuracy: 0.9935 - val_loss: 0.0254 - val_accuracy: 0.9938\n",
            "Epoch 42/50\n",
            "163/163 [==============================] - 1s 4ms/step - loss: 0.0246 - accuracy: 0.9927 - val_loss: 0.0225 - val_accuracy: 0.9938\n",
            "Epoch 43/50\n",
            "163/163 [==============================] - 1s 4ms/step - loss: 0.0255 - accuracy: 0.9938 - val_loss: 0.0220 - val_accuracy: 0.9938\n",
            "Epoch 44/50\n",
            "163/163 [==============================] - 1s 3ms/step - loss: 0.0290 - accuracy: 0.9931 - val_loss: 0.0261 - val_accuracy: 0.9954\n",
            "Epoch 45/50\n",
            "163/163 [==============================] - 0s 3ms/step - loss: 0.0278 - accuracy: 0.9929 - val_loss: 0.0306 - val_accuracy: 0.9938\n",
            "Epoch 46/50\n",
            "163/163 [==============================] - 1s 3ms/step - loss: 0.0242 - accuracy: 0.9937 - val_loss: 0.0319 - val_accuracy: 0.9946\n",
            "Epoch 47/50\n",
            "163/163 [==============================] - 1s 3ms/step - loss: 0.0247 - accuracy: 0.9946 - val_loss: 0.0290 - val_accuracy: 0.9938\n",
            "Epoch 48/50\n",
            "163/163 [==============================] - 1s 3ms/step - loss: 0.0221 - accuracy: 0.9944 - val_loss: 0.0325 - val_accuracy: 0.9938\n",
            "Epoch 49/50\n",
            "163/163 [==============================] - 1s 3ms/step - loss: 0.0253 - accuracy: 0.9942 - val_loss: 0.0232 - val_accuracy: 0.9954\n",
            "Epoch 50/50\n",
            "163/163 [==============================] - 1s 4ms/step - loss: 0.0245 - accuracy: 0.9940 - val_loss: 0.0262 - val_accuracy: 0.9938\n"
          ]
        }
      ]
    },
    {
      "cell_type": "code",
      "source": [
        "plt.plot(h.history['accuracy'], label = 'Accuracy for Train set')\n",
        "plt.plot(h.history['val_accuracy'], label = 'Accuracy for Test Set')\n",
        "plt.title('Accuracy Graph for ANN')\n",
        "plt.ylabel('Accuracy')\n",
        "plt.xlabel('epochs')\n",
        "plt.legend()"
      ],
      "metadata": {
        "id": "DwAGVolbgm22",
        "outputId": "e09d7af8-24e4-4ae9-9c4f-c9f6ebe185cb",
        "colab": {
          "base_uri": "https://localhost:8080/",
          "height": 312
        }
      },
      "execution_count": 79,
      "outputs": [
        {
          "output_type": "execute_result",
          "data": {
            "text/plain": [
              "<matplotlib.legend.Legend at 0x7fadb02f4590>"
            ]
          },
          "metadata": {},
          "execution_count": 79
        },
        {
          "output_type": "display_data",
          "data": {
            "text/plain": [
              "<Figure size 432x288 with 1 Axes>"
            ],
            "image/png": "[encoded data removed]"
          },
          "metadata": {
            "needs_background": "light"
          }
        }
      ]
    },
    {
      "cell_type": "code",
      "source": [
        "plt.plot(h.history['loss'], label = 'loss for Train set')\n",
        "plt.plot(h.history['val_loss'], label = 'loss for Test Set')\n",
        "plt.title('loss Graph for ANN')\n",
        "plt.ylabel('loss')\n",
        "plt.xlabel('epochs')\n",
        "plt.legend()"
      ],
      "metadata": {
        "id": "MLQ4UIQAgrvC",
        "outputId": "7c90870b-360b-4a45-a7d5-8f19e308e8a8",
        "colab": {
          "base_uri": "https://localhost:8080/",
          "height": 312
        }
      },
      "execution_count": 80,
      "outputs": [
        {
          "output_type": "execute_result",
          "data": {
            "text/plain": [
              "<matplotlib.legend.Legend at 0x7fadae7e6390>"
            ]
          },
          "metadata": {},
          "execution_count": 80
        },
        {
          "output_type": "display_data",
          "data": {
            "text/plain": [
              "<Figure size 432x288 with 1 Axes>"
            ],
            "image/png": "[encoded data removed]"
          },
          "metadata": {
            "needs_background": "light"
          }
        }
      ]
    },
    {
      "cell_type": "code",
      "source": [
        "y_pred_ann = model.predict_classes(X_test)\n",
        "accuracy_score(y_test,y_pred_ann)"
      ],
      "metadata": {
        "id": "TntXkeSdgufO",
        "outputId": "05fba299-9cc3-49a1-f051-85703534622f",
        "colab": {
          "base_uri": "https://localhost:8080/"
        }
      },
      "execution_count": 81,
      "outputs": [
        {
          "output_type": "stream",
          "name": "stderr",
          "text": [
            "/usr/local/lib/python3.7/dist-packages/tensorflow/python/keras/engine/sequential.py:455: UserWarning: `model.predict_classes()` is deprecated and will be removed after 2021-01-01. Please use instead:* `np.argmax(model.predict(x), axis=-1)`,   if your model does multi-class classification   (e.g. if it uses a `softmax` last-layer activation).* `(model.predict(x) > 0.5).astype(\"int32\")`,   if your model does binary classification   (e.g. if it uses a `sigmoid` last-layer activation).\n",
            "  warnings.warn('`model.predict_classes()` is deprecated and '\n"
          ]
        },
        {
          "output_type": "execute_result",
          "data": {
            "text/plain": [
              "0.9938461538461538"
            ]
          },
          "metadata": {},
          "execution_count": 81
        }
      ]
    },
    {
      "cell_type": "markdown",
      "source": [
        "Mutual Info"
      ],
      "metadata": {
        "id": "T4BsSwy4g2tU"
      }
    },
    {
      "cell_type": "code",
      "source": [
        "rank7  = pd.read_excel(\"/content/Wine_dataset (1).xlsx\",sheet_name = \"mutual_info\").set_index('Attributes_Names')\n",
        "df_mutual = df[rank7[:9].index]\n",
        "X_col =  df_mutual\n",
        "y = LabelEncoder().fit_transform(df['style'])\n",
        "Scaler = StandardScaler()\n",
        "X_col =  Scaler.fit_transform(X_col)\n",
        "X_train, X_test, y_train, y_test = train_test_split(X_col, y, test_size=0.2, random_state=0)\n",
        "print(\"Shape of training data\",X_train.shape)\n",
        "print(\"Shape of testing data\",X_test.shape)"
      ],
      "metadata": {
        "id": "zgjnIa-5g0CV",
        "outputId": "1927351e-6380-49d5-a246-5f62272b0396",
        "colab": {
          "base_uri": "https://localhost:8080/"
        }
      },
      "execution_count": 83,
      "outputs": [
        {
          "output_type": "stream",
          "name": "stdout",
          "text": [
            "Shape of training data (5197, 9)\n",
            "Shape of testing data (1300, 9)\n"
          ]
        }
      ]
    },
    {
      "cell_type": "code",
      "source": [
        "rf =  RandomForestClassifier()\n",
        "rf.fit(X_train,y_train)\n",
        "y_pred_rf =  rf.predict(X_test)\n",
        "accuracy_score(y_test,y_pred_rf)"
      ],
      "metadata": {
        "id": "qPiAzPdRg67w",
        "outputId": "3e1d7dc1-d0f7-450d-b461-c228f2a81d57",
        "colab": {
          "base_uri": "https://localhost:8080/"
        }
      },
      "execution_count": 84,
      "outputs": [
        {
          "output_type": "execute_result",
          "data": {
            "text/plain": [
              "0.9953846153846154"
            ]
          },
          "metadata": {},
          "execution_count": 84
        }
      ]
    },
    {
      "cell_type": "code",
      "source": [
        "svc =  SVC()\n",
        "svc.fit(X_test,y_test)\n",
        "y_pred_svc =  svc.predict(X_test)\n",
        "accuracy_score(y_test,y_pred_svc)"
      ],
      "metadata": {
        "id": "_GBeWuWxg_K3",
        "outputId": "97505ca0-2716-4459-eb40-73be72403966",
        "colab": {
          "base_uri": "https://localhost:8080/"
        }
      },
      "execution_count": 85,
      "outputs": [
        {
          "output_type": "execute_result",
          "data": {
            "text/plain": [
              "0.9976923076923077"
            ]
          },
          "metadata": {},
          "execution_count": 85
        }
      ]
    },
    {
      "cell_type": "code",
      "source": [
        "model = tf.keras.Sequential([\n",
        "    tf.keras.layers.Dense(9, activation='relu', input_shape=(9,)),\n",
        "    tf.keras.layers.BatchNormalization(),\n",
        "    tf.keras.layers.Dense(12, activation='relu'),\n",
        "    tf.keras.layers.BatchNormalization(),\n",
        "    tf.keras.layers.Dense(24, activation='relu'),\n",
        "    tf.keras.layers.Dropout(0.5),\n",
        "    tf.keras.layers.Dense(1,activation='sigmoid')\n",
        "  ])\n",
        "model.compile(loss='binary_crossentropy',\n",
        "              optimizer = 'adam',\n",
        "              metrics=['accuracy'])\n",
        "model.summary()"
      ],
      "metadata": {
        "id": "lrxxu-46hBU8",
        "outputId": "3c77e8e2-d9e6-42c8-cc32-c43541586dd0",
        "colab": {
          "base_uri": "https://localhost:8080/"
        }
      },
      "execution_count": 87,
      "outputs": [
        {
          "output_type": "stream",
          "name": "stdout",
          "text": [
            "Model: \"sequential_11\"\n",
            "_________________________________________________________________\n",
            "Layer (type)                 Output Shape              Param #   \n",
            "=================================================================\n",
            "dense_44 (Dense)             (None, 9)                 90        \n",
            "_________________________________________________________________\n",
            "batch_normalization_22 (Batc (None, 9)                 36        \n",
            "_________________________________________________________________\n",
            "dense_45 (Dense)             (None, 12)                120       \n",
            "_________________________________________________________________\n",
            "batch_normalization_23 (Batc (None, 12)                48        \n",
            "_________________________________________________________________\n",
            "dense_46 (Dense)             (None, 24)                312       \n",
            "_________________________________________________________________\n",
            "dropout_11 (Dropout)         (None, 24)                0         \n",
            "_________________________________________________________________\n",
            "dense_47 (Dense)             (None, 1)                 25        \n",
            "=================================================================\n",
            "Total params: 631\n",
            "Trainable params: 589\n",
            "Non-trainable params: 42\n",
            "_________________________________________________________________\n"
          ]
        }
      ]
    },
    {
      "cell_type": "code",
      "source": [
        "h = model.fit(X_train,y_train,epochs=50,validation_data=(X_test,y_test))"
      ],
      "metadata": {
        "id": "SkqiHNFbhD_R",
        "outputId": "43898905-d9e3-49d4-a98b-c6697f0fcb57",
        "colab": {
          "base_uri": "https://localhost:8080/"
        }
      },
      "execution_count": 88,
      "outputs": [
        {
          "output_type": "stream",
          "name": "stdout",
          "text": [
            "Epoch 1/50\n",
            "163/163 [==============================] - 3s 5ms/step - loss: 0.4626 - accuracy: 0.7955 - val_loss: 0.2283 - val_accuracy: 0.9515\n",
            "Epoch 2/50\n",
            "163/163 [==============================] - 1s 3ms/step - loss: 0.1586 - accuracy: 0.9611 - val_loss: 0.0651 - val_accuracy: 0.9838\n",
            "Epoch 3/50\n",
            "163/163 [==============================] - 0s 3ms/step - loss: 0.0943 - accuracy: 0.9763 - val_loss: 0.0377 - val_accuracy: 0.9869\n",
            "Epoch 4/50\n",
            "163/163 [==============================] - 0s 3ms/step - loss: 0.0678 - accuracy: 0.9840 - val_loss: 0.0278 - val_accuracy: 0.9931\n",
            "Epoch 5/50\n",
            "163/163 [==============================] - 1s 4ms/step - loss: 0.0635 - accuracy: 0.9836 - val_loss: 0.0279 - val_accuracy: 0.9915\n",
            "Epoch 6/50\n",
            "163/163 [==============================] - 1s 3ms/step - loss: 0.0544 - accuracy: 0.9888 - val_loss: 0.0221 - val_accuracy: 0.9915\n",
            "Epoch 7/50\n",
            "163/163 [==============================] - 1s 4ms/step - loss: 0.0573 - accuracy: 0.9867 - val_loss: 0.0179 - val_accuracy: 0.9923\n",
            "Epoch 8/50\n",
            "163/163 [==============================] - 1s 4ms/step - loss: 0.0500 - accuracy: 0.9877 - val_loss: 0.0178 - val_accuracy: 0.9923\n",
            "Epoch 9/50\n",
            "163/163 [==============================] - 0s 3ms/step - loss: 0.0489 - accuracy: 0.9883 - val_loss: 0.0187 - val_accuracy: 0.9923\n",
            "Epoch 10/50\n",
            "163/163 [==============================] - 1s 3ms/step - loss: 0.0476 - accuracy: 0.9892 - val_loss: 0.0190 - val_accuracy: 0.9900\n",
            "Epoch 11/50\n",
            "163/163 [==============================] - 1s 4ms/step - loss: 0.0450 - accuracy: 0.9902 - val_loss: 0.0171 - val_accuracy: 0.9931\n",
            "Epoch 12/50\n",
            "163/163 [==============================] - 0s 3ms/step - loss: 0.0436 - accuracy: 0.9908 - val_loss: 0.0163 - val_accuracy: 0.9938\n",
            "Epoch 13/50\n",
            "163/163 [==============================] - 0s 2ms/step - loss: 0.0453 - accuracy: 0.9910 - val_loss: 0.0163 - val_accuracy: 0.9931\n",
            "Epoch 14/50\n",
            "163/163 [==============================] - 0s 2ms/step - loss: 0.0395 - accuracy: 0.9896 - val_loss: 0.0188 - val_accuracy: 0.9923\n",
            "Epoch 15/50\n",
            "163/163 [==============================] - 0s 2ms/step - loss: 0.0444 - accuracy: 0.9896 - val_loss: 0.0140 - val_accuracy: 0.9931\n",
            "Epoch 16/50\n",
            "163/163 [==============================] - 0s 2ms/step - loss: 0.0368 - accuracy: 0.9923 - val_loss: 0.0161 - val_accuracy: 0.9931\n",
            "Epoch 17/50\n",
            "163/163 [==============================] - 0s 2ms/step - loss: 0.0439 - accuracy: 0.9890 - val_loss: 0.0150 - val_accuracy: 0.9931\n",
            "Epoch 18/50\n",
            "163/163 [==============================] - 0s 2ms/step - loss: 0.0367 - accuracy: 0.9933 - val_loss: 0.0131 - val_accuracy: 0.9938\n",
            "Epoch 19/50\n",
            "163/163 [==============================] - 0s 3ms/step - loss: 0.0354 - accuracy: 0.9925 - val_loss: 0.0175 - val_accuracy: 0.9923\n",
            "Epoch 20/50\n",
            "163/163 [==============================] - 0s 3ms/step - loss: 0.0413 - accuracy: 0.9908 - val_loss: 0.0148 - val_accuracy: 0.9923\n",
            "Epoch 21/50\n",
            "163/163 [==============================] - 1s 3ms/step - loss: 0.0330 - accuracy: 0.9931 - val_loss: 0.0120 - val_accuracy: 0.9946\n",
            "Epoch 22/50\n",
            "163/163 [==============================] - 0s 3ms/step - loss: 0.0383 - accuracy: 0.9933 - val_loss: 0.0136 - val_accuracy: 0.9954\n",
            "Epoch 23/50\n",
            "163/163 [==============================] - 1s 3ms/step - loss: 0.0355 - accuracy: 0.9929 - val_loss: 0.0131 - val_accuracy: 0.9938\n",
            "Epoch 24/50\n",
            "163/163 [==============================] - 1s 4ms/step - loss: 0.0387 - accuracy: 0.9913 - val_loss: 0.0151 - val_accuracy: 0.9946\n",
            "Epoch 25/50\n",
            "163/163 [==============================] - 1s 4ms/step - loss: 0.0308 - accuracy: 0.9938 - val_loss: 0.0140 - val_accuracy: 0.9938\n",
            "Epoch 26/50\n",
            "163/163 [==============================] - 1s 4ms/step - loss: 0.0320 - accuracy: 0.9940 - val_loss: 0.0114 - val_accuracy: 0.9946\n",
            "Epoch 27/50\n",
            "163/163 [==============================] - 1s 4ms/step - loss: 0.0285 - accuracy: 0.9935 - val_loss: 0.0106 - val_accuracy: 0.9969\n",
            "Epoch 28/50\n",
            "163/163 [==============================] - 1s 4ms/step - loss: 0.0299 - accuracy: 0.9935 - val_loss: 0.0125 - val_accuracy: 0.9938\n",
            "Epoch 29/50\n",
            "163/163 [==============================] - 1s 4ms/step - loss: 0.0305 - accuracy: 0.9929 - val_loss: 0.0119 - val_accuracy: 0.9946\n",
            "Epoch 30/50\n",
            "163/163 [==============================] - 1s 4ms/step - loss: 0.0294 - accuracy: 0.9929 - val_loss: 0.0115 - val_accuracy: 0.9946\n",
            "Epoch 31/50\n",
            "163/163 [==============================] - 1s 4ms/step - loss: 0.0304 - accuracy: 0.9931 - val_loss: 0.0112 - val_accuracy: 0.9946\n",
            "Epoch 32/50\n",
            "163/163 [==============================] - 0s 2ms/step - loss: 0.0294 - accuracy: 0.9944 - val_loss: 0.0115 - val_accuracy: 0.9969\n",
            "Epoch 33/50\n",
            "163/163 [==============================] - 0s 2ms/step - loss: 0.0295 - accuracy: 0.9944 - val_loss: 0.0122 - val_accuracy: 0.9946\n",
            "Epoch 34/50\n",
            "163/163 [==============================] - 0s 2ms/step - loss: 0.0286 - accuracy: 0.9937 - val_loss: 0.0124 - val_accuracy: 0.9946\n",
            "Epoch 35/50\n",
            "163/163 [==============================] - 0s 2ms/step - loss: 0.0269 - accuracy: 0.9946 - val_loss: 0.0119 - val_accuracy: 0.9954\n",
            "Epoch 36/50\n",
            "163/163 [==============================] - 0s 2ms/step - loss: 0.0287 - accuracy: 0.9950 - val_loss: 0.0130 - val_accuracy: 0.9938\n",
            "Epoch 37/50\n",
            "163/163 [==============================] - 0s 2ms/step - loss: 0.0323 - accuracy: 0.9933 - val_loss: 0.0132 - val_accuracy: 0.9969\n",
            "Epoch 38/50\n",
            "163/163 [==============================] - 0s 2ms/step - loss: 0.0287 - accuracy: 0.9944 - val_loss: 0.0129 - val_accuracy: 0.9946\n",
            "Epoch 39/50\n",
            "163/163 [==============================] - 0s 2ms/step - loss: 0.0290 - accuracy: 0.9950 - val_loss: 0.0123 - val_accuracy: 0.9962\n",
            "Epoch 40/50\n",
            "163/163 [==============================] - 0s 2ms/step - loss: 0.0273 - accuracy: 0.9952 - val_loss: 0.0143 - val_accuracy: 0.9938\n",
            "Epoch 41/50\n",
            "163/163 [==============================] - 0s 3ms/step - loss: 0.0294 - accuracy: 0.9950 - val_loss: 0.0148 - val_accuracy: 0.9938\n",
            "Epoch 42/50\n",
            "163/163 [==============================] - 0s 2ms/step - loss: 0.0267 - accuracy: 0.9950 - val_loss: 0.0151 - val_accuracy: 0.9938\n",
            "Epoch 43/50\n",
            "163/163 [==============================] - 0s 2ms/step - loss: 0.0266 - accuracy: 0.9946 - val_loss: 0.0153 - val_accuracy: 0.9938\n",
            "Epoch 44/50\n",
            "163/163 [==============================] - 0s 2ms/step - loss: 0.0272 - accuracy: 0.9950 - val_loss: 0.0157 - val_accuracy: 0.9931\n",
            "Epoch 45/50\n",
            "163/163 [==============================] - 0s 2ms/step - loss: 0.0246 - accuracy: 0.9954 - val_loss: 0.0126 - val_accuracy: 0.9946\n",
            "Epoch 46/50\n",
            "163/163 [==============================] - 0s 3ms/step - loss: 0.0248 - accuracy: 0.9956 - val_loss: 0.0145 - val_accuracy: 0.9938\n",
            "Epoch 47/50\n",
            "163/163 [==============================] - 0s 3ms/step - loss: 0.0249 - accuracy: 0.9946 - val_loss: 0.0151 - val_accuracy: 0.9931\n",
            "Epoch 48/50\n",
            "163/163 [==============================] - 1s 3ms/step - loss: 0.0275 - accuracy: 0.9944 - val_loss: 0.0146 - val_accuracy: 0.9931\n",
            "Epoch 49/50\n",
            "163/163 [==============================] - 0s 3ms/step - loss: 0.0213 - accuracy: 0.9960 - val_loss: 0.0161 - val_accuracy: 0.9931\n",
            "Epoch 50/50\n",
            "163/163 [==============================] - 0s 3ms/step - loss: 0.0323 - accuracy: 0.9944 - val_loss: 0.0168 - val_accuracy: 0.9954\n"
          ]
        }
      ]
    },
    {
      "cell_type": "code",
      "source": [
        "plt.plot(h.history['accuracy'], label = 'Accuracy for Train set')\n",
        "plt.plot(h.history['val_accuracy'], label = 'Accuracy for Test Set')\n",
        "plt.title('Accuracy Graph for ANN')\n",
        "plt.ylabel('Accuracy')\n",
        "plt.xlabel('epochs')\n",
        "plt.legend()"
      ],
      "metadata": {
        "id": "miu_qZoRhIpx",
        "outputId": "2b7e6043-0a1b-4f3b-fd0b-8dcc5993581b",
        "colab": {
          "base_uri": "https://localhost:8080/",
          "height": 312
        }
      },
      "execution_count": 89,
      "outputs": [
        {
          "output_type": "execute_result",
          "data": {
            "text/plain": [
              "<matplotlib.legend.Legend at 0x7fadb8ea9890>"
            ]
          },
          "metadata": {},
          "execution_count": 89
        },
        {
          "output_type": "display_data",
          "data": {
            "text/plain": [
              "<Figure size 432x288 with 1 Axes>"
            ],
            "image/png": "[encoded data removed]"
          },
          "metadata": {
            "needs_background": "light"
          }
        }
      ]
    },
    {
      "cell_type": "code",
      "source": [
        "plt.plot(h.history['loss'], label = 'loss for Train set')\n",
        "plt.plot(h.history['val_loss'], label = 'loss for Test Set')\n",
        "plt.title('loss Graph for ANN')\n",
        "plt.ylabel('loss')\n",
        "plt.xlabel('epochs')\n",
        "plt.legend()"
      ],
      "metadata": {
        "id": "fBMvMKkwhOWI",
        "outputId": "f77d51e5-3dfa-4472-ec5b-2682538657fb",
        "colab": {
          "base_uri": "https://localhost:8080/",
          "height": 312
        }
      },
      "execution_count": 90,
      "outputs": [
        {
          "output_type": "execute_result",
          "data": {
            "text/plain": [
              "<matplotlib.legend.Legend at 0x7fadbd8a8310>"
            ]
          },
          "metadata": {},
          "execution_count": 90
        },
        {
          "output_type": "display_data",
          "data": {
            "text/plain": [
              "<Figure size 432x288 with 1 Axes>"
            ],
            "image/png": "[encoded data removed]"
          },
          "metadata": {
            "needs_background": "light"
          }
        }
      ]
    },
    {
      "cell_type": "code",
      "source": [
        "y_pred_ann = model.predict_classes(X_test)\n",
        "accuracy_score(y_test,y_pred_ann)"
      ],
      "metadata": {
        "id": "HZ3Qj0OWhQ3q",
        "outputId": "0c42a396-9e15-41da-aca7-17263b9e8357",
        "colab": {
          "base_uri": "https://localhost:8080/"
        }
      },
      "execution_count": 91,
      "outputs": [
        {
          "output_type": "stream",
          "name": "stderr",
          "text": [
            "/usr/local/lib/python3.7/dist-packages/tensorflow/python/keras/engine/sequential.py:455: UserWarning: `model.predict_classes()` is deprecated and will be removed after 2021-01-01. Please use instead:* `np.argmax(model.predict(x), axis=-1)`,   if your model does multi-class classification   (e.g. if it uses a `softmax` last-layer activation).* `(model.predict(x) > 0.5).astype(\"int32\")`,   if your model does binary classification   (e.g. if it uses a `sigmoid` last-layer activation).\n",
            "  warnings.warn('`model.predict_classes()` is deprecated and '\n"
          ]
        },
        {
          "output_type": "execute_result",
          "data": {
            "text/plain": [
              "0.9953846153846154"
            ]
          },
          "metadata": {},
          "execution_count": 91
        }
      ]
    },
    {
      "cell_type": "markdown",
      "source": [
        "Pearson"
      ],
      "metadata": {
        "id": "y3tFelJHhXdq"
      }
    },
    {
      "cell_type": "code",
      "source": [
        "rank8  = pd.read_excel(\"/content/Wine_dataset (1).xlsx\",sheet_name = \"Pearson_Correlation\").set_index('Attributes_Names')\n",
        "df_pearson =  df[rank8[:9].index]\n",
        "X_col =  df_pearson\n",
        "y = LabelEncoder().fit_transform(df['style'])\n",
        "Scaler = StandardScaler()\n",
        "X_col =  Scaler.fit_transform(X_col)\n",
        "X_train, X_test, y_train, y_test = train_test_split(X_col, y, test_size=0.2, random_state=0)\n",
        "print(\"Shape of training data\",X_train.shape)\n",
        "print(\"Shape of testing data\",X_test.shape)"
      ],
      "metadata": {
        "id": "UvCM9GI_hTJV",
        "outputId": "c77a212d-7cb7-4ba1-fe56-747bbf24d822",
        "colab": {
          "base_uri": "https://localhost:8080/"
        }
      },
      "execution_count": 92,
      "outputs": [
        {
          "output_type": "stream",
          "name": "stdout",
          "text": [
            "Shape of training data (5197, 9)\n",
            "Shape of testing data (1300, 9)\n"
          ]
        }
      ]
    },
    {
      "cell_type": "code",
      "source": [
        "rf =  RandomForestClassifier()\n",
        "rf.fit(X_train,y_train)\n",
        "y_pred_rf =  rf.predict(X_test)\n",
        "accuracy_score(y_test,y_pred_rf)"
      ],
      "metadata": {
        "id": "CMKc9dMMhd0i",
        "outputId": "2016c84e-dfab-4871-efa9-c8e9b5f85d49",
        "colab": {
          "base_uri": "https://localhost:8080/"
        }
      },
      "execution_count": 93,
      "outputs": [
        {
          "output_type": "execute_result",
          "data": {
            "text/plain": [
              "0.9923076923076923"
            ]
          },
          "metadata": {},
          "execution_count": 93
        }
      ]
    },
    {
      "cell_type": "code",
      "source": [
        "svc =  SVC()\n",
        "svc.fit(X_test,y_test)\n",
        "y_pred_svc =  svc.predict(X_test)\n",
        "accuracy_score(y_test,y_pred_svc)"
      ],
      "metadata": {
        "id": "dsw4UNeshgQE",
        "outputId": "3f925928-5723-43c4-d3a5-472ddab3bfcf",
        "colab": {
          "base_uri": "https://localhost:8080/"
        }
      },
      "execution_count": 94,
      "outputs": [
        {
          "output_type": "execute_result",
          "data": {
            "text/plain": [
              "0.9969230769230769"
            ]
          },
          "metadata": {},
          "execution_count": 94
        }
      ]
    },
    {
      "cell_type": "code",
      "source": [
        "model = tf.keras.Sequential([\n",
        "    tf.keras.layers.Dense(9, activation='relu', input_shape=(9,)),\n",
        "    tf.keras.layers.BatchNormalization(),\n",
        "    tf.keras.layers.Dense(12, activation='relu'),\n",
        "    tf.keras.layers.BatchNormalization(),\n",
        "    tf.keras.layers.Dense(24, activation='relu'),\n",
        "    tf.keras.layers.Dropout(0.5),\n",
        "    tf.keras.layers.Dense(1,activation='sigmoid')\n",
        "  ])\n",
        "model.compile(loss='binary_crossentropy',\n",
        "              optimizer = 'adam',\n",
        "              metrics=['accuracy'])\n",
        "model.summary()"
      ],
      "metadata": {
        "id": "mpDmTW-yhiGk",
        "outputId": "ee4dca6c-2b63-4d11-c17d-ff2ac41d0453",
        "colab": {
          "base_uri": "https://localhost:8080/"
        }
      },
      "execution_count": 95,
      "outputs": [
        {
          "output_type": "stream",
          "name": "stdout",
          "text": [
            "Model: \"sequential_12\"\n",
            "_________________________________________________________________\n",
            "Layer (type)                 Output Shape              Param #   \n",
            "=================================================================\n",
            "dense_48 (Dense)             (None, 9)                 90        \n",
            "_________________________________________________________________\n",
            "batch_normalization_24 (Batc (None, 9)                 36        \n",
            "_________________________________________________________________\n",
            "dense_49 (Dense)             (None, 12)                120       \n",
            "_________________________________________________________________\n",
            "batch_normalization_25 (Batc (None, 12)                48        \n",
            "_________________________________________________________________\n",
            "dense_50 (Dense)             (None, 24)                312       \n",
            "_________________________________________________________________\n",
            "dropout_12 (Dropout)         (None, 24)                0         \n",
            "_________________________________________________________________\n",
            "dense_51 (Dense)             (None, 1)                 25        \n",
            "=================================================================\n",
            "Total params: 631\n",
            "Trainable params: 589\n",
            "Non-trainable params: 42\n",
            "_________________________________________________________________\n"
          ]
        }
      ]
    },
    {
      "cell_type": "code",
      "source": [
        "h = model.fit(X_train,y_train,epochs=50,validation_data=(X_test,y_test))"
      ],
      "metadata": {
        "id": "tqhRiUcGhnGS",
        "outputId": "5f24767f-ca1c-47b0-de0c-1278d0c3e4b2",
        "colab": {
          "base_uri": "https://localhost:8080/"
        }
      },
      "execution_count": 96,
      "outputs": [
        {
          "output_type": "stream",
          "name": "stdout",
          "text": [
            "Epoch 1/50\n",
            "163/163 [==============================] - 2s 5ms/step - loss: 0.6128 - accuracy: 0.6475 - val_loss: 0.3775 - val_accuracy: 0.8931\n",
            "Epoch 2/50\n",
            "163/163 [==============================] - 0s 3ms/step - loss: 0.2523 - accuracy: 0.9144 - val_loss: 0.1082 - val_accuracy: 0.9738\n",
            "Epoch 3/50\n",
            "163/163 [==============================] - 1s 3ms/step - loss: 0.1452 - accuracy: 0.9657 - val_loss: 0.0635 - val_accuracy: 0.9823\n",
            "Epoch 4/50\n",
            "163/163 [==============================] - 1s 3ms/step - loss: 0.1135 - accuracy: 0.9723 - val_loss: 0.0507 - val_accuracy: 0.9808\n",
            "Epoch 5/50\n",
            "163/163 [==============================] - 1s 4ms/step - loss: 0.0909 - accuracy: 0.9781 - val_loss: 0.0442 - val_accuracy: 0.9862\n",
            "Epoch 6/50\n",
            "163/163 [==============================] - 0s 3ms/step - loss: 0.0828 - accuracy: 0.9798 - val_loss: 0.0380 - val_accuracy: 0.9877\n",
            "Epoch 7/50\n",
            "163/163 [==============================] - 1s 3ms/step - loss: 0.0710 - accuracy: 0.9840 - val_loss: 0.0350 - val_accuracy: 0.9892\n",
            "Epoch 8/50\n",
            "163/163 [==============================] - 1s 3ms/step - loss: 0.0731 - accuracy: 0.9842 - val_loss: 0.0351 - val_accuracy: 0.9892\n",
            "Epoch 9/50\n",
            "163/163 [==============================] - 1s 3ms/step - loss: 0.0692 - accuracy: 0.9846 - val_loss: 0.0326 - val_accuracy: 0.9908\n",
            "Epoch 10/50\n",
            "163/163 [==============================] - 1s 4ms/step - loss: 0.0621 - accuracy: 0.9886 - val_loss: 0.0332 - val_accuracy: 0.9915\n",
            "Epoch 11/50\n",
            "163/163 [==============================] - 1s 4ms/step - loss: 0.0566 - accuracy: 0.9877 - val_loss: 0.0343 - val_accuracy: 0.9923\n",
            "Epoch 12/50\n",
            "163/163 [==============================] - 1s 4ms/step - loss: 0.0631 - accuracy: 0.9865 - val_loss: 0.0314 - val_accuracy: 0.9923\n",
            "Epoch 13/50\n",
            "163/163 [==============================] - 0s 2ms/step - loss: 0.0521 - accuracy: 0.9896 - val_loss: 0.0315 - val_accuracy: 0.9923\n",
            "Epoch 14/50\n",
            "163/163 [==============================] - 0s 2ms/step - loss: 0.0529 - accuracy: 0.9894 - val_loss: 0.0228 - val_accuracy: 0.9923\n",
            "Epoch 15/50\n",
            "163/163 [==============================] - 0s 2ms/step - loss: 0.0499 - accuracy: 0.9904 - val_loss: 0.0290 - val_accuracy: 0.9923\n",
            "Epoch 16/50\n",
            "163/163 [==============================] - 0s 2ms/step - loss: 0.0436 - accuracy: 0.9915 - val_loss: 0.0253 - val_accuracy: 0.9931\n",
            "Epoch 17/50\n",
            "163/163 [==============================] - 0s 3ms/step - loss: 0.0495 - accuracy: 0.9900 - val_loss: 0.0288 - val_accuracy: 0.9931\n",
            "Epoch 18/50\n",
            "163/163 [==============================] - 1s 3ms/step - loss: 0.0454 - accuracy: 0.9904 - val_loss: 0.0262 - val_accuracy: 0.9931\n",
            "Epoch 19/50\n",
            "163/163 [==============================] - 1s 4ms/step - loss: 0.0443 - accuracy: 0.9910 - val_loss: 0.0244 - val_accuracy: 0.9931\n",
            "Epoch 20/50\n",
            "163/163 [==============================] - 1s 4ms/step - loss: 0.0463 - accuracy: 0.9921 - val_loss: 0.0283 - val_accuracy: 0.9938\n",
            "Epoch 21/50\n",
            "163/163 [==============================] - 1s 4ms/step - loss: 0.0378 - accuracy: 0.9917 - val_loss: 0.0241 - val_accuracy: 0.9931\n",
            "Epoch 22/50\n",
            "163/163 [==============================] - 1s 3ms/step - loss: 0.0422 - accuracy: 0.9917 - val_loss: 0.0280 - val_accuracy: 0.9938\n",
            "Epoch 23/50\n",
            "163/163 [==============================] - 1s 3ms/step - loss: 0.0406 - accuracy: 0.9917 - val_loss: 0.0249 - val_accuracy: 0.9931\n",
            "Epoch 24/50\n",
            "163/163 [==============================] - 1s 3ms/step - loss: 0.0458 - accuracy: 0.9896 - val_loss: 0.0272 - val_accuracy: 0.9931\n",
            "Epoch 25/50\n",
            "163/163 [==============================] - 1s 3ms/step - loss: 0.0426 - accuracy: 0.9908 - val_loss: 0.0264 - val_accuracy: 0.9938\n",
            "Epoch 26/50\n",
            "163/163 [==============================] - 1s 3ms/step - loss: 0.0410 - accuracy: 0.9915 - val_loss: 0.0291 - val_accuracy: 0.9938\n",
            "Epoch 27/50\n",
            "163/163 [==============================] - 1s 4ms/step - loss: 0.0397 - accuracy: 0.9913 - val_loss: 0.0363 - val_accuracy: 0.9915\n",
            "Epoch 28/50\n",
            "163/163 [==============================] - 1s 4ms/step - loss: 0.0429 - accuracy: 0.9917 - val_loss: 0.0312 - val_accuracy: 0.9923\n",
            "Epoch 29/50\n",
            "163/163 [==============================] - 0s 3ms/step - loss: 0.0336 - accuracy: 0.9921 - val_loss: 0.0293 - val_accuracy: 0.9938\n",
            "Epoch 30/50\n",
            "163/163 [==============================] - 0s 3ms/step - loss: 0.0353 - accuracy: 0.9915 - val_loss: 0.0288 - val_accuracy: 0.9923\n",
            "Epoch 31/50\n",
            "163/163 [==============================] - 1s 3ms/step - loss: 0.0325 - accuracy: 0.9933 - val_loss: 0.0313 - val_accuracy: 0.9931\n",
            "Epoch 32/50\n",
            "163/163 [==============================] - 1s 3ms/step - loss: 0.0315 - accuracy: 0.9931 - val_loss: 0.0301 - val_accuracy: 0.9931\n",
            "Epoch 33/50\n",
            "163/163 [==============================] - 0s 2ms/step - loss: 0.0375 - accuracy: 0.9917 - val_loss: 0.0296 - val_accuracy: 0.9946\n",
            "Epoch 34/50\n",
            "163/163 [==============================] - 0s 2ms/step - loss: 0.0403 - accuracy: 0.9915 - val_loss: 0.0327 - val_accuracy: 0.9931\n",
            "Epoch 35/50\n",
            "163/163 [==============================] - 0s 2ms/step - loss: 0.0338 - accuracy: 0.9938 - val_loss: 0.0272 - val_accuracy: 0.9946\n",
            "Epoch 36/50\n",
            "163/163 [==============================] - 0s 2ms/step - loss: 0.0357 - accuracy: 0.9921 - val_loss: 0.0263 - val_accuracy: 0.9954\n",
            "Epoch 37/50\n",
            "163/163 [==============================] - 0s 2ms/step - loss: 0.0318 - accuracy: 0.9940 - val_loss: 0.0318 - val_accuracy: 0.9938\n",
            "Epoch 38/50\n",
            "163/163 [==============================] - 0s 2ms/step - loss: 0.0400 - accuracy: 0.9911 - val_loss: 0.0398 - val_accuracy: 0.9931\n",
            "Epoch 39/50\n",
            "163/163 [==============================] - 0s 2ms/step - loss: 0.0326 - accuracy: 0.9927 - val_loss: 0.0322 - val_accuracy: 0.9931\n",
            "Epoch 40/50\n",
            "163/163 [==============================] - 0s 2ms/step - loss: 0.0280 - accuracy: 0.9935 - val_loss: 0.0333 - val_accuracy: 0.9931\n",
            "Epoch 41/50\n",
            "163/163 [==============================] - 0s 3ms/step - loss: 0.0323 - accuracy: 0.9923 - val_loss: 0.0361 - val_accuracy: 0.9931\n",
            "Epoch 42/50\n",
            "163/163 [==============================] - 1s 3ms/step - loss: 0.0285 - accuracy: 0.9940 - val_loss: 0.0375 - val_accuracy: 0.9938\n",
            "Epoch 43/50\n",
            "163/163 [==============================] - 1s 3ms/step - loss: 0.0373 - accuracy: 0.9919 - val_loss: 0.0439 - val_accuracy: 0.9923\n",
            "Epoch 44/50\n",
            "163/163 [==============================] - 1s 4ms/step - loss: 0.0330 - accuracy: 0.9923 - val_loss: 0.0347 - val_accuracy: 0.9931\n",
            "Epoch 45/50\n",
            "163/163 [==============================] - 1s 4ms/step - loss: 0.0272 - accuracy: 0.9938 - val_loss: 0.0340 - val_accuracy: 0.9931\n",
            "Epoch 46/50\n",
            "163/163 [==============================] - 1s 4ms/step - loss: 0.0382 - accuracy: 0.9904 - val_loss: 0.0327 - val_accuracy: 0.9938\n",
            "Epoch 47/50\n",
            "163/163 [==============================] - 1s 4ms/step - loss: 0.0377 - accuracy: 0.9910 - val_loss: 0.0296 - val_accuracy: 0.9938\n",
            "Epoch 48/50\n",
            "163/163 [==============================] - 1s 3ms/step - loss: 0.0258 - accuracy: 0.9938 - val_loss: 0.0311 - val_accuracy: 0.9938\n",
            "Epoch 49/50\n",
            "163/163 [==============================] - 1s 4ms/step - loss: 0.0293 - accuracy: 0.9933 - val_loss: 0.0317 - val_accuracy: 0.9938\n",
            "Epoch 50/50\n",
            "163/163 [==============================] - 1s 4ms/step - loss: 0.0275 - accuracy: 0.9929 - val_loss: 0.0371 - val_accuracy: 0.9931\n"
          ]
        }
      ]
    },
    {
      "cell_type": "code",
      "source": [
        "plt.plot(h.history['accuracy'], label = 'Accuracy for Train set')\n",
        "plt.plot(h.history['val_accuracy'], label = 'Accuracy for Test Set')\n",
        "plt.title('Accuracy Graph for ANN')\n",
        "plt.ylabel('Accuracy')\n",
        "plt.xlabel('epochs')\n",
        "plt.legend()"
      ],
      "metadata": {
        "id": "oLj6URuQhp26",
        "outputId": "e7730435-7b42-466e-9a8b-7f9861083f33",
        "colab": {
          "base_uri": "https://localhost:8080/",
          "height": 312
        }
      },
      "execution_count": 97,
      "outputs": [
        {
          "output_type": "execute_result",
          "data": {
            "text/plain": [
              "<matplotlib.legend.Legend at 0x7fadb4f1bbd0>"
            ]
          },
          "metadata": {},
          "execution_count": 97
        },
        {
          "output_type": "display_data",
          "data": {
            "text/plain": [
              "<Figure size 432x288 with 1 Axes>"
            ],
            "image/png": "[encoded data removed]"
          },
          "metadata": {
            "needs_background": "light"
          }
        }
      ]
    },
    {
      "cell_type": "code",
      "source": [
        "plt.plot(h.history['loss'], label = 'loss for Train set')\n",
        "plt.plot(h.history['val_loss'], label = 'loss for Test Set')\n",
        "plt.title('loss Graph for ANN')\n",
        "plt.ylabel('loss')\n",
        "plt.xlabel('epochs')\n",
        "plt.legend()"
      ],
      "metadata": {
        "id": "lCci8seehvgc",
        "outputId": "7909d7e8-8a6a-4a7b-819f-31109e38e473",
        "colab": {
          "base_uri": "https://localhost:8080/",
          "height": 312
        }
      },
      "execution_count": 98,
      "outputs": [
        {
          "output_type": "execute_result",
          "data": {
            "text/plain": [
              "<matplotlib.legend.Legend at 0x7fadb5431e10>"
            ]
          },
          "metadata": {},
          "execution_count": 98
        },
        {
          "output_type": "display_data",
          "data": {
            "text/plain": [
              "<Figure size 432x288 with 1 Axes>"
            ],
            "image/png": "[encoded data removed]"
          },
          "metadata": {
            "needs_background": "light"
          }
        }
      ]
    },
    {
      "cell_type": "code",
      "source": [
        "y_pred_ann = model.predict_classes(X_test)\n",
        "accuracy_score(y_test,y_pred_ann)"
      ],
      "metadata": {
        "id": "UzOo67AwhyON",
        "outputId": "6d545ab1-e5d2-4237-c95e-9678ae7fce4a",
        "colab": {
          "base_uri": "https://localhost:8080/"
        }
      },
      "execution_count": 99,
      "outputs": [
        {
          "output_type": "stream",
          "name": "stderr",
          "text": [
            "/usr/local/lib/python3.7/dist-packages/tensorflow/python/keras/engine/sequential.py:455: UserWarning: `model.predict_classes()` is deprecated and will be removed after 2021-01-01. Please use instead:* `np.argmax(model.predict(x), axis=-1)`,   if your model does multi-class classification   (e.g. if it uses a `softmax` last-layer activation).* `(model.predict(x) > 0.5).astype(\"int32\")`,   if your model does binary classification   (e.g. if it uses a `sigmoid` last-layer activation).\n",
            "  warnings.warn('`model.predict_classes()` is deprecated and '\n"
          ]
        },
        {
          "output_type": "execute_result",
          "data": {
            "text/plain": [
              "0.9930769230769231"
            ]
          },
          "metadata": {},
          "execution_count": 99
        }
      ]
    },
    {
      "cell_type": "markdown",
      "source": [
        "OWA"
      ],
      "metadata": {
        "id": "Q390vDwkh1Ja"
      }
    },
    {
      "cell_type": "code",
      "source": [
        "df_owa = df[['total_sulfur_dioxide','free_sulfur_dioxide','residual_sugar','fixed_acidity','volatile_acidity',\n",
        "             'sulphates','chlorides','pH','density']]\n",
        "X_col =  df_owa\n",
        "y = LabelEncoder().fit_transform(df['style'])\n",
        "Scaler = StandardScaler()\n",
        "X_col =  Scaler.fit_transform(X_col)\n",
        "X_train, X_test, y_train, y_test = train_test_split(X_col, y, test_size=0.2, random_state=0)\n",
        "print(\"Shape of training data\",X_train.shape)\n",
        "print(\"Shape of testing data\",X_test.shape)"
      ],
      "metadata": {
        "id": "mGbSA7flhyxH",
        "outputId": "841c654c-8353-4ebf-d8a1-42bd43e83c69",
        "colab": {
          "base_uri": "https://localhost:8080/"
        }
      },
      "execution_count": 100,
      "outputs": [
        {
          "output_type": "stream",
          "name": "stdout",
          "text": [
            "Shape of training data (5197, 9)\n",
            "Shape of testing data (1300, 9)\n"
          ]
        }
      ]
    },
    {
      "cell_type": "code",
      "source": [
        "rf =  RandomForestClassifier()\n",
        "rf.fit(X_train,y_train)\n",
        "pred =  rf.predict(X_test)\n",
        "accuracy_score(y_test,pred)"
      ],
      "metadata": {
        "id": "KOslZukTiO6O",
        "outputId": "c0356724-0a6a-479e-b50d-52781c165918",
        "colab": {
          "base_uri": "https://localhost:8080/"
        }
      },
      "execution_count": 101,
      "outputs": [
        {
          "output_type": "execute_result",
          "data": {
            "text/plain": [
              "0.9946153846153846"
            ]
          },
          "metadata": {},
          "execution_count": 101
        }
      ]
    },
    {
      "cell_type": "code",
      "source": [
        "svc =  SVC()\n",
        "svc.fit(X_test,y_test)\n",
        "y_pred =  svc.predict(X_test)\n",
        "accuracy_score(y_test,y_pred)"
      ],
      "metadata": {
        "id": "2aBm7K1piRS-",
        "outputId": "118562b3-77ec-4e3e-9098-5ef3a0716099",
        "colab": {
          "base_uri": "https://localhost:8080/"
        }
      },
      "execution_count": 102,
      "outputs": [
        {
          "output_type": "execute_result",
          "data": {
            "text/plain": [
              "0.9976923076923077"
            ]
          },
          "metadata": {},
          "execution_count": 102
        }
      ]
    },
    {
      "cell_type": "code",
      "source": [
        "model = tf.keras.Sequential([\n",
        "    tf.keras.layers.Dense(9, activation='relu', input_shape=(9,)),\n",
        "    tf.keras.layers.BatchNormalization(),\n",
        "    tf.keras.layers.Dense(12, activation='relu'),\n",
        "    tf.keras.layers.BatchNormalization(),\n",
        "    tf.keras.layers.Dense(24, activation='relu'),\n",
        "    tf.keras.layers.Dropout(0.5),\n",
        "    tf.keras.layers.Dense(1,activation='sigmoid')\n",
        "  ])"
      ],
      "metadata": {
        "id": "nJgasTGNiVTL"
      },
      "execution_count": 103,
      "outputs": []
    },
    {
      "cell_type": "code",
      "source": [
        "model.compile(loss='binary_crossentropy',\n",
        "              optimizer = 'adam',\n",
        "              metrics=['accuracy'])\n",
        "model.summary()\n",
        "h = model.fit(X_train,y_train,epochs=50,validation_data=(X_test,y_test))"
      ],
      "metadata": {
        "id": "RSr_QcEhiZVX",
        "outputId": "99d1c3c0-ec4c-4694-d3c2-f13c79b62d4e",
        "colab": {
          "base_uri": "https://localhost:8080/"
        }
      },
      "execution_count": 104,
      "outputs": [
        {
          "output_type": "stream",
          "name": "stdout",
          "text": [
            "Model: \"sequential_13\"\n",
            "_________________________________________________________________\n",
            "Layer (type)                 Output Shape              Param #   \n",
            "=================================================================\n",
            "dense_52 (Dense)             (None, 9)                 90        \n",
            "_________________________________________________________________\n",
            "batch_normalization_26 (Batc (None, 9)                 36        \n",
            "_________________________________________________________________\n",
            "dense_53 (Dense)             (None, 12)                120       \n",
            "_________________________________________________________________\n",
            "batch_normalization_27 (Batc (None, 12)                48        \n",
            "_________________________________________________________________\n",
            "dense_54 (Dense)             (None, 24)                312       \n",
            "_________________________________________________________________\n",
            "dropout_13 (Dropout)         (None, 24)                0         \n",
            "_________________________________________________________________\n",
            "dense_55 (Dense)             (None, 1)                 25        \n",
            "=================================================================\n",
            "Total params: 631\n",
            "Trainable params: 589\n",
            "Non-trainable params: 42\n",
            "_________________________________________________________________\n",
            "Epoch 1/50\n",
            "163/163 [==============================] - 2s 4ms/step - loss: 0.4892 - accuracy: 0.7676 - val_loss: 0.3284 - val_accuracy: 0.8985\n",
            "Epoch 2/50\n",
            "163/163 [==============================] - 1s 3ms/step - loss: 0.1957 - accuracy: 0.9400 - val_loss: 0.0648 - val_accuracy: 0.9862\n",
            "Epoch 3/50\n",
            "163/163 [==============================] - 1s 3ms/step - loss: 0.1050 - accuracy: 0.9702 - val_loss: 0.0263 - val_accuracy: 0.9931\n",
            "Epoch 4/50\n",
            "163/163 [==============================] - 0s 3ms/step - loss: 0.0772 - accuracy: 0.9788 - val_loss: 0.0192 - val_accuracy: 0.9946\n",
            "Epoch 5/50\n",
            "163/163 [==============================] - 1s 4ms/step - loss: 0.0674 - accuracy: 0.9802 - val_loss: 0.0181 - val_accuracy: 0.9931\n",
            "Epoch 6/50\n",
            "163/163 [==============================] - 1s 3ms/step - loss: 0.0519 - accuracy: 0.9860 - val_loss: 0.0155 - val_accuracy: 0.9938\n",
            "Epoch 7/50\n",
            "163/163 [==============================] - 1s 4ms/step - loss: 0.0516 - accuracy: 0.9867 - val_loss: 0.0154 - val_accuracy: 0.9938\n",
            "Epoch 8/50\n",
            "163/163 [==============================] - 1s 4ms/step - loss: 0.0448 - accuracy: 0.9867 - val_loss: 0.0168 - val_accuracy: 0.9946\n",
            "Epoch 9/50\n",
            "163/163 [==============================] - 1s 4ms/step - loss: 0.0504 - accuracy: 0.9863 - val_loss: 0.0153 - val_accuracy: 0.9946\n",
            "Epoch 10/50\n",
            "163/163 [==============================] - 1s 3ms/step - loss: 0.0518 - accuracy: 0.9856 - val_loss: 0.0159 - val_accuracy: 0.9938\n",
            "Epoch 11/50\n",
            "163/163 [==============================] - 1s 4ms/step - loss: 0.0444 - accuracy: 0.9879 - val_loss: 0.0159 - val_accuracy: 0.9946\n",
            "Epoch 12/50\n",
            "163/163 [==============================] - 1s 4ms/step - loss: 0.0506 - accuracy: 0.9877 - val_loss: 0.0162 - val_accuracy: 0.9946\n",
            "Epoch 13/50\n",
            "163/163 [==============================] - 0s 2ms/step - loss: 0.0435 - accuracy: 0.9894 - val_loss: 0.0169 - val_accuracy: 0.9931\n",
            "Epoch 14/50\n",
            "163/163 [==============================] - 0s 3ms/step - loss: 0.0454 - accuracy: 0.9886 - val_loss: 0.0168 - val_accuracy: 0.9954\n",
            "Epoch 15/50\n",
            "163/163 [==============================] - 1s 5ms/step - loss: 0.0409 - accuracy: 0.9892 - val_loss: 0.0155 - val_accuracy: 0.9946\n",
            "Epoch 16/50\n",
            "163/163 [==============================] - 1s 4ms/step - loss: 0.0404 - accuracy: 0.9892 - val_loss: 0.0170 - val_accuracy: 0.9954\n",
            "Epoch 17/50\n",
            "163/163 [==============================] - 1s 5ms/step - loss: 0.0412 - accuracy: 0.9894 - val_loss: 0.0161 - val_accuracy: 0.9954\n",
            "Epoch 18/50\n",
            "163/163 [==============================] - 0s 2ms/step - loss: 0.0380 - accuracy: 0.9913 - val_loss: 0.0148 - val_accuracy: 0.9938\n",
            "Epoch 19/50\n",
            "163/163 [==============================] - 0s 2ms/step - loss: 0.0462 - accuracy: 0.9906 - val_loss: 0.0164 - val_accuracy: 0.9946\n",
            "Epoch 20/50\n",
            "163/163 [==============================] - 0s 2ms/step - loss: 0.0407 - accuracy: 0.9923 - val_loss: 0.0170 - val_accuracy: 0.9954\n",
            "Epoch 21/50\n",
            "163/163 [==============================] - 0s 2ms/step - loss: 0.0362 - accuracy: 0.9925 - val_loss: 0.0173 - val_accuracy: 0.9954\n",
            "Epoch 22/50\n",
            "163/163 [==============================] - 0s 2ms/step - loss: 0.0347 - accuracy: 0.9929 - val_loss: 0.0170 - val_accuracy: 0.9954\n",
            "Epoch 23/50\n",
            "163/163 [==============================] - 0s 2ms/step - loss: 0.0334 - accuracy: 0.9931 - val_loss: 0.0208 - val_accuracy: 0.9954\n",
            "Epoch 24/50\n",
            "163/163 [==============================] - 0s 2ms/step - loss: 0.0332 - accuracy: 0.9935 - val_loss: 0.0180 - val_accuracy: 0.9954\n",
            "Epoch 25/50\n",
            "163/163 [==============================] - 0s 2ms/step - loss: 0.0356 - accuracy: 0.9929 - val_loss: 0.0173 - val_accuracy: 0.9946\n",
            "Epoch 26/50\n",
            "163/163 [==============================] - 0s 2ms/step - loss: 0.0346 - accuracy: 0.9929 - val_loss: 0.0134 - val_accuracy: 0.9954\n",
            "Epoch 27/50\n",
            "163/163 [==============================] - 0s 2ms/step - loss: 0.0357 - accuracy: 0.9917 - val_loss: 0.0137 - val_accuracy: 0.9954\n",
            "Epoch 28/50\n",
            "163/163 [==============================] - 0s 2ms/step - loss: 0.0346 - accuracy: 0.9921 - val_loss: 0.0160 - val_accuracy: 0.9946\n",
            "Epoch 29/50\n",
            "163/163 [==============================] - 0s 2ms/step - loss: 0.0318 - accuracy: 0.9933 - val_loss: 0.0136 - val_accuracy: 0.9962\n",
            "Epoch 30/50\n",
            "163/163 [==============================] - 0s 2ms/step - loss: 0.0332 - accuracy: 0.9929 - val_loss: 0.0121 - val_accuracy: 0.9962\n",
            "Epoch 31/50\n",
            "163/163 [==============================] - 0s 2ms/step - loss: 0.0338 - accuracy: 0.9925 - val_loss: 0.0128 - val_accuracy: 0.9962\n",
            "Epoch 32/50\n",
            "163/163 [==============================] - 0s 2ms/step - loss: 0.0283 - accuracy: 0.9938 - val_loss: 0.0147 - val_accuracy: 0.9954\n",
            "Epoch 33/50\n",
            "163/163 [==============================] - 0s 2ms/step - loss: 0.0416 - accuracy: 0.9923 - val_loss: 0.0144 - val_accuracy: 0.9962\n",
            "Epoch 34/50\n",
            "163/163 [==============================] - 0s 2ms/step - loss: 0.0311 - accuracy: 0.9935 - val_loss: 0.0164 - val_accuracy: 0.9954\n",
            "Epoch 35/50\n",
            "163/163 [==============================] - 0s 2ms/step - loss: 0.0290 - accuracy: 0.9942 - val_loss: 0.0181 - val_accuracy: 0.9954\n",
            "Epoch 36/50\n",
            "163/163 [==============================] - 0s 2ms/step - loss: 0.0344 - accuracy: 0.9927 - val_loss: 0.0148 - val_accuracy: 0.9946\n",
            "Epoch 37/50\n",
            "163/163 [==============================] - 0s 2ms/step - loss: 0.0369 - accuracy: 0.9923 - val_loss: 0.0208 - val_accuracy: 0.9954\n",
            "Epoch 38/50\n",
            "163/163 [==============================] - 0s 2ms/step - loss: 0.0304 - accuracy: 0.9933 - val_loss: 0.0151 - val_accuracy: 0.9946\n",
            "Epoch 39/50\n",
            "163/163 [==============================] - 0s 2ms/step - loss: 0.0312 - accuracy: 0.9935 - val_loss: 0.0209 - val_accuracy: 0.9954\n",
            "Epoch 40/50\n",
            "163/163 [==============================] - 0s 2ms/step - loss: 0.0301 - accuracy: 0.9931 - val_loss: 0.0223 - val_accuracy: 0.9954\n",
            "Epoch 41/50\n",
            "163/163 [==============================] - 0s 2ms/step - loss: 0.0250 - accuracy: 0.9944 - val_loss: 0.0207 - val_accuracy: 0.9954\n",
            "Epoch 42/50\n",
            "163/163 [==============================] - 0s 2ms/step - loss: 0.0347 - accuracy: 0.9933 - val_loss: 0.0190 - val_accuracy: 0.9954\n",
            "Epoch 43/50\n",
            "163/163 [==============================] - 0s 2ms/step - loss: 0.0332 - accuracy: 0.9933 - val_loss: 0.0211 - val_accuracy: 0.9954\n",
            "Epoch 44/50\n",
            "163/163 [==============================] - 0s 2ms/step - loss: 0.0309 - accuracy: 0.9933 - val_loss: 0.0154 - val_accuracy: 0.9962\n",
            "Epoch 45/50\n",
            "163/163 [==============================] - 0s 2ms/step - loss: 0.0254 - accuracy: 0.9954 - val_loss: 0.0162 - val_accuracy: 0.9962\n",
            "Epoch 46/50\n",
            "163/163 [==============================] - 0s 2ms/step - loss: 0.0236 - accuracy: 0.9946 - val_loss: 0.0192 - val_accuracy: 0.9954\n",
            "Epoch 47/50\n",
            "163/163 [==============================] - 0s 2ms/step - loss: 0.0278 - accuracy: 0.9929 - val_loss: 0.0192 - val_accuracy: 0.9954\n",
            "Epoch 48/50\n",
            "163/163 [==============================] - 0s 2ms/step - loss: 0.0253 - accuracy: 0.9946 - val_loss: 0.0152 - val_accuracy: 0.9962\n",
            "Epoch 49/50\n",
            "163/163 [==============================] - 0s 2ms/step - loss: 0.0263 - accuracy: 0.9938 - val_loss: 0.0176 - val_accuracy: 0.9954\n",
            "Epoch 50/50\n",
            "163/163 [==============================] - 0s 2ms/step - loss: 0.0290 - accuracy: 0.9933 - val_loss: 0.0150 - val_accuracy: 0.9954\n"
          ]
        }
      ]
    },
    {
      "cell_type": "code",
      "source": [
        "plt.plot(h.history['accuracy'], label = 'Accuracy for Train set')\n",
        "plt.plot(h.history['val_accuracy'], label = 'Accuracy for Test Set')\n",
        "plt.title('Accuracy Graph for ANN')\n",
        "plt.ylabel('Accuracy')\n",
        "plt.xlabel('epochs')\n",
        "plt.legend()"
      ],
      "metadata": {
        "id": "yWdcAwHZicbm",
        "outputId": "2912fc87-8329-40b3-cbb6-1f4becb82888",
        "colab": {
          "base_uri": "https://localhost:8080/",
          "height": 312
        }
      },
      "execution_count": 105,
      "outputs": [
        {
          "output_type": "execute_result",
          "data": {
            "text/plain": [
              "<matplotlib.legend.Legend at 0x7fadb531da10>"
            ]
          },
          "metadata": {},
          "execution_count": 105
        },
        {
          "output_type": "display_data",
          "data": {
            "text/plain": [
              "<Figure size 432x288 with 1 Axes>"
            ],
            "image/png": "[encoded data removed]"
          },
          "metadata": {
            "needs_background": "light"
          }
        }
      ]
    },
    {
      "cell_type": "code",
      "source": [
        "plt.plot(h.history['loss'], label = 'loss for Train set')\n",
        "plt.plot(h.history['val_loss'], label = 'loss for Test Set')\n",
        "plt.title('loss Graph for ANN')\n",
        "plt.ylabel('loss')\n",
        "plt.xlabel('epochs')\n",
        "plt.legend()"
      ],
      "metadata": {
        "id": "10wYDdmQilWK",
        "outputId": "4dccc99e-edb0-43e8-c2a8-b5500ca90a35",
        "colab": {
          "base_uri": "https://localhost:8080/",
          "height": 312
        }
      },
      "execution_count": 106,
      "outputs": [
        {
          "output_type": "execute_result",
          "data": {
            "text/plain": [
              "<matplotlib.legend.Legend at 0x7fadb5332fd0>"
            ]
          },
          "metadata": {},
          "execution_count": 106
        },
        {
          "output_type": "display_data",
          "data": {
            "text/plain": [
              "<Figure size 432x288 with 1 Axes>"
            ],
            "image/png": "[encoded data removed]"
          },
          "metadata": {
            "needs_background": "light"
          }
        }
      ]
    },
    {
      "cell_type": "code",
      "source": [
        "y_pred_ann_owa = model.predict_classes(X_test)\n",
        "accuracy_score(y_test,y_pred_ann_owa)"
      ],
      "metadata": {
        "id": "ss3hv6XcinbT",
        "outputId": "de55bfa5-fcc3-4585-8246-c5bb6588f821",
        "colab": {
          "base_uri": "https://localhost:8080/"
        }
      },
      "execution_count": 107,
      "outputs": [
        {
          "output_type": "stream",
          "name": "stderr",
          "text": [
            "/usr/local/lib/python3.7/dist-packages/tensorflow/python/keras/engine/sequential.py:455: UserWarning: `model.predict_classes()` is deprecated and will be removed after 2021-01-01. Please use instead:* `np.argmax(model.predict(x), axis=-1)`,   if your model does multi-class classification   (e.g. if it uses a `softmax` last-layer activation).* `(model.predict(x) > 0.5).astype(\"int32\")`,   if your model does binary classification   (e.g. if it uses a `sigmoid` last-layer activation).\n",
            "  warnings.warn('`model.predict_classes()` is deprecated and '\n"
          ]
        },
        {
          "output_type": "execute_result",
          "data": {
            "text/plain": [
              "0.9953846153846154"
            ]
          },
          "metadata": {},
          "execution_count": 107
        }
      ]
    },
    {
      "cell_type": "code",
      "source": [
        ""
      ],
      "metadata": {
        "id": "6OEKk4DMiq9b"
      },
      "execution_count": null,
      "outputs": []
    }
  ]
}