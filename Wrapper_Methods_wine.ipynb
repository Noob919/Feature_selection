{
  "nbformat": 4,
  "nbformat_minor": 0,
  "metadata": {
    "colab": {
      "name": "Wrapper_Methods_wine.ipynb",
      "provenance": [],
      "authorship_tag": "ABX9TyNhqFsbvR6YkxQwZSS9H3Jc",
      "include_colab_link": true
    },
    "kernelspec": {
      "name": "python3",
      "display_name": "Python 3"
    },
    "language_info": {
      "name": "python"
    }
  },
  "cells": [
    {
      "cell_type": "markdown",
      "metadata": {
        "id": "view-in-github",
        "colab_type": "text"
      },
      "source": [
        "<a href=\"https://colab.research.google.com/github/Noob919/Feature_selection/blob/main/Wrapper_Methods_wine.ipynb\" target=\"_parent\"><img src=\"https://colab.research.google.com/assets/colab-badge.svg\" alt=\"Open In Colab\"/></a>"
      ]
    },
    {
      "cell_type": "code",
      "source": [
        "!pip install mlxtend --upgrade --no-deps"
      ],
      "metadata": {
        "colab": {
          "base_uri": "https://localhost:8080/"
        },
        "id": "g3Q83sV_t9Sz",
        "outputId": "51bc35eb-246e-4328-865e-25199a388cee"
      },
      "execution_count": 1,
      "outputs": [
        {
          "output_type": "stream",
          "name": "stdout",
          "text": [
            "Requirement already satisfied: mlxtend in /usr/local/lib/python3.7/dist-packages (0.19.0)\n"
          ]
        }
      ]
    },
    {
      "cell_type": "markdown",
      "source": [
        "Required Libraries"
      ],
      "metadata": {
        "id": "HgL2-7EE6inb"
      }
    },
    {
      "cell_type": "code",
      "execution_count": 152,
      "metadata": {
        "id": "X5SvDve8c2f9"
      },
      "outputs": [],
      "source": [
        "import numpy as np\n",
        "import pandas as pd\n",
        "from sklearn.linear_model import LogisticRegression \n",
        "from sklearn.model_selection import train_test_split\n",
        "from sklearn.tree import DecisionTreeClassifier\n",
        "from sklearn.preprocessing import LabelEncoder\n",
        "import matplotlib.pyplot as plt\n",
        "from mlxtend.plotting import plot_sequential_feature_selection as plot_sfs"
      ]
    },
    {
      "cell_type": "markdown",
      "source": [
        "Wine DataSet"
      ],
      "metadata": {
        "id": "sK2OgbAL7hxy"
      }
    },
    {
      "cell_type": "code",
      "source": [
        "df =  pd.read_csv(\"/content/wine_dataset.csv\")"
      ],
      "metadata": {
        "id": "AWlZa9LQdN2U"
      },
      "execution_count": 111,
      "outputs": []
    },
    {
      "cell_type": "markdown",
      "source": [
        "Converting the into interger values using label encoding"
      ],
      "metadata": {
        "id": "dgApF_oL6mf2"
      }
    },
    {
      "cell_type": "code",
      "source": [
        "# Integer Encoding\n",
        "label_encoder = LabelEncoder()\n",
        "integer_encoded = label_encoder.fit_transform(df['style'])"
      ],
      "metadata": {
        "id": "FRCNBtl41DEr"
      },
      "execution_count": 122,
      "outputs": []
    },
    {
      "cell_type": "code",
      "source": [
        "X =  df[['fixed_acidity', 'volatile_acidity', 'citric_acid', 'residual_sugar',\n",
        "       'chlorides', 'free_sulfur_dioxide', 'total_sulfur_dioxide', 'density',\n",
        "       'pH', 'sulphates', 'alcohol', 'quality']]\n",
        "y = integer_encoded"
      ],
      "metadata": {
        "id": "7BjAEtww0Ifk"
      },
      "execution_count": 125,
      "outputs": []
    },
    {
      "cell_type": "code",
      "source": [
        "X_train, X_test, y_train, y_test = train_test_split(X, y, test_size=0.2, random_state=0)"
      ],
      "metadata": {
        "id": "wEVZ8-j4qhGW"
      },
      "execution_count": 127,
      "outputs": []
    },
    {
      "cell_type": "code",
      "source": [
        "print(\"Shape of train set\", X_train.shape)\n",
        "print(\"Shape of test set\", X_test.shape)"
      ],
      "metadata": {
        "colab": {
          "base_uri": "https://localhost:8080/"
        },
        "id": "vM_1TvD9q7w-",
        "outputId": "623558ce-7766-4cfa-9452-e9a2bd7b6a8e"
      },
      "execution_count": 128,
      "outputs": [
        {
          "output_type": "stream",
          "name": "stdout",
          "text": [
            "Shape of train set (5197, 12)\n",
            "Shape of test set (1300, 12)\n"
          ]
        }
      ]
    },
    {
      "cell_type": "code",
      "source": [
        "from mlxtend.feature_selection import SequentialFeatureSelector as SFS"
      ],
      "metadata": {
        "id": "4k1crHnNrDko"
      },
      "execution_count": 9,
      "outputs": []
    },
    {
      "cell_type": "code",
      "source": [
        "RF = DecisionTreeClassifier(random_state = 0)"
      ],
      "metadata": {
        "id": "GcAmEMVAuiro"
      },
      "execution_count": 129,
      "outputs": []
    },
    {
      "cell_type": "markdown",
      "source": [
        "Foward Step Selection"
      ],
      "metadata": {
        "id": "DB8rXLPd6y5w"
      }
    },
    {
      "cell_type": "code",
      "source": [
        "sfs = SFS(RF, \n",
        "           k_features= (1,12), \n",
        "           forward=True, \n",
        "           floating=False, \n",
        "           verbose=2,\n",
        "           scoring='accuracy',\n",
        "           cv=3).fit(X_train,y_train)\n"
      ],
      "metadata": {
        "colab": {
          "base_uri": "https://localhost:8080/"
        },
        "id": "47YpOx_dts4d",
        "outputId": "a35ee6f3-d2c3-45be-e865-b505dfa3982a"
      },
      "execution_count": 144,
      "outputs": [
        {
          "output_type": "stream",
          "name": "stderr",
          "text": [
            "[Parallel(n_jobs=1)]: Using backend SequentialBackend with 1 concurrent workers.\n",
            "[Parallel(n_jobs=1)]: Done   1 out of   1 | elapsed:    0.0s remaining:    0.0s\n",
            "[Parallel(n_jobs=1)]: Done  12 out of  12 | elapsed:    0.2s finished\n",
            "\n",
            "[2022-04-29 01:25:36] Features: 1/12 -- score: 0.9222617646758327[Parallel(n_jobs=1)]: Using backend SequentialBackend with 1 concurrent workers.\n",
            "[Parallel(n_jobs=1)]: Done   1 out of   1 | elapsed:    0.0s remaining:    0.0s\n",
            "[Parallel(n_jobs=1)]: Done  11 out of  11 | elapsed:    0.3s finished\n",
            "\n",
            "[2022-04-29 01:25:36] Features: 2/12 -- score: 0.9701751358295497[Parallel(n_jobs=1)]: Using backend SequentialBackend with 1 concurrent workers.\n",
            "[Parallel(n_jobs=1)]: Done   1 out of   1 | elapsed:    0.0s remaining:    0.0s\n",
            "[Parallel(n_jobs=1)]: Done  10 out of  10 | elapsed:    0.3s finished\n",
            "\n",
            "[2022-04-29 01:25:36] Features: 3/12 -- score: 0.9807580912477839[Parallel(n_jobs=1)]: Using backend SequentialBackend with 1 concurrent workers.\n",
            "[Parallel(n_jobs=1)]: Done   1 out of   1 | elapsed:    0.0s remaining:    0.0s\n",
            "[Parallel(n_jobs=1)]: Done   9 out of   9 | elapsed:    0.3s finished\n",
            "\n",
            "[2022-04-29 01:25:37] Features: 4/12 -- score: 0.9824899707573893[Parallel(n_jobs=1)]: Using backend SequentialBackend with 1 concurrent workers.\n",
            "[Parallel(n_jobs=1)]: Done   1 out of   1 | elapsed:    0.0s remaining:    0.0s\n",
            "[Parallel(n_jobs=1)]: Done   8 out of   8 | elapsed:    0.4s finished\n",
            "\n",
            "[2022-04-29 01:25:37] Features: 5/12 -- score: 0.9840296166388366[Parallel(n_jobs=1)]: Using backend SequentialBackend with 1 concurrent workers.\n",
            "[Parallel(n_jobs=1)]: Done   1 out of   1 | elapsed:    0.1s remaining:    0.0s\n",
            "[Parallel(n_jobs=1)]: Done   7 out of   7 | elapsed:    0.3s finished\n",
            "\n",
            "[2022-04-29 01:25:37] Features: 6/12 -- score: 0.9851847952639675[Parallel(n_jobs=1)]: Using backend SequentialBackend with 1 concurrent workers.\n",
            "[Parallel(n_jobs=1)]: Done   1 out of   1 | elapsed:    0.0s remaining:    0.0s\n",
            "[Parallel(n_jobs=1)]: Done   6 out of   6 | elapsed:    0.3s finished\n",
            "\n",
            "[2022-04-29 01:25:38] Features: 7/12 -- score: 0.9842226276415745[Parallel(n_jobs=1)]: Using backend SequentialBackend with 1 concurrent workers.\n",
            "[Parallel(n_jobs=1)]: Done   1 out of   1 | elapsed:    0.1s remaining:    0.0s\n",
            "[Parallel(n_jobs=1)]: Done   5 out of   5 | elapsed:    0.3s finished\n",
            "\n",
            "[2022-04-29 01:25:38] Features: 8/12 -- score: 0.985184017889388[Parallel(n_jobs=1)]: Using backend SequentialBackend with 1 concurrent workers.\n",
            "[Parallel(n_jobs=1)]: Done   1 out of   1 | elapsed:    0.1s remaining:    0.0s\n",
            "[Parallel(n_jobs=1)]: Done   4 out of   4 | elapsed:    0.2s finished\n",
            "\n",
            "[2022-04-29 01:25:38] Features: 9/12 -- score: 0.9844146391627099[Parallel(n_jobs=1)]: Using backend SequentialBackend with 1 concurrent workers.\n",
            "[Parallel(n_jobs=1)]: Done   1 out of   1 | elapsed:    0.1s remaining:    0.0s\n",
            "[Parallel(n_jobs=1)]: Done   3 out of   3 | elapsed:    0.2s finished\n",
            "\n",
            "[2022-04-29 01:25:38] Features: 10/12 -- score: 0.9847995506330717[Parallel(n_jobs=1)]: Using backend SequentialBackend with 1 concurrent workers.\n",
            "[Parallel(n_jobs=1)]: Done   1 out of   1 | elapsed:    0.1s remaining:    0.0s\n",
            "[Parallel(n_jobs=1)]: Done   2 out of   2 | elapsed:    0.1s finished\n",
            "\n",
            "[2022-04-29 01:25:39] Features: 11/12 -- score: 0.9844139728416418[Parallel(n_jobs=1)]: Using backend SequentialBackend with 1 concurrent workers.\n",
            "[Parallel(n_jobs=1)]: Done   1 out of   1 | elapsed:    0.1s remaining:    0.0s\n",
            "[Parallel(n_jobs=1)]: Done   1 out of   1 | elapsed:    0.1s finished\n",
            "\n",
            "[2022-04-29 01:25:39] Features: 12/12 -- score: 0.9824904149714349"
          ]
        }
      ]
    },
    {
      "cell_type": "code",
      "source": [
        "pd.DataFrame.from_dict(sfs.get_metric_dict()).T"
      ],
      "metadata": {
        "colab": {
          "base_uri": "https://localhost:8080/",
          "height": 669
        },
        "id": "suMYwpQNwLeD",
        "outputId": "128aa2dc-bd02-44cb-c1ee-bdc3f81c55b3"
      },
      "execution_count": 145,
      "outputs": [
        {
          "output_type": "execute_result",
          "data": {
            "text/plain": [
              "                               feature_idx  \\\n",
              "1                                     (6,)   \n",
              "2                                   (4, 6)   \n",
              "3                                (1, 4, 6)   \n",
              "4                             (1, 4, 6, 7)   \n",
              "5                          (1, 4, 6, 7, 9)   \n",
              "6                       (0, 1, 4, 6, 7, 9)   \n",
              "7                    (0, 1, 4, 6, 7, 8, 9)   \n",
              "8                 (0, 1, 3, 4, 6, 7, 8, 9)   \n",
              "9              (0, 1, 3, 4, 5, 6, 7, 8, 9)   \n",
              "10         (0, 1, 3, 4, 5, 6, 7, 8, 9, 11)   \n",
              "11      (0, 1, 2, 3, 4, 5, 6, 7, 8, 9, 11)   \n",
              "12  (0, 1, 2, 3, 4, 5, 6, 7, 8, 9, 10, 11)   \n",
              "\n",
              "                                            cv_scores avg_score  \\\n",
              "1   [0.927870744373918, 0.9133949191685913, 0.9255...  0.922262   \n",
              "2   [0.96999422965955, 0.9636258660508084, 0.97690...  0.970175   \n",
              "3   [0.9809578765147143, 0.98094688221709, 0.98036...  0.980758   \n",
              "4   [0.9821119446047317, 0.983256351039261, 0.9821...   0.98249   \n",
              "5   [0.9821119446047317, 0.9861431870669746, 0.983...   0.98403   \n",
              "6   [0.979803808424697, 0.9861431870669746, 0.9896...  0.985185   \n",
              "7   [0.9792267743796884, 0.9849884526558892, 0.988...  0.984223   \n",
              "8   [0.9838430467397576, 0.9855658198614319, 0.986...  0.985184   \n",
              "9   [0.981534910559723, 0.9861431870669746, 0.9855...  0.984415   \n",
              "10  [0.981534910559723, 0.9861431870669746, 0.9867...    0.9848   \n",
              "11  [0.9849971148297749, 0.9815242494226328, 0.986...  0.984414   \n",
              "12  [0.979803808424697, 0.9821016166281755, 0.9855...   0.98249   \n",
              "\n",
              "                                        feature_names  ci_bound   std_dev  \\\n",
              "1                             (total_sulfur_dioxide,)  0.014274  0.006343   \n",
              "2                   (chlorides, total_sulfur_dioxide)  0.012203  0.005423   \n",
              "3   (volatile_acidity, chlorides, total_sulfur_dio...  0.000618  0.000275   \n",
              "4   (volatile_acidity, chlorides, total_sulfur_dio...   0.00122  0.000542   \n",
              "5   (volatile_acidity, chlorides, total_sulfur_dio...  0.003717  0.001652   \n",
              "6   (fixed_acidity, volatile_acidity, chlorides, t...  0.009135  0.004059   \n",
              "7   (fixed_acidity, volatile_acidity, chlorides, t...  0.008563  0.003805   \n",
              "8   (fixed_acidity, volatile_acidity, residual_sug...  0.002199  0.000977   \n",
              "9   (fixed_acidity, volatile_acidity, residual_sug...  0.004613   0.00205   \n",
              "10  (fixed_acidity, volatile_acidity, residual_sug...  0.005222   0.00232   \n",
              "11  (fixed_acidity, volatile_acidity, citric_acid,...  0.004863  0.002161   \n",
              "12  (fixed_acidity, volatile_acidity, citric_acid,...   0.00533  0.002368   \n",
              "\n",
              "     std_err  \n",
              "1   0.004485  \n",
              "2   0.003835  \n",
              "3   0.000194  \n",
              "4   0.000383  \n",
              "5   0.001168  \n",
              "6    0.00287  \n",
              "7   0.002691  \n",
              "8   0.000691  \n",
              "9   0.001449  \n",
              "10  0.001641  \n",
              "11  0.001528  \n",
              "12  0.001675  "
            ],
            "text/html": [
              "\n",
              "  <div id=\"df-c9bd5c9e-71a0-4350-a8ca-cf664067802a\">\n",
              "    <div class=\"colab-df-container\">\n",
              "      <div>\n",
              "<style scoped>\n",
              "    .dataframe tbody tr th:only-of-type {\n",
              "        vertical-align: middle;\n",
              "    }\n",
              "\n",
              "    .dataframe tbody tr th {\n",
              "        vertical-align: top;\n",
              "    }\n",
              "\n",
              "    .dataframe thead th {\n",
              "        text-align: right;\n",
              "    }\n",
              "</style>\n",
              "<table border=\"1\" class=\"dataframe\">\n",
              "  <thead>\n",
              "    <tr style=\"text-align: right;\">\n",
              "      <th></th>\n",
              "      <th>feature_idx</th>\n",
              "      <th>cv_scores</th>\n",
              "      <th>avg_score</th>\n",
              "      <th>feature_names</th>\n",
              "      <th>ci_bound</th>\n",
              "      <th>std_dev</th>\n",
              "      <th>std_err</th>\n",
              "    </tr>\n",
              "  </thead>\n",
              "  <tbody>\n",
              "    <tr>\n",
              "      <th>1</th>\n",
              "      <td>(6,)</td>\n",
              "      <td>[0.927870744373918, 0.9133949191685913, 0.9255...</td>\n",
              "      <td>0.922262</td>\n",
              "      <td>(total_sulfur_dioxide,)</td>\n",
              "      <td>0.014274</td>\n",
              "      <td>0.006343</td>\n",
              "      <td>0.004485</td>\n",
              "    </tr>\n",
              "    <tr>\n",
              "      <th>2</th>\n",
              "      <td>(4, 6)</td>\n",
              "      <td>[0.96999422965955, 0.9636258660508084, 0.97690...</td>\n",
              "      <td>0.970175</td>\n",
              "      <td>(chlorides, total_sulfur_dioxide)</td>\n",
              "      <td>0.012203</td>\n",
              "      <td>0.005423</td>\n",
              "      <td>0.003835</td>\n",
              "    </tr>\n",
              "    <tr>\n",
              "      <th>3</th>\n",
              "      <td>(1, 4, 6)</td>\n",
              "      <td>[0.9809578765147143, 0.98094688221709, 0.98036...</td>\n",
              "      <td>0.980758</td>\n",
              "      <td>(volatile_acidity, chlorides, total_sulfur_dio...</td>\n",
              "      <td>0.000618</td>\n",
              "      <td>0.000275</td>\n",
              "      <td>0.000194</td>\n",
              "    </tr>\n",
              "    <tr>\n",
              "      <th>4</th>\n",
              "      <td>(1, 4, 6, 7)</td>\n",
              "      <td>[0.9821119446047317, 0.983256351039261, 0.9821...</td>\n",
              "      <td>0.98249</td>\n",
              "      <td>(volatile_acidity, chlorides, total_sulfur_dio...</td>\n",
              "      <td>0.00122</td>\n",
              "      <td>0.000542</td>\n",
              "      <td>0.000383</td>\n",
              "    </tr>\n",
              "    <tr>\n",
              "      <th>5</th>\n",
              "      <td>(1, 4, 6, 7, 9)</td>\n",
              "      <td>[0.9821119446047317, 0.9861431870669746, 0.983...</td>\n",
              "      <td>0.98403</td>\n",
              "      <td>(volatile_acidity, chlorides, total_sulfur_dio...</td>\n",
              "      <td>0.003717</td>\n",
              "      <td>0.001652</td>\n",
              "      <td>0.001168</td>\n",
              "    </tr>\n",
              "    <tr>\n",
              "      <th>6</th>\n",
              "      <td>(0, 1, 4, 6, 7, 9)</td>\n",
              "      <td>[0.979803808424697, 0.9861431870669746, 0.9896...</td>\n",
              "      <td>0.985185</td>\n",
              "      <td>(fixed_acidity, volatile_acidity, chlorides, t...</td>\n",
              "      <td>0.009135</td>\n",
              "      <td>0.004059</td>\n",
              "      <td>0.00287</td>\n",
              "    </tr>\n",
              "    <tr>\n",
              "      <th>7</th>\n",
              "      <td>(0, 1, 4, 6, 7, 8, 9)</td>\n",
              "      <td>[0.9792267743796884, 0.9849884526558892, 0.988...</td>\n",
              "      <td>0.984223</td>\n",
              "      <td>(fixed_acidity, volatile_acidity, chlorides, t...</td>\n",
              "      <td>0.008563</td>\n",
              "      <td>0.003805</td>\n",
              "      <td>0.002691</td>\n",
              "    </tr>\n",
              "    <tr>\n",
              "      <th>8</th>\n",
              "      <td>(0, 1, 3, 4, 6, 7, 8, 9)</td>\n",
              "      <td>[0.9838430467397576, 0.9855658198614319, 0.986...</td>\n",
              "      <td>0.985184</td>\n",
              "      <td>(fixed_acidity, volatile_acidity, residual_sug...</td>\n",
              "      <td>0.002199</td>\n",
              "      <td>0.000977</td>\n",
              "      <td>0.000691</td>\n",
              "    </tr>\n",
              "    <tr>\n",
              "      <th>9</th>\n",
              "      <td>(0, 1, 3, 4, 5, 6, 7, 8, 9)</td>\n",
              "      <td>[0.981534910559723, 0.9861431870669746, 0.9855...</td>\n",
              "      <td>0.984415</td>\n",
              "      <td>(fixed_acidity, volatile_acidity, residual_sug...</td>\n",
              "      <td>0.004613</td>\n",
              "      <td>0.00205</td>\n",
              "      <td>0.001449</td>\n",
              "    </tr>\n",
              "    <tr>\n",
              "      <th>10</th>\n",
              "      <td>(0, 1, 3, 4, 5, 6, 7, 8, 9, 11)</td>\n",
              "      <td>[0.981534910559723, 0.9861431870669746, 0.9867...</td>\n",
              "      <td>0.9848</td>\n",
              "      <td>(fixed_acidity, volatile_acidity, residual_sug...</td>\n",
              "      <td>0.005222</td>\n",
              "      <td>0.00232</td>\n",
              "      <td>0.001641</td>\n",
              "    </tr>\n",
              "    <tr>\n",
              "      <th>11</th>\n",
              "      <td>(0, 1, 2, 3, 4, 5, 6, 7, 8, 9, 11)</td>\n",
              "      <td>[0.9849971148297749, 0.9815242494226328, 0.986...</td>\n",
              "      <td>0.984414</td>\n",
              "      <td>(fixed_acidity, volatile_acidity, citric_acid,...</td>\n",
              "      <td>0.004863</td>\n",
              "      <td>0.002161</td>\n",
              "      <td>0.001528</td>\n",
              "    </tr>\n",
              "    <tr>\n",
              "      <th>12</th>\n",
              "      <td>(0, 1, 2, 3, 4, 5, 6, 7, 8, 9, 10, 11)</td>\n",
              "      <td>[0.979803808424697, 0.9821016166281755, 0.9855...</td>\n",
              "      <td>0.98249</td>\n",
              "      <td>(fixed_acidity, volatile_acidity, citric_acid,...</td>\n",
              "      <td>0.00533</td>\n",
              "      <td>0.002368</td>\n",
              "      <td>0.001675</td>\n",
              "    </tr>\n",
              "  </tbody>\n",
              "</table>\n",
              "</div>\n",
              "      <button class=\"colab-df-convert\" onclick=\"convertToInteractive('df-c9bd5c9e-71a0-4350-a8ca-cf664067802a')\"\n",
              "              title=\"Convert this dataframe to an interactive table.\"\n",
              "              style=\"display:none;\">\n",
              "        \n",
              "  <svg xmlns=\"http://www.w3.org/2000/svg\" height=\"24px\"viewBox=\"0 0 24 24\"\n",
              "       width=\"24px\">\n",
              "    <path d=\"M0 0h24v24H0V0z\" fill=\"none\"/>\n",
              "    <path d=\"M18.56 5.44l.94 2.06.94-2.06 2.06-.94-2.06-.94-.94-2.06-.94 2.06-2.06.94zm-11 1L8.5 8.5l.94-2.06 2.06-.94-2.06-.94L8.5 2.5l-.94 2.06-2.06.94zm10 10l.94 2.06.94-2.06 2.06-.94-2.06-.94-.94-2.06-.94 2.06-2.06.94z\"/><path d=\"M17.41 7.96l-1.37-1.37c-.4-.4-.92-.59-1.43-.59-.52 0-1.04.2-1.43.59L10.3 9.45l-7.72 7.72c-.78.78-.78 2.05 0 2.83L4 21.41c.39.39.9.59 1.41.59.51 0 1.02-.2 1.41-.59l7.78-7.78 2.81-2.81c.8-.78.8-2.07 0-2.86zM5.41 20L4 18.59l7.72-7.72 1.47 1.35L5.41 20z\"/>\n",
              "  </svg>\n",
              "      </button>\n",
              "      \n",
              "  <style>\n",
              "    .colab-df-container {\n",
              "      display:flex;\n",
              "      flex-wrap:wrap;\n",
              "      gap: 12px;\n",
              "    }\n",
              "\n",
              "    .colab-df-convert {\n",
              "      background-color: #E8F0FE;\n",
              "      border: none;\n",
              "      border-radius: 50%;\n",
              "      cursor: pointer;\n",
              "      display: none;\n",
              "      fill: #1967D2;\n",
              "      height: 32px;\n",
              "      padding: 0 0 0 0;\n",
              "      width: 32px;\n",
              "    }\n",
              "\n",
              "    .colab-df-convert:hover {\n",
              "      background-color: #E2EBFA;\n",
              "      box-shadow: 0px 1px 2px rgba(60, 64, 67, 0.3), 0px 1px 3px 1px rgba(60, 64, 67, 0.15);\n",
              "      fill: #174EA6;\n",
              "    }\n",
              "\n",
              "    [theme=dark] .colab-df-convert {\n",
              "      background-color: #3B4455;\n",
              "      fill: #D2E3FC;\n",
              "    }\n",
              "\n",
              "    [theme=dark] .colab-df-convert:hover {\n",
              "      background-color: #434B5C;\n",
              "      box-shadow: 0px 1px 3px 1px rgba(0, 0, 0, 0.15);\n",
              "      filter: drop-shadow(0px 1px 2px rgba(0, 0, 0, 0.3));\n",
              "      fill: #FFFFFF;\n",
              "    }\n",
              "  </style>\n",
              "\n",
              "      <script>\n",
              "        const buttonEl =\n",
              "          document.querySelector('#df-c9bd5c9e-71a0-4350-a8ca-cf664067802a button.colab-df-convert');\n",
              "        buttonEl.style.display =\n",
              "          google.colab.kernel.accessAllowed ? 'block' : 'none';\n",
              "\n",
              "        async function convertToInteractive(key) {\n",
              "          const element = document.querySelector('#df-c9bd5c9e-71a0-4350-a8ca-cf664067802a');\n",
              "          const dataTable =\n",
              "            await google.colab.kernel.invokeFunction('convertToInteractive',\n",
              "                                                     [key], {});\n",
              "          if (!dataTable) return;\n",
              "\n",
              "          const docLinkHtml = 'Like what you see? Visit the ' +\n",
              "            '<a target=\"_blank\" href=https://colab.research.google.com/notebooks/data_table.ipynb>data table notebook</a>'\n",
              "            + ' to learn more about interactive tables.';\n",
              "          element.innerHTML = '';\n",
              "          dataTable['output_type'] = 'display_data';\n",
              "          await google.colab.output.renderOutput(dataTable, element);\n",
              "          const docLink = document.createElement('div');\n",
              "          docLink.innerHTML = docLinkHtml;\n",
              "          element.appendChild(docLink);\n",
              "        }\n",
              "      </script>\n",
              "    </div>\n",
              "  </div>\n",
              "  "
            ]
          },
          "metadata": {},
          "execution_count": 145
        }
      ]
    },
    {
      "cell_type": "code",
      "source": [
        "# sfs.subsets_"
      ],
      "metadata": {
        "id": "1OEANhK9u6w2"
      },
      "execution_count": 146,
      "outputs": []
    },
    {
      "cell_type": "markdown",
      "source": [
        "Indices of best features"
      ],
      "metadata": {
        "id": "tNViKA2y7Vza"
      }
    },
    {
      "cell_type": "code",
      "source": [
        "sfs.k_feature_idx_"
      ],
      "metadata": {
        "colab": {
          "base_uri": "https://localhost:8080/"
        },
        "id": "sIvMO4Juve-n",
        "outputId": "3649b89d-a5b5-4b3e-dfc2-4ac6502f5102"
      },
      "execution_count": 147,
      "outputs": [
        {
          "output_type": "execute_result",
          "data": {
            "text/plain": [
              "(0, 1, 4, 6, 7, 9)"
            ]
          },
          "metadata": {},
          "execution_count": 147
        }
      ]
    },
    {
      "cell_type": "markdown",
      "source": [
        "Names of best features"
      ],
      "metadata": {
        "id": "c_yjOUDS7ZrJ"
      }
    },
    {
      "cell_type": "code",
      "source": [
        "sfs.k_feature_names_"
      ],
      "metadata": {
        "colab": {
          "base_uri": "https://localhost:8080/"
        },
        "id": "DGqy7QiGvtzF",
        "outputId": "1864a6e5-6504-4c04-c879-5e20388ceb20"
      },
      "execution_count": 148,
      "outputs": [
        {
          "output_type": "execute_result",
          "data": {
            "text/plain": [
              "('fixed_acidity',\n",
              " 'volatile_acidity',\n",
              " 'chlorides',\n",
              " 'total_sulfur_dioxide',\n",
              " 'density',\n",
              " 'sulphates')"
            ]
          },
          "metadata": {},
          "execution_count": 148
        }
      ]
    },
    {
      "cell_type": "markdown",
      "source": [
        "Best Score"
      ],
      "metadata": {
        "id": "DzEXR2hb7dOq"
      }
    },
    {
      "cell_type": "code",
      "source": [
        "sfs.k_score_"
      ],
      "metadata": {
        "colab": {
          "base_uri": "https://localhost:8080/"
        },
        "id": "CU53askYv0pg",
        "outputId": "4d4a266a-5718-4888-b394-29151d33a9d3"
      },
      "execution_count": 149,
      "outputs": [
        {
          "output_type": "execute_result",
          "data": {
            "text/plain": [
              "0.9851847952639675"
            ]
          },
          "metadata": {},
          "execution_count": 149
        }
      ]
    },
    {
      "cell_type": "code",
      "source": [
        "fig1 = plot_sfs(sfs.get_metric_dict(), kind='std_dev')\n",
        "\n",
        "plt.ylim([0.8, 1])\n",
        "plt.title('Sequential Forward Selection (w. StdDev)')\n",
        "plt.grid()\n",
        "plt.show()"
      ],
      "metadata": {
        "colab": {
          "base_uri": "https://localhost:8080/",
          "height": 295
        },
        "id": "AMAZUBNW8iDb",
        "outputId": "6c1af211-07d1-4872-9729-c4d43adb14ca"
      },
      "execution_count": 153,
      "outputs": [
        {
          "output_type": "display_data",
          "data": {
            "text/plain": [
              "<Figure size 432x288 with 1 Axes>"
            ],
            "image/png": "[encoded data removed]"
          },
          "metadata": {
            "needs_background": "light"
          }
        }
      ]
    },
    {
      "cell_type": "markdown",
      "source": [
        "Backward Step Selection"
      ],
      "metadata": {
        "id": "g8Vo5CJE7mW1"
      }
    },
    {
      "cell_type": "code",
      "source": [
        "sfs = SFS(RF, \n",
        "           k_features= (1,12), \n",
        "           forward=False, \n",
        "           floating=False, \n",
        "           verbose=2,\n",
        "           scoring='accuracy',\n",
        "           cv=3).fit(X_train,y_train)"
      ],
      "metadata": {
        "colab": {
          "base_uri": "https://localhost:8080/"
        },
        "id": "3PEisYwVv4AQ",
        "outputId": "bfade9d2-e23f-44f9-b6f2-42b275272505"
      },
      "execution_count": 154,
      "outputs": [
        {
          "output_type": "stream",
          "name": "stderr",
          "text": [
            "[Parallel(n_jobs=1)]: Using backend SequentialBackend with 1 concurrent workers.\n",
            "[Parallel(n_jobs=1)]: Done   1 out of   1 | elapsed:    0.1s remaining:    0.0s\n",
            "[Parallel(n_jobs=1)]: Done  12 out of  12 | elapsed:    1.0s finished\n",
            "\n",
            "[2022-04-29 01:35:03] Features: 11/1 -- score: 0.9844143060021757[Parallel(n_jobs=1)]: Using backend SequentialBackend with 1 concurrent workers.\n",
            "[Parallel(n_jobs=1)]: Done   1 out of   1 | elapsed:    0.1s remaining:    0.0s\n",
            "[Parallel(n_jobs=1)]: Done  11 out of  11 | elapsed:    0.9s finished\n",
            "\n",
            "[2022-04-29 01:35:03] Features: 10/1 -- score: 0.9842219613205062[Parallel(n_jobs=1)]: Using backend SequentialBackend with 1 concurrent workers.\n",
            "[Parallel(n_jobs=1)]: Done   1 out of   1 | elapsed:    0.1s remaining:    0.0s\n",
            "[Parallel(n_jobs=1)]: Done  10 out of  10 | elapsed:    0.7s finished\n",
            "\n",
            "[2022-04-29 01:35:04] Features: 9/1 -- score: 0.9861462965652925[Parallel(n_jobs=1)]: Using backend SequentialBackend with 1 concurrent workers.\n",
            "[Parallel(n_jobs=1)]: Done   1 out of   1 | elapsed:    0.1s remaining:    0.0s\n",
            "[Parallel(n_jobs=1)]: Done   9 out of   9 | elapsed:    0.5s finished\n",
            "\n",
            "[2022-04-29 01:35:05] Features: 8/1 -- score: 0.9857612740414194[Parallel(n_jobs=1)]: Using backend SequentialBackend with 1 concurrent workers.\n",
            "[Parallel(n_jobs=1)]: Done   1 out of   1 | elapsed:    0.1s remaining:    0.0s\n",
            "[Parallel(n_jobs=1)]: Done   8 out of   8 | elapsed:    0.5s finished\n",
            "\n",
            "[2022-04-29 01:35:05] Features: 7/1 -- score: 0.9851846842104561[Parallel(n_jobs=1)]: Using backend SequentialBackend with 1 concurrent workers.\n",
            "[Parallel(n_jobs=1)]: Done   1 out of   1 | elapsed:    0.1s remaining:    0.0s\n",
            "[Parallel(n_jobs=1)]: Done   7 out of   7 | elapsed:    0.4s finished\n",
            "\n",
            "[2022-04-29 01:35:05] Features: 6/1 -- score: 0.9847995506330717[Parallel(n_jobs=1)]: Using backend SequentialBackend with 1 concurrent workers.\n",
            "[Parallel(n_jobs=1)]: Done   1 out of   1 | elapsed:    0.0s remaining:    0.0s\n",
            "[Parallel(n_jobs=1)]: Done   6 out of   6 | elapsed:    0.3s finished\n",
            "\n",
            "[2022-04-29 01:35:06] Features: 5/1 -- score: 0.9840296166388366[Parallel(n_jobs=1)]: Using backend SequentialBackend with 1 concurrent workers.\n",
            "[Parallel(n_jobs=1)]: Done   1 out of   1 | elapsed:    0.0s remaining:    0.0s\n",
            "[Parallel(n_jobs=1)]: Done   5 out of   5 | elapsed:    0.2s finished\n",
            "\n",
            "[2022-04-29 01:35:06] Features: 4/1 -- score: 0.9824899707573893[Parallel(n_jobs=1)]: Using backend SequentialBackend with 1 concurrent workers.\n",
            "[Parallel(n_jobs=1)]: Done   1 out of   1 | elapsed:    0.0s remaining:    0.0s\n",
            "[Parallel(n_jobs=1)]: Done   4 out of   4 | elapsed:    0.1s finished\n",
            "\n",
            "[2022-04-29 01:35:06] Features: 3/1 -- score: 0.9807580912477839[Parallel(n_jobs=1)]: Using backend SequentialBackend with 1 concurrent workers.\n",
            "[Parallel(n_jobs=1)]: Done   1 out of   1 | elapsed:    0.0s remaining:    0.0s\n",
            "[Parallel(n_jobs=1)]: Done   3 out of   3 | elapsed:    0.1s finished\n",
            "\n",
            "[2022-04-29 01:35:06] Features: 2/1 -- score: 0.9701751358295497[Parallel(n_jobs=1)]: Using backend SequentialBackend with 1 concurrent workers.\n",
            "[Parallel(n_jobs=1)]: Done   1 out of   1 | elapsed:    0.0s remaining:    0.0s\n",
            "[Parallel(n_jobs=1)]: Done   2 out of   2 | elapsed:    0.0s finished\n",
            "\n",
            "[2022-04-29 01:35:06] Features: 1/1 -- score: 0.9222617646758327"
          ]
        }
      ]
    },
    {
      "cell_type": "markdown",
      "source": [
        "Results"
      ],
      "metadata": {
        "id": "ezjWD4Ps9qQZ"
      }
    },
    {
      "cell_type": "code",
      "source": [
        "pd.DataFrame.from_dict(sfs.get_metric_dict()).T"
      ],
      "metadata": {
        "colab": {
          "base_uri": "https://localhost:8080/",
          "height": 669
        },
        "id": "jVuBlCbi9QNS",
        "outputId": "3ab1f848-fac7-4f2a-a9af-55f922c25e3d"
      },
      "execution_count": 155,
      "outputs": [
        {
          "output_type": "execute_result",
          "data": {
            "text/plain": [
              "                               feature_idx  \\\n",
              "12  (0, 1, 2, 3, 4, 5, 6, 7, 8, 9, 10, 11)   \n",
              "11     (1, 2, 3, 4, 5, 6, 7, 8, 9, 10, 11)   \n",
              "10         (1, 2, 3, 4, 5, 6, 7, 8, 9, 11)   \n",
              "9             (1, 3, 4, 5, 6, 7, 8, 9, 11)   \n",
              "8                 (1, 3, 4, 5, 6, 7, 8, 9)   \n",
              "7                    (1, 4, 5, 6, 7, 8, 9)   \n",
              "6                       (1, 4, 6, 7, 8, 9)   \n",
              "5                          (1, 4, 6, 7, 9)   \n",
              "4                             (1, 4, 6, 7)   \n",
              "3                                (1, 4, 6)   \n",
              "2                                   (4, 6)   \n",
              "1                                     (6,)   \n",
              "\n",
              "                                            cv_scores avg_score  \\\n",
              "12  [0.979803808424697, 0.9821016166281755, 0.9855...   0.98249   \n",
              "11  [0.983266012694749, 0.9855658198614319, 0.9844...  0.984414   \n",
              "10  [0.9826889786497404, 0.9826789838337182, 0.987...  0.984222   \n",
              "9   [0.9838430467397576, 0.9878752886836027, 0.986...  0.986146   \n",
              "8   [0.9844200807847663, 0.9872979214780601, 0.985...  0.985761   \n",
              "7   [0.9803808424697057, 0.9878752886836027, 0.987...  0.985185   \n",
              "6   [0.981534910559723, 0.9849884526558892, 0.9878...    0.9848   \n",
              "5   [0.9821119446047317, 0.9861431870669746, 0.983...   0.98403   \n",
              "4   [0.9821119446047317, 0.983256351039261, 0.9821...   0.98249   \n",
              "3   [0.9809578765147143, 0.98094688221709, 0.98036...  0.980758   \n",
              "2   [0.96999422965955, 0.9636258660508084, 0.97690...  0.970175   \n",
              "1   [0.927870744373918, 0.9133949191685913, 0.9255...  0.922262   \n",
              "\n",
              "                                        feature_names  ci_bound   std_dev  \\\n",
              "12  (fixed_acidity, volatile_acidity, citric_acid,...   0.00533  0.002368   \n",
              "11  (volatile_acidity, citric_acid, residual_sugar...  0.002113  0.000939   \n",
              "10  (volatile_acidity, citric_acid, residual_sugar...  0.004895  0.002175   \n",
              "9   (volatile_acidity, residual_sugar, chlorides, ...  0.003815  0.001695   \n",
              "8   (volatile_acidity, residual_sugar, chlorides, ...  0.002662  0.001183   \n",
              "7   (volatile_acidity, chlorides, free_sulfur_diox...  0.007662  0.003405   \n",
              "6   (volatile_acidity, chlorides, total_sulfur_dio...  0.005833  0.002592   \n",
              "5   (volatile_acidity, chlorides, total_sulfur_dio...  0.003717  0.001652   \n",
              "4   (volatile_acidity, chlorides, total_sulfur_dio...   0.00122  0.000542   \n",
              "3   (volatile_acidity, chlorides, total_sulfur_dio...  0.000618  0.000275   \n",
              "2                   (chlorides, total_sulfur_dioxide)  0.012203  0.005423   \n",
              "1                             (total_sulfur_dioxide,)  0.014274  0.006343   \n",
              "\n",
              "     std_err  \n",
              "12  0.001675  \n",
              "11  0.000664  \n",
              "10  0.001538  \n",
              "9   0.001199  \n",
              "8   0.000836  \n",
              "7   0.002408  \n",
              "6   0.001833  \n",
              "5   0.001168  \n",
              "4   0.000383  \n",
              "3   0.000194  \n",
              "2   0.003835  \n",
              "1   0.004485  "
            ],
            "text/html": [
              "\n",
              "  <div id=\"df-eb99717f-b533-401d-947c-e26a2707f3f9\">\n",
              "    <div class=\"colab-df-container\">\n",
              "      <div>\n",
              "<style scoped>\n",
              "    .dataframe tbody tr th:only-of-type {\n",
              "        vertical-align: middle;\n",
              "    }\n",
              "\n",
              "    .dataframe tbody tr th {\n",
              "        vertical-align: top;\n",
              "    }\n",
              "\n",
              "    .dataframe thead th {\n",
              "        text-align: right;\n",
              "    }\n",
              "</style>\n",
              "<table border=\"1\" class=\"dataframe\">\n",
              "  <thead>\n",
              "    <tr style=\"text-align: right;\">\n",
              "      <th></th>\n",
              "      <th>feature_idx</th>\n",
              "      <th>cv_scores</th>\n",
              "      <th>avg_score</th>\n",
              "      <th>feature_names</th>\n",
              "      <th>ci_bound</th>\n",
              "      <th>std_dev</th>\n",
              "      <th>std_err</th>\n",
              "    </tr>\n",
              "  </thead>\n",
              "  <tbody>\n",
              "    <tr>\n",
              "      <th>12</th>\n",
              "      <td>(0, 1, 2, 3, 4, 5, 6, 7, 8, 9, 10, 11)</td>\n",
              "      <td>[0.979803808424697, 0.9821016166281755, 0.9855...</td>\n",
              "      <td>0.98249</td>\n",
              "      <td>(fixed_acidity, volatile_acidity, citric_acid,...</td>\n",
              "      <td>0.00533</td>\n",
              "      <td>0.002368</td>\n",
              "      <td>0.001675</td>\n",
              "    </tr>\n",
              "    <tr>\n",
              "      <th>11</th>\n",
              "      <td>(1, 2, 3, 4, 5, 6, 7, 8, 9, 10, 11)</td>\n",
              "      <td>[0.983266012694749, 0.9855658198614319, 0.9844...</td>\n",
              "      <td>0.984414</td>\n",
              "      <td>(volatile_acidity, citric_acid, residual_sugar...</td>\n",
              "      <td>0.002113</td>\n",
              "      <td>0.000939</td>\n",
              "      <td>0.000664</td>\n",
              "    </tr>\n",
              "    <tr>\n",
              "      <th>10</th>\n",
              "      <td>(1, 2, 3, 4, 5, 6, 7, 8, 9, 11)</td>\n",
              "      <td>[0.9826889786497404, 0.9826789838337182, 0.987...</td>\n",
              "      <td>0.984222</td>\n",
              "      <td>(volatile_acidity, citric_acid, residual_sugar...</td>\n",
              "      <td>0.004895</td>\n",
              "      <td>0.002175</td>\n",
              "      <td>0.001538</td>\n",
              "    </tr>\n",
              "    <tr>\n",
              "      <th>9</th>\n",
              "      <td>(1, 3, 4, 5, 6, 7, 8, 9, 11)</td>\n",
              "      <td>[0.9838430467397576, 0.9878752886836027, 0.986...</td>\n",
              "      <td>0.986146</td>\n",
              "      <td>(volatile_acidity, residual_sugar, chlorides, ...</td>\n",
              "      <td>0.003815</td>\n",
              "      <td>0.001695</td>\n",
              "      <td>0.001199</td>\n",
              "    </tr>\n",
              "    <tr>\n",
              "      <th>8</th>\n",
              "      <td>(1, 3, 4, 5, 6, 7, 8, 9)</td>\n",
              "      <td>[0.9844200807847663, 0.9872979214780601, 0.985...</td>\n",
              "      <td>0.985761</td>\n",
              "      <td>(volatile_acidity, residual_sugar, chlorides, ...</td>\n",
              "      <td>0.002662</td>\n",
              "      <td>0.001183</td>\n",
              "      <td>0.000836</td>\n",
              "    </tr>\n",
              "    <tr>\n",
              "      <th>7</th>\n",
              "      <td>(1, 4, 5, 6, 7, 8, 9)</td>\n",
              "      <td>[0.9803808424697057, 0.9878752886836027, 0.987...</td>\n",
              "      <td>0.985185</td>\n",
              "      <td>(volatile_acidity, chlorides, free_sulfur_diox...</td>\n",
              "      <td>0.007662</td>\n",
              "      <td>0.003405</td>\n",
              "      <td>0.002408</td>\n",
              "    </tr>\n",
              "    <tr>\n",
              "      <th>6</th>\n",
              "      <td>(1, 4, 6, 7, 8, 9)</td>\n",
              "      <td>[0.981534910559723, 0.9849884526558892, 0.9878...</td>\n",
              "      <td>0.9848</td>\n",
              "      <td>(volatile_acidity, chlorides, total_sulfur_dio...</td>\n",
              "      <td>0.005833</td>\n",
              "      <td>0.002592</td>\n",
              "      <td>0.001833</td>\n",
              "    </tr>\n",
              "    <tr>\n",
              "      <th>5</th>\n",
              "      <td>(1, 4, 6, 7, 9)</td>\n",
              "      <td>[0.9821119446047317, 0.9861431870669746, 0.983...</td>\n",
              "      <td>0.98403</td>\n",
              "      <td>(volatile_acidity, chlorides, total_sulfur_dio...</td>\n",
              "      <td>0.003717</td>\n",
              "      <td>0.001652</td>\n",
              "      <td>0.001168</td>\n",
              "    </tr>\n",
              "    <tr>\n",
              "      <th>4</th>\n",
              "      <td>(1, 4, 6, 7)</td>\n",
              "      <td>[0.9821119446047317, 0.983256351039261, 0.9821...</td>\n",
              "      <td>0.98249</td>\n",
              "      <td>(volatile_acidity, chlorides, total_sulfur_dio...</td>\n",
              "      <td>0.00122</td>\n",
              "      <td>0.000542</td>\n",
              "      <td>0.000383</td>\n",
              "    </tr>\n",
              "    <tr>\n",
              "      <th>3</th>\n",
              "      <td>(1, 4, 6)</td>\n",
              "      <td>[0.9809578765147143, 0.98094688221709, 0.98036...</td>\n",
              "      <td>0.980758</td>\n",
              "      <td>(volatile_acidity, chlorides, total_sulfur_dio...</td>\n",
              "      <td>0.000618</td>\n",
              "      <td>0.000275</td>\n",
              "      <td>0.000194</td>\n",
              "    </tr>\n",
              "    <tr>\n",
              "      <th>2</th>\n",
              "      <td>(4, 6)</td>\n",
              "      <td>[0.96999422965955, 0.9636258660508084, 0.97690...</td>\n",
              "      <td>0.970175</td>\n",
              "      <td>(chlorides, total_sulfur_dioxide)</td>\n",
              "      <td>0.012203</td>\n",
              "      <td>0.005423</td>\n",
              "      <td>0.003835</td>\n",
              "    </tr>\n",
              "    <tr>\n",
              "      <th>1</th>\n",
              "      <td>(6,)</td>\n",
              "      <td>[0.927870744373918, 0.9133949191685913, 0.9255...</td>\n",
              "      <td>0.922262</td>\n",
              "      <td>(total_sulfur_dioxide,)</td>\n",
              "      <td>0.014274</td>\n",
              "      <td>0.006343</td>\n",
              "      <td>0.004485</td>\n",
              "    </tr>\n",
              "  </tbody>\n",
              "</table>\n",
              "</div>\n",
              "      <button class=\"colab-df-convert\" onclick=\"convertToInteractive('df-eb99717f-b533-401d-947c-e26a2707f3f9')\"\n",
              "              title=\"Convert this dataframe to an interactive table.\"\n",
              "              style=\"display:none;\">\n",
              "        \n",
              "  <svg xmlns=\"http://www.w3.org/2000/svg\" height=\"24px\"viewBox=\"0 0 24 24\"\n",
              "       width=\"24px\">\n",
              "    <path d=\"M0 0h24v24H0V0z\" fill=\"none\"/>\n",
              "    <path d=\"M18.56 5.44l.94 2.06.94-2.06 2.06-.94-2.06-.94-.94-2.06-.94 2.06-2.06.94zm-11 1L8.5 8.5l.94-2.06 2.06-.94-2.06-.94L8.5 2.5l-.94 2.06-2.06.94zm10 10l.94 2.06.94-2.06 2.06-.94-2.06-.94-.94-2.06-.94 2.06-2.06.94z\"/><path d=\"M17.41 7.96l-1.37-1.37c-.4-.4-.92-.59-1.43-.59-.52 0-1.04.2-1.43.59L10.3 9.45l-7.72 7.72c-.78.78-.78 2.05 0 2.83L4 21.41c.39.39.9.59 1.41.59.51 0 1.02-.2 1.41-.59l7.78-7.78 2.81-2.81c.8-.78.8-2.07 0-2.86zM5.41 20L4 18.59l7.72-7.72 1.47 1.35L5.41 20z\"/>\n",
              "  </svg>\n",
              "      </button>\n",
              "      \n",
              "  <style>\n",
              "    .colab-df-container {\n",
              "      display:flex;\n",
              "      flex-wrap:wrap;\n",
              "      gap: 12px;\n",
              "    }\n",
              "\n",
              "    .colab-df-convert {\n",
              "      background-color: #E8F0FE;\n",
              "      border: none;\n",
              "      border-radius: 50%;\n",
              "      cursor: pointer;\n",
              "      display: none;\n",
              "      fill: #1967D2;\n",
              "      height: 32px;\n",
              "      padding: 0 0 0 0;\n",
              "      width: 32px;\n",
              "    }\n",
              "\n",
              "    .colab-df-convert:hover {\n",
              "      background-color: #E2EBFA;\n",
              "      box-shadow: 0px 1px 2px rgba(60, 64, 67, 0.3), 0px 1px 3px 1px rgba(60, 64, 67, 0.15);\n",
              "      fill: #174EA6;\n",
              "    }\n",
              "\n",
              "    [theme=dark] .colab-df-convert {\n",
              "      background-color: #3B4455;\n",
              "      fill: #D2E3FC;\n",
              "    }\n",
              "\n",
              "    [theme=dark] .colab-df-convert:hover {\n",
              "      background-color: #434B5C;\n",
              "      box-shadow: 0px 1px 3px 1px rgba(0, 0, 0, 0.15);\n",
              "      filter: drop-shadow(0px 1px 2px rgba(0, 0, 0, 0.3));\n",
              "      fill: #FFFFFF;\n",
              "    }\n",
              "  </style>\n",
              "\n",
              "      <script>\n",
              "        const buttonEl =\n",
              "          document.querySelector('#df-eb99717f-b533-401d-947c-e26a2707f3f9 button.colab-df-convert');\n",
              "        buttonEl.style.display =\n",
              "          google.colab.kernel.accessAllowed ? 'block' : 'none';\n",
              "\n",
              "        async function convertToInteractive(key) {\n",
              "          const element = document.querySelector('#df-eb99717f-b533-401d-947c-e26a2707f3f9');\n",
              "          const dataTable =\n",
              "            await google.colab.kernel.invokeFunction('convertToInteractive',\n",
              "                                                     [key], {});\n",
              "          if (!dataTable) return;\n",
              "\n",
              "          const docLinkHtml = 'Like what you see? Visit the ' +\n",
              "            '<a target=\"_blank\" href=https://colab.research.google.com/notebooks/data_table.ipynb>data table notebook</a>'\n",
              "            + ' to learn more about interactive tables.';\n",
              "          element.innerHTML = '';\n",
              "          dataTable['output_type'] = 'display_data';\n",
              "          await google.colab.output.renderOutput(dataTable, element);\n",
              "          const docLink = document.createElement('div');\n",
              "          docLink.innerHTML = docLinkHtml;\n",
              "          element.appendChild(docLink);\n",
              "        }\n",
              "      </script>\n",
              "    </div>\n",
              "  </div>\n",
              "  "
            ]
          },
          "metadata": {},
          "execution_count": 155
        }
      ]
    },
    {
      "cell_type": "markdown",
      "source": [
        "Indices of Best features"
      ],
      "metadata": {
        "id": "z2NK3k_59uZO"
      }
    },
    {
      "cell_type": "code",
      "source": [
        "sfs.k_feature_idx_"
      ],
      "metadata": {
        "colab": {
          "base_uri": "https://localhost:8080/"
        },
        "id": "GNMoVSc89WoI",
        "outputId": "78fb0332-2d3f-4aec-cc5e-e80e6d25e40d"
      },
      "execution_count": 156,
      "outputs": [
        {
          "output_type": "execute_result",
          "data": {
            "text/plain": [
              "(1, 3, 4, 5, 6, 7, 8, 9, 11)"
            ]
          },
          "metadata": {},
          "execution_count": 156
        }
      ]
    },
    {
      "cell_type": "markdown",
      "source": [
        "Names of best features"
      ],
      "metadata": {
        "id": "Ic2idaWQ9y9R"
      }
    },
    {
      "cell_type": "code",
      "source": [
        "sfs.k_feature_names_"
      ],
      "metadata": {
        "colab": {
          "base_uri": "https://localhost:8080/"
        },
        "id": "4SOsXsZ19bA6",
        "outputId": "d1db63ed-5698-448b-cd9e-512313787cf6"
      },
      "execution_count": 157,
      "outputs": [
        {
          "output_type": "execute_result",
          "data": {
            "text/plain": [
              "('volatile_acidity',\n",
              " 'residual_sugar',\n",
              " 'chlorides',\n",
              " 'free_sulfur_dioxide',\n",
              " 'total_sulfur_dioxide',\n",
              " 'density',\n",
              " 'pH',\n",
              " 'sulphates',\n",
              " 'quality')"
            ]
          },
          "metadata": {},
          "execution_count": 157
        }
      ]
    },
    {
      "cell_type": "markdown",
      "source": [
        "Best Score"
      ],
      "metadata": {
        "id": "xrsN9BdO92sk"
      }
    },
    {
      "cell_type": "code",
      "source": [
        "sfs.k_score_"
      ],
      "metadata": {
        "colab": {
          "base_uri": "https://localhost:8080/"
        },
        "id": "C6ZrBBo79euZ",
        "outputId": "4cd7a87f-d146-4673-9f5d-18d07ba46f5b"
      },
      "execution_count": 158,
      "outputs": [
        {
          "output_type": "execute_result",
          "data": {
            "text/plain": [
              "0.9861462965652925"
            ]
          },
          "metadata": {},
          "execution_count": 158
        }
      ]
    },
    {
      "cell_type": "markdown",
      "source": [
        "Curve"
      ],
      "metadata": {
        "id": "Jpv-TJLd94UU"
      }
    },
    {
      "cell_type": "code",
      "source": [
        "fig1 = plot_sfs(sfs.get_metric_dict(), kind='std_dev')\n",
        "\n",
        "plt.ylim([0.8, 1])\n",
        "plt.title('Sequential Backward Selection (w. StdDev)')\n",
        "plt.grid()\n",
        "plt.show()"
      ],
      "metadata": {
        "colab": {
          "base_uri": "https://localhost:8080/",
          "height": 295
        },
        "id": "rOoJwHx19hzF",
        "outputId": "cf44f7d3-f62c-42c6-9dba-35417b5747d3"
      },
      "execution_count": 172,
      "outputs": [
        {
          "output_type": "display_data",
          "data": {
            "text/plain": [
              "<Figure size 432x288 with 1 Axes>"
            ],
            "image/png": "[encoded data removed]"
          },
          "metadata": {
            "needs_background": "light"
          }
        }
      ]
    },
    {
      "cell_type": "markdown",
      "source": [
        "Exhaustive Feature Selection"
      ],
      "metadata": {
        "id": "vlp7aek8_7Fu"
      }
    },
    {
      "cell_type": "code",
      "source": [
        "from mlxtend.feature_selection import ExhaustiveFeatureSelector as EFS"
      ],
      "metadata": {
        "id": "NTLHYVZq9lTp"
      },
      "execution_count": 160,
      "outputs": []
    },
    {
      "cell_type": "code",
      "source": [
        "efs = EFS(RF, min_features=2,max_features = 12,n_jobs = -1).fit(X_train,y_train)  "
      ],
      "metadata": {
        "colab": {
          "base_uri": "https://localhost:8080/"
        },
        "id": "E9FUBK8nAHoK",
        "outputId": "a6c5deeb-a1c0-4338-e7c3-90db69881db5"
      },
      "execution_count": 162,
      "outputs": [
        {
          "output_type": "stream",
          "name": "stderr",
          "text": [
            "Features: 4083/4083"
          ]
        }
      ]
    },
    {
      "cell_type": "code",
      "source": [
        "efs.best_score_"
      ],
      "metadata": {
        "colab": {
          "base_uri": "https://localhost:8080/"
        },
        "id": "Dt4K7_o2AhrG",
        "outputId": "1d1c14b7-2c7f-44b6-cf6b-3c627bc476b0"
      },
      "execution_count": 166,
      "outputs": [
        {
          "output_type": "execute_result",
          "data": {
            "text/plain": [
              "0.9867229954838234"
            ]
          },
          "metadata": {},
          "execution_count": 166
        }
      ]
    },
    {
      "cell_type": "code",
      "source": [
        "efs.best_feature_names_"
      ],
      "metadata": {
        "colab": {
          "base_uri": "https://localhost:8080/"
        },
        "id": "LN_ibuqiCUGC",
        "outputId": "5536fba2-be87-4f85-9b3d-7910838d1505"
      },
      "execution_count": 167,
      "outputs": [
        {
          "output_type": "execute_result",
          "data": {
            "text/plain": [
              "('volatile_acidity',\n",
              " 'residual_sugar',\n",
              " 'chlorides',\n",
              " 'total_sulfur_dioxide',\n",
              " 'density',\n",
              " 'alcohol',\n",
              " 'quality')"
            ]
          },
          "metadata": {},
          "execution_count": 167
        }
      ]
    },
    {
      "cell_type": "code",
      "source": [
        ""
      ],
      "metadata": {
        "id": "_cImZsbtChhG"
      },
      "execution_count": 171,
      "outputs": []
    },
    {
      "cell_type": "code",
      "source": [
        ""
      ],
      "metadata": {
        "id": "soIz_23uC87o"
      },
      "execution_count": null,
      "outputs": []
    }
  ]
}