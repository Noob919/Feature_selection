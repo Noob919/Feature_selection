{
  "nbformat": 4,
  "nbformat_minor": 0,
  "metadata": {
    "colab": {
      "name": "letter_recognition.ipynb",
      "provenance": [],
      "authorship_tag": "ABX9TyMZVs0k1h7tIp6afOTpbQ9r",
      "include_colab_link": true
    },
    "kernelspec": {
      "name": "python3",
      "display_name": "Python 3"
    },
    "language_info": {
      "name": "python"
    }
  },
  "cells": [
    {
      "cell_type": "markdown",
      "metadata": {
        "id": "view-in-github",
        "colab_type": "text"
      },
      "source": [
        "<a href=\"https://colab.research.google.com/github/Noob919/Feature_selection/blob/main/letter_recognition.ipynb\" target=\"_parent\"><img src=\"https://colab.research.google.com/assets/colab-badge.svg\" alt=\"Open In Colab\"/></a>"
      ]
    },
    {
      "cell_type": "code",
      "execution_count": 1,
      "metadata": {
        "id": "QTCFXtdAygRv"
      },
      "outputs": [],
      "source": [
        "import numpy as np\n",
        "import pandas as pd\n",
        "from sklearn.model_selection import cross_val_score\n",
        "from sklearn import preprocessing\n",
        "from sklearn.feature_selection  import chi2, SelectKBest,mutual_info_classif,SelectPercentile,f_classif\n",
        "from sklearn.inspection import permutation_importance\n",
        "from sklearn.model_selection import train_test_split\n",
        "from sklearn.tree import DecisionTreeClassifier\n",
        "from sklearn.linear_model import LogisticRegression\n",
        "from sklearn.ensemble import RandomForestClassifier\n",
        "from sklearn.preprocessing import LabelEncoder\n",
        "from sklearn.preprocessing import StandardScaler\n",
        "from sklearn.feature_selection import RFE\n",
        "from sklearn.svm import LinearSVC\n",
        "from sklearn.decomposition import PCA\n",
        "import matplotlib.pyplot as plt\n",
        "import seaborn as sns"
      ]
    },
    {
      "cell_type": "code",
      "source": [
        "df = pd.read_csv(\"/content/letter-recognition.csv\")\n",
        "df['letter'] = LabelEncoder().fit_transform(df['letter'])"
      ],
      "metadata": {
        "id": "hlc8B-2MynKG"
      },
      "execution_count": 38,
      "outputs": []
    },
    {
      "cell_type": "code",
      "source": [
        "X = df.drop(['letter'],axis =1)\n",
        "y = df['letter']"
      ],
      "metadata": {
        "id": "K1Bbjex0ysog"
      },
      "execution_count": 39,
      "outputs": []
    },
    {
      "cell_type": "code",
      "source": [
        "X_train, X_test, y_train, y_test = train_test_split(X, y, test_size=0.1, random_state=0)"
      ],
      "metadata": {
        "id": "_Z7nkQvQzwK3"
      },
      "execution_count": 13,
      "outputs": []
    },
    {
      "cell_type": "code",
      "source": [
        "test = SelectKBest(score_func=chi2, k=len(X.columns)).fit(X,y)\n",
        "np.set_printoptions(precision=3)\n",
        "score  =  test.scores_\n",
        "print(score)\n",
        "Y = X.columns\n",
        "sns.barplot(x  = score,y = Y )\n",
        "plt.xlabel('Importance Score')\n",
        "plt.ylabel('Features name')"
      ],
      "metadata": {
        "colab": {
          "base_uri": "https://localhost:8080/",
          "height": 348
        },
        "id": "1EsFyTq9yt47",
        "outputId": "9eb9087b-b02a-46e7-f19f-b1ce8e1f57ca"
      },
      "execution_count": 15,
      "outputs": [
        {
          "output_type": "stream",
          "name": "stdout",
          "text": [
            "[ 1580.694   129.155  2211.991   243.148  3334.956  3618.95   8573.86\n",
            " 10633.743 10616.813  4550.39  13050.963  5830.937 20533.825  3066.217\n",
            " 15886.779  1756.357]\n"
          ]
        },
        {
          "output_type": "execute_result",
          "data": {
            "text/plain": [
              "Text(0, 0.5, 'Features name')"
            ]
          },
          "metadata": {},
          "execution_count": 15
        },
        {
          "output_type": "display_data",
          "data": {
            "text/plain": [
              "<Figure size 432x288 with 1 Axes>"
            ],
            "image/png": "[encoded data removed]"
          },
          "metadata": {
            "needs_background": "light"
          }
        }
      ]
    },
    {
      "cell_type": "code",
      "source": [
        "rf = RandomForestClassifier(n_estimators=150)\n",
        "rf.fit(X_train, y_train)"
      ],
      "metadata": {
        "colab": {
          "base_uri": "https://localhost:8080/"
        },
        "id": "B-VHfIhuzbEI",
        "outputId": "8ad5b053-4630-4ba3-dba5-9bd9a87cb1aa"
      },
      "execution_count": 16,
      "outputs": [
        {
          "output_type": "execute_result",
          "data": {
            "text/plain": [
              "RandomForestClassifier(n_estimators=150)"
            ]
          },
          "metadata": {},
          "execution_count": 16
        }
      ]
    },
    {
      "cell_type": "code",
      "source": [
        "rf.feature_importances_"
      ],
      "metadata": {
        "colab": {
          "base_uri": "https://localhost:8080/"
        },
        "id": "mvO8m_H-zoB8",
        "outputId": "ce8db30b-1062-4238-c4ed-e512fd11ca97"
      },
      "execution_count": 17,
      "outputs": [
        {
          "output_type": "execute_result",
          "data": {
            "text/plain": [
              "array([0.022, 0.025, 0.022, 0.02 , 0.026, 0.051, 0.069, 0.085, 0.092,\n",
              "       0.074, 0.082, 0.085, 0.116, 0.073, 0.102, 0.055])"
            ]
          },
          "metadata": {},
          "execution_count": 17
        }
      ]
    },
    {
      "cell_type": "code",
      "source": [
        "sort = rf.feature_importances_\n",
        "plt.barh(X.columns, rf.feature_importances_)\n",
        "plt.xlabel(\"Feature Importance\")"
      ],
      "metadata": {
        "colab": {
          "base_uri": "https://localhost:8080/",
          "height": 296
        },
        "id": "mmZySR5fz_nw",
        "outputId": "8b3e4c47-056f-4ace-d489-8e549637481d"
      },
      "execution_count": 18,
      "outputs": [
        {
          "output_type": "execute_result",
          "data": {
            "text/plain": [
              "Text(0.5, 0, 'Feature Importance')"
            ]
          },
          "metadata": {},
          "execution_count": 18
        },
        {
          "output_type": "display_data",
          "data": {
            "text/plain": [
              "<Figure size 432x288 with 1 Axes>"
            ],
            "image/png": "[encoded data removed]"
          },
          "metadata": {
            "needs_background": "light"
          }
        }
      ]
    },
    {
      "cell_type": "code",
      "source": [
        "clf = LogisticRegression(solver = 'liblinear').fit(X_train, y_train)\n",
        "result = permutation_importance(clf, X, y, n_repeats=10, random_state=0)\n",
        "plt.barh(X.columns, result.importances_mean )\n",
        "plt.xlabel(\"Feature Importance MEAN\")"
      ],
      "metadata": {
        "colab": {
          "base_uri": "https://localhost:8080/",
          "height": 296
        },
        "id": "RgXOC1GB0CE2",
        "outputId": "36e6a0ef-44ee-4abc-a551-ec93c80e11f7"
      },
      "execution_count": 19,
      "outputs": [
        {
          "output_type": "execute_result",
          "data": {
            "text/plain": [
              "Text(0.5, 0, 'Feature Importance MEAN')"
            ]
          },
          "metadata": {},
          "execution_count": 19
        },
        {
          "output_type": "display_data",
          "data": {
            "text/plain": [
              "<Figure size 432x288 with 1 Axes>"
            ],
            "image/png": "[encoded data removed]"
          },
          "metadata": {
            "needs_background": "light"
          }
        }
      ]
    },
    {
      "cell_type": "code",
      "source": [
        "plt.barh(X.columns, result.importances_std)\n",
        "plt.xlabel(\"Feature Importance STD\")"
      ],
      "metadata": {
        "colab": {
          "base_uri": "https://localhost:8080/",
          "height": 296
        },
        "id": "zKVPjZyO0FnL",
        "outputId": "ce0648e8-7b7f-4579-9e26-987b6e76d161"
      },
      "execution_count": 20,
      "outputs": [
        {
          "output_type": "execute_result",
          "data": {
            "text/plain": [
              "Text(0.5, 0, 'Feature Importance STD')"
            ]
          },
          "metadata": {},
          "execution_count": 20
        },
        {
          "output_type": "display_data",
          "data": {
            "text/plain": [
              "<Figure size 432x288 with 1 Axes>"
            ],
            "image/png": "[encoded data removed]"
          },
          "metadata": {
            "needs_background": "light"
          }
        }
      ]
    },
    {
      "cell_type": "code",
      "source": [
        "pca = PCA().fit(X_train)\n",
        "plt.plot(pca.explained_variance_ratio_.cumsum(), lw=3, color='#087E8B')\n",
        "plt.title('Cumulative explained variance by number of principal components', size=5)\n",
        "plt.show()"
      ],
      "metadata": {
        "colab": {
          "base_uri": "https://localhost:8080/",
          "height": 275
        },
        "id": "R0g4f8N70NBy",
        "outputId": "57d4dc3a-4a2a-48f8-80e1-3191de137999"
      },
      "execution_count": 21,
      "outputs": [
        {
          "output_type": "display_data",
          "data": {
            "text/plain": [
              "<Figure size 432x288 with 1 Axes>"
            ],
            "image/png": "[encoded data removed]"
          },
          "metadata": {
            "needs_background": "light"
          }
        }
      ]
    },
    {
      "cell_type": "code",
      "source": [
        "loadings = pd.DataFrame(\n",
        "    data=pca.components_.T * np.sqrt(pca.explained_variance_), \n",
        "    columns=[f'PC{i}' for i in range(1, len(X.columns) + 1)],\n",
        "    index=X.columns\n",
        ")\n",
        "loadings.head()"
      ],
      "metadata": {
        "colab": {
          "base_uri": "https://localhost:8080/",
          "height": 270
        },
        "id": "5CRISbQx0SHz",
        "outputId": "664dc8ea-bf4c-442f-8d55-b36f382cf7fb"
      },
      "execution_count": 22,
      "outputs": [
        {
          "output_type": "execute_result",
          "data": {
            "text/plain": [
              "             PC1       PC2       PC3       PC4       PC5       PC6       PC7  \\\n",
              "xbox    1.659998  0.307547  0.045784 -0.046470  0.095956 -0.021139 -0.026350   \n",
              "ybox    2.968576  0.233917 -0.410068  0.030798  1.060918  0.108624  0.328258   \n",
              "width   1.740992  0.251936  0.024450 -0.235253 -0.225961 -0.251998 -0.004973   \n",
              "height  1.949541  0.085555  0.043497  0.293280  0.467560  0.100530  0.196002   \n",
              "onpix   1.790211 -0.123795  0.364041 -0.096006 -0.820198 -0.111289 -0.091439   \n",
              "\n",
              "             PC8       PC9      PC10      PC11      PC12      PC13      PC14  \\\n",
              "xbox   -0.377820 -0.086754 -0.268714 -0.315693  0.212143  0.163029 -0.523234   \n",
              "ybox    0.471235 -0.024994  0.035482 -0.423090 -0.373666  0.044482  0.176353   \n",
              "width  -0.463804  0.112513 -0.297025  0.208508  0.310987 -0.010868 -0.444131   \n",
              "height  0.467640  0.069143  0.231913  0.566659  0.204993 -0.130684  0.085049   \n",
              "onpix  -0.134291 -0.009776  0.155049  0.542684  0.188413 -0.135892  0.310975   \n",
              "\n",
              "            PC15      PC16  \n",
              "xbox    0.136780  0.350780  \n",
              "ybox   -0.250915 -0.055285  \n",
              "width  -0.151201 -0.359629  \n",
              "height  0.547347 -0.012535  \n",
              "onpix  -0.426882  0.209396  "
            ],
            "text/html": [
              "\n",
              "  <div id=\"df-b2864367-199d-456c-9f5d-ac22dfdcf0a1\">\n",
              "    <div class=\"colab-df-container\">\n",
              "      <div>\n",
              "<style scoped>\n",
              "    .dataframe tbody tr th:only-of-type {\n",
              "        vertical-align: middle;\n",
              "    }\n",
              "\n",
              "    .dataframe tbody tr th {\n",
              "        vertical-align: top;\n",
              "    }\n",
              "\n",
              "    .dataframe thead th {\n",
              "        text-align: right;\n",
              "    }\n",
              "</style>\n",
              "<table border=\"1\" class=\"dataframe\">\n",
              "  <thead>\n",
              "    <tr style=\"text-align: right;\">\n",
              "      <th></th>\n",
              "      <th>PC1</th>\n",
              "      <th>PC2</th>\n",
              "      <th>PC3</th>\n",
              "      <th>PC4</th>\n",
              "      <th>PC5</th>\n",
              "      <th>PC6</th>\n",
              "      <th>PC7</th>\n",
              "      <th>PC8</th>\n",
              "      <th>PC9</th>\n",
              "      <th>PC10</th>\n",
              "      <th>PC11</th>\n",
              "      <th>PC12</th>\n",
              "      <th>PC13</th>\n",
              "      <th>PC14</th>\n",
              "      <th>PC15</th>\n",
              "      <th>PC16</th>\n",
              "    </tr>\n",
              "  </thead>\n",
              "  <tbody>\n",
              "    <tr>\n",
              "      <th>xbox</th>\n",
              "      <td>1.659998</td>\n",
              "      <td>0.307547</td>\n",
              "      <td>0.045784</td>\n",
              "      <td>-0.046470</td>\n",
              "      <td>0.095956</td>\n",
              "      <td>-0.021139</td>\n",
              "      <td>-0.026350</td>\n",
              "      <td>-0.377820</td>\n",
              "      <td>-0.086754</td>\n",
              "      <td>-0.268714</td>\n",
              "      <td>-0.315693</td>\n",
              "      <td>0.212143</td>\n",
              "      <td>0.163029</td>\n",
              "      <td>-0.523234</td>\n",
              "      <td>0.136780</td>\n",
              "      <td>0.350780</td>\n",
              "    </tr>\n",
              "    <tr>\n",
              "      <th>ybox</th>\n",
              "      <td>2.968576</td>\n",
              "      <td>0.233917</td>\n",
              "      <td>-0.410068</td>\n",
              "      <td>0.030798</td>\n",
              "      <td>1.060918</td>\n",
              "      <td>0.108624</td>\n",
              "      <td>0.328258</td>\n",
              "      <td>0.471235</td>\n",
              "      <td>-0.024994</td>\n",
              "      <td>0.035482</td>\n",
              "      <td>-0.423090</td>\n",
              "      <td>-0.373666</td>\n",
              "      <td>0.044482</td>\n",
              "      <td>0.176353</td>\n",
              "      <td>-0.250915</td>\n",
              "      <td>-0.055285</td>\n",
              "    </tr>\n",
              "    <tr>\n",
              "      <th>width</th>\n",
              "      <td>1.740992</td>\n",
              "      <td>0.251936</td>\n",
              "      <td>0.024450</td>\n",
              "      <td>-0.235253</td>\n",
              "      <td>-0.225961</td>\n",
              "      <td>-0.251998</td>\n",
              "      <td>-0.004973</td>\n",
              "      <td>-0.463804</td>\n",
              "      <td>0.112513</td>\n",
              "      <td>-0.297025</td>\n",
              "      <td>0.208508</td>\n",
              "      <td>0.310987</td>\n",
              "      <td>-0.010868</td>\n",
              "      <td>-0.444131</td>\n",
              "      <td>-0.151201</td>\n",
              "      <td>-0.359629</td>\n",
              "    </tr>\n",
              "    <tr>\n",
              "      <th>height</th>\n",
              "      <td>1.949541</td>\n",
              "      <td>0.085555</td>\n",
              "      <td>0.043497</td>\n",
              "      <td>0.293280</td>\n",
              "      <td>0.467560</td>\n",
              "      <td>0.100530</td>\n",
              "      <td>0.196002</td>\n",
              "      <td>0.467640</td>\n",
              "      <td>0.069143</td>\n",
              "      <td>0.231913</td>\n",
              "      <td>0.566659</td>\n",
              "      <td>0.204993</td>\n",
              "      <td>-0.130684</td>\n",
              "      <td>0.085049</td>\n",
              "      <td>0.547347</td>\n",
              "      <td>-0.012535</td>\n",
              "    </tr>\n",
              "    <tr>\n",
              "      <th>onpix</th>\n",
              "      <td>1.790211</td>\n",
              "      <td>-0.123795</td>\n",
              "      <td>0.364041</td>\n",
              "      <td>-0.096006</td>\n",
              "      <td>-0.820198</td>\n",
              "      <td>-0.111289</td>\n",
              "      <td>-0.091439</td>\n",
              "      <td>-0.134291</td>\n",
              "      <td>-0.009776</td>\n",
              "      <td>0.155049</td>\n",
              "      <td>0.542684</td>\n",
              "      <td>0.188413</td>\n",
              "      <td>-0.135892</td>\n",
              "      <td>0.310975</td>\n",
              "      <td>-0.426882</td>\n",
              "      <td>0.209396</td>\n",
              "    </tr>\n",
              "  </tbody>\n",
              "</table>\n",
              "</div>\n",
              "      <button class=\"colab-df-convert\" onclick=\"convertToInteractive('df-b2864367-199d-456c-9f5d-ac22dfdcf0a1')\"\n",
              "              title=\"Convert this dataframe to an interactive table.\"\n",
              "              style=\"display:none;\">\n",
              "        \n",
              "  <svg xmlns=\"http://www.w3.org/2000/svg\" height=\"24px\"viewBox=\"0 0 24 24\"\n",
              "       width=\"24px\">\n",
              "    <path d=\"M0 0h24v24H0V0z\" fill=\"none\"/>\n",
              "    <path d=\"M18.56 5.44l.94 2.06.94-2.06 2.06-.94-2.06-.94-.94-2.06-.94 2.06-2.06.94zm-11 1L8.5 8.5l.94-2.06 2.06-.94-2.06-.94L8.5 2.5l-.94 2.06-2.06.94zm10 10l.94 2.06.94-2.06 2.06-.94-2.06-.94-.94-2.06-.94 2.06-2.06.94z\"/><path d=\"M17.41 7.96l-1.37-1.37c-.4-.4-.92-.59-1.43-.59-.52 0-1.04.2-1.43.59L10.3 9.45l-7.72 7.72c-.78.78-.78 2.05 0 2.83L4 21.41c.39.39.9.59 1.41.59.51 0 1.02-.2 1.41-.59l7.78-7.78 2.81-2.81c.8-.78.8-2.07 0-2.86zM5.41 20L4 18.59l7.72-7.72 1.47 1.35L5.41 20z\"/>\n",
              "  </svg>\n",
              "      </button>\n",
              "      \n",
              "  <style>\n",
              "    .colab-df-container {\n",
              "      display:flex;\n",
              "      flex-wrap:wrap;\n",
              "      gap: 12px;\n",
              "    }\n",
              "\n",
              "    .colab-df-convert {\n",
              "      background-color: #E8F0FE;\n",
              "      border: none;\n",
              "      border-radius: 50%;\n",
              "      cursor: pointer;\n",
              "      display: none;\n",
              "      fill: #1967D2;\n",
              "      height: 32px;\n",
              "      padding: 0 0 0 0;\n",
              "      width: 32px;\n",
              "    }\n",
              "\n",
              "    .colab-df-convert:hover {\n",
              "      background-color: #E2EBFA;\n",
              "      box-shadow: 0px 1px 2px rgba(60, 64, 67, 0.3), 0px 1px 3px 1px rgba(60, 64, 67, 0.15);\n",
              "      fill: #174EA6;\n",
              "    }\n",
              "\n",
              "    [theme=dark] .colab-df-convert {\n",
              "      background-color: #3B4455;\n",
              "      fill: #D2E3FC;\n",
              "    }\n",
              "\n",
              "    [theme=dark] .colab-df-convert:hover {\n",
              "      background-color: #434B5C;\n",
              "      box-shadow: 0px 1px 3px 1px rgba(0, 0, 0, 0.15);\n",
              "      filter: drop-shadow(0px 1px 2px rgba(0, 0, 0, 0.3));\n",
              "      fill: #FFFFFF;\n",
              "    }\n",
              "  </style>\n",
              "\n",
              "      <script>\n",
              "        const buttonEl =\n",
              "          document.querySelector('#df-b2864367-199d-456c-9f5d-ac22dfdcf0a1 button.colab-df-convert');\n",
              "        buttonEl.style.display =\n",
              "          google.colab.kernel.accessAllowed ? 'block' : 'none';\n",
              "\n",
              "        async function convertToInteractive(key) {\n",
              "          const element = document.querySelector('#df-b2864367-199d-456c-9f5d-ac22dfdcf0a1');\n",
              "          const dataTable =\n",
              "            await google.colab.kernel.invokeFunction('convertToInteractive',\n",
              "                                                     [key], {});\n",
              "          if (!dataTable) return;\n",
              "\n",
              "          const docLinkHtml = 'Like what you see? Visit the ' +\n",
              "            '<a target=\"_blank\" href=https://colab.research.google.com/notebooks/data_table.ipynb>data table notebook</a>'\n",
              "            + ' to learn more about interactive tables.';\n",
              "          element.innerHTML = '';\n",
              "          dataTable['output_type'] = 'display_data';\n",
              "          await google.colab.output.renderOutput(dataTable, element);\n",
              "          const docLink = document.createElement('div');\n",
              "          docLink.innerHTML = docLinkHtml;\n",
              "          element.appendChild(docLink);\n",
              "        }\n",
              "      </script>\n",
              "    </div>\n",
              "  </div>\n",
              "  "
            ]
          },
          "metadata": {},
          "execution_count": 22
        }
      ]
    },
    {
      "cell_type": "code",
      "source": [
        "pc1_loadings = loadings.sort_values(by='PC1', ascending=False)[['PC1']]\n",
        "pc1_loadings = pc1_loadings.reset_index()\n",
        "pc1_loadings.columns = ['Attribute', 'CorrelationWithPC1']\n",
        "\n",
        "plt.bar(x=pc1_loadings['Attribute'], height=pc1_loadings['CorrelationWithPC1'], color='#087E8B')\n",
        "plt.title('PCA loading scores (first principal component)', size=5)\n",
        "plt.xticks(rotation='vertical')\n",
        "plt.show()"
      ],
      "metadata": {
        "colab": {
          "base_uri": "https://localhost:8080/",
          "height": 302
        },
        "id": "O140vNTC0UaO",
        "outputId": "8a7dcf34-c052-479a-9df6-ec48a752e93c"
      },
      "execution_count": 23,
      "outputs": [
        {
          "output_type": "display_data",
          "data": {
            "text/plain": [
              "<Figure size 432x288 with 1 Axes>"
            ],
            "image/png": "[encoded data removed]"
          },
          "metadata": {
            "needs_background": "light"
          }
        }
      ]
    },
    {
      "cell_type": "code",
      "source": [
        "fs_fit_fscore = SelectKBest(f_classif, k=len(X.columns))\n",
        "fs_fit_fscore.fit_transform(X_train, y_train)\n",
        "fs_indices_fscore = np.argsort(np.nan_to_num(fs_fit_fscore.scores_))[::-1][0:len(X.columns)]\n",
        "fs_indices_fscore"
      ],
      "metadata": {
        "colab": {
          "base_uri": "https://localhost:8080/"
        },
        "id": "NMVQ7Acv0XmX",
        "outputId": "dbc3b8f6-78ad-4a4f-c2a5-f04a2bf80261"
      },
      "execution_count": 24,
      "outputs": [
        {
          "output_type": "execute_result",
          "data": {
            "text/plain": [
              "array([10,  6, 12, 13, 11,  8, 14,  7,  5,  9, 15,  2,  4,  0,  3,  1])"
            ]
          },
          "metadata": {},
          "execution_count": 24
        }
      ]
    },
    {
      "cell_type": "code",
      "source": [
        "best_features_fscore = df.columns[fs_indices_fscore].values\n",
        "print(best_features_fscore)\n",
        "feature_importances_fscore = fs_fit_fscore.scores_[fs_indices_fscore]\n",
        "print(feature_importances_fscore)"
      ],
      "metadata": {
        "colab": {
          "base_uri": "https://localhost:8080/"
        },
        "id": "XfldDex_0aem",
        "outputId": "97857f6d-ea81-40d1-e93f-e2926f69c34f"
      },
      "execution_count": 25,
      "outputs": [
        {
          "output_type": "stream",
          "name": "stdout",
          "text": [
            "['xybar ' 'xbar ' 'xy2bar' 'xedge ' 'x2ybar' 'x2bar' 'xedgey' 'ybar '\n",
            " 'onpix ' 'y2bar ' 'yedge ' 'ybox ' 'height' 'letter' 'width ' 'xbox ']\n",
            "[1100.119 1046.081  965.921  843.154  812.94   669.379  571.633  364.067\n",
            "  315.244  309.695  255.708  118.972   97.626   70.487    9.491    3.348]\n"
          ]
        }
      ]
    },
    {
      "cell_type": "code",
      "source": [
        "plt.barh(best_features_fscore, feature_importances_fscore)\n",
        "plt.xlabel('Imporatnce')\n",
        "plt.ylabel('Features')"
      ],
      "metadata": {
        "colab": {
          "base_uri": "https://localhost:8080/",
          "height": 296
        },
        "id": "wOZ4AwZl0dFV",
        "outputId": "79535e11-7bf8-4fc7-eea6-285835050af2"
      },
      "execution_count": 26,
      "outputs": [
        {
          "output_type": "execute_result",
          "data": {
            "text/plain": [
              "Text(0, 0.5, 'Features')"
            ]
          },
          "metadata": {},
          "execution_count": 26
        },
        {
          "output_type": "display_data",
          "data": {
            "text/plain": [
              "<Figure size 432x288 with 1 Axes>"
            ],
            "image/png": "[encoded data removed]"
          },
          "metadata": {
            "needs_background": "light"
          }
        }
      ]
    },
    {
      "cell_type": "code",
      "source": [
        "fs_fit_mutual_info = SelectKBest(mutual_info_classif, k=len(X.columns))\n",
        "fs_fit_mutual_info.fit_transform(X_train, y_train)\n",
        "fs_indices_mutual_info = np.argsort(fs_fit_mutual_info.scores_)[::-1][0:len(X.columns)]\n",
        "best_features_mutual_info = df.columns[fs_indices_mutual_info].values\n",
        "best_features_mutual_info"
      ],
      "metadata": {
        "colab": {
          "base_uri": "https://localhost:8080/"
        },
        "id": "9RZ4VuOt0fLa",
        "outputId": "6853f58c-ee2b-47db-fea9-ce07a97b60dd"
      },
      "execution_count": 27,
      "outputs": [
        {
          "output_type": "execute_result",
          "data": {
            "text/plain": [
              "array(['xy2bar', 'xybar ', 'xedge ', 'xbar ', 'xedgey', 'x2ybar', 'x2bar',\n",
              "       'ybar ', 'y2bar ', 'onpix ', 'yedge ', 'ybox ', 'height', 'letter',\n",
              "       'width ', 'xbox '], dtype=object)"
            ]
          },
          "metadata": {},
          "execution_count": 27
        }
      ]
    },
    {
      "cell_type": "code",
      "source": [
        "feature_importances_mutual_info = fs_fit_mutual_info.scores_[fs_indices_mutual_info]\n",
        "feature_importances_mutual_info"
      ],
      "metadata": {
        "colab": {
          "base_uri": "https://localhost:8080/"
        },
        "id": "udZst9gc0hEd",
        "outputId": "d99311c5-f287-4ada-e419-f5d6ac30b7f3"
      },
      "execution_count": 28,
      "outputs": [
        {
          "output_type": "execute_result",
          "data": {
            "text/plain": [
              "array([0.617, 0.583, 0.552, 0.549, 0.53 , 0.518, 0.495, 0.458, 0.406,\n",
              "       0.334, 0.265, 0.108, 0.091, 0.063, 0.02 , 0.008])"
            ]
          },
          "metadata": {},
          "execution_count": 28
        }
      ]
    },
    {
      "cell_type": "code",
      "source": [
        "plt.barh(best_features_mutual_info,feature_importances_mutual_info)\n",
        "plt.xlabel('Importance')\n",
        "plt.ylabel('Features')"
      ],
      "metadata": {
        "colab": {
          "base_uri": "https://localhost:8080/",
          "height": 296
        },
        "id": "UrK3NDY20jeM",
        "outputId": "81368d5b-a418-4481-87f8-17ee16c548e1"
      },
      "execution_count": 29,
      "outputs": [
        {
          "output_type": "execute_result",
          "data": {
            "text/plain": [
              "Text(0, 0.5, 'Features')"
            ]
          },
          "metadata": {},
          "execution_count": 29
        },
        {
          "output_type": "display_data",
          "data": {
            "text/plain": [
              "<Figure size 432x288 with 1 Axes>"
            ],
            "image/png": "[encoded data removed]"
          },
          "metadata": {
            "needs_background": "light"
          }
        }
      ]
    },
    {
      "cell_type": "code",
      "source": [
        "df_corr = df.corr()\n",
        "df_corr"
      ],
      "metadata": {
        "colab": {
          "base_uri": "https://localhost:8080/",
          "height": 646
        },
        "id": "sB_9kCDG0lSq",
        "outputId": "4496c3d5-e953-4331-fb98-13f37835fb64"
      },
      "execution_count": 40,
      "outputs": [
        {
          "output_type": "execute_result",
          "data": {
            "text/plain": [
              "          letter     xbox      ybox     width     height    onpix      xbar   \\\n",
              "letter  1.000000  0.105349  0.001547  0.096817  0.041672 -0.002665 -0.049637   \n",
              "xbox    0.105349  1.000000  0.757793  0.851514  0.672764  0.619097 -0.032595   \n",
              "ybox    0.001547  0.757793  1.000000  0.671912  0.823207  0.555067  0.045690   \n",
              "width   0.096817  0.851514  0.671912  1.000000  0.660215  0.765716  0.061959   \n",
              "height  0.041672  0.672764  0.823207  0.660215  1.000000  0.644366  0.042844   \n",
              "onpix  -0.002665  0.619097  0.555067  0.765716  0.644366  1.000000  0.139159   \n",
              "xbar   -0.049637 -0.032595  0.045690  0.061959  0.042844  0.139159  1.000000   \n",
              "ybar    0.308919  0.045545 -0.040925  0.024832 -0.020072 -0.028822 -0.356580   \n",
              "x2bar  -0.109954  0.014306 -0.025019 -0.098611  0.082383 -0.011985 -0.053306   \n",
              "y2bar   0.012275  0.052086  0.096478  0.057074  0.059032 -0.065557 -0.122851   \n",
              "xybar  -0.077303  0.148056  0.159954  0.115018  0.012458 -0.069776  0.085963   \n",
              "x2ybar  0.389421  0.035464 -0.054648  0.011694 -0.011991 -0.072941 -0.341957   \n",
              "xy2bar -0.140922 -0.046333 -0.007568 -0.045009  0.026386 -0.038858 -0.032115   \n",
              "xedge   0.095885  0.489155  0.274431  0.557251  0.265243  0.627507  0.144325   \n",
              "xedgey  0.336885  0.098180 -0.001336  0.045658  0.025359  0.017649 -0.253339   \n",
              "yedge  -0.056578  0.273504  0.230883  0.260285  0.297545  0.492653  0.127056   \n",
              "yedgex -0.183466 -0.105147 -0.042741 -0.118273 -0.018853 -0.062969  0.248816   \n",
              "\n",
              "           ybar      x2bar    y2bar     xybar     x2ybar    xy2bar    xedge   \\\n",
              "letter  0.308919 -0.109954  0.012275 -0.077303  0.389421 -0.140922  0.095885   \n",
              "xbox    0.045545  0.014306  0.052086  0.148056  0.035464 -0.046333  0.489155   \n",
              "ybox   -0.040925 -0.025019  0.096478  0.159954 -0.054648 -0.007568  0.274431   \n",
              "width   0.024832 -0.098611  0.057074  0.115018  0.011694 -0.045009  0.557251   \n",
              "height -0.020072  0.082383  0.059032  0.012458 -0.011991  0.026386  0.265243   \n",
              "onpix  -0.028822 -0.011985 -0.065557 -0.069776 -0.072941 -0.038858  0.627507   \n",
              "xbar   -0.356580 -0.053306 -0.122851  0.085963 -0.341957 -0.032115  0.144325   \n",
              "ybar    1.000000 -0.118625 -0.049658  0.178318  0.600397 -0.271649 -0.036722   \n",
              "x2bar  -0.118625  1.000000 -0.188431 -0.317780  0.042545  0.082020  0.142132   \n",
              "y2bar  -0.049658 -0.188431  1.000000  0.132000 -0.060116  0.119048 -0.384018   \n",
              "xybar   0.178318 -0.317780  0.132000  1.000000  0.057988 -0.106759 -0.175676   \n",
              "x2ybar  0.600397  0.042545 -0.060116  0.057988  1.000000  0.063214  0.053566   \n",
              "xy2bar -0.271649  0.082020  0.119048 -0.106759  0.063214  1.000000 -0.008753   \n",
              "xedge  -0.036722  0.142132 -0.384018 -0.175676  0.053566 -0.008753  1.000000   \n",
              "xedgey  0.555060 -0.084820 -0.052545  0.029419  0.527239 -0.184927  0.002849   \n",
              "yedge  -0.078008  0.006546  0.277540 -0.087019 -0.226251  0.049695  0.108411   \n",
              "yedgex -0.207900  0.182902 -0.061335 -0.114223 -0.236518  0.245808 -0.049789   \n",
              "\n",
              "          xedgey    yedge     yedgex  \n",
              "letter  0.336885 -0.056578 -0.183466  \n",
              "xbox    0.098180  0.273504 -0.105147  \n",
              "ybox   -0.001336  0.230883 -0.042741  \n",
              "width   0.045658  0.260285 -0.118273  \n",
              "height  0.025359  0.297545 -0.018853  \n",
              "onpix   0.017649  0.492653 -0.062969  \n",
              "xbar   -0.253339  0.127056  0.248816  \n",
              "ybar    0.555060 -0.078008 -0.207900  \n",
              "x2bar  -0.084820  0.006546  0.182902  \n",
              "y2bar  -0.052545  0.277540 -0.061335  \n",
              "xybar   0.029419 -0.087019 -0.114223  \n",
              "x2ybar  0.527239 -0.226251 -0.236518  \n",
              "xy2bar -0.184927  0.049695  0.245808  \n",
              "xedge   0.002849  0.108411 -0.049789  \n",
              "xedgey  1.000000 -0.064402 -0.187591  \n",
              "yedge  -0.064402  1.000000  0.143588  \n",
              "yedgex -0.187591  0.143588  1.000000  "
            ],
            "text/html": [
              "\n",
              "  <div id=\"df-972893e5-5ddc-4273-bb9d-0c9e32ef6a11\">\n",
              "    <div class=\"colab-df-container\">\n",
              "      <div>\n",
              "<style scoped>\n",
              "    .dataframe tbody tr th:only-of-type {\n",
              "        vertical-align: middle;\n",
              "    }\n",
              "\n",
              "    .dataframe tbody tr th {\n",
              "        vertical-align: top;\n",
              "    }\n",
              "\n",
              "    .dataframe thead th {\n",
              "        text-align: right;\n",
              "    }\n",
              "</style>\n",
              "<table border=\"1\" class=\"dataframe\">\n",
              "  <thead>\n",
              "    <tr style=\"text-align: right;\">\n",
              "      <th></th>\n",
              "      <th>letter</th>\n",
              "      <th>xbox</th>\n",
              "      <th>ybox</th>\n",
              "      <th>width</th>\n",
              "      <th>height</th>\n",
              "      <th>onpix</th>\n",
              "      <th>xbar</th>\n",
              "      <th>ybar</th>\n",
              "      <th>x2bar</th>\n",
              "      <th>y2bar</th>\n",
              "      <th>xybar</th>\n",
              "      <th>x2ybar</th>\n",
              "      <th>xy2bar</th>\n",
              "      <th>xedge</th>\n",
              "      <th>xedgey</th>\n",
              "      <th>yedge</th>\n",
              "      <th>yedgex</th>\n",
              "    </tr>\n",
              "  </thead>\n",
              "  <tbody>\n",
              "    <tr>\n",
              "      <th>letter</th>\n",
              "      <td>1.000000</td>\n",
              "      <td>0.105349</td>\n",
              "      <td>0.001547</td>\n",
              "      <td>0.096817</td>\n",
              "      <td>0.041672</td>\n",
              "      <td>-0.002665</td>\n",
              "      <td>-0.049637</td>\n",
              "      <td>0.308919</td>\n",
              "      <td>-0.109954</td>\n",
              "      <td>0.012275</td>\n",
              "      <td>-0.077303</td>\n",
              "      <td>0.389421</td>\n",
              "      <td>-0.140922</td>\n",
              "      <td>0.095885</td>\n",
              "      <td>0.336885</td>\n",
              "      <td>-0.056578</td>\n",
              "      <td>-0.183466</td>\n",
              "    </tr>\n",
              "    <tr>\n",
              "      <th>xbox</th>\n",
              "      <td>0.105349</td>\n",
              "      <td>1.000000</td>\n",
              "      <td>0.757793</td>\n",
              "      <td>0.851514</td>\n",
              "      <td>0.672764</td>\n",
              "      <td>0.619097</td>\n",
              "      <td>-0.032595</td>\n",
              "      <td>0.045545</td>\n",
              "      <td>0.014306</td>\n",
              "      <td>0.052086</td>\n",
              "      <td>0.148056</td>\n",
              "      <td>0.035464</td>\n",
              "      <td>-0.046333</td>\n",
              "      <td>0.489155</td>\n",
              "      <td>0.098180</td>\n",
              "      <td>0.273504</td>\n",
              "      <td>-0.105147</td>\n",
              "    </tr>\n",
              "    <tr>\n",
              "      <th>ybox</th>\n",
              "      <td>0.001547</td>\n",
              "      <td>0.757793</td>\n",
              "      <td>1.000000</td>\n",
              "      <td>0.671912</td>\n",
              "      <td>0.823207</td>\n",
              "      <td>0.555067</td>\n",
              "      <td>0.045690</td>\n",
              "      <td>-0.040925</td>\n",
              "      <td>-0.025019</td>\n",
              "      <td>0.096478</td>\n",
              "      <td>0.159954</td>\n",
              "      <td>-0.054648</td>\n",
              "      <td>-0.007568</td>\n",
              "      <td>0.274431</td>\n",
              "      <td>-0.001336</td>\n",
              "      <td>0.230883</td>\n",
              "      <td>-0.042741</td>\n",
              "    </tr>\n",
              "    <tr>\n",
              "      <th>width</th>\n",
              "      <td>0.096817</td>\n",
              "      <td>0.851514</td>\n",
              "      <td>0.671912</td>\n",
              "      <td>1.000000</td>\n",
              "      <td>0.660215</td>\n",
              "      <td>0.765716</td>\n",
              "      <td>0.061959</td>\n",
              "      <td>0.024832</td>\n",
              "      <td>-0.098611</td>\n",
              "      <td>0.057074</td>\n",
              "      <td>0.115018</td>\n",
              "      <td>0.011694</td>\n",
              "      <td>-0.045009</td>\n",
              "      <td>0.557251</td>\n",
              "      <td>0.045658</td>\n",
              "      <td>0.260285</td>\n",
              "      <td>-0.118273</td>\n",
              "    </tr>\n",
              "    <tr>\n",
              "      <th>height</th>\n",
              "      <td>0.041672</td>\n",
              "      <td>0.672764</td>\n",
              "      <td>0.823207</td>\n",
              "      <td>0.660215</td>\n",
              "      <td>1.000000</td>\n",
              "      <td>0.644366</td>\n",
              "      <td>0.042844</td>\n",
              "      <td>-0.020072</td>\n",
              "      <td>0.082383</td>\n",
              "      <td>0.059032</td>\n",
              "      <td>0.012458</td>\n",
              "      <td>-0.011991</td>\n",
              "      <td>0.026386</td>\n",
              "      <td>0.265243</td>\n",
              "      <td>0.025359</td>\n",
              "      <td>0.297545</td>\n",
              "      <td>-0.018853</td>\n",
              "    </tr>\n",
              "    <tr>\n",
              "      <th>onpix</th>\n",
              "      <td>-0.002665</td>\n",
              "      <td>0.619097</td>\n",
              "      <td>0.555067</td>\n",
              "      <td>0.765716</td>\n",
              "      <td>0.644366</td>\n",
              "      <td>1.000000</td>\n",
              "      <td>0.139159</td>\n",
              "      <td>-0.028822</td>\n",
              "      <td>-0.011985</td>\n",
              "      <td>-0.065557</td>\n",
              "      <td>-0.069776</td>\n",
              "      <td>-0.072941</td>\n",
              "      <td>-0.038858</td>\n",
              "      <td>0.627507</td>\n",
              "      <td>0.017649</td>\n",
              "      <td>0.492653</td>\n",
              "      <td>-0.062969</td>\n",
              "    </tr>\n",
              "    <tr>\n",
              "      <th>xbar</th>\n",
              "      <td>-0.049637</td>\n",
              "      <td>-0.032595</td>\n",
              "      <td>0.045690</td>\n",
              "      <td>0.061959</td>\n",
              "      <td>0.042844</td>\n",
              "      <td>0.139159</td>\n",
              "      <td>1.000000</td>\n",
              "      <td>-0.356580</td>\n",
              "      <td>-0.053306</td>\n",
              "      <td>-0.122851</td>\n",
              "      <td>0.085963</td>\n",
              "      <td>-0.341957</td>\n",
              "      <td>-0.032115</td>\n",
              "      <td>0.144325</td>\n",
              "      <td>-0.253339</td>\n",
              "      <td>0.127056</td>\n",
              "      <td>0.248816</td>\n",
              "    </tr>\n",
              "    <tr>\n",
              "      <th>ybar</th>\n",
              "      <td>0.308919</td>\n",
              "      <td>0.045545</td>\n",
              "      <td>-0.040925</td>\n",
              "      <td>0.024832</td>\n",
              "      <td>-0.020072</td>\n",
              "      <td>-0.028822</td>\n",
              "      <td>-0.356580</td>\n",
              "      <td>1.000000</td>\n",
              "      <td>-0.118625</td>\n",
              "      <td>-0.049658</td>\n",
              "      <td>0.178318</td>\n",
              "      <td>0.600397</td>\n",
              "      <td>-0.271649</td>\n",
              "      <td>-0.036722</td>\n",
              "      <td>0.555060</td>\n",
              "      <td>-0.078008</td>\n",
              "      <td>-0.207900</td>\n",
              "    </tr>\n",
              "    <tr>\n",
              "      <th>x2bar</th>\n",
              "      <td>-0.109954</td>\n",
              "      <td>0.014306</td>\n",
              "      <td>-0.025019</td>\n",
              "      <td>-0.098611</td>\n",
              "      <td>0.082383</td>\n",
              "      <td>-0.011985</td>\n",
              "      <td>-0.053306</td>\n",
              "      <td>-0.118625</td>\n",
              "      <td>1.000000</td>\n",
              "      <td>-0.188431</td>\n",
              "      <td>-0.317780</td>\n",
              "      <td>0.042545</td>\n",
              "      <td>0.082020</td>\n",
              "      <td>0.142132</td>\n",
              "      <td>-0.084820</td>\n",
              "      <td>0.006546</td>\n",
              "      <td>0.182902</td>\n",
              "    </tr>\n",
              "    <tr>\n",
              "      <th>y2bar</th>\n",
              "      <td>0.012275</td>\n",
              "      <td>0.052086</td>\n",
              "      <td>0.096478</td>\n",
              "      <td>0.057074</td>\n",
              "      <td>0.059032</td>\n",
              "      <td>-0.065557</td>\n",
              "      <td>-0.122851</td>\n",
              "      <td>-0.049658</td>\n",
              "      <td>-0.188431</td>\n",
              "      <td>1.000000</td>\n",
              "      <td>0.132000</td>\n",
              "      <td>-0.060116</td>\n",
              "      <td>0.119048</td>\n",
              "      <td>-0.384018</td>\n",
              "      <td>-0.052545</td>\n",
              "      <td>0.277540</td>\n",
              "      <td>-0.061335</td>\n",
              "    </tr>\n",
              "    <tr>\n",
              "      <th>xybar</th>\n",
              "      <td>-0.077303</td>\n",
              "      <td>0.148056</td>\n",
              "      <td>0.159954</td>\n",
              "      <td>0.115018</td>\n",
              "      <td>0.012458</td>\n",
              "      <td>-0.069776</td>\n",
              "      <td>0.085963</td>\n",
              "      <td>0.178318</td>\n",
              "      <td>-0.317780</td>\n",
              "      <td>0.132000</td>\n",
              "      <td>1.000000</td>\n",
              "      <td>0.057988</td>\n",
              "      <td>-0.106759</td>\n",
              "      <td>-0.175676</td>\n",
              "      <td>0.029419</td>\n",
              "      <td>-0.087019</td>\n",
              "      <td>-0.114223</td>\n",
              "    </tr>\n",
              "    <tr>\n",
              "      <th>x2ybar</th>\n",
              "      <td>0.389421</td>\n",
              "      <td>0.035464</td>\n",
              "      <td>-0.054648</td>\n",
              "      <td>0.011694</td>\n",
              "      <td>-0.011991</td>\n",
              "      <td>-0.072941</td>\n",
              "      <td>-0.341957</td>\n",
              "      <td>0.600397</td>\n",
              "      <td>0.042545</td>\n",
              "      <td>-0.060116</td>\n",
              "      <td>0.057988</td>\n",
              "      <td>1.000000</td>\n",
              "      <td>0.063214</td>\n",
              "      <td>0.053566</td>\n",
              "      <td>0.527239</td>\n",
              "      <td>-0.226251</td>\n",
              "      <td>-0.236518</td>\n",
              "    </tr>\n",
              "    <tr>\n",
              "      <th>xy2bar</th>\n",
              "      <td>-0.140922</td>\n",
              "      <td>-0.046333</td>\n",
              "      <td>-0.007568</td>\n",
              "      <td>-0.045009</td>\n",
              "      <td>0.026386</td>\n",
              "      <td>-0.038858</td>\n",
              "      <td>-0.032115</td>\n",
              "      <td>-0.271649</td>\n",
              "      <td>0.082020</td>\n",
              "      <td>0.119048</td>\n",
              "      <td>-0.106759</td>\n",
              "      <td>0.063214</td>\n",
              "      <td>1.000000</td>\n",
              "      <td>-0.008753</td>\n",
              "      <td>-0.184927</td>\n",
              "      <td>0.049695</td>\n",
              "      <td>0.245808</td>\n",
              "    </tr>\n",
              "    <tr>\n",
              "      <th>xedge</th>\n",
              "      <td>0.095885</td>\n",
              "      <td>0.489155</td>\n",
              "      <td>0.274431</td>\n",
              "      <td>0.557251</td>\n",
              "      <td>0.265243</td>\n",
              "      <td>0.627507</td>\n",
              "      <td>0.144325</td>\n",
              "      <td>-0.036722</td>\n",
              "      <td>0.142132</td>\n",
              "      <td>-0.384018</td>\n",
              "      <td>-0.175676</td>\n",
              "      <td>0.053566</td>\n",
              "      <td>-0.008753</td>\n",
              "      <td>1.000000</td>\n",
              "      <td>0.002849</td>\n",
              "      <td>0.108411</td>\n",
              "      <td>-0.049789</td>\n",
              "    </tr>\n",
              "    <tr>\n",
              "      <th>xedgey</th>\n",
              "      <td>0.336885</td>\n",
              "      <td>0.098180</td>\n",
              "      <td>-0.001336</td>\n",
              "      <td>0.045658</td>\n",
              "      <td>0.025359</td>\n",
              "      <td>0.017649</td>\n",
              "      <td>-0.253339</td>\n",
              "      <td>0.555060</td>\n",
              "      <td>-0.084820</td>\n",
              "      <td>-0.052545</td>\n",
              "      <td>0.029419</td>\n",
              "      <td>0.527239</td>\n",
              "      <td>-0.184927</td>\n",
              "      <td>0.002849</td>\n",
              "      <td>1.000000</td>\n",
              "      <td>-0.064402</td>\n",
              "      <td>-0.187591</td>\n",
              "    </tr>\n",
              "    <tr>\n",
              "      <th>yedge</th>\n",
              "      <td>-0.056578</td>\n",
              "      <td>0.273504</td>\n",
              "      <td>0.230883</td>\n",
              "      <td>0.260285</td>\n",
              "      <td>0.297545</td>\n",
              "      <td>0.492653</td>\n",
              "      <td>0.127056</td>\n",
              "      <td>-0.078008</td>\n",
              "      <td>0.006546</td>\n",
              "      <td>0.277540</td>\n",
              "      <td>-0.087019</td>\n",
              "      <td>-0.226251</td>\n",
              "      <td>0.049695</td>\n",
              "      <td>0.108411</td>\n",
              "      <td>-0.064402</td>\n",
              "      <td>1.000000</td>\n",
              "      <td>0.143588</td>\n",
              "    </tr>\n",
              "    <tr>\n",
              "      <th>yedgex</th>\n",
              "      <td>-0.183466</td>\n",
              "      <td>-0.105147</td>\n",
              "      <td>-0.042741</td>\n",
              "      <td>-0.118273</td>\n",
              "      <td>-0.018853</td>\n",
              "      <td>-0.062969</td>\n",
              "      <td>0.248816</td>\n",
              "      <td>-0.207900</td>\n",
              "      <td>0.182902</td>\n",
              "      <td>-0.061335</td>\n",
              "      <td>-0.114223</td>\n",
              "      <td>-0.236518</td>\n",
              "      <td>0.245808</td>\n",
              "      <td>-0.049789</td>\n",
              "      <td>-0.187591</td>\n",
              "      <td>0.143588</td>\n",
              "      <td>1.000000</td>\n",
              "    </tr>\n",
              "  </tbody>\n",
              "</table>\n",
              "</div>\n",
              "      <button class=\"colab-df-convert\" onclick=\"convertToInteractive('df-972893e5-5ddc-4273-bb9d-0c9e32ef6a11')\"\n",
              "              title=\"Convert this dataframe to an interactive table.\"\n",
              "              style=\"display:none;\">\n",
              "        \n",
              "  <svg xmlns=\"http://www.w3.org/2000/svg\" height=\"24px\"viewBox=\"0 0 24 24\"\n",
              "       width=\"24px\">\n",
              "    <path d=\"M0 0h24v24H0V0z\" fill=\"none\"/>\n",
              "    <path d=\"M18.56 5.44l.94 2.06.94-2.06 2.06-.94-2.06-.94-.94-2.06-.94 2.06-2.06.94zm-11 1L8.5 8.5l.94-2.06 2.06-.94-2.06-.94L8.5 2.5l-.94 2.06-2.06.94zm10 10l.94 2.06.94-2.06 2.06-.94-2.06-.94-.94-2.06-.94 2.06-2.06.94z\"/><path d=\"M17.41 7.96l-1.37-1.37c-.4-.4-.92-.59-1.43-.59-.52 0-1.04.2-1.43.59L10.3 9.45l-7.72 7.72c-.78.78-.78 2.05 0 2.83L4 21.41c.39.39.9.59 1.41.59.51 0 1.02-.2 1.41-.59l7.78-7.78 2.81-2.81c.8-.78.8-2.07 0-2.86zM5.41 20L4 18.59l7.72-7.72 1.47 1.35L5.41 20z\"/>\n",
              "  </svg>\n",
              "      </button>\n",
              "      \n",
              "  <style>\n",
              "    .colab-df-container {\n",
              "      display:flex;\n",
              "      flex-wrap:wrap;\n",
              "      gap: 12px;\n",
              "    }\n",
              "\n",
              "    .colab-df-convert {\n",
              "      background-color: #E8F0FE;\n",
              "      border: none;\n",
              "      border-radius: 50%;\n",
              "      cursor: pointer;\n",
              "      display: none;\n",
              "      fill: #1967D2;\n",
              "      height: 32px;\n",
              "      padding: 0 0 0 0;\n",
              "      width: 32px;\n",
              "    }\n",
              "\n",
              "    .colab-df-convert:hover {\n",
              "      background-color: #E2EBFA;\n",
              "      box-shadow: 0px 1px 2px rgba(60, 64, 67, 0.3), 0px 1px 3px 1px rgba(60, 64, 67, 0.15);\n",
              "      fill: #174EA6;\n",
              "    }\n",
              "\n",
              "    [theme=dark] .colab-df-convert {\n",
              "      background-color: #3B4455;\n",
              "      fill: #D2E3FC;\n",
              "    }\n",
              "\n",
              "    [theme=dark] .colab-df-convert:hover {\n",
              "      background-color: #434B5C;\n",
              "      box-shadow: 0px 1px 3px 1px rgba(0, 0, 0, 0.15);\n",
              "      filter: drop-shadow(0px 1px 2px rgba(0, 0, 0, 0.3));\n",
              "      fill: #FFFFFF;\n",
              "    }\n",
              "  </style>\n",
              "\n",
              "      <script>\n",
              "        const buttonEl =\n",
              "          document.querySelector('#df-972893e5-5ddc-4273-bb9d-0c9e32ef6a11 button.colab-df-convert');\n",
              "        buttonEl.style.display =\n",
              "          google.colab.kernel.accessAllowed ? 'block' : 'none';\n",
              "\n",
              "        async function convertToInteractive(key) {\n",
              "          const element = document.querySelector('#df-972893e5-5ddc-4273-bb9d-0c9e32ef6a11');\n",
              "          const dataTable =\n",
              "            await google.colab.kernel.invokeFunction('convertToInteractive',\n",
              "                                                     [key], {});\n",
              "          if (!dataTable) return;\n",
              "\n",
              "          const docLinkHtml = 'Like what you see? Visit the ' +\n",
              "            '<a target=\"_blank\" href=https://colab.research.google.com/notebooks/data_table.ipynb>data table notebook</a>'\n",
              "            + ' to learn more about interactive tables.';\n",
              "          element.innerHTML = '';\n",
              "          dataTable['output_type'] = 'display_data';\n",
              "          await google.colab.output.renderOutput(dataTable, element);\n",
              "          const docLink = document.createElement('div');\n",
              "          docLink.innerHTML = docLinkHtml;\n",
              "          element.appendChild(docLink);\n",
              "        }\n",
              "      </script>\n",
              "    </div>\n",
              "  </div>\n",
              "  "
            ]
          },
          "metadata": {},
          "execution_count": 40
        }
      ]
    },
    {
      "cell_type": "code",
      "source": [
        "print(abs(df_corr['letter']))"
      ],
      "metadata": {
        "colab": {
          "base_uri": "https://localhost:8080/"
        },
        "id": "KrmOgFs90pcd",
        "outputId": "e9e31d0b-a655-482e-e925-1bdd5d0d28a8"
      },
      "execution_count": 41,
      "outputs": [
        {
          "output_type": "stream",
          "name": "stdout",
          "text": [
            "letter    1.000000\n",
            "xbox      0.105349\n",
            "ybox      0.001547\n",
            "width     0.096817\n",
            "height    0.041672\n",
            "onpix     0.002665\n",
            "xbar      0.049637\n",
            "ybar      0.308919\n",
            "x2bar     0.109954\n",
            "y2bar     0.012275\n",
            "xybar     0.077303\n",
            "x2ybar    0.389421\n",
            "xy2bar    0.140922\n",
            "xedge     0.095885\n",
            "xedgey    0.336885\n",
            "yedge     0.056578\n",
            "yedgex    0.183466\n",
            "Name: letter, dtype: float64\n"
          ]
        }
      ]
    },
    {
      "cell_type": "code",
      "source": [
        ""
      ],
      "metadata": {
        "id": "B33oIrrb0rM9"
      },
      "execution_count": null,
      "outputs": []
    }
  ]
}