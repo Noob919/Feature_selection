{
  "nbformat": 4,
  "nbformat_minor": 0,
  "metadata": {
    "colab": {
      "name": "German_credit_card_risk.ipynb",
      "provenance": [],
      "authorship_tag": "ABX9TyPrldcEQD7f+zoFwuJqe/y5",
      "include_colab_link": true
    },
    "kernelspec": {
      "name": "python3",
      "display_name": "Python 3"
    },
    "language_info": {
      "name": "python"
    }
  },
  "cells": [
    {
      "cell_type": "markdown",
      "metadata": {
        "id": "view-in-github",
        "colab_type": "text"
      },
      "source": [
        "<a href=\"https://colab.research.google.com/github/Noob919/Feature_selection/blob/main/German_credit_card_risk.ipynb\" target=\"_parent\"><img src=\"https://colab.research.google.com/assets/colab-badge.svg\" alt=\"Open In Colab\"/></a>"
      ]
    },
    {
      "cell_type": "code",
      "execution_count": 1,
      "metadata": {
        "id": "wcIVlauhnP9s"
      },
      "outputs": [],
      "source": [
        "import numpy as np\n",
        "import pandas as pd\n",
        "from sklearn.model_selection import cross_val_score\n",
        "from sklearn import preprocessing\n",
        "from sklearn.feature_selection  import chi2, SelectKBest,mutual_info_classif,SelectPercentile,f_classif\n",
        "from sklearn.inspection import permutation_importance\n",
        "from sklearn.model_selection import train_test_split\n",
        "from sklearn.tree import DecisionTreeClassifier\n",
        "from sklearn.linear_model import LogisticRegression\n",
        "from sklearn.ensemble import RandomForestClassifier\n",
        "from sklearn.preprocessing import LabelEncoder\n",
        "from sklearn.preprocessing import StandardScaler\n",
        "from sklearn.feature_selection import RFE\n",
        "from sklearn.svm import LinearSVC\n",
        "from sklearn.decomposition import PCA\n",
        "import matplotlib.pyplot as plt\n",
        "import seaborn as sns"
      ]
    },
    {
      "cell_type": "code",
      "source": [
        "df = pd.read_csv(\"/content/Credit.csv\")"
      ],
      "metadata": {
        "id": "dexYFpULnQ10"
      },
      "execution_count": 25,
      "outputs": []
    },
    {
      "cell_type": "code",
      "source": [
        "df_new =  df.drop(['Unnamed: 0'], axis =1 )\n",
        "df_new.head(1)"
      ],
      "metadata": {
        "colab": {
          "base_uri": "https://localhost:8080/",
          "height": 162
        },
        "id": "Y2uWac6rnXjy",
        "outputId": "f29b12c0-4e1e-460c-d805-4ffb6013d3cf"
      },
      "execution_count": 26,
      "outputs": [
        {
          "output_type": "execute_result",
          "data": {
            "text/plain": [
              "   Default checkingstatus1  duration   history       purpose  amount  savings  \\\n",
              "0        0            <DM0         6  terrible  goods/repair    1169  DM0-100   \n",
              "\n",
              "    employ  installment   sex  residence  age housing  cards  liable tele  \\\n",
              "0  7+years            4  male          4   67     own      2       1  yes   \n",
              "\n",
              "   foreign  \n",
              "0  foreign  "
            ],
            "text/html": [
              "\n",
              "  <div id=\"df-1ff641ae-7fb8-41f6-929f-99089e2e3798\">\n",
              "    <div class=\"colab-df-container\">\n",
              "      <div>\n",
              "<style scoped>\n",
              "    .dataframe tbody tr th:only-of-type {\n",
              "        vertical-align: middle;\n",
              "    }\n",
              "\n",
              "    .dataframe tbody tr th {\n",
              "        vertical-align: top;\n",
              "    }\n",
              "\n",
              "    .dataframe thead th {\n",
              "        text-align: right;\n",
              "    }\n",
              "</style>\n",
              "<table border=\"1\" class=\"dataframe\">\n",
              "  <thead>\n",
              "    <tr style=\"text-align: right;\">\n",
              "      <th></th>\n",
              "      <th>Default</th>\n",
              "      <th>checkingstatus1</th>\n",
              "      <th>duration</th>\n",
              "      <th>history</th>\n",
              "      <th>purpose</th>\n",
              "      <th>amount</th>\n",
              "      <th>savings</th>\n",
              "      <th>employ</th>\n",
              "      <th>installment</th>\n",
              "      <th>sex</th>\n",
              "      <th>residence</th>\n",
              "      <th>age</th>\n",
              "      <th>housing</th>\n",
              "      <th>cards</th>\n",
              "      <th>liable</th>\n",
              "      <th>tele</th>\n",
              "      <th>foreign</th>\n",
              "    </tr>\n",
              "  </thead>\n",
              "  <tbody>\n",
              "    <tr>\n",
              "      <th>0</th>\n",
              "      <td>0</td>\n",
              "      <td>&lt;DM0</td>\n",
              "      <td>6</td>\n",
              "      <td>terrible</td>\n",
              "      <td>goods/repair</td>\n",
              "      <td>1169</td>\n",
              "      <td>DM0-100</td>\n",
              "      <td>7+years</td>\n",
              "      <td>4</td>\n",
              "      <td>male</td>\n",
              "      <td>4</td>\n",
              "      <td>67</td>\n",
              "      <td>own</td>\n",
              "      <td>2</td>\n",
              "      <td>1</td>\n",
              "      <td>yes</td>\n",
              "      <td>foreign</td>\n",
              "    </tr>\n",
              "  </tbody>\n",
              "</table>\n",
              "</div>\n",
              "      <button class=\"colab-df-convert\" onclick=\"convertToInteractive('df-1ff641ae-7fb8-41f6-929f-99089e2e3798')\"\n",
              "              title=\"Convert this dataframe to an interactive table.\"\n",
              "              style=\"display:none;\">\n",
              "        \n",
              "  <svg xmlns=\"http://www.w3.org/2000/svg\" height=\"24px\"viewBox=\"0 0 24 24\"\n",
              "       width=\"24px\">\n",
              "    <path d=\"M0 0h24v24H0V0z\" fill=\"none\"/>\n",
              "    <path d=\"M18.56 5.44l.94 2.06.94-2.06 2.06-.94-2.06-.94-.94-2.06-.94 2.06-2.06.94zm-11 1L8.5 8.5l.94-2.06 2.06-.94-2.06-.94L8.5 2.5l-.94 2.06-2.06.94zm10 10l.94 2.06.94-2.06 2.06-.94-2.06-.94-.94-2.06-.94 2.06-2.06.94z\"/><path d=\"M17.41 7.96l-1.37-1.37c-.4-.4-.92-.59-1.43-.59-.52 0-1.04.2-1.43.59L10.3 9.45l-7.72 7.72c-.78.78-.78 2.05 0 2.83L4 21.41c.39.39.9.59 1.41.59.51 0 1.02-.2 1.41-.59l7.78-7.78 2.81-2.81c.8-.78.8-2.07 0-2.86zM5.41 20L4 18.59l7.72-7.72 1.47 1.35L5.41 20z\"/>\n",
              "  </svg>\n",
              "      </button>\n",
              "      \n",
              "  <style>\n",
              "    .colab-df-container {\n",
              "      display:flex;\n",
              "      flex-wrap:wrap;\n",
              "      gap: 12px;\n",
              "    }\n",
              "\n",
              "    .colab-df-convert {\n",
              "      background-color: #E8F0FE;\n",
              "      border: none;\n",
              "      border-radius: 50%;\n",
              "      cursor: pointer;\n",
              "      display: none;\n",
              "      fill: #1967D2;\n",
              "      height: 32px;\n",
              "      padding: 0 0 0 0;\n",
              "      width: 32px;\n",
              "    }\n",
              "\n",
              "    .colab-df-convert:hover {\n",
              "      background-color: #E2EBFA;\n",
              "      box-shadow: 0px 1px 2px rgba(60, 64, 67, 0.3), 0px 1px 3px 1px rgba(60, 64, 67, 0.15);\n",
              "      fill: #174EA6;\n",
              "    }\n",
              "\n",
              "    [theme=dark] .colab-df-convert {\n",
              "      background-color: #3B4455;\n",
              "      fill: #D2E3FC;\n",
              "    }\n",
              "\n",
              "    [theme=dark] .colab-df-convert:hover {\n",
              "      background-color: #434B5C;\n",
              "      box-shadow: 0px 1px 3px 1px rgba(0, 0, 0, 0.15);\n",
              "      filter: drop-shadow(0px 1px 2px rgba(0, 0, 0, 0.3));\n",
              "      fill: #FFFFFF;\n",
              "    }\n",
              "  </style>\n",
              "\n",
              "      <script>\n",
              "        const buttonEl =\n",
              "          document.querySelector('#df-1ff641ae-7fb8-41f6-929f-99089e2e3798 button.colab-df-convert');\n",
              "        buttonEl.style.display =\n",
              "          google.colab.kernel.accessAllowed ? 'block' : 'none';\n",
              "\n",
              "        async function convertToInteractive(key) {\n",
              "          const element = document.querySelector('#df-1ff641ae-7fb8-41f6-929f-99089e2e3798');\n",
              "          const dataTable =\n",
              "            await google.colab.kernel.invokeFunction('convertToInteractive',\n",
              "                                                     [key], {});\n",
              "          if (!dataTable) return;\n",
              "\n",
              "          const docLinkHtml = 'Like what you see? Visit the ' +\n",
              "            '<a target=\"_blank\" href=https://colab.research.google.com/notebooks/data_table.ipynb>data table notebook</a>'\n",
              "            + ' to learn more about interactive tables.';\n",
              "          element.innerHTML = '';\n",
              "          dataTable['output_type'] = 'display_data';\n",
              "          await google.colab.output.renderOutput(dataTable, element);\n",
              "          const docLink = document.createElement('div');\n",
              "          docLink.innerHTML = docLinkHtml;\n",
              "          element.appendChild(docLink);\n",
              "        }\n",
              "      </script>\n",
              "    </div>\n",
              "  </div>\n",
              "  "
            ]
          },
          "metadata": {},
          "execution_count": 26
        }
      ]
    },
    {
      "cell_type": "code",
      "source": [
        "df_new.info()"
      ],
      "metadata": {
        "colab": {
          "base_uri": "https://localhost:8080/"
        },
        "id": "YWsbGOEUnv9a",
        "outputId": "dc4d53d5-fbe3-4f49-aa31-7f8fdee21488"
      },
      "execution_count": 27,
      "outputs": [
        {
          "output_type": "stream",
          "name": "stdout",
          "text": [
            "<class 'pandas.core.frame.DataFrame'>\n",
            "RangeIndex: 1000 entries, 0 to 999\n",
            "Data columns (total 17 columns):\n",
            " #   Column           Non-Null Count  Dtype \n",
            "---  ------           --------------  ----- \n",
            " 0   Default          1000 non-null   int64 \n",
            " 1   checkingstatus1  1000 non-null   object\n",
            " 2   duration         1000 non-null   int64 \n",
            " 3   history          1000 non-null   object\n",
            " 4   purpose          1000 non-null   object\n",
            " 5   amount           1000 non-null   int64 \n",
            " 6   savings          1000 non-null   object\n",
            " 7   employ           1000 non-null   object\n",
            " 8   installment      1000 non-null   int64 \n",
            " 9   sex              1000 non-null   object\n",
            " 10  residence        1000 non-null   int64 \n",
            " 11  age              1000 non-null   int64 \n",
            " 12  housing          1000 non-null   object\n",
            " 13  cards            1000 non-null   int64 \n",
            " 14  liable           1000 non-null   int64 \n",
            " 15  tele             1000 non-null   object\n",
            " 16  foreign          1000 non-null   object\n",
            "dtypes: int64(8), object(9)\n",
            "memory usage: 132.9+ KB\n"
          ]
        }
      ]
    },
    {
      "cell_type": "code",
      "source": [
        "for i in range(len(df_new.columns)):\n",
        "  if(df_new[df_new.columns[i]].dtype == 'object'):\n",
        "    df_new[df_new.columns[i]] = LabelEncoder().fit_transform(df_new[df_new.columns[i]])"
      ],
      "metadata": {
        "id": "N3YNUd8HsVxB"
      },
      "execution_count": 28,
      "outputs": []
    },
    {
      "cell_type": "code",
      "source": [
        "df_new.head(1)"
      ],
      "metadata": {
        "colab": {
          "base_uri": "https://localhost:8080/",
          "height": 145
        },
        "id": "BTMgjnEhszby",
        "outputId": "fe883c32-58ee-41df-83c7-df8824737c41"
      },
      "execution_count": 29,
      "outputs": [
        {
          "output_type": "execute_result",
          "data": {
            "text/plain": [
              "   Default  checkingstatus1  duration  history  purpose  amount  savings  \\\n",
              "0        0                0         6        2        2    1169        0   \n",
              "\n",
              "   employ  installment  sex  residence  age  housing  cards  liable  tele  \\\n",
              "0       2            4    1          4   67        1      2       1     1   \n",
              "\n",
              "   foreign  \n",
              "0        0  "
            ],
            "text/html": [
              "\n",
              "  <div id=\"df-a2730233-632a-4354-8261-1e46c62ac91b\">\n",
              "    <div class=\"colab-df-container\">\n",
              "      <div>\n",
              "<style scoped>\n",
              "    .dataframe tbody tr th:only-of-type {\n",
              "        vertical-align: middle;\n",
              "    }\n",
              "\n",
              "    .dataframe tbody tr th {\n",
              "        vertical-align: top;\n",
              "    }\n",
              "\n",
              "    .dataframe thead th {\n",
              "        text-align: right;\n",
              "    }\n",
              "</style>\n",
              "<table border=\"1\" class=\"dataframe\">\n",
              "  <thead>\n",
              "    <tr style=\"text-align: right;\">\n",
              "      <th></th>\n",
              "      <th>Default</th>\n",
              "      <th>checkingstatus1</th>\n",
              "      <th>duration</th>\n",
              "      <th>history</th>\n",
              "      <th>purpose</th>\n",
              "      <th>amount</th>\n",
              "      <th>savings</th>\n",
              "      <th>employ</th>\n",
              "      <th>installment</th>\n",
              "      <th>sex</th>\n",
              "      <th>residence</th>\n",
              "      <th>age</th>\n",
              "      <th>housing</th>\n",
              "      <th>cards</th>\n",
              "      <th>liable</th>\n",
              "      <th>tele</th>\n",
              "      <th>foreign</th>\n",
              "    </tr>\n",
              "  </thead>\n",
              "  <tbody>\n",
              "    <tr>\n",
              "      <th>0</th>\n",
              "      <td>0</td>\n",
              "      <td>0</td>\n",
              "      <td>6</td>\n",
              "      <td>2</td>\n",
              "      <td>2</td>\n",
              "      <td>1169</td>\n",
              "      <td>0</td>\n",
              "      <td>2</td>\n",
              "      <td>4</td>\n",
              "      <td>1</td>\n",
              "      <td>4</td>\n",
              "      <td>67</td>\n",
              "      <td>1</td>\n",
              "      <td>2</td>\n",
              "      <td>1</td>\n",
              "      <td>1</td>\n",
              "      <td>0</td>\n",
              "    </tr>\n",
              "  </tbody>\n",
              "</table>\n",
              "</div>\n",
              "      <button class=\"colab-df-convert\" onclick=\"convertToInteractive('df-a2730233-632a-4354-8261-1e46c62ac91b')\"\n",
              "              title=\"Convert this dataframe to an interactive table.\"\n",
              "              style=\"display:none;\">\n",
              "        \n",
              "  <svg xmlns=\"http://www.w3.org/2000/svg\" height=\"24px\"viewBox=\"0 0 24 24\"\n",
              "       width=\"24px\">\n",
              "    <path d=\"M0 0h24v24H0V0z\" fill=\"none\"/>\n",
              "    <path d=\"M18.56 5.44l.94 2.06.94-2.06 2.06-.94-2.06-.94-.94-2.06-.94 2.06-2.06.94zm-11 1L8.5 8.5l.94-2.06 2.06-.94-2.06-.94L8.5 2.5l-.94 2.06-2.06.94zm10 10l.94 2.06.94-2.06 2.06-.94-2.06-.94-.94-2.06-.94 2.06-2.06.94z\"/><path d=\"M17.41 7.96l-1.37-1.37c-.4-.4-.92-.59-1.43-.59-.52 0-1.04.2-1.43.59L10.3 9.45l-7.72 7.72c-.78.78-.78 2.05 0 2.83L4 21.41c.39.39.9.59 1.41.59.51 0 1.02-.2 1.41-.59l7.78-7.78 2.81-2.81c.8-.78.8-2.07 0-2.86zM5.41 20L4 18.59l7.72-7.72 1.47 1.35L5.41 20z\"/>\n",
              "  </svg>\n",
              "      </button>\n",
              "      \n",
              "  <style>\n",
              "    .colab-df-container {\n",
              "      display:flex;\n",
              "      flex-wrap:wrap;\n",
              "      gap: 12px;\n",
              "    }\n",
              "\n",
              "    .colab-df-convert {\n",
              "      background-color: #E8F0FE;\n",
              "      border: none;\n",
              "      border-radius: 50%;\n",
              "      cursor: pointer;\n",
              "      display: none;\n",
              "      fill: #1967D2;\n",
              "      height: 32px;\n",
              "      padding: 0 0 0 0;\n",
              "      width: 32px;\n",
              "    }\n",
              "\n",
              "    .colab-df-convert:hover {\n",
              "      background-color: #E2EBFA;\n",
              "      box-shadow: 0px 1px 2px rgba(60, 64, 67, 0.3), 0px 1px 3px 1px rgba(60, 64, 67, 0.15);\n",
              "      fill: #174EA6;\n",
              "    }\n",
              "\n",
              "    [theme=dark] .colab-df-convert {\n",
              "      background-color: #3B4455;\n",
              "      fill: #D2E3FC;\n",
              "    }\n",
              "\n",
              "    [theme=dark] .colab-df-convert:hover {\n",
              "      background-color: #434B5C;\n",
              "      box-shadow: 0px 1px 3px 1px rgba(0, 0, 0, 0.15);\n",
              "      filter: drop-shadow(0px 1px 2px rgba(0, 0, 0, 0.3));\n",
              "      fill: #FFFFFF;\n",
              "    }\n",
              "  </style>\n",
              "\n",
              "      <script>\n",
              "        const buttonEl =\n",
              "          document.querySelector('#df-a2730233-632a-4354-8261-1e46c62ac91b button.colab-df-convert');\n",
              "        buttonEl.style.display =\n",
              "          google.colab.kernel.accessAllowed ? 'block' : 'none';\n",
              "\n",
              "        async function convertToInteractive(key) {\n",
              "          const element = document.querySelector('#df-a2730233-632a-4354-8261-1e46c62ac91b');\n",
              "          const dataTable =\n",
              "            await google.colab.kernel.invokeFunction('convertToInteractive',\n",
              "                                                     [key], {});\n",
              "          if (!dataTable) return;\n",
              "\n",
              "          const docLinkHtml = 'Like what you see? Visit the ' +\n",
              "            '<a target=\"_blank\" href=https://colab.research.google.com/notebooks/data_table.ipynb>data table notebook</a>'\n",
              "            + ' to learn more about interactive tables.';\n",
              "          element.innerHTML = '';\n",
              "          dataTable['output_type'] = 'display_data';\n",
              "          await google.colab.output.renderOutput(dataTable, element);\n",
              "          const docLink = document.createElement('div');\n",
              "          docLink.innerHTML = docLinkHtml;\n",
              "          element.appendChild(docLink);\n",
              "        }\n",
              "      </script>\n",
              "    </div>\n",
              "  </div>\n",
              "  "
            ]
          },
          "metadata": {},
          "execution_count": 29
        }
      ]
    },
    {
      "cell_type": "code",
      "source": [
        "X  =  df_new.drop(['liable'],axis =1)\n",
        "y  =  df_new['liable']"
      ],
      "metadata": {
        "id": "DkItJdgUtyxg"
      },
      "execution_count": 30,
      "outputs": []
    },
    {
      "cell_type": "code",
      "source": [
        "X_train, X_test, y_train, y_test = train_test_split(X, y, test_size=0.1, random_state=0)"
      ],
      "metadata": {
        "id": "4Kuz0onYvLxw"
      },
      "execution_count": 31,
      "outputs": []
    },
    {
      "cell_type": "code",
      "source": [
        "test = SelectKBest(score_func=chi2, k=len(X.columns)).fit(X,y)\n",
        "np.set_printoptions(precision=3)\n",
        "score  =  test.scores_\n",
        "print(score)\n",
        "Y = X.columns\n",
        "sns.barplot(x  = score,y = Y )\n",
        "plt.xlabel('Importance Score')\n",
        "plt.ylabel('Features name')"
      ],
      "metadata": {
        "colab": {
          "base_uri": "https://localhost:8080/",
          "height": 348
        },
        "id": "OzBVhHBjvSnw",
        "outputId": "a70bb9e6-2289-40b2-becc-6d052e9e3ce6"
      },
      "execution_count": 32,
      "outputs": [
        {
          "output_type": "stream",
          "name": "stdout",
          "text": [
            "[6.363e-03 2.005e-01 3.948e+00 4.353e-02 1.989e+00 7.150e+02 7.554e-02\n",
            " 9.469e-01 2.132e+00 1.283e+01 7.779e-01 5.081e+01 3.452e+00 2.849e+00\n",
            " 1.297e-01 5.720e+00]\n"
          ]
        },
        {
          "output_type": "execute_result",
          "data": {
            "text/plain": [
              "Text(0, 0.5, 'Features name')"
            ]
          },
          "metadata": {},
          "execution_count": 32
        },
        {
          "output_type": "display_data",
          "data": {
            "text/plain": [
              "<Figure size 432x288 with 1 Axes>"
            ],
            "image/png": "[encoded data removed]"
          },
          "metadata": {
            "needs_background": "light"
          }
        }
      ]
    },
    {
      "cell_type": "code",
      "source": [
        "rf = RandomForestClassifier(n_estimators=150)\n",
        "rf.fit(X_train, y_train)"
      ],
      "metadata": {
        "colab": {
          "base_uri": "https://localhost:8080/"
        },
        "id": "-IhyxH7bvUgA",
        "outputId": "6486be14-f047-4ae9-99ef-7acde5806cad"
      },
      "execution_count": 33,
      "outputs": [
        {
          "output_type": "execute_result",
          "data": {
            "text/plain": [
              "RandomForestClassifier(n_estimators=150)"
            ]
          },
          "metadata": {},
          "execution_count": 33
        }
      ]
    },
    {
      "cell_type": "code",
      "source": [
        "rf.feature_importances_"
      ],
      "metadata": {
        "colab": {
          "base_uri": "https://localhost:8080/"
        },
        "id": "-jPDKVqpvYfQ",
        "outputId": "8f03c28a-df68-42dd-814f-09155c854089"
      },
      "execution_count": 34,
      "outputs": [
        {
          "output_type": "execute_result",
          "data": {
            "text/plain": [
              "array([0.027, 0.05 , 0.129, 0.043, 0.059, 0.166, 0.033, 0.048, 0.053,\n",
              "       0.034, 0.052, 0.192, 0.038, 0.04 , 0.027, 0.007])"
            ]
          },
          "metadata": {},
          "execution_count": 34
        }
      ]
    },
    {
      "cell_type": "code",
      "source": [
        "sort = rf.feature_importances_\n",
        "plt.barh(X.columns, rf.feature_importances_)\n",
        "plt.xlabel(\"Feature Importance\")"
      ],
      "metadata": {
        "colab": {
          "base_uri": "https://localhost:8080/",
          "height": 296
        },
        "id": "PvNE6UNovaag",
        "outputId": "9066d59f-4b4b-4f6e-b32c-51c37a96fe58"
      },
      "execution_count": 35,
      "outputs": [
        {
          "output_type": "execute_result",
          "data": {
            "text/plain": [
              "Text(0.5, 0, 'Feature Importance')"
            ]
          },
          "metadata": {},
          "execution_count": 35
        },
        {
          "output_type": "display_data",
          "data": {
            "text/plain": [
              "<Figure size 432x288 with 1 Axes>"
            ],
            "image/png": "[encoded data removed]"
          },
          "metadata": {
            "needs_background": "light"
          }
        }
      ]
    },
    {
      "cell_type": "code",
      "source": [
        "clf = LogisticRegression(solver = 'liblinear').fit(X_train, y_train)\n",
        "result = permutation_importance(clf, X, y, n_repeats=10, random_state=0)\n",
        "plt.barh(X.columns, result.importances_mean )\n",
        "plt.xlabel(\"Feature Importance MEAN\")"
      ],
      "metadata": {
        "colab": {
          "base_uri": "https://localhost:8080/",
          "height": 296
        },
        "id": "2KyAHMrTvcfA",
        "outputId": "ffc33a15-6d61-4008-8ced-5283ed7a9516"
      },
      "execution_count": 36,
      "outputs": [
        {
          "output_type": "execute_result",
          "data": {
            "text/plain": [
              "Text(0.5, 0, 'Feature Importance MEAN')"
            ]
          },
          "metadata": {},
          "execution_count": 36
        },
        {
          "output_type": "display_data",
          "data": {
            "text/plain": [
              "<Figure size 432x288 with 1 Axes>"
            ],
            "image/png": "[encoded data removed]"
          },
          "metadata": {
            "needs_background": "light"
          }
        }
      ]
    },
    {
      "cell_type": "code",
      "source": [
        "plt.barh(X.columns, result.importances_std)\n",
        "plt.xlabel(\"Feature Importance STD\")"
      ],
      "metadata": {
        "colab": {
          "base_uri": "https://localhost:8080/",
          "height": 296
        },
        "id": "Vgk5EZvJvjUg",
        "outputId": "d32cf63e-382d-4a6a-ae95-5724513262ae"
      },
      "execution_count": 37,
      "outputs": [
        {
          "output_type": "execute_result",
          "data": {
            "text/plain": [
              "Text(0.5, 0, 'Feature Importance STD')"
            ]
          },
          "metadata": {},
          "execution_count": 37
        },
        {
          "output_type": "display_data",
          "data": {
            "text/plain": [
              "<Figure size 432x288 with 1 Axes>"
            ],
            "image/png": "[encoded data removed]"
          },
          "metadata": {
            "needs_background": "light"
          }
        }
      ]
    },
    {
      "cell_type": "code",
      "source": [
        "pca = PCA().fit(X_train)\n",
        "plt.plot(pca.explained_variance_ratio_.cumsum(), lw=3, color='#087E8B')\n",
        "plt.title('Cumulative explained variance by number of principal components', size=5)\n",
        "plt.show()"
      ],
      "metadata": {
        "colab": {
          "base_uri": "https://localhost:8080/",
          "height": 276
        },
        "id": "jhaQW0v3vmXQ",
        "outputId": "0b459a38-b9de-467f-b399-6947d4283212"
      },
      "execution_count": 38,
      "outputs": [
        {
          "output_type": "display_data",
          "data": {
            "text/plain": [
              "<Figure size 432x288 with 1 Axes>"
            ],
            "image/png": "[encoded data removed]"
          },
          "metadata": {
            "needs_background": "light"
          }
        }
      ]
    },
    {
      "cell_type": "code",
      "source": [
        "loadings = pd.DataFrame(\n",
        "    data=pca.components_.T * np.sqrt(pca.explained_variance_), \n",
        "    columns=[f'PC{i}' for i in range(1, len(X.columns) + 1)],\n",
        "    index=X.columns\n",
        ")\n",
        "loadings.head()"
      ],
      "metadata": {
        "colab": {
          "base_uri": "https://localhost:8080/",
          "height": 270
        },
        "id": "uprAbNvTvqIA",
        "outputId": "08af5121-9f2d-48f7-d651-ff8902bbfc6c"
      },
      "execution_count": 39,
      "outputs": [
        {
          "output_type": "execute_result",
          "data": {
            "text/plain": [
              "                      PC1       PC2       PC3       PC4       PC5       PC6  \\\n",
              "Default          0.066967 -0.051210  0.061202  0.188673  0.023010 -0.014054   \n",
              "checkingstatus1 -0.040815  0.077821 -0.056561 -1.237706 -0.082926 -0.113632   \n",
              "duration         7.688501 -1.873920  9.103231 -0.014788  0.001171  0.033315   \n",
              "history         -0.042049  0.085260 -0.024572 -0.144729 -0.108432  0.014243   \n",
              "purpose          0.021121  0.055515 -0.106582 -0.031852 -0.702933  0.702421   \n",
              "\n",
              "                      PC7       PC8       PC9      PC10      PC11      PC12  \\\n",
              "Default          0.020857  0.050805 -0.031235 -0.035339  0.065188  0.184782   \n",
              "checkingstatus1 -0.024069  0.068126 -0.061693 -0.043624  0.024824  0.047679   \n",
              "duration        -0.023138 -0.002239  0.001566 -0.000289  0.001758 -0.002224   \n",
              "history          0.032116 -0.204552  0.393125  0.015577  0.006165 -0.204610   \n",
              "purpose          0.375264  0.039048 -0.016654  0.005318  0.009656  0.019042   \n",
              "\n",
              "                     PC13      PC14      PC15      PC16  \n",
              "Default          0.085397  0.109597 -0.319825  0.004837  \n",
              "checkingstatus1  0.014967  0.012373 -0.030638  0.002131  \n",
              "duration         0.000264 -0.000997  0.001146  0.000313  \n",
              "history         -0.201757  0.032258 -0.140776 -0.002325  \n",
              "purpose          0.030727 -0.005555  0.006545 -0.001227  "
            ],
            "text/html": [
              "\n",
              "  <div id=\"df-72167d84-3315-4701-9adc-17a183bdfa43\">\n",
              "    <div class=\"colab-df-container\">\n",
              "      <div>\n",
              "<style scoped>\n",
              "    .dataframe tbody tr th:only-of-type {\n",
              "        vertical-align: middle;\n",
              "    }\n",
              "\n",
              "    .dataframe tbody tr th {\n",
              "        vertical-align: top;\n",
              "    }\n",
              "\n",
              "    .dataframe thead th {\n",
              "        text-align: right;\n",
              "    }\n",
              "</style>\n",
              "<table border=\"1\" class=\"dataframe\">\n",
              "  <thead>\n",
              "    <tr style=\"text-align: right;\">\n",
              "      <th></th>\n",
              "      <th>PC1</th>\n",
              "      <th>PC2</th>\n",
              "      <th>PC3</th>\n",
              "      <th>PC4</th>\n",
              "      <th>PC5</th>\n",
              "      <th>PC6</th>\n",
              "      <th>PC7</th>\n",
              "      <th>PC8</th>\n",
              "      <th>PC9</th>\n",
              "      <th>PC10</th>\n",
              "      <th>PC11</th>\n",
              "      <th>PC12</th>\n",
              "      <th>PC13</th>\n",
              "      <th>PC14</th>\n",
              "      <th>PC15</th>\n",
              "      <th>PC16</th>\n",
              "    </tr>\n",
              "  </thead>\n",
              "  <tbody>\n",
              "    <tr>\n",
              "      <th>Default</th>\n",
              "      <td>0.066967</td>\n",
              "      <td>-0.051210</td>\n",
              "      <td>0.061202</td>\n",
              "      <td>0.188673</td>\n",
              "      <td>0.023010</td>\n",
              "      <td>-0.014054</td>\n",
              "      <td>0.020857</td>\n",
              "      <td>0.050805</td>\n",
              "      <td>-0.031235</td>\n",
              "      <td>-0.035339</td>\n",
              "      <td>0.065188</td>\n",
              "      <td>0.184782</td>\n",
              "      <td>0.085397</td>\n",
              "      <td>0.109597</td>\n",
              "      <td>-0.319825</td>\n",
              "      <td>0.004837</td>\n",
              "    </tr>\n",
              "    <tr>\n",
              "      <th>checkingstatus1</th>\n",
              "      <td>-0.040815</td>\n",
              "      <td>0.077821</td>\n",
              "      <td>-0.056561</td>\n",
              "      <td>-1.237706</td>\n",
              "      <td>-0.082926</td>\n",
              "      <td>-0.113632</td>\n",
              "      <td>-0.024069</td>\n",
              "      <td>0.068126</td>\n",
              "      <td>-0.061693</td>\n",
              "      <td>-0.043624</td>\n",
              "      <td>0.024824</td>\n",
              "      <td>0.047679</td>\n",
              "      <td>0.014967</td>\n",
              "      <td>0.012373</td>\n",
              "      <td>-0.030638</td>\n",
              "      <td>0.002131</td>\n",
              "    </tr>\n",
              "    <tr>\n",
              "      <th>duration</th>\n",
              "      <td>7.688501</td>\n",
              "      <td>-1.873920</td>\n",
              "      <td>9.103231</td>\n",
              "      <td>-0.014788</td>\n",
              "      <td>0.001171</td>\n",
              "      <td>0.033315</td>\n",
              "      <td>-0.023138</td>\n",
              "      <td>-0.002239</td>\n",
              "      <td>0.001566</td>\n",
              "      <td>-0.000289</td>\n",
              "      <td>0.001758</td>\n",
              "      <td>-0.002224</td>\n",
              "      <td>0.000264</td>\n",
              "      <td>-0.000997</td>\n",
              "      <td>0.001146</td>\n",
              "      <td>0.000313</td>\n",
              "    </tr>\n",
              "    <tr>\n",
              "      <th>history</th>\n",
              "      <td>-0.042049</td>\n",
              "      <td>0.085260</td>\n",
              "      <td>-0.024572</td>\n",
              "      <td>-0.144729</td>\n",
              "      <td>-0.108432</td>\n",
              "      <td>0.014243</td>\n",
              "      <td>0.032116</td>\n",
              "      <td>-0.204552</td>\n",
              "      <td>0.393125</td>\n",
              "      <td>0.015577</td>\n",
              "      <td>0.006165</td>\n",
              "      <td>-0.204610</td>\n",
              "      <td>-0.201757</td>\n",
              "      <td>0.032258</td>\n",
              "      <td>-0.140776</td>\n",
              "      <td>-0.002325</td>\n",
              "    </tr>\n",
              "    <tr>\n",
              "      <th>purpose</th>\n",
              "      <td>0.021121</td>\n",
              "      <td>0.055515</td>\n",
              "      <td>-0.106582</td>\n",
              "      <td>-0.031852</td>\n",
              "      <td>-0.702933</td>\n",
              "      <td>0.702421</td>\n",
              "      <td>0.375264</td>\n",
              "      <td>0.039048</td>\n",
              "      <td>-0.016654</td>\n",
              "      <td>0.005318</td>\n",
              "      <td>0.009656</td>\n",
              "      <td>0.019042</td>\n",
              "      <td>0.030727</td>\n",
              "      <td>-0.005555</td>\n",
              "      <td>0.006545</td>\n",
              "      <td>-0.001227</td>\n",
              "    </tr>\n",
              "  </tbody>\n",
              "</table>\n",
              "</div>\n",
              "      <button class=\"colab-df-convert\" onclick=\"convertToInteractive('df-72167d84-3315-4701-9adc-17a183bdfa43')\"\n",
              "              title=\"Convert this dataframe to an interactive table.\"\n",
              "              style=\"display:none;\">\n",
              "        \n",
              "  <svg xmlns=\"http://www.w3.org/2000/svg\" height=\"24px\"viewBox=\"0 0 24 24\"\n",
              "       width=\"24px\">\n",
              "    <path d=\"M0 0h24v24H0V0z\" fill=\"none\"/>\n",
              "    <path d=\"M18.56 5.44l.94 2.06.94-2.06 2.06-.94-2.06-.94-.94-2.06-.94 2.06-2.06.94zm-11 1L8.5 8.5l.94-2.06 2.06-.94-2.06-.94L8.5 2.5l-.94 2.06-2.06.94zm10 10l.94 2.06.94-2.06 2.06-.94-2.06-.94-.94-2.06-.94 2.06-2.06.94z\"/><path d=\"M17.41 7.96l-1.37-1.37c-.4-.4-.92-.59-1.43-.59-.52 0-1.04.2-1.43.59L10.3 9.45l-7.72 7.72c-.78.78-.78 2.05 0 2.83L4 21.41c.39.39.9.59 1.41.59.51 0 1.02-.2 1.41-.59l7.78-7.78 2.81-2.81c.8-.78.8-2.07 0-2.86zM5.41 20L4 18.59l7.72-7.72 1.47 1.35L5.41 20z\"/>\n",
              "  </svg>\n",
              "      </button>\n",
              "      \n",
              "  <style>\n",
              "    .colab-df-container {\n",
              "      display:flex;\n",
              "      flex-wrap:wrap;\n",
              "      gap: 12px;\n",
              "    }\n",
              "\n",
              "    .colab-df-convert {\n",
              "      background-color: #E8F0FE;\n",
              "      border: none;\n",
              "      border-radius: 50%;\n",
              "      cursor: pointer;\n",
              "      display: none;\n",
              "      fill: #1967D2;\n",
              "      height: 32px;\n",
              "      padding: 0 0 0 0;\n",
              "      width: 32px;\n",
              "    }\n",
              "\n",
              "    .colab-df-convert:hover {\n",
              "      background-color: #E2EBFA;\n",
              "      box-shadow: 0px 1px 2px rgba(60, 64, 67, 0.3), 0px 1px 3px 1px rgba(60, 64, 67, 0.15);\n",
              "      fill: #174EA6;\n",
              "    }\n",
              "\n",
              "    [theme=dark] .colab-df-convert {\n",
              "      background-color: #3B4455;\n",
              "      fill: #D2E3FC;\n",
              "    }\n",
              "\n",
              "    [theme=dark] .colab-df-convert:hover {\n",
              "      background-color: #434B5C;\n",
              "      box-shadow: 0px 1px 3px 1px rgba(0, 0, 0, 0.15);\n",
              "      filter: drop-shadow(0px 1px 2px rgba(0, 0, 0, 0.3));\n",
              "      fill: #FFFFFF;\n",
              "    }\n",
              "  </style>\n",
              "\n",
              "      <script>\n",
              "        const buttonEl =\n",
              "          document.querySelector('#df-72167d84-3315-4701-9adc-17a183bdfa43 button.colab-df-convert');\n",
              "        buttonEl.style.display =\n",
              "          google.colab.kernel.accessAllowed ? 'block' : 'none';\n",
              "\n",
              "        async function convertToInteractive(key) {\n",
              "          const element = document.querySelector('#df-72167d84-3315-4701-9adc-17a183bdfa43');\n",
              "          const dataTable =\n",
              "            await google.colab.kernel.invokeFunction('convertToInteractive',\n",
              "                                                     [key], {});\n",
              "          if (!dataTable) return;\n",
              "\n",
              "          const docLinkHtml = 'Like what you see? Visit the ' +\n",
              "            '<a target=\"_blank\" href=https://colab.research.google.com/notebooks/data_table.ipynb>data table notebook</a>'\n",
              "            + ' to learn more about interactive tables.';\n",
              "          element.innerHTML = '';\n",
              "          dataTable['output_type'] = 'display_data';\n",
              "          await google.colab.output.renderOutput(dataTable, element);\n",
              "          const docLink = document.createElement('div');\n",
              "          docLink.innerHTML = docLinkHtml;\n",
              "          element.appendChild(docLink);\n",
              "        }\n",
              "      </script>\n",
              "    </div>\n",
              "  </div>\n",
              "  "
            ]
          },
          "metadata": {},
          "execution_count": 39
        }
      ]
    },
    {
      "cell_type": "code",
      "source": [
        "pc1_loadings = loadings.sort_values(by='PC1', ascending=False)[['PC1']]\n",
        "pc1_loadings = pc1_loadings.reset_index()\n",
        "pc1_loadings.columns = ['Attribute', 'CorrelationWithPC1']\n",
        "\n",
        "plt.bar(x=pc1_loadings['Attribute'], height=pc1_loadings['CorrelationWithPC1'], color='#087E8B')\n",
        "plt.title('PCA loading scores (first principal component)', size=5)\n",
        "plt.xticks(rotation='vertical')\n",
        "plt.show()"
      ],
      "metadata": {
        "colab": {
          "base_uri": "https://localhost:8080/",
          "height": 347
        },
        "id": "MtfiY1VqvtVQ",
        "outputId": "e2e33eae-313e-444a-bf56-9d0e216fbacd"
      },
      "execution_count": 40,
      "outputs": [
        {
          "output_type": "display_data",
          "data": {
            "text/plain": [
              "<Figure size 432x288 with 1 Axes>"
            ],
            "image/png": "[encoded data removed]"
          },
          "metadata": {
            "needs_background": "light"
          }
        }
      ]
    },
    {
      "cell_type": "code",
      "source": [
        "fs_fit_fscore = SelectKBest(f_classif, k=len(X.columns))\n",
        "fs_fit_fscore.fit_transform(X_train, y_train)\n",
        "fs_indices_fscore = np.argsort(np.nan_to_num(fs_fit_fscore.scores_))[::-1][0:len(X.columns)]\n",
        "fs_indices_fscore"
      ],
      "metadata": {
        "colab": {
          "base_uri": "https://localhost:8080/"
        },
        "id": "xPVwkj0YvzRQ",
        "outputId": "c04a6598-f79c-4223-9585-3cd67b635919"
      },
      "execution_count": 41,
      "outputs": [
        {
          "output_type": "execute_result",
          "data": {
            "text/plain": [
              "array([ 9, 12, 13, 11,  4,  7, 15,  8, 10,  5,  0,  3,  1,  2,  6, 14])"
            ]
          },
          "metadata": {},
          "execution_count": 41
        }
      ]
    },
    {
      "cell_type": "code",
      "source": [
        "best_features_fscore = df.columns[fs_indices_fscore].values\n",
        "print(best_features_fscore)\n",
        "feature_importances_fscore = fs_fit_fscore.scores_[fs_indices_fscore]\n",
        "print(feature_importances_fscore)"
      ],
      "metadata": {
        "colab": {
          "base_uri": "https://localhost:8080/"
        },
        "id": "oYuaLBFFv7h_",
        "outputId": "46f8d7e3-3e2e-4c6a-c13e-c195e654ed1f"
      },
      "execution_count": 42,
      "outputs": [
        {
          "output_type": "stream",
          "name": "stdout",
          "text": [
            "['installment' 'age' 'housing' 'residence' 'history' 'savings' 'liable'\n",
            " 'employ' 'sex' 'purpose' 'Unnamed: 0' 'duration' 'Default'\n",
            " 'checkingstatus1' 'amount' 'cards']\n",
            "[3.673e+01 1.663e+01 1.257e+01 1.176e+01 2.762e+00 2.355e+00 1.903e+00\n",
            " 1.656e+00 1.365e+00 4.599e-01 2.434e-01 2.200e-01 1.179e-01 1.755e-02\n",
            " 1.561e-02 3.369e-03]\n"
          ]
        }
      ]
    },
    {
      "cell_type": "code",
      "source": [
        "plt.barh(best_features_fscore, feature_importances_fscore)\n",
        "plt.xlabel('Imporatnce')\n",
        "plt.ylabel('Features')"
      ],
      "metadata": {
        "colab": {
          "base_uri": "https://localhost:8080/",
          "height": 296
        },
        "id": "n_ZrZl-8v-X_",
        "outputId": "bcee247a-be70-4f7e-8598-afe6d0eb3367"
      },
      "execution_count": 43,
      "outputs": [
        {
          "output_type": "execute_result",
          "data": {
            "text/plain": [
              "Text(0, 0.5, 'Features')"
            ]
          },
          "metadata": {},
          "execution_count": 43
        },
        {
          "output_type": "display_data",
          "data": {
            "text/plain": [
              "<Figure size 432x288 with 1 Axes>"
            ],
            "image/png": "[encoded data removed]"
          },
          "metadata": {
            "needs_background": "light"
          }
        }
      ]
    },
    {
      "cell_type": "code",
      "source": [
        "fs_fit_mutual_info = SelectKBest(mutual_info_classif, k=len(X.columns))\n",
        "fs_fit_mutual_info.fit_transform(X_train, y_train)\n",
        "fs_indices_mutual_info = np.argsort(fs_fit_mutual_info.scores_)[::-1][0:len(X.columns)]\n",
        "best_features_mutual_info = df.columns[fs_indices_mutual_info].values\n",
        "best_features_mutual_info"
      ],
      "metadata": {
        "colab": {
          "base_uri": "https://localhost:8080/"
        },
        "id": "HB_aSrBEwAIQ",
        "outputId": "567a50e5-86e2-4e65-bc99-80ccce412ffb"
      },
      "execution_count": 44,
      "outputs": [
        {
          "output_type": "execute_result",
          "data": {
            "text/plain": [
              "array(['residence', 'installment', 'savings', 'Default', 'age',\n",
              "       'checkingstatus1', 'employ', 'liable', 'history', 'duration',\n",
              "       'purpose', 'housing', 'cards', 'sex', 'amount', 'Unnamed: 0'],\n",
              "      dtype=object)"
            ]
          },
          "metadata": {},
          "execution_count": 44
        }
      ]
    },
    {
      "cell_type": "code",
      "source": [
        "feature_importances_mutual_info = fs_fit_mutual_info.scores_[fs_indices_mutual_info]\n",
        "feature_importances_mutual_info"
      ],
      "metadata": {
        "colab": {
          "base_uri": "https://localhost:8080/"
        },
        "id": "psigBtSnwCew",
        "outputId": "f40639fe-c4d6-41ca-e606-f0c696135389"
      },
      "execution_count": 45,
      "outputs": [
        {
          "output_type": "execute_result",
          "data": {
            "text/plain": [
              "array([0.056, 0.037, 0.035, 0.018, 0.01 , 0.006, 0.004, 0.003, 0.001,\n",
              "       0.001, 0.001, 0.   , 0.   , 0.   , 0.   , 0.   ])"
            ]
          },
          "metadata": {},
          "execution_count": 45
        }
      ]
    },
    {
      "cell_type": "code",
      "source": [
        "plt.barh(best_features_mutual_info,feature_importances_mutual_info)\n",
        "plt.xlabel('Importance')\n",
        "plt.ylabel('Features')"
      ],
      "metadata": {
        "colab": {
          "base_uri": "https://localhost:8080/",
          "height": 296
        },
        "id": "Wt5jPq0qwEoP",
        "outputId": "71d3a3dd-d6a4-4276-bf7f-f62db13d3511"
      },
      "execution_count": 46,
      "outputs": [
        {
          "output_type": "execute_result",
          "data": {
            "text/plain": [
              "Text(0, 0.5, 'Features')"
            ]
          },
          "metadata": {},
          "execution_count": 46
        },
        {
          "output_type": "display_data",
          "data": {
            "text/plain": [
              "<Figure size 432x288 with 1 Axes>"
            ],
            "image/png": "[encoded data removed]"
          },
          "metadata": {
            "needs_background": "light"
          }
        }
      ]
    },
    {
      "cell_type": "code",
      "source": [
        "df_corr = df_new.corr()\n",
        "df_corr"
      ],
      "metadata": {
        "colab": {
          "base_uri": "https://localhost:8080/",
          "height": 646
        },
        "id": "2-2zGQEAwGjP",
        "outputId": "6030e8ba-909f-4e95-921f-53829633167c"
      },
      "execution_count": 49,
      "outputs": [
        {
          "output_type": "execute_result",
          "data": {
            "text/plain": [
              "                  Default  checkingstatus1  duration   history   purpose  \\\n",
              "Default          1.000000        -0.350847  0.214927 -0.240127 -0.055605   \n",
              "checkingstatus1 -0.350847         1.000000 -0.072013  0.187207  0.008251   \n",
              "duration         0.214927        -0.072013  1.000000 -0.111096 -0.068548   \n",
              "history         -0.240127         0.187207 -0.111096  1.000000  0.119740   \n",
              "purpose         -0.055605         0.008251 -0.068548  0.119740  1.000000   \n",
              "amount           0.154739        -0.042705  0.624984 -0.084244  0.039029   \n",
              "savings         -0.087625         0.132846 -0.027391 -0.004614 -0.006526   \n",
              "employ          -0.059064         0.028758  0.033412  0.121225  0.048399   \n",
              "installment      0.072404        -0.005280  0.074749  0.039101 -0.064892   \n",
              "sex             -0.075493         0.025578  0.081432  0.049068  0.001086   \n",
              "residence        0.002967        -0.042234  0.034067  0.058451  0.079226   \n",
              "age             -0.091127         0.059751 -0.036136  0.129890  0.038158   \n",
              "housing          0.019315        -0.022424 -0.157049 -0.040297 -0.027781   \n",
              "cards           -0.045732         0.076005 -0.011284  0.388815 -0.036654   \n",
              "liable          -0.003015        -0.014145 -0.023834 -0.012409  0.062125   \n",
              "tele            -0.036466         0.066296  0.164718  0.040463 -0.011297   \n",
              "foreign         -0.082079        -0.026758 -0.138196  0.031345  0.075119   \n",
              "\n",
              "                   amount   savings    employ  installment       sex  \\\n",
              "Default          0.154739 -0.087625 -0.059064     0.072404 -0.075493   \n",
              "checkingstatus1 -0.042705  0.132846  0.028758    -0.005280  0.025578   \n",
              "duration         0.624984 -0.027391  0.033412     0.074749  0.081432   \n",
              "history         -0.084244 -0.004614  0.121225     0.039101  0.049068   \n",
              "purpose          0.039029 -0.006526  0.048399    -0.064892  0.001086   \n",
              "amount           1.000000 -0.065513  0.071518    -0.271316  0.093482   \n",
              "savings         -0.065513  1.000000  0.000679     0.008436 -0.019213   \n",
              "employ           0.071518  0.000679  1.000000     0.059148  0.153929   \n",
              "installment     -0.271316  0.008436  0.059148     1.000000  0.086302   \n",
              "sex              0.093482 -0.019213  0.153929     0.086302  1.000000   \n",
              "residence        0.028926  0.022935  0.265638     0.049302 -0.013818   \n",
              "age              0.032716 -0.003115  0.365286     0.058266  0.161694   \n",
              "housing         -0.135632  0.046906 -0.209949    -0.089405 -0.219844   \n",
              "cards            0.020795 -0.005261  0.121156     0.021669  0.094260   \n",
              "liable           0.017142 -0.008270  0.042525    -0.071207  0.203431   \n",
              "tele             0.276995 -0.007001  0.131305     0.014413  0.075966   \n",
              "foreign         -0.050050  0.012862 -0.077264    -0.090024  0.051202   \n",
              "\n",
              "                 residence       age   housing     cards    liable      tele  \\\n",
              "Default           0.002967 -0.091127  0.019315 -0.045732 -0.003015 -0.036466   \n",
              "checkingstatus1  -0.042234  0.059751 -0.022424  0.076005 -0.014145  0.066296   \n",
              "duration          0.034067 -0.036136 -0.157049 -0.011284 -0.023834  0.164718   \n",
              "history           0.058451  0.129890 -0.040297  0.388815 -0.012409  0.040463   \n",
              "purpose           0.079226  0.038158 -0.027781 -0.036654  0.062125 -0.011297   \n",
              "amount            0.028926  0.032716 -0.135632  0.020795  0.017142  0.276995   \n",
              "savings           0.022935 -0.003115  0.046906 -0.005261 -0.008270 -0.007001   \n",
              "employ            0.265638  0.365286 -0.209949  0.121156  0.042525  0.131305   \n",
              "installment       0.049302  0.058266 -0.089405  0.021669 -0.071207  0.014413   \n",
              "sex              -0.013818  0.161694 -0.219844  0.094260  0.203431  0.075966   \n",
              "residence         1.000000  0.266419 -0.011941  0.089625  0.042643  0.095359   \n",
              "age               0.266419  1.000000 -0.301419  0.149254  0.118201  0.145259   \n",
              "housing          -0.011941 -0.301419  1.000000 -0.048591 -0.114508 -0.102410   \n",
              "cards             0.089625  0.149254 -0.048591  1.000000  0.109667  0.065553   \n",
              "liable            0.042643  0.118201 -0.114508  0.109667  1.000000 -0.014753   \n",
              "tele              0.095359  0.145259 -0.102410  0.065553 -0.014753  1.000000   \n",
              "foreign          -0.054097 -0.006151  0.063582 -0.009717  0.077071 -0.107401   \n",
              "\n",
              "                  foreign  \n",
              "Default         -0.082079  \n",
              "checkingstatus1 -0.026758  \n",
              "duration        -0.138196  \n",
              "history          0.031345  \n",
              "purpose          0.075119  \n",
              "amount          -0.050050  \n",
              "savings          0.012862  \n",
              "employ          -0.077264  \n",
              "installment     -0.090024  \n",
              "sex              0.051202  \n",
              "residence       -0.054097  \n",
              "age             -0.006151  \n",
              "housing          0.063582  \n",
              "cards           -0.009717  \n",
              "liable           0.077071  \n",
              "tele            -0.107401  \n",
              "foreign          1.000000  "
            ],
            "text/html": [
              "\n",
              "  <div id=\"df-f35b75e9-fb89-492d-a0a8-11351fbb5553\">\n",
              "    <div class=\"colab-df-container\">\n",
              "      <div>\n",
              "<style scoped>\n",
              "    .dataframe tbody tr th:only-of-type {\n",
              "        vertical-align: middle;\n",
              "    }\n",
              "\n",
              "    .dataframe tbody tr th {\n",
              "        vertical-align: top;\n",
              "    }\n",
              "\n",
              "    .dataframe thead th {\n",
              "        text-align: right;\n",
              "    }\n",
              "</style>\n",
              "<table border=\"1\" class=\"dataframe\">\n",
              "  <thead>\n",
              "    <tr style=\"text-align: right;\">\n",
              "      <th></th>\n",
              "      <th>Default</th>\n",
              "      <th>checkingstatus1</th>\n",
              "      <th>duration</th>\n",
              "      <th>history</th>\n",
              "      <th>purpose</th>\n",
              "      <th>amount</th>\n",
              "      <th>savings</th>\n",
              "      <th>employ</th>\n",
              "      <th>installment</th>\n",
              "      <th>sex</th>\n",
              "      <th>residence</th>\n",
              "      <th>age</th>\n",
              "      <th>housing</th>\n",
              "      <th>cards</th>\n",
              "      <th>liable</th>\n",
              "      <th>tele</th>\n",
              "      <th>foreign</th>\n",
              "    </tr>\n",
              "  </thead>\n",
              "  <tbody>\n",
              "    <tr>\n",
              "      <th>Default</th>\n",
              "      <td>1.000000</td>\n",
              "      <td>-0.350847</td>\n",
              "      <td>0.214927</td>\n",
              "      <td>-0.240127</td>\n",
              "      <td>-0.055605</td>\n",
              "      <td>0.154739</td>\n",
              "      <td>-0.087625</td>\n",
              "      <td>-0.059064</td>\n",
              "      <td>0.072404</td>\n",
              "      <td>-0.075493</td>\n",
              "      <td>0.002967</td>\n",
              "      <td>-0.091127</td>\n",
              "      <td>0.019315</td>\n",
              "      <td>-0.045732</td>\n",
              "      <td>-0.003015</td>\n",
              "      <td>-0.036466</td>\n",
              "      <td>-0.082079</td>\n",
              "    </tr>\n",
              "    <tr>\n",
              "      <th>checkingstatus1</th>\n",
              "      <td>-0.350847</td>\n",
              "      <td>1.000000</td>\n",
              "      <td>-0.072013</td>\n",
              "      <td>0.187207</td>\n",
              "      <td>0.008251</td>\n",
              "      <td>-0.042705</td>\n",
              "      <td>0.132846</td>\n",
              "      <td>0.028758</td>\n",
              "      <td>-0.005280</td>\n",
              "      <td>0.025578</td>\n",
              "      <td>-0.042234</td>\n",
              "      <td>0.059751</td>\n",
              "      <td>-0.022424</td>\n",
              "      <td>0.076005</td>\n",
              "      <td>-0.014145</td>\n",
              "      <td>0.066296</td>\n",
              "      <td>-0.026758</td>\n",
              "    </tr>\n",
              "    <tr>\n",
              "      <th>duration</th>\n",
              "      <td>0.214927</td>\n",
              "      <td>-0.072013</td>\n",
              "      <td>1.000000</td>\n",
              "      <td>-0.111096</td>\n",
              "      <td>-0.068548</td>\n",
              "      <td>0.624984</td>\n",
              "      <td>-0.027391</td>\n",
              "      <td>0.033412</td>\n",
              "      <td>0.074749</td>\n",
              "      <td>0.081432</td>\n",
              "      <td>0.034067</td>\n",
              "      <td>-0.036136</td>\n",
              "      <td>-0.157049</td>\n",
              "      <td>-0.011284</td>\n",
              "      <td>-0.023834</td>\n",
              "      <td>0.164718</td>\n",
              "      <td>-0.138196</td>\n",
              "    </tr>\n",
              "    <tr>\n",
              "      <th>history</th>\n",
              "      <td>-0.240127</td>\n",
              "      <td>0.187207</td>\n",
              "      <td>-0.111096</td>\n",
              "      <td>1.000000</td>\n",
              "      <td>0.119740</td>\n",
              "      <td>-0.084244</td>\n",
              "      <td>-0.004614</td>\n",
              "      <td>0.121225</td>\n",
              "      <td>0.039101</td>\n",
              "      <td>0.049068</td>\n",
              "      <td>0.058451</td>\n",
              "      <td>0.129890</td>\n",
              "      <td>-0.040297</td>\n",
              "      <td>0.388815</td>\n",
              "      <td>-0.012409</td>\n",
              "      <td>0.040463</td>\n",
              "      <td>0.031345</td>\n",
              "    </tr>\n",
              "    <tr>\n",
              "      <th>purpose</th>\n",
              "      <td>-0.055605</td>\n",
              "      <td>0.008251</td>\n",
              "      <td>-0.068548</td>\n",
              "      <td>0.119740</td>\n",
              "      <td>1.000000</td>\n",
              "      <td>0.039029</td>\n",
              "      <td>-0.006526</td>\n",
              "      <td>0.048399</td>\n",
              "      <td>-0.064892</td>\n",
              "      <td>0.001086</td>\n",
              "      <td>0.079226</td>\n",
              "      <td>0.038158</td>\n",
              "      <td>-0.027781</td>\n",
              "      <td>-0.036654</td>\n",
              "      <td>0.062125</td>\n",
              "      <td>-0.011297</td>\n",
              "      <td>0.075119</td>\n",
              "    </tr>\n",
              "    <tr>\n",
              "      <th>amount</th>\n",
              "      <td>0.154739</td>\n",
              "      <td>-0.042705</td>\n",
              "      <td>0.624984</td>\n",
              "      <td>-0.084244</td>\n",
              "      <td>0.039029</td>\n",
              "      <td>1.000000</td>\n",
              "      <td>-0.065513</td>\n",
              "      <td>0.071518</td>\n",
              "      <td>-0.271316</td>\n",
              "      <td>0.093482</td>\n",
              "      <td>0.028926</td>\n",
              "      <td>0.032716</td>\n",
              "      <td>-0.135632</td>\n",
              "      <td>0.020795</td>\n",
              "      <td>0.017142</td>\n",
              "      <td>0.276995</td>\n",
              "      <td>-0.050050</td>\n",
              "    </tr>\n",
              "    <tr>\n",
              "      <th>savings</th>\n",
              "      <td>-0.087625</td>\n",
              "      <td>0.132846</td>\n",
              "      <td>-0.027391</td>\n",
              "      <td>-0.004614</td>\n",
              "      <td>-0.006526</td>\n",
              "      <td>-0.065513</td>\n",
              "      <td>1.000000</td>\n",
              "      <td>0.000679</td>\n",
              "      <td>0.008436</td>\n",
              "      <td>-0.019213</td>\n",
              "      <td>0.022935</td>\n",
              "      <td>-0.003115</td>\n",
              "      <td>0.046906</td>\n",
              "      <td>-0.005261</td>\n",
              "      <td>-0.008270</td>\n",
              "      <td>-0.007001</td>\n",
              "      <td>0.012862</td>\n",
              "    </tr>\n",
              "    <tr>\n",
              "      <th>employ</th>\n",
              "      <td>-0.059064</td>\n",
              "      <td>0.028758</td>\n",
              "      <td>0.033412</td>\n",
              "      <td>0.121225</td>\n",
              "      <td>0.048399</td>\n",
              "      <td>0.071518</td>\n",
              "      <td>0.000679</td>\n",
              "      <td>1.000000</td>\n",
              "      <td>0.059148</td>\n",
              "      <td>0.153929</td>\n",
              "      <td>0.265638</td>\n",
              "      <td>0.365286</td>\n",
              "      <td>-0.209949</td>\n",
              "      <td>0.121156</td>\n",
              "      <td>0.042525</td>\n",
              "      <td>0.131305</td>\n",
              "      <td>-0.077264</td>\n",
              "    </tr>\n",
              "    <tr>\n",
              "      <th>installment</th>\n",
              "      <td>0.072404</td>\n",
              "      <td>-0.005280</td>\n",
              "      <td>0.074749</td>\n",
              "      <td>0.039101</td>\n",
              "      <td>-0.064892</td>\n",
              "      <td>-0.271316</td>\n",
              "      <td>0.008436</td>\n",
              "      <td>0.059148</td>\n",
              "      <td>1.000000</td>\n",
              "      <td>0.086302</td>\n",
              "      <td>0.049302</td>\n",
              "      <td>0.058266</td>\n",
              "      <td>-0.089405</td>\n",
              "      <td>0.021669</td>\n",
              "      <td>-0.071207</td>\n",
              "      <td>0.014413</td>\n",
              "      <td>-0.090024</td>\n",
              "    </tr>\n",
              "    <tr>\n",
              "      <th>sex</th>\n",
              "      <td>-0.075493</td>\n",
              "      <td>0.025578</td>\n",
              "      <td>0.081432</td>\n",
              "      <td>0.049068</td>\n",
              "      <td>0.001086</td>\n",
              "      <td>0.093482</td>\n",
              "      <td>-0.019213</td>\n",
              "      <td>0.153929</td>\n",
              "      <td>0.086302</td>\n",
              "      <td>1.000000</td>\n",
              "      <td>-0.013818</td>\n",
              "      <td>0.161694</td>\n",
              "      <td>-0.219844</td>\n",
              "      <td>0.094260</td>\n",
              "      <td>0.203431</td>\n",
              "      <td>0.075966</td>\n",
              "      <td>0.051202</td>\n",
              "    </tr>\n",
              "    <tr>\n",
              "      <th>residence</th>\n",
              "      <td>0.002967</td>\n",
              "      <td>-0.042234</td>\n",
              "      <td>0.034067</td>\n",
              "      <td>0.058451</td>\n",
              "      <td>0.079226</td>\n",
              "      <td>0.028926</td>\n",
              "      <td>0.022935</td>\n",
              "      <td>0.265638</td>\n",
              "      <td>0.049302</td>\n",
              "      <td>-0.013818</td>\n",
              "      <td>1.000000</td>\n",
              "      <td>0.266419</td>\n",
              "      <td>-0.011941</td>\n",
              "      <td>0.089625</td>\n",
              "      <td>0.042643</td>\n",
              "      <td>0.095359</td>\n",
              "      <td>-0.054097</td>\n",
              "    </tr>\n",
              "    <tr>\n",
              "      <th>age</th>\n",
              "      <td>-0.091127</td>\n",
              "      <td>0.059751</td>\n",
              "      <td>-0.036136</td>\n",
              "      <td>0.129890</td>\n",
              "      <td>0.038158</td>\n",
              "      <td>0.032716</td>\n",
              "      <td>-0.003115</td>\n",
              "      <td>0.365286</td>\n",
              "      <td>0.058266</td>\n",
              "      <td>0.161694</td>\n",
              "      <td>0.266419</td>\n",
              "      <td>1.000000</td>\n",
              "      <td>-0.301419</td>\n",
              "      <td>0.149254</td>\n",
              "      <td>0.118201</td>\n",
              "      <td>0.145259</td>\n",
              "      <td>-0.006151</td>\n",
              "    </tr>\n",
              "    <tr>\n",
              "      <th>housing</th>\n",
              "      <td>0.019315</td>\n",
              "      <td>-0.022424</td>\n",
              "      <td>-0.157049</td>\n",
              "      <td>-0.040297</td>\n",
              "      <td>-0.027781</td>\n",
              "      <td>-0.135632</td>\n",
              "      <td>0.046906</td>\n",
              "      <td>-0.209949</td>\n",
              "      <td>-0.089405</td>\n",
              "      <td>-0.219844</td>\n",
              "      <td>-0.011941</td>\n",
              "      <td>-0.301419</td>\n",
              "      <td>1.000000</td>\n",
              "      <td>-0.048591</td>\n",
              "      <td>-0.114508</td>\n",
              "      <td>-0.102410</td>\n",
              "      <td>0.063582</td>\n",
              "    </tr>\n",
              "    <tr>\n",
              "      <th>cards</th>\n",
              "      <td>-0.045732</td>\n",
              "      <td>0.076005</td>\n",
              "      <td>-0.011284</td>\n",
              "      <td>0.388815</td>\n",
              "      <td>-0.036654</td>\n",
              "      <td>0.020795</td>\n",
              "      <td>-0.005261</td>\n",
              "      <td>0.121156</td>\n",
              "      <td>0.021669</td>\n",
              "      <td>0.094260</td>\n",
              "      <td>0.089625</td>\n",
              "      <td>0.149254</td>\n",
              "      <td>-0.048591</td>\n",
              "      <td>1.000000</td>\n",
              "      <td>0.109667</td>\n",
              "      <td>0.065553</td>\n",
              "      <td>-0.009717</td>\n",
              "    </tr>\n",
              "    <tr>\n",
              "      <th>liable</th>\n",
              "      <td>-0.003015</td>\n",
              "      <td>-0.014145</td>\n",
              "      <td>-0.023834</td>\n",
              "      <td>-0.012409</td>\n",
              "      <td>0.062125</td>\n",
              "      <td>0.017142</td>\n",
              "      <td>-0.008270</td>\n",
              "      <td>0.042525</td>\n",
              "      <td>-0.071207</td>\n",
              "      <td>0.203431</td>\n",
              "      <td>0.042643</td>\n",
              "      <td>0.118201</td>\n",
              "      <td>-0.114508</td>\n",
              "      <td>0.109667</td>\n",
              "      <td>1.000000</td>\n",
              "      <td>-0.014753</td>\n",
              "      <td>0.077071</td>\n",
              "    </tr>\n",
              "    <tr>\n",
              "      <th>tele</th>\n",
              "      <td>-0.036466</td>\n",
              "      <td>0.066296</td>\n",
              "      <td>0.164718</td>\n",
              "      <td>0.040463</td>\n",
              "      <td>-0.011297</td>\n",
              "      <td>0.276995</td>\n",
              "      <td>-0.007001</td>\n",
              "      <td>0.131305</td>\n",
              "      <td>0.014413</td>\n",
              "      <td>0.075966</td>\n",
              "      <td>0.095359</td>\n",
              "      <td>0.145259</td>\n",
              "      <td>-0.102410</td>\n",
              "      <td>0.065553</td>\n",
              "      <td>-0.014753</td>\n",
              "      <td>1.000000</td>\n",
              "      <td>-0.107401</td>\n",
              "    </tr>\n",
              "    <tr>\n",
              "      <th>foreign</th>\n",
              "      <td>-0.082079</td>\n",
              "      <td>-0.026758</td>\n",
              "      <td>-0.138196</td>\n",
              "      <td>0.031345</td>\n",
              "      <td>0.075119</td>\n",
              "      <td>-0.050050</td>\n",
              "      <td>0.012862</td>\n",
              "      <td>-0.077264</td>\n",
              "      <td>-0.090024</td>\n",
              "      <td>0.051202</td>\n",
              "      <td>-0.054097</td>\n",
              "      <td>-0.006151</td>\n",
              "      <td>0.063582</td>\n",
              "      <td>-0.009717</td>\n",
              "      <td>0.077071</td>\n",
              "      <td>-0.107401</td>\n",
              "      <td>1.000000</td>\n",
              "    </tr>\n",
              "  </tbody>\n",
              "</table>\n",
              "</div>\n",
              "      <button class=\"colab-df-convert\" onclick=\"convertToInteractive('df-f35b75e9-fb89-492d-a0a8-11351fbb5553')\"\n",
              "              title=\"Convert this dataframe to an interactive table.\"\n",
              "              style=\"display:none;\">\n",
              "        \n",
              "  <svg xmlns=\"http://www.w3.org/2000/svg\" height=\"24px\"viewBox=\"0 0 24 24\"\n",
              "       width=\"24px\">\n",
              "    <path d=\"M0 0h24v24H0V0z\" fill=\"none\"/>\n",
              "    <path d=\"M18.56 5.44l.94 2.06.94-2.06 2.06-.94-2.06-.94-.94-2.06-.94 2.06-2.06.94zm-11 1L8.5 8.5l.94-2.06 2.06-.94-2.06-.94L8.5 2.5l-.94 2.06-2.06.94zm10 10l.94 2.06.94-2.06 2.06-.94-2.06-.94-.94-2.06-.94 2.06-2.06.94z\"/><path d=\"M17.41 7.96l-1.37-1.37c-.4-.4-.92-.59-1.43-.59-.52 0-1.04.2-1.43.59L10.3 9.45l-7.72 7.72c-.78.78-.78 2.05 0 2.83L4 21.41c.39.39.9.59 1.41.59.51 0 1.02-.2 1.41-.59l7.78-7.78 2.81-2.81c.8-.78.8-2.07 0-2.86zM5.41 20L4 18.59l7.72-7.72 1.47 1.35L5.41 20z\"/>\n",
              "  </svg>\n",
              "      </button>\n",
              "      \n",
              "  <style>\n",
              "    .colab-df-container {\n",
              "      display:flex;\n",
              "      flex-wrap:wrap;\n",
              "      gap: 12px;\n",
              "    }\n",
              "\n",
              "    .colab-df-convert {\n",
              "      background-color: #E8F0FE;\n",
              "      border: none;\n",
              "      border-radius: 50%;\n",
              "      cursor: pointer;\n",
              "      display: none;\n",
              "      fill: #1967D2;\n",
              "      height: 32px;\n",
              "      padding: 0 0 0 0;\n",
              "      width: 32px;\n",
              "    }\n",
              "\n",
              "    .colab-df-convert:hover {\n",
              "      background-color: #E2EBFA;\n",
              "      box-shadow: 0px 1px 2px rgba(60, 64, 67, 0.3), 0px 1px 3px 1px rgba(60, 64, 67, 0.15);\n",
              "      fill: #174EA6;\n",
              "    }\n",
              "\n",
              "    [theme=dark] .colab-df-convert {\n",
              "      background-color: #3B4455;\n",
              "      fill: #D2E3FC;\n",
              "    }\n",
              "\n",
              "    [theme=dark] .colab-df-convert:hover {\n",
              "      background-color: #434B5C;\n",
              "      box-shadow: 0px 1px 3px 1px rgba(0, 0, 0, 0.15);\n",
              "      filter: drop-shadow(0px 1px 2px rgba(0, 0, 0, 0.3));\n",
              "      fill: #FFFFFF;\n",
              "    }\n",
              "  </style>\n",
              "\n",
              "      <script>\n",
              "        const buttonEl =\n",
              "          document.querySelector('#df-f35b75e9-fb89-492d-a0a8-11351fbb5553 button.colab-df-convert');\n",
              "        buttonEl.style.display =\n",
              "          google.colab.kernel.accessAllowed ? 'block' : 'none';\n",
              "\n",
              "        async function convertToInteractive(key) {\n",
              "          const element = document.querySelector('#df-f35b75e9-fb89-492d-a0a8-11351fbb5553');\n",
              "          const dataTable =\n",
              "            await google.colab.kernel.invokeFunction('convertToInteractive',\n",
              "                                                     [key], {});\n",
              "          if (!dataTable) return;\n",
              "\n",
              "          const docLinkHtml = 'Like what you see? Visit the ' +\n",
              "            '<a target=\"_blank\" href=https://colab.research.google.com/notebooks/data_table.ipynb>data table notebook</a>'\n",
              "            + ' to learn more about interactive tables.';\n",
              "          element.innerHTML = '';\n",
              "          dataTable['output_type'] = 'display_data';\n",
              "          await google.colab.output.renderOutput(dataTable, element);\n",
              "          const docLink = document.createElement('div');\n",
              "          docLink.innerHTML = docLinkHtml;\n",
              "          element.appendChild(docLink);\n",
              "        }\n",
              "      </script>\n",
              "    </div>\n",
              "  </div>\n",
              "  "
            ]
          },
          "metadata": {},
          "execution_count": 49
        }
      ]
    },
    {
      "cell_type": "code",
      "source": [
        "print(abs(df_corr['liable']))"
      ],
      "metadata": {
        "colab": {
          "base_uri": "https://localhost:8080/"
        },
        "id": "9iVORx0owIqP",
        "outputId": "89a4f3a9-62cc-4ac6-e8bd-eacbdf4cf95e"
      },
      "execution_count": 50,
      "outputs": [
        {
          "output_type": "stream",
          "name": "stdout",
          "text": [
            "Default            0.003015\n",
            "checkingstatus1    0.014145\n",
            "duration           0.023834\n",
            "history            0.012409\n",
            "purpose            0.062125\n",
            "amount             0.017142\n",
            "savings            0.008270\n",
            "employ             0.042525\n",
            "installment        0.071207\n",
            "sex                0.203431\n",
            "residence          0.042643\n",
            "age                0.118201\n",
            "housing            0.114508\n",
            "cards              0.109667\n",
            "liable             1.000000\n",
            "tele               0.014753\n",
            "foreign            0.077071\n",
            "Name: liable, dtype: float64\n"
          ]
        }
      ]
    },
    {
      "cell_type": "code",
      "source": [
        ""
      ],
      "metadata": {
        "id": "l4KybaMcwO0_"
      },
      "execution_count": null,
      "outputs": []
    }
  ]
}