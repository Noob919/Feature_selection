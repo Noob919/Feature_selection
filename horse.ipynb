{
  "nbformat": 4,
  "nbformat_minor": 0,
  "metadata": {
    "colab": {
      "name": "horse.ipynb",
      "provenance": [],
      "authorship_tag": "ABX9TyMP2BlYSHWgoHhIjKwRr9SC",
      "include_colab_link": true
    },
    "kernelspec": {
      "name": "python3",
      "display_name": "Python 3"
    },
    "language_info": {
      "name": "python"
    }
  },
  "cells": [
    {
      "cell_type": "markdown",
      "metadata": {
        "id": "view-in-github",
        "colab_type": "text"
      },
      "source": [
        "<a href=\"https://colab.research.google.com/github/Noob919/Feature_selection/blob/main/horse.ipynb\" target=\"_parent\"><img src=\"https://colab.research.google.com/assets/colab-badge.svg\" alt=\"Open In Colab\"/></a>"
      ]
    },
    {
      "cell_type": "code",
      "execution_count": 1,
      "metadata": {
        "id": "3oWC6wKAoViG"
      },
      "outputs": [],
      "source": [
        "import numpy as np\n",
        "import pandas as pd\n",
        "from sklearn.model_selection import cross_val_score\n",
        "from sklearn import preprocessing\n",
        "from sklearn.feature_selection  import chi2, SelectKBest,mutual_info_classif,SelectPercentile,f_classif\n",
        "from sklearn.inspection import permutation_importance\n",
        "from sklearn.model_selection import train_test_split\n",
        "from sklearn.tree import DecisionTreeClassifier\n",
        "from sklearn.linear_model import LogisticRegression\n",
        "from sklearn.ensemble import RandomForestClassifier\n",
        "from sklearn.preprocessing import LabelEncoder\n",
        "from sklearn.preprocessing import StandardScaler\n",
        "from sklearn.feature_selection import RFE\n",
        "from sklearn.svm import LinearSVC\n",
        "from sklearn.decomposition import PCA\n",
        "import matplotlib.pyplot as plt\n",
        "import seaborn as sns"
      ]
    },
    {
      "cell_type": "code",
      "source": [
        "df = pd.read_csv(\"/content/horse.csv\")"
      ],
      "metadata": {
        "id": "ooBjQMO4ogCf"
      },
      "execution_count": 2,
      "outputs": []
    },
    {
      "cell_type": "code",
      "source": [
        "df.columns"
      ],
      "metadata": {
        "colab": {
          "base_uri": "https://localhost:8080/"
        },
        "id": "LO5DQuN-gwmg",
        "outputId": "ba73c814-cf69-415f-d189-e8ebf730b7b7"
      },
      "execution_count": 3,
      "outputs": [
        {
          "output_type": "execute_result",
          "data": {
            "text/plain": [
              "Index(['surgery', 'age', 'hospital_number', 'rectal_temp', 'pulse',\n",
              "       'respiratory_rate', 'temp_of_extremities', 'peripheral_pulse',\n",
              "       'mucous_membrane', 'capillary_refill_time', 'pain', 'peristalsis',\n",
              "       'abdominal_distention', 'nasogastric_tube', 'nasogastric_reflux',\n",
              "       'nasogastric_reflux_ph', 'rectal_exam_feces', 'abdomen',\n",
              "       'packed_cell_volume', 'total_protein', 'abdomo_appearance',\n",
              "       'abdomo_protein', 'outcome', 'surgical_lesion', 'lesion_1', 'lesion_2',\n",
              "       'lesion_3', 'cp_data'],\n",
              "      dtype='object')"
            ]
          },
          "metadata": {},
          "execution_count": 3
        }
      ]
    },
    {
      "cell_type": "code",
      "source": [
        "for i in range(len(df.columns)):\n",
        "  if((df[df.columns[i]].dtype == 'int64') or (df[df.columns[i]].dtype == 'float64')):\n",
        "    df[df.columns[i]] = df[df.columns[i]].replace(np.nan,df[df.columns[i]].mean())"
      ],
      "metadata": {
        "id": "w35TTkD_OsCS"
      },
      "execution_count": 4,
      "outputs": []
    },
    {
      "cell_type": "code",
      "source": [
        "for i in range(len(df.columns)):\n",
        "  if(df[df.columns[i]].dtype == 'object'):\n",
        "    df[df.columns[i]] = df[df.columns[i]].replace(np.nan,df[df.columns[i]].value_counts().index[0])"
      ],
      "metadata": {
        "id": "nkfleel9P1rm"
      },
      "execution_count": 5,
      "outputs": []
    },
    {
      "cell_type": "code",
      "source": [
        "pd.DataFrame((df.isna().sum()))"
      ],
      "metadata": {
        "colab": {
          "base_uri": "https://localhost:8080/",
          "height": 927
        },
        "id": "bel0IBtSQ1s_",
        "outputId": "dc2c5bec-11ac-4b64-e7a0-38ba880e440a"
      },
      "execution_count": 6,
      "outputs": [
        {
          "output_type": "execute_result",
          "data": {
            "text/plain": [
              "                       0\n",
              "surgery                0\n",
              "age                    0\n",
              "hospital_number        0\n",
              "rectal_temp            0\n",
              "pulse                  0\n",
              "respiratory_rate       0\n",
              "temp_of_extremities    0\n",
              "peripheral_pulse       0\n",
              "mucous_membrane        0\n",
              "capillary_refill_time  0\n",
              "pain                   0\n",
              "peristalsis            0\n",
              "abdominal_distention   0\n",
              "nasogastric_tube       0\n",
              "nasogastric_reflux     0\n",
              "nasogastric_reflux_ph  0\n",
              "rectal_exam_feces      0\n",
              "abdomen                0\n",
              "packed_cell_volume     0\n",
              "total_protein          0\n",
              "abdomo_appearance      0\n",
              "abdomo_protein         0\n",
              "outcome                0\n",
              "surgical_lesion        0\n",
              "lesion_1               0\n",
              "lesion_2               0\n",
              "lesion_3               0\n",
              "cp_data                0"
            ],
            "text/html": [
              "\n",
              "  <div id=\"df-e573a7ac-b65e-4315-b944-90639434937b\">\n",
              "    <div class=\"colab-df-container\">\n",
              "      <div>\n",
              "<style scoped>\n",
              "    .dataframe tbody tr th:only-of-type {\n",
              "        vertical-align: middle;\n",
              "    }\n",
              "\n",
              "    .dataframe tbody tr th {\n",
              "        vertical-align: top;\n",
              "    }\n",
              "\n",
              "    .dataframe thead th {\n",
              "        text-align: right;\n",
              "    }\n",
              "</style>\n",
              "<table border=\"1\" class=\"dataframe\">\n",
              "  <thead>\n",
              "    <tr style=\"text-align: right;\">\n",
              "      <th></th>\n",
              "      <th>0</th>\n",
              "    </tr>\n",
              "  </thead>\n",
              "  <tbody>\n",
              "    <tr>\n",
              "      <th>surgery</th>\n",
              "      <td>0</td>\n",
              "    </tr>\n",
              "    <tr>\n",
              "      <th>age</th>\n",
              "      <td>0</td>\n",
              "    </tr>\n",
              "    <tr>\n",
              "      <th>hospital_number</th>\n",
              "      <td>0</td>\n",
              "    </tr>\n",
              "    <tr>\n",
              "      <th>rectal_temp</th>\n",
              "      <td>0</td>\n",
              "    </tr>\n",
              "    <tr>\n",
              "      <th>pulse</th>\n",
              "      <td>0</td>\n",
              "    </tr>\n",
              "    <tr>\n",
              "      <th>respiratory_rate</th>\n",
              "      <td>0</td>\n",
              "    </tr>\n",
              "    <tr>\n",
              "      <th>temp_of_extremities</th>\n",
              "      <td>0</td>\n",
              "    </tr>\n",
              "    <tr>\n",
              "      <th>peripheral_pulse</th>\n",
              "      <td>0</td>\n",
              "    </tr>\n",
              "    <tr>\n",
              "      <th>mucous_membrane</th>\n",
              "      <td>0</td>\n",
              "    </tr>\n",
              "    <tr>\n",
              "      <th>capillary_refill_time</th>\n",
              "      <td>0</td>\n",
              "    </tr>\n",
              "    <tr>\n",
              "      <th>pain</th>\n",
              "      <td>0</td>\n",
              "    </tr>\n",
              "    <tr>\n",
              "      <th>peristalsis</th>\n",
              "      <td>0</td>\n",
              "    </tr>\n",
              "    <tr>\n",
              "      <th>abdominal_distention</th>\n",
              "      <td>0</td>\n",
              "    </tr>\n",
              "    <tr>\n",
              "      <th>nasogastric_tube</th>\n",
              "      <td>0</td>\n",
              "    </tr>\n",
              "    <tr>\n",
              "      <th>nasogastric_reflux</th>\n",
              "      <td>0</td>\n",
              "    </tr>\n",
              "    <tr>\n",
              "      <th>nasogastric_reflux_ph</th>\n",
              "      <td>0</td>\n",
              "    </tr>\n",
              "    <tr>\n",
              "      <th>rectal_exam_feces</th>\n",
              "      <td>0</td>\n",
              "    </tr>\n",
              "    <tr>\n",
              "      <th>abdomen</th>\n",
              "      <td>0</td>\n",
              "    </tr>\n",
              "    <tr>\n",
              "      <th>packed_cell_volume</th>\n",
              "      <td>0</td>\n",
              "    </tr>\n",
              "    <tr>\n",
              "      <th>total_protein</th>\n",
              "      <td>0</td>\n",
              "    </tr>\n",
              "    <tr>\n",
              "      <th>abdomo_appearance</th>\n",
              "      <td>0</td>\n",
              "    </tr>\n",
              "    <tr>\n",
              "      <th>abdomo_protein</th>\n",
              "      <td>0</td>\n",
              "    </tr>\n",
              "    <tr>\n",
              "      <th>outcome</th>\n",
              "      <td>0</td>\n",
              "    </tr>\n",
              "    <tr>\n",
              "      <th>surgical_lesion</th>\n",
              "      <td>0</td>\n",
              "    </tr>\n",
              "    <tr>\n",
              "      <th>lesion_1</th>\n",
              "      <td>0</td>\n",
              "    </tr>\n",
              "    <tr>\n",
              "      <th>lesion_2</th>\n",
              "      <td>0</td>\n",
              "    </tr>\n",
              "    <tr>\n",
              "      <th>lesion_3</th>\n",
              "      <td>0</td>\n",
              "    </tr>\n",
              "    <tr>\n",
              "      <th>cp_data</th>\n",
              "      <td>0</td>\n",
              "    </tr>\n",
              "  </tbody>\n",
              "</table>\n",
              "</div>\n",
              "      <button class=\"colab-df-convert\" onclick=\"convertToInteractive('df-e573a7ac-b65e-4315-b944-90639434937b')\"\n",
              "              title=\"Convert this dataframe to an interactive table.\"\n",
              "              style=\"display:none;\">\n",
              "        \n",
              "  <svg xmlns=\"http://www.w3.org/2000/svg\" height=\"24px\"viewBox=\"0 0 24 24\"\n",
              "       width=\"24px\">\n",
              "    <path d=\"M0 0h24v24H0V0z\" fill=\"none\"/>\n",
              "    <path d=\"M18.56 5.44l.94 2.06.94-2.06 2.06-.94-2.06-.94-.94-2.06-.94 2.06-2.06.94zm-11 1L8.5 8.5l.94-2.06 2.06-.94-2.06-.94L8.5 2.5l-.94 2.06-2.06.94zm10 10l.94 2.06.94-2.06 2.06-.94-2.06-.94-.94-2.06-.94 2.06-2.06.94z\"/><path d=\"M17.41 7.96l-1.37-1.37c-.4-.4-.92-.59-1.43-.59-.52 0-1.04.2-1.43.59L10.3 9.45l-7.72 7.72c-.78.78-.78 2.05 0 2.83L4 21.41c.39.39.9.59 1.41.59.51 0 1.02-.2 1.41-.59l7.78-7.78 2.81-2.81c.8-.78.8-2.07 0-2.86zM5.41 20L4 18.59l7.72-7.72 1.47 1.35L5.41 20z\"/>\n",
              "  </svg>\n",
              "      </button>\n",
              "      \n",
              "  <style>\n",
              "    .colab-df-container {\n",
              "      display:flex;\n",
              "      flex-wrap:wrap;\n",
              "      gap: 12px;\n",
              "    }\n",
              "\n",
              "    .colab-df-convert {\n",
              "      background-color: #E8F0FE;\n",
              "      border: none;\n",
              "      border-radius: 50%;\n",
              "      cursor: pointer;\n",
              "      display: none;\n",
              "      fill: #1967D2;\n",
              "      height: 32px;\n",
              "      padding: 0 0 0 0;\n",
              "      width: 32px;\n",
              "    }\n",
              "\n",
              "    .colab-df-convert:hover {\n",
              "      background-color: #E2EBFA;\n",
              "      box-shadow: 0px 1px 2px rgba(60, 64, 67, 0.3), 0px 1px 3px 1px rgba(60, 64, 67, 0.15);\n",
              "      fill: #174EA6;\n",
              "    }\n",
              "\n",
              "    [theme=dark] .colab-df-convert {\n",
              "      background-color: #3B4455;\n",
              "      fill: #D2E3FC;\n",
              "    }\n",
              "\n",
              "    [theme=dark] .colab-df-convert:hover {\n",
              "      background-color: #434B5C;\n",
              "      box-shadow: 0px 1px 3px 1px rgba(0, 0, 0, 0.15);\n",
              "      filter: drop-shadow(0px 1px 2px rgba(0, 0, 0, 0.3));\n",
              "      fill: #FFFFFF;\n",
              "    }\n",
              "  </style>\n",
              "\n",
              "      <script>\n",
              "        const buttonEl =\n",
              "          document.querySelector('#df-e573a7ac-b65e-4315-b944-90639434937b button.colab-df-convert');\n",
              "        buttonEl.style.display =\n",
              "          google.colab.kernel.accessAllowed ? 'block' : 'none';\n",
              "\n",
              "        async function convertToInteractive(key) {\n",
              "          const element = document.querySelector('#df-e573a7ac-b65e-4315-b944-90639434937b');\n",
              "          const dataTable =\n",
              "            await google.colab.kernel.invokeFunction('convertToInteractive',\n",
              "                                                     [key], {});\n",
              "          if (!dataTable) return;\n",
              "\n",
              "          const docLinkHtml = 'Like what you see? Visit the ' +\n",
              "            '<a target=\"_blank\" href=https://colab.research.google.com/notebooks/data_table.ipynb>data table notebook</a>'\n",
              "            + ' to learn more about interactive tables.';\n",
              "          element.innerHTML = '';\n",
              "          dataTable['output_type'] = 'display_data';\n",
              "          await google.colab.output.renderOutput(dataTable, element);\n",
              "          const docLink = document.createElement('div');\n",
              "          docLink.innerHTML = docLinkHtml;\n",
              "          element.appendChild(docLink);\n",
              "        }\n",
              "      </script>\n",
              "    </div>\n",
              "  </div>\n",
              "  "
            ]
          },
          "metadata": {},
          "execution_count": 6
        }
      ]
    },
    {
      "cell_type": "code",
      "source": [
        "df['surgery'] =  LabelEncoder().fit_transform(df['surgery'])\n",
        "df['age'] =  LabelEncoder().fit_transform(df['age'])\n",
        "df['outcome'] =  LabelEncoder().fit_transform(df['outcome'])\n",
        "df['surgical_lesion'] =  LabelEncoder().fit_transform(df['surgical_lesion'])\n",
        "df['cp_data'] =  LabelEncoder().fit_transform(df['cp_data'])\n",
        "df['abdomo_appearance'] =  LabelEncoder().fit_transform(df['abdomo_appearance'])\n",
        "df['abdomen'] =  LabelEncoder().fit_transform(df['abdomen'])\n",
        "df['temp_of_extremities'] =  LabelEncoder().fit_transform(df['temp_of_extremities'])\n",
        "df['peripheral_pulse'] =  LabelEncoder().fit_transform(df['peripheral_pulse'])\n",
        "df['mucous_membrane'] =  LabelEncoder().fit_transform(df['mucous_membrane'])\n",
        "df['capillary_refill_time'] =  LabelEncoder().fit_transform(df['capillary_refill_time'])\n",
        "df['peristalsis'] =  LabelEncoder().fit_transform(df['peristalsis'])\n",
        "df['pain'] =  LabelEncoder().fit_transform(df['pain'])\n",
        "df['abdominal_distention'] =  LabelEncoder().fit_transform(df['abdominal_distention'])\n",
        "df['nasogastric_tube'] =  LabelEncoder().fit_transform(df['nasogastric_tube'])\n",
        "df['nasogastric_reflux'] =  LabelEncoder().fit_transform(df['nasogastric_reflux'])\n",
        "df['rectal_exam_feces'] =  LabelEncoder().fit_transform(df['rectal_exam_feces'])"
      ],
      "metadata": {
        "id": "2fTnqCkCdjoz"
      },
      "execution_count": 7,
      "outputs": []
    },
    {
      "cell_type": "code",
      "source": [
        "X =  df.drop(['outcome'], axis =1)\n",
        "y = df['outcome']"
      ],
      "metadata": {
        "id": "QKi1zVfkSc1C"
      },
      "execution_count": 8,
      "outputs": []
    },
    {
      "cell_type": "code",
      "source": [
        "X_train, X_test, y_train, y_test = train_test_split(X, y, test_size=0.1, random_state=0)"
      ],
      "metadata": {
        "id": "Tk9QoDmKpVVk"
      },
      "execution_count": 9,
      "outputs": []
    },
    {
      "cell_type": "code",
      "source": [
        "test = SelectKBest(score_func=chi2, k=len(X.columns)).fit(X,y)\n",
        "np.set_printoptions(precision=3)\n",
        "score  =  test.scores_\n",
        "Y = X.columns\n",
        "score"
      ],
      "metadata": {
        "colab": {
          "base_uri": "https://localhost:8080/"
        },
        "id": "ysRbVgRnxbe_",
        "outputId": "fdfce4f2-f98a-432f-d7b3-aff2217096c3"
      },
      "execution_count": 10,
      "outputs": [
        {
          "output_type": "execute_result",
          "data": {
            "text/plain": [
              "array([4.315e+00, 5.939e+00, 1.520e+07, 1.099e-02, 3.958e+02, 1.551e+01,\n",
              "       1.488e+01, 1.704e+00, 8.076e-01, 4.876e+00, 6.648e+00, 5.398e+00,\n",
              "       4.106e+00, 5.308e-01, 2.858e+00, 1.115e+00, 2.095e+01, 2.957e+01,\n",
              "       1.069e+02, 1.126e+03, 5.484e+00, 5.348e+00, 1.221e+01, 2.820e+04,\n",
              "       1.431e+04, 1.502e+03, 4.401e+00])"
            ]
          },
          "metadata": {},
          "execution_count": 10
        }
      ]
    },
    {
      "cell_type": "code",
      "source": [
        "sns.barplot(x  = score,y = Y )\n",
        "plt.xlabel('Importance Score')\n",
        "plt.ylabel('Features name')"
      ],
      "metadata": {
        "id": "zBpEC8trxeV8",
        "colab": {
          "base_uri": "https://localhost:8080/",
          "height": 296
        },
        "outputId": "7f2257dc-4fc0-47e7-b0de-6d449aeb5ebe"
      },
      "execution_count": 11,
      "outputs": [
        {
          "output_type": "execute_result",
          "data": {
            "text/plain": [
              "Text(0, 0.5, 'Features name')"
            ]
          },
          "metadata": {},
          "execution_count": 11
        },
        {
          "output_type": "display_data",
          "data": {
            "text/plain": [
              "<Figure size 432x288 with 1 Axes>"
            ],
            "image/png": "[encoded data removed]"
          },
          "metadata": {
            "needs_background": "light"
          }
        }
      ]
    },
    {
      "cell_type": "code",
      "source": [
        "dc = {'Chi2 ranking': X.columns[score.argsort()[::-1]], 'score': np.sort(score)[::-1]}\n",
        "ranking_chi = pd.DataFrame(data =  dc)\n",
        "ranking_chi.to_excel(\"horse_approval_dataset.xlsx\",sheet_name='Chi_2')  "
      ],
      "metadata": {
        "id": "bUZYMHXxlDWm"
      },
      "execution_count": 12,
      "outputs": []
    },
    {
      "cell_type": "code",
      "source": [
        "rf = RandomForestClassifier(n_estimators=150)\n",
        "rf.fit(X_train, y_train)"
      ],
      "metadata": {
        "colab": {
          "base_uri": "https://localhost:8080/"
        },
        "id": "3ESRUQ3mkdZD",
        "outputId": "be884489-3466-4f4c-ebac-b11e892fa937"
      },
      "execution_count": 13,
      "outputs": [
        {
          "output_type": "execute_result",
          "data": {
            "text/plain": [
              "RandomForestClassifier(n_estimators=150)"
            ]
          },
          "metadata": {},
          "execution_count": 13
        }
      ]
    },
    {
      "cell_type": "code",
      "source": [
        "rf.feature_importances_"
      ],
      "metadata": {
        "colab": {
          "base_uri": "https://localhost:8080/"
        },
        "id": "CW0V6bczkwEy",
        "outputId": "491aa97a-1ca7-437d-ba1c-25f0e1dc66a3"
      },
      "execution_count": 14,
      "outputs": [
        {
          "output_type": "execute_result",
          "data": {
            "text/plain": [
              "array([0.018, 0.008, 0.078, 0.056, 0.1  , 0.048, 0.023, 0.022, 0.031,\n",
              "       0.02 , 0.041, 0.02 , 0.03 , 0.016, 0.017, 0.026, 0.016, 0.017,\n",
              "       0.114, 0.093, 0.014, 0.035, 0.03 , 0.115, 0.002, 0.   , 0.012])"
            ]
          },
          "metadata": {},
          "execution_count": 14
        }
      ]
    },
    {
      "cell_type": "code",
      "source": [
        "sort = rf.feature_importances_\n",
        "plt.barh(X.columns, rf.feature_importances_)\n",
        "plt.xlabel(\"Feature Importance\")"
      ],
      "metadata": {
        "colab": {
          "base_uri": "https://localhost:8080/",
          "height": 296
        },
        "id": "NDCoPHLnky4u",
        "outputId": "6693cab4-318a-4274-d354-90d2430ee9e0"
      },
      "execution_count": 15,
      "outputs": [
        {
          "output_type": "execute_result",
          "data": {
            "text/plain": [
              "Text(0.5, 0, 'Feature Importance')"
            ]
          },
          "metadata": {},
          "execution_count": 15
        },
        {
          "output_type": "display_data",
          "data": {
            "text/plain": [
              "<Figure size 432x288 with 1 Axes>"
            ],
            "image/png": "[encoded data removed]"
          },
          "metadata": {
            "needs_background": "light"
          }
        }
      ]
    },
    {
      "cell_type": "code",
      "source": [
        "dc = {'Tree based method Attributes': X.columns[rf.feature_importances_.argsort()[::-1]],'score': np.sort(rf.feature_importances_)[::-1]}\n",
        "rank_tree = pd.DataFrame(data =  dc) \n",
        "from openpyxl import load_workbook\n",
        "book = load_workbook('/content/horse_approval_dataset.xlsx')\n",
        "writer = pd.ExcelWriter('/content/horse_approval_dataset.xlsx', engine='openpyxl') \n",
        "writer.book = book\n",
        "## ExcelWriter for some reason uses writer.sheets to access the sheet.\n",
        "## If you leave it empty it will not know that sheet Main is already there\n",
        "## and will create a new sheet.\n",
        "writer.sheets = dict((ws.title, ws) for ws in book.worksheets)\n",
        "rank_tree.to_excel(writer, \"Tree_based_method\")\n",
        "writer.save()"
      ],
      "metadata": {
        "id": "D_A1PEhjlNrp"
      },
      "execution_count": 16,
      "outputs": []
    },
    {
      "cell_type": "code",
      "source": [
        "clf = LogisticRegression(solver = 'liblinear').fit(X_train, y_train)\n",
        "result = permutation_importance(clf, X, y, n_repeats=10, random_state=0)\n",
        "plt.barh(X.columns, result.importances_mean )\n",
        "plt.xlabel(\"Feature Importance MEAN\")"
      ],
      "metadata": {
        "colab": {
          "base_uri": "https://localhost:8080/",
          "height": 296
        },
        "id": "jH1m1ddLk2SG",
        "outputId": "b3760500-3d01-41b5-cfae-5a3ff85aae0f"
      },
      "execution_count": 17,
      "outputs": [
        {
          "output_type": "execute_result",
          "data": {
            "text/plain": [
              "Text(0.5, 0, 'Feature Importance MEAN')"
            ]
          },
          "metadata": {},
          "execution_count": 17
        },
        {
          "output_type": "display_data",
          "data": {
            "text/plain": [
              "<Figure size 432x288 with 1 Axes>"
            ],
            "image/png": "[encoded data removed]"
          },
          "metadata": {
            "needs_background": "light"
          }
        }
      ]
    },
    {
      "cell_type": "code",
      "source": [
        "dc = {'Permutation_importance_mean': X.columns[result.importances_mean.argsort()[::-1]],'score': np.sort(result.importances_mean)[::-1]}\n",
        "rank_per_mean = pd.DataFrame(data =  dc) \n",
        "book = load_workbook('/content/horse_approval_dataset.xlsx')\n",
        "writer = pd.ExcelWriter('/content/horse_approval_dataset.xlsx', engine='openpyxl') \n",
        "writer.book = book\n",
        "## ExcelWriter for some reason uses writer.sheets to access the sheet.\n",
        "## If you leave it empty it will not know that sheet Main is already there\n",
        "## and will create a new sheet.\n",
        "writer.sheets = dict((ws.title, ws) for ws in book.worksheets)\n",
        "rank_per_mean.to_excel(writer, \"permutation_method_mean\")\n",
        "writer.save()"
      ],
      "metadata": {
        "id": "ZdwTKMbelW45"
      },
      "execution_count": 18,
      "outputs": []
    },
    {
      "cell_type": "code",
      "source": [
        "plt.barh(X.columns, result.importances_std)\n",
        "plt.xlabel(\"Feature Importance STD\")"
      ],
      "metadata": {
        "colab": {
          "base_uri": "https://localhost:8080/",
          "height": 296
        },
        "id": "Y_HfO7kfk_YZ",
        "outputId": "84147e2c-c8ec-4c50-e0ba-53e7d7b835e2"
      },
      "execution_count": 19,
      "outputs": [
        {
          "output_type": "execute_result",
          "data": {
            "text/plain": [
              "Text(0.5, 0, 'Feature Importance STD')"
            ]
          },
          "metadata": {},
          "execution_count": 19
        },
        {
          "output_type": "display_data",
          "data": {
            "text/plain": [
              "<Figure size 432x288 with 1 Axes>"
            ],
            "image/png": "[encoded data removed]"
          },
          "metadata": {
            "needs_background": "light"
          }
        }
      ]
    },
    {
      "cell_type": "code",
      "source": [
        "dc = {'Permutation_importance_std': X.columns[result.importances_std.argsort()[::-1]],'score': np.sort(result.importances_std)[::-1]}\n",
        "rank_per_std = pd.DataFrame(data =  dc) \n",
        "book = load_workbook('/content/horse_approval_dataset.xlsx')\n",
        "writer = pd.ExcelWriter('/content/horse_approval_dataset.xlsx', engine='openpyxl') \n",
        "writer.book = book\n",
        "\n",
        "## ExcelWriter for some reason uses writer.sheets to access the sheet.\n",
        "## If you leave it empty it will not know that sheet Main is already there\n",
        "## and will create a new sheet.\n",
        "\n",
        "writer.sheets = dict((ws.title, ws) for ws in book.worksheets)\n",
        "rank_per_std.to_excel(writer, \"permutation_method_std\")\n",
        "writer.save()"
      ],
      "metadata": {
        "id": "tNRzfb66lc90"
      },
      "execution_count": 20,
      "outputs": []
    },
    {
      "cell_type": "code",
      "source": [
        "pca = PCA().fit(X_train)\n",
        "plt.plot(pca.explained_variance_ratio_.cumsum(), lw=3, color='#087E8B')\n",
        "plt.title('Cumulative explained variance by number of principal components', size=5)\n",
        "plt.show()"
      ],
      "metadata": {
        "colab": {
          "base_uri": "https://localhost:8080/",
          "height": 276
        },
        "id": "CngPH8xqlGVd",
        "outputId": "aa93afb2-eb95-44b3-a0e1-e865944b9969"
      },
      "execution_count": 21,
      "outputs": [
        {
          "output_type": "display_data",
          "data": {
            "text/plain": [
              "<Figure size 432x288 with 1 Axes>"
            ],
            "image/png": "[encoded data removed]"
          },
          "metadata": {
            "needs_background": "light"
          }
        }
      ]
    },
    {
      "cell_type": "code",
      "source": [
        "loadings = pd.DataFrame(\n",
        "    data=pca.components_.T * np.sqrt(pca.explained_variance_), \n",
        "    columns=[f'PC{i}' for i in range(1, len(X.columns) + 1)],\n",
        "    index=X.columns\n",
        ")\n",
        "loadings.head()"
      ],
      "metadata": {
        "colab": {
          "base_uri": "https://localhost:8080/",
          "height": 386
        },
        "id": "4dV3HrwilJx1",
        "outputId": "b8db0c59-d1d2-4a70-ad75-a7b76633ab69"
      },
      "execution_count": 22,
      "outputs": [
        {
          "output_type": "execute_result",
          "data": {
            "text/plain": [
              "                          PC1       PC2       PC3        PC4       PC5  \\\n",
              "surgery          7.674296e-02  0.071973  0.039604   0.058987  0.047894   \n",
              "age              1.868238e-01 -0.017634 -0.000894   0.071209  0.015916   \n",
              "hospital_number  1.500317e+06 -1.601024  0.009470  -0.000191  0.000049   \n",
              "rectal_temp      9.989779e-02  0.027123 -0.054227   0.119369  0.002911   \n",
              "pulse            9.930502e+00  1.256608 -0.469332  25.164435  3.179392   \n",
              "\n",
              "                      PC6       PC7           PC8           PC9          PC10  \\\n",
              "surgery          0.020593  0.007277 -1.395613e-01 -1.010128e-01  5.549085e-02   \n",
              "age              0.022232 -0.060215  2.851769e-02 -2.379137e-03  3.213085e-04   \n",
              "hospital_number -0.000018  0.000014 -1.844658e-07  3.188762e-07  6.167731e-08   \n",
              "rectal_temp      0.089678 -0.014080  1.290933e-01  2.301893e-02  3.701668e-02   \n",
              "pulse           -2.993517 -1.834527  2.056918e-02  4.896130e-03 -7.797284e-03   \n",
              "\n",
              "                 ...          PC18          PC19          PC20          PC21  \\\n",
              "surgery          ...  1.368101e-01  5.761505e-02 -2.726508e-01 -5.777334e-02   \n",
              "age              ... -6.830420e-03  4.445092e-03  1.119818e-02  8.224722e-03   \n",
              "hospital_number  ...  3.032111e-08  8.647531e-09 -2.287966e-09 -3.562574e-09   \n",
              "rectal_temp      ... -5.361815e-01  1.228960e-01 -1.724868e-01 -9.586612e-02   \n",
              "pulse            ...  1.290400e-03  1.286808e-03  1.429898e-03  1.595140e-03   \n",
              "\n",
              "                         PC22          PC23          PC24          PC25  \\\n",
              "surgery          2.151531e-01 -4.515838e-02  5.291858e-03  1.728585e-01   \n",
              "age              4.772104e-03  9.237064e-03  1.416332e-02  6.826054e-03   \n",
              "hospital_number -3.516669e-08 -2.605732e-09  3.722825e-09 -5.917077e-09   \n",
              "rectal_temp     -2.975765e-02 -1.279700e-02  3.610414e-02  5.057123e-03   \n",
              "pulse            1.472203e-03 -7.394286e-04  9.387584e-04  3.345346e-05   \n",
              "\n",
              "                         PC26          PC27  \n",
              "surgery         -6.008989e-04  0.000000e+00  \n",
              "age              1.506136e-01  6.986968e-28  \n",
              "hospital_number -1.361961e-08 -1.610143e-35  \n",
              "rectal_temp     -5.142919e-04 -6.441629e-27  \n",
              "pulse           -6.112726e-04  8.347464e-29  \n",
              "\n",
              "[5 rows x 27 columns]"
            ],
            "text/html": [
              "\n",
              "  <div id=\"df-4bf8ddb3-c80d-458a-9b76-13c8fab1bc5e\">\n",
              "    <div class=\"colab-df-container\">\n",
              "      <div>\n",
              "<style scoped>\n",
              "    .dataframe tbody tr th:only-of-type {\n",
              "        vertical-align: middle;\n",
              "    }\n",
              "\n",
              "    .dataframe tbody tr th {\n",
              "        vertical-align: top;\n",
              "    }\n",
              "\n",
              "    .dataframe thead th {\n",
              "        text-align: right;\n",
              "    }\n",
              "</style>\n",
              "<table border=\"1\" class=\"dataframe\">\n",
              "  <thead>\n",
              "    <tr style=\"text-align: right;\">\n",
              "      <th></th>\n",
              "      <th>PC1</th>\n",
              "      <th>PC2</th>\n",
              "      <th>PC3</th>\n",
              "      <th>PC4</th>\n",
              "      <th>PC5</th>\n",
              "      <th>PC6</th>\n",
              "      <th>PC7</th>\n",
              "      <th>PC8</th>\n",
              "      <th>PC9</th>\n",
              "      <th>PC10</th>\n",
              "      <th>...</th>\n",
              "      <th>PC18</th>\n",
              "      <th>PC19</th>\n",
              "      <th>PC20</th>\n",
              "      <th>PC21</th>\n",
              "      <th>PC22</th>\n",
              "      <th>PC23</th>\n",
              "      <th>PC24</th>\n",
              "      <th>PC25</th>\n",
              "      <th>PC26</th>\n",
              "      <th>PC27</th>\n",
              "    </tr>\n",
              "  </thead>\n",
              "  <tbody>\n",
              "    <tr>\n",
              "      <th>surgery</th>\n",
              "      <td>7.674296e-02</td>\n",
              "      <td>0.071973</td>\n",
              "      <td>0.039604</td>\n",
              "      <td>0.058987</td>\n",
              "      <td>0.047894</td>\n",
              "      <td>0.020593</td>\n",
              "      <td>0.007277</td>\n",
              "      <td>-1.395613e-01</td>\n",
              "      <td>-1.010128e-01</td>\n",
              "      <td>5.549085e-02</td>\n",
              "      <td>...</td>\n",
              "      <td>1.368101e-01</td>\n",
              "      <td>5.761505e-02</td>\n",
              "      <td>-2.726508e-01</td>\n",
              "      <td>-5.777334e-02</td>\n",
              "      <td>2.151531e-01</td>\n",
              "      <td>-4.515838e-02</td>\n",
              "      <td>5.291858e-03</td>\n",
              "      <td>1.728585e-01</td>\n",
              "      <td>-6.008989e-04</td>\n",
              "      <td>0.000000e+00</td>\n",
              "    </tr>\n",
              "    <tr>\n",
              "      <th>age</th>\n",
              "      <td>1.868238e-01</td>\n",
              "      <td>-0.017634</td>\n",
              "      <td>-0.000894</td>\n",
              "      <td>0.071209</td>\n",
              "      <td>0.015916</td>\n",
              "      <td>0.022232</td>\n",
              "      <td>-0.060215</td>\n",
              "      <td>2.851769e-02</td>\n",
              "      <td>-2.379137e-03</td>\n",
              "      <td>3.213085e-04</td>\n",
              "      <td>...</td>\n",
              "      <td>-6.830420e-03</td>\n",
              "      <td>4.445092e-03</td>\n",
              "      <td>1.119818e-02</td>\n",
              "      <td>8.224722e-03</td>\n",
              "      <td>4.772104e-03</td>\n",
              "      <td>9.237064e-03</td>\n",
              "      <td>1.416332e-02</td>\n",
              "      <td>6.826054e-03</td>\n",
              "      <td>1.506136e-01</td>\n",
              "      <td>6.986968e-28</td>\n",
              "    </tr>\n",
              "    <tr>\n",
              "      <th>hospital_number</th>\n",
              "      <td>1.500317e+06</td>\n",
              "      <td>-1.601024</td>\n",
              "      <td>0.009470</td>\n",
              "      <td>-0.000191</td>\n",
              "      <td>0.000049</td>\n",
              "      <td>-0.000018</td>\n",
              "      <td>0.000014</td>\n",
              "      <td>-1.844658e-07</td>\n",
              "      <td>3.188762e-07</td>\n",
              "      <td>6.167731e-08</td>\n",
              "      <td>...</td>\n",
              "      <td>3.032111e-08</td>\n",
              "      <td>8.647531e-09</td>\n",
              "      <td>-2.287966e-09</td>\n",
              "      <td>-3.562574e-09</td>\n",
              "      <td>-3.516669e-08</td>\n",
              "      <td>-2.605732e-09</td>\n",
              "      <td>3.722825e-09</td>\n",
              "      <td>-5.917077e-09</td>\n",
              "      <td>-1.361961e-08</td>\n",
              "      <td>-1.610143e-35</td>\n",
              "    </tr>\n",
              "    <tr>\n",
              "      <th>rectal_temp</th>\n",
              "      <td>9.989779e-02</td>\n",
              "      <td>0.027123</td>\n",
              "      <td>-0.054227</td>\n",
              "      <td>0.119369</td>\n",
              "      <td>0.002911</td>\n",
              "      <td>0.089678</td>\n",
              "      <td>-0.014080</td>\n",
              "      <td>1.290933e-01</td>\n",
              "      <td>2.301893e-02</td>\n",
              "      <td>3.701668e-02</td>\n",
              "      <td>...</td>\n",
              "      <td>-5.361815e-01</td>\n",
              "      <td>1.228960e-01</td>\n",
              "      <td>-1.724868e-01</td>\n",
              "      <td>-9.586612e-02</td>\n",
              "      <td>-2.975765e-02</td>\n",
              "      <td>-1.279700e-02</td>\n",
              "      <td>3.610414e-02</td>\n",
              "      <td>5.057123e-03</td>\n",
              "      <td>-5.142919e-04</td>\n",
              "      <td>-6.441629e-27</td>\n",
              "    </tr>\n",
              "    <tr>\n",
              "      <th>pulse</th>\n",
              "      <td>9.930502e+00</td>\n",
              "      <td>1.256608</td>\n",
              "      <td>-0.469332</td>\n",
              "      <td>25.164435</td>\n",
              "      <td>3.179392</td>\n",
              "      <td>-2.993517</td>\n",
              "      <td>-1.834527</td>\n",
              "      <td>2.056918e-02</td>\n",
              "      <td>4.896130e-03</td>\n",
              "      <td>-7.797284e-03</td>\n",
              "      <td>...</td>\n",
              "      <td>1.290400e-03</td>\n",
              "      <td>1.286808e-03</td>\n",
              "      <td>1.429898e-03</td>\n",
              "      <td>1.595140e-03</td>\n",
              "      <td>1.472203e-03</td>\n",
              "      <td>-7.394286e-04</td>\n",
              "      <td>9.387584e-04</td>\n",
              "      <td>3.345346e-05</td>\n",
              "      <td>-6.112726e-04</td>\n",
              "      <td>8.347464e-29</td>\n",
              "    </tr>\n",
              "  </tbody>\n",
              "</table>\n",
              "<p>5 rows × 27 columns</p>\n",
              "</div>\n",
              "      <button class=\"colab-df-convert\" onclick=\"convertToInteractive('df-4bf8ddb3-c80d-458a-9b76-13c8fab1bc5e')\"\n",
              "              title=\"Convert this dataframe to an interactive table.\"\n",
              "              style=\"display:none;\">\n",
              "        \n",
              "  <svg xmlns=\"http://www.w3.org/2000/svg\" height=\"24px\"viewBox=\"0 0 24 24\"\n",
              "       width=\"24px\">\n",
              "    <path d=\"M0 0h24v24H0V0z\" fill=\"none\"/>\n",
              "    <path d=\"M18.56 5.44l.94 2.06.94-2.06 2.06-.94-2.06-.94-.94-2.06-.94 2.06-2.06.94zm-11 1L8.5 8.5l.94-2.06 2.06-.94-2.06-.94L8.5 2.5l-.94 2.06-2.06.94zm10 10l.94 2.06.94-2.06 2.06-.94-2.06-.94-.94-2.06-.94 2.06-2.06.94z\"/><path d=\"M17.41 7.96l-1.37-1.37c-.4-.4-.92-.59-1.43-.59-.52 0-1.04.2-1.43.59L10.3 9.45l-7.72 7.72c-.78.78-.78 2.05 0 2.83L4 21.41c.39.39.9.59 1.41.59.51 0 1.02-.2 1.41-.59l7.78-7.78 2.81-2.81c.8-.78.8-2.07 0-2.86zM5.41 20L4 18.59l7.72-7.72 1.47 1.35L5.41 20z\"/>\n",
              "  </svg>\n",
              "      </button>\n",
              "      \n",
              "  <style>\n",
              "    .colab-df-container {\n",
              "      display:flex;\n",
              "      flex-wrap:wrap;\n",
              "      gap: 12px;\n",
              "    }\n",
              "\n",
              "    .colab-df-convert {\n",
              "      background-color: #E8F0FE;\n",
              "      border: none;\n",
              "      border-radius: 50%;\n",
              "      cursor: pointer;\n",
              "      display: none;\n",
              "      fill: #1967D2;\n",
              "      height: 32px;\n",
              "      padding: 0 0 0 0;\n",
              "      width: 32px;\n",
              "    }\n",
              "\n",
              "    .colab-df-convert:hover {\n",
              "      background-color: #E2EBFA;\n",
              "      box-shadow: 0px 1px 2px rgba(60, 64, 67, 0.3), 0px 1px 3px 1px rgba(60, 64, 67, 0.15);\n",
              "      fill: #174EA6;\n",
              "    }\n",
              "\n",
              "    [theme=dark] .colab-df-convert {\n",
              "      background-color: #3B4455;\n",
              "      fill: #D2E3FC;\n",
              "    }\n",
              "\n",
              "    [theme=dark] .colab-df-convert:hover {\n",
              "      background-color: #434B5C;\n",
              "      box-shadow: 0px 1px 3px 1px rgba(0, 0, 0, 0.15);\n",
              "      filter: drop-shadow(0px 1px 2px rgba(0, 0, 0, 0.3));\n",
              "      fill: #FFFFFF;\n",
              "    }\n",
              "  </style>\n",
              "\n",
              "      <script>\n",
              "        const buttonEl =\n",
              "          document.querySelector('#df-4bf8ddb3-c80d-458a-9b76-13c8fab1bc5e button.colab-df-convert');\n",
              "        buttonEl.style.display =\n",
              "          google.colab.kernel.accessAllowed ? 'block' : 'none';\n",
              "\n",
              "        async function convertToInteractive(key) {\n",
              "          const element = document.querySelector('#df-4bf8ddb3-c80d-458a-9b76-13c8fab1bc5e');\n",
              "          const dataTable =\n",
              "            await google.colab.kernel.invokeFunction('convertToInteractive',\n",
              "                                                     [key], {});\n",
              "          if (!dataTable) return;\n",
              "\n",
              "          const docLinkHtml = 'Like what you see? Visit the ' +\n",
              "            '<a target=\"_blank\" href=https://colab.research.google.com/notebooks/data_table.ipynb>data table notebook</a>'\n",
              "            + ' to learn more about interactive tables.';\n",
              "          element.innerHTML = '';\n",
              "          dataTable['output_type'] = 'display_data';\n",
              "          await google.colab.output.renderOutput(dataTable, element);\n",
              "          const docLink = document.createElement('div');\n",
              "          docLink.innerHTML = docLinkHtml;\n",
              "          element.appendChild(docLink);\n",
              "        }\n",
              "      </script>\n",
              "    </div>\n",
              "  </div>\n",
              "  "
            ]
          },
          "metadata": {},
          "execution_count": 22
        }
      ]
    },
    {
      "cell_type": "code",
      "source": [
        "pc1_loadings = loadings.sort_values(by='PC1', ascending=False)[['PC1']]\n",
        "pc1_loadings = pc1_loadings.reset_index()\n",
        "pc1_loadings.columns = ['Attribute', 'CorrelationWithPC1']\n",
        "\n",
        "plt.bar(x=pc1_loadings['Attribute'], height=pc1_loadings['CorrelationWithPC1'], color='#087E8B')\n",
        "plt.title('PCA loading scores (first principal component)', size=5)\n",
        "plt.xticks(rotation='vertical')\n",
        "plt.show()"
      ],
      "metadata": {
        "colab": {
          "base_uri": "https://localhost:8080/",
          "height": 376
        },
        "id": "tE-aRB_clNCy",
        "outputId": "049090db-1225-447b-8749-5c89c20ba17d"
      },
      "execution_count": 23,
      "outputs": [
        {
          "output_type": "display_data",
          "data": {
            "text/plain": [
              "<Figure size 432x288 with 1 Axes>"
            ],
            "image/png": "[encoded data removed]"
          },
          "metadata": {
            "needs_background": "light"
          }
        }
      ]
    },
    {
      "cell_type": "code",
      "source": [
        "rank_pca = pd.DataFrame(loadings['PC1'])\n",
        "rank_pca =  rank_pca.sort_values(by='PC1', ascending = False)\n",
        "book = load_workbook('/content/horse_approval_dataset.xlsx')\n",
        "writer = pd.ExcelWriter('/content/horse_approval_dataset.xlsx', engine='openpyxl') \n",
        "writer.book = book\n",
        "## ExcelWriter for some reason uses writer.sheets to access the sheet.\n",
        "## If you leave it empty it will not know that sheet Main is already there\n",
        "## and will create a new sheet.\n",
        "writer.sheets = dict((ws.title, ws) for ws in book.worksheets)\n",
        "rank_pca.to_excel(writer, \"PCA\")\n",
        "writer.save()"
      ],
      "metadata": {
        "id": "tPn3HmR1ljXl"
      },
      "execution_count": 24,
      "outputs": []
    },
    {
      "cell_type": "code",
      "source": [
        "fs_fit_fscore = SelectKBest(f_classif, k=len(X.columns))\n",
        "fs_fit_fscore.fit_transform(X_train, y_train)\n",
        "fs_indices_fscore = np.argsort(np.nan_to_num(fs_fit_fscore.scores_))[::-1][0:len(X.columns)]\n",
        "fs_indices_fscore"
      ],
      "metadata": {
        "colab": {
          "base_uri": "https://localhost:8080/"
        },
        "id": "18f_QsRYlPHz",
        "outputId": "4d142311-2da2-4f10-d9a9-733b0421ad69"
      },
      "execution_count": 25,
      "outputs": [
        {
          "output_type": "stream",
          "name": "stderr",
          "text": [
            "/usr/local/lib/python3.7/dist-packages/sklearn/feature_selection/_univariate_selection.py:112: UserWarning: Features [25] are constant.\n",
            "  warnings.warn(\"Features %s are constant.\" % constant_features_idx, UserWarning)\n",
            "/usr/local/lib/python3.7/dist-packages/sklearn/feature_selection/_univariate_selection.py:113: RuntimeWarning: invalid value encountered in true_divide\n",
            "  f = msb / msw\n"
          ]
        },
        {
          "output_type": "execute_result",
          "data": {
            "text/plain": [
              "array([18,  4, 19, 22,  6,  9, 20, 17, 21, 16,  0, 10,  7, 14,  2, 11, 15,\n",
              "        1, 26, 12, 23,  5, 13,  8, 24,  3, 25])"
            ]
          },
          "metadata": {},
          "execution_count": 25
        }
      ]
    },
    {
      "cell_type": "code",
      "source": [
        "best_features_fscore = df.columns[fs_indices_fscore].values\n",
        "print(best_features_fscore)\n",
        "feature_importances_fscore = fs_fit_fscore.scores_[fs_indices_fscore]\n",
        "print(feature_importances_fscore)"
      ],
      "metadata": {
        "colab": {
          "base_uri": "https://localhost:8080/"
        },
        "id": "ANT0NwCqlSug",
        "outputId": "89b90fd0-bda0-4424-9c47-7eb42a2413d3"
      },
      "execution_count": 26,
      "outputs": [
        {
          "output_type": "stream",
          "name": "stdout",
          "text": [
            "['packed_cell_volume' 'pulse' 'total_protein' 'outcome'\n",
            " 'temp_of_extremities' 'capillary_refill_time' 'abdomo_appearance'\n",
            " 'abdomen' 'abdomo_protein' 'rectal_exam_feces' 'surgery' 'pain'\n",
            " 'peripheral_pulse' 'nasogastric_reflux' 'hospital_number' 'peristalsis'\n",
            " 'nasogastric_reflux_ph' 'age' 'lesion_3' 'abdominal_distention'\n",
            " 'surgical_lesion' 'respiratory_rate' 'nasogastric_tube' 'mucous_membrane'\n",
            " 'lesion_1' 'rectal_temp' 'lesion_2']\n",
            "[31.513 22.188 21.806 17.979 14.881 14.701  8.266  7.376  5.629  5.504\n",
            "  5.303  5.279  4.662  4.652  4.051  3.847  3.71   3.166  2.923  2.467\n",
            "  2.173  0.934  0.879  0.731  0.725  0.228    nan]\n"
          ]
        }
      ]
    },
    {
      "cell_type": "code",
      "source": [
        "plt.barh(best_features_fscore, feature_importances_fscore)\n",
        "plt.xlabel('Imporatnce')\n",
        "plt.ylabel('Features')"
      ],
      "metadata": {
        "colab": {
          "base_uri": "https://localhost:8080/",
          "height": 296
        },
        "id": "N9O3JifblZJC",
        "outputId": "63343468-aacc-494d-94d2-f56d3bf30bfc"
      },
      "execution_count": 27,
      "outputs": [
        {
          "output_type": "execute_result",
          "data": {
            "text/plain": [
              "Text(0, 0.5, 'Features')"
            ]
          },
          "metadata": {},
          "execution_count": 27
        },
        {
          "output_type": "display_data",
          "data": {
            "text/plain": [
              "<Figure size 432x288 with 1 Axes>"
            ],
            "image/png": "[encoded data removed]"
          },
          "metadata": {
            "needs_background": "light"
          }
        }
      ]
    },
    {
      "cell_type": "code",
      "source": [
        "dc = {'Score': feature_importances_fscore , 'Name': best_features_fscore }\n",
        "rank_f_test = pd.DataFrame(dc) \n",
        "book = load_workbook('/content/horse_approval_dataset.xlsx')\n",
        "writer = pd.ExcelWriter('/content/horse_approval_dataset.xlsx', engine='openpyxl') \n",
        "writer.book = book\n",
        "## ExcelWriter for some reason uses writer.sheets to access the sheet.\n",
        "## If you leave it empty it will not know that sheet Main is already there\n",
        "## and will create a new sheet.\n",
        "writer.sheets = dict((ws.title, ws) for ws in book.worksheets)\n",
        "rank_f_test.to_excel(writer, \"F_test\")\n",
        "writer.save()"
      ],
      "metadata": {
        "id": "JDfmtQY6lrZz"
      },
      "execution_count": 28,
      "outputs": []
    },
    {
      "cell_type": "code",
      "source": [
        "fs_fit_mutual_info = SelectKBest(mutual_info_classif, k=len(X.columns))\n",
        "fs_fit_mutual_info.fit_transform(X_train, y_train)\n",
        "fs_indices_mutual_info = np.argsort(fs_fit_mutual_info.scores_)[::-1][0:len(X.columns)]\n",
        "best_features_mutual_info = df.columns[fs_indices_mutual_info].values\n",
        "best_features_mutual_info"
      ],
      "metadata": {
        "colab": {
          "base_uri": "https://localhost:8080/"
        },
        "id": "MvX91KJcld7K",
        "outputId": "60e1cd3d-9dd3-4d16-ed84-543891769380"
      },
      "execution_count": 29,
      "outputs": [
        {
          "output_type": "execute_result",
          "data": {
            "text/plain": [
              "array(['surgical_lesion', 'hospital_number', 'packed_cell_volume', 'pain',\n",
              "       'mucous_membrane', 'total_protein', 'abdomo_protein', 'pulse',\n",
              "       'outcome', 'rectal_temp', 'peripheral_pulse', 'peristalsis',\n",
              "       'abdominal_distention', 'nasogastric_tube',\n",
              "       'capillary_refill_time', 'respiratory_rate',\n",
              "       'nasogastric_reflux_ph', 'lesion_3', 'temp_of_extremities',\n",
              "       'lesion_1', 'surgery', 'lesion_2', 'rectal_exam_feces',\n",
              "       'nasogastric_reflux', 'abdomen', 'abdomo_appearance', 'age'],\n",
              "      dtype=object)"
            ]
          },
          "metadata": {},
          "execution_count": 29
        }
      ]
    },
    {
      "cell_type": "code",
      "source": [
        "feature_importances_mutual_info = fs_fit_mutual_info.scores_[fs_indices_mutual_info]\n",
        "feature_importances_mutual_info"
      ],
      "metadata": {
        "colab": {
          "base_uri": "https://localhost:8080/"
        },
        "id": "-TjpsCrAlg5K",
        "outputId": "30eb024e-e6d7-47f8-bd54-984104b390b2"
      },
      "execution_count": 30,
      "outputs": [
        {
          "output_type": "execute_result",
          "data": {
            "text/plain": [
              "array([0.273, 0.189, 0.132, 0.106, 0.104, 0.101, 0.091, 0.087, 0.082,\n",
              "       0.065, 0.057, 0.042, 0.042, 0.039, 0.038, 0.034, 0.034, 0.032,\n",
              "       0.032, 0.026, 0.011, 0.009, 0.007, 0.   , 0.   , 0.   , 0.   ])"
            ]
          },
          "metadata": {},
          "execution_count": 30
        }
      ]
    },
    {
      "cell_type": "code",
      "source": [
        "plt.barh(best_features_mutual_info,feature_importances_mutual_info)\n",
        "plt.xlabel('Importance')\n",
        "plt.ylabel('Features')"
      ],
      "metadata": {
        "colab": {
          "base_uri": "https://localhost:8080/",
          "height": 296
        },
        "id": "ogd5co9Ylifl",
        "outputId": "05fe6294-17ff-4831-fe68-a12a90e42552"
      },
      "execution_count": 31,
      "outputs": [
        {
          "output_type": "execute_result",
          "data": {
            "text/plain": [
              "Text(0, 0.5, 'Features')"
            ]
          },
          "metadata": {},
          "execution_count": 31
        },
        {
          "output_type": "display_data",
          "data": {
            "text/plain": [
              "<Figure size 432x288 with 1 Axes>"
            ],
            "image/png": "[encoded data removed]"
          },
          "metadata": {
            "needs_background": "light"
          }
        }
      ]
    },
    {
      "cell_type": "code",
      "source": [
        "dc = {'Score':feature_importances_mutual_info, 'Name':best_features_mutual_info }\n",
        "rank_mutual = pd.DataFrame(dc)\n",
        "book = load_workbook('/content/horse_approval_dataset.xlsx')\n",
        "writer = pd.ExcelWriter('/content/horse_approval_dataset.xlsx', engine='openpyxl') \n",
        "writer.book = book\n",
        "\n",
        "## ExcelWriter for some reason uses writer.sheets to access the sheet.\n",
        "## If you leave it empty it will not know that sheet Main is already there\n",
        "## and will create a new sheet.\n",
        "\n",
        "writer.sheets = dict((ws.title, ws) for ws in book.worksheets)\n",
        "rank_mutual.to_excel(writer, \"mutual_info\")\n",
        "writer.save()"
      ],
      "metadata": {
        "id": "8cG6MKs3lyTn"
      },
      "execution_count": 32,
      "outputs": []
    },
    {
      "cell_type": "code",
      "source": [
        "df_corr = df.corr()"
      ],
      "metadata": {
        "id": "kIztWIp4lj3R"
      },
      "execution_count": 33,
      "outputs": []
    },
    {
      "cell_type": "code",
      "source": [
        "corr_rank = pd.DataFrame(df_corr['outcome'])\n",
        "corr_rank = corr_rank.sort_values(by = 'outcome',ascending = False)\n",
        "corr_rank"
      ],
      "metadata": {
        "colab": {
          "base_uri": "https://localhost:8080/",
          "height": 927
        },
        "id": "e104wBXqllqi",
        "outputId": "e9c445ce-490f-4d8a-ecef-0130d0156b69"
      },
      "execution_count": 34,
      "outputs": [
        {
          "output_type": "execute_result",
          "data": {
            "text/plain": [
              "                        outcome\n",
              "outcome                1.000000\n",
              "temp_of_extremities    0.290367\n",
              "total_protein          0.245657\n",
              "abdomen                0.214875\n",
              "rectal_exam_feces      0.193004\n",
              "nasogastric_reflux     0.181422\n",
              "peristalsis            0.165844\n",
              "abdominal_distention   0.112309\n",
              "lesion_2               0.098993\n",
              "mucous_membrane        0.056852\n",
              "nasogastric_tube       0.049156\n",
              "lesion_3               0.044631\n",
              "rectal_temp            0.016683\n",
              "cp_data               -0.078066\n",
              "respiratory_rate      -0.079408\n",
              "nasogastric_reflux_ph -0.087222\n",
              "lesion_1              -0.100738\n",
              "age                   -0.101782\n",
              "hospital_number       -0.106396\n",
              "abdomo_protein        -0.125510\n",
              "pain                  -0.161964\n",
              "peripheral_pulse      -0.165719\n",
              "surgery               -0.189222\n",
              "abdomo_appearance     -0.243140\n",
              "capillary_refill_time -0.256294\n",
              "surgical_lesion       -0.332933\n",
              "pulse                 -0.344670\n",
              "packed_cell_volume    -0.401140"
            ],
            "text/html": [
              "\n",
              "  <div id=\"df-4ca1bda4-9afc-41cc-a7c4-14010a49c89b\">\n",
              "    <div class=\"colab-df-container\">\n",
              "      <div>\n",
              "<style scoped>\n",
              "    .dataframe tbody tr th:only-of-type {\n",
              "        vertical-align: middle;\n",
              "    }\n",
              "\n",
              "    .dataframe tbody tr th {\n",
              "        vertical-align: top;\n",
              "    }\n",
              "\n",
              "    .dataframe thead th {\n",
              "        text-align: right;\n",
              "    }\n",
              "</style>\n",
              "<table border=\"1\" class=\"dataframe\">\n",
              "  <thead>\n",
              "    <tr style=\"text-align: right;\">\n",
              "      <th></th>\n",
              "      <th>outcome</th>\n",
              "    </tr>\n",
              "  </thead>\n",
              "  <tbody>\n",
              "    <tr>\n",
              "      <th>outcome</th>\n",
              "      <td>1.000000</td>\n",
              "    </tr>\n",
              "    <tr>\n",
              "      <th>temp_of_extremities</th>\n",
              "      <td>0.290367</td>\n",
              "    </tr>\n",
              "    <tr>\n",
              "      <th>total_protein</th>\n",
              "      <td>0.245657</td>\n",
              "    </tr>\n",
              "    <tr>\n",
              "      <th>abdomen</th>\n",
              "      <td>0.214875</td>\n",
              "    </tr>\n",
              "    <tr>\n",
              "      <th>rectal_exam_feces</th>\n",
              "      <td>0.193004</td>\n",
              "    </tr>\n",
              "    <tr>\n",
              "      <th>nasogastric_reflux</th>\n",
              "      <td>0.181422</td>\n",
              "    </tr>\n",
              "    <tr>\n",
              "      <th>peristalsis</th>\n",
              "      <td>0.165844</td>\n",
              "    </tr>\n",
              "    <tr>\n",
              "      <th>abdominal_distention</th>\n",
              "      <td>0.112309</td>\n",
              "    </tr>\n",
              "    <tr>\n",
              "      <th>lesion_2</th>\n",
              "      <td>0.098993</td>\n",
              "    </tr>\n",
              "    <tr>\n",
              "      <th>mucous_membrane</th>\n",
              "      <td>0.056852</td>\n",
              "    </tr>\n",
              "    <tr>\n",
              "      <th>nasogastric_tube</th>\n",
              "      <td>0.049156</td>\n",
              "    </tr>\n",
              "    <tr>\n",
              "      <th>lesion_3</th>\n",
              "      <td>0.044631</td>\n",
              "    </tr>\n",
              "    <tr>\n",
              "      <th>rectal_temp</th>\n",
              "      <td>0.016683</td>\n",
              "    </tr>\n",
              "    <tr>\n",
              "      <th>cp_data</th>\n",
              "      <td>-0.078066</td>\n",
              "    </tr>\n",
              "    <tr>\n",
              "      <th>respiratory_rate</th>\n",
              "      <td>-0.079408</td>\n",
              "    </tr>\n",
              "    <tr>\n",
              "      <th>nasogastric_reflux_ph</th>\n",
              "      <td>-0.087222</td>\n",
              "    </tr>\n",
              "    <tr>\n",
              "      <th>lesion_1</th>\n",
              "      <td>-0.100738</td>\n",
              "    </tr>\n",
              "    <tr>\n",
              "      <th>age</th>\n",
              "      <td>-0.101782</td>\n",
              "    </tr>\n",
              "    <tr>\n",
              "      <th>hospital_number</th>\n",
              "      <td>-0.106396</td>\n",
              "    </tr>\n",
              "    <tr>\n",
              "      <th>abdomo_protein</th>\n",
              "      <td>-0.125510</td>\n",
              "    </tr>\n",
              "    <tr>\n",
              "      <th>pain</th>\n",
              "      <td>-0.161964</td>\n",
              "    </tr>\n",
              "    <tr>\n",
              "      <th>peripheral_pulse</th>\n",
              "      <td>-0.165719</td>\n",
              "    </tr>\n",
              "    <tr>\n",
              "      <th>surgery</th>\n",
              "      <td>-0.189222</td>\n",
              "    </tr>\n",
              "    <tr>\n",
              "      <th>abdomo_appearance</th>\n",
              "      <td>-0.243140</td>\n",
              "    </tr>\n",
              "    <tr>\n",
              "      <th>capillary_refill_time</th>\n",
              "      <td>-0.256294</td>\n",
              "    </tr>\n",
              "    <tr>\n",
              "      <th>surgical_lesion</th>\n",
              "      <td>-0.332933</td>\n",
              "    </tr>\n",
              "    <tr>\n",
              "      <th>pulse</th>\n",
              "      <td>-0.344670</td>\n",
              "    </tr>\n",
              "    <tr>\n",
              "      <th>packed_cell_volume</th>\n",
              "      <td>-0.401140</td>\n",
              "    </tr>\n",
              "  </tbody>\n",
              "</table>\n",
              "</div>\n",
              "      <button class=\"colab-df-convert\" onclick=\"convertToInteractive('df-4ca1bda4-9afc-41cc-a7c4-14010a49c89b')\"\n",
              "              title=\"Convert this dataframe to an interactive table.\"\n",
              "              style=\"display:none;\">\n",
              "        \n",
              "  <svg xmlns=\"http://www.w3.org/2000/svg\" height=\"24px\"viewBox=\"0 0 24 24\"\n",
              "       width=\"24px\">\n",
              "    <path d=\"M0 0h24v24H0V0z\" fill=\"none\"/>\n",
              "    <path d=\"M18.56 5.44l.94 2.06.94-2.06 2.06-.94-2.06-.94-.94-2.06-.94 2.06-2.06.94zm-11 1L8.5 8.5l.94-2.06 2.06-.94-2.06-.94L8.5 2.5l-.94 2.06-2.06.94zm10 10l.94 2.06.94-2.06 2.06-.94-2.06-.94-.94-2.06-.94 2.06-2.06.94z\"/><path d=\"M17.41 7.96l-1.37-1.37c-.4-.4-.92-.59-1.43-.59-.52 0-1.04.2-1.43.59L10.3 9.45l-7.72 7.72c-.78.78-.78 2.05 0 2.83L4 21.41c.39.39.9.59 1.41.59.51 0 1.02-.2 1.41-.59l7.78-7.78 2.81-2.81c.8-.78.8-2.07 0-2.86zM5.41 20L4 18.59l7.72-7.72 1.47 1.35L5.41 20z\"/>\n",
              "  </svg>\n",
              "      </button>\n",
              "      \n",
              "  <style>\n",
              "    .colab-df-container {\n",
              "      display:flex;\n",
              "      flex-wrap:wrap;\n",
              "      gap: 12px;\n",
              "    }\n",
              "\n",
              "    .colab-df-convert {\n",
              "      background-color: #E8F0FE;\n",
              "      border: none;\n",
              "      border-radius: 50%;\n",
              "      cursor: pointer;\n",
              "      display: none;\n",
              "      fill: #1967D2;\n",
              "      height: 32px;\n",
              "      padding: 0 0 0 0;\n",
              "      width: 32px;\n",
              "    }\n",
              "\n",
              "    .colab-df-convert:hover {\n",
              "      background-color: #E2EBFA;\n",
              "      box-shadow: 0px 1px 2px rgba(60, 64, 67, 0.3), 0px 1px 3px 1px rgba(60, 64, 67, 0.15);\n",
              "      fill: #174EA6;\n",
              "    }\n",
              "\n",
              "    [theme=dark] .colab-df-convert {\n",
              "      background-color: #3B4455;\n",
              "      fill: #D2E3FC;\n",
              "    }\n",
              "\n",
              "    [theme=dark] .colab-df-convert:hover {\n",
              "      background-color: #434B5C;\n",
              "      box-shadow: 0px 1px 3px 1px rgba(0, 0, 0, 0.15);\n",
              "      filter: drop-shadow(0px 1px 2px rgba(0, 0, 0, 0.3));\n",
              "      fill: #FFFFFF;\n",
              "    }\n",
              "  </style>\n",
              "\n",
              "      <script>\n",
              "        const buttonEl =\n",
              "          document.querySelector('#df-4ca1bda4-9afc-41cc-a7c4-14010a49c89b button.colab-df-convert');\n",
              "        buttonEl.style.display =\n",
              "          google.colab.kernel.accessAllowed ? 'block' : 'none';\n",
              "\n",
              "        async function convertToInteractive(key) {\n",
              "          const element = document.querySelector('#df-4ca1bda4-9afc-41cc-a7c4-14010a49c89b');\n",
              "          const dataTable =\n",
              "            await google.colab.kernel.invokeFunction('convertToInteractive',\n",
              "                                                     [key], {});\n",
              "          if (!dataTable) return;\n",
              "\n",
              "          const docLinkHtml = 'Like what you see? Visit the ' +\n",
              "            '<a target=\"_blank\" href=https://colab.research.google.com/notebooks/data_table.ipynb>data table notebook</a>'\n",
              "            + ' to learn more about interactive tables.';\n",
              "          element.innerHTML = '';\n",
              "          dataTable['output_type'] = 'display_data';\n",
              "          await google.colab.output.renderOutput(dataTable, element);\n",
              "          const docLink = document.createElement('div');\n",
              "          docLink.innerHTML = docLinkHtml;\n",
              "          element.appendChild(docLink);\n",
              "        }\n",
              "      </script>\n",
              "    </div>\n",
              "  </div>\n",
              "  "
            ]
          },
          "metadata": {},
          "execution_count": 34
        }
      ]
    },
    {
      "cell_type": "code",
      "source": [
        "book = load_workbook('/content/horse_approval_dataset.xlsx')\n",
        "writer = pd.ExcelWriter('/content/horse_approval_dataset.xlsx', engine='openpyxl') \n",
        "writer.book = book\n",
        "\n",
        "## ExcelWriter for some reason uses writer.sheets to access the sheet.\n",
        "## If you leave it empty it will not know that sheet Main is already there\n",
        "## and will create a new sheet.\n",
        "writer.sheets = dict((ws.title, ws) for ws in book.worksheets)\n",
        "corr_rank.to_excel(writer, \"Pearson_Correlation\")\n",
        "writer.save()"
      ],
      "metadata": {
        "id": "Uifr_PngmSG3"
      },
      "execution_count": 35,
      "outputs": []
    },
    {
      "cell_type": "code",
      "source": [
        "estimator = DecisionTreeClassifier()\n",
        "selector = RFE(estimator, n_features_to_select=1, step=1)\n",
        "selector = selector.fit(X_train, y_train)\n",
        "index = selector.ranking_.argsort()\n",
        "X.columns[index]"
      ],
      "metadata": {
        "colab": {
          "base_uri": "https://localhost:8080/"
        },
        "id": "Iv-UT1dTlqMY",
        "outputId": "bcb4abd9-d9dd-47fa-84a7-311ede24e820"
      },
      "execution_count": 36,
      "outputs": [
        {
          "output_type": "execute_result",
          "data": {
            "text/plain": [
              "Index(['hospital_number', 'packed_cell_volume', 'lesion_1', 'total_protein',\n",
              "       'respiratory_rate', 'rectal_exam_feces', 'pulse', 'rectal_temp',\n",
              "       'surgical_lesion', 'mucous_membrane', 'abdomen', 'abdominal_distention',\n",
              "       'pain', 'nasogastric_reflux_ph', 'abdomo_appearance',\n",
              "       'nasogastric_tube', 'peripheral_pulse', 'capillary_refill_time',\n",
              "       'temp_of_extremities', 'peristalsis', 'abdomo_protein',\n",
              "       'nasogastric_reflux', 'lesion_2', 'lesion_3', 'age', 'cp_data',\n",
              "       'surgery'],\n",
              "      dtype='object')"
            ]
          },
          "metadata": {},
          "execution_count": 36
        }
      ]
    },
    {
      "cell_type": "code",
      "source": [
        "dc = {'Rank_RFE': X.columns[index]}\n",
        "rank_RFE = pd.DataFrame(data =  dc) \n",
        "book = load_workbook('/content/horse_approval_dataset.xlsx')\n",
        "writer = pd.ExcelWriter('/content/horse_approval_dataset.xlsx', engine='openpyxl') \n",
        "writer.book = book\n",
        "## ExcelWriter for some reason uses writer.sheets to access the sheet.\n",
        "## If you leave it empty it will not know that sheet Main is already there\n",
        "## and will create a new sheet.\n",
        "writer.sheets = dict((ws.title, ws) for ws in book.worksheets)\n",
        "rank_RFE.to_excel(writer, \"RFE\")\n",
        "writer.save()"
      ],
      "metadata": {
        "id": "duOa1XgmlwmR"
      },
      "execution_count": null,
      "outputs": []
    },
    {
      "cell_type": "code",
      "source": [
        ""
      ],
      "metadata": {
        "id": "_6yTmt4tmqw8"
      },
      "execution_count": null,
      "outputs": []
    }
  ]
}