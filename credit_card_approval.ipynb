{
  "nbformat": 4,
  "nbformat_minor": 0,
  "metadata": {
    "colab": {
      "name": "credit_card_approval.ipynb",
      "provenance": [],
      "authorship_tag": "ABX9TyNVmg7yVyFZoNxhE9FU1vb+",
      "include_colab_link": true
    },
    "kernelspec": {
      "name": "python3",
      "display_name": "Python 3"
    },
    "language_info": {
      "name": "python"
    }
  },
  "cells": [
    {
      "cell_type": "markdown",
      "metadata": {
        "id": "view-in-github",
        "colab_type": "text"
      },
      "source": [
        "<a href=\"https://colab.research.google.com/github/Noob919/Feature_selection/blob/main/credit_card_approval.ipynb\" target=\"_parent\"><img src=\"https://colab.research.google.com/assets/colab-badge.svg\" alt=\"Open In Colab\"/></a>"
      ]
    },
    {
      "cell_type": "code",
      "execution_count": 1,
      "metadata": {
        "id": "uZBCfd9hwxyT"
      },
      "outputs": [],
      "source": [
        "import numpy as np\n",
        "import pandas as pd\n",
        "from sklearn.model_selection import cross_val_score\n",
        "from sklearn import preprocessing\n",
        "from sklearn.feature_selection  import chi2, SelectKBest,mutual_info_classif,SelectPercentile,f_classif\n",
        "from sklearn.inspection import permutation_importance\n",
        "from sklearn.model_selection import train_test_split\n",
        "from sklearn.tree import DecisionTreeClassifier\n",
        "from sklearn.linear_model import LogisticRegression\n",
        "from sklearn.ensemble import RandomForestClassifier\n",
        "from sklearn.preprocessing import LabelEncoder\n",
        "from sklearn.preprocessing import StandardScaler\n",
        "from sklearn.feature_selection import RFE\n",
        "from sklearn.svm import LinearSVC\n",
        "from sklearn.decomposition import PCA\n",
        "import matplotlib.pyplot as plt\n",
        "import seaborn as sns"
      ]
    },
    {
      "cell_type": "code",
      "source": [
        "df = pd.read_csv(\"/content/crxdata.csv\", header  = None)"
      ],
      "metadata": {
        "id": "yl1g1MiRxNZP"
      },
      "execution_count": 2,
      "outputs": []
    },
    {
      "cell_type": "code",
      "source": [
        "df.columns=['Gender', 'Age', 'Debt', 'Married', 'BankCustomer', 'EducationLevel', 'Ethnicity', 'YearsEmployed', 'PriorDefault',\n",
        "            'Employed', 'CreditScore', 'DriversLicense', 'Citizen', 'ZipCode', 'Income','ApprovalStatus']"
      ],
      "metadata": {
        "id": "uOlp_bBnx2Yz"
      },
      "execution_count": 3,
      "outputs": []
    },
    {
      "cell_type": "code",
      "source": [
        "df.head()"
      ],
      "metadata": {
        "colab": {
          "base_uri": "https://localhost:8080/",
          "height": 270
        },
        "id": "jsA7TyLZx3-4",
        "outputId": "f27848c3-921d-4139-ff90-121dd36a1cdc"
      },
      "execution_count": 4,
      "outputs": [
        {
          "output_type": "execute_result",
          "data": {
            "text/plain": [
              "  Gender    Age   Debt Married BankCustomer EducationLevel Ethnicity  \\\n",
              "0      b  30.83  0.000       u            g              w         v   \n",
              "1      a  58.67  4.460       u            g              q         h   \n",
              "2      a  24.50  0.500       u            g              q         h   \n",
              "3      b  27.83  1.540       u            g              w         v   \n",
              "4      b  20.17  5.625       u            g              w         v   \n",
              "\n",
              "   YearsEmployed PriorDefault Employed  CreditScore DriversLicense Citizen  \\\n",
              "0           1.25            t        t            1              f       g   \n",
              "1           3.04            t        t            6              f       g   \n",
              "2           1.50            t        f            0              f       g   \n",
              "3           3.75            t        t            5              t       g   \n",
              "4           1.71            t        f            0              f       s   \n",
              "\n",
              "  ZipCode  Income ApprovalStatus  \n",
              "0   00202       0              +  \n",
              "1   00043     560              +  \n",
              "2   00280     824              +  \n",
              "3   00100       3              +  \n",
              "4   00120       0              +  "
            ],
            "text/html": [
              "\n",
              "  <div id=\"df-3110c3b0-f3af-4e2f-9d83-59197a3da0db\">\n",
              "    <div class=\"colab-df-container\">\n",
              "      <div>\n",
              "<style scoped>\n",
              "    .dataframe tbody tr th:only-of-type {\n",
              "        vertical-align: middle;\n",
              "    }\n",
              "\n",
              "    .dataframe tbody tr th {\n",
              "        vertical-align: top;\n",
              "    }\n",
              "\n",
              "    .dataframe thead th {\n",
              "        text-align: right;\n",
              "    }\n",
              "</style>\n",
              "<table border=\"1\" class=\"dataframe\">\n",
              "  <thead>\n",
              "    <tr style=\"text-align: right;\">\n",
              "      <th></th>\n",
              "      <th>Gender</th>\n",
              "      <th>Age</th>\n",
              "      <th>Debt</th>\n",
              "      <th>Married</th>\n",
              "      <th>BankCustomer</th>\n",
              "      <th>EducationLevel</th>\n",
              "      <th>Ethnicity</th>\n",
              "      <th>YearsEmployed</th>\n",
              "      <th>PriorDefault</th>\n",
              "      <th>Employed</th>\n",
              "      <th>CreditScore</th>\n",
              "      <th>DriversLicense</th>\n",
              "      <th>Citizen</th>\n",
              "      <th>ZipCode</th>\n",
              "      <th>Income</th>\n",
              "      <th>ApprovalStatus</th>\n",
              "    </tr>\n",
              "  </thead>\n",
              "  <tbody>\n",
              "    <tr>\n",
              "      <th>0</th>\n",
              "      <td>b</td>\n",
              "      <td>30.83</td>\n",
              "      <td>0.000</td>\n",
              "      <td>u</td>\n",
              "      <td>g</td>\n",
              "      <td>w</td>\n",
              "      <td>v</td>\n",
              "      <td>1.25</td>\n",
              "      <td>t</td>\n",
              "      <td>t</td>\n",
              "      <td>1</td>\n",
              "      <td>f</td>\n",
              "      <td>g</td>\n",
              "      <td>00202</td>\n",
              "      <td>0</td>\n",
              "      <td>+</td>\n",
              "    </tr>\n",
              "    <tr>\n",
              "      <th>1</th>\n",
              "      <td>a</td>\n",
              "      <td>58.67</td>\n",
              "      <td>4.460</td>\n",
              "      <td>u</td>\n",
              "      <td>g</td>\n",
              "      <td>q</td>\n",
              "      <td>h</td>\n",
              "      <td>3.04</td>\n",
              "      <td>t</td>\n",
              "      <td>t</td>\n",
              "      <td>6</td>\n",
              "      <td>f</td>\n",
              "      <td>g</td>\n",
              "      <td>00043</td>\n",
              "      <td>560</td>\n",
              "      <td>+</td>\n",
              "    </tr>\n",
              "    <tr>\n",
              "      <th>2</th>\n",
              "      <td>a</td>\n",
              "      <td>24.50</td>\n",
              "      <td>0.500</td>\n",
              "      <td>u</td>\n",
              "      <td>g</td>\n",
              "      <td>q</td>\n",
              "      <td>h</td>\n",
              "      <td>1.50</td>\n",
              "      <td>t</td>\n",
              "      <td>f</td>\n",
              "      <td>0</td>\n",
              "      <td>f</td>\n",
              "      <td>g</td>\n",
              "      <td>00280</td>\n",
              "      <td>824</td>\n",
              "      <td>+</td>\n",
              "    </tr>\n",
              "    <tr>\n",
              "      <th>3</th>\n",
              "      <td>b</td>\n",
              "      <td>27.83</td>\n",
              "      <td>1.540</td>\n",
              "      <td>u</td>\n",
              "      <td>g</td>\n",
              "      <td>w</td>\n",
              "      <td>v</td>\n",
              "      <td>3.75</td>\n",
              "      <td>t</td>\n",
              "      <td>t</td>\n",
              "      <td>5</td>\n",
              "      <td>t</td>\n",
              "      <td>g</td>\n",
              "      <td>00100</td>\n",
              "      <td>3</td>\n",
              "      <td>+</td>\n",
              "    </tr>\n",
              "    <tr>\n",
              "      <th>4</th>\n",
              "      <td>b</td>\n",
              "      <td>20.17</td>\n",
              "      <td>5.625</td>\n",
              "      <td>u</td>\n",
              "      <td>g</td>\n",
              "      <td>w</td>\n",
              "      <td>v</td>\n",
              "      <td>1.71</td>\n",
              "      <td>t</td>\n",
              "      <td>f</td>\n",
              "      <td>0</td>\n",
              "      <td>f</td>\n",
              "      <td>s</td>\n",
              "      <td>00120</td>\n",
              "      <td>0</td>\n",
              "      <td>+</td>\n",
              "    </tr>\n",
              "  </tbody>\n",
              "</table>\n",
              "</div>\n",
              "      <button class=\"colab-df-convert\" onclick=\"convertToInteractive('df-3110c3b0-f3af-4e2f-9d83-59197a3da0db')\"\n",
              "              title=\"Convert this dataframe to an interactive table.\"\n",
              "              style=\"display:none;\">\n",
              "        \n",
              "  <svg xmlns=\"http://www.w3.org/2000/svg\" height=\"24px\"viewBox=\"0 0 24 24\"\n",
              "       width=\"24px\">\n",
              "    <path d=\"M0 0h24v24H0V0z\" fill=\"none\"/>\n",
              "    <path d=\"M18.56 5.44l.94 2.06.94-2.06 2.06-.94-2.06-.94-.94-2.06-.94 2.06-2.06.94zm-11 1L8.5 8.5l.94-2.06 2.06-.94-2.06-.94L8.5 2.5l-.94 2.06-2.06.94zm10 10l.94 2.06.94-2.06 2.06-.94-2.06-.94-.94-2.06-.94 2.06-2.06.94z\"/><path d=\"M17.41 7.96l-1.37-1.37c-.4-.4-.92-.59-1.43-.59-.52 0-1.04.2-1.43.59L10.3 9.45l-7.72 7.72c-.78.78-.78 2.05 0 2.83L4 21.41c.39.39.9.59 1.41.59.51 0 1.02-.2 1.41-.59l7.78-7.78 2.81-2.81c.8-.78.8-2.07 0-2.86zM5.41 20L4 18.59l7.72-7.72 1.47 1.35L5.41 20z\"/>\n",
              "  </svg>\n",
              "      </button>\n",
              "      \n",
              "  <style>\n",
              "    .colab-df-container {\n",
              "      display:flex;\n",
              "      flex-wrap:wrap;\n",
              "      gap: 12px;\n",
              "    }\n",
              "\n",
              "    .colab-df-convert {\n",
              "      background-color: #E8F0FE;\n",
              "      border: none;\n",
              "      border-radius: 50%;\n",
              "      cursor: pointer;\n",
              "      display: none;\n",
              "      fill: #1967D2;\n",
              "      height: 32px;\n",
              "      padding: 0 0 0 0;\n",
              "      width: 32px;\n",
              "    }\n",
              "\n",
              "    .colab-df-convert:hover {\n",
              "      background-color: #E2EBFA;\n",
              "      box-shadow: 0px 1px 2px rgba(60, 64, 67, 0.3), 0px 1px 3px 1px rgba(60, 64, 67, 0.15);\n",
              "      fill: #174EA6;\n",
              "    }\n",
              "\n",
              "    [theme=dark] .colab-df-convert {\n",
              "      background-color: #3B4455;\n",
              "      fill: #D2E3FC;\n",
              "    }\n",
              "\n",
              "    [theme=dark] .colab-df-convert:hover {\n",
              "      background-color: #434B5C;\n",
              "      box-shadow: 0px 1px 3px 1px rgba(0, 0, 0, 0.15);\n",
              "      filter: drop-shadow(0px 1px 2px rgba(0, 0, 0, 0.3));\n",
              "      fill: #FFFFFF;\n",
              "    }\n",
              "  </style>\n",
              "\n",
              "      <script>\n",
              "        const buttonEl =\n",
              "          document.querySelector('#df-3110c3b0-f3af-4e2f-9d83-59197a3da0db button.colab-df-convert');\n",
              "        buttonEl.style.display =\n",
              "          google.colab.kernel.accessAllowed ? 'block' : 'none';\n",
              "\n",
              "        async function convertToInteractive(key) {\n",
              "          const element = document.querySelector('#df-3110c3b0-f3af-4e2f-9d83-59197a3da0db');\n",
              "          const dataTable =\n",
              "            await google.colab.kernel.invokeFunction('convertToInteractive',\n",
              "                                                     [key], {});\n",
              "          if (!dataTable) return;\n",
              "\n",
              "          const docLinkHtml = 'Like what you see? Visit the ' +\n",
              "            '<a target=\"_blank\" href=https://colab.research.google.com/notebooks/data_table.ipynb>data table notebook</a>'\n",
              "            + ' to learn more about interactive tables.';\n",
              "          element.innerHTML = '';\n",
              "          dataTable['output_type'] = 'display_data';\n",
              "          await google.colab.output.renderOutput(dataTable, element);\n",
              "          const docLink = document.createElement('div');\n",
              "          docLink.innerHTML = docLinkHtml;\n",
              "          element.appendChild(docLink);\n",
              "        }\n",
              "      </script>\n",
              "    </div>\n",
              "  </div>\n",
              "  "
            ]
          },
          "metadata": {},
          "execution_count": 4
        }
      ]
    },
    {
      "cell_type": "code",
      "source": [
        "df_new  = df.replace('?', np.nan)"
      ],
      "metadata": {
        "id": "6QmrLMUN37Xx"
      },
      "execution_count": 5,
      "outputs": []
    },
    {
      "cell_type": "code",
      "source": [
        "df_final =  df_new.dropna()"
      ],
      "metadata": {
        "id": "IoDhNXrz-sg_"
      },
      "execution_count": 6,
      "outputs": []
    },
    {
      "cell_type": "code",
      "source": [
        "categorical = [var for var in df_new.columns if df_final[var].dtype == 'O']"
      ],
      "metadata": {
        "id": "7RBHk9yl4qRT"
      },
      "execution_count": 7,
      "outputs": []
    },
    {
      "cell_type": "code",
      "source": [
        "categorical"
      ],
      "metadata": {
        "colab": {
          "base_uri": "https://localhost:8080/"
        },
        "id": "HqWSXN71BmNO",
        "outputId": "c7e46566-d8fc-4551-d5b2-1769ba1c993f"
      },
      "execution_count": 8,
      "outputs": [
        {
          "output_type": "execute_result",
          "data": {
            "text/plain": [
              "['Gender',\n",
              " 'Age',\n",
              " 'Married',\n",
              " 'BankCustomer',\n",
              " 'EducationLevel',\n",
              " 'Ethnicity',\n",
              " 'PriorDefault',\n",
              " 'Employed',\n",
              " 'DriversLicense',\n",
              " 'Citizen',\n",
              " 'ZipCode',\n",
              " 'ApprovalStatus']"
            ]
          },
          "metadata": {},
          "execution_count": 8
        }
      ]
    },
    {
      "cell_type": "code",
      "source": [
        "for i in range(len(categorical)):\n",
        "  print(df_final[categorical[i]].value_counts())"
      ],
      "metadata": {
        "id": "PxTWZtr35uvi",
        "colab": {
          "base_uri": "https://localhost:8080/"
        },
        "outputId": "dcfe6ee6-6070-4b11-f50f-cad31132243a"
      },
      "execution_count": 9,
      "outputs": [
        {
          "output_type": "stream",
          "name": "stdout",
          "text": [
            "b    450\n",
            "a    203\n",
            "Name: Gender, dtype: int64\n",
            "22.67    9\n",
            "18.83    6\n",
            "25.00    6\n",
            "19.17    6\n",
            "20.67    6\n",
            "        ..\n",
            "38.17    1\n",
            "48.25    1\n",
            "28.33    1\n",
            "18.50    1\n",
            "36.42    1\n",
            "Name: Age, Length: 340, dtype: int64\n",
            "u    499\n",
            "y    152\n",
            "l      2\n",
            "Name: Married, dtype: int64\n",
            "g     499\n",
            "p     152\n",
            "gg      2\n",
            "Name: BankCustomer, dtype: int64\n",
            "c     133\n",
            "q      75\n",
            "w      63\n",
            "i      55\n",
            "aa     52\n",
            "ff     50\n",
            "k      48\n",
            "cc     40\n",
            "m      38\n",
            "x      36\n",
            "d      26\n",
            "e      24\n",
            "j      10\n",
            "r       3\n",
            "Name: EducationLevel, dtype: int64\n",
            "v     381\n",
            "h     137\n",
            "ff     54\n",
            "bb     53\n",
            "j       8\n",
            "z       8\n",
            "dd      6\n",
            "n       4\n",
            "o       2\n",
            "Name: Ethnicity, dtype: int64\n",
            "t    349\n",
            "f    304\n",
            "Name: PriorDefault, dtype: int64\n",
            "f    366\n",
            "t    287\n",
            "Name: Employed, dtype: int64\n",
            "f    351\n",
            "t    302\n",
            "Name: DriversLicense, dtype: int64\n",
            "g    598\n",
            "s     53\n",
            "p      2\n",
            "Name: Citizen, dtype: int64\n",
            "00000    128\n",
            "00120     35\n",
            "00160     33\n",
            "00200     33\n",
            "00100     30\n",
            "        ... \n",
            "00393      1\n",
            "00395      1\n",
            "00093      1\n",
            "00204      1\n",
            "00465      1\n",
            "Name: ZipCode, Length: 164, dtype: int64\n",
            "-    357\n",
            "+    296\n",
            "Name: ApprovalStatus, dtype: int64\n"
          ]
        }
      ]
    },
    {
      "cell_type": "code",
      "source": [
        "df_final.head(1)"
      ],
      "metadata": {
        "colab": {
          "base_uri": "https://localhost:8080/",
          "height": 145
        },
        "id": "w4CgKQwp7FmZ",
        "outputId": "7783b934-37ff-4498-d620-ba5a1a9fc741"
      },
      "execution_count": 10,
      "outputs": [
        {
          "output_type": "execute_result",
          "data": {
            "text/plain": [
              "  Gender    Age  Debt Married BankCustomer EducationLevel Ethnicity  \\\n",
              "0      b  30.83   0.0       u            g              w         v   \n",
              "\n",
              "   YearsEmployed PriorDefault Employed  CreditScore DriversLicense Citizen  \\\n",
              "0           1.25            t        t            1              f       g   \n",
              "\n",
              "  ZipCode  Income ApprovalStatus  \n",
              "0   00202       0              +  "
            ],
            "text/html": [
              "\n",
              "  <div id=\"df-60d259b2-3f0e-429f-a25b-bebda0105a5d\">\n",
              "    <div class=\"colab-df-container\">\n",
              "      <div>\n",
              "<style scoped>\n",
              "    .dataframe tbody tr th:only-of-type {\n",
              "        vertical-align: middle;\n",
              "    }\n",
              "\n",
              "    .dataframe tbody tr th {\n",
              "        vertical-align: top;\n",
              "    }\n",
              "\n",
              "    .dataframe thead th {\n",
              "        text-align: right;\n",
              "    }\n",
              "</style>\n",
              "<table border=\"1\" class=\"dataframe\">\n",
              "  <thead>\n",
              "    <tr style=\"text-align: right;\">\n",
              "      <th></th>\n",
              "      <th>Gender</th>\n",
              "      <th>Age</th>\n",
              "      <th>Debt</th>\n",
              "      <th>Married</th>\n",
              "      <th>BankCustomer</th>\n",
              "      <th>EducationLevel</th>\n",
              "      <th>Ethnicity</th>\n",
              "      <th>YearsEmployed</th>\n",
              "      <th>PriorDefault</th>\n",
              "      <th>Employed</th>\n",
              "      <th>CreditScore</th>\n",
              "      <th>DriversLicense</th>\n",
              "      <th>Citizen</th>\n",
              "      <th>ZipCode</th>\n",
              "      <th>Income</th>\n",
              "      <th>ApprovalStatus</th>\n",
              "    </tr>\n",
              "  </thead>\n",
              "  <tbody>\n",
              "    <tr>\n",
              "      <th>0</th>\n",
              "      <td>b</td>\n",
              "      <td>30.83</td>\n",
              "      <td>0.0</td>\n",
              "      <td>u</td>\n",
              "      <td>g</td>\n",
              "      <td>w</td>\n",
              "      <td>v</td>\n",
              "      <td>1.25</td>\n",
              "      <td>t</td>\n",
              "      <td>t</td>\n",
              "      <td>1</td>\n",
              "      <td>f</td>\n",
              "      <td>g</td>\n",
              "      <td>00202</td>\n",
              "      <td>0</td>\n",
              "      <td>+</td>\n",
              "    </tr>\n",
              "  </tbody>\n",
              "</table>\n",
              "</div>\n",
              "      <button class=\"colab-df-convert\" onclick=\"convertToInteractive('df-60d259b2-3f0e-429f-a25b-bebda0105a5d')\"\n",
              "              title=\"Convert this dataframe to an interactive table.\"\n",
              "              style=\"display:none;\">\n",
              "        \n",
              "  <svg xmlns=\"http://www.w3.org/2000/svg\" height=\"24px\"viewBox=\"0 0 24 24\"\n",
              "       width=\"24px\">\n",
              "    <path d=\"M0 0h24v24H0V0z\" fill=\"none\"/>\n",
              "    <path d=\"M18.56 5.44l.94 2.06.94-2.06 2.06-.94-2.06-.94-.94-2.06-.94 2.06-2.06.94zm-11 1L8.5 8.5l.94-2.06 2.06-.94-2.06-.94L8.5 2.5l-.94 2.06-2.06.94zm10 10l.94 2.06.94-2.06 2.06-.94-2.06-.94-.94-2.06-.94 2.06-2.06.94z\"/><path d=\"M17.41 7.96l-1.37-1.37c-.4-.4-.92-.59-1.43-.59-.52 0-1.04.2-1.43.59L10.3 9.45l-7.72 7.72c-.78.78-.78 2.05 0 2.83L4 21.41c.39.39.9.59 1.41.59.51 0 1.02-.2 1.41-.59l7.78-7.78 2.81-2.81c.8-.78.8-2.07 0-2.86zM5.41 20L4 18.59l7.72-7.72 1.47 1.35L5.41 20z\"/>\n",
              "  </svg>\n",
              "      </button>\n",
              "      \n",
              "  <style>\n",
              "    .colab-df-container {\n",
              "      display:flex;\n",
              "      flex-wrap:wrap;\n",
              "      gap: 12px;\n",
              "    }\n",
              "\n",
              "    .colab-df-convert {\n",
              "      background-color: #E8F0FE;\n",
              "      border: none;\n",
              "      border-radius: 50%;\n",
              "      cursor: pointer;\n",
              "      display: none;\n",
              "      fill: #1967D2;\n",
              "      height: 32px;\n",
              "      padding: 0 0 0 0;\n",
              "      width: 32px;\n",
              "    }\n",
              "\n",
              "    .colab-df-convert:hover {\n",
              "      background-color: #E2EBFA;\n",
              "      box-shadow: 0px 1px 2px rgba(60, 64, 67, 0.3), 0px 1px 3px 1px rgba(60, 64, 67, 0.15);\n",
              "      fill: #174EA6;\n",
              "    }\n",
              "\n",
              "    [theme=dark] .colab-df-convert {\n",
              "      background-color: #3B4455;\n",
              "      fill: #D2E3FC;\n",
              "    }\n",
              "\n",
              "    [theme=dark] .colab-df-convert:hover {\n",
              "      background-color: #434B5C;\n",
              "      box-shadow: 0px 1px 3px 1px rgba(0, 0, 0, 0.15);\n",
              "      filter: drop-shadow(0px 1px 2px rgba(0, 0, 0, 0.3));\n",
              "      fill: #FFFFFF;\n",
              "    }\n",
              "  </style>\n",
              "\n",
              "      <script>\n",
              "        const buttonEl =\n",
              "          document.querySelector('#df-60d259b2-3f0e-429f-a25b-bebda0105a5d button.colab-df-convert');\n",
              "        buttonEl.style.display =\n",
              "          google.colab.kernel.accessAllowed ? 'block' : 'none';\n",
              "\n",
              "        async function convertToInteractive(key) {\n",
              "          const element = document.querySelector('#df-60d259b2-3f0e-429f-a25b-bebda0105a5d');\n",
              "          const dataTable =\n",
              "            await google.colab.kernel.invokeFunction('convertToInteractive',\n",
              "                                                     [key], {});\n",
              "          if (!dataTable) return;\n",
              "\n",
              "          const docLinkHtml = 'Like what you see? Visit the ' +\n",
              "            '<a target=\"_blank\" href=https://colab.research.google.com/notebooks/data_table.ipynb>data table notebook</a>'\n",
              "            + ' to learn more about interactive tables.';\n",
              "          element.innerHTML = '';\n",
              "          dataTable['output_type'] = 'display_data';\n",
              "          await google.colab.output.renderOutput(dataTable, element);\n",
              "          const docLink = document.createElement('div');\n",
              "          docLink.innerHTML = docLinkHtml;\n",
              "          element.appendChild(docLink);\n",
              "        }\n",
              "      </script>\n",
              "    </div>\n",
              "  </div>\n",
              "  "
            ]
          },
          "metadata": {},
          "execution_count": 10
        }
      ]
    },
    {
      "cell_type": "code",
      "source": [
        "df_final['Gender'] = LabelEncoder().fit_transform(df_final['Gender'])\n",
        "df_final['Married'] = LabelEncoder().fit_transform(df_final['Married'])\n",
        "df_final['BankCustomer'] = LabelEncoder().fit_transform(df_final['BankCustomer'])\n",
        "df_final['EducationLevel'] = LabelEncoder().fit_transform(df_final['EducationLevel'])\n",
        "df_final['Ethnicity'] = LabelEncoder().fit_transform(df_final['Ethnicity'])\n",
        "df_final['PriorDefault'] = LabelEncoder().fit_transform(df_final['PriorDefault'])\n",
        "df_final['Employed'] = LabelEncoder().fit_transform(df_final['Employed'])\n",
        "df_final['DriversLicense'] = LabelEncoder().fit_transform(df_final['DriversLicense'])\n",
        "df_final['Citizen'] = LabelEncoder().fit_transform(df_final['Citizen'])\n",
        "df_final['ApprovalStatus'] = LabelEncoder().fit_transform(df_final['ApprovalStatus'])"
      ],
      "metadata": {
        "id": "kntsRkzfA-o0"
      },
      "execution_count": null,
      "outputs": []
    },
    {
      "cell_type": "code",
      "source": [
        "X = df_final.drop(['ApprovalStatus'], axis =1)\n",
        "y =  df_final['ApprovalStatus']"
      ],
      "metadata": {
        "id": "t8LDG6QYCAzp"
      },
      "execution_count": 12,
      "outputs": []
    },
    {
      "cell_type": "code",
      "source": [
        "X_train, X_test, y_train, y_test = train_test_split(X, y, test_size=0.2, random_state=0)"
      ],
      "metadata": {
        "id": "a6Pcqa4lIEFD"
      },
      "execution_count": 13,
      "outputs": []
    },
    {
      "cell_type": "markdown",
      "source": [
        "Chi2"
      ],
      "metadata": {
        "id": "zPUGgwJHi6lN"
      }
    },
    {
      "cell_type": "code",
      "source": [
        "test = SelectKBest(score_func=chi2, k=len(X.columns)).fit(X,y)\n",
        "np.set_printoptions(precision=3)\n",
        "score  =  test.scores_"
      ],
      "metadata": {
        "id": "xVWAPg-cCUS8"
      },
      "execution_count": 14,
      "outputs": []
    },
    {
      "cell_type": "code",
      "source": [
        "sns.barplot(x  = score,y = X.columns )\n",
        "plt.xlabel('Importance Score')\n",
        "plt.ylabel('Features name')"
      ],
      "metadata": {
        "colab": {
          "base_uri": "https://localhost:8080/",
          "height": 296
        },
        "id": "M9b9q34kHQNX",
        "outputId": "0b64849c-af3b-4001-c706-76cd393a5fdf"
      },
      "execution_count": 15,
      "outputs": [
        {
          "output_type": "execute_result",
          "data": {
            "text/plain": [
              "Text(0, 0.5, 'Features name')"
            ]
          },
          "metadata": {},
          "execution_count": 15
        },
        {
          "output_type": "display_data",
          "data": {
            "text/plain": [
              "<Figure size 432x288 with 1 Axes>"
            ],
            "image/png": "[encoded data removed]"
          },
          "metadata": {
            "needs_background": "light"
          }
        }
      ]
    },
    {
      "cell_type": "code",
      "source": [
        "dc = {'Chi2 ranking': X.columns[score.argsort()[::-1]],'score': np.sort(score)[::-1]}\n",
        "ranking_chi = pd.DataFrame(data =  dc)\n",
        "ranking_chi.to_excel(\"credit_card_approval_dataset.xlsx\",sheet_name='Chi_2')  "
      ],
      "metadata": {
        "id": "ABF2mI5k1US8"
      },
      "execution_count": 16,
      "outputs": []
    },
    {
      "cell_type": "code",
      "source": [
        "rf = RandomForestClassifier(n_estimators=150)\n",
        "rf.fit(X_train, y_train)"
      ],
      "metadata": {
        "colab": {
          "base_uri": "https://localhost:8080/"
        },
        "id": "wxB-ns_IHcMH",
        "outputId": "ccac780d-83d9-43fd-bd30-8142fe7ceb14"
      },
      "execution_count": 17,
      "outputs": [
        {
          "output_type": "execute_result",
          "data": {
            "text/plain": [
              "RandomForestClassifier(n_estimators=150)"
            ]
          },
          "metadata": {},
          "execution_count": 17
        }
      ]
    },
    {
      "cell_type": "code",
      "source": [
        "rf.feature_importances_"
      ],
      "metadata": {
        "colab": {
          "base_uri": "https://localhost:8080/"
        },
        "id": "lLtfoXT9He1H",
        "outputId": "4468b43b-3964-46ef-f05b-d451ad675299"
      },
      "execution_count": 18,
      "outputs": [
        {
          "output_type": "execute_result",
          "data": {
            "text/plain": [
              "array([0.012, 0.074, 0.089, 0.016, 0.013, 0.054, 0.027, 0.107, 0.274,\n",
              "       0.06 , 0.088, 0.014, 0.01 , 0.083, 0.08 ])"
            ]
          },
          "metadata": {},
          "execution_count": 18
        }
      ]
    },
    {
      "cell_type": "code",
      "source": [
        "sort = rf.feature_importances_\n",
        "plt.barh(X.columns, rf.feature_importances_)\n",
        "plt.xlabel(\"Feature Importance\")"
      ],
      "metadata": {
        "colab": {
          "base_uri": "https://localhost:8080/",
          "height": 296
        },
        "id": "UmKErqxAIOWj",
        "outputId": "b53473b9-9656-425d-c5d0-72665e1fa055"
      },
      "execution_count": 19,
      "outputs": [
        {
          "output_type": "execute_result",
          "data": {
            "text/plain": [
              "Text(0.5, 0, 'Feature Importance')"
            ]
          },
          "metadata": {},
          "execution_count": 19
        },
        {
          "output_type": "display_data",
          "data": {
            "text/plain": [
              "<Figure size 432x288 with 1 Axes>"
            ],
            "image/png": "[encoded data removed]"
          },
          "metadata": {
            "needs_background": "light"
          }
        }
      ]
    },
    {
      "cell_type": "code",
      "source": [
        "dc = {'Tree based method Attributes': X.columns[rf.feature_importances_.argsort()[::-1]],'score': np.sort(rf.feature_importances_)[::-1]}\n",
        "rank_tree = pd.DataFrame(data =  dc) \n",
        "from openpyxl import load_workbook\n",
        "book = load_workbook('/content/credit_card_approval_dataset.xlsx')\n",
        "writer = pd.ExcelWriter('/content/credit_card_approval_dataset.xlsx', engine='openpyxl') \n",
        "writer.book = book\n",
        "## ExcelWriter for some reason uses writer.sheets to access the sheet.\n",
        "## If you leave it empty it will not know that sheet Main is already there\n",
        "## and will create a new sheet.\n",
        "writer.sheets = dict((ws.title, ws) for ws in book.worksheets)\n",
        "rank_tree.to_excel(writer, \"Tree_based_method\")\n",
        "writer.save()"
      ],
      "metadata": {
        "id": "a7tCG5c51gku"
      },
      "execution_count": 20,
      "outputs": []
    },
    {
      "cell_type": "code",
      "source": [
        "clf = LogisticRegression(solver = 'liblinear').fit(X_train, y_train)"
      ],
      "metadata": {
        "id": "7zFpWSWsIRyu"
      },
      "execution_count": 21,
      "outputs": []
    },
    {
      "cell_type": "code",
      "source": [
        "result = permutation_importance(clf, X, y, n_repeats=10, random_state=0)"
      ],
      "metadata": {
        "id": "mP9lmco5JI83"
      },
      "execution_count": 22,
      "outputs": []
    },
    {
      "cell_type": "code",
      "source": [
        "plt.barh(X.columns, result.importances_mean )\n",
        "plt.xlabel(\"Feature Importance MEAN\")"
      ],
      "metadata": {
        "colab": {
          "base_uri": "https://localhost:8080/",
          "height": 296
        },
        "id": "ULeIs5b1JNWW",
        "outputId": "3ab996b4-9a0f-4d82-c241-68252fb8b0be"
      },
      "execution_count": 23,
      "outputs": [
        {
          "output_type": "execute_result",
          "data": {
            "text/plain": [
              "Text(0.5, 0, 'Feature Importance MEAN')"
            ]
          },
          "metadata": {},
          "execution_count": 23
        },
        {
          "output_type": "display_data",
          "data": {
            "text/plain": [
              "<Figure size 432x288 with 1 Axes>"
            ],
            "image/png": "[encoded data removed]"
          },
          "metadata": {
            "needs_background": "light"
          }
        }
      ]
    },
    {
      "cell_type": "code",
      "source": [
        "dc = {'Permutation_importance_mean': X.columns[result.importances_mean.argsort()[::-1]],'score': np.sort(result.importances_mean)[::-1]}\n",
        "rank_per_mean = pd.DataFrame(data =  dc) \n",
        "book = load_workbook('/content/credit_card_approval_dataset.xlsx')\n",
        "writer = pd.ExcelWriter('/content/credit_card_approval_dataset.xlsx', engine='openpyxl') \n",
        "writer.book = book\n",
        "## ExcelWriter for some reason uses writer.sheets to access the sheet.\n",
        "## If you leave it empty it will not know that sheet Main is already there\n",
        "## and will create a new sheet.\n",
        "writer.sheets = dict((ws.title, ws) for ws in book.worksheets)\n",
        "rank_per_mean.to_excel(writer, \"permutation_method_mean\")\n",
        "writer.save()"
      ],
      "metadata": {
        "id": "ncHX5eaW1qDC"
      },
      "execution_count": 24,
      "outputs": []
    },
    {
      "cell_type": "code",
      "source": [
        "plt.barh(X.columns, result.importances_std)\n",
        "plt.xlabel(\"Feature Importance STD\")"
      ],
      "metadata": {
        "colab": {
          "base_uri": "https://localhost:8080/",
          "height": 296
        },
        "id": "MlGpJUqRJYoC",
        "outputId": "5ede0599-a023-4a67-ac49-905272f077d1"
      },
      "execution_count": 25,
      "outputs": [
        {
          "output_type": "execute_result",
          "data": {
            "text/plain": [
              "Text(0.5, 0, 'Feature Importance STD')"
            ]
          },
          "metadata": {},
          "execution_count": 25
        },
        {
          "output_type": "display_data",
          "data": {
            "text/plain": [
              "<Figure size 432x288 with 1 Axes>"
            ],
            "image/png": "[encoded data removed]"
          },
          "metadata": {
            "needs_background": "light"
          }
        }
      ]
    },
    {
      "cell_type": "code",
      "source": [
        "dc = {'Permutation_importance_std': X.columns[result.importances_std.argsort()[::-1]],'score': np.sort(result.importances_std)[::-1]}\n",
        "rank_per_std = pd.DataFrame(data =  dc) \n",
        "book = load_workbook('/content/credit_card_approval_dataset.xlsx')\n",
        "writer = pd.ExcelWriter('/content/credit_card_approval_dataset.xlsx', engine='openpyxl') \n",
        "writer.book = book\n",
        "\n",
        "## ExcelWriter for some reason uses writer.sheets to access the sheet.\n",
        "## If you leave it empty it will not know that sheet Main is already there\n",
        "## and will create a new sheet.\n",
        "\n",
        "writer.sheets = dict((ws.title, ws) for ws in book.worksheets)\n",
        "rank_per_std.to_excel(writer, \"permutation_method_std\")\n",
        "writer.save()"
      ],
      "metadata": {
        "id": "ZFZFuOmf1yEf"
      },
      "execution_count": 26,
      "outputs": []
    },
    {
      "cell_type": "code",
      "source": [
        "pca = PCA().fit(X_train)\n",
        "plt.plot(pca.explained_variance_ratio_.cumsum(), lw=3, color='#087E8B')\n",
        "plt.title('Cumulative explained variance by number of principal components', size=5)\n",
        "plt.show()"
      ],
      "metadata": {
        "colab": {
          "base_uri": "https://localhost:8080/",
          "height": 275
        },
        "id": "t4HhbblcJzQw",
        "outputId": "a4643709-a61e-4872-bc47-7b8ff5b70e48"
      },
      "execution_count": 27,
      "outputs": [
        {
          "output_type": "display_data",
          "data": {
            "text/plain": [
              "<Figure size 432x288 with 1 Axes>"
            ],
            "image/png": "[encoded data removed]"
          },
          "metadata": {
            "needs_background": "light"
          }
        }
      ]
    },
    {
      "cell_type": "code",
      "source": [
        "loadings = pd.DataFrame(\n",
        "    data=pca.components_.T * np.sqrt(pca.explained_variance_), \n",
        "    columns=[f'PC{i}' for i in range(1, len(X.columns) + 1)],\n",
        "    index=X.columns\n",
        ")\n",
        "loadings.head()"
      ],
      "metadata": {
        "colab": {
          "base_uri": "https://localhost:8080/",
          "height": 270
        },
        "id": "mFGvlN5IJ9lC",
        "outputId": "cfdb0698-1c46-4ad3-fcb0-154875a9ceba"
      },
      "execution_count": 28,
      "outputs": [
        {
          "output_type": "execute_result",
          "data": {
            "text/plain": [
              "                   PC1       PC2        PC3       PC4       PC5       PC6  \\\n",
              "Gender        0.020850  0.036329   0.027864 -0.013719  0.018361 -0.001491   \n",
              "Age          -0.147735 -0.772376  11.437322 -0.905843  0.027519  0.030175   \n",
              "Debt          0.649189 -1.112190   1.122267  3.370970 -0.780904 -3.171898   \n",
              "Married      -0.052276  0.011311  -0.038248 -0.040668  0.035014 -0.002575   \n",
              "BankCustomer  0.001542  0.027284  -0.088096 -0.081244  0.073168 -0.015002   \n",
              "\n",
              "                   PC7       PC8       PC9      PC10      PC11      PC12  \\\n",
              "Gender        0.042177 -0.021425  0.063571  0.106073 -0.115665  0.259058   \n",
              "Age          -0.228104 -0.093048  0.005855 -0.000300  0.000678 -0.000626   \n",
              "Debt         -0.406608 -0.029483  0.011888  0.007368 -0.001048  0.000692   \n",
              "Married      -0.002101  0.022769  0.416019 -0.018212 -0.001819 -0.020865   \n",
              "BankCustomer  0.011573  0.054301  0.831309 -0.009074 -0.000619 -0.045215   \n",
              "\n",
              "                  PC13      PC14      PC15  \n",
              "Gender       -0.337557 -0.029316  0.000871  \n",
              "Age           0.000814 -0.000971  0.000043  \n",
              "Debt          0.000974 -0.004149 -0.000044  \n",
              "Married      -0.006783 -0.003313 -0.058510  \n",
              "BankCustomer  0.005994 -0.010912  0.029272  "
            ],
            "text/html": [
              "\n",
              "  <div id=\"df-09a1f3c5-ef43-45b8-98ca-e0c8887e3f7d\">\n",
              "    <div class=\"colab-df-container\">\n",
              "      <div>\n",
              "<style scoped>\n",
              "    .dataframe tbody tr th:only-of-type {\n",
              "        vertical-align: middle;\n",
              "    }\n",
              "\n",
              "    .dataframe tbody tr th {\n",
              "        vertical-align: top;\n",
              "    }\n",
              "\n",
              "    .dataframe thead th {\n",
              "        text-align: right;\n",
              "    }\n",
              "</style>\n",
              "<table border=\"1\" class=\"dataframe\">\n",
              "  <thead>\n",
              "    <tr style=\"text-align: right;\">\n",
              "      <th></th>\n",
              "      <th>PC1</th>\n",
              "      <th>PC2</th>\n",
              "      <th>PC3</th>\n",
              "      <th>PC4</th>\n",
              "      <th>PC5</th>\n",
              "      <th>PC6</th>\n",
              "      <th>PC7</th>\n",
              "      <th>PC8</th>\n",
              "      <th>PC9</th>\n",
              "      <th>PC10</th>\n",
              "      <th>PC11</th>\n",
              "      <th>PC12</th>\n",
              "      <th>PC13</th>\n",
              "      <th>PC14</th>\n",
              "      <th>PC15</th>\n",
              "    </tr>\n",
              "  </thead>\n",
              "  <tbody>\n",
              "    <tr>\n",
              "      <th>Gender</th>\n",
              "      <td>0.020850</td>\n",
              "      <td>0.036329</td>\n",
              "      <td>0.027864</td>\n",
              "      <td>-0.013719</td>\n",
              "      <td>0.018361</td>\n",
              "      <td>-0.001491</td>\n",
              "      <td>0.042177</td>\n",
              "      <td>-0.021425</td>\n",
              "      <td>0.063571</td>\n",
              "      <td>0.106073</td>\n",
              "      <td>-0.115665</td>\n",
              "      <td>0.259058</td>\n",
              "      <td>-0.337557</td>\n",
              "      <td>-0.029316</td>\n",
              "      <td>0.000871</td>\n",
              "    </tr>\n",
              "    <tr>\n",
              "      <th>Age</th>\n",
              "      <td>-0.147735</td>\n",
              "      <td>-0.772376</td>\n",
              "      <td>11.437322</td>\n",
              "      <td>-0.905843</td>\n",
              "      <td>0.027519</td>\n",
              "      <td>0.030175</td>\n",
              "      <td>-0.228104</td>\n",
              "      <td>-0.093048</td>\n",
              "      <td>0.005855</td>\n",
              "      <td>-0.000300</td>\n",
              "      <td>0.000678</td>\n",
              "      <td>-0.000626</td>\n",
              "      <td>0.000814</td>\n",
              "      <td>-0.000971</td>\n",
              "      <td>0.000043</td>\n",
              "    </tr>\n",
              "    <tr>\n",
              "      <th>Debt</th>\n",
              "      <td>0.649189</td>\n",
              "      <td>-1.112190</td>\n",
              "      <td>1.122267</td>\n",
              "      <td>3.370970</td>\n",
              "      <td>-0.780904</td>\n",
              "      <td>-3.171898</td>\n",
              "      <td>-0.406608</td>\n",
              "      <td>-0.029483</td>\n",
              "      <td>0.011888</td>\n",
              "      <td>0.007368</td>\n",
              "      <td>-0.001048</td>\n",
              "      <td>0.000692</td>\n",
              "      <td>0.000974</td>\n",
              "      <td>-0.004149</td>\n",
              "      <td>-0.000044</td>\n",
              "    </tr>\n",
              "    <tr>\n",
              "      <th>Married</th>\n",
              "      <td>-0.052276</td>\n",
              "      <td>0.011311</td>\n",
              "      <td>-0.038248</td>\n",
              "      <td>-0.040668</td>\n",
              "      <td>0.035014</td>\n",
              "      <td>-0.002575</td>\n",
              "      <td>-0.002101</td>\n",
              "      <td>0.022769</td>\n",
              "      <td>0.416019</td>\n",
              "      <td>-0.018212</td>\n",
              "      <td>-0.001819</td>\n",
              "      <td>-0.020865</td>\n",
              "      <td>-0.006783</td>\n",
              "      <td>-0.003313</td>\n",
              "      <td>-0.058510</td>\n",
              "    </tr>\n",
              "    <tr>\n",
              "      <th>BankCustomer</th>\n",
              "      <td>0.001542</td>\n",
              "      <td>0.027284</td>\n",
              "      <td>-0.088096</td>\n",
              "      <td>-0.081244</td>\n",
              "      <td>0.073168</td>\n",
              "      <td>-0.015002</td>\n",
              "      <td>0.011573</td>\n",
              "      <td>0.054301</td>\n",
              "      <td>0.831309</td>\n",
              "      <td>-0.009074</td>\n",
              "      <td>-0.000619</td>\n",
              "      <td>-0.045215</td>\n",
              "      <td>0.005994</td>\n",
              "      <td>-0.010912</td>\n",
              "      <td>0.029272</td>\n",
              "    </tr>\n",
              "  </tbody>\n",
              "</table>\n",
              "</div>\n",
              "      <button class=\"colab-df-convert\" onclick=\"convertToInteractive('df-09a1f3c5-ef43-45b8-98ca-e0c8887e3f7d')\"\n",
              "              title=\"Convert this dataframe to an interactive table.\"\n",
              "              style=\"display:none;\">\n",
              "        \n",
              "  <svg xmlns=\"http://www.w3.org/2000/svg\" height=\"24px\"viewBox=\"0 0 24 24\"\n",
              "       width=\"24px\">\n",
              "    <path d=\"M0 0h24v24H0V0z\" fill=\"none\"/>\n",
              "    <path d=\"M18.56 5.44l.94 2.06.94-2.06 2.06-.94-2.06-.94-.94-2.06-.94 2.06-2.06.94zm-11 1L8.5 8.5l.94-2.06 2.06-.94-2.06-.94L8.5 2.5l-.94 2.06-2.06.94zm10 10l.94 2.06.94-2.06 2.06-.94-2.06-.94-.94-2.06-.94 2.06-2.06.94z\"/><path d=\"M17.41 7.96l-1.37-1.37c-.4-.4-.92-.59-1.43-.59-.52 0-1.04.2-1.43.59L10.3 9.45l-7.72 7.72c-.78.78-.78 2.05 0 2.83L4 21.41c.39.39.9.59 1.41.59.51 0 1.02-.2 1.41-.59l7.78-7.78 2.81-2.81c.8-.78.8-2.07 0-2.86zM5.41 20L4 18.59l7.72-7.72 1.47 1.35L5.41 20z\"/>\n",
              "  </svg>\n",
              "      </button>\n",
              "      \n",
              "  <style>\n",
              "    .colab-df-container {\n",
              "      display:flex;\n",
              "      flex-wrap:wrap;\n",
              "      gap: 12px;\n",
              "    }\n",
              "\n",
              "    .colab-df-convert {\n",
              "      background-color: #E8F0FE;\n",
              "      border: none;\n",
              "      border-radius: 50%;\n",
              "      cursor: pointer;\n",
              "      display: none;\n",
              "      fill: #1967D2;\n",
              "      height: 32px;\n",
              "      padding: 0 0 0 0;\n",
              "      width: 32px;\n",
              "    }\n",
              "\n",
              "    .colab-df-convert:hover {\n",
              "      background-color: #E2EBFA;\n",
              "      box-shadow: 0px 1px 2px rgba(60, 64, 67, 0.3), 0px 1px 3px 1px rgba(60, 64, 67, 0.15);\n",
              "      fill: #174EA6;\n",
              "    }\n",
              "\n",
              "    [theme=dark] .colab-df-convert {\n",
              "      background-color: #3B4455;\n",
              "      fill: #D2E3FC;\n",
              "    }\n",
              "\n",
              "    [theme=dark] .colab-df-convert:hover {\n",
              "      background-color: #434B5C;\n",
              "      box-shadow: 0px 1px 3px 1px rgba(0, 0, 0, 0.15);\n",
              "      filter: drop-shadow(0px 1px 2px rgba(0, 0, 0, 0.3));\n",
              "      fill: #FFFFFF;\n",
              "    }\n",
              "  </style>\n",
              "\n",
              "      <script>\n",
              "        const buttonEl =\n",
              "          document.querySelector('#df-09a1f3c5-ef43-45b8-98ca-e0c8887e3f7d button.colab-df-convert');\n",
              "        buttonEl.style.display =\n",
              "          google.colab.kernel.accessAllowed ? 'block' : 'none';\n",
              "\n",
              "        async function convertToInteractive(key) {\n",
              "          const element = document.querySelector('#df-09a1f3c5-ef43-45b8-98ca-e0c8887e3f7d');\n",
              "          const dataTable =\n",
              "            await google.colab.kernel.invokeFunction('convertToInteractive',\n",
              "                                                     [key], {});\n",
              "          if (!dataTable) return;\n",
              "\n",
              "          const docLinkHtml = 'Like what you see? Visit the ' +\n",
              "            '<a target=\"_blank\" href=https://colab.research.google.com/notebooks/data_table.ipynb>data table notebook</a>'\n",
              "            + ' to learn more about interactive tables.';\n",
              "          element.innerHTML = '';\n",
              "          dataTable['output_type'] = 'display_data';\n",
              "          await google.colab.output.renderOutput(dataTable, element);\n",
              "          const docLink = document.createElement('div');\n",
              "          docLink.innerHTML = docLinkHtml;\n",
              "          element.appendChild(docLink);\n",
              "        }\n",
              "      </script>\n",
              "    </div>\n",
              "  </div>\n",
              "  "
            ]
          },
          "metadata": {},
          "execution_count": 28
        }
      ]
    },
    {
      "cell_type": "code",
      "source": [
        "pc1_loadings = loadings.sort_values(by='PC1', ascending=False)[['PC1']]\n",
        "pc1_loadings = pc1_loadings.reset_index()\n",
        "pc1_loadings.columns = ['Attribute', 'CorrelationWithPC1']\n",
        "\n",
        "plt.bar(x=pc1_loadings['Attribute'], height=pc1_loadings['CorrelationWithPC1'], color='#087E8B')\n",
        "plt.title('PCA loading scores (first principal component)', size=5)\n",
        "plt.xticks(rotation='vertical')\n",
        "plt.show()"
      ],
      "metadata": {
        "colab": {
          "base_uri": "https://localhost:8080/",
          "height": 341
        },
        "id": "g_dFjRswKCl0",
        "outputId": "e8a3714d-7c9c-4fd3-dab1-369cb483aae9"
      },
      "execution_count": 29,
      "outputs": [
        {
          "output_type": "display_data",
          "data": {
            "text/plain": [
              "<Figure size 432x288 with 1 Axes>"
            ],
            "image/png": "[encoded data removed]"
          },
          "metadata": {
            "needs_background": "light"
          }
        }
      ]
    },
    {
      "cell_type": "code",
      "source": [
        "rank_pca = pd.DataFrame(loadings['PC1'])\n",
        "rank_pca =  rank_pca.sort_values(by='PC1', ascending = False)\n",
        "book = load_workbook('/content/credit_card_approval_dataset.xlsx')\n",
        "writer = pd.ExcelWriter('/content/credit_card_approval_dataset.xlsx', engine='openpyxl') \n",
        "writer.book = book\n",
        "## ExcelWriter for some reason uses writer.sheets to access the sheet.\n",
        "## If you leave it empty it will not know that sheet Main is already there\n",
        "## and will create a new sheet.\n",
        "writer.sheets = dict((ws.title, ws) for ws in book.worksheets)\n",
        "rank_pca.to_excel(writer, \"PCA\")\n",
        "writer.save()"
      ],
      "metadata": {
        "id": "3TVKsZOB14Tx"
      },
      "execution_count": 30,
      "outputs": []
    },
    {
      "cell_type": "code",
      "source": [
        "pc2_loadings = loadings.sort_values(by='PC2', ascending=False)[['PC2']]\n",
        "pc2_loadings = pc2_loadings.reset_index()\n",
        "pc2_loadings.columns = ['Attribute', 'CorrelationWithPC2']\n",
        "\n",
        "plt.bar(x=pc2_loadings['Attribute'], height=pc2_loadings['CorrelationWithPC2'], color='#087E8B')\n",
        "plt.title('PCA loading scores (Second principal component)', size=5)\n",
        "plt.xticks(rotation='vertical')\n",
        "plt.show()"
      ],
      "metadata": {
        "colab": {
          "base_uri": "https://localhost:8080/",
          "height": 341
        },
        "id": "JSWHoIIYKLjI",
        "outputId": "2934859e-19a6-4a69-8129-47a5cd0f9ea2"
      },
      "execution_count": null,
      "outputs": [
        {
          "output_type": "display_data",
          "data": {
            "text/plain": [
              "<Figure size 432x288 with 1 Axes>"
            ],
            "image/png": "[encoded data removed]"
          },
          "metadata": {
            "needs_background": "light"
          }
        }
      ]
    },
    {
      "cell_type": "code",
      "source": [
        "fs_fit_fscore = SelectKBest(f_classif, k=len(X.columns))\n",
        "fs_fit_fscore.fit_transform(X_train, y_train)\n",
        "fs_indices_fscore = np.argsort(np.nan_to_num(fs_fit_fscore.scores_))[::-1][0:len(X.columns)]\n",
        "fs_indices_fscore"
      ],
      "metadata": {
        "colab": {
          "base_uri": "https://localhost:8080/"
        },
        "id": "NFYV9Mq1KRkz",
        "outputId": "0a34b959-c257-45ea-edde-f6028b55f29b"
      },
      "execution_count": 31,
      "outputs": [
        {
          "output_type": "execute_result",
          "data": {
            "text/plain": [
              "array([ 8,  9, 10,  7,  2,  3,  4, 14,  1,  5, 12, 13, 11,  0,  6])"
            ]
          },
          "metadata": {},
          "execution_count": 31
        }
      ]
    },
    {
      "cell_type": "code",
      "source": [
        "best_features_fscore = df.columns[fs_indices_fscore].values\n",
        "best_features_fscore"
      ],
      "metadata": {
        "colab": {
          "base_uri": "https://localhost:8080/"
        },
        "id": "EmjcpNJsKWvT",
        "outputId": "68a000ac-65e9-4e8a-8c2d-efbec47f7c0f"
      },
      "execution_count": 32,
      "outputs": [
        {
          "output_type": "execute_result",
          "data": {
            "text/plain": [
              "array(['PriorDefault', 'Employed', 'CreditScore', 'YearsEmployed', 'Debt',\n",
              "       'Married', 'BankCustomer', 'Income', 'Age', 'EducationLevel',\n",
              "       'Citizen', 'ZipCode', 'DriversLicense', 'Gender', 'Ethnicity'],\n",
              "      dtype=object)"
            ]
          },
          "metadata": {},
          "execution_count": 32
        }
      ]
    },
    {
      "cell_type": "code",
      "source": [
        "feature_importances_fscore = fs_fit_fscore.scores_[fs_indices_fscore]\n",
        "feature_importances_fscore"
      ],
      "metadata": {
        "colab": {
          "base_uri": "https://localhost:8080/"
        },
        "id": "bv745UXVKkKb",
        "outputId": "06098b5d-49df-47d6-f35f-01d2992d12be"
      },
      "execution_count": 33,
      "outputs": [
        {
          "output_type": "execute_result",
          "data": {
            "text/plain": [
              "array([5.777e+02, 1.294e+02, 8.626e+01, 6.110e+01, 2.870e+01, 1.769e+01,\n",
              "       1.533e+01, 1.351e+01, 1.109e+01, 6.236e+00, 5.218e+00, 3.523e+00,\n",
              "       1.582e+00, 1.230e-01, 8.595e-02])"
            ]
          },
          "metadata": {},
          "execution_count": 33
        }
      ]
    },
    {
      "cell_type": "code",
      "source": [
        "plt.barh(best_features_fscore, feature_importances_fscore)\n",
        "plt.xlabel('Imporatnce')\n",
        "plt.ylabel('Features')"
      ],
      "metadata": {
        "colab": {
          "base_uri": "https://localhost:8080/",
          "height": 296
        },
        "id": "1F5MBSvhKm56",
        "outputId": "33572c48-0dfd-4cb2-9e3b-714f153786d3"
      },
      "execution_count": 34,
      "outputs": [
        {
          "output_type": "execute_result",
          "data": {
            "text/plain": [
              "Text(0, 0.5, 'Features')"
            ]
          },
          "metadata": {},
          "execution_count": 34
        },
        {
          "output_type": "display_data",
          "data": {
            "text/plain": [
              "<Figure size 432x288 with 1 Axes>"
            ],
            "image/png": "[encoded data removed]"
          },
          "metadata": {
            "needs_background": "light"
          }
        }
      ]
    },
    {
      "cell_type": "code",
      "source": [
        "dc = {'Score': feature_importances_fscore , 'Name': best_features_fscore }\n",
        "rank_f_test = pd.DataFrame(dc) \n",
        "book = load_workbook('/content/credit_card_approval_dataset.xlsx')\n",
        "writer = pd.ExcelWriter('/content/credit_card_approval_dataset.xlsx', engine='openpyxl') \n",
        "writer.book = book\n",
        "## ExcelWriter for some reason uses writer.sheets to access the sheet.\n",
        "## If you leave it empty it will not know that sheet Main is already there\n",
        "## and will create a new sheet.\n",
        "writer.sheets = dict((ws.title, ws) for ws in book.worksheets)\n",
        "rank_f_test.to_excel(writer, \"F_test\")\n",
        "writer.save()"
      ],
      "metadata": {
        "id": "z4nEuohj2Apf"
      },
      "execution_count": 35,
      "outputs": []
    },
    {
      "cell_type": "code",
      "source": [
        "fs_fit_mutual_info = SelectKBest(mutual_info_classif, k=len(X.columns))\n",
        "fs_fit_mutual_info.fit_transform(X_train, y_train)\n",
        "fs_indices_mutual_info = np.argsort(fs_fit_mutual_info.scores_)[::-1][0:len(X.columns)]\n",
        "best_features_mutual_info = df.columns[fs_indices_mutual_info].values\n",
        "best_features_mutual_info"
      ],
      "metadata": {
        "colab": {
          "base_uri": "https://localhost:8080/"
        },
        "id": "g2PvWrkhKo6d",
        "outputId": "1c365786-9ce2-47d3-ceba-bf084132e109"
      },
      "execution_count": 36,
      "outputs": [
        {
          "output_type": "execute_result",
          "data": {
            "text/plain": [
              "array(['PriorDefault', 'CreditScore', 'Employed', 'Income',\n",
              "       'YearsEmployed', 'EducationLevel', 'Debt', 'Married', 'Ethnicity',\n",
              "       'BankCustomer', 'Gender', 'Age', 'ZipCode', 'Citizen',\n",
              "       'DriversLicense'], dtype=object)"
            ]
          },
          "metadata": {},
          "execution_count": 36
        }
      ]
    },
    {
      "cell_type": "code",
      "source": [
        "feature_importances_mutual_info = fs_fit_mutual_info.scores_[fs_indices_mutual_info]\n",
        "feature_importances_mutual_info"
      ],
      "metadata": {
        "colab": {
          "base_uri": "https://localhost:8080/"
        },
        "id": "GSmov0BLKxW2",
        "outputId": "783eee1e-6b90-4106-8f0e-abf09a6b15dd"
      },
      "execution_count": 37,
      "outputs": [
        {
          "output_type": "execute_result",
          "data": {
            "text/plain": [
              "array([0.329, 0.127, 0.101, 0.092, 0.065, 0.052, 0.035, 0.028, 0.025,\n",
              "       0.009, 0.009, 0.004, 0.   , 0.   , 0.   ])"
            ]
          },
          "metadata": {},
          "execution_count": 37
        }
      ]
    },
    {
      "cell_type": "code",
      "source": [
        "plt.barh(best_features_mutual_info,feature_importances_mutual_info)\n",
        "plt.xlabel('Importance')\n",
        "plt.ylabel('Features')"
      ],
      "metadata": {
        "colab": {
          "base_uri": "https://localhost:8080/",
          "height": 296
        },
        "id": "3FN5ocWOK3KC",
        "outputId": "ce71179f-8e2f-4d66-c817-2a7f8662810b"
      },
      "execution_count": 38,
      "outputs": [
        {
          "output_type": "execute_result",
          "data": {
            "text/plain": [
              "Text(0, 0.5, 'Features')"
            ]
          },
          "metadata": {},
          "execution_count": 38
        },
        {
          "output_type": "display_data",
          "data": {
            "text/plain": [
              "<Figure size 432x288 with 1 Axes>"
            ],
            "image/png": "[encoded data removed]"
          },
          "metadata": {
            "needs_background": "light"
          }
        }
      ]
    },
    {
      "cell_type": "code",
      "source": [
        "dc = {'Score':feature_importances_mutual_info, 'Name':best_features_mutual_info }\n",
        "rank_mutual = pd.DataFrame(dc)\n",
        "book = load_workbook('/content/credit_card_approval_dataset.xlsx')\n",
        "writer = pd.ExcelWriter('/content/credit_card_approval_dataset.xlsx', engine='openpyxl') \n",
        "writer.book = book\n",
        "\n",
        "## ExcelWriter for some reason uses writer.sheets to access the sheet.\n",
        "## If you leave it empty it will not know that sheet Main is already there\n",
        "## and will create a new sheet.\n",
        "\n",
        "writer.sheets = dict((ws.title, ws) for ws in book.worksheets)\n",
        "rank_mutual.to_excel(writer, \"mutual_info\")\n",
        "writer.save()"
      ],
      "metadata": {
        "id": "YmrgfbF62Ipz"
      },
      "execution_count": 39,
      "outputs": []
    },
    {
      "cell_type": "code",
      "source": [
        "df_corr = df_final.corr()"
      ],
      "metadata": {
        "id": "pPIUG5s3K5KW"
      },
      "execution_count": 40,
      "outputs": []
    },
    {
      "cell_type": "code",
      "source": [
        "corr_rank = pd.DataFrame(df_corr['ApprovalStatus'])\n",
        "corr_rank = corr_rank.sort_values(by = 'ApprovalStatus',ascending = False)\n",
        "corr_rank"
      ],
      "metadata": {
        "colab": {
          "base_uri": "https://localhost:8080/",
          "height": 488
        },
        "id": "YgLFwZtgLAtz",
        "outputId": "90668a96-ef31-4f24-b7d7-84a870ece04d"
      },
      "execution_count": 41,
      "outputs": [
        {
          "output_type": "execute_result",
          "data": {
            "text/plain": [
              "                ApprovalStatus\n",
              "ApprovalStatus        1.000000\n",
              "Married               0.179700\n",
              "BankCustomer          0.169976\n",
              "Citizen               0.100785\n",
              "Gender                0.019817\n",
              "Ethnicity             0.011023\n",
              "DriversLicense       -0.050011\n",
              "EducationLevel       -0.123314\n",
              "Income               -0.172766\n",
              "Debt                 -0.207086\n",
              "YearsEmployed        -0.332728\n",
              "CreditScore          -0.406052\n",
              "Employed             -0.451866\n",
              "PriorDefault         -0.738829"
            ],
            "text/html": [
              "\n",
              "  <div id=\"df-1e4368ae-7a4b-4304-9028-b09bb3e5e294\">\n",
              "    <div class=\"colab-df-container\">\n",
              "      <div>\n",
              "<style scoped>\n",
              "    .dataframe tbody tr th:only-of-type {\n",
              "        vertical-align: middle;\n",
              "    }\n",
              "\n",
              "    .dataframe tbody tr th {\n",
              "        vertical-align: top;\n",
              "    }\n",
              "\n",
              "    .dataframe thead th {\n",
              "        text-align: right;\n",
              "    }\n",
              "</style>\n",
              "<table border=\"1\" class=\"dataframe\">\n",
              "  <thead>\n",
              "    <tr style=\"text-align: right;\">\n",
              "      <th></th>\n",
              "      <th>ApprovalStatus</th>\n",
              "    </tr>\n",
              "  </thead>\n",
              "  <tbody>\n",
              "    <tr>\n",
              "      <th>ApprovalStatus</th>\n",
              "      <td>1.000000</td>\n",
              "    </tr>\n",
              "    <tr>\n",
              "      <th>Married</th>\n",
              "      <td>0.179700</td>\n",
              "    </tr>\n",
              "    <tr>\n",
              "      <th>BankCustomer</th>\n",
              "      <td>0.169976</td>\n",
              "    </tr>\n",
              "    <tr>\n",
              "      <th>Citizen</th>\n",
              "      <td>0.100785</td>\n",
              "    </tr>\n",
              "    <tr>\n",
              "      <th>Gender</th>\n",
              "      <td>0.019817</td>\n",
              "    </tr>\n",
              "    <tr>\n",
              "      <th>Ethnicity</th>\n",
              "      <td>0.011023</td>\n",
              "    </tr>\n",
              "    <tr>\n",
              "      <th>DriversLicense</th>\n",
              "      <td>-0.050011</td>\n",
              "    </tr>\n",
              "    <tr>\n",
              "      <th>EducationLevel</th>\n",
              "      <td>-0.123314</td>\n",
              "    </tr>\n",
              "    <tr>\n",
              "      <th>Income</th>\n",
              "      <td>-0.172766</td>\n",
              "    </tr>\n",
              "    <tr>\n",
              "      <th>Debt</th>\n",
              "      <td>-0.207086</td>\n",
              "    </tr>\n",
              "    <tr>\n",
              "      <th>YearsEmployed</th>\n",
              "      <td>-0.332728</td>\n",
              "    </tr>\n",
              "    <tr>\n",
              "      <th>CreditScore</th>\n",
              "      <td>-0.406052</td>\n",
              "    </tr>\n",
              "    <tr>\n",
              "      <th>Employed</th>\n",
              "      <td>-0.451866</td>\n",
              "    </tr>\n",
              "    <tr>\n",
              "      <th>PriorDefault</th>\n",
              "      <td>-0.738829</td>\n",
              "    </tr>\n",
              "  </tbody>\n",
              "</table>\n",
              "</div>\n",
              "      <button class=\"colab-df-convert\" onclick=\"convertToInteractive('df-1e4368ae-7a4b-4304-9028-b09bb3e5e294')\"\n",
              "              title=\"Convert this dataframe to an interactive table.\"\n",
              "              style=\"display:none;\">\n",
              "        \n",
              "  <svg xmlns=\"http://www.w3.org/2000/svg\" height=\"24px\"viewBox=\"0 0 24 24\"\n",
              "       width=\"24px\">\n",
              "    <path d=\"M0 0h24v24H0V0z\" fill=\"none\"/>\n",
              "    <path d=\"M18.56 5.44l.94 2.06.94-2.06 2.06-.94-2.06-.94-.94-2.06-.94 2.06-2.06.94zm-11 1L8.5 8.5l.94-2.06 2.06-.94-2.06-.94L8.5 2.5l-.94 2.06-2.06.94zm10 10l.94 2.06.94-2.06 2.06-.94-2.06-.94-.94-2.06-.94 2.06-2.06.94z\"/><path d=\"M17.41 7.96l-1.37-1.37c-.4-.4-.92-.59-1.43-.59-.52 0-1.04.2-1.43.59L10.3 9.45l-7.72 7.72c-.78.78-.78 2.05 0 2.83L4 21.41c.39.39.9.59 1.41.59.51 0 1.02-.2 1.41-.59l7.78-7.78 2.81-2.81c.8-.78.8-2.07 0-2.86zM5.41 20L4 18.59l7.72-7.72 1.47 1.35L5.41 20z\"/>\n",
              "  </svg>\n",
              "      </button>\n",
              "      \n",
              "  <style>\n",
              "    .colab-df-container {\n",
              "      display:flex;\n",
              "      flex-wrap:wrap;\n",
              "      gap: 12px;\n",
              "    }\n",
              "\n",
              "    .colab-df-convert {\n",
              "      background-color: #E8F0FE;\n",
              "      border: none;\n",
              "      border-radius: 50%;\n",
              "      cursor: pointer;\n",
              "      display: none;\n",
              "      fill: #1967D2;\n",
              "      height: 32px;\n",
              "      padding: 0 0 0 0;\n",
              "      width: 32px;\n",
              "    }\n",
              "\n",
              "    .colab-df-convert:hover {\n",
              "      background-color: #E2EBFA;\n",
              "      box-shadow: 0px 1px 2px rgba(60, 64, 67, 0.3), 0px 1px 3px 1px rgba(60, 64, 67, 0.15);\n",
              "      fill: #174EA6;\n",
              "    }\n",
              "\n",
              "    [theme=dark] .colab-df-convert {\n",
              "      background-color: #3B4455;\n",
              "      fill: #D2E3FC;\n",
              "    }\n",
              "\n",
              "    [theme=dark] .colab-df-convert:hover {\n",
              "      background-color: #434B5C;\n",
              "      box-shadow: 0px 1px 3px 1px rgba(0, 0, 0, 0.15);\n",
              "      filter: drop-shadow(0px 1px 2px rgba(0, 0, 0, 0.3));\n",
              "      fill: #FFFFFF;\n",
              "    }\n",
              "  </style>\n",
              "\n",
              "      <script>\n",
              "        const buttonEl =\n",
              "          document.querySelector('#df-1e4368ae-7a4b-4304-9028-b09bb3e5e294 button.colab-df-convert');\n",
              "        buttonEl.style.display =\n",
              "          google.colab.kernel.accessAllowed ? 'block' : 'none';\n",
              "\n",
              "        async function convertToInteractive(key) {\n",
              "          const element = document.querySelector('#df-1e4368ae-7a4b-4304-9028-b09bb3e5e294');\n",
              "          const dataTable =\n",
              "            await google.colab.kernel.invokeFunction('convertToInteractive',\n",
              "                                                     [key], {});\n",
              "          if (!dataTable) return;\n",
              "\n",
              "          const docLinkHtml = 'Like what you see? Visit the ' +\n",
              "            '<a target=\"_blank\" href=https://colab.research.google.com/notebooks/data_table.ipynb>data table notebook</a>'\n",
              "            + ' to learn more about interactive tables.';\n",
              "          element.innerHTML = '';\n",
              "          dataTable['output_type'] = 'display_data';\n",
              "          await google.colab.output.renderOutput(dataTable, element);\n",
              "          const docLink = document.createElement('div');\n",
              "          docLink.innerHTML = docLinkHtml;\n",
              "          element.appendChild(docLink);\n",
              "        }\n",
              "      </script>\n",
              "    </div>\n",
              "  </div>\n",
              "  "
            ]
          },
          "metadata": {},
          "execution_count": 41
        }
      ]
    },
    {
      "cell_type": "code",
      "source": [
        "estimator = DecisionTreeClassifier()\n",
        "selector = RFE(estimator, n_features_to_select=1, step=1)\n",
        "selector = selector.fit(X_train, y_train)\n",
        "index = selector.ranking_.argsort()\n",
        "X.columns[index]"
      ],
      "metadata": {
        "id": "7M7WaTx9LLeQ",
        "colab": {
          "base_uri": "https://localhost:8080/"
        },
        "outputId": "3534baf2-ad9b-4b4b-a0f0-c5db476c07d5"
      },
      "execution_count": null,
      "outputs": [
        {
          "output_type": "execute_result",
          "data": {
            "text/plain": [
              "Index(['PriorDefault', 'ZipCode', 'Debt', 'Income', 'YearsEmployed',\n",
              "       'EducationLevel', 'Employed', 'Age', 'Ethnicity', 'Married', 'Gender',\n",
              "       'DriversLicense', 'BankCustomer', 'CreditScore', 'Citizen'],\n",
              "      dtype='object')"
            ]
          },
          "metadata": {},
          "execution_count": 45
        }
      ]
    },
    {
      "cell_type": "code",
      "source": [
        "dc = {'Rank_RFE': X.columns[index]}\n",
        "rank_RFE = pd.DataFrame(data =  dc) \n",
        "book = load_workbook('/content/credit_card_approval_dataset.xlsx')\n",
        "writer = pd.ExcelWriter('/content/credit_card_approval_dataset.xlsx', engine='openpyxl') \n",
        "writer.book = book\n",
        "## ExcelWriter for some reason uses writer.sheets to access the sheet.\n",
        "## If you leave it empty it will not know that sheet Main is already there\n",
        "## and will create a new sheet.\n",
        "writer.sheets = dict((ws.title, ws) for ws in book.worksheets)\n",
        "rank_RFE.to_excel(writer, \"RFE\")\n",
        "writer.save()"
      ],
      "metadata": {
        "id": "2-T9zfZBLb-Q"
      },
      "execution_count": null,
      "outputs": []
    },
    {
      "cell_type": "code",
      "source": [
        ""
      ],
      "metadata": {
        "id": "4uq4O3_X2pj7"
      },
      "execution_count": null,
      "outputs": []
    }
  ]
}