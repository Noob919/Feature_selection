{
  "nbformat": 4,
  "nbformat_minor": 0,
  "metadata": {
    "colab": {
      "name": "house_votes_84.ipynb",
      "provenance": [],
      "authorship_tag": "ABX9TyNupbwAz19UeNzGiGzVvXJG",
      "include_colab_link": true
    },
    "kernelspec": {
      "name": "python3",
      "display_name": "Python 3"
    },
    "language_info": {
      "name": "python"
    }
  },
  "cells": [
    {
      "cell_type": "markdown",
      "metadata": {
        "id": "view-in-github",
        "colab_type": "text"
      },
      "source": [
        "<a href=\"https://colab.research.google.com/github/Noob919/Feature_selection/blob/main/house_votes_84.ipynb\" target=\"_parent\"><img src=\"https://colab.research.google.com/assets/colab-badge.svg\" alt=\"Open In Colab\"/></a>"
      ]
    },
    {
      "cell_type": "code",
      "execution_count": 1,
      "metadata": {
        "id": "k2_0j_TcQSCK"
      },
      "outputs": [],
      "source": [
        "import numpy as np\n",
        "import pandas as pd\n",
        "from sklearn.model_selection import cross_val_score\n",
        "from sklearn import preprocessing\n",
        "from sklearn.feature_selection  import chi2, SelectKBest,mutual_info_classif,SelectPercentile,f_classif\n",
        "from sklearn.inspection import permutation_importance\n",
        "from sklearn.model_selection import train_test_split\n",
        "from sklearn.tree import DecisionTreeClassifier\n",
        "from sklearn.linear_model import LogisticRegression\n",
        "from sklearn.ensemble import RandomForestClassifier\n",
        "from sklearn.preprocessing import LabelEncoder\n",
        "from sklearn.preprocessing import StandardScaler\n",
        "from sklearn.feature_selection import RFE\n",
        "from sklearn.svm import LinearSVC\n",
        "from sklearn.decomposition import PCA\n",
        "import matplotlib.pyplot as plt\n",
        "import seaborn as sns"
      ]
    },
    {
      "cell_type": "code",
      "source": [
        "df  = pd.read_csv(\"/content/house-votes-84.csv\")"
      ],
      "metadata": {
        "id": "udQrloUkQUf_"
      },
      "execution_count": 31,
      "outputs": []
    },
    {
      "cell_type": "code",
      "source": [
        "len(df.columns)"
      ],
      "metadata": {
        "colab": {
          "base_uri": "https://localhost:8080/"
        },
        "id": "baBgQe6_XOK-",
        "outputId": "3bde3328-20bc-452c-af44-6875297aab98"
      },
      "execution_count": 61,
      "outputs": [
        {
          "output_type": "execute_result",
          "data": {
            "text/plain": [
              "17"
            ]
          },
          "metadata": {},
          "execution_count": 61
        }
      ]
    },
    {
      "cell_type": "code",
      "source": [
        "for i in range((len(df.columns))):\n",
        "  if(df[df.columns[i]].dtype == 'object'):\n",
        "    df[df.columns[i]] =  df[df.columns[i]].replace(\"?\", df[df.columns[i]].value_counts().index[0])"
      ],
      "metadata": {
        "id": "KIDr4p7ZQeQA"
      },
      "execution_count": 33,
      "outputs": []
    },
    {
      "cell_type": "code",
      "source": [
        "df.head(2)"
      ],
      "metadata": {
        "colab": {
          "base_uri": "https://localhost:8080/",
          "height": 228
        },
        "id": "8CqK-zqSifQc",
        "outputId": "28dab141-286c-4baf-cf8c-631ba6727b7b"
      },
      "execution_count": 34,
      "outputs": [
        {
          "output_type": "execute_result",
          "data": {
            "text/plain": [
              "   Class Name  handicapped-infants  water-project-cost-sharing  \\\n",
              "0  republican                    n                           y   \n",
              "1  republican                    n                           y   \n",
              "\n",
              "   adoption-of-the-budget-resolution  physician-fee-freeze  el-salvador-aid  \\\n",
              "0                                  n                     y                y   \n",
              "1                                  n                     y                y   \n",
              "\n",
              "   religious-groups-in-schools  anti-satellite-test-ban  \\\n",
              "0                            y                        n   \n",
              "1                            y                        n   \n",
              "\n",
              "   aid-to-nicaraguan-contras  mx-missile  immigration  \\\n",
              "0                          n           n            y   \n",
              "1                          n           n            n   \n",
              "\n",
              "   synfuels-corporation-cutback  education-spending  superfund-right-to-sue  \\\n",
              "0                             n                   y                       y   \n",
              "1                             n                   y                       y   \n",
              "\n",
              "   crime  duty-free-exports  export-administration-act-south-africa  \n",
              "0      y                  n                                       y  \n",
              "1      y                  n                                       y  "
            ],
            "text/html": [
              "\n",
              "  <div id=\"df-336b04fa-cbfc-435e-8815-72519add70cb\">\n",
              "    <div class=\"colab-df-container\">\n",
              "      <div>\n",
              "<style scoped>\n",
              "    .dataframe tbody tr th:only-of-type {\n",
              "        vertical-align: middle;\n",
              "    }\n",
              "\n",
              "    .dataframe tbody tr th {\n",
              "        vertical-align: top;\n",
              "    }\n",
              "\n",
              "    .dataframe thead th {\n",
              "        text-align: right;\n",
              "    }\n",
              "</style>\n",
              "<table border=\"1\" class=\"dataframe\">\n",
              "  <thead>\n",
              "    <tr style=\"text-align: right;\">\n",
              "      <th></th>\n",
              "      <th>Class Name</th>\n",
              "      <th>handicapped-infants</th>\n",
              "      <th>water-project-cost-sharing</th>\n",
              "      <th>adoption-of-the-budget-resolution</th>\n",
              "      <th>physician-fee-freeze</th>\n",
              "      <th>el-salvador-aid</th>\n",
              "      <th>religious-groups-in-schools</th>\n",
              "      <th>anti-satellite-test-ban</th>\n",
              "      <th>aid-to-nicaraguan-contras</th>\n",
              "      <th>mx-missile</th>\n",
              "      <th>immigration</th>\n",
              "      <th>synfuels-corporation-cutback</th>\n",
              "      <th>education-spending</th>\n",
              "      <th>superfund-right-to-sue</th>\n",
              "      <th>crime</th>\n",
              "      <th>duty-free-exports</th>\n",
              "      <th>export-administration-act-south-africa</th>\n",
              "    </tr>\n",
              "  </thead>\n",
              "  <tbody>\n",
              "    <tr>\n",
              "      <th>0</th>\n",
              "      <td>republican</td>\n",
              "      <td>n</td>\n",
              "      <td>y</td>\n",
              "      <td>n</td>\n",
              "      <td>y</td>\n",
              "      <td>y</td>\n",
              "      <td>y</td>\n",
              "      <td>n</td>\n",
              "      <td>n</td>\n",
              "      <td>n</td>\n",
              "      <td>y</td>\n",
              "      <td>n</td>\n",
              "      <td>y</td>\n",
              "      <td>y</td>\n",
              "      <td>y</td>\n",
              "      <td>n</td>\n",
              "      <td>y</td>\n",
              "    </tr>\n",
              "    <tr>\n",
              "      <th>1</th>\n",
              "      <td>republican</td>\n",
              "      <td>n</td>\n",
              "      <td>y</td>\n",
              "      <td>n</td>\n",
              "      <td>y</td>\n",
              "      <td>y</td>\n",
              "      <td>y</td>\n",
              "      <td>n</td>\n",
              "      <td>n</td>\n",
              "      <td>n</td>\n",
              "      <td>n</td>\n",
              "      <td>n</td>\n",
              "      <td>y</td>\n",
              "      <td>y</td>\n",
              "      <td>y</td>\n",
              "      <td>n</td>\n",
              "      <td>y</td>\n",
              "    </tr>\n",
              "  </tbody>\n",
              "</table>\n",
              "</div>\n",
              "      <button class=\"colab-df-convert\" onclick=\"convertToInteractive('df-336b04fa-cbfc-435e-8815-72519add70cb')\"\n",
              "              title=\"Convert this dataframe to an interactive table.\"\n",
              "              style=\"display:none;\">\n",
              "        \n",
              "  <svg xmlns=\"http://www.w3.org/2000/svg\" height=\"24px\"viewBox=\"0 0 24 24\"\n",
              "       width=\"24px\">\n",
              "    <path d=\"M0 0h24v24H0V0z\" fill=\"none\"/>\n",
              "    <path d=\"M18.56 5.44l.94 2.06.94-2.06 2.06-.94-2.06-.94-.94-2.06-.94 2.06-2.06.94zm-11 1L8.5 8.5l.94-2.06 2.06-.94-2.06-.94L8.5 2.5l-.94 2.06-2.06.94zm10 10l.94 2.06.94-2.06 2.06-.94-2.06-.94-.94-2.06-.94 2.06-2.06.94z\"/><path d=\"M17.41 7.96l-1.37-1.37c-.4-.4-.92-.59-1.43-.59-.52 0-1.04.2-1.43.59L10.3 9.45l-7.72 7.72c-.78.78-.78 2.05 0 2.83L4 21.41c.39.39.9.59 1.41.59.51 0 1.02-.2 1.41-.59l7.78-7.78 2.81-2.81c.8-.78.8-2.07 0-2.86zM5.41 20L4 18.59l7.72-7.72 1.47 1.35L5.41 20z\"/>\n",
              "  </svg>\n",
              "      </button>\n",
              "      \n",
              "  <style>\n",
              "    .colab-df-container {\n",
              "      display:flex;\n",
              "      flex-wrap:wrap;\n",
              "      gap: 12px;\n",
              "    }\n",
              "\n",
              "    .colab-df-convert {\n",
              "      background-color: #E8F0FE;\n",
              "      border: none;\n",
              "      border-radius: 50%;\n",
              "      cursor: pointer;\n",
              "      display: none;\n",
              "      fill: #1967D2;\n",
              "      height: 32px;\n",
              "      padding: 0 0 0 0;\n",
              "      width: 32px;\n",
              "    }\n",
              "\n",
              "    .colab-df-convert:hover {\n",
              "      background-color: #E2EBFA;\n",
              "      box-shadow: 0px 1px 2px rgba(60, 64, 67, 0.3), 0px 1px 3px 1px rgba(60, 64, 67, 0.15);\n",
              "      fill: #174EA6;\n",
              "    }\n",
              "\n",
              "    [theme=dark] .colab-df-convert {\n",
              "      background-color: #3B4455;\n",
              "      fill: #D2E3FC;\n",
              "    }\n",
              "\n",
              "    [theme=dark] .colab-df-convert:hover {\n",
              "      background-color: #434B5C;\n",
              "      box-shadow: 0px 1px 3px 1px rgba(0, 0, 0, 0.15);\n",
              "      filter: drop-shadow(0px 1px 2px rgba(0, 0, 0, 0.3));\n",
              "      fill: #FFFFFF;\n",
              "    }\n",
              "  </style>\n",
              "\n",
              "      <script>\n",
              "        const buttonEl =\n",
              "          document.querySelector('#df-336b04fa-cbfc-435e-8815-72519add70cb button.colab-df-convert');\n",
              "        buttonEl.style.display =\n",
              "          google.colab.kernel.accessAllowed ? 'block' : 'none';\n",
              "\n",
              "        async function convertToInteractive(key) {\n",
              "          const element = document.querySelector('#df-336b04fa-cbfc-435e-8815-72519add70cb');\n",
              "          const dataTable =\n",
              "            await google.colab.kernel.invokeFunction('convertToInteractive',\n",
              "                                                     [key], {});\n",
              "          if (!dataTable) return;\n",
              "\n",
              "          const docLinkHtml = 'Like what you see? Visit the ' +\n",
              "            '<a target=\"_blank\" href=https://colab.research.google.com/notebooks/data_table.ipynb>data table notebook</a>'\n",
              "            + ' to learn more about interactive tables.';\n",
              "          element.innerHTML = '';\n",
              "          dataTable['output_type'] = 'display_data';\n",
              "          await google.colab.output.renderOutput(dataTable, element);\n",
              "          const docLink = document.createElement('div');\n",
              "          docLink.innerHTML = docLinkHtml;\n",
              "          element.appendChild(docLink);\n",
              "        }\n",
              "      </script>\n",
              "    </div>\n",
              "  </div>\n",
              "  "
            ]
          },
          "metadata": {},
          "execution_count": 34
        }
      ]
    },
    {
      "cell_type": "code",
      "source": [
        "for i in range((len(df.columns))):\n",
        "   df[df.columns[i]]  =  LabelEncoder().fit_transform(df[df.columns[i]])"
      ],
      "metadata": {
        "id": "XJBmCoUUkEya"
      },
      "execution_count": 35,
      "outputs": []
    },
    {
      "cell_type": "code",
      "source": [
        "df.head(1)"
      ],
      "metadata": {
        "colab": {
          "base_uri": "https://localhost:8080/",
          "height": 197
        },
        "id": "gRC5TJP-kZ3T",
        "outputId": "c87e0517-b3f3-4790-c5ac-8f0d1e303f64"
      },
      "execution_count": 36,
      "outputs": [
        {
          "output_type": "execute_result",
          "data": {
            "text/plain": [
              "   Class Name   handicapped-infants   water-project-cost-sharing  \\\n",
              "0           1                     0                            1   \n",
              "\n",
              "    adoption-of-the-budget-resolution   physician-fee-freeze  \\\n",
              "0                                   0                      1   \n",
              "\n",
              "    el-salvador-aid   religious-groups-in-schools   anti-satellite-test-ban  \\\n",
              "0                 1                             1                         0   \n",
              "\n",
              "    aid-to-nicaraguan-contras   mx-missile   immigration  \\\n",
              "0                           0            0             1   \n",
              "\n",
              "    synfuels-corporation-cutback   education-spending  \\\n",
              "0                              0                    1   \n",
              "\n",
              "    superfund-right-to-sue   crime   duty-free-exports  \\\n",
              "0                        1       1                   0   \n",
              "\n",
              "    export-administration-act-south-africa  \n",
              "0                                        1  "
            ],
            "text/html": [
              "\n",
              "  <div id=\"df-083f631d-adf9-4356-9a9a-9fe0be0a74c4\">\n",
              "    <div class=\"colab-df-container\">\n",
              "      <div>\n",
              "<style scoped>\n",
              "    .dataframe tbody tr th:only-of-type {\n",
              "        vertical-align: middle;\n",
              "    }\n",
              "\n",
              "    .dataframe tbody tr th {\n",
              "        vertical-align: top;\n",
              "    }\n",
              "\n",
              "    .dataframe thead th {\n",
              "        text-align: right;\n",
              "    }\n",
              "</style>\n",
              "<table border=\"1\" class=\"dataframe\">\n",
              "  <thead>\n",
              "    <tr style=\"text-align: right;\">\n",
              "      <th></th>\n",
              "      <th>Class Name</th>\n",
              "      <th>handicapped-infants</th>\n",
              "      <th>water-project-cost-sharing</th>\n",
              "      <th>adoption-of-the-budget-resolution</th>\n",
              "      <th>physician-fee-freeze</th>\n",
              "      <th>el-salvador-aid</th>\n",
              "      <th>religious-groups-in-schools</th>\n",
              "      <th>anti-satellite-test-ban</th>\n",
              "      <th>aid-to-nicaraguan-contras</th>\n",
              "      <th>mx-missile</th>\n",
              "      <th>immigration</th>\n",
              "      <th>synfuels-corporation-cutback</th>\n",
              "      <th>education-spending</th>\n",
              "      <th>superfund-right-to-sue</th>\n",
              "      <th>crime</th>\n",
              "      <th>duty-free-exports</th>\n",
              "      <th>export-administration-act-south-africa</th>\n",
              "    </tr>\n",
              "  </thead>\n",
              "  <tbody>\n",
              "    <tr>\n",
              "      <th>0</th>\n",
              "      <td>1</td>\n",
              "      <td>0</td>\n",
              "      <td>1</td>\n",
              "      <td>0</td>\n",
              "      <td>1</td>\n",
              "      <td>1</td>\n",
              "      <td>1</td>\n",
              "      <td>0</td>\n",
              "      <td>0</td>\n",
              "      <td>0</td>\n",
              "      <td>1</td>\n",
              "      <td>0</td>\n",
              "      <td>1</td>\n",
              "      <td>1</td>\n",
              "      <td>1</td>\n",
              "      <td>0</td>\n",
              "      <td>1</td>\n",
              "    </tr>\n",
              "  </tbody>\n",
              "</table>\n",
              "</div>\n",
              "      <button class=\"colab-df-convert\" onclick=\"convertToInteractive('df-083f631d-adf9-4356-9a9a-9fe0be0a74c4')\"\n",
              "              title=\"Convert this dataframe to an interactive table.\"\n",
              "              style=\"display:none;\">\n",
              "        \n",
              "  <svg xmlns=\"http://www.w3.org/2000/svg\" height=\"24px\"viewBox=\"0 0 24 24\"\n",
              "       width=\"24px\">\n",
              "    <path d=\"M0 0h24v24H0V0z\" fill=\"none\"/>\n",
              "    <path d=\"M18.56 5.44l.94 2.06.94-2.06 2.06-.94-2.06-.94-.94-2.06-.94 2.06-2.06.94zm-11 1L8.5 8.5l.94-2.06 2.06-.94-2.06-.94L8.5 2.5l-.94 2.06-2.06.94zm10 10l.94 2.06.94-2.06 2.06-.94-2.06-.94-.94-2.06-.94 2.06-2.06.94z\"/><path d=\"M17.41 7.96l-1.37-1.37c-.4-.4-.92-.59-1.43-.59-.52 0-1.04.2-1.43.59L10.3 9.45l-7.72 7.72c-.78.78-.78 2.05 0 2.83L4 21.41c.39.39.9.59 1.41.59.51 0 1.02-.2 1.41-.59l7.78-7.78 2.81-2.81c.8-.78.8-2.07 0-2.86zM5.41 20L4 18.59l7.72-7.72 1.47 1.35L5.41 20z\"/>\n",
              "  </svg>\n",
              "      </button>\n",
              "      \n",
              "  <style>\n",
              "    .colab-df-container {\n",
              "      display:flex;\n",
              "      flex-wrap:wrap;\n",
              "      gap: 12px;\n",
              "    }\n",
              "\n",
              "    .colab-df-convert {\n",
              "      background-color: #E8F0FE;\n",
              "      border: none;\n",
              "      border-radius: 50%;\n",
              "      cursor: pointer;\n",
              "      display: none;\n",
              "      fill: #1967D2;\n",
              "      height: 32px;\n",
              "      padding: 0 0 0 0;\n",
              "      width: 32px;\n",
              "    }\n",
              "\n",
              "    .colab-df-convert:hover {\n",
              "      background-color: #E2EBFA;\n",
              "      box-shadow: 0px 1px 2px rgba(60, 64, 67, 0.3), 0px 1px 3px 1px rgba(60, 64, 67, 0.15);\n",
              "      fill: #174EA6;\n",
              "    }\n",
              "\n",
              "    [theme=dark] .colab-df-convert {\n",
              "      background-color: #3B4455;\n",
              "      fill: #D2E3FC;\n",
              "    }\n",
              "\n",
              "    [theme=dark] .colab-df-convert:hover {\n",
              "      background-color: #434B5C;\n",
              "      box-shadow: 0px 1px 3px 1px rgba(0, 0, 0, 0.15);\n",
              "      filter: drop-shadow(0px 1px 2px rgba(0, 0, 0, 0.3));\n",
              "      fill: #FFFFFF;\n",
              "    }\n",
              "  </style>\n",
              "\n",
              "      <script>\n",
              "        const buttonEl =\n",
              "          document.querySelector('#df-083f631d-adf9-4356-9a9a-9fe0be0a74c4 button.colab-df-convert');\n",
              "        buttonEl.style.display =\n",
              "          google.colab.kernel.accessAllowed ? 'block' : 'none';\n",
              "\n",
              "        async function convertToInteractive(key) {\n",
              "          const element = document.querySelector('#df-083f631d-adf9-4356-9a9a-9fe0be0a74c4');\n",
              "          const dataTable =\n",
              "            await google.colab.kernel.invokeFunction('convertToInteractive',\n",
              "                                                     [key], {});\n",
              "          if (!dataTable) return;\n",
              "\n",
              "          const docLinkHtml = 'Like what you see? Visit the ' +\n",
              "            '<a target=\"_blank\" href=https://colab.research.google.com/notebooks/data_table.ipynb>data table notebook</a>'\n",
              "            + ' to learn more about interactive tables.';\n",
              "          element.innerHTML = '';\n",
              "          dataTable['output_type'] = 'display_data';\n",
              "          await google.colab.output.renderOutput(dataTable, element);\n",
              "          const docLink = document.createElement('div');\n",
              "          docLink.innerHTML = docLinkHtml;\n",
              "          element.appendChild(docLink);\n",
              "        }\n",
              "      </script>\n",
              "    </div>\n",
              "  </div>\n",
              "  "
            ]
          },
          "metadata": {},
          "execution_count": 36
        }
      ]
    },
    {
      "cell_type": "code",
      "source": [
        "X = df.drop(['Class Name'],axis =1)\n",
        "y = df['Class Name']"
      ],
      "metadata": {
        "id": "kgQ1eczwUU0_"
      },
      "execution_count": 40,
      "outputs": []
    },
    {
      "cell_type": "code",
      "source": [
        "X_train, X_test, y_train, y_test = train_test_split(X, y, test_size=0.1, random_state=0)"
      ],
      "metadata": {
        "id": "f7KEmuHDkpTq"
      },
      "execution_count": 41,
      "outputs": []
    },
    {
      "cell_type": "code",
      "source": [
        "test = SelectKBest(score_func=chi2, k=len(X.columns)).fit(X,y)\n",
        "np.set_printoptions(precision=3)\n",
        "score  =  test.scores_\n",
        "print(score)\n",
        "Y = X.columns\n",
        "sns.barplot(x  = score,y = Y )\n",
        "plt.xlabel('Importance Score')\n",
        "plt.ylabel('Features name')"
      ],
      "metadata": {
        "colab": {
          "base_uri": "https://localhost:8080/",
          "height": 348
        },
        "id": "QUyWTgEFkzSy",
        "outputId": "019b22de-794b-4d6d-a9bb-a15c87d1394e"
      },
      "execution_count": 42,
      "outputs": [
        {
          "output_type": "stream",
          "name": "stdout",
          "text": [
            "[3.833e+01 2.303e-02 9.220e+01 2.135e+02 9.723e+01 2.592e+01 4.633e+01\n",
            " 6.777e+01 8.132e+01 1.490e+00 3.836e+01 1.173e+02 5.579e+01 6.249e+01\n",
            " 6.862e+01 7.678e+00]\n"
          ]
        },
        {
          "output_type": "execute_result",
          "data": {
            "text/plain": [
              "Text(0, 0.5, 'Features name')"
            ]
          },
          "metadata": {},
          "execution_count": 42
        },
        {
          "output_type": "display_data",
          "data": {
            "text/plain": [
              "<Figure size 432x288 with 1 Axes>"
            ],
            "image/png": "[encoded data removed]"
          },
          "metadata": {
            "needs_background": "light"
          }
        }
      ]
    },
    {
      "cell_type": "code",
      "source": [
        "rf = RandomForestClassifier(n_estimators=150)\n",
        "rf.fit(X_train, y_train)"
      ],
      "metadata": {
        "colab": {
          "base_uri": "https://localhost:8080/"
        },
        "id": "Z8f2-KUKk2sS",
        "outputId": "ae5ae7b2-cc1a-46e8-a471-f66edcefe33c"
      },
      "execution_count": 43,
      "outputs": [
        {
          "output_type": "execute_result",
          "data": {
            "text/plain": [
              "RandomForestClassifier(n_estimators=150)"
            ]
          },
          "metadata": {},
          "execution_count": 43
        }
      ]
    },
    {
      "cell_type": "code",
      "source": [
        "rf.feature_importances_"
      ],
      "metadata": {
        "colab": {
          "base_uri": "https://localhost:8080/"
        },
        "id": "3Io5AfJbk5fi",
        "outputId": "1a0034eb-b84e-46e0-e375-73e28dd8e2e3"
      },
      "execution_count": 44,
      "outputs": [
        {
          "output_type": "execute_result",
          "data": {
            "text/plain": [
              "array([0.014, 0.014, 0.17 , 0.32 , 0.105, 0.006, 0.017, 0.04 , 0.05 ,\n",
              "       0.015, 0.053, 0.104, 0.024, 0.028, 0.033, 0.008])"
            ]
          },
          "metadata": {},
          "execution_count": 44
        }
      ]
    },
    {
      "cell_type": "code",
      "source": [
        "sort = rf.feature_importances_\n",
        "plt.barh(X.columns, rf.feature_importances_)\n",
        "plt.xlabel(\"Feature Importance\")"
      ],
      "metadata": {
        "colab": {
          "base_uri": "https://localhost:8080/",
          "height": 296
        },
        "id": "CROPANuCk7IC",
        "outputId": "8b572517-b754-4f9d-be58-3e4ace79bc0d"
      },
      "execution_count": 45,
      "outputs": [
        {
          "output_type": "execute_result",
          "data": {
            "text/plain": [
              "Text(0.5, 0, 'Feature Importance')"
            ]
          },
          "metadata": {},
          "execution_count": 45
        },
        {
          "output_type": "display_data",
          "data": {
            "text/plain": [
              "<Figure size 432x288 with 1 Axes>"
            ],
            "image/png": "[encoded data removed]"
          },
          "metadata": {
            "needs_background": "light"
          }
        }
      ]
    },
    {
      "cell_type": "code",
      "source": [
        "clf = LogisticRegression(solver = 'liblinear').fit(X_train, y_train)\n",
        "result = permutation_importance(clf, X, y, n_repeats=10, random_state=0)\n",
        "plt.barh(X.columns, result.importances_mean )\n",
        "plt.xlabel(\"Feature Importance MEAN\")"
      ],
      "metadata": {
        "colab": {
          "base_uri": "https://localhost:8080/",
          "height": 296
        },
        "id": "4YZ4UsQwk9DC",
        "outputId": "cf975109-c0d9-4a22-925a-17bb3e543860"
      },
      "execution_count": 46,
      "outputs": [
        {
          "output_type": "execute_result",
          "data": {
            "text/plain": [
              "Text(0.5, 0, 'Feature Importance MEAN')"
            ]
          },
          "metadata": {},
          "execution_count": 46
        },
        {
          "output_type": "display_data",
          "data": {
            "text/plain": [
              "<Figure size 432x288 with 1 Axes>"
            ],
            "image/png": "[encoded data removed]"
          },
          "metadata": {
            "needs_background": "light"
          }
        }
      ]
    },
    {
      "cell_type": "code",
      "source": [
        "plt.barh(X.columns, result.importances_std)\n",
        "plt.xlabel(\"Feature Importance STD\")"
      ],
      "metadata": {
        "colab": {
          "base_uri": "https://localhost:8080/",
          "height": 296
        },
        "id": "OtmBKeX4k_oC",
        "outputId": "5a439e01-0ae0-412f-ccbd-d8080b0ca329"
      },
      "execution_count": 47,
      "outputs": [
        {
          "output_type": "execute_result",
          "data": {
            "text/plain": [
              "Text(0.5, 0, 'Feature Importance STD')"
            ]
          },
          "metadata": {},
          "execution_count": 47
        },
        {
          "output_type": "display_data",
          "data": {
            "text/plain": [
              "<Figure size 432x288 with 1 Axes>"
            ],
            "image/png": "[encoded data removed]"
          },
          "metadata": {
            "needs_background": "light"
          }
        }
      ]
    },
    {
      "cell_type": "code",
      "source": [
        "pca = PCA().fit(X_train)\n",
        "plt.plot(pca.explained_variance_ratio_.cumsum(), lw=3, color='#087E8B')\n",
        "plt.title('Cumulative explained variance by number of principal components', size=5)\n",
        "plt.show()"
      ],
      "metadata": {
        "colab": {
          "base_uri": "https://localhost:8080/",
          "height": 275
        },
        "id": "MZCKWK1klBfi",
        "outputId": "454ddef6-498e-42db-e9f4-e6c7d46d7e4c"
      },
      "execution_count": 48,
      "outputs": [
        {
          "output_type": "display_data",
          "data": {
            "text/plain": [
              "<Figure size 432x288 with 1 Axes>"
            ],
            "image/png": "[encoded data removed]"
          },
          "metadata": {
            "needs_background": "light"
          }
        }
      ]
    },
    {
      "cell_type": "code",
      "source": [
        "loadings = pd.DataFrame(\n",
        "    data=pca.components_.T * np.sqrt(pca.explained_variance_), \n",
        "    columns=[f'PC{i}' for i in range(1, len(X.columns) + 1)],\n",
        "    index=X.columns\n",
        ")\n",
        "loadings.head()"
      ],
      "metadata": {
        "colab": {
          "base_uri": "https://localhost:8080/",
          "height": 392
        },
        "id": "c8ifxd18lHmC",
        "outputId": "d1529e76-b3c8-4aab-d319-1360df2cb957"
      },
      "execution_count": 49,
      "outputs": [
        {
          "output_type": "execute_result",
          "data": {
            "text/plain": [
              "                                         PC1       PC2       PC3       PC4  \\\n",
              " handicapped-infants               -0.261876  0.080583 -0.127124  0.170386   \n",
              " water-project-cost-sharing         0.071541  0.373273  0.067964  0.238255   \n",
              " adoption-of-the-budget-resolution -0.390717  0.066936  0.093063  0.046811   \n",
              " physician-fee-freeze               0.422769 -0.072112 -0.075867  0.021689   \n",
              " el-salvador-aid                    0.438557  0.037245 -0.003779  0.010334   \n",
              "\n",
              "                                         PC5       PC6       PC7       PC8  \\\n",
              " handicapped-infants                0.332351  0.042338 -0.027334  0.087424   \n",
              " water-project-cost-sharing        -0.141384  0.099804  0.073690  0.009983   \n",
              " adoption-of-the-budget-resolution  0.010732 -0.088235 -0.125943 -0.039067   \n",
              " physician-fee-freeze              -0.010864  0.060910  0.077938  0.061983   \n",
              " el-salvador-aid                    0.079383  0.013357 -0.099689  0.019149   \n",
              "\n",
              "                                         PC9      PC10      PC11      PC12  \\\n",
              " handicapped-infants                0.028349  0.018061 -0.054779  0.016092   \n",
              " water-project-cost-sharing        -0.064140 -0.025282 -0.032352  0.021341   \n",
              " adoption-of-the-budget-resolution  0.035628  0.044677  0.061579  0.029255   \n",
              " physician-fee-freeze              -0.036790  0.005297  0.042337  0.013480   \n",
              " el-salvador-aid                   -0.073580 -0.010101  0.066740 -0.014759   \n",
              "\n",
              "                                        PC13      PC14      PC15      PC16  \n",
              " handicapped-infants                0.020692 -0.007191 -0.005438 -0.015250  \n",
              " water-project-cost-sharing        -0.011215  0.020486  0.016551  0.002525  \n",
              " adoption-of-the-budget-resolution -0.179540  0.050148  0.008659 -0.047059  \n",
              " physician-fee-freeze              -0.052898  0.011826 -0.156293 -0.088039  \n",
              " el-salvador-aid                   -0.041202  0.066702 -0.054397  0.142295  "
            ],
            "text/html": [
              "\n",
              "  <div id=\"df-0e95657d-6cb7-4284-b1bf-d5f1236cf434\">\n",
              "    <div class=\"colab-df-container\">\n",
              "      <div>\n",
              "<style scoped>\n",
              "    .dataframe tbody tr th:only-of-type {\n",
              "        vertical-align: middle;\n",
              "    }\n",
              "\n",
              "    .dataframe tbody tr th {\n",
              "        vertical-align: top;\n",
              "    }\n",
              "\n",
              "    .dataframe thead th {\n",
              "        text-align: right;\n",
              "    }\n",
              "</style>\n",
              "<table border=\"1\" class=\"dataframe\">\n",
              "  <thead>\n",
              "    <tr style=\"text-align: right;\">\n",
              "      <th></th>\n",
              "      <th>PC1</th>\n",
              "      <th>PC2</th>\n",
              "      <th>PC3</th>\n",
              "      <th>PC4</th>\n",
              "      <th>PC5</th>\n",
              "      <th>PC6</th>\n",
              "      <th>PC7</th>\n",
              "      <th>PC8</th>\n",
              "      <th>PC9</th>\n",
              "      <th>PC10</th>\n",
              "      <th>PC11</th>\n",
              "      <th>PC12</th>\n",
              "      <th>PC13</th>\n",
              "      <th>PC14</th>\n",
              "      <th>PC15</th>\n",
              "      <th>PC16</th>\n",
              "    </tr>\n",
              "  </thead>\n",
              "  <tbody>\n",
              "    <tr>\n",
              "      <th>handicapped-infants</th>\n",
              "      <td>-0.261876</td>\n",
              "      <td>0.080583</td>\n",
              "      <td>-0.127124</td>\n",
              "      <td>0.170386</td>\n",
              "      <td>0.332351</td>\n",
              "      <td>0.042338</td>\n",
              "      <td>-0.027334</td>\n",
              "      <td>0.087424</td>\n",
              "      <td>0.028349</td>\n",
              "      <td>0.018061</td>\n",
              "      <td>-0.054779</td>\n",
              "      <td>0.016092</td>\n",
              "      <td>0.020692</td>\n",
              "      <td>-0.007191</td>\n",
              "      <td>-0.005438</td>\n",
              "      <td>-0.015250</td>\n",
              "    </tr>\n",
              "    <tr>\n",
              "      <th>water-project-cost-sharing</th>\n",
              "      <td>0.071541</td>\n",
              "      <td>0.373273</td>\n",
              "      <td>0.067964</td>\n",
              "      <td>0.238255</td>\n",
              "      <td>-0.141384</td>\n",
              "      <td>0.099804</td>\n",
              "      <td>0.073690</td>\n",
              "      <td>0.009983</td>\n",
              "      <td>-0.064140</td>\n",
              "      <td>-0.025282</td>\n",
              "      <td>-0.032352</td>\n",
              "      <td>0.021341</td>\n",
              "      <td>-0.011215</td>\n",
              "      <td>0.020486</td>\n",
              "      <td>0.016551</td>\n",
              "      <td>0.002525</td>\n",
              "    </tr>\n",
              "    <tr>\n",
              "      <th>adoption-of-the-budget-resolution</th>\n",
              "      <td>-0.390717</td>\n",
              "      <td>0.066936</td>\n",
              "      <td>0.093063</td>\n",
              "      <td>0.046811</td>\n",
              "      <td>0.010732</td>\n",
              "      <td>-0.088235</td>\n",
              "      <td>-0.125943</td>\n",
              "      <td>-0.039067</td>\n",
              "      <td>0.035628</td>\n",
              "      <td>0.044677</td>\n",
              "      <td>0.061579</td>\n",
              "      <td>0.029255</td>\n",
              "      <td>-0.179540</td>\n",
              "      <td>0.050148</td>\n",
              "      <td>0.008659</td>\n",
              "      <td>-0.047059</td>\n",
              "    </tr>\n",
              "    <tr>\n",
              "      <th>physician-fee-freeze</th>\n",
              "      <td>0.422769</td>\n",
              "      <td>-0.072112</td>\n",
              "      <td>-0.075867</td>\n",
              "      <td>0.021689</td>\n",
              "      <td>-0.010864</td>\n",
              "      <td>0.060910</td>\n",
              "      <td>0.077938</td>\n",
              "      <td>0.061983</td>\n",
              "      <td>-0.036790</td>\n",
              "      <td>0.005297</td>\n",
              "      <td>0.042337</td>\n",
              "      <td>0.013480</td>\n",
              "      <td>-0.052898</td>\n",
              "      <td>0.011826</td>\n",
              "      <td>-0.156293</td>\n",
              "      <td>-0.088039</td>\n",
              "    </tr>\n",
              "    <tr>\n",
              "      <th>el-salvador-aid</th>\n",
              "      <td>0.438557</td>\n",
              "      <td>0.037245</td>\n",
              "      <td>-0.003779</td>\n",
              "      <td>0.010334</td>\n",
              "      <td>0.079383</td>\n",
              "      <td>0.013357</td>\n",
              "      <td>-0.099689</td>\n",
              "      <td>0.019149</td>\n",
              "      <td>-0.073580</td>\n",
              "      <td>-0.010101</td>\n",
              "      <td>0.066740</td>\n",
              "      <td>-0.014759</td>\n",
              "      <td>-0.041202</td>\n",
              "      <td>0.066702</td>\n",
              "      <td>-0.054397</td>\n",
              "      <td>0.142295</td>\n",
              "    </tr>\n",
              "  </tbody>\n",
              "</table>\n",
              "</div>\n",
              "      <button class=\"colab-df-convert\" onclick=\"convertToInteractive('df-0e95657d-6cb7-4284-b1bf-d5f1236cf434')\"\n",
              "              title=\"Convert this dataframe to an interactive table.\"\n",
              "              style=\"display:none;\">\n",
              "        \n",
              "  <svg xmlns=\"http://www.w3.org/2000/svg\" height=\"24px\"viewBox=\"0 0 24 24\"\n",
              "       width=\"24px\">\n",
              "    <path d=\"M0 0h24v24H0V0z\" fill=\"none\"/>\n",
              "    <path d=\"M18.56 5.44l.94 2.06.94-2.06 2.06-.94-2.06-.94-.94-2.06-.94 2.06-2.06.94zm-11 1L8.5 8.5l.94-2.06 2.06-.94-2.06-.94L8.5 2.5l-.94 2.06-2.06.94zm10 10l.94 2.06.94-2.06 2.06-.94-2.06-.94-.94-2.06-.94 2.06-2.06.94z\"/><path d=\"M17.41 7.96l-1.37-1.37c-.4-.4-.92-.59-1.43-.59-.52 0-1.04.2-1.43.59L10.3 9.45l-7.72 7.72c-.78.78-.78 2.05 0 2.83L4 21.41c.39.39.9.59 1.41.59.51 0 1.02-.2 1.41-.59l7.78-7.78 2.81-2.81c.8-.78.8-2.07 0-2.86zM5.41 20L4 18.59l7.72-7.72 1.47 1.35L5.41 20z\"/>\n",
              "  </svg>\n",
              "      </button>\n",
              "      \n",
              "  <style>\n",
              "    .colab-df-container {\n",
              "      display:flex;\n",
              "      flex-wrap:wrap;\n",
              "      gap: 12px;\n",
              "    }\n",
              "\n",
              "    .colab-df-convert {\n",
              "      background-color: #E8F0FE;\n",
              "      border: none;\n",
              "      border-radius: 50%;\n",
              "      cursor: pointer;\n",
              "      display: none;\n",
              "      fill: #1967D2;\n",
              "      height: 32px;\n",
              "      padding: 0 0 0 0;\n",
              "      width: 32px;\n",
              "    }\n",
              "\n",
              "    .colab-df-convert:hover {\n",
              "      background-color: #E2EBFA;\n",
              "      box-shadow: 0px 1px 2px rgba(60, 64, 67, 0.3), 0px 1px 3px 1px rgba(60, 64, 67, 0.15);\n",
              "      fill: #174EA6;\n",
              "    }\n",
              "\n",
              "    [theme=dark] .colab-df-convert {\n",
              "      background-color: #3B4455;\n",
              "      fill: #D2E3FC;\n",
              "    }\n",
              "\n",
              "    [theme=dark] .colab-df-convert:hover {\n",
              "      background-color: #434B5C;\n",
              "      box-shadow: 0px 1px 3px 1px rgba(0, 0, 0, 0.15);\n",
              "      filter: drop-shadow(0px 1px 2px rgba(0, 0, 0, 0.3));\n",
              "      fill: #FFFFFF;\n",
              "    }\n",
              "  </style>\n",
              "\n",
              "      <script>\n",
              "        const buttonEl =\n",
              "          document.querySelector('#df-0e95657d-6cb7-4284-b1bf-d5f1236cf434 button.colab-df-convert');\n",
              "        buttonEl.style.display =\n",
              "          google.colab.kernel.accessAllowed ? 'block' : 'none';\n",
              "\n",
              "        async function convertToInteractive(key) {\n",
              "          const element = document.querySelector('#df-0e95657d-6cb7-4284-b1bf-d5f1236cf434');\n",
              "          const dataTable =\n",
              "            await google.colab.kernel.invokeFunction('convertToInteractive',\n",
              "                                                     [key], {});\n",
              "          if (!dataTable) return;\n",
              "\n",
              "          const docLinkHtml = 'Like what you see? Visit the ' +\n",
              "            '<a target=\"_blank\" href=https://colab.research.google.com/notebooks/data_table.ipynb>data table notebook</a>'\n",
              "            + ' to learn more about interactive tables.';\n",
              "          element.innerHTML = '';\n",
              "          dataTable['output_type'] = 'display_data';\n",
              "          await google.colab.output.renderOutput(dataTable, element);\n",
              "          const docLink = document.createElement('div');\n",
              "          docLink.innerHTML = docLinkHtml;\n",
              "          element.appendChild(docLink);\n",
              "        }\n",
              "      </script>\n",
              "    </div>\n",
              "  </div>\n",
              "  "
            ]
          },
          "metadata": {},
          "execution_count": 49
        }
      ]
    },
    {
      "cell_type": "code",
      "source": [
        "pc1_loadings = loadings.sort_values(by='PC1', ascending=False)[['PC1']]\n",
        "pc1_loadings = pc1_loadings.reset_index()\n",
        "pc1_loadings.columns = ['Attribute', 'CorrelationWithPC1']\n",
        "\n",
        "plt.bar(x=pc1_loadings['Attribute'], height=pc1_loadings['CorrelationWithPC1'], color='#087E8B')\n",
        "plt.title('PCA loading scores (first principal component)', size=5)\n",
        "plt.xticks(rotation='vertical')\n",
        "plt.show()"
      ],
      "metadata": {
        "colab": {
          "base_uri": "https://localhost:8080/",
          "height": 460
        },
        "id": "0sdt8s8GlJ0i",
        "outputId": "8abe0e2d-3947-42e4-96a7-6787d01e418b"
      },
      "execution_count": 50,
      "outputs": [
        {
          "output_type": "display_data",
          "data": {
            "text/plain": [
              "<Figure size 432x288 with 1 Axes>"
            ],
            "image/png": "[encoded data removed]"
          },
          "metadata": {
            "needs_background": "light"
          }
        }
      ]
    },
    {
      "cell_type": "code",
      "source": [
        "fs_fit_fscore = SelectKBest(f_classif, k=len(X.columns))\n",
        "fs_fit_fscore.fit_transform(X_train, y_train)\n",
        "fs_indices_fscore = np.argsort(np.nan_to_num(fs_fit_fscore.scores_))[::-1][0:len(X.columns)]\n",
        "fs_indices_fscore"
      ],
      "metadata": {
        "colab": {
          "base_uri": "https://localhost:8080/"
        },
        "id": "l4ucmY4rlLwS",
        "outputId": "9776f3bd-edc3-4aad-d3df-524339279c3c"
      },
      "execution_count": 51,
      "outputs": [
        {
          "output_type": "execute_result",
          "data": {
            "text/plain": [
              "array([ 3,  2, 11,  4,  7,  8, 13, 12, 14,  6,  5,  0, 10, 15,  9,  1])"
            ]
          },
          "metadata": {},
          "execution_count": 51
        }
      ]
    },
    {
      "cell_type": "code",
      "source": [
        "best_features_fscore = df.columns[fs_indices_fscore].values\n",
        "print(best_features_fscore)\n",
        "feature_importances_fscore = fs_fit_fscore.scores_[fs_indices_fscore]\n",
        "print(feature_importances_fscore)"
      ],
      "metadata": {
        "colab": {
          "base_uri": "https://localhost:8080/"
        },
        "id": "3kn4KNBElOPC",
        "outputId": "de17521d-7e71-4c14-92b3-36a5c2a5b6b3"
      },
      "execution_count": 53,
      "outputs": [
        {
          "output_type": "stream",
          "name": "stdout",
          "text": [
            "[' adoption-of-the-budget-resolution' ' water-project-cost-sharing'\n",
            " ' synfuels-corporation-cutback' ' physician-fee-freeze'\n",
            " ' anti-satellite-test-ban' ' aid-to-nicaraguan-contras'\n",
            " ' superfund-right-to-sue' ' education-spending' ' crime'\n",
            " ' religious-groups-in-schools' ' el-salvador-aid' 'Class Name'\n",
            " ' immigration' ' duty-free-exports' ' mx-missile' ' handicapped-infants']\n",
            "[1.882e+03 5.239e+02 3.961e+02 3.454e+02 2.595e+02 2.571e+02 2.491e+02\n",
            " 1.645e+02 1.450e+02 1.295e+02 8.550e+01 8.158e+01 6.167e+01 4.990e+01\n",
            " 2.352e+00 2.405e-01]\n"
          ]
        }
      ]
    },
    {
      "cell_type": "code",
      "source": [
        "plt.barh(best_features_fscore, feature_importances_fscore)\n",
        "plt.xlabel('Imporatnce')\n",
        "plt.ylabel('Features')"
      ],
      "metadata": {
        "colab": {
          "base_uri": "https://localhost:8080/",
          "height": 296
        },
        "id": "3dicr3XJlQrz",
        "outputId": "c19307bb-671c-4938-bbe6-7f4b06b5fc17"
      },
      "execution_count": 54,
      "outputs": [
        {
          "output_type": "execute_result",
          "data": {
            "text/plain": [
              "Text(0, 0.5, 'Features')"
            ]
          },
          "metadata": {},
          "execution_count": 54
        },
        {
          "output_type": "display_data",
          "data": {
            "text/plain": [
              "<Figure size 432x288 with 1 Axes>"
            ],
            "image/png": "[encoded data removed]"
          },
          "metadata": {
            "needs_background": "light"
          }
        }
      ]
    },
    {
      "cell_type": "code",
      "source": [
        "fs_fit_mutual_info = SelectKBest(mutual_info_classif, k=len(X.columns))\n",
        "fs_fit_mutual_info.fit_transform(X_train, y_train)\n",
        "fs_indices_mutual_info = np.argsort(fs_fit_mutual_info.scores_)[::-1][0:len(X.columns)]\n",
        "best_features_mutual_info = df.columns[fs_indices_mutual_info].values\n",
        "best_features_mutual_info"
      ],
      "metadata": {
        "colab": {
          "base_uri": "https://localhost:8080/"
        },
        "id": "3Etvf33YlXRS",
        "outputId": "6151a5f1-2ca4-4650-de0b-926ad9125567"
      },
      "execution_count": 55,
      "outputs": [
        {
          "output_type": "execute_result",
          "data": {
            "text/plain": [
              "array([' adoption-of-the-budget-resolution', ' physician-fee-freeze',\n",
              "       ' water-project-cost-sharing', ' synfuels-corporation-cutback',\n",
              "       ' superfund-right-to-sue', ' aid-to-nicaraguan-contras',\n",
              "       ' anti-satellite-test-ban', ' education-spending',\n",
              "       ' el-salvador-aid', ' crime', ' religious-groups-in-schools',\n",
              "       ' immigration', 'Class Name', ' mx-missile', ' duty-free-exports',\n",
              "       ' handicapped-infants'], dtype=object)"
            ]
          },
          "metadata": {},
          "execution_count": 55
        }
      ]
    },
    {
      "cell_type": "code",
      "source": [
        "feature_importances_mutual_info = fs_fit_mutual_info.scores_[fs_indices_mutual_info]\n",
        "feature_importances_mutual_info"
      ],
      "metadata": {
        "colab": {
          "base_uri": "https://localhost:8080/"
        },
        "id": "-KDzGcu2lZMC",
        "outputId": "a64f1677-2351-4e53-eb99-645ca08abfb0"
      },
      "execution_count": 56,
      "outputs": [
        {
          "output_type": "execute_result",
          "data": {
            "text/plain": [
              "array([0.485, 0.309, 0.302, 0.277, 0.244, 0.189, 0.17 , 0.143, 0.126,\n",
              "       0.125, 0.115, 0.064, 0.056, 0.03 , 0.014, 0.004])"
            ]
          },
          "metadata": {},
          "execution_count": 56
        }
      ]
    },
    {
      "cell_type": "code",
      "source": [
        "plt.barh(best_features_mutual_info,feature_importances_mutual_info)\n",
        "plt.xlabel('Importance')\n",
        "plt.ylabel('Features')"
      ],
      "metadata": {
        "colab": {
          "base_uri": "https://localhost:8080/",
          "height": 296
        },
        "id": "91BpvkyglbyS",
        "outputId": "8c7e2814-e6b9-4da9-f821-c229b5084274"
      },
      "execution_count": 57,
      "outputs": [
        {
          "output_type": "execute_result",
          "data": {
            "text/plain": [
              "Text(0, 0.5, 'Features')"
            ]
          },
          "metadata": {},
          "execution_count": 57
        },
        {
          "output_type": "display_data",
          "data": {
            "text/plain": [
              "<Figure size 432x288 with 1 Axes>"
            ],
            "image/png": "[encoded data removed]"
          },
          "metadata": {
            "needs_background": "light"
          }
        }
      ]
    },
    {
      "cell_type": "code",
      "source": [
        "df_corr = df.corr()\n",
        "df_corr"
      ],
      "metadata": {
        "colab": {
          "base_uri": "https://localhost:8080/",
          "height": 1000
        },
        "id": "0uv2AHiRldzC",
        "outputId": "59e99f4b-b51c-4902-8484-fde69dd3e9d3"
      },
      "execution_count": 58,
      "outputs": [
        {
          "output_type": "execute_result",
          "data": {
            "text/plain": [
              "                                         Class Name   handicapped-infants  \\\n",
              "Class Name                                 1.000000             -0.393140   \n",
              " handicapped-infants                      -0.393140              1.000000   \n",
              " water-project-cost-sharing                0.010952              0.005031   \n",
              " adoption-of-the-budget-resolution        -0.734270              0.375624   \n",
              " physician-fee-freeze                      0.909627             -0.397852   \n",
              " el-salvador-aid                           0.683690             -0.340085   \n",
              " religious-groups-in-schools               0.412987             -0.386236   \n",
              " anti-satellite-test-ban                  -0.504521              0.341133   \n",
              " aid-to-nicaraguan-contras                -0.617036              0.363787   \n",
              " mx-missile                               -0.628299              0.330680   \n",
              " immigration                               0.083843             -0.091641   \n",
              " synfuels-corporation-cutback             -0.366862              0.112518   \n",
              " education-spending                        0.666603             -0.394638   \n",
              " superfund-right-to-sue                    0.526821             -0.340828   \n",
              " crime                                     0.606301             -0.370393   \n",
              " duty-free-exports                        -0.512738              0.219905   \n",
              " export-administration-act-south-africa   -0.351903              0.207915   \n",
              "\n",
              "                                          water-project-cost-sharing  \\\n",
              "Class Name                                                  0.010952   \n",
              " handicapped-infants                                        0.005031   \n",
              " water-project-cost-sharing                                 1.000000   \n",
              " adoption-of-the-budget-resolution                         -0.042424   \n",
              " physician-fee-freeze                                       0.048290   \n",
              " el-salvador-aid                                            0.131543   \n",
              " religious-groups-in-schools                                0.154490   \n",
              " anti-satellite-test-ban                                   -0.181424   \n",
              " aid-to-nicaraguan-contras                                 -0.071236   \n",
              " mx-missile                                                -0.166197   \n",
              " immigration                                               -0.125711   \n",
              " synfuels-corporation-cutback                               0.118897   \n",
              " education-spending                                        -0.033403   \n",
              " superfund-right-to-sue                                     0.225490   \n",
              " crime                                                     -0.009815   \n",
              " duty-free-exports                                         -0.096392   \n",
              " export-administration-act-south-africa                    -0.031326   \n",
              "\n",
              "                                          adoption-of-the-budget-resolution  \\\n",
              "Class Name                                                        -0.734270   \n",
              " handicapped-infants                                               0.375624   \n",
              " water-project-cost-sharing                                       -0.042424   \n",
              " adoption-of-the-budget-resolution                                 1.000000   \n",
              " physician-fee-freeze                                             -0.732156   \n",
              " el-salvador-aid                                                  -0.619645   \n",
              " religious-groups-in-schools                                      -0.402272   \n",
              " anti-satellite-test-ban                                           0.557720   \n",
              " aid-to-nicaraguan-contras                                         0.670319   \n",
              " mx-missile                                                        0.612900   \n",
              " immigration                                                       0.025066   \n",
              " synfuels-corporation-cutback                                      0.207600   \n",
              " education-spending                                               -0.633838   \n",
              " superfund-right-to-sue                                           -0.481583   \n",
              " crime                                                            -0.567444   \n",
              " duty-free-exports                                                 0.455379   \n",
              " export-administration-act-south-africa                            0.439262   \n",
              "\n",
              "                                          physician-fee-freeze  \\\n",
              "Class Name                                            0.909627   \n",
              " handicapped-infants                                 -0.397852   \n",
              " water-project-cost-sharing                           0.048290   \n",
              " adoption-of-the-budget-resolution                   -0.732156   \n",
              " physician-fee-freeze                                 1.000000   \n",
              " el-salvador-aid                                      0.717914   \n",
              " religious-groups-in-schools                          0.440173   \n",
              " anti-satellite-test-ban                             -0.568655   \n",
              " aid-to-nicaraguan-contras                           -0.671663   \n",
              " mx-missile                                          -0.657734   \n",
              " immigration                                          0.039902   \n",
              " synfuels-corporation-cutback                        -0.285850   \n",
              " education-spending                                   0.684253   \n",
              " superfund-right-to-sue                               0.561161   \n",
              " crime                                                0.634633   \n",
              " duty-free-exports                                   -0.513902   \n",
              " export-administration-act-south-africa              -0.398526   \n",
              "\n",
              "                                          el-salvador-aid  \\\n",
              "Class Name                                       0.683690   \n",
              " handicapped-infants                            -0.340085   \n",
              " water-project-cost-sharing                      0.131543   \n",
              " adoption-of-the-budget-resolution              -0.619645   \n",
              " physician-fee-freeze                            0.717914   \n",
              " el-salvador-aid                                 1.000000   \n",
              " religious-groups-in-schools                     0.620830   \n",
              " anti-satellite-test-ban                        -0.662616   \n",
              " aid-to-nicaraguan-contras                      -0.777920   \n",
              " mx-missile                                     -0.760420   \n",
              " immigration                                     0.015007   \n",
              " synfuels-corporation-cutback                   -0.147905   \n",
              " education-spending                              0.591379   \n",
              " superfund-right-to-sue                          0.617444   \n",
              " crime                                           0.676383   \n",
              " duty-free-exports                              -0.542972   \n",
              " export-administration-act-south-africa         -0.363937   \n",
              "\n",
              "                                          religious-groups-in-schools  \\\n",
              "Class Name                                                   0.412987   \n",
              " handicapped-infants                                        -0.386236   \n",
              " water-project-cost-sharing                                  0.154490   \n",
              " adoption-of-the-budget-resolution                          -0.402272   \n",
              " physician-fee-freeze                                        0.440173   \n",
              " el-salvador-aid                                             0.620830   \n",
              " religious-groups-in-schools                                 1.000000   \n",
              " anti-satellite-test-ban                                    -0.504300   \n",
              " aid-to-nicaraguan-contras                                  -0.511857   \n",
              " mx-missile                                                 -0.550247   \n",
              " immigration                                                 0.086061   \n",
              " synfuels-corporation-cutback                                0.014341   \n",
              " education-spending                                          0.471371   \n",
              " superfund-right-to-sue                                      0.539304   \n",
              " crime                                                       0.569157   \n",
              " duty-free-exports                                          -0.425170   \n",
              " export-administration-act-south-africa                     -0.243625   \n",
              "\n",
              "                                          anti-satellite-test-ban  \\\n",
              "Class Name                                              -0.504521   \n",
              " handicapped-infants                                     0.341133   \n",
              " water-project-cost-sharing                             -0.181424   \n",
              " adoption-of-the-budget-resolution                       0.557720   \n",
              " physician-fee-freeze                                   -0.568655   \n",
              " el-salvador-aid                                        -0.662616   \n",
              " religious-groups-in-schools                            -0.504300   \n",
              " anti-satellite-test-ban                                 1.000000   \n",
              " aid-to-nicaraguan-contras                               0.706362   \n",
              " mx-missile                                              0.651582   \n",
              " immigration                                             0.040101   \n",
              " synfuels-corporation-cutback                            0.036851   \n",
              " education-spending                                     -0.519556   \n",
              " superfund-right-to-sue                                 -0.543047   \n",
              " crime                                                  -0.488305   \n",
              " duty-free-exports                                       0.445189   \n",
              " export-administration-act-south-africa                  0.440700   \n",
              "\n",
              "                                          aid-to-nicaraguan-contras  \\\n",
              "Class Name                                                -0.617036   \n",
              " handicapped-infants                                       0.363787   \n",
              " water-project-cost-sharing                               -0.071236   \n",
              " adoption-of-the-budget-resolution                         0.670319   \n",
              " physician-fee-freeze                                     -0.671663   \n",
              " el-salvador-aid                                          -0.777920   \n",
              " religious-groups-in-schools                              -0.511857   \n",
              " anti-satellite-test-ban                                   0.706362   \n",
              " aid-to-nicaraguan-contras                                 1.000000   \n",
              " mx-missile                                                0.727637   \n",
              " immigration                                               0.030406   \n",
              " synfuels-corporation-cutback                              0.121770   \n",
              " education-spending                                       -0.593742   \n",
              " superfund-right-to-sue                                   -0.546248   \n",
              " crime                                                    -0.580329   \n",
              " duty-free-exports                                         0.488639   \n",
              " export-administration-act-south-africa                    0.449767   \n",
              "\n",
              "                                          mx-missile   immigration  \\\n",
              "Class Name                                 -0.628299      0.083843   \n",
              " handicapped-infants                        0.330680     -0.091641   \n",
              " water-project-cost-sharing                -0.166197     -0.125711   \n",
              " adoption-of-the-budget-resolution          0.612900      0.025066   \n",
              " physician-fee-freeze                      -0.657734      0.039902   \n",
              " el-salvador-aid                           -0.760420      0.015007   \n",
              " religious-groups-in-schools               -0.550247      0.086061   \n",
              " anti-satellite-test-ban                    0.651582      0.040101   \n",
              " aid-to-nicaraguan-contras                  0.727637      0.030406   \n",
              " mx-missile                                 1.000000      0.042414   \n",
              " immigration                                0.042414      1.000000   \n",
              " synfuels-corporation-cutback               0.058453     -0.037703   \n",
              " education-spending                        -0.565769      0.040846   \n",
              " superfund-right-to-sue                    -0.509639      0.046506   \n",
              " crime                                     -0.542627      0.105093   \n",
              " duty-free-exports                          0.464269     -0.039430   \n",
              " export-administration-act-south-africa     0.377178      0.062936   \n",
              "\n",
              "                                          synfuels-corporation-cutback  \\\n",
              "Class Name                                                   -0.366862   \n",
              " handicapped-infants                                          0.112518   \n",
              " water-project-cost-sharing                                   0.118897   \n",
              " adoption-of-the-budget-resolution                            0.207600   \n",
              " physician-fee-freeze                                        -0.285850   \n",
              " el-salvador-aid                                             -0.147905   \n",
              " religious-groups-in-schools                                  0.014341   \n",
              " anti-satellite-test-ban                                      0.036851   \n",
              " aid-to-nicaraguan-contras                                    0.121770   \n",
              " mx-missile                                                   0.058453   \n",
              " immigration                                                 -0.037703   \n",
              " synfuels-corporation-cutback                                 1.000000   \n",
              " education-spending                                          -0.177894   \n",
              " superfund-right-to-sue                                      -0.103700   \n",
              " crime                                                       -0.132620   \n",
              " duty-free-exports                                            0.177705   \n",
              " export-administration-act-south-africa                       0.074421   \n",
              "\n",
              "                                          education-spending  \\\n",
              "Class Name                                          0.666603   \n",
              " handicapped-infants                               -0.394638   \n",
              " water-project-cost-sharing                        -0.033403   \n",
              " adoption-of-the-budget-resolution                 -0.633838   \n",
              " physician-fee-freeze                               0.684253   \n",
              " el-salvador-aid                                    0.591379   \n",
              " religious-groups-in-schools                        0.471371   \n",
              " anti-satellite-test-ban                           -0.519556   \n",
              " aid-to-nicaraguan-contras                         -0.593742   \n",
              " mx-missile                                        -0.565769   \n",
              " immigration                                        0.040846   \n",
              " synfuels-corporation-cutback                      -0.177894   \n",
              " education-spending                                 1.000000   \n",
              " superfund-right-to-sue                             0.519344   \n",
              " crime                                              0.567444   \n",
              " duty-free-exports                                 -0.464986   \n",
              " export-administration-act-south-africa            -0.331559   \n",
              "\n",
              "                                          superfund-right-to-sue     crime  \\\n",
              "Class Name                                              0.526821  0.606301   \n",
              " handicapped-infants                                   -0.340828 -0.370393   \n",
              " water-project-cost-sharing                             0.225490 -0.009815   \n",
              " adoption-of-the-budget-resolution                     -0.481583 -0.567444   \n",
              " physician-fee-freeze                                   0.561161  0.634633   \n",
              " el-salvador-aid                                        0.617444  0.676383   \n",
              " religious-groups-in-schools                            0.539304  0.569157   \n",
              " anti-satellite-test-ban                               -0.543047 -0.488305   \n",
              " aid-to-nicaraguan-contras                             -0.546248 -0.580329   \n",
              " mx-missile                                            -0.509639 -0.542627   \n",
              " immigration                                            0.046506  0.105093   \n",
              " synfuels-corporation-cutback                          -0.103700 -0.132620   \n",
              " education-spending                                     0.519344  0.567444   \n",
              " superfund-right-to-sue                                 1.000000  0.542891   \n",
              " crime                                                  0.542891  1.000000   \n",
              " duty-free-exports                                     -0.457430 -0.519327   \n",
              " export-administration-act-south-africa                -0.325102 -0.299591   \n",
              "\n",
              "                                          duty-free-exports  \\\n",
              "Class Name                                        -0.512738   \n",
              " handicapped-infants                               0.219905   \n",
              " water-project-cost-sharing                       -0.096392   \n",
              " adoption-of-the-budget-resolution                 0.455379   \n",
              " physician-fee-freeze                             -0.513902   \n",
              " el-salvador-aid                                  -0.542972   \n",
              " religious-groups-in-schools                      -0.425170   \n",
              " anti-satellite-test-ban                           0.445189   \n",
              " aid-to-nicaraguan-contras                         0.488639   \n",
              " mx-missile                                        0.464269   \n",
              " immigration                                      -0.039430   \n",
              " synfuels-corporation-cutback                      0.177705   \n",
              " education-spending                               -0.464986   \n",
              " superfund-right-to-sue                           -0.457430   \n",
              " crime                                            -0.519327   \n",
              " duty-free-exports                                 1.000000   \n",
              " export-administration-act-south-africa            0.265772   \n",
              "\n",
              "                                          export-administration-act-south-africa  \n",
              "Class Name                                                             -0.351903  \n",
              " handicapped-infants                                                    0.207915  \n",
              " water-project-cost-sharing                                            -0.031326  \n",
              " adoption-of-the-budget-resolution                                      0.439262  \n",
              " physician-fee-freeze                                                  -0.398526  \n",
              " el-salvador-aid                                                       -0.363937  \n",
              " religious-groups-in-schools                                           -0.243625  \n",
              " anti-satellite-test-ban                                                0.440700  \n",
              " aid-to-nicaraguan-contras                                              0.449767  \n",
              " mx-missile                                                             0.377178  \n",
              " immigration                                                            0.062936  \n",
              " synfuels-corporation-cutback                                           0.074421  \n",
              " education-spending                                                    -0.331559  \n",
              " superfund-right-to-sue                                                -0.325102  \n",
              " crime                                                                 -0.299591  \n",
              " duty-free-exports                                                      0.265772  \n",
              " export-administration-act-south-africa                                 1.000000  "
            ],
            "text/html": [
              "\n",
              "  <div id=\"df-bce3ab01-e771-4cbd-b358-31effef5e19b\">\n",
              "    <div class=\"colab-df-container\">\n",
              "      <div>\n",
              "<style scoped>\n",
              "    .dataframe tbody tr th:only-of-type {\n",
              "        vertical-align: middle;\n",
              "    }\n",
              "\n",
              "    .dataframe tbody tr th {\n",
              "        vertical-align: top;\n",
              "    }\n",
              "\n",
              "    .dataframe thead th {\n",
              "        text-align: right;\n",
              "    }\n",
              "</style>\n",
              "<table border=\"1\" class=\"dataframe\">\n",
              "  <thead>\n",
              "    <tr style=\"text-align: right;\">\n",
              "      <th></th>\n",
              "      <th>Class Name</th>\n",
              "      <th>handicapped-infants</th>\n",
              "      <th>water-project-cost-sharing</th>\n",
              "      <th>adoption-of-the-budget-resolution</th>\n",
              "      <th>physician-fee-freeze</th>\n",
              "      <th>el-salvador-aid</th>\n",
              "      <th>religious-groups-in-schools</th>\n",
              "      <th>anti-satellite-test-ban</th>\n",
              "      <th>aid-to-nicaraguan-contras</th>\n",
              "      <th>mx-missile</th>\n",
              "      <th>immigration</th>\n",
              "      <th>synfuels-corporation-cutback</th>\n",
              "      <th>education-spending</th>\n",
              "      <th>superfund-right-to-sue</th>\n",
              "      <th>crime</th>\n",
              "      <th>duty-free-exports</th>\n",
              "      <th>export-administration-act-south-africa</th>\n",
              "    </tr>\n",
              "  </thead>\n",
              "  <tbody>\n",
              "    <tr>\n",
              "      <th>Class Name</th>\n",
              "      <td>1.000000</td>\n",
              "      <td>-0.393140</td>\n",
              "      <td>0.010952</td>\n",
              "      <td>-0.734270</td>\n",
              "      <td>0.909627</td>\n",
              "      <td>0.683690</td>\n",
              "      <td>0.412987</td>\n",
              "      <td>-0.504521</td>\n",
              "      <td>-0.617036</td>\n",
              "      <td>-0.628299</td>\n",
              "      <td>0.083843</td>\n",
              "      <td>-0.366862</td>\n",
              "      <td>0.666603</td>\n",
              "      <td>0.526821</td>\n",
              "      <td>0.606301</td>\n",
              "      <td>-0.512738</td>\n",
              "      <td>-0.351903</td>\n",
              "    </tr>\n",
              "    <tr>\n",
              "      <th>handicapped-infants</th>\n",
              "      <td>-0.393140</td>\n",
              "      <td>1.000000</td>\n",
              "      <td>0.005031</td>\n",
              "      <td>0.375624</td>\n",
              "      <td>-0.397852</td>\n",
              "      <td>-0.340085</td>\n",
              "      <td>-0.386236</td>\n",
              "      <td>0.341133</td>\n",
              "      <td>0.363787</td>\n",
              "      <td>0.330680</td>\n",
              "      <td>-0.091641</td>\n",
              "      <td>0.112518</td>\n",
              "      <td>-0.394638</td>\n",
              "      <td>-0.340828</td>\n",
              "      <td>-0.370393</td>\n",
              "      <td>0.219905</td>\n",
              "      <td>0.207915</td>\n",
              "    </tr>\n",
              "    <tr>\n",
              "      <th>water-project-cost-sharing</th>\n",
              "      <td>0.010952</td>\n",
              "      <td>0.005031</td>\n",
              "      <td>1.000000</td>\n",
              "      <td>-0.042424</td>\n",
              "      <td>0.048290</td>\n",
              "      <td>0.131543</td>\n",
              "      <td>0.154490</td>\n",
              "      <td>-0.181424</td>\n",
              "      <td>-0.071236</td>\n",
              "      <td>-0.166197</td>\n",
              "      <td>-0.125711</td>\n",
              "      <td>0.118897</td>\n",
              "      <td>-0.033403</td>\n",
              "      <td>0.225490</td>\n",
              "      <td>-0.009815</td>\n",
              "      <td>-0.096392</td>\n",
              "      <td>-0.031326</td>\n",
              "    </tr>\n",
              "    <tr>\n",
              "      <th>adoption-of-the-budget-resolution</th>\n",
              "      <td>-0.734270</td>\n",
              "      <td>0.375624</td>\n",
              "      <td>-0.042424</td>\n",
              "      <td>1.000000</td>\n",
              "      <td>-0.732156</td>\n",
              "      <td>-0.619645</td>\n",
              "      <td>-0.402272</td>\n",
              "      <td>0.557720</td>\n",
              "      <td>0.670319</td>\n",
              "      <td>0.612900</td>\n",
              "      <td>0.025066</td>\n",
              "      <td>0.207600</td>\n",
              "      <td>-0.633838</td>\n",
              "      <td>-0.481583</td>\n",
              "      <td>-0.567444</td>\n",
              "      <td>0.455379</td>\n",
              "      <td>0.439262</td>\n",
              "    </tr>\n",
              "    <tr>\n",
              "      <th>physician-fee-freeze</th>\n",
              "      <td>0.909627</td>\n",
              "      <td>-0.397852</td>\n",
              "      <td>0.048290</td>\n",
              "      <td>-0.732156</td>\n",
              "      <td>1.000000</td>\n",
              "      <td>0.717914</td>\n",
              "      <td>0.440173</td>\n",
              "      <td>-0.568655</td>\n",
              "      <td>-0.671663</td>\n",
              "      <td>-0.657734</td>\n",
              "      <td>0.039902</td>\n",
              "      <td>-0.285850</td>\n",
              "      <td>0.684253</td>\n",
              "      <td>0.561161</td>\n",
              "      <td>0.634633</td>\n",
              "      <td>-0.513902</td>\n",
              "      <td>-0.398526</td>\n",
              "    </tr>\n",
              "    <tr>\n",
              "      <th>el-salvador-aid</th>\n",
              "      <td>0.683690</td>\n",
              "      <td>-0.340085</td>\n",
              "      <td>0.131543</td>\n",
              "      <td>-0.619645</td>\n",
              "      <td>0.717914</td>\n",
              "      <td>1.000000</td>\n",
              "      <td>0.620830</td>\n",
              "      <td>-0.662616</td>\n",
              "      <td>-0.777920</td>\n",
              "      <td>-0.760420</td>\n",
              "      <td>0.015007</td>\n",
              "      <td>-0.147905</td>\n",
              "      <td>0.591379</td>\n",
              "      <td>0.617444</td>\n",
              "      <td>0.676383</td>\n",
              "      <td>-0.542972</td>\n",
              "      <td>-0.363937</td>\n",
              "    </tr>\n",
              "    <tr>\n",
              "      <th>religious-groups-in-schools</th>\n",
              "      <td>0.412987</td>\n",
              "      <td>-0.386236</td>\n",
              "      <td>0.154490</td>\n",
              "      <td>-0.402272</td>\n",
              "      <td>0.440173</td>\n",
              "      <td>0.620830</td>\n",
              "      <td>1.000000</td>\n",
              "      <td>-0.504300</td>\n",
              "      <td>-0.511857</td>\n",
              "      <td>-0.550247</td>\n",
              "      <td>0.086061</td>\n",
              "      <td>0.014341</td>\n",
              "      <td>0.471371</td>\n",
              "      <td>0.539304</td>\n",
              "      <td>0.569157</td>\n",
              "      <td>-0.425170</td>\n",
              "      <td>-0.243625</td>\n",
              "    </tr>\n",
              "    <tr>\n",
              "      <th>anti-satellite-test-ban</th>\n",
              "      <td>-0.504521</td>\n",
              "      <td>0.341133</td>\n",
              "      <td>-0.181424</td>\n",
              "      <td>0.557720</td>\n",
              "      <td>-0.568655</td>\n",
              "      <td>-0.662616</td>\n",
              "      <td>-0.504300</td>\n",
              "      <td>1.000000</td>\n",
              "      <td>0.706362</td>\n",
              "      <td>0.651582</td>\n",
              "      <td>0.040101</td>\n",
              "      <td>0.036851</td>\n",
              "      <td>-0.519556</td>\n",
              "      <td>-0.543047</td>\n",
              "      <td>-0.488305</td>\n",
              "      <td>0.445189</td>\n",
              "      <td>0.440700</td>\n",
              "    </tr>\n",
              "    <tr>\n",
              "      <th>aid-to-nicaraguan-contras</th>\n",
              "      <td>-0.617036</td>\n",
              "      <td>0.363787</td>\n",
              "      <td>-0.071236</td>\n",
              "      <td>0.670319</td>\n",
              "      <td>-0.671663</td>\n",
              "      <td>-0.777920</td>\n",
              "      <td>-0.511857</td>\n",
              "      <td>0.706362</td>\n",
              "      <td>1.000000</td>\n",
              "      <td>0.727637</td>\n",
              "      <td>0.030406</td>\n",
              "      <td>0.121770</td>\n",
              "      <td>-0.593742</td>\n",
              "      <td>-0.546248</td>\n",
              "      <td>-0.580329</td>\n",
              "      <td>0.488639</td>\n",
              "      <td>0.449767</td>\n",
              "    </tr>\n",
              "    <tr>\n",
              "      <th>mx-missile</th>\n",
              "      <td>-0.628299</td>\n",
              "      <td>0.330680</td>\n",
              "      <td>-0.166197</td>\n",
              "      <td>0.612900</td>\n",
              "      <td>-0.657734</td>\n",
              "      <td>-0.760420</td>\n",
              "      <td>-0.550247</td>\n",
              "      <td>0.651582</td>\n",
              "      <td>0.727637</td>\n",
              "      <td>1.000000</td>\n",
              "      <td>0.042414</td>\n",
              "      <td>0.058453</td>\n",
              "      <td>-0.565769</td>\n",
              "      <td>-0.509639</td>\n",
              "      <td>-0.542627</td>\n",
              "      <td>0.464269</td>\n",
              "      <td>0.377178</td>\n",
              "    </tr>\n",
              "    <tr>\n",
              "      <th>immigration</th>\n",
              "      <td>0.083843</td>\n",
              "      <td>-0.091641</td>\n",
              "      <td>-0.125711</td>\n",
              "      <td>0.025066</td>\n",
              "      <td>0.039902</td>\n",
              "      <td>0.015007</td>\n",
              "      <td>0.086061</td>\n",
              "      <td>0.040101</td>\n",
              "      <td>0.030406</td>\n",
              "      <td>0.042414</td>\n",
              "      <td>1.000000</td>\n",
              "      <td>-0.037703</td>\n",
              "      <td>0.040846</td>\n",
              "      <td>0.046506</td>\n",
              "      <td>0.105093</td>\n",
              "      <td>-0.039430</td>\n",
              "      <td>0.062936</td>\n",
              "    </tr>\n",
              "    <tr>\n",
              "      <th>synfuels-corporation-cutback</th>\n",
              "      <td>-0.366862</td>\n",
              "      <td>0.112518</td>\n",
              "      <td>0.118897</td>\n",
              "      <td>0.207600</td>\n",
              "      <td>-0.285850</td>\n",
              "      <td>-0.147905</td>\n",
              "      <td>0.014341</td>\n",
              "      <td>0.036851</td>\n",
              "      <td>0.121770</td>\n",
              "      <td>0.058453</td>\n",
              "      <td>-0.037703</td>\n",
              "      <td>1.000000</td>\n",
              "      <td>-0.177894</td>\n",
              "      <td>-0.103700</td>\n",
              "      <td>-0.132620</td>\n",
              "      <td>0.177705</td>\n",
              "      <td>0.074421</td>\n",
              "    </tr>\n",
              "    <tr>\n",
              "      <th>education-spending</th>\n",
              "      <td>0.666603</td>\n",
              "      <td>-0.394638</td>\n",
              "      <td>-0.033403</td>\n",
              "      <td>-0.633838</td>\n",
              "      <td>0.684253</td>\n",
              "      <td>0.591379</td>\n",
              "      <td>0.471371</td>\n",
              "      <td>-0.519556</td>\n",
              "      <td>-0.593742</td>\n",
              "      <td>-0.565769</td>\n",
              "      <td>0.040846</td>\n",
              "      <td>-0.177894</td>\n",
              "      <td>1.000000</td>\n",
              "      <td>0.519344</td>\n",
              "      <td>0.567444</td>\n",
              "      <td>-0.464986</td>\n",
              "      <td>-0.331559</td>\n",
              "    </tr>\n",
              "    <tr>\n",
              "      <th>superfund-right-to-sue</th>\n",
              "      <td>0.526821</td>\n",
              "      <td>-0.340828</td>\n",
              "      <td>0.225490</td>\n",
              "      <td>-0.481583</td>\n",
              "      <td>0.561161</td>\n",
              "      <td>0.617444</td>\n",
              "      <td>0.539304</td>\n",
              "      <td>-0.543047</td>\n",
              "      <td>-0.546248</td>\n",
              "      <td>-0.509639</td>\n",
              "      <td>0.046506</td>\n",
              "      <td>-0.103700</td>\n",
              "      <td>0.519344</td>\n",
              "      <td>1.000000</td>\n",
              "      <td>0.542891</td>\n",
              "      <td>-0.457430</td>\n",
              "      <td>-0.325102</td>\n",
              "    </tr>\n",
              "    <tr>\n",
              "      <th>crime</th>\n",
              "      <td>0.606301</td>\n",
              "      <td>-0.370393</td>\n",
              "      <td>-0.009815</td>\n",
              "      <td>-0.567444</td>\n",
              "      <td>0.634633</td>\n",
              "      <td>0.676383</td>\n",
              "      <td>0.569157</td>\n",
              "      <td>-0.488305</td>\n",
              "      <td>-0.580329</td>\n",
              "      <td>-0.542627</td>\n",
              "      <td>0.105093</td>\n",
              "      <td>-0.132620</td>\n",
              "      <td>0.567444</td>\n",
              "      <td>0.542891</td>\n",
              "      <td>1.000000</td>\n",
              "      <td>-0.519327</td>\n",
              "      <td>-0.299591</td>\n",
              "    </tr>\n",
              "    <tr>\n",
              "      <th>duty-free-exports</th>\n",
              "      <td>-0.512738</td>\n",
              "      <td>0.219905</td>\n",
              "      <td>-0.096392</td>\n",
              "      <td>0.455379</td>\n",
              "      <td>-0.513902</td>\n",
              "      <td>-0.542972</td>\n",
              "      <td>-0.425170</td>\n",
              "      <td>0.445189</td>\n",
              "      <td>0.488639</td>\n",
              "      <td>0.464269</td>\n",
              "      <td>-0.039430</td>\n",
              "      <td>0.177705</td>\n",
              "      <td>-0.464986</td>\n",
              "      <td>-0.457430</td>\n",
              "      <td>-0.519327</td>\n",
              "      <td>1.000000</td>\n",
              "      <td>0.265772</td>\n",
              "    </tr>\n",
              "    <tr>\n",
              "      <th>export-administration-act-south-africa</th>\n",
              "      <td>-0.351903</td>\n",
              "      <td>0.207915</td>\n",
              "      <td>-0.031326</td>\n",
              "      <td>0.439262</td>\n",
              "      <td>-0.398526</td>\n",
              "      <td>-0.363937</td>\n",
              "      <td>-0.243625</td>\n",
              "      <td>0.440700</td>\n",
              "      <td>0.449767</td>\n",
              "      <td>0.377178</td>\n",
              "      <td>0.062936</td>\n",
              "      <td>0.074421</td>\n",
              "      <td>-0.331559</td>\n",
              "      <td>-0.325102</td>\n",
              "      <td>-0.299591</td>\n",
              "      <td>0.265772</td>\n",
              "      <td>1.000000</td>\n",
              "    </tr>\n",
              "  </tbody>\n",
              "</table>\n",
              "</div>\n",
              "      <button class=\"colab-df-convert\" onclick=\"convertToInteractive('df-bce3ab01-e771-4cbd-b358-31effef5e19b')\"\n",
              "              title=\"Convert this dataframe to an interactive table.\"\n",
              "              style=\"display:none;\">\n",
              "        \n",
              "  <svg xmlns=\"http://www.w3.org/2000/svg\" height=\"24px\"viewBox=\"0 0 24 24\"\n",
              "       width=\"24px\">\n",
              "    <path d=\"M0 0h24v24H0V0z\" fill=\"none\"/>\n",
              "    <path d=\"M18.56 5.44l.94 2.06.94-2.06 2.06-.94-2.06-.94-.94-2.06-.94 2.06-2.06.94zm-11 1L8.5 8.5l.94-2.06 2.06-.94-2.06-.94L8.5 2.5l-.94 2.06-2.06.94zm10 10l.94 2.06.94-2.06 2.06-.94-2.06-.94-.94-2.06-.94 2.06-2.06.94z\"/><path d=\"M17.41 7.96l-1.37-1.37c-.4-.4-.92-.59-1.43-.59-.52 0-1.04.2-1.43.59L10.3 9.45l-7.72 7.72c-.78.78-.78 2.05 0 2.83L4 21.41c.39.39.9.59 1.41.59.51 0 1.02-.2 1.41-.59l7.78-7.78 2.81-2.81c.8-.78.8-2.07 0-2.86zM5.41 20L4 18.59l7.72-7.72 1.47 1.35L5.41 20z\"/>\n",
              "  </svg>\n",
              "      </button>\n",
              "      \n",
              "  <style>\n",
              "    .colab-df-container {\n",
              "      display:flex;\n",
              "      flex-wrap:wrap;\n",
              "      gap: 12px;\n",
              "    }\n",
              "\n",
              "    .colab-df-convert {\n",
              "      background-color: #E8F0FE;\n",
              "      border: none;\n",
              "      border-radius: 50%;\n",
              "      cursor: pointer;\n",
              "      display: none;\n",
              "      fill: #1967D2;\n",
              "      height: 32px;\n",
              "      padding: 0 0 0 0;\n",
              "      width: 32px;\n",
              "    }\n",
              "\n",
              "    .colab-df-convert:hover {\n",
              "      background-color: #E2EBFA;\n",
              "      box-shadow: 0px 1px 2px rgba(60, 64, 67, 0.3), 0px 1px 3px 1px rgba(60, 64, 67, 0.15);\n",
              "      fill: #174EA6;\n",
              "    }\n",
              "\n",
              "    [theme=dark] .colab-df-convert {\n",
              "      background-color: #3B4455;\n",
              "      fill: #D2E3FC;\n",
              "    }\n",
              "\n",
              "    [theme=dark] .colab-df-convert:hover {\n",
              "      background-color: #434B5C;\n",
              "      box-shadow: 0px 1px 3px 1px rgba(0, 0, 0, 0.15);\n",
              "      filter: drop-shadow(0px 1px 2px rgba(0, 0, 0, 0.3));\n",
              "      fill: #FFFFFF;\n",
              "    }\n",
              "  </style>\n",
              "\n",
              "      <script>\n",
              "        const buttonEl =\n",
              "          document.querySelector('#df-bce3ab01-e771-4cbd-b358-31effef5e19b button.colab-df-convert');\n",
              "        buttonEl.style.display =\n",
              "          google.colab.kernel.accessAllowed ? 'block' : 'none';\n",
              "\n",
              "        async function convertToInteractive(key) {\n",
              "          const element = document.querySelector('#df-bce3ab01-e771-4cbd-b358-31effef5e19b');\n",
              "          const dataTable =\n",
              "            await google.colab.kernel.invokeFunction('convertToInteractive',\n",
              "                                                     [key], {});\n",
              "          if (!dataTable) return;\n",
              "\n",
              "          const docLinkHtml = 'Like what you see? Visit the ' +\n",
              "            '<a target=\"_blank\" href=https://colab.research.google.com/notebooks/data_table.ipynb>data table notebook</a>'\n",
              "            + ' to learn more about interactive tables.';\n",
              "          element.innerHTML = '';\n",
              "          dataTable['output_type'] = 'display_data';\n",
              "          await google.colab.output.renderOutput(dataTable, element);\n",
              "          const docLink = document.createElement('div');\n",
              "          docLink.innerHTML = docLinkHtml;\n",
              "          element.appendChild(docLink);\n",
              "        }\n",
              "      </script>\n",
              "    </div>\n",
              "  </div>\n",
              "  "
            ]
          },
          "metadata": {},
          "execution_count": 58
        }
      ]
    },
    {
      "cell_type": "code",
      "source": [
        "print(abs(df_corr['Class Name']))"
      ],
      "metadata": {
        "colab": {
          "base_uri": "https://localhost:8080/"
        },
        "id": "6019UJ-glgWi",
        "outputId": "e8ec8606-d4de-401c-f51b-e860820fa1bb"
      },
      "execution_count": 60,
      "outputs": [
        {
          "output_type": "stream",
          "name": "stdout",
          "text": [
            "Class Name                                 1.000000\n",
            " handicapped-infants                       0.393140\n",
            " water-project-cost-sharing                0.010952\n",
            " adoption-of-the-budget-resolution         0.734270\n",
            " physician-fee-freeze                      0.909627\n",
            " el-salvador-aid                           0.683690\n",
            " religious-groups-in-schools               0.412987\n",
            " anti-satellite-test-ban                   0.504521\n",
            " aid-to-nicaraguan-contras                 0.617036\n",
            " mx-missile                                0.628299\n",
            " immigration                               0.083843\n",
            " synfuels-corporation-cutback              0.366862\n",
            " education-spending                        0.666603\n",
            " superfund-right-to-sue                    0.526821\n",
            " crime                                     0.606301\n",
            " duty-free-exports                         0.512738\n",
            " export-administration-act-south-africa    0.351903\n",
            "Name: Class Name, dtype: float64\n"
          ]
        }
      ]
    },
    {
      "cell_type": "code",
      "source": [
        ""
      ],
      "metadata": {
        "id": "7ThudQNBlj_C"
      },
      "execution_count": null,
      "outputs": []
    }
  ]
}